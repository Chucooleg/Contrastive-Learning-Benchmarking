{
 "cells": [
  {
   "cell_type": "code",
   "execution_count": 3,
   "id": "alpha-mills",
   "metadata": {},
   "outputs": [
    {
     "name": "stderr",
     "output_type": "stream",
     "text": [
      "\u001b[34m\u001b[1mwandb\u001b[0m: You can find your API key in your browser here: https://wandb.ai/authorize\n"
     ]
    },
    {
     "name": "stdout",
     "output_type": "stream",
     "text": [
      "wandb: Paste an API key from your profile and hit enter: ········\n"
     ]
    },
    {
     "name": "stderr",
     "output_type": "stream",
     "text": [
      "\u001b[34m\u001b[1mwandb\u001b[0m: Appending key for api.wandb.ai to your netrc file: /home/user/.netrc\n"
     ]
    }
   ],
   "source": [
    "import numpy as np\n",
    "import itertools\n",
    "import time\n",
    "import random\n",
    "from collections import OrderedDict, Counter, defaultdict\n",
    "from functools import partial\n",
    "import torch\n",
    "import torch.nn as nn\n",
    "import torch.nn.functional as F\n",
    "from torch.nn.utils.rnn import pad_sequence\n",
    "import math, copy, time\n",
    "from torch.autograd import Variable\n",
    "import matplotlib.pyplot as plt\n",
    "%matplotlib inline\n",
    "\n",
    "from torch.utils.data import Dataset, DataLoader\n",
    "import pytorch_lightning as pl\n",
    "from torch.utils.data import random_split\n",
    "\n",
    "import math\n",
    "import json\n",
    "from typing import Callable, Iterable, Tuple\n",
    "from torch.optim import Optimizer\n",
    "\n",
    "import wandb\n",
    "wandb.login()\n",
    "from pytorch_lightning.loggers import WandbLogger\n",
    "\n",
    "import collections"
   ]
  },
  {
   "cell_type": "code",
   "execution_count": 4,
   "id": "scheduled-aberdeen",
   "metadata": {},
   "outputs": [],
   "source": [
    "def construct_full_model(hparams):\n",
    "    '''\n",
    "    return: nn.Module. Take a sequence of input symbols and \n",
    "    return a sequence of output symbols\n",
    "    '''\n",
    "\n",
    "    # cloned\n",
    "    clone = copy.deepcopy\n",
    "    pff = Positiontwise_FF(d_model=hparams['d_model'], d_ff=hparams['d_ff'])\n",
    "    attn = MultiHeadAttention(\n",
    "        d_model=hparams['d_model'], \n",
    "        h=hparams['num_heads'], \n",
    "        attn_wt_dropout=hparams['attn_wt_dropout'],\n",
    "        attn_wt_init_tying_scheme=hparams['attn_wt_init_tying_scheme']\n",
    "    )\n",
    "    layer_norm = LayerNorm(d_model=hparams['d_model'])\n",
    "    \n",
    "    # embeddings\n",
    "    scaled_embed_X = ScaledEmbedding(hparams['vocab_size'], hparams['d_model'])\n",
    "    \n",
    "    position_encoder = LearnedPositionEncoder(\n",
    "        d_model=hparams['d_model'], \n",
    "        max_len=hparams['max_len'],\n",
    "        emb_init_var=torch.var(scaled_embed_X.embedding.weight).cpu().item()\n",
    "    )\n",
    "    \n",
    "    embed_dropout = nn.Dropout(hparams['embed_dropout'])\n",
    "    \n",
    "    # full model\n",
    "    model = EncoderPredictor(\n",
    "        encoder_query=Encoder(\n",
    "            encoder_layer=EncoderLayer(\n",
    "                poswise_ff=clone(pff),\n",
    "                self_attn=clone(attn), \n",
    "                layer_norm=clone(layer_norm), \n",
    "                heads_dropout=hparams['heads_dropout'],\n",
    "                pff_dropout=hparams['pff_dropout']\n",
    "            ), \n",
    "            N_layers=hparams['N_enc'],\n",
    "            d_model=hparams['d_model'],\n",
    "        ),\n",
    "        encoder_key=Encoder(\n",
    "            encoder_layer=EncoderLayer(\n",
    "                poswise_ff=clone(pff),\n",
    "                self_attn=clone(attn), \n",
    "                layer_norm=clone(layer_norm), \n",
    "                heads_dropout=hparams['heads_dropout'],\n",
    "                pff_dropout=hparams['pff_dropout']\n",
    "            ), \n",
    "            N_layers=hparams['N_enc'],\n",
    "            d_model=hparams['d_model'],\n",
    "        ),\n",
    "        inp_query_layer=nn.Sequential(\n",
    "            OrderedDict([('scaled_embed', scaled_embed_X),\n",
    "                        ('position_encoder', position_encoder),\n",
    "                        ('embed_dropout', embed_dropout)]\n",
    "            )\n",
    "        ),\n",
    "        inp_key_layer=nn.Sequential(\n",
    "            OrderedDict([('scaled_embed', scaled_embed_X),\n",
    "                        ('position_encoder', position_encoder),\n",
    "                        ('embed_dropout', embed_dropout)]\n",
    "            )\n",
    "        ),\n",
    "        pad_idx_query=hparams['padding_idx_query'],\n",
    "        pad_idx_key=hparams['padding_idx_key'],\n",
    "        repr_pos=hparams['representation_pos']\n",
    "    )\n",
    "\n",
    "    return model    "
   ]
  },
  {
   "cell_type": "code",
   "execution_count": 5,
   "id": "controversial-appreciation",
   "metadata": {},
   "outputs": [],
   "source": [
    "## Code Depth 2\n",
    "\n",
    "class EncoderPredictor(nn.Module):\n",
    "\n",
    "    def __init__(self, encoder_query, encoder_key, inp_query_layer, inp_key_layer, pad_idx_query, pad_idx_key, repr_pos):\n",
    "        super(EncoderPredictor, self).__init__()\n",
    "        self.encoder_query = encoder_query\n",
    "        self.encoder_key = encoder_key\n",
    "        self.inp_query_layer = inp_query_layer\n",
    "        self.inp_key_layer = inp_key_layer\n",
    "        self.pad_idx_query = pad_idx_query\n",
    "        self.pad_idx_key = pad_idx_key\n",
    "        self.repr_pos = repr_pos\n",
    "        \n",
    "    def forward(self, X_query, X_key, debug=False):\n",
    "        '''\n",
    "        X_query: (b, inp_len)\n",
    "        X_pos_key: (b, inp_len)\n",
    "        '''\n",
    "        assert X_query.shape == X_key.shape\n",
    "        b, l = X_query.shape\n",
    "        \n",
    "        # shape(batch_size=b, inp_len)\n",
    "        inp_query_pads = (X_query == self.pad_idx_query).int()\n",
    "        # shape(batch_size=b, inp_len)\n",
    "        inp_key_pads = (X_key == self.pad_idx_key).int()\n",
    "        \n",
    "        # shape(b, inp_len, d_model)\n",
    "        encoder_query_out = self.encode_query(X_query, inp_query_pads)        \n",
    "        # shape(b, inp_len, d_model)\n",
    "        encoder_key_out = self.encode_query(X_key, inp_key_pads)\n",
    "        \n",
    "        # choose position to extract vector!\n",
    "        # shape(b, d_model), shape(b, d_model)\n",
    "        query_repr, key_repr = encoder_query_out[:,self.repr_pos,:], encoder_key_out[:,self.repr_pos,:] \n",
    "        \n",
    "        # ToDo project vectors one more time?\n",
    "        \n",
    "        # make b by b dotproduct=logit matrix\n",
    "        dot_product_logits = torch.sum((query_repr.unsqueeze(1) * key_repr.unsqueeze(0)), dim=-1)\n",
    "        print('check dot product')\n",
    "        import pdb; pdb.set_trace()\n",
    "        assert dot_product_logits.shape == (b, b)\n",
    "        \n",
    "        # shape(b, b)\n",
    "        return dot_product_logits  \n",
    "    \n",
    "    def encode_query(self, X, inp_pads):\n",
    "        '''\n",
    "        X: (batch_size=b, inp_len)\n",
    "        inp_pads: (batch_size=b, inp_len)\n",
    "        '''\n",
    "        # shape(b, inp_len, d_model)\n",
    "        inp_embed = self.inp_query_layer(X)\n",
    "        # shape(b, N_enc, inp_len, d_model)\n",
    "        encoder_out = self.encoder_query(inp_embed, inp_pads)\n",
    "        \n",
    "        # only take the top layer output\n",
    "        # shape(b, inp_len, d_model)\n",
    "        return encoder_out[:, -1, :, :]\n",
    "    \n",
    "    def encode_key(self, X, inp_pads):\n",
    "        '''\n",
    "        X: (batch_size=b, inp_len)\n",
    "        inp_pads: (batch_size=b, inp_len)\n",
    "        '''\n",
    "        # shape(b, inp_len, d_model)\n",
    "        inp_embed = self.inp_key_layer(X)\n",
    "        # shape(b, N_enc, inp_len, d_model)\n",
    "        encoder_out = self.encoder_key(inp_embed, inp_pads)\n",
    "        \n",
    "        # only take the top layer output\n",
    "        # shape(b, inp_len, d_model)\n",
    "        return encoder_out[:, -1, :, :]"
   ]
  },
  {
   "cell_type": "code",
   "execution_count": 6,
   "id": "elementary-disco",
   "metadata": {},
   "outputs": [],
   "source": [
    "## Code Depth 3\n",
    "# http://karlstratos.com/notes/transformer17.pdf\n",
    "\n",
    "\n",
    "class Encoder(nn.Module):\n",
    "\n",
    "    def __init__(self, encoder_layer, N_layers, d_model):\n",
    "        super(Encoder, self).__init__()\n",
    "        self.encoder_layers = nn.ModuleList(\n",
    "            [copy.deepcopy(encoder_layer) for _ in range(N_layers)])\n",
    "        self.N_layers = N_layers\n",
    "        self.d_model = d_model\n",
    "\n",
    "    def forward(self, inp_embedding, inp_pads):\n",
    "        \"\"\"\n",
    "        Args\n",
    "        inp_embedding: Input embeddings. Already position encoded.\n",
    "                        shape (batch_size=b, inp_len, d_model)\n",
    "        inp_pads: Input pads. shape (batch_size=b, inp_len). 1s are padded.\n",
    "        Returns\n",
    "        encoder_out: output from encoder stack. \n",
    "                    shape (batch_size=b, inp_len, d_model)\n",
    "        \"\"\"\n",
    "        m, inp_len, d_model = inp_embedding.shape\n",
    "\n",
    "        # Make self-attn mask\n",
    "        self_attn_mask = make_attn_mask(inp_pads, inp_pads, mask_forward=False)\n",
    "\n",
    "        # Initiate encoder output tensor\n",
    "        encoder_out = torch.empty(\n",
    "            m, self.N_layers, inp_len, self.d_model).type_as(inp_embedding)\n",
    "\n",
    "        # Loop through layers in stack\n",
    "        last_z = inp_embedding\n",
    "        for l, encoder_layer in enumerate(self.encoder_layers):\n",
    "            # shape (b, inp_len, d_model)\n",
    "            last_z, _ = encoder_layer(last_z, self_attn_mask)\n",
    "#             print(\"encoder layer\",l)\n",
    "            encoder_out[:, l, :, :] = last_z\n",
    "\n",
    "        # shape(b, N_enc, inp_len, d_model)\n",
    "        return encoder_out\n",
    "    \n",
    "    \n",
    "class ScaledEmbedding(nn.Module):\n",
    "\n",
    "    def __init__(self, V, d_model):\n",
    "        super(ScaledEmbedding, self).__init__()\n",
    "        self.embedding = nn.Embedding(V, d_model)\n",
    "        # scale embedding to have variance 0.01\n",
    "        nn.init.normal_(self.embedding.weight, mean=0., std=(0.01)**(1/2))\n",
    "        self.d_model = d_model\n",
    "\n",
    "    def forward(self, tokens):\n",
    "        '''\n",
    "        tokens: shape (batch_size=b, len)\n",
    "        '''\n",
    "        # shape (b, len, d_model)\n",
    "        embedded = self.embedding(tokens) * math.sqrt(self.d_model)\n",
    "        if torch.max(embedded) > 2000.:\n",
    "            import pdb; pdb.set_trace()\n",
    "        return embedded\n",
    "    \n",
    "\n",
    "class LearnedPositionEncoder(nn.Module):\n",
    "    '''Learned, instead of sinusoidal position encoder'''\n",
    "\n",
    "    def __init__(self, d_model, max_len, emb_init_var):\n",
    "        super().__init__()\n",
    "        self.pos_embedding = nn.Parameter(\n",
    "            torch.nn.init.normal_(\n",
    "                torch.zeros(max_len, d_model), \n",
    "                mean=0.0, \n",
    "#                 std=1.0,\n",
    "#                 std=(emb_init_var)**(0.5)\n",
    "                std=(emb_init_var/2)**(0.5)\n",
    "        ))\n",
    "\n",
    "    def forward(self, embedded):\n",
    "        '''\n",
    "        embedded: shape (batch_size=b, len, d_model)\n",
    "        '''\n",
    "        b, inp_len, d_model = embedded.shape\n",
    "        # shape (1, len, d_model)\n",
    "        pos_embeddings = self.pos_embedding[:inp_len, :].unsqueeze(0)\n",
    "        \n",
    "        # use broadcasting\n",
    "        # shape (b, len, d_model)\n",
    "        return embedded + pos_embeddings"
   ]
  },
  {
   "cell_type": "code",
   "execution_count": 7,
   "id": "monthly-divorce",
   "metadata": {},
   "outputs": [],
   "source": [
    "## Code Depth 4\n",
    "# http://karlstratos.com/notes/transformer17.pdf\n",
    "\n",
    "\n",
    "class EncoderLayer(nn.Module):\n",
    "    '''\n",
    "    single layer encoder\n",
    "    '''\n",
    "    def __init__(self, poswise_ff, self_attn, layer_norm,\n",
    "                heads_dropout, pff_dropout):\n",
    "        super(EncoderLayer, self).__init__()\n",
    "        self.poswise_ff = poswise_ff\n",
    "        self.self_attn = self_attn\n",
    "        self.layer_norms = nn.ModuleList([copy.deepcopy(layer_norm) for _ in range(2)])\n",
    "        self.heads_dropout = nn.Dropout(heads_dropout)\n",
    "        self.pff_dropout = nn.Dropout(pff_dropout)\n",
    "\n",
    "    def forward(self, z_lm1, self_attn_mask):\n",
    "        '''\n",
    "        z_lm1 : last encoder layer activations. shape (batch_size=b, inp_len, d_model)\n",
    "        '''\n",
    "\n",
    "        # (b, inp_len, d_model)\n",
    "        z_lm1_h, self_attn_wts = self.self_attn(z_lm1, z_lm1, self_attn_mask)\n",
    "        # (b, inp_len, d_model)\n",
    "        z_lm1_h_norm = self.layer_norms[0](z_lm1 + self.heads_dropout(z_lm1_h))\n",
    "        # (b, inp_len, d_model)\n",
    "        z_lm1_ff = self.poswise_ff(z_lm1_h_norm)\n",
    "        # (b, inp_len, d_model)\n",
    "        z_l = self.layer_norms[1](z_lm1_h_norm + self.pff_dropout(z_lm1_ff))\n",
    "        \n",
    "        if torch.isinf(z_l).any() or torch.isnan(z_l).any():\n",
    "            print(\"z_l is nan or inf\")\n",
    "            import pdb; pdb.set_trace()\n",
    "        \n",
    "        return z_l, self_attn_wts\n",
    "    \n",
    "\n",
    "class Positiontwise_FF(nn.Module):\n",
    "    '''Pointwise FeedForward / Fat-RELU'''\n",
    "\n",
    "    def __init__(self, d_model, d_ff):\n",
    "        super(Positiontwise_FF, self).__init__()\n",
    "        self.linear1 = nn.Linear(d_model, d_ff)\n",
    "        self.linear2 = nn.Linear(d_ff, d_model)\n",
    "  \n",
    "    def forward(self, x):\n",
    "        '''\n",
    "        Args:\n",
    "            x : shape (m, len, d_model)\n",
    "        Returns:\n",
    "            shape (m, len, d_model)\n",
    "        '''\n",
    "        return self.linear2(F.relu(self.linear1(x)))\n",
    "\n",
    "\n",
    "class MultiHeadAttention(nn.Module):\n",
    "    '''Multihead Attention'''\n",
    "\n",
    "    def __init__(self, d_model, h, attn_wt_dropout, attn_wt_init_tying_scheme):\n",
    "        super(MultiHeadAttention, self).__init__()\n",
    "        self.h = h\n",
    "        self.d_model = d_model\n",
    "        # d_k, same as d_q, d_v\n",
    "        self.d_k = int(d_model / h)\n",
    "        self.attn_wt_init_tying_scheme = attn_wt_init_tying_scheme\n",
    "        \n",
    "        if 'tie_all' in self.attn_wt_init_tying_scheme:\n",
    "            # simply use clone\n",
    "\n",
    "            # template for WQ, WK, WV, WO projection matrices\n",
    "            # shape (d_model, d_k * h = d_model)\n",
    "            projection = nn.Linear(d_model, d_model, bias=True)\n",
    "            # clone projection to become WQ, WK, WV, WO\n",
    "            self.projections_QKVO = nn.ModuleList([copy.deepcopy(projection) for _ in range(4)])\n",
    "        \n",
    "        elif 'untie_all' in self.attn_wt_init_tying_scheme:\n",
    "            # Untie WQ, WK, WV, WO\n",
    "\n",
    "            # template for WQ, WK, WV, WO projection matrices\n",
    "            # shape (d_model, d_k * h = d_model)\n",
    "            make_projection = lambda: nn.Linear(d_model, d_model, bias=True)\n",
    "            # make WQ, WK, WV, WO projections independently\n",
    "            self.projections_QKVO = nn.ModuleList([make_projection() for _ in range(4)])\n",
    "            \n",
    "        elif 'untie_QK' in self.attn_wt_init_tying_scheme:\n",
    "            # Untie WQ, WK, share WVO \n",
    "\n",
    "            # template for WQ, WK, WV, WO projection matrices\n",
    "            # shape (d_model, d_k * h = d_model)\n",
    "            make_projection = lambda: nn.Linear(d_model, d_model, bias=True)\n",
    "\n",
    "            # shape (d_model, d_k * h = d_model)\n",
    "            shared_projection = make_projection()\n",
    "            \n",
    "            # make WQ, WK projections independently, clone projection to become WV, WO\n",
    "            projections = (\n",
    "                [make_projection()] + [make_projection()] + [copy.deepcopy(shared_projection) for _ in range(2)]\n",
    "            )\n",
    "            self.projections_QKVO = nn.ModuleList(projections)\n",
    "            \n",
    "        if 'zeroO' in self.attn_wt_init_tying_scheme:\n",
    "           # initialize WO as zeros to start training w/ identity function\n",
    "            self.projections_QKVO[3].weight.data = self.projections_QKVO[3].weight.data * 0.0\n",
    "            self.projections_QKVO[3].bias.data = self.projections_QKVO[3].bias.data * 0.0            \n",
    "\n",
    "        self.attn_wt_dropout = nn.Dropout(p=attn_wt_dropout)\n",
    "        \n",
    "\n",
    "    def forward(self, X, Y, mask):\n",
    "        '''\n",
    "        Args:\n",
    "            X : Attender. shape (batch_size=b, attender len=n, d_model)\n",
    "            Y : Attendee. shape (batch_size=b, attendee len=m, d_model)\n",
    "        Return:\n",
    "            attn_V : shape (b, n, h*d_k=d_model)\n",
    "        '''\n",
    "        b, n, d_model = X.shape\n",
    "\n",
    "        # Project X and Y to Q, K, V matrices\n",
    "        # Step 1 W(vals)\n",
    "        # XQ shape(b, n, d_k *h = d_model)\n",
    "        # YK shape(b, m, d_k *h = d_model)\n",
    "        # YV shape(b, m, d_k *h = d_model)\n",
    "        # Step 2 reshape()\n",
    "        # XQ shape(b, n, h, d_k)\n",
    "        # YK shape(b, m, h, d_k)\n",
    "        # YV shape(b, m, h, d_k)\n",
    "        # Step 3 swap axis with transpose()\n",
    "        # XQ shape(b, h, n, d_k)\n",
    "        # YK shape(b, h, m, d_k)\n",
    "        # YV shape(b, h, m, d_k)\n",
    "        XQ, YK, YV = [\n",
    "                      W(vals).reshape(b, -1, self.h, self.d_k)\n",
    "                      .transpose(1, 2) \n",
    "                      for (W, vals) in zip(self.projections_QKVO[:3], (X, Y, Y))]\n",
    "\n",
    "        # attention weighted values, attention weights\n",
    "        # shape (b, n, h, d_k), (b, h, n, m)\n",
    "        concat_V, attn = dotproduct_attention(\n",
    "            XQ, YK, YV, mask, self.attn_wt_dropout)\n",
    "        # shape (b, n, h*d_k=d_model)\n",
    "        concat_V = concat_V.reshape(b, n, -1)\n",
    "\n",
    "        # project by WO, shape (b, n, h*d_k=d_model)\n",
    "        attn_V = self.projections_QKVO[3](concat_V)\n",
    "   \n",
    "        return attn_V, attn"
   ]
  },
  {
   "cell_type": "code",
   "execution_count": 8,
   "id": "functioning-architect",
   "metadata": {},
   "outputs": [
    {
     "name": "stdout",
     "output_type": "stream",
     "text": [
      "input tensor([[[0., 1., 0.],\n",
      "         [0., 1., 0.],\n",
      "         [1., 1., 0.]]])\n",
      "alpha\n",
      " tensor([[[[-1.0231,  0.0260,  0.2767],\n",
      "          [ 0.7859,  0.2193,  0.9244],\n",
      "          [-0.5686,  1.7561,  1.9875]],\n",
      "\n",
      "         [[-0.5513, -0.7215,  0.3740],\n",
      "          [ 0.9782,  1.1411, -0.4604],\n",
      "          [-0.0315,  0.7704, -0.9848]]]])\n",
      "mask_stack\n",
      " tensor([[[[0., 1., 0.],\n",
      "          [0., 1., 0.],\n",
      "          [1., 1., 0.]],\n",
      "\n",
      "         [[0., 1., 0.],\n",
      "          [0., 1., 0.],\n",
      "          [1., 1., 0.]]]])\n",
      "alpha_masked\n",
      " tensor([[[[-1.0231e+00, -1.0000e+04,  2.7667e-01],\n",
      "          [ 7.8594e-01, -1.0000e+04,  9.2435e-01],\n",
      "          [-1.0000e+04, -1.0000e+04,  1.9875e+00]],\n",
      "\n",
      "         [[-5.5126e-01, -1.0000e+04,  3.7404e-01],\n",
      "          [ 9.7823e-01, -1.0000e+04, -4.6042e-01],\n",
      "          [-1.0000e+04, -1.0000e+04, -9.8484e-01]]]])\n",
      "beta\n",
      " tensor([[[[0.2142, 0.0000, 0.7858],\n",
      "          [0.4655, 0.0000, 0.5345],\n",
      "          [0.0000, 0.0000, 1.0000]],\n",
      "\n",
      "         [[0.2839, 0.0000, 0.7161],\n",
      "          [0.8082, 0.0000, 0.1918],\n",
      "          [0.0000, 0.0000, 1.0000]]]])\n",
      "wt_V\n",
      " tensor([[[[ 0.0503,  1.3734,  1.3906,  1.1347, -1.4249],\n",
      "          [ 0.2252,  0.0178,  1.1088, -1.3340, -0.2037]],\n",
      "\n",
      "         [[ 0.3770,  1.4147,  0.6841,  0.8578, -1.6775],\n",
      "          [-0.3468, -1.9870,  0.6939, -1.2022,  0.5139]],\n",
      "\n",
      "         [[-0.2282,  1.3382,  1.9929,  1.3708, -1.2096],\n",
      "          [ 0.5349,  1.1031,  1.3334, -1.4053, -0.5922]]]])\n",
      "ref wt_V\n",
      " tensor([[[[ 0.0503,  1.3734,  1.3906,  1.1347, -1.4249],\n",
      "          [ 0.2252,  0.0178,  1.1088, -1.3340, -0.2037]],\n",
      "\n",
      "         [[ 0.3770,  1.4147,  0.6841,  0.8578, -1.6775],\n",
      "          [-0.3468, -1.9870,  0.6939, -1.2022,  0.5139]],\n",
      "\n",
      "         [[-0.2282,  1.3382,  1.9929,  1.3708, -1.2096],\n",
      "          [ 0.5349,  1.1031,  1.3334, -1.4053, -0.5922]]]])\n",
      "ref wt_V\n",
      " torch.Size([1, 2, 3, 5])\n"
     ]
    }
   ],
   "source": [
    "## Code Depth 6\n",
    "\n",
    "def dotproduct_attention(Q, K, V, mask, beta_dropout, debug=False):\n",
    "    '''\n",
    "    Q: shape(batch_size=b, num heads=h, attender len=n, d_k)\n",
    "    K: shape(batch_size=b, num heads=h, attendee len=m, d_k)\n",
    "    V: shape(batch_size=b, num heads=h, attendee len=m, d_k)\n",
    "    mask: shape(batch_size=b, n, m)\n",
    "    beta_dropout: nn.Dropout().apply module\n",
    "    '''\n",
    "    b, h, n, d_k = Q.shape\n",
    "    b, h, m, d_k = K.shape\n",
    "\n",
    "    # XQ shape(b, h, n, d_k) matmul YK.T shape(b, h, d_k, m)\n",
    "    # = alpha shape (b, h, n, m)\n",
    "    alpha = torch.matmul(Q, K.transpose(-1, -2))/ math.sqrt(d_k)\n",
    "\n",
    "    # Apply mask \n",
    "    # (b, h, n, m)\n",
    "    mask_stack = mask.unsqueeze(1).expand(-1, h, -1, -1)\n",
    "    alpha_masked = torch.masked_fill(alpha, mask_stack==1, -1e4)\n",
    "\n",
    "    # normalize across attendee len m\n",
    "    # (b, h, n, m)\n",
    "    beta = beta_dropout(torch.softmax(alpha_masked, dim=-1))\n",
    "\n",
    "    # beta shape(b, h, n, m) bmm YK.T shape(b, h, m, d_k) = shape (b, h, n, d_k)\n",
    "    # transpose to (b, n, h, d_k)\n",
    "    wt_V = torch.matmul(beta, V).transpose(1, 2)\n",
    "\n",
    "    if debug:\n",
    "        print('alpha\\n', alpha)\n",
    "        print('mask_stack\\n', mask_stack)\n",
    "        print('alpha_masked\\n', alpha_masked)\n",
    "        print('beta\\n', beta)\n",
    "        print('wt_V\\n', wt_V)\n",
    "        \n",
    "    return wt_V, beta\n",
    "\n",
    "\n",
    "def ref_attention(query, key, value, mask=None, dropout=None):\n",
    "    \"Compute 'Scaled Dot Product Attention'\"\n",
    "    d_k = query.size(-1)\n",
    "    scores = torch.matmul(query, key.transpose(-2, -1)) \\\n",
    "             / math.sqrt(d_k)\n",
    "    if mask is not None:\n",
    "        scores = scores.masked_fill(mask == 1, -1e9)\n",
    "    p_attn = torch.softmax(scores, dim = -1)\n",
    "    if dropout is not None:\n",
    "        p_attn = dropout(p_attn)\n",
    "    return torch.matmul(p_attn, value), p_attn\n",
    "\n",
    "\n",
    "def test_attention(attn_fn):\n",
    "    torch.manual_seed(123)\n",
    "    b, h, n, m, d_k = 1, 2, 3, 3, 5\n",
    "    Q = torch.randn(b, h, n, d_k)\n",
    "    K = torch.randn(b, h, m, d_k)\n",
    "    V = torch.randn(b, h, m, d_k)\n",
    "\n",
    "    # print('Q\\n', Q)\n",
    "    # print('K\\n', K)\n",
    "    # print('V\\n', V)\n",
    "\n",
    "    mask = torch.zeros((b, n, m))\n",
    "    mask[:,:,1] = 1\n",
    "    mask[:,2,:1] = 1\n",
    "    print('input', mask)\n",
    "\n",
    "    my_wt_V = dotproduct_attention(Q, K, V, mask, nn.Dropout(0.0), debug=True)\n",
    "    ref_wt_V, ref_p_attn = ref_attention(Q, K, V, mask, nn.Dropout(0.0))\n",
    "  \n",
    "    print('ref wt_V\\n', ref_wt_V.transpose(1, 2))\n",
    "    print('ref wt_V\\n', ref_wt_V.shape)\n",
    "\n",
    "test_attention(dotproduct_attention)"
   ]
  },
  {
   "cell_type": "code",
   "execution_count": 9,
   "id": "electoral-orange",
   "metadata": {},
   "outputs": [
    {
     "name": "stdout",
     "output_type": "stream",
     "text": [
      "Cross Attention:\n",
      "attender_mask_expanded\n",
      " tensor([[[0, 0, 0, 0],\n",
      "         [0, 0, 0, 0],\n",
      "         [0, 0, 0, 0],\n",
      "         [1, 1, 1, 1]],\n",
      "\n",
      "        [[0, 0, 0, 0],\n",
      "         [0, 0, 0, 0],\n",
      "         [0, 0, 0, 0],\n",
      "         [0, 0, 0, 0]],\n",
      "\n",
      "        [[0, 0, 0, 0],\n",
      "         [0, 0, 0, 0],\n",
      "         [0, 0, 0, 0],\n",
      "         [1, 1, 1, 1]]])\n",
      "attendee_mask_expanded\n",
      " tensor([[[0, 0, 0, 1],\n",
      "         [0, 0, 0, 1],\n",
      "         [0, 0, 0, 1],\n",
      "         [0, 0, 0, 1]],\n",
      "\n",
      "        [[0, 0, 0, 0],\n",
      "         [0, 0, 0, 0],\n",
      "         [0, 0, 0, 0],\n",
      "         [0, 0, 0, 0]],\n",
      "\n",
      "        [[0, 0, 0, 1],\n",
      "         [0, 0, 0, 1],\n",
      "         [0, 0, 0, 1],\n",
      "         [0, 0, 0, 1]]])\n",
      "sum mask\n",
      " tensor([[[0, 0, 0, 1],\n",
      "         [0, 0, 0, 1],\n",
      "         [0, 0, 0, 1],\n",
      "         [1, 1, 1, 1]],\n",
      "\n",
      "        [[0, 0, 0, 0],\n",
      "         [0, 0, 0, 0],\n",
      "         [0, 0, 0, 0],\n",
      "         [0, 0, 0, 0]],\n",
      "\n",
      "        [[0, 0, 0, 1],\n",
      "         [0, 0, 0, 1],\n",
      "         [0, 0, 0, 1],\n",
      "         [1, 1, 1, 1]]], dtype=torch.int32)\n",
      "--------------------------------------\n",
      "Self Attention:\n",
      "future_mask\n",
      " tensor([[0, 1, 1, 1],\n",
      "        [0, 0, 1, 1],\n",
      "        [0, 0, 0, 1],\n",
      "        [0, 0, 0, 0]])\n",
      "attender_mask_expanded\n",
      " tensor([[[0, 0, 0, 0],\n",
      "         [0, 0, 0, 0],\n",
      "         [0, 0, 0, 0],\n",
      "         [1, 1, 1, 1]],\n",
      "\n",
      "        [[0, 0, 0, 0],\n",
      "         [0, 0, 0, 0],\n",
      "         [0, 0, 0, 0],\n",
      "         [0, 0, 0, 0]],\n",
      "\n",
      "        [[0, 0, 0, 0],\n",
      "         [0, 0, 0, 0],\n",
      "         [0, 0, 0, 0],\n",
      "         [1, 1, 1, 1]]])\n",
      "attendee_mask_expanded\n",
      " tensor([[[0, 0, 0, 1],\n",
      "         [0, 0, 0, 1],\n",
      "         [0, 0, 0, 1],\n",
      "         [0, 0, 0, 1]],\n",
      "\n",
      "        [[0, 0, 0, 0],\n",
      "         [0, 0, 0, 0],\n",
      "         [0, 0, 0, 0],\n",
      "         [0, 0, 0, 0]],\n",
      "\n",
      "        [[0, 0, 0, 1],\n",
      "         [0, 0, 0, 1],\n",
      "         [0, 0, 0, 1],\n",
      "         [0, 0, 0, 1]]])\n",
      "sum mask\n",
      " tensor([[[0, 1, 1, 1],\n",
      "         [0, 0, 1, 1],\n",
      "         [0, 0, 0, 1],\n",
      "         [1, 1, 1, 1]],\n",
      "\n",
      "        [[0, 1, 1, 1],\n",
      "         [0, 0, 1, 1],\n",
      "         [0, 0, 0, 1],\n",
      "         [0, 0, 0, 0]],\n",
      "\n",
      "        [[0, 1, 1, 1],\n",
      "         [0, 0, 1, 1],\n",
      "         [0, 0, 0, 1],\n",
      "         [1, 1, 1, 1]]], dtype=torch.int32)\n"
     ]
    }
   ],
   "source": [
    "def make_attn_mask(attender_pads, attendee_pads, mask_forward=False, debug=False):\n",
    "    '''\n",
    "    Mask away attendee positions from attender.\n",
    "    Args:\n",
    "        attender_pads: shape(batch_size=b, attender len=n). 1s are pads.\n",
    "        attendee_pads: shape(batch_size=b, attender len=m). 1s are pads.\n",
    "    Return:\n",
    "        attn_mask: shape(b, n, m)\n",
    "    '''\n",
    "\n",
    "    b, n = attender_pads.shape\n",
    "    b, m = attendee_pads.shape\n",
    "\n",
    "    if mask_forward: \n",
    "        assert n == m\n",
    "        # shape (n, m)\n",
    "        try:\n",
    "            future_mask = torch.from_numpy(\n",
    "                np.triu(np.ones((n, m)), k=1)).type_as(attender_pads)\n",
    "        except:\n",
    "            import pdb; pdb.set_trace()\n",
    "        # shape (b, n, m)\n",
    "        future_mask_expanded = future_mask.unsqueeze(0).expand(b, -1, -1)\n",
    "\n",
    "    # shape(b, n, m)\n",
    "    attender_mask_expanded = attender_pads.unsqueeze(-1).expand(-1, -1, m)\n",
    "    # shape(b, n, m)\n",
    "    attendee_mask_expanded = attendee_pads.unsqueeze(1).expand(-1, n, -1)\n",
    "\n",
    "    # shape(b, n, m)\n",
    "    if mask_forward: \n",
    "        sum_mask = attender_mask_expanded + attendee_mask_expanded + future_mask\n",
    "    else:\n",
    "        sum_mask = attender_mask_expanded + attendee_mask_expanded\n",
    "    sum_mask = (sum_mask > 0).type(torch.int)\n",
    "\n",
    "    if debug:\n",
    "        if mask_forward:\n",
    "            print('future_mask\\n',future_mask)\n",
    "        print('attender_mask_expanded\\n',attender_mask_expanded)\n",
    "        print('attendee_mask_expanded\\n',attendee_mask_expanded)\n",
    "        print('sum mask\\n', sum_mask)\n",
    "\n",
    "    return sum_mask\n",
    "\n",
    "\n",
    "def test_make_attn_mask():\n",
    "    #   attender_pads = torch.tensor([[0,0,0,1,1], [0,0,1,1,1], [0,0,0,0,0]])\n",
    "    attender_pads = torch.tensor([[0,0,0,1], [0,0,0,0], [0,0,0,1]])\n",
    "    attendee_pads = torch.tensor([[0,0,0,1], [0,0,0,0], [0,0,0,1]])\n",
    "    print('Cross Attention:')\n",
    "    make_attn_mask(attender_pads, attendee_pads, mask_forward=False, debug=True)\n",
    "    print('--------------------------------------')\n",
    "    print('Self Attention:')\n",
    "    make_attn_mask(attender_pads, attender_pads, mask_forward=True, debug=True)\n",
    "\n",
    "\n",
    "test_make_attn_mask()"
   ]
  },
  {
   "cell_type": "code",
   "execution_count": 10,
   "id": "liquid-posting",
   "metadata": {},
   "outputs": [
    {
     "name": "stdout",
     "output_type": "stream",
     "text": [
      "tensor(0.5000)\n",
      "tensor(0.6667)\n"
     ]
    }
   ],
   "source": [
    "def matrix_accuracy(logits):\n",
    "    '''logits: shape(b, b) matrix'''\n",
    "    b, b2 = logits.shape\n",
    "    assert b == b2\n",
    "    \n",
    "    # shape(b, )\n",
    "    labels = torch.arange(b).type_as(logits).long()\n",
    "    # \n",
    "    max_indices_per_col = torch.max(logits, dim=0)[1]\n",
    "    min_indices_per_col = torch.min(logits, dim=0)[1]\n",
    "    max_indices_per_row = torch.max(logits, dim=1)[1]\n",
    "    min_indices_per_row = torch.min(logits, dim=1)[1]\n",
    "\n",
    "    acc_across_cols = torch.mean((max_indices_per_col == labels ).type_as(logits) * (max_indices_per_col != min_indices_per_col).type_as(logits))\n",
    "    acc_across_rows = torch.mean((max_indices_per_row == labels ).type_as(logits) * (max_indices_per_row != min_indices_per_row).type_as(logits))\n",
    "                                 \n",
    "    return (acc_across_cols + acc_across_rows) * 0.5\n",
    "\n",
    "\n",
    "# ---------------------------\n",
    "logits = torch.tensor([\n",
    "    [1.,2.,3.],\n",
    "    [6.,7.,4.],\n",
    "    [5.,8.,9.]\n",
    "])\n",
    "\n",
    "# ((2/3) + (1/3))/2 = 0.5\n",
    "print(matrix_accuracy(logits))\n",
    "# ---------------------------\n",
    "logits = torch.tensor([\n",
    "    [3.,2.,3.],\n",
    "    [6.,7.,4.],\n",
    "    [5.,8.,9.]\n",
    "])\n",
    "\n",
    "# ((3/3) + (1/3))/2 = 0.66666\n",
    "print(matrix_accuracy(logits))"
   ]
  },
  {
   "cell_type": "code",
   "execution_count": 11,
   "id": "amateur-recall",
   "metadata": {},
   "outputs": [
    {
     "name": "stdout",
     "output_type": "stream",
     "text": [
      "sum_loss_per_row= tensor(20.0001)\n",
      "sum_loss_per_col= tensor(60.0001)\n",
      "avg loss= tensor(40.0001)\n",
      "-------------\n",
      "sum_loss_per_row= tensor(0.6933)\n",
      "sum_loss_per_col= tensor(40.0001)\n",
      "avg loss= tensor(20.3467)\n"
     ]
    }
   ],
   "source": [
    "class InfoCELoss(nn.Module):\n",
    "    '''\n",
    "    InfoCE Loss on a (b, b) logits matrix with Temperature scaling\n",
    "    '''\n",
    "\n",
    "    def __init__(self, temperature_const=1.0):\n",
    "        super().__init__()\n",
    "        self.temperature_const = temperature_const\n",
    "        self.CE_loss = nn.CrossEntropyLoss(reduction='sum')\n",
    "\n",
    "    def forward(self, logits, debug=False):\n",
    "        '''\n",
    "        logits: shape (batch_size=b, b)\n",
    "        '''\n",
    "        assert logits.shape[0] == logits.shape[1]\n",
    "        b = logits.shape[0]\n",
    "        \n",
    "        logits /= self.temperature_const\n",
    "        \n",
    "        labels = torch.arange(b).type_as(logits).long()\n",
    "        sum_loss_per_row = self.CE_loss(logits, labels)\n",
    "        sum_loss_per_col = self.CE_loss(logits.T, labels)\n",
    "        \n",
    "        if debug:\n",
    "            print('sum_loss_per_row=',sum_loss_per_row)\n",
    "            print('sum_loss_per_col=',sum_loss_per_col)\n",
    "\n",
    "        loss = (sum_loss_per_row + sum_loss_per_col) * 0.5\n",
    "        return loss\n",
    "\n",
    "\n",
    "# ---------------------------    \n",
    "loss_criterion = InfoCELoss(temperature_const=0.1)\n",
    "\n",
    "logits = torch.tensor([\n",
    "    [1.,2.,3.],\n",
    "    [6.,7.,4.],\n",
    "    [5.,8.,9.]\n",
    "])\n",
    "print('avg loss=',loss_criterion(logits, True))\n",
    "print('-------------')\n",
    "logits = torch.tensor([\n",
    "    [3.,2.,3.],\n",
    "    [6.,7.,4.],\n",
    "    [5.,8.,9.]\n",
    "])\n",
    "print('avg loss=',loss_criterion(logits, True))"
   ]
  },
  {
   "cell_type": "code",
   "execution_count": 12,
   "id": "dramatic-possibility",
   "metadata": {},
   "outputs": [],
   "source": [
    "# Build Lightning Module\n",
    "# https://colab.research.google.com/drive/1F_RNcHzTfFuQf-LeKvSlud6x7jXYkG31#scrollTo=UIXLW8CO-W8w\n",
    "\n",
    "class Transformer(pl.LightningModule):\n",
    "    \n",
    "    def __init__(self, hparams):\n",
    "        super(Transformer, self).__init__()\n",
    "        self.hparams = hparams\n",
    "        self.model = construct_full_model(hparams)\n",
    "        \n",
    "        self.loss_criterion = InfoCELoss(temperature_const=self.hparams['loss_temperature_const'])\n",
    "        self.accuracy = matrix_accuracy\n",
    "    \n",
    "    def log_metrics(self, metrics_dict):\n",
    "        for k, v in metrics_dict.items():\n",
    "            self.log(k, v)\n",
    "\n",
    "    def get_max_memory_alloc(self):\n",
    "        devices_max_memory_alloc = {}\n",
    "        for i in range(torch.cuda.device_count()):\n",
    "            device = torch.device(f'cuda:{i}')\n",
    "            devices_max_memory_alloc[device] = torch.cuda.max_memory_allocated(device) / 1e6\n",
    "            torch.cuda.reset_max_memory_allocated(device)\n",
    "        return devices_max_memory_alloc\n",
    "    \n",
    "    def forward(self, X_query, X_pos_key, debug=False):\n",
    "        batch_size = X_query.shape[0]\n",
    "        \n",
    "        # ToDo batch_size_b\n",
    "        \n",
    "        # shape (b, num pos keys + num neg keys)\n",
    "        logits = self.model(X_query, X_pos_key, debug=debug)\n",
    "        loss = self.loss_criterion(logits)\n",
    "        acc = self.accuracy(logits)\n",
    "        return loss, acc\n",
    "    \n",
    "    def training_step(self, batch, batch_nb):\n",
    "        # (b, inp_len), (b, inp_len), (b, num_negs, inp_len)\n",
    "        X_query, X_pos_key = batch\n",
    "        loss, acc = self(X_query, X_pos_key, debug=False)\n",
    "        # logs\n",
    "        step_metrics = {'train_loss': loss, 'train_acc':acc}\n",
    "        self.log_metrics(step_metrics)\n",
    "        return loss\n",
    "    \n",
    "    def validation_step(self, batch, batch_nb):\n",
    "        X_query, X_pos_key = batch\n",
    "        loss, acc = self(X_query, X_pos_key)\n",
    "        # print sample\n",
    "#         print('X_query:',X_query[0], '\\X_pos_key:',X_pos_key[0], '\\X_neg_keys:',X_neg_keys[0], '\\nloss:', loss, '\\nacc:', acc)\n",
    "        # log\n",
    "        step_metrics = {'val_loss': loss, 'val_acc': acc}\n",
    "        devices_max_memory_alloc = self.get_max_memory_alloc()\n",
    "        for device, val in devices_max_memory_alloc.items():\n",
    "            step_metrics[f'step_max_memory_alloc_cuda:{device}'] = val\n",
    "        self.log_metrics(step_metrics)\n",
    "        return step_metrics\n",
    "    \n",
    "    def test_step(self, batch, batch_nb):\n",
    "        X_query, X_pos_key = batch\n",
    "        loss, acc = self(X_query, X_pos_key)\n",
    "        # log\n",
    "        step_metrics = {'test_loss': loss, 'test_acc': acc}\n",
    "        self.log_metrics(step_metrics)\n",
    "        return step_metrics\n",
    "        \n",
    "    def validation_epoch_end(self, outputs):\n",
    "        avg_loss = torch.stack([x['val_loss'] for x in outputs]).mean()\n",
    "        avg_acc = torch.stack([x['val_acc'] for x in outputs]).mean()\n",
    "        # log metrics\n",
    "        epoch_metrics = {'avg_val_loss': avg_loss, 'avg_val_acc': avg_acc}\n",
    "        self.log_metrics(epoch_metrics)\n",
    "        return epoch_metrics\n",
    "\n",
    "    def test_epoch_end(self, outputs):\n",
    "        avg_loss = torch.stack([x['test_loss'] for x in outputs]).mean()\n",
    "        avg_acc = torch.stack([x['test_acc'] for x in outputs]).mean()\n",
    "        # log\n",
    "        epoch_metrics = {'avg_test_loss': avg_loss, 'avg_test_acc': avg_acc}\n",
    "        self.log_metrics(epoch_metrics)\n",
    "        return epoch_metrics\n",
    "        \n",
    "    def configure_optimizers(self):\n",
    "        opt = LRScheduledAdam(\n",
    "            params=self.model.parameters(),\n",
    "            d_model=self.hparams['d_model'], \n",
    "            warmup_steps=self.hparams['warmup_steps'],\n",
    "            lr=0.,\n",
    "            betas=(\n",
    "                self.hparams['adam_beta1'], self.hparams['adam_beta2']),\n",
    "            eps=self.hparams['adam_epsilon'],\n",
    "            correct_bias=True\n",
    "        )\n",
    "        \n",
    "        # learning rate decay on top of LRScheduled Adam\n",
    "        # Decays the learning rate of each parameter group by gamma every step_size epochs. \n",
    "#         scheduler = StepLR(opt, step_size=self.hparams['lr_decay_step_size'], gamma=self.hparams['lr_decay_gamma'], last_epoch=-1)\n",
    "#         return scheduler\n",
    "        return opt"
   ]
  },
  {
   "cell_type": "markdown",
   "id": "dominican-astrology",
   "metadata": {},
   "source": [
    "## Data"
   ]
  },
  {
   "cell_type": "code",
   "execution_count": 28,
   "id": "chief-phase",
   "metadata": {},
   "outputs": [
    {
     "name": "stdout",
     "output_type": "stream",
     "text": [
      "Generated 81 unqiue cards\n",
      "Generated 5184 cardpairs with shared concept\n",
      "Generated 1296 cardpairs without shared concept\n",
      "Total number of matches =  89424\n"
     ]
    }
   ],
   "source": [
    "# Generate Data\n",
    "\n",
    "def generate_cards(attributes, attr_order):\n",
    "    \n",
    "    cards = []\n",
    "    idx_to_card = {}\n",
    "    card_to_idx = {}\n",
    "    attrs_to_idx = defaultdict(lambda: defaultdict(list))\n",
    "\n",
    "    i = 0\n",
    "    attr_vals = [attributes[attr] for attr in attr_order]\n",
    "    for combo in itertools.product(*attr_vals):\n",
    "        card = tuple(combo)\n",
    "        cards.append(card)\n",
    "        card_to_idx[card] = i\n",
    "        idx_to_card[i] = card\n",
    "        i += 1\n",
    "        for attr_val, attr_typ in zip(combo, attr_order):\n",
    "            attrs_to_idx[attr_typ][attr_val].append(i)\n",
    "    \n",
    "    assert len(cards) == len(set(cards))\n",
    "    print(f'Generated {len(cards)} unqiue cards')                \n",
    "    return cards, idx_to_card, card_to_idx, attrs_to_idx\n",
    "\n",
    "\n",
    "def generate_card_pairs(cards, card_to_idx):\n",
    "    '''\n",
    "    find all combos of cards, filter down to the ones that share concepts.\n",
    "    '''\n",
    "    cardpairs_with_shared_concepts = []\n",
    "    cardpairs_without_shared_concepts = []\n",
    "\n",
    "    cardpair_to_idx, idx_to_cardpair, idx = {}, {}, 0\n",
    "    for card1, card2 in itertools.product(cards, cards):\n",
    "        if card1 != card2:\n",
    "            matching_concepts = tuple(s1 if s1==s2 else '-' for s1,s2 in zip(card1,card2))\n",
    "            if set(matching_concepts) != {'-'}:\n",
    "                cardpairs_with_shared_concepts.append(((card_to_idx[card1], card_to_idx[card2]), matching_concepts))\n",
    "            else:\n",
    "                cardpairs_without_shared_concepts.append(((card_to_idx[card1], card_to_idx[card2]), matching_concepts))\n",
    "            idx_to_cardpair[idx] = (card_to_idx[card1], card_to_idx[card2])\n",
    "            cardpair_to_idx[(card_to_idx[card1], card_to_idx[card2])] = idx\n",
    "            idx += 1\n",
    "    print(f'Generated {len(cardpairs_with_shared_concepts)} cardpairs with shared concept')\n",
    "    print(f'Generated {len(cardpairs_without_shared_concepts)} cardpairs without shared concept')\n",
    "    return cardpairs_with_shared_concepts, cardpairs_without_shared_concepts, cardpair_to_idx, idx_to_cardpair\n",
    "\n",
    "\n",
    "def match_concept_to_card(concept, card):\n",
    "    '''\n",
    "    Given a concept, determine if card matches. Identify nonConcepts and violatedConcepts\n",
    "    \n",
    "    Arguments:\n",
    "        concept: ('red', 'void', '-', '-')\n",
    "        card: ex1. ('red', 'void', 'triangle', 'XOX')\n",
    "              ex2. ('green', 'void', 'square', 'OXX')\n",
    "    Returns:\n",
    "        match: bool. ex1. True,\n",
    "                     ex2. False\n",
    "    '''\n",
    "    match = True\n",
    "    for ct, cd in zip(concept, card):\n",
    "        if ct != '-' and cd != ct:\n",
    "            match = False\n",
    "    return match\n",
    "\n",
    "\n",
    "def gen_card_data(attributes, attr_order, num_unseen_cardpairs=100, debug=False):\n",
    "    \n",
    "    # all cards\n",
    "    cards, idx_to_card, card_to_idx, attrs_to_idx = generate_cards(attributes, attr_order)\n",
    "    # all card pairs\n",
    "    cardpairs_with_shared_concepts, cardpairs_without_shared_concepts, cardpair_to_idx, idx_to_cardpair = \\\n",
    "        generate_card_pairs(cards, card_to_idx)\n",
    "    \n",
    "    # generate answers\n",
    "    all_matches = []\n",
    "    for cardpair in cardpairs_with_shared_concepts:\n",
    "        shared_concept = cardpair[1]\n",
    "        # look for all matching cards\n",
    "        # ((card pair query), matching card)\n",
    "        matching_cards = [(cardpair[0], card_to_idx[card]) for card in cards if match_concept_to_card(shared_concept, card)]\n",
    "        all_matches += matching_cards\n",
    "    print('Total number of matches = ', len(all_matches))\n",
    "    \n",
    "    # hold out some cardpairs\n",
    "    unseen_cardpair_indices = list(np.random.choice(len(cardpair_to_idx), size=num_unseen_cardpairs, replace=False))\n",
    "    train_cardpair_indices = [idx for idx in range(len(cardpair_to_idx)) if idx not in unseen_cardpair_indices]\n",
    "    assert len(set(unseen_cardpair_indices) | set(train_cardpair_indices)) == len(cardpair_to_idx)\n",
    "    \n",
    "    data = {\n",
    "        'idx_to_card': idx_to_card,\n",
    "        'card_to_idx': card_to_idx,\n",
    "        'attrs_to_idx': attrs_to_idx,\n",
    "        'cardpair_to_idx': cardpair_to_idx, \n",
    "        'idx_to_cardpair': idx_to_cardpair,\n",
    "        'all_matches': all_matches,\n",
    "        'unseen_cardpair_indices': unseen_cardpair_indices,\n",
    "        'seen_cardpair_indices': train_cardpair_indices\n",
    "    }\n",
    "    return data\n",
    "\n",
    "attributes = {\n",
    "    'color': ['red', 'green', 'blue'],\n",
    "    'fill': ['void', 'dashed', 'solid'],\n",
    "    'shape': ['square', 'circle', 'triangle'],\n",
    "    'config': ['XXO', 'XOX', 'OXX']\n",
    "}\n",
    "\n",
    "attr_order = ['color', 'fill', 'shape', 'config']\n",
    "\n",
    "cardgame_data = gen_card_data(attributes, attr_order, num_unseen_cardpairs=100, debug=False)"
   ]
  },
  {
   "cell_type": "code",
   "execution_count": 252,
   "id": "broad-playlist",
   "metadata": {},
   "outputs": [
    {
     "data": {
      "text/plain": [
       "0.8"
      ]
     },
     "execution_count": 252,
     "metadata": {},
     "output_type": "execute_result"
    }
   ],
   "source": [
    "5184 / (5184 + 1296)"
   ]
  },
  {
   "cell_type": "code",
   "execution_count": 162,
   "id": "aquatic-visiting",
   "metadata": {},
   "outputs": [],
   "source": [
    "# count table\n",
    "# all data\n",
    "\n",
    "count_table = np.zeros((len(cardgame_data['idx_to_card']), len(cardgame_data['cardpair_to_idx'])))\n",
    "for (cardpair, card) in cardgame_data['all_matches']:\n",
    "    count_table[card, cardgame_data['cardpair_to_idx'][cardpair]] += 1\n",
    "        \n",
    "xy = count_table/np.sum(count_table)\n",
    "xy += 0.0000001\n",
    "xy /= np.sum(xy)\n",
    "\n",
    "x = np.sum(xy,0)\n",
    "y = np.sum(xy,1)\n",
    "xyind = y[None].T @ x[None]"
   ]
  },
  {
   "cell_type": "code",
   "execution_count": 163,
   "id": "transparent-pollution",
   "metadata": {},
   "outputs": [
    {
     "data": {
      "text/plain": [
       "<matplotlib.image.AxesImage at 0x7f7ed8abaac0>"
      ]
     },
     "execution_count": 163,
     "metadata": {},
     "output_type": "execute_result"
    },
    {
     "data": {
      "image/png": "[encoded data removed]",
      "text/plain": [
       "<Figure size 1440x7200 with 1 Axes>"
      ]
     },
     "metadata": {
      "needs_background": "light"
     },
     "output_type": "display_data"
    }
   ],
   "source": [
    "# all\n",
    "plt.figure(figsize = (20,100))\n",
    "plt.imshow((xy)[:, :300])"
   ]
  },
  {
   "cell_type": "code",
   "execution_count": 164,
   "id": "minimal-yukon",
   "metadata": {},
   "outputs": [
    {
     "data": {
      "text/plain": [
       "<matplotlib.image.AxesImage at 0x7f7ed8a1b1f0>"
      ]
     },
     "execution_count": 164,
     "metadata": {},
     "output_type": "execute_result"
    },
    {
     "data": {
      "image/png": "[encoded data removed]",
      "text/plain": [
       "<Figure size 1440x7200 with 1 Axes>"
      ]
     },
     "metadata": {
      "needs_background": "light"
     },
     "output_type": "display_data"
    }
   ],
   "source": [
    "# all\n",
    "plt.figure(figsize = (20,100))\n",
    "plt.imshow((xy/xyind)[:, :300])"
   ]
  },
  {
   "cell_type": "code",
   "execution_count": 216,
   "id": "suspected-lawsuit",
   "metadata": {
    "scrolled": true
   },
   "outputs": [
    {
     "data": {
      "text/plain": [
       "[(9.50129597677123e-08, 435456), (1.0720008460719617e-05, 89424)]"
      ]
     },
     "execution_count": 216,
     "metadata": {},
     "output_type": "execute_result"
    }
   ],
   "source": [
    "Counter(list(xy.reshape(-1))).most_common()"
   ]
  },
  {
   "cell_type": "code",
   "execution_count": 220,
   "id": "absolute-rachel",
   "metadata": {},
   "outputs": [],
   "source": [
    "# Seen\n",
    "seen_count_table = np.zeros((len(cardgame_data['idx_to_card']), len(cardgame_data['cardpair_to_idx'])))\n",
    "for idx in cardgame_data['seen_cardpair_indices']:\n",
    "     seen_count_table[:, idx] = count_table[:, idx]\n",
    "\n",
    "seen_xy = np.zeros((len(cardgame_data['idx_to_card']), len(cardgame_data['cardpair_to_idx']))) \n",
    "for idx in cardgame_data['seen_cardpair_indices']:\n",
    "     seen_xy[:, idx] = xy[:, idx]\n",
    "        \n",
    "seen_xy /= np.sum(seen_xy)\n",
    "\n",
    "seen_x = np.sum(seen_xy,0)\n",
    "seen_y = np.sum(seen_xy,1)\n",
    "seen_xyind = seen_y[None].T @ seen_x[None]"
   ]
  },
  {
   "cell_type": "code",
   "execution_count": 219,
   "id": "addressed-member",
   "metadata": {
    "scrolled": true
   },
   "outputs": [
    {
     "data": {
      "text/plain": [
       "[(9.656158781467275e-08, 428793), (1.0894735211749273e-05, 87987), (0.0, 8100)]"
      ]
     },
     "execution_count": 219,
     "metadata": {},
     "output_type": "execute_result"
    }
   ],
   "source": [
    "Counter(list(seen_xy.reshape(-1))).most_common()"
   ]
  },
  {
   "cell_type": "code",
   "execution_count": 202,
   "id": "prospective-actress",
   "metadata": {},
   "outputs": [
    {
     "data": {
      "text/plain": [
       "516780"
      ]
     },
     "execution_count": 202,
     "metadata": {},
     "output_type": "execute_result"
    }
   ],
   "source": [
    "6380 * 81"
   ]
  },
  {
   "cell_type": "code",
   "execution_count": 221,
   "id": "crucial-variance",
   "metadata": {},
   "outputs": [
    {
     "data": {
      "text/plain": [
       "87987.0"
      ]
     },
     "execution_count": 221,
     "metadata": {},
     "output_type": "execute_result"
    }
   ],
   "source": [
    "np.sum(seen_count_table)"
   ]
  },
  {
   "cell_type": "code",
   "execution_count": 222,
   "id": "received-wisdom",
   "metadata": {},
   "outputs": [
    {
     "data": {
      "text/plain": [
       "<matplotlib.image.AxesImage at 0x7f7ecef416a0>"
      ]
     },
     "execution_count": 222,
     "metadata": {},
     "output_type": "execute_result"
    },
    {
     "data": {
      "image/png": "[encoded data removed]",
      "text/plain": [
       "<Figure size 1440x7200 with 1 Axes>"
      ]
     },
     "metadata": {
      "needs_background": "light"
     },
     "output_type": "display_data"
    }
   ],
   "source": [
    "# seen\n",
    "plt.figure(figsize = (20,100))\n",
    "plt.imshow((seen_xy)[:, :300])"
   ]
  },
  {
   "cell_type": "code",
   "execution_count": 223,
   "id": "atomic-spray",
   "metadata": {},
   "outputs": [
    {
     "name": "stderr",
     "output_type": "stream",
     "text": [
      "<ipython-input-223-8392788c0132>:3: RuntimeWarning: invalid value encountered in true_divide\n",
      "  plt.imshow((seen_xy/seen_xyind)[:, :300])\n"
     ]
    },
    {
     "data": {
      "text/plain": [
       "<matplotlib.image.AxesImage at 0x7f7eced66d90>"
      ]
     },
     "execution_count": 223,
     "metadata": {},
     "output_type": "execute_result"
    },
    {
     "data": {
      "image/png": "[encoded data removed]",
      "text/plain": [
       "<Figure size 1440x7200 with 1 Axes>"
      ]
     },
     "metadata": {
      "needs_background": "light"
     },
     "output_type": "display_data"
    }
   ],
   "source": [
    "# seen\n",
    "plt.figure(figsize = (20,100))\n",
    "plt.imshow((seen_xy/seen_xyind)[:, :300])"
   ]
  },
  {
   "cell_type": "code",
   "execution_count": 224,
   "id": "swiss-airline",
   "metadata": {},
   "outputs": [],
   "source": [
    "# Unseen\n",
    "unseen_count_table = np.zeros((len(cardgame_data['idx_to_card']), len(cardgame_data['cardpair_to_idx'])))\n",
    "for idx in cardgame_data['unseen_cardpair_indices']:\n",
    "     unseen_count_table[:, idx] = count_table[:, idx]\n",
    "\n",
    "unseen_xy = np.zeros((len(cardgame_data['idx_to_card']), len(cardgame_data['cardpair_to_idx']))) \n",
    "for idx in cardgame_data['unseen_cardpair_indices']:\n",
    "     unseen_xy[:, idx] = xy[:, idx]\n",
    "        \n",
    "unseen_xy /= np.sum(unseen_xy)\n",
    "\n",
    "unseen_x = np.sum(unseen_xy,0)\n",
    "unseen_y = np.sum(unseen_xy,1)\n",
    "unseen_xyind = unseen_y[None].T @ unseen_x[None]"
   ]
  },
  {
   "cell_type": "code",
   "execution_count": 227,
   "id": "hazardous-frederick",
   "metadata": {},
   "outputs": [
    {
     "data": {
      "text/plain": [
       "1437.0"
      ]
     },
     "execution_count": 227,
     "metadata": {},
     "output_type": "execute_result"
    }
   ],
   "source": [
    "np.sum(unseen_count_table)"
   ]
  },
  {
   "cell_type": "code",
   "execution_count": 225,
   "id": "organizational-blast",
   "metadata": {},
   "outputs": [
    {
     "data": {
      "text/plain": [
       "<matplotlib.image.AxesImage at 0x7f7eceddf400>"
      ]
     },
     "execution_count": 225,
     "metadata": {},
     "output_type": "execute_result"
    },
    {
     "data": {
      "image/png": "[encoded data removed]",
      "text/plain": [
       "<Figure size 1440x7200 with 1 Axes>"
      ]
     },
     "metadata": {
      "needs_background": "light"
     },
     "output_type": "display_data"
    }
   ],
   "source": [
    "# seen\n",
    "plt.figure(figsize = (20,100))\n",
    "plt.imshow((unseen_xy)[:, :300])"
   ]
  },
  {
   "cell_type": "code",
   "execution_count": 226,
   "id": "separated-lewis",
   "metadata": {},
   "outputs": [
    {
     "name": "stderr",
     "output_type": "stream",
     "text": [
      "<ipython-input-226-4f5574f57fd6>:3: RuntimeWarning: invalid value encountered in true_divide\n",
      "  plt.imshow((unseen_xy/unseen_xyind)[:, :300])\n"
     ]
    },
    {
     "data": {
      "text/plain": [
       "<matplotlib.image.AxesImage at 0x7f7ecef7daf0>"
      ]
     },
     "execution_count": 226,
     "metadata": {},
     "output_type": "execute_result"
    },
    {
     "data": {
      "image/png": "[encoded data removed]",
      "text/plain": [
       "<Figure size 1440x7200 with 1 Axes>"
      ]
     },
     "metadata": {
      "needs_background": "light"
     },
     "output_type": "display_data"
    }
   ],
   "source": [
    "# seen\n",
    "plt.figure(figsize = (20,100))\n",
    "plt.imshow((unseen_xy/unseen_xyind)[:, :300])"
   ]
  },
  {
   "cell_type": "code",
   "execution_count": 228,
   "id": "sweet-butterfly",
   "metadata": {},
   "outputs": [],
   "source": [
    "# split train and val\n",
    "num_val = 1000\n",
    "\n",
    "# position in matrix\n",
    "all_seen_matrix_indices = list(itertools.product(*[cardgame_data['seen_cardpair_indices'], range(81)]))\n",
    "# flattened\n",
    "val_seen_ix = np.random.choice(len(all_seen_matrix_indices), size=num_val)\n",
    "# flattened\n",
    "train_seen_ix = [i for i in range(len(all_seen_matrix_indices)) if i not in val_seen_indices]\n",
    "# position in matrix\n",
    "val_seen_matrix_indices = [all_seen_matrix_indices[i] for i in val_seen_ix]\n",
    "# position in matrix\n",
    "train_seen_matrix_indices = [all_seen_matrix_indices[i] for i in train_seen_ix]"
   ]
  },
  {
   "cell_type": "code",
   "execution_count": 229,
   "id": "violent-teacher",
   "metadata": {},
   "outputs": [
    {
     "name": "stdout",
     "output_type": "stream",
     "text": [
      "515782\n",
      "1000\n"
     ]
    }
   ],
   "source": [
    "print(len(train_seen_matrix_indices))\n",
    "print(len(val_seen_matrix_indices))"
   ]
  },
  {
   "cell_type": "code",
   "execution_count": 230,
   "id": "connected-democrat",
   "metadata": {},
   "outputs": [],
   "source": [
    "# Seen train\n",
    "seen_train_count_table = np.zeros((len(cardgame_data['idx_to_card']), len(cardgame_data['cardpair_to_idx'])))\n",
    "for i, j in train_seen_matrix_indices:\n",
    "    seen_train_count_table[j, i] = seen_count_table[j, i]\n",
    "\n",
    "seen_train_xy = np.zeros((len(cardgame_data['idx_to_card']), len(cardgame_data['cardpair_to_idx']))) \n",
    "for i, j in train_seen_matrix_indices:\n",
    "     seen_train_xy[j, i] = seen_xy[j, i]\n",
    "    \n",
    "# seen_train_xy = seen_train_count_table/np.sum(seen_train_count_table)\n",
    "seen_train_xy /= np.sum(seen_train_xy)\n",
    "\n",
    "seen_train_x = np.sum(seen_train_xy,0)\n",
    "seen_train_y = np.sum(seen_train_xy,1)\n",
    "seen_train_xyind = seen_train_y[None].T @ seen_train_x[None]"
   ]
  },
  {
   "cell_type": "code",
   "execution_count": 236,
   "id": "least-insert",
   "metadata": {
    "scrolled": true
   },
   "outputs": [
    {
     "data": {
      "text/plain": [
       "[(9.673176677405527e-08, 427949), (1.0913935959614378e-05, 87833), (0.0, 9098)]"
      ]
     },
     "execution_count": 236,
     "metadata": {},
     "output_type": "execute_result"
    }
   ],
   "source": [
    "Counter(list(seen_train_xy.reshape(-1))).most_common()"
   ]
  },
  {
   "cell_type": "code",
   "execution_count": 231,
   "id": "atmospheric-colony",
   "metadata": {},
   "outputs": [
    {
     "data": {
      "text/plain": [
       "87833.0"
      ]
     },
     "execution_count": 231,
     "metadata": {},
     "output_type": "execute_result"
    }
   ],
   "source": [
    "np.sum(seen_train_count_table)"
   ]
  },
  {
   "cell_type": "code",
   "execution_count": 232,
   "id": "academic-integrity",
   "metadata": {},
   "outputs": [
    {
     "data": {
      "text/plain": [
       "<matplotlib.image.AxesImage at 0x7f7ecbe64160>"
      ]
     },
     "execution_count": 232,
     "metadata": {},
     "output_type": "execute_result"
    },
    {
     "data": {
      "image/png": "[encoded data removed]",
      "text/plain": [
       "<Figure size 1440x7200 with 1 Axes>"
      ]
     },
     "metadata": {
      "needs_background": "light"
     },
     "output_type": "display_data"
    }
   ],
   "source": [
    "# seen_filled\n",
    "plt.figure(figsize = (20,100))\n",
    "plt.imshow((seen_train_xy)[:, :300])"
   ]
  },
  {
   "cell_type": "code",
   "execution_count": 233,
   "id": "graduate-cradle",
   "metadata": {},
   "outputs": [
    {
     "name": "stderr",
     "output_type": "stream",
     "text": [
      "<ipython-input-233-813a7a9c9924>:3: RuntimeWarning: invalid value encountered in true_divide\n",
      "  plt.imshow((seen_train_xy/seen_train_xyind)[:, :300])\n"
     ]
    },
    {
     "data": {
      "text/plain": [
       "<matplotlib.image.AxesImage at 0x7f7ed3007850>"
      ]
     },
     "execution_count": 233,
     "metadata": {},
     "output_type": "execute_result"
    },
    {
     "data": {
      "image/png": "[encoded data removed]",
      "text/plain": [
       "<Figure size 1440x7200 with 1 Axes>"
      ]
     },
     "metadata": {
      "needs_background": "light"
     },
     "output_type": "display_data"
    }
   ],
   "source": [
    "# seen_filled\n",
    "plt.figure(figsize = (20,100))\n",
    "plt.imshow((seen_train_xy/seen_train_xyind)[:, :300])"
   ]
  },
  {
   "cell_type": "code",
   "execution_count": 234,
   "id": "dutch-indie",
   "metadata": {},
   "outputs": [],
   "source": [
    "# seen val\n",
    "seen_val_count_table = np.zeros((len(cardgame_data['idx_to_card']), len(cardgame_data['cardpair_to_idx'])))\n",
    "for i, j in val_seen_matrix_indices:\n",
    "    seen_val_count_table[j, i] = seen_count_table[j, i]\n",
    "\n",
    "seen_val_xy = np.zeros((len(cardgame_data['idx_to_card']), len(cardgame_data['cardpair_to_idx']))) \n",
    "for i, j in val_seen_matrix_indices:\n",
    "     seen_val_xy[j, i] = seen_xy[j, i]\n",
    "    \n",
    "# seen_val_xy = seen_val_count_table/np.sum(seen_val_count_table)\n",
    "seen_val_xy /= np.sum(seen_val_xy)\n",
    "\n",
    "seen_val_x = np.sum(seen_val_xy,0)\n",
    "seen_val_y = np.sum(seen_val_xy,1)\n",
    "seen_val_xyind = seen_val_y[None].T @ seen_val_x[None]"
   ]
  },
  {
   "cell_type": "code",
   "execution_count": 235,
   "id": "acute-riverside",
   "metadata": {
    "scrolled": true
   },
   "outputs": [
    {
     "data": {
      "text/plain": [
       "[(0.0, 523881), (4.915203678292543e-05, 826), (0.00554566715385725, 173)]"
      ]
     },
     "execution_count": 235,
     "metadata": {},
     "output_type": "execute_result"
    }
   ],
   "source": [
    "Counter(list(seen_val_xy.reshape(-1))).most_common()"
   ]
  },
  {
   "cell_type": "code",
   "execution_count": 197,
   "id": "micro-backing",
   "metadata": {},
   "outputs": [
    {
     "data": {
      "text/plain": [
       "177.0"
      ]
     },
     "execution_count": 197,
     "metadata": {},
     "output_type": "execute_result"
    }
   ],
   "source": [
    "np.sum(seen_val_count_table)"
   ]
  },
  {
   "cell_type": "code",
   "execution_count": 194,
   "id": "racial-spare",
   "metadata": {},
   "outputs": [
    {
     "data": {
      "text/plain": [
       "<matplotlib.image.AxesImage at 0x7f7ecf07b790>"
      ]
     },
     "execution_count": 194,
     "metadata": {},
     "output_type": "execute_result"
    },
    {
     "data": {
      "image/png": "[encoded data removed]",
      "text/plain": [
       "<Figure size 1440x7200 with 1 Axes>"
      ]
     },
     "metadata": {
      "needs_background": "light"
     },
     "output_type": "display_data"
    }
   ],
   "source": [
    "# seen_filled\n",
    "plt.figure(figsize = (20,100))\n",
    "plt.imshow((seen_val_xy)[:, :300])"
   ]
  },
  {
   "cell_type": "code",
   "execution_count": 195,
   "id": "urban-principal",
   "metadata": {},
   "outputs": [
    {
     "name": "stderr",
     "output_type": "stream",
     "text": [
      "<ipython-input-195-30e0e8f7f1b6>:3: RuntimeWarning: invalid value encountered in true_divide\n",
      "  plt.imshow((seen_val_xy/seen_val_xyind)[:, :300])\n"
     ]
    },
    {
     "data": {
      "text/plain": [
       "<matplotlib.image.AxesImage at 0x7f7ecf050e80>"
      ]
     },
     "execution_count": 195,
     "metadata": {},
     "output_type": "execute_result"
    },
    {
     "data": {
      "image/png": "[encoded data removed]",
      "text/plain": [
       "<Figure size 1440x7200 with 1 Axes>"
      ]
     },
     "metadata": {
      "needs_background": "light"
     },
     "output_type": "display_data"
    }
   ],
   "source": [
    "# seen_filled\n",
    "plt.figure(figsize = (20,100))\n",
    "plt.imshow((seen_val_xy/seen_val_xyind)[:, :300])"
   ]
  },
  {
   "cell_type": "code",
   "execution_count": null,
   "id": "popular-warning",
   "metadata": {},
   "outputs": [],
   "source": [
    "# How to split between train and val?\n",
    "\n",
    "# How to sample datapoints?\n",
    "# Build full matrix count xy first.\n",
    "# Throw away all the unseen query columns.\n",
    "# Randomly select 500 positions as val set. (100 real matches, 400 fake matches). Sample a 1000 matrices from this distribution for validation.\n",
    "# Remaining are 516280 training positions. Everytime we train just sample a batch from this distribution.\n",
    "# \n",
    "\n",
    "# ToDo Make visualization to explain this train-val first.\n",
    "\n",
    "# Make visualization to explain testing."
   ]
  },
  {
   "cell_type": "code",
   "execution_count": null,
   "id": "conditional-minister",
   "metadata": {},
   "outputs": [],
   "source": [
    "# Distributed Weighted Sampler\n",
    "# https://discuss.pytorch.org/t/how-to-use-my-own-sampler-when-i-already-use-distributedsampler/62143/8\n",
    "# https://github.com/PyTorchLightning/pytorch-lightning/discussions/3716#discussioncomment-238296\n",
    "\n",
    "# torch lightning -- how sampler is added or removed\n",
    "# https://pytorch-lightning.readthedocs.io/en/stable/multi_gpu.html?highlight=sampler#remove-samplers"
   ]
  },
  {
   "cell_type": "code",
   "execution_count": null,
   "id": "ready-cyprus",
   "metadata": {},
   "outputs": [],
   "source": [
    "# ToDo\n",
    "\n",
    "# dataset -- nothing special with sampler. Just fix the indices and return the tensors\n",
    "# dataloader -- need to write sampler for it. (weighted, weighted_ddp)\n",
    "# datamodule -- nothing special, just intiate the dataloader inside\n",
    "# lightning trainer -- need to disable sampler_ddp"
   ]
  },
  {
   "cell_type": "code",
   "execution_count": null,
   "id": "qualified-distance",
   "metadata": {},
   "outputs": [],
   "source": []
  },
  {
   "cell_type": "code",
   "execution_count": null,
   "id": "available-gothic",
   "metadata": {},
   "outputs": [],
   "source": [
    "# Torch Dataset class\n",
    "\n",
    "# Need a data sampler to do this?\n",
    "\n",
    "# dataset\n",
    "# dataloader\n",
    "\n",
    "# DataModule (use dataset to make dataloader)\n",
    "\n",
    "class CardGameDataset(Dataset):\n",
    "    \n",
    "    def __init__(self, raw_data, seed, debug=False):\n",
    "        '''\n",
    "        Train / Val only?\n",
    "        raw_data: object returned by gen_card_data.\n",
    "        '''\n",
    "        super().__init__()\n",
    "        np.random.seed(seed)\n",
    "        self.raw_data = raw_data\n",
    "        self.debug = debug\n",
    "        \n",
    "    def __len__(self):\n",
    "        return len(self.X_scenes)\n",
    "    \n",
    "    def __getitem__(self, key_idx):\n",
    "        '''\n",
    "        key_idx: (xy_i) * (xy.shape[1]=6480) + (xy_j)\n",
    "        '''\n",
    "        xy_i, xy_j = key_idx//xy.shape[1], key_idx%xy.shape[1]"
   ]
  },
  {
   "cell_type": "code",
   "execution_count": null,
   "id": "herbal-receiver",
   "metadata": {},
   "outputs": [],
   "source": []
  },
  {
   "cell_type": "code",
   "execution_count": null,
   "id": "formed-acceptance",
   "metadata": {},
   "outputs": [],
   "source": []
  },
  {
   "cell_type": "code",
   "execution_count": 237,
   "id": "eight-index",
   "metadata": {},
   "outputs": [
    {
     "data": {
      "text/plain": [
       "(81, 6480)"
      ]
     },
     "execution_count": 237,
     "metadata": {},
     "output_type": "execute_result"
    }
   ],
   "source": [
    "seen_val_xy.shape"
   ]
  },
  {
   "cell_type": "code",
   "execution_count": 240,
   "id": "every-sensitivity",
   "metadata": {},
   "outputs": [
    {
     "name": "stdout",
     "output_type": "stream",
     "text": [
      "[[ 1  2  3]\n",
      " [10 11 12]]\n",
      "(2, 3)\n"
     ]
    },
    {
     "data": {
      "text/plain": [
       "array([ 1,  2,  3, 10, 11, 12])"
      ]
     },
     "execution_count": 240,
     "metadata": {},
     "output_type": "execute_result"
    }
   ],
   "source": [
    "dum = np.array([[1,2,3], [10,11,12]])\n",
    "print(dum)\n",
    "print(dum.shape)\n",
    "dum.reshape(-1)"
   ]
  },
  {
   "cell_type": "code",
   "execution_count": 248,
   "id": "progressive-county",
   "metadata": {},
   "outputs": [
    {
     "data": {
      "text/plain": [
       "12"
      ]
     },
     "execution_count": 248,
     "metadata": {},
     "output_type": "execute_result"
    }
   ],
   "source": [
    "dum.reshape(-1)[1 * 3 + 2]"
   ]
  },
  {
   "cell_type": "code",
   "execution_count": 249,
   "id": "streaming-concert",
   "metadata": {},
   "outputs": [
    {
     "data": {
      "text/plain": [
       "12"
      ]
     },
     "execution_count": 249,
     "metadata": {},
     "output_type": "execute_result"
    }
   ],
   "source": [
    "dum.reshape(-1)[5]"
   ]
  },
  {
   "cell_type": "code",
   "execution_count": 250,
   "id": "impossible-cotton",
   "metadata": {},
   "outputs": [
    {
     "data": {
      "text/plain": [
       "1"
      ]
     },
     "execution_count": 250,
     "metadata": {},
     "output_type": "execute_result"
    }
   ],
   "source": [
    "5//3"
   ]
  },
  {
   "cell_type": "code",
   "execution_count": 251,
   "id": "demographic-custody",
   "metadata": {},
   "outputs": [
    {
     "data": {
      "text/plain": [
       "2"
      ]
     },
     "execution_count": 251,
     "metadata": {},
     "output_type": "execute_result"
    }
   ],
   "source": [
    "5%3"
   ]
  },
  {
   "cell_type": "code",
   "execution_count": null,
   "id": "younger-portsmouth",
   "metadata": {},
   "outputs": [],
   "source": [
    "# Lightning DataModule class"
   ]
  },
  {
   "cell_type": "code",
   "execution_count": null,
   "id": "original-specific",
   "metadata": {},
   "outputs": [],
   "source": [
    "## ToDo Becareful about cloning\n",
    "## Ans. Use a different construct_full_model() call to untie everything\n",
    "## Clone Layers? -- leave it\n",
    "## Clone pff? -- \n",
    "## Clone others?\n",
    "\n",
    "## Lookup which layernorm we are using\n",
    "\n",
    "# Deal with B and b -- leave it until more experiments are run on 20210127 InfoNCE with revised metric\n",
    "# Deal with LR schedule\n",
    "\n",
    "## skipped\n",
    "# class LRScheduledAdam(Optimizer):\n",
    "# gradient clipping (lightning call)\n",
    "\n",
    "# Data\n",
    "# Vocab\n",
    "# embeddings -- different vocab for query tokens vs key tokens?\n",
    "# What are the tokens?\n",
    "# use CLS token\n",
    "\n",
    "# hparams\n",
    "# Becareful of\n",
    "# max_len, vocab_size, padding_idx, \n"
   ]
  },
  {
   "cell_type": "code",
   "execution_count": null,
   "id": "creative-heather",
   "metadata": {},
   "outputs": [],
   "source": [
    "## W&B References\n",
    "# https://docs.wandb.com/library/integrations/lightning\n",
    "# colab example\n",
    "# https://colab.research.google.com/github/wandb/examples/blob/master/colabs/pytorch-lightning/Supercharge_your_Training_with_Pytorch_Lightning_%2B_Weights_%26_Biases.ipynb\n",
    "# step by step guide\n",
    "# https://wandb.ai/cayush/pytorchlightning/reports/Use-Pytorch-Lightning-with-Weights-Biases--Vmlldzo2NjQ1Mw\n",
    "\n",
    "\n",
    "hparams = {\n",
    "    'batch_size': 128,\n",
    "    'gradient_clip_val': 0.0,\n",
    "    'd_model': 32,\n",
    "    'd_ff': 1024,\n",
    "    'max_len': 501, #!\n",
    "    'num_heads': 1,\n",
    "    'embed_dropout': 0.0,\n",
    "    # Attention\n",
    "    'attn_wt_dropout': 0.0,\n",
    "    'attn_wt_init_tying_scheme': 'untie_QK_zeroO', # tie_all, untie_all, untie_QK, _zeroO\n",
    "    'heads_dropout': 0.0,\n",
    "    'pff_dropout': 0.0,\n",
    "    # Layers\n",
    "    'N_enc': 3,\n",
    "    # Loss\n",
    "    'loss_temperature_const': 1.0,\n",
    "    # LR\n",
    "    'lr_decay_step_size': 5,\n",
    "    'lr_decay_gamma': 0.1,\n",
    "    'adam_beta1': 0.9,\n",
    "    'adam_beta2': 0.98,\n",
    "    'adam_epsilon': 1e-9,\n",
    "    'warmup_steps': 24000,\n",
    "    # Vocab, Padding\n",
    "    'vocab_size': 3,#!\n",
    "    'padding_idx_query': 3,#! \n",
    "    'padding_idx_key': 3,#! \n",
    "    'use_CLS_token': True,\n",
    "    'representation_pos': 0 # which position to use for repr vector\n",
    "}\n",
    "\n",
    "\n",
    "# model\n",
    "my_transformer = Transformer(hparams)\n",
    "print(pl.core.memory.ModelSummary(my_transformer, mode='full'),'\\n')\n",
    "\n",
    "# data\n",
    "cardgame_data = gen_card_data(attributes, attr_order, num_unseen_cardpairs=100, debug=False)\n",
    "\n",
    "# datamodule\n",
    "cardgame_datamodule = CardGameDataModule(\n",
    "    batch_size = hparams['batch_size'],\n",
    "    data = cardgame_data\n",
    ")\n",
    "\n",
    "# logger \n",
    "# wd_logger = WandbLogger(name=\"\",project='ContrastiveLearning-CardGame1')\n",
    "wd_logger = WandbLogger(name=\"test-dummy\",project='ContrastiveLearning-CardGame1')\n",
    "\n",
    "# trainer\n",
    "trainer = pl.Trainer(\n",
    "    gpus=[1], min_epochs=2, max_epochs=10000, \n",
    "    logger=wd_logger,log_gpu_memory='all',\n",
    "    precision=32, gradient_clip_val=hparams['gradient_clip_val'])\n",
    "\n",
    "# fit!\n",
    "with torch.autograd.detect_anomaly():\n",
    "    trainer.fit(my_transformer, countOnes_data)"
   ]
  },
  {
   "cell_type": "code",
   "execution_count": null,
   "id": "random-individual",
   "metadata": {},
   "outputs": [],
   "source": []
  }
 ],
 "metadata": {
  "kernelspec": {
   "display_name": "Python 3",
   "language": "python",
   "name": "python3"
  },
  "language_info": {
   "codemirror_mode": {
    "name": "ipython",
    "version": 3
   },
   "file_extension": ".py",
   "mimetype": "text/x-python",
   "name": "python",
   "nbconvert_exporter": "python",
   "pygments_lexer": "ipython3",
   "version": "3.8.3"
  }
 },
 "nbformat": 4,
 "nbformat_minor": 5
}

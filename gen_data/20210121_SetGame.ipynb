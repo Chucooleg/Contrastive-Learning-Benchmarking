{
 "cells": [
  {
   "cell_type": "code",
   "execution_count": 5,
   "metadata": {},
   "outputs": [],
   "source": [
    "import numpy as np\n",
    "import itertools\n",
    "import time\n",
    "import random\n",
    "from collections import Counter, defaultdict"
   ]
  },
  {
   "cell_type": "code",
   "execution_count": 3,
   "metadata": {},
   "outputs": [],
   "source": [
    "attributes = {\n",
    "    'color': ['red', 'green', 'blue'],\n",
    "    'fill': ['void', 'dashed', 'solid'],\n",
    "    'shape': ['square', 'circle', 'triangle'],\n",
    "    'config': ['XXO', 'XOX', 'OXX']\n",
    "}"
   ]
  },
  {
   "cell_type": "code",
   "execution_count": 4,
   "metadata": {},
   "outputs": [
    {
     "name": "stdout",
     "output_type": "stream",
     "text": [
      "Generated 81 unqiue cards\n"
     ]
    },
    {
     "data": {
      "text/plain": [
       "[('red', 'void', 'square', 'XXO'),\n",
       " ('red', 'void', 'square', 'XOX'),\n",
       " ('red', 'void', 'square', 'OXX'),\n",
       " ('red', 'void', 'circle', 'XXO'),\n",
       " ('red', 'void', 'circle', 'XOX')]"
      ]
     },
     "execution_count": 4,
     "metadata": {},
     "output_type": "execute_result"
    }
   ],
   "source": [
    "def generate_cards(attributes, attr_order):\n",
    "    \n",
    "    cards = []\n",
    "    idx_to_card = {}\n",
    "    card_to_idx = {}\n",
    "    attrs_to_idx = defaultdict(lambda: defaultdict(list))\n",
    "\n",
    "    i = 0\n",
    "    attr_vals = [attributes[attr] for attr in attr_order]\n",
    "    for combo in itertools.product(*attr_vals):\n",
    "        card = tuple(combo)\n",
    "        cards.append(card)\n",
    "        card_to_idx[card] = i\n",
    "        idx_to_card[i] = card\n",
    "        i += 1\n",
    "        for attr_val, attr_typ in zip(combo, attr_order):\n",
    "            attrs_to_idx[attr_typ][attr_val].append(i)\n",
    "    \n",
    "    assert len(cards) == len(set(cards))\n",
    "    print(f'Generated {len(cards)} unqiue cards')                \n",
    "    return cards, idx_to_card, card_to_idx, attrs_to_idx\n",
    "\n",
    "\n",
    "cards, idx_to_card, card_to_idx, attrs_to_idx = generate_cards(attributes, attr_order=('color', 'fill', 'shape', 'config'))\n",
    "cards[:5]"
   ]
  },
  {
   "cell_type": "code",
   "execution_count": 58,
   "metadata": {},
   "outputs": [
    {
     "name": "stdout",
     "output_type": "stream",
     "text": [
      "Generated 5184 unqiue cardpairs\n"
     ]
    },
    {
     "data": {
      "text/plain": [
       "[((0, 1), ('red', 'void', 'square', '-')),\n",
       " ((0, 2), ('red', 'void', 'square', '-')),\n",
       " ((0, 3), ('red', 'void', '-', 'XXO')),\n",
       " ((0, 4), ('red', 'void', '-', '-')),\n",
       " ((0, 5), ('red', 'void', '-', '-'))]"
      ]
     },
     "execution_count": 58,
     "metadata": {},
     "output_type": "execute_result"
    }
   ],
   "source": [
    "def generate_card_pairs(cards, card_to_idx):\n",
    "    '''\n",
    "    find all combos of cards, filter down to the ones that share concepts.\n",
    "    '''\n",
    "    cardpairs = []\n",
    "\n",
    "    for card1, card2 in itertools.product(cards, cards):\n",
    "        if card1 != card2:\n",
    "            matching_concepts = tuple(s1 if s1==s2 else '-' for s1,s2 in zip(card1,card2))\n",
    "            if set(matching_concepts) != {'-'}:\n",
    "                cardpairs.append(((card_to_idx[card1], card_to_idx[card2]), matching_concepts))\n",
    "    print(f'Generated {len(cardpairs)} unqiue cardpairs')  \n",
    "    return cardpairs\n",
    "\n",
    "cardpairs = generate_card_pairs(cards, card_to_idx)\n",
    "cardpairs[:5]"
   ]
  },
  {
   "cell_type": "code",
   "execution_count": 50,
   "metadata": {},
   "outputs": [
    {
     "name": "stdout",
     "output_type": "stream",
     "text": [
      "(True, ('-', '-', 'triangle', 'XOX'), ('-', '-', '-', '-'))\n",
      "(True, ('red', 'void', '-', '-'), ('-', '-', '-', '-'))\n",
      "(False, ('-', '-', 'square', 'OXX'), ('red', '-', '-', '-'))\n",
      "(False, ('-', '-', 'square', 'OXX'), ('red', 'void', '-', '-'))\n"
     ]
    }
   ],
   "source": [
    "def match_concept_to_card(concept, card):\n",
    "    '''\n",
    "    Given a concept, determine if card matches. Identify nonConcepts and violatedConcepts\n",
    "    \n",
    "    Arguments:\n",
    "        concept: ('red', 'void', '-', '-')\n",
    "        card: ex1. ('red', 'void', 'triangle', 'XOX')\n",
    "              ex2. ('green', 'void', 'square', 'OXX')\n",
    "    Returns:\n",
    "        match: bool. ex1. True,\n",
    "                     ex2. False\n",
    "        nonConcept:  ex1. ('-', '-', 'triangle', 'XOX')\n",
    "                     ex2. ('-', '-', 'square', 'OXX')\n",
    "        violatedConcept:    ex1. ('-', '-', '-', '-')\n",
    "                     ex2. ('red', '-', '-', '-')\n",
    "    '''\n",
    "    nonConcept = []\n",
    "    violatedConcept = []\n",
    "    match = True\n",
    "    for ct, cd in zip(concept, card):\n",
    "        if ct == '-':\n",
    "            nonConcept.append(cd)\n",
    "            violatedConcept.append('-')\n",
    "        else:\n",
    "            if cd != ct:\n",
    "                match = False\n",
    "                violatedConcept.append(ct)\n",
    "            else:\n",
    "                violatedConcept.append('-')\n",
    "            nonConcept.append('-')\n",
    "\n",
    "    return match, tuple(nonConcept), tuple(violatedConcept)\n",
    "    \n",
    "print(match_concept_to_card(concept=('red', 'void', '-', '-'), card=('red', 'void', 'triangle', 'XOX')))\n",
    "print(match_concept_to_card(concept=('-', '-', 'triangle', 'XOX'), card=('red', 'void', 'triangle', 'XOX')))\n",
    "print(match_concept_to_card(concept=('red', 'void', '-', '-'), card=('green', 'void', 'square', 'OXX')))\n",
    "print(match_concept_to_card(concept=('red', 'void', '-', '-'), card=('green', 'solid', 'square', 'OXX')))"
   ]
  },
  {
   "cell_type": "code",
   "execution_count": 56,
   "metadata": {},
   "outputs": [
    {
     "data": {
      "text/plain": [
       "{('blue', 'dashed', '-', '-'),\n",
       " ('blue', 'solid', '-', '-'),\n",
       " ('blue', 'void', '-', '-'),\n",
       " ('green', 'dashed', '-', '-'),\n",
       " ('green', 'solid', '-', '-'),\n",
       " ('green', 'void', '-', '-'),\n",
       " ('red', 'dashed', '-', '-'),\n",
       " ('red', 'solid', '-', '-')}"
      ]
     },
     "execution_count": 56,
     "metadata": {},
     "output_type": "execute_result"
    }
   ],
   "source": [
    "def find_notConcepts(concept, attr_order, attributes):\n",
    "    '''\n",
    "    Given a concept, find all its opposites.\n",
    "    \n",
    "    Arguments:\n",
    "        concept: tuple. ex.('red', 'void', '-', '-')\n",
    "        attr_order: tuple. ex.('colors', 'fills', 'shapes', 'configs')\n",
    "    Returns:\n",
    "        nonConcepts: list of tuples. ex.[\n",
    "                 ('red', 'dashed', '-', '-')\n",
    "                 ('red', 'solid', '-', '-')\n",
    "                 ('green', 'void', '-', '-')\n",
    "                 ('green', 'dashed', '-', '-')\n",
    "                 ('green', 'solid', '-', '-')\n",
    "                 ('blue', 'void', '-', '-')\n",
    "                 ('blue', 'dashed', '-', '-')\n",
    "                 ('blue', 'solid', '-', '-')                 \n",
    "        ]\n",
    "    '''\n",
    "    notConcepts = set()\n",
    "    \n",
    "    # ['colors', 'fills']\n",
    "    keep_attributes = list(attr for con, attr in zip(concept, attr_order) if con != '-')\n",
    "    # [['red', 'green', 'blue'], ['void', 'dashed', 'solid'], ['-'], ['-']]\n",
    "    keep_vals = [attributes[attr] if attr in keep_attributes else ['-'] for attr in attr_order]\n",
    "\n",
    "    for combo in itertools.product(*keep_vals):\n",
    "        if combo != concept:\n",
    "            notConcepts.add(combo)\n",
    "    \n",
    "    return notConcepts\n",
    "\n",
    "notConcepts = find_notConcepts(concept=('red', 'void', '-', '-'), attr_order=('color', 'fill', 'shape', 'config'), attributes=attributes)\n",
    "notConcepts"
   ]
  },
  {
   "cell_type": "code",
   "execution_count": 57,
   "metadata": {},
   "outputs": [
    {
     "data": {
      "text/plain": [
       "[('green', 'solid', 'triangle', 'XOX'),\n",
       " ('blue', 'dashed', 'triangle', 'XOX'),\n",
       " ('blue', 'void', 'triangle', 'XOX'),\n",
       " ('green', 'dashed', 'triangle', 'XOX'),\n",
       " ('blue', 'solid', 'triangle', 'XOX'),\n",
       " ('red', 'solid', 'triangle', 'XOX'),\n",
       " ('red', 'dashed', 'triangle', 'XOX'),\n",
       " ('green', 'void', 'triangle', 'XOX')]"
      ]
     },
     "execution_count": 57,
     "metadata": {},
     "output_type": "execute_result"
    }
   ],
   "source": [
    "def make_negative_cards(notConcepts, nonConcept):\n",
    "    negative_cards = []\n",
    "    for notC, nonC in itertools.product(notConcepts, [nonConcept]):\n",
    "        neg_card = tuple((x+y).strip('-') for x,y in zip(notC, nonC))\n",
    "        negative_cards.append(neg_card)\n",
    "    return negative_cards\n",
    "\n",
    "make_negative_cards(notConcepts, nonConcept=('-', '-', 'triangle', 'XOX'))"
   ]
  },
  {
   "cell_type": "code",
   "execution_count": null,
   "metadata": {},
   "outputs": [],
   "source": [
    "cards, card_to_idx, attrs_to_idx = generate_cards(attributes, attr_order)\n",
    "cardpairs = generate_card_pairs(cards, card_to_idx)\n",
    "\n",
    "# "
   ]
  },
  {
   "cell_type": "code",
   "execution_count": null,
   "metadata": {},
   "outputs": [],
   "source": [
    "def match_concept_to_card(concept, cards):\n",
    "    '''\n",
    "    Given a concept, return subset of cards that match.\n",
    "    \n",
    "    Arguments:\n",
    "        concept: ('red', 'void', '-', '-')\n",
    "        cards: list of all cards.\n",
    "    Returns:\n",
    "        matching_cards: list of cards.\n",
    "    '''\n",
    "    matching_cards = []\n",
    "    for card in cards:\n",
    "        # True, ('-', '-', 'triangle', 'XOX'), ('-', '-', '-', '-')\n",
    "        match_bool, nonConcept, violatedConcept = match_concept_to_card(concept, card)\n",
    "        if match_bool:\n",
    "            matching_cards.append(card)\n",
    "    return matching_cards\n",
    "\n"
   ]
  },
  {
   "cell_type": "code",
   "execution_count": null,
   "metadata": {},
   "outputs": [],
   "source": [
    "def gen_keys(cardpair):\n",
    "    card_idx_pair, concept = cardpair\n",
    "    pos_keys = \n",
    "    \n",
    "    return pos_keys, neg_keys"
   ]
  },
  {
   "cell_type": "code",
   "execution_count": null,
   "metadata": {},
   "outputs": [],
   "source": [
    "\n",
    "def gen_card_data(attributes, attr_order, num_val=100, num_test=100):\n",
    "    \n",
    "    cards, idx_to_card, card_to_idx, attrs_to_idx = generate_cards(attributes, attr_order)\n",
    "    cardpairs = generate_card_pairs(cards, card_to_idx)\n",
    "    \n",
    "    random.shuffle(cardpairs)\n",
    "    num_train = len(cardpairs) - num_val - num_test\n",
    "    train_cardpairs = cardpairs[:num_train]\n",
    "    valid_cardpairs = cardpairs[num_train:num_train+num_val]\n",
    "    test_cardpairs = cardpairs[-num_test:]\n",
    "    \n",
    "    for cardpair in test_cardpairs:\n",
    "    "
   ]
  }
 ],
 "metadata": {
  "kernelspec": {
   "display_name": "Python 3",
   "language": "python",
   "name": "python3"
  },
  "language_info": {
   "codemirror_mode": {
    "name": "ipython",
    "version": 3
   },
   "file_extension": ".py",
   "mimetype": "text/x-python",
   "name": "python",
   "nbconvert_exporter": "python",
   "pygments_lexer": "ipython3",
   "version": "3.8.3"
  }
 },
 "nbformat": 4,
 "nbformat_minor": 4
}

{
 "cells": [
  {
   "cell_type": "code",
   "execution_count": 1,
   "metadata": {},
   "outputs": [],
   "source": [
    "import numpy as np\n",
    "import itertools\n",
    "import time\n",
    "from collections import Counter"
   ]
  },
  {
   "cell_type": "code",
   "execution_count": 3,
   "metadata": {},
   "outputs": [],
   "source": [
    "attributes = {\n",
    "    'colors': ['red', 'green', 'blue'],\n",
    "    'textures': ['empty', 'dashed', 'solid'],\n",
    "    'shapes': ['square', 'circle', 'triang;e'],\n",
    "    'configs': ['XXO', 'XOX', 'OXX']\n",
    "}"
   ]
  },
  {
   "cell_type": "code",
   "execution_count": 5,
   "metadata": {},
   "outputs": [
    {
     "name": "stdout",
     "output_type": "stream",
     "text": [
      "81\n"
     ]
    },
    {
     "data": {
      "text/plain": [
       "[('red', 'empty', 'square', 'XXO'),\n",
       " ('red', 'empty', 'square', 'XOX'),\n",
       " ('red', 'empty', 'square', 'OXX'),\n",
       " ('red', 'empty', 'circle', 'XXO'),\n",
       " ('red', 'empty', 'circle', 'XOX'),\n",
       " ('red', 'empty', 'circle', 'OXX'),\n",
       " ('red', 'empty', 'triang;e', 'XXO'),\n",
       " ('red', 'empty', 'triang;e', 'XOX'),\n",
       " ('red', 'empty', 'triang;e', 'OXX'),\n",
       " ('red', 'dashed', 'square', 'XXO'),\n",
       " ('red', 'dashed', 'square', 'XOX'),\n",
       " ('red', 'dashed', 'square', 'OXX'),\n",
       " ('red', 'dashed', 'circle', 'XXO'),\n",
       " ('red', 'dashed', 'circle', 'XOX'),\n",
       " ('red', 'dashed', 'circle', 'OXX'),\n",
       " ('red', 'dashed', 'triang;e', 'XXO'),\n",
       " ('red', 'dashed', 'triang;e', 'XOX'),\n",
       " ('red', 'dashed', 'triang;e', 'OXX'),\n",
       " ('red', 'solid', 'square', 'XXO'),\n",
       " ('red', 'solid', 'square', 'XOX'),\n",
       " ('red', 'solid', 'square', 'OXX'),\n",
       " ('red', 'solid', 'circle', 'XXO'),\n",
       " ('red', 'solid', 'circle', 'XOX'),\n",
       " ('red', 'solid', 'circle', 'OXX'),\n",
       " ('red', 'solid', 'triang;e', 'XXO'),\n",
       " ('red', 'solid', 'triang;e', 'XOX'),\n",
       " ('red', 'solid', 'triang;e', 'OXX'),\n",
       " ('green', 'empty', 'square', 'XXO'),\n",
       " ('green', 'empty', 'square', 'XOX'),\n",
       " ('green', 'empty', 'square', 'OXX'),\n",
       " ('green', 'empty', 'circle', 'XXO'),\n",
       " ('green', 'empty', 'circle', 'XOX'),\n",
       " ('green', 'empty', 'circle', 'OXX'),\n",
       " ('green', 'empty', 'triang;e', 'XXO'),\n",
       " ('green', 'empty', 'triang;e', 'XOX'),\n",
       " ('green', 'empty', 'triang;e', 'OXX'),\n",
       " ('green', 'dashed', 'square', 'XXO'),\n",
       " ('green', 'dashed', 'square', 'XOX'),\n",
       " ('green', 'dashed', 'square', 'OXX'),\n",
       " ('green', 'dashed', 'circle', 'XXO'),\n",
       " ('green', 'dashed', 'circle', 'XOX'),\n",
       " ('green', 'dashed', 'circle', 'OXX'),\n",
       " ('green', 'dashed', 'triang;e', 'XXO'),\n",
       " ('green', 'dashed', 'triang;e', 'XOX'),\n",
       " ('green', 'dashed', 'triang;e', 'OXX'),\n",
       " ('green', 'solid', 'square', 'XXO'),\n",
       " ('green', 'solid', 'square', 'XOX'),\n",
       " ('green', 'solid', 'square', 'OXX'),\n",
       " ('green', 'solid', 'circle', 'XXO'),\n",
       " ('green', 'solid', 'circle', 'XOX'),\n",
       " ('green', 'solid', 'circle', 'OXX'),\n",
       " ('green', 'solid', 'triang;e', 'XXO'),\n",
       " ('green', 'solid', 'triang;e', 'XOX'),\n",
       " ('green', 'solid', 'triang;e', 'OXX'),\n",
       " ('blue', 'empty', 'square', 'XXO'),\n",
       " ('blue', 'empty', 'square', 'XOX'),\n",
       " ('blue', 'empty', 'square', 'OXX'),\n",
       " ('blue', 'empty', 'circle', 'XXO'),\n",
       " ('blue', 'empty', 'circle', 'XOX'),\n",
       " ('blue', 'empty', 'circle', 'OXX'),\n",
       " ('blue', 'empty', 'triang;e', 'XXO'),\n",
       " ('blue', 'empty', 'triang;e', 'XOX'),\n",
       " ('blue', 'empty', 'triang;e', 'OXX'),\n",
       " ('blue', 'dashed', 'square', 'XXO'),\n",
       " ('blue', 'dashed', 'square', 'XOX'),\n",
       " ('blue', 'dashed', 'square', 'OXX'),\n",
       " ('blue', 'dashed', 'circle', 'XXO'),\n",
       " ('blue', 'dashed', 'circle', 'XOX'),\n",
       " ('blue', 'dashed', 'circle', 'OXX'),\n",
       " ('blue', 'dashed', 'triang;e', 'XXO'),\n",
       " ('blue', 'dashed', 'triang;e', 'XOX'),\n",
       " ('blue', 'dashed', 'triang;e', 'OXX'),\n",
       " ('blue', 'solid', 'square', 'XXO'),\n",
       " ('blue', 'solid', 'square', 'XOX'),\n",
       " ('blue', 'solid', 'square', 'OXX'),\n",
       " ('blue', 'solid', 'circle', 'XXO'),\n",
       " ('blue', 'solid', 'circle', 'XOX'),\n",
       " ('blue', 'solid', 'circle', 'OXX'),\n",
       " ('blue', 'solid', 'triang;e', 'XXO'),\n",
       " ('blue', 'solid', 'triang;e', 'XOX'),\n",
       " ('blue', 'solid', 'triang;e', 'OXX')]"
      ]
     },
     "execution_count": 5,
     "metadata": {},
     "output_type": "execute_result"
    }
   ],
   "source": [
    "cards = []\n",
    "for color in attributes['colors']:\n",
    "    for texture in attributes['textures']:\n",
    "        for shape in attributes['shapes']:\n",
    "            for config in attributes['configs']:\n",
    "                cards.append((color, texture, shape, config))\n",
    "            \n",
    "print(len(cards))\n",
    "cards"
   ]
  },
  {
   "cell_type": "code",
   "execution_count": null,
   "metadata": {},
   "outputs": [],
   "source": [
    "for config in configs:\n",
    "    "
   ]
  }
 ],
 "metadata": {
  "kernelspec": {
   "display_name": "Python 3",
   "language": "python",
   "name": "python3"
  },
  "language_info": {
   "codemirror_mode": {
    "name": "ipython",
    "version": 3
   },
   "file_extension": ".py",
   "mimetype": "text/x-python",
   "name": "python",
   "nbconvert_exporter": "python",
   "pygments_lexer": "ipython3",
   "version": "3.8.5"
  }
 },
 "nbformat": 4,
 "nbformat_minor": 4
}

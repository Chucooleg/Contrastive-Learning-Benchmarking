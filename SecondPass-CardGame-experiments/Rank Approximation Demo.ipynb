{
 "cells": [
  {
   "cell_type": "code",
   "execution_count": 3,
   "id": "danish-franchise",
   "metadata": {},
   "outputs": [],
   "source": [
    "import numpy as np\n",
    "import matplotlib.pyplot as plt"
   ]
  },
  {
   "cell_type": "code",
   "execution_count": 47,
   "id": "pediatric-delta",
   "metadata": {},
   "outputs": [
    {
     "name": "stdout",
     "output_type": "stream",
     "text": [
      "Entropy =  2.3037111486301627\n",
      "KL divergence =  0.0\n"
     ]
    },
    {
     "data": {
      "text/plain": [
       "<matplotlib.image.AxesImage at 0x7faad6c042e0>"
      ]
     },
     "execution_count": 47,
     "metadata": {},
     "output_type": "execute_result"
    },
    {
     "data": {
      "image/png": "[encoded data removed]",
      "text/plain": [
       "<Figure size 432x288 with 1 Axes>"
      ]
     },
     "metadata": {
      "needs_background": "light"
     },
     "output_type": "display_data"
    }
   ],
   "source": [
    "size = 10\n",
    "xy = np.zeros((size,size))\n",
    "for i in range(10):\n",
    "    xy[i,i] = 1.0 \n",
    "    \n",
    "xy += 0.00001\n",
    "xy /= np.sum(xy)\n",
    "gt_xy = xy\n",
    "\n",
    "print('Entropy = ', -np.sum(xy * np.log(xy)))\n",
    "print('KL divergence = ', np.sum(np.where(gt_xy != 0, gt_xy * np.log(gt_xy / xy), 0)))\n",
    "\n",
    "plt.imshow(xy)"
   ]
  },
  {
   "cell_type": "code",
   "execution_count": 68,
   "id": "every-politics",
   "metadata": {},
   "outputs": [
    {
     "name": "stdout",
     "output_type": "stream",
     "text": [
      "u_repr.shape (10, 2)\n",
      "vh_repr.shape (2, 10)\n",
      "Entropy =  4.6051197673943\n",
      "KL divergence =  2.291511236788041\n"
     ]
    },
    {
     "data": {
      "text/plain": [
       "<matplotlib.image.AxesImage at 0x7faad674f820>"
      ]
     },
     "execution_count": 68,
     "metadata": {},
     "output_type": "execute_result"
    },
    {
     "data": {
      "image/png": "[encoded data removed]",
      "text/plain": [
       "<Figure size 432x288 with 1 Axes>"
      ]
     },
     "metadata": {
      "needs_background": "light"
     },
     "output_type": "display_data"
    }
   ],
   "source": [
    "d_model = 2\n",
    "\n",
    "u,s,vh = np.linalg.svd(xy, full_matrices=False)\n",
    "plt.plot(s)\n",
    "\n",
    "u_repr = np.matmul(u[:, :d_model], np.diag(s[:d_model]))\n",
    "vh_repr = vh[:d_model, :]\n",
    "print('u_repr.shape', u_repr.shape)\n",
    "print('vh_repr.shape', vh_repr.shape)\n",
    "\n",
    "reconstruct = np.exp(np.matmul(u_repr, vh_repr))\n",
    "reconstruct_normalized = reconstruct / np.sum(reconstruct)\n",
    "\n",
    "print('Entropy = ', -np.sum(reconstruct_normalized * np.log(reconstruct_normalized)))\n",
    "print('KL divergence = ', np.sum(np.where(gt_xy != 0, gt_xy * np.log(gt_xy / reconstruct_normalized), 0)))\n",
    "\n",
    "plt.imshow(reconstruct_normalized)"
   ]
  },
  {
   "cell_type": "code",
   "execution_count": 74,
   "id": "metric-cologne",
   "metadata": {},
   "outputs": [
    {
     "name": "stdout",
     "output_type": "stream",
     "text": [
      "u_repr.shape (10, 9)\n",
      "vh_repr.shape (9, 10)\n",
      "Entropy =  nan\n",
      "KL divergence =  nan\n"
     ]
    },
    {
     "name": "stderr",
     "output_type": "stream",
     "text": [
      "<ipython-input-74-10bd8fc59ad4>:14: RuntimeWarning: invalid value encountered in log\n",
      "  print('Entropy = ', -np.sum(reconstruct_normalized * np.log(reconstruct_normalized)))\n",
      "<ipython-input-74-10bd8fc59ad4>:15: RuntimeWarning: invalid value encountered in log\n",
      "  print('KL divergence = ', np.sum(np.where(gt_xy != 0, gt_xy * np.log(gt_xy / reconstruct_normalized), 0)))\n"
     ]
    },
    {
     "data": {
      "text/plain": [
       "<matplotlib.image.AxesImage at 0x7faad6511ac0>"
      ]
     },
     "execution_count": 74,
     "metadata": {},
     "output_type": "execute_result"
    },
    {
     "data": {
      "image/png": "[encoded data removed]",
      "text/plain": [
       "<Figure size 432x288 with 1 Axes>"
      ]
     },
     "metadata": {
      "needs_background": "light"
     },
     "output_type": "display_data"
    }
   ],
   "source": [
    "d_model = 9\n",
    "\n",
    "u,s,vh = np.linalg.svd(xy, full_matrices=False)\n",
    "plt.plot(s)\n",
    "\n",
    "u_repr = np.matmul(u[:, :d_model], np.diag(s[:d_model]))\n",
    "vh_repr = vh[:d_model, :]\n",
    "print('u_repr.shape', u_repr.shape)\n",
    "print('vh_repr.shape', vh_repr.shape)\n",
    "\n",
    "reconstruct = np.matmul(u_repr, vh_repr)\n",
    "reconstruct_normalized = reconstruct / np.sum(reconstruct)\n",
    "\n",
    "print('Entropy = ', -np.sum(reconstruct_normalized * np.log(reconstruct_normalized)))\n",
    "print('KL divergence = ', np.sum(np.where(gt_xy != 0, gt_xy * np.log(gt_xy / reconstruct_normalized), 0)))\n",
    "\n",
    "plt.imshow(reconstruct_normalized)"
   ]
  },
  {
   "cell_type": "code",
   "execution_count": null,
   "id": "duplicate-round",
   "metadata": {},
   "outputs": [],
   "source": []
  }
 ],
 "metadata": {
  "kernelspec": {
   "display_name": "Python 3",
   "language": "python",
   "name": "python3"
  },
  "language_info": {
   "codemirror_mode": {
    "name": "ipython",
    "version": 3
   },
   "file_extension": ".py",
   "mimetype": "text/x-python",
   "name": "python",
   "nbconvert_exporter": "python",
   "pygments_lexer": "ipython3",
   "version": "3.8.3"
  }
 },
 "nbformat": 4,
 "nbformat_minor": 5
}

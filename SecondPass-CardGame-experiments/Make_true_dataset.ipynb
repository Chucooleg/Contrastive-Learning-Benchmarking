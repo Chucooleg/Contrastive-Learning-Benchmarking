{
 "cells": [
  {
   "cell_type": "code",
   "execution_count": 1,
   "id": "assisted-gazette",
   "metadata": {},
   "outputs": [
    {
     "name": "stderr",
     "output_type": "stream",
     "text": [
      "\u001b[34m\u001b[1mwandb\u001b[0m: Currently logged in as: \u001b[33mchucooleg\u001b[0m (use `wandb login --relogin` to force relogin)\n"
     ]
    }
   ],
   "source": [
    "%load_ext autoreload\n",
    "%autoreload 2\n",
    "\n",
    "import os\n",
    "import json\n",
    "import main\n",
    "import random\n",
    "import numpy as np\n",
    "from argparse import ArgumentDefaultsHelpFormatter, ArgumentParser"
   ]
  },
  {
   "cell_type": "code",
   "execution_count": 2,
   "id": "selected-boxing",
   "metadata": {},
   "outputs": [],
   "source": [
    "# arguments\n",
    "parser = ArgumentParser(formatter_class=ArgumentDefaultsHelpFormatter)\n",
    "args = parser.parse_args('')\n",
    "\n",
    "args.data_path = '../Raw_Datasets/3Attr-4Vals-2hat23Train-2hat12Val.json'\n",
    "args.config_path = 'config.json'\n",
    "args.mode = 'train'\n",
    "args.generate_full_matrix = True"
   ]
  },
  {
   "cell_type": "code",
   "execution_count": 3,
   "id": "powerful-shark",
   "metadata": {
    "scrolled": true
   },
   "outputs": [
    {
     "name": "stdout",
     "output_type": "stream",
     "text": [
      "---------data----------\n",
      "num_attributes : 3\n",
      "num_attr_vals : 4\n",
      "key_support_size : 65\n",
      "query_support_size : 4096\n",
      "train_datapoints length : 8388608\n",
      "val_datapoints length : 4096\n",
      "sparsity_estimate : 0.17980795755722673\n",
      "-----------------------\n",
      "----------hparams----------\n",
      "seed : 42\n",
      "batch_size : 128\n",
      "max_epochs : 1\n",
      "d_model : 128\n",
      "embed_dropout : 0.0\n",
      "model : contrastive\n",
      "embedding_by_property : False\n",
      "encoder : lookup\n",
      "decoder : lookup\n",
      "d_ff : 1024\n",
      "num_heads : 1\n",
      "N_enc : 2\n",
      "N_dec : 2\n",
      "attn_wt_tying_scheme : untie_QKVO_zero_O\n",
      "attn_wt_dropout : 0.0\n",
      "heads_dropout : 0.0\n",
      "pff_dropout : 0.0\n",
      "representation_pos : 0\n",
      "dotproduct_bottleneck : True\n",
      "loss_temperature_const : 1.0\n",
      "loss_smoothing_const : 0.1\n",
      "nonlinear_classifier_scale_down_factor : [2, 1]\n",
      "adam_lr : 0.001\n",
      "adam_beta1 : 0.9\n",
      "adam_beta2 : 0.999\n",
      "adam_epsilon : 1e-08\n",
      "adam_weight_decay : 0\n",
      "scheduled_adam_beta1 : 0.9\n",
      "scheduled_adam_beta2 : 0.98\n",
      "scheduled_adam_epsilon : 1e-09\n",
      "scheduled_adam_warmup_steps : 4000\n",
      "gradient_clip_val : 0\n",
      "debug : False\n",
      "key_support_size : 65\n",
      "query_support_size : 4096\n",
      "num_attributes : 3\n",
      "num_attr_vals : 4\n",
      "num_cards_per_query : 2\n",
      "vocab_size : 17\n",
      "NULL : 12\n",
      "SEP : 13\n",
      "SOS : 14\n",
      "EOS : 15\n",
      "PAD : 16\n",
      "populate_logits_matrix : True\n",
      "len_q : 1\n",
      "len_k : 1\n",
      "---------------------------\n"
     ]
    }
   ],
   "source": [
    "game_data_disk = main.load_data(args.data_path)\n",
    "main.validate_data(game_data_disk)\n",
    "hparams = main.load_hparams(args, game_data_disk)"
   ]
  },
  {
   "cell_type": "code",
   "execution_count": 5,
   "id": "amended-stranger",
   "metadata": {},
   "outputs": [
    {
     "name": "stdout",
     "output_type": "stream",
     "text": [
      "Generating Full Matrix\n",
      "Generated 65 unqiue cards\n",
      "Generated 4096 cardpairs\n",
      "-- 2368 cardpairs with shared concept\n",
      "-- 1728 cardpairs without shared concept\n",
      "Number of cardpairs per shared concept [(1, 1728), (0, 1728), (2, 576), (3, 64)]\n",
      "Total number of matches =  47872\n",
      "Number of matches per key concept hit =  [(1, 43200), (2, 2880), (0, 1728), (3, 64)]\n",
      "{'shape': (65, 4096), 'size': 266240, 'sparsity': 0.1798076923076923, 'xy_rank': 65, 'xy_div_xyind_rank': 65}\n"
     ]
    }
   ],
   "source": [
    "gt = main.gen_full_matrix(hparams)\n",
    "x, y = np.nonzero(gt['count_table'])\n",
    "assert x.shape == y.shape\n",
    "\n",
    "game_data_true = game_data_disk.copy()\n",
    "true_points = [(int(ypt), int(xpt)) for xpt, ypt in zip(x, y)]\n",
    "random.shuffle(true_points)\n",
    "game_data_true['train_datapoints'] = true_points\n",
    "game_data_true['val_datapoints'] = true_points[:1024]"
   ]
  },
  {
   "cell_type": "code",
   "execution_count": 6,
   "id": "unexpected-statement",
   "metadata": {
    "scrolled": true
   },
   "outputs": [],
   "source": [
    "save_path = '../Raw_Datasets/3Attr-4Vals-True.json'\n",
    "with open(save_path, 'w') as f:\n",
    "    json.dump(game_data_true, f)"
   ]
  },
  {
   "cell_type": "code",
   "execution_count": 7,
   "id": "contained-request",
   "metadata": {},
   "outputs": [
    {
     "data": {
      "text/plain": [
       "47872"
      ]
     },
     "execution_count": 7,
     "metadata": {},
     "output_type": "execute_result"
    }
   ],
   "source": [
    "len(game_data_true['train_datapoints'])"
   ]
  },
  {
   "cell_type": "code",
   "execution_count": 8,
   "id": "daily-setting",
   "metadata": {},
   "outputs": [],
   "source": [
    "import torch"
   ]
  },
  {
   "cell_type": "code",
   "execution_count": 13,
   "id": "adolescent-knight",
   "metadata": {},
   "outputs": [
    {
     "data": {
      "text/plain": [
       "tensor([[ 0, -4,  0],\n",
       "        [ 0, -4,  3]])"
      ]
     },
     "execution_count": 13,
     "metadata": {},
     "output_type": "execute_result"
    }
   ],
   "source": [
    "a = torch.tensor([1,6,3])\n",
    "b = torch.tensor([[1,2,3], [1,2,6]])\n",
    "b - a.unsqueeze(0)"
   ]
  },
  {
   "cell_type": "code",
   "execution_count": 14,
   "id": "brief-decimal",
   "metadata": {},
   "outputs": [
    {
     "data": {
      "text/plain": [
       "tensor([[ 0,  4,  0],\n",
       "        [ 0,  4, -3]])"
      ]
     },
     "execution_count": 14,
     "metadata": {},
     "output_type": "execute_result"
    }
   ],
   "source": [
    "a - b"
   ]
  },
  {
   "cell_type": "code",
   "execution_count": 15,
   "id": "described-fashion",
   "metadata": {},
   "outputs": [
    {
     "data": {
      "text/plain": [
       "tensor(6.4031)"
      ]
     },
     "execution_count": 15,
     "metadata": {},
     "output_type": "execute_result"
    }
   ],
   "source": [
    "(torch.sum((a.unsqueeze(0) - b)**2))**(1/2)"
   ]
  },
  {
   "cell_type": "code",
   "execution_count": 17,
   "id": "chubby-geography",
   "metadata": {},
   "outputs": [
    {
     "data": {
      "text/plain": [
       "tensor(41)"
      ]
     },
     "execution_count": 17,
     "metadata": {},
     "output_type": "execute_result"
    }
   ],
   "source": [
    "torch.sum((a.unsqueeze(0) - b)**2)"
   ]
  },
  {
   "cell_type": "code",
   "execution_count": 22,
   "id": "wrong-support",
   "metadata": {},
   "outputs": [
    {
     "data": {
      "text/plain": [
       "tensor([4., 5.])"
      ]
     },
     "execution_count": 22,
     "metadata": {},
     "output_type": "execute_result"
    }
   ],
   "source": [
    "(torch.sum((a.unsqueeze(0) - b)**2, dim=-1))**(1/2)"
   ]
  },
  {
   "cell_type": "code",
   "execution_count": 21,
   "id": "scheduled-perfume",
   "metadata": {},
   "outputs": [
    {
     "data": {
      "text/plain": [
       "tensor([4., 5.])"
      ]
     },
     "execution_count": 21,
     "metadata": {},
     "output_type": "execute_result"
    }
   ],
   "source": [
    "torch.sum((a.unsqueeze(0) - b)**2, dim=-1)**(1/2)"
   ]
  },
  {
   "cell_type": "code",
   "execution_count": null,
   "id": "recognized-royalty",
   "metadata": {},
   "outputs": [],
   "source": []
  }
 ],
 "metadata": {
  "kernelspec": {
   "display_name": "Python 3",
   "language": "python",
   "name": "python3"
  },
  "language_info": {
   "codemirror_mode": {
    "name": "ipython",
    "version": 3
   },
   "file_extension": ".py",
   "mimetype": "text/x-python",
   "name": "python",
   "nbconvert_exporter": "python",
   "pygments_lexer": "ipython3",
   "version": "3.8.3"
  }
 },
 "nbformat": 4,
 "nbformat_minor": 5
}

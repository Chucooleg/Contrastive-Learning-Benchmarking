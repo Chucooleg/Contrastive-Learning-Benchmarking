{
 "cells": [
  {
   "cell_type": "code",
   "execution_count": 4,
   "id": "serial-liability",
   "metadata": {},
   "outputs": [],
   "source": [
    "%load_ext autoreload\n",
    "%autoreload 2\n",
    "\n",
    "from collections import defaultdict, Counter\n",
    "import numpy as np\n",
    "import itertools\n",
    "import copy\n",
    "import matplotlib.pyplot as plt\n",
    "import json\n",
    "import time\n",
    "from dataraw_sampling import sample_queries, resolve_eval_expression, decode_key_to_vocab_token"
   ]
  },
  {
   "cell_type": "code",
   "execution_count": 14,
   "id": "accessory-illustration",
   "metadata": {
    "scrolled": true
   },
   "outputs": [
    {
     "name": "stdout",
     "output_type": "stream",
     "text": [
      "Sample Time for 6144 datapoints = 138.9612045288086 seconds\n",
      "Saving Time for 6144 datapoints = 29.92409658432007 seconds\n"
     ]
    }
   ],
   "source": [
    "num_attributes=6; num_attr_vals=3; query_length_multiplier=2; nest_depth_int=4; multiple_OR_sets_bool=True\n",
    "N_train=2048; N_val=2048; N_test=2048\n",
    "\n",
    "expression_resolve_fn = resolve_eval_expression\n",
    "\n",
    "sample_start_time = time.time()\n",
    "data, stats = sample_queries(\n",
    "    num_attributes, query_length_multiplier, nest_depth_int, multiple_OR_sets_bool, \n",
    "    expression_resolve_fn,\n",
    "    N_train, N_val, N_test,\n",
    "    debug=False)\n",
    "sample_end_time = time.time()\n",
    "\n",
    "print(f'Sample Time for {N_train+N_val+N_test} datapoints = {sample_end_time-sample_start_time} seconds')\n",
    "\n",
    "\n",
    "save_start_time = time.time()\n",
    "filename = '../Raw_Datasets/SET/{}Attr-{}Vals-{}LenMultiplier-{}NestDepth-{}Train-{}Val-{}Test.json'.format(\n",
    "    num_attributes, num_attr_vals, query_length_multiplier, nest_depth_int, N_train, N_val, N_test)\n",
    "with open(filename, 'w') as f:\n",
    "    json.dump(data, f)\n",
    "save_end_time = time.time()\n",
    "\n",
    "filename = '../Raw_Datasets/SET/{}Attr-{}Vals-{}LenMultiplier-{}NestDepth-{}Train-{}Val-{}Test-Stats.json'.format(\n",
    "    num_attributes, num_attr_vals, query_length_multiplier, nest_depth_int, N_train, N_val, N_test)\n",
    "with open(filename, 'w') as f:\n",
    "    json.dump(stats, f)\n",
    "save_end_time = time.time()\n",
    "\n",
    "print(f'Saving Time for {N_train+N_val+N_test} datapoints = {save_end_time-save_start_time} seconds')"
   ]
  },
  {
   "cell_type": "code",
   "execution_count": 2,
   "id": "turned-radiation",
   "metadata": {},
   "outputs": [
    {
     "data": {
      "text/plain": [
       "45.30824789846385"
      ]
     },
     "execution_count": 2,
     "metadata": {},
     "output_type": "execute_result"
    }
   ],
   "source": [
    "# num_attributes=4; num_attr_vals=3; query_length_multiplier=9; nest_depth_int=1; multiple_OR_sets_bool=True\n",
    "# N_train=1024; N_val=1024; N_test=1024\n",
    "\n",
    "16e6 / 3072 * 31.317060947418213 / 3600"
   ]
  },
  {
   "cell_type": "code",
   "execution_count": 6,
   "id": "distant-exhaust",
   "metadata": {},
   "outputs": [
    {
     "data": {
      "text/plain": [
       "12.486471484104792"
      ]
     },
     "execution_count": 6,
     "metadata": {},
     "output_type": "execute_result"
    }
   ],
   "source": [
    "# num_attributes=4; num_attr_vals=3; query_length_multiplier=3; nest_depth_int=1; multiple_OR_sets_bool=True\n",
    "# N_train=1024; N_val=1024; N_test=1024\n",
    "\n",
    "16e6 / 3072 * 8.630649089813232 / 3600"
   ]
  },
  {
   "cell_type": "code",
   "execution_count": 8,
   "id": "capital-reasoning",
   "metadata": {},
   "outputs": [
    {
     "data": {
      "text/plain": [
       "7.680026400420401"
      ]
     },
     "execution_count": 8,
     "metadata": {},
     "output_type": "execute_result"
    }
   ],
   "source": [
    "# num_attributes=4; num_attr_vals=3; query_length_multiplier=2; nest_depth_int=1; multiple_OR_sets_bool=True\n",
    "# N_train=1024; N_val=1024; N_test=1024\n",
    "\n",
    "16e6 / 3072 * 5.308434247970581 / 3600"
   ]
  },
  {
   "cell_type": "code",
   "execution_count": 11,
   "id": "referenced-rehabilitation",
   "metadata": {},
   "outputs": [
    {
     "data": {
      "text/plain": [
       "5.610306505803708"
      ]
     },
     "execution_count": 11,
     "metadata": {},
     "output_type": "execute_result"
    }
   ],
   "source": [
    "# num_attributes=4; num_attr_vals=3; query_length_multiplier=2; nest_depth_int=4; multiple_OR_sets_bool=True\n",
    "# N_train=1024; N_val=1024; N_test=1024\n",
    "\n",
    "16e6 / 3072 * 3.8778438568115234 / 3600"
   ]
  },
  {
   "cell_type": "code",
   "execution_count": 15,
   "id": "individual-mission",
   "metadata": {},
   "outputs": [
    {
     "data": {
      "text/plain": [
       "201.04340932987353"
      ]
     },
     "execution_count": 15,
     "metadata": {},
     "output_type": "execute_result"
    }
   ],
   "source": [
    "# num_attributes=4; num_attr_vals=3; query_length_multiplier=2; nest_depth_int=4; multiple_OR_sets_bool=True\n",
    "# N_train=2048; N_val=2048; N_test=2048\n",
    "\n",
    "16e6 / 3072 * 138.9612045288086 / 3600"
   ]
  },
  {
   "cell_type": "code",
   "execution_count": null,
   "id": "pediatric-tobacco",
   "metadata": {},
   "outputs": [],
   "source": [
    "# num_attributes=6; num_attr_vals=3; query_length_multiplier=2; nest_depth_int=4; multiple_OR_sets_bool=True\n",
    "# N_train=2048; N_val=2048; N_test=2048\n",
    "\n",
    "16e6 / 3072 * 7.696515083312988 / 3600"
   ]
  },
  {
   "cell_type": "code",
   "execution_count": null,
   "id": "arabic-final",
   "metadata": {},
   "outputs": [],
   "source": [
    "# num_attributes=4; num_attr_vals=3; nest_depth = 4; num_cards multiple 2\n",
    "16000000 / 1000 * 1.32326340675354 / 3600"
   ]
  }
 ],
 "metadata": {
  "kernelspec": {
   "display_name": "Python 3",
   "language": "python",
   "name": "python3"
  },
  "language_info": {
   "codemirror_mode": {
    "name": "ipython",
    "version": 3
   },
   "file_extension": ".py",
   "mimetype": "text/x-python",
   "name": "python",
   "nbconvert_exporter": "python",
   "pygments_lexer": "ipython3",
   "version": "3.8.3"
  }
 },
 "nbformat": 4,
 "nbformat_minor": 5
}

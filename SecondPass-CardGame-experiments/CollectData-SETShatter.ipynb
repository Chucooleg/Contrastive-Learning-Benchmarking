{
 "cells": [
  {
   "cell_type": "code",
   "execution_count": 29,
   "id": "physical-television",
   "metadata": {},
   "outputs": [
    {
     "name": "stdout",
     "output_type": "stream",
     "text": [
      "The autoreload extension is already loaded. To reload it, use:\n",
      "  %reload_ext autoreload\n"
     ]
    }
   ],
   "source": [
    "%load_ext autoreload\n",
    "%autoreload 2\n",
    "\n",
    "from collections import defaultdict, Counter\n",
    "import numpy as np\n",
    "import itertools\n",
    "import copy\n",
    "import matplotlib.pyplot as plt\n",
    "import json\n",
    "import time\n",
    "from dataraw_sampling import (sample_queries, \n",
    "                                         sample_one_training_datapoint, \n",
    "                                         construct_cardpair_answer_lookup, \n",
    "                                         sample_queries, resolve_eval_expression, \n",
    "                                         decode_key_to_vocab_token)"
   ]
  },
  {
   "cell_type": "markdown",
   "id": "norman-arnold",
   "metadata": {},
   "source": [
    "## SET Shatter"
   ]
  },
  {
   "cell_type": "code",
   "execution_count": 23,
   "id": "fiscal-drawing",
   "metadata": {},
   "outputs": [
    {
     "name": "stderr",
     "output_type": "stream",
     "text": [
      "100%|██████████| 10240/10240 [01:15<00:00, 134.80it/s]\n"
     ]
    },
    {
     "name": "stdout",
     "output_type": "stream",
     "text": [
      "Sample Time for 10240 datapoints = 76.05536222457886 seconds\n",
      "Saving Time for 10240 datapoints = 1.156684160232544 seconds\n"
     ]
    }
   ],
   "source": [
    "# Simple Shatter\n",
    "\n",
    "num_attributes=4; num_attr_vals=3; query_length_multiplier=1; nest_depth_int=1; multiple_OR_sets_bool=True\n",
    "N_train=0; N_val=5120; N_test=5120\n",
    "\n",
    "expression_resolve_fn = resolve_eval_expression\n",
    "\n",
    "sample_start_time = time.time()\n",
    "data, stats = sample_queries(\n",
    "    num_attributes, query_length_multiplier, nest_depth_int, multiple_OR_sets_bool, \n",
    "    expression_resolve_fn,\n",
    "    N_train, N_val, N_test,\n",
    "    validate=True,\n",
    "    debug=False)\n",
    "sample_end_time = time.time()\n",
    "\n",
    "print(f'Sample Time for {N_train+N_val+N_test} datapoints = {sample_end_time-sample_start_time} seconds')\n",
    "\n",
    "\n",
    "save_start_time = time.time()\n",
    "filename1 = '../Raw_Datasets/SET/SETShatter-{}Attr-{}Vals-{}LenMultiplier-{}NestDepth-{}Train-{}Val-{}Test.json'.format(\n",
    "    num_attributes, num_attr_vals, query_length_multiplier, nest_depth_int, N_train, N_val, N_test)\n",
    "with open(filename1, 'w') as f:\n",
    "    json.dump(data, f)\n",
    "save_end_time = time.time()\n",
    "\n",
    "filename = '../Raw_Datasets/SET/SETShatter-{}Attr-{}Vals-{}LenMultiplier-{}NestDepth-{}Train-{}Val-{}Test-Stats.json'.format(\n",
    "    num_attributes, num_attr_vals, query_length_multiplier, nest_depth_int, N_train, N_val, N_test)\n",
    "with open(filename, 'w') as f:\n",
    "    json.dump(stats, f)\n",
    "save_end_time = time.time()\n",
    "\n",
    "print(f'Saving Time for {N_train+N_val+N_test} datapoints = {save_end_time-save_start_time} seconds')"
   ]
  },
  {
   "cell_type": "code",
   "execution_count": 28,
   "id": "broad-today",
   "metadata": {},
   "outputs": [
    {
     "data": {
      "text/plain": [
       "[54]"
      ]
     },
     "execution_count": 28,
     "metadata": {},
     "output_type": "execute_result"
    }
   ],
   "source": [
    "data['val_tokens'][0][1]"
   ]
  },
  {
   "cell_type": "code",
   "execution_count": 35,
   "id": "matched-glucose",
   "metadata": {},
   "outputs": [
    {
     "data": {
      "text/plain": [
       "'../Raw_Datasets/SET/SETShatter-4Attr-3Vals-1LenMultiplier-1NestDepth-0Train-5120Val-5120Test.json'"
      ]
     },
     "execution_count": 35,
     "metadata": {},
     "output_type": "execute_result"
    }
   ],
   "source": [
    "filename1"
   ]
  },
  {
   "cell_type": "code",
   "execution_count": 8,
   "id": "numerical-portsmouth",
   "metadata": {},
   "outputs": [
    {
     "data": {
      "text/plain": [
       "'../Raw_Datasets/SET/SETShatter-3Attr-3Vals-1LenMultiplier-1NestDepth-0Train-5120Val-5120Test.json'"
      ]
     },
     "execution_count": 8,
     "metadata": {},
     "output_type": "execute_result"
    }
   ],
   "source": [
    "filename1"
   ]
  },
  {
   "cell_type": "markdown",
   "id": "running-poland",
   "metadata": {},
   "source": [
    "## SET Shatter - one datapoint only"
   ]
  },
  {
   "cell_type": "code",
   "execution_count": 30,
   "id": "approved-ballet",
   "metadata": {},
   "outputs": [
    {
     "name": "stdout",
     "output_type": "stream",
     "text": [
      "\n",
      "gt_keys_idx [9, 18]\n",
      "\n",
      "gt key properties [array([1, 0, 0]), array([2, 0, 0])]\n",
      "\n",
      "flat_card_indices [['OR', 24, 17], 22, ['OR', 21, 25], ['OR', 13, 12], ['OR', 5, 10], 26, ['OR', 9, 13], 18, ['OR', 2, 25], 4, ['OR', 14, 19], 6, ['OR', 15, 1], ['OR', 16, 18], 'DERIVE', 6, 9]\n",
      "\n",
      "query_eval_expression ['AND', ['OR', 24, 17], 22, ['OR', 21, 25], ['OR', 13, 12], ['OR', 5, 10], 26, ['OR', 9, 13], 18, ['OR', 2, 25], 4, ['OR', 14, 19], 6, ['OR', 15, 1], ['OR', 16, 18], 'DERIVE', 6, 9]\n",
      "\n",
      "query_input_expression ['(', '(', 24, '|', 17, ')', '&', 22, '&', '(', 21, '|', 25, ')', '&', '(', 13, '|', 12, ')', '&', '(', 5, '|', 10, ')', '&', 26, '&', '(', 9, '|', 13, ')', '&', 18, '&', '(', 2, '|', 25, ')', '&', 4, '&', '(', 14, '|', 19, ')', '&', 6, '&', '(', 15, '|', 1, ')', '&', '(', 16, '|', 18, ')', '&', 'DERIVE', '&', 6, '&', 9, ')']\n",
      "lhs_expression ['AND', ['OR', 24, 17], 22, ['OR', 21, 25], ['OR', 13, 12], ['OR', 5, 10], 26, ['OR', 9, 13], 18, ['OR', 2, 25], 4, ['OR', 14, 19], 6, ['OR', 15, 1], ['OR', 16, 18], 'DERIVE', 6, 9]\n",
      "right_of_derive: [6, 9]\n",
      "rhs after solving right_of_derive: ['OR', 21, 3]\n",
      "left_of_derive: ['AND', ['OR', 24, 17], 22, ['OR', 21, 25], ['OR', 13, 12], ['OR', 5, 10], 26, ['OR', 9, 13], 18, ['OR', 2, 25], 4, ['OR', 14, 19], 6, ['OR', 15, 1], ['OR', 16, 18]]\n",
      "left_evaluated: ['OR', 9, 15]\n",
      "rhs after solving rhs with left_of_derive: ['OR', 6, 18]\n",
      "\n",
      "query_eval_expression ['AND', ['OR', 24, 17], 22, ['OR', 21, 25], ['OR', 13, 12], ['OR', 5, 10], 26, ['OR', 9, 13], 18, ['OR', 2, 25], 4, ['OR', 14, 19], 6, ['OR', 15, 1], ['OR', 16, 18], 'DERIVE', 6, 9]\n",
      "\n",
      "query_input_expression ['(', '(', 24, '|', 17, ')', '&', 22, '&', '(', 21, '|', 25, ')', '&', '(', 13, '|', 12, ')', '&', '(', 5, '|', 10, ')', '&', 26, '&', '(', 9, '|', 13, ')', '&', 18, '&', '(', 2, '|', 25, ')', '&', 4, '&', '(', 14, '|', 19, ')', '&', 6, '&', '(', 15, '|', 1, ')', '&', '(', 16, '|', 18, ')', '&', 'DERIVE', '&', 6, '&', 9, ')']\n",
      "\n",
      "DERIVE ['OR', 6, 18]\n",
      "\n",
      "substituted query_input_expression ((24|17)&22&(21|25)&(13|12)&(5|10)&26&(9|13)&18&(2|25)&4&(14|19)&6&(15|1)&(16|18)&(6|18)&6&9)\n",
      "\n",
      "eval_expression_properties ['AND', ['OR', array([2, 2, 0]), array([1, 2, 2])], array([2, 1, 1]), ['OR', array([2, 1, 0]), array([2, 2, 1])], ['OR', array([1, 1, 1]), array([1, 1, 0])], ['OR', array([0, 1, 2]), array([1, 0, 1])], array([2, 2, 2]), ['OR', array([1, 0, 0]), array([1, 1, 1])], array([2, 0, 0]), ['OR', array([0, 0, 2]), array([2, 2, 1])], array([0, 1, 1]), ['OR', array([1, 1, 2]), array([2, 0, 1])], array([0, 2, 0]), ['OR', array([1, 2, 0]), array([0, 0, 1])], ['OR', array([1, 2, 1]), array([2, 0, 0])], ['OR', array([0, 2, 0]), array([2, 0, 0])], array([0, 2, 0]), array([1, 0, 0])]\n",
      "\n",
      "query_for_input_vocab_tokens [27, 27, 24, 36, 17, 28, 35, 22, 35, 27, 21, 36, 25, 28, 35, 27, 13, 36, 12, 28, 35, 27, 5, 36, 10, 28, 35, 26, 35, 27, 9, 36, 13, 28, 35, 18, 35, 27, 2, 36, 25, 28, 35, 4, 35, 27, 14, 36, 19, 28, 35, 6, 35, 27, 15, 36, 1, 28, 35, 27, 16, 36, 18, 28, 35, 27, 6, 36, 18, 28, 35, 6, 35, 9, 28]\n"
     ]
    }
   ],
   "source": [
    "num_attributes=3; num_attr_vals=3; query_length_multiplier=1; nest_depth_int=1; multiple_OR_sets_bool=True\n",
    "N_train=0; N_val=5120; N_test=5120\n",
    "\n",
    "cardpair_answer_lookup = construct_cardpair_answer_lookup(num_attributes, num_attr_vals)\n",
    "base_vocab_size =  num_attr_vals ** num_attributes\n",
    "symbol_vocab_token_lookup = {\n",
    "    '(': base_vocab_size,\n",
    "    ')': base_vocab_size + 1,\n",
    "    'NULL': base_vocab_size + 2,\n",
    "    'SEP': base_vocab_size + 3,\n",
    "    'SOS': base_vocab_size + 4,\n",
    "    'EOS': base_vocab_size + 5,\n",
    "    'PAD': base_vocab_size + 6,\n",
    "    'PLH': base_vocab_size + 7,\n",
    "    '&': base_vocab_size + 8,\n",
    "    '|': base_vocab_size + 9,\n",
    "}\n",
    "\n",
    "\n",
    "q_tokens, k_idx, gt_idxs = sample_one_training_datapoint(\n",
    "    2, \n",
    "    num_attributes, \n",
    "    num_attr_vals, \n",
    "    query_length_multiplier, \n",
    "    nest_depth_int, \n",
    "    multiple_OR_sets_bool,\n",
    "    cardpair_answer_lookup, \n",
    "    symbol_vocab_token_lookup,\n",
    "    validate=True, debug=True)"
   ]
  },
  {
   "cell_type": "code",
   "execution_count": 34,
   "id": "thorough-corporation",
   "metadata": {},
   "outputs": [
    {
     "data": {
      "text/plain": [
       "75"
      ]
     },
     "execution_count": 34,
     "metadata": {},
     "output_type": "execute_result"
    }
   ],
   "source": [
    "len(q_tokens)"
   ]
  },
  {
   "cell_type": "code",
   "execution_count": 33,
   "id": "southern-correlation",
   "metadata": {},
   "outputs": [
    {
     "data": {
      "text/plain": [
       "[9, 18]"
      ]
     },
     "execution_count": 33,
     "metadata": {},
     "output_type": "execute_result"
    }
   ],
   "source": [
    "gt_idxs"
   ]
  },
  {
   "cell_type": "code",
   "execution_count": 31,
   "id": "south-burton",
   "metadata": {},
   "outputs": [
    {
     "data": {
      "text/plain": [
       "[18]"
      ]
     },
     "execution_count": 31,
     "metadata": {},
     "output_type": "execute_result"
    }
   ],
   "source": [
    "k_idx"
   ]
  },
  {
   "cell_type": "code",
   "execution_count": 32,
   "id": "crazy-cache",
   "metadata": {},
   "outputs": [
    {
     "data": {
      "text/plain": [
       "[27,\n",
       " 27,\n",
       " 24,\n",
       " 36,\n",
       " 17,\n",
       " 28,\n",
       " 35,\n",
       " 22,\n",
       " 35,\n",
       " 27,\n",
       " 21,\n",
       " 36,\n",
       " 25,\n",
       " 28,\n",
       " 35,\n",
       " 27,\n",
       " 13,\n",
       " 36,\n",
       " 12,\n",
       " 28,\n",
       " 35,\n",
       " 27,\n",
       " 5,\n",
       " 36,\n",
       " 10,\n",
       " 28,\n",
       " 35,\n",
       " 26,\n",
       " 35,\n",
       " 27,\n",
       " 9,\n",
       " 36,\n",
       " 13,\n",
       " 28,\n",
       " 35,\n",
       " 18,\n",
       " 35,\n",
       " 27,\n",
       " 2,\n",
       " 36,\n",
       " 25,\n",
       " 28,\n",
       " 35,\n",
       " 4,\n",
       " 35,\n",
       " 27,\n",
       " 14,\n",
       " 36,\n",
       " 19,\n",
       " 28,\n",
       " 35,\n",
       " 6,\n",
       " 35,\n",
       " 27,\n",
       " 15,\n",
       " 36,\n",
       " 1,\n",
       " 28,\n",
       " 35,\n",
       " 27,\n",
       " 16,\n",
       " 36,\n",
       " 18,\n",
       " 28,\n",
       " 35,\n",
       " 27,\n",
       " 6,\n",
       " 36,\n",
       " 18,\n",
       " 28,\n",
       " 35,\n",
       " 6,\n",
       " 35,\n",
       " 9,\n",
       " 28]"
      ]
     },
     "execution_count": 32,
     "metadata": {},
     "output_type": "execute_result"
    }
   ],
   "source": [
    "q_tokens"
   ]
  },
  {
   "cell_type": "code",
   "execution_count": null,
   "id": "opposite-manitoba",
   "metadata": {},
   "outputs": [],
   "source": []
  }
 ],
 "metadata": {
  "kernelspec": {
   "display_name": "Python 3",
   "language": "python",
   "name": "python3"
  },
  "language_info": {
   "codemirror_mode": {
    "name": "ipython",
    "version": 3
   },
   "file_extension": ".py",
   "mimetype": "text/x-python",
   "name": "python",
   "nbconvert_exporter": "python",
   "pygments_lexer": "ipython3",
   "version": "3.8.3"
  }
 },
 "nbformat": 4,
 "nbformat_minor": 5
}

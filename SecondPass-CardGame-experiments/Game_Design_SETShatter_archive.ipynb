{
 "cells": [
  {
   "cell_type": "code",
   "execution_count": 469,
   "id": "contrary-wells",
   "metadata": {},
   "outputs": [
    {
     "name": "stdout",
     "output_type": "stream",
     "text": [
      "The autoreload extension is already loaded. To reload it, use:\n",
      "  %reload_ext autoreload\n"
     ]
    }
   ],
   "source": [
    "%load_ext autoreload\n",
    "%autoreload 2\n",
    "\n",
    "from collections import defaultdict, Counter\n",
    "import numpy as np\n",
    "import itertools\n",
    "import copy\n",
    "import matplotlib.pyplot as plt\n",
    "import random\n",
    "import json\n",
    "from dataraw_sampling import *\n",
    "import itertools\n",
    "import operator as op\n",
    "from functools import reduce\n",
    "from itertools import chain"
   ]
  },
  {
   "cell_type": "code",
   "execution_count": 2,
   "id": "wireless-content",
   "metadata": {
    "scrolled": true
   },
   "outputs": [
    {
     "name": "stderr",
     "output_type": "stream",
     "text": [
      "/app/Contrastive-Learning-Benchmarking/SecondPass-CardGame-experiments/dataraw_sampling.py:96: FutureWarning: elementwise comparison failed; returning scalar instead, but in the future will perform elementwise comparison\n",
      "  if part == '(':\n",
      "/app/Contrastive-Learning-Benchmarking/SecondPass-CardGame-experiments/dataraw_sampling.py:98: FutureWarning: elementwise comparison failed; returning scalar instead, but in the future will perform elementwise comparison\n",
      "  elif part == ')':\n"
     ]
    },
    {
     "name": "stdout",
     "output_type": "stream",
     "text": [
      "num_attributes 4\n",
      "num_attr_vals 3\n",
      "num_cards_per_query 3\n",
      "nest_depth_int 2\n",
      "key_support_size 81\n",
      "query_support_size 531441\n",
      "max_len_q 17\n",
      "len_k 4\n",
      "hold_out False\n",
      "sparsity_estimate 0.012345679012345678\n",
      "vocab_size 20\n",
      "( 12\n",
      ") 13\n",
      "NULL 14\n",
      "SEP 15\n",
      "SOS 16\n",
      "EOS 17\n",
      "PAD 18\n",
      "PLH 19\n"
     ]
    },
    {
     "ename": "IndexError",
     "evalue": "Replacement index 5 out of range for positional args tuple",
     "output_type": "error",
     "traceback": [
      "\u001b[0;31m---------------------------------------------------------------------------\u001b[0m",
      "\u001b[0;31mIndexError\u001b[0m                                Traceback (most recent call last)",
      "\u001b[0;32m<ipython-input-2-4d52eeca72d1>\u001b[0m in \u001b[0;36m<module>\u001b[0;34m\u001b[0m\n\u001b[1;32m      5\u001b[0m \u001b[0;34m\u001b[0m\u001b[0m\n\u001b[1;32m      6\u001b[0m \u001b[0mdata\u001b[0m \u001b[0;34m=\u001b[0m \u001b[0mgen_full_dataset\u001b[0m\u001b[0;34m(\u001b[0m\u001b[0mnum_attributes\u001b[0m\u001b[0;34m,\u001b[0m \u001b[0mnum_attr_vals\u001b[0m\u001b[0;34m,\u001b[0m \u001b[0mnum_cards_per_query\u001b[0m\u001b[0;34m,\u001b[0m \u001b[0mnest_depth_int\u001b[0m\u001b[0;34m)\u001b[0m\u001b[0;34m\u001b[0m\u001b[0;34m\u001b[0m\u001b[0m\n\u001b[0;32m----> 7\u001b[0;31m \u001b[0mfilename\u001b[0m \u001b[0;34m=\u001b[0m \u001b[0;34m'../Raw_Datasets/SET/{}Attr-{}Vals-{}CardsPerQ-{}NestDepth-Full-{}Train-{}Val.json'\u001b[0m\u001b[0;34m.\u001b[0m\u001b[0mformat\u001b[0m\u001b[0;34m(\u001b[0m\u001b[0mnum_attributes\u001b[0m\u001b[0;34m,\u001b[0m \u001b[0mnum_attr_vals\u001b[0m\u001b[0;34m,\u001b[0m \u001b[0mnest_depth_int\u001b[0m\u001b[0;34m,\u001b[0m \u001b[0mN_train\u001b[0m\u001b[0;34m,\u001b[0m \u001b[0mN_val\u001b[0m\u001b[0;34m)\u001b[0m\u001b[0;34m\u001b[0m\u001b[0;34m\u001b[0m\u001b[0m\n\u001b[0m\u001b[1;32m      8\u001b[0m \u001b[0;34m\u001b[0m\u001b[0m\n\u001b[1;32m      9\u001b[0m \u001b[0;31m# with open(filename, 'w') as f:\u001b[0m\u001b[0;34m\u001b[0m\u001b[0;34m\u001b[0m\u001b[0;34m\u001b[0m\u001b[0m\n",
      "\u001b[0;31mIndexError\u001b[0m: Replacement index 5 out of range for positional args tuple"
     ]
    }
   ],
   "source": [
    "num_attributes=4; num_attr_vals=3; num_cards_per_query=3; nest_depth_int=2\n",
    "\n",
    "N_train = (num_attr_vals**num_attributes)**num_cards_per_query\n",
    "N_val = N_train\n",
    "\n",
    "data = gen_full_dataset(num_attributes, num_attr_vals, num_cards_per_query, nest_depth_int)\n",
    "filename = '../Raw_Datasets/SET/{}Attr-{}Vals-{}CardsPerQ-{}NestDepth-Full-{}Train-{}Val.json'.format(num_attributes, num_attr_vals, nest_depth_int, N_train, N_val)\n",
    "\n",
    "# with open(filename, 'w') as f:\n",
    "#     json.dump(data, f)"
   ]
  },
  {
   "cell_type": "markdown",
   "id": "serious-billy",
   "metadata": {},
   "source": [
    "## Eval Query Code"
   ]
  },
  {
   "cell_type": "code",
   "execution_count": 478,
   "id": "flying-violin",
   "metadata": {},
   "outputs": [
    {
     "data": {
      "text/plain": [
       "(9, array([0, 1, 0, 0]))"
      ]
     },
     "execution_count": 478,
     "metadata": {},
     "output_type": "execute_result"
    }
   ],
   "source": [
    "def eval_cardpair_by_idx(num_attributes, num_attr_vals, querycard1_idx, querycard2_idx):\n",
    "    qc1_properties = decode_key_idx(num_attributes, num_attr_vals, querycard1_idx)\n",
    "    qc2_properties = decode_key_idx(num_attributes, num_attr_vals, querycard2_idx)\n",
    "#     print(qc1_properties, ' | ', qc2_properties)\n",
    "    key_properties = SET_resolve_fn(qc1_properties, qc2_properties)\n",
    "    key_idx = encode_key_idx(num_attributes, num_attr_vals, key_properties)\n",
    "    return key_idx, key_properties\n",
    "\n",
    "num_attributes=4; num_attr_vals=3;\n",
    "querycard1_idx = 10\n",
    "querycard2_idx = 11\n",
    "eval_cardpair_by_idx(num_attributes, num_attr_vals, querycard1_idx, querycard2_idx)"
   ]
  },
  {
   "cell_type": "code",
   "execution_count": 456,
   "id": "broke-lebanon",
   "metadata": {},
   "outputs": [],
   "source": [
    "def SET_cardpair_resolve_fn(card1, card2):\n",
    "    '''\n",
    "    card1, card2: property lists or ndarrays.\n",
    "    '''\n",
    "    assert card1.shape == card2.shape\n",
    "    return np.array([SET_derive_property(card1[i], card2[i]) for i in range(len(card1))])\n",
    "\n",
    "def check_part_type_for_resolve_fn(num_attributes, num_attr_vals, part):\n",
    "    if isinstance(part, np.ndarray):\n",
    "        assert part.shape[0] == num_attributes\n",
    "        return [part]\n",
    "    elif isinstance(part, list):\n",
    "        assert part[0] == 'OR'\n",
    "        return part[1:] # remove OR\n",
    "    else:\n",
    "        breakpoint()\n",
    "        raise ValueError('check query part input type.')\n",
    "    \n",
    "def resolve_fn(num_attributes, num_attr_vals, query_part1, query_part2):\n",
    "    '''\n",
    "    part1, part2: either property list/ndarray e.g. array([0, 0, 0, 0]), \n",
    "                  or list in format ['OR', array([0, 0, 0, 0]), array([0, 0, 0, 0]), ...]\n",
    "    '''\n",
    "    if isinstance(query_part1, np.ndarray) and isinstance(query_part2, np.ndarray):\n",
    "        key_properties = SET_cardpair_resolve_fn(query_part1, query_part2)\n",
    "        return key_properties # nd.array\n",
    "    else: \n",
    "        query_part1 = check_part_type_for_resolve_fn(num_attributes, num_attr_vals, query_part1)\n",
    "        query_part2 = check_part_type_for_resolve_fn(num_attributes, num_attr_vals, query_part2)\n",
    "        cardpairs = itertools.product(query_part1, query_part2)\n",
    "        key_list = ['OR']\n",
    "        for card1, card2 in cardpairs:\n",
    "            if isinstance(card1, str) or isinstance(card2, str):\n",
    "                breakpoint()\n",
    "            key_list.append(SET_cardpair_resolve_fn(card1, card2))\n",
    "        return key_list # list"
   ]
  },
  {
   "cell_type": "code",
   "execution_count": 562,
   "id": "stuffed-string",
   "metadata": {},
   "outputs": [
    {
     "name": "stdout",
     "output_type": "stream",
     "text": [
      "['OR', array([2, 2, 2, 2]), array([1, 1, 2, 2]), array([0, 0, 2, 1]), array([2, 2, 2, 1])]\n"
     ]
    }
   ],
   "source": [
    "def evaluate_nested_query_parts(num_attributes, num_attr_vals, nested_query_parts):\n",
    "    '''\n",
    "    query_parts: a list of lists. \n",
    "    e.g. ['AND', array([0, 0, 0, 0]), array([0, 0, 0, 0]), array([0, 0, 0, 0])]\n",
    "    e.g. ['AND', ['OR', array([0, 0, 0, 0]), array([0, 0, 0, 0])], ['AND', array([0, 0, 0, 0]), array([0, 0, 0, 0])], array([0, 0, 0, 0])]\n",
    "    '''\n",
    "    operator = nested_query_parts[0]\n",
    "    assert operator in ('OR', 'AND')\n",
    "    if operator == 'OR':\n",
    "        ans = nested_query_parts\n",
    "    else:\n",
    "        stack = []\n",
    "        nested_query_stack = nested_query_parts[1:][::-1]  # remove AND, reverse\n",
    "        while nested_query_stack:\n",
    "            part = nested_query_stack.pop()\n",
    "            if isinstance(part, list):\n",
    "                part = evaluate_nested_query_parts(num_attributes, num_attr_vals, part)\n",
    "            if stack:\n",
    "                last_part = stack.pop()\n",
    "                res = resolve_fn(num_attributes, num_attr_vals, last_part, part)\n",
    "            else:\n",
    "                res = part\n",
    "            stack.append(res)\n",
    "        assert len(stack) == 1\n",
    "        ans = stack.pop()\n",
    "    return ans\n",
    "\n",
    "def test_evaluate_nested_query_parts():\n",
    "    num_attributes=4; num_attr_vals=3;\n",
    "    nest_query_parts1 = ['AND', np.array([0, 1, 0, 0]), np.array([2, 0, 0, 2]), np.array([0, 0, 1, 0])]\n",
    "    assert (evaluate_nested_query_parts(num_attributes, num_attr_vals, nest_query_parts1) == np.array([2, 1, 2, 2])).all()\n",
    "    nest_query_parts2 = [\n",
    "        'AND', \n",
    "        ['OR', np.array([1,0,1,1]), np.array([2,1,1,0])], \n",
    "        np.array([2,1,1,0]), np.array([1,0,1,0]), np.array([0,0,0,0]), \n",
    "        ['AND', np.array([2,0,2,2]), np.array([1,1,1,1])], \n",
    "        np.array([1,0,0,2]), np.array([2,2,1,1]), \n",
    "        ['OR', np.array([2,2,1,2]), np.array([1,1,1,2])], np.array([1,0,2,2])\n",
    "    ]\n",
    "    print(evaluate_nested_query_parts(num_attributes, num_attr_vals, nest_query_parts2))\n",
    "    # ['OR', array([2, 2, 2, 2]), array([1, 1, 2, 2]), array([0, 0, 2, 1]), array([2, 2, 2, 1])]\n",
    "    \n",
    "test_evaluate_nested_query_parts()"
   ]
  },
  {
   "cell_type": "code",
   "execution_count": null,
   "id": "golden-blackberry",
   "metadata": {},
   "outputs": [],
   "source": []
  },
  {
   "cell_type": "code",
   "execution_count": null,
   "id": "induced-raleigh",
   "metadata": {},
   "outputs": [],
   "source": [
    "['AND',\n",
    " ['AND',\n",
    "  ['AND', 27, 40],\n",
    "  ['AND', ['OR', 32, 2, 46, 79, 80, 54, 26, 27, 28], ['AND', 59, 13]]],\n",
    " ['AND', ['AND', ['DERIVE'], 47], ['AND', 53, ['AND', 21, 9]]]]"
   ]
  },
  {
   "cell_type": "markdown",
   "id": "interim-kruger",
   "metadata": {},
   "source": [
    "## Sample a query"
   ]
  },
  {
   "cell_type": "code",
   "execution_count": null,
   "id": "attractive-order",
   "metadata": {},
   "outputs": [],
   "source": [
    "# need to explain syntax and operators of the problem"
   ]
  },
  {
   "cell_type": "code",
   "execution_count": 61,
   "id": "digital-prairie",
   "metadata": {},
   "outputs": [
    {
     "data": {
      "text/plain": [
       "array([0, 1])"
      ]
     },
     "execution_count": 61,
     "metadata": {},
     "output_type": "execute_result"
    }
   ],
   "source": [
    "np.random.choice(4, size=2)"
   ]
  },
  {
   "cell_type": "code",
   "execution_count": 40,
   "id": "efficient-holmes",
   "metadata": {},
   "outputs": [],
   "source": [
    "num_attributes=4; num_attr_vals=3;\n",
    "num_AND = 10\n",
    "num_OR = 3\n",
    "nest_depth = 2"
   ]
  },
  {
   "cell_type": "code",
   "execution_count": 452,
   "id": "outdoor-banner",
   "metadata": {},
   "outputs": [],
   "source": [
    "def ncr(n, r):\n",
    "    r = min(r, n-r)\n",
    "    numer = reduce(op.mul, range(n, n-r, -1), 1)\n",
    "    denom = reduce(op.mul, range(1, r+1), 1)\n",
    "    return numer // denom"
   ]
  },
  {
   "cell_type": "code",
   "execution_count": 453,
   "id": "narrow-senegal",
   "metadata": {},
   "outputs": [],
   "source": [
    "def derive_shatter_bucket_probs(num_attributes, num_attr_vals):\n",
    "    # (81 choose 1)*1, (81 choose 2)*2, .... (81 choose 81)*81\n",
    "    num_datapoints_by_bucket = np.array([ncr(num_attr_vals ** num_attributes, subset_size) for subset_size in range(1, num_cards+1)])\n",
    "    bucket_probs = num_datapoints_by_bucket / np.sum(num_datapoints_by_bucket)\n",
    "    return bucket_probs.astype(float)\n",
    "\n",
    "def sample_shattering_bucket(num_attributes, num_attr_vals, bucket_probs):\n",
    "    sampled_bucket = np.random.choice(a=num_attr_vals ** num_attributes, p=bucket_probs)\n",
    "    return sampled_bucket\n",
    "\n",
    "def sample_subset_in_bucket(num_attributes, num_attr_vals, sampled_bucket):\n",
    "    sampled_bucket_cards = np.random.choice(\n",
    "        a=num_attr_vals ** num_attributes, size=sampled_bucket, replace=False)\n",
    "    return sampled_bucket_cards\n",
    "\n",
    "def sample_subset(num_attributes, num_attr_vals, bucket_probs):\n",
    "    sampled_bucket = sample_shattering_bucket(num_attributes, num_attr_vals, bucket_probs)\n",
    "    sampled_bucket_cards = sample_subset_in_bucket(num_attributes, num_attr_vals, sampled_bucket)\n",
    "    return sampled_bucket_cards, sampled_bucket"
   ]
  },
  {
   "cell_type": "code",
   "execution_count": 454,
   "id": "vital-creator",
   "metadata": {},
   "outputs": [],
   "source": [
    "def sample_OR_slot(num_cards, sampled_subset, i, derive_pos):\n",
    "    if i == derive_pos:\n",
    "        return ['DERIVE']\n",
    "    else:\n",
    "        cards_in_OR_slot = list(np.random.choice(a=num_cards, size=len(sampled_subset), replace=False))\n",
    "        return ['OR'] + cards_in_OR_slot"
   ]
  },
  {
   "cell_type": "code",
   "execution_count": 530,
   "id": "prime-correlation",
   "metadata": {
    "scrolled": true
   },
   "outputs": [
    {
     "name": "stderr",
     "output_type": "stream",
     "text": [
      "<ipython-input-527-d409b8da1032>:35: FutureWarning: elementwise comparison failed; returning scalar instead, but in the future will perform elementwise comparison\n",
      "  if ['DERIVE'] in flat_parts:\n",
      "<ipython-input-527-d409b8da1032>:37: FutureWarning: elementwise comparison failed; returning scalar instead, but in the future will perform elementwise comparison\n",
      "  pos_part_to_be_derived_stack = [flat_parts.index(['DERIVE'])+1]\n"
     ]
    }
   ],
   "source": [
    "def construct_query_from_subset(num_attributes, num_attr_vals, num_EVAL, num_OR, nest_depth, sampled_subset):\n",
    "    assert num_OR <= num_EVAL\n",
    "    num_cards = num_attr_vals ** num_attributes\n",
    "    \n",
    "    # (num_EVAL,)\n",
    "    initial_card_indices = np.random.choice(a=num_cards, size=num_EVAL) \n",
    "    # (num_OR,)\n",
    "    OR_positions = np.random.choice(a=num_EVAL, size=num_OR, replace=False)\n",
    "    # int\n",
    "    OR_position_to_be_derived_from_rules = np.random.choice(a=OR_positions)\n",
    "    \n",
    "    # fill in the OR slots\n",
    "    flat_card_indices = [\n",
    "        sample_OR_slot(num_cards, sampled_subset, i, OR_position_to_be_derived_from_rules) if i in OR_positions else cidx \\\n",
    "        for i, cidx in enumerate(initial_card_indices)\n",
    "    ]\n",
    "    \n",
    "    # nest the query\n",
    "    for_eval, for_input, depth, has_part_to_be_derived, pos_part_to_be_derived_stack = \\\n",
    "        nest_flat_query_parts(flat_parts=flat_card_indices, depth=0, max_depth=nest_depth)\n",
    "    \n",
    "    # given the answer, fill up the ['DERIVE'] slot \n",
    "    \n",
    "    \n",
    "    \n",
    "    return flat_card_indices\n",
    "    # nest it and apply ['AND'], ['OR']?\n",
    "    \n",
    "    \n",
    "    \n",
    "    # derive the ? OR slot\n",
    "    \n",
    "    \n",
    "num_EVAL = 10; num_OR=2; nest_depth=1\n",
    "bucket_probs = derive_shatter_bucket_probs(num_attributes, num_attr_vals)\n",
    "sampled_subset, key_size = sample_subset(num_attributes, num_attr_vals, bucket_probs)\n",
    "flat_query_parts = construct_query_from_subset(num_attributes, num_attr_vals, num_EVAL, num_OR, nest_depth, sampled_subset)"
   ]
  },
  {
   "cell_type": "code",
   "execution_count": 531,
   "id": "standard-pendant",
   "metadata": {
    "scrolled": true
   },
   "outputs": [
    {
     "data": {
      "text/plain": [
       "[1,\n",
       " 53,\n",
       " ['DERIVE'],\n",
       " 54,\n",
       " ['OR',\n",
       "  33,\n",
       "  68,\n",
       "  52,\n",
       "  21,\n",
       "  5,\n",
       "  46,\n",
       "  48,\n",
       "  6,\n",
       "  58,\n",
       "  80,\n",
       "  66,\n",
       "  57,\n",
       "  30,\n",
       "  43,\n",
       "  17,\n",
       "  27,\n",
       "  29,\n",
       "  74,\n",
       "  70,\n",
       "  54,\n",
       "  61,\n",
       "  35,\n",
       "  14,\n",
       "  39,\n",
       "  69,\n",
       "  2,\n",
       "  60,\n",
       "  37,\n",
       "  23,\n",
       "  38,\n",
       "  32,\n",
       "  56,\n",
       "  22,\n",
       "  50,\n",
       "  7,\n",
       "  49,\n",
       "  77,\n",
       "  44,\n",
       "  65,\n",
       "  28],\n",
       " 19,\n",
       " 68,\n",
       " 20,\n",
       " 55,\n",
       " 51]"
      ]
     },
     "execution_count": 531,
     "metadata": {},
     "output_type": "execute_result"
    }
   ],
   "source": [
    "flat_query_parts"
   ]
  },
  {
   "cell_type": "code",
   "execution_count": 557,
   "id": "polar-snowboard",
   "metadata": {},
   "outputs": [],
   "source": [
    "weave = lambda values, sym: list(chain.from_iterable(zip(values, [sym] * len(values))))[:-1]\n",
    "\n",
    "def nest_flat_query_parts(flat_parts, depth, max_depth):\n",
    "    depth += 1 # TODO dont if len is 1\n",
    "\n",
    "    if flat_parts == [['DERIVE']]:\n",
    "        depth -= 1 \n",
    "        for_eval = flat_parts[0]\n",
    "        for_input = flat_parts[0]\n",
    "        has_part_to_be_derived = True\n",
    "        pos_part_to_be_derived_stack = []\n",
    "        \n",
    "    elif len(flat_parts) == 1:\n",
    "        depth -= 1\n",
    "        if isinstance(flat_parts[0], list):\n",
    "            assert flat_parts[0][0] == 'OR'\n",
    "            for_input = ['('] + weave([str(p) for p in flat_parts[0][1:]], '|') + [')']\n",
    "        else:\n",
    "            for_input = flat_parts[0]\n",
    "        for_eval = flat_parts[0]\n",
    "        has_part_to_be_derived = False\n",
    "        pos_part_to_be_derived_stack = []\n",
    "        \n",
    "    elif len(flat_parts) == 2 or depth == max_depth:\n",
    "        for_eval = ['AND'] + flat_parts\n",
    "        for_input = ['(']\n",
    "        for part in flat_parts:\n",
    "            if isinstance(part, list) and part[0] == 'OR':\n",
    "                or_part = ['('] + weave([str(p) for p in part[1:]], '|') + [')']\n",
    "                for_input = for_input + or_part + ['&']\n",
    "            else:\n",
    "                for_input = for_input + [part] + ['&']\n",
    "        for_input[-1] = ')'\n",
    "        \n",
    "        if ['DERIVE'] in flat_parts:\n",
    "            has_part_to_be_derived = True\n",
    "            pos_part_to_be_derived_stack = [flat_parts.index(['DERIVE'])+1]\n",
    "        else:\n",
    "            has_part_to_be_derived = False\n",
    "            pos_part_to_be_derived_stack = []\n",
    "        \n",
    "    else:\n",
    "        mid_idx = len(flat_parts) // 2\n",
    "        \n",
    "        L_e, L_i, _, L_has_part_to_be_derived, L_pos_part_to_be_derived = \\\n",
    "            nest_flat_query_parts(flat_parts[:mid_idx], depth, max_depth)\n",
    "        R_e, R_i, depth, R_has_part_to_be_derived, R_pos_part_to_be_derived = \\\n",
    "            nest_flat_query_parts(flat_parts[mid_idx:], depth, max_depth)\n",
    "\n",
    "        for_eval = ['AND', L_e, R_e]\n",
    "        for_input = (\n",
    "            ['('] + (L_i if isinstance(L_i, list) else [L_i]) + ['&'] + (R_i if isinstance(R_i, list) else [R_i]) + [')']\n",
    "            \n",
    "        )\n",
    "        has_part_to_be_derived = L_has_part_to_be_derived or R_has_part_to_be_derived\n",
    "\n",
    "        if has_part_to_be_derived:\n",
    "            assert not (L_has_part_to_be_derived and R_has_part_to_be_derived)\n",
    "            if L_has_part_to_be_derived:\n",
    "                if L_pos_part_to_be_derived == []: assert L_e == ['DERIVE']\n",
    "                L_pos_part_to_be_derived.append(1)\n",
    "                pos_part_to_be_derived_stack = L_pos_part_to_be_derived\n",
    "            else:\n",
    "                if R_pos_part_to_be_derived == []: assert R_e == ['DERIVE']\n",
    "                R_pos_part_to_be_derived.append(2)\n",
    "                pos_part_to_be_derived_stack = R_pos_part_to_be_derived\n",
    "        else:\n",
    "            pos_part_to_be_derived_stack = []\n",
    "    \n",
    "    return for_eval, for_input, depth, has_part_to_be_derived, pos_part_to_be_derived_stack"
   ]
  },
  {
   "cell_type": "code",
   "execution_count": 558,
   "id": "failing-intranet",
   "metadata": {},
   "outputs": [
    {
     "name": "stdout",
     "output_type": "stream",
     "text": [
      "(1&53&['DERIVE']&54&(33|68|52|21|5|46|48|6|58|80|66|57|30|43|17|27|29|74|70|54|61|35|14|39|69|2|60|37|23|38|32|56|22|50|7|49|77|44|65|28)&19&68&20&55&51)\n"
     ]
    },
    {
     "name": "stderr",
     "output_type": "stream",
     "text": [
      "<ipython-input-557-9c1a6b188691>:35: FutureWarning: elementwise comparison failed; returning scalar instead, but in the future will perform elementwise comparison\n",
      "  if ['DERIVE'] in flat_parts:\n",
      "<ipython-input-557-9c1a6b188691>:37: FutureWarning: elementwise comparison failed; returning scalar instead, but in the future will perform elementwise comparison\n",
      "  pos_part_to_be_derived_stack = [flat_parts.index(['DERIVE'])+1]\n"
     ]
    }
   ],
   "source": [
    "for_eval, for_input, depth, has_part_to_be_derived, pos_part_to_be_derived_stack = nest_flat_query_parts(flat_query_parts, depth=0, max_depth=1)\n",
    "print(''.join([str(i) for i in  for_input]))"
   ]
  },
  {
   "cell_type": "code",
   "execution_count": 555,
   "id": "lucky-fellowship",
   "metadata": {},
   "outputs": [
    {
     "data": {
      "text/plain": [
       "[1,\n",
       " 53,\n",
       " ['DERIVE'],\n",
       " 54,\n",
       " ['OR',\n",
       "  33,\n",
       "  68,\n",
       "  52,\n",
       "  21,\n",
       "  5,\n",
       "  46,\n",
       "  48,\n",
       "  6,\n",
       "  58,\n",
       "  80,\n",
       "  66,\n",
       "  57,\n",
       "  30,\n",
       "  43,\n",
       "  17,\n",
       "  27,\n",
       "  29,\n",
       "  74,\n",
       "  70,\n",
       "  54,\n",
       "  61,\n",
       "  35,\n",
       "  14,\n",
       "  39,\n",
       "  69,\n",
       "  2,\n",
       "  60,\n",
       "  37,\n",
       "  23,\n",
       "  38,\n",
       "  32,\n",
       "  56,\n",
       "  22,\n",
       "  50,\n",
       "  7,\n",
       "  49,\n",
       "  77,\n",
       "  44,\n",
       "  65,\n",
       "  28],\n",
       " 19,\n",
       " 68,\n",
       " 20,\n",
       " 55,\n",
       " 51]"
      ]
     },
     "execution_count": 555,
     "metadata": {},
     "output_type": "execute_result"
    }
   ],
   "source": [
    "flat_query_parts"
   ]
  },
  {
   "cell_type": "code",
   "execution_count": 534,
   "id": "friendly-interface",
   "metadata": {
    "scrolled": true
   },
   "outputs": [
    {
     "data": {
      "text/plain": [
       "['AND',\n",
       " 1,\n",
       " 53,\n",
       " ['DERIVE'],\n",
       " 54,\n",
       " ['OR',\n",
       "  33,\n",
       "  68,\n",
       "  52,\n",
       "  21,\n",
       "  5,\n",
       "  46,\n",
       "  48,\n",
       "  6,\n",
       "  58,\n",
       "  80,\n",
       "  66,\n",
       "  57,\n",
       "  30,\n",
       "  43,\n",
       "  17,\n",
       "  27,\n",
       "  29,\n",
       "  74,\n",
       "  70,\n",
       "  54,\n",
       "  61,\n",
       "  35,\n",
       "  14,\n",
       "  39,\n",
       "  69,\n",
       "  2,\n",
       "  60,\n",
       "  37,\n",
       "  23,\n",
       "  38,\n",
       "  32,\n",
       "  56,\n",
       "  22,\n",
       "  50,\n",
       "  7,\n",
       "  49,\n",
       "  77,\n",
       "  44,\n",
       "  65,\n",
       "  28],\n",
       " 19,\n",
       " 68,\n",
       " 20,\n",
       " 55,\n",
       " 51]"
      ]
     },
     "execution_count": 534,
     "metadata": {},
     "output_type": "execute_result"
    }
   ],
   "source": [
    "for_eval"
   ]
  },
  {
   "cell_type": "code",
   "execution_count": 561,
   "id": "quick-jersey",
   "metadata": {},
   "outputs": [
    {
     "name": "stdout",
     "output_type": "stream",
     "text": [
      "((1&53&['DERIVE']&54&(33|68|52|21|5|46|48|6|58|80|66|57|30|43|17|27|29|74|70|54|61|35|14|39|69|2|60|37|23|38|32|56|22|50|7|49|77|44|65|28))&(19&68&20&55&51))\n"
     ]
    },
    {
     "name": "stderr",
     "output_type": "stream",
     "text": [
      "<ipython-input-557-9c1a6b188691>:35: FutureWarning: elementwise comparison failed; returning scalar instead, but in the future will perform elementwise comparison\n",
      "  if ['DERIVE'] in flat_parts:\n",
      "<ipython-input-557-9c1a6b188691>:37: FutureWarning: elementwise comparison failed; returning scalar instead, but in the future will perform elementwise comparison\n",
      "  pos_part_to_be_derived_stack = [flat_parts.index(['DERIVE'])+1]\n"
     ]
    }
   ],
   "source": [
    "for_eval, for_input, depth, has_part_to_be_derived, pos_part_to_be_derived_stack = nest_flat_query_parts(flat_query_parts, depth=0, max_depth=2)\n",
    "print(''.join([str(i) for i in  for_input]))"
   ]
  },
  {
   "cell_type": "code",
   "execution_count": 537,
   "id": "sharing-september",
   "metadata": {
    "scrolled": true
   },
   "outputs": [
    {
     "data": {
      "text/plain": [
       "['AND',\n",
       " ['AND',\n",
       "  1,\n",
       "  53,\n",
       "  ['DERIVE'],\n",
       "  54,\n",
       "  ['OR',\n",
       "   33,\n",
       "   68,\n",
       "   52,\n",
       "   21,\n",
       "   5,\n",
       "   46,\n",
       "   48,\n",
       "   6,\n",
       "   58,\n",
       "   80,\n",
       "   66,\n",
       "   57,\n",
       "   30,\n",
       "   43,\n",
       "   17,\n",
       "   27,\n",
       "   29,\n",
       "   74,\n",
       "   70,\n",
       "   54,\n",
       "   61,\n",
       "   35,\n",
       "   14,\n",
       "   39,\n",
       "   69,\n",
       "   2,\n",
       "   60,\n",
       "   37,\n",
       "   23,\n",
       "   38,\n",
       "   32,\n",
       "   56,\n",
       "   22,\n",
       "   50,\n",
       "   7,\n",
       "   49,\n",
       "   77,\n",
       "   44,\n",
       "   65,\n",
       "   28]],\n",
       " ['AND', 19, 68, 20, 55, 51]]"
      ]
     },
     "execution_count": 537,
     "metadata": {},
     "output_type": "execute_result"
    }
   ],
   "source": [
    "for_eval"
   ]
  },
  {
   "cell_type": "code",
   "execution_count": 559,
   "id": "behind-opposition",
   "metadata": {},
   "outputs": [
    {
     "name": "stdout",
     "output_type": "stream",
     "text": [
      "(((1&53)&(['DERIVE']&54&(33|68|52|21|5|46|48|6|58|80|66|57|30|43|17|27|29|74|70|54|61|35|14|39|69|2|60|37|23|38|32|56|22|50|7|49|77|44|65|28)))&((19&68)&(20&55&51)))\n"
     ]
    },
    {
     "name": "stderr",
     "output_type": "stream",
     "text": [
      "<ipython-input-557-9c1a6b188691>:35: FutureWarning: elementwise comparison failed; returning scalar instead, but in the future will perform elementwise comparison\n",
      "  if ['DERIVE'] in flat_parts:\n"
     ]
    }
   ],
   "source": [
    "for_eval, for_input, depth, has_part_to_be_derived, pos_part_to_be_derived_stack = nest_flat_query_parts(flat_query_parts, depth=0, max_depth=3)\n",
    "print(''.join([str(i) for i in  for_input]))"
   ]
  },
  {
   "cell_type": "code",
   "execution_count": 539,
   "id": "particular-arrow",
   "metadata": {},
   "outputs": [
    {
     "data": {
      "text/plain": [
       "['AND',\n",
       " ['AND',\n",
       "  ['AND', 1, 53],\n",
       "  ['AND',\n",
       "   ['DERIVE'],\n",
       "   54,\n",
       "   ['OR',\n",
       "    33,\n",
       "    68,\n",
       "    52,\n",
       "    21,\n",
       "    5,\n",
       "    46,\n",
       "    48,\n",
       "    6,\n",
       "    58,\n",
       "    80,\n",
       "    66,\n",
       "    57,\n",
       "    30,\n",
       "    43,\n",
       "    17,\n",
       "    27,\n",
       "    29,\n",
       "    74,\n",
       "    70,\n",
       "    54,\n",
       "    61,\n",
       "    35,\n",
       "    14,\n",
       "    39,\n",
       "    69,\n",
       "    2,\n",
       "    60,\n",
       "    37,\n",
       "    23,\n",
       "    38,\n",
       "    32,\n",
       "    56,\n",
       "    22,\n",
       "    50,\n",
       "    7,\n",
       "    49,\n",
       "    77,\n",
       "    44,\n",
       "    65,\n",
       "    28]]],\n",
       " ['AND', ['AND', 19, 68], ['AND', 20, 55, 51]]]"
      ]
     },
     "execution_count": 539,
     "metadata": {},
     "output_type": "execute_result"
    }
   ],
   "source": [
    "for_eval"
   ]
  },
  {
   "cell_type": "code",
   "execution_count": 560,
   "id": "simplified-brake",
   "metadata": {},
   "outputs": [
    {
     "name": "stdout",
     "output_type": "stream",
     "text": [
      "(((1&53)&(DERIVE&(54&(33|68|52|21|5|46|48|6|58|80|66|57|30|43|17|27|29|74|70|54|61|35|14|39|69|2|60|37|23|38|32|56|22|50|7|49|77|44|65|28))))&((19&68)&(20&(55&51))))\n"
     ]
    },
    {
     "name": "stderr",
     "output_type": "stream",
     "text": [
      "<ipython-input-557-9c1a6b188691>:35: FutureWarning: elementwise comparison failed; returning scalar instead, but in the future will perform elementwise comparison\n",
      "  if ['DERIVE'] in flat_parts:\n",
      "<ipython-input-557-9c1a6b188691>:6: FutureWarning: elementwise comparison failed; returning scalar instead, but in the future will perform elementwise comparison\n",
      "  if flat_parts == [['DERIVE']]:\n"
     ]
    }
   ],
   "source": [
    "for_eval, for_input, depth, has_part_to_be_derived, pos_part_to_be_derived_stack = nest_flat_query_parts(flat_query_parts, depth=0, max_depth=4)\n",
    "print(''.join([str(i) for i in  for_input]))"
   ]
  },
  {
   "cell_type": "code",
   "execution_count": 552,
   "id": "convinced-enclosure",
   "metadata": {},
   "outputs": [
    {
     "data": {
      "text/plain": [
       "['(',\n",
       " '(',\n",
       " '(',\n",
       " 1,\n",
       " '&',\n",
       " 53,\n",
       " ')',\n",
       " '&',\n",
       " '(',\n",
       " 'DERIVE',\n",
       " '&',\n",
       " '(',\n",
       " 54,\n",
       " '&',\n",
       " '(',\n",
       " '33',\n",
       " '|',\n",
       " '68',\n",
       " '|',\n",
       " '52',\n",
       " '|',\n",
       " '21',\n",
       " '|',\n",
       " '5',\n",
       " '|',\n",
       " '46',\n",
       " '|',\n",
       " '48',\n",
       " '|',\n",
       " '6',\n",
       " '|',\n",
       " '58',\n",
       " '|',\n",
       " '80',\n",
       " '|',\n",
       " '66',\n",
       " '|',\n",
       " '57',\n",
       " '|',\n",
       " '30',\n",
       " '|',\n",
       " '43',\n",
       " '|',\n",
       " '17',\n",
       " '|',\n",
       " '27',\n",
       " '|',\n",
       " '29',\n",
       " '|',\n",
       " '74',\n",
       " '|',\n",
       " '70',\n",
       " '|',\n",
       " '54',\n",
       " '|',\n",
       " '61',\n",
       " '|',\n",
       " '35',\n",
       " '|',\n",
       " '14',\n",
       " '|',\n",
       " '39',\n",
       " '|',\n",
       " '69',\n",
       " '|',\n",
       " '2',\n",
       " '|',\n",
       " '60',\n",
       " '|',\n",
       " '37',\n",
       " '|',\n",
       " '23',\n",
       " '|',\n",
       " '38',\n",
       " '|',\n",
       " '32',\n",
       " '|',\n",
       " '56',\n",
       " '|',\n",
       " '22',\n",
       " '|',\n",
       " '50',\n",
       " '|',\n",
       " '7',\n",
       " '|',\n",
       " '49',\n",
       " '|',\n",
       " '77',\n",
       " '|',\n",
       " '44',\n",
       " '|',\n",
       " '65',\n",
       " '|',\n",
       " '28',\n",
       " ')',\n",
       " ')',\n",
       " ')',\n",
       " ')',\n",
       " '&',\n",
       " '(',\n",
       " '(',\n",
       " 19,\n",
       " '&',\n",
       " 68,\n",
       " ')',\n",
       " '&',\n",
       " '(',\n",
       " 20,\n",
       " '&',\n",
       " '(',\n",
       " 55,\n",
       " '&',\n",
       " 51,\n",
       " ')',\n",
       " ')',\n",
       " ')',\n",
       " ')']"
      ]
     },
     "execution_count": 552,
     "metadata": {},
     "output_type": "execute_result"
    }
   ],
   "source": [
    "for_input"
   ]
  },
  {
   "cell_type": "code",
   "execution_count": 551,
   "id": "experimental-hardware",
   "metadata": {
    "scrolled": true
   },
   "outputs": [
    {
     "data": {
      "text/plain": [
       "['AND',\n",
       " ['AND',\n",
       "  ['AND', 1, 53],\n",
       "  ['AND',\n",
       "   ['DERIVE'],\n",
       "   ['AND',\n",
       "    54,\n",
       "    ['OR',\n",
       "     33,\n",
       "     68,\n",
       "     52,\n",
       "     21,\n",
       "     5,\n",
       "     46,\n",
       "     48,\n",
       "     6,\n",
       "     58,\n",
       "     80,\n",
       "     66,\n",
       "     57,\n",
       "     30,\n",
       "     43,\n",
       "     17,\n",
       "     27,\n",
       "     29,\n",
       "     74,\n",
       "     70,\n",
       "     54,\n",
       "     61,\n",
       "     35,\n",
       "     14,\n",
       "     39,\n",
       "     69,\n",
       "     2,\n",
       "     60,\n",
       "     37,\n",
       "     23,\n",
       "     38,\n",
       "     32,\n",
       "     56,\n",
       "     22,\n",
       "     50,\n",
       "     7,\n",
       "     49,\n",
       "     77,\n",
       "     44,\n",
       "     65,\n",
       "     28]]]],\n",
       " ['AND', ['AND', 19, 68], ['AND', 20, ['AND', 55, 51]]]]"
      ]
     },
     "execution_count": 551,
     "metadata": {},
     "output_type": "execute_result"
    }
   ],
   "source": [
    "for_eval"
   ]
  },
  {
   "cell_type": "code",
   "execution_count": 545,
   "id": "organizational-motor",
   "metadata": {},
   "outputs": [
    {
     "name": "stdout",
     "output_type": "stream",
     "text": [
      "(DERIVE&(10&11))\n"
     ]
    }
   ],
   "source": [
    "for_eval, for_input, depth, has_part_to_be_derived, pos_part_to_be_derived_stack = nest_flat_query_parts(flat_parts, depth=0, max_depth=10)\n",
    "print(''.join([str(i) for i in  for_input]))"
   ]
  },
  {
   "cell_type": "code",
   "execution_count": 513,
   "id": "pregnant-canyon",
   "metadata": {},
   "outputs": [
    {
     "data": {
      "text/plain": [
       "[1, 1, 2]"
      ]
     },
     "execution_count": 513,
     "metadata": {},
     "output_type": "execute_result"
    }
   ],
   "source": [
    "pos_part_to_be_derived_stack"
   ]
  },
  {
   "cell_type": "code",
   "execution_count": 528,
   "id": "excessive-scanner",
   "metadata": {},
   "outputs": [
    {
     "name": "stdout",
     "output_type": "stream",
     "text": [
      "(DERIVE&(10,11))\n"
     ]
    }
   ],
   "source": [
    "flat_parts = [['DERIVE'], 10, 11]\n",
    "for_eval, for_input, depth, has_part_to_be_derived, pos_part_to_be_derived_stack = nest_flat_query_parts(flat_parts, depth=0, max_depth=10)\n",
    "print(''.join([str(i) for i in  for_input]))"
   ]
  },
  {
   "cell_type": "code",
   "execution_count": 457,
   "id": "aware-healthcare",
   "metadata": {
    "scrolled": true
   },
   "outputs": [
    {
     "name": "stdout",
     "output_type": "stream",
     "text": [
      "> \u001b[0;32m<ipython-input-456-bbee5a921199>\u001b[0m(17)\u001b[0;36mcheck_part_type_for_resolve_fn\u001b[0;34m()\u001b[0m\n",
      "\u001b[0;32m     15 \u001b[0;31m    \u001b[0;32melse\u001b[0m\u001b[0;34m:\u001b[0m\u001b[0;34m\u001b[0m\u001b[0;34m\u001b[0m\u001b[0m\n",
      "\u001b[0m\u001b[0;32m     16 \u001b[0;31m        \u001b[0mbreakpoint\u001b[0m\u001b[0;34m(\u001b[0m\u001b[0;34m)\u001b[0m\u001b[0;34m\u001b[0m\u001b[0;34m\u001b[0m\u001b[0m\n",
      "\u001b[0m\u001b[0;32m---> 17 \u001b[0;31m        \u001b[0;32mraise\u001b[0m \u001b[0mValueError\u001b[0m\u001b[0;34m(\u001b[0m\u001b[0;34m'check query part input type.'\u001b[0m\u001b[0;34m)\u001b[0m\u001b[0;34m\u001b[0m\u001b[0;34m\u001b[0m\u001b[0m\n",
      "\u001b[0m\u001b[0;32m     18 \u001b[0;31m\u001b[0;34m\u001b[0m\u001b[0m\n",
      "\u001b[0m\u001b[0;32m     19 \u001b[0;31m\u001b[0;32mdef\u001b[0m \u001b[0mresolve_fn\u001b[0m\u001b[0;34m(\u001b[0m\u001b[0mnum_attributes\u001b[0m\u001b[0;34m,\u001b[0m \u001b[0mnum_attr_vals\u001b[0m\u001b[0;34m,\u001b[0m \u001b[0mquery_part1\u001b[0m\u001b[0;34m,\u001b[0m \u001b[0mquery_part2\u001b[0m\u001b[0;34m)\u001b[0m\u001b[0;34m:\u001b[0m\u001b[0;34m\u001b[0m\u001b[0;34m\u001b[0m\u001b[0m\n",
      "\u001b[0m\n",
      "ipdb> part\n",
      "27\n",
      "ipdb> eval_expression\n",
      "*** NameError: name 'eval_expression' is not defined\n",
      "ipdb> q\n",
      "> \u001b[0;32m<ipython-input-457-f1c44e1c74c9>\u001b[0m(42)\u001b[0;36mderive_missing_query_part\u001b[0;34m()\u001b[0m\n",
      "\u001b[0;32m     40 \u001b[0;31m                \u001b[0;32mimport\u001b[0m \u001b[0mpdb\u001b[0m\u001b[0;34m;\u001b[0m \u001b[0mpdb\u001b[0m\u001b[0;34m.\u001b[0m\u001b[0mset_trace\u001b[0m\u001b[0;34m(\u001b[0m\u001b[0;34m)\u001b[0m\u001b[0;34m\u001b[0m\u001b[0;34m\u001b[0m\u001b[0m\n",
      "\u001b[0m\u001b[0;32m     41 \u001b[0;31m\u001b[0;34m\u001b[0m\u001b[0m\n",
      "\u001b[0m\u001b[0;32m---> 42 \u001b[0;31m            \u001b[0;32mif\u001b[0m \u001b[0misinstance\u001b[0m\u001b[0;34m(\u001b[0m\u001b[0mlhs\u001b[0m\u001b[0;34m,\u001b[0m \u001b[0mnp\u001b[0m\u001b[0;34m.\u001b[0m\u001b[0mndarray\u001b[0m\u001b[0;34m)\u001b[0m\u001b[0;34m:\u001b[0m \u001b[0mlhs\u001b[0m\u001b[0;34m.\u001b[0m\u001b[0mshape\u001b[0m\u001b[0;34m[\u001b[0m\u001b[0;36m0\u001b[0m\u001b[0;34m]\u001b[0m \u001b[0;34m==\u001b[0m \u001b[0mnum_attributes\u001b[0m\u001b[0;34m\u001b[0m\u001b[0;34m\u001b[0m\u001b[0m\n",
      "\u001b[0m\u001b[0;32m     43 \u001b[0;31m            \u001b[0mrhs\u001b[0m \u001b[0;34m=\u001b[0m \u001b[0mevaluate_nested_query_parts\u001b[0m\u001b[0;34m(\u001b[0m\u001b[0mnum_attributes\u001b[0m\u001b[0;34m,\u001b[0m \u001b[0mnum_attr_vals\u001b[0m\u001b[0;34m,\u001b[0m \u001b[0;34m[\u001b[0m\u001b[0;34m'AND'\u001b[0m\u001b[0;34m]\u001b[0m \u001b[0;34m+\u001b[0m \u001b[0;34m[\u001b[0m\u001b[0mrhs\u001b[0m\u001b[0;34m]\u001b[0m \u001b[0;34m+\u001b[0m \u001b[0mleft_parts_simplified\u001b[0m\u001b[0;34m)\u001b[0m\u001b[0;34m\u001b[0m\u001b[0;34m\u001b[0m\u001b[0m\n",
      "\u001b[0m\u001b[0;32m     44 \u001b[0;31m\u001b[0;34m\u001b[0m\u001b[0m\n",
      "\u001b[0m\n",
      "ipdb> u\n",
      "> \u001b[0;32m<ipython-input-457-f1c44e1c74c9>\u001b[0m(52)\u001b[0;36m<module>\u001b[0;34m()\u001b[0m\n",
      "\u001b[0;32m     48 \u001b[0;31m            \u001b[0mpos_part_to_be_derived_stack\u001b[0m\u001b[0;34m=\u001b[0m\u001b[0mpos_part_to_be_derived_stack\u001b[0m\u001b[0;34m,\u001b[0m\u001b[0;34m\u001b[0m\u001b[0;34m\u001b[0m\u001b[0m\n",
      "\u001b[0m\u001b[0;32m     49 \u001b[0;31m            key_part=rhs)\n",
      "\u001b[0m\u001b[0;32m     50 \u001b[0;31m\u001b[0;34m\u001b[0m\u001b[0m\n",
      "\u001b[0m\u001b[0;32m     51 \u001b[0;31m\u001b[0;34m\u001b[0m\u001b[0m\n",
      "\u001b[0m\u001b[0;32m---> 52 \u001b[0;31m\u001b[0mderive_missing_query_part\u001b[0m\u001b[0;34m(\u001b[0m\u001b[0mnum_attributes\u001b[0m\u001b[0;34m,\u001b[0m \u001b[0mnum_attr_vals\u001b[0m\u001b[0;34m,\u001b[0m \u001b[0mfor_eval\u001b[0m\u001b[0;34m,\u001b[0m \u001b[0mpos_part_to_be_derived_stack\u001b[0m\u001b[0;34m.\u001b[0m\u001b[0mcopy\u001b[0m\u001b[0;34m(\u001b[0m\u001b[0;34m)\u001b[0m\u001b[0;34m,\u001b[0m \u001b[0mkey_part\u001b[0m\u001b[0;34m=\u001b[0m\u001b[0mnp\u001b[0m\u001b[0;34m.\u001b[0m\u001b[0marray\u001b[0m\u001b[0;34m(\u001b[0m\u001b[0;34m[\u001b[0m\u001b[0;36m1\u001b[0m\u001b[0;34m,\u001b[0m\u001b[0;36m0\u001b[0m\u001b[0;34m,\u001b[0m\u001b[0;36m0\u001b[0m\u001b[0;34m,\u001b[0m\u001b[0;36m1\u001b[0m\u001b[0;34m]\u001b[0m\u001b[0;34m)\u001b[0m\u001b[0;34m)\u001b[0m\u001b[0;34m\u001b[0m\u001b[0;34m\u001b[0m\u001b[0m\n",
      "\u001b[0m\n",
      "ipdb> u\n",
      "*** all frames above hidden\n",
      "ipdb> q\n"
     ]
    },
    {
     "ename": "BdbQuit",
     "evalue": "",
     "output_type": "error",
     "traceback": [
      "\u001b[0;31m---------------------------------------------------------------------------\u001b[0m",
      "\u001b[0;31mBdbQuit\u001b[0m                                   Traceback (most recent call last)",
      "\u001b[0;32m<ipython-input-457-f1c44e1c74c9>\u001b[0m in \u001b[0;36m<module>\u001b[0;34m\u001b[0m\n\u001b[1;32m     50\u001b[0m \u001b[0;34m\u001b[0m\u001b[0m\n\u001b[1;32m     51\u001b[0m \u001b[0;34m\u001b[0m\u001b[0m\n\u001b[0;32m---> 52\u001b[0;31m \u001b[0mderive_missing_query_part\u001b[0m\u001b[0;34m(\u001b[0m\u001b[0mnum_attributes\u001b[0m\u001b[0;34m,\u001b[0m \u001b[0mnum_attr_vals\u001b[0m\u001b[0;34m,\u001b[0m \u001b[0mfor_eval\u001b[0m\u001b[0;34m,\u001b[0m \u001b[0mpos_part_to_be_derived_stack\u001b[0m\u001b[0;34m.\u001b[0m\u001b[0mcopy\u001b[0m\u001b[0;34m(\u001b[0m\u001b[0;34m)\u001b[0m\u001b[0;34m,\u001b[0m \u001b[0mkey_part\u001b[0m\u001b[0;34m=\u001b[0m\u001b[0mnp\u001b[0m\u001b[0;34m.\u001b[0m\u001b[0marray\u001b[0m\u001b[0;34m(\u001b[0m\u001b[0;34m[\u001b[0m\u001b[0;36m1\u001b[0m\u001b[0;34m,\u001b[0m\u001b[0;36m0\u001b[0m\u001b[0;34m,\u001b[0m\u001b[0;36m0\u001b[0m\u001b[0;34m,\u001b[0m\u001b[0;36m1\u001b[0m\u001b[0;34m]\u001b[0m\u001b[0;34m)\u001b[0m\u001b[0;34m)\u001b[0m\u001b[0;34m\u001b[0m\u001b[0;34m\u001b[0m\u001b[0m\n\u001b[0m",
      "\u001b[0;32m<ipython-input-457-f1c44e1c74c9>\u001b[0m in \u001b[0;36mderive_missing_query_part\u001b[0;34m(num_attributes, num_attr_vals, eval_expression, pos_part_to_be_derived_stack, key_part)\u001b[0m\n\u001b[1;32m     40\u001b[0m                 \u001b[0;32mimport\u001b[0m \u001b[0mpdb\u001b[0m\u001b[0;34m;\u001b[0m \u001b[0mpdb\u001b[0m\u001b[0;34m.\u001b[0m\u001b[0mset_trace\u001b[0m\u001b[0;34m(\u001b[0m\u001b[0;34m)\u001b[0m\u001b[0;34m\u001b[0m\u001b[0;34m\u001b[0m\u001b[0m\n\u001b[1;32m     41\u001b[0m \u001b[0;34m\u001b[0m\u001b[0m\n\u001b[0;32m---> 42\u001b[0;31m             \u001b[0;32mif\u001b[0m \u001b[0misinstance\u001b[0m\u001b[0;34m(\u001b[0m\u001b[0mlhs\u001b[0m\u001b[0;34m,\u001b[0m \u001b[0mnp\u001b[0m\u001b[0;34m.\u001b[0m\u001b[0mndarray\u001b[0m\u001b[0;34m)\u001b[0m\u001b[0;34m:\u001b[0m \u001b[0mlhs\u001b[0m\u001b[0;34m.\u001b[0m\u001b[0mshape\u001b[0m\u001b[0;34m[\u001b[0m\u001b[0;36m0\u001b[0m\u001b[0;34m]\u001b[0m \u001b[0;34m==\u001b[0m \u001b[0mnum_attributes\u001b[0m\u001b[0;34m\u001b[0m\u001b[0;34m\u001b[0m\u001b[0m\n\u001b[0m\u001b[1;32m     43\u001b[0m             \u001b[0mrhs\u001b[0m \u001b[0;34m=\u001b[0m \u001b[0mevaluate_nested_query_parts\u001b[0m\u001b[0;34m(\u001b[0m\u001b[0mnum_attributes\u001b[0m\u001b[0;34m,\u001b[0m \u001b[0mnum_attr_vals\u001b[0m\u001b[0;34m,\u001b[0m \u001b[0;34m[\u001b[0m\u001b[0;34m'AND'\u001b[0m\u001b[0;34m]\u001b[0m \u001b[0;34m+\u001b[0m \u001b[0;34m[\u001b[0m\u001b[0mrhs\u001b[0m\u001b[0;34m]\u001b[0m \u001b[0;34m+\u001b[0m \u001b[0mleft_parts_simplified\u001b[0m\u001b[0;34m)\u001b[0m\u001b[0;34m\u001b[0m\u001b[0;34m\u001b[0m\u001b[0m\n\u001b[1;32m     44\u001b[0m \u001b[0;34m\u001b[0m\u001b[0m\n",
      "\u001b[0;32m<ipython-input-457-f1c44e1c74c9>\u001b[0m in \u001b[0;36mderive_missing_query_part\u001b[0;34m(num_attributes, num_attr_vals, eval_expression, pos_part_to_be_derived_stack, key_part)\u001b[0m\n\u001b[1;32m     40\u001b[0m                 \u001b[0;32mimport\u001b[0m \u001b[0mpdb\u001b[0m\u001b[0;34m;\u001b[0m \u001b[0mpdb\u001b[0m\u001b[0;34m.\u001b[0m\u001b[0mset_trace\u001b[0m\u001b[0;34m(\u001b[0m\u001b[0;34m)\u001b[0m\u001b[0;34m\u001b[0m\u001b[0;34m\u001b[0m\u001b[0m\n\u001b[1;32m     41\u001b[0m \u001b[0;34m\u001b[0m\u001b[0m\n\u001b[0;32m---> 42\u001b[0;31m             \u001b[0;32mif\u001b[0m \u001b[0misinstance\u001b[0m\u001b[0;34m(\u001b[0m\u001b[0mlhs\u001b[0m\u001b[0;34m,\u001b[0m \u001b[0mnp\u001b[0m\u001b[0;34m.\u001b[0m\u001b[0mndarray\u001b[0m\u001b[0;34m)\u001b[0m\u001b[0;34m:\u001b[0m \u001b[0mlhs\u001b[0m\u001b[0;34m.\u001b[0m\u001b[0mshape\u001b[0m\u001b[0;34m[\u001b[0m\u001b[0;36m0\u001b[0m\u001b[0;34m]\u001b[0m \u001b[0;34m==\u001b[0m \u001b[0mnum_attributes\u001b[0m\u001b[0;34m\u001b[0m\u001b[0;34m\u001b[0m\u001b[0m\n\u001b[0m\u001b[1;32m     43\u001b[0m             \u001b[0mrhs\u001b[0m \u001b[0;34m=\u001b[0m \u001b[0mevaluate_nested_query_parts\u001b[0m\u001b[0;34m(\u001b[0m\u001b[0mnum_attributes\u001b[0m\u001b[0;34m,\u001b[0m \u001b[0mnum_attr_vals\u001b[0m\u001b[0;34m,\u001b[0m \u001b[0;34m[\u001b[0m\u001b[0;34m'AND'\u001b[0m\u001b[0;34m]\u001b[0m \u001b[0;34m+\u001b[0m \u001b[0;34m[\u001b[0m\u001b[0mrhs\u001b[0m\u001b[0;34m]\u001b[0m \u001b[0;34m+\u001b[0m \u001b[0mleft_parts_simplified\u001b[0m\u001b[0;34m)\u001b[0m\u001b[0;34m\u001b[0m\u001b[0;34m\u001b[0m\u001b[0m\n\u001b[1;32m     44\u001b[0m \u001b[0;34m\u001b[0m\u001b[0m\n",
      "\u001b[0;32m~/miniconda/lib/python3.8/bdb.py\u001b[0m in \u001b[0;36mtrace_dispatch\u001b[0;34m(self, frame, event, arg)\u001b[0m\n\u001b[1;32m     86\u001b[0m             \u001b[0;32mreturn\u001b[0m \u001b[0;31m# None\u001b[0m\u001b[0;34m\u001b[0m\u001b[0;34m\u001b[0m\u001b[0m\n\u001b[1;32m     87\u001b[0m         \u001b[0;32mif\u001b[0m \u001b[0mevent\u001b[0m \u001b[0;34m==\u001b[0m \u001b[0;34m'line'\u001b[0m\u001b[0;34m:\u001b[0m\u001b[0;34m\u001b[0m\u001b[0;34m\u001b[0m\u001b[0m\n\u001b[0;32m---> 88\u001b[0;31m             \u001b[0;32mreturn\u001b[0m \u001b[0mself\u001b[0m\u001b[0;34m.\u001b[0m\u001b[0mdispatch_line\u001b[0m\u001b[0;34m(\u001b[0m\u001b[0mframe\u001b[0m\u001b[0;34m)\u001b[0m\u001b[0;34m\u001b[0m\u001b[0;34m\u001b[0m\u001b[0m\n\u001b[0m\u001b[1;32m     89\u001b[0m         \u001b[0;32mif\u001b[0m \u001b[0mevent\u001b[0m \u001b[0;34m==\u001b[0m \u001b[0;34m'call'\u001b[0m\u001b[0;34m:\u001b[0m\u001b[0;34m\u001b[0m\u001b[0;34m\u001b[0m\u001b[0m\n\u001b[1;32m     90\u001b[0m             \u001b[0;32mreturn\u001b[0m \u001b[0mself\u001b[0m\u001b[0;34m.\u001b[0m\u001b[0mdispatch_call\u001b[0m\u001b[0;34m(\u001b[0m\u001b[0mframe\u001b[0m\u001b[0;34m,\u001b[0m \u001b[0marg\u001b[0m\u001b[0;34m)\u001b[0m\u001b[0;34m\u001b[0m\u001b[0;34m\u001b[0m\u001b[0m\n",
      "\u001b[0;32m~/miniconda/lib/python3.8/bdb.py\u001b[0m in \u001b[0;36mdispatch_line\u001b[0;34m(self, frame)\u001b[0m\n\u001b[1;32m    111\u001b[0m         \u001b[0;32mif\u001b[0m \u001b[0mself\u001b[0m\u001b[0;34m.\u001b[0m\u001b[0mstop_here\u001b[0m\u001b[0;34m(\u001b[0m\u001b[0mframe\u001b[0m\u001b[0;34m)\u001b[0m \u001b[0;32mor\u001b[0m \u001b[0mself\u001b[0m\u001b[0;34m.\u001b[0m\u001b[0mbreak_here\u001b[0m\u001b[0;34m(\u001b[0m\u001b[0mframe\u001b[0m\u001b[0;34m)\u001b[0m\u001b[0;34m:\u001b[0m\u001b[0;34m\u001b[0m\u001b[0;34m\u001b[0m\u001b[0m\n\u001b[1;32m    112\u001b[0m             \u001b[0mself\u001b[0m\u001b[0;34m.\u001b[0m\u001b[0muser_line\u001b[0m\u001b[0;34m(\u001b[0m\u001b[0mframe\u001b[0m\u001b[0;34m)\u001b[0m\u001b[0;34m\u001b[0m\u001b[0;34m\u001b[0m\u001b[0m\n\u001b[0;32m--> 113\u001b[0;31m             \u001b[0;32mif\u001b[0m \u001b[0mself\u001b[0m\u001b[0;34m.\u001b[0m\u001b[0mquitting\u001b[0m\u001b[0;34m:\u001b[0m \u001b[0;32mraise\u001b[0m \u001b[0mBdbQuit\u001b[0m\u001b[0;34m\u001b[0m\u001b[0;34m\u001b[0m\u001b[0m\n\u001b[0m\u001b[1;32m    114\u001b[0m         \u001b[0;32mreturn\u001b[0m \u001b[0mself\u001b[0m\u001b[0;34m.\u001b[0m\u001b[0mtrace_dispatch\u001b[0m\u001b[0;34m\u001b[0m\u001b[0;34m\u001b[0m\u001b[0m\n\u001b[1;32m    115\u001b[0m \u001b[0;34m\u001b[0m\u001b[0m\n",
      "\u001b[0;31mBdbQuit\u001b[0m: "
     ]
    }
   ],
   "source": [
    "# NOW: given ans subset, how to get derive_or \n",
    "\n",
    "def derive_missing_query_part(num_attributes, num_attr_vals, eval_expression, pos_part_to_be_derived_stack, key_part):\n",
    "    '''\n",
    "    eval_expression: with ['DERIVE']\n",
    "    '''\n",
    "    rhs = key_part.copy()\n",
    "    \n",
    "    operator = eval_expression[0]\n",
    "    assert operator in ('OR', 'AND', 'DERIVE')\n",
    "    \n",
    "    if operator == 'DERIVE':\n",
    "        return rhs\n",
    "    \n",
    "    elif operator == 'OR':\n",
    "        return eval_expression\n",
    "        \n",
    "    else:\n",
    "\n",
    "        derive_pos = pos_part_to_be_derived_stack.pop()\n",
    "        \n",
    "        # identify the part which has <derive>\n",
    "        derive_part = derive_pos\n",
    "        left_parts = eval_expression[:derive_pos]\n",
    "        right_parts = eval_expression[derive_pos+1:]\n",
    "        \n",
    "        if right_parts:\n",
    "            # np.array\n",
    "            rhs = evaluate_nested_query_parts(num_attributes, num_attr_vals, ['AND'] + [rhs] + right_parts[::-1])\n",
    "            if isinstance(rhs, np.ndarray): rhs.shape[0] == num_attributes \n",
    "            \n",
    "        if left_parts:\n",
    "            # np.array\n",
    "            try:\n",
    "                left_parts_simplified = evaluate_nested_query_parts(num_attributes, num_attr_vals, left_parts)\n",
    "            except:\n",
    "                import pdb; pdb.set_trace()\n",
    "            \n",
    "            if isinstance(lhs, np.ndarray): lhs.shape[0] == num_attributes \n",
    "            rhs = evaluate_nested_query_parts(num_attributes, num_attr_vals, ['AND'] + [rhs] + left_parts_simplified)\n",
    "        \n",
    "        return derive_missing_query_part(\n",
    "            num_attributes, num_attr_vals,\n",
    "            eval_expression=eval_expression[derive_pos], \n",
    "            pos_part_to_be_derived_stack=pos_part_to_be_derived_stack,\n",
    "            key_part=rhs)\n",
    "        \n",
    "\n",
    "derive_missing_query_part(num_attributes, num_attr_vals, for_eval, pos_part_to_be_derived_stack.copy(), key_part=np.array([1,0,0,1]))"
   ]
  },
  {
   "cell_type": "code",
   "execution_count": 487,
   "id": "painful-dragon",
   "metadata": {},
   "outputs": [],
   "source": [
    "def construct_cardpair_answer_lookup(num_attributes, num_attr_vals):\n",
    "    num_cards = num_attr_vals**num_attributes\n",
    "    lookup = {}\n",
    "    for card1, card2 in itertools.combinations(list(range(num_cards)), 2):\n",
    "        card1_properties = decode_key_idx(num_attributes, num_attr_vals, card1)\n",
    "        card2_properties = decode_key_idx(num_attributes, num_attr_vals, card2)\n",
    "        card3, card3_properties = eval_cardpair_by_idx(num_attributes, num_attr_vals, card1, card2)\n",
    "#         print (card1_properties, card2_properties, card3_properties, card1, card2, card3)\n",
    "        lookup[(card1, card2)] = card3\n",
    "    return lookup\n",
    "        \n",
    "lookup = construct_cardpair_answer_lookup(num_attributes, num_attr_vals)"
   ]
  },
  {
   "cell_type": "code",
   "execution_count": null,
   "id": "hindu-stopping",
   "metadata": {},
   "outputs": [],
   "source": [
    "# TODO resolve by card idx"
   ]
  },
  {
   "cell_type": "code",
   "execution_count": null,
   "id": "pending-briefs",
   "metadata": {},
   "outputs": [],
   "source": []
  },
  {
   "cell_type": "code",
   "execution_count": 488,
   "id": "ranging-damages",
   "metadata": {},
   "outputs": [
    {
     "data": {
      "text/plain": [
       "11"
      ]
     },
     "execution_count": 488,
     "metadata": {},
     "output_type": "execute_result"
    }
   ],
   "source": [
    "lookup[(2, 20)]"
   ]
  },
  {
   "cell_type": "code",
   "execution_count": 476,
   "id": "comparable-likelihood",
   "metadata": {},
   "outputs": [
    {
     "data": {
      "text/plain": [
       "array([2, 2, 2, 0])"
      ]
     },
     "execution_count": 476,
     "metadata": {},
     "output_type": "execute_result"
    }
   ],
   "source": [
    "decode_key_idx(num_attributes, num_attr_vals, 78)"
   ]
  },
  {
   "cell_type": "code",
   "execution_count": 442,
   "id": "hungry-cricket",
   "metadata": {},
   "outputs": [
    {
     "data": {
      "text/plain": [
       "[]"
      ]
     },
     "execution_count": 442,
     "metadata": {},
     "output_type": "execute_result"
    }
   ],
   "source": [
    "evaluate_nested_query_parts(num_attributes=num_attributes, num_attr_vals=num_attr_vals, nested_query_parts=left_parts)"
   ]
  },
  {
   "cell_type": "code",
   "execution_count": 458,
   "id": "cloudy-spelling",
   "metadata": {},
   "outputs": [
    {
     "data": {
      "text/plain": [
       "['AND',\n",
       " ['AND',\n",
       "  ['AND', 27, 40],\n",
       "  ['AND', ['OR', 32, 2, 46, 79, 80, 54, 26, 27, 28], ['AND', 59, 13]]],\n",
       " ['AND', ['AND', ['DERIVE'], 47], ['AND', 53, ['AND', 21, 9]]]]"
      ]
     },
     "execution_count": 458,
     "metadata": {},
     "output_type": "execute_result"
    }
   ],
   "source": [
    "for_eval"
   ]
  },
  {
   "cell_type": "code",
   "execution_count": null,
   "id": "powered-smell",
   "metadata": {},
   "outputs": [],
   "source": [
    "evaluate_nested_query_parts(num_attributes, num_attr_vals, nested_query_parts)"
   ]
  },
  {
   "cell_type": "code",
   "execution_count": 459,
   "id": "abandoned-television",
   "metadata": {},
   "outputs": [
    {
     "data": {
      "text/plain": [
       "['(',\n",
       " '(',\n",
       " '(',\n",
       " 27,\n",
       " ',',\n",
       " 40,\n",
       " ')',\n",
       " '&',\n",
       " '(',\n",
       " '(',\n",
       " '32',\n",
       " '|',\n",
       " '2',\n",
       " '|',\n",
       " '46',\n",
       " '|',\n",
       " '79',\n",
       " '|',\n",
       " '80',\n",
       " '|',\n",
       " '54',\n",
       " '|',\n",
       " '26',\n",
       " '|',\n",
       " '27',\n",
       " '|',\n",
       " '28',\n",
       " ')',\n",
       " '&',\n",
       " '(',\n",
       " 59,\n",
       " ',',\n",
       " 13,\n",
       " ')',\n",
       " ')',\n",
       " ')',\n",
       " '&',\n",
       " '(',\n",
       " '(',\n",
       " ['DERIVE'],\n",
       " ',',\n",
       " 47,\n",
       " ')',\n",
       " '&',\n",
       " '(',\n",
       " 53,\n",
       " '&',\n",
       " '(',\n",
       " 21,\n",
       " ',',\n",
       " 9,\n",
       " ')',\n",
       " ')',\n",
       " ')',\n",
       " ')']"
      ]
     },
     "execution_count": 459,
     "metadata": {},
     "output_type": "execute_result"
    }
   ],
   "source": [
    "for_input"
   ]
  },
  {
   "cell_type": "code",
   "execution_count": null,
   "id": "funny-special",
   "metadata": {},
   "outputs": [],
   "source": [
    "[27,\n",
    " 40,\n",
    " ['OR', 32, 2, 46, 79, 80, 54, 26, 27, 28],\n",
    " 59,\n",
    " 13,\n",
    " ['DERIVE'],\n",
    " 47,\n",
    " 53,\n",
    " 21,\n",
    " 9]"
   ]
  },
  {
   "cell_type": "code",
   "execution_count": 331,
   "id": "animated-soviet",
   "metadata": {},
   "outputs": [],
   "source": [
    "key_sizes = []\n",
    "for _ in range(1000):\n",
    "    _, key_size = sample_subset(num_attributes, num_attr_vals, bucket_probs)\n",
    "    key_sizes.append(key_size)"
   ]
  },
  {
   "cell_type": "code",
   "execution_count": 334,
   "id": "ethical-sandwich",
   "metadata": {},
   "outputs": [
    {
     "data": {
      "text/plain": [
       "array([81, 3240, 85320, 1663740, 25621596, 324540216, 3477216600,\n",
       "       32164253550, 260887834350, 1878392407320, 12124169174520,\n",
       "       70724320184700, 375382930211100, 1823288518168200,\n",
       "       8144022047817960, 33594090947249085, 128447994798305325,\n",
       "       456703981505085600, 1514334254464231200, 4694436188839116720,\n",
       "       13636219405675529520, 37189689288205989600, 95399637739311016800,\n",
       "       230549124536668290600, 525652003943603702568,\n",
       "       1132173546955454128608, 2306279447501851002720,\n",
       "       4447824648753569790960, 8128782978756524100720,\n",
       "       14089890496511308441248, 23180142429744410661408,\n",
       "       36218972546475641658450, 53779686508403225492850,\n",
       "       75924263305981024225200, 101955439296603089673840,\n",
       "       130276394656770614583240, 158444263771748044763400,\n",
       "       183461779104129314989200, 202278371832757962680400,\n",
       "       212392290424395860814420, 212392290424395860814420,\n",
       "       202278371832757962680400, 183461779104129314989200,\n",
       "       158444263771748044763400, 130276394656770614583240,\n",
       "       101955439296603089673840, 75924263305981024225200,\n",
       "       53779686508403225492850, 36218972546475641658450,\n",
       "       23180142429744410661408, 14089890496511308441248,\n",
       "       8128782978756524100720, 4447824648753569790960,\n",
       "       2306279447501851002720, 1132173546955454128608,\n",
       "       525652003943603702568, 230549124536668290600, 95399637739311016800,\n",
       "       37189689288205989600, 13636219405675529520, 4694436188839116720,\n",
       "       1514334254464231200, 456703981505085600, 128447994798305325,\n",
       "       33594090947249085, 8144022047817960, 1823288518168200,\n",
       "       375382930211100, 70724320184700, 12124169174520, 1878392407320,\n",
       "       260887834350, 32164253550, 3477216600, 324540216, 25621596,\n",
       "       1663740, 85320, 3240, 81, 1], dtype=object)"
      ]
     },
     "execution_count": 334,
     "metadata": {},
     "output_type": "execute_result"
    }
   ],
   "source": [
    "np.array([ncr(num_attr_vals ** num_attributes, subset_size) for subset_size in range(1, num_cards+1)])"
   ]
  },
  {
   "cell_type": "code",
   "execution_count": 333,
   "id": "virgin-killing",
   "metadata": {},
   "outputs": [
    {
     "data": {
      "text/plain": [
       "array([3.35008148e-23, 1.34003259e-21, 3.52875249e-20, 6.88106736e-19,\n",
       "       1.05968437e-17, 1.34226687e-16, 1.43814308e-15, 1.33028235e-14,\n",
       "       1.07900679e-13, 7.76884891e-13, 5.01443884e-12, 2.92508932e-11,\n",
       "       1.55254741e-10, 7.54094457e-10, 3.36828857e-09, 1.38941904e-08,\n",
       "       5.31248455e-08, 1.88888340e-07, 6.26313968e-07, 1.94157330e-06,\n",
       "       5.63980816e-06, 1.53812950e-05, 3.94563654e-05, 9.53528830e-05,\n",
       "       2.17404573e-04, 4.68256004e-04, 9.53854823e-04, 1.83957716e-03,\n",
       "       3.36198584e-03, 5.82744213e-03, 9.58708221e-03, 1.49798159e-02,\n",
       "       2.22427570e-02, 3.14015393e-02, 4.21677814e-02, 5.38810540e-02,\n",
       "       6.55310116e-02, 7.58780134e-02, 8.36603738e-02, 8.78433924e-02,\n",
       "       8.78433924e-02, 8.36603738e-02, 7.58780134e-02, 6.55310116e-02,\n",
       "       5.38810540e-02, 4.21677814e-02, 3.14015393e-02, 2.22427570e-02,\n",
       "       1.49798159e-02, 9.58708221e-03, 5.82744213e-03, 3.36198584e-03,\n",
       "       1.83957716e-03, 9.53854823e-04, 4.68256004e-04, 2.17404573e-04,\n",
       "       9.53528830e-05, 3.94563654e-05, 1.53812950e-05, 5.63980816e-06,\n",
       "       1.94157330e-06, 6.26313968e-07, 1.88888340e-07, 5.31248455e-08,\n",
       "       1.38941904e-08, 3.36828857e-09, 7.54094457e-10, 1.55254741e-10,\n",
       "       2.92508932e-11, 5.01443884e-12, 7.76884891e-13, 1.07900679e-13,\n",
       "       1.33028235e-14, 1.43814308e-15, 1.34226687e-16, 1.05968437e-17,\n",
       "       6.88106736e-19, 3.52875249e-20, 1.34003259e-21, 3.35008148e-23,\n",
       "       4.13590306e-25])"
      ]
     },
     "execution_count": 333,
     "metadata": {},
     "output_type": "execute_result"
    }
   ],
   "source": [
    "bucket_probs"
   ]
  },
  {
   "cell_type": "code",
   "execution_count": 345,
   "id": "suitable-antenna",
   "metadata": {},
   "outputs": [],
   "source": [
    "key_sizes = []\n",
    "for _ in range(1000000):\n",
    "    key_size = np.random.choice(a=num_attr_vals ** num_attributes, p=bucket_probs)\n",
    "    key_sizes.append(key_size)"
   ]
  },
  {
   "cell_type": "code",
   "execution_count": 336,
   "id": "double-stretch",
   "metadata": {},
   "outputs": [],
   "source": [
    "import matplotlib.pyplot as plt"
   ]
  },
  {
   "cell_type": "code",
   "execution_count": 346,
   "id": "square-transsexual",
   "metadata": {},
   "outputs": [
    {
     "data": {
      "text/plain": [
       "(array([1.45000e+02, 3.35000e+03, 3.38880e+04, 1.49762e+05, 3.13144e+05,\n",
       "        3.67140e+05, 1.10242e+05, 2.06090e+04, 1.64700e+03, 7.30000e+01]),\n",
       " array([19. , 23.2, 27.4, 31.6, 35.8, 40. , 44.2, 48.4, 52.6, 56.8, 61. ]),\n",
       " <BarContainer object of 10 artists>)"
      ]
     },
     "execution_count": 346,
     "metadata": {},
     "output_type": "execute_result"
    },
    {
     "data": {
      "image/png": "[encoded data removed]",
      "text/plain": [
       "<Figure size 432x288 with 1 Axes>"
      ]
     },
     "metadata": {
      "needs_background": "light"
     },
     "output_type": "display_data"
    }
   ],
   "source": [
    "plt.hist(key_sizes) # 1000000"
   ]
  },
  {
   "cell_type": "code",
   "execution_count": 347,
   "id": "universal-store",
   "metadata": {},
   "outputs": [
    {
     "data": {
      "text/plain": [
       "19"
      ]
     },
     "execution_count": 347,
     "metadata": {},
     "output_type": "execute_result"
    }
   ],
   "source": [
    "min(key_sizes)"
   ]
  },
  {
   "cell_type": "code",
   "execution_count": 348,
   "id": "nominated-orientation",
   "metadata": {},
   "outputs": [
    {
     "data": {
      "text/plain": [
       "61"
      ]
     },
     "execution_count": 348,
     "metadata": {},
     "output_type": "execute_result"
    }
   ],
   "source": [
    "max(key_sizes)"
   ]
  },
  {
   "cell_type": "code",
   "execution_count": 342,
   "id": "after-humidity",
   "metadata": {},
   "outputs": [
    {
     "data": {
      "text/plain": [
       "(array([1.8000e+01, 3.0000e+02, 3.3900e+03, 1.5210e+04, 2.2374e+04,\n",
       "        3.3341e+04, 1.9394e+04, 5.2770e+03, 6.6400e+02, 3.2000e+01]),\n",
       " array([20. , 23.8, 27.6, 31.4, 35.2, 39. , 42.8, 46.6, 50.4, 54.2, 58. ]),\n",
       " <BarContainer object of 10 artists>)"
      ]
     },
     "execution_count": 342,
     "metadata": {},
     "output_type": "execute_result"
    },
    {
     "data": {
      "image/png": "[encoded data removed]",
      "text/plain": [
       "<Figure size 432x288 with 1 Axes>"
      ]
     },
     "metadata": {
      "needs_background": "light"
     },
     "output_type": "display_data"
    }
   ],
   "source": [
    "plt.hist(key_sizes) # 100000"
   ]
  },
  {
   "cell_type": "code",
   "execution_count": 338,
   "id": "parental-pakistan",
   "metadata": {},
   "outputs": [
    {
     "data": {
      "text/plain": [
       "(array([1.2000e+01, 3.1900e+02, 3.4660e+03, 1.5018e+04, 2.2540e+04,\n",
       "        3.3349e+04, 1.9348e+04, 5.2510e+03, 6.6300e+02, 3.4000e+01]),\n",
       " array([20. , 23.8, 27.6, 31.4, 35.2, 39. , 42.8, 46.6, 50.4, 54.2, 58. ]),\n",
       " <BarContainer object of 10 artists>)"
      ]
     },
     "execution_count": 338,
     "metadata": {},
     "output_type": "execute_result"
    },
    {
     "data": {
      "image/png": "[encoded data removed]",
      "text/plain": [
       "<Figure size 432x288 with 1 Axes>"
      ]
     },
     "metadata": {
      "needs_background": "light"
     },
     "output_type": "display_data"
    }
   ],
   "source": [
    "plt.hist(key_sizes) # 100000"
   ]
  },
  {
   "cell_type": "code",
   "execution_count": 340,
   "id": "streaming-weapon",
   "metadata": {},
   "outputs": [
    {
     "data": {
      "text/plain": [
       "(array([ 2.,  2.,  8.,  5., 19., 32., 11., 13.,  6.,  2.]),\n",
       " array([27. , 29.2, 31.4, 33.6, 35.8, 38. , 40.2, 42.4, 44.6, 46.8, 49. ]),\n",
       " <BarContainer object of 10 artists>)"
      ]
     },
     "execution_count": 340,
     "metadata": {},
     "output_type": "execute_result"
    },
    {
     "data": {
      "image/png": "[encoded data removed]",
      "text/plain": [
       "<Figure size 432x288 with 1 Axes>"
      ]
     },
     "metadata": {
      "needs_background": "light"
     },
     "output_type": "display_data"
    }
   ],
   "source": [
    "plt.hist(key_sizes) # 100"
   ]
  },
  {
   "cell_type": "code",
   "execution_count": 297,
   "id": "infectious-judge",
   "metadata": {},
   "outputs": [],
   "source": [
    "for_eval, for_input, depth, has_part_to_be_derived, pos_part_to_be_derived = split_flat_parts_at_mid(flat_parts, depth=0, max_depth=5)"
   ]
  },
  {
   "cell_type": "code",
   "execution_count": 293,
   "id": "strange-dairy",
   "metadata": {},
   "outputs": [],
   "source": [
    "for_eval, for_input, depth, has_part_to_be_derived, pos_part_to_be_derived = split_flat_parts_at_mid(flat_parts, depth=0, max_depth=1)"
   ]
  },
  {
   "cell_type": "code",
   "execution_count": null,
   "id": "revolutionary-breakdown",
   "metadata": {},
   "outputs": [],
   "source": [
    "[27,\n",
    " 40,\n",
    " ['OR', 32, 2, 46, 79, 80, 54, 26, 27, 28],\n",
    " 59,\n",
    " 13,\n",
    " ##########################################\n",
    " ['DERIVE'],\n",
    " 47,\n",
    " ################\n",
    " 53,\n",
    " 21,\n",
    " 9]"
   ]
  },
  {
   "cell_type": "code",
   "execution_count": 294,
   "id": "developed-robinson",
   "metadata": {},
   "outputs": [
    {
     "data": {
      "text/plain": [
       "[27,\n",
       " 40,\n",
       " ['OR', 32, 2, 46, 79, 80, 54, 26, 27, 28],\n",
       " 59,\n",
       " 13,\n",
       " ['DERIVE'],\n",
       " 47,\n",
       " 53,\n",
       " 21,\n",
       " 9]"
      ]
     },
     "execution_count": 294,
     "metadata": {},
     "output_type": "execute_result"
    }
   ],
   "source": [
    "flat_parts"
   ]
  },
  {
   "cell_type": "code",
   "execution_count": 295,
   "id": "aboriginal-fossil",
   "metadata": {
    "scrolled": true
   },
   "outputs": [
    {
     "data": {
      "text/plain": [
       "['AND',\n",
       " 27,\n",
       " 40,\n",
       " ['OR', 32, 2, 46, 79, 80, 54, 26, 27, 28],\n",
       " 59,\n",
       " 13,\n",
       " ['DERIVE'],\n",
       " 47,\n",
       " 53,\n",
       " 21,\n",
       " 9]"
      ]
     },
     "execution_count": 295,
     "metadata": {},
     "output_type": "execute_result"
    }
   ],
   "source": [
    "for_eval"
   ]
  },
  {
   "cell_type": "code",
   "execution_count": 267,
   "id": "sitting-excellence",
   "metadata": {},
   "outputs": [
    {
     "data": {
      "text/plain": [
       "['AND', ['AND', ['DERIVE'], 47], ['AND', 53, ['AND', 21, 9]]]"
      ]
     },
     "execution_count": 267,
     "metadata": {},
     "output_type": "execute_result"
    }
   ],
   "source": [
    "for_eval[2]"
   ]
  },
  {
   "cell_type": "code",
   "execution_count": 279,
   "id": "cooked-savage",
   "metadata": {},
   "outputs": [
    {
     "data": {
      "text/plain": [
       "['AND',\n",
       " ['AND',\n",
       "  ['AND', 27, 40],\n",
       "  ['AND', ['OR', 32, 2, 46, 79, 80, 54, 26, 27, 28], ['AND', 59, 13]]],\n",
       " ['AND', ['AND', ['DERIVE'], 47], ['AND', 53, ['AND', 21, 9]]]]"
      ]
     },
     "execution_count": 279,
     "metadata": {},
     "output_type": "execute_result"
    }
   ],
   "source": [
    "for_eval"
   ]
  },
  {
   "cell_type": "code",
   "execution_count": null,
   "id": "detailed-package",
   "metadata": {},
   "outputs": [],
   "source": [
    "[27,\n",
    " 40,\n",
    " ['OR', 32, 2, 46, 79, 80, 54, 26, 27, 28],\n",
    " 59,\n",
    " 13,\n",
    " ['DERIVE'],\n",
    " 47,\n",
    " 53,\n",
    " 21,\n",
    " 9]"
   ]
  },
  {
   "cell_type": "code",
   "execution_count": 286,
   "id": "noticed-hepatitis",
   "metadata": {},
   "outputs": [
    {
     "data": {
      "text/plain": [
       "[1, 1, 2]"
      ]
     },
     "execution_count": 286,
     "metadata": {},
     "output_type": "execute_result"
    }
   ],
   "source": [
    "pos_part_to_be_derived"
   ]
  },
  {
   "cell_type": "code",
   "execution_count": 287,
   "id": "heated-associate",
   "metadata": {},
   "outputs": [
    {
     "data": {
      "text/plain": [
       "['AND', ['AND', ['DERIVE'], 47], ['AND', 53, ['AND', 21, 9]]]"
      ]
     },
     "execution_count": 287,
     "metadata": {},
     "output_type": "execute_result"
    }
   ],
   "source": [
    "for_eval[2]"
   ]
  },
  {
   "cell_type": "code",
   "execution_count": null,
   "id": "innocent-conjunction",
   "metadata": {},
   "outputs": [],
   "source": [
    "left_part = ['AND', ['AND', 27, 40]]\n",
    "right_part = "
   ]
  },
  {
   "cell_type": "code",
   "execution_count": 251,
   "id": "optional-collar",
   "metadata": {},
   "outputs": [],
   "source": [
    "flat_parts2 = [52, ['DERIVE'], 80]"
   ]
  },
  {
   "cell_type": "code",
   "execution_count": 252,
   "id": "according-malta",
   "metadata": {},
   "outputs": [],
   "source": [
    "for_eval, for_input, depth, has_part_to_be_derived, pos_part_to_be_derived = split_flat_parts_at_mid(flat_parts2, depth=0, max_depth=5)"
   ]
  },
  {
   "cell_type": "code",
   "execution_count": 254,
   "id": "secret-founder",
   "metadata": {},
   "outputs": [
    {
     "data": {
      "text/plain": [
       "(['AND', 52, ['AND', ['DERIVE_OR'], 80]], 2)"
      ]
     },
     "execution_count": 254,
     "metadata": {},
     "output_type": "execute_result"
    }
   ],
   "source": [
    "for_eval, depth"
   ]
  },
  {
   "cell_type": "code",
   "execution_count": 250,
   "id": "polished-reputation",
   "metadata": {},
   "outputs": [
    {
     "data": {
      "text/plain": [
       "['DERIVE_OR']"
      ]
     },
     "execution_count": 250,
     "metadata": {},
     "output_type": "execute_result"
    }
   ],
   "source": [
    "for_eval[1][1][2]"
   ]
  },
  {
   "cell_type": "code",
   "execution_count": 245,
   "id": "adverse-sewing",
   "metadata": {},
   "outputs": [
    {
     "data": {
      "text/plain": [
       "\"(((52&['DERIVE_OR'])&((2|4|5|6|11|15|23|25|28|29|34|38|40|44|49|57|63|66|76|80)&(24&31)))&((31&29)&(22&(48&76))))\""
      ]
     },
     "execution_count": 245,
     "metadata": {},
     "output_type": "execute_result"
    }
   ],
   "source": [
    "''.join([str(i) for i in for_input])"
   ]
  },
  {
   "cell_type": "code",
   "execution_count": null,
   "id": "single-cycling",
   "metadata": {},
   "outputs": [],
   "source": [
    "(((52&['DERIVE'])&((2|4|5|6|11|15|23|25|28|29|34|38|40|44|49|57|63|66|76|80)&(24&31)))&((31&29)&(22&(48&76))))"
   ]
  },
  {
   "cell_type": "code",
   "execution_count": 261,
   "id": "minor-allocation",
   "metadata": {},
   "outputs": [],
   "source": [
    "flat_parts = [27,\n",
    " 40,\n",
    " ['OR', 32, 2, 46, 79, 80, 54, 26, 27, 28],\n",
    " 59,\n",
    " 13,\n",
    " ['DERIVE'],\n",
    " 47,\n",
    " 53,\n",
    " 21,\n",
    " 9]"
   ]
  },
  {
   "cell_type": "code",
   "execution_count": 136,
   "id": "sealed-bandwidth",
   "metadata": {},
   "outputs": [],
   "source": [
    "flat_parts = [27,\n",
    " 40,\n",
    "#######\n",
    " ['OR', 32, 2, 46, 79, 80, 54, 26, 27, 28],\n",
    "###\n",
    " 59,\n",
    " 13,\n",
    "###############\n",
    " ['DERIVE'],\n",
    " 47,\n",
    "#######\n",
    " 53,\n",
    "###\n",
    " 21,\n",
    " 9]"
   ]
  },
  {
   "cell_type": "code",
   "execution_count": 262,
   "id": "altered-break",
   "metadata": {},
   "outputs": [
    {
     "data": {
      "text/plain": [
       "['DERIVE']"
      ]
     },
     "execution_count": 262,
     "metadata": {},
     "output_type": "execute_result"
    }
   ],
   "source": [
    "exp = ['AND',\n",
    "  ['AND',\n",
    "       ['AND', 27, 40],\n",
    "       ['AND', [['OR', 32, 2, 46, 79, 80, 54, 26, 27, 28]], ['AND', 59, 13]]\n",
    "  ],\n",
    "  ['AND', \n",
    "       ['AND', ['DERIVE'], 47], \n",
    "       ['AND', [53], ['AND', 21, 9]]\n",
    "  ]\n",
    "]\n",
    "\n",
    "exp[2][1][1]"
   ]
  },
  {
   "cell_type": "code",
   "execution_count": null,
   "id": "known-harvest",
   "metadata": {},
   "outputs": [],
   "source": []
  },
  {
   "cell_type": "code",
   "execution_count": null,
   "id": "continent-enemy",
   "metadata": {},
   "outputs": [],
   "source": []
  },
  {
   "cell_type": "code",
   "execution_count": null,
   "id": "critical-baker",
   "metadata": {},
   "outputs": [],
   "source": [
    "# 1. SET\n",
    "# 2. SET Shatter\n",
    "# 3. SET Nested\n",
    "# 4. SET Shatter and Nested"
   ]
  },
  {
   "cell_type": "code",
   "execution_count": null,
   "id": "centered-attachment",
   "metadata": {},
   "outputs": [],
   "source": [
    "# Sample a query with required length that returns the answer.\n",
    "# \n",
    "# "
   ]
  },
  {
   "cell_type": "code",
   "execution_count": 126,
   "id": "crude-acting",
   "metadata": {},
   "outputs": [
    {
     "data": {
      "text/plain": [
       "['(', 3, 2, 1, ')']"
      ]
     },
     "execution_count": 126,
     "metadata": {},
     "output_type": "execute_result"
    }
   ],
   "source": [
    "['('] + list(reversed([1,2,3])) + [')']"
   ]
  },
  {
   "cell_type": "code",
   "execution_count": null,
   "id": "about-chaos",
   "metadata": {},
   "outputs": [],
   "source": []
  },
  {
   "cell_type": "code",
   "execution_count": null,
   "id": "jewish-adelaide",
   "metadata": {},
   "outputs": [],
   "source": [
    "# check if num_cards in slots are even"
   ]
  },
  {
   "cell_type": "code",
   "execution_count": 41,
   "id": "mexican-tournament",
   "metadata": {},
   "outputs": [
    {
     "data": {
      "text/plain": [
       "array([79, 22, 71, 69, 51, 49,  6, 15, 68, 65, 60])"
      ]
     },
     "execution_count": 41,
     "metadata": {},
     "output_type": "execute_result"
    }
   ],
   "source": [
    "def make_query(num_attributes, num_attr_vals, num_AND, num_OR, nest_depth):\n",
    "\n",
    "    num_cards = num_attr_vals ** num_attributes\n",
    "    query = list(np.random.choice(num_cards, size=num_AND+1))\n",
    "    \n",
    "    \n",
    "    \n",
    "    \n",
    "    return query\n"
   ]
  },
  {
   "cell_type": "code",
   "execution_count": null,
   "id": "applied-uncertainty",
   "metadata": {},
   "outputs": [],
   "source": [
    "# Default embed by property hparams, main"
   ]
  },
  {
   "cell_type": "code",
   "execution_count": null,
   "id": "august-advertising",
   "metadata": {},
   "outputs": [],
   "source": [
    "# Use case\n",
    "\n",
    "# sample query_datapoints (use idx)\n",
    "# --> make vocab tokens\n",
    "\n",
    "# "
   ]
  },
  {
   "cell_type": "code",
   "execution_count": 45,
   "id": "complicated-works",
   "metadata": {},
   "outputs": [
    {
     "data": {
      "text/plain": [
       "[1, 2, 3, 4]"
      ]
     },
     "execution_count": 45,
     "metadata": {},
     "output_type": "execute_result"
    }
   ],
   "source": [
    "list(range(1,5))"
   ]
  },
  {
   "cell_type": "code",
   "execution_count": null,
   "id": "neural-fifteen",
   "metadata": {},
   "outputs": [],
   "source": [
    "# draw num_AND card indices\n",
    "# decode into key properties\n",
    "\n",
    "# draw num_OR positions within range num_AND\n",
    "# for each of these positions, draw a random set of cards, replace the position with ['OR', ...]\n",
    "\n",
    "# run split in mid to return query part for eval and query part for input"
   ]
  },
  {
   "cell_type": "code",
   "execution_count": null,
   "id": "parallel-chancellor",
   "metadata": {},
   "outputs": [],
   "source": [
    "# inspect the format, run eval code on it and "
   ]
  },
  {
   "cell_type": "code",
   "execution_count": null,
   "id": "external-paintball",
   "metadata": {},
   "outputs": [],
   "source": [
    "# what are the new hyperparams?\n",
    "\n",
    "# num attrs\n",
    "# num attr vals\n",
    "\n",
    "# ?\n",
    "# num cards per query\n",
    "# AND OR\n",
    "\n",
    "# nest depth.\n",
    "\n",
    "\n",
    "# how to evaluate?\n",
    "\n",
    "# how to convert between indices?"
   ]
  }
 ],
 "metadata": {
  "kernelspec": {
   "display_name": "Python 3",
   "language": "python",
   "name": "python3"
  },
  "language_info": {
   "codemirror_mode": {
    "name": "ipython",
    "version": 3
   },
   "file_extension": ".py",
   "mimetype": "text/x-python",
   "name": "python",
   "nbconvert_exporter": "python",
   "pygments_lexer": "ipython3",
   "version": "3.8.3"
  }
 },
 "nbformat": 4,
 "nbformat_minor": 5
}

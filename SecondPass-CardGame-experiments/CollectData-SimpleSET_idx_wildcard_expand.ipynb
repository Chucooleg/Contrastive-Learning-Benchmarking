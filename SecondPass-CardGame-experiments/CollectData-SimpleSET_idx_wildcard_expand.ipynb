{
 "cells": [
  {
   "cell_type": "code",
   "execution_count": 1,
   "id": "serial-liability",
   "metadata": {},
   "outputs": [],
   "source": [
    "%load_ext autoreload\n",
    "%autoreload 2\n",
    "\n",
    "# from dataraw_sampling_SETShatter import *\n",
    "from collections import defaultdict, Counter\n",
    "import itertools\n",
    "import copy\n",
    "import random\n",
    "import json\n",
    "import operator as op\n",
    "from functools import reduce\n",
    "from tqdm import tqdm\n",
    "from itertools import chain, combinations\n",
    "import numpy as np\n",
    "import time\n",
    "from dataraw_sampling import *"
   ]
  },
  {
   "cell_type": "code",
   "execution_count": 3,
   "id": "accessory-illustration",
   "metadata": {
    "scrolled": true
   },
   "outputs": [
    {
     "name": "stderr",
     "output_type": "stream",
     "text": [
      "  0%|          | 31/10240 [00:00<00:33, 302.85it/s]"
     ]
    },
    {
     "name": "stdout",
     "output_type": "stream",
     "text": [
      "Time to build cardpair_answer_lookup: 0.0017712116241455078 seconds\n"
     ]
    },
    {
     "name": "stderr",
     "output_type": "stream",
     "text": [
      "100%|██████████| 10240/10240 [00:24<00:00, 421.18it/s]\n",
      "100%|██████████| 5120/5120 [00:01<00:00, 4228.95it/s]\n"
     ]
    },
    {
     "name": "stdout",
     "output_type": "stream",
     "text": [
      "Sample Time for 10240 datapoints = 25.53486728668213 seconds\n",
      "Saving Time for 10240 datapoints = 0.4163687229156494 seconds\n"
     ]
    }
   ],
   "source": [
    "# Simple SET\n",
    "num_attributes=5; num_attr_vals=3;\n",
    "N_train=0; N_val=5120; N_test=5120\n",
    "\n",
    "sample_start_time = time.time()\n",
    "data, stats = sample_queries(num_attributes, num_attr_vals, N_train, N_val, N_test)\n",
    "sample_end_time = time.time()\n",
    "\n",
    "print(f'Sample Time for {N_train+N_val+N_test} datapoints = {sample_end_time-sample_start_time} seconds')\n",
    "\n",
    "save_start_time = time.time()\n",
    "filename_dat = '../Raw_Datasets/SET/WildCardSETidxExpand-{}Attr-{}Vals-{}Train-{}Val-{}Test.json'.format(\n",
    "    num_attributes, num_attr_vals, N_train, N_val, N_test)\n",
    "with open(filename_dat, 'w') as f:\n",
    "    json.dump(data, f)\n",
    "save_end_time = time.time()\n",
    "\n",
    "# filename = '../Raw_Datasets/SET/SimpleSETidx-{}Attr-{}Vals-{}Train-{}Val-{}Test-Stats.json'.format(\n",
    "#     num_attributes, num_attr_vals, query_length_multiplier, nest_depth_int, N_train, N_val, N_test)\n",
    "# with open(filename, 'w') as f:\n",
    "#     json.dump(stats, f)\n",
    "# save_end_time = time.time()\n",
    "\n",
    "print(f'Saving Time for {N_train+N_val+N_test} datapoints = {save_end_time-save_start_time} seconds')"
   ]
  },
  {
   "cell_type": "raw",
   "id": "operating-affair",
   "metadata": {},
   "source": [
    "# 3-3\n",
    "Time to build cardpair_answer_lookup: 0.00013589859008789062 seconds\n",
    "Sample Time for 10240 datapoints = 7.210850477218628 seconds\n",
    "Saving Time for 10240 datapoints = 0.21584320068359375 seconds\n",
    "\n",
    "\n",
    "# 4 -3 \n",
    "Time to build cardpair_answer_lookup: 0.00034880638122558594 seconds\n",
    "Sample Time for 10240 datapoints = 12.426383972167969 seconds\n",
    "Saving Time for 10240 datapoints = 0.28817033767700195 seconds\n",
    "\n",
    "\n",
    "# 5 -3\n",
    "Time to build cardpair_answer_lookup: 0.0011906623840332031 seconds\n",
    "Sample Time for 10240 datapoints = 23.829512357711792 seconds\n",
    "Saving Time for 10240 datapoints = 0.42902636528015137 seconds\n"
   ]
  },
  {
   "cell_type": "code",
   "execution_count": 19,
   "id": "limited-hybrid",
   "metadata": {},
   "outputs": [
    {
     "data": {
      "text/plain": [
       "dict_keys(['num_attributes', 'num_attr_vals', 'nest_depth_int', 'key_support_size', 'multiple_OR_sets_bool', 'query_length_multiplier', 'max_len_q', 'len_k', 'train_gt_idxs', 'val_gt_idxs', 'test_gt_idxs', 'train_tokens', 'val_tokens', 'test_tokens', 'test_marginal_gt_idxs', 'test_marginal_tokens', 'vocab_size', 'symbol_vocab_token_lookup', 'vocab_by_property'])"
      ]
     },
     "execution_count": 19,
     "metadata": {},
     "output_type": "execute_result"
    }
   ],
   "source": [
    "data.keys()"
   ]
  },
  {
   "cell_type": "code",
   "execution_count": 14,
   "id": "electoral-revision",
   "metadata": {},
   "outputs": [
    {
     "data": {
      "text/plain": [
       "'../Raw_Datasets/SET/WildCardSETidxExpand-3Attr-3Vals-0Train-5120Val-5120Test.json'"
      ]
     },
     "execution_count": 14,
     "metadata": {},
     "output_type": "execute_result"
    }
   ],
   "source": [
    "filename_dat"
   ]
  },
  {
   "cell_type": "code",
   "execution_count": 4,
   "id": "geological-clause",
   "metadata": {},
   "outputs": [
    {
     "data": {
      "text/plain": [
       "10.5"
      ]
     },
     "execution_count": 4,
     "metadata": {},
     "output_type": "execute_result"
    }
   ],
   "source": [
    "3.5*3"
   ]
  },
  {
   "cell_type": "code",
   "execution_count": null,
   "id": "maritime-russell",
   "metadata": {},
   "outputs": [],
   "source": []
  }
 ],
 "metadata": {
  "kernelspec": {
   "display_name": "Python 3",
   "language": "python",
   "name": "python3"
  },
  "language_info": {
   "codemirror_mode": {
    "name": "ipython",
    "version": 3
   },
   "file_extension": ".py",
   "mimetype": "text/x-python",
   "name": "python",
   "nbconvert_exporter": "python",
   "pygments_lexer": "ipython3",
   "version": "3.8.3"
  }
 },
 "nbformat": 4,
 "nbformat_minor": 5
}

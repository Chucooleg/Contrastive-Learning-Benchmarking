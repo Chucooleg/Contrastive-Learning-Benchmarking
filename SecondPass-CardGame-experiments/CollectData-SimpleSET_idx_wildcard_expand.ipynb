{
 "cells": [
  {
   "cell_type": "code",
   "execution_count": 2,
   "id": "serial-liability",
   "metadata": {},
   "outputs": [],
   "source": [
    "%load_ext autoreload\n",
    "%autoreload 2\n",
    "\n",
    "# from dataraw_sampling_SETShatter import *\n",
    "from collections import defaultdict, Counter\n",
    "import itertools\n",
    "import copy\n",
    "import random\n",
    "import json\n",
    "import operator as op\n",
    "from functools import reduce\n",
    "from tqdm import tqdm\n",
    "from itertools import chain, combinations\n",
    "import numpy as np\n",
    "import time\n",
    "from dataraw_sampling import *"
   ]
  },
  {
   "cell_type": "markdown",
   "id": "characteristic-taylor",
   "metadata": {},
   "source": [
    "# Union, Sym Diff"
   ]
  },
  {
   "cell_type": "code",
   "execution_count": 2,
   "id": "accessory-illustration",
   "metadata": {
    "scrolled": true
   },
   "outputs": [
    {
     "name": "stderr",
     "output_type": "stream",
     "text": [
      "  3%|▎         | 290/10240 [00:00<00:06, 1458.91it/s]"
     ]
    },
    {
     "name": "stdout",
     "output_type": "stream",
     "text": [
      "Time to build cardpair_answer_lookup: 0.00035691261291503906 seconds\n"
     ]
    },
    {
     "name": "stderr",
     "output_type": "stream",
     "text": [
      "100%|██████████| 10240/10240 [00:07<00:00, 1426.36it/s]\n",
      "100%|██████████| 5120/5120 [00:01<00:00, 3748.47it/s]\n"
     ]
    },
    {
     "name": "stdout",
     "output_type": "stream",
     "text": [
      "Sample Time for 10240 datapoints = 8.552212476730347 seconds\n"
     ]
    }
   ],
   "source": [
    "# Union, Sym Diff\n",
    "num_attributes=4; num_attr_vals=3; N_pairs=8\n",
    "N_train=0; N_val=5120; N_test=5120\n",
    "\n",
    "sample_start_time = time.time()\n",
    "data, stats = sample_queries(\n",
    "    num_attributes=num_attributes, \n",
    "    num_attr_vals=num_attr_vals, \n",
    "    N_pairs=N_pairs, \n",
    "    union_only = False,\n",
    "    N_train=N_train, \n",
    "    N_val=N_val, \n",
    "    N_test=N_test)\n",
    "sample_end_time = time.time()\n",
    "\n",
    "print(f'Sample Time for {N_train+N_val+N_test} datapoints = {sample_end_time-sample_start_time} seconds')\n",
    "\n",
    "save_start_time = time.time()\n",
    "filename_dat = '../Raw_Datasets/SET/WildCardSETidxSetOps-{}Attr-{}Vals-{}Pairs-{}Train-{}Val-{}Test.json'.format(\n",
    "    num_attributes, num_attr_vals, N_pairs, N_train, N_val, N_test)\n",
    "\n",
    "with open(filename_dat, 'w') as f:\n",
    "    json.dump(data, f)\n",
    "save_end_time = time.time()\n",
    "\n",
    "# filename = '../Raw_Datasets/SET/SimpleSETidx-{}Attr-{}Vals-{}Train-{}Val-{}Test-Stats.json'.format(\n",
    "#     num_attributes, num_attr_vals, query_length_multiplier, nest_depth_int, N_train, N_val, N_test)\n",
    "# with open(filename, 'w') as f:\n",
    "#     json.dump(stats, f)\n",
    "# save_end_time = time.time()\n",
    "\n",
    "# print(f'Saving Time for {N_train+N_val+N_test} datapoints = {save_end_time-save_start_time} seconds')"
   ]
  },
  {
   "cell_type": "raw",
   "id": "operating-affair",
   "metadata": {},
   "source": [
    "# 3-3-8\n",
    "Time to build cardpair_answer_lookup: 0.00013589859008789062 seconds\n",
    "Sample Time for 10240 datapoints = 6.003662586212158 seconds\n",
    "\n",
    "# 4-3-8\n",
    "Time to build cardpair_answer_lookup: 0.00046133995056152344 seconds\n",
    "Sample Time for 10240 datapoints = 8.64996886253357 seconds\n",
    "\n"
   ]
  },
  {
   "cell_type": "code",
   "execution_count": 5,
   "id": "limited-hybrid",
   "metadata": {},
   "outputs": [
    {
     "data": {
      "text/plain": [
       "dict_keys(['num_attributes', 'num_attr_vals', 'key_support_size', 'N_pairs', 'union_only', 'max_len_q', 'len_k', 'train_gt_idxs', 'val_gt_idxs', 'test_gt_idxs', 'train_tokens', 'val_tokens', 'test_tokens', 'test_marginal_gt_idxs', 'test_marginal_tokens', 'vocab_size', 'symbol_vocab_token_lookup', 'vocab_by_property'])"
      ]
     },
     "execution_count": 5,
     "metadata": {},
     "output_type": "execute_result"
    }
   ],
   "source": [
    "data.keys()"
   ]
  },
  {
   "cell_type": "code",
   "execution_count": 6,
   "id": "electoral-revision",
   "metadata": {},
   "outputs": [
    {
     "data": {
      "text/plain": [
       "'../Raw_Datasets/SET/WildCardSETidxExpand-4Attr-3Vals-8Pairs-SetOps-0Train-5120Val-5120Test.json'"
      ]
     },
     "execution_count": 6,
     "metadata": {},
     "output_type": "execute_result"
    }
   ],
   "source": [
    "filename_dat"
   ]
  },
  {
   "cell_type": "markdown",
   "id": "objective-nurse",
   "metadata": {},
   "source": [
    "# Union Only"
   ]
  },
  {
   "cell_type": "code",
   "execution_count": 12,
   "id": "statutory-composer",
   "metadata": {
    "scrolled": true
   },
   "outputs": [
    {
     "name": "stderr",
     "output_type": "stream",
     "text": [
      "  1%|          | 99/10240 [00:00<00:21, 463.82it/s]"
     ]
    },
    {
     "name": "stdout",
     "output_type": "stream",
     "text": [
      "Time to build cardpair_answer_lookup: 0.005091667175292969 seconds\n"
     ]
    },
    {
     "name": "stderr",
     "output_type": "stream",
     "text": [
      "100%|██████████| 10240/10240 [00:22<00:00, 447.85it/s]\n",
      "100%|██████████| 5120/5120 [00:01<00:00, 3480.56it/s]\n"
     ]
    },
    {
     "name": "stdout",
     "output_type": "stream",
     "text": [
      "Sample Time for 10240 datapoints = 24.347675323486328 seconds\n"
     ]
    }
   ],
   "source": [
    "# Union Only\n",
    "num_attributes=6; num_attr_vals=3; N_pairs=8\n",
    "N_train=0; N_val=5120; N_test=5120\n",
    "\n",
    "sample_start_time = time.time()\n",
    "data, stats = sample_queries(\n",
    "    num_attributes=num_attributes, \n",
    "    num_attr_vals=num_attr_vals, \n",
    "    N_pairs=N_pairs, \n",
    "    union_only = True,\n",
    "    N_train=N_train, \n",
    "    N_val=N_val, \n",
    "    N_test=N_test)\n",
    "sample_end_time = time.time()\n",
    "\n",
    "print(f'Sample Time for {N_train+N_val+N_test} datapoints = {sample_end_time-sample_start_time} seconds')\n",
    "\n",
    "save_start_time = time.time()\n",
    "filename_dat = '../Raw_Datasets/SET/WildCardSETidxUnion-{}Attr-{}Vals-{}Pairs-{}Train-{}Val-{}Test.json'.format(\n",
    "    num_attributes, num_attr_vals, N_pairs, N_train, N_val, N_test)\n",
    "\n",
    "with open(filename_dat, 'w') as f:\n",
    "    json.dump(data, f)\n",
    "save_end_time = time.time()\n",
    "\n",
    "# filename = '../Raw_Datasets/SET/SimpleSETidx-{}Attr-{}Vals-{}Train-{}Val-{}Test-Stats.json'.format(\n",
    "#     num_attributes, num_attr_vals, query_length_multiplier, nest_depth_int, N_train, N_val, N_test)\n",
    "# with open(filename, 'w') as f:\n",
    "#     json.dump(stats, f)\n",
    "# save_end_time = time.time()\n",
    "\n",
    "# print(f'Saving Time for {N_train+N_val+N_test} datapoints = {save_end_time-save_start_time} seconds')"
   ]
  },
  {
   "cell_type": "code",
   "execution_count": 13,
   "id": "early-republic",
   "metadata": {
    "scrolled": true
   },
   "outputs": [
    {
     "data": {
      "text/plain": [
       "([504,\n",
       "  2285,\n",
       "  714,\n",
       "  3636,\n",
       "  29,\n",
       "  1274,\n",
       "  602,\n",
       "  747,\n",
       "  184,\n",
       "  3873,\n",
       "  448,\n",
       "  3049,\n",
       "  563,\n",
       "  970,\n",
       "  512,\n",
       "  1175],\n",
       " [187])"
      ]
     },
     "execution_count": 13,
     "metadata": {},
     "output_type": "execute_result"
    }
   ],
   "source": [
    "data['val_tokens'][0]"
   ]
  },
  {
   "cell_type": "code",
   "execution_count": 14,
   "id": "decreased-border",
   "metadata": {},
   "outputs": [
    {
     "data": {
      "text/plain": [
       "'../Raw_Datasets/SET/WildCardSETidxUnion-6Attr-3Vals-8Pairs-0Train-5120Val-5120Test.json'"
      ]
     },
     "execution_count": 14,
     "metadata": {},
     "output_type": "execute_result"
    }
   ],
   "source": [
    "filename_dat"
   ]
  },
  {
   "cell_type": "code",
   "execution_count": null,
   "id": "stylish-customer",
   "metadata": {},
   "outputs": [],
   "source": []
  }
 ],
 "metadata": {
  "kernelspec": {
   "display_name": "Python 3",
   "language": "python",
   "name": "python3"
  },
  "language_info": {
   "codemirror_mode": {
    "name": "ipython",
    "version": 3
   },
   "file_extension": ".py",
   "mimetype": "text/x-python",
   "name": "python",
   "nbconvert_exporter": "python",
   "pygments_lexer": "ipython3",
   "version": "3.8.3"
  }
 },
 "nbformat": 4,
 "nbformat_minor": 5
}

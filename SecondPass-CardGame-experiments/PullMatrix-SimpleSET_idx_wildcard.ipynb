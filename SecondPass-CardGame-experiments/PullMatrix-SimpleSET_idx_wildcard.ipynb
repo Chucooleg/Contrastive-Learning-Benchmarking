{
 "cells": [
  {
   "cell_type": "code",
   "execution_count": 3,
   "id": "serial-liability",
   "metadata": {},
   "outputs": [],
   "source": [
    "%load_ext autoreload\n",
    "%autoreload 2\n",
    "\n",
    "# from dataraw_sampling_SETShatter import *\n",
    "from collections import defaultdict, Counter\n",
    "import itertools\n",
    "import copy\n",
    "import random\n",
    "import json\n",
    "import operator as op\n",
    "from functools import reduce\n",
    "from tqdm import tqdm\n",
    "from itertools import chain, combinations\n",
    "import numpy as np\n",
    "import time\n",
    "from dataraw_sampling_SimpleSET_idx_wildcard import *"
   ]
  },
  {
   "cell_type": "code",
   "execution_count": 4,
   "id": "accessory-illustration",
   "metadata": {
    "scrolled": true
   },
   "outputs": [
    {
     "name": "stderr",
     "output_type": "stream",
     "text": [
      " 15%|█▌        | 1556/10240 [00:00<00:00, 15555.27it/s]"
     ]
    },
    {
     "name": "stdout",
     "output_type": "stream",
     "text": [
      "Time to build cardpair_answer_lookup: 0.0003256797790527344 seconds\n"
     ]
    },
    {
     "name": "stderr",
     "output_type": "stream",
     "text": [
      "100%|██████████| 10240/10240 [00:00<00:00, 13684.86it/s]\n"
     ]
    },
    {
     "name": "stdout",
     "output_type": "stream",
     "text": [
      "Sample Time for 10240 datapoints = 0.7563388347625732 seconds\n",
      "Saving Time for 10240 datapoints = 0.096771240234375 seconds\n"
     ]
    }
   ],
   "source": [
    "# Simple SET\n",
    "num_attributes=4; num_attr_vals=3;\n",
    "N_train=0; N_val=5120; N_test=5120\n",
    "\n",
    "sample_start_time = time.time()\n",
    "data, stats = sample_queries(num_attributes, num_attr_vals, N_train, N_val, N_test)\n",
    "sample_end_time = time.time()\n",
    "\n",
    "print(f'Sample Time for {N_train+N_val+N_test} datapoints = {sample_end_time-sample_start_time} seconds')\n",
    "\n",
    "\n",
    "save_start_time = time.time()\n",
    "filename_dat = '../Raw_Datasets/SET/WildCardSETidx-{}Attr-{}Vals-{}Train-{}Val-{}Test.json'.format(\n",
    "    num_attributes, num_attr_vals, N_train, N_val, N_test)\n",
    "with open(filename_dat, 'w') as f:\n",
    "    json.dump(data, f)\n",
    "save_end_time = time.time()\n",
    "\n",
    "# filename = '../Raw_Datasets/SET/SimpleSETidx-{}Attr-{}Vals-{}Train-{}Val-{}Test-Stats.json'.format(\n",
    "#     num_attributes, num_attr_vals, query_length_multiplier, nest_depth_int, N_train, N_val, N_test)\n",
    "# with open(filename, 'w') as f:\n",
    "#     json.dump(stats, f)\n",
    "# save_end_time = time.time()\n",
    "\n",
    "print(f'Saving Time for {N_train+N_val+N_test} datapoints = {save_end_time-save_start_time} seconds')"
   ]
  },
  {
   "cell_type": "code",
   "execution_count": 5,
   "id": "threatened-earth",
   "metadata": {},
   "outputs": [
    {
     "data": {
      "text/plain": [
       "'../Raw_Datasets/SET/WildCardSETidx-4Attr-3Vals-0Train-5120Val-5120Test.json'"
      ]
     },
     "execution_count": 5,
     "metadata": {},
     "output_type": "execute_result"
    }
   ],
   "source": [
    "filename_dat"
   ]
  },
  {
   "cell_type": "code",
   "execution_count": 8,
   "id": "spoken-synthetic",
   "metadata": {},
   "outputs": [
    {
     "data": {
      "text/plain": [
       "0.09372018575668335"
      ]
     },
     "execution_count": 8,
     "metadata": {},
     "output_type": "execute_result"
    }
   ],
   "source": [
    "1.874403715133667 / 20"
   ]
  },
  {
   "cell_type": "code",
   "execution_count": 2,
   "id": "dominican-broad",
   "metadata": {},
   "outputs": [],
   "source": [
    "num_cards = 4 ** 4\n",
    "num_cards\n",
    "\n",
    "card2idx_lookup, idx2card_lookup = construct_card_idx_lookup(4, 3)\n"
   ]
  },
  {
   "cell_type": "code",
   "execution_count": 7,
   "id": "modern-suffering",
   "metadata": {},
   "outputs": [
    {
     "data": {
      "text/plain": [
       "256"
      ]
     },
     "execution_count": 7,
     "metadata": {},
     "output_type": "execute_result"
    }
   ],
   "source": [
    "len(card2idx_lookup)"
   ]
  },
  {
   "cell_type": "code",
   "execution_count": 9,
   "id": "northern-opinion",
   "metadata": {},
   "outputs": [
    {
     "data": {
      "text/plain": [
       "0.390625"
      ]
     },
     "execution_count": 9,
     "metadata": {},
     "output_type": "execute_result"
    }
   ],
   "source": [
    "card2idx_lookup, idx2card_lookup = construct_card_idx_lookup(2, 3)\n",
    "\n",
    "xy = np.zeros((256, 3**2))\n",
    "\n",
    "for i, cardpair_idxs in enumerate(itertools.product(*[range(4**2), range(4**2)])):\n",
    "    card1_idx, card2_idx = cardpair_idxs\n",
    "    card1_prop = idx2card_lookup[card1_idx]\n",
    "    card2_prop = idx2card_lookup[card2_idx]\n",
    "    keys_prop = resolve(card1_prop, card2_prop, (0,1,2), set((0,1,2)))\n",
    "    keys_idx = [card2idx_lookup[kp] for kp in keys_prop]\n",
    "    xy[i, keys_idx] += 1\n",
    "\n",
    "np.sum(xy) / (256 * 3**2)"
   ]
  },
  {
   "cell_type": "code",
   "execution_count": 8,
   "id": "acting-weekly",
   "metadata": {},
   "outputs": [
    {
     "data": {
      "text/plain": [
       "0.244140625"
      ]
     },
     "execution_count": 8,
     "metadata": {},
     "output_type": "execute_result"
    }
   ],
   "source": [
    "card2idx_lookup, idx2card_lookup = construct_card_idx_lookup(3, 3)\n",
    "\n",
    "xy = np.zeros((4096, 3**3))\n",
    "\n",
    "for i, cardpair_idxs in enumerate(itertools.product(*[range(4**3), range(4**3)])):\n",
    "    card1_idx, card2_idx = cardpair_idxs\n",
    "    card1_prop = idx2card_lookup[card1_idx]\n",
    "    card2_prop = idx2card_lookup[card2_idx]\n",
    "    keys_prop = resolve(card1_prop, card2_prop, (0,1,2), set((0,1,2)))\n",
    "    keys_idx = [card2idx_lookup[kp] for kp in keys_prop]\n",
    "    xy[i, keys_idx] += 1\n",
    "\n",
    "np.sum(xy) / (4096 * 3**3)"
   ]
  },
  {
   "cell_type": "code",
   "execution_count": 4,
   "id": "attached-impact",
   "metadata": {},
   "outputs": [
    {
     "data": {
      "text/plain": [
       "0.152587890625"
      ]
     },
     "execution_count": 4,
     "metadata": {},
     "output_type": "execute_result"
    }
   ],
   "source": [
    "card2idx_lookup, idx2card_lookup = construct_card_idx_lookup(4, 3)\n",
    "\n",
    "xy = np.zeros((65536, 3**4))\n",
    "\n",
    "for i, cardpair_idxs in enumerate(itertools.product(*[range(4**4), range(4**4)])):\n",
    "    card1_idx, card2_idx = cardpair_idxs\n",
    "    card1_prop = idx2card_lookup[card1_idx]\n",
    "    card2_prop = idx2card_lookup[card2_idx]\n",
    "    keys_prop = resolve(card1_prop, card2_prop, (0,1,2), set((0,1,2)))\n",
    "    keys_idx = [card2idx_lookup[kp] for kp in keys_prop]\n",
    "    xy[i, keys_idx] += 1\n",
    "\n",
    "np.sum(xy) / (65536 * 3**4)"
   ]
  },
  {
   "cell_type": "code",
   "execution_count": 9,
   "id": "sealed-desperate",
   "metadata": {},
   "outputs": [
    {
     "data": {
      "text/plain": [
       "5308416"
      ]
     },
     "execution_count": 9,
     "metadata": {},
     "output_type": "execute_result"
    }
   ],
   "source": [
    "65536 * (3**4)"
   ]
  },
  {
   "cell_type": "code",
   "execution_count": 11,
   "id": "suffering-wealth",
   "metadata": {},
   "outputs": [
    {
     "data": {
      "text/plain": [
       "0.095367431640625"
      ]
     },
     "execution_count": 11,
     "metadata": {},
     "output_type": "execute_result"
    }
   ],
   "source": [
    "card2idx_lookup, idx2card_lookup = construct_card_idx_lookup(5, 3)\n",
    "\n",
    "xy = np.zeros((1048576, 3**5))\n",
    "\n",
    "for i, cardpair_idxs in enumerate(itertools.product(*[range(4**5), range(4**5)])):\n",
    "    card1_idx, card2_idx = cardpair_idxs\n",
    "    card1_prop = idx2card_lookup[card1_idx]\n",
    "    card2_prop = idx2card_lookup[card2_idx]\n",
    "    keys_prop = resolve(card1_prop, card2_prop, (0,1,2), set((0,1,2)))\n",
    "    keys_idx = [card2idx_lookup[kp] for kp in keys_prop]\n",
    "    xy[i, keys_idx] += 1\n",
    "\n",
    "np.sum(xy) / (1048576 * 3**5)"
   ]
  },
  {
   "cell_type": "code",
   "execution_count": null,
   "id": "instrumental-commitment",
   "metadata": {},
   "outputs": [],
   "source": [
    "card2idx_lookup, idx2card_lookup = construct_card_idx_lookup(6, 3)\n",
    "xy = np.zeros((16777216, 3**6))\n",
    "\n",
    "for i, cardpair_idxs in enumerate(itertools.product(*[range(4**6), range(4**6)])):\n",
    "    card1_idx, card2_idx = cardpair_idxs\n",
    "    card1_prop = idx2card_lookup[card1_idx]\n",
    "    card2_prop = idx2card_lookup[card2_idx]\n",
    "    keys_prop = resolve(card1_prop, card2_prop, (0,1,2), set((0,1,2)))\n",
    "    keys_idx = [card2idx_lookup[kp] for kp in keys_prop]\n",
    "    xy[i, keys_idx] += 1\n",
    "\n",
    "np.sum(xy) / (16777216 * 3**4)"
   ]
  },
  {
   "cell_type": "code",
   "execution_count": 10,
   "id": "italian-shirt",
   "metadata": {},
   "outputs": [
    {
     "data": {
      "text/plain": [
       "1048576"
      ]
     },
     "execution_count": 10,
     "metadata": {},
     "output_type": "execute_result"
    }
   ],
   "source": [
    "len(list(itertools.product(*[range(4**5), range(4**5)])))"
   ]
  },
  {
   "cell_type": "code",
   "execution_count": 6,
   "id": "rental-commons",
   "metadata": {
    "scrolled": true
   },
   "outputs": [
    {
     "data": {
      "text/plain": [
       "81"
      ]
     },
     "execution_count": 6,
     "metadata": {},
     "output_type": "execute_result"
    }
   ],
   "source": [
    "len(list(itertools.product(*[range(9), range(9)])))"
   ]
  },
  {
   "cell_type": "code",
   "execution_count": 7,
   "id": "exceptional-launch",
   "metadata": {},
   "outputs": [
    {
     "data": {
      "text/plain": [
       "81"
      ]
     },
     "execution_count": 7,
     "metadata": {},
     "output_type": "execute_result"
    }
   ],
   "source": [
    "3**4"
   ]
  },
  {
   "cell_type": "code",
   "execution_count": 14,
   "id": "posted-legislature",
   "metadata": {},
   "outputs": [
    {
     "data": {
      "text/plain": [
       "81"
      ]
     },
     "execution_count": 14,
     "metadata": {},
     "output_type": "execute_result"
    }
   ],
   "source": [
    "np.linalg.matrix_rank(xy)"
   ]
  },
  {
   "cell_type": "code",
   "execution_count": 5,
   "id": "together-punch",
   "metadata": {},
   "outputs": [],
   "source": [
    "s = np.linalg.svd(xy, compute_uv=False)"
   ]
  },
  {
   "cell_type": "code",
   "execution_count": 6,
   "id": "primary-courage",
   "metadata": {},
   "outputs": [],
   "source": [
    "import matplotlib.pyplot as plt"
   ]
  },
  {
   "cell_type": "code",
   "execution_count": 7,
   "id": "played-tampa",
   "metadata": {},
   "outputs": [
    {
     "data": {
      "text/plain": [
       "[<matplotlib.lines.Line2D at 0x7f5c096c6580>]"
      ]
     },
     "execution_count": 7,
     "metadata": {},
     "output_type": "execute_result"
    },
    {
     "data": {
      "image/png": "[encoded data removed]",
      "text/plain": [
       "<Figure size 432x288 with 1 Axes>"
      ]
     },
     "metadata": {
      "needs_background": "light"
     },
     "output_type": "display_data"
    }
   ],
   "source": [
    "plt.plot(s)"
   ]
  },
  {
   "cell_type": "code",
   "execution_count": 8,
   "id": "mobile-diary",
   "metadata": {},
   "outputs": [
    {
     "data": {
      "text/plain": [
       "array([576.        , 203.64675298, 203.64675298, 203.64675298,\n",
       "       203.64675298, 203.64675298, 203.64675298, 203.64675298,\n",
       "       203.64675298,  72.        ,  72.        ,  72.        ,\n",
       "        72.        ,  72.        ,  72.        ,  72.        ,\n",
       "        72.        ,  72.        ,  72.        ,  72.        ,\n",
       "        72.        ,  72.        ,  72.        ,  72.        ,\n",
       "        72.        ,  72.        ,  72.        ,  72.        ,\n",
       "        72.        ,  72.        ,  72.        ,  72.        ,\n",
       "        72.        ,  25.45584412,  25.45584412,  25.45584412,\n",
       "        25.45584412,  25.45584412,  25.45584412,  25.45584412,\n",
       "        25.45584412,  25.45584412,  25.45584412,  25.45584412,\n",
       "        25.45584412,  25.45584412,  25.45584412,  25.45584412,\n",
       "        25.45584412,  25.45584412,  25.45584412,  25.45584412,\n",
       "        25.45584412,  25.45584412,  25.45584412,  25.45584412,\n",
       "        25.45584412,  25.45584412,  25.45584412,  25.45584412,\n",
       "        25.45584412,  25.45584412,  25.45584412,  25.45584412,\n",
       "        25.45584412,   9.        ,   9.        ,   9.        ,\n",
       "         9.        ,   9.        ,   9.        ,   9.        ,\n",
       "         9.        ,   9.        ,   9.        ,   9.        ,\n",
       "         9.        ,   9.        ,   9.        ,   9.        ,\n",
       "         9.        ])"
      ]
     },
     "execution_count": 8,
     "metadata": {},
     "output_type": "execute_result"
    }
   ],
   "source": [
    "s"
   ]
  },
  {
   "cell_type": "code",
   "execution_count": 14,
   "id": "changing-extra",
   "metadata": {},
   "outputs": [
    {
     "data": {
      "text/plain": [
       "<matplotlib.image.AxesImage at 0x7f5c09408f40>"
      ]
     },
     "execution_count": 14,
     "metadata": {},
     "output_type": "execute_result"
    },
    {
     "data": {
      "image/png": "[encoded data removed]",
      "text/plain": [
       "<Figure size 1440x1440 with 1 Axes>"
      ]
     },
     "metadata": {
      "needs_background": "light"
     },
     "output_type": "display_data"
    }
   ],
   "source": [
    "plt.figure(figsize=(20,20))\n",
    "plt.imshow(xy.T[:,:800])"
   ]
  },
  {
   "cell_type": "code",
   "execution_count": null,
   "id": "confused-firewall",
   "metadata": {},
   "outputs": [],
   "source": []
  }
 ],
 "metadata": {
  "kernelspec": {
   "display_name": "Python 3",
   "language": "python",
   "name": "python3"
  },
  "language_info": {
   "codemirror_mode": {
    "name": "ipython",
    "version": 3
   },
   "file_extension": ".py",
   "mimetype": "text/x-python",
   "name": "python",
   "nbconvert_exporter": "python",
   "pygments_lexer": "ipython3",
   "version": "3.8.3"
  }
 },
 "nbformat": 4,
 "nbformat_minor": 5
}

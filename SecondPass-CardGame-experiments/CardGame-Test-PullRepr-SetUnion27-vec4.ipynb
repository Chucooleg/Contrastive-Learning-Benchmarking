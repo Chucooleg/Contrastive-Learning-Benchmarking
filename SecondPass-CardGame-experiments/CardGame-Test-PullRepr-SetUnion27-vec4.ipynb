{
 "cells": [
  {
   "cell_type": "code",
   "execution_count": 38,
   "id": "general-tribe",
   "metadata": {
    "scrolled": false
   },
   "outputs": [
    {
     "name": "stdout",
     "output_type": "stream",
     "text": [
      "__Python VERSION: 3.8.3 (default, May 19 2020, 18:47:26) \n",
      "[GCC 7.3.0]\n",
      "__pyTorch VERSION: 1.7.0\n",
      "__CUDA VERSION\n",
      "/usr/bin/sh: 1: nvcc: not found\n",
      "__CUDNN VERSION: 8003\n",
      "__Number CUDA Devices: 2\n",
      "__Devices\n",
      "Active CUDA Device: GPU 1\n",
      "Available devices  2\n",
      "Current cuda device  1\n"
     ]
    }
   ],
   "source": [
    "# https://discuss.pytorch.org/t/i-have-3-gpu-why-torch-cuda-device-count-only-return-1/7245/4\n",
    "import torch\n",
    "import sys\n",
    "print('__Python VERSION:', sys.version)\n",
    "print('__pyTorch VERSION:', torch.__version__)\n",
    "print('__CUDA VERSION')\n",
    "from subprocess import call\n",
    "# call([\"nvcc\", \"--version\"]) does not work\n",
    "! nvcc --version\n",
    "print('__CUDNN VERSION:', torch.backends.cudnn.version())\n",
    "print('__Number CUDA Devices:', torch.cuda.device_count())\n",
    "print('__Devices')\n",
    "call([\"nvidia-smi\", \"--format=csv\", \"--query-gpu=index,name,driver_version,memory.total,memory.used,memory.free\"])\n",
    "print('Active CUDA Device: GPU', torch.cuda.current_device())\n",
    "\n",
    "print ('Available devices ', torch.cuda.device_count())\n",
    "print ('Current cuda device ', torch.cuda.current_device())"
   ]
  },
  {
   "cell_type": "code",
   "execution_count": 39,
   "id": "solar-suggestion",
   "metadata": {},
   "outputs": [
    {
     "name": "stdout",
     "output_type": "stream",
     "text": [
      "The autoreload extension is already loaded. To reload it, use:\n",
      "  %reload_ext autoreload\n"
     ]
    }
   ],
   "source": [
    "%load_ext autoreload\n",
    "%autoreload 2\n",
    "\n",
    "import os\n",
    "import json\n",
    "import main\n",
    "from tqdm import tqdm\n",
    "import numpy as np\n",
    "from argparse import ArgumentDefaultsHelpFormatter, ArgumentParser\n",
    "import matplotlib.pyplot as plt"
   ]
  },
  {
   "cell_type": "code",
   "execution_count": 40,
   "id": "handmade-joining",
   "metadata": {},
   "outputs": [],
   "source": [
    "# arguments\n",
    "parser = ArgumentParser(formatter_class=ArgumentDefaultsHelpFormatter)\n",
    "args = parser.parse_args('')\n",
    "\n",
    "args.project_name = 'ContrastiveLearning-SET-Wildcard-Expand-Union-27'\n",
    "args.data_path = '../Raw_Datasets/SET/WildCardSETidxUnion-3Attr-3Vals-8Pairs-0Train-5120Val-5120Test.json'\n",
    "args.mode = 'test'\n",
    "args.resume_checkpoint_dir = (\n",
    "    'checkpoints/ContrastiveLearning-SET-Wildcard-Expand-Union-27/20210401-160755-Con;Vec4;L8H8Lk4Hk2;scheduledAdamW36000;16871.56Kparams_runId_3aw2kmru')\n",
    "args.ckpt_name = 'last.ckpt'\n",
    "args.runID = '3aw2kmru'\n",
    "args.gpu = 1\n",
    "args.approve_before_training = False\n",
    "args.aml = False\n",
    "args.dataset_name = None"
   ]
  },
  {
   "cell_type": "code",
   "execution_count": 41,
   "id": "particular-remedy",
   "metadata": {
    "scrolled": true
   },
   "outputs": [
    {
     "name": "stderr",
     "output_type": "stream",
     "text": [
      "Global seed set to 42\n"
     ]
    },
    {
     "name": "stdout",
     "output_type": "stream",
     "text": [
      "---------data----------\n",
      "num_attributes : 3\n",
      "num_attr_vals : 3\n",
      "key_support_size : 27\n",
      "N_pairs : 8\n",
      "union_only : True\n",
      "max_len_q : 16\n",
      "len_k : 1\n",
      "train_gt_idxs length : 0\n",
      "val_gt_idxs length : 5120\n",
      "test_gt_idxs length : 5120\n",
      "train_tokens length : 0\n",
      "val_tokens length : 5120\n",
      "test_tokens length : 5120\n",
      "test_marginal_gt_idxs length : 5120\n",
      "test_marginal_tokens length : 5120\n",
      "vocab_size : 74\n",
      "symbol_vocab_token_lookup : {'(': 64, ')': 65, 'NULL': 66, 'SEP': 67, 'SOS': 68, 'EOS': 69, 'PAD': 70, 'PLH': 71, '|': 72, '!': 73}\n",
      "vocab_by_property : False\n",
      "-----------------------\n",
      "----------hparams----------\n",
      "seed : 42\n",
      "batch_size : 1024\n",
      "max_epochs : 20000000000\n",
      "val_every_n_epoch : 200\n",
      "d_model : 512\n",
      "embed_dropout : 0.0\n",
      "vec_repr : 4\n",
      "model : contrastive\n",
      "d_ff : 1024\n",
      "N_enc : 8\n",
      "num_heads : 8\n",
      "N_enc_key : 4\n",
      "num_heads_key : 2\n",
      "attn_wt_tying_scheme : untie_QKVO\n",
      "attn_wt_dropout : 0.0\n",
      "heads_dropout : 0.0\n",
      "pff_dropout : 0.0\n",
      "representation_pos : 0\n",
      "dotproduct_bottleneck : True\n",
      "normalize_dotproduct : False\n",
      "contrastive_use_infoNCE : True\n",
      "loss_temperature_const : 1.0\n",
      "loss_smoothing_const : 0.1\n",
      "nonlinear_classifier_scale_down_factor : [1, 1, 1]\n",
      "contrastive_optimizer : scheduled_adam\n",
      "cosine_annealing_T_max : 30\n",
      "adam_lr : 1e-05\n",
      "adam_beta1 : 0.9\n",
      "adam_beta2 : 0.999\n",
      "adam_epsilon : 1e-08\n",
      "adam_weight_decay : 0\n",
      "sgd_lr : 0.001\n",
      "sgd_momentum : 0\n",
      "scheduled_adam_beta1 : 0.9\n",
      "scheduled_adam_beta2 : 0.98\n",
      "scheduled_adam_epsilon : 1e-06\n",
      "scheduled_adam_warmup_steps : 36000\n",
      "additional_lr_decay : False\n",
      "additional_lr_decay_gamma : 0.9\n",
      "decay_lr_starts : 36000\n",
      "decay_lr_stops : 300000\n",
      "decay_lr_interval : 2000\n",
      "generative_overall_lr_scale : 1.0\n",
      "contrastive_overall_lr_scale : 1.0\n",
      "gradient_clip_val : 0.0\n",
      "debug : False\n",
      "extra_monitors : False\n",
      "mode : test\n",
      "key_support_size : 27\n",
      "num_attributes : 3\n",
      "num_attr_vals : 3\n",
      "union_only : True\n",
      "vocab_size : 74\n",
      "vocab_by_property : False\n",
      "( : 64\n",
      ") : 65\n",
      "NULL : 66\n",
      "SEP : 67\n",
      "SOS : 68\n",
      "EOS : 69\n",
      "PAD : 70\n",
      "PLH : 71\n",
      "| : 72\n",
      "! : 73\n",
      "max_len_q : 16\n",
      "N_pairs : 8\n",
      "len_k : 1\n",
      "resume_checkpoint_dir : checkpoints/ContrastiveLearning-SET-Wildcard-Expand-Union-27/20210401-160755-Con;Vec4;L8H8Lk4Hk2;scheduledAdamW36000;16871.56Kparams_runId_3aw2kmru\n",
      "---------------------------\n",
      "    | Name                                                              | Type                    | Params\n",
      "----------------------------------------------------------------------------------------------------------------\n",
      "0   | metrics                                                           | ThresholdedMetrics      | 0     \n",
      "1   | KLdiv_criterion                                                   | KLdivLoss               | 0     \n",
      "2   | KLdiv_criterion.KLdiv_criterion                                   | KLDivLoss               | 0     \n",
      "3   | KLdiv_criterion.KLdiv_criterion_full                              | KLDivLoss               | 0     \n",
      "4   | KLdiv_criterion.logprob                                           | LogSoftmax              | 0     \n",
      "5   | model                                                             | EncoderPredictor        | 16.9 M\n",
      "6   | model.inp_query_layer                                             | Sequential              | 47.1 K\n",
      "7   | model.inp_query_layer.scaled_embed                                | ScaledEmbedding         | 37.9 K\n",
      "8   | model.inp_query_layer.scaled_embed.embedding                      | Embedding               | 37.9 K\n",
      "9   | model.inp_query_layer.position_encoder                            | LearnedPositionEncoder  | 9.2 K \n",
      "10  | model.inp_query_layer.embed_dropout                               | Dropout                 | 0     \n",
      "11  | model.inp_key_layer                                               | Sequential              | 108   \n",
      "12  | model.inp_key_layer.scaled_embed                                  | ScaledEmbedding         | 108   \n",
      "13  | model.inp_key_layer.scaled_embed.embedding                        | Embedding               | 108   \n",
      "14  | model.query_encoder                                               | Encoder                 | 16.8 M\n",
      "15  | model.query_encoder.encoder_layers                                | ModuleList              | 16.8 M\n",
      "16  | model.query_encoder.encoder_layers.0                              | EncoderLayer            | 2.1 M \n",
      "17  | model.query_encoder.encoder_layers.0.poswise_ff                   | Positiontwise_FF        | 1.1 M \n",
      "18  | model.query_encoder.encoder_layers.0.poswise_ff.linear1           | Linear                  | 525 K \n",
      "19  | model.query_encoder.encoder_layers.0.poswise_ff.linear2           | Linear                  | 524 K \n",
      "20  | model.query_encoder.encoder_layers.0.self_attn                    | MultiHeadAttention      | 1.1 M \n",
      "21  | model.query_encoder.encoder_layers.0.self_attn.attn_wt_dropout    | Dropout                 | 0     \n",
      "22  | model.query_encoder.encoder_layers.0.self_attn.projections_QKVO   | ModuleList              | 1.1 M \n",
      "23  | model.query_encoder.encoder_layers.0.self_attn.projections_QKVO.0 | Linear                  | 262 K \n",
      "24  | model.query_encoder.encoder_layers.0.self_attn.projections_QKVO.1 | Linear                  | 262 K \n",
      "25  | model.query_encoder.encoder_layers.0.self_attn.projections_QKVO.2 | Linear                  | 262 K \n",
      "26  | model.query_encoder.encoder_layers.0.self_attn.projections_QKVO.3 | Linear                  | 262 K \n",
      "27  | model.query_encoder.encoder_layers.0.layer_norms                  | ModuleList              | 2.0 K \n",
      "28  | model.query_encoder.encoder_layers.0.layer_norms.0                | LayerNorm               | 1.0 K \n",
      "29  | model.query_encoder.encoder_layers.0.layer_norms.1                | LayerNorm               | 1.0 K \n",
      "30  | model.query_encoder.encoder_layers.0.heads_dropout                | Dropout                 | 0     \n",
      "31  | model.query_encoder.encoder_layers.0.pff_dropout                  | Dropout                 | 0     \n",
      "32  | model.query_encoder.encoder_layers.1                              | EncoderLayer            | 2.1 M \n",
      "33  | model.query_encoder.encoder_layers.1.poswise_ff                   | Positiontwise_FF        | 1.1 M \n",
      "34  | model.query_encoder.encoder_layers.1.poswise_ff.linear1           | Linear                  | 525 K \n",
      "35  | model.query_encoder.encoder_layers.1.poswise_ff.linear2           | Linear                  | 524 K \n",
      "36  | model.query_encoder.encoder_layers.1.self_attn                    | MultiHeadAttention      | 1.1 M \n",
      "37  | model.query_encoder.encoder_layers.1.self_attn.attn_wt_dropout    | Dropout                 | 0     \n",
      "38  | model.query_encoder.encoder_layers.1.self_attn.projections_QKVO   | ModuleList              | 1.1 M \n",
      "39  | model.query_encoder.encoder_layers.1.self_attn.projections_QKVO.0 | Linear                  | 262 K \n",
      "40  | model.query_encoder.encoder_layers.1.self_attn.projections_QKVO.1 | Linear                  | 262 K \n",
      "41  | model.query_encoder.encoder_layers.1.self_attn.projections_QKVO.2 | Linear                  | 262 K \n",
      "42  | model.query_encoder.encoder_layers.1.self_attn.projections_QKVO.3 | Linear                  | 262 K \n",
      "43  | model.query_encoder.encoder_layers.1.layer_norms                  | ModuleList              | 2.0 K \n",
      "44  | model.query_encoder.encoder_layers.1.layer_norms.0                | LayerNorm               | 1.0 K \n",
      "45  | model.query_encoder.encoder_layers.1.layer_norms.1                | LayerNorm               | 1.0 K \n",
      "46  | model.query_encoder.encoder_layers.1.heads_dropout                | Dropout                 | 0     \n",
      "47  | model.query_encoder.encoder_layers.1.pff_dropout                  | Dropout                 | 0     \n",
      "48  | model.query_encoder.encoder_layers.2                              | EncoderLayer            | 2.1 M \n",
      "49  | model.query_encoder.encoder_layers.2.poswise_ff                   | Positiontwise_FF        | 1.1 M \n",
      "50  | model.query_encoder.encoder_layers.2.poswise_ff.linear1           | Linear                  | 525 K \n",
      "51  | model.query_encoder.encoder_layers.2.poswise_ff.linear2           | Linear                  | 524 K \n",
      "52  | model.query_encoder.encoder_layers.2.self_attn                    | MultiHeadAttention      | 1.1 M \n",
      "53  | model.query_encoder.encoder_layers.2.self_attn.attn_wt_dropout    | Dropout                 | 0     \n",
      "54  | model.query_encoder.encoder_layers.2.self_attn.projections_QKVO   | ModuleList              | 1.1 M \n",
      "55  | model.query_encoder.encoder_layers.2.self_attn.projections_QKVO.0 | Linear                  | 262 K \n",
      "56  | model.query_encoder.encoder_layers.2.self_attn.projections_QKVO.1 | Linear                  | 262 K \n",
      "57  | model.query_encoder.encoder_layers.2.self_attn.projections_QKVO.2 | Linear                  | 262 K \n",
      "58  | model.query_encoder.encoder_layers.2.self_attn.projections_QKVO.3 | Linear                  | 262 K \n",
      "59  | model.query_encoder.encoder_layers.2.layer_norms                  | ModuleList              | 2.0 K \n",
      "60  | model.query_encoder.encoder_layers.2.layer_norms.0                | LayerNorm               | 1.0 K \n",
      "61  | model.query_encoder.encoder_layers.2.layer_norms.1                | LayerNorm               | 1.0 K \n",
      "62  | model.query_encoder.encoder_layers.2.heads_dropout                | Dropout                 | 0     \n",
      "63  | model.query_encoder.encoder_layers.2.pff_dropout                  | Dropout                 | 0     \n",
      "64  | model.query_encoder.encoder_layers.3                              | EncoderLayer            | 2.1 M \n",
      "65  | model.query_encoder.encoder_layers.3.poswise_ff                   | Positiontwise_FF        | 1.1 M \n",
      "66  | model.query_encoder.encoder_layers.3.poswise_ff.linear1           | Linear                  | 525 K \n",
      "67  | model.query_encoder.encoder_layers.3.poswise_ff.linear2           | Linear                  | 524 K \n",
      "68  | model.query_encoder.encoder_layers.3.self_attn                    | MultiHeadAttention      | 1.1 M \n",
      "69  | model.query_encoder.encoder_layers.3.self_attn.attn_wt_dropout    | Dropout                 | 0     \n",
      "70  | model.query_encoder.encoder_layers.3.self_attn.projections_QKVO   | ModuleList              | 1.1 M \n",
      "71  | model.query_encoder.encoder_layers.3.self_attn.projections_QKVO.0 | Linear                  | 262 K \n",
      "72  | model.query_encoder.encoder_layers.3.self_attn.projections_QKVO.1 | Linear                  | 262 K \n",
      "73  | model.query_encoder.encoder_layers.3.self_attn.projections_QKVO.2 | Linear                  | 262 K \n",
      "74  | model.query_encoder.encoder_layers.3.self_attn.projections_QKVO.3 | Linear                  | 262 K \n",
      "75  | model.query_encoder.encoder_layers.3.layer_norms                  | ModuleList              | 2.0 K \n",
      "76  | model.query_encoder.encoder_layers.3.layer_norms.0                | LayerNorm               | 1.0 K \n",
      "77  | model.query_encoder.encoder_layers.3.layer_norms.1                | LayerNorm               | 1.0 K \n",
      "78  | model.query_encoder.encoder_layers.3.heads_dropout                | Dropout                 | 0     \n",
      "79  | model.query_encoder.encoder_layers.3.pff_dropout                  | Dropout                 | 0     \n",
      "80  | model.query_encoder.encoder_layers.4                              | EncoderLayer            | 2.1 M \n",
      "81  | model.query_encoder.encoder_layers.4.poswise_ff                   | Positiontwise_FF        | 1.1 M \n",
      "82  | model.query_encoder.encoder_layers.4.poswise_ff.linear1           | Linear                  | 525 K \n",
      "83  | model.query_encoder.encoder_layers.4.poswise_ff.linear2           | Linear                  | 524 K \n",
      "84  | model.query_encoder.encoder_layers.4.self_attn                    | MultiHeadAttention      | 1.1 M \n",
      "85  | model.query_encoder.encoder_layers.4.self_attn.attn_wt_dropout    | Dropout                 | 0     \n",
      "86  | model.query_encoder.encoder_layers.4.self_attn.projections_QKVO   | ModuleList              | 1.1 M \n",
      "87  | model.query_encoder.encoder_layers.4.self_attn.projections_QKVO.0 | Linear                  | 262 K \n",
      "88  | model.query_encoder.encoder_layers.4.self_attn.projections_QKVO.1 | Linear                  | 262 K \n",
      "89  | model.query_encoder.encoder_layers.4.self_attn.projections_QKVO.2 | Linear                  | 262 K \n",
      "90  | model.query_encoder.encoder_layers.4.self_attn.projections_QKVO.3 | Linear                  | 262 K \n",
      "91  | model.query_encoder.encoder_layers.4.layer_norms                  | ModuleList              | 2.0 K \n",
      "92  | model.query_encoder.encoder_layers.4.layer_norms.0                | LayerNorm               | 1.0 K \n",
      "93  | model.query_encoder.encoder_layers.4.layer_norms.1                | LayerNorm               | 1.0 K \n",
      "94  | model.query_encoder.encoder_layers.4.heads_dropout                | Dropout                 | 0     \n",
      "95  | model.query_encoder.encoder_layers.4.pff_dropout                  | Dropout                 | 0     \n",
      "96  | model.query_encoder.encoder_layers.5                              | EncoderLayer            | 2.1 M \n",
      "97  | model.query_encoder.encoder_layers.5.poswise_ff                   | Positiontwise_FF        | 1.1 M \n",
      "98  | model.query_encoder.encoder_layers.5.poswise_ff.linear1           | Linear                  | 525 K \n",
      "99  | model.query_encoder.encoder_layers.5.poswise_ff.linear2           | Linear                  | 524 K \n",
      "100 | model.query_encoder.encoder_layers.5.self_attn                    | MultiHeadAttention      | 1.1 M \n",
      "101 | model.query_encoder.encoder_layers.5.self_attn.attn_wt_dropout    | Dropout                 | 0     \n",
      "102 | model.query_encoder.encoder_layers.5.self_attn.projections_QKVO   | ModuleList              | 1.1 M \n",
      "103 | model.query_encoder.encoder_layers.5.self_attn.projections_QKVO.0 | Linear                  | 262 K \n",
      "104 | model.query_encoder.encoder_layers.5.self_attn.projections_QKVO.1 | Linear                  | 262 K \n",
      "105 | model.query_encoder.encoder_layers.5.self_attn.projections_QKVO.2 | Linear                  | 262 K \n",
      "106 | model.query_encoder.encoder_layers.5.self_attn.projections_QKVO.3 | Linear                  | 262 K \n",
      "107 | model.query_encoder.encoder_layers.5.layer_norms                  | ModuleList              | 2.0 K \n",
      "108 | model.query_encoder.encoder_layers.5.layer_norms.0                | LayerNorm               | 1.0 K \n",
      "109 | model.query_encoder.encoder_layers.5.layer_norms.1                | LayerNorm               | 1.0 K \n",
      "110 | model.query_encoder.encoder_layers.5.heads_dropout                | Dropout                 | 0     \n",
      "111 | model.query_encoder.encoder_layers.5.pff_dropout                  | Dropout                 | 0     \n",
      "112 | model.query_encoder.encoder_layers.6                              | EncoderLayer            | 2.1 M \n",
      "113 | model.query_encoder.encoder_layers.6.poswise_ff                   | Positiontwise_FF        | 1.1 M \n",
      "114 | model.query_encoder.encoder_layers.6.poswise_ff.linear1           | Linear                  | 525 K \n",
      "115 | model.query_encoder.encoder_layers.6.poswise_ff.linear2           | Linear                  | 524 K \n",
      "116 | model.query_encoder.encoder_layers.6.self_attn                    | MultiHeadAttention      | 1.1 M \n",
      "117 | model.query_encoder.encoder_layers.6.self_attn.attn_wt_dropout    | Dropout                 | 0     \n",
      "118 | model.query_encoder.encoder_layers.6.self_attn.projections_QKVO   | ModuleList              | 1.1 M \n",
      "119 | model.query_encoder.encoder_layers.6.self_attn.projections_QKVO.0 | Linear                  | 262 K \n",
      "120 | model.query_encoder.encoder_layers.6.self_attn.projections_QKVO.1 | Linear                  | 262 K \n",
      "121 | model.query_encoder.encoder_layers.6.self_attn.projections_QKVO.2 | Linear                  | 262 K \n",
      "122 | model.query_encoder.encoder_layers.6.self_attn.projections_QKVO.3 | Linear                  | 262 K \n",
      "123 | model.query_encoder.encoder_layers.6.layer_norms                  | ModuleList              | 2.0 K \n",
      "124 | model.query_encoder.encoder_layers.6.layer_norms.0                | LayerNorm               | 1.0 K \n",
      "125 | model.query_encoder.encoder_layers.6.layer_norms.1                | LayerNorm               | 1.0 K \n",
      "126 | model.query_encoder.encoder_layers.6.heads_dropout                | Dropout                 | 0     \n",
      "127 | model.query_encoder.encoder_layers.6.pff_dropout                  | Dropout                 | 0     \n",
      "128 | model.query_encoder.encoder_layers.7                              | EncoderLayer            | 2.1 M \n",
      "129 | model.query_encoder.encoder_layers.7.poswise_ff                   | Positiontwise_FF        | 1.1 M \n",
      "130 | model.query_encoder.encoder_layers.7.poswise_ff.linear1           | Linear                  | 525 K \n",
      "131 | model.query_encoder.encoder_layers.7.poswise_ff.linear2           | Linear                  | 524 K \n",
      "132 | model.query_encoder.encoder_layers.7.self_attn                    | MultiHeadAttention      | 1.1 M \n",
      "133 | model.query_encoder.encoder_layers.7.self_attn.attn_wt_dropout    | Dropout                 | 0     \n",
      "134 | model.query_encoder.encoder_layers.7.self_attn.projections_QKVO   | ModuleList              | 1.1 M \n",
      "135 | model.query_encoder.encoder_layers.7.self_attn.projections_QKVO.0 | Linear                  | 262 K \n",
      "136 | model.query_encoder.encoder_layers.7.self_attn.projections_QKVO.1 | Linear                  | 262 K \n",
      "137 | model.query_encoder.encoder_layers.7.self_attn.projections_QKVO.2 | Linear                  | 262 K \n",
      "138 | model.query_encoder.encoder_layers.7.self_attn.projections_QKVO.3 | Linear                  | 262 K \n",
      "139 | model.query_encoder.encoder_layers.7.layer_norms                  | ModuleList              | 2.0 K \n",
      "140 | model.query_encoder.encoder_layers.7.layer_norms.0                | LayerNorm               | 1.0 K \n",
      "141 | model.query_encoder.encoder_layers.7.layer_norms.1                | LayerNorm               | 1.0 K \n",
      "142 | model.query_encoder.encoder_layers.7.heads_dropout                | Dropout                 | 0     \n",
      "143 | model.query_encoder.encoder_layers.7.pff_dropout                  | Dropout                 | 0     \n",
      "144 | model.query_projection                                            | Linear                  | 2.1 K \n",
      "145 | CE_criterion                                                      | CELoss                  | 0     \n",
      "146 | CE_criterion.CE_loss                                              | CrossEntropyLoss        | 0     \n",
      "147 | loss_criterion                                                    | InfoCELoss              | 0     \n",
      "148 | loss_criterion.CE_loss                                            | CrossEntropyLoss        | 0     \n",
      "149 | debug_metrics                                                     | ContrastiveDebugMetrics | 0     \n",
      "150 | softmax                                                           | Softmax                 | 0     \n",
      "----------------------------------------------------------------------------------------------------------------\n",
      "16.9 M    Trainable params\n",
      "0         Non-trainable params\n",
      "16.9 M    Total params\n",
      "67.486    Total estimated model params size (MB) \n",
      "\n"
     ]
    },
    {
     "name": "stdout",
     "output_type": "stream",
     "text": [
      "RUN NAME :\n",
      " Con;Vec4;L8H8Lk4Hk2;scheduledAdamW36000;16871.56Kparams\n",
      "Resuming From and Saving to Checkpoint Path:\n",
      " checkpoints/ContrastiveLearning-SET-Wildcard-Expand-Union-27/20210401-160755-Con;Vec4;L8H8Lk4Hk2;scheduledAdamW36000;16871.56Kparams_runId_3aw2kmru\n"
     ]
    },
    {
     "name": "stderr",
     "output_type": "stream",
     "text": [
      "GPU available: True, used: True\n",
      "TPU available: None, using: 0 TPU cores\n",
      "LOCAL_RANK: 0 - CUDA_VISIBLE_DEVICES: [0,1]\n"
     ]
    },
    {
     "name": "stdout",
     "output_type": "stream",
     "text": [
      "\r",
      "Testing: 0it [00:00, ?it/s]"
     ]
    },
    {
     "name": "stderr",
     "output_type": "stream",
     "text": [
      "/home/user/miniconda/lib/python3.8/site-packages/pytorch_lightning/utilities/distributed.py:52: UserWarning: The dataloader, test dataloader 0, does not have many workers which may be a bottleneck. Consider increasing the value of the `num_workers` argument` (try 16 which is the number of cpus on this machine) in the `DataLoader` init to improve performance.\n",
      "  warnings.warn(*args, **kwargs)\n"
     ]
    },
    {
     "name": "stdout",
     "output_type": "stream",
     "text": [
      "Testing: 100%|██████████| 5/5 [00:04<00:00,  1.24it/s]{0.2977279722690582, 0.6298671364784241, 0.6890408396720886, 0.9075267910957336, 0.7316441535949707, 0.9100871086120605, 0.6233341097831726, 0.7398847937583923, 5.24666690826416, 7.103480815887451, 8.242130279541016, 11.512972831726074, 12.5045804977417, 13.675265312194824, 10.288473129272461, 15.993766784667969, 9.161714553833008, 17.194751739501953, 14.931619644165039, 19.732831954956055, 18.529630661010742, 21.006927490234375, 22.60555648803711, 23.84492301940918, 16.153593063354492, 25.200000762939453, 5.126667022705078, 27.0, 5.912381172180176, 5.720000267028809, 0.03726695105433464, 6.091323375701904, 6.912744998931885, 0.04374265298247337, 0.03703700006008148, 0.03970102593302727, 7.6533331871032715, 7.395744323730469, 0.044832345098257065, 0.052808430045843124, 0.041113801300525665, 8.787619590759277, 8.108551025390625, 8.5747709274292, 0.025698412209749222, 9.6204252243042, 9.946065902709961, 9.43868637084961, 0.841160750800946, 10.197443008422852, 10.701904296875, 10.039999961853027, 10.766988754272461, 10.209938049316406, 11.692594528198242, 11.418886184692383, 11.660685539245605, 11.891379356384277, 11.604361534118652, 11.783905982971191, 12.376303672790527, 11.809392929077148, 11.592744827270508, 11.010527610778809, 12.949853897094727, 12.585844993591309, 13.88166332244873, 13.884126663208008, 13.531305313110352, 13.665908813476562, 14.476117134094238, 14.294761657714844, 14.75, 13.829363822937012, 14.309887886047363, 14.24476146697998, 14.699999809265137, 0.025315484032034874, 0.025846248492598534, 0.026105446740984917, 0.028788579627871513, 0.025286151096224785, 0.025640053674578667, 0.04992803558707237, 0.041909318417310715, 0.04877867549657822, 0.04598966985940933, 0.04668007045984268, 0.038378264755010605, 0.03893818333745003, 0.04748646169900894, 0.05105941370129585, 0.04291248321533203, 1024.0, 0.027643729001283646, 0.02817447856068611, 0.037779662758111954, 0.06282948702573776, nan, 0.027334004640579224, 0.027754202485084534, 11.675080299377441, 11.656554222106934, 11.048436164855957, 11.95541000366211, 11.865683555603027, 11.122058868408203, 11.8134126663208, 0.040293317288160324, 0.025465358048677444, 304.8734436035156, 12.13027286529541, 13.088316917419434, 0.02915133908390999, 0.02665223553776741, 0.025637486949563026, 0.02630721963942051, 0.02617705799639225, 0.03105924464762211, 0.025389153510332108}\n",
      "Also saved to : checkpoints/ContrastiveLearning-SET-Wildcard-Expand-Union-27/20210401-160755-Con;Vec4;L8H8Lk4Hk2;scheduledAdamW36000;16871.56Kparams_runId_3aw2kmru/test_metrics.json\n",
      "Testing: 100%|██████████| 5/5 [00:04<00:00,  1.11it/s]\n",
      "--------------------------------------------------------------------------------\n",
      "DATALOADER:0 TEST RESULTS\n",
      "{'avg_batch_size': 1024.0,\n",
      " 'avg_test_KL_loss': 304.8734436035156,\n",
      " 'avg_test_KL_loss_per_example': 0.2977279722690582,\n",
      " 'avg_test_accuracy_by_Query': 0.6890408396720886,\n",
      " 'avg_test_accuracy_by_QueryKey': 0.6890408396720886,\n",
      " 'avg_test_f1_by_Query': 0.7316441535949707,\n",
      " 'avg_test_f1_by_QueryKey': 0.7398847937583923,\n",
      " 'avg_test_gt10;gt_logits_above_threshold_count': 6.912744998931885,\n",
      " 'avg_test_gt10;gt_pred_scores': 0.05105941370129585,\n",
      " 'avg_test_gt10;not_gt_pred_scores': 0.028788579627871513,\n",
      " 'avg_test_gt10;top10_overlap_count': 6.091323375701904,\n",
      " 'avg_test_gt10;top10_pred_above_threshold_count': 9.6204252243042,\n",
      " 'avg_test_gt10;total_pred_above_threshold_count': 11.783905982971191,\n",
      " 'avg_test_gt11;gt_logits_above_threshold_count': 7.395744323730469,\n",
      " 'avg_test_gt11;gt_pred_scores': 0.04992803558707237,\n",
      " 'avg_test_gt11;not_gt_pred_scores': 0.02817447856068611,\n",
      " 'avg_test_gt11;top11_overlap_count': 7.103480815887451,\n",
      " 'avg_test_gt11;top11_pred_above_threshold_count': 10.197443008422852,\n",
      " 'avg_test_gt11;total_pred_above_threshold_count': 11.418886184692383,\n",
      " 'avg_test_gt12;gt_logits_above_threshold_count': 8.108551025390625,\n",
      " 'avg_test_gt12;gt_pred_scores': 0.04877867549657822,\n",
      " 'avg_test_gt12;not_gt_pred_scores': 0.027643729001283646,\n",
      " 'avg_test_gt12;top12_overlap_count': 8.242130279541016,\n",
      " 'avg_test_gt12;top12_pred_above_threshold_count': 11.010527610778809,\n",
      " 'avg_test_gt12;total_pred_above_threshold_count': 11.660685539245605,\n",
      " 'avg_test_gt13;gt_logits_above_threshold_count': 8.5747709274292,\n",
      " 'avg_test_gt13;gt_pred_scores': 0.04748646169900894,\n",
      " 'avg_test_gt13;not_gt_pred_scores': 0.027334004640579224,\n",
      " 'avg_test_gt13;top13_overlap_count': 9.161714553833008,\n",
      " 'avg_test_gt13;top13_pred_above_threshold_count': 11.048436164855957,\n",
      " 'avg_test_gt13;total_pred_above_threshold_count': 11.604361534118652,\n",
      " 'avg_test_gt14;gt_logits_above_threshold_count': 9.43868637084961,\n",
      " 'avg_test_gt14;gt_pred_scores': 0.04668007045984268,\n",
      " 'avg_test_gt14;not_gt_pred_scores': 0.02665223553776741,\n",
      " 'avg_test_gt14;top14_overlap_count': 10.288473129272461,\n",
      " 'avg_test_gt14;top14_pred_above_threshold_count': 11.656554222106934,\n",
      " 'avg_test_gt14;total_pred_above_threshold_count': 12.13027286529541,\n",
      " 'avg_test_gt15;gt_logits_above_threshold_count': 9.946065902709961,\n",
      " 'avg_test_gt15;gt_pred_scores': 0.04598966985940933,\n",
      " 'avg_test_gt15;not_gt_pred_scores': 0.025846248492598534,\n",
      " 'avg_test_gt15;top15_overlap_count': 11.512972831726074,\n",
      " 'avg_test_gt15;top15_pred_above_threshold_count': 11.675080299377441,\n",
      " 'avg_test_gt15;total_pred_above_threshold_count': 11.891379356384277,\n",
      " 'avg_test_gt16;gt_logits_above_threshold_count': 10.209938049316406,\n",
      " 'avg_test_gt16;gt_pred_scores': 0.044832345098257065,\n",
      " 'avg_test_gt16;not_gt_pred_scores': 0.025698412209749222,\n",
      " 'avg_test_gt16;top16_overlap_count': 12.5045804977417,\n",
      " 'avg_test_gt16;top16_pred_above_threshold_count': 11.592744827270508,\n",
      " 'avg_test_gt16;total_pred_above_threshold_count': 11.692594528198242,\n",
      " 'avg_test_gt17;gt_logits_above_threshold_count': 10.766988754272461,\n",
      " 'avg_test_gt17;gt_pred_scores': 0.04374265298247337,\n",
      " 'avg_test_gt17;not_gt_pred_scores': 0.025637486949563026,\n",
      " 'avg_test_gt17;top17_overlap_count': 13.675265312194824,\n",
      " 'avg_test_gt17;top17_pred_above_threshold_count': 11.809392929077148,\n",
      " 'avg_test_gt17;total_pred_above_threshold_count': 11.865683555603027,\n",
      " 'avg_test_gt18;gt_logits_above_threshold_count': 11.122058868408203,\n",
      " 'avg_test_gt18;gt_pred_scores': 0.04291248321533203,\n",
      " 'avg_test_gt18;not_gt_pred_scores': 0.025286151096224785,\n",
      " 'avg_test_gt18;top18_overlap_count': 14.931619644165039,\n",
      " 'avg_test_gt18;top18_pred_above_threshold_count': 11.95541000366211,\n",
      " 'avg_test_gt18;total_pred_above_threshold_count': 11.95541000366211,\n",
      " 'avg_test_gt19;gt_logits_above_threshold_count': 11.8134126663208,\n",
      " 'avg_test_gt19;gt_pred_scores': 0.041909318417310715,\n",
      " 'avg_test_gt19;not_gt_pred_scores': 0.025465358048677444,\n",
      " 'avg_test_gt19;top19_overlap_count': 15.993766784667969,\n",
      " 'avg_test_gt19;top19_pred_above_threshold_count': 12.585844993591309,\n",
      " 'avg_test_gt19;total_pred_above_threshold_count': 12.585844993591309,\n",
      " 'avg_test_gt20;gt_logits_above_threshold_count': 12.376303672790527,\n",
      " 'avg_test_gt20;gt_pred_scores': 0.041113801300525665,\n",
      " 'avg_test_gt20;not_gt_pred_scores': 0.025389153510332108,\n",
      " 'avg_test_gt20;top20_overlap_count': 17.194751739501953,\n",
      " 'avg_test_gt20;top20_pred_above_threshold_count': 12.949853897094727,\n",
      " 'avg_test_gt20;total_pred_above_threshold_count': 12.949853897094727,\n",
      " 'avg_test_gt21;gt_logits_above_threshold_count': 13.088316917419434,\n",
      " 'avg_test_gt21;gt_pred_scores': 0.040293317288160324,\n",
      " 'avg_test_gt21;not_gt_pred_scores': 0.025640053674578667,\n",
      " 'avg_test_gt21;top21_overlap_count': 18.529630661010742,\n",
      " 'avg_test_gt21;top21_pred_above_threshold_count': 13.531305313110352,\n",
      " 'avg_test_gt21;total_pred_above_threshold_count': 13.531305313110352,\n",
      " 'avg_test_gt22;gt_logits_above_threshold_count': 13.665908813476562,\n",
      " 'avg_test_gt22;gt_pred_scores': 0.03970102593302727,\n",
      " 'avg_test_gt22;not_gt_pred_scores': 0.025315484032034874,\n",
      " 'avg_test_gt22;top22_overlap_count': 19.732831954956055,\n",
      " 'avg_test_gt22;top22_pred_above_threshold_count': 13.88166332244873,\n",
      " 'avg_test_gt22;total_pred_above_threshold_count': 13.88166332244873,\n",
      " 'avg_test_gt23;gt_logits_above_threshold_count': 14.309887886047363,\n",
      " 'avg_test_gt23;gt_pred_scores': 0.03893818333745003,\n",
      " 'avg_test_gt23;not_gt_pred_scores': 0.026105446740984917,\n",
      " 'avg_test_gt23;top23_overlap_count': 21.006927490234375,\n",
      " 'avg_test_gt23;top23_pred_above_threshold_count': 14.476117134094238,\n",
      " 'avg_test_gt23;total_pred_above_threshold_count': 14.476117134094238,\n",
      " 'avg_test_gt24;gt_logits_above_threshold_count': 13.829363822937012,\n",
      " 'avg_test_gt24;gt_pred_scores': 0.038378264755010605,\n",
      " 'avg_test_gt24;not_gt_pred_scores': 0.02630721963942051,\n",
      " 'avg_test_gt24;top24_overlap_count': 22.60555648803711,\n",
      " 'avg_test_gt24;top24_pred_above_threshold_count': 13.884126663208008,\n",
      " 'avg_test_gt24;total_pred_above_threshold_count': 13.884126663208008,\n",
      " 'avg_test_gt25;gt_logits_above_threshold_count': 14.24476146697998,\n",
      " 'avg_test_gt25;gt_pred_scores': 0.037779662758111954,\n",
      " 'avg_test_gt25;not_gt_pred_scores': 0.027754202485084534,\n",
      " 'avg_test_gt25;top25_overlap_count': 23.84492301940918,\n",
      " 'avg_test_gt25;top25_pred_above_threshold_count': 14.294761657714844,\n",
      " 'avg_test_gt25;total_pred_above_threshold_count': 14.294761657714844,\n",
      " 'avg_test_gt26;gt_logits_above_threshold_count': 14.699999809265137,\n",
      " 'avg_test_gt26;gt_pred_scores': 0.03726695105433464,\n",
      " 'avg_test_gt26;not_gt_pred_scores': 0.03105924464762211,\n",
      " 'avg_test_gt26;top26_overlap_count': 25.200000762939453,\n",
      " 'avg_test_gt26;top26_pred_above_threshold_count': 14.75,\n",
      " 'avg_test_gt26;total_pred_above_threshold_count': 14.75,\n",
      " 'avg_test_gt27;gt_logits_above_threshold_count': 16.153593063354492,\n",
      " 'avg_test_gt27;gt_pred_scores': 0.03703700006008148,\n",
      " 'avg_test_gt27;not_gt_pred_scores': nan,\n",
      " 'avg_test_gt27;top27_overlap_count': 27.0,\n",
      " 'avg_test_gt27;top27_pred_above_threshold_count': 16.153593063354492,\n",
      " 'avg_test_gt27;total_pred_above_threshold_count': 16.153593063354492,\n",
      " 'avg_test_gt8;gt_logits_above_threshold_count': 5.720000267028809,\n",
      " 'avg_test_gt8;gt_pred_scores': 0.06282948702573776,\n",
      " 'avg_test_gt8;not_gt_pred_scores': 0.02617705799639225,\n",
      " 'avg_test_gt8;top8_overlap_count': 5.126667022705078,\n",
      " 'avg_test_gt8;top8_pred_above_threshold_count': 7.6533331871032715,\n",
      " 'avg_test_gt8;total_pred_above_threshold_count': 10.039999961853027,\n",
      " 'avg_test_gt9;gt_logits_above_threshold_count': 5.912381172180176,\n",
      " 'avg_test_gt9;gt_pred_scores': 0.052808430045843124,\n",
      " 'avg_test_gt9;not_gt_pred_scores': 0.02915133908390999,\n",
      " 'avg_test_gt9;top9_overlap_count': 5.24666690826416,\n",
      " 'avg_test_gt9;top9_pred_above_threshold_count': 8.787619590759277,\n",
      " 'avg_test_gt9;total_pred_above_threshold_count': 10.701904296875,\n",
      " 'avg_test_precision_by_Query': 0.9075267910957336,\n",
      " 'avg_test_precision_by_QueryKey': 0.9100871086120605,\n",
      " 'avg_test_recall_by_Query': 0.6298671364784241,\n",
      " 'avg_test_recall_by_QueryKey': 0.6233341097831726,\n",
      " 'avg_test_topK_overall_overlap_ratio': 0.841160750800946,\n",
      " 'test_KL_loss': 304.8734436035156,\n",
      " 'test_KL_loss_per_example': 0.2977279722690582,\n",
      " 'test_accuracy_by_Query': 0.6890408396720886,\n",
      " 'test_accuracy_by_QueryKey': 0.6890407800674438,\n",
      " 'test_f1_by_Query': 0.7316440939903259,\n",
      " 'test_f1_by_QueryKey': 0.7398847937583923,\n",
      " 'test_gt10;gt_logits_above_threshold_count': 6.912744998931885,\n",
      " 'test_gt10;gt_pred_scores': 0.05105941370129585,\n",
      " 'test_gt10;not_gt_pred_scores': 0.028788577765226364,\n",
      " 'test_gt10;top10_overlap_count': 6.0913238525390625,\n",
      " 'test_gt10;top10_pred_above_threshold_count': 9.620424270629883,\n",
      " 'test_gt10;total_pred_above_threshold_count': 11.783905982971191,\n",
      " 'test_gt11;gt_logits_above_threshold_count': 7.395744323730469,\n",
      " 'test_gt11;gt_pred_scores': 0.04992803558707237,\n",
      " 'test_gt11;not_gt_pred_scores': 0.02817447856068611,\n",
      " 'test_gt11;top11_overlap_count': 7.103480339050293,\n",
      " 'test_gt11;top11_pred_above_threshold_count': 10.197443008422852,\n",
      " 'test_gt11;total_pred_above_threshold_count': 11.418886184692383,\n",
      " 'test_gt12;gt_logits_above_threshold_count': 8.108551025390625,\n",
      " 'test_gt12;gt_pred_scores': 0.04877867549657822,\n",
      " 'test_gt12;not_gt_pred_scores': 0.027643729001283646,\n",
      " 'test_gt12;top12_overlap_count': 8.242130279541016,\n",
      " 'test_gt12;top12_pred_above_threshold_count': 11.010526657104492,\n",
      " 'test_gt12;total_pred_above_threshold_count': 11.660685539245605,\n",
      " 'test_gt13;gt_logits_above_threshold_count': 8.5747709274292,\n",
      " 'test_gt13;gt_pred_scores': 0.04748646169900894,\n",
      " 'test_gt13;not_gt_pred_scores': 0.027334004640579224,\n",
      " 'test_gt13;top13_overlap_count': 9.161714553833008,\n",
      " 'test_gt13;top13_pred_above_threshold_count': 11.048436164855957,\n",
      " 'test_gt13;total_pred_above_threshold_count': 11.604360580444336,\n",
      " 'test_gt14;gt_logits_above_threshold_count': 9.43868637084961,\n",
      " 'test_gt14;gt_pred_scores': 0.04668007045984268,\n",
      " 'test_gt14;not_gt_pred_scores': 0.02665223553776741,\n",
      " 'test_gt14;top14_overlap_count': 10.288473129272461,\n",
      " 'test_gt14;top14_pred_above_threshold_count': 11.656553268432617,\n",
      " 'test_gt14;total_pred_above_threshold_count': 12.13027286529541,\n",
      " 'test_gt15;gt_logits_above_threshold_count': 9.946065902709961,\n",
      " 'test_gt15;gt_pred_scores': 0.04598966985940933,\n",
      " 'test_gt15;not_gt_pred_scores': 0.025846248492598534,\n",
      " 'test_gt15;top15_overlap_count': 11.512971878051758,\n",
      " 'test_gt15;top15_pred_above_threshold_count': 11.675080299377441,\n",
      " 'test_gt15;total_pred_above_threshold_count': 11.891379356384277,\n",
      " 'test_gt16;gt_logits_above_threshold_count': 10.209938049316406,\n",
      " 'test_gt16;gt_pred_scores': 0.044832341372966766,\n",
      " 'test_gt16;not_gt_pred_scores': 0.025698412209749222,\n",
      " 'test_gt16;top16_overlap_count': 12.5045804977417,\n",
      " 'test_gt16;top16_pred_above_threshold_count': 11.592744827270508,\n",
      " 'test_gt16;total_pred_above_threshold_count': 11.692594528198242,\n",
      " 'test_gt17;gt_logits_above_threshold_count': 10.766987800598145,\n",
      " 'test_gt17;gt_pred_scores': 0.04374265298247337,\n",
      " 'test_gt17;not_gt_pred_scores': 0.025637486949563026,\n",
      " 'test_gt17;top17_overlap_count': 13.675265312194824,\n",
      " 'test_gt17;top17_pred_above_threshold_count': 11.809392929077148,\n",
      " 'test_gt17;total_pred_above_threshold_count': 11.865682601928711,\n",
      " 'test_gt18;gt_logits_above_threshold_count': 11.12205982208252,\n",
      " 'test_gt18;gt_pred_scores': 0.04291248321533203,\n",
      " 'test_gt18;not_gt_pred_scores': 0.025286149233579636,\n",
      " 'test_gt18;top18_overlap_count': 14.931619644165039,\n",
      " 'test_gt18;top18_pred_above_threshold_count': 11.95541000366211,\n",
      " 'test_gt18;total_pred_above_threshold_count': 11.95541000366211,\n",
      " 'test_gt19;gt_logits_above_threshold_count': 11.8134126663208,\n",
      " 'test_gt19;gt_pred_scores': 0.041909318417310715,\n",
      " 'test_gt19;not_gt_pred_scores': 0.025465358048677444,\n",
      " 'test_gt19;top19_overlap_count': 15.993766784667969,\n",
      " 'test_gt19;top19_pred_above_threshold_count': 12.585844039916992,\n",
      " 'test_gt19;total_pred_above_threshold_count': 12.585844039916992,\n",
      " 'test_gt20;gt_logits_above_threshold_count': 12.376302719116211,\n",
      " 'test_gt20;gt_pred_scores': 0.04111379757523537,\n",
      " 'test_gt20;not_gt_pred_scores': 0.025389153510332108,\n",
      " 'test_gt20;top20_overlap_count': 17.194751739501953,\n",
      " 'test_gt20;top20_pred_above_threshold_count': 12.949853897094727,\n",
      " 'test_gt20;total_pred_above_threshold_count': 12.949853897094727,\n",
      " 'test_gt21;gt_logits_above_threshold_count': 13.088315963745117,\n",
      " 'test_gt21;gt_pred_scores': 0.040293317288160324,\n",
      " 'test_gt21;not_gt_pred_scores': 0.025640051811933517,\n",
      " 'test_gt21;top21_overlap_count': 18.52962875366211,\n",
      " 'test_gt21;top21_pred_above_threshold_count': 13.531306266784668,\n",
      " 'test_gt21;total_pred_above_threshold_count': 13.531306266784668,\n",
      " 'test_gt22;gt_logits_above_threshold_count': 13.665908813476562,\n",
      " 'test_gt22;gt_pred_scores': 0.03970102593302727,\n",
      " 'test_gt22;not_gt_pred_scores': 0.025315487757325172,\n",
      " 'test_gt22;top22_overlap_count': 19.732830047607422,\n",
      " 'test_gt22;top22_pred_above_threshold_count': 13.88166332244873,\n",
      " 'test_gt22;total_pred_above_threshold_count': 13.88166332244873,\n",
      " 'test_gt23;gt_logits_above_threshold_count': 14.309887886047363,\n",
      " 'test_gt23;gt_pred_scores': 0.03893818333745003,\n",
      " 'test_gt23;not_gt_pred_scores': 0.026105444878339767,\n",
      " 'test_gt23;top23_overlap_count': 21.006927490234375,\n",
      " 'test_gt23;top23_pred_above_threshold_count': 14.476117134094238,\n",
      " 'test_gt23;total_pred_above_threshold_count': 14.476117134094238,\n",
      " 'test_gt24;gt_logits_above_threshold_count': 13.829363822937012,\n",
      " 'test_gt24;gt_pred_scores': 0.038378261029720306,\n",
      " 'test_gt24;not_gt_pred_scores': 0.02630721963942051,\n",
      " 'test_gt24;top24_overlap_count': 22.60555648803711,\n",
      " 'test_gt24;top24_pred_above_threshold_count': 13.884126663208008,\n",
      " 'test_gt24;total_pred_above_threshold_count': 13.884126663208008,\n",
      " 'test_gt25;gt_logits_above_threshold_count': 14.24476146697998,\n",
      " 'test_gt25;gt_pred_scores': 0.03777966648340225,\n",
      " 'test_gt25;not_gt_pred_scores': 0.027754206210374832,\n",
      " 'test_gt25;top25_overlap_count': 23.844921112060547,\n",
      " 'test_gt25;top25_pred_above_threshold_count': 14.294761657714844,\n",
      " 'test_gt25;total_pred_above_threshold_count': 14.294761657714844,\n",
      " 'test_gt26;gt_logits_above_threshold_count': 14.699999809265137,\n",
      " 'test_gt26;gt_pred_scores': 0.03726695105433464,\n",
      " 'test_gt26;not_gt_pred_scores': 0.03105924092233181,\n",
      " 'test_gt26;top26_overlap_count': 25.200000762939453,\n",
      " 'test_gt26;top26_pred_above_threshold_count': 14.75,\n",
      " 'test_gt26;total_pred_above_threshold_count': 14.75,\n",
      " 'test_gt27;gt_logits_above_threshold_count': 16.15359115600586,\n",
      " 'test_gt27;gt_pred_scores': 0.03703700006008148,\n",
      " 'test_gt27;not_gt_pred_scores': nan,\n",
      " 'test_gt27;top27_overlap_count': 27.0,\n",
      " 'test_gt27;top27_pred_above_threshold_count': 16.15359115600586,\n",
      " 'test_gt27;total_pred_above_threshold_count': 16.15359115600586,\n",
      " 'test_gt6;gt_logits_above_threshold_count': 6.0,\n",
      " 'test_gt6;gt_pred_scores': 0.07239755243062973,\n",
      " 'test_gt6;not_gt_pred_scores': 0.02693403698503971,\n",
      " 'test_gt6;top6_overlap_count': 3.0,\n",
      " 'test_gt6;top6_pred_above_threshold_count': 6.0,\n",
      " 'test_gt6;total_pred_above_threshold_count': 12.0,\n",
      " 'test_gt7;gt_logits_above_threshold_count': 5.0,\n",
      " 'test_gt7;gt_pred_scores': 0.04638945683836937,\n",
      " 'test_gt7;not_gt_pred_scores': 0.033763691782951355,\n",
      " 'test_gt7;top7_overlap_count': 2.8333332538604736,\n",
      " 'test_gt7;top7_pred_above_threshold_count': 7.0,\n",
      " 'test_gt7;total_pred_above_threshold_count': 14.5,\n",
      " 'test_gt8;gt_logits_above_threshold_count': 5.720000267028809,\n",
      " 'test_gt8;gt_pred_scores': 0.06282947957515717,\n",
      " 'test_gt8;not_gt_pred_scores': 0.02617705799639225,\n",
      " 'test_gt8;top8_overlap_count': 5.126667022705078,\n",
      " 'test_gt8;top8_pred_above_threshold_count': 7.6533331871032715,\n",
      " 'test_gt8;total_pred_above_threshold_count': 10.039999008178711,\n",
      " 'test_gt9;gt_logits_above_threshold_count': 5.912381172180176,\n",
      " 'test_gt9;gt_pred_scores': 0.052808426320552826,\n",
      " 'test_gt9;not_gt_pred_scores': 0.02915133908390999,\n",
      " 'test_gt9;top9_overlap_count': 5.24666690826416,\n",
      " 'test_gt9;top9_pred_above_threshold_count': 8.787618637084961,\n",
      " 'test_gt9;total_pred_above_threshold_count': 10.701904296875,\n",
      " 'test_precision_by_Query': 0.9075267910957336,\n",
      " 'test_precision_by_QueryKey': 0.9100871086120605,\n",
      " 'test_recall_by_Query': 0.6298671364784241,\n",
      " 'test_recall_by_QueryKey': 0.6233341097831726,\n",
      " 'test_topK_overall_overlap_ratio': 0.841160774230957}\n",
      "--------------------------------------------------------------------------------\n"
     ]
    }
   ],
   "source": [
    "trainmodule, game_datamodule = main.main(args)"
   ]
  },
  {
   "cell_type": "markdown",
   "id": "graduate-output",
   "metadata": {},
   "source": [
    "## KL Loss Analysis"
   ]
  },
  {
   "cell_type": "code",
   "execution_count": 42,
   "id": "together-programmer",
   "metadata": {},
   "outputs": [],
   "source": [
    "def softmax(x):\n",
    "    \"\"\"Compute softmax values for each sets of scores in x.\"\"\"\n",
    "    e_x = np.exp(np.array(x) - np.max(x, axis=-1).reshape(-1, 1))\n",
    "    return e_x / np.sum(e_x, axis=-1).reshape(-1, 1)\n",
    "\n",
    "def entropy(x):\n",
    "    return - np.sum(x * np.log2(x), axis=-1)"
   ]
  },
  {
   "cell_type": "code",
   "execution_count": 43,
   "id": "fancy-bhutan",
   "metadata": {},
   "outputs": [
    {
     "name": "stdout",
     "output_type": "stream",
     "text": [
      "top 50th data indices by kl loss [ 515 4454 4204 2398  638 1378 4059 4356 3896 1921 3935 4653 3535 3518\n",
      " 4367 1651 2780 3141 4478 3302  646 5056 2590  530 1667 4625 4228 1156\n",
      " 4442 1253 3698 4952 2536 3685  267 1846  808 3315 4836 3761 1168 1434\n",
      " 4868 3045 3178 4784  181 2013  497 1989]\n"
     ]
    },
    {
     "data": {
      "text/plain": [
       "(array([1215.,  989., 1349.,  759.,  391.,  251.,  108.,   47.,    6.,\n",
       "           5.]),\n",
       " array([2.13004806e-04, 1.28074274e-01, 2.55935544e-01, 3.83796813e-01,\n",
       "        5.11658083e-01, 6.39519353e-01, 7.67380622e-01, 8.95241892e-01,\n",
       "        1.02310316e+00, 1.15096443e+00, 1.27882570e+00]),\n",
       " <BarContainer object of 10 artists>)"
      ]
     },
     "execution_count": 43,
     "metadata": {},
     "output_type": "execute_result"
    },
    {
     "data": {
      "image/png": "[encoded data removed]",
      "text/plain": [
       "<Figure size 432x288 with 1 Axes>"
      ]
     },
     "metadata": {
      "needs_background": "light"
     },
     "output_type": "display_data"
    }
   ],
   "source": [
    "p = 'checkpoints/ContrastiveLearning-SET-Wildcard-Expand-Union-27/20210401-160755-Con;Vec4;L8H8Lk4Hk2;scheduledAdamW36000;16871.56Kparams_runId_3aw2kmru/test_metrics.json'\n",
    "with open(p, 'r') as f:\n",
    "    res = json.load(f)\n",
    "    \n",
    "full_kl_loss = [row for batch in res['full_kl_loss'] for row in batch]\n",
    "full_logits = [row for batch in res['full_logits'] for row in batch]\n",
    "full_probs = softmax(full_logits)\n",
    "\n",
    "full_kl_loss_sum_row = np.sum(np.array(full_kl_loss), axis=-1)\n",
    "sorted_indices = np.argsort(full_kl_loss_sum_row)\n",
    "print('top 50th data indices by kl loss', sorted_indices[:50])\n",
    "\n",
    "plt.hist(full_kl_loss_sum_row)"
   ]
  },
  {
   "cell_type": "code",
   "execution_count": 44,
   "id": "essential-benefit",
   "metadata": {},
   "outputs": [
    {
     "data": {
      "text/plain": [
       "array([2.13004806e-04, 2.15035968e-04, 2.17419860e-04, ...,\n",
       "       1.24028135e+00, 1.24115565e+00, 1.27882570e+00])"
      ]
     },
     "execution_count": 44,
     "metadata": {},
     "output_type": "execute_result"
    }
   ],
   "source": [
    "full_kl_loss_sum_row[sorted_indices]"
   ]
  },
  {
   "cell_type": "code",
   "execution_count": 45,
   "id": "ranging-plymouth",
   "metadata": {},
   "outputs": [
    {
     "name": "stdout",
     "output_type": "stream",
     "text": [
      "---------data----------\n",
      "num_attributes : 3\n",
      "num_attr_vals : 3\n",
      "key_support_size : 27\n",
      "N_pairs : 8\n",
      "union_only : True\n",
      "max_len_q : 16\n",
      "len_k : 1\n",
      "train_gt_idxs length : 0\n",
      "val_gt_idxs length : 5120\n",
      "test_gt_idxs length : 5120\n",
      "train_tokens length : 0\n",
      "val_tokens length : 5120\n",
      "test_tokens length : 5120\n",
      "test_marginal_gt_idxs length : 5120\n",
      "test_marginal_tokens length : 5120\n",
      "vocab_size : 74\n",
      "symbol_vocab_token_lookup : {'(': 64, ')': 65, 'NULL': 66, 'SEP': 67, 'SOS': 68, 'EOS': 69, 'PAD': 70, 'PLH': 71, '|': 72, '!': 73}\n",
      "vocab_by_property : False\n",
      "-----------------------\n"
     ]
    }
   ],
   "source": [
    "game_data = main.load_data(args.data_path)\n",
    "gt_counts = np.array([len(gt_idxs) for gt_idxs in game_data['test_gt_idxs']])"
   ]
  },
  {
   "cell_type": "code",
   "execution_count": 46,
   "id": "diverse-nirvana",
   "metadata": {},
   "outputs": [
    {
     "name": "stdout",
     "output_type": "stream",
     "text": [
      "[7, 7, 7, 8, 8, 10, 8, 9, 9, 9, 7, 10, 9, 10, 8, 10, 9, 9, 9, 10, 8, 9, 9, 9, 10, 9, 10, 9, 10, 9, 11, 9, 9, 11, 10, 10, 8, 10, 8, 10, 8, 9, 6, 9, 9, 9, 10, 9, 11, 11, 11, 9, 9, 10, 10, 9, 10, 11, 11, 11, 8, 9, 10, 10, 9, 11, 10, 11, 11, 10, 11, 9, 10, 10, 11, 9, 9, 11, 9, 11, 11, 8, 11, 12, 10, 11, 10, 9, 11, 9, 11, 10, 11, 11, 9, 10, 8, 10, 10, 12, 10, 9, 11, 11, 10, 10, 8, 11, 12, 11, 11, 12, 11, 12, 11, 11, 10, 10, 11, 12, 10, 11, 11, 12, 11, 11, 12, 13, 12, 11, 11, 11, 12, 10, 11, 12, 11, 10, 9, 10, 12, 12, 11, 12, 10, 10, 12, 12, 11, 11, 10, 12, 12, 11, 12, 12, 11, 10, 11, 11, 11, 12, 9, 12, 12, 12, 12, 11, 13, 11, 12, 11, 11, 13, 12, 8, 10, 11, 12, 11, 12, 12, 10, 9, 11, 13, 11, 11, 11, 10, 12, 11, 12, 11, 11, 13, 12, 12, 12, 12, 10, 11, 10, 12, 11, 12, 12, 12, 13, 13, 13, 13, 11, 13, 12, 13, 13, 11, 13, 10, 12, 10, 9, 13, 12, 12, 12, 13, 11, 13, 13, 13, 12, 13, 11, 12, 11, 13, 12, 11, 12, 13, 13, 13, 13, 11, 13, 11, 11, 13, 13, 12, 15, 13, 12, 11, 12, 13, 11, 9, 13, 12, 13, 12, 10, 11, 12, 13, 11, 10, 13, 11, 12, 10, 12, 13, 10, 11, 8, 10, 13, 13, 9, 13, 11, 10, 12, 13, 11, 13, 13, 13, 13, 13, 13, 12, 13, 13, 13, 11, 13, 13, 12, 13, 13, 11, 12, 9, 12, 9, 13, 13, 13, 11, 13, 11, 13, 11, 12, 13, 11, 11, 12, 14, 12, 13, 13, 13, 12, 12, 11, 12, 12, 13, 8, 10, 12, 13, 13, 13, 11, 13, 13, 13, 12, 13, 11, 9, 12, 14, 11, 11, 11, 13, 13, 12, 12, 12, 13, 12, 14, 12, 14, 10, 14, 14, 11, 14, 13, 14, 12, 14, 13, 10, 13, 13, 12, 14, 12, 14, 13, 12, 12, 11, 11, 13, 12, 14, 13, 12, 14, 11, 13, 10, 14, 14, 14, 13, 12, 13, 13, 12, 13, 13, 14, 12, 12, 10, 13, 14, 14, 11, 13, 14, 13, 12, 14, 12, 14, 13, 14, 14, 13, 14, 14, 11, 11, 14, 10, 13, 13, 12, 14, 14, 11, 14, 13, 13, 12, 13, 14, 11, 13, 14, 11, 12, 11, 12, 13, 12, 14, 12, 14, 12, 11, 14, 13, 11, 14, 13, 14, 13, 13, 13, 13, 14, 12, 13, 13, 14, 11, 14, 14, 14, 14, 12, 10, 14, 14, 14, 13, 14, 14, 10, 13, 12, 12, 14, 13, 13, 14, 14, 14, 12, 14, 13, 14, 11, 13, 13, 14, 13, 13, 14, 13, 14, 13, 12, 11, 12, 14, 13, 12, 14, 13, 14, 14, 15, 15, 14, 13, 14, 14, 14, 14, 15, 14, 14, 15, 13, 14, 14, 15, 14, 14, 11, 12, 13, 8, 13, 14, 13, 13, 13, 15, 9, 12, 14, 13, 11, 14, 15, 14, 14, 12, 12, 12, 12, 13, 12, 14, 12, 13, 13, 14, 15, 14, 15, 13, 14, 13, 13, 15, 14, 15, 14, 14, 13, 14, 13, 14, 15, 14, 14, 14, 12, 10, 15, 13, 11, 14, 15, 13, 13, 15, 14, 11, 15, 15, 14, 13, 14, 14, 15, 15, 12, 14, 11, 13, 15, 14, 14, 15, 15, 14, 12, 14, 15, 15, 13, 13, 15, 15, 13, 15, 15, 15, 14, 15, 13, 15, 14, 15, 14, 11, 15, 13, 14, 11, 12, 15, 15, 14, 12, 13, 13, 15, 12, 15, 14, 13, 12, 14, 14, 13, 14, 13, 15, 11, 11, 15, 15, 14, 14, 14, 15, 15, 14, 13, 15, 14, 14, 14, 15, 13, 11, 15, 14, 15, 15, 15, 11, 15, 15, 14, 14, 15, 15, 15, 15, 15, 15, 15, 15, 15, 14, 14, 15, 15, 15, 14, 14, 13, 12, 14, 15, 15, 13, 15, 15, 14, 15, 14, 14, 13, 12, 15, 13, 13, 15, 12, 15, 13, 13, 13, 14, 13, 15, 15, 15, 13, 15, 15, 15, 15, 13, 16, 15, 14, 14, 14, 13, 13, 14, 15, 15, 15, 14, 15, 12, 15, 15, 14, 16, 15, 15, 16, 16, 15, 16, 15, 15, 15, 14, 15, 15, 15, 10, 14, 16, 14, 15, 15, 14, 15, 10, 16, 13, 16, 14, 16, 15, 15, 16, 14, 16, 15, 16, 13, 11, 16, 16, 13, 12, 14, 13, 16, 16, 16, 15, 16, 15, 13, 15, 16, 14, 15, 16, 16, 16, 15, 16, 15, 13, 15, 10, 16, 16, 10, 16, 14, 16, 15, 16, 15, 11, 15, 15, 16, 16, 16, 16, 15, 11, 15, 15, 14, 16, 15, 15, 11, 15, 15, 15, 13, 16, 16, 15, 14, 14, 15, 16, 15, 11, 13, 15, 16, 11, 16, 16, 16, 14, 15, 16, 15, 16, 16, 13, 12, 11, 16, 16, 16, 8, 16, 16, 15, 16, 16, 15, 16, 16, 14, 16, 16, 16, 16, 16, 15, 16, 16, 15, 14, 16, 14, 16, 14, 16, 15, 16, 16, 10, 15, 16, 16, 15, 16, 16, 15, 16, 16, 14, 16, 15, 13, 16, 16, 12, 11, 16, 16, 13, 15, 13, 16, 15, 14, 15, 16, 16, 16, 14, 16, 15, 15, 16, 16, 16, 15, 16, 16, 16, 14, 15, 16, 17, 17, 16, 13, 16, 16, 14, 13, 11, 16, 16, 16, 16, 16, 17, 14, 13, 14, 16, 13, 16, 16, 16, 11, 16, 15, 15, 14, 13, 16, 14, 11, 15, 15, 13, 13, 16, 16, 17, 17, 15, 8, 13, 16, 14, 12, 16, 13, 16, 14, 15, 15, 12, 16, 12, 10, 13, 17, 15, 12, 13, 15, 14, 12, 14, 17, 16, 16, 12, 17, 15, 15, 13, 17, 16, 17, 13, 14, 16, 14, 16, 13, 13, 14, 14, 17, 15, 17, 17, 16, 16, 15, 17, 14, 17, 17, 16, 16, 13, 17, 15, 15, 17, 15, 16, 16, 17, 16, 12, 15, 16, 17, 14, 15, 17, 17, 17, 14, 15, 15, 14, 17, 14, 17, 14, 17, 17, 17, 14, 17, 17, 14, 14, 15, 14, 17, 13, 14, 15, 12, 16, 16, 14, 15, 14, 14, 16, 16, 14, 17, 14, 12, 13, 17, 17, 16, 16, 17, 12, 16, 16, 16, 16, 15, 17, 12, 14, 16, 17, 17, 13, 12, 17, 16, 15, 15, 17, 17, 17, 15, 16, 17, 17, 17, 16, 15, 16, 15, 16, 17, 15, 14, 14, 12, 16, 17, 17, 16, 17, 17, 17, 13, 15, 13, 17, 16, 13, 17, 14, 17, 13, 14, 15, 15, 15, 13, 15, 17, 17, 15, 13, 16, 16, 17, 12, 13, 13, 15, 17, 12, 15, 12, 17, 13, 17, 16, 16, 13, 16, 13, 15, 15, 16, 13, 14, 15, 16, 14, 15, 15, 16, 15, 12, 12, 14, 17, 14, 17, 17, 15, 15, 17, 16, 17, 14, 17, 16, 17, 17, 15, 16, 17, 17, 13, 12, 17, 15, 14, 12, 15, 17, 17, 13, 15, 15, 17, 16, 14, 15, 16, 17, 13, 15, 16, 14, 15, 16, 15, 17, 15, 15, 16, 16, 14, 15, 14, 16, 17, 13, 13, 18, 15, 16, 16, 13, 12, 16, 15, 16, 17, 17, 17, 17, 17, 16, 15, 15, 14, 15, 15, 17, 12, 16, 17, 15, 17, 16, 14, 18, 15, 14, 15, 11, 16, 16, 13, 17, 17, 17, 15, 15, 15, 15, 16, 16, 14, 16, 17, 16, 17, 12, 17, 16, 15, 16, 18, 16, 16, 17, 17, 16, 17, 16, 17, 18, 18, 17, 16, 17, 16, 16, 14, 16, 14, 15, 16, 14, 15, 16, 16, 18, 14, 16, 17, 16, 16, 16, 15, 13, 16, 15, 12, 15, 15, 15, 16, 14, 17, 13, 15, 16, 15, 15, 14, 18, 16, 15, 14, 16, 17, 15, 18, 18, 14, 15, 16, 18, 16, 15, 16, 16, 15, 16, 17, 17, 17, 15, 14, 17, 16, 17, 16, 18, 15, 17, 16, 18, 17, 18, 14, 15, 15, 15, 16, 13, 13, 17, 15, 15, 15, 15, 18, 14, 14, 15, 13, 14, 17, 18, 17, 14, 13, 14, 17, 13, 15, 16, 18, 17, 14, 15, 16, 16, 13, 16, 14, 18, 17, 18, 15, 17, 17, 17, 18, 17, 15, 16, 17, 16, 16, 14, 16, 13, 18, 18, 17, 18, 15, 12, 16, 15, 16, 17, 17, 14, 17, 16, 16, 14, 13, 13, 16, 17, 16, 17, 13, 16, 16, 16, 15, 16, 17, 16, 16, 16, 16, 17, 18, 13, 11, 17, 17, 14, 16, 18, 14, 16, 18, 16, 16, 17, 15, 16, 12, 16, 16, 16, 18, 15, 17, 16, 17, 11, 13, 17, 17, 16, 17, 18, 16, 16, 16, 14, 16, 16, 17, 15, 18, 15, 16, 17, 18, 17, 14, 17, 17, 16, 16, 15, 16, 17, 14, 14, 17, 17, 16, 15, 14, 16, 17, 16, 17, 15, 17, 15, 15, 12, 13, 13, 15, 16, 15, 16, 16, 17, 15, 17, 17, 17, 17, 14, 17, 13, 16, 17, 16, 17, 15, 17, 17, 14, 17, 15, 18, 15, 16, 16, 17, 17, 17, 16, 18, 18, 16, 15, 17, 16, 17, 17, 17, 18, 17, 16, 13, 17, 16, 18, 17, 14, 18, 15, 17, 17, 11, 13, 16, 15, 17, 17, 15, 18, 17, 13, 18, 17, 17, 18, 17, 15, 17, 17, 17, 14, 18, 17, 14, 14, 17, 17, 18, 18, 17, 14, 18, 17, 17, 15, 17, 18, 17, 16, 17, 17, 17, 16, 18, 15, 18, 18, 17, 18, 17, 18, 17, 14, 17, 17, 17, 17, 17, 17, 17, 17, 16, 15, 18, 14, 17, 17, 15, 14, 17, 16, 17, 17, 16, 17, 17, 18, 17, 16, 15, 17, 16, 17, 15, 17, 18, 16, 18, 17, 17, 15, 15, 16, 17, 18, 17, 16, 17, 17, 14, 16, 17, 15, 17, 17, 17, 14, 18, 17, 17, 18, 17, 17, 17, 16, 17, 17, 15, 18, 14, 18, 15, 18, 16, 17, 14, 16, 15, 17, 18, 15, 17, 17, 14, 16, 18, 17, 15, 14, 16, 17, 17, 17, 17, 17, 18, 18, 15, 15, 18, 16, 17, 17, 17, 17, 18, 17, 17, 17, 17, 14, 17, 17, 17, 17, 17, 16, 16, 18, 17, 17, 18, 16, 18, 17, 17, 17, 16, 19, 19, 17, 16, 16, 15, 15, 17, 17, 17, 18, 17, 17, 17, 19, 17, 18, 18, 16, 13, 18, 17, 18, 17, 18, 16, 18, 17, 15, 16, 17, 17, 19, 18, 15, 17, 19, 17, 17, 17, 17, 15, 18, 17, 16, 14, 16, 17, 16, 18, 19, 15, 17, 14, 19, 19, 15, 16, 17, 15, 17, 17, 16, 15, 16, 19, 18, 16, 16, 17, 17, 18, 17, 16, 19, 18, 16, 16, 17, 17, 17, 16, 15, 16, 17, 19, 18, 19, 18, 17, 17, 19, 17, 18, 16, 16, 17, 19, 18, 18, 17, 16, 16, 16, 18, 15, 18, 19, 15, 18, 19, 17, 18, 18, 19, 19, 17, 15, 16, 17, 15, 16, 17, 19, 19, 18, 19, 16, 15, 15, 18, 19, 16, 18, 18, 18, 18, 16, 18, 14, 18, 16, 19, 18, 18, 18, 14, 16, 17, 18, 17, 18, 16, 17, 17, 18, 15, 18, 16, 19, 16, 15, 16, 17, 19, 18, 16, 15, 19, 18, 15, 17, 16, 18, 17, 18, 17, 18, 18, 14, 18, 17, 18, 17, 17, 17, 18, 18, 19, 18, 18, 18, 17, 18, 18, 14, 15, 18, 18, 18, 18, 18, 16, 16, 17, 18, 18, 18, 18, 17, 18, 18, 18, 17, 15, 16, 17, 15, 18, 19, 17, 18, 16, 18, 17, 18, 18, 18, 19, 18, 18, 17, 17, 18, 14, 18, 19, 19, 19, 18, 18, 18, 18, 19, 14, 19, 18, 18, 17, 17, 17, 18, 15, 17, 17, 18, 17, 18, 19, 15, 18, 16, 16, 19, 18, 17, 18, 18, 13, 18, 13, 15, 18, 18, 18, 18, 18, 18, 15, 18, 15, 17, 13, 18, 18, 18, 18, 15, 16, 18, 18, 18, 18, 18, 18, 18, 18, 16, 18, 18, 18, 18, 18, 18, 18, 14, 16, 17, 18, 19, 18, 21, 18, 18, 18, 18, 17, 18, 17, 17, 18, 18, 15, 18, 16, 16, 18, 18, 18, 15, 18, 18, 12, 17, 15, 19, 18, 17, 18, 15, 19, 14, 18, 19, 17, 15, 17, 19, 18, 11, 14, 17, 19, 15, 18, 18, 19, 18, 16, 17, 19, 17, 18, 12, 19, 17, 18, 16, 18, 18, 17, 17, 19, 18, 18, 16, 17, 17, 18, 18, 18, 19, 18, 19, 16, 19, 18, 18, 19, 17, 18, 17, 18, 17, 18, 18, 18, 18, 19, 18, 18, 18, 18, 18, 18, 17, 18, 18, 15, 18, 17, 19, 18, 18, 17, 17, 16, 18, 13, 18, 18, 19, 17, 18, 16, 19, 15, 18, 13, 17, 18, 18, 16, 19, 18, 19, 16, 18, 17, 17, 18, 13, 17, 15, 17, 18, 18, 19, 18, 18, 18, 18, 18, 18, 18, 16, 19, 18, 17, 17, 17, 18, 18, 18, 17, 19, 19, 19, 17, 17, 17, 15, 17, 19, 17, 16, 16, 17, 19, 18, 19, 18, 17, 18, 18, 15, 15, 18, 17, 19, 18, 17, 18, 18, 16, 15, 17, 19, 18, 19, 18, 18, 17, 18, 18, 16, 18, 17, 19, 18, 17, 18, 17, 19, 19, 18, 18, 18, 17, 16, 17, 19, 19, 18, 19, 17, 16, 19, 18, 18, 18, 18, 18, 19, 19, 18, 19, 17, 19, 19, 18, 18, 19, 19, 18, 19, 19, 18, 19, 18, 18, 20, 15, 17, 19, 18, 19, 18, 18, 16, 19, 19, 19, 15, 19, 19, 19, 19, 13, 19, 17, 16, 20, 18, 17, 17, 19, 20, 19, 17, 18, 19, 19, 19, 18, 19, 17, 19, 19, 19, 19, 19, 20, 20, 19, 16, 19, 17, 19, 17, 19, 17, 13, 16, 17, 17, 15, 20, 19, 19, 17, 17, 19, 17, 19, 18, 19, 19, 19, 20, 19, 20, 18, 20, 19, 17, 20, 17, 19, 19, 20, 17, 19, 20, 17, 19, 20, 19, 19, 19, 19, 19, 19, 19, 19, 17, 18, 19, 20, 19, 16, 17, 19, 19, 20, 19, 18, 19, 19, 17, 17, 17, 19, 17, 19, 19, 20, 19, 19, 20, 17, 19, 19, 19, 19, 18, 19, 19, 19, 19, 19, 19, 17, 19, 19, 19, 17, 16, 20, 19, 19, 17, 19, 19, 19, 20, 18, 17, 19, 20, 17, 19, 19, 17, 19, 15, 18, 17, 19, 17, 16, 19, 20, 16, 16, 16, 19, 15, 19, 18, 16, 19, 20, 17, 19, 19, 20, 17, 20, 19, 17, 18, 19, 19, 18, 20, 17, 19, 19, 19, 20, 18, 20, 19, 13, 16, 19, 19, 19, 19, 17, 17, 20, 16, 18, 18, 20, 19, 19, 19, 18, 17, 18, 19, 18, 19, 20, 19, 19, 18, 20, 20, 19, 18, 19, 16, 16, 18, 19, 17, 19, 17, 19, 18, 19, 20, 20, 19, 19, 18, 17, 18, 20, 17, 19, 20, 16, 19, 20, 18, 19, 17, 19, 18, 17, 17, 19, 18, 19, 16, 17, 16, 20, 18, 16, 17, 20, 20, 19, 19, 19, 18, 16, 18, 19, 19, 18, 16, 18, 19, 15, 18, 19, 20, 18, 17, 20, 17, 19, 17, 20, 19, 18, 20, 19, 19, 16, 18, 18, 18, 18, 19, 16, 18, 17, 18, 17, 20, 19, 19, 18, 20, 19, 19, 16, 18, 17, 16, 17, 20, 20, 19, 18, 17, 18, 17, 19, 19, 18, 18, 18, 18, 18, 17, 16, 19, 18, 20, 20, 18, 16, 19, 19, 19, 18, 18, 19, 14, 20, 19, 18, 17, 19, 18, 16, 20, 18, 20, 19, 16, 19, 20, 19, 16, 19, 19, 20, 19, 18, 20, 18, 19, 19, 19, 19, 20, 20, 19, 20, 18, 20, 19, 19, 18, 16, 20, 16, 19, 19, 16, 20, 20, 19, 20, 19, 20, 19, 20, 19, 19, 16, 19, 20, 20, 20, 20, 20, 20, 19, 19, 19, 20, 19, 19, 20, 16, 14, 20, 20, 19, 20, 19, 18, 20, 19, 19, 20, 19, 18, 19, 20, 20, 21, 18, 20, 18, 18, 19, 19, 14, 18, 20, 20, 14, 19, 18, 18, 19, 20, 19, 20, 20, 19, 19, 18, 19, 19, 19, 20, 20, 20, 16, 20, 20, 19, 19, 18, 20, 18, 19, 20, 20, 21, 19, 19, 20, 17, 19, 19, 18, 19, 20, 20, 18, 18, 19, 20, 20, 19, 19, 17, 18, 16, 19, 19, 19, 20, 20, 20, 16, 19, 20, 20, 17, 18, 18, 19, 18, 20, 20, 14, 20, 19, 20, 20, 20, 21, 20, 20, 19, 20, 20, 20, 20, 18, 20, 19, 17, 19, 20, 18, 18, 20, 20, 20, 21, 18, 19, 18, 20, 19, 20, 18, 20, 20, 20, 20, 20, 20, 19, 19, 18, 18, 14, 19, 17, 19, 19, 14, 18, 20, 19, 19, 18, 20, 20, 20, 20, 20, 20, 19, 19, 18, 21, 20, 19, 19, 19, 18, 20, 20, 20, 18, 18, 19, 19, 20, 20, 20, 20, 20, 19, 20, 19, 17, 21, 20, 20, 20, 16, 20, 19, 20, 20, 19, 18, 21, 18, 20, 18, 20, 20, 19, 20, 20, 21, 20, 20, 21, 20, 20, 20, 18, 18, 20, 20, 20, 21, 20, 21, 20, 21, 19, 20, 21, 19, 20, 20, 20, 20, 20, 19, 20, 21, 21, 19, 19, 21, 20, 21, 20, 20, 19, 20, 20, 20, 20, 19, 19, 20, 19, 20, 17, 20, 19, 20, 21, 19, 20, 19, 21, 20, 21, 21, 21, 21, 21, 19, 21, 20, 21, 19, 21, 20, 17, 20, 20, 20, 20, 20, 20, 20, 20, 20, 17, 20, 17, 18, 18, 20, 20, 18, 21, 20, 20, 21, 20, 14, 20, 18, 20, 18, 20, 20, 20, 20, 20, 21, 19, 21, 18, 18, 18, 20, 20, 20, 18, 20, 21, 21, 21, 21, 20, 20, 21, 20, 20, 18, 18, 14, 18, 20, 21, 18, 20, 20, 20, 20, 20, 21, 20, 20, 17, 21, 20, 21, 21, 21, 17, 20, 20, 21, 20, 20, 20, 17, 18, 21, 20, 19, 19, 21, 17, 21, 21, 20, 20, 21, 21, 18, 18, 20, 21, 20, 21, 20, 20, 21, 21, 18, 21, 20, 19, 20, 20, 21, 21, 20, 21, 20, 21, 21, 19, 15, 21, 21, 21, 21, 21, 17, 15, 18, 19, 21, 17, 20, 20, 20, 18, 18, 21, 21, 21, 21, 21, 18, 21, 21, 21, 21, 21, 21, 19, 21, 20, 17, 21, 21, 18, 20, 21, 20, 21, 19, 17, 17, 21, 21, 21, 21, 19, 21, 20, 21, 21, 21, 19, 21, 21, 21, 21, 17, 21, 20, 21, 21, 20, 20, 20, 21, 21, 20, 21, 19, 21, 21, 21, 21, 21, 20, 21, 20, 20, 20, 21, 17, 20, 20, 20, 21, 21, 20, 21, 22, 20, 20, 21, 20, 19, 20, 21, 21, 20, 20, 21, 19, 17, 20, 21, 21, 19, 17, 20, 20, 21, 19, 15, 20, 21, 20, 21, 20, 21, 20, 20, 19, 21, 22, 20, 21, 19, 20, 21, 21, 20, 20, 20, 20, 17, 19, 20, 17, 21, 19, 15, 21, 21, 17, 21, 20, 19, 15, 21, 19, 21, 21, 21, 19, 19, 15, 21, 21, 21, 21, 21, 19, 19, 21, 21, 21, 20, 21, 19, 21, 21, 22, 22, 21, 21, 21, 21, 21, 21, 21, 21, 21, 21, 20, 21, 21, 21, 21, 19, 21, 21, 21, 21, 17, 21, 21, 21, 21, 21, 20, 19, 21, 21, 21, 21, 21, 21, 21, 21, 21, 21, 21, 15, 21, 20, 21, 22, 21, 21, 21, 21, 21, 21, 21, 22, 21, 22, 20, 19, 21, 21, 22, 21, 21, 22, 22, 22, 19, 15, 22, 21, 22, 20, 20, 21, 21, 21, 21, 21, 22, 20, 21, 22, 21, 21, 21, 21, 22, 21, 21, 21, 21, 21, 21, 22, 21, 21, 21, 21, 21, 22, 21, 22, 21, 20, 21, 22, 21, 22, 21, 22, 21, 22, 21, 21, 22, 21, 22, 20, 22, 21, 22, 21, 22, 21, 21, 22, 22, 22, 21, 22, 22, 22, 22, 22, 22, 22, 21, 22, 22, 22, 22, 22, 22, 22, 22, 21, 22, 22, 21, 22, 22, 22, 22, 22, 22, 22, 18, 22, 22, 22, 22, 20, 22, 22, 22, 22, 22, 22, 22, 22, 22, 22, 22, 22, 22, 22, 22, 22, 19, 22, 22, 22, 22, 22, 18, 21, 18, 22, 21, 22, 22, 22, 22, 22, 20, 21, 21, 22, 22, 22, 21, 22, 20, 20, 22, 22, 22, 22, 22, 22, 22, 22, 22, 21, 22, 22, 22, 22, 22, 21, 22, 22, 22, 22, 22, 21, 22, 22, 20, 22, 22, 22, 22, 22, 21, 22, 21, 22, 21, 22, 22, 21, 20, 16, 22, 22, 18, 22, 21, 22, 21, 23, 18, 22, 21, 22, 22, 22, 22, 20, 22, 23, 16, 22, 21, 21, 22, 22, 22, 22, 22, 22, 21, 22, 21, 23, 22, 22, 22, 22, 22, 22, 22, 22, 22, 23, 21, 23, 21, 21, 21, 23, 23, 22, 21, 21, 21, 23, 21, 23, 21, 21, 21, 21, 20, 21, 23, 21, 21, 21, 21, 22, 21, 21, 23, 20, 23, 20, 21, 23, 21, 20, 23, 23, 23, 22, 23, 23, 23, 21, 23, 20, 21, 20, 16, 23, 22, 20, 21, 23, 21, 21, 21, 20, 23, 23, 23, 22, 21, 23, 21, 23, 23, 22, 23, 22, 23, 20, 22, 22, 23, 22, 22, 23, 20, 21, 23, 20, 23, 23, 22, 22, 23, 20, 21, 23, 20, 20, 21, 22, 20, 22, 23, 22, 22, 21, 22, 23, 23, 20, 20, 21, 21, 21, 22, 22, 22, 20, 22, 23, 23, 23, 22, 23, 23, 23, 23, 20, 23, 20, 22, 20, 23, 22, 23, 23, 23, 22, 22, 23, 22, 23, 23, 20, 21, 23, 20, 22, 23, 22, 22, 22, 20, 23, 22, 20, 20, 21, 22, 22, 22, 22, 22, 22, 23, 22, 23, 22, 22, 22, 22, 21, 21, 20, 23, 22, 23, 22, 21, 23, 20, 23, 22, 22, 22, 23, 22, 23, 22, 22, 20, 22, 22, 22, 21, 20, 20, 23, 22, 23, 23, 23, 20, 22, 20, 23, 23, 23, 23, 20, 20, 23, 23, 20, 21, 23, 21, 21, 20, 21, 21, 23, 21, 23, 16, 21, 21, 21, 22, 21, 22, 21, 22, 21, 22, 22, 23, 19, 23, 23, 21, 23, 22, 23, 22, 23, 22, 21, 20, 21, 20, 22, 22, 22, 22, 22, 21, 23, 22, 20, 22, 23, 22, 23, 21, 22, 22, 22, 22, 22, 23, 22, 19, 21, 22, 22, 22, 22, 22, 23, 22, 22, 22, 22, 22, 19, 23, 22, 22, 22, 23, 22, 19, 23, 23, 23, 22, 23, 23, 23, 22, 19, 23, 23, 22, 23, 23, 23, 23, 23, 19, 19, 23, 19, 23, 23, 23, 23, 23, 23, 23, 23, 23, 19, 23, 19, 23, 23, 19, 23, 23, 23, 23, 24, 24, 23, 23, 23, 23, 19, 23, 23, 23, 23, 23, 19, 23, 23, 24, 23, 23, 23, 23, 23, 19, 23, 23, 23, 23, 23, 19, 23, 19, 23, 19, 23, 23, 23, 19, 23, 23, 23, 23, 23, 19, 23, 23, 23, 23, 23, 23, 23, 23, 23, 23, 23, 23, 19, 23, 19, 24, 24, 23, 23, 23, 23, 19, 23, 19, 19, 19, 23, 23, 19, 24, 23, 24, 23, 23, 24, 24, 23, 23, 23, 24, 24, 24, 24, 24, 24, 24, 24, 24, 24, 24, 24, 24, 19, 24, 24, 24, 24, 24, 24, 24, 24, 24, 24, 24, 24, 24, 24, 24, 24, 24, 24, 24, 24, 24, 24, 24, 24, 24, 24, 24, 24, 24, 24, 24, 24, 24, 24, 24, 24, 24, 24, 24, 24, 24, 24, 24, 24, 24, 24, 24, 24, 24, 24, 24, 24, 24, 24, 24, 24, 24, 24, 24, 24, 18, 24, 24, 24, 24, 24, 24, 24, 24, 24, 24, 24, 24, 25, 25, 24, 24, 25, 25, 25, 25, 25, 25, 18, 25, 25, 25, 25, 25, 25, 25, 25, 25, 25, 25, 25, 25, 25, 25, 25, 25, 25, 18, 25, 25, 25, 25, 25, 25, 25, 18, 25, 25, 25, 25, 25, 25, 25, 25, 25, 25, 25, 25, 25, 25, 25, 25, 25, 25, 25, 18, 18, 18, 26, 26, 18, 26, 26, 26, 26, 26, 26, 26, 26, 26, 26, 26, 27, 27, 27, 27, 27, 27, 27, 27, 27, 27, 27, 27, 27, 27, 27, 27, 27, 27, 27, 27, 27, 27, 27, 27, 27, 27, 27, 27, 27, 27, 27, 27, 27, 27, 27, 27, 27, 27, 27, 27, 27, 27, 27, 27, 27, 27, 27, 27, 27, 27, 27, 27, 27, 27, 27, 27, 27, 27, 27, 27, 27, 27, 27, 27, 27, 27, 27, 27, 27, 27, 27, 27, 27, 27, 27, 27, 27, 27, 27, 27, 27, 27, 27, 27, 27, 27, 27, 27, 27, 27, 27, 27, 27, 27, 27, 27, 27, 27, 27, 27, 27, 27, 27, 27, 27, 27, 27, 27, 27, 27, 27, 27, 27, 27, 27, 27, 27, 27, 27, 27, 27, 27, 27, 27, 27, 27, 27, 27, 27, 27, 27, 27, 27, 27, 27, 27, 27, 27, 27, 27, 27, 27, 27, 27, 27, 27, 27, 27, 27, 27, 27, 27, 27, 27, 27, 27, 27, 27, 27, 27, 27, 27, 27, 27, 27, 27, 27, 27, 27, 27, 27, 27, 27, 27, 27, 27, 27, 27, 27, 27, 27, 27, 27, 27, 27, 27, 27, 27, 27, 27, 27, 27, 27, 27, 27, 27, 27, 27, 27, 27, 27, 27, 27, 27, 27, 27, 27, 27, 27, 27, 27, 27, 27, 27, 27, 27, 27, 27, 27, 27, 27, 27, 27, 27, 27, 27, 27, 27, 27, 27, 27, 27, 27, 27, 27, 27, 27, 27, 27, 27, 27, 27, 27, 27, 27, 27, 27, 27, 27, 27, 27, 27, 27, 27, 27, 27, 27, 27, 27, 27, 27, 27, 27, 27, 27, 27, 27, 27, 27, 27, 27, 27, 27, 27, 27, 27, 27, 27, 27, 27, 27, 27, 27, 27, 27, 27, 27, 27, 27, 27, 27, 27, 27, 27, 27, 27, 27, 27, 27, 27, 27, 27, 27, 27, 27, 27, 27, 27, 27, 27, 27, 27, 27, 27, 27, 27, 27, 27, 27, 27, 27, 27, 27, 27, 27, 27, 27, 27, 27, 27, 27, 27, 27, 27, 27, 27, 27, 27, 27, 27, 27, 27, 27, 27, 27, 27, 27, 27, 27, 27, 27, 27, 27, 27, 27, 27, 27, 27, 27, 27, 27, 27, 27, 27, 27, 27, 27, 27, 27, 27, 27, 27, 27, 27, 27, 27, 27, 27, 27, 27, 27, 27, 27, 27, 27, 27, 27, 27, 27, 27, 27, 27, 27, 27, 27, 27, 27, 27, 27, 27, 27, 27, 27, 27, 27, 27, 27, 27, 27, 27, 27, 27, 27, 27, 27, 27, 27, 27, 27, 27, 27, 27, 27, 27, 27, 27, 27, 27, 27, 27, 27, 27, 27, 27, 27, 27, 27, 27, 27, 27, 27, 27, 27, 27, 27, 27, 27, 27, 27, 27, 27, 27, 27, 27, 27, 27, 27, 27, 27, 27, 27, 27, 27, 27, 27, 27, 27, 27, 27, 27, 27, 27, 27, 27, 27, 27, 27, 27, 27, 27, 27, 27, 27, 27, 27, 27, 27, 27, 27, 27, 27, 27, 27, 27, 27, 27, 27, 27, 27, 27, 27, 27, 27, 27, 27, 27, 27, 27, 27, 27, 27, 27, 27, 27, 27, 27, 27, 27, 27, 27, 27, 27, 27, 27, 27, 27, 27, 27, 27, 27, 27, 27, 27, 27, 27, 27, 27, 27, 27, 27, 27, 27, 27, 27, 27, 27, 27, 27, 27, 27, 27, 27, 27, 27, 27, 27, 27, 27, 27, 27, 27, 27, 27, 27, 27, 27, 27, 27, 27, 27, 27, 27, 27, 27, 27, 27, 27, 27, 27, 27, 27, 27, 27, 27, 27, 27, 27, 27, 27, 27, 27, 27, 27, 27, 27, 27, 27, 27, 27, 27, 27, 27, 27, 27, 27, 27, 27, 27, 27, 27, 27, 27, 27, 27, 27, 27, 27, 27, 27, 27, 27, 27, 27, 27, 27, 27, 27, 27, 27, 27, 27, 27, 27, 27, 27, 27, 27, 27, 27, 27, 27, 27, 27, 27, 27, 27, 27, 27, 27, 27, 27, 27, 27, 27, 27, 27, 27, 27, 27, 27, 27, 27, 27, 27, 27, 27, 27, 27, 27, 27, 27, 27, 27, 27, 27, 27, 27, 27, 27, 27, 27, 27, 27, 27, 27, 27, 27, 27, 27, 27, 27, 27, 27, 27, 27, 27, 27, 27, 27, 27, 27, 27, 27, 27, 27, 27, 27, 27, 27, 27, 27, 27, 27, 27, 27, 27, 27, 27, 27, 27, 27, 27, 27, 27, 27, 27, 27, 27, 27, 27, 27, 27, 27, 27, 27, 27, 27, 27, 27, 27, 27, 27, 27, 27, 27, 27, 27, 27, 27, 27, 27, 27, 27, 27, 27, 27, 27, 27, 27, 27, 27, 27, 27, 27, 27, 27, 27, 27, 27, 27, 27, 27, 27, 27, 27, 27, 27, 27, 27, 27, 27, 27, 27, 27, 27, 27, 27, 27, 27, 27, 27, 27, 27, 27, 27, 27, 27, 27, 27, 27, 27, 27, 27, 27, 27, 27, 27, 27, 27, 27, 27, 27, 27, 27, 27, 27, 27, 27, 27, 27, 27, 27, 27, 27, 27, 27, 27, 27, 27, 27, 27, 27, 27, 27, 27, 27, 27, 27, 27, 27, 27, 27, 27, 27, 27, 27, 27, 27, 27, 27, 27, 27, 27, 27, 27, 27, 27, 27, 27, 27, 27, 27, 27, 27, 27, 27, 27, 27, 27, 27, 27, 27, 27, 27, 27, 27, 27, 27, 27, 27, 27, 27, 27, 27, 27, 27, 27, 27, 27, 27, 27, 27, 27, 27, 27, 27, 27, 27, 27, 27, 27, 27, 27, 27, 27, 27, 27, 27, 27, 27, 27, 27, 27, 27, 27, 27, 27, 27, 27, 27, 27, 27, 27, 27, 27, 27, 27, 27, 27, 27, 27, 27, 27, 27, 27, 27, 27, 27, 27, 27, 27, 27, 27, 27, 27, 27, 27, 27, 27, 27, 27, 27, 27, 27, 27]\n"
     ]
    }
   ],
   "source": [
    "print(gt_counts[sorted_indices].tolist()[::-1])"
   ]
  },
  {
   "cell_type": "code",
   "execution_count": 47,
   "id": "corrected-compromise",
   "metadata": {},
   "outputs": [
    {
     "data": {
      "text/plain": [
       "[[15, 23, 25, 45, 25, 15, 23, 20, 21, 53, 11, 40, 7, 50, 25, 9], [14]]"
      ]
     },
     "execution_count": 47,
     "metadata": {},
     "output_type": "execute_result"
    }
   ],
   "source": [
    "game_data['test_tokens'][14]"
   ]
  },
  {
   "cell_type": "code",
   "execution_count": 48,
   "id": "natural-handy",
   "metadata": {},
   "outputs": [
    {
     "data": {
      "text/plain": [
       "[3, 26, 21, 17, 1, 10, 12, 19, 23, 25, 5, 16, 14, 9, 22, 15, 8, 11, 13]"
      ]
     },
     "execution_count": 48,
     "metadata": {},
     "output_type": "execute_result"
    }
   ],
   "source": [
    "game_data['test_gt_idxs'][14]"
   ]
  },
  {
   "cell_type": "code",
   "execution_count": 49,
   "id": "together-asset",
   "metadata": {},
   "outputs": [
    {
     "data": {
      "text/plain": [
       "[-0.2607528865337372,\n",
       " -0.18946902453899384,\n",
       " -0.019131429493427277,\n",
       " 0.3027925491333008,\n",
       " 0.3879525065422058,\n",
       " 0.5372862815856934,\n",
       " -0.15449096262454987,\n",
       " -0.09109770506620407,\n",
       " 0.07241824269294739,\n",
       " -0.2592978775501251,\n",
       " -0.2001717984676361,\n",
       " -0.03276039659976959,\n",
       " 0.29945528507232666,\n",
       " 0.3904013931751251,\n",
       " 0.5381737351417542,\n",
       " -0.1515546441078186,\n",
       " -0.08330095559358597,\n",
       " 0.0774780809879303,\n",
       " -0.26492661237716675,\n",
       " -0.19803792238235474,\n",
       " -0.035699404776096344,\n",
       " 0.3032645583152771,\n",
       " 0.40066784620285034,\n",
       " 0.5301229953765869,\n",
       " -0.15448129177093506,\n",
       " -0.07599586993455887,\n",
       " 0.08032497763633728]"
      ]
     },
     "execution_count": 49,
     "metadata": {},
     "output_type": "execute_result"
    }
   ],
   "source": [
    "full_logits[14]"
   ]
  },
  {
   "cell_type": "code",
   "execution_count": 50,
   "id": "soviet-productivity",
   "metadata": {},
   "outputs": [
    {
     "data": {
      "text/plain": [
       "array([ 515, 4454, 4204, ..., 1603, 3381, 4675])"
      ]
     },
     "execution_count": 50,
     "metadata": {},
     "output_type": "execute_result"
    }
   ],
   "source": [
    "sorted_indices"
   ]
  },
  {
   "cell_type": "code",
   "execution_count": 73,
   "id": "minor-blackberry",
   "metadata": {},
   "outputs": [
    {
     "data": {
      "text/plain": [
       "(array([3., 3., 9., 0., 0., 0., 3., 3., 0., 6.]),\n",
       " array([0.23930625, 0.48039344, 0.72148062, 0.9625678 , 1.20365499,\n",
       "        1.44474217, 1.68582935, 1.92691653, 2.16800372, 2.4090909 ,\n",
       "        2.65017808]),\n",
       " <BarContainer object of 10 artists>)"
      ]
     },
     "execution_count": 73,
     "metadata": {},
     "output_type": "execute_result"
    },
    {
     "data": {
      "image/png": "[encoded data removed]",
      "text/plain": [
       "<Figure size 432x288 with 1 Axes>"
      ]
     },
     "metadata": {
      "needs_background": "light"
     },
     "output_type": "display_data"
    }
   ],
   "source": [
    "plt.hist(np.exp(full_logits[1207]))"
   ]
  },
  {
   "cell_type": "code",
   "execution_count": 52,
   "id": "posted-limitation",
   "metadata": {},
   "outputs": [
    {
     "data": {
      "text/plain": [
       "4.646452872984402"
      ]
     },
     "execution_count": 52,
     "metadata": {},
     "output_type": "execute_result"
    }
   ],
   "source": [
    "np.mean(entropy(full_probs))"
   ]
  },
  {
   "cell_type": "code",
   "execution_count": 53,
   "id": "impressive-brunswick",
   "metadata": {},
   "outputs": [
    {
     "data": {
      "text/plain": [
       "(array([3., 3., 9., 0., 0., 0., 3., 3., 0., 6.]),\n",
       " array([1.00655529, 1.01340389, 1.02025249, 1.0271011 , 1.0339497 ,\n",
       "        1.0407983 , 1.04764691, 1.05449551, 1.06134411, 1.06819272,\n",
       "        1.07504132]),\n",
       " <BarContainer object of 10 artists>)"
      ]
     },
     "execution_count": 53,
     "metadata": {},
     "output_type": "execute_result"
    },
    {
     "data": {
      "image/png": "[encoded data removed]",
      "text/plain": [
       "<Figure size 432x288 with 1 Axes>"
      ]
     },
     "metadata": {
      "needs_background": "light"
     },
     "output_type": "display_data"
    }
   ],
   "source": [
    "plt.hist(np.exp(full_probs[1207]))"
   ]
  },
  {
   "cell_type": "code",
   "execution_count": 75,
   "id": "smooth-evaluation",
   "metadata": {},
   "outputs": [
    {
     "data": {
      "text/plain": [
       "(array([3., 3., 0., 1., 5., 0., 6., 0., 6., 3.]),\n",
       " array([-0.66409099, -0.53514907, -0.40620716, -0.27726524, -0.14832332,\n",
       "        -0.0193814 ,  0.10956051,  0.23850243,  0.36744435,  0.49638627,\n",
       "         0.62532818]),\n",
       " <BarContainer object of 10 artists>)"
      ]
     },
     "execution_count": 75,
     "metadata": {},
     "output_type": "execute_result"
    },
    {
     "data": {
      "image/png": "[encoded data removed]",
      "text/plain": [
       "<Figure size 432x288 with 1 Axes>"
      ]
     },
     "metadata": {
      "needs_background": "light"
     },
     "output_type": "display_data"
    }
   ],
   "source": [
    "plt.hist(full_logits[373])"
   ]
  },
  {
   "cell_type": "code",
   "execution_count": 74,
   "id": "bridal-graduation",
   "metadata": {},
   "outputs": [
    {
     "data": {
      "text/plain": [
       "(array([3., 3., 3., 3., 3., 3., 0., 3., 3., 3.]),\n",
       " array([0.01653922, 0.02089015, 0.02524109, 0.02959202, 0.03394296,\n",
       "        0.03829389, 0.04264483, 0.04699576, 0.0513467 , 0.05569763,\n",
       "        0.06004857]),\n",
       " <BarContainer object of 10 artists>)"
      ]
     },
     "execution_count": 74,
     "metadata": {},
     "output_type": "execute_result"
    },
    {
     "data": {
      "image/png": "[encoded data removed]",
      "text/plain": [
       "<Figure size 432x288 with 1 Axes>"
      ]
     },
     "metadata": {
      "needs_background": "light"
     },
     "output_type": "display_data"
    }
   ],
   "source": [
    "plt.hist(full_probs[373])"
   ]
  },
  {
   "cell_type": "code",
   "execution_count": 67,
   "id": "rotary-transport",
   "metadata": {},
   "outputs": [
    {
     "data": {
      "text/plain": [
       "(array([ 6.,  0.,  4., 11.,  0.,  0.,  0.,  0.,  0.,  6.]),\n",
       " array([1.01513383, 1.02077151, 1.02640918, 1.03204685, 1.03768453,\n",
       "        1.0433222 , 1.04895988, 1.05459755, 1.06023523, 1.0658729 ,\n",
       "        1.07151057]),\n",
       " <BarContainer object of 10 artists>)"
      ]
     },
     "execution_count": 67,
     "metadata": {},
     "output_type": "execute_result"
    },
    {
     "data": {
      "image/png": "[encoded data removed]",
      "text/plain": [
       "<Figure size 432x288 with 1 Axes>"
      ]
     },
     "metadata": {
      "needs_background": "light"
     },
     "output_type": "display_data"
    }
   ],
   "source": [
    "plt.hist(np.exp(full_probs[3834]))"
   ]
  },
  {
   "cell_type": "code",
   "execution_count": 69,
   "id": "looking-metabolism",
   "metadata": {},
   "outputs": [
    {
     "data": {
      "text/plain": [
       "4.65568089949748"
      ]
     },
     "execution_count": 69,
     "metadata": {},
     "output_type": "execute_result"
    }
   ],
   "source": [
    "entropy(full_probs[373])"
   ]
  },
  {
   "cell_type": "code",
   "execution_count": 71,
   "id": "elder-trail",
   "metadata": {},
   "outputs": [
    {
     "data": {
      "text/plain": [
       "4.5999638296259455"
      ]
     },
     "execution_count": 71,
     "metadata": {},
     "output_type": "execute_result"
    }
   ],
   "source": [
    "full_probs_10_20 = np.array(full_probs)[(gt_counts > 10) & (gt_counts <20)]\n",
    "np.mean(entropy(full_probs_10_20))"
   ]
  },
  {
   "cell_type": "code",
   "execution_count": 70,
   "id": "conservative-charles",
   "metadata": {},
   "outputs": [
    {
     "data": {
      "text/plain": [
       "4.632594633883542"
      ]
     },
     "execution_count": 70,
     "metadata": {},
     "output_type": "execute_result"
    }
   ],
   "source": [
    "full_probs_12_15 = np.array(full_probs)[(gt_counts > 12) & (gt_counts <25)]\n",
    "np.mean(entropy(full_probs_12_15))"
   ]
  },
  {
   "cell_type": "code",
   "execution_count": 72,
   "id": "compatible-binding",
   "metadata": {},
   "outputs": [
    {
     "data": {
      "text/plain": [
       "4.754887502163469"
      ]
     },
     "execution_count": 72,
     "metadata": {},
     "output_type": "execute_result"
    }
   ],
   "source": [
    "even_probs = np.array([1/27.0]*27)\n",
    "entropy(even_probs)"
   ]
  },
  {
   "cell_type": "code",
   "execution_count": 76,
   "id": "distant-silicon",
   "metadata": {},
   "outputs": [
    {
     "data": {
      "text/plain": [
       "3.7004397181410926"
      ]
     },
     "execution_count": 76,
     "metadata": {},
     "output_type": "execute_result"
    }
   ],
   "source": [
    "half_pos_probs = np.array([1/13.0]*13)\n",
    "entropy(half_pos_probs)"
   ]
  },
  {
   "cell_type": "code",
   "execution_count": 78,
   "id": "persistent-split",
   "metadata": {
    "scrolled": true
   },
   "outputs": [
    {
     "data": {
      "text/plain": [
       "<BarContainer object of 28 artists>"
      ]
     },
     "execution_count": 78,
     "metadata": {},
     "output_type": "execute_result"
    },
    {
     "data": {
      "image/png": "[encoded data removed]",
      "text/plain": [
       "<Figure size 1440x720 with 1 Axes>"
      ]
     },
     "metadata": {
      "needs_background": "light"
     },
     "output_type": "display_data"
    }
   ],
   "source": [
    "gt_idxs_373 = sorted(game_data['test_gt_idxs'][373])\n",
    "not_gt_idxs_373 = [i for i in range(27) if not i in gt_idxs_373]\n",
    "\n",
    "plt.figure(figsize=(20,10))\n",
    "plt.ylim(0.0, 0.1)\n",
    "\n",
    "plt.axhline(y=1./gt_counts[373], color='r', linestyle='-')\n",
    "\n",
    "plt.bar(\n",
    "    [str(idx) for idx in gt_idxs_373] + [' '] + [str(idx) for idx in not_gt_idxs_373],  \n",
    "    list(full_probs[373][gt_idxs_373]) + [0] + list(full_probs[373][not_gt_idxs_373]),\n",
    "    color='k'\n",
    ")\n"
   ]
  },
  {
   "cell_type": "code",
   "execution_count": 79,
   "id": "painted-jamaica",
   "metadata": {},
   "outputs": [
    {
     "data": {
      "text/plain": [
       "4.65568089949748"
      ]
     },
     "execution_count": 79,
     "metadata": {},
     "output_type": "execute_result"
    }
   ],
   "source": [
    "np.mean(entropy(full_probs[373]))"
   ]
  },
  {
   "cell_type": "code",
   "execution_count": 81,
   "id": "introductory-timber",
   "metadata": {},
   "outputs": [
    {
     "data": {
      "text/plain": [
       "4.646452872984402"
      ]
     },
     "execution_count": 81,
     "metadata": {},
     "output_type": "execute_result"
    }
   ],
   "source": [
    "np.mean(entropy(full_probs))"
   ]
  },
  {
   "cell_type": "code",
   "execution_count": 80,
   "id": "american-surprise",
   "metadata": {},
   "outputs": [
    {
     "data": {
      "text/plain": [
       "4.5999638296259455"
      ]
     },
     "execution_count": 80,
     "metadata": {},
     "output_type": "execute_result"
    }
   ],
   "source": [
    "full_probs_10_20 = np.array(full_probs)[(gt_counts > 10) & (gt_counts <20)]\n",
    "np.mean(entropy(full_probs_10_20))"
   ]
  },
  {
   "cell_type": "markdown",
   "id": "legal-consideration",
   "metadata": {},
   "source": [
    "## Embedding Analysis"
   ]
  },
  {
   "cell_type": "code",
   "execution_count": 54,
   "id": "every-slave",
   "metadata": {},
   "outputs": [
    {
     "name": "stdout",
     "output_type": "stream",
     "text": [
      "The autoreload extension is already loaded. To reload it, use:\n",
      "  %reload_ext autoreload\n"
     ]
    }
   ],
   "source": [
    "%load_ext autoreload\n",
    "%autoreload 2\n",
    "\n",
    "from dataset import BatchFetcher\n",
    "from metrics import find_nn, analogy, find_cos, find_dotproduct, find_euclidean\n",
    "from dataraw_sampling import construct_card_idx_lookup\n",
    "\n",
    "import matplotlib.pyplot as plt"
   ]
  },
  {
   "cell_type": "code",
   "execution_count": 55,
   "id": "statewide-constitution",
   "metadata": {},
   "outputs": [
    {
     "name": "stdout",
     "output_type": "stream",
     "text": [
      "---------data----------\n",
      "num_attributes : 3\n",
      "num_attr_vals : 3\n",
      "key_support_size : 27\n",
      "N_pairs : 8\n",
      "union_only : True\n",
      "max_len_q : 16\n",
      "len_k : 1\n",
      "train_gt_idxs length : 0\n",
      "val_gt_idxs length : 5120\n",
      "test_gt_idxs length : 5120\n",
      "train_tokens length : 0\n",
      "val_tokens length : 5120\n",
      "test_tokens length : 5120\n",
      "test_marginal_gt_idxs length : 5120\n",
      "test_marginal_tokens length : 5120\n",
      "vocab_size : 74\n",
      "symbol_vocab_token_lookup : {'(': 64, ')': 65, 'NULL': 66, 'SEP': 67, 'SOS': 68, 'EOS': 69, 'PAD': 70, 'PLH': 71, '|': 72, '!': 73}\n",
      "vocab_by_property : False\n",
      "-----------------------\n"
     ]
    }
   ],
   "source": [
    "cuda_device = trainmodule.model._parameters['key_bias_terms'].device\n",
    "\n",
    "game_data = main.load_data(args.data_path)\n",
    "batch_fecther = BatchFetcher(\n",
    "    raw_data = game_data, device=cuda_device)"
   ]
  },
  {
   "cell_type": "code",
   "execution_count": 56,
   "id": "minimal-haiti",
   "metadata": {},
   "outputs": [],
   "source": [
    "queries = [[(0,1,3),(0,0,0)], [(0,1,3),(1,2,0)]]\n",
    "keys = [[(0,0,0)],[(0,1,0)],[(2,2,2)]]\n",
    "X_query, X_key = batch_fecther.make_query_batch(X_query_properties=queries, X_key_properties=None, X_key=[i for i in range(game_data['key_support_size'])])\n",
    "query_repr, key_repr = trainmodule.pull_repr(X_query, X_key)"
   ]
  },
  {
   "cell_type": "code",
   "execution_count": 57,
   "id": "center-assurance",
   "metadata": {
    "scrolled": true
   },
   "outputs": [
    {
     "data": {
      "text/plain": [
       "tensor([[ 0.5362,  0.1149,  0.2039, -0.6667],\n",
       "        [ 0.7600,  0.8585,  0.1213, -0.7373]], device='cuda:1')"
      ]
     },
     "execution_count": 57,
     "metadata": {},
     "output_type": "execute_result"
    }
   ],
   "source": [
    "query_repr"
   ]
  },
  {
   "cell_type": "code",
   "execution_count": 58,
   "id": "automotive-burst",
   "metadata": {
    "scrolled": true
   },
   "outputs": [
    {
     "data": {
      "text/plain": [
       "tensor([[ 0.1285,  0.3697,  0.1037, -0.3848],\n",
       "        [ 0.0716,  0.3787,  0.2297,  0.2128],\n",
       "        [ 0.2780,  0.3077, -0.4586,  0.2832],\n",
       "        [ 0.2182, -0.1689,  0.2326, -0.4170],\n",
       "        [ 0.1571, -0.1834,  0.3700,  0.1400],\n",
       "        [ 0.3425, -0.2402, -0.2569,  0.1979],\n",
       "        [-0.4150, -0.1103,  0.0543, -0.3910],\n",
       "        [-0.4920, -0.1250,  0.1852,  0.1586],\n",
       "        [-0.2886, -0.1841, -0.4735,  0.2308],\n",
       "        [ 0.1239,  0.3700,  0.0996, -0.3745],\n",
       "        [ 0.0675,  0.3882,  0.2190,  0.2171],\n",
       "        [ 0.2672,  0.3158, -0.4508,  0.2811],\n",
       "        [ 0.2115, -0.1694,  0.2412, -0.4202],\n",
       "        [ 0.1557, -0.1894,  0.3686,  0.1346],\n",
       "        [ 0.3394, -0.2440, -0.2548,  0.1889],\n",
       "        [-0.4050, -0.1114,  0.0601, -0.3999],\n",
       "        [-0.4858, -0.1274,  0.1860,  0.1566],\n",
       "        [-0.2858, -0.1858, -0.4659,  0.2312],\n",
       "        [ 0.1243,  0.3742,  0.1115, -0.3745],\n",
       "        [ 0.0703,  0.3855,  0.2255,  0.2105],\n",
       "        [ 0.2640,  0.3147, -0.4559,  0.2879],\n",
       "        [ 0.2024, -0.1831,  0.2370, -0.4243],\n",
       "        [ 0.1671, -0.1943,  0.3650,  0.1346],\n",
       "        [ 0.3400, -0.2299, -0.2457,  0.1894],\n",
       "        [-0.4061, -0.1090,  0.0512, -0.3931],\n",
       "        [-0.4818, -0.1298,  0.1847,  0.1638],\n",
       "        [-0.2854, -0.1879, -0.4675,  0.2307]], device='cuda:1')"
      ]
     },
     "execution_count": 58,
     "metadata": {},
     "output_type": "execute_result"
    }
   ],
   "source": [
    "# Do the linear analogy for keys first\n",
    "key_repr"
   ]
  },
  {
   "cell_type": "code",
   "execution_count": 59,
   "id": "earlier-sleep",
   "metadata": {},
   "outputs": [],
   "source": [
    "key_repr_normalized = key_repr / torch.linalg.norm(key_repr, ord=2, dim=-1).view(-1,1)"
   ]
  },
  {
   "cell_type": "code",
   "execution_count": 63,
   "id": "acting-agenda",
   "metadata": {
    "scrolled": true
   },
   "outputs": [
    {
     "name": "stdout",
     "output_type": "stream",
     "text": [
      "torch.Size([4])\n",
      "torch.Size([4])\n",
      "torch.Size([4])\n",
      "torch.Size([4])\n",
      "torch.Size([4])\n",
      "torch.Size([4])\n",
      "torch.Size([4])\n",
      "torch.Size([4])\n",
      "torch.Size([4])\n",
      "torch.Size([4])\n",
      "torch.Size([4])\n",
      "torch.Size([4])\n",
      "torch.Size([4])\n",
      "torch.Size([4])\n",
      "torch.Size([4])\n",
      "torch.Size([4])\n",
      "torch.Size([4])\n",
      "torch.Size([4])\n",
      "torch.Size([4])\n",
      "torch.Size([4])\n",
      "torch.Size([4])\n",
      "torch.Size([4])\n",
      "torch.Size([4])\n",
      "torch.Size([4])\n",
      "torch.Size([4])\n",
      "torch.Size([4])\n",
      "torch.Size([4])\n"
     ]
    },
    {
     "data": {
      "text/plain": [
       "(array([ 81.,   0.,   0.,   0.,   0.,  54., 108.,   0.,   0.,   0.,   0.,\n",
       "          0.,   0.,  81.,   0.,   0.,   0.,   0.,   0.,  27.,  54.,   0.,\n",
       "          0.,   0.,   0.,   0.,  81.,   0.,   0.,   0.,  81.,   0.,   0.,\n",
       "          0.,  81.,   0.,   0.,   0.,   0.,   0.,   0.,   0.,   0.,   0.,\n",
       "          0.,   0.,   0.,   0.,   0.,  81.]),\n",
       " array([-0.69899642, -0.6650165 , -0.63103657, -0.59705664, -0.56307671,\n",
       "        -0.52909678, -0.49511685, -0.46113693, -0.427157  , -0.39317707,\n",
       "        -0.35919714, -0.32521721, -0.29123728, -0.25725735, -0.22327743,\n",
       "        -0.1892975 , -0.15531757, -0.12133764, -0.08735771, -0.05337778,\n",
       "        -0.01939785,  0.01458207,  0.048562  ,  0.08254193,  0.11652186,\n",
       "         0.15050179,  0.18448172,  0.21846164,  0.25244157,  0.2864215 ,\n",
       "         0.32040143,  0.35438136,  0.38836129,  0.42234122,  0.45632114,\n",
       "         0.49030107,  0.524281  ,  0.55826093,  0.59224086,  0.62622079,\n",
       "         0.66020072,  0.69418064,  0.72816057,  0.7621405 ,  0.79612043,\n",
       "         0.83010036,  0.86408029,  0.89806021,  0.93204014,  0.96602007,\n",
       "         1.        ]),\n",
       " <BarContainer object of 50 artists>)"
      ]
     },
     "execution_count": 63,
     "metadata": {},
     "output_type": "execute_result"
    },
    {
     "data": {
      "image/png": "[encoded data removed]",
      "text/plain": [
       "<Figure size 432x288 with 1 Axes>"
      ]
     },
     "metadata": {
      "needs_background": "light"
     },
     "output_type": "display_data"
    }
   ],
   "source": [
    "distances = []\n",
    "\n",
    "for i in range(27):\n",
    "    nn_idx, nn_dists = find_nn(v=key_repr_normalized[0], Wv=key_repr_normalized, similarity_fn=find_dotproduct, k=27)\n",
    "    distances += nn_dists.tolist()\n",
    "    \n",
    "import matplotlib.pyplot as plt\n",
    "import numpy as np\n",
    "plt.hist(distances, bins=50)"
   ]
  },
  {
   "cell_type": "code",
   "execution_count": 64,
   "id": "covered-grammar",
   "metadata": {},
   "outputs": [
    {
     "data": {
      "text/plain": [
       "(0.267389101506436, 0.007929454247156778, 5.780572146177292)"
      ]
     },
     "execution_count": 64,
     "metadata": {},
     "output_type": "execute_result"
    }
   ],
   "source": [
    "np.var(distances), np.mean(distances), np.sum(distances)"
   ]
  },
  {
   "cell_type": "code",
   "execution_count": 29,
   "id": "constitutional-viking",
   "metadata": {},
   "outputs": [],
   "source": [
    "card2idx_lookup, idx2card_lookup = construct_card_idx_lookup(game_data['num_attributes'], game_data['num_attr_vals'])\n",
    "\n",
    "def linear_analogy_by_props(propertiesA, propertiesB, propertiesC, card2idx_lookup, idx2card_lookup):\n",
    "    keyidxA = card2idx_lookup[propertiesA]\n",
    "    keyidxB = card2idx_lookup[propertiesB]\n",
    "    keyidxC = card2idx_lookup[propertiesC]\n",
    "\n",
    "    print(keyidxA, keyidxB, keyidxC)\n",
    "\n",
    "    vA = key_repr[keyidxA]\n",
    "    vB = key_repr[keyidxB]\n",
    "    vC = key_repr[keyidxC]\n",
    "\n",
    "    nns_idx, nns_distances = analogy(vA, vB, vC, key_repr, similarity_fn=find_cos, k=None)\n",
    "    nns_properties = [idx2card_lookup[idx.item()] for idx in nns_idx]\n",
    "    print(nns_idx, nns_distances)\n",
    "    print(nns_properties)"
   ]
  },
  {
   "cell_type": "code",
   "execution_count": 17,
   "id": "underlying-bench",
   "metadata": {},
   "outputs": [
    {
     "name": "stdout",
     "output_type": "stream",
     "text": [
      "25 24 13\n",
      "torch.Size([16])\n",
      "tensor([13, 12, 14, 16, 23,  5,  9, 21,  0, 22,  1, 18,  2,  4, 15, 26, 20,  8,\n",
      "         3, 24, 10,  6, 11, 19, 17,  7, 25], device='cuda:1') tensor([ 0.6625,  0.4359,  0.3446,  0.3238,  0.2579,  0.1624,  0.1402,  0.0975,\n",
      "         0.0765,  0.0410,  0.0308,  0.0256,  0.0198,  0.0019, -0.0131, -0.0144,\n",
      "        -0.0170, -0.0299, -0.0357, -0.0589, -0.0685, -0.0906, -0.1622, -0.1782,\n",
      "        -0.3266, -0.3419, -0.7537], device='cuda:1')\n",
      "[(1, 1, 1), (1, 1, 0), (1, 1, 2), (1, 2, 1), (2, 1, 2), (0, 1, 2), (1, 0, 0), (2, 1, 0), (0, 0, 0), (2, 1, 1), (0, 0, 1), (2, 0, 0), (0, 0, 2), (0, 1, 1), (1, 2, 0), (2, 2, 2), (2, 0, 2), (0, 2, 2), (0, 1, 0), (2, 2, 0), (1, 0, 1), (0, 2, 0), (1, 0, 2), (2, 0, 1), (1, 2, 2), (0, 2, 1), (2, 2, 1)]\n"
     ]
    }
   ],
   "source": [
    "# vec 16\n",
    "linear_analogy_by_props(\n",
    "    propertiesA = (2,2,1), \n",
    "    propertiesB = (2,2,0), \n",
    "    propertiesC = (1,1,1), \n",
    "    card2idx_lookup=card2idx_lookup, \n",
    "    idx2card_lookup=idx2card_lookup)"
   ]
  },
  {
   "cell_type": "code",
   "execution_count": 18,
   "id": "ultimate-polyester",
   "metadata": {},
   "outputs": [
    {
     "name": "stdout",
     "output_type": "stream",
     "text": [
      "7 25 8\n",
      "torch.Size([16])\n",
      "tensor([ 8,  2, 25, 26, 11, 17, 19, 20, 23, 24,  1,  7, 15, 10, 22,  0,  6,  5,\n",
      "         9, 14,  3, 18,  4, 12, 13, 16, 21], device='cuda:1') tensor([ 0.7596,  0.6634,  0.5691,  0.2043,  0.1940,  0.1902,  0.1802,  0.1696,\n",
      "         0.1669,  0.1637,  0.1636,  0.1083,  0.0911,  0.0883,  0.0881,  0.0621,\n",
      "         0.0537,  0.0247,  0.0077, -0.0104, -0.0909, -0.0942, -0.0956, -0.1043,\n",
      "        -0.1195, -0.1235, -0.1400], device='cuda:1')\n",
      "[(0, 2, 2), (0, 0, 2), (2, 2, 1), (2, 2, 2), (1, 0, 2), (1, 2, 2), (2, 0, 1), (2, 0, 2), (2, 1, 2), (2, 2, 0), (0, 0, 1), (0, 2, 1), (1, 2, 0), (1, 0, 1), (2, 1, 1), (0, 0, 0), (0, 2, 0), (0, 1, 2), (1, 0, 0), (1, 1, 2), (0, 1, 0), (2, 0, 0), (0, 1, 1), (1, 1, 0), (1, 1, 1), (1, 2, 1), (2, 1, 0)]\n"
     ]
    }
   ],
   "source": [
    "# vec 16\n",
    "linear_analogy_by_props(\n",
    "    propertiesA = (0,2,1), \n",
    "    propertiesB = (2,2,1), \n",
    "    propertiesC = (0,2,2), \n",
    "    card2idx_lookup=card2idx_lookup, \n",
    "    idx2card_lookup=idx2card_lookup)"
   ]
  },
  {
   "cell_type": "code",
   "execution_count": 19,
   "id": "latest-economy",
   "metadata": {},
   "outputs": [
    {
     "name": "stdout",
     "output_type": "stream",
     "text": [
      "7 19 26\n",
      "torch.Size([16])\n",
      "tensor([26, 24, 15, 23, 14, 25, 19, 22, 10, 13, 17, 12,  8, 20,  5,  6,  9,  2,\n",
      "         1, 11,  7, 16, 18,  4,  0,  3, 21], device='cuda:1') tensor([ 0.9753,  0.8072,  0.2070,  0.1994,  0.1990,  0.1950,  0.1725,  0.1418,\n",
      "         0.1245,  0.1155,  0.1090,  0.0992,  0.0880,  0.0651,  0.0485,  0.0293,\n",
      "         0.0229,  0.0038, -0.0039, -0.0489, -0.0514, -0.0604, -0.0615, -0.0621,\n",
      "        -0.0839, -0.1860, -0.2537], device='cuda:1')\n",
      "[(2, 2, 2), (2, 2, 0), (1, 2, 0), (2, 1, 2), (1, 1, 2), (2, 2, 1), (2, 0, 1), (2, 1, 1), (1, 0, 1), (1, 1, 1), (1, 2, 2), (1, 1, 0), (0, 2, 2), (2, 0, 2), (0, 1, 2), (0, 2, 0), (1, 0, 0), (0, 0, 2), (0, 0, 1), (1, 0, 2), (0, 2, 1), (1, 2, 1), (2, 0, 0), (0, 1, 1), (0, 0, 0), (0, 1, 0), (2, 1, 0)]\n"
     ]
    }
   ],
   "source": [
    "# vec 16\n",
    "linear_analogy_by_props(\n",
    "    propertiesA = (0,2,1), \n",
    "    propertiesB = (2,0,1), \n",
    "    propertiesC = (2,2,2), \n",
    "    card2idx_lookup=card2idx_lookup, \n",
    "    idx2card_lookup=idx2card_lookup)"
   ]
  },
  {
   "cell_type": "code",
   "execution_count": 22,
   "id": "natural-belle",
   "metadata": {},
   "outputs": [
    {
     "name": "stdout",
     "output_type": "stream",
     "text": [
      "25 25 24\n",
      "torch.Size([16])\n",
      "tensor([24, 26, 15,  6, 25, 14, 12, 17, 13, 23,  1, 19, 22, 10,  9,  7,  8,  5,\n",
      "        18,  4, 16, 20,  2,  0, 21,  3, 11], device='cuda:1') tensor([ 1.0000e+00,  8.0590e-01,  7.1588e-01,  3.3758e-01,  2.6389e-01,\n",
      "         1.4120e-01,  1.2782e-01,  7.0533e-02,  5.3902e-02,  5.0637e-02,\n",
      "         4.9744e-02,  4.2136e-02,  3.9595e-02,  2.7262e-02,  8.0941e-04,\n",
      "        -9.2919e-05, -1.8811e-02, -3.5239e-02, -4.4427e-02, -6.1315e-02,\n",
      "        -6.8744e-02, -8.2491e-02, -8.9917e-02, -9.1402e-02, -1.1744e-01,\n",
      "        -1.7063e-01, -1.8255e-01], device='cuda:1')\n",
      "[(2, 2, 0), (2, 2, 2), (1, 2, 0), (0, 2, 0), (2, 2, 1), (1, 1, 2), (1, 1, 0), (1, 2, 2), (1, 1, 1), (2, 1, 2), (0, 0, 1), (2, 0, 1), (2, 1, 1), (1, 0, 1), (1, 0, 0), (0, 2, 1), (0, 2, 2), (0, 1, 2), (2, 0, 0), (0, 1, 1), (1, 2, 1), (2, 0, 2), (0, 0, 2), (0, 0, 0), (2, 1, 0), (0, 1, 0), (1, 0, 2)]\n"
     ]
    }
   ],
   "source": [
    "# vec 16\n",
    "linear_analogy_by_props(\n",
    "    propertiesA = (2,2,1), \n",
    "    propertiesB = (2,2,1), \n",
    "    propertiesC = (2,2,0), \n",
    "    card2idx_lookup=card2idx_lookup, \n",
    "    idx2card_lookup=idx2card_lookup)"
   ]
  },
  {
   "cell_type": "code",
   "execution_count": 23,
   "id": "separated-sucking",
   "metadata": {},
   "outputs": [
    {
     "name": "stdout",
     "output_type": "stream",
     "text": [
      "7 19 8\n",
      "torch.Size([16])\n",
      "tensor([ 8,  2, 20, 23, 11, 19,  5,  0, 10,  1,  9, 26, 22, 14, 12, 24, 17, 18,\n",
      "        15,  6,  4,  3, 21, 25, 13,  7, 16], device='cuda:1') tensor([ 0.9787,  0.8681,  0.2565,  0.2357,  0.2029,  0.1656,  0.1350,  0.1323,\n",
      "         0.1244,  0.1075,  0.1044,  0.0708,  0.0520,  0.0360,  0.0177, -0.0134,\n",
      "        -0.0149, -0.0178, -0.0231, -0.0232, -0.0708, -0.0786, -0.0800, -0.1057,\n",
      "        -0.1314, -0.1510, -0.2267], device='cuda:1')\n",
      "[(0, 2, 2), (0, 0, 2), (2, 0, 2), (2, 1, 2), (1, 0, 2), (2, 0, 1), (0, 1, 2), (0, 0, 0), (1, 0, 1), (0, 0, 1), (1, 0, 0), (2, 2, 2), (2, 1, 1), (1, 1, 2), (1, 1, 0), (2, 2, 0), (1, 2, 2), (2, 0, 0), (1, 2, 0), (0, 2, 0), (0, 1, 1), (0, 1, 0), (2, 1, 0), (2, 2, 1), (1, 1, 1), (0, 2, 1), (1, 2, 1)]\n"
     ]
    }
   ],
   "source": [
    "# vec 16\n",
    "linear_analogy_by_props(\n",
    "    propertiesA = (0,2,1), \n",
    "    propertiesB = (2,0,1), \n",
    "    propertiesC = (0,2,2), \n",
    "    card2idx_lookup=card2idx_lookup, \n",
    "    idx2card_lookup=idx2card_lookup)"
   ]
  },
  {
   "cell_type": "code",
   "execution_count": 24,
   "id": "threatened-friendly",
   "metadata": {},
   "outputs": [
    {
     "name": "stdout",
     "output_type": "stream",
     "text": [
      "10 19 17\n",
      "torch.Size([16])\n",
      "tensor([17, 25,  1,  6,  3, 14, 22, 11,  0, 15, 24, 26, 21,  2,  8,  7,  4, 13,\n",
      "        16,  9, 12, 18, 23,  5, 19, 20, 10], device='cuda:1') tensor([ 0.7326,  0.2305,  0.2158,  0.1826,  0.1689,  0.1486,  0.1200,  0.0872,\n",
      "         0.0645,  0.0563,  0.0404,  0.0294, -0.0498, -0.0510, -0.0714, -0.0722,\n",
      "        -0.0835, -0.0843, -0.1142, -0.1253, -0.1441, -0.1522, -0.1546, -0.1856,\n",
      "        -0.1955, -0.2414, -0.6082], device='cuda:1')\n",
      "[(1, 2, 2), (2, 2, 1), (0, 0, 1), (0, 2, 0), (0, 1, 0), (1, 1, 2), (2, 1, 1), (1, 0, 2), (0, 0, 0), (1, 2, 0), (2, 2, 0), (2, 2, 2), (2, 1, 0), (0, 0, 2), (0, 2, 2), (0, 2, 1), (0, 1, 1), (1, 1, 1), (1, 2, 1), (1, 0, 0), (1, 1, 0), (2, 0, 0), (2, 1, 2), (0, 1, 2), (2, 0, 1), (2, 0, 2), (1, 0, 1)]\n"
     ]
    }
   ],
   "source": [
    "# vec 16\n",
    "linear_analogy_by_props(\n",
    "    propertiesA = (1,0,1), \n",
    "    propertiesB = (2,0,1), \n",
    "    propertiesC = (1,2,2), \n",
    "    card2idx_lookup=card2idx_lookup, \n",
    "    idx2card_lookup=idx2card_lookup)"
   ]
  },
  {
   "cell_type": "code",
   "execution_count": null,
   "id": "bigger-coordinate",
   "metadata": {},
   "outputs": [],
   "source": []
  }
 ],
 "metadata": {
  "kernelspec": {
   "display_name": "Python 3",
   "language": "python",
   "name": "python3"
  },
  "language_info": {
   "codemirror_mode": {
    "name": "ipython",
    "version": 3
   },
   "file_extension": ".py",
   "mimetype": "text/x-python",
   "name": "python",
   "nbconvert_exporter": "python",
   "pygments_lexer": "ipython3",
   "version": "3.8.3"
  }
 },
 "nbformat": 4,
 "nbformat_minor": 5
}

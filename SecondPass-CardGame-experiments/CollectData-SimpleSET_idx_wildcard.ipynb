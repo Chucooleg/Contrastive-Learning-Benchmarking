{
 "cells": [
  {
   "cell_type": "code",
   "execution_count": 17,
   "id": "serial-liability",
   "metadata": {},
   "outputs": [
    {
     "name": "stdout",
     "output_type": "stream",
     "text": [
      "The autoreload extension is already loaded. To reload it, use:\n",
      "  %reload_ext autoreload\n"
     ]
    }
   ],
   "source": [
    "%load_ext autoreload\n",
    "%autoreload 2\n",
    "\n",
    "# from dataraw_sampling_SETShatter import *\n",
    "from collections import defaultdict, Counter\n",
    "import itertools\n",
    "import copy\n",
    "import random\n",
    "import json\n",
    "import operator as op\n",
    "from functools import reduce\n",
    "from tqdm import tqdm\n",
    "from itertools import chain, combinations\n",
    "import numpy as np\n",
    "import time\n",
    "from dataraw_sampling import *"
   ]
  },
  {
   "cell_type": "code",
   "execution_count": 25,
   "id": "accessory-illustration",
   "metadata": {
    "scrolled": true
   },
   "outputs": [
    {
     "name": "stderr",
     "output_type": "stream",
     "text": [
      "100%|██████████| 10240/10240 [00:00<00:00, 161814.11it/s]\n",
      " 53%|█████▎    | 2720/5120 [00:00<00:00, 13511.62it/s]"
     ]
    },
    {
     "name": "stdout",
     "output_type": "stream",
     "text": [
      "Time to build cardpair_answer_lookup: 0.00012493133544921875 seconds\n",
      "Time to build all_query_and_keys: 0.02679133415222168 seconds\n"
     ]
    },
    {
     "name": "stderr",
     "output_type": "stream",
     "text": [
      "100%|██████████| 5120/5120 [00:00<00:00, 15208.25it/s]\n"
     ]
    },
    {
     "name": "stdout",
     "output_type": "stream",
     "text": [
      "Sample Time for 10240 datapoints = 0.5968925952911377 seconds\n",
      "Saving Time for 10240 datapoints = 0.18109655380249023 seconds\n"
     ]
    }
   ],
   "source": [
    "# Simple SET\n",
    "num_attributes=3; num_attr_vals=3;\n",
    "N_train=0; N_val=5120; N_test=5120\n",
    "\n",
    "sample_start_time = time.time()\n",
    "data, stats = sample_queries(num_attributes, num_attr_vals, N_train, N_val, N_test)\n",
    "sample_end_time = time.time()\n",
    "\n",
    "print(f'Sample Time for {N_train+N_val+N_test} datapoints = {sample_end_time-sample_start_time} seconds')\n",
    "\n",
    "save_start_time = time.time()\n",
    "filename_dat = '../Raw_Datasets/SET/WildCardSETidx-{}Attr-{}Vals-{}Train-{}Val-{}Test.json'.format(\n",
    "    num_attributes, num_attr_vals, N_train, N_val, N_test)\n",
    "with open(filename_dat, 'w') as f:\n",
    "    json.dump(data, f)\n",
    "save_end_time = time.time()\n",
    "\n",
    "# filename = '../Raw_Datasets/SET/SimpleSETidx-{}Attr-{}Vals-{}Train-{}Val-{}Test-Stats.json'.format(\n",
    "#     num_attributes, num_attr_vals, query_length_multiplier, nest_depth_int, N_train, N_val, N_test)\n",
    "# with open(filename, 'w') as f:\n",
    "#     json.dump(stats, f)\n",
    "# save_end_time = time.time()\n",
    "\n",
    "print(f'Saving Time for {N_train+N_val+N_test} datapoints = {save_end_time-save_start_time} seconds')"
   ]
  },
  {
   "cell_type": "raw",
   "id": "operating-affair",
   "metadata": {},
   "source": [
    "# 3-3\n",
    "Time to build cardpair_answer_lookup: 0.00012493133544921875 seconds\n",
    "Time to build all_query_and_keys: 0.02679133415222168 seconds\n",
    "100%|██████████| 5120/5120 [00:00<00:00, 15208.25it/s]\n",
    "Sample Time for 10240 datapoints = 0.5968925952911377 seconds\n",
    "Saving Time for 10240 datapoints = 0.18109655380249023 seconds\n",
    "\n",
    "# 4 -3 \n",
    "Time to build all_query_and_keys: 1.707521677017212 seconds\n",
    "Sample Time for 10240 datapoints = 1.923567771911621 seconds\n",
    "Saving Time for 10240 datapoints = 0.24994754791259766 seconds\n",
    "\n",
    "# 5 -3\n",
    "Time to build cardpair_answer_lookup: 0.0013892650604248047 seconds\n",
    "100%|██████████| 10240/10240 [00:00<00:00, 124734.04it/s]\n",
    "Time to build all_query_and_keys: 78.87840580940247 seconds\n",
    "Sample Time for 10240 datapoints = 81.95533323287964 seconds\n",
    "Saving Time for 10240 datapoints = 0.5399096012115479 seconds"
   ]
  },
  {
   "cell_type": "code",
   "execution_count": 19,
   "id": "limited-hybrid",
   "metadata": {},
   "outputs": [
    {
     "data": {
      "text/plain": [
       "dict_keys(['num_attributes', 'num_attr_vals', 'nest_depth_int', 'key_support_size', 'multiple_OR_sets_bool', 'query_length_multiplier', 'max_len_q', 'len_k', 'train_gt_idxs', 'val_gt_idxs', 'test_gt_idxs', 'train_tokens', 'val_tokens', 'test_tokens', 'test_marginal_gt_idxs', 'test_marginal_tokens', 'vocab_size', 'symbol_vocab_token_lookup', 'vocab_by_property'])"
      ]
     },
     "execution_count": 19,
     "metadata": {},
     "output_type": "execute_result"
    }
   ],
   "source": [
    "data.keys()"
   ]
  },
  {
   "cell_type": "code",
   "execution_count": 27,
   "id": "arbitrary-drove",
   "metadata": {},
   "outputs": [
    {
     "data": {
      "text/plain": [
       "[0.3333333333333333, 0.3333333333333333, 0.3333333333333333]"
      ]
     },
     "execution_count": 27,
     "metadata": {},
     "output_type": "execute_result"
    }
   ],
   "source": [
    "bucket_probs = [0,0,0]\n",
    "\n",
    "[1.0/len(bucket_probs)] * len(bucket_probs)"
   ]
  },
  {
   "cell_type": "code",
   "execution_count": null,
   "id": "foster-modern",
   "metadata": {},
   "outputs": [],
   "source": []
  }
 ],
 "metadata": {
  "kernelspec": {
   "display_name": "Python 3",
   "language": "python",
   "name": "python3"
  },
  "language_info": {
   "codemirror_mode": {
    "name": "ipython",
    "version": 3
   },
   "file_extension": ".py",
   "mimetype": "text/x-python",
   "name": "python",
   "nbconvert_exporter": "python",
   "pygments_lexer": "ipython3",
   "version": "3.8.3"
  }
 },
 "nbformat": 4,
 "nbformat_minor": 5
}

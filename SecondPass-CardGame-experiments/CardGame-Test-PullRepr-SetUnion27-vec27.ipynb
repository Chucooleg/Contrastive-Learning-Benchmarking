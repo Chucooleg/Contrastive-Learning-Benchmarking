{
 "cells": [
  {
   "cell_type": "code",
   "execution_count": 2,
   "id": "general-tribe",
   "metadata": {
    "scrolled": false
   },
   "outputs": [
    {
     "name": "stdout",
     "output_type": "stream",
     "text": [
      "__Python VERSION: 3.8.3 (default, May 19 2020, 18:47:26) \n",
      "[GCC 7.3.0]\n",
      "__pyTorch VERSION: 1.7.0\n",
      "__CUDA VERSION\n",
      "/usr/bin/sh: 1: nvcc: not found\n",
      "__CUDNN VERSION: 8003\n",
      "__Number CUDA Devices: 2\n",
      "__Devices\n",
      "Active CUDA Device: GPU 0\n",
      "Available devices  2\n",
      "Current cuda device  0\n"
     ]
    }
   ],
   "source": [
    "# https://discuss.pytorch.org/t/i-have-3-gpu-why-torch-cuda-device-count-only-return-1/7245/4\n",
    "import torch\n",
    "import sys\n",
    "print('__Python VERSION:', sys.version)\n",
    "print('__pyTorch VERSION:', torch.__version__)\n",
    "print('__CUDA VERSION')\n",
    "from subprocess import call\n",
    "# call([\"nvcc\", \"--version\"]) does not work\n",
    "! nvcc --version\n",
    "print('__CUDNN VERSION:', torch.backends.cudnn.version())\n",
    "print('__Number CUDA Devices:', torch.cuda.device_count())\n",
    "print('__Devices')\n",
    "call([\"nvidia-smi\", \"--format=csv\", \"--query-gpu=index,name,driver_version,memory.total,memory.used,memory.free\"])\n",
    "print('Active CUDA Device: GPU', torch.cuda.current_device())\n",
    "\n",
    "print ('Available devices ', torch.cuda.device_count())\n",
    "print ('Current cuda device ', torch.cuda.current_device())"
   ]
  },
  {
   "cell_type": "code",
   "execution_count": 3,
   "id": "solar-suggestion",
   "metadata": {},
   "outputs": [],
   "source": [
    "%load_ext autoreload\n",
    "%autoreload 2\n",
    "\n",
    "import os\n",
    "import json\n",
    "import main\n",
    "from tqdm import tqdm\n",
    "import numpy as np\n",
    "from argparse import ArgumentDefaultsHelpFormatter, ArgumentParser\n",
    "import matplotlib.pyplot as plt"
   ]
  },
  {
   "cell_type": "code",
   "execution_count": 4,
   "id": "handmade-joining",
   "metadata": {},
   "outputs": [],
   "source": [
    "# arguments\n",
    "parser = ArgumentParser(formatter_class=ArgumentDefaultsHelpFormatter)\n",
    "args = parser.parse_args('')\n",
    "\n",
    "args.project_name = 'ContrastiveLearning-SET-Wildcard-Expand-Union-27'\n",
    "args.data_path = '../Raw_Datasets/SET/WildCardSETidxUnion-3Attr-3Vals-8Pairs-0Train-5120Val-5120Test.json'\n",
    "args.mode = 'test'\n",
    "args.resume_checkpoint_dir = 'checkpoints/ContrastiveLearning-SET-Wildcard-Expand-Union-27/20210331-140958-Con;Vec27;L8H8Lk4Hk2;scheduledAdamW72000;16883.98Kparams_runId_1kc0qfqz'\n",
    "args.ckpt_name = 'last.ckpt'\n",
    "args.runID = '1kc0qfqz'\n",
    "args.gpu = 1\n",
    "args.approve_before_training = False\n",
    "args.aml = False\n",
    "args.dataset_name = None"
   ]
  },
  {
   "cell_type": "code",
   "execution_count": 5,
   "id": "particular-remedy",
   "metadata": {
    "scrolled": true
   },
   "outputs": [
    {
     "name": "stderr",
     "output_type": "stream",
     "text": [
      "Global seed set to 42\n"
     ]
    },
    {
     "name": "stdout",
     "output_type": "stream",
     "text": [
      "---------data----------\n",
      "num_attributes : 3\n",
      "num_attr_vals : 3\n",
      "key_support_size : 27\n",
      "N_pairs : 8\n",
      "union_only : True\n",
      "max_len_q : 16\n",
      "len_k : 1\n",
      "train_gt_idxs length : 0\n",
      "val_gt_idxs length : 5120\n",
      "test_gt_idxs length : 5120\n",
      "train_tokens length : 0\n",
      "val_tokens length : 5120\n",
      "test_tokens length : 5120\n",
      "test_marginal_gt_idxs length : 5120\n",
      "test_marginal_tokens length : 5120\n",
      "vocab_size : 74\n",
      "symbol_vocab_token_lookup : {'(': 64, ')': 65, 'NULL': 66, 'SEP': 67, 'SOS': 68, 'EOS': 69, 'PAD': 70, 'PLH': 71, '|': 72, '!': 73}\n",
      "vocab_by_property : False\n",
      "-----------------------\n",
      "----------hparams----------\n",
      "seed : 42\n",
      "batch_size : 1024\n",
      "max_epochs : 20000000000\n",
      "val_every_n_epoch : 200\n",
      "d_model : 512\n",
      "embed_dropout : 0.0\n",
      "vec_repr : 27\n",
      "model : contrastive\n",
      "d_ff : 1024\n",
      "N_enc : 8\n",
      "num_heads : 8\n",
      "N_enc_key : 4\n",
      "num_heads_key : 2\n",
      "attn_wt_tying_scheme : untie_QKVO\n",
      "attn_wt_dropout : 0.0\n",
      "heads_dropout : 0.0\n",
      "pff_dropout : 0.0\n",
      "representation_pos : 0\n",
      "dotproduct_bottleneck : True\n",
      "normalize_dotproduct : False\n",
      "contrastive_use_infoNCE : True\n",
      "loss_temperature_const : 1.0\n",
      "loss_smoothing_const : 0.1\n",
      "nonlinear_classifier_scale_down_factor : [1, 1, 1]\n",
      "contrastive_optimizer : scheduled_adam\n",
      "cosine_annealing_T_max : 30\n",
      "adam_lr : 1e-05\n",
      "adam_beta1 : 0.9\n",
      "adam_beta2 : 0.999\n",
      "adam_epsilon : 1e-08\n",
      "adam_weight_decay : 0\n",
      "sgd_lr : 0.001\n",
      "sgd_momentum : 0\n",
      "scheduled_adam_beta1 : 0.9\n",
      "scheduled_adam_beta2 : 0.98\n",
      "scheduled_adam_epsilon : 1e-06\n",
      "scheduled_adam_warmup_steps : 72000\n",
      "additional_lr_decay : True\n",
      "additional_lr_decay_gamma : 0.9\n",
      "decay_lr_starts : 72000\n",
      "decay_lr_stops : 80000\n",
      "decay_lr_interval : 2000\n",
      "generative_overall_lr_scale : 1.0\n",
      "contrastive_overall_lr_scale : 1.0\n",
      "gradient_clip_val : 0.0\n",
      "debug : False\n",
      "extra_monitors : False\n",
      "mode : test\n",
      "key_support_size : 27\n",
      "num_attributes : 3\n",
      "num_attr_vals : 3\n",
      "union_only : True\n",
      "vocab_size : 74\n",
      "vocab_by_property : False\n",
      "( : 64\n",
      ") : 65\n",
      "NULL : 66\n",
      "SEP : 67\n",
      "SOS : 68\n",
      "EOS : 69\n",
      "PAD : 70\n",
      "PLH : 71\n",
      "| : 72\n",
      "! : 73\n",
      "max_len_q : 16\n",
      "N_pairs : 8\n",
      "len_k : 1\n",
      "resume_checkpoint_dir : checkpoints/ContrastiveLearning-SET-Wildcard-Expand-Union-27/20210331-140958-Con;Vec27;L8H8Lk4Hk2;scheduledAdamW72000;16883.98Kparams_runId_1kc0qfqz\n",
      "---------------------------\n",
      "    | Name                                                              | Type                    | Params\n",
      "----------------------------------------------------------------------------------------------------------------\n",
      "0   | metrics                                                           | ThresholdedMetrics      | 0     \n",
      "1   | KLdiv_criterion                                                   | KLdivLoss               | 0     \n",
      "2   | KLdiv_criterion.KLdiv_criterion                                   | KLDivLoss               | 0     \n",
      "3   | KLdiv_criterion.KLdiv_criterion_full                              | KLDivLoss               | 0     \n",
      "4   | KLdiv_criterion.logprob                                           | LogSoftmax              | 0     \n",
      "5   | model                                                             | EncoderPredictor        | 16.9 M\n",
      "6   | model.inp_query_layer                                             | Sequential              | 47.1 K\n",
      "7   | model.inp_query_layer.scaled_embed                                | ScaledEmbedding         | 37.9 K\n",
      "8   | model.inp_query_layer.scaled_embed.embedding                      | Embedding               | 37.9 K\n",
      "9   | model.inp_query_layer.position_encoder                            | LearnedPositionEncoder  | 9.2 K \n",
      "10  | model.inp_query_layer.embed_dropout                               | Dropout                 | 0     \n",
      "11  | model.inp_key_layer                                               | Sequential              | 729   \n",
      "12  | model.inp_key_layer.scaled_embed                                  | ScaledEmbedding         | 729   \n",
      "13  | model.inp_key_layer.scaled_embed.embedding                        | Embedding               | 729   \n",
      "14  | model.query_encoder                                               | Encoder                 | 16.8 M\n",
      "15  | model.query_encoder.encoder_layers                                | ModuleList              | 16.8 M\n",
      "16  | model.query_encoder.encoder_layers.0                              | EncoderLayer            | 2.1 M \n",
      "17  | model.query_encoder.encoder_layers.0.poswise_ff                   | Positiontwise_FF        | 1.1 M \n",
      "18  | model.query_encoder.encoder_layers.0.poswise_ff.linear1           | Linear                  | 525 K \n",
      "19  | model.query_encoder.encoder_layers.0.poswise_ff.linear2           | Linear                  | 524 K \n",
      "20  | model.query_encoder.encoder_layers.0.self_attn                    | MultiHeadAttention      | 1.1 M \n",
      "21  | model.query_encoder.encoder_layers.0.self_attn.attn_wt_dropout    | Dropout                 | 0     \n",
      "22  | model.query_encoder.encoder_layers.0.self_attn.projections_QKVO   | ModuleList              | 1.1 M \n",
      "23  | model.query_encoder.encoder_layers.0.self_attn.projections_QKVO.0 | Linear                  | 262 K \n",
      "24  | model.query_encoder.encoder_layers.0.self_attn.projections_QKVO.1 | Linear                  | 262 K \n",
      "25  | model.query_encoder.encoder_layers.0.self_attn.projections_QKVO.2 | Linear                  | 262 K \n",
      "26  | model.query_encoder.encoder_layers.0.self_attn.projections_QKVO.3 | Linear                  | 262 K \n",
      "27  | model.query_encoder.encoder_layers.0.layer_norms                  | ModuleList              | 2.0 K \n",
      "28  | model.query_encoder.encoder_layers.0.layer_norms.0                | LayerNorm               | 1.0 K \n",
      "29  | model.query_encoder.encoder_layers.0.layer_norms.1                | LayerNorm               | 1.0 K \n",
      "30  | model.query_encoder.encoder_layers.0.heads_dropout                | Dropout                 | 0     \n",
      "31  | model.query_encoder.encoder_layers.0.pff_dropout                  | Dropout                 | 0     \n",
      "32  | model.query_encoder.encoder_layers.1                              | EncoderLayer            | 2.1 M \n",
      "33  | model.query_encoder.encoder_layers.1.poswise_ff                   | Positiontwise_FF        | 1.1 M \n",
      "34  | model.query_encoder.encoder_layers.1.poswise_ff.linear1           | Linear                  | 525 K \n",
      "35  | model.query_encoder.encoder_layers.1.poswise_ff.linear2           | Linear                  | 524 K \n",
      "36  | model.query_encoder.encoder_layers.1.self_attn                    | MultiHeadAttention      | 1.1 M \n",
      "37  | model.query_encoder.encoder_layers.1.self_attn.attn_wt_dropout    | Dropout                 | 0     \n",
      "38  | model.query_encoder.encoder_layers.1.self_attn.projections_QKVO   | ModuleList              | 1.1 M \n",
      "39  | model.query_encoder.encoder_layers.1.self_attn.projections_QKVO.0 | Linear                  | 262 K \n",
      "40  | model.query_encoder.encoder_layers.1.self_attn.projections_QKVO.1 | Linear                  | 262 K \n",
      "41  | model.query_encoder.encoder_layers.1.self_attn.projections_QKVO.2 | Linear                  | 262 K \n",
      "42  | model.query_encoder.encoder_layers.1.self_attn.projections_QKVO.3 | Linear                  | 262 K \n",
      "43  | model.query_encoder.encoder_layers.1.layer_norms                  | ModuleList              | 2.0 K \n",
      "44  | model.query_encoder.encoder_layers.1.layer_norms.0                | LayerNorm               | 1.0 K \n",
      "45  | model.query_encoder.encoder_layers.1.layer_norms.1                | LayerNorm               | 1.0 K \n",
      "46  | model.query_encoder.encoder_layers.1.heads_dropout                | Dropout                 | 0     \n",
      "47  | model.query_encoder.encoder_layers.1.pff_dropout                  | Dropout                 | 0     \n",
      "48  | model.query_encoder.encoder_layers.2                              | EncoderLayer            | 2.1 M \n",
      "49  | model.query_encoder.encoder_layers.2.poswise_ff                   | Positiontwise_FF        | 1.1 M \n",
      "50  | model.query_encoder.encoder_layers.2.poswise_ff.linear1           | Linear                  | 525 K \n",
      "51  | model.query_encoder.encoder_layers.2.poswise_ff.linear2           | Linear                  | 524 K \n",
      "52  | model.query_encoder.encoder_layers.2.self_attn                    | MultiHeadAttention      | 1.1 M \n",
      "53  | model.query_encoder.encoder_layers.2.self_attn.attn_wt_dropout    | Dropout                 | 0     \n",
      "54  | model.query_encoder.encoder_layers.2.self_attn.projections_QKVO   | ModuleList              | 1.1 M \n",
      "55  | model.query_encoder.encoder_layers.2.self_attn.projections_QKVO.0 | Linear                  | 262 K \n",
      "56  | model.query_encoder.encoder_layers.2.self_attn.projections_QKVO.1 | Linear                  | 262 K \n",
      "57  | model.query_encoder.encoder_layers.2.self_attn.projections_QKVO.2 | Linear                  | 262 K \n",
      "58  | model.query_encoder.encoder_layers.2.self_attn.projections_QKVO.3 | Linear                  | 262 K \n",
      "59  | model.query_encoder.encoder_layers.2.layer_norms                  | ModuleList              | 2.0 K \n",
      "60  | model.query_encoder.encoder_layers.2.layer_norms.0                | LayerNorm               | 1.0 K \n",
      "61  | model.query_encoder.encoder_layers.2.layer_norms.1                | LayerNorm               | 1.0 K \n",
      "62  | model.query_encoder.encoder_layers.2.heads_dropout                | Dropout                 | 0     \n",
      "63  | model.query_encoder.encoder_layers.2.pff_dropout                  | Dropout                 | 0     \n",
      "64  | model.query_encoder.encoder_layers.3                              | EncoderLayer            | 2.1 M \n",
      "65  | model.query_encoder.encoder_layers.3.poswise_ff                   | Positiontwise_FF        | 1.1 M \n",
      "66  | model.query_encoder.encoder_layers.3.poswise_ff.linear1           | Linear                  | 525 K \n",
      "67  | model.query_encoder.encoder_layers.3.poswise_ff.linear2           | Linear                  | 524 K \n",
      "68  | model.query_encoder.encoder_layers.3.self_attn                    | MultiHeadAttention      | 1.1 M \n",
      "69  | model.query_encoder.encoder_layers.3.self_attn.attn_wt_dropout    | Dropout                 | 0     \n",
      "70  | model.query_encoder.encoder_layers.3.self_attn.projections_QKVO   | ModuleList              | 1.1 M \n",
      "71  | model.query_encoder.encoder_layers.3.self_attn.projections_QKVO.0 | Linear                  | 262 K \n",
      "72  | model.query_encoder.encoder_layers.3.self_attn.projections_QKVO.1 | Linear                  | 262 K \n",
      "73  | model.query_encoder.encoder_layers.3.self_attn.projections_QKVO.2 | Linear                  | 262 K \n",
      "74  | model.query_encoder.encoder_layers.3.self_attn.projections_QKVO.3 | Linear                  | 262 K \n",
      "75  | model.query_encoder.encoder_layers.3.layer_norms                  | ModuleList              | 2.0 K \n",
      "76  | model.query_encoder.encoder_layers.3.layer_norms.0                | LayerNorm               | 1.0 K \n",
      "77  | model.query_encoder.encoder_layers.3.layer_norms.1                | LayerNorm               | 1.0 K \n",
      "78  | model.query_encoder.encoder_layers.3.heads_dropout                | Dropout                 | 0     \n",
      "79  | model.query_encoder.encoder_layers.3.pff_dropout                  | Dropout                 | 0     \n",
      "80  | model.query_encoder.encoder_layers.4                              | EncoderLayer            | 2.1 M \n",
      "81  | model.query_encoder.encoder_layers.4.poswise_ff                   | Positiontwise_FF        | 1.1 M \n",
      "82  | model.query_encoder.encoder_layers.4.poswise_ff.linear1           | Linear                  | 525 K \n",
      "83  | model.query_encoder.encoder_layers.4.poswise_ff.linear2           | Linear                  | 524 K \n",
      "84  | model.query_encoder.encoder_layers.4.self_attn                    | MultiHeadAttention      | 1.1 M \n",
      "85  | model.query_encoder.encoder_layers.4.self_attn.attn_wt_dropout    | Dropout                 | 0     \n",
      "86  | model.query_encoder.encoder_layers.4.self_attn.projections_QKVO   | ModuleList              | 1.1 M \n",
      "87  | model.query_encoder.encoder_layers.4.self_attn.projections_QKVO.0 | Linear                  | 262 K \n",
      "88  | model.query_encoder.encoder_layers.4.self_attn.projections_QKVO.1 | Linear                  | 262 K \n",
      "89  | model.query_encoder.encoder_layers.4.self_attn.projections_QKVO.2 | Linear                  | 262 K \n",
      "90  | model.query_encoder.encoder_layers.4.self_attn.projections_QKVO.3 | Linear                  | 262 K \n",
      "91  | model.query_encoder.encoder_layers.4.layer_norms                  | ModuleList              | 2.0 K \n",
      "92  | model.query_encoder.encoder_layers.4.layer_norms.0                | LayerNorm               | 1.0 K \n",
      "93  | model.query_encoder.encoder_layers.4.layer_norms.1                | LayerNorm               | 1.0 K \n",
      "94  | model.query_encoder.encoder_layers.4.heads_dropout                | Dropout                 | 0     \n",
      "95  | model.query_encoder.encoder_layers.4.pff_dropout                  | Dropout                 | 0     \n",
      "96  | model.query_encoder.encoder_layers.5                              | EncoderLayer            | 2.1 M \n",
      "97  | model.query_encoder.encoder_layers.5.poswise_ff                   | Positiontwise_FF        | 1.1 M \n",
      "98  | model.query_encoder.encoder_layers.5.poswise_ff.linear1           | Linear                  | 525 K \n",
      "99  | model.query_encoder.encoder_layers.5.poswise_ff.linear2           | Linear                  | 524 K \n",
      "100 | model.query_encoder.encoder_layers.5.self_attn                    | MultiHeadAttention      | 1.1 M \n",
      "101 | model.query_encoder.encoder_layers.5.self_attn.attn_wt_dropout    | Dropout                 | 0     \n",
      "102 | model.query_encoder.encoder_layers.5.self_attn.projections_QKVO   | ModuleList              | 1.1 M \n",
      "103 | model.query_encoder.encoder_layers.5.self_attn.projections_QKVO.0 | Linear                  | 262 K \n",
      "104 | model.query_encoder.encoder_layers.5.self_attn.projections_QKVO.1 | Linear                  | 262 K \n",
      "105 | model.query_encoder.encoder_layers.5.self_attn.projections_QKVO.2 | Linear                  | 262 K \n",
      "106 | model.query_encoder.encoder_layers.5.self_attn.projections_QKVO.3 | Linear                  | 262 K \n",
      "107 | model.query_encoder.encoder_layers.5.layer_norms                  | ModuleList              | 2.0 K \n",
      "108 | model.query_encoder.encoder_layers.5.layer_norms.0                | LayerNorm               | 1.0 K \n",
      "109 | model.query_encoder.encoder_layers.5.layer_norms.1                | LayerNorm               | 1.0 K \n",
      "110 | model.query_encoder.encoder_layers.5.heads_dropout                | Dropout                 | 0     \n",
      "111 | model.query_encoder.encoder_layers.5.pff_dropout                  | Dropout                 | 0     \n",
      "112 | model.query_encoder.encoder_layers.6                              | EncoderLayer            | 2.1 M \n",
      "113 | model.query_encoder.encoder_layers.6.poswise_ff                   | Positiontwise_FF        | 1.1 M \n",
      "114 | model.query_encoder.encoder_layers.6.poswise_ff.linear1           | Linear                  | 525 K \n",
      "115 | model.query_encoder.encoder_layers.6.poswise_ff.linear2           | Linear                  | 524 K \n",
      "116 | model.query_encoder.encoder_layers.6.self_attn                    | MultiHeadAttention      | 1.1 M \n",
      "117 | model.query_encoder.encoder_layers.6.self_attn.attn_wt_dropout    | Dropout                 | 0     \n",
      "118 | model.query_encoder.encoder_layers.6.self_attn.projections_QKVO   | ModuleList              | 1.1 M \n",
      "119 | model.query_encoder.encoder_layers.6.self_attn.projections_QKVO.0 | Linear                  | 262 K \n",
      "120 | model.query_encoder.encoder_layers.6.self_attn.projections_QKVO.1 | Linear                  | 262 K \n",
      "121 | model.query_encoder.encoder_layers.6.self_attn.projections_QKVO.2 | Linear                  | 262 K \n",
      "122 | model.query_encoder.encoder_layers.6.self_attn.projections_QKVO.3 | Linear                  | 262 K \n",
      "123 | model.query_encoder.encoder_layers.6.layer_norms                  | ModuleList              | 2.0 K \n",
      "124 | model.query_encoder.encoder_layers.6.layer_norms.0                | LayerNorm               | 1.0 K \n",
      "125 | model.query_encoder.encoder_layers.6.layer_norms.1                | LayerNorm               | 1.0 K \n",
      "126 | model.query_encoder.encoder_layers.6.heads_dropout                | Dropout                 | 0     \n",
      "127 | model.query_encoder.encoder_layers.6.pff_dropout                  | Dropout                 | 0     \n",
      "128 | model.query_encoder.encoder_layers.7                              | EncoderLayer            | 2.1 M \n",
      "129 | model.query_encoder.encoder_layers.7.poswise_ff                   | Positiontwise_FF        | 1.1 M \n",
      "130 | model.query_encoder.encoder_layers.7.poswise_ff.linear1           | Linear                  | 525 K \n",
      "131 | model.query_encoder.encoder_layers.7.poswise_ff.linear2           | Linear                  | 524 K \n",
      "132 | model.query_encoder.encoder_layers.7.self_attn                    | MultiHeadAttention      | 1.1 M \n",
      "133 | model.query_encoder.encoder_layers.7.self_attn.attn_wt_dropout    | Dropout                 | 0     \n",
      "134 | model.query_encoder.encoder_layers.7.self_attn.projections_QKVO   | ModuleList              | 1.1 M \n",
      "135 | model.query_encoder.encoder_layers.7.self_attn.projections_QKVO.0 | Linear                  | 262 K \n",
      "136 | model.query_encoder.encoder_layers.7.self_attn.projections_QKVO.1 | Linear                  | 262 K \n",
      "137 | model.query_encoder.encoder_layers.7.self_attn.projections_QKVO.2 | Linear                  | 262 K \n",
      "138 | model.query_encoder.encoder_layers.7.self_attn.projections_QKVO.3 | Linear                  | 262 K \n",
      "139 | model.query_encoder.encoder_layers.7.layer_norms                  | ModuleList              | 2.0 K \n",
      "140 | model.query_encoder.encoder_layers.7.layer_norms.0                | LayerNorm               | 1.0 K \n",
      "141 | model.query_encoder.encoder_layers.7.layer_norms.1                | LayerNorm               | 1.0 K \n",
      "142 | model.query_encoder.encoder_layers.7.heads_dropout                | Dropout                 | 0     \n",
      "143 | model.query_encoder.encoder_layers.7.pff_dropout                  | Dropout                 | 0     \n",
      "144 | model.query_projection                                            | Linear                  | 13.9 K\n",
      "145 | CE_criterion                                                      | CELoss                  | 0     \n",
      "146 | CE_criterion.CE_loss                                              | CrossEntropyLoss        | 0     \n",
      "147 | loss_criterion                                                    | InfoCELoss              | 0     \n",
      "148 | loss_criterion.CE_loss                                            | CrossEntropyLoss        | 0     \n",
      "149 | debug_metrics                                                     | ContrastiveDebugMetrics | 0     \n",
      "150 | softmax                                                           | Softmax                 | 0     \n",
      "----------------------------------------------------------------------------------------------------------------\n",
      "16.9 M    Trainable params\n",
      "0         Non-trainable params\n",
      "16.9 M    Total params\n",
      "67.536    Total estimated model params size (MB) \n",
      "\n",
      "RUN NAME :\n",
      " Con;Vec27;L8H8Lk4Hk2;scheduledAdamW72000;16883.98Kparams\n",
      "Resuming From and Saving to Checkpoint Path:\n",
      " checkpoints/ContrastiveLearning-SET-Wildcard-Expand-Union-27/20210331-140958-Con;Vec27;L8H8Lk4Hk2;scheduledAdamW72000;16883.98Kparams_runId_1kc0qfqz\n"
     ]
    },
    {
     "name": "stderr",
     "output_type": "stream",
     "text": [
      "GPU available: True, used: True\n",
      "TPU available: None, using: 0 TPU cores\n",
      "LOCAL_RANK: 0 - CUDA_VISIBLE_DEVICES: [0,1]\n"
     ]
    },
    {
     "name": "stdout",
     "output_type": "stream",
     "text": [
      "\r",
      "Testing: 0it [00:00, ?it/s]"
     ]
    },
    {
     "name": "stderr",
     "output_type": "stream",
     "text": [
      "/home/user/miniconda/lib/python3.8/site-packages/pytorch_lightning/utilities/distributed.py:52: UserWarning: The dataloader, test dataloader 0, does not have many workers which may be a bottleneck. Consider increasing the value of the `num_workers` argument` (try 16 which is the number of cpus on this machine) in the `DataLoader` init to improve performance.\n",
      "  warnings.warn(*args, **kwargs)\n"
     ]
    },
    {
     "name": "stdout",
     "output_type": "stream",
     "text": [
      "Testing: 100%|██████████| 5/5 [00:04<00:00,  1.10it/s]{0.005430197808891535, 0.9001446962356567, 0.9999891519546509, 0.8996055722236633, 0.932621419429779, 5.560522556304932, 0.9999882578849792, 0.8592998385429382, 0.9242987036705017, 9.0, 10.0, 11.0, 12.0, 13.0, 14.0, 15.0, 16.0, 17.0, 18.0, 19.0, 20.0, 21.0, 22.0, 23.0, 24.0, 25.0, 26.0, 27.0, 21.80898094177246, 22.966665267944336, 22.542207717895508, 22.673412322998047, 0.05873853713274002, 0.03703700006008148, 0.04542120173573494, 0.06240641698241234, 0.1107952818274498, 0.04995083436369896, 0.09070273488759995, 0.052572961896657944, 0.08315052837133408, 8.0, 8.980000495910645, 0.00014805134560447186, 11.97926139831543, 12.996429443359375, 13.044038772583008, 13.99622631072998, 14.994160652160645, 15.991586685180664, 16.99567413330078, 16.997922897338867, 17.992877960205078, 18.978181838989258, 0.00013434930588118732, 0.0001520046207588166, 19.974285125732422, 20.945697784423828, 20.600000381469727, 0.04345251992344856, 0.00018117547733709216, 0.00013611929898615927, 0.00015791853365954012, 0.00019028082897420973, 0.03845422342419624, 0.06655918806791306, 0.071296326816082, 0.12456970661878586, 0.00014625373296439648, nan, 0.07677564024925232, 0.03998643904924393, 0.04164562001824379, 0.05548486113548279, 1024.0, 0.0001424133515683934, 0.00016837917792145163, 0.00014700392785016447, 0.09974160045385361, 1.0, 0.00014047657896298915, 0.00013690946798305959, 0.04757704958319664, 0.00013922607467975467, 0.00014449073933064938, 0.00014138745609670877, 0.00014187596389092505, 0.00016952204168774188, 0.00014671606186311692}\n",
      "Also saved to : checkpoints/ContrastiveLearning-SET-Wildcard-Expand-Union-27/20210331-140958-Con;Vec27;L8H8Lk4Hk2;scheduledAdamW72000;16883.98Kparams_runId_1kc0qfqz/test_metrics.json\n",
      "Testing: 100%|██████████| 5/5 [00:05<00:00,  1.08s/it]\n",
      "--------------------------------------------------------------------------------\n",
      "DATALOADER:0 TEST RESULTS\n",
      "{'avg_batch_size': 1024.0,\n",
      " 'avg_test_KL_loss': 5.560522556304932,\n",
      " 'avg_test_KL_loss_per_example': 0.005430197808891535,\n",
      " 'avg_test_accuracy_by_Query': 0.9001446962356567,\n",
      " 'avg_test_accuracy_by_QueryKey': 0.9001446962356567,\n",
      " 'avg_test_f1_by_Query': 0.932621419429779,\n",
      " 'avg_test_f1_by_QueryKey': 0.9242987036705017,\n",
      " 'avg_test_gt10;gt_logits_above_threshold_count': 10.0,\n",
      " 'avg_test_gt10;gt_pred_scores': 0.09974160045385361,\n",
      " 'avg_test_gt10;not_gt_pred_scores': 0.0001520046207588166,\n",
      " 'avg_test_gt10;top10_overlap_count': 10.0,\n",
      " 'avg_test_gt10;top10_pred_above_threshold_count': 10.0,\n",
      " 'avg_test_gt10;total_pred_above_threshold_count': 10.0,\n",
      " 'avg_test_gt11;gt_logits_above_threshold_count': 11.0,\n",
      " 'avg_test_gt11;gt_pred_scores': 0.09070273488759995,\n",
      " 'avg_test_gt11;not_gt_pred_scores': 0.00014187596389092505,\n",
      " 'avg_test_gt11;top11_overlap_count': 11.0,\n",
      " 'avg_test_gt11;top11_pred_above_threshold_count': 11.0,\n",
      " 'avg_test_gt11;total_pred_above_threshold_count': 11.0,\n",
      " 'avg_test_gt12;gt_logits_above_threshold_count': 11.97926139831543,\n",
      " 'avg_test_gt12;gt_pred_scores': 0.08315052837133408,\n",
      " 'avg_test_gt12;not_gt_pred_scores': 0.00014625373296439648,\n",
      " 'avg_test_gt12;top12_overlap_count': 12.0,\n",
      " 'avg_test_gt12;top12_pred_above_threshold_count': 11.97926139831543,\n",
      " 'avg_test_gt12;total_pred_above_threshold_count': 11.97926139831543,\n",
      " 'avg_test_gt13;gt_logits_above_threshold_count': 12.996429443359375,\n",
      " 'avg_test_gt13;gt_pred_scores': 0.07677564024925232,\n",
      " 'avg_test_gt13;not_gt_pred_scores': 0.00013690946798305959,\n",
      " 'avg_test_gt13;top13_overlap_count': 13.0,\n",
      " 'avg_test_gt13;top13_pred_above_threshold_count': 12.996429443359375,\n",
      " 'avg_test_gt13;total_pred_above_threshold_count': 12.996429443359375,\n",
      " 'avg_test_gt14;gt_logits_above_threshold_count': 13.99622631072998,\n",
      " 'avg_test_gt14;gt_pred_scores': 0.071296326816082,\n",
      " 'avg_test_gt14;not_gt_pred_scores': 0.0001424133515683934,\n",
      " 'avg_test_gt14;top14_overlap_count': 14.0,\n",
      " 'avg_test_gt14;top14_pred_above_threshold_count': 13.99622631072998,\n",
      " 'avg_test_gt14;total_pred_above_threshold_count': 13.99622631072998,\n",
      " 'avg_test_gt15;gt_logits_above_threshold_count': 14.994160652160645,\n",
      " 'avg_test_gt15;gt_pred_scores': 0.06655918806791306,\n",
      " 'avg_test_gt15;not_gt_pred_scores': 0.00013434930588118732,\n",
      " 'avg_test_gt15;top15_overlap_count': 15.0,\n",
      " 'avg_test_gt15;top15_pred_above_threshold_count': 14.994160652160645,\n",
      " 'avg_test_gt15;total_pred_above_threshold_count': 14.994160652160645,\n",
      " 'avg_test_gt16;gt_logits_above_threshold_count': 15.991586685180664,\n",
      " 'avg_test_gt16;gt_pred_scores': 0.06240641698241234,\n",
      " 'avg_test_gt16;not_gt_pred_scores': 0.00013611929898615927,\n",
      " 'avg_test_gt16;top16_overlap_count': 16.0,\n",
      " 'avg_test_gt16;top16_pred_above_threshold_count': 15.991586685180664,\n",
      " 'avg_test_gt16;total_pred_above_threshold_count': 15.991586685180664,\n",
      " 'avg_test_gt17;gt_logits_above_threshold_count': 16.99567413330078,\n",
      " 'avg_test_gt17;gt_pred_scores': 0.05873853713274002,\n",
      " 'avg_test_gt17;not_gt_pred_scores': 0.00014449073933064938,\n",
      " 'avg_test_gt17;top17_overlap_count': 17.0,\n",
      " 'avg_test_gt17;top17_pred_above_threshold_count': 16.99567413330078,\n",
      " 'avg_test_gt17;total_pred_above_threshold_count': 16.997922897338867,\n",
      " 'avg_test_gt18;gt_logits_above_threshold_count': 17.992877960205078,\n",
      " 'avg_test_gt18;gt_pred_scores': 0.05548486113548279,\n",
      " 'avg_test_gt18;not_gt_pred_scores': 0.00014138745609670877,\n",
      " 'avg_test_gt18;top18_overlap_count': 18.0,\n",
      " 'avg_test_gt18;top18_pred_above_threshold_count': 17.992877960205078,\n",
      " 'avg_test_gt18;total_pred_above_threshold_count': 17.992877960205078,\n",
      " 'avg_test_gt19;gt_logits_above_threshold_count': 18.978181838989258,\n",
      " 'avg_test_gt19;gt_pred_scores': 0.052572961896657944,\n",
      " 'avg_test_gt19;not_gt_pred_scores': 0.00013922607467975467,\n",
      " 'avg_test_gt19;top19_overlap_count': 19.0,\n",
      " 'avg_test_gt19;top19_pred_above_threshold_count': 18.978181838989258,\n",
      " 'avg_test_gt19;total_pred_above_threshold_count': 18.978181838989258,\n",
      " 'avg_test_gt20;gt_logits_above_threshold_count': 19.974285125732422,\n",
      " 'avg_test_gt20;gt_pred_scores': 0.04995083436369896,\n",
      " 'avg_test_gt20;not_gt_pred_scores': 0.00014047657896298915,\n",
      " 'avg_test_gt20;top20_overlap_count': 20.0,\n",
      " 'avg_test_gt20;top20_pred_above_threshold_count': 19.974285125732422,\n",
      " 'avg_test_gt20;total_pred_above_threshold_count': 19.974285125732422,\n",
      " 'avg_test_gt21;gt_logits_above_threshold_count': 20.945697784423828,\n",
      " 'avg_test_gt21;gt_pred_scores': 0.04757704958319664,\n",
      " 'avg_test_gt21;not_gt_pred_scores': 0.00014700392785016447,\n",
      " 'avg_test_gt21;top21_overlap_count': 21.0,\n",
      " 'avg_test_gt21;top21_pred_above_threshold_count': 20.945697784423828,\n",
      " 'avg_test_gt21;total_pred_above_threshold_count': 20.945697784423828,\n",
      " 'avg_test_gt22;gt_logits_above_threshold_count': 21.80898094177246,\n",
      " 'avg_test_gt22;gt_pred_scores': 0.04542120173573494,\n",
      " 'avg_test_gt22;not_gt_pred_scores': 0.00014671606186311692,\n",
      " 'avg_test_gt22;top22_overlap_count': 22.0,\n",
      " 'avg_test_gt22;top22_pred_above_threshold_count': 21.80898094177246,\n",
      " 'avg_test_gt22;total_pred_above_threshold_count': 21.80898094177246,\n",
      " 'avg_test_gt23;gt_logits_above_threshold_count': 22.542207717895508,\n",
      " 'avg_test_gt23;gt_pred_scores': 0.04345251992344856,\n",
      " 'avg_test_gt23;not_gt_pred_scores': 0.00014805134560447186,\n",
      " 'avg_test_gt23;top23_overlap_count': 23.0,\n",
      " 'avg_test_gt23;top23_pred_above_threshold_count': 22.542207717895508,\n",
      " 'avg_test_gt23;total_pred_above_threshold_count': 22.542207717895508,\n",
      " 'avg_test_gt24;gt_logits_above_threshold_count': 22.966665267944336,\n",
      " 'avg_test_gt24;gt_pred_scores': 0.04164562001824379,\n",
      " 'avg_test_gt24;not_gt_pred_scores': 0.00016837917792145163,\n",
      " 'avg_test_gt24;top24_overlap_count': 24.0,\n",
      " 'avg_test_gt24;top24_pred_above_threshold_count': 22.966665267944336,\n",
      " 'avg_test_gt24;total_pred_above_threshold_count': 22.966665267944336,\n",
      " 'avg_test_gt25;gt_logits_above_threshold_count': 22.673412322998047,\n",
      " 'avg_test_gt25;gt_pred_scores': 0.03998643904924393,\n",
      " 'avg_test_gt25;not_gt_pred_scores': 0.00016952204168774188,\n",
      " 'avg_test_gt25;top25_overlap_count': 25.0,\n",
      " 'avg_test_gt25;top25_pred_above_threshold_count': 22.673412322998047,\n",
      " 'avg_test_gt25;total_pred_above_threshold_count': 22.673412322998047,\n",
      " 'avg_test_gt26;gt_logits_above_threshold_count': 20.600000381469727,\n",
      " 'avg_test_gt26;gt_pred_scores': 0.03845422342419624,\n",
      " 'avg_test_gt26;not_gt_pred_scores': 0.00019028082897420973,\n",
      " 'avg_test_gt26;top26_overlap_count': 26.0,\n",
      " 'avg_test_gt26;top26_pred_above_threshold_count': 20.600000381469727,\n",
      " 'avg_test_gt26;total_pred_above_threshold_count': 20.600000381469727,\n",
      " 'avg_test_gt27;gt_logits_above_threshold_count': 13.044038772583008,\n",
      " 'avg_test_gt27;gt_pred_scores': 0.03703700006008148,\n",
      " 'avg_test_gt27;not_gt_pred_scores': nan,\n",
      " 'avg_test_gt27;top27_overlap_count': 27.0,\n",
      " 'avg_test_gt27;top27_pred_above_threshold_count': 13.044038772583008,\n",
      " 'avg_test_gt27;total_pred_above_threshold_count': 13.044038772583008,\n",
      " 'avg_test_gt8;gt_logits_above_threshold_count': 8.0,\n",
      " 'avg_test_gt8;gt_pred_scores': 0.12456970661878586,\n",
      " 'avg_test_gt8;not_gt_pred_scores': 0.00018117547733709216,\n",
      " 'avg_test_gt8;top8_overlap_count': 8.0,\n",
      " 'avg_test_gt8;top8_pred_above_threshold_count': 8.0,\n",
      " 'avg_test_gt8;total_pred_above_threshold_count': 8.0,\n",
      " 'avg_test_gt9;gt_logits_above_threshold_count': 8.980000495910645,\n",
      " 'avg_test_gt9;gt_pred_scores': 0.1107952818274498,\n",
      " 'avg_test_gt9;not_gt_pred_scores': 0.00015791853365954012,\n",
      " 'avg_test_gt9;top9_overlap_count': 9.0,\n",
      " 'avg_test_gt9;top9_pred_above_threshold_count': 8.980000495910645,\n",
      " 'avg_test_gt9;total_pred_above_threshold_count': 8.980000495910645,\n",
      " 'avg_test_precision_by_Query': 0.9999891519546509,\n",
      " 'avg_test_precision_by_QueryKey': 0.9999882578849792,\n",
      " 'avg_test_recall_by_Query': 0.8996055722236633,\n",
      " 'avg_test_recall_by_QueryKey': 0.8592998385429382,\n",
      " 'avg_test_topK_overall_overlap_ratio': 1.0,\n",
      " 'test_KL_loss': 5.560522556304932,\n",
      " 'test_KL_loss_per_example': 0.005430197808891535,\n",
      " 'test_accuracy_by_Query': 0.9001447558403015,\n",
      " 'test_accuracy_by_QueryKey': 0.9001446962356567,\n",
      " 'test_f1_by_Query': 0.9326213598251343,\n",
      " 'test_f1_by_QueryKey': 0.9242986440658569,\n",
      " 'test_gt10;gt_logits_above_threshold_count': 10.0,\n",
      " 'test_gt10;gt_pred_scores': 0.09974159300327301,\n",
      " 'test_gt10;not_gt_pred_scores': 0.0001520046207588166,\n",
      " 'test_gt10;top10_overlap_count': 10.0,\n",
      " 'test_gt10;top10_pred_above_threshold_count': 10.0,\n",
      " 'test_gt10;total_pred_above_threshold_count': 10.0,\n",
      " 'test_gt11;gt_logits_above_threshold_count': 11.0,\n",
      " 'test_gt11;gt_pred_scores': 0.09070272743701935,\n",
      " 'test_gt11;not_gt_pred_scores': 0.00014187596389092505,\n",
      " 'test_gt11;top11_overlap_count': 11.0,\n",
      " 'test_gt11;top11_pred_above_threshold_count': 11.0,\n",
      " 'test_gt11;total_pred_above_threshold_count': 11.0,\n",
      " 'test_gt12;gt_logits_above_threshold_count': 11.97926139831543,\n",
      " 'test_gt12;gt_pred_scores': 0.08315052092075348,\n",
      " 'test_gt12;not_gt_pred_scores': 0.0001462537475163117,\n",
      " 'test_gt12;top12_overlap_count': 12.0,\n",
      " 'test_gt12;top12_pred_above_threshold_count': 11.97926139831543,\n",
      " 'test_gt12;total_pred_above_threshold_count': 11.97926139831543,\n",
      " 'test_gt13;gt_logits_above_threshold_count': 12.996429443359375,\n",
      " 'test_gt13;gt_pred_scores': 0.07677564024925232,\n",
      " 'test_gt13;not_gt_pred_scores': 0.00013690945343114436,\n",
      " 'test_gt13;top13_overlap_count': 13.0,\n",
      " 'test_gt13;top13_pred_above_threshold_count': 12.996429443359375,\n",
      " 'test_gt13;total_pred_above_threshold_count': 12.996429443359375,\n",
      " 'test_gt14;gt_logits_above_threshold_count': 13.99622631072998,\n",
      " 'test_gt14;gt_pred_scores': 0.071296326816082,\n",
      " 'test_gt14;not_gt_pred_scores': 0.0001424133515683934,\n",
      " 'test_gt14;top14_overlap_count': 14.0,\n",
      " 'test_gt14;top14_pred_above_threshold_count': 13.99622631072998,\n",
      " 'test_gt14;total_pred_above_threshold_count': 13.99622631072998,\n",
      " 'test_gt15;gt_logits_above_threshold_count': 14.994160652160645,\n",
      " 'test_gt15;gt_pred_scores': 0.06655918806791306,\n",
      " 'test_gt15;not_gt_pred_scores': 0.0001343492913292721,\n",
      " 'test_gt15;top15_overlap_count': 15.0,\n",
      " 'test_gt15;top15_pred_above_threshold_count': 14.994160652160645,\n",
      " 'test_gt15;total_pred_above_threshold_count': 14.994160652160645,\n",
      " 'test_gt16;gt_logits_above_threshold_count': 15.991586685180664,\n",
      " 'test_gt16;gt_pred_scores': 0.06240642070770264,\n",
      " 'test_gt16;not_gt_pred_scores': 0.00013611928443424404,\n",
      " 'test_gt16;top16_overlap_count': 16.0,\n",
      " 'test_gt16;top16_pred_above_threshold_count': 15.991586685180664,\n",
      " 'test_gt16;total_pred_above_threshold_count': 15.991586685180664,\n",
      " 'test_gt17;gt_logits_above_threshold_count': 16.99567413330078,\n",
      " 'test_gt17;gt_pred_scores': 0.05873853713274002,\n",
      " 'test_gt17;not_gt_pred_scores': 0.00014449073933064938,\n",
      " 'test_gt17;top17_overlap_count': 17.0,\n",
      " 'test_gt17;top17_pred_above_threshold_count': 16.99567413330078,\n",
      " 'test_gt17;total_pred_above_threshold_count': 16.997920989990234,\n",
      " 'test_gt18;gt_logits_above_threshold_count': 17.992877960205078,\n",
      " 'test_gt18;gt_pred_scores': 0.05548486113548279,\n",
      " 'test_gt18;not_gt_pred_scores': 0.00014138745609670877,\n",
      " 'test_gt18;top18_overlap_count': 18.0,\n",
      " 'test_gt18;top18_pred_above_threshold_count': 17.992877960205078,\n",
      " 'test_gt18;total_pred_above_threshold_count': 17.992877960205078,\n",
      " 'test_gt19;gt_logits_above_threshold_count': 18.978181838989258,\n",
      " 'test_gt19;gt_pred_scores': 0.05257295444607735,\n",
      " 'test_gt19;not_gt_pred_scores': 0.00013922606012783945,\n",
      " 'test_gt19;top19_overlap_count': 19.0,\n",
      " 'test_gt19;top19_pred_above_threshold_count': 18.978181838989258,\n",
      " 'test_gt19;total_pred_above_threshold_count': 18.978181838989258,\n",
      " 'test_gt20;gt_logits_above_threshold_count': 19.97428321838379,\n",
      " 'test_gt20;gt_pred_scores': 0.04995083063840866,\n",
      " 'test_gt20;not_gt_pred_scores': 0.00014047657896298915,\n",
      " 'test_gt20;top20_overlap_count': 20.0,\n",
      " 'test_gt20;top20_pred_above_threshold_count': 19.97428321838379,\n",
      " 'test_gt20;total_pred_above_threshold_count': 19.97428321838379,\n",
      " 'test_gt21;gt_logits_above_threshold_count': 20.945697784423828,\n",
      " 'test_gt21;gt_pred_scores': 0.04757704585790634,\n",
      " 'test_gt21;not_gt_pred_scores': 0.00014700392785016447,\n",
      " 'test_gt21;top21_overlap_count': 21.0,\n",
      " 'test_gt21;top21_pred_above_threshold_count': 20.945697784423828,\n",
      " 'test_gt21;total_pred_above_threshold_count': 20.945697784423828,\n",
      " 'test_gt22;gt_logits_above_threshold_count': 21.80898094177246,\n",
      " 'test_gt22;gt_pred_scores': 0.04542120173573494,\n",
      " 'test_gt22;not_gt_pred_scores': 0.0001467160473112017,\n",
      " 'test_gt22;top22_overlap_count': 22.0,\n",
      " 'test_gt22;top22_pred_above_threshold_count': 21.80898094177246,\n",
      " 'test_gt22;total_pred_above_threshold_count': 21.80898094177246,\n",
      " 'test_gt23;gt_logits_above_threshold_count': 22.542207717895508,\n",
      " 'test_gt23;gt_pred_scores': 0.043452512472867966,\n",
      " 'test_gt23;not_gt_pred_scores': 0.00014805134560447186,\n",
      " 'test_gt23;top23_overlap_count': 23.0,\n",
      " 'test_gt23;top23_pred_above_threshold_count': 22.542207717895508,\n",
      " 'test_gt23;total_pred_above_threshold_count': 22.542207717895508,\n",
      " 'test_gt24;gt_logits_above_threshold_count': 22.96666717529297,\n",
      " 'test_gt24;gt_pred_scores': 0.04164562374353409,\n",
      " 'test_gt24;not_gt_pred_scores': 0.00016837917792145163,\n",
      " 'test_gt24;top24_overlap_count': 24.0,\n",
      " 'test_gt24;top24_pred_above_threshold_count': 22.96666717529297,\n",
      " 'test_gt24;total_pred_above_threshold_count': 22.96666717529297,\n",
      " 'test_gt25;gt_logits_above_threshold_count': 22.673412322998047,\n",
      " 'test_gt25;gt_pred_scores': 0.03998643532395363,\n",
      " 'test_gt25;not_gt_pred_scores': 0.00016952202713582665,\n",
      " 'test_gt25;top25_overlap_count': 25.0,\n",
      " 'test_gt25;top25_pred_above_threshold_count': 22.673412322998047,\n",
      " 'test_gt25;total_pred_above_threshold_count': 22.673412322998047,\n",
      " 'test_gt26;gt_logits_above_threshold_count': 20.600000381469727,\n",
      " 'test_gt26;gt_pred_scores': 0.03845422342419624,\n",
      " 'test_gt26;not_gt_pred_scores': 0.0001902808144222945,\n",
      " 'test_gt26;top26_overlap_count': 26.0,\n",
      " 'test_gt26;top26_pred_above_threshold_count': 20.600000381469727,\n",
      " 'test_gt26;total_pred_above_threshold_count': 20.600000381469727,\n",
      " 'test_gt27;gt_logits_above_threshold_count': 13.044038772583008,\n",
      " 'test_gt27;gt_pred_scores': 0.03703700006008148,\n",
      " 'test_gt27;not_gt_pred_scores': nan,\n",
      " 'test_gt27;top27_overlap_count': 27.0,\n",
      " 'test_gt27;top27_pred_above_threshold_count': 13.044038772583008,\n",
      " 'test_gt27;total_pred_above_threshold_count': 13.044038772583008,\n",
      " 'test_gt6;gt_logits_above_threshold_count': 6.0,\n",
      " 'test_gt6;gt_pred_scores': 0.16598626971244812,\n",
      " 'test_gt6;not_gt_pred_scores': 0.00019439558673184365,\n",
      " 'test_gt6;top6_overlap_count': 6.0,\n",
      " 'test_gt6;top6_pred_above_threshold_count': 6.0,\n",
      " 'test_gt6;total_pred_above_threshold_count': 6.0,\n",
      " 'test_gt7;gt_logits_above_threshold_count': 7.0,\n",
      " 'test_gt7;gt_pred_scores': 0.1424665004014969,\n",
      " 'test_gt7;not_gt_pred_scores': 0.0001367251534247771,\n",
      " 'test_gt7;top7_overlap_count': 7.0,\n",
      " 'test_gt7;top7_pred_above_threshold_count': 7.0,\n",
      " 'test_gt7;total_pred_above_threshold_count': 7.0,\n",
      " 'test_gt8;gt_logits_above_threshold_count': 8.0,\n",
      " 'test_gt8;gt_pred_scores': 0.12456969916820526,\n",
      " 'test_gt8;not_gt_pred_scores': 0.00018117547733709216,\n",
      " 'test_gt8;top8_overlap_count': 8.0,\n",
      " 'test_gt8;top8_pred_above_threshold_count': 8.0,\n",
      " 'test_gt8;total_pred_above_threshold_count': 8.0,\n",
      " 'test_gt9;gt_logits_above_threshold_count': 8.980000495910645,\n",
      " 'test_gt9;gt_pred_scores': 0.1107952818274498,\n",
      " 'test_gt9;not_gt_pred_scores': 0.0001579185191076249,\n",
      " 'test_gt9;top9_overlap_count': 9.0,\n",
      " 'test_gt9;top9_pred_above_threshold_count': 8.980000495910645,\n",
      " 'test_gt9;total_pred_above_threshold_count': 8.980000495910645,\n",
      " 'test_precision_by_Query': 0.9999891519546509,\n",
      " 'test_precision_by_QueryKey': 0.9999882578849792,\n",
      " 'test_recall_by_Query': 0.8996054530143738,\n",
      " 'test_recall_by_QueryKey': 0.8592997789382935,\n",
      " 'test_topK_overall_overlap_ratio': 1.0}\n",
      "--------------------------------------------------------------------------------\n"
     ]
    }
   ],
   "source": [
    "trainmodule, game_datamodule = main.main(args)"
   ]
  },
  {
   "cell_type": "markdown",
   "id": "organized-jefferson",
   "metadata": {},
   "source": [
    "## KL Loss Analysis"
   ]
  },
  {
   "cell_type": "code",
   "execution_count": 6,
   "id": "square-routine",
   "metadata": {},
   "outputs": [],
   "source": [
    "def softmax(x):\n",
    "    \"\"\"Compute softmax values for each sets of scores in x.\"\"\"\n",
    "    e_x = np.exp(np.array(x) - np.max(x, axis=-1).reshape(-1, 1))\n",
    "    return e_x / np.sum(e_x, axis=-1).reshape(-1, 1)\n",
    "\n",
    "def entropy(x):\n",
    "    return - np.sum(x * np.log2(x), axis=-1)"
   ]
  },
  {
   "cell_type": "code",
   "execution_count": 7,
   "id": "fancy-bhutan",
   "metadata": {
    "scrolled": true
   },
   "outputs": [
    {
     "name": "stdout",
     "output_type": "stream",
     "text": [
      "top 50th data indices by kl loss [3241 1970 1332   30 3003 3565 2759 2348 2842 3949 5004 4710  925 5086\n",
      "  602 4637 3934 5069 1712 2775  532 2920 1383 2774 2006 3619 1143 4452\n",
      " 3958 1850 4206 3204  145 1131 1108 3055  653 2498 4103 2218  680 4657\n",
      " 4734  315 2883 1702 2993 4228 2488  477]\n"
     ]
    },
    {
     "data": {
      "text/plain": [
       "(array([5.073e+03, 3.600e+01, 6.000e+00, 2.000e+00, 0.000e+00, 1.000e+00,\n",
       "        0.000e+00, 1.000e+00, 0.000e+00, 1.000e+00]),\n",
       " array([1.53691863e-04, 1.62547072e-02, 3.23557226e-02, 4.84567380e-02,\n",
       "        6.45577534e-02, 8.06587688e-02, 9.67597841e-02, 1.12860800e-01,\n",
       "        1.28961815e-01, 1.45062830e-01, 1.61163846e-01]),\n",
       " <BarContainer object of 10 artists>)"
      ]
     },
     "execution_count": 7,
     "metadata": {},
     "output_type": "execute_result"
    },
    {
     "data": {
      "image/png": "[encoded data removed]",
      "text/plain": [
       "<Figure size 432x288 with 1 Axes>"
      ]
     },
     "metadata": {
      "needs_background": "light"
     },
     "output_type": "display_data"
    }
   ],
   "source": [
    "p = 'checkpoints/ContrastiveLearning-SET-Wildcard-Expand-Union-27/20210331-140958-Con;Vec27;L8H8Lk4Hk2;scheduledAdamW72000;16883.98Kparams_runId_1kc0qfqz/test_metrics.json'\n",
    "\n",
    "with open(p, 'r') as f:\n",
    "    res = json.load(f)\n",
    "    \n",
    "full_kl_loss = [row for batch in res['full_kl_loss'] for row in batch]\n",
    "full_logits = [row for batch in res['full_logits'] for row in batch]\n",
    "full_probs = softmax(full_logits)\n",
    "\n",
    "\n",
    "full_kl_loss_sum_row = np.sum(np.array(full_kl_loss), axis=-1)\n",
    "sorted_indices = np.argsort(full_kl_loss_sum_row)\n",
    "print('top 50th data indices by kl loss', sorted_indices[:50])\n",
    "\n",
    "plt.hist(full_kl_loss_sum_row)"
   ]
  },
  {
   "cell_type": "code",
   "execution_count": 8,
   "id": "greenhouse-saturday",
   "metadata": {
    "scrolled": true
   },
   "outputs": [
    {
     "data": {
      "text/plain": [
       "array([1.53691863e-04, 1.56817532e-04, 1.59978938e-04, ...,\n",
       "       9.08505893e-02, 1.22942739e-01, 1.61163846e-01])"
      ]
     },
     "execution_count": 8,
     "metadata": {},
     "output_type": "execute_result"
    }
   ],
   "source": [
    "full_kl_loss_sum_row[sorted_indices]"
   ]
  },
  {
   "cell_type": "code",
   "execution_count": 5,
   "id": "racial-freight",
   "metadata": {},
   "outputs": [
    {
     "name": "stdout",
     "output_type": "stream",
     "text": [
      "---------data----------\n",
      "num_attributes : 3\n",
      "num_attr_vals : 3\n",
      "key_support_size : 27\n",
      "N_pairs : 8\n",
      "union_only : True\n",
      "max_len_q : 16\n",
      "len_k : 1\n",
      "train_gt_idxs length : 0\n",
      "val_gt_idxs length : 5120\n",
      "test_gt_idxs length : 5120\n",
      "train_tokens length : 0\n",
      "val_tokens length : 5120\n",
      "test_tokens length : 5120\n",
      "test_marginal_gt_idxs length : 5120\n",
      "test_marginal_tokens length : 5120\n",
      "vocab_size : 74\n",
      "symbol_vocab_token_lookup : {'(': 64, ')': 65, 'NULL': 66, 'SEP': 67, 'SOS': 68, 'EOS': 69, 'PAD': 70, 'PLH': 71, '|': 72, '!': 73}\n",
      "vocab_by_property : False\n",
      "-----------------------\n"
     ]
    }
   ],
   "source": [
    "game_data = main.load_data(args.data_path)\n",
    "gt_counts = np.array([len(gt_idxs) for gt_idxs in game_data['test_gt_idxs']])"
   ]
  },
  {
   "cell_type": "code",
   "execution_count": 68,
   "id": "supposed-surname",
   "metadata": {},
   "outputs": [
    {
     "name": "stdout",
     "output_type": "stream",
     "text": [
      "[22, 9, 12, 17, 16, 13, 17, 9, 18, 22, 12, 18, 10, 12, 12, 7, 15, 19, 14, 19, 10, 14, 15, 8, 15, 8, 19, 12, 9, 10, 17, 12, 9, 15, 16, 13, 9, 19, 9, 13, 12, 12, 13, 13, 11, 9, 22, 13, 10, 17, 17, 14, 20, 10, 13, 13, 16, 17, 9, 16, 12, 14, 14, 12, 16, 11, 14, 21, 13, 18, 11, 12, 17, 12, 13, 10, 15, 13, 13, 12, 16, 16, 16, 12, 11, 13, 11, 14, 9, 10, 18, 15, 12, 18, 15, 12, 13, 13, 11, 15, 10, 15, 8, 13, 13, 15, 19, 12, 15, 13, 16, 12, 13, 10, 13, 10, 23, 18, 12, 8, 13, 11, 13, 12, 12, 12, 13, 16, 15, 8, 12, 12, 11, 15, 11, 9, 6, 11, 11, 13, 12, 16, 11, 10, 13, 12, 13, 12, 14, 15, 13, 16, 12, 14, 21, 12, 8, 14, 17, 11, 15, 8, 13, 12, 13, 12, 10, 16, 16, 13, 15, 13, 11, 17, 15, 15, 13, 12, 16, 15, 16, 13, 10, 11, 9, 10, 17, 17, 10, 19, 13, 17, 17, 18, 12, 12, 13, 14, 15, 18, 13, 13, 13, 17, 15, 14, 10, 15, 12, 12, 13, 18, 16, 16, 18, 14, 18, 9, 9, 16, 13, 11, 11, 13, 11, 11, 15, 15, 13, 14, 15, 10, 11, 15, 12, 14, 14, 15, 15, 10, 14, 16, 9, 10, 14, 11, 11, 16, 11, 11, 16, 15, 10, 15, 11, 15, 14, 15, 13, 16, 11, 15, 9, 14, 16, 14, 20, 16, 13, 17, 16, 12, 12, 14, 16, 18, 11, 14, 11, 15, 11, 17, 12, 15, 16, 17, 14, 12, 16, 17, 16, 15, 14, 13, 11, 8, 14, 12, 17, 13, 11, 15, 14, 13, 13, 17, 20, 15, 17, 13, 13, 12, 14, 13, 11, 14, 13, 15, 12, 10, 17, 9, 16, 15, 17, 10, 14, 14, 13, 13, 15, 10, 16, 15, 16, 14, 10, 13, 13, 14, 11, 12, 19, 15, 14, 11, 11, 17, 13, 15, 17, 15, 14, 13, 14, 13, 18, 15, 10, 13, 17, 17, 13, 14, 14, 15, 16, 14, 15, 17, 17, 14, 14, 14, 13, 10, 15, 12, 12, 14, 15, 17, 17, 14, 17, 13, 9, 15, 10, 17, 15, 11, 15, 13, 9, 15, 17, 15, 14, 13, 13, 8, 15, 17, 16, 12, 12, 18, 14, 11, 14, 8, 12, 17, 14, 17, 12, 16, 14, 10, 17, 14, 17, 13, 14, 17, 19, 11, 15, 14, 10, 13, 15, 14, 16, 13, 13, 13, 18, 12, 15, 16, 14, 16, 18, 13, 19, 12, 17, 15, 17, 18, 13, 14, 16, 17, 14, 17, 11, 15, 17, 15, 18, 16, 16, 16, 14, 14, 13, 17, 11, 11, 16, 10, 11, 15, 16, 16, 14, 14, 20, 17, 17, 15, 17, 14, 16, 12, 16, 13, 19, 17, 12, 14, 10, 17, 18, 18, 12, 15, 16, 15, 17, 15, 12, 15, 15, 11, 15, 18, 12, 17, 12, 16, 18, 16, 13, 18, 12, 17, 13, 11, 13, 17, 10, 16, 11, 15, 13, 17, 19, 20, 13, 15, 11, 14, 19, 9, 10, 14, 15, 11, 13, 13, 17, 14, 17, 10, 10, 17, 17, 17, 10, 17, 16, 15, 16, 9, 17, 15, 16, 12, 11, 12, 14, 15, 15, 14, 20, 10, 17, 15, 18, 9, 10, 18, 11, 17, 12, 18, 13, 16, 13, 18, 13, 18, 15, 16, 15, 18, 13, 11, 17, 14, 16, 18, 7, 14, 12, 17, 16, 13, 16, 19, 13, 18, 13, 13, 12, 14, 15, 13, 19, 16, 11, 15, 17, 12, 10, 12, 11, 14, 14, 13, 13, 13, 14, 16, 18, 18, 16, 20, 20, 14, 11, 11, 13, 15, 15, 16, 15, 15, 12, 14, 15, 18, 19, 15, 13, 14, 15, 14, 13, 16, 16, 13, 14, 17, 18, 15, 13, 19, 15, 11, 16, 14, 14, 15, 17, 13, 19, 17, 17, 13, 18, 19, 20, 15, 17, 14, 13, 18, 11, 19, 11, 11, 16, 18, 17, 18, 12, 19, 14, 15, 15, 14, 16, 13, 16, 19, 17, 16, 21, 14, 15, 9, 17, 17, 16, 13, 10, 18, 11, 17, 14, 18, 11, 19, 9, 11, 14, 15, 13, 18, 12, 17, 17, 10, 16, 15, 15, 10, 16, 19, 15, 13, 15, 13, 19, 14, 15, 16, 13, 19, 10, 12, 11, 18, 15, 18, 11, 16, 15, 20, 12, 18, 12, 19, 10, 16, 15, 12, 13, 15, 16, 17, 12, 15, 17, 16, 19, 16, 18, 15, 11, 13, 13, 17, 8, 15, 20, 13, 17, 15, 17, 8, 10, 18, 21, 18, 16, 15, 16, 13, 14, 17, 16, 18, 15, 16, 15, 16, 19, 13, 14, 17, 17, 11, 15, 17, 13, 15, 13, 13, 13, 16, 17, 13, 11, 18, 15, 16, 16, 17, 10, 14, 15, 18, 13, 18, 12, 19, 11, 14, 17, 17, 14, 15, 11, 13, 17, 18, 20, 12, 17, 7, 15, 18, 12, 16, 14, 19, 11, 19, 16, 17, 16, 12, 12, 13, 14, 17, 16, 14, 15, 16, 15, 12, 12, 17, 18, 18, 16, 13, 14, 13, 19, 13, 18, 12, 14, 9, 18, 14, 14, 17, 20, 18, 13, 11, 12, 14, 15, 18, 18, 16, 16, 15, 17, 11, 17, 16, 17, 18, 11, 16, 13, 15, 9, 18, 13, 18, 18, 9, 16, 17, 16, 15, 19, 18, 17, 19, 17, 13, 14, 16, 12, 18, 18, 9, 17, 19, 14, 18, 14, 20, 17, 12, 13, 17, 13, 17, 14, 17, 14, 18, 15, 18, 20, 17, 12, 13, 18, 18, 14, 17, 22, 12, 17, 18, 21, 18, 16, 13, 15, 20, 18, 10, 17, 12, 15, 13, 13, 16, 17, 17, 21, 18, 17, 15, 16, 16, 11, 17, 18, 10, 15, 16, 11, 18, 18, 13, 12, 18, 15, 16, 17, 16, 20, 17, 10, 20, 15, 14, 14, 14, 15, 13, 15, 15, 20, 17, 16, 15, 15, 17, 17, 22, 15, 12, 14, 13, 16, 19, 16, 17, 17, 11, 16, 12, 18, 16, 16, 17, 17, 19, 15, 15, 16, 17, 16, 14, 15, 16, 15, 13, 13, 13, 14, 16, 17, 14, 18, 15, 16, 17, 14, 21, 14, 16, 14, 19, 15, 19, 16, 17, 14, 18, 13, 10, 11, 16, 20, 14, 10, 11, 14, 20, 15, 16, 17, 19, 12, 18, 14, 16, 18, 14, 11, 15, 16, 15, 20, 13, 19, 18, 14, 18, 14, 18, 19, 13, 15, 12, 16, 19, 14, 12, 16, 14, 19, 19, 18, 15, 17, 14, 16, 20, 14, 19, 13, 19, 15, 15, 13, 18, 14, 17, 18, 21, 17, 12, 18, 22, 9, 15, 16, 17, 11, 12, 16, 17, 19, 18, 15, 13, 13, 13, 17, 18, 19, 15, 17, 13, 14, 18, 16, 20, 13, 17, 18, 18, 14, 13, 16, 13, 17, 18, 11, 15, 12, 18, 15, 17, 10, 19, 19, 14, 19, 11, 16, 15, 19, 14, 14, 17, 17, 11, 12, 20, 21, 16, 8, 20, 17, 11, 14, 16, 20, 19, 15, 18, 12, 16, 16, 16, 14, 17, 15, 16, 14, 16, 20, 16, 9, 17, 9, 9, 16, 15, 18, 11, 17, 21, 17, 17, 18, 17, 11, 19, 19, 15, 19, 17, 17, 16, 14, 18, 20, 17, 18, 14, 13, 22, 16, 15, 17, 14, 18, 16, 16, 15, 12, 19, 17, 15, 14, 20, 20, 12, 17, 19, 14, 9, 20, 17, 17, 17, 20, 13, 19, 18, 20, 16, 12, 16, 18, 16, 13, 14, 19, 16, 19, 17, 17, 14, 16, 20, 20, 16, 18, 15, 18, 16, 17, 20, 18, 15, 20, 17, 19, 14, 17, 17, 18, 15, 15, 18, 13, 11, 18, 16, 16, 15, 18, 17, 10, 13, 16, 17, 18, 12, 14, 10, 19, 14, 16, 17, 19, 11, 16, 15, 16, 20, 13, 19, 16, 18, 17, 18, 14, 14, 16, 18, 19, 15, 15, 18, 14, 16, 17, 12, 18, 9, 14, 15, 15, 11, 17, 15, 18, 16, 12, 13, 20, 20, 11, 15, 18, 17, 16, 12, 16, 17, 14, 18, 18, 18, 18, 19, 20, 20, 19, 18, 17, 17, 17, 13, 20, 16, 17, 15, 16, 15, 18, 15, 15, 17, 14, 18, 14, 17, 16, 21, 18, 12, 17, 21, 20, 18, 20, 16, 19, 14, 19, 16, 20, 17, 16, 14, 16, 14, 17, 17, 19, 15, 15, 17, 18, 17, 20, 18, 14, 19, 16, 18, 16, 16, 19, 15, 11, 21, 20, 14, 17, 17, 17, 15, 18, 17, 14, 16, 15, 22, 12, 12, 11, 15, 10, 17, 15, 13, 14, 16, 18, 18, 21, 15, 19, 13, 18, 18, 17, 18, 18, 19, 19, 18, 14, 14, 17, 17, 19, 19, 21, 15, 21, 18, 18, 17, 15, 11, 15, 16, 13, 15, 14, 17, 14, 13, 9, 19, 20, 15, 18, 16, 19, 11, 15, 17, 17, 17, 19, 16, 14, 17, 16, 13, 21, 17, 15, 17, 13, 20, 13, 18, 20, 20, 14, 15, 18, 18, 20, 17, 15, 14, 19, 19, 22, 16, 14, 16, 20, 20, 14, 16, 14, 18, 17, 10, 18, 18, 16, 13, 14, 20, 15, 18, 21, 15, 14, 16, 16, 14, 18, 17, 15, 17, 10, 14, 17, 17, 14, 16, 20, 18, 12, 17, 12, 17, 17, 17, 15, 17, 11, 17, 19, 16, 14, 13, 20, 16, 15, 17, 17, 13, 20, 14, 15, 16, 18, 21, 16, 15, 13, 19, 16, 16, 19, 16, 14, 8, 21, 19, 15, 16, 21, 19, 17, 15, 20, 20, 17, 16, 18, 13, 10, 11, 16, 11, 17, 17, 15, 14, 12, 19, 12, 12, 18, 18, 18, 21, 18, 11, 15, 13, 17, 19, 17, 12, 18, 11, 21, 20, 14, 17, 20, 13, 12, 14, 19, 16, 17, 16, 15, 14, 20, 12, 15, 14, 14, 13, 15, 16, 13, 15, 16, 16, 18, 10, 17, 19, 21, 15, 14, 20, 13, 14, 15, 17, 17, 16, 19, 14, 11, 12, 21, 17, 15, 15, 19, 18, 17, 14, 13, 16, 17, 15, 19, 16, 17, 16, 16, 19, 20, 17, 11, 17, 15, 16, 17, 16, 20, 19, 19, 16, 11, 18, 14, 11, 15, 17, 15, 14, 16, 17, 16, 17, 14, 18, 13, 18, 17, 18, 11, 14, 17, 19, 19, 13, 15, 16, 19, 15, 18, 14, 18, 16, 18, 19, 13, 16, 20, 16, 15, 15, 15, 16, 21, 19, 14, 17, 20, 13, 12, 17, 16, 19, 19, 19, 16, 13, 14, 13, 20, 20, 11, 20, 14, 15, 15, 21, 18, 16, 20, 20, 8, 17, 18, 20, 21, 18, 13, 18, 15, 17, 21, 11, 17, 12, 13, 19, 15, 15, 10, 16, 17, 14, 13, 17, 18, 20, 18, 16, 16, 17, 19, 20, 18, 16, 16, 13, 21, 18, 14, 22, 9, 12, 13, 14, 19, 17, 15, 16, 14, 19, 12, 16, 19, 19, 13, 19, 18, 16, 20, 20, 19, 16, 17, 18, 13, 19, 20, 19, 19, 18, 20, 16, 13, 20, 18, 16, 15, 13, 9, 12, 18, 17, 15, 16, 14, 19, 21, 21, 18, 19, 18, 21, 16, 15, 17, 18, 11, 17, 19, 19, 17, 15, 13, 16, 14, 16, 18, 17, 16, 18, 16, 18, 18, 18, 12, 18, 17, 12, 18, 22, 19, 14, 21, 21, 13, 17, 18, 18, 13, 16, 19, 21, 21, 15, 17, 17, 20, 18, 16, 14, 11, 20, 20, 11, 16, 19, 17, 17, 17, 18, 17, 16, 19, 14, 14, 19, 20, 18, 17, 18, 14, 15, 21, 17, 20, 15, 19, 15, 14, 20, 19, 20, 13, 14, 16, 22, 20, 20, 19, 9, 20, 17, 19, 13, 12, 18, 22, 11, 16, 18, 16, 18, 22, 18, 19, 15, 21, 14, 19, 18, 21, 15, 18, 15, 13, 21, 17, 18, 16, 19, 16, 19, 18, 19, 19, 11, 21, 16, 20, 18, 19, 18, 12, 20, 20, 17, 19, 16, 16, 16, 18, 12, 10, 19, 12, 19, 14, 20, 21, 18, 17, 11, 20, 17, 18, 15, 19, 19, 15, 17, 20, 11, 19, 19, 14, 17, 16, 18, 16, 14, 19, 16, 20, 19, 19, 19, 19, 13, 15, 20, 22, 18, 19, 18, 17, 19, 16, 19, 17, 19, 17, 20, 15, 18, 12, 17, 11, 16, 19, 21, 16, 17, 20, 19, 10, 17, 17, 22, 12, 18, 20, 11, 16, 14, 15, 19, 16, 15, 20, 16, 10, 16, 17, 15, 17, 16, 17, 19, 16, 19, 16, 17, 18, 16, 18, 18, 13, 20, 17, 17, 21, 10, 16, 17, 10, 17, 20, 13, 15, 19, 14, 12, 14, 22, 17, 20, 18, 15, 20, 18, 14, 20, 9, 14, 18, 16, 16, 17, 16, 19, 18, 14, 18, 18, 18, 15, 18, 18, 21, 20, 17, 18, 15, 19, 20, 13, 13, 19, 19, 17, 17, 15, 20, 16, 21, 20, 15, 20, 20, 15, 16, 19, 21, 21, 11, 17, 13, 17, 15, 14, 14, 17, 18, 13, 18, 21, 20, 11, 16, 17, 19, 14, 17, 17, 18, 21, 17, 20, 18, 16, 19, 19, 19, 14, 18, 12, 13, 15, 16, 15, 21, 16, 19, 17, 21, 17, 14, 20, 21, 15, 15, 17, 18, 19, 14, 18, 18, 13, 19, 12, 17, 17, 19, 15, 18, 17, 16, 19, 19, 18, 17, 16, 14, 15, 17, 19, 15, 21, 19, 17, 21, 21, 11, 19, 19, 19, 16, 18, 19, 20, 16, 8, 16, 13, 13, 15, 19, 16, 19, 16, 20, 19, 15, 15, 18, 20, 19, 16, 15, 19, 17, 19, 16, 22, 21, 17, 18, 21, 19, 22, 13, 13, 15, 9, 18, 13, 18, 20, 20, 13, 17, 20, 17, 17, 14, 12, 19, 17, 12, 19, 19, 20, 22, 19, 12, 14, 15, 19, 21, 16, 16, 16, 11, 17, 20, 16, 19, 16, 15, 15, 15, 18, 18, 9, 20, 18, 18, 16, 13, 18, 17, 17, 19, 16, 19, 17, 17, 21, 13, 19, 17, 17, 21, 15, 15, 14, 18, 17, 21, 12, 22, 21, 22, 20, 19, 20, 20, 20, 20, 20, 19, 18, 19, 15, 16, 19, 17, 16, 17, 19, 18, 21, 18, 18, 18, 21, 18, 13, 17, 21, 18, 22, 21, 18, 16, 22, 22, 19, 18, 19, 15, 20, 13, 19, 21, 17, 15, 12, 16, 19, 20, 19, 16, 10, 18, 19, 17, 18, 18, 21, 20, 17, 16, 15, 18, 18, 15, 10, 19, 18, 15, 19, 16, 21, 21, 22, 17, 17, 21, 13, 13, 21, 18, 13, 19, 18, 16, 20, 15, 17, 20, 20, 18, 15, 20, 19, 15, 16, 22, 14, 20, 19, 18, 21, 15, 11, 14, 8, 21, 17, 18, 13, 21, 17, 15, 15, 22, 18, 18, 19, 21, 17, 18, 20, 13, 17, 19, 21, 12, 19, 20, 16, 14, 18, 22, 15, 20, 14, 16, 14, 16, 20, 19, 19, 20, 14, 12, 17, 15, 18, 16, 19, 22, 18, 19, 12, 20, 19, 19, 18, 20, 19, 12, 18, 21, 18, 20, 19, 19, 21, 19, 11, 16, 19, 17, 17, 18, 19, 17, 20, 18, 20, 14, 20, 17, 18, 16, 19, 17, 19, 17, 20, 15, 19, 19, 22, 20, 19, 17, 15, 14, 18, 17, 22, 19, 15, 19, 22, 17, 20, 21, 22, 20, 19, 20, 16, 16, 24, 18, 20, 20, 16, 18, 17, 20, 19, 19, 18, 19, 17, 17, 17, 18, 19, 14, 18, 16, 19, 15, 17, 13, 19, 18, 17, 18, 14, 16, 19, 21, 19, 18, 16, 13, 19, 17, 16, 21, 20, 19, 20, 16, 19, 20, 16, 20, 17, 9, 21, 19, 15, 17, 18, 23, 21, 18, 16, 22, 20, 18, 15, 19, 19, 20, 17, 21, 17, 17, 16, 18, 14, 15, 19, 12, 12, 9, 14, 18, 20, 13, 18, 16, 18, 11, 19, 20, 11, 19, 21, 19, 17, 19, 16, 19, 16, 18, 23, 17, 21, 19, 18, 16, 20, 21, 19, 15, 15, 22, 17, 21, 22, 16, 17, 18, 18, 19, 20, 19, 21, 19, 17, 22, 21, 16, 17, 20, 17, 15, 18, 21, 20, 18, 22, 22, 15, 21, 16, 17, 20, 22, 22, 18, 17, 18, 18, 21, 21, 17, 14, 20, 17, 12, 17, 17, 19, 18, 21, 19, 19, 19, 15, 17, 13, 19, 20, 18, 17, 17, 19, 19, 18, 21, 22, 18, 21, 15, 20, 17, 11, 20, 19, 13, 20, 21, 20, 21, 11, 20, 20, 19, 18, 16, 20, 18, 21, 15, 16, 20, 21, 17, 17, 22, 19, 23, 18, 23, 21, 13, 22, 20, 19, 19, 23, 18, 19, 20, 20, 16, 20, 15, 17, 19, 15, 17, 13, 18, 21, 19, 19, 21, 18, 17, 18, 15, 14, 17, 16, 15, 17, 18, 12, 20, 21, 21, 16, 22, 19, 21, 16, 15, 18, 22, 21, 20, 11, 12, 21, 21, 16, 15, 20, 16, 17, 21, 18, 21, 17, 18, 17, 20, 20, 16, 23, 15, 20, 17, 20, 16, 20, 14, 17, 19, 21, 16, 18, 16, 22, 17, 19, 20, 22, 16, 15, 18, 14, 19, 15, 10, 20, 20, 20, 21, 18, 21, 24, 17, 18, 16, 18, 14, 17, 12, 19, 23, 14, 21, 17, 21, 19, 17, 19, 18, 17, 20, 16, 21, 15, 20, 16, 18, 21, 17, 17, 21, 22, 17, 18, 21, 19, 16, 22, 22, 21, 12, 22, 20, 17, 20, 18, 19, 19, 19, 20, 9, 20, 18, 17, 18, 20, 20, 18, 18, 17, 18, 20, 21, 20, 14, 21, 18, 20, 21, 17, 20, 21, 17, 20, 14, 20, 21, 17, 16, 22, 21, 11, 18, 23, 22, 17, 19, 18, 19, 19, 19, 22, 18, 21, 21, 16, 18, 7, 20, 19, 18, 19, 19, 19, 19, 15, 19, 17, 18, 19, 17, 15, 19, 20, 19, 21, 11, 22, 20, 15, 11, 17, 20, 22, 19, 22, 21, 22, 13, 17, 18, 16, 18, 20, 17, 18, 23, 18, 20, 17, 19, 16, 20, 21, 16, 20, 21, 22, 18, 18, 21, 19, 20, 15, 18, 21, 21, 17, 20, 20, 20, 20, 21, 18, 20, 22, 13, 21, 20, 18, 21, 16, 19, 18, 17, 18, 19, 18, 17, 20, 21, 17, 21, 19, 14, 20, 17, 19, 15, 22, 19, 16, 19, 21, 22, 20, 21, 18, 20, 16, 16, 20, 20, 20, 11, 20, 23, 18, 16, 18, 20, 22, 19, 17, 14, 20, 15, 21, 21, 18, 12, 11, 21, 18, 20, 22, 20, 19, 20, 18, 18, 16, 17, 20, 20, 21, 20, 21, 21, 22, 20, 20, 18, 18, 17, 24, 19, 17, 21, 14, 22, 19, 22, 16, 18, 17, 23, 19, 8, 18, 22, 17, 19, 15, 23, 19, 22, 20, 22, 22, 20, 20, 21, 23, 15, 18, 21, 15, 14, 18, 19, 17, 18, 21, 15, 15, 20, 21, 12, 22, 18, 20, 22, 16, 20, 20, 21, 11, 14, 18, 17, 18, 20, 17, 12, 18, 21, 18, 21, 19, 17, 19, 20, 21, 21, 21, 23, 22, 15, 14, 20, 20, 21, 19, 19, 16, 22, 13, 16, 19, 20, 17, 15, 22, 20, 19, 22, 21, 16, 19, 24, 22, 20, 19, 20, 22, 21, 14, 19, 14, 17, 19, 15, 21, 17, 18, 19, 20, 16, 20, 20, 18, 22, 19, 10, 17, 16, 18, 20, 19, 20, 23, 24, 22, 18, 19, 16, 17, 19, 22, 19, 19, 21, 22, 16, 20, 21, 13, 13, 22, 15, 20, 15, 18, 19, 16, 17, 23, 18, 17, 23, 20, 21, 18, 21, 11, 21, 20, 20, 19, 19, 14, 18, 22, 19, 22, 21, 19, 16, 23, 19, 19, 18, 23, 21, 17, 21, 20, 22, 22, 22, 18, 21, 19, 20, 19, 22, 22, 17, 19, 23, 21, 17, 24, 16, 23, 16, 15, 23, 21, 18, 21, 22, 12, 19, 21, 11, 22, 21, 22, 15, 21, 17, 22, 21, 17, 21, 22, 23, 22, 22, 21, 22, 13, 17, 21, 20, 22, 20, 21, 22, 19, 23, 22, 22, 21, 14, 21, 19, 21, 14, 18, 21, 20, 21, 21, 20, 16, 17, 22, 13, 21, 18, 22, 23, 22, 13, 19, 21, 23, 18, 22, 13, 22, 23, 21, 22, 19, 22, 16, 22, 20, 22, 15, 14, 23, 22, 21, 21, 18, 21, 23, 19, 16, 22, 18, 18, 23, 22, 18, 22, 14, 21, 22, 18, 18, 20, 16, 14, 19, 20, 20, 19, 23, 21, 18, 20, 19, 19, 20, 20, 20, 21, 20, 22, 18, 21, 20, 22, 20, 22, 22, 21, 23, 22, 23, 19, 21, 22, 19, 13, 22, 17, 21, 22, 20, 18, 13, 20, 17, 23, 20, 22, 18, 24, 16, 21, 22, 22, 18, 20, 14, 23, 17, 19, 23, 21, 15, 18, 17, 23, 19, 21, 14, 18, 18, 16, 21, 20, 23, 20, 21, 22, 22, 22, 23, 24, 23, 21, 21, 22, 20, 18, 20, 16, 23, 23, 22, 16, 21, 21, 22, 21, 19, 21, 22, 22, 20, 21, 21, 17, 23, 20, 21, 20, 21, 20, 22, 21, 20, 16, 21, 21, 23, 21, 22, 20, 21, 22, 22, 23, 19, 15, 18, 21, 21, 22, 21, 22, 20, 16, 23, 18, 23, 21, 18, 19, 21, 20, 23, 18, 17, 20, 21, 19, 23, 21, 20, 11, 20, 16, 12, 22, 21, 23, 22, 19, 17, 22, 22, 21, 18, 23, 21, 21, 22, 23, 17, 23, 23, 17, 22, 19, 20, 22, 22, 15, 23, 20, 20, 23, 23, 21, 19, 16, 21, 17, 22, 23, 16, 18, 22, 22, 22, 11, 17, 19, 23, 20, 21, 17, 23, 20, 18, 23, 23, 18, 16, 20, 23, 19, 19, 18, 20, 22, 23, 24, 23, 21, 11, 21, 21, 20, 21, 21, 21, 17, 22, 16, 17, 22, 21, 19, 22, 21, 19, 21, 22, 22, 23, 22, 21, 23, 18, 23, 21, 20, 22, 20, 20, 22, 23, 17, 22, 21, 19, 18, 22, 23, 20, 23, 21, 16, 24, 20, 21, 22, 18, 23, 21, 22, 22, 17, 22, 23, 23, 21, 21, 22, 24, 19, 22, 22, 22, 20, 23, 22, 21, 24, 21, 22, 22, 23, 17, 24, 22, 21, 21, 21, 22, 21, 21, 23, 19, 22, 23, 20, 20, 20, 23, 17, 23, 23, 21, 19, 21, 22, 21, 23, 17, 17, 21, 24, 23, 17, 23, 20, 22, 20, 14, 23, 22, 20, 19, 22, 20, 23, 22, 21, 24, 22, 22, 15, 17, 22, 22, 18, 23, 24, 23, 17, 22, 21, 18, 21, 22, 21, 18, 23, 21, 15, 18, 22, 20, 21, 17, 21, 24, 22, 24, 22, 21, 21, 21, 21, 24, 24, 18, 23, 20, 16, 20, 22, 22, 23, 22, 23, 23, 23, 22, 21, 23, 21, 23, 23, 23, 22, 22, 23, 23, 23, 24, 22, 22, 22, 21, 24, 22, 23, 23, 24, 21, 23, 23, 21, 24, 20, 24, 23, 23, 21, 19, 23, 21, 23, 23, 23, 21, 24, 24, 22, 20, 19, 23, 23, 23, 23, 20, 21, 23, 24, 16, 25, 21, 23, 22, 22, 23, 17, 22, 23, 22, 24, 21, 21, 22, 23, 23, 23, 21, 23, 21, 22, 24, 23, 23, 21, 23, 21, 20, 21, 20, 21, 24, 23, 17, 21, 22, 24, 22, 22, 24, 23, 23, 18, 22, 21, 23, 24, 22, 22, 23, 23, 21, 23, 23, 22, 16, 23, 25, 22, 24, 24, 23, 23, 21, 23, 23, 23, 23, 21, 20, 24, 23, 22, 20, 22, 20, 24, 22, 24, 18, 22, 23, 23, 24, 24, 23, 19, 20, 13, 23, 21, 24, 24, 21, 24, 23, 23, 23, 25, 23, 22, 23, 23, 22, 19, 25, 24, 23, 22, 24, 23, 20, 24, 24, 24, 20, 19, 19, 23, 24, 23, 23, 23, 24, 23, 22, 22, 24, 23, 24, 22, 22, 19, 23, 24, 24, 25, 25, 23, 24, 24, 19, 24, 24, 20, 24, 23, 25, 25, 24, 24, 23, 23, 23, 24, 25, 24, 22, 24, 24, 24, 22, 22, 23, 25, 25, 22, 24, 21, 22, 23, 22, 23, 24, 24, 24, 24, 24, 24, 25, 24, 24, 24, 25, 22, 22, 23, 21, 25, 25, 23, 22, 24, 23, 24, 23, 18, 24, 24, 21, 22, 24, 23, 22, 24, 24, 24, 24, 25, 23, 25, 25, 24, 23, 24, 24, 25, 22, 25, 21, 20, 24, 23, 25, 24, 24, 25, 25, 24, 25, 25, 25, 25, 25, 24, 25, 25, 25, 26, 25, 25, 25, 23, 25, 25, 25, 25, 26, 25, 26, 25, 25, 25, 25, 25, 24, 25, 25, 24, 26, 25, 25, 25, 25, 26, 25, 26, 26, 26, 26, 25, 26, 26, 27, 26, 26, 27, 27, 27, 27, 27, 27, 27, 27, 27, 27, 27, 27, 27, 27, 27, 27, 27, 27, 27, 27, 27, 27, 27, 27, 27, 27, 27, 27, 27, 27, 27, 27, 27, 27, 27, 27, 27, 27, 27, 27, 27, 27, 27, 27, 27, 27, 27, 27, 27, 27, 27, 27, 27, 27, 27, 27, 27, 27, 27, 27, 27, 27, 27, 27, 27, 27, 27, 27, 27, 27, 27, 27, 27, 27, 27, 27, 27, 27, 27, 27, 27, 27, 27, 27, 27, 27, 27, 27, 27, 27, 27, 27, 27, 27, 27, 27, 27, 27, 27, 27, 27, 27, 27, 27, 27, 27, 27, 27, 27, 27, 27, 27, 27, 27, 27, 27, 27, 27, 27, 27, 27, 27, 27, 27, 27, 27, 27, 27, 27, 27, 27, 27, 27, 27, 27, 27, 27, 27, 27, 27, 27, 27, 27, 27, 27, 27, 27, 27, 27, 27, 27, 27, 27, 27, 27, 27, 27, 27, 27, 27, 27, 27, 27, 27, 27, 27, 27, 27, 27, 27, 27, 27, 27, 27, 27, 27, 27, 27, 27, 27, 27, 27, 27, 27, 27, 27, 27, 27, 27, 27, 27, 27, 27, 27, 27, 27, 27, 27, 27, 27, 27, 27, 27, 27, 27, 27, 27, 27, 27, 27, 27, 27, 27, 27, 27, 27, 27, 27, 27, 27, 27, 27, 27, 27, 27, 27, 27, 27, 27, 27, 27, 27, 27, 27, 27, 27, 27, 27, 27, 27, 27, 27, 27, 27, 27, 27, 27, 27, 27, 27, 27, 27, 27, 27, 27, 27, 27, 27, 27, 27, 27, 27, 27, 27, 27, 27, 27, 27, 27, 27, 27, 27, 27, 27, 27, 27, 27, 27, 27, 27, 27, 27, 27, 27, 27, 27, 27, 27, 27, 27, 27, 27, 27, 27, 27, 27, 27, 27, 27, 27, 27, 27, 27, 27, 27, 27, 27, 27, 27, 27, 27, 27, 27, 27, 27, 27, 27, 27, 27, 27, 27, 27, 27, 27, 27, 27, 27, 27, 27, 27, 27, 27, 27, 27, 27, 27, 27, 27, 27, 27, 27, 27, 27, 27, 27, 27, 27, 27, 27, 27, 27, 27, 27, 27, 27, 27, 27, 27, 27, 27, 27, 27, 27, 27, 27, 27, 27, 27, 27, 27, 27, 27, 27, 27, 27, 27, 27, 27, 27, 27, 27, 27, 27, 27, 27, 27, 27, 27, 27, 27, 27, 27, 27, 27, 27, 27, 27, 27, 27, 27, 27, 27, 27, 27, 27, 27, 27, 27, 27, 27, 27, 27, 27, 27, 27, 27, 27, 27, 27, 27, 27, 27, 27, 27, 27, 27, 27, 27, 27, 27, 27, 27, 27, 27, 27, 27, 27, 27, 27, 27, 27, 27, 27, 27, 27, 27, 27, 27, 27, 27, 27, 27, 27, 27, 27, 27, 27, 27, 27, 27, 27, 27, 27, 27, 27, 27, 27, 27, 27, 27, 27, 27, 27, 27, 27, 27, 27, 27, 27, 27, 27, 27, 27, 27, 27, 27, 27, 27, 27, 27, 27, 27, 27, 27, 27, 27, 27, 27, 27, 27, 27, 27, 27, 27, 27, 27, 27, 27, 27, 27, 27, 27, 27, 27, 27, 27, 27, 27, 27, 27, 27, 27, 27, 27, 27, 27, 27, 27, 27, 27, 27, 27, 27, 27, 27, 27, 27, 27, 27, 27, 27, 27, 27, 27, 27, 27, 27, 27, 27, 27, 27, 27, 27, 27, 27, 27, 27, 27, 27, 27, 27, 27, 27, 27, 27, 27, 27, 27, 27, 27, 27, 27, 27, 27, 27, 27, 27, 27, 27, 27, 27, 27, 27, 27, 27, 27, 27, 27, 27, 27, 27, 27, 27, 27, 27, 27, 27, 27, 27, 27, 27, 27, 27, 27, 27, 27, 27, 27, 27, 27, 27, 27, 27, 27, 27, 27, 27, 27, 27, 27, 27, 27, 27, 27, 27, 27, 27, 27, 27, 27, 27, 27, 27, 27, 27, 27, 27, 27, 27, 27, 27, 27, 27, 27, 27, 27, 27, 27, 27, 27, 27, 27, 27, 27, 27, 27, 27, 27, 27, 27, 27, 27, 27, 27, 27, 27, 27, 27, 27, 27, 27, 27, 27, 27, 27, 27, 27, 27, 27, 27, 27, 27, 27, 27, 27, 27, 27, 27, 27, 27, 27, 27, 27, 27, 27, 27, 27, 27, 27, 27, 27, 27, 27, 27, 27, 27, 27, 27, 27, 27, 27, 27, 27, 27, 27, 27, 27, 27, 27, 27, 27, 27, 27, 27, 27, 27, 27, 27, 27, 27, 27, 27, 27, 27, 27, 27, 27, 27, 27, 27, 27, 27, 27, 27, 27, 27, 27, 27, 27, 27, 27, 27, 27, 27, 27, 27, 27, 27, 27, 27, 27, 27, 27, 27, 27, 27, 27, 27, 27, 27, 27, 27, 27, 27, 27, 27, 27, 27, 27, 27, 27, 27, 27, 27, 27, 27, 27, 27, 27, 27, 27, 27, 27, 27, 27, 27, 27, 27, 27, 27, 27, 27, 27, 27, 27, 27, 27, 27, 27, 27, 27, 27, 27, 27, 27, 27, 27, 27, 27, 27, 27, 27, 27, 27, 27, 27, 27, 27, 27, 27, 27, 27, 27, 27, 27, 27, 27, 27, 27, 27, 27, 27, 27, 27, 27, 27, 27, 27, 27, 27, 27, 27, 27, 27, 27, 27, 27, 27, 27, 27, 27, 27, 27, 27, 27, 27, 27, 27, 27, 27, 27, 27, 27, 27, 27, 27, 27, 27, 27, 27, 27, 27, 27, 27, 27, 27, 27, 27, 27, 27, 27, 27, 27, 27, 27, 27, 27, 27, 27, 27, 27, 27, 27, 27, 27, 27, 27, 27, 27, 27, 27, 27, 27, 27, 27, 27, 27, 27, 27, 27, 27, 27, 27, 27, 27, 27, 27, 27, 27, 27, 27, 27, 27, 27, 27, 27, 27, 27, 27, 27, 27, 27, 27, 27, 27, 27, 27, 27, 27, 27, 27, 27, 27, 27]\n"
     ]
    }
   ],
   "source": [
    "print(gt_counts[sorted_indices].tolist()[::-1])"
   ]
  },
  {
   "cell_type": "code",
   "execution_count": 12,
   "id": "played-asthma",
   "metadata": {},
   "outputs": [
    {
     "data": {
      "text/plain": [
       "array([3241, 1970, 1332, ..., 3102, 3993, 1423])"
      ]
     },
     "execution_count": 12,
     "metadata": {},
     "output_type": "execute_result"
    }
   ],
   "source": [
    "sorted_indices"
   ]
  },
  {
   "cell_type": "code",
   "execution_count": 69,
   "id": "bronze-soldier",
   "metadata": {},
   "outputs": [
    {
     "data": {
      "text/plain": [
       "[-5.0723772048950195,\n",
       " 0.8900355696678162,\n",
       " -6.2472028732299805,\n",
       " 0.4425223767757416,\n",
       " -5.315224647521973,\n",
       " 0.6602362394332886,\n",
       " -5.719279766082764,\n",
       " -5.4568610191345215,\n",
       " 0.7790303230285645,\n",
       " 0.7365307211875916,\n",
       " 0.6256585121154785,\n",
       " 0.9702585935592651,\n",
       " 0.7539098262786865,\n",
       " 0.8585852980613708,\n",
       " 0.8186146020889282,\n",
       " 0.7645173072814941,\n",
       " 0.7297617197036743,\n",
       " 0.6846896409988403,\n",
       " -6.378102779388428,\n",
       " 0.7588233947753906,\n",
       " -5.2170610427856445,\n",
       " 0.6215784549713135,\n",
       " 0.6996064186096191,\n",
       " 0.8197203278541565,\n",
       " -5.997534275054932,\n",
       " 0.4317539632320404,\n",
       " 0.6643961668014526]"
      ]
     },
     "execution_count": 69,
     "metadata": {},
     "output_type": "execute_result"
    }
   ],
   "source": [
    "full_logits[14]"
   ]
  },
  {
   "cell_type": "code",
   "execution_count": 6,
   "id": "better-advertising",
   "metadata": {},
   "outputs": [
    {
     "data": {
      "text/plain": [
       "[[17, 48, 3, 23, 21, 15, 15, 35, 11, 31, 3, 13, 18, 12, 13, 9], [21]]"
      ]
     },
     "execution_count": 6,
     "metadata": {},
     "output_type": "execute_result"
    }
   ],
   "source": [
    "game_data['test_tokens'][373]"
   ]
  },
  {
   "cell_type": "code",
   "execution_count": 17,
   "id": "civilian-crack",
   "metadata": {},
   "outputs": [
    {
     "data": {
      "text/plain": [
       "[22, 10, 21, 6, 0, 9, 17, 23, 18, 11, 24, 13, 4]"
      ]
     },
     "execution_count": 17,
     "metadata": {},
     "output_type": "execute_result"
    }
   ],
   "source": [
    "game_data['test_gt_idxs'][373]"
   ]
  },
  {
   "cell_type": "code",
   "execution_count": 20,
   "id": "abandoned-target",
   "metadata": {},
   "outputs": [
    {
     "name": "stdout",
     "output_type": "stream",
     "text": [
      "query [(1, 2, 2), (3, 0, 0), (0, 1, 0), (2, 1, 2), (2, 1, 0), (1, 2, 0), (1, 2, 0), (1, 1, 3), (1, 0, 2), (0, 3, 1), (0, 1, 0), (1, 1, 1), (2, 0, 0), (1, 1, 0), (1, 1, 1), (1, 0, 0)]\n",
      "\n",
      "keys [(2, 1, 1), (1, 0, 1), (2, 1, 0), (0, 2, 0), (0, 0, 0), (1, 0, 0), (1, 2, 2), (2, 1, 2), (2, 0, 0), (1, 0, 2), (2, 2, 0), (1, 1, 1), (0, 1, 1)]\n"
     ]
    }
   ],
   "source": [
    "card2idx_lookup, idx2card_lookup = construct_card_idx_lookup(game_data['num_attributes'], game_data['num_attr_vals'])\n",
    "print('query', [idx2card_lookup[kidx] for kidx in game_data['test_tokens'][373][0]])\n",
    "print('')\n",
    "print('keys', [idx2card_lookup[kidx] for kidx in game_data['test_gt_idxs'][373]])"
   ]
  },
  {
   "cell_type": "code",
   "execution_count": 15,
   "id": "sudden-lunch",
   "metadata": {},
   "outputs": [],
   "source": [
    "color = ['red', 'green', 'blue', '*']\n",
    "count = ['1', '2', '3', '*']\n",
    "shape = ['capsule', 'diamond', 'snake', '*' ]\n",
    "\n",
    "def map_prop_to_words(prop_tup):\n",
    "    return count[prop_tup[0]], color[prop_tup[1]], shape[prop_tup[2]]"
   ]
  },
  {
   "cell_type": "code",
   "execution_count": 16,
   "id": "ceramic-gallery",
   "metadata": {},
   "outputs": [
    {
     "data": {
      "text/plain": [
       "[('2', 'blue', 'snake'),\n",
       " ('*', 'red', 'capsule'),\n",
       " ('1', 'green', 'capsule'),\n",
       " ('3', 'green', 'snake'),\n",
       " ('3', 'green', 'capsule'),\n",
       " ('2', 'blue', 'capsule'),\n",
       " ('2', 'blue', 'capsule'),\n",
       " ('2', 'green', '*'),\n",
       " ('2', 'red', 'snake'),\n",
       " ('1', '*', 'diamond'),\n",
       " ('1', 'green', 'capsule'),\n",
       " ('2', 'green', 'diamond'),\n",
       " ('3', 'red', 'capsule'),\n",
       " ('2', 'green', 'capsule'),\n",
       " ('2', 'green', 'diamond'),\n",
       " ('2', 'red', 'capsule')]"
      ]
     },
     "execution_count": 16,
     "metadata": {},
     "output_type": "execute_result"
    }
   ],
   "source": [
    "# Query\n",
    "[map_prop_to_words(idx2card_lookup[kidx]) for kidx in game_data['test_tokens'][373][0]]"
   ]
  },
  {
   "cell_type": "code",
   "execution_count": 21,
   "id": "expensive-inquiry",
   "metadata": {},
   "outputs": [
    {
     "data": {
      "text/plain": [
       "[('3', 'green', 'diamond'),\n",
       " ('2', 'red', 'diamond'),\n",
       " ('3', 'green', 'capsule'),\n",
       " ('1', 'blue', 'capsule'),\n",
       " ('1', 'red', 'capsule'),\n",
       " ('2', 'red', 'capsule'),\n",
       " ('2', 'blue', 'snake'),\n",
       " ('3', 'green', 'snake'),\n",
       " ('3', 'red', 'capsule'),\n",
       " ('2', 'red', 'snake'),\n",
       " ('3', 'blue', 'capsule'),\n",
       " ('2', 'green', 'diamond'),\n",
       " ('1', 'green', 'diamond')]"
      ]
     },
     "execution_count": 21,
     "metadata": {},
     "output_type": "execute_result"
    }
   ],
   "source": [
    "# Keys\n",
    "[map_prop_to_words(idx2card_lookup[kidx]) for kidx in game_data['test_gt_idxs'][373]]"
   ]
  },
  {
   "cell_type": "code",
   "execution_count": 44,
   "id": "cutting-coach",
   "metadata": {},
   "outputs": [
    {
     "data": {
      "text/plain": [
       "(array([13.,  0.,  0.,  0.,  0.,  0.,  1.,  2.,  7.,  4.]),\n",
       " array([5.71485840e-04, 3.38573657e-01, 6.76575827e-01, 1.01457800e+00,\n",
       "        1.35258017e+00, 1.69058234e+00, 2.02858451e+00, 2.36658668e+00,\n",
       "        2.70458885e+00, 3.04259102e+00, 3.38059319e+00]),\n",
       " <BarContainer object of 10 artists>)"
      ]
     },
     "execution_count": 44,
     "metadata": {},
     "output_type": "execute_result"
    },
    {
     "data": {
      "image/png": "[encoded data removed]",
      "text/plain": [
       "<Figure size 432x288 with 1 Axes>"
      ]
     },
     "metadata": {
      "needs_background": "light"
     },
     "output_type": "display_data"
    }
   ],
   "source": [
    "plt.hist(np.exp(full_logits[1207]))"
   ]
  },
  {
   "cell_type": "code",
   "execution_count": 43,
   "id": "fuzzy-index",
   "metadata": {},
   "outputs": [
    {
     "data": {
      "text/plain": [
       "(array([13.,  0.,  0.,  0.,  0.,  0.,  1.,  3.,  6.,  4.]),\n",
       " array([1.00001414, 1.00873704, 1.01745995, 1.02618285, 1.03490576,\n",
       "        1.04362866, 1.05235156, 1.06107447, 1.06979737, 1.07852028,\n",
       "        1.08724318]),\n",
       " <BarContainer object of 10 artists>)"
      ]
     },
     "execution_count": 43,
     "metadata": {},
     "output_type": "execute_result"
    },
    {
     "data": {
      "image/png": "[encoded data removed]",
      "text/plain": [
       "<Figure size 432x288 with 1 Axes>"
      ]
     },
     "metadata": {
      "needs_background": "light"
     },
     "output_type": "display_data"
    }
   ],
   "source": [
    "plt.hist(np.exp(full_probs[1207]))"
   ]
  },
  {
   "cell_type": "code",
   "execution_count": 68,
   "id": "raising-caribbean",
   "metadata": {},
   "outputs": [
    {
     "data": {
      "text/plain": [
       "(array([14.,  0.,  0.,  0.,  0.,  0.,  3.,  3.,  3.,  4.]),\n",
       " array([7.95716666e-06, 9.38780469e-03, 1.87676522e-02, 2.81474997e-02,\n",
       "        3.75273472e-02, 4.69071948e-02, 5.62870423e-02, 6.56668898e-02,\n",
       "        7.50467373e-02, 8.44265848e-02, 9.38064324e-02]),\n",
       " <BarContainer object of 10 artists>)"
      ]
     },
     "execution_count": 68,
     "metadata": {},
     "output_type": "execute_result"
    },
    {
     "data": {
      "image/png": "[encoded data removed]",
      "text/plain": [
       "<Figure size 432x288 with 1 Axes>"
      ]
     },
     "metadata": {
      "needs_background": "light"
     },
     "output_type": "display_data"
    }
   ],
   "source": [
    "plt.hist(full_probs[373])"
   ]
  },
  {
   "cell_type": "code",
   "execution_count": 79,
   "id": "damaged-strand",
   "metadata": {},
   "outputs": [
    {
     "data": {
      "text/plain": [
       "<BarContainer object of 13 artists>"
      ]
     },
     "execution_count": 79,
     "metadata": {},
     "output_type": "execute_result"
    },
    {
     "data": {
      "image/png": "[encoded data removed]",
      "text/plain": [
       "<Figure size 432x288 with 1 Axes>"
      ]
     },
     "metadata": {
      "needs_background": "light"
     },
     "output_type": "display_data"
    }
   ],
   "source": [
    "plt.bar([str(idx) for idx in gt_idxs_373], full_probs[373][gt_idxs_373])"
   ]
  },
  {
   "cell_type": "code",
   "execution_count": 80,
   "id": "injured-illinois",
   "metadata": {},
   "outputs": [
    {
     "data": {
      "text/plain": [
       "<BarContainer object of 14 artists>"
      ]
     },
     "execution_count": 80,
     "metadata": {},
     "output_type": "execute_result"
    },
    {
     "data": {
      "image/png": "[encoded data removed]",
      "text/plain": [
       "<Figure size 432x288 with 1 Axes>"
      ]
     },
     "metadata": {
      "needs_background": "light"
     },
     "output_type": "display_data"
    }
   ],
   "source": [
    "plt.bar([str(idx) for idx in not_gt_idxs_373], full_probs[373][not_gt_idxs_373])"
   ]
  },
  {
   "cell_type": "code",
   "execution_count": 94,
   "id": "smart-arrival",
   "metadata": {},
   "outputs": [
    {
     "data": {
      "text/plain": [
       "<BarContainer object of 28 artists>"
      ]
     },
     "execution_count": 94,
     "metadata": {},
     "output_type": "execute_result"
    },
    {
     "data": {
      "image/png": "[encoded data removed]",
      "text/plain": [
       "<Figure size 1440x720 with 1 Axes>"
      ]
     },
     "metadata": {
      "needs_background": "light"
     },
     "output_type": "display_data"
    }
   ],
   "source": [
    "gt_idxs_373 = sorted(game_data['test_gt_idxs'][373])\n",
    "not_gt_idxs_373 = [i for i in range(27) if not i in gt_idxs_373]\n",
    "\n",
    "plt.figure(figsize=(20,10))\n",
    "plt.ylim(0.0, 0.1)\n",
    "\n",
    "plt.axhline(y=1./gt_counts[373], color='r', linestyle='-')\n",
    "\n",
    "plt.bar(\n",
    "    [str(idx) for idx in gt_idxs_373] + [' '] + [str(idx) for idx in not_gt_idxs_373],  \n",
    "    list(full_probs[373][gt_idxs_373]) + [0] + list(full_probs[373][not_gt_idxs_373]),\n",
    "    color='k'\n",
    ")\n"
   ]
  },
  {
   "cell_type": "code",
   "execution_count": 92,
   "id": "vanilla-claim",
   "metadata": {},
   "outputs": [
    {
     "data": {
      "text/plain": [
       "0.07692307692307693"
      ]
     },
     "execution_count": 92,
     "metadata": {},
     "output_type": "execute_result"
    }
   ],
   "source": [
    "1 / 13.0"
   ]
  },
  {
   "cell_type": "code",
   "execution_count": 77,
   "id": "latter-sensitivity",
   "metadata": {},
   "outputs": [
    {
     "data": {
      "text/plain": [
       "<BarContainer object of 13 artists>"
      ]
     },
     "execution_count": 77,
     "metadata": {},
     "output_type": "execute_result"
    },
    {
     "data": {
      "image/png": "[encoded data removed]",
      "text/plain": [
       "<Figure size 432x288 with 1 Axes>"
      ]
     },
     "metadata": {
      "needs_background": "light"
     },
     "output_type": "display_data"
    }
   ],
   "source": [
    "plt.bar(gt_idxs_373, full_probs[373][gt_idxs_373])"
   ]
  },
  {
   "cell_type": "code",
   "execution_count": 75,
   "id": "spiritual-homeless",
   "metadata": {},
   "outputs": [],
   "source": [
    "gt_idxs_373 = sorted(game_data['test_gt_idxs'][373])"
   ]
  },
  {
   "cell_type": "code",
   "execution_count": 78,
   "id": "monetary-reminder",
   "metadata": {},
   "outputs": [],
   "source": [
    "not_gt_idxs_373 = [i for i in range(27) if not i in gt_idxs_373]"
   ]
  },
  {
   "cell_type": "code",
   "execution_count": 72,
   "id": "provincial-railway",
   "metadata": {
    "scrolled": true
   },
   "outputs": [
    {
     "data": {
      "text/plain": [
       "0.07692307692307693"
      ]
     },
     "execution_count": 72,
     "metadata": {},
     "output_type": "execute_result"
    }
   ],
   "source": [
    "1/13"
   ]
  },
  {
   "cell_type": "code",
   "execution_count": 71,
   "id": "pressed-aberdeen",
   "metadata": {},
   "outputs": [
    {
     "data": {
      "text/plain": [
       "13"
      ]
     },
     "execution_count": 71,
     "metadata": {},
     "output_type": "execute_result"
    }
   ],
   "source": [
    "gt_counts[373]"
   ]
  },
  {
   "cell_type": "code",
   "execution_count": 62,
   "id": "reflected-gamma",
   "metadata": {
    "scrolled": true
   },
   "outputs": [
    {
     "data": {
      "text/plain": [
       "(array([16.,  0.,  0.,  0.,  0.,  0.,  1.,  2.,  4.,  4.]),\n",
       " array([1.00004382, 1.01099971, 1.0219556 , 1.03291149, 1.04386738,\n",
       "        1.05482328, 1.06577917, 1.07673506, 1.08769095, 1.09864684,\n",
       "        1.10960273]),\n",
       " <BarContainer object of 10 artists>)"
      ]
     },
     "execution_count": 62,
     "metadata": {},
     "output_type": "execute_result"
    },
    {
     "data": {
      "image/png": "[encoded data removed]",
      "text/plain": [
       "<Figure size 432x288 with 1 Axes>"
      ]
     },
     "metadata": {
      "needs_background": "light"
     },
     "output_type": "display_data"
    }
   ],
   "source": [
    "plt.hist(np.exp(full_probs[3834]))"
   ]
  },
  {
   "cell_type": "code",
   "execution_count": 66,
   "id": "compressed-driver",
   "metadata": {},
   "outputs": [
    {
     "data": {
      "text/plain": [
       "3.711463308436245"
      ]
     },
     "execution_count": 66,
     "metadata": {},
     "output_type": "execute_result"
    }
   ],
   "source": [
    "entropy(full_probs[373])"
   ]
  },
  {
   "cell_type": "code",
   "execution_count": 11,
   "id": "dutch-journalism",
   "metadata": {},
   "outputs": [
    {
     "data": {
      "text/plain": [
       "4.212587922290787"
      ]
     },
     "execution_count": 11,
     "metadata": {},
     "output_type": "execute_result"
    }
   ],
   "source": [
    "np.mean(entropy(full_probs))"
   ]
  },
  {
   "cell_type": "code",
   "execution_count": 10,
   "id": "interesting-helmet",
   "metadata": {},
   "outputs": [
    {
     "data": {
      "text/plain": [
       "3.976084703044034"
      ]
     },
     "execution_count": 10,
     "metadata": {},
     "output_type": "execute_result"
    }
   ],
   "source": [
    "full_probs_10_20 = np.array(full_probs)[(gt_counts > 10) & (gt_counts <20)]\n",
    "np.mean(entropy(full_probs_10_20))"
   ]
  },
  {
   "cell_type": "code",
   "execution_count": 67,
   "id": "million-blame",
   "metadata": {},
   "outputs": [
    {
     "data": {
      "text/plain": [
       "4.153620074778722"
      ]
     },
     "execution_count": 67,
     "metadata": {},
     "output_type": "execute_result"
    }
   ],
   "source": [
    "full_probs_12_15 = np.array(full_probs)[(gt_counts > 12) & (gt_counts <25)]\n",
    "np.mean(entropy(full_probs_12_15))"
   ]
  },
  {
   "cell_type": "code",
   "execution_count": null,
   "id": "legendary-china",
   "metadata": {},
   "outputs": [],
   "source": []
  },
  {
   "cell_type": "code",
   "execution_count": null,
   "id": "built-image",
   "metadata": {},
   "outputs": [],
   "source": []
  },
  {
   "cell_type": "markdown",
   "id": "legal-consideration",
   "metadata": {},
   "source": [
    "## Embedding Analysis"
   ]
  },
  {
   "cell_type": "code",
   "execution_count": 11,
   "id": "every-slave",
   "metadata": {},
   "outputs": [
    {
     "name": "stdout",
     "output_type": "stream",
     "text": [
      "The autoreload extension is already loaded. To reload it, use:\n",
      "  %reload_ext autoreload\n"
     ]
    }
   ],
   "source": [
    "%load_ext autoreload\n",
    "%autoreload 2\n",
    "\n",
    "from dataset import BatchFetcher\n",
    "from metrics import find_nn, analogy, find_cos, find_dotproduct, find_euclidean\n",
    "from dataraw_sampling import construct_card_idx_lookup\n",
    "\n",
    "import matplotlib.pyplot as plt"
   ]
  },
  {
   "cell_type": "code",
   "execution_count": 16,
   "id": "statewide-constitution",
   "metadata": {},
   "outputs": [
    {
     "name": "stdout",
     "output_type": "stream",
     "text": [
      "---------data----------\n",
      "num_attributes : 3\n",
      "num_attr_vals : 3\n",
      "key_support_size : 27\n",
      "N_pairs : 8\n",
      "union_only : True\n",
      "max_len_q : 16\n",
      "len_k : 1\n",
      "train_gt_idxs length : 0\n",
      "val_gt_idxs length : 5120\n",
      "test_gt_idxs length : 5120\n",
      "train_tokens length : 0\n",
      "val_tokens length : 5120\n",
      "test_tokens length : 5120\n",
      "test_marginal_gt_idxs length : 5120\n",
      "test_marginal_tokens length : 5120\n",
      "vocab_size : 74\n",
      "symbol_vocab_token_lookup : {'(': 64, ')': 65, 'NULL': 66, 'SEP': 67, 'SOS': 68, 'EOS': 69, 'PAD': 70, 'PLH': 71, '|': 72, '!': 73}\n",
      "vocab_by_property : False\n",
      "-----------------------\n"
     ]
    }
   ],
   "source": [
    "cuda_device = trainmodule.model._parameters['key_bias_terms'].device\n",
    "\n",
    "game_data = main.load_data(args.data_path)\n",
    "batch_fecther = BatchFetcher(\n",
    "    raw_data = game_data, device=cuda_device)"
   ]
  },
  {
   "cell_type": "code",
   "execution_count": 17,
   "id": "minimal-haiti",
   "metadata": {},
   "outputs": [],
   "source": [
    "queries = [[(0,1,3),(0,0,0)], [(0,1,3),(1,2,0)]]\n",
    "keys = [[(0,0,0)],[(0,1,0)],[(2,2,2)]]\n",
    "X_query, X_key = batch_fecther.make_query_batch(X_query_properties=queries, X_key_properties=None, X_key=[i for i in range(game_data['key_support_size'])])\n",
    "query_repr, key_repr = trainmodule.pull_repr(X_query, X_key)"
   ]
  },
  {
   "cell_type": "code",
   "execution_count": 18,
   "id": "center-assurance",
   "metadata": {
    "scrolled": true
   },
   "outputs": [
    {
     "data": {
      "text/plain": [
       "tensor([[ 16.0520,   7.5734,   0.9461,  -2.3650,  -1.6088,  -9.6629,  -1.0611,\n",
       "           6.2110,   1.5545,  -9.1536,   2.1053,   9.0129,  12.1637,   0.8489,\n",
       "          -7.5921,  -0.9510,  12.1858,  -5.7816,  -0.7349, -12.5901,   0.1043,\n",
       "           0.3320, -10.9779,  -0.1230,   5.2522,   3.9918,   6.1307],\n",
       "        [ 18.7069,  -0.4131,  -2.1271,   2.8310,   3.0094,  -9.6155,  -2.0812,\n",
       "           9.9261,   0.7530,  -8.7308,   1.5886,   5.2933,  13.3742,   3.2014,\n",
       "           0.9388,  -0.7415,   7.5635, -14.1845,   7.0459, -16.6190,  -3.9346,\n",
       "          -7.6409,   0.2007,  -3.9483,   8.3464,  -1.4086,   7.1514]],\n",
       "       device='cuda:1')"
      ]
     },
     "execution_count": 18,
     "metadata": {},
     "output_type": "execute_result"
    }
   ],
   "source": [
    "query_repr"
   ]
  },
  {
   "cell_type": "code",
   "execution_count": 19,
   "id": "unique-produce",
   "metadata": {},
   "outputs": [
    {
     "data": {
      "text/plain": [
       "tensor([[ 0.0796, -0.0752, -0.0946, -0.1759, -0.1973, -0.0511, -0.0078, -0.0213,\n",
       "         -0.0396, -0.1423,  0.0275,  0.0406, -0.1915,  0.1227, -0.1559,  0.0448,\n",
       "         -0.0668, -0.0715, -0.0630,  0.1548,  0.2194, -0.0153,  0.1015,  0.2050,\n",
       "          0.1224, -0.0886, -0.0916],\n",
       "        [-0.1105,  0.1271, -0.0168,  0.1096, -0.1569,  0.1784,  0.1657,  0.0555,\n",
       "          0.0832, -0.0355, -0.1577,  0.0570, -0.1655,  0.1863,  0.0719,  0.0632,\n",
       "          0.1194, -0.0047, -0.1264, -0.1706,  0.1934,  0.0974, -0.1436, -0.0734,\n",
       "         -0.1678,  0.0156, -0.0255],\n",
       "        [ 0.0391, -0.0548, -0.1014, -0.1172, -0.1366,  0.1293, -0.1258,  0.1053,\n",
       "          0.1206,  0.1456,  0.2688, -0.0827,  0.0552,  0.0469,  0.0186,  0.1834,\n",
       "          0.0498, -0.0990, -0.1653,  0.0606,  0.1213,  0.0900, -0.1319, -0.0397,\n",
       "          0.1680, -0.0195, -0.0487],\n",
       "        [-0.1474, -0.1503,  0.0864, -0.0445, -0.0476,  0.1852,  0.0725, -0.0681,\n",
       "         -0.0272, -0.0397,  0.2288, -0.1121, -0.0085, -0.0052, -0.0668, -0.1025,\n",
       "          0.0357,  0.1208,  0.0404, -0.1233, -0.1376, -0.1014, -0.0771, -0.1117,\n",
       "         -0.0681,  0.0049, -0.1784],\n",
       "        [-0.1427, -0.0765,  0.1349, -0.0037,  0.1386, -0.0160,  0.1671, -0.1175,\n",
       "         -0.1561,  0.2067,  0.0063,  0.1162, -0.0426, -0.1920,  0.1304, -0.0298,\n",
       "          0.1533, -0.0484,  0.0206, -0.0611,  0.1380, -0.0699, -0.1009,  0.1285,\n",
       "         -0.1050, -0.0298, -0.1057],\n",
       "        [-0.1444,  0.0969, -0.0357,  0.0047,  0.0320,  0.0874,  0.0977,  0.0310,\n",
       "         -0.0735,  0.0185, -0.0604, -0.2521, -0.0096,  0.1821, -0.1010,  0.0019,\n",
       "          0.1994, -0.1358, -0.0484,  0.0610,  0.0635, -0.1362, -0.0846, -0.1290,\n",
       "          0.1548, -0.0178, -0.1587],\n",
       "        [ 0.0964,  0.0643,  0.2006,  0.0830,  0.0836,  0.1673, -0.1653, -0.1555,\n",
       "         -0.0542,  0.0008,  0.1589,  0.0558, -0.0944,  0.1569,  0.0191, -0.1105,\n",
       "         -0.1450, -0.0644,  0.0536,  0.1196,  0.0744, -0.1677, -0.0351,  0.1449,\n",
       "         -0.1135,  0.1755,  0.0361],\n",
       "        [ 0.0350, -0.0270,  0.1234, -0.1490, -0.1399,  0.1617, -0.0601,  0.0917,\n",
       "         -0.0164,  0.1040, -0.0749,  0.0910,  0.1011, -0.1517,  0.1198,  0.0315,\n",
       "          0.1684,  0.1217,  0.0646,  0.0244,  0.0618, -0.0340,  0.0958, -0.1123,\n",
       "          0.0760,  0.1704, -0.1049],\n",
       "        [-0.1710, -0.0094,  0.0144,  0.0782,  0.1190,  0.1037, -0.0155,  0.1315,\n",
       "         -0.0182, -0.0756,  0.0443,  0.1926, -0.0185,  0.0841, -0.1416,  0.1126,\n",
       "          0.1474,  0.1743, -0.1681,  0.0695,  0.0852, -0.1461,  0.1249, -0.1660,\n",
       "         -0.0817,  0.0510,  0.0606],\n",
       "        [ 0.0672,  0.0502, -0.1601,  0.0654,  0.0425,  0.0154,  0.0272, -0.1369,\n",
       "         -0.1660,  0.0682,  0.0675, -0.1491,  0.0985, -0.1747, -0.0546,  0.1641,\n",
       "         -0.0907,  0.0718,  0.0950, -0.0617,  0.0802,  0.0943,  0.1252, -0.0005,\n",
       "         -0.1937,  0.0949, -0.1559],\n",
       "        [-0.0968,  0.0352,  0.0573, -0.1230,  0.0065,  0.0847,  0.0457, -0.0910,\n",
       "         -0.0354,  0.0934,  0.1039, -0.1737, -0.0582, -0.0842,  0.0580,  0.0954,\n",
       "         -0.0394,  0.1833,  0.0254, -0.1434, -0.0599, -0.1207,  0.0667,  0.1653,\n",
       "          0.1686,  0.1161,  0.1292],\n",
       "        [ 0.0586,  0.0301, -0.0405, -0.1412, -0.0177,  0.1443, -0.1167, -0.1251,\n",
       "          0.1026,  0.2707, -0.0441,  0.0246, -0.1885,  0.0945, -0.1433, -0.0347,\n",
       "         -0.0311, -0.0566, -0.1126, -0.0841,  0.0462, -0.1027, -0.0153, -0.1893,\n",
       "         -0.1215, -0.0328,  0.0179],\n",
       "        [-0.1062,  0.1182,  0.1801, -0.1266, -0.0668, -0.0649, -0.1420,  0.0911,\n",
       "          0.0277, -0.0415,  0.0984, -0.1419, -0.1563,  0.0379,  0.0675,  0.1467,\n",
       "         -0.0786, -0.0518, -0.0833, -0.0047, -0.1125,  0.0479,  0.0133, -0.1585,\n",
       "         -0.0301, -0.1761, -0.1814],\n",
       "        [-0.0938, -0.0214,  0.0502,  0.1838,  0.0314, -0.0302,  0.0498, -0.1398,\n",
       "         -0.0241,  0.1031, -0.0529,  0.1399, -0.1364,  0.0204, -0.0808,  0.0796,\n",
       "         -0.0918, -0.1217,  0.1630,  0.1279, -0.1195,  0.1279,  0.0412,  0.1062,\n",
       "          0.1131,  0.1642, -0.0890],\n",
       "        [-0.1638,  0.1496, -0.0925, -0.0513,  0.0761,  0.1609,  0.0850, -0.1657,\n",
       "          0.1335,  0.0852,  0.0477,  0.0067,  0.0353,  0.0046,  0.0548, -0.1047,\n",
       "          0.1070, -0.0553,  0.1221,  0.0874,  0.0544,  0.0959,  0.1543,  0.0457,\n",
       "         -0.1197, -0.1324, -0.0046],\n",
       "        [-0.0496, -0.0899,  0.1453,  0.0969,  0.0475,  0.1424, -0.2292,  0.0740,\n",
       "         -0.0156,  0.1233, -0.0676, -0.1066, -0.1679, -0.0608, -0.0167, -0.0416,\n",
       "          0.0850,  0.1121,  0.2119, -0.0603,  0.1648,  0.0595, -0.0851, -0.0988,\n",
       "         -0.0607, -0.0439,  0.0977],\n",
       "        [-0.1051, -0.1330,  0.0802, -0.0399, -0.1562, -0.0730,  0.0564, -0.0392,\n",
       "          0.1048,  0.1360, -0.0626, -0.1054,  0.0310,  0.1446,  0.1217,  0.1560,\n",
       "          0.0922,  0.1506,  0.1263,  0.1972,  0.0308, -0.1483, -0.1064, -0.0524,\n",
       "         -0.1032, -0.0659,  0.0447],\n",
       "        [ 0.0385,  0.0711, -0.1928,  0.0268, -0.0430,  0.0186,  0.0586,  0.1280,\n",
       "         -0.1819,  0.0062, -0.1062,  0.1479, -0.1585,  0.0678,  0.1190, -0.0165,\n",
       "         -0.1417,  0.1791,  0.0863,  0.2173, -0.0580,  0.0677, -0.1442, -0.2034,\n",
       "          0.1227, -0.0784, -0.0060],\n",
       "        [-0.0955, -0.1620, -0.1336, -0.0201,  0.0406,  0.0808, -0.0173,  0.0824,\n",
       "         -0.0684,  0.1449, -0.0524,  0.0645,  0.1089,  0.2385,  0.0951,  0.0684,\n",
       "         -0.0698, -0.0297,  0.1703, -0.0936,  0.1287, -0.0611,  0.1397, -0.0078,\n",
       "         -0.0837, -0.0155, -0.1124],\n",
       "        [ 0.0328, -0.1385, -0.0401,  0.1419, -0.0453,  0.1825,  0.0350, -0.1370,\n",
       "          0.0730, -0.1053, -0.0710, -0.0929, -0.1906, -0.0505,  0.1739,  0.0768,\n",
       "          0.0858, -0.2032, -0.0429, -0.0108,  0.0829, -0.1608,  0.1155,  0.0301,\n",
       "          0.1249, -0.0626,  0.1365],\n",
       "        [ 0.1161,  0.0408, -0.0170,  0.2049, -0.1181, -0.0744,  0.0605,  0.1620,\n",
       "          0.1152,  0.2119,  0.1152, -0.0250, -0.1473,  0.0847,  0.0914, -0.1162,\n",
       "          0.0497,  0.0582, -0.0352, -0.0456,  0.1228,  0.0055,  0.1684, -0.0878,\n",
       "         -0.0371, -0.0724, -0.0828],\n",
       "        [ 0.0056, -0.0490, -0.0327,  0.1023, -0.1598,  0.1561, -0.1728,  0.1182,\n",
       "         -0.1150,  0.0408, -0.1242, -0.0235,  0.0922, -0.0483,  0.0351,  0.0448,\n",
       "         -0.0349,  0.0594, -0.1484,  0.1139, -0.1813,  0.0578,  0.0923,  0.2307,\n",
       "         -0.0063, -0.1267,  0.0142],\n",
       "        [-0.0588, -0.0846,  0.0688,  0.0992,  0.0799,  0.1391,  0.1416, -0.0529,\n",
       "          0.1326,  0.0582, -0.1298, -0.1305,  0.1210, -0.0355,  0.0280, -0.0615,\n",
       "         -0.1931,  0.1106, -0.1151, -0.0130,  0.1529,  0.0386,  0.0461, -0.0940,\n",
       "          0.1305, -0.0575, -0.1124],\n",
       "        [-0.1340, -0.0470, -0.1487, -0.0557,  0.0199, -0.0124,  0.0062,  0.1722,\n",
       "          0.1734, -0.0082,  0.0233, -0.1337, -0.1107, -0.0863,  0.0646, -0.0648,\n",
       "         -0.0385, -0.0510, -0.0377,  0.1181,  0.0078, -0.0826, -0.0192,  0.0562,\n",
       "         -0.1101,  0.1687, -0.0484],\n",
       "        [ 0.0058, -0.0955, -0.0672,  0.0207,  0.0367, -0.0820, -0.2090, -0.1793,\n",
       "         -0.0056, -0.0721, -0.0011, -0.1095, -0.0784,  0.1463,  0.1668,  0.0057,\n",
       "          0.1378,  0.1701, -0.1166, -0.0285, -0.0907,  0.1067,  0.0700,  0.0668,\n",
       "          0.0402, -0.0087, -0.1766],\n",
       "        [-0.1843, -0.1064,  0.0930, -0.0498, -0.1135, -0.1061, -0.1017, -0.1386,\n",
       "         -0.1004,  0.0684,  0.1270, -0.0218,  0.0336, -0.0795,  0.0864, -0.1535,\n",
       "         -0.0792, -0.0287, -0.1361, -0.0304,  0.0785,  0.0924,  0.1543, -0.1558,\n",
       "         -0.0479,  0.1688,  0.1124],\n",
       "        [ 0.1170, -0.0986,  0.1366, -0.1685,  0.0970,  0.0425,  0.0848,  0.1219,\n",
       "         -0.1401,  0.0676,  0.0791, -0.1203, -0.0069,  0.0645,  0.0206,  0.0318,\n",
       "          0.0504,  0.0771, -0.1034,  0.1122, -0.1470,  0.2280,  0.1704, -0.0644,\n",
       "         -0.0359,  0.0971,  0.0022]], device='cuda:1')"
      ]
     },
     "execution_count": 19,
     "metadata": {},
     "output_type": "execute_result"
    }
   ],
   "source": [
    "# Do the linear analogy for keys first\n",
    "key_repr"
   ]
  },
  {
   "cell_type": "code",
   "execution_count": 23,
   "id": "appropriate-jason",
   "metadata": {},
   "outputs": [],
   "source": [
    "key_repr_normalized = key_repr / torch.linalg.norm(key_repr, ord=2, dim=-1).view(-1,1)"
   ]
  },
  {
   "cell_type": "code",
   "execution_count": 52,
   "id": "virtual-winner",
   "metadata": {
    "scrolled": true
   },
   "outputs": [
    {
     "name": "stdout",
     "output_type": "stream",
     "text": [
      "torch.Size([27])\n",
      "torch.Size([27])\n",
      "torch.Size([27])\n",
      "torch.Size([27])\n",
      "torch.Size([27])\n",
      "torch.Size([27])\n",
      "torch.Size([27])\n",
      "torch.Size([27])\n",
      "torch.Size([27])\n",
      "torch.Size([27])\n",
      "torch.Size([27])\n",
      "torch.Size([27])\n",
      "torch.Size([27])\n",
      "torch.Size([27])\n",
      "torch.Size([27])\n",
      "torch.Size([27])\n",
      "torch.Size([27])\n",
      "torch.Size([27])\n",
      "torch.Size([27])\n",
      "torch.Size([27])\n",
      "torch.Size([27])\n",
      "torch.Size([27])\n",
      "torch.Size([27])\n",
      "torch.Size([27])\n",
      "torch.Size([27])\n",
      "torch.Size([27])\n",
      "torch.Size([27])\n"
     ]
    },
    {
     "data": {
      "text/plain": [
       "(array([ 27.,  54.,   0.,   0.,  54.,  54.,  54.,  54.,  54.,  27.,  81.,\n",
       "         81., 108.,   0.,   0.,   0.,  27.,   0.,   0.,  27.,   0.,   0.,\n",
       "          0.,   0.,   0.,   0.,   0.,   0.,   0.,   0.,   0.,   0.,   0.,\n",
       "          0.,   0.,   0.,   0.,   0.,   0.,   0.,   0.,   0.,   0.,   0.,\n",
       "          0.,   0.,   0.,   0.,   0.,  27.]),\n",
       " array([-0.08457807, -0.07557318, -0.06656829, -0.0575634 , -0.0485585 ,\n",
       "        -0.03955361, -0.03054872, -0.02154382, -0.01253893, -0.00353404,\n",
       "         0.00547085,  0.01447575,  0.02348064,  0.03248553,  0.04149043,\n",
       "         0.05049532,  0.05950021,  0.0685051 ,  0.07751   ,  0.08651489,\n",
       "         0.09551978,  0.10452468,  0.11352957,  0.12253446,  0.13153935,\n",
       "         0.14054425,  0.14954914,  0.15855403,  0.16755893,  0.17656382,\n",
       "         0.18556871,  0.1945736 ,  0.2035785 ,  0.21258339,  0.22158828,\n",
       "         0.23059318,  0.23959807,  0.24860296,  0.25760785,  0.26661275,\n",
       "         0.27561764,  0.28462253,  0.29362743,  0.30263232,  0.31163721,\n",
       "         0.3206421 ,  0.329647  ,  0.33865189,  0.34765678,  0.35666168,\n",
       "         0.36566657]),\n",
       " <BarContainer object of 50 artists>)"
      ]
     },
     "execution_count": 52,
     "metadata": {},
     "output_type": "execute_result"
    },
    {
     "data": {
      "image/png": "[encoded data removed]",
      "text/plain": [
       "<Figure size 432x288 with 1 Axes>"
      ]
     },
     "metadata": {
      "needs_background": "light"
     },
     "output_type": "display_data"
    }
   ],
   "source": [
    "# unnormalized\n",
    "distances = []\n",
    "\n",
    "for i in range(27):\n",
    "    nn_idx, nn_dists = find_nn(v=key_repr[0], Wv=key_repr, similarity_fn=find_dotproduct, k=27)\n",
    "    distances += nn_dists.tolist()\n",
    "    \n",
    "import matplotlib.pyplot as plt\n",
    "import numpy as np\n",
    "plt.hist(distances, bins=50)"
   ]
  },
  {
   "cell_type": "code",
   "execution_count": 55,
   "id": "tamil-guarantee",
   "metadata": {
    "scrolled": true
   },
   "outputs": [
    {
     "name": "stdout",
     "output_type": "stream",
     "text": [
      "torch.Size([27])\n",
      "torch.Size([27])\n",
      "torch.Size([27])\n",
      "torch.Size([27])\n",
      "torch.Size([27])\n",
      "torch.Size([27])\n",
      "torch.Size([27])\n",
      "torch.Size([27])\n",
      "torch.Size([27])\n",
      "torch.Size([27])\n",
      "torch.Size([27])\n",
      "torch.Size([27])\n",
      "torch.Size([27])\n",
      "torch.Size([27])\n",
      "torch.Size([27])\n",
      "torch.Size([27])\n",
      "torch.Size([27])\n",
      "torch.Size([27])\n",
      "torch.Size([27])\n",
      "torch.Size([27])\n",
      "torch.Size([27])\n",
      "torch.Size([27])\n",
      "torch.Size([27])\n",
      "torch.Size([27])\n",
      "torch.Size([27])\n",
      "torch.Size([27])\n",
      "torch.Size([27])\n"
     ]
    },
    {
     "data": {
      "text/plain": [
       "(array([ 27.,  27.,  27.,   0.,  54.,  54.,  54.,  54.,  27.,  27.,  27.,\n",
       "         81., 108.,  81.,   0.,   0.,   0.,  27.,   0.,  27.,   0.,   0.,\n",
       "          0.,   0.,   0.,   0.,   0.,   0.,   0.,   0.,   0.,   0.,   0.,\n",
       "          0.,   0.,   0.,   0.,   0.,   0.,   0.,   0.,   0.,   0.,   0.,\n",
       "          0.,   0.,   0.,   0.,   0.,  27.]),\n",
       " array([-0.24802266, -0.22306221, -0.19810175, -0.17314129, -0.14818084,\n",
       "        -0.12322038, -0.09825993, -0.07329947, -0.04833902, -0.02337856,\n",
       "         0.0015819 ,  0.02654235,  0.05150281,  0.07646326,  0.10142372,\n",
       "         0.12638417,  0.15134463,  0.17630508,  0.20126554,  0.226226  ,\n",
       "         0.25118645,  0.27614691,  0.30110736,  0.32606782,  0.35102827,\n",
       "         0.37598873,  0.40094918,  0.42590964,  0.4508701 ,  0.47583055,\n",
       "         0.50079101,  0.52575146,  0.55071192,  0.57567237,  0.60063283,\n",
       "         0.62559329,  0.65055374,  0.6755142 ,  0.70047465,  0.72543511,\n",
       "         0.75039556,  0.77535602,  0.80031647,  0.82527693,  0.85023739,\n",
       "         0.87519784,  0.9001583 ,  0.92511875,  0.95007921,  0.97503966,\n",
       "         1.00000012]),\n",
       " <BarContainer object of 50 artists>)"
      ]
     },
     "execution_count": 55,
     "metadata": {},
     "output_type": "execute_result"
    },
    {
     "data": {
      "image/png": "[encoded data removed]",
      "text/plain": [
       "<Figure size 432x288 with 1 Axes>"
      ]
     },
     "metadata": {
      "needs_background": "light"
     },
     "output_type": "display_data"
    }
   ],
   "source": [
    "distances = []\n",
    "\n",
    "for i in range(27):\n",
    "    nn_idx, nn_dists = find_nn(v=key_repr_normalized[0], Wv=key_repr_normalized, similarity_fn=find_cos, k=27)\n",
    "    distances += nn_dists.tolist()\n",
    "    \n",
    "import matplotlib.pyplot as plt\n",
    "import numpy as np\n",
    "plt.hist(distances, bins=50)"
   ]
  },
  {
   "cell_type": "code",
   "execution_count": 56,
   "id": "straight-click",
   "metadata": {},
   "outputs": [
    {
     "data": {
      "text/plain": [
       "(0.04986089455826979, 0.0226185692957154, 16.48893701657653)"
      ]
     },
     "execution_count": 56,
     "metadata": {},
     "output_type": "execute_result"
    }
   ],
   "source": [
    "np.var(distances), np.mean(distances), np.sum(distances)"
   ]
  },
  {
   "cell_type": "code",
   "execution_count": 13,
   "id": "precious-palace",
   "metadata": {},
   "outputs": [],
   "source": [
    "card2idx_lookup, idx2card_lookup = construct_card_idx_lookup(game_data['num_attributes'], game_data['num_attr_vals'])\n",
    "\n",
    "\n",
    "def linear_analogy_by_props(propertiesA, propertiesB, propertiesC, card2idx_lookup, idx2card_lookup):\n",
    "    keyidxA = card2idx_lookup[propertiesA]\n",
    "    keyidxB = card2idx_lookup[propertiesB]\n",
    "    keyidxC = card2idx_lookup[propertiesC]\n",
    "\n",
    "    print(keyidxA, keyidxB, keyidxC)\n",
    "\n",
    "    vA = key_repr[keyidxA]\n",
    "    vB = key_repr[keyidxB]\n",
    "    vC = key_repr[keyidxC]\n",
    "\n",
    "    nns_idx, nns_distances = analogy(vA, vB, vC, key_repr, similarity_fn=find_cos, k=None)\n",
    "    nns_properties = [idx2card_lookup[idx.item()] for idx in nns_idx]\n",
    "    print(nns_idx, nns_distances)\n",
    "    print(nns_properties)"
   ]
  },
  {
   "cell_type": "code",
   "execution_count": null,
   "id": "occupied-woman",
   "metadata": {},
   "outputs": [],
   "source": [
    "# find a query that 27 got right, but 16 got wrong.\n",
    "\n"
   ]
  },
  {
   "cell_type": "code",
   "execution_count": 14,
   "id": "historic-father",
   "metadata": {},
   "outputs": [
    {
     "name": "stdout",
     "output_type": "stream",
     "text": [
      "25 24 13\n",
      "torch.Size([27])\n",
      "tensor([13, 24, 21, 17,  0,  5, 19,  6, 18,  9, 16, 14, 12,  1, 26, 10,  4, 20,\n",
      "        15, 22, 23,  2,  3,  8, 11,  7, 25], device='cuda:1') tensor([ 5.9432e-01,  5.2089e-01,  1.8108e-01,  1.7092e-01,  1.5072e-01,\n",
      "         9.9470e-02,  8.8152e-02,  5.8378e-02,  5.0742e-02,  2.9587e-02,\n",
      "         2.6836e-02,  2.3646e-02, -3.2075e-04, -9.3897e-03, -3.5618e-02,\n",
      "        -4.0437e-02, -4.1036e-02, -5.6920e-02, -6.9848e-02, -8.6352e-02,\n",
      "        -1.0769e-01, -1.0988e-01, -1.1066e-01, -1.4922e-01, -1.7888e-01,\n",
      "        -1.9084e-01, -5.6350e-01], device='cuda:1')\n",
      "[(1, 1, 1), (2, 2, 0), (2, 1, 0), (1, 2, 2), (0, 0, 0), (0, 1, 2), (2, 0, 1), (0, 2, 0), (2, 0, 0), (1, 0, 0), (1, 2, 1), (1, 1, 2), (1, 1, 0), (0, 0, 1), (2, 2, 2), (1, 0, 1), (0, 1, 1), (2, 0, 2), (1, 2, 0), (2, 1, 1), (2, 1, 2), (0, 0, 2), (0, 1, 0), (0, 2, 2), (1, 0, 2), (0, 2, 1), (2, 2, 1)]\n"
     ]
    }
   ],
   "source": [
    "linear_analogy_by_props(\n",
    "    propertiesA = (2,2,1), \n",
    "    propertiesB = (2,2,0), \n",
    "    propertiesC = (1,1,1), \n",
    "    card2idx_lookup=card2idx_lookup, \n",
    "    idx2card_lookup=idx2card_lookup)"
   ]
  },
  {
   "cell_type": "code",
   "execution_count": 15,
   "id": "manual-legislation",
   "metadata": {},
   "outputs": [
    {
     "name": "stdout",
     "output_type": "stream",
     "text": [
      "7 25 8\n",
      "torch.Size([27])\n",
      "tensor([ 8, 25,  6, 11,  3,  1, 23, 12, 20, 24, 26, 14, 22, 18,  0, 19,  5, 13,\n",
      "         9, 15,  4, 10, 16,  2, 17, 21,  7], device='cuda:1') tensor([ 0.5836,  0.5672,  0.1414,  0.1334,  0.0939,  0.0706,  0.0654,  0.0504,\n",
      "         0.0499,  0.0454,  0.0359,  0.0162,  0.0008, -0.0127, -0.0160, -0.0195,\n",
      "        -0.0250, -0.0378, -0.0395, -0.0437, -0.0445, -0.0795, -0.1001, -0.1075,\n",
      "        -0.1169, -0.1456, -0.4116], device='cuda:1')\n",
      "[(0, 2, 2), (2, 2, 1), (0, 2, 0), (1, 0, 2), (0, 1, 0), (0, 0, 1), (2, 1, 2), (1, 1, 0), (2, 0, 2), (2, 2, 0), (2, 2, 2), (1, 1, 2), (2, 1, 1), (2, 0, 0), (0, 0, 0), (2, 0, 1), (0, 1, 2), (1, 1, 1), (1, 0, 0), (1, 2, 0), (0, 1, 1), (1, 0, 1), (1, 2, 1), (0, 0, 2), (1, 2, 2), (2, 1, 0), (0, 2, 1)]\n"
     ]
    }
   ],
   "source": [
    "linear_analogy_by_props(\n",
    "    propertiesA = (0,2,1), \n",
    "    propertiesB = (2,2,1), \n",
    "    propertiesC = (0,2,2), \n",
    "    card2idx_lookup=card2idx_lookup, \n",
    "    idx2card_lookup=idx2card_lookup)"
   ]
  },
  {
   "cell_type": "code",
   "execution_count": 16,
   "id": "wound-actress",
   "metadata": {},
   "outputs": [
    {
     "name": "stdout",
     "output_type": "stream",
     "text": [
      "7 19 26\n",
      "torch.Size([27])\n",
      "tensor([19, 26, 24,  0,  5, 21,  6, 13, 12, 10, 20, 23, 22, 14, 25,  2,  1, 11,\n",
      "         9,  3,  8, 17, 16, 15, 18,  4,  7], device='cuda:1') tensor([ 0.5747,  0.3474,  0.1983,  0.1816,  0.1047,  0.0855,  0.0849,  0.0837,\n",
      "         0.0797,  0.0752,  0.0469,  0.0442,  0.0374,  0.0358,  0.0024,  0.0024,\n",
      "        -0.0129, -0.0178, -0.0693, -0.0710, -0.0777, -0.1023, -0.1083, -0.1164,\n",
      "        -0.1206, -0.1305, -0.5392], device='cuda:1')\n",
      "[(2, 0, 1), (2, 2, 2), (2, 2, 0), (0, 0, 0), (0, 1, 2), (2, 1, 0), (0, 2, 0), (1, 1, 1), (1, 1, 0), (1, 0, 1), (2, 0, 2), (2, 1, 2), (2, 1, 1), (1, 1, 2), (2, 2, 1), (0, 0, 2), (0, 0, 1), (1, 0, 2), (1, 0, 0), (0, 1, 0), (0, 2, 2), (1, 2, 2), (1, 2, 1), (1, 2, 0), (2, 0, 0), (0, 1, 1), (0, 2, 1)]\n"
     ]
    }
   ],
   "source": [
    "linear_analogy_by_props(\n",
    "    propertiesA = (0,2,1), \n",
    "    propertiesB = (2,0,1), \n",
    "    propertiesC = (2,2,2), \n",
    "    card2idx_lookup=card2idx_lookup, \n",
    "    idx2card_lookup=idx2card_lookup)"
   ]
  },
  {
   "cell_type": "code",
   "execution_count": 17,
   "id": "rough-values",
   "metadata": {},
   "outputs": [
    {
     "name": "stdout",
     "output_type": "stream",
     "text": [
      "25 25 24\n",
      "torch.Size([27])\n",
      "tensor([24, 12, 21, 26,  3, 25,  0, 10, 19, 16, 20,  9,  2, 18,  5, 15, 13, 14,\n",
      "        22,  6,  7,  1, 17, 23,  8, 11,  4], device='cuda:1') tensor([ 1.0000,  0.2161,  0.1985,  0.1738,  0.1074,  0.1002,  0.0873,  0.0781,\n",
      "         0.0746,  0.0638,  0.0627,  0.0606,  0.0483,  0.0294,  0.0180, -0.0106,\n",
      "        -0.0149, -0.0169, -0.0192, -0.0278, -0.0422, -0.0437, -0.0440, -0.0567,\n",
      "        -0.0676, -0.0707, -0.0987], device='cuda:1')\n",
      "[(2, 2, 0), (1, 1, 0), (2, 1, 0), (2, 2, 2), (0, 1, 0), (2, 2, 1), (0, 0, 0), (1, 0, 1), (2, 0, 1), (1, 2, 1), (2, 0, 2), (1, 0, 0), (0, 0, 2), (2, 0, 0), (0, 1, 2), (1, 2, 0), (1, 1, 1), (1, 1, 2), (2, 1, 1), (0, 2, 0), (0, 2, 1), (0, 0, 1), (1, 2, 2), (2, 1, 2), (0, 2, 2), (1, 0, 2), (0, 1, 1)]\n"
     ]
    }
   ],
   "source": [
    "linear_analogy_by_props(\n",
    "    propertiesA = (2,2,1), \n",
    "    propertiesB = (2,2,1), \n",
    "    propertiesC = (2,2,0), \n",
    "    card2idx_lookup=card2idx_lookup, \n",
    "    idx2card_lookup=idx2card_lookup)"
   ]
  },
  {
   "cell_type": "code",
   "execution_count": 18,
   "id": "familiar-collective",
   "metadata": {},
   "outputs": [
    {
     "name": "stdout",
     "output_type": "stream",
     "text": [
      "7 19 8\n",
      "torch.Size([27])\n",
      "tensor([19,  8,  1,  5,  0,  6, 11, 23, 14, 20, 22, 24, 13, 18, 15, 16, 21, 10,\n",
      "         3, 12,  4,  2, 17, 25,  9, 26,  7], device='cuda:1') tensor([ 6.2927e-01,  5.0565e-01,  2.5410e-01,  2.0043e-01,  1.6078e-01,\n",
      "         1.3743e-01,  1.0221e-01,  7.0698e-02,  6.6436e-02,  5.0487e-02,\n",
      "         3.1856e-02,  2.9084e-02,  4.8149e-04, -1.0118e-02, -1.8662e-02,\n",
      "        -3.2290e-02, -3.4671e-02, -5.5464e-02, -5.6432e-02, -7.1705e-02,\n",
      "        -7.2535e-02, -7.8670e-02, -8.0427e-02, -9.1428e-02, -2.0399e-01,\n",
      "        -2.3895e-01, -5.0795e-01], device='cuda:1')\n",
      "[(2, 0, 1), (0, 2, 2), (0, 0, 1), (0, 1, 2), (0, 0, 0), (0, 2, 0), (1, 0, 2), (2, 1, 2), (1, 1, 2), (2, 0, 2), (2, 1, 1), (2, 2, 0), (1, 1, 1), (2, 0, 0), (1, 2, 0), (1, 2, 1), (2, 1, 0), (1, 0, 1), (0, 1, 0), (1, 1, 0), (0, 1, 1), (0, 0, 2), (1, 2, 2), (2, 2, 1), (1, 0, 0), (2, 2, 2), (0, 2, 1)]\n"
     ]
    }
   ],
   "source": [
    "linear_analogy_by_props(\n",
    "    propertiesA = (0,2,1), \n",
    "    propertiesB = (2,0,1), \n",
    "    propertiesC = (0,2,2), \n",
    "    card2idx_lookup=card2idx_lookup, \n",
    "    idx2card_lookup=idx2card_lookup)"
   ]
  },
  {
   "cell_type": "code",
   "execution_count": 19,
   "id": "honey-brand",
   "metadata": {},
   "outputs": [
    {
     "name": "stdout",
     "output_type": "stream",
     "text": [
      "10 19 17\n",
      "torch.Size([27])\n",
      "tensor([17, 19,  1,  0, 20,  5, 13, 21, 18,  8, 16, 15, 11, 22, 23,  2, 24, 14,\n",
      "        12,  6,  7,  4, 26, 25,  9,  3, 10], device='cuda:1') tensor([ 0.6621,  0.4171,  0.2801,  0.1884,  0.1854,  0.1191,  0.1019,  0.0783,\n",
      "         0.0723,  0.0655,  0.0533,  0.0518,  0.0305,  0.0282, -0.0138, -0.0203,\n",
      "        -0.0262, -0.0319, -0.0334, -0.0842, -0.0990, -0.1587, -0.1825, -0.2288,\n",
      "        -0.2484, -0.2989, -0.5968], device='cuda:1')\n",
      "[(1, 2, 2), (2, 0, 1), (0, 0, 1), (0, 0, 0), (2, 0, 2), (0, 1, 2), (1, 1, 1), (2, 1, 0), (2, 0, 0), (0, 2, 2), (1, 2, 1), (1, 2, 0), (1, 0, 2), (2, 1, 1), (2, 1, 2), (0, 0, 2), (2, 2, 0), (1, 1, 2), (1, 1, 0), (0, 2, 0), (0, 2, 1), (0, 1, 1), (2, 2, 2), (2, 2, 1), (1, 0, 0), (0, 1, 0), (1, 0, 1)]\n"
     ]
    }
   ],
   "source": [
    "linear_analogy_by_props(\n",
    "    propertiesA = (1,0,1), \n",
    "    propertiesB = (2,0,1), \n",
    "    propertiesC = (1,2,2), \n",
    "    card2idx_lookup=card2idx_lookup, \n",
    "    idx2card_lookup=idx2card_lookup)"
   ]
  },
  {
   "cell_type": "code",
   "execution_count": null,
   "id": "finnish-crisis",
   "metadata": {},
   "outputs": [],
   "source": [
    "# Look at distance between one card and all the other cards"
   ]
  },
  {
   "cell_type": "code",
   "execution_count": null,
   "id": "refined-palmer",
   "metadata": {},
   "outputs": [],
   "source": []
  }
 ],
 "metadata": {
  "kernelspec": {
   "display_name": "Python 3",
   "language": "python",
   "name": "python3"
  },
  "language_info": {
   "codemirror_mode": {
    "name": "ipython",
    "version": 3
   },
   "file_extension": ".py",
   "mimetype": "text/x-python",
   "name": "python",
   "nbconvert_exporter": "python",
   "pygments_lexer": "ipython3",
   "version": "3.8.3"
  }
 },
 "nbformat": 4,
 "nbformat_minor": 5
}

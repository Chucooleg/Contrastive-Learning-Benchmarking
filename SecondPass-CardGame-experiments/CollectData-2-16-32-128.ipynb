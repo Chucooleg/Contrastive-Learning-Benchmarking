{
 "cells": [
  {
   "cell_type": "code",
   "execution_count": 11,
   "id": "serial-liability",
   "metadata": {},
   "outputs": [
    {
     "name": "stdout",
     "output_type": "stream",
     "text": [
      "The autoreload extension is already loaded. To reload it, use:\n",
      "  %reload_ext autoreload\n"
     ]
    }
   ],
   "source": [
    "%load_ext autoreload\n",
    "%autoreload 2\n",
    "\n",
    "import numpy as np\n",
    "import json\n",
    "import itertools\n",
    "from dataraw_sampling import sample_dataset\n",
    "from util_distribution import derive_game_setup_stats"
   ]
  },
  {
   "cell_type": "code",
   "execution_count": 12,
   "id": "creative-romania",
   "metadata": {},
   "outputs": [
    {
     "name": "stdout",
     "output_type": "stream",
     "text": [
      "(2, 4, 8, 16)\n",
      "(32, 64, 128)\n"
     ]
    }
   ],
   "source": [
    "a = (2**1, 2**2, 2**3, 2**4)\n",
    "b = (2**5, 2**6, 2**7)\n",
    "print(a)\n",
    "print(b)\n"
   ]
  },
  {
   "cell_type": "code",
   "execution_count": null,
   "id": "stopped-glucose",
   "metadata": {
    "scrolled": true
   },
   "outputs": [
    {
     "name": "stderr",
     "output_type": "stream",
     "text": [
      "  0%|          | 26/8392704 [00:00<9:24:13, 247.91it/s]"
     ]
    },
    {
     "name": "stdout",
     "output_type": "stream",
     "text": [
      "-------------------------------------------------------\n",
      "num_attrs= 2 num_attr_vals= 32\n",
      "sparsity= 0.0028658536585365853\n"
     ]
    },
    {
     "name": "stderr",
     "output_type": "stream",
     "text": [
      "100%|██████████| 8392704/8392704 [10:01:15<00:00, 232.64it/s]   \n"
     ]
    },
    {
     "name": "stdout",
     "output_type": "stream",
     "text": [
      "Sparsity Estimate: 0.0028656259094502617\n",
      "--- 36075.77066540718 seconds ---\n"
     ]
    },
    {
     "name": "stderr",
     "output_type": "stream",
     "text": [
      "  0%|          | 10/8392704 [00:00<25:27:14, 91.59it/s]"
     ]
    },
    {
     "name": "stdout",
     "output_type": "stream",
     "text": [
      "-------------------------------------------------------\n",
      "num_attrs= 2 num_attr_vals= 64\n",
      "sparsity= 0.0007246155723700269\n"
     ]
    },
    {
     "name": "stderr",
     "output_type": "stream",
     "text": [
      "100%|██████████| 8392704/8392704 [41:08:21<00:00, 56.67it/s]     \n"
     ]
    },
    {
     "name": "stdout",
     "output_type": "stream",
     "text": [
      "Sparsity Estimate: 0.0007248049962666999\n",
      "--- 148101.42866539955 seconds ---\n"
     ]
    },
    {
     "name": "stderr",
     "output_type": "stream",
     "text": [
      "  0%|          | 1/8392704 [00:00<375:33:03,  6.21it/s]"
     ]
    },
    {
     "name": "stdout",
     "output_type": "stream",
     "text": [
      "-------------------------------------------------------\n",
      "num_attrs= 2 num_attr_vals= 128\n",
      "sparsity= 0.00018214067744888617\n"
     ]
    },
    {
     "name": "stderr",
     "output_type": "stream",
     "text": [
      " 82%|████████▏ | 6886569/8392704 [133:57:51<33:39:05, 12.43it/s] "
     ]
    }
   ],
   "source": [
    "N_train = 2**23\n",
    "N_val = 2**12\n",
    "\n",
    "for num_attrs in a:\n",
    "    for num_attr_vals in b:\n",
    "        print('-------------------------------------------------------')\n",
    "        print('num_attrs=',num_attrs, 'num_attr_vals=',num_attr_vals)\n",
    "        sparsity = derive_game_setup_stats(num_attrs, num_attr_vals)['sparsity']\n",
    "        print('sparsity=', sparsity)\n",
    "        data = sample_dataset(num_attrs, num_attr_vals, N_train, N_val)\n",
    "        with open('../Raw_Datasets/{}Attr-{}Vals-2hat{}Train-2hat{}Val.json'.format(\n",
    "            num_attrs, num_attr_vals, int(np.log2(N_train)), int(np.log2(N_val))), 'w') as f:\n",
    "            json.dump(data, f)        "
   ]
  },
  {
   "cell_type": "code",
   "execution_count": 6,
   "id": "filled-beach",
   "metadata": {},
   "outputs": [
    {
     "data": {
      "text/plain": [
       "[((3, 2), 0.52778, 8),\n",
       " ((3, 4), 0.17981, 64),\n",
       " ((3, 8), 0.04736, 512),\n",
       " ((3, 16), 0.01187, 4096)]"
      ]
     },
     "execution_count": 6,
     "metadata": {},
     "output_type": "execute_result"
    }
   ],
   "source": [
    "a = (3,)\n",
    "b = (2**1, 2**2, 2**3, 2**4)\n",
    "l = list(itertools.product(a, b))\n",
    "sorted([((i,j), round(derive_game_setup_stats(i, j)['sparsity'], 5),j**i) for i,j in l], key=lambda x:x[2])"
   ]
  },
  {
   "cell_type": "code",
   "execution_count": 16,
   "id": "rental-thickness",
   "metadata": {},
   "outputs": [
    {
     "data": {
      "text/plain": [
       "[((2, 2), 0.4, 4),\n",
       " ((2, 4), 0.14706, 16),\n",
       " ((4, 2), 0.64706, 16),\n",
       " ((2, 8), 0.04231, 64),\n",
       " ((2, 16), 0.01119, 256),\n",
       " ((4, 4), 0.22787, 256),\n",
       " ((8, 2), 0.8964, 256),\n",
       " ((4, 8), 0.06118, 4096),\n",
       " ((4, 16), 0.01555, 65536),\n",
       " ((8, 4), 0.40328, 65536),\n",
       " ((16, 2), 0.98996, 65536),\n",
       " ((8, 8), 0.11837, 16777216),\n",
       " ((8, 16), 0.03083, 4294967296),\n",
       " ((16, 4), 0.64393, 4294967296),\n",
       " ((16, 8), 0.22273, 281474976710656),\n",
       " ((16, 16), 0.0607, 18446744073709551616)]"
      ]
     },
     "execution_count": 16,
     "metadata": {},
     "output_type": "execute_result"
    }
   ],
   "source": [
    "a = (2**1, 2**2, 2**3, 2**4)\n",
    "b = (2**1, 2**2, 2**3, 2**4)\n",
    "l = list(itertools.product(a, b))\n",
    "sorted([((i,j), round(derive_game_setup_stats(i, j)['sparsity'], 5),j**i) for i,j in l], key=lambda x:x[2])"
   ]
  },
  {
   "cell_type": "code",
   "execution_count": 17,
   "id": "current-production",
   "metadata": {
    "scrolled": false
   },
   "outputs": [
    {
     "data": {
      "text/plain": [
       "[((2, 32), 0.00287, 1024),\n",
       " ((2, 64), 0.00072, 4096),\n",
       " ((4, 32), 0.0039, 1048576),\n",
       " ((4, 64), 0.00098, 16777216),\n",
       " ((8, 32), 0.00779, 1099511627776),\n",
       " ((8, 64), 0.00195, 281474976710656),\n",
       " ((16, 32), 0.01551, 1208925819614629174706176),\n",
       " ((16, 64), 0.0039, 79228162514264337593543950336)]"
      ]
     },
     "execution_count": 17,
     "metadata": {},
     "output_type": "execute_result"
    }
   ],
   "source": [
    "a = (2**1, 2**2, 2**3, 2**4)\n",
    "b = (2**5, 2**6)\n",
    "l = list(itertools.product(a, b))\n",
    "sorted([((i,j), round(derive_game_setup_stats(i, j)['sparsity'], 5),j**i) for i,j in l], key=lambda x:x[2])"
   ]
  },
  {
   "cell_type": "code",
   "execution_count": null,
   "id": "intense-throw",
   "metadata": {},
   "outputs": [],
   "source": []
  }
 ],
 "metadata": {
  "kernelspec": {
   "display_name": "Python 3",
   "language": "python",
   "name": "python3"
  },
  "language_info": {
   "codemirror_mode": {
    "name": "ipython",
    "version": 3
   },
   "file_extension": ".py",
   "mimetype": "text/x-python",
   "name": "python",
   "nbconvert_exporter": "python",
   "pygments_lexer": "ipython3",
   "version": "3.8.3"
  }
 },
 "nbformat": 4,
 "nbformat_minor": 5
}

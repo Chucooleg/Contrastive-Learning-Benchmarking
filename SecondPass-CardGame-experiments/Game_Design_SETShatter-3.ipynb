{
 "cells": [
  {
   "cell_type": "code",
   "execution_count": 3,
   "metadata": {},
   "outputs": [],
   "source": [
    "# from dataraw_sampling_SETShatter import *\n",
    "from collections import defaultdict, Counter\n",
    "import itertools\n",
    "import copy\n",
    "import random\n",
    "import json\n",
    "import operator as op\n",
    "from functools import reduce\n",
    "from tqdm import tqdm\n",
    "from itertools import chain, combinations\n",
    "import numpy as np\n",
    "import time"
   ]
  },
  {
   "cell_type": "code",
   "execution_count": null,
   "metadata": {},
   "outputs": [],
   "source": [
    "## Code -- can take in multiple tokens key now\n",
    "# specify vocab_by_property\n",
    "\n",
    "# Simple SET\n",
    "\n",
    "\n",
    "# Construct Lookup\n",
    "# Construct Resolve by Property\n",
    "\n",
    "# \n",
    "# Sample cards on the fly\n",
    "# \n",
    "\n",
    "\n",
    "\n",
    "# First do SET, and then SET with * in this notebook"
   ]
  },
  {
   "cell_type": "code",
   "execution_count": 4,
   "metadata": {},
   "outputs": [],
   "source": [
    "# need decode_key_to_vocab_token\n",
    "\n",
    "\n",
    "def construct_cardpair_answer_lookup(num_attributes, num_attr_vals, debug=False):\n",
    "    '''Simple SET'''\n",
    "    num_cards = num_attr_vals**num_attributes\n",
    "    lookup = {}\n",
    "    for card1, card2 in itertools.combinations(list(range(num_cards)), 2):\n",
    "        card1_properties = decode_key_idx(num_attributes, num_attr_vals, card1)\n",
    "        card2_properties = decode_key_idx(num_attributes, num_attr_vals, card2)\n",
    "        card3, card3_properties = eval_cardpair_by_idx(num_attributes, num_attr_vals, card1, card2, debug=debug)\n",
    "        if debug: print (card1_properties, card2_properties, card3_properties, card1, card2, card3)\n",
    "        lookup[(card1, card2)] = card3\n",
    "    for card in range(num_cards):\n",
    "        lookup[(card, card)] = card\n",
    "    return lookup\n",
    "\n",
    "def sample_one_training_datapoint(num_keys, cardpair_answer_lookup):\n",
    "    '''Simple SET'''\n",
    "    card1_idx = np.random.choice(num_keys)\n",
    "    card2_idx = np.random.choice(num_keys)\n",
    "\n",
    "    q_vocab_tokens = [card1_idx, card2_idx]\n",
    "    # int\n",
    "    k_vocab_tokens = cardpair_answer_lookup[(card1_idx, card2_idx)]\n",
    "\n",
    "    # list, list\n",
    "    return q_vocab_tokens, [k_vocab_tokens]\n"
   ]
  },
  {
   "cell_type": "code",
   "execution_count": 5,
   "metadata": {},
   "outputs": [],
   "source": [
    "def sample_queries(num_attributes, num_attr_vals, N_train, N_val, N_test):\n",
    "    '''Simple SET'''\n",
    "\n",
    "    num_keys = num_attr_vals**num_attributes\n",
    "    N = N_train + N_val + N_test\n",
    "    \n",
    "    tokens = []\n",
    "    gt_idxs = []\n",
    "\n",
    "    cardpair_answer_lookup = construct_cardpair_answer_lookup(num_attributes, num_attr_vals)\n",
    "    base_vocab_size =  num_keys\n",
    "    symbol_vocab_token_lookup = {\n",
    "        '(': base_vocab_size,\n",
    "        ')': base_vocab_size + 1,\n",
    "        'NULL': base_vocab_size + 2,\n",
    "        'SEP': base_vocab_size + 3,\n",
    "        'SOS': base_vocab_size + 4,\n",
    "        'EOS': base_vocab_size + 5,\n",
    "        'PAD': base_vocab_size + 6,\n",
    "        'PLH': base_vocab_size + 7,\n",
    "        '&': base_vocab_size + 8,\n",
    "        '|': base_vocab_size + 9,\n",
    "    }\n",
    "    \n",
    "    max_len_q = 2\n",
    "    for i in tqdm(range(N)):\n",
    "        q_vocab_tokens, k_vocab_tokens = sample_one_training_datapoint(num_keys, cardpair_answer_lookup)\n",
    "        gt_ks_idx = k_vocab_tokens\n",
    "\n",
    "        tokens.append((q_vocab_tokens, k_vocab_tokens))\n",
    "        gt_idxs.append(gt_ks_idx)\n",
    "        \n",
    "        # stats\n",
    "        max_len_q = max(max_len_q, len(q_tokens))\n",
    "\n",
    "        data = {\n",
    "            'num_attributes':num_attributes,\n",
    "            'num_attr_vals':num_attr_vals,\n",
    "            'nest_depth_int': None,\n",
    "            'key_support_size': num_keys,\n",
    "            'multiple_OR_sets_bool': None,\n",
    "\n",
    "            'query_length_multiplier': None,\n",
    "            'max_len_q': max_len_q,\n",
    "            'len_k': 1,\n",
    "            \n",
    "            #################################        \n",
    "            'train_gt_idxs': gt_idxs[:N_train],\n",
    "            'val_gt_idxs': gt_idxs[N_train:N_train+N_val],\n",
    "            'test_gt_idxs': gt_idxs[N_train+N_val:],\n",
    "            \n",
    "            'train_tokens': tokens[:N_train],\n",
    "            'val_tokens': tokens[N_train:N_train+N_val],\n",
    "            'test_tokens': tokens[N_train+N_val:],\n",
    "            \n",
    "            #################################\n",
    "\n",
    "            'vocab_size': base_vocab_size + len(symbol_vocab_token_lookup),\n",
    "            'symbol_vocab_token_lookup': symbol_vocab_token_lookup,\n",
    "            'vocab_by_property': False,\n",
    "\n",
    "            #################################\n",
    "        }\n",
    "\n",
    "        stats = {}\n",
    "\n",
    "        return data, stats"
   ]
  },
  {
   "cell_type": "code",
   "execution_count": 6,
   "metadata": {},
   "outputs": [
    {
     "output_type": "error",
     "ename": "NameError",
     "evalue": "name 'decode_key_idx' is not defined",
     "traceback": [
      "\u001b[1;31m---------------------------------------------------------------------------\u001b[0m",
      "\u001b[1;31mNameError\u001b[0m                                 Traceback (most recent call last)",
      "\u001b[1;32m<ipython-input-6-77a8cb21b442>\u001b[0m in \u001b[0;36m<module>\u001b[1;34m\u001b[0m\n\u001b[1;32m----> 1\u001b[1;33m \u001b[0mdata\u001b[0m\u001b[1;33m,\u001b[0m \u001b[0mstats\u001b[0m \u001b[1;33m=\u001b[0m \u001b[0msample_queries\u001b[0m\u001b[1;33m(\u001b[0m\u001b[1;36m4\u001b[0m\u001b[1;33m,\u001b[0m \u001b[1;36m3\u001b[0m\u001b[1;33m,\u001b[0m \u001b[0mN_train\u001b[0m\u001b[1;33m=\u001b[0m\u001b[1;36m100\u001b[0m\u001b[1;33m,\u001b[0m \u001b[0mN_val\u001b[0m\u001b[1;33m=\u001b[0m\u001b[1;36m100\u001b[0m\u001b[1;33m,\u001b[0m \u001b[0mN_test\u001b[0m\u001b[1;33m=\u001b[0m\u001b[1;36m100\u001b[0m\u001b[1;33m)\u001b[0m\u001b[1;33m\u001b[0m\u001b[1;33m\u001b[0m\u001b[0m\n\u001b[0m",
      "\u001b[1;32m<ipython-input-5-86df12e53411>\u001b[0m in \u001b[0;36msample_queries\u001b[1;34m(num_attributes, num_attr_vals, N_train, N_val, N_test)\u001b[0m\n\u001b[0;32m      8\u001b[0m     \u001b[0mgt_idxs\u001b[0m \u001b[1;33m=\u001b[0m \u001b[1;33m[\u001b[0m\u001b[1;33m]\u001b[0m\u001b[1;33m\u001b[0m\u001b[1;33m\u001b[0m\u001b[0m\n\u001b[0;32m      9\u001b[0m \u001b[1;33m\u001b[0m\u001b[0m\n\u001b[1;32m---> 10\u001b[1;33m     \u001b[0mcardpair_answer_lookup\u001b[0m \u001b[1;33m=\u001b[0m \u001b[0mconstruct_cardpair_answer_lookup\u001b[0m\u001b[1;33m(\u001b[0m\u001b[0mnum_attributes\u001b[0m\u001b[1;33m,\u001b[0m \u001b[0mnum_attr_vals\u001b[0m\u001b[1;33m)\u001b[0m\u001b[1;33m\u001b[0m\u001b[1;33m\u001b[0m\u001b[0m\n\u001b[0m\u001b[0;32m     11\u001b[0m     \u001b[0mbase_vocab_size\u001b[0m \u001b[1;33m=\u001b[0m  \u001b[0mnum_keys\u001b[0m\u001b[1;33m\u001b[0m\u001b[1;33m\u001b[0m\u001b[0m\n\u001b[0;32m     12\u001b[0m     symbol_vocab_token_lookup = {\n",
      "\u001b[1;32m<ipython-input-4-0e8309d19de8>\u001b[0m in \u001b[0;36mconstruct_cardpair_answer_lookup\u001b[1;34m(num_attributes, num_attr_vals, debug)\u001b[0m\n\u001b[0;32m      4\u001b[0m     \u001b[0mlookup\u001b[0m \u001b[1;33m=\u001b[0m \u001b[1;33m{\u001b[0m\u001b[1;33m}\u001b[0m\u001b[1;33m\u001b[0m\u001b[1;33m\u001b[0m\u001b[0m\n\u001b[0;32m      5\u001b[0m     \u001b[1;32mfor\u001b[0m \u001b[0mcard1\u001b[0m\u001b[1;33m,\u001b[0m \u001b[0mcard2\u001b[0m \u001b[1;32min\u001b[0m \u001b[0mitertools\u001b[0m\u001b[1;33m.\u001b[0m\u001b[0mcombinations\u001b[0m\u001b[1;33m(\u001b[0m\u001b[0mlist\u001b[0m\u001b[1;33m(\u001b[0m\u001b[0mrange\u001b[0m\u001b[1;33m(\u001b[0m\u001b[0mnum_cards\u001b[0m\u001b[1;33m)\u001b[0m\u001b[1;33m)\u001b[0m\u001b[1;33m,\u001b[0m \u001b[1;36m2\u001b[0m\u001b[1;33m)\u001b[0m\u001b[1;33m:\u001b[0m\u001b[1;33m\u001b[0m\u001b[1;33m\u001b[0m\u001b[0m\n\u001b[1;32m----> 6\u001b[1;33m         \u001b[0mcard1_properties\u001b[0m \u001b[1;33m=\u001b[0m \u001b[0mdecode_key_idx\u001b[0m\u001b[1;33m(\u001b[0m\u001b[0mnum_attributes\u001b[0m\u001b[1;33m,\u001b[0m \u001b[0mnum_attr_vals\u001b[0m\u001b[1;33m,\u001b[0m \u001b[0mcard1\u001b[0m\u001b[1;33m)\u001b[0m\u001b[1;33m\u001b[0m\u001b[1;33m\u001b[0m\u001b[0m\n\u001b[0m\u001b[0;32m      7\u001b[0m         \u001b[0mcard2_properties\u001b[0m \u001b[1;33m=\u001b[0m \u001b[0mdecode_key_idx\u001b[0m\u001b[1;33m(\u001b[0m\u001b[0mnum_attributes\u001b[0m\u001b[1;33m,\u001b[0m \u001b[0mnum_attr_vals\u001b[0m\u001b[1;33m,\u001b[0m \u001b[0mcard2\u001b[0m\u001b[1;33m)\u001b[0m\u001b[1;33m\u001b[0m\u001b[1;33m\u001b[0m\u001b[0m\n\u001b[0;32m      8\u001b[0m         \u001b[0mcard3\u001b[0m\u001b[1;33m,\u001b[0m \u001b[0mcard3_properties\u001b[0m \u001b[1;33m=\u001b[0m \u001b[0meval_cardpair_by_idx\u001b[0m\u001b[1;33m(\u001b[0m\u001b[0mnum_attributes\u001b[0m\u001b[1;33m,\u001b[0m \u001b[0mnum_attr_vals\u001b[0m\u001b[1;33m,\u001b[0m \u001b[0mcard1\u001b[0m\u001b[1;33m,\u001b[0m \u001b[0mcard2\u001b[0m\u001b[1;33m,\u001b[0m \u001b[0mdebug\u001b[0m\u001b[1;33m=\u001b[0m\u001b[0mdebug\u001b[0m\u001b[1;33m)\u001b[0m\u001b[1;33m\u001b[0m\u001b[1;33m\u001b[0m\u001b[0m\n",
      "\u001b[1;31mNameError\u001b[0m: name 'decode_key_idx' is not defined"
     ]
    }
   ],
   "source": [
    "data, stats = sample_queries(4, 3, N_train=100, N_val=100, N_test=100)"
   ]
  },
  {
   "cell_type": "code",
   "execution_count": null,
   "metadata": {},
   "outputs": [],
   "source": []
  },
  {
   "cell_type": "code",
   "execution_count": null,
   "metadata": {},
   "outputs": [],
   "source": []
  },
  {
   "cell_type": "code",
   "execution_count": null,
   "metadata": {},
   "outputs": [],
   "source": []
  },
  {
   "cell_type": "code",
   "execution_count": null,
   "metadata": {},
   "outputs": [],
   "source": []
  },
  {
   "cell_type": "code",
   "execution_count": null,
   "metadata": {},
   "outputs": [],
   "source": []
  },
  {
   "cell_type": "code",
   "execution_count": null,
   "metadata": {},
   "outputs": [],
   "source": []
  },
  {
   "cell_type": "code",
   "execution_count": null,
   "metadata": {},
   "outputs": [],
   "source": []
  },
  {
   "cell_type": "code",
   "execution_count": null,
   "metadata": {},
   "outputs": [],
   "source": []
  },
  {
   "cell_type": "code",
   "execution_count": null,
   "metadata": {},
   "outputs": [],
   "source": []
  },
  {
   "cell_type": "code",
   "execution_count": 4,
   "metadata": {},
   "outputs": [],
   "source": [
    "# Resolve one cardpair\n",
    "\n",
    "def resolve_proppair(prop1, prop2, all_vals_tuple, all_vals_set):\n",
    "    if prop1 == len(all_vals_tuple) or prop2 == len(all_vals_tuple): # '*' symbol\n",
    "        # *\n",
    "        return all_vals_tuple\n",
    "    elif prop1 == prop2:\n",
    "        return (prop1,)\n",
    "    else:\n",
    "        return tuple(all_vals_set - set([prop1, prop2]))\n",
    "\n",
    "def resolve_cardpair(card1_prop, card2_prop, all_vals_list, all_vals_set):\n",
    "    '''\n",
    "    card1_prop/card2_prop: [1, 0 ,*], [2,0,1]\n",
    "    return answer cards\n",
    "    '''\n",
    "    ind_ans = [resolve_proppair(prop1, prop2, all_vals_list, all_vals_set) for prop1, prop2 in zip(card1_prop, card2_prop)]\n",
    "    return set(itertools.product(*ind_ans))\n",
    "\n",
    "\n",
    "def draw_cardpair(num_attributes, num_attr_vals):\n",
    "    all_vals_tuple = tuple(range(num_attr_vals))\n",
    "    all_vals_set = set(all_vals_tuple)\n",
    "    \n",
    "    card1_prop = np.random.choice(a=num_attr_vals, size=num_attributes, replace=True)\n",
    "    card2_prop = np.random.choice(a=num_attr_vals+1, size=num_attributes, replace=True)\n",
    "    subset = resolve_cardpair(card1_prop, card2_prop, all_vals_tuple, all_vals_set)\n",
    "    # list of tuples, each one card\n",
    "    return subset"
   ]
  },
  {
   "cell_type": "code",
   "execution_count": 22,
   "metadata": {},
   "outputs": [],
   "source": [
    "set_fns = {\n",
    "    '|': lambda x,y: x | y,\n",
    "    '&': lambda x,y: x & y,\n",
    "    '-': lambda x,y: x - y,\n",
    "    '!': lambda x,y: x.symmetric_difference(y)\n",
    "}\n",
    "\n",
    "def draw_two_cardpairs(num_attributes, num_attr_vals):\n",
    "    all_subsets = []\n",
    "    subset1 = draw_cardpair(num_attributes, num_attr_vals)\n",
    "    subset2 = draw_cardpair(num_attributes, num_attr_vals)\n",
    "    op = np.random.choice(a=('|', '&', '-', '!'))\n",
    "#     print(subset1, op, subset2)\n",
    "    ans_subset = set_fns[op](subset1, subset2)\n",
    "    return ans_subset, len(ans_subset)"
   ]
  },
  {
   "cell_type": "code",
   "execution_count": 33,
   "metadata": {},
   "outputs": [
    {
     "name": "stdout",
     "output_type": "stream",
     "text": [
      "Number of card subsets generated = 4918\n"
     ]
    }
   ],
   "source": [
    "all_ans_subsets = set()\n",
    "all_ans_subsets_count = defaultdict(int)\n",
    "ans_subset_sizes = []\n",
    "\n",
    "for _ in range(10000):\n",
    "    # set, int\n",
    "    ans_subset, ans_subset_size = draw_two_cardpairs(num_attributes=4, num_attr_vals=3)\n",
    "    ans_subset = tuple(sorted(ans_subset))\n",
    "    all_ans_subsets.add(ans_subset)\n",
    "    all_ans_subsets_count[ans_subset] += 1\n",
    "    \n",
    "print('Number of card subsets generated =', len(all_ans_subsets))"
   ]
  },
  {
   "cell_type": "code",
   "execution_count": 2,
   "metadata": {},
   "outputs": [],
   "source": [
    "def ncr(n, r):\n",
    "    r = min(r, n-r)\n",
    "    numer = reduce(op.mul, range(n, n-r, -1), 1)\n",
    "    denom = reduce(op.mul, range(1, r+1), 1)\n",
    "    return numer // denom"
   ]
  }
 ],
 "metadata": {
  "kernelspec": {
   "display_name": "Python 3",
   "language": "python",
   "name": "python3"
  },
  "language_info": {
   "codemirror_mode": {
    "name": "ipython",
    "version": 3
   },
   "file_extension": ".py",
   "mimetype": "text/x-python",
   "name": "python",
   "nbconvert_exporter": "python",
   "pygments_lexer": "ipython3",
   "version": "3.7.1-final"
  }
 },
 "nbformat": 4,
 "nbformat_minor": 4
}
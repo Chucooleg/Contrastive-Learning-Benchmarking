{
 "cells": [
  {
   "cell_type": "code",
   "execution_count": 1,
   "metadata": {},
   "outputs": [],
   "source": [
    "# from dataraw_sampling_SETShatter import *\n",
    "from collections import defaultdict, Counter\n",
    "import itertools\n",
    "import copy\n",
    "import random\n",
    "import json\n",
    "import operator as op\n",
    "from functools import reduce\n",
    "from tqdm import tqdm\n",
    "from itertools import chain, combinations\n",
    "import numpy as np\n",
    "import time"
   ]
  },
  {
   "cell_type": "code",
   "execution_count": 4,
   "metadata": {},
   "outputs": [],
   "source": [
    "# Resolve one cardpair\n",
    "\n",
    "def resolve_proppair(prop1, prop2, all_vals_tuple, all_vals_set):\n",
    "    if prop1 == len(all_vals_tuple) or prop2 == len(all_vals_tuple): # '*' symbol\n",
    "        # *\n",
    "        return all_vals_tuple\n",
    "    elif prop1 == prop2:\n",
    "        return (prop1,)\n",
    "    else:\n",
    "        return tuple(all_vals_set - set([prop1, prop2]))\n",
    "\n",
    "def resolve_cardpair(card1_prop, card2_prop, all_vals_list, all_vals_set):\n",
    "    '''\n",
    "    card1_prop/card2_prop: [1, 0 ,*], [2,0,1]\n",
    "    return answer cards\n",
    "    '''\n",
    "    ind_ans = [resolve_proppair(prop1, prop2, all_vals_list, all_vals_set) for prop1, prop2 in zip(card1_prop, card2_prop)]\n",
    "    return set(itertools.product(*ind_ans))\n",
    "\n",
    "\n",
    "def draw_cardpair(num_attributes, num_attr_vals):\n",
    "    all_vals_tuple = tuple(range(num_attr_vals))\n",
    "    all_vals_set = set(all_vals_tuple)\n",
    "    \n",
    "    card1_prop = np.random.choice(a=num_attr_vals, size=num_attributes, replace=True)\n",
    "    card2_prop = np.random.choice(a=num_attr_vals+1, size=num_attributes, replace=True)\n",
    "    subset = resolve_cardpair(card1_prop, card2_prop, all_vals_tuple, all_vals_set)\n",
    "    # list of tuples, each one card\n",
    "    return subset"
   ]
  },
  {
   "cell_type": "code",
   "execution_count": 22,
   "metadata": {},
   "outputs": [],
   "source": [
    "set_fns = {\n",
    "    '|': lambda x,y: x | y,\n",
    "    '&': lambda x,y: x & y,\n",
    "    '-': lambda x,y: x - y,\n",
    "    '!': lambda x,y: x.symmetric_difference(y)\n",
    "}\n",
    "\n",
    "def draw_two_cardpairs(num_attributes, num_attr_vals):\n",
    "    all_subsets = []\n",
    "    subset1 = draw_cardpair(num_attributes, num_attr_vals)\n",
    "    subset2 = draw_cardpair(num_attributes, num_attr_vals)\n",
    "    op = np.random.choice(a=('|', '&', '-', '!'))\n",
    "#     print(subset1, op, subset2)\n",
    "    ans_subset = set_fns[op](subset1, subset2)\n",
    "    return ans_subset, len(ans_subset)"
   ]
  },
  {
   "cell_type": "code",
   "execution_count": 33,
   "metadata": {},
   "outputs": [
    {
     "name": "stdout",
     "output_type": "stream",
     "text": [
      "Number of card subsets generated = 4918\n"
     ]
    }
   ],
   "source": [
    "all_ans_subsets = set()\n",
    "all_ans_subsets_count = defaultdict(int)\n",
    "ans_subset_sizes = []\n",
    "\n",
    "for _ in range(10000):\n",
    "    # set, int\n",
    "    ans_subset, ans_subset_size = draw_two_cardpairs(num_attributes=4, num_attr_vals=3)\n",
    "    ans_subset = tuple(sorted(ans_subset))\n",
    "    all_ans_subsets.add(ans_subset)\n",
    "    all_ans_subsets_count[ans_subset] += 1\n",
    "    \n",
    "print('Number of card subsets generated =', len(all_ans_subsets))"
   ]
  },
  {
   "cell_type": "code",
   "execution_count": 28,
   "metadata": {},
   "outputs": [],
   "source": [
    "# 4-3\n",
    "# draw 1000, return 679 \n",
    "# draw 10000, return 4960 \n",
    "# draw 100000, return 26122"
   ]
  },
  {
   "cell_type": "code",
   "execution_count": null,
   "metadata": {},
   "outputs": [],
   "source": []
  },
  {
   "cell_type": "code",
   "execution_count": 27,
   "metadata": {},
   "outputs": [
    {
     "data": {
      "text/plain": [
       "0.26122"
      ]
     },
     "execution_count": 27,
     "metadata": {},
     "output_type": "execute_result"
    }
   ],
   "source": [
    "26122 / 100000"
   ]
  },
  {
   "cell_type": "code",
   "execution_count": 29,
   "metadata": {},
   "outputs": [
    {
     "data": {
      "text/plain": [
       "14.67297773890013"
      ]
     },
     "execution_count": 29,
     "metadata": {},
     "output_type": "execute_result"
    }
   ],
   "source": [
    "np.log2(26122)"
   ]
  },
  {
   "cell_type": "code",
   "execution_count": 2,
   "metadata": {},
   "outputs": [],
   "source": [
    "def ncr(n, r):\n",
    "    r = min(r, n-r)\n",
    "    numer = reduce(op.mul, range(n, n-r, -1), 1)\n",
    "    denom = reduce(op.mul, range(1, r+1), 1)\n",
    "    return numer // denom"
   ]
  },
  {
   "cell_type": "code",
   "execution_count": 3,
   "metadata": {},
   "outputs": [
    {
     "data": {
      "text/plain": [
       "27"
      ]
     },
     "execution_count": 3,
     "metadata": {},
     "output_type": "execute_result"
    }
   ],
   "source": [
    "1 + 1 + ncr(5, 2) + ncr(5,3) + ncr(5,4)"
   ]
  },
  {
   "cell_type": "code",
   "execution_count": 4,
   "metadata": {},
   "outputs": [
    {
     "data": {
      "text/plain": [
       "6561"
      ]
     },
     "execution_count": 4,
     "metadata": {},
     "output_type": "execute_result"
    }
   ],
   "source": [
    "243 * 27"
   ]
  },
  {
   "cell_type": "code",
   "execution_count": 5,
   "metadata": {},
   "outputs": [
    {
     "data": {
      "text/plain": [
       "58"
      ]
     },
     "execution_count": 5,
     "metadata": {},
     "output_type": "execute_result"
    }
   ],
   "source": [
    "1 + 1 + ncr(6, 2) + ncr(6,3) + ncr(6,4) + ncr(6,5)"
   ]
  },
  {
   "cell_type": "code",
   "execution_count": 7,
   "metadata": {},
   "outputs": [
    {
     "data": {
      "text/plain": [
       "42282"
      ]
     },
     "execution_count": 7,
     "metadata": {},
     "output_type": "execute_result"
    }
   ],
   "source": [
    "3**6 * 58"
   ]
  },
  {
   "cell_type": "raw",
   "metadata": {},
   "source": [
    "# be flexible about whether to use one embed per vocab, one embed per property, or one embed every 2/4/6 properties.\n",
    "\n",
    "one embed per vocab\n",
    "input -- \n",
    "\n",
    "\n",
    "\n",
    "# regardless -- need to update dataset, contrastive model and generative model\n",
    "\n",
    "# data sampling\n",
    "# needs to indicate if we are using single card indices\n",
    "# 'vocab_by_property' -- \n",
    "# DONE\n",
    "\n",
    "# contrastive\n",
    "# -- setup all keys\n",
    "# -- key also use encoder\n",
    "# -- allow key encoder to have different layers, no layers.\n",
    "# -- config and hparams need to change. such that make model can adapt.\n",
    "\n",
    "# generative\n",
    "# -- setup all keys\n",
    "# -- replace PLH use EOS as well\n",
    "\n",
    "# dataset\n",
    "# -- x_vocab_tokens is not a single token anymore\n",
    "# DONE\n",
    "\n",
    "\n",
    "\n",
    "\n",
    "\n",
    "\n",
    "# EOD\n",
    "## Finish Setup Code\n",
    "## Finish Setup Data\n",
    "## Tmr Train?"
   ]
  },
  {
   "cell_type": "code",
   "execution_count": null,
   "metadata": {},
   "outputs": [],
   "source": []
  },
  {
   "cell_type": "code",
   "execution_count": null,
   "metadata": {},
   "outputs": [],
   "source": []
  },
  {
   "cell_type": "code",
   "execution_count": null,
   "metadata": {},
   "outputs": [],
   "source": []
  },
  {
   "cell_type": "code",
   "execution_count": null,
   "metadata": {},
   "outputs": [],
   "source": []
  },
  {
   "cell_type": "code",
   "execution_count": null,
   "metadata": {},
   "outputs": [],
   "source": []
  },
  {
   "cell_type": "code",
   "execution_count": null,
   "metadata": {},
   "outputs": [],
   "source": []
  },
  {
   "cell_type": "code",
   "execution_count": null,
   "metadata": {},
   "outputs": [],
   "source": []
  },
  {
   "cell_type": "code",
   "execution_count": null,
   "metadata": {},
   "outputs": [],
   "source": []
  },
  {
   "cell_type": "code",
   "execution_count": null,
   "metadata": {},
   "outputs": [],
   "source": []
  },
  {
   "cell_type": "code",
   "execution_count": null,
   "metadata": {},
   "outputs": [],
   "source": []
  }
 ],
 "metadata": {
  "kernelspec": {
   "display_name": "Python 3",
   "language": "python",
   "name": "python3"
  },
  "language_info": {
   "codemirror_mode": {
    "name": "ipython",
    "version": 3
   },
   "file_extension": ".py",
   "mimetype": "text/x-python",
   "name": "python",
   "nbconvert_exporter": "python",
   "pygments_lexer": "ipython3",
   "version": "3.8.3"
  }
 },
 "nbformat": 4,
 "nbformat_minor": 4
}

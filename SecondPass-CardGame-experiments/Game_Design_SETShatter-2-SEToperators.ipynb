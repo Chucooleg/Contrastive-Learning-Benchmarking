{
 "cells": [
  {
   "cell_type": "code",
   "execution_count": 2,
   "metadata": {},
   "outputs": [],
   "source": [
    "# from dataraw_sampling_SETShatter import *\n",
    "import itertools\n",
    "import numpy as np\n",
    "from collections import defaultdict, Counter"
   ]
  },
  {
   "cell_type": "code",
   "execution_count": 4,
   "metadata": {},
   "outputs": [],
   "source": [
    "# Resolve one cardpair\n",
    "\n",
    "def resolve_proppair(prop1, prop2, all_vals_tuple, all_vals_set):\n",
    "    if prop1 == len(all_vals_tuple) or prop2 == len(all_vals_tuple): # '*' symbol\n",
    "        # *\n",
    "        return all_vals_tuple\n",
    "    elif prop1 == prop2:\n",
    "        return (prop1,)\n",
    "    else:\n",
    "        return tuple(all_vals_set - set([prop1, prop2]))\n",
    "\n",
    "def resolve_cardpair(card1_prop, card2_prop, all_vals_list, all_vals_set):\n",
    "    '''\n",
    "    card1_prop/card2_prop: [1, 0 ,*], [2,0,1]\n",
    "    return answer cards\n",
    "    '''\n",
    "    ind_ans = [resolve_proppair(prop1, prop2, all_vals_list, all_vals_set) for prop1, prop2 in zip(card1_prop, card2_prop)]\n",
    "    return set(itertools.product(*ind_ans))\n",
    "\n",
    "\n",
    "def draw_cardpair(num_attributes, num_attr_vals):\n",
    "    all_vals_tuple = tuple(range(num_attr_vals))\n",
    "    all_vals_set = set(all_vals_tuple)\n",
    "    \n",
    "    card1_prop = np.random.choice(a=num_attr_vals, size=num_attributes, replace=True)\n",
    "    card2_prop = np.random.choice(a=num_attr_vals+1, size=num_attributes, replace=True)\n",
    "    subset = resolve_cardpair(card1_prop, card2_prop, all_vals_tuple, all_vals_set)\n",
    "    # list of tuples, each one card\n",
    "    return subset"
   ]
  },
  {
   "cell_type": "code",
   "execution_count": 22,
   "metadata": {},
   "outputs": [],
   "source": [
    "set_fns = {\n",
    "    '|': lambda x,y: x | y,\n",
    "    '&': lambda x,y: x & y,\n",
    "    '-': lambda x,y: x - y,\n",
    "    '!': lambda x,y: x.symmetric_difference(y)\n",
    "}\n",
    "\n",
    "def draw_two_cardpairs(num_attributes, num_attr_vals):\n",
    "    all_subsets = []\n",
    "    subset1 = draw_cardpair(num_attributes, num_attr_vals)\n",
    "    subset2 = draw_cardpair(num_attributes, num_attr_vals)\n",
    "    op = np.random.choice(a=('|', '&', '-', '!'))\n",
    "#     print(subset1, op, subset2)\n",
    "    ans_subset = set_fns[op](subset1, subset2)\n",
    "    return ans_subset, len(ans_subset)"
   ]
  },
  {
   "cell_type": "code",
   "execution_count": 33,
   "metadata": {},
   "outputs": [
    {
     "name": "stdout",
     "output_type": "stream",
     "text": [
      "Number of card subsets generated = 4918\n"
     ]
    }
   ],
   "source": [
    "all_ans_subsets = set()\n",
    "all_ans_subsets_count = defaultdict(int)\n",
    "ans_subset_sizes = []\n",
    "\n",
    "for _ in range(10000):\n",
    "    # set, int\n",
    "    ans_subset, ans_subset_size = draw_two_cardpairs(num_attributes=4, num_attr_vals=3)\n",
    "    ans_subset = tuple(sorted(ans_subset))\n",
    "    all_ans_subsets.add(ans_subset)\n",
    "    all_ans_subsets_count[ans_subset] += 1\n",
    "    \n",
    "print('Number of card subsets generated =', len(all_ans_subsets))"
   ]
  },
  {
   "cell_type": "code",
   "execution_count": 28,
   "metadata": {},
   "outputs": [],
   "source": [
    "# 4-3\n",
    "# draw 1000, return 679 \n",
    "# draw 10000, return 4960 \n",
    "# draw 100000, return 26122"
   ]
  },
  {
   "cell_type": "code",
   "execution_count": null,
   "metadata": {},
   "outputs": [],
   "source": []
  },
  {
   "cell_type": "code",
   "execution_count": 27,
   "metadata": {},
   "outputs": [
    {
     "data": {
      "text/plain": [
       "0.26122"
      ]
     },
     "execution_count": 27,
     "metadata": {},
     "output_type": "execute_result"
    }
   ],
   "source": [
    "26122 / 100000"
   ]
  },
  {
   "cell_type": "code",
   "execution_count": 29,
   "metadata": {},
   "outputs": [
    {
     "data": {
      "text/plain": [
       "14.67297773890013"
      ]
     },
     "execution_count": 29,
     "metadata": {},
     "output_type": "execute_result"
    }
   ],
   "source": [
    "np.log2(26122)"
   ]
  },
  {
   "cell_type": "code",
   "execution_count": null,
   "metadata": {},
   "outputs": [],
   "source": []
  }
 ],
 "metadata": {
  "kernelspec": {
   "display_name": "Python 3",
   "language": "python",
   "name": "python3"
  },
  "language_info": {
   "codemirror_mode": {
    "name": "ipython",
    "version": 3
   },
   "file_extension": ".py",
   "mimetype": "text/x-python",
   "name": "python",
   "nbconvert_exporter": "python",
   "pygments_lexer": "ipython3",
   "version": "3.8.5"
  }
 },
 "nbformat": 4,
 "nbformat_minor": 4
}

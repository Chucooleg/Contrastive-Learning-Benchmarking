{
 "cells": [
  {
   "cell_type": "code",
   "execution_count": 1,
   "id": "general-tribe",
   "metadata": {
    "scrolled": true
   },
   "outputs": [
    {
     "name": "stdout",
     "output_type": "stream",
     "text": [
      "__Python VERSION: 3.8.3 (default, May 19 2020, 18:47:26) \n",
      "[GCC 7.3.0]\n",
      "__pyTorch VERSION: 1.7.0\n",
      "__CUDA VERSION\n",
      "/usr/bin/sh: 1: nvcc: not found\n",
      "__CUDNN VERSION: 8003\n",
      "__Number CUDA Devices: 2\n",
      "__Devices\n",
      "Active CUDA Device: GPU 0\n",
      "Available devices  2\n",
      "Current cuda device  0\n"
     ]
    }
   ],
   "source": [
    "# https://discuss.pytorch.org/t/i-have-3-gpu-why-torch-cuda-device-count-only-return-1/7245/4\n",
    "import torch\n",
    "import sys\n",
    "print('__Python VERSION:', sys.version)\n",
    "print('__pyTorch VERSION:', torch.__version__)\n",
    "print('__CUDA VERSION')\n",
    "from subprocess import call\n",
    "# call([\"nvcc\", \"--version\"]) does not work\n",
    "! nvcc --version\n",
    "print('__CUDNN VERSION:', torch.backends.cudnn.version())\n",
    "print('__Number CUDA Devices:', torch.cuda.device_count())\n",
    "print('__Devices')\n",
    "call([\"nvidia-smi\", \"--format=csv\", \"--query-gpu=index,name,driver_version,memory.total,memory.used,memory.free\"])\n",
    "print('Active CUDA Device: GPU', torch.cuda.current_device())\n",
    "\n",
    "print ('Available devices ', torch.cuda.device_count())\n",
    "print ('Current cuda device ', torch.cuda.current_device())"
   ]
  },
  {
   "cell_type": "code",
   "execution_count": null,
   "id": "solar-suggestion",
   "metadata": {},
   "outputs": [],
   "source": [
    "%load_ext autoreload\n",
    "%autoreload 2\n",
    "\n",
    "import os\n",
    "import json\n",
    "import main\n",
    "from argparse import ArgumentDefaultsHelpFormatter, ArgumentParser"
   ]
  },
  {
   "cell_type": "code",
   "execution_count": null,
   "id": "urban-custom",
   "metadata": {},
   "outputs": [],
   "source": [
    "# arguments\n",
    "parser = ArgumentParser(formatter_class=ArgumentDefaultsHelpFormatter)\n",
    "args = parser.parse_args('')\n",
    "\n",
    "args.gpu = 0\n",
    "args.generate_full_matrix = True\n",
    "args.data_PATH = '../Raw_Datasets/3Attr-4Vals-2hat23Train-2hat12Val.json'\n",
    "args.config_PATH = 'checkpoints/ContrastiveLearning-cardgame-Scaling-SecondPass/CardGame:OR;attr3-val4;d_model8;dot-product;params33.29K/config.json'"
   ]
  },
  {
   "cell_type": "code",
   "execution_count": null,
   "id": "efficient-alignment",
   "metadata": {},
   "outputs": [],
   "source": [
    "# generate on the fly -- becareful of sampling time\n",
    "# num_attributes = 2\n",
    "# num_attr_vals = 3\n",
    "# game_data = sample_dataset(num_attributes, num_attr_vals, N_train=10000, N_val=1000)\n",
    "\n",
    "# read from disk instead\n",
    "with open(args.data_PATH, 'r') as f:\n",
    "    game_data = json.load(f)\n",
    "\n",
    "print('----------data----------')\n",
    "for k in game_data:\n",
    "    if not 'datapoints' in k:\n",
    "        print(k,':', game_data[k])\n",
    "    else:\n",
    "        print(k,'length :', len(game_data[k]))\n",
    "print('------------------------')"
   ]
  },
  {
   "cell_type": "code",
   "execution_count": null,
   "id": "built-context",
   "metadata": {},
   "outputs": [],
   "source": [
    "# read from disk instead\n",
    "with open(args.config_PATH, 'r') as f:\n",
    "    hparams = json.load(f)\n",
    "\n",
    "hparams['key_support_size'] = game_data['key_support_size']\n",
    "hparams['query_support_size'] = game_data['query_support_size']\n",
    "hparams['num_attributes'] = game_data['num_attributes']\n",
    "hparams['num_attr_vals'] = game_data['num_attr_vals']\n",
    "hparams['populate_logits_matrix'] = args.generate_full_matrix\n",
    "if 'embedding_by_property' not in params:\n",
    "    hparams['populate_logits_matrix'] = False    \n",
    "    \n",
    "print('----------hparams----------')\n",
    "for k in hparams:\n",
    "    print(k, ':', hparams[k])\n",
    "print('---------------------------')"
   ]
  },
  {
   "cell_type": "code",
   "execution_count": null,
   "id": "committed-session",
   "metadata": {},
   "outputs": [],
   "source": [
    "# main() do this only if data is small\n",
    "if args.generate_full_matrix:\n",
    "    print('Generating Full Matrix')\n",
    "    game_data_full = gen_card_data(hparams['num_attributes'], hparams['num_attr_vals'], num_unseen_cardpairs=0, debug=False)\n",
    "    count_table, xy, xyind, xy_div_xyind, distribution = report_gamedata_distribution(game_data_full, distribution_epsilon=0.0)\n",
    "    gt = {\n",
    "        'count_table':count_table,\n",
    "        'xy':xy,\n",
    "        'xyind':xyind,\n",
    "        'xy_div_xyind':xy_div_xyind,\n",
    "        'distribution':distribution\n",
    "    }\n",
    "    print(distribution)\n",
    "else:\n",
    "    gt = None"
   ]
  },
  {
   "cell_type": "code",
   "execution_count": null,
   "id": "informational-original",
   "metadata": {
    "scrolled": true
   },
   "outputs": [],
   "source": [
    "# main()\n",
    "\n",
    "pl.seed_everything(hparams['seed'])\n",
    "\n",
    "# model\n",
    "trainmodule =  ContrastiveTrainModule(hparams, gt_distributions=gt if args.generate_full_matrix else {})\n",
    "model_summary = pl.core.memory.ModelSummary(trainmodule, mode='full')\n",
    "print(model_summary,'\\n')\n",
    "\n",
    "# dataset\n",
    "game_datamodule = GameDataModule(\n",
    "    batch_size = hparams['batch_size'],\n",
    "    raw_data = game_data,\n",
    "    embedding_by_property = hparams['embedding_by_property'],\n",
    "    debug=hparams['debug']\n",
    ")\n",
    "\n",
    "# testloader\n",
    "test_loader = DataLoader(\n",
    "            GameTestFullDataset(raw_data=game_data, debug=hparams['debug']), \n",
    "            batch_size=hparams['batch_size'], shuffle=False\n",
    "        )\n",
    "\n",
    "# logger\n",
    "run_name = 'CardGame:OR;attr{}-val{};d_model{};{};params{}K'.format(\n",
    "    hparams['num_attributes'], hparams['num_attr_vals'], \n",
    "    hparams['d_model'],  \n",
    "    'dot-product' if hparams['dotproduct_bottleneck'] else '',\n",
    "    round(max(model_summary.param_nums)/1000,2))\n",
    "project_name = 'ContrastiveLearning-cardgame-Scaling-SecondPass'\n",
    "wd_logger = WandbLogger(name=run_name, project=project_name)\n",
    "print('RUN NAME :\\n', run_name)\n",
    "\n",
    "# check point path\n",
    "ckpt_dir_PATH = os.path.join('checkpoints', project_name, run_name)\n",
    "os.makedirs(ckpt_dir_PATH, exist_ok=True)"
   ]
  },
  {
   "cell_type": "markdown",
   "id": "hungry-monitor",
   "metadata": {},
   "source": [
    "## run testing"
   ]
  },
  {
   "cell_type": "code",
   "execution_count": null,
   "id": "architectural-england",
   "metadata": {},
   "outputs": [],
   "source": [
    "%load_ext autoreload\n",
    "%autoreload 2\n",
    "\n",
    "from main import run_test\n",
    "import torch.nn as nn\n",
    "import torch\n",
    "\n",
    "import numpy as np\n",
    "from collections import Counter\n",
    "from dataraw_sampling import decode_query_idx, queryidx_to_querypair, check_q1q2k_match\n",
    "\n",
    "%matplotlib inline\n",
    "import matplotlib.pyplot as plt"
   ]
  },
  {
   "cell_type": "code",
   "execution_count": null,
   "id": "nominated-glass",
   "metadata": {
    "scrolled": true
   },
   "outputs": [],
   "source": [
    "ckpt_name = 'epoch=00-step=17999-val_loss=497.78.ckpt'\n",
    "\n",
    "test_loader = DataLoader(\n",
    "            GameTestFullDataset(raw_data=game_data, debug=False), \n",
    "            batch_size=hparams['batch_size'], shuffle=False\n",
    "        )\n",
    "\n",
    "run_test(args, hparams, ckpt_name, gt, test_loader, trainmodule, ckpt_dir_PATH, figsize=(10,15))"
   ]
  },
  {
   "cell_type": "code",
   "execution_count": null,
   "id": "bottom-anime",
   "metadata": {},
   "outputs": [],
   "source": [
    "softmax = nn.Softmax(dim=0)\n",
    "threshold = 1 / trainmodule.hparams['key_support_size']\n",
    "gt_labels = ((trainmodule.gt_xy) > 0).type(torch.int)\n",
    "binary_predictions = (softmax(trainmodule.model_logits_matrix) >= threshold).type(torch.float)\n",
    "wrongs = binary_predictions != gt_labels\n",
    "print('Overall accuracy =', torch.sum(binary_predictions.type(torch.int) == gt_labels).item() / (trainmodule.hparams['key_support_size']*trainmodule.hparams['query_support_size']))\n",
    "print('Number of inaccurate predictions = ', torch.sum(wrongs).item(),'/', trainmodule.hparams['key_support_size']*trainmodule.hparams['query_support_size'])"
   ]
  },
  {
   "cell_type": "code",
   "execution_count": null,
   "id": "alert-peninsula",
   "metadata": {},
   "outputs": [],
   "source": [
    "torch.sum(binary_predictions.type(torch.int) == gt_labels).item() / (trainmodule.hparams['key_support_size']*trainmodule.hparams['query_support_size'])"
   ]
  },
  {
   "cell_type": "code",
   "execution_count": 173,
   "id": "right-announcement",
   "metadata": {},
   "outputs": [],
   "source": [
    "def construct_filter(trainmodule, num_attr_shared_in_query, num_attr_hit_by_key=None):\n",
    "    '''compute filters'''\n",
    "    keep_queries = []\n",
    "    keep_querykeys = np.zeros(trainmodule.gt_xy.shape)\n",
    "    for i in range((trainmodule.hparams['query_support_size'])):\n",
    "        card1, card2 = queryidx_to_querypair(trainmodule.hparams['num_attributes'], trainmodule.hparams['num_attr_vals'], i)\n",
    "        if np.sum(card1 == card2) == num_attr_shared_in_query:\n",
    "            keep_queries.append(True)\n",
    "            for j in range(trainmodule.hparams['key_support_size']):\n",
    "                num_matches = check_q1q2k_match(trainmodule.hparams['num_attributes'], trainmodule.hparams['num_attr_vals'], card1, card2, j)\n",
    "                if num_matches == num_attr_hit_by_key:\n",
    "                    keep_querykeys[j,i] = 1.0\n",
    "        else:\n",
    "            keep_queries.append(False)\n",
    "\n",
    "    return keep_queries, keep_querykeys\n",
    "\n",
    "def find_rank(keep_queries, keep_querykeys, count_table, num_attr_shared_in_query, num_attr_hit_by_key):\n",
    "    print('Number of shared attributes in query cards = ', num_attr_shared_in_query)\n",
    "    print('Number of attributes hits by key cards = ', num_attr_hit_by_key if num_attr_hit_by_key else 'None')\n",
    "    print('matrix rank = ', np.linalg.matrix_rank((count_table * keep_querykeys)[:,keep_queries]))\n",
    "    u,s,vh = np.linalg.svd((count_table * keep_querykeys)[:,keep_queries]) \n",
    "    print('s values:', Counter(list(s//1)).most_common())\n",
    "    num_filtered_wrongs = int(np.sum(keep_querykeys * wrongs.cpu().numpy()))\n",
    "    num_filtered = int(np.sum(keep_querykeys))\n",
    "    print('Number of mistakes made by model = ', num_filtered_wrongs, '/', num_filtered, '=', (num_filtered_wrongs*1.0/num_filtered))\n",
    "    plt.plot(s)    "
   ]
  },
  {
   "cell_type": "code",
   "execution_count": 174,
   "id": "decent-barcelona",
   "metadata": {
    "scrolled": true
   },
   "outputs": [
    {
     "name": "stdout",
     "output_type": "stream",
     "text": [
      "------Ground-truth--------\n",
      "Number of shared attributes in query cards =  3\n",
      "Number of attributes hits by key cards =  3\n",
      "matrix rank =  64\n",
      "s values: [(1.0, 64)]\n",
      "Number of mistakes made by model =  0 / 64 = 0.0\n"
     ]
    },
    {
     "data": {
      "image/png": "[encoded data removed]",
      "text/plain": [
       "<Figure size 432x288 with 1 Axes>"
      ]
     },
     "metadata": {
      "needs_background": "light"
     },
     "output_type": "display_data"
    },
    {
     "name": "stdout",
     "output_type": "stream",
     "text": [
      "------Predicted--------\n",
      "Number of shared attributes in query cards =  3\n",
      "Number of attributes hits by key cards =  3\n",
      "matrix rank =  64\n",
      "s values: [(1.0, 64)]\n",
      "Number of mistakes made by model =  0 / 64 = 0.0\n"
     ]
    },
    {
     "data": {
      "image/png": "[encoded data removed]",
      "text/plain": [
       "<Figure size 432x288 with 1 Axes>"
      ]
     },
     "metadata": {
      "needs_background": "light"
     },
     "output_type": "display_data"
    }
   ],
   "source": [
    "num_attr_shared_in_query = 3\n",
    "num_attr_hit_by_key = 3\n",
    "keep_queries, keep_querykeys = construct_filter(trainmodule, num_attr_shared_in_query, num_attr_hit_by_key)\n",
    "print('------Ground-truth--------')\n",
    "find_rank(keep_queries, keep_querykeys, gt_labels.cpu().numpy(), num_attr_shared_in_query, num_attr_hit_by_key)\n",
    "plt.show()\n",
    "print('------Predicted--------')\n",
    "find_rank(keep_queries, keep_querykeys, binary_predictions.cpu().numpy(), num_attr_shared_in_query, num_attr_hit_by_key)\n",
    "plt.show()"
   ]
  },
  {
   "cell_type": "code",
   "execution_count": null,
   "id": "fundamental-disposal",
   "metadata": {},
   "outputs": [],
   "source": [
    "# 0 : 0 0 0\n",
    "# 1 : 0 0 1\n",
    "# 2 : 0 0 2\n",
    "# 3 : 0 0 3\n",
    "# 80: 0 0 80\n",
    "# 81: 0 1 0\n",
    "\n",
    "# 531440: 80 80 80"
   ]
  },
  {
   "cell_type": "code",
   "execution_count": 3,
   "id": "secondary-thriller",
   "metadata": {},
   "outputs": [
    {
     "data": {
      "text/plain": [
       "531440"
      ]
     },
     "execution_count": 3,
     "metadata": {},
     "output_type": "execute_result"
    }
   ],
   "source": [
    "81**3 - 1"
   ]
  },
  {
   "cell_type": "code",
   "execution_count": 4,
   "id": "advisory-vacuum",
   "metadata": {},
   "outputs": [
    {
     "data": {
      "text/plain": [
       "80"
      ]
     },
     "execution_count": 4,
     "metadata": {},
     "output_type": "execute_result"
    }
   ],
   "source": [
    "531440 % 81"
   ]
  },
  {
   "cell_type": "code",
   "execution_count": 5,
   "id": "hairy-hundred",
   "metadata": {},
   "outputs": [
    {
     "data": {
      "text/plain": [
       "6560"
      ]
     },
     "execution_count": 5,
     "metadata": {},
     "output_type": "execute_result"
    }
   ],
   "source": [
    "531440 // 81"
   ]
  },
  {
   "cell_type": "code",
   "execution_count": 8,
   "id": "small-angle",
   "metadata": {},
   "outputs": [
    {
     "data": {
      "text/plain": [
       "80"
      ]
     },
     "execution_count": 8,
     "metadata": {},
     "output_type": "execute_result"
    }
   ],
   "source": [
    "6560 % 81"
   ]
  },
  {
   "cell_type": "code",
   "execution_count": 9,
   "id": "killing-scratch",
   "metadata": {},
   "outputs": [
    {
     "data": {
      "text/plain": [
       "80"
      ]
     },
     "execution_count": 9,
     "metadata": {},
     "output_type": "execute_result"
    }
   ],
   "source": [
    "6560 // 81"
   ]
  },
  {
   "cell_type": "code",
   "execution_count": 10,
   "id": "advance-niger",
   "metadata": {},
   "outputs": [
    {
     "data": {
      "text/plain": [
       "80"
      ]
     },
     "execution_count": 10,
     "metadata": {},
     "output_type": "execute_result"
    }
   ],
   "source": [
    "80 % 81"
   ]
  },
  {
   "cell_type": "code",
   "execution_count": 11,
   "id": "chinese-facing",
   "metadata": {
    "scrolled": true
   },
   "outputs": [
    {
     "data": {
      "text/plain": [
       "0"
      ]
     },
     "execution_count": 11,
     "metadata": {},
     "output_type": "execute_result"
    }
   ],
   "source": [
    "80 // 81"
   ]
  },
  {
   "cell_type": "code",
   "execution_count": null,
   "id": "special-found",
   "metadata": {},
   "outputs": [],
   "source": []
  },
  {
   "cell_type": "code",
   "execution_count": null,
   "id": "structural-andrew",
   "metadata": {},
   "outputs": [],
   "source": []
  },
  {
   "cell_type": "code",
   "execution_count": null,
   "id": "floral-jesus",
   "metadata": {},
   "outputs": [],
   "source": []
  },
  {
   "cell_type": "code",
   "execution_count": 175,
   "id": "complimentary-richards",
   "metadata": {},
   "outputs": [
    {
     "name": "stdout",
     "output_type": "stream",
     "text": [
      "------Ground-truth--------\n",
      "Number of shared attributes in query cards =  3\n",
      "Number of attributes hits by key cards =  2\n",
      "matrix rank =  64\n",
      "s values: [(2.0, 17), (1.0, 15), (0.0, 12), (3.0, 10), (5.0, 6), (4.0, 3), (8.0, 1)]\n",
      "Number of mistakes made by model =  2 / 576 = 0.003472222222222222\n"
     ]
    },
    {
     "data": {
      "image/png": "[encoded data removed]",
      "text/plain": [
       "<Figure size 432x288 with 1 Axes>"
      ]
     },
     "metadata": {
      "needs_background": "light"
     },
     "output_type": "display_data"
    },
    {
     "name": "stdout",
     "output_type": "stream",
     "text": [
      "------Predicted--------\n",
      "Number of shared attributes in query cards =  3\n",
      "Number of attributes hits by key cards =  2\n",
      "matrix rank =  64\n",
      "s values: [(2.0, 16), (1.0, 14), (0.0, 13), (3.0, 11), (5.0, 5), (4.0, 4), (8.0, 1)]\n",
      "Number of mistakes made by model =  2 / 576 = 0.003472222222222222\n"
     ]
    },
    {
     "data": {
      "image/png": "[encoded data removed]",
      "text/plain": [
       "<Figure size 432x288 with 1 Axes>"
      ]
     },
     "metadata": {
      "needs_background": "light"
     },
     "output_type": "display_data"
    }
   ],
   "source": [
    "num_attr_shared_in_query = 3\n",
    "num_attr_hit_by_key = 2\n",
    "keep_queries, keep_querykeys = construct_filter(trainmodule, num_attr_shared_in_query, num_attr_hit_by_key)\n",
    "print('------Ground-truth--------')\n",
    "find_rank(keep_queries, keep_querykeys, gt_labels.cpu().numpy(), num_attr_shared_in_query, num_attr_hit_by_key)\n",
    "plt.show()\n",
    "print('------Predicted--------')\n",
    "find_rank(keep_queries, keep_querykeys, binary_predictions.cpu().numpy(), num_attr_shared_in_query, num_attr_hit_by_key)\n",
    "plt.show()"
   ]
  },
  {
   "cell_type": "code",
   "execution_count": 176,
   "id": "under-racing",
   "metadata": {},
   "outputs": [
    {
     "name": "stdout",
     "output_type": "stream",
     "text": [
      "------Ground-truth--------\n",
      "Number of shared attributes in query cards =  3\n",
      "Number of attributes hits by key cards =  1\n",
      "matrix rank =  64\n",
      "s values: [(3.0, 20), (5.0, 19), (2.0, 16), (4.0, 8), (27.0, 1)]\n",
      "Number of mistakes made by model =  1054 / 1728 = 0.6099537037037037\n"
     ]
    },
    {
     "data": {
      "image/png": "[encoded data removed]",
      "text/plain": [
       "<Figure size 432x288 with 1 Axes>"
      ]
     },
     "metadata": {
      "needs_background": "light"
     },
     "output_type": "display_data"
    },
    {
     "name": "stdout",
     "output_type": "stream",
     "text": [
      "------Predicted--------\n",
      "Number of shared attributes in query cards =  3\n",
      "Number of attributes hits by key cards =  1\n",
      "matrix rank =  64\n",
      "s values: [(0.0, 20), (1.0, 11), (2.0, 10), (3.0, 9), (4.0, 8), (5.0, 4), (12.0, 1), (6.0, 1)]\n",
      "Number of mistakes made by model =  1054 / 1728 = 0.6099537037037037\n"
     ]
    },
    {
     "data": {
      "image/png": "[encoded data removed]",
      "text/plain": [
       "<Figure size 432x288 with 1 Axes>"
      ]
     },
     "metadata": {
      "needs_background": "light"
     },
     "output_type": "display_data"
    }
   ],
   "source": [
    "num_attr_shared_in_query = 3\n",
    "num_attr_hit_by_key = 1\n",
    "keep_queries, keep_querykeys = construct_filter(trainmodule, num_attr_shared_in_query, num_attr_hit_by_key)\n",
    "print('------Ground-truth--------')\n",
    "find_rank(keep_queries, keep_querykeys, gt_labels.cpu().numpy(), num_attr_shared_in_query, num_attr_hit_by_key)\n",
    "plt.show()\n",
    "print('------Predicted--------')\n",
    "find_rank(keep_queries, keep_querykeys, binary_predictions.cpu().numpy(), num_attr_shared_in_query, num_attr_hit_by_key)\n",
    "plt.show()"
   ]
  },
  {
   "cell_type": "code",
   "execution_count": 185,
   "id": "engaged-portland",
   "metadata": {},
   "outputs": [
    {
     "name": "stdout",
     "output_type": "stream",
     "text": [
      "------Ground-truth--------\n",
      "Number of shared attributes in query cards =  3\n",
      "Number of attributes hits by key cards =  None\n",
      "matrix rank =  0\n",
      "s values: [(0.0, 64)]\n",
      "Number of mistakes made by model =  26 / 1792 = 0.014508928571428572\n"
     ]
    },
    {
     "data": {
      "image/png": "[encoded data removed]",
      "text/plain": [
       "<Figure size 432x288 with 1 Axes>"
      ]
     },
     "metadata": {
      "needs_background": "light"
     },
     "output_type": "display_data"
    },
    {
     "name": "stdout",
     "output_type": "stream",
     "text": [
      "------Predicted--------\n",
      "Number of shared attributes in query cards =  3\n",
      "Number of attributes hits by key cards =  None\n",
      "matrix rank =  10\n",
      "s values: [(0.0, 59), (2.0, 2), (1.0, 2), (3.0, 1)]\n",
      "Number of mistakes made by model =  26 / 1792 = 0.014508928571428572\n"
     ]
    },
    {
     "data": {
      "image/png": "[encoded data removed]",
      "text/plain": [
       "<Figure size 432x288 with 1 Axes>"
      ]
     },
     "metadata": {
      "needs_background": "light"
     },
     "output_type": "display_data"
    }
   ],
   "source": [
    "num_attr_shared_in_query = 3\n",
    "num_attr_hit_by_key = 0\n",
    "keep_queries, keep_querykeys = construct_filter(trainmodule, num_attr_shared_in_query, num_attr_hit_by_key)\n",
    "print('------Ground-truth--------')\n",
    "find_rank(keep_queries, keep_querykeys, gt_labels.cpu().numpy(), num_attr_shared_in_query, num_attr_hit_by_key)\n",
    "plt.show()\n",
    "print('------Predicted--------')\n",
    "find_rank(keep_queries, keep_querykeys, binary_predictions.cpu().numpy(), num_attr_shared_in_query, num_attr_hit_by_key)\n",
    "plt.show()"
   ]
  },
  {
   "cell_type": "code",
   "execution_count": 177,
   "id": "nominated-margin",
   "metadata": {},
   "outputs": [
    {
     "name": "stdout",
     "output_type": "stream",
     "text": [
      "------Ground-truth--------\n",
      "Number of shared attributes in query cards =  2\n",
      "Number of attributes hits by key cards =  2\n",
      "matrix rank =  37\n",
      "s values: [(0.0, 28), (6.0, 27), (9.0, 9), (12.0, 1)]\n",
      "Number of mistakes made by model =  0 / 2304 = 0.0\n"
     ]
    },
    {
     "data": {
      "image/png": "[encoded data removed]",
      "text/plain": [
       "<Figure size 432x288 with 1 Axes>"
      ]
     },
     "metadata": {
      "needs_background": "light"
     },
     "output_type": "display_data"
    },
    {
     "name": "stdout",
     "output_type": "stream",
     "text": [
      "------Predicted--------\n",
      "Number of shared attributes in query cards =  2\n",
      "Number of attributes hits by key cards =  2\n",
      "matrix rank =  37\n",
      "s values: [(0.0, 28), (6.0, 27), (9.0, 9), (12.0, 1)]\n",
      "Number of mistakes made by model =  0 / 2304 = 0.0\n"
     ]
    },
    {
     "data": {
      "image/png": "[encoded data removed]",
      "text/plain": [
       "<Figure size 432x288 with 1 Axes>"
      ]
     },
     "metadata": {
      "needs_background": "light"
     },
     "output_type": "display_data"
    }
   ],
   "source": [
    "num_attr_shared_in_query = 2\n",
    "num_attr_hit_by_key = 2\n",
    "keep_queries, keep_querykeys = construct_filter(trainmodule, num_attr_shared_in_query, num_attr_hit_by_key)\n",
    "print('------Ground-truth--------')\n",
    "find_rank(keep_queries, keep_querykeys, gt_labels.cpu().numpy(), num_attr_shared_in_query, num_attr_hit_by_key)\n",
    "plt.show()\n",
    "print('------Predicted--------')\n",
    "find_rank(keep_queries, keep_querykeys, binary_predictions.cpu().numpy(), num_attr_shared_in_query, num_attr_hit_by_key)\n",
    "plt.show()"
   ]
  },
  {
   "cell_type": "code",
   "execution_count": 178,
   "id": "exclusive-boating",
   "metadata": {},
   "outputs": [
    {
     "name": "stdout",
     "output_type": "stream",
     "text": [
      "------Ground-truth--------\n",
      "Number of shared attributes in query cards =  2\n",
      "Number of attributes hits by key cards =  1\n",
      "matrix rank =  37\n",
      "s values: [(0.0, 28), (13.0, 27), (19.0, 9), (72.0, 1)]\n",
      "Number of mistakes made by model =  4167 / 13824 = 0.3014322916666667\n"
     ]
    },
    {
     "data": {
      "image/png": "[encoded data removed]",
      "text/plain": [
       "<Figure size 432x288 with 1 Axes>"
      ]
     },
     "metadata": {
      "needs_background": "light"
     },
     "output_type": "display_data"
    },
    {
     "name": "stdout",
     "output_type": "stream",
     "text": [
      "------Predicted--------\n",
      "Number of shared attributes in query cards =  2\n",
      "Number of attributes hits by key cards =  1\n",
      "matrix rank =  64\n",
      "s values: [(3.0, 14), (4.0, 9), (5.0, 4), (2.0, 4), (17.0, 3), (13.0, 3), (11.0, 3), (9.0, 3), (7.0, 3), (18.0, 2), (16.0, 2), (15.0, 2), (12.0, 2), (10.0, 2), (8.0, 2), (51.0, 1), (22.0, 1), (21.0, 1), (20.0, 1), (19.0, 1), (6.0, 1), (0.0, 1)]\n",
      "Number of mistakes made by model =  4167 / 13824 = 0.3014322916666667\n"
     ]
    },
    {
     "data": {
      "image/png": "[encoded data removed]",
      "text/plain": [
       "<Figure size 432x288 with 1 Axes>"
      ]
     },
     "metadata": {
      "needs_background": "light"
     },
     "output_type": "display_data"
    }
   ],
   "source": [
    "num_attr_shared_in_query = 2\n",
    "num_attr_hit_by_key = 1\n",
    "keep_queries, keep_querykeys = construct_filter(trainmodule, num_attr_shared_in_query, num_attr_hit_by_key)\n",
    "print('------Ground-truth--------')\n",
    "find_rank(keep_queries, keep_querykeys, gt_labels.cpu().numpy(), num_attr_shared_in_query, num_attr_hit_by_key)\n",
    "plt.show()\n",
    "print('------Predicted--------')\n",
    "find_rank(keep_queries, keep_querykeys, binary_predictions.cpu().numpy(), num_attr_shared_in_query, num_attr_hit_by_key)\n",
    "plt.show()"
   ]
  },
  {
   "cell_type": "code",
   "execution_count": 186,
   "id": "synthetic-perfume",
   "metadata": {},
   "outputs": [
    {
     "name": "stdout",
     "output_type": "stream",
     "text": [
      "------Ground-truth--------\n",
      "Number of shared attributes in query cards =  2\n",
      "Number of attributes hits by key cards =  None\n",
      "matrix rank =  0\n",
      "s values: [(0.0, 65)]\n",
      "Number of mistakes made by model =  180 / 21312 = 0.008445945945945946\n"
     ]
    },
    {
     "data": {
      "image/png": "[encoded data removed]",
      "text/plain": [
       "<Figure size 432x288 with 1 Axes>"
      ]
     },
     "metadata": {
      "needs_background": "light"
     },
     "output_type": "display_data"
    },
    {
     "name": "stdout",
     "output_type": "stream",
     "text": [
      "------Predicted--------\n",
      "Number of shared attributes in query cards =  2\n",
      "Number of attributes hits by key cards =  None\n",
      "matrix rank =  19\n",
      "s values: [(0.0, 50), (1.0, 7), (2.0, 5), (7.0, 2), (3.0, 1)]\n",
      "Number of mistakes made by model =  180 / 21312 = 0.008445945945945946\n"
     ]
    },
    {
     "data": {
      "image/png": "[encoded data removed]",
      "text/plain": [
       "<Figure size 432x288 with 1 Axes>"
      ]
     },
     "metadata": {
      "needs_background": "light"
     },
     "output_type": "display_data"
    }
   ],
   "source": [
    "num_attr_shared_in_query = 2\n",
    "num_attr_hit_by_key = 0\n",
    "keep_queries, keep_querykeys = construct_filter(trainmodule, num_attr_shared_in_query, num_attr_hit_by_key)\n",
    "print('------Ground-truth--------')\n",
    "find_rank(keep_queries, keep_querykeys, gt_labels.cpu().numpy(), num_attr_shared_in_query, num_attr_hit_by_key)\n",
    "plt.show()\n",
    "print('------Predicted--------')\n",
    "find_rank(keep_queries, keep_querykeys, binary_predictions.cpu().numpy(), num_attr_shared_in_query, num_attr_hit_by_key)\n",
    "plt.show()"
   ]
  },
  {
   "cell_type": "code",
   "execution_count": 179,
   "id": "employed-thomas",
   "metadata": {},
   "outputs": [
    {
     "name": "stdout",
     "output_type": "stream",
     "text": [
      "------Ground-truth--------\n",
      "Number of shared attributes in query cards =  1\n",
      "Number of attributes hits by key cards =  1\n",
      "matrix rank =  10\n",
      "s values: [(0.0, 55), (47.0, 6), (48.0, 3), (83.0, 1)]\n",
      "Number of mistakes made by model =  0 / 27648 = 0.0\n"
     ]
    },
    {
     "data": {
      "image/png": "[encoded data removed]",
      "text/plain": [
       "<Figure size 432x288 with 1 Axes>"
      ]
     },
     "metadata": {
      "needs_background": "light"
     },
     "output_type": "display_data"
    },
    {
     "name": "stdout",
     "output_type": "stream",
     "text": [
      "------Predicted--------\n",
      "Number of shared attributes in query cards =  1\n",
      "Number of attributes hits by key cards =  1\n",
      "matrix rank =  10\n",
      "s values: [(0.0, 55), (47.0, 6), (48.0, 3), (83.0, 1)]\n",
      "Number of mistakes made by model =  0 / 27648 = 0.0\n"
     ]
    },
    {
     "data": {
      "image/png": "[encoded data removed]",
      "text/plain": [
       "<Figure size 432x288 with 1 Axes>"
      ]
     },
     "metadata": {
      "needs_background": "light"
     },
     "output_type": "display_data"
    }
   ],
   "source": [
    "num_attr_shared_in_query = 1\n",
    "num_attr_hit_by_key = 1\n",
    "keep_queries, keep_querykeys = construct_filter(trainmodule, num_attr_shared_in_query, num_attr_hit_by_key)\n",
    "print('------Ground-truth--------')\n",
    "find_rank(keep_queries, keep_querykeys, gt_labels.cpu().numpy(), num_attr_shared_in_query, num_attr_hit_by_key)\n",
    "plt.show()\n",
    "print('------Predicted--------')\n",
    "find_rank(keep_queries, keep_querykeys, binary_predictions.cpu().numpy(), num_attr_shared_in_query, num_attr_hit_by_key)\n",
    "plt.show()"
   ]
  },
  {
   "cell_type": "code",
   "execution_count": 187,
   "id": "burning-international",
   "metadata": {},
   "outputs": [
    {
     "name": "stdout",
     "output_type": "stream",
     "text": [
      "------Ground-truth--------\n",
      "Number of shared attributes in query cards =  1\n",
      "Number of attributes hits by key cards =  None\n",
      "matrix rank =  0\n",
      "s values: [(0.0, 65)]\n",
      "Number of mistakes made by model =  1 / 84672 = 1.1810279667422525e-05\n"
     ]
    },
    {
     "data": {
      "image/png": "[encoded data removed]",
      "text/plain": [
       "<Figure size 432x288 with 1 Axes>"
      ]
     },
     "metadata": {
      "needs_background": "light"
     },
     "output_type": "display_data"
    },
    {
     "name": "stdout",
     "output_type": "stream",
     "text": [
      "------Predicted--------\n",
      "Number of shared attributes in query cards =  1\n",
      "Number of attributes hits by key cards =  None\n",
      "matrix rank =  1\n",
      "s values: [(0.0, 64), (1.0, 1)]\n",
      "Number of mistakes made by model =  1 / 84672 = 1.1810279667422525e-05\n"
     ]
    },
    {
     "data": {
      "image/png": "[encoded data removed]",
      "text/plain": [
       "<Figure size 432x288 with 1 Axes>"
      ]
     },
     "metadata": {
      "needs_background": "light"
     },
     "output_type": "display_data"
    }
   ],
   "source": [
    "num_attr_shared_in_query = 1\n",
    "num_attr_hit_by_key = 0\n",
    "keep_queries, keep_querykeys = construct_filter(trainmodule, num_attr_shared_in_query, num_attr_hit_by_key)\n",
    "print('------Ground-truth--------')\n",
    "find_rank(keep_queries, keep_querykeys, gt_labels.cpu().numpy(), num_attr_shared_in_query, num_attr_hit_by_key)\n",
    "plt.show()\n",
    "print('------Predicted--------')\n",
    "find_rank(keep_queries, keep_querykeys, binary_predictions.cpu().numpy(), num_attr_shared_in_query, num_attr_hit_by_key)\n",
    "plt.show()"
   ]
  },
  {
   "cell_type": "code",
   "execution_count": 184,
   "id": "infinite-steal",
   "metadata": {},
   "outputs": [
    {
     "name": "stdout",
     "output_type": "stream",
     "text": [
      "------Ground-truth--------\n",
      "Number of shared attributes in query cards =  0\n",
      "Number of attributes hits by key cards =  1\n",
      "matrix rank =  1\n",
      "s values: [(0.0, 64), (41.0, 1)]\n",
      "Number of mistakes made by model =  0 / 1728 = 0.0\n"
     ]
    },
    {
     "data": {
      "image/png": "[encoded data removed]",
      "text/plain": [
       "<Figure size 432x288 with 1 Axes>"
      ]
     },
     "metadata": {
      "needs_background": "light"
     },
     "output_type": "display_data"
    },
    {
     "name": "stdout",
     "output_type": "stream",
     "text": [
      "------Predicted--------\n",
      "Number of shared attributes in query cards =  0\n",
      "Number of attributes hits by key cards =  1\n",
      "matrix rank =  1\n",
      "s values: [(0.0, 64), (41.0, 1)]\n",
      "Number of mistakes made by model =  0 / 1728 = 0.0\n"
     ]
    },
    {
     "data": {
      "image/png": "[encoded data removed]",
      "text/plain": [
       "<Figure size 432x288 with 1 Axes>"
      ]
     },
     "metadata": {
      "needs_background": "light"
     },
     "output_type": "display_data"
    }
   ],
   "source": [
    "num_attr_shared_in_query = 0\n",
    "num_attr_hit_by_key = 1\n",
    "keep_queries, keep_querykeys = construct_filter(trainmodule, num_attr_shared_in_query, num_attr_hit_by_key)\n",
    "print('------Ground-truth--------')\n",
    "find_rank(keep_queries, keep_querykeys, gt_labels.cpu().numpy(), num_attr_shared_in_query, num_attr_hit_by_key)\n",
    "plt.show()\n",
    "print('------Predicted--------')\n",
    "find_rank(keep_queries, keep_querykeys, binary_predictions.cpu().numpy(), num_attr_shared_in_query, num_attr_hit_by_key)\n",
    "plt.show()"
   ]
  },
  {
   "cell_type": "code",
   "execution_count": 188,
   "id": "front-dining",
   "metadata": {},
   "outputs": [
    {
     "name": "stdout",
     "output_type": "stream",
     "text": [
      "------Ground-truth--------\n",
      "Number of shared attributes in query cards =  0\n",
      "Number of attributes hits by key cards =  None\n",
      "matrix rank =  0\n",
      "s values: [(0.0, 65)]\n",
      "Number of mistakes made by model =  0 / 110592 = 0.0\n"
     ]
    },
    {
     "data": {
      "image/png": "[encoded data removed]",
      "text/plain": [
       "<Figure size 432x288 with 1 Axes>"
      ]
     },
     "metadata": {
      "needs_background": "light"
     },
     "output_type": "display_data"
    },
    {
     "name": "stdout",
     "output_type": "stream",
     "text": [
      "------Predicted--------\n",
      "Number of shared attributes in query cards =  0\n",
      "Number of attributes hits by key cards =  None\n",
      "matrix rank =  0\n",
      "s values: [(0.0, 65)]\n",
      "Number of mistakes made by model =  0 / 110592 = 0.0\n"
     ]
    },
    {
     "data": {
      "image/png": "[encoded data removed]",
      "text/plain": [
       "<Figure size 432x288 with 1 Axes>"
      ]
     },
     "metadata": {
      "needs_background": "light"
     },
     "output_type": "display_data"
    }
   ],
   "source": [
    "num_attr_shared_in_query = 0\n",
    "num_attr_hit_by_key = 0\n",
    "keep_queries, keep_querykeys = construct_filter(trainmodule, num_attr_shared_in_query, num_attr_hit_by_key)\n",
    "print('------Ground-truth--------')\n",
    "find_rank(keep_queries, keep_querykeys, gt_labels.cpu().numpy(), num_attr_shared_in_query, num_attr_hit_by_key)\n",
    "plt.show()\n",
    "print('------Predicted--------')\n",
    "find_rank(keep_queries, keep_querykeys, binary_predictions.cpu().numpy(), num_attr_shared_in_query, num_attr_hit_by_key)\n",
    "plt.show()"
   ]
  },
  {
   "cell_type": "code",
   "execution_count": null,
   "id": "particular-remedy",
   "metadata": {},
   "outputs": [],
   "source": []
  }
 ],
 "metadata": {
  "kernelspec": {
   "display_name": "Python 3",
   "language": "python",
   "name": "python3"
  },
  "language_info": {
   "codemirror_mode": {
    "name": "ipython",
    "version": 3
   },
   "file_extension": ".py",
   "mimetype": "text/x-python",
   "name": "python",
   "nbconvert_exporter": "python",
   "pygments_lexer": "ipython3",
   "version": "3.8.3"
  }
 },
 "nbformat": 4,
 "nbformat_minor": 5
}

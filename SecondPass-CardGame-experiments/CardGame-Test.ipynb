{
 "cells": [
  {
   "cell_type": "code",
   "execution_count": 5,
   "id": "general-tribe",
   "metadata": {
    "scrolled": false
   },
   "outputs": [
    {
     "name": "stdout",
     "output_type": "stream",
     "text": [
      "__Python VERSION: 3.8.3 (default, May 19 2020, 18:47:26) \n",
      "[GCC 7.3.0]\n",
      "__pyTorch VERSION: 1.7.0\n",
      "__CUDA VERSION\n",
      "/usr/bin/sh: 1: nvcc: not found\n",
      "__CUDNN VERSION: 8003\n",
      "__Number CUDA Devices: 2\n",
      "__Devices\n",
      "Active CUDA Device: GPU 0\n",
      "Available devices  2\n",
      "Current cuda device  0\n"
     ]
    }
   ],
   "source": [
    "# https://discuss.pytorch.org/t/i-have-3-gpu-why-torch-cuda-device-count-only-return-1/7245/4\n",
    "import torch\n",
    "import sys\n",
    "print('__Python VERSION:', sys.version)\n",
    "print('__pyTorch VERSION:', torch.__version__)\n",
    "print('__CUDA VERSION')\n",
    "from subprocess import call\n",
    "# call([\"nvcc\", \"--version\"]) does not work\n",
    "! nvcc --version\n",
    "print('__CUDNN VERSION:', torch.backends.cudnn.version())\n",
    "print('__Number CUDA Devices:', torch.cuda.device_count())\n",
    "print('__Devices')\n",
    "call([\"nvidia-smi\", \"--format=csv\", \"--query-gpu=index,name,driver_version,memory.total,memory.used,memory.free\"])\n",
    "print('Active CUDA Device: GPU', torch.cuda.current_device())\n",
    "\n",
    "print ('Available devices ', torch.cuda.device_count())\n",
    "print ('Current cuda device ', torch.cuda.current_device())"
   ]
  },
  {
   "cell_type": "code",
   "execution_count": 1,
   "id": "solar-suggestion",
   "metadata": {},
   "outputs": [
    {
     "name": "stderr",
     "output_type": "stream",
     "text": [
      "\u001b[34m\u001b[1mwandb\u001b[0m: Currently logged in as: \u001b[33mchucooleg\u001b[0m (use `wandb login --relogin` to force relogin)\n"
     ]
    }
   ],
   "source": [
    "%load_ext autoreload\n",
    "%autoreload 2\n",
    "\n",
    "import os\n",
    "import json\n",
    "import main\n",
    "from argparse import ArgumentDefaultsHelpFormatter, ArgumentParser"
   ]
  },
  {
   "cell_type": "code",
   "execution_count": 2,
   "id": "handmade-joining",
   "metadata": {},
   "outputs": [],
   "source": [
    "# arguments\n",
    "parser = ArgumentParser(formatter_class=ArgumentDefaultsHelpFormatter)\n",
    "args = parser.parse_args('')\n",
    "\n",
    "args.data_path = '../Raw_Datasets/3Attr-4Vals-2hat23Train-2hat12Val.json'\n",
    "args.config_path = 'checkpoints/ContrastiveLearning-cardgame-Scaling-SecondPass/20210223-192624-CardGame:OR;attr3-val4;contrastive;lookupTable;d_model32;dot-product;params133.15K/config.json'\n",
    "args.generate_full_matrix = True\n",
    "args.checkpoint_dir = 'checkpoints'\n",
    "args.mode = 'test_full'\n",
    "args.gpu = 0\n",
    "args.approve_before_training = False\n",
    "args.runID = '28ig3igg'\n",
    "args.project_name = \"ContrastiveLearning-cardgame-Scaling-SecondPass\"\n",
    "args.ckpt_name = 'epoch=00-step=58999-val_loss=468.07.ckpt'"
   ]
  },
  {
   "cell_type": "code",
   "execution_count": 3,
   "id": "particular-remedy",
   "metadata": {
    "scrolled": true
   },
   "outputs": [
    {
     "name": "stderr",
     "output_type": "stream",
     "text": [
      "Global seed set to 42\n"
     ]
    },
    {
     "name": "stdout",
     "output_type": "stream",
     "text": [
      "---------data----------\n",
      "num_attributes : 3\n",
      "num_attr_vals : 4\n",
      "key_support_size : 65\n",
      "query_support_size : 4096\n",
      "train_datapoints length : 8388608\n",
      "val_datapoints length : 4096\n",
      "sparsity_estimate : 0.17980795755722673\n",
      "-----------------------\n",
      "----------hparams----------\n",
      "seed : 42\n",
      "batch_size : 128\n",
      "max_epochs : 1\n",
      "d_model : 32\n",
      "embed_dropout : 0.0\n",
      "model : contrastive\n",
      "embedding_by_property : False\n",
      "encoder : lookup\n",
      "decoder : lookup\n",
      "d_ff : 1024\n",
      "num_heads : 1\n",
      "N_enc : 2\n",
      "N_dec : 2\n",
      "attn_wt_tying_scheme : untie_QKVO_zero_O\n",
      "attn_wt_dropout : 0.0\n",
      "heads_dropout : 0.0\n",
      "pff_dropout : 0.0\n",
      "representation_pos : 0\n",
      "dotproduct_bottleneck : True\n",
      "loss_temperature_const : 1.0\n",
      "loss_smoothing_const : 0.1\n",
      "nonlinear_classifier_scale_down_factor : [2, 1]\n",
      "adam_lr : 0.001\n",
      "adam_beta1 : 0.9\n",
      "adam_beta2 : 0.999\n",
      "adam_epsilon : 1e-08\n",
      "adam_weight_decay : 0\n",
      "scheduled_adam_beta1 : 0.9\n",
      "scheduled_adam_beta2 : 0.98\n",
      "scheduled_adam_epsilon : 1e-09\n",
      "scheduled_adam_warmup_steps : 4000\n",
      "gradient_clip_val : 0\n",
      "debug : False\n",
      "key_support_size : 65\n",
      "query_support_size : 4096\n",
      "num_attributes : 3\n",
      "num_attr_vals : 4\n",
      "num_cards_per_query : 2\n",
      "vocab_size : 17\n",
      "NULL : 12\n",
      "SEP : 13\n",
      "SOS : 14\n",
      "EOS : 15\n",
      "PAD : 16\n",
      "populate_logits_matrix : True\n",
      "len_q : 1\n",
      "len_k : 1\n",
      "---------------------------\n",
      "Generating Full Matrix\n",
      "Generated 65 unqiue cards\n",
      "Generated 4096 cardpairs\n",
      "-- 2368 cardpairs with shared concept\n",
      "-- 1728 cardpairs without shared concept\n",
      "Number of cardpairs per shared concept [(1, 1728), (0, 1728), (2, 576), (3, 64)]\n",
      "Total number of matches =  47872\n",
      "Number of matches per key concept hit =  [(1, 43200), (2, 2880), (0, 1728), (3, 64)]\n",
      "{'shape': (65, 4096), 'size': 266240, 'sparsity': 0.1798076923076923, 'xy_rank': 65, 'xy_div_xyind_rank': 65}\n",
      "   | Name                                         | Type               | Params\n",
      "-------------------------------------------------------------------------------------\n",
      "0  | metrics                                      | ThresholdedMetrics | 0     \n",
      "1  | model                                        | EncoderPredictor   | 133 K \n",
      "2  | model.inp_query_layer                        | Sequential         | 131 K \n",
      "3  | model.inp_query_layer.scaled_embed           | ScaledEmbedding    | 131 K \n",
      "4  | model.inp_query_layer.scaled_embed.embedding | Embedding          | 131 K \n",
      "5  | model.inp_query_layer.embed_dropout          | Dropout            | 0     \n",
      "6  | model.inp_key_layer                          | Sequential         | 2.1 K \n",
      "7  | model.inp_key_layer.scaled_embed             | ScaledEmbedding    | 2.1 K \n",
      "8  | model.inp_key_layer.scaled_embed.embedding   | Embedding          | 2.1 K \n",
      "9  | loss_criterion                               | InfoCELoss         | 0     \n",
      "10 | loss_criterion.CE_loss                       | CrossEntropyLoss   | 0     \n",
      "11 | softmax                                      | Softmax            | 0     \n",
      "-------------------------------------------------------------------------------------\n",
      "133 K     Trainable params\n",
      "0         Non-trainable params\n",
      "133 K     Total params \n",
      "\n",
      "RUN NAME :\n",
      " CardGame:OR;attr3-val4;contrastive;lookupTable;d_model32;dot-product;params133.15K\n",
      "Checkpoint Path:\n",
      " checkpoints/ContrastiveLearning-cardgame-Scaling-SecondPass/20210223-192624-CardGame:OR;attr3-val4;contrastive;lookupTable;d_model32;dot-product;params133.15K\n"
     ]
    },
    {
     "name": "stderr",
     "output_type": "stream",
     "text": [
      "GPU available: True, used: True\n",
      "TPU available: None, using: 0 TPU cores\n",
      "LOCAL_RANK: 0 - CUDA_VISIBLE_DEVICES: [0,1]\n"
     ]
    },
    {
     "name": "stdout",
     "output_type": "stream",
     "text": [
      "Testing:   0%|          | 0/32 [00:00<?, ?it/s]"
     ]
    },
    {
     "name": "stderr",
     "output_type": "stream",
     "text": [
      "/home/user/miniconda/lib/python3.8/site-packages/pytorch_lightning/utilities/distributed.py:50: UserWarning: The dataloader, test dataloader 0, does not have many workers which may be a bottleneck. Consider increasing the value of the `num_workers` argument` (try 16 which is the number of cpus on this machine) in the `DataLoader` init to improve performance.\n",
      "  warnings.warn(*args, **kwargs)\n"
     ]
    },
    {
     "name": "stdout",
     "output_type": "stream",
     "text": [
      "Testing: 100%|██████████| 32/32 [00:18<00:00,  1.77it/s]\n"
     ]
    },
    {
     "name": "stderr",
     "output_type": "stream",
     "text": [
      "/home/user/miniconda/lib/python3.8/site-packages/pytorch_lightning/utilities/distributed.py:50: UserWarning: The testing_epoch_end should not return anything as of 9.1. To log, use self.log(...) or self.write(...) directly in the LightningModule\n",
      "  warnings.warn(*args, **kwargs)\n"
     ]
    },
    {
     "name": "stdout",
     "output_type": "stream",
     "text": [
      "--------------------------------------------------------------------------------\n",
      "DATALOADER:0 TEST RESULTS\n",
      "{'avg_test_NullQueries_accuracy_by_Query': 1.0,\n",
      " 'avg_test_NullQueries_accuracy_by_QueryKey': 1.0,\n",
      " 'avg_test_NullQueries_f1_by_Query': 1.0,\n",
      " 'avg_test_NullQueries_f1_by_QueryKey': 1.0,\n",
      " 'avg_test_NullQueries_precision_by_Query': 1.0,\n",
      " 'avg_test_NullQueries_precision_by_QueryKey': 1.0,\n",
      " 'avg_test_NullQueries_recall_by_Query': 1.0,\n",
      " 'avg_test_NullQueries_recall_by_QueryKey': 1.0,\n",
      " 'avg_test_accuracy_by_Query': 0.9988018274307251,\n",
      " 'avg_test_accuracy_by_QueryKey': 0.9988018274307251,\n",
      " 'avg_test_f1_by_Query': 0.9988530874252319,\n",
      " 'avg_test_f1_by_QueryKey': 0.9966561794281006,\n",
      " 'avg_test_nonNullQueries_accuracy_by_Query': 0.9979274868965149,\n",
      " 'avg_test_nonNullQueries_accuracy_by_QueryKey': 0.9979275465011597,\n",
      " 'avg_test_nonNullQueries_f1_by_Query': 0.9980161190032959,\n",
      " 'avg_test_nonNullQueries_f1_by_QueryKey': 0.9965305328369141,\n",
      " 'avg_test_nonNullQueries_precision_by_Query': 1.0,\n",
      " 'avg_test_nonNullQueries_precision_by_QueryKey': 1.0,\n",
      " 'avg_test_nonNullQueries_recall_by_Query': 0.9963151216506958,\n",
      " 'avg_test_nonNullQueries_recall_by_QueryKey': 0.9930868744850159,\n",
      " 'avg_test_precision_by_Query': 1.0,\n",
      " 'avg_test_precision_by_QueryKey': 1.0,\n",
      " 'avg_test_recall_by_Query': 0.997869610786438,\n",
      " 'avg_test_recall_by_QueryKey': 0.9933364391326904,\n",
      " 'test_NullQueries_accuracy_by_Query': 1.0,\n",
      " 'test_NullQueries_accuracy_by_QueryKey': 1.0,\n",
      " 'test_NullQueries_error_rate_0sharedAttributesInQuery_0hitsByKey': 0.0,\n",
      " 'test_NullQueries_error_rate_0sharedAttributesInQuery_1hitsByKey': 0.0,\n",
      " 'test_NullQueries_error_rate_0sharedAttributesInQuery_2hitsByKey': 0.0,\n",
      " 'test_NullQueries_error_rate_0sharedAttributesInQuery_3hitsByKey': 0.0,\n",
      " 'test_NullQueries_error_rate_1sharedAttributesInQuery_0hitsByKey': 0.0,\n",
      " 'test_NullQueries_error_rate_1sharedAttributesInQuery_1hitsByKey': 0.0,\n",
      " 'test_NullQueries_error_rate_1sharedAttributesInQuery_2hitsByKey': 0.0,\n",
      " 'test_NullQueries_error_rate_1sharedAttributesInQuery_3hitsByKey': 0.0,\n",
      " 'test_NullQueries_error_rate_2sharedAttributesInQuery_0hitsByKey': 0.0,\n",
      " 'test_NullQueries_error_rate_2sharedAttributesInQuery_1hitsByKey': 0.0,\n",
      " 'test_NullQueries_error_rate_2sharedAttributesInQuery_2hitsByKey': 0.0,\n",
      " 'test_NullQueries_error_rate_2sharedAttributesInQuery_3hitsByKey': 0.0,\n",
      " 'test_NullQueries_error_rate_3sharedAttributesInQuery_0hitsByKey': 0.0,\n",
      " 'test_NullQueries_error_rate_3sharedAttributesInQuery_1hitsByKey': 0.0,\n",
      " 'test_NullQueries_error_rate_3sharedAttributesInQuery_2hitsByKey': 0.0,\n",
      " 'test_NullQueries_error_rate_3sharedAttributesInQuery_3hitsByKey': 0.0,\n",
      " 'test_NullQueries_f1_by_Query': 1.0,\n",
      " 'test_NullQueries_f1_by_QueryKey': 1.0,\n",
      " 'test_NullQueries_precision_by_Query': 1.0,\n",
      " 'test_NullQueries_precision_by_QueryKey': 1.0,\n",
      " 'test_NullQueries_recall_by_Query': 1.0,\n",
      " 'test_NullQueries_recall_by_QueryKey': 1.0,\n",
      " 'test_NullQueries_total_count_0sharedAttributesInQuery_0hitsByKey': 3456.0,\n",
      " 'test_NullQueries_total_count_0sharedAttributesInQuery_1hitsByKey': 54.0,\n",
      " 'test_NullQueries_total_count_0sharedAttributesInQuery_2hitsByKey': 0.0,\n",
      " 'test_NullQueries_total_count_0sharedAttributesInQuery_3hitsByKey': 0.0,\n",
      " 'test_NullQueries_total_count_1sharedAttributesInQuery_0hitsByKey': 0.0,\n",
      " 'test_NullQueries_total_count_1sharedAttributesInQuery_1hitsByKey': 0.0,\n",
      " 'test_NullQueries_total_count_1sharedAttributesInQuery_2hitsByKey': 0.0,\n",
      " 'test_NullQueries_total_count_1sharedAttributesInQuery_3hitsByKey': 0.0,\n",
      " 'test_NullQueries_total_count_2sharedAttributesInQuery_0hitsByKey': 0.0,\n",
      " 'test_NullQueries_total_count_2sharedAttributesInQuery_1hitsByKey': 0.0,\n",
      " 'test_NullQueries_total_count_2sharedAttributesInQuery_2hitsByKey': 0.0,\n",
      " 'test_NullQueries_total_count_2sharedAttributesInQuery_3hitsByKey': 0.0,\n",
      " 'test_NullQueries_total_count_3sharedAttributesInQuery_0hitsByKey': 0.0,\n",
      " 'test_NullQueries_total_count_3sharedAttributesInQuery_1hitsByKey': 0.0,\n",
      " 'test_NullQueries_total_count_3sharedAttributesInQuery_2hitsByKey': 0.0,\n",
      " 'test_NullQueries_total_count_3sharedAttributesInQuery_3hitsByKey': 0.0,\n",
      " 'test_accuracy_by_Query': 0.9988018274307251,\n",
      " 'test_accuracy_by_QueryKey': 0.9988018274307251,\n",
      " 'test_error_rate_0sharedAttributesInQuery_0hitsByKey': 0.0,\n",
      " 'test_error_rate_0sharedAttributesInQuery_1hitsByKey': 0.0,\n",
      " 'test_error_rate_0sharedAttributesInQuery_2hitsByKey': 0.0,\n",
      " 'test_error_rate_0sharedAttributesInQuery_3hitsByKey': 0.0,\n",
      " 'test_error_rate_1sharedAttributesInQuery_0hitsByKey': 0.0,\n",
      " 'test_error_rate_1sharedAttributesInQuery_1hitsByKey': 0.0,\n",
      " 'test_error_rate_1sharedAttributesInQuery_2hitsByKey': 0.0,\n",
      " 'test_error_rate_1sharedAttributesInQuery_3hitsByKey': 0.0,\n",
      " 'test_error_rate_2sharedAttributesInQuery_0hitsByKey': 0.0,\n",
      " 'test_error_rate_2sharedAttributesInQuery_1hitsByKey': 0.0008680556202307343,\n",
      " 'test_error_rate_2sharedAttributesInQuery_2hitsByKey': 0.0,\n",
      " 'test_error_rate_2sharedAttributesInQuery_3hitsByKey': 0.0,\n",
      " 'test_error_rate_3sharedAttributesInQuery_0hitsByKey': 0.0,\n",
      " 'test_error_rate_3sharedAttributesInQuery_1hitsByKey': 0.14178240299224854,\n",
      " 'test_error_rate_3sharedAttributesInQuery_2hitsByKey': 0.0,\n",
      " 'test_error_rate_3sharedAttributesInQuery_3hitsByKey': 0.96875,\n",
      " 'test_f1_by_Query': 0.9988530874252319,\n",
      " 'test_f1_by_QueryKey': 0.9966562390327454,\n",
      " 'test_nonNullQueries_accuracy_by_Query': 0.9979274868965149,\n",
      " 'test_nonNullQueries_accuracy_by_QueryKey': 0.9979275465011597,\n",
      " 'test_nonNullQueries_error_rate_0sharedAttributesInQuery_0hitsByKey': 0.0,\n",
      " 'test_nonNullQueries_error_rate_0sharedAttributesInQuery_1hitsByKey': 0.0,\n",
      " 'test_nonNullQueries_error_rate_0sharedAttributesInQuery_2hitsByKey': 0.0,\n",
      " 'test_nonNullQueries_error_rate_0sharedAttributesInQuery_3hitsByKey': 0.0,\n",
      " 'test_nonNullQueries_error_rate_1sharedAttributesInQuery_0hitsByKey': 0.0,\n",
      " 'test_nonNullQueries_error_rate_1sharedAttributesInQuery_1hitsByKey': 0.0,\n",
      " 'test_nonNullQueries_error_rate_1sharedAttributesInQuery_2hitsByKey': 0.0,\n",
      " 'test_nonNullQueries_error_rate_1sharedAttributesInQuery_3hitsByKey': 0.0,\n",
      " 'test_nonNullQueries_error_rate_2sharedAttributesInQuery_0hitsByKey': 0.0,\n",
      " 'test_nonNullQueries_error_rate_2sharedAttributesInQuery_1hitsByKey': 0.0008680556202307343,\n",
      " 'test_nonNullQueries_error_rate_2sharedAttributesInQuery_2hitsByKey': 0.0,\n",
      " 'test_nonNullQueries_error_rate_2sharedAttributesInQuery_3hitsByKey': 0.0,\n",
      " 'test_nonNullQueries_error_rate_3sharedAttributesInQuery_0hitsByKey': 0.0,\n",
      " 'test_nonNullQueries_error_rate_3sharedAttributesInQuery_1hitsByKey': 0.14178240299224854,\n",
      " 'test_nonNullQueries_error_rate_3sharedAttributesInQuery_2hitsByKey': 0.0,\n",
      " 'test_nonNullQueries_error_rate_3sharedAttributesInQuery_3hitsByKey': 0.96875,\n",
      " 'test_nonNullQueries_f1_by_Query': 0.9980161190032959,\n",
      " 'test_nonNullQueries_f1_by_QueryKey': 0.9965305328369141,\n",
      " 'test_nonNullQueries_precision_by_Query': 1.0,\n",
      " 'test_nonNullQueries_precision_by_QueryKey': 1.0,\n",
      " 'test_nonNullQueries_recall_by_Query': 0.9963151216506958,\n",
      " 'test_nonNullQueries_recall_by_QueryKey': 0.9930868148803711,\n",
      " 'test_nonNullQueries_total_count_0sharedAttributesInQuery_0hitsByKey': 0.0,\n",
      " 'test_nonNullQueries_total_count_0sharedAttributesInQuery_1hitsByKey': 0.0,\n",
      " 'test_nonNullQueries_total_count_0sharedAttributesInQuery_2hitsByKey': 0.0,\n",
      " 'test_nonNullQueries_total_count_0sharedAttributesInQuery_3hitsByKey': 0.0,\n",
      " 'test_nonNullQueries_total_count_1sharedAttributesInQuery_0hitsByKey': 2646.0,\n",
      " 'test_nonNullQueries_total_count_1sharedAttributesInQuery_1hitsByKey': 864.0,\n",
      " 'test_nonNullQueries_total_count_1sharedAttributesInQuery_2hitsByKey': 0.0,\n",
      " 'test_nonNullQueries_total_count_1sharedAttributesInQuery_3hitsByKey': 0.0,\n",
      " 'test_nonNullQueries_total_count_2sharedAttributesInQuery_0hitsByKey': 666.0,\n",
      " 'test_nonNullQueries_total_count_2sharedAttributesInQuery_1hitsByKey': 432.0,\n",
      " 'test_nonNullQueries_total_count_2sharedAttributesInQuery_2hitsByKey': 72.0,\n",
      " 'test_nonNullQueries_total_count_2sharedAttributesInQuery_3hitsByKey': 0.0,\n",
      " 'test_nonNullQueries_total_count_3sharedAttributesInQuery_0hitsByKey': 56.0,\n",
      " 'test_nonNullQueries_total_count_3sharedAttributesInQuery_1hitsByKey': 54.0,\n",
      " 'test_nonNullQueries_total_count_3sharedAttributesInQuery_2hitsByKey': 18.0,\n",
      " 'test_nonNullQueries_total_count_3sharedAttributesInQuery_3hitsByKey': 2.0,\n",
      " 'test_precision_by_Query': 1.0,\n",
      " 'test_precision_by_QueryKey': 1.0,\n",
      " 'test_recall_by_Query': 0.997869610786438,\n",
      " 'test_recall_by_QueryKey': 0.9933364391326904,\n",
      " 'test_total_count_0sharedAttributesInQuery_0hitsByKey': 3456.0,\n",
      " 'test_total_count_0sharedAttributesInQuery_1hitsByKey': 54.0,\n",
      " 'test_total_count_0sharedAttributesInQuery_2hitsByKey': 0.0,\n",
      " 'test_total_count_0sharedAttributesInQuery_3hitsByKey': 0.0,\n",
      " 'test_total_count_1sharedAttributesInQuery_0hitsByKey': 2646.0,\n",
      " 'test_total_count_1sharedAttributesInQuery_1hitsByKey': 864.0,\n",
      " 'test_total_count_1sharedAttributesInQuery_2hitsByKey': 0.0,\n",
      " 'test_total_count_1sharedAttributesInQuery_3hitsByKey': 0.0,\n",
      " 'test_total_count_2sharedAttributesInQuery_0hitsByKey': 666.0,\n",
      " 'test_total_count_2sharedAttributesInQuery_1hitsByKey': 432.0,\n",
      " 'test_total_count_2sharedAttributesInQuery_2hitsByKey': 72.0,\n",
      " 'test_total_count_2sharedAttributesInQuery_3hitsByKey': 0.0,\n",
      " 'test_total_count_3sharedAttributesInQuery_0hitsByKey': 56.0,\n",
      " 'test_total_count_3sharedAttributesInQuery_1hitsByKey': 54.0,\n",
      " 'test_total_count_3sharedAttributesInQuery_2hitsByKey': 18.0,\n",
      " 'test_total_count_3sharedAttributesInQuery_3hitsByKey': 2.0}\n",
      "--------------------------------------------------------------------------------\n",
      "SELF GT MI tensor(1.2616, device='cuda:0', dtype=torch.float64)\n",
      "xy_hat_rank: 65\n",
      "xy_div_xyind_hat_rank: 65\n",
      "mi_hat: tensor(1.1262, device='cuda:0', dtype=torch.float64)\n",
      "mi_gt: tensor(1.2616, device='cuda:0', dtype=torch.float64)\n",
      "kl_div: tensor(2.3615e-07, device='cuda:0', dtype=torch.float64)\n"
     ]
    },
    {
     "name": "stderr",
     "output_type": "stream",
     "text": [
      "/home/user/miniconda/lib/python3.8/site-packages/torch/nn/functional.py:2398: UserWarning: reduction: 'mean' divides the total loss by both the batch size and the support size.'batchmean' divides only by the batch size, and aligns with the KL div math definition.'mean' will be changed to behave the same as 'batchmean' in the next major release.\n",
      "  warnings.warn(\"reduction: 'mean' divides the total loss by both the batch size and the support size.\"\n"
     ]
    },
    {
     "data": {
      "text/plain": [
       "(ContrastiveTrainModule(\n",
       "   (metrics): ThresholdedMetrics()\n",
       "   (model): EncoderPredictor(\n",
       "     (inp_query_layer): Sequential(\n",
       "       (scaled_embed): ScaledEmbedding(\n",
       "         (embedding): Embedding(4096, 32)\n",
       "       )\n",
       "       (embed_dropout): Dropout(p=0.0, inplace=False)\n",
       "     )\n",
       "     (inp_key_layer): Sequential(\n",
       "       (scaled_embed): ScaledEmbedding(\n",
       "         (embedding): Embedding(65, 32)\n",
       "       )\n",
       "       (embed_dropout): Dropout(p=0.0, inplace=False)\n",
       "     )\n",
       "   )\n",
       "   (loss_criterion): InfoCELoss(\n",
       "     (CE_loss): CrossEntropyLoss()\n",
       "   )\n",
       "   (softmax): Softmax(dim=1)\n",
       " ),\n",
       " <datamodule.GameDataModule at 0x7faca35cf070>)"
      ]
     },
     "execution_count": 3,
     "metadata": {},
     "output_type": "execute_result"
    },
    {
     "data": {
      "image/png": "[encoded data removed]",
      "text/plain": [
       "<Figure size 720x1080 with 1 Axes>"
      ]
     },
     "metadata": {
      "needs_background": "light"
     },
     "output_type": "display_data"
    },
    {
     "data": {
      "image/png": "[encoded data removed]",
      "text/plain": [
       "<Figure size 720x1080 with 1 Axes>"
      ]
     },
     "metadata": {
      "needs_background": "light"
     },
     "output_type": "display_data"
    },
    {
     "data": {
      "image/png": "[encoded data removed]",
      "text/plain": [
       "<Figure size 720x1080 with 1 Axes>"
      ]
     },
     "metadata": {
      "needs_background": "light"
     },
     "output_type": "display_data"
    },
    {
     "data": {
      "text/plain": [
       "<Figure size 720x1080 with 0 Axes>"
      ]
     },
     "metadata": {},
     "output_type": "display_data"
    },
    {
     "data": {
      "image/png": "[encoded data removed]",
      "text/plain": [
       "<Figure size 720x1080 with 1 Axes>"
      ]
     },
     "metadata": {
      "needs_background": "light"
     },
     "output_type": "display_data"
    },
    {
     "data": {
      "image/png": "[encoded data removed]",
      "text/plain": [
       "<Figure size 720x1080 with 1 Axes>"
      ]
     },
     "metadata": {
      "needs_background": "light"
     },
     "output_type": "display_data"
    },
    {
     "data": {
      "image/png": "[encoded data removed]",
      "text/plain": [
       "<Figure size 720x1080 with 1 Axes>"
      ]
     },
     "metadata": {
      "needs_background": "light"
     },
     "output_type": "display_data"
    },
    {
     "data": {
      "text/plain": [
       "<Figure size 720x1080 with 0 Axes>"
      ]
     },
     "metadata": {},
     "output_type": "display_data"
    }
   ],
   "source": [
    "main.main(args)"
   ]
  },
  {
   "cell_type": "code",
   "execution_count": null,
   "id": "center-assurance",
   "metadata": {},
   "outputs": [],
   "source": []
  }
 ],
 "metadata": {
  "kernelspec": {
   "display_name": "Python 3",
   "language": "python",
   "name": "python3"
  },
  "language_info": {
   "codemirror_mode": {
    "name": "ipython",
    "version": 3
   },
   "file_extension": ".py",
   "mimetype": "text/x-python",
   "name": "python",
   "nbconvert_exporter": "python",
   "pygments_lexer": "ipython3",
   "version": "3.8.3"
  }
 },
 "nbformat": 4,
 "nbformat_minor": 5
}

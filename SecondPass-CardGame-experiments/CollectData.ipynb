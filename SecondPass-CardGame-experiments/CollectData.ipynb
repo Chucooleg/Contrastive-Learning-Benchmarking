{
 "cells": [
  {
   "cell_type": "code",
   "execution_count": 23,
   "id": "serial-liability",
   "metadata": {},
   "outputs": [
    {
     "name": "stdout",
     "output_type": "stream",
     "text": [
      "The autoreload extension is already loaded. To reload it, use:\n",
      "  %reload_ext autoreload\n"
     ]
    }
   ],
   "source": [
    "%load_ext autoreload\n",
    "%autoreload 2\n",
    "\n",
    "from collections import defaultdict, Counter\n",
    "import numpy as np\n",
    "import itertools\n",
    "import copy\n",
    "import matplotlib.pyplot as plt\n",
    "import random\n",
    "import json\n",
    "from data_sampling import gen_random_dataset, gen_full_dataset"
   ]
  },
  {
   "cell_type": "markdown",
   "id": "elementary-slovak",
   "metadata": {},
   "source": [
    "## Full Data"
   ]
  },
  {
   "cell_type": "code",
   "execution_count": 24,
   "id": "accessory-illustration",
   "metadata": {
    "scrolled": true
   },
   "outputs": [
    {
     "name": "stdout",
     "output_type": "stream",
     "text": [
      "num_attributes 4\n",
      "num_attr_vals 3\n",
      "num_cards_per_query 2\n",
      "nest_depth_int 2\n",
      "key_support_size 81\n",
      "query_support_size 6561\n",
      "hold_out False\n",
      "sparsity_estimate 0.00015241579027587258\n",
      "vocab_size 19\n",
      "( 12\n",
      ") 13\n",
      "NULL 14\n",
      "SEP 15\n",
      "SOS 16\n",
      "EOS 17\n",
      "PAD 18\n"
     ]
    }
   ],
   "source": [
    "num_attributes=4; num_attr_vals=3; num_cards_per_query=2; nest_depth_int=2\n",
    "\n",
    "N_train = (num_attr_vals**num_attributes)**num_cards_per_query\n",
    "N_val = N_train\n",
    "\n",
    "data = gen_full_dataset(num_attributes, num_attr_vals, num_cards_per_query, nest_depth_int)\n",
    "filename = '../Raw_Datasets/SET/{}Attr-{}Vals-{}NestDepth-Full-{}Train-{}Val.json'.format(num_attributes, num_attr_vals, nest_depth_int, N_train, N_val)\n",
    "\n",
    "with open(filename, 'w') as f:\n",
    "    json.dump(data, f)"
   ]
  },
  {
   "cell_type": "markdown",
   "id": "weekly-beginning",
   "metadata": {},
   "source": [
    "## Random Data -- Change File Name"
   ]
  },
  {
   "cell_type": "code",
   "execution_count": null,
   "id": "choice-given",
   "metadata": {},
   "outputs": [],
   "source": [
    "# data = gen_random_dataset(num_attributes=3, num_attr_vals=3, num_cards_per_query=3, nest_depth_int=2, N_train=100, N_val=10)"
   ]
  },
  {
   "cell_type": "code",
   "execution_count": 4,
   "id": "aging-transcript",
   "metadata": {},
   "outputs": [
    {
     "data": {
      "text/plain": [
       "dict_keys(['num_attributes', 'num_attr_vals', 'num_cards_per_query', 'nest_depth_int', 'key_support_size', 'query_support_size', 'hold_out', 'train_datapoints', 'val_datapoints', 'train_tokens', 'val_tokens', 'sparsity_estimate', 'vocab_size', '(', ')', 'NULL', 'SEP', 'SOS', 'EOS', 'PAD'])"
      ]
     },
     "execution_count": 4,
     "metadata": {},
     "output_type": "execute_result"
    }
   ],
   "source": [
    "filename = '{}Attr-{}Vals-2hat{}Train-2hat{}Val.json'.format()\n",
    "\n",
    "with open()"
   ]
  },
  {
   "cell_type": "code",
   "execution_count": null,
   "id": "arctic-shift",
   "metadata": {},
   "outputs": [],
   "source": []
  }
 ],
 "metadata": {
  "kernelspec": {
   "display_name": "Python 3",
   "language": "python",
   "name": "python3"
  },
  "language_info": {
   "codemirror_mode": {
    "name": "ipython",
    "version": 3
   },
   "file_extension": ".py",
   "mimetype": "text/x-python",
   "name": "python",
   "nbconvert_exporter": "python",
   "pygments_lexer": "ipython3",
   "version": "3.8.3"
  }
 },
 "nbformat": 4,
 "nbformat_minor": 5
}

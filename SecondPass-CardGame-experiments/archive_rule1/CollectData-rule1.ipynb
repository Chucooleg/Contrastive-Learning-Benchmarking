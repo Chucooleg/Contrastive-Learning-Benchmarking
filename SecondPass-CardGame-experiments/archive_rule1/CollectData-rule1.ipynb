{
 "cells": [
  {
   "cell_type": "code",
   "execution_count": 11,
   "id": "serial-liability",
   "metadata": {},
   "outputs": [
    {
     "name": "stdout",
     "output_type": "stream",
     "text": [
      "The autoreload extension is already loaded. To reload it, use:\n",
      "  %reload_ext autoreload\n"
     ]
    }
   ],
   "source": [
    "%load_ext autoreload\n",
    "%autoreload 2\n",
    "\n",
    "import numpy as np\n",
    "import json\n",
    "import itertools\n",
    "from dataraw_sampling import sample_dataset\n",
    "from util_distribution import derive_game_setup_stats"
   ]
  },
  {
   "cell_type": "code",
   "execution_count": 12,
   "id": "creative-romania",
   "metadata": {},
   "outputs": [
    {
     "name": "stdout",
     "output_type": "stream",
     "text": [
      "(2, 4, 8, 16)\n",
      "(32, 64, 128)\n"
     ]
    }
   ],
   "source": [
    "a = (2**1, 2**2, 2**3, 2**4)\n",
    "b = (2**5, 2**6, 2**7)\n",
    "print(a)\n",
    "print(b)\n"
   ]
  },
  {
   "cell_type": "code",
   "execution_count": 13,
   "id": "stopped-glucose",
   "metadata": {
    "scrolled": true
   },
   "outputs": [
    {
     "name": "stderr",
     "output_type": "stream",
     "text": [
      "  0%|          | 26/8392704 [00:00<9:24:13, 247.91it/s]"
     ]
    },
    {
     "name": "stdout",
     "output_type": "stream",
     "text": [
      "-------------------------------------------------------\n",
      "num_attrs= 2 num_attr_vals= 32\n",
      "sparsity= 0.0028658536585365853\n"
     ]
    },
    {
     "name": "stderr",
     "output_type": "stream",
     "text": [
      "100%|██████████| 8392704/8392704 [10:01:15<00:00, 232.64it/s]   \n"
     ]
    },
    {
     "name": "stdout",
     "output_type": "stream",
     "text": [
      "Sparsity Estimate: 0.0028656259094502617\n",
      "--- 36075.77066540718 seconds ---\n"
     ]
    },
    {
     "name": "stderr",
     "output_type": "stream",
     "text": [
      "  0%|          | 10/8392704 [00:00<25:27:14, 91.59it/s]"
     ]
    },
    {
     "name": "stdout",
     "output_type": "stream",
     "text": [
      "-------------------------------------------------------\n",
      "num_attrs= 2 num_attr_vals= 64\n",
      "sparsity= 0.0007246155723700269\n"
     ]
    },
    {
     "name": "stderr",
     "output_type": "stream",
     "text": [
      "100%|██████████| 8392704/8392704 [41:08:21<00:00, 56.67it/s]     \n"
     ]
    },
    {
     "name": "stdout",
     "output_type": "stream",
     "text": [
      "Sparsity Estimate: 0.0007248049962666999\n",
      "--- 148101.42866539955 seconds ---\n"
     ]
    },
    {
     "name": "stderr",
     "output_type": "stream",
     "text": [
      "  0%|          | 1/8392704 [00:00<375:33:03,  6.21it/s]"
     ]
    },
    {
     "name": "stdout",
     "output_type": "stream",
     "text": [
      "-------------------------------------------------------\n",
      "num_attrs= 2 num_attr_vals= 128\n",
      "sparsity= 0.00018214067744888617\n"
     ]
    },
    {
     "name": "stderr",
     "output_type": "stream",
     "text": [
      "100%|██████████| 8392704/8392704 [162:27:12<00:00, 14.35it/s]    \n"
     ]
    },
    {
     "name": "stdout",
     "output_type": "stream",
     "text": [
      "Sparsity Estimate: 0.00018212951583465155\n",
      "--- 584839.3352532387 seconds ---\n"
     ]
    },
    {
     "name": "stderr",
     "output_type": "stream",
     "text": [
      "  0%|          | 24/8392704 [00:00<10:17:59, 226.34it/s]"
     ]
    },
    {
     "name": "stdout",
     "output_type": "stream",
     "text": [
      "-------------------------------------------------------\n",
      "num_attrs= 4 num_attr_vals= 32\n",
      "sparsity= 0.003901367895304482\n"
     ]
    },
    {
     "name": "stderr",
     "output_type": "stream",
     "text": [
      " 35%|███▌      | 2956276/8392704 [2:56:19<5:24:15, 279.43it/s] \n"
     ]
    },
    {
     "ename": "KeyboardInterrupt",
     "evalue": "",
     "output_type": "error",
     "traceback": [
      "\u001b[0;31m---------------------------------------------------------------------------\u001b[0m",
      "\u001b[0;31mKeyboardInterrupt\u001b[0m                         Traceback (most recent call last)",
      "\u001b[0;32m<ipython-input-13-94ce29b54951>\u001b[0m in \u001b[0;36m<module>\u001b[0;34m\u001b[0m\n\u001b[1;32m      8\u001b[0m         \u001b[0msparsity\u001b[0m \u001b[0;34m=\u001b[0m \u001b[0mderive_game_setup_stats\u001b[0m\u001b[0;34m(\u001b[0m\u001b[0mnum_attrs\u001b[0m\u001b[0;34m,\u001b[0m \u001b[0mnum_attr_vals\u001b[0m\u001b[0;34m)\u001b[0m\u001b[0;34m[\u001b[0m\u001b[0;34m'sparsity'\u001b[0m\u001b[0;34m]\u001b[0m\u001b[0;34m\u001b[0m\u001b[0;34m\u001b[0m\u001b[0m\n\u001b[1;32m      9\u001b[0m         \u001b[0mprint\u001b[0m\u001b[0;34m(\u001b[0m\u001b[0;34m'sparsity='\u001b[0m\u001b[0;34m,\u001b[0m \u001b[0msparsity\u001b[0m\u001b[0;34m)\u001b[0m\u001b[0;34m\u001b[0m\u001b[0;34m\u001b[0m\u001b[0m\n\u001b[0;32m---> 10\u001b[0;31m         \u001b[0mdata\u001b[0m \u001b[0;34m=\u001b[0m \u001b[0msample_dataset\u001b[0m\u001b[0;34m(\u001b[0m\u001b[0mnum_attrs\u001b[0m\u001b[0;34m,\u001b[0m \u001b[0mnum_attr_vals\u001b[0m\u001b[0;34m,\u001b[0m \u001b[0mN_train\u001b[0m\u001b[0;34m,\u001b[0m \u001b[0mN_val\u001b[0m\u001b[0;34m)\u001b[0m\u001b[0;34m\u001b[0m\u001b[0;34m\u001b[0m\u001b[0m\n\u001b[0m\u001b[1;32m     11\u001b[0m         with open('../Raw_Datasets/{}Attr-{}Vals-2hat{}Train-2hat{}Val.json'.format(\n\u001b[1;32m     12\u001b[0m             num_attrs, num_attr_vals, int(np.log2(N_train)), int(np.log2(N_val))), 'w') as f:\n",
      "\u001b[0;32m/app/Contrastive-Learning-Benchmarking/SecondPass-CardGame-experiments/dataraw_sampling.py\u001b[0m in \u001b[0;36msample_dataset\u001b[0;34m(num_attrs, num_attr_vals, N_train, N_val)\u001b[0m\n\u001b[1;32m     98\u001b[0m \u001b[0;32mdef\u001b[0m \u001b[0mencode_query_idx\u001b[0m\u001b[0;34m(\u001b[0m\u001b[0mnum_attrs\u001b[0m\u001b[0;34m,\u001b[0m \u001b[0mnum_attr_vals\u001b[0m\u001b[0;34m,\u001b[0m \u001b[0mcard1_idx\u001b[0m\u001b[0;34m,\u001b[0m \u001b[0mcard2_idx\u001b[0m\u001b[0;34m)\u001b[0m\u001b[0;34m:\u001b[0m\u001b[0;34m\u001b[0m\u001b[0;34m\u001b[0m\u001b[0m\n\u001b[1;32m     99\u001b[0m     \u001b[0;34m'''reverse decode_query_idx()'''\u001b[0m\u001b[0;34m\u001b[0m\u001b[0;34m\u001b[0m\u001b[0m\n\u001b[0;32m--> 100\u001b[0;31m     \u001b[0mnum_cards\u001b[0m \u001b[0;34m=\u001b[0m \u001b[0mnum_attr_vals\u001b[0m \u001b[0;34m**\u001b[0m \u001b[0mnum_attrs\u001b[0m\u001b[0;34m\u001b[0m\u001b[0;34m\u001b[0m\u001b[0m\n\u001b[0m\u001b[1;32m    101\u001b[0m     \u001b[0mquery_idx\u001b[0m \u001b[0;34m=\u001b[0m \u001b[0mcard1_idx\u001b[0m \u001b[0;34m*\u001b[0m \u001b[0mnum_cards\u001b[0m \u001b[0;34m+\u001b[0m \u001b[0mcard2_idx\u001b[0m\u001b[0;34m\u001b[0m\u001b[0;34m\u001b[0m\u001b[0m\n\u001b[1;32m    102\u001b[0m     \u001b[0;32mreturn\u001b[0m \u001b[0mquery_idx\u001b[0m\u001b[0;34m\u001b[0m\u001b[0;34m\u001b[0m\u001b[0m\n",
      "\u001b[0;32m/app/Contrastive-Learning-Benchmarking/SecondPass-CardGame-experiments/dataraw_sampling.py\u001b[0m in \u001b[0;36msample_N_datapoints\u001b[0;34m(num_attrs, num_attr_vals, N)\u001b[0m\n\u001b[1;32m     87\u001b[0m \u001b[0;32mdef\u001b[0m \u001b[0mdecode_query_idx_to_key_properties\u001b[0m\u001b[0;34m(\u001b[0m\u001b[0mnum_attrs\u001b[0m\u001b[0;34m,\u001b[0m \u001b[0mnum_attr_vals\u001b[0m\u001b[0;34m,\u001b[0m \u001b[0mquery_idx\u001b[0m\u001b[0;34m)\u001b[0m\u001b[0;34m:\u001b[0m\u001b[0;34m\u001b[0m\u001b[0;34m\u001b[0m\u001b[0m\n\u001b[1;32m     88\u001b[0m     \u001b[0mkey1_idx\u001b[0m\u001b[0;34m,\u001b[0m \u001b[0mkey2_idx\u001b[0m \u001b[0;34m=\u001b[0m \u001b[0mdecode_query_idx\u001b[0m\u001b[0;34m(\u001b[0m\u001b[0mnum_attrs\u001b[0m\u001b[0;34m,\u001b[0m \u001b[0mnum_attr_vals\u001b[0m\u001b[0;34m,\u001b[0m \u001b[0mquery_idx\u001b[0m\u001b[0;34m)\u001b[0m\u001b[0;34m\u001b[0m\u001b[0;34m\u001b[0m\u001b[0m\n\u001b[0;32m---> 89\u001b[0;31m     \u001b[0;32mreturn\u001b[0m \u001b[0;34m[\u001b[0m\u001b[0mdecode_key_idx\u001b[0m\u001b[0;34m(\u001b[0m\u001b[0mnum_attrs\u001b[0m\u001b[0;34m,\u001b[0m \u001b[0mnum_attr_vals\u001b[0m\u001b[0;34m,\u001b[0m \u001b[0mkey1_idx\u001b[0m\u001b[0;34m)\u001b[0m\u001b[0;34m,\u001b[0m \u001b[0mdecode_key_idx\u001b[0m\u001b[0;34m(\u001b[0m\u001b[0mnum_attrs\u001b[0m\u001b[0;34m,\u001b[0m \u001b[0mnum_attr_vals\u001b[0m\u001b[0;34m,\u001b[0m \u001b[0mkey2_idx\u001b[0m\u001b[0;34m)\u001b[0m\u001b[0;34m]\u001b[0m\u001b[0;34m\u001b[0m\u001b[0;34m\u001b[0m\u001b[0m\n\u001b[0m\u001b[1;32m     90\u001b[0m \u001b[0;34m\u001b[0m\u001b[0m\n\u001b[1;32m     91\u001b[0m \u001b[0;32mdef\u001b[0m \u001b[0mdecode_query_idx\u001b[0m\u001b[0;34m(\u001b[0m\u001b[0mnum_attrs\u001b[0m\u001b[0;34m,\u001b[0m \u001b[0mnum_attr_vals\u001b[0m\u001b[0;34m,\u001b[0m \u001b[0mquery_idx\u001b[0m\u001b[0;34m)\u001b[0m\u001b[0;34m:\u001b[0m\u001b[0;34m\u001b[0m\u001b[0;34m\u001b[0m\u001b[0m\n",
      "\u001b[0;32m/app/Contrastive-Learning-Benchmarking/SecondPass-CardGame-experiments/dataraw_sampling.py\u001b[0m in \u001b[0;36msample_valid_query_key_idx\u001b[0;34m(num_attrs, num_attr_vals)\u001b[0m\n\u001b[1;32m     78\u001b[0m         \u001b[0mdigit\u001b[0m \u001b[0;34m=\u001b[0m \u001b[0;36m0\u001b[0m\u001b[0;34m\u001b[0m\u001b[0;34m\u001b[0m\u001b[0m\n\u001b[1;32m     79\u001b[0m         \u001b[0;32mwhile\u001b[0m \u001b[0mkey_properties\u001b[0m\u001b[0;34m:\u001b[0m\u001b[0;34m\u001b[0m\u001b[0;34m\u001b[0m\u001b[0m\n\u001b[0;32m---> 80\u001b[0;31m             \u001b[0mattr_val\u001b[0m \u001b[0;34m=\u001b[0m \u001b[0mkey_properties\u001b[0m\u001b[0;34m.\u001b[0m\u001b[0mpop\u001b[0m\u001b[0;34m(\u001b[0m\u001b[0;34m)\u001b[0m\u001b[0;34m\u001b[0m\u001b[0;34m\u001b[0m\u001b[0m\n\u001b[0m\u001b[1;32m     81\u001b[0m             \u001b[0mkey_idx\u001b[0m \u001b[0;34m+=\u001b[0m \u001b[0mattr_val\u001b[0m \u001b[0;34m*\u001b[0m \u001b[0;34m(\u001b[0m\u001b[0mnum_attr_vals\u001b[0m\u001b[0;34m**\u001b[0m\u001b[0mdigit\u001b[0m\u001b[0;34m)\u001b[0m\u001b[0;34m\u001b[0m\u001b[0;34m\u001b[0m\u001b[0m\n\u001b[1;32m     82\u001b[0m             \u001b[0mdigit\u001b[0m \u001b[0;34m+=\u001b[0m \u001b[0;36m1\u001b[0m\u001b[0;34m\u001b[0m\u001b[0;34m\u001b[0m\u001b[0m\n",
      "\u001b[0;32m/app/Contrastive-Learning-Benchmarking/SecondPass-CardGame-experiments/dataraw_sampling.py\u001b[0m in \u001b[0;36mcheck_if_query_key_match_by_idx\u001b[0;34m(num_attrs, num_attr_vals, query_idx, key_idx)\u001b[0m\n\u001b[1;32m     46\u001b[0m         \u001b[0mkey_properties\u001b[0m \u001b[0;34m=\u001b[0m \u001b[0mnp\u001b[0m\u001b[0;34m.\u001b[0m\u001b[0marray\u001b[0m\u001b[0;34m(\u001b[0m\u001b[0;34m[\u001b[0m\u001b[0;34m]\u001b[0m\u001b[0;34m)\u001b[0m\u001b[0;34m\u001b[0m\u001b[0;34m\u001b[0m\u001b[0m\n\u001b[1;32m     47\u001b[0m     \u001b[0;32melse\u001b[0m\u001b[0;34m:\u001b[0m\u001b[0;34m\u001b[0m\u001b[0;34m\u001b[0m\u001b[0m\n\u001b[0;32m---> 48\u001b[0;31m         \u001b[0mkey_properties\u001b[0m \u001b[0;34m=\u001b[0m \u001b[0mvocab_tokens\u001b[0m \u001b[0;34m-\u001b[0m \u001b[0mkey_range_indices\u001b[0m\u001b[0;34m\u001b[0m\u001b[0;34m\u001b[0m\u001b[0m\n\u001b[0m\u001b[1;32m     49\u001b[0m     \u001b[0;32mreturn\u001b[0m \u001b[0mkey_properties\u001b[0m\u001b[0;34m\u001b[0m\u001b[0;34m\u001b[0m\u001b[0m\n\u001b[1;32m     50\u001b[0m \u001b[0;34m\u001b[0m\u001b[0m\n",
      "\u001b[0;32m/app/Contrastive-Learning-Benchmarking/SecondPass-CardGame-experiments/dataraw_sampling.py\u001b[0m in \u001b[0;36mcheck_q1q2k_match\u001b[0;34m(num_attrs, num_attr_vals, query_part1, query_part2, key_idx)\u001b[0m\n\u001b[1;32m     56\u001b[0m     \u001b[0mkey_properties\u001b[0m \u001b[0;34m=\u001b[0m \u001b[0;34m[\u001b[0m\u001b[0;34m]\u001b[0m\u001b[0;34m\u001b[0m\u001b[0;34m\u001b[0m\u001b[0m\n\u001b[1;32m     57\u001b[0m     \u001b[0;32mif\u001b[0m \u001b[0mkey_idx\u001b[0m \u001b[0;34m==\u001b[0m \u001b[0mnum_attr_vals\u001b[0m \u001b[0;34m**\u001b[0m \u001b[0mnum_attrs\u001b[0m\u001b[0;34m:\u001b[0m\u001b[0;34m\u001b[0m\u001b[0;34m\u001b[0m\u001b[0m\n\u001b[0;32m---> 58\u001b[0;31m         \u001b[0;32mreturn\u001b[0m \u001b[0mnp\u001b[0m\u001b[0;34m.\u001b[0m\u001b[0marray\u001b[0m\u001b[0;34m(\u001b[0m\u001b[0;34m[\u001b[0m\u001b[0;34m]\u001b[0m\u001b[0;34m)\u001b[0m\u001b[0;34m\u001b[0m\u001b[0;34m\u001b[0m\u001b[0m\n\u001b[0m\u001b[1;32m     59\u001b[0m     \u001b[0;32melse\u001b[0m\u001b[0;34m:\u001b[0m\u001b[0;34m\u001b[0m\u001b[0;34m\u001b[0m\u001b[0m\n\u001b[1;32m     60\u001b[0m         \u001b[0mcard_idx_copy\u001b[0m \u001b[0;34m=\u001b[0m \u001b[0mkey_idx\u001b[0m\u001b[0;34m\u001b[0m\u001b[0;34m\u001b[0m\u001b[0m\n",
      "\u001b[0;32m/app/Contrastive-Learning-Benchmarking/SecondPass-CardGame-experiments/dataraw_sampling.py\u001b[0m in \u001b[0;36mcheck_if_query_key_match\u001b[0;34m(query_part1, query_part2, key, debug)\u001b[0m\n\u001b[1;32m     30\u001b[0m     \u001b[0;32mif\u001b[0m \u001b[0mkey_properties\u001b[0m\u001b[0;34m.\u001b[0m\u001b[0msize\u001b[0m \u001b[0;34m==\u001b[0m \u001b[0;36m0\u001b[0m\u001b[0;34m:\u001b[0m\u001b[0;34m\u001b[0m\u001b[0;34m\u001b[0m\u001b[0m\n\u001b[1;32m     31\u001b[0m         \u001b[0;31m# null card\u001b[0m\u001b[0;34m\u001b[0m\u001b[0;34m\u001b[0m\u001b[0;34m\u001b[0m\u001b[0m\n\u001b[0;32m---> 32\u001b[0;31m         \u001b[0mvocab_tokens\u001b[0m \u001b[0;34m=\u001b[0m \u001b[0mnp\u001b[0m\u001b[0;34m.\u001b[0m\u001b[0marray\u001b[0m\u001b[0;34m(\u001b[0m\u001b[0;34m[\u001b[0m\u001b[0mnull_vocab_idx\u001b[0m\u001b[0;34m]\u001b[0m \u001b[0;34m*\u001b[0m \u001b[0mnum_attrs\u001b[0m\u001b[0;34m)\u001b[0m\u001b[0;34m\u001b[0m\u001b[0;34m\u001b[0m\u001b[0m\n\u001b[0m\u001b[1;32m     33\u001b[0m     \u001b[0;32melse\u001b[0m\u001b[0;34m:\u001b[0m\u001b[0;34m\u001b[0m\u001b[0;34m\u001b[0m\u001b[0m\n\u001b[1;32m     34\u001b[0m         \u001b[0;31m# according to vocab e.g. for 4 attr, 16 attr vals (0*16+10=10, 1*16+15=31, 2*16+5=37, 3*16+15=63)\u001b[0m\u001b[0;34m\u001b[0m\u001b[0;34m\u001b[0m\u001b[0;34m\u001b[0m\u001b[0m\n",
      "\u001b[0;31mKeyboardInterrupt\u001b[0m: "
     ]
    }
   ],
   "source": [
    "N_train = 2**23\n",
    "N_val = 2**12\n",
    "\n",
    "# NOTE: Stopped at 4 - 32, restart this\n",
    "\n",
    "for num_attrs in a:\n",
    "    for num_attr_vals in b:\n",
    "        print('-------------------------------------------------------')\n",
    "        print('num_attrs=',num_attrs, 'num_attr_vals=',num_attr_vals)\n",
    "        sparsity = derive_game_setup_stats(num_attrs, num_attr_vals)['sparsity']\n",
    "        print('sparsity=', sparsity)\n",
    "        data = sample_dataset(num_attrs, num_attr_vals, N_train, N_val)\n",
    "        with open('../Raw_Datasets/{}Attr-{}Vals-2hat{}Train-2hat{}Val.json'.format(\n",
    "            num_attrs, num_attr_vals, int(np.log2(N_train)), int(np.log2(N_val))), 'w') as f:\n",
    "            json.dump(data, f)        "
   ]
  },
  {
   "cell_type": "code",
   "execution_count": 6,
   "id": "final-election",
   "metadata": {},
   "outputs": [
    {
     "data": {
      "text/plain": [
       "[((3, 2), 0.52778, 8),\n",
       " ((3, 4), 0.17981, 64),\n",
       " ((3, 8), 0.04736, 512),\n",
       " ((3, 16), 0.01187, 4096)]"
      ]
     },
     "execution_count": 6,
     "metadata": {},
     "output_type": "execute_result"
    }
   ],
   "source": [
    "a = (3,)\n",
    "b = (2**1, 2**2, 2**3, 2**4)\n",
    "l = list(itertools.product(a, b))\n",
    "sorted([((i,j), round(derive_game_setup_stats(i, j)['sparsity'], 5),j**i) for i,j in l], key=lambda x:x[2])"
   ]
  },
  {
   "cell_type": "code",
   "execution_count": 16,
   "id": "rental-thickness",
   "metadata": {},
   "outputs": [
    {
     "data": {
      "text/plain": [
       "[((2, 2), 0.4, 4),\n",
       " ((2, 4), 0.14706, 16),\n",
       " ((4, 2), 0.64706, 16),\n",
       " ((2, 8), 0.04231, 64),\n",
       " ((2, 16), 0.01119, 256),\n",
       " ((4, 4), 0.22787, 256),\n",
       " ((8, 2), 0.8964, 256),\n",
       " ((4, 8), 0.06118, 4096),\n",
       " ((4, 16), 0.01555, 65536),\n",
       " ((8, 4), 0.40328, 65536),\n",
       " ((16, 2), 0.98996, 65536),\n",
       " ((8, 8), 0.11837, 16777216),\n",
       " ((8, 16), 0.03083, 4294967296),\n",
       " ((16, 4), 0.64393, 4294967296),\n",
       " ((16, 8), 0.22273, 281474976710656),\n",
       " ((16, 16), 0.0607, 18446744073709551616)]"
      ]
     },
     "execution_count": 16,
     "metadata": {},
     "output_type": "execute_result"
    }
   ],
   "source": [
    "a = (2**1, 2**2, 2**3, 2**4)\n",
    "b = (2**1, 2**2, 2**3, 2**4)\n",
    "l = list(itertools.product(a, b))\n",
    "sorted([((i,j), round(derive_game_setup_stats(i, j)['sparsity'], 5),j**i) for i,j in l], key=lambda x:x[2])"
   ]
  },
  {
   "cell_type": "code",
   "execution_count": 17,
   "id": "current-production",
   "metadata": {
    "scrolled": false
   },
   "outputs": [
    {
     "data": {
      "text/plain": [
       "[((2, 32), 0.00287, 1024),\n",
       " ((2, 64), 0.00072, 4096),\n",
       " ((4, 32), 0.0039, 1048576),\n",
       " ((4, 64), 0.00098, 16777216),\n",
       " ((8, 32), 0.00779, 1099511627776),\n",
       " ((8, 64), 0.00195, 281474976710656),\n",
       " ((16, 32), 0.01551, 1208925819614629174706176),\n",
       " ((16, 64), 0.0039, 79228162514264337593543950336)]"
      ]
     },
     "execution_count": 17,
     "metadata": {},
     "output_type": "execute_result"
    }
   ],
   "source": [
    "a = (2**1, 2**2, 2**3, 2**4)\n",
    "b = (2**5, 2**6)\n",
    "l = list(itertools.product(a, b))\n",
    "sorted([((i,j), round(derive_game_setup_stats(i, j)['sparsity'], 5),j**i) for i,j in l], key=lambda x:x[2])"
   ]
  },
  {
   "cell_type": "code",
   "execution_count": 1,
   "id": "intense-throw",
   "metadata": {},
   "outputs": [
    {
     "data": {
      "text/plain": [
       "437.03999999999996"
      ]
     },
     "execution_count": 1,
     "metadata": {},
     "output_type": "execute_result"
    }
   ],
   "source": [
    "0.1214 * 3600"
   ]
  },
  {
   "cell_type": "code",
   "execution_count": null,
   "id": "accessory-illustration",
   "metadata": {},
   "outputs": [],
   "source": []
  }
 ],
 "metadata": {
  "kernelspec": {
   "display_name": "Python 3",
   "language": "python",
   "name": "python3"
  },
  "language_info": {
   "codemirror_mode": {
    "name": "ipython",
    "version": 3
   },
   "file_extension": ".py",
   "mimetype": "text/x-python",
   "name": "python",
   "nbconvert_exporter": "python",
   "pygments_lexer": "ipython3",
   "version": "3.8.3"
  }
 },
 "nbformat": 4,
 "nbformat_minor": 5
}

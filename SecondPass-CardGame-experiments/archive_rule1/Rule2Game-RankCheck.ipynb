{
 "cells": [
  {
   "cell_type": "code",
   "execution_count": null,
   "id": "promotional-annual",
   "metadata": {},
   "outputs": [],
   "source": [
    "## 1. Use permutation instead of combination\n",
    "## 2. With itself is OK\n",
    "## 3. Null card if no match\n",
    "\n",
    "\n",
    "\n",
    "# only generate data for 2 cards per query.\n",
    "# game rules first iteraion\n",
    "\n",
    "# a) 3 attributes, 4 values per attribute:\n",
    "\n",
    "# attributes = {\n",
    "# 'color': ['red', 'green', 'blue', 'orange'],\n",
    "# 'fill': ['empty', 'dashed', 'solid', 'checkered'],\n",
    "# 'shape': ['square', 'circle', 'triangle', 'star'],\n",
    "# }\n",
    "\n",
    "# b) Rules:\n",
    "\n",
    "# A query is formed by a random selection of two cards, these two cards may share the same value for some attributes.\n",
    "# Query card 1: “red, solid, circle”\n",
    "# Query card 2: “blue, solid, circle”\n",
    "# These two cards share two attributes, “solid” and “circle”, which characterize the query.\n",
    "\n",
    "# A matching key card is one that matches one or more of these shared attributes in the query.\n",
    "# Key card 1: “green, solid, circle” — matches both query attributes.\n",
    "# Key card 2: “blue, solid, square” — matches only one of the query attributes.\n",
    "\n",
    "# If there are no shared attributes among the two cards in the query, the sequence cannot be completed with any key cards. To resolve this, we create a special \"null\" key card as the matching key card.\n",
    "# Query card 1: “red, solid, circle”\n",
    "# Query card 2: “blue, empty, square”\n",
    "# Key card: \"null\"\n",
    "# These two cards share no attributes."
   ]
  },
  {
   "cell_type": "code",
   "execution_count": 5,
   "id": "another-subsection",
   "metadata": {},
   "outputs": [
    {
     "name": "stdout",
     "output_type": "stream",
     "text": [
      "The autoreload extension is already loaded. To reload it, use:\n",
      "  %reload_ext autoreload\n"
     ]
    }
   ],
   "source": [
    "%load_ext autoreload\n",
    "%autoreload 2\n",
    "\n",
    "import os\n",
    "import json\n",
    "\n",
    "import numpy as np\n",
    "\n",
    "import torch\n",
    "from torch.utils.data import DataLoader\n",
    "import pytorch_lightning as pl\n",
    "from pytorch_lightning.callbacks import ModelCheckpoint\n",
    "\n",
    "from collections import Counter\n",
    "\n",
    "import wandb\n",
    "wandb.login()\n",
    "from pytorch_lightning.loggers import WandbLogger\n",
    "\n",
    "from dataraw_sampling import sample_dataset, plot_sampled_distribution, sample_N_datapoints, decode_query_idx, encode_query_idx, queryidx_to_querypair, check_q1q2k_match\n",
    "from dataraw_full_matrix import gen_card_data, report_gamedata_distribution\n",
    "from util_distribution import plot_distribution, derive_game_setup_stats, get_distribution\n",
    "from dataset import GameDatasetFromFullMatrix, GameTestFullDataset, GameDatasetTrainDataset\n",
    "from datamodule import GameDataModule\n",
    "from trainmodule import TrainModule\n",
    "\n",
    "%matplotlib inline\n",
    "import matplotlib.pyplot as plt"
   ]
  },
  {
   "cell_type": "code",
   "execution_count": 3,
   "id": "curious-citizenship",
   "metadata": {},
   "outputs": [
    {
     "name": "stdout",
     "output_type": "stream",
     "text": [
      "Generated 65 unqiue cards\n",
      "Generated 4096 cardpairs\n",
      "-- 2368 cardpairs with shared concept\n",
      "-- 1728 cardpairs without shared concept\n",
      "Number of cardpairs per shared concept [(1, 1728), (0, 1728), (2, 576), (3, 64)]\n",
      "Total number of matches =  47872\n",
      "Number of matches per key concept hit =  [(1, 43200), (2, 2880), (0, 1728), (3, 64)]\n",
      "------------------------\n",
      "64\n",
      "[1151.62133694  403.87518426  211.65034456  211.65034456  211.65034456\n",
      "  211.65034456  211.65034456  211.65034456  211.65034456  211.65034456\n",
      "  211.65034456   17.28847838   17.28847838   17.28847838   17.28847838\n",
      "   17.28847838   17.28847838   17.28847838   17.28847838   17.28847838\n",
      "   17.28847838   17.28847838   17.28847838   17.28847838   17.28847838\n",
      "   17.28847838   17.28847838   17.28847838   17.28847838   17.28847838\n",
      "   17.28847838   17.28847838   17.28847838   17.28847838   17.28847838\n",
      "   17.28847838   17.28847838   17.28847838    1.79450463    1.79450463\n",
      "    1.79450463    1.79450463    1.79450463    1.79450463    1.79450463\n",
      "    1.79450463    1.79450463    1.79450463    1.79450463    1.79450463\n",
      "    1.79450463    1.79450463    1.79450463    1.79450463    1.79450463\n",
      "    1.79450463    1.79450463    1.79450463    1.79450463    1.79450463\n",
      "    1.79450463    1.79450463    1.79450463    1.79450463    1.79450463]\n"
     ]
    },
    {
     "data": {
      "text/plain": [
       "[<matplotlib.lines.Line2D at 0x7f4743cbb040>]"
      ]
     },
     "execution_count": 3,
     "metadata": {},
     "output_type": "execute_result"
    },
    {
     "data": {
      "image/png": "[encoded data removed]",
      "text/plain": [
       "<Figure size 432x288 with 1 Axes>"
      ]
     },
     "metadata": {
      "needs_background": "light"
     },
     "output_type": "display_data"
    }
   ],
   "source": [
    "num_attributes = 3\n",
    "num_attr_vals = 4\n",
    "game_data = gen_card_data(num_attributes, num_attr_vals, num_unseen_cardpairs=0, debug=False)\n",
    "print('------------------------')\n",
    "count_table, xy, xyind, xy_div_xyind, distribution = report_gamedata_distribution(game_data, distribution_epsilon=1e-100)\n",
    "\n",
    "print(np.linalg.matrix_rank(xy_div_xyind[:-1, :]))\n",
    "u, s, vh = np.linalg.svd(xy_div_xyind[:, :])\n",
    "print(s)\n",
    "plt.plot(s)"
   ]
  },
  {
   "cell_type": "code",
   "execution_count": 4,
   "id": "dimensional-connecticut",
   "metadata": {},
   "outputs": [
    {
     "name": "stdout",
     "output_type": "stream",
     "text": [
      "Generated 28 unqiue cards\n",
      "Generated 729 cardpairs\n",
      "-- 513 cardpairs with shared concept\n",
      "-- 216 cardpairs without shared concept\n",
      "Number of cardpairs per shared concept [(1, 324), (0, 216), (2, 162), (3, 27)]\n",
      "Total number of matches =  6075\n",
      "Number of matches per key concept hit =  [(1, 5184), (2, 648), (0, 216), (3, 27)]\n",
      "------------------------\n",
      "27\n",
      "[413.35139409 122.02908333  60.5912466   60.5912466   60.5912466\n",
      "  60.5912466   60.5912466   60.5912466    8.44887436   8.44887436\n",
      "   8.44887436   8.44887436   8.44887436   8.44887436   8.44887436\n",
      "   8.44887436   8.44887436   8.44887436   8.44887436   8.44887436\n",
      "   1.47344167   1.47344167   1.47344167   1.47344167   1.47344167\n",
      "   1.47344167   1.47344167   1.47344167]\n"
     ]
    },
    {
     "data": {
      "text/plain": [
       "[<matplotlib.lines.Line2D at 0x7f47480c2490>]"
      ]
     },
     "execution_count": 4,
     "metadata": {},
     "output_type": "execute_result"
    },
    {
     "data": {
      "image/png": "[encoded data removed]",
      "text/plain": [
       "<Figure size 432x288 with 1 Axes>"
      ]
     },
     "metadata": {
      "needs_background": "light"
     },
     "output_type": "display_data"
    }
   ],
   "source": [
    "num_attributes = 3\n",
    "num_attr_vals = 3\n",
    "game_data = gen_card_data(num_attributes, num_attr_vals, num_unseen_cardpairs=0, debug=False)\n",
    "print('------------------------')\n",
    "count_table, xy, xyind, xy_div_xyind, distribution = report_gamedata_distribution(game_data, distribution_epsilon=1e-100)\n",
    "\n",
    "print(np.linalg.matrix_rank(xy_div_xyind[:-1, :]))\n",
    "u, s, vh = np.linalg.svd(xy_div_xyind[:, :])\n",
    "print(s)\n",
    "plt.plot(s)"
   ]
  },
  {
   "cell_type": "code",
   "execution_count": 2,
   "id": "incident-guide",
   "metadata": {},
   "outputs": [
    {
     "name": "stdout",
     "output_type": "stream",
     "text": [
      "Generated 9 unqiue cards\n",
      "Generated 64 cardpairs\n",
      "-- 56 cardpairs with shared concept\n",
      "-- 8 cardpairs without shared concept\n",
      "Number of cardpairs per shared concept [(2, 24), (1, 24), (3, 8), (0, 8)]\n",
      "Total number of matches =  304\n",
      "Number of matches per key concept hit =  [(1, 216), (2, 72), (3, 8), (0, 8)]\n",
      "------------------------\n",
      "8\n",
      "[107.48023074  21.73806483   9.15889002   9.15889002   9.15889002\n",
      "   2.97965898   2.97965898   2.97965898   1.17374517]\n"
     ]
    },
    {
     "data": {
      "text/plain": [
       "[<matplotlib.lines.Line2D at 0x7f15ac560f10>]"
      ]
     },
     "execution_count": 2,
     "metadata": {},
     "output_type": "execute_result"
    },
    {
     "data": {
      "image/png": "[encoded data removed]",
      "text/plain": [
       "<Figure size 432x288 with 1 Axes>"
      ]
     },
     "metadata": {
      "needs_background": "light"
     },
     "output_type": "display_data"
    }
   ],
   "source": [
    "num_attributes = 3\n",
    "num_attr_vals = 2\n",
    "game_data = gen_card_data(num_attributes, num_attr_vals, num_unseen_cardpairs=0, debug=False)\n",
    "print('------------------------')\n",
    "count_table, xy, xyind, xy_div_xyind, distribution = report_gamedata_distribution(game_data, distribution_epsilon=1e-100)\n",
    "\n",
    "print(np.linalg.matrix_rank(xy_div_xyind[:-1, :]))\n",
    "u, s, vh = np.linalg.svd(xy_div_xyind[:, :])\n",
    "print(s)\n",
    "plt.plot(s)"
   ]
  },
  {
   "cell_type": "code",
   "execution_count": 4,
   "id": "ignored-claim",
   "metadata": {
    "scrolled": true
   },
   "outputs": [
    {
     "name": "stdout",
     "output_type": "stream",
     "text": [
      "Generated 126 unqiue cards\n",
      "Generated 15625 cardpairs\n",
      "-- 7625 cardpairs with shared concept\n",
      "-- 8000 cardpairs without shared concept\n",
      "Number of cardpairs per shared concept [(0, 8000), (1, 6000), (2, 1500), (3, 125)]\n",
      "Total number of matches =  233125\n",
      "Number of matches per key concept hit =  [(1, 216000), (2, 9000), (0, 8000), (3, 125)]\n",
      "------------------------\n",
      "125\n",
      "[2.60641674e+03 1.01097416e+03 5.43795675e+02 5.43795675e+02\n",
      " 5.43795675e+02 5.43795675e+02 5.43795675e+02 5.43795675e+02\n",
      " 5.43795675e+02 5.43795675e+02 5.43795675e+02 5.43795675e+02\n",
      " 5.43795675e+02 5.43795675e+02 2.99910762e+01 2.99910762e+01\n",
      " 2.99910762e+01 2.99910762e+01 2.99910762e+01 2.99910762e+01\n",
      " 2.99910762e+01 2.99910762e+01 2.99910762e+01 2.99910762e+01\n",
      " 2.99910762e+01 2.99910762e+01 2.99910762e+01 2.99910762e+01\n",
      " 2.99910762e+01 2.99910762e+01 2.99910762e+01 2.99910762e+01\n",
      " 2.99910762e+01 2.99910762e+01 2.99910762e+01 2.99910762e+01\n",
      " 2.99910762e+01 2.99910762e+01 2.99910762e+01 2.99910762e+01\n",
      " 2.99910762e+01 2.99910762e+01 2.99910762e+01 2.99910762e+01\n",
      " 2.99910762e+01 2.99910762e+01 2.99910762e+01 2.99910762e+01\n",
      " 2.99910762e+01 2.99910762e+01 2.99910762e+01 2.99910762e+01\n",
      " 2.99910762e+01 2.99910762e+01 2.99910762e+01 2.99910762e+01\n",
      " 2.99910762e+01 2.99910762e+01 2.99910762e+01 2.99910762e+01\n",
      " 2.99910762e+01 2.99910762e+01 2.12199962e+00 2.12199962e+00\n",
      " 2.12199962e+00 2.12199962e+00 2.12199962e+00 2.12199962e+00\n",
      " 2.12199962e+00 2.12199962e+00 2.12199962e+00 2.12199962e+00\n",
      " 2.12199962e+00 2.12199962e+00 2.12199962e+00 2.12199962e+00\n",
      " 2.12199962e+00 2.12199962e+00 2.12199962e+00 2.12199962e+00\n",
      " 2.12199962e+00 2.12199962e+00 2.12199962e+00 2.12199962e+00\n",
      " 2.12199962e+00 2.12199962e+00 2.12199962e+00 2.12199962e+00\n",
      " 2.12199962e+00 2.12199962e+00 2.12199962e+00 2.12199962e+00\n",
      " 2.12199962e+00 2.12199962e+00 2.12199962e+00 2.12199962e+00\n",
      " 2.12199962e+00 2.12199962e+00 2.12199962e+00 2.12199962e+00\n",
      " 2.12199962e+00 2.12199962e+00 2.12199962e+00 2.12199962e+00\n",
      " 2.12199962e+00 2.12199962e+00 2.12199962e+00 2.12199962e+00\n",
      " 2.12199962e+00 2.12199962e+00 2.12199962e+00 2.12199962e+00\n",
      " 2.12199962e+00 2.12199962e+00 2.12199962e+00 2.12199962e+00\n",
      " 2.12199962e+00 2.12199962e+00 2.12199962e+00 2.12199962e+00\n",
      " 2.12199962e+00 2.12199962e+00 2.12199962e+00 2.12199962e+00\n",
      " 2.12199962e+00 2.12199962e+00]\n"
     ]
    },
    {
     "data": {
      "text/plain": [
       "[<matplotlib.lines.Line2D at 0x7f15ac497040>]"
      ]
     },
     "execution_count": 4,
     "metadata": {},
     "output_type": "execute_result"
    },
    {
     "data": {
      "image/png": "[encoded data removed]",
      "text/plain": [
       "<Figure size 432x288 with 1 Axes>"
      ]
     },
     "metadata": {
      "needs_background": "light"
     },
     "output_type": "display_data"
    }
   ],
   "source": [
    "num_attributes = 3\n",
    "num_attr_vals = 5\n",
    "game_data = gen_card_data(num_attributes, num_attr_vals, num_unseen_cardpairs=0, debug=False)\n",
    "print('------------------------')\n",
    "count_table, xy, xyind, xy_div_xyind, distribution = report_gamedata_distribution(game_data, distribution_epsilon=1e-100)\n",
    "\n",
    "print(np.linalg.matrix_rank(xy_div_xyind[:-1, :]))\n",
    "u, s, vh = np.linalg.svd(xy_div_xyind[:, :])\n",
    "print(s)\n",
    "plt.plot(s)"
   ]
  },
  {
   "cell_type": "code",
   "execution_count": 5,
   "id": "necessary-litigation",
   "metadata": {
    "scrolled": true
   },
   "outputs": [
    {
     "name": "stdout",
     "output_type": "stream",
     "text": [
      "Generated 217 unqiue cards\n",
      "Generated 46656 cardpairs\n",
      "-- 19656 cardpairs with shared concept\n",
      "-- 27000 cardpairs without shared concept\n",
      "Number of cardpairs per shared concept [(0, 27000), (1, 16200), (2, 3240), (3, 216)]\n",
      "Total number of matches =  843696\n",
      "Number of matches per key concept hit =  [(1, 793800), (0, 27000), (2, 22680), (3, 216)]\n",
      "------------------------\n",
      "216\n",
      "[5.13457034e+03 2.12862917e+03 1.16251068e+03 1.16251068e+03\n",
      " 1.16251068e+03 1.16251068e+03 1.16251068e+03 1.16251068e+03\n",
      " 1.16251068e+03 1.16251068e+03 1.16251068e+03 1.16251068e+03\n",
      " 1.16251068e+03 1.16251068e+03 1.16251068e+03 1.16251068e+03\n",
      " 1.16251068e+03 4.69876139e+01 4.69876139e+01 4.69876139e+01\n",
      " 4.69876139e+01 4.69876139e+01 4.69876139e+01 4.69876139e+01\n",
      " 4.69876139e+01 4.69876139e+01 4.69876139e+01 4.69876139e+01\n",
      " 4.69876139e+01 4.69876139e+01 4.69876139e+01 4.69876139e+01\n",
      " 4.69876139e+01 4.69876139e+01 4.69876139e+01 4.69876139e+01\n",
      " 4.69876139e+01 4.69876139e+01 4.69876139e+01 4.69876139e+01\n",
      " 4.69876139e+01 4.69876139e+01 4.69876139e+01 4.69876139e+01\n",
      " 4.69876139e+01 4.69876139e+01 4.69876139e+01 4.69876139e+01\n",
      " 4.69876139e+01 4.69876139e+01 4.69876139e+01 4.69876139e+01\n",
      " 4.69876139e+01 4.69876139e+01 4.69876139e+01 4.69876139e+01\n",
      " 4.69876139e+01 4.69876139e+01 4.69876139e+01 4.69876139e+01\n",
      " 4.69876139e+01 4.69876139e+01 4.69876139e+01 4.69876139e+01\n",
      " 4.69876139e+01 4.69876139e+01 4.69876139e+01 4.69876139e+01\n",
      " 4.69876139e+01 4.69876139e+01 4.69876139e+01 4.69876139e+01\n",
      " 4.69876139e+01 4.69876139e+01 4.69876139e+01 4.69876139e+01\n",
      " 4.69876139e+01 4.69876139e+01 4.69876139e+01 4.69876139e+01\n",
      " 4.69876139e+01 4.69876139e+01 4.69876139e+01 4.69876139e+01\n",
      " 4.69876139e+01 4.69876139e+01 4.69876139e+01 4.69876139e+01\n",
      " 4.69876139e+01 4.69876139e+01 4.69876139e+01 4.69876139e+01\n",
      " 2.45209855e+00 2.45209855e+00 2.45209855e+00 2.45209855e+00\n",
      " 2.45209855e+00 2.45209855e+00 2.45209855e+00 2.45209855e+00\n",
      " 2.45209855e+00 2.45209855e+00 2.45209855e+00 2.45209855e+00\n",
      " 2.45209855e+00 2.45209855e+00 2.45209855e+00 2.45209855e+00\n",
      " 2.45209855e+00 2.45209855e+00 2.45209855e+00 2.45209855e+00\n",
      " 2.45209855e+00 2.45209855e+00 2.45209855e+00 2.45209855e+00\n",
      " 2.45209855e+00 2.45209855e+00 2.45209855e+00 2.45209855e+00\n",
      " 2.45209855e+00 2.45209855e+00 2.45209855e+00 2.45209855e+00\n",
      " 2.45209855e+00 2.45209855e+00 2.45209855e+00 2.45209855e+00\n",
      " 2.45209855e+00 2.45209855e+00 2.45209855e+00 2.45209855e+00\n",
      " 2.45209855e+00 2.45209855e+00 2.45209855e+00 2.45209855e+00\n",
      " 2.45209855e+00 2.45209855e+00 2.45209855e+00 2.45209855e+00\n",
      " 2.45209855e+00 2.45209855e+00 2.45209855e+00 2.45209855e+00\n",
      " 2.45209855e+00 2.45209855e+00 2.45209855e+00 2.45209855e+00\n",
      " 2.45209855e+00 2.45209855e+00 2.45209855e+00 2.45209855e+00\n",
      " 2.45209855e+00 2.45209855e+00 2.45209855e+00 2.45209855e+00\n",
      " 2.45209855e+00 2.45209855e+00 2.45209855e+00 2.45209855e+00\n",
      " 2.45209855e+00 2.45209855e+00 2.45209855e+00 2.45209855e+00\n",
      " 2.45209855e+00 2.45209855e+00 2.45209855e+00 2.45209855e+00\n",
      " 2.45209855e+00 2.45209855e+00 2.45209855e+00 2.45209855e+00\n",
      " 2.45209855e+00 2.45209855e+00 2.45209855e+00 2.45209855e+00\n",
      " 2.45209855e+00 2.45209855e+00 2.45209855e+00 2.45209855e+00\n",
      " 2.45209855e+00 2.45209855e+00 2.45209855e+00 2.45209855e+00\n",
      " 2.45209855e+00 2.45209855e+00 2.45209855e+00 2.45209855e+00\n",
      " 2.45209855e+00 2.45209855e+00 2.45209855e+00 2.45209855e+00\n",
      " 2.45209855e+00 2.45209855e+00 2.45209855e+00 2.45209855e+00\n",
      " 2.45209855e+00 2.45209855e+00 2.45209855e+00 2.45209855e+00\n",
      " 2.45209855e+00 2.45209855e+00 2.45209855e+00 2.45209855e+00\n",
      " 2.45209855e+00 2.45209855e+00 2.45209855e+00 2.45209855e+00\n",
      " 2.45209855e+00 2.45209855e+00 2.45209855e+00 2.45209855e+00\n",
      " 2.45209855e+00 2.45209855e+00 2.45209855e+00 2.45209855e+00\n",
      " 2.45209855e+00]\n"
     ]
    },
    {
     "data": {
      "text/plain": [
       "[<matplotlib.lines.Line2D at 0x7f1592136bb0>]"
      ]
     },
     "execution_count": 5,
     "metadata": {},
     "output_type": "execute_result"
    },
    {
     "data": {
      "image/png": "[encoded data removed]",
      "text/plain": [
       "<Figure size 432x288 with 1 Axes>"
      ]
     },
     "metadata": {
      "needs_background": "light"
     },
     "output_type": "display_data"
    }
   ],
   "source": [
    "num_attributes = 3\n",
    "num_attr_vals = 6\n",
    "game_data = gen_card_data(num_attributes, num_attr_vals, num_unseen_cardpairs=0, debug=False)\n",
    "print('------------------------')\n",
    "count_table, xy, xyind, xy_div_xyind, distribution = report_gamedata_distribution(game_data, distribution_epsilon=1e-100)\n",
    "\n",
    "print(np.linalg.matrix_rank(xy_div_xyind[:-1, :]))\n",
    "u, s, vh = np.linalg.svd(xy_div_xyind[:, :])\n",
    "print(s)\n",
    "plt.plot(s)"
   ]
  },
  {
   "cell_type": "code",
   "execution_count": null,
   "id": "excellent-ridge",
   "metadata": {},
   "outputs": [
    {
     "name": "stdout",
     "output_type": "stream",
     "text": [
      "Generated 344 unqiue cards\n",
      "Generated 117649 cardpairs\n",
      "-- 43561 cardpairs with shared concept\n",
      "-- 74088 cardpairs without shared concept\n",
      "Number of cardpairs per shared concept [(0, 74088), (1, 37044), (2, 6174), (3, 343)]\n",
      "Total number of matches =  2494639\n",
      "Number of matches per key concept hit =  [(1, 2370816), (0, 74088), (2, 49392), (3, 343)]\n",
      "------------------------\n",
      "343\n"
     ]
    }
   ],
   "source": [
    "num_attributes = 3\n",
    "num_attr_vals = 7\n",
    "game_data = gen_card_data(num_attributes, num_attr_vals, num_unseen_cardpairs=0, debug=False)\n",
    "print('------------------------')\n",
    "count_table, xy, xyind, xy_div_xyind, distribution = report_gamedata_distribution(game_data, distribution_epsilon=1e-100)\n",
    "\n",
    "print(np.linalg.matrix_rank(xy_div_xyind[:-1, :]))\n",
    "u, s, vh = np.linalg.svd(xy_div_xyind[:, :])\n",
    "print(s)\n",
    "plt.plot(s)"
   ]
  },
  {
   "cell_type": "code",
   "execution_count": 5,
   "id": "grave-aging",
   "metadata": {},
   "outputs": [
    {
     "name": "stdout",
     "output_type": "stream",
     "text": [
      "Generated 5 unqiue cards\n",
      "Generated 16 cardpairs\n",
      "-- 12 cardpairs with shared concept\n",
      "-- 4 cardpairs without shared concept\n",
      "Number of cardpairs per shared concept [(1, 8), (2, 4), (0, 4)]\n",
      "Total number of matches =  32\n",
      "Number of matches per key concept hit =  [(1, 24), (2, 4), (0, 4)]\n",
      "------------------------\n",
      "4\n",
      "[16.          7.91794655  4.81870882  4.81870882  1.52380952]\n"
     ]
    },
    {
     "data": {
      "text/plain": [
       "[<matplotlib.lines.Line2D at 0x7f4748104df0>]"
      ]
     },
     "execution_count": 5,
     "metadata": {},
     "output_type": "execute_result"
    },
    {
     "data": {
      "image/png": "[encoded data removed]",
      "text/plain": [
       "<Figure size 432x288 with 1 Axes>"
      ]
     },
     "metadata": {
      "needs_background": "light"
     },
     "output_type": "display_data"
    }
   ],
   "source": [
    "num_attributes = 2\n",
    "num_attr_vals = 2\n",
    "game_data = gen_card_data(num_attributes, num_attr_vals, num_unseen_cardpairs=0, debug=False)\n",
    "print('------------------------')\n",
    "count_table, xy, xyind, xy_div_xyind, distribution = report_gamedata_distribution(game_data, distribution_epsilon=1e-100)\n",
    "\n",
    "print(np.linalg.matrix_rank(xy_div_xyind[:-1, :]))\n",
    "u, s, vh = np.linalg.svd(xy_div_xyind[:, :])\n",
    "print(s)\n",
    "plt.plot(s)"
   ]
  },
  {
   "cell_type": "code",
   "execution_count": 6,
   "id": "internal-commonwealth",
   "metadata": {},
   "outputs": [
    {
     "name": "stdout",
     "output_type": "stream",
     "text": [
      "Generated 10 unqiue cards\n",
      "Generated 81 cardpairs\n",
      "-- 45 cardpairs with shared concept\n",
      "-- 36 cardpairs without shared concept\n",
      "Number of cardpairs per shared concept [(1, 36), (0, 36), (2, 9)]\n",
      "Total number of matches =  189\n",
      "Number of matches per key concept hit =  [(1, 144), (0, 36), (2, 9)]\n",
      "------------------------\n",
      "9\n",
      "[31.5        24.85981457 16.33953746 16.33953746 16.33953746 16.33953746\n",
      "  2.22352941  2.22352941  2.22352941  2.22352941]\n"
     ]
    },
    {
     "data": {
      "text/plain": [
       "[<matplotlib.lines.Line2D at 0x7f4743347040>]"
      ]
     },
     "execution_count": 6,
     "metadata": {},
     "output_type": "execute_result"
    },
    {
     "data": {
      "image/png": "[encoded data removed]",
      "text/plain": [
       "<Figure size 432x288 with 1 Axes>"
      ]
     },
     "metadata": {
      "needs_background": "light"
     },
     "output_type": "display_data"
    }
   ],
   "source": [
    "num_attributes = 2\n",
    "num_attr_vals = 3\n",
    "game_data = gen_card_data(num_attributes, num_attr_vals, num_unseen_cardpairs=0, debug=False)\n",
    "print('------------------------')\n",
    "count_table, xy, xyind, xy_div_xyind, distribution = report_gamedata_distribution(game_data, distribution_epsilon=1e-100)\n",
    "\n",
    "print(np.linalg.matrix_rank(xy_div_xyind[:-1, :]))\n",
    "u, s, vh = np.linalg.svd(xy_div_xyind[:, :])\n",
    "print(s)\n",
    "plt.plot(s)"
   ]
  },
  {
   "cell_type": "code",
   "execution_count": 7,
   "id": "common-empty",
   "metadata": {},
   "outputs": [
    {
     "name": "stdout",
     "output_type": "stream",
     "text": [
      "Generated 17 unqiue cards\n",
      "Generated 256 cardpairs\n",
      "-- 112 cardpairs with shared concept\n",
      "-- 144 cardpairs without shared concept\n",
      "Number of cardpairs per shared concept [(0, 144), (1, 96), (2, 16)]\n",
      "Total number of matches =  640\n",
      "Number of matches per key concept hit =  [(1, 480), (0, 144), (2, 16)]\n",
      "------------------------\n",
      "16\n",
      "[54.62196255 53.33333333 36.83685455 36.83685455 36.83685455 36.83685455\n",
      " 36.83685455 36.83685455  2.94930876  2.94930876  2.94930876  2.94930876\n",
      "  2.94930876  2.94930876  2.94930876  2.94930876  2.94930876]\n"
     ]
    },
    {
     "data": {
      "text/plain": [
       "[<matplotlib.lines.Line2D at 0x7f4743ccf2b0>]"
      ]
     },
     "execution_count": 7,
     "metadata": {},
     "output_type": "execute_result"
    },
    {
     "data": {
      "image/png": "[encoded data removed]",
      "text/plain": [
       "<Figure size 432x288 with 1 Axes>"
      ]
     },
     "metadata": {
      "needs_background": "light"
     },
     "output_type": "display_data"
    }
   ],
   "source": [
    "num_attributes = 2\n",
    "num_attr_vals = 4\n",
    "game_data = gen_card_data(num_attributes, num_attr_vals, num_unseen_cardpairs=0, debug=False)\n",
    "print('------------------------')\n",
    "count_table, xy, xyind, xy_div_xyind, distribution = report_gamedata_distribution(game_data, distribution_epsilon=1e-100)\n",
    "\n",
    "print(np.linalg.matrix_rank(xy_div_xyind[:-1, :]))\n",
    "u, s, vh = np.linalg.svd(xy_div_xyind[:, :])\n",
    "print(s)\n",
    "plt.plot(s)"
   ]
  },
  {
   "cell_type": "code",
   "execution_count": 10,
   "id": "careful-narrative",
   "metadata": {},
   "outputs": [
    {
     "name": "stdout",
     "output_type": "stream",
     "text": [
      "Generated 50 unqiue cards\n",
      "Generated 2401 cardpairs\n",
      "-- 637 cardpairs with shared concept\n",
      "-- 1764 cardpairs without shared concept\n",
      "Number of cardpairs per shared concept [(0, 1764), (1, 588), (2, 49)]\n",
      "Total number of matches =  6517\n",
      "Number of matches per key concept hit =  [(1, 4704), (0, 1764), (2, 49)]\n",
      "------------------------\n",
      "49\n",
      "[242.24100683 167.46624557 167.46624557 167.46624557 167.46624557\n",
      " 167.46624557 167.46624557 167.46624557 167.46624557 167.46624557\n",
      " 167.46624557 167.46624557 167.46624557 155.16666667   5.16812054\n",
      "   5.16812054   5.16812054   5.16812054   5.16812054   5.16812054\n",
      "   5.16812054   5.16812054   5.16812054   5.16812054   5.16812054\n",
      "   5.16812054   5.16812054   5.16812054   5.16812054   5.16812054\n",
      "   5.16812054   5.16812054   5.16812054   5.16812054   5.16812054\n",
      "   5.16812054   5.16812054   5.16812054   5.16812054   5.16812054\n",
      "   5.16812054   5.16812054   5.16812054   5.16812054   5.16812054\n",
      "   5.16812054   5.16812054   5.16812054   5.16812054   5.16812054]\n"
     ]
    },
    {
     "data": {
      "text/plain": [
       "[<matplotlib.lines.Line2D at 0x7f4743e4cdc0>]"
      ]
     },
     "execution_count": 10,
     "metadata": {},
     "output_type": "execute_result"
    },
    {
     "data": {
      "image/png": "[encoded data removed]",
      "text/plain": [
       "<Figure size 432x288 with 1 Axes>"
      ]
     },
     "metadata": {
      "needs_background": "light"
     },
     "output_type": "display_data"
    }
   ],
   "source": [
    "num_attributes = 2\n",
    "num_attr_vals = 7\n",
    "game_data = gen_card_data(num_attributes, num_attr_vals, num_unseen_cardpairs=0, debug=False)\n",
    "print('------------------------')\n",
    "count_table, xy, xyind, xy_div_xyind, distribution = report_gamedata_distribution(game_data, distribution_epsilon=1e-100)\n",
    "\n",
    "print(np.linalg.matrix_rank(xy_div_xyind[:-1, :]))\n",
    "u, s, vh = np.linalg.svd(xy_div_xyind[:, :])\n",
    "print(s)\n",
    "plt.plot(s)"
   ]
  },
  {
   "cell_type": "code",
   "execution_count": 11,
   "id": "pressed-appraisal",
   "metadata": {},
   "outputs": [
    {
     "name": "stdout",
     "output_type": "stream",
     "text": [
      "Generated 65 unqiue cards\n",
      "Generated 4096 cardpairs\n",
      "-- 960 cardpairs with shared concept\n",
      "-- 3136 cardpairs without shared concept\n",
      "Number of cardpairs per shared concept [(0, 3136), (1, 896), (2, 64)]\n",
      "Total number of matches =  11264\n",
      "Number of matches per key concept hit =  [(1, 8064), (0, 3136), (2, 64)]\n",
      "------------------------\n",
      "64\n",
      "[343.50617647 238.28169142 238.28169142 238.28169142 238.28169142\n",
      " 238.28169142 238.28169142 238.28169142 238.28169142 238.28169142\n",
      " 238.28169142 238.28169142 238.28169142 238.28169142 238.28169142\n",
      " 201.14285714   5.91286089   5.91286089   5.91286089   5.91286089\n",
      "   5.91286089   5.91286089   5.91286089   5.91286089   5.91286089\n",
      "   5.91286089   5.91286089   5.91286089   5.91286089   5.91286089\n",
      "   5.91286089   5.91286089   5.91286089   5.91286089   5.91286089\n",
      "   5.91286089   5.91286089   5.91286089   5.91286089   5.91286089\n",
      "   5.91286089   5.91286089   5.91286089   5.91286089   5.91286089\n",
      "   5.91286089   5.91286089   5.91286089   5.91286089   5.91286089\n",
      "   5.91286089   5.91286089   5.91286089   5.91286089   5.91286089\n",
      "   5.91286089   5.91286089   5.91286089   5.91286089   5.91286089\n",
      "   5.91286089   5.91286089   5.91286089   5.91286089   5.91286089]\n"
     ]
    },
    {
     "data": {
      "text/plain": [
       "[<matplotlib.lines.Line2D at 0x7f4743b89550>]"
      ]
     },
     "execution_count": 11,
     "metadata": {},
     "output_type": "execute_result"
    },
    {
     "data": {
      "image/png": "[encoded data removed]",
      "text/plain": [
       "<Figure size 432x288 with 1 Axes>"
      ]
     },
     "metadata": {
      "needs_background": "light"
     },
     "output_type": "display_data"
    }
   ],
   "source": [
    "num_attributes = 2\n",
    "num_attr_vals = 8\n",
    "game_data = gen_card_data(num_attributes, num_attr_vals, num_unseen_cardpairs=0, debug=False)\n",
    "print('------------------------')\n",
    "count_table, xy, xyind, xy_div_xyind, distribution = report_gamedata_distribution(game_data, distribution_epsilon=1e-100)\n",
    "\n",
    "print(np.linalg.matrix_rank(xy_div_xyind[:-1, :]))\n",
    "u, s, vh = np.linalg.svd(xy_div_xyind[:, :])\n",
    "print(s)\n",
    "plt.plot(s)"
   ]
  },
  {
   "cell_type": "code",
   "execution_count": 3,
   "id": "modern-volleyball",
   "metadata": {},
   "outputs": [
    {
     "name": "stdout",
     "output_type": "stream",
     "text": [
      "Generated 26 unqiue cards\n",
      "Generated 625 cardpairs\n",
      "-- 225 cardpairs with shared concept\n",
      "-- 400 cardpairs without shared concept\n",
      "Number of cardpairs per shared concept [(0, 400), (1, 200), (2, 25)]\n",
      "Total number of matches =  1625\n",
      "Number of matches per key concept hit =  [(1, 1200), (0, 400), (2, 25)]\n",
      "------------------------\n",
      "25\n",
      "[99.48979592 81.25       67.94448863 67.94448863 67.94448863 67.94448863\n",
      " 67.94448863 67.94448863 67.94448863 67.94448863  3.68480726  3.68480726\n",
      "  3.68480726  3.68480726  3.68480726  3.68480726  3.68480726  3.68480726\n",
      "  3.68480726  3.68480726  3.68480726  3.68480726  3.68480726  3.68480726\n",
      "  3.68480726  3.68480726]\n"
     ]
    },
    {
     "data": {
      "text/plain": [
       "[<matplotlib.lines.Line2D at 0x7fdc4427cf40>]"
      ]
     },
     "execution_count": 3,
     "metadata": {},
     "output_type": "execute_result"
    },
    {
     "data": {
      "image/png": "[encoded data removed]",
      "text/plain": [
       "<Figure size 432x288 with 1 Axes>"
      ]
     },
     "metadata": {
      "needs_background": "light"
     },
     "output_type": "display_data"
    }
   ],
   "source": [
    "num_attributes = 2\n",
    "num_attr_vals = 5\n",
    "game_data = gen_card_data(num_attributes, num_attr_vals, num_unseen_cardpairs=0, debug=False)\n",
    "print('------------------------')\n",
    "count_table, xy, xyind, xy_div_xyind, distribution = report_gamedata_distribution(game_data, distribution_epsilon=1e-100)\n",
    "\n",
    "print(np.linalg.matrix_rank(xy_div_xyind[:-1, :]))\n",
    "u, s, vh = np.linalg.svd(xy_div_xyind[:, :])\n",
    "print(s)\n",
    "plt.plot(s)"
   ]
  },
  {
   "cell_type": "code",
   "execution_count": 4,
   "id": "narrative-great",
   "metadata": {},
   "outputs": [
    {
     "name": "stdout",
     "output_type": "stream",
     "text": [
      "Generated 37 unqiue cards\n",
      "Generated 1296 cardpairs\n",
      "-- 396 cardpairs with shared concept\n",
      "-- 900 cardpairs without shared concept\n",
      "Number of cardpairs per shared concept [(0, 900), (1, 360), (2, 36)]\n",
      "Total number of matches =  3456\n",
      "Number of matches per key concept hit =  [(1, 2520), (0, 900), (2, 36)]\n",
      "------------------------\n",
      "36\n",
      "[161.44021515 115.2        111.06902887 111.06902887 111.06902887\n",
      " 111.06902887 111.06902887 111.06902887 111.06902887 111.06902887\n",
      " 111.06902887 111.06902887   4.42509603   4.42509603   4.42509603\n",
      "   4.42509603   4.42509603   4.42509603   4.42509603   4.42509603\n",
      "   4.42509603   4.42509603   4.42509603   4.42509603   4.42509603\n",
      "   4.42509603   4.42509603   4.42509603   4.42509603   4.42509603\n",
      "   4.42509603   4.42509603   4.42509603   4.42509603   4.42509603\n",
      "   4.42509603   4.42509603]\n"
     ]
    },
    {
     "data": {
      "text/plain": [
       "[<matplotlib.lines.Line2D at 0x7fdc46acbb50>]"
      ]
     },
     "execution_count": 4,
     "metadata": {},
     "output_type": "execute_result"
    },
    {
     "data": {
      "image/png": "[encoded data removed]",
      "text/plain": [
       "<Figure size 432x288 with 1 Axes>"
      ]
     },
     "metadata": {
      "needs_background": "light"
     },
     "output_type": "display_data"
    }
   ],
   "source": [
    "num_attributes = 2\n",
    "num_attr_vals = 6\n",
    "game_data = gen_card_data(num_attributes, num_attr_vals, num_unseen_cardpairs=0, debug=False)\n",
    "print('------------------------')\n",
    "count_table, xy, xyind, xy_div_xyind, distribution = report_gamedata_distribution(game_data, distribution_epsilon=1e-100)\n",
    "\n",
    "print(np.linalg.matrix_rank(xy_div_xyind[:-1, :]))\n",
    "u, s, vh = np.linalg.svd(xy_div_xyind[:, :])\n",
    "print(s)\n",
    "plt.plot(s)"
   ]
  },
  {
   "cell_type": "code",
   "execution_count": 6,
   "id": "progressive-receipt",
   "metadata": {},
   "outputs": [
    {
     "name": "stdout",
     "output_type": "stream",
     "text": [
      "Generated 82 unqiue cards\n",
      "Generated 6561 cardpairs\n",
      "-- 5265 cardpairs with shared concept\n",
      "-- 1296 cardpairs without shared concept\n",
      "Number of cardpairs per shared concept [(1, 2592), (2, 1944), (0, 1296), (3, 648), (4, 81)]\n",
      "Total number of matches =  200961\n",
      "Number of matches per key concept hit =  [(1, 165888), (2, 31104), (3, 2592), (0, 1296), (4, 81)]\n",
      "------------------------\n",
      "81\n",
      "[5.58225000e+03 6.57281695e+02 2.60386131e+02 2.60386131e+02\n",
      " 2.60386131e+02 2.60386131e+02 2.60386131e+02 2.60386131e+02\n",
      " 2.60386131e+02 2.60386131e+02 3.71911470e+01 3.71911470e+01\n",
      " 3.71911470e+01 3.71911470e+01 3.71911470e+01 3.71911470e+01\n",
      " 3.71911470e+01 3.71911470e+01 3.71911470e+01 3.71911470e+01\n",
      " 3.71911470e+01 3.71911470e+01 3.71911470e+01 3.71911470e+01\n",
      " 3.71911470e+01 3.71911470e+01 3.71911470e+01 3.71911470e+01\n",
      " 3.71911470e+01 3.71911470e+01 3.71911470e+01 3.71911470e+01\n",
      " 3.71911470e+01 3.71911470e+01 6.56619619e+00 6.56619619e+00\n",
      " 6.56619619e+00 6.56619619e+00 6.56619619e+00 6.56619619e+00\n",
      " 6.56619619e+00 6.56619619e+00 6.56619619e+00 6.56619619e+00\n",
      " 6.56619619e+00 6.56619619e+00 6.56619619e+00 6.56619619e+00\n",
      " 6.56619619e+00 6.56619619e+00 6.56619619e+00 6.56619619e+00\n",
      " 6.56619619e+00 6.56619619e+00 6.56619619e+00 6.56619619e+00\n",
      " 6.56619619e+00 6.56619619e+00 6.56619619e+00 6.56619619e+00\n",
      " 6.56619619e+00 6.56619619e+00 6.56619619e+00 6.56619619e+00\n",
      " 6.56619619e+00 6.56619619e+00 1.25424247e+00 1.25424247e+00\n",
      " 1.25424247e+00 1.25424247e+00 1.25424247e+00 1.25424247e+00\n",
      " 1.25424247e+00 1.25424247e+00 1.25424247e+00 1.25424247e+00\n",
      " 1.25424247e+00 1.25424247e+00 1.25424247e+00 1.25424247e+00\n",
      " 1.25424247e+00 1.25424247e+00]\n"
     ]
    },
    {
     "data": {
      "text/plain": [
       "[<matplotlib.lines.Line2D at 0x7fdc3dc68880>]"
      ]
     },
     "execution_count": 6,
     "metadata": {},
     "output_type": "execute_result"
    },
    {
     "data": {
      "image/png": "[encoded data removed]",
      "text/plain": [
       "<Figure size 432x288 with 1 Axes>"
      ]
     },
     "metadata": {
      "needs_background": "light"
     },
     "output_type": "display_data"
    }
   ],
   "source": [
    "num_attributes = 4\n",
    "num_attr_vals = 3\n",
    "game_data = gen_card_data(num_attributes, num_attr_vals, num_unseen_cardpairs=0, debug=False)\n",
    "print('------------------------')\n",
    "count_table, xy, xyind, xy_div_xyind, distribution = report_gamedata_distribution(game_data, distribution_epsilon=1e-100)\n",
    "\n",
    "print(np.linalg.matrix_rank(xy_div_xyind[:-1, :]))\n",
    "u, s, vh = np.linalg.svd(xy_div_xyind[:, :])\n",
    "print(s)\n",
    "plt.plot(s)"
   ]
  },
  {
   "cell_type": "code",
   "execution_count": 7,
   "id": "competent-lesson",
   "metadata": {},
   "outputs": [
    {
     "name": "stdout",
     "output_type": "stream",
     "text": [
      "Generated 17 unqiue cards\n",
      "Generated 256 cardpairs\n",
      "-- 240 cardpairs with shared concept\n",
      "-- 16 cardpairs without shared concept\n",
      "Number of cardpairs per shared concept [(2, 96), (3, 64), (1, 64), (4, 16), (0, 16)]\n",
      "Total number of matches =  2816\n",
      "Number of matches per key concept hit =  [(1, 1728), (2, 864), (3, 192), (4, 16), (0, 16)]\n",
      "------------------------\n",
      "16\n",
      "[704.          62.32183487  19.03284939  19.03284939  19.03284939\n",
      "  19.03284939   6.36317597   6.36317597   6.36317597   6.36317597\n",
      "   6.36317597   6.36317597   2.53676703   2.53676703   2.53676703\n",
      "   2.53676703   1.0727619 ]\n"
     ]
    },
    {
     "data": {
      "text/plain": [
       "[<matplotlib.lines.Line2D at 0x7fdc44147130>]"
      ]
     },
     "execution_count": 7,
     "metadata": {},
     "output_type": "execute_result"
    },
    {
     "data": {
      "image/png": "[encoded data removed]",
      "text/plain": [
       "<Figure size 432x288 with 1 Axes>"
      ]
     },
     "metadata": {
      "needs_background": "light"
     },
     "output_type": "display_data"
    }
   ],
   "source": [
    "num_attributes = 4\n",
    "num_attr_vals = 2\n",
    "game_data = gen_card_data(num_attributes, num_attr_vals, num_unseen_cardpairs=0, debug=False)\n",
    "print('------------------------')\n",
    "count_table, xy, xyind, xy_div_xyind, distribution = report_gamedata_distribution(game_data, distribution_epsilon=1e-100)\n",
    "\n",
    "print(np.linalg.matrix_rank(xy_div_xyind[:-1, :]))\n",
    "u, s, vh = np.linalg.svd(xy_div_xyind[:, :])\n",
    "print(s)\n",
    "plt.plot(s)"
   ]
  },
  {
   "cell_type": "code",
   "execution_count": 9,
   "id": "funded-dispute",
   "metadata": {},
   "outputs": [
    {
     "data": {
      "text/plain": [
       "243"
      ]
     },
     "execution_count": 9,
     "metadata": {},
     "output_type": "execute_result"
    }
   ],
   "source": [
    "3**5"
   ]
  },
  {
   "cell_type": "code",
   "execution_count": null,
   "id": "paperback-outreach",
   "metadata": {},
   "outputs": [],
   "source": [
    "Total size 538002\n",
    "Sparsity 0.012195121951219513"
   ]
  },
  {
   "cell_type": "code",
   "execution_count": 10,
   "id": "offshore-acquisition",
   "metadata": {},
   "outputs": [
    {
     "data": {
      "text/plain": [
       "6561.0"
      ]
     },
     "execution_count": 10,
     "metadata": {},
     "output_type": "execute_result"
    }
   ],
   "source": [
    "538002 * 0.012195121951219513"
   ]
  },
  {
   "cell_type": "code",
   "execution_count": 11,
   "id": "reverse-forward",
   "metadata": {},
   "outputs": [
    {
     "data": {
      "text/plain": [
       "0.012195121951219513"
      ]
     },
     "execution_count": 11,
     "metadata": {},
     "output_type": "execute_result"
    }
   ],
   "source": [
    "1/82"
   ]
  },
  {
   "cell_type": "code",
   "execution_count": 12,
   "id": "understood-translation",
   "metadata": {},
   "outputs": [
    {
     "data": {
      "text/plain": [
       "0.00411522633744856"
      ]
     },
     "execution_count": 12,
     "metadata": {},
     "output_type": "execute_result"
    }
   ],
   "source": [
    "1/243"
   ]
  },
  {
   "cell_type": "code",
   "execution_count": 13,
   "id": "joint-kentucky",
   "metadata": {},
   "outputs": [
    {
     "data": {
      "text/plain": [
       "59049"
      ]
     },
     "execution_count": 13,
     "metadata": {},
     "output_type": "execute_result"
    }
   ],
   "source": [
    "243 * 243"
   ]
  },
  {
   "cell_type": "code",
   "execution_count": null,
   "id": "objective-raleigh",
   "metadata": {},
   "outputs": [],
   "source": []
  }
 ],
 "metadata": {
  "kernelspec": {
   "display_name": "Python 3",
   "language": "python",
   "name": "python3"
  },
  "language_info": {
   "codemirror_mode": {
    "name": "ipython",
    "version": 3
   },
   "file_extension": ".py",
   "mimetype": "text/x-python",
   "name": "python",
   "nbconvert_exporter": "python",
   "pygments_lexer": "ipython3",
   "version": "3.8.3"
  }
 },
 "nbformat": 4,
 "nbformat_minor": 5
}

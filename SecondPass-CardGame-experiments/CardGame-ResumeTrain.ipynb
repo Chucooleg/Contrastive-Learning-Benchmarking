{
 "cells": [
  {
   "cell_type": "code",
   "execution_count": 1,
   "id": "general-tribe",
   "metadata": {
    "scrolled": true
   },
   "outputs": [
    {
     "name": "stdout",
     "output_type": "stream",
     "text": [
      "__Python VERSION: 3.8.3 (default, May 19 2020, 18:47:26) \n",
      "[GCC 7.3.0]\n",
      "__pyTorch VERSION: 1.7.0\n",
      "__CUDA VERSION\n",
      "/usr/bin/sh: 1: nvcc: not found\n",
      "__CUDNN VERSION: 8003\n",
      "__Number CUDA Devices: 2\n",
      "__Devices\n",
      "Active CUDA Device: GPU 0\n",
      "Available devices  2\n",
      "Current cuda device  0\n"
     ]
    }
   ],
   "source": [
    "# https://discuss.pytorch.org/t/i-have-3-gpu-why-torch-cuda-device-count-only-return-1/7245/4\n",
    "import torch\n",
    "import sys\n",
    "print('__Python VERSION:', sys.version)\n",
    "print('__pyTorch VERSION:', torch.__version__)\n",
    "print('__CUDA VERSION')\n",
    "from subprocess import call\n",
    "# call([\"nvcc\", \"--version\"]) does not work\n",
    "! nvcc --version\n",
    "print('__CUDNN VERSION:', torch.backends.cudnn.version())\n",
    "print('__Number CUDA Devices:', torch.cuda.device_count())\n",
    "print('__Devices')\n",
    "call([\"nvidia-smi\", \"--format=csv\", \"--query-gpu=index,name,driver_version,memory.total,memory.used,memory.free\"])\n",
    "print('Active CUDA Device: GPU', torch.cuda.current_device())\n",
    "\n",
    "print ('Available devices ', torch.cuda.device_count())\n",
    "print ('Current cuda device ', torch.cuda.current_device())"
   ]
  },
  {
   "cell_type": "code",
   "execution_count": 1,
   "id": "confirmed-friendship",
   "metadata": {},
   "outputs": [
    {
     "name": "stderr",
     "output_type": "stream",
     "text": [
      "\u001b[34m\u001b[1mwandb\u001b[0m: Currently logged in as: \u001b[33mchucooleg\u001b[0m (use `wandb login --relogin` to force relogin)\n"
     ]
    }
   ],
   "source": [
    "%load_ext autoreload\n",
    "%autoreload 2\n",
    "\n",
    "import os\n",
    "import json\n",
    "import main\n",
    "from argparse import ArgumentDefaultsHelpFormatter, ArgumentParser"
   ]
  },
  {
   "cell_type": "code",
   "execution_count": 2,
   "id": "urban-custom",
   "metadata": {},
   "outputs": [],
   "source": [
    "# arguments\n",
    "parser = ArgumentParser(formatter_class=ArgumentDefaultsHelpFormatter)\n",
    "args = parser.parse_args('')\n",
    "\n",
    "args.data_path = '../Raw_Datasets/3Attr-4Vals-2hat23Train-2hat12Val.json'\n",
    "args.config_path = 'checkpoints/ContrastiveLearning-cardgame-Scaling-SecondPass/20210223-192624-CardGame:OR;attr3-val4;contrastive;lookupTable;d_model32;dot-product;params133.15K/config.json'\n",
    "args.generate_full_matrix = True\n",
    "args.checkpoint_dir = 'checkpoints'\n",
    "args.mode = 'resume_train'\n",
    "args.gpu = 0\n",
    "args.approve_before_training = False\n",
    "args.runID = '28ig3igg'\n",
    "args.project_name = \"ContrastiveLearning-cardgame-Scaling-SecondPass\""
   ]
  },
  {
   "cell_type": "code",
   "execution_count": 3,
   "id": "inclusive-angel",
   "metadata": {
    "scrolled": true
   },
   "outputs": [
    {
     "name": "stderr",
     "output_type": "stream",
     "text": [
      "Global seed set to 42\n"
     ]
    },
    {
     "name": "stdout",
     "output_type": "stream",
     "text": [
      "---------data----------\n",
      "num_attributes : 3\n",
      "num_attr_vals : 4\n",
      "key_support_size : 65\n",
      "query_support_size : 4096\n",
      "train_datapoints length : 8388608\n",
      "val_datapoints length : 4096\n",
      "sparsity_estimate : 0.17980795755722673\n",
      "-----------------------\n",
      "----------hparams----------\n",
      "seed : 42\n",
      "batch_size : 128\n",
      "max_epochs : 1\n",
      "d_model : 32\n",
      "embed_dropout : 0.0\n",
      "model : contrastive\n",
      "embedding_by_property : False\n",
      "encoder : lookup\n",
      "decoder : lookup\n",
      "d_ff : 1024\n",
      "num_heads : 1\n",
      "N_enc : 2\n",
      "N_dec : 2\n",
      "attn_wt_tying_scheme : untie_QKVO_zero_O\n",
      "attn_wt_dropout : 0.0\n",
      "heads_dropout : 0.0\n",
      "pff_dropout : 0.0\n",
      "representation_pos : 0\n",
      "dotproduct_bottleneck : True\n",
      "loss_temperature_const : 1.0\n",
      "loss_smoothing_const : 0.1\n",
      "nonlinear_classifier_scale_down_factor : [2, 1]\n",
      "adam_lr : 0.001\n",
      "adam_beta1 : 0.9\n",
      "adam_beta2 : 0.999\n",
      "adam_epsilon : 1e-08\n",
      "adam_weight_decay : 0\n",
      "scheduled_adam_beta1 : 0.9\n",
      "scheduled_adam_beta2 : 0.98\n",
      "scheduled_adam_epsilon : 1e-09\n",
      "scheduled_adam_warmup_steps : 4000\n",
      "gradient_clip_val : 0\n",
      "debug : False\n",
      "key_support_size : 65\n",
      "query_support_size : 4096\n",
      "num_attributes : 3\n",
      "num_attr_vals : 4\n",
      "num_cards_per_query : 2\n",
      "vocab_size : 17\n",
      "NULL : 12\n",
      "SEP : 13\n",
      "SOS : 14\n",
      "EOS : 15\n",
      "PAD : 16\n",
      "populate_logits_matrix : True\n",
      "len_q : 1\n",
      "len_k : 1\n",
      "---------------------------\n",
      "Generating Full Matrix\n",
      "Generated 65 unqiue cards\n",
      "Generated 4096 cardpairs\n",
      "-- 2368 cardpairs with shared concept\n",
      "-- 1728 cardpairs without shared concept\n",
      "Number of cardpairs per shared concept [(1, 1728), (0, 1728), (2, 576), (3, 64)]\n",
      "Total number of matches =  47872\n",
      "Number of matches per key concept hit =  [(1, 43200), (2, 2880), (0, 1728), (3, 64)]\n",
      "{'shape': (65, 4096), 'size': 266240, 'sparsity': 0.1798076923076923, 'xy_rank': 65, 'xy_div_xyind_rank': 65}\n",
      "   | Name                                         | Type               | Params\n",
      "-------------------------------------------------------------------------------------\n",
      "0  | metrics                                      | ThresholdedMetrics | 0     \n",
      "1  | model                                        | EncoderPredictor   | 133 K \n",
      "2  | model.inp_query_layer                        | Sequential         | 131 K \n",
      "3  | model.inp_query_layer.scaled_embed           | ScaledEmbedding    | 131 K \n",
      "4  | model.inp_query_layer.scaled_embed.embedding | Embedding          | 131 K \n",
      "5  | model.inp_query_layer.embed_dropout          | Dropout            | 0     \n",
      "6  | model.inp_key_layer                          | Sequential         | 2.1 K \n",
      "7  | model.inp_key_layer.scaled_embed             | ScaledEmbedding    | 2.1 K \n",
      "8  | model.inp_key_layer.scaled_embed.embedding   | Embedding          | 2.1 K \n",
      "9  | loss_criterion                               | InfoCELoss         | 0     \n",
      "10 | loss_criterion.CE_loss                       | CrossEntropyLoss   | 0     \n",
      "11 | softmax                                      | Softmax            | 0     \n",
      "-------------------------------------------------------------------------------------\n",
      "133 K     Trainable params\n",
      "0         Non-trainable params\n",
      "133 K     Total params \n",
      "\n",
      "RUN NAME :\n",
      " CardGame:OR;attr3-val4;contrastive;lookupTable;d_model32;dot-product;params133.15K\n",
      "Checkpoint Path:\n",
      " checkpoints/ContrastiveLearning-cardgame-Scaling-SecondPass/20210223-192624-CardGame:OR;attr3-val4;contrastive;lookupTable;d_model32;dot-product;params133.15K\n"
     ]
    },
    {
     "name": "stderr",
     "output_type": "stream",
     "text": [
      "/home/user/miniconda/lib/python3.8/site-packages/pytorch_lightning/utilities/distributed.py:50: UserWarning: Checkpoint directory checkpoints/ContrastiveLearning-cardgame-Scaling-SecondPass/20210223-192624-CardGame:OR;attr3-val4;contrastive;lookupTable;d_model32;dot-product;params133.15K exists and is not empty.\n",
      "  warnings.warn(*args, **kwargs)\n",
      "GPU available: True, used: True\n",
      "TPU available: None, using: 0 TPU cores\n",
      "LOCAL_RANK: 0 - CUDA_VISIBLE_DEVICES: [0,1]\n",
      "/app/Contrastive-Learning-Benchmarking/SecondPass-CardGame-experiments/main.py:180: UserWarning: Anomaly Detection has been enabled. This mode will increase the runtime and should only be enabled for debugging.\n",
      "  with torch.autograd.detect_anomaly():\n",
      "\u001b[34m\u001b[1mwandb\u001b[0m: wandb version 0.10.20 is available!  To upgrade, please run:\n",
      "\u001b[34m\u001b[1mwandb\u001b[0m:  $ pip install wandb --upgrade\n"
     ]
    },
    {
     "data": {
      "text/html": [
       "\n",
       "                Tracking run with wandb version 0.10.18<br/>\n",
       "                Syncing run <strong style=\"color:#cdcd00\">CardGame:OR;attr3-val4;contrastive;lookupTable;d_model32;dot-product;params133.15K</strong> to <a href=\"https://wandb.ai\" target=\"_blank\">Weights & Biases</a> <a href=\"https://docs.wandb.com/integrations/jupyter.html\" target=\"_blank\">(Documentation)</a>.<br/>\n",
       "                Project page: <a href=\"https://wandb.ai/chucooleg/ContrastiveLearning-cardgame-Scaling-SecondPass\" target=\"_blank\">https://wandb.ai/chucooleg/ContrastiveLearning-cardgame-Scaling-SecondPass</a><br/>\n",
       "                Run page: <a href=\"https://wandb.ai/chucooleg/ContrastiveLearning-cardgame-Scaling-SecondPass/runs/37iy5aii\" target=\"_blank\">https://wandb.ai/chucooleg/ContrastiveLearning-cardgame-Scaling-SecondPass/runs/37iy5aii</a><br/>\n",
       "                Run data is saved locally in <code>/app/Contrastive-Learning-Benchmarking/SecondPass-CardGame-experiments/wandb/run-20210224_031939-37iy5aii</code><br/><br/>\n",
       "            "
      ],
      "text/plain": [
       "<IPython.core.display.HTML object>"
      ]
     },
     "metadata": {},
     "output_type": "display_data"
    },
    {
     "name": "stderr",
     "output_type": "stream",
     "text": [
      "\u001b[34m\u001b[1mwandb\u001b[0m: \u001b[33mWARNING\u001b[0m Serializing object of type ndarray that is 2130032 bytes\n",
      "\u001b[34m\u001b[1mwandb\u001b[0m: \u001b[33mWARNING\u001b[0m Serializing object of type ndarray that is 2130032 bytes\n",
      "\u001b[34m\u001b[1mwandb\u001b[0m: \u001b[33mWARNING\u001b[0m Serializing object of type ndarray that is 2130032 bytes\n",
      "\u001b[34m\u001b[1mwandb\u001b[0m: \u001b[33mWARNING\u001b[0m Serializing object of type ndarray that is 2130032 bytes\n",
      "\n",
      "   | Name                                         | Type               | Params\n",
      "-------------------------------------------------------------------------------------\n",
      "0  | metrics                                      | ThresholdedMetrics | 0     \n",
      "1  | model                                        | EncoderPredictor   | 133 K \n",
      "2  | model.inp_query_layer                        | Sequential         | 131 K \n",
      "3  | model.inp_query_layer.scaled_embed           | ScaledEmbedding    | 131 K \n",
      "4  | model.inp_query_layer.scaled_embed.embedding | Embedding          | 131 K \n",
      "5  | model.inp_query_layer.embed_dropout          | Dropout            | 0     \n",
      "6  | model.inp_key_layer                          | Sequential         | 2.1 K \n",
      "7  | model.inp_key_layer.scaled_embed             | ScaledEmbedding    | 2.1 K \n",
      "8  | model.inp_key_layer.scaled_embed.embedding   | Embedding          | 2.1 K \n",
      "9  | loss_criterion                               | InfoCELoss         | 0     \n",
      "10 | loss_criterion.CE_loss                       | CrossEntropyLoss   | 0     \n",
      "11 | softmax                                      | Softmax            | 0     \n",
      "-------------------------------------------------------------------------------------\n",
      "133 K     Trainable params\n",
      "0         Non-trainable params\n",
      "133 K     Total params\n"
     ]
    },
    {
     "name": "stdout",
     "output_type": "stream",
     "text": [
      "Validation sanity check:   0%|          | 0/2 [00:00<?, ?it/s]"
     ]
    },
    {
     "name": "stderr",
     "output_type": "stream",
     "text": [
      "/home/user/miniconda/lib/python3.8/site-packages/pytorch_lightning/utilities/distributed.py:50: UserWarning: The dataloader, val dataloader 0, does not have many workers which may be a bottleneck. Consider increasing the value of the `num_workers` argument` (try 16 which is the number of cpus on this machine) in the `DataLoader` init to improve performance.\n",
      "  warnings.warn(*args, **kwargs)\n"
     ]
    },
    {
     "name": "stdout",
     "output_type": "stream",
     "text": [
      "\r",
      "Validation sanity check:  50%|█████     | 1/2 [00:00<00:00,  1.35it/s]"
     ]
    },
    {
     "name": "stderr",
     "output_type": "stream",
     "text": [
      "/home/user/miniconda/lib/python3.8/site-packages/torch/cuda/memory.py:231: FutureWarning: torch.cuda.reset_max_memory_allocated now calls torch.cuda.reset_peak_memory_stats, which resets /all/ peak memory stats.\n",
      "  warnings.warn(\n"
     ]
    },
    {
     "name": "stdout",
     "output_type": "stream",
     "text": [
      "Epoch 0:   0%|          | 0/67616 [00:00<?, ?it/s]                    "
     ]
    },
    {
     "name": "stderr",
     "output_type": "stream",
     "text": [
      "/home/user/miniconda/lib/python3.8/site-packages/pytorch_lightning/utilities/distributed.py:50: UserWarning: The validation_epoch_end should not return anything as of 9.1. To log, use self.log(...) or self.write(...) directly in the LightningModule\n",
      "  warnings.warn(*args, **kwargs)\n",
      "/home/user/miniconda/lib/python3.8/site-packages/pytorch_lightning/utilities/distributed.py:50: UserWarning: The dataloader, train dataloader, does not have many workers which may be a bottleneck. Consider increasing the value of the `num_workers` argument` (try 16 which is the number of cpus on this machine) in the `DataLoader` init to improve performance.\n",
      "  warnings.warn(*args, **kwargs)\n"
     ]
    },
    {
     "name": "stdout",
     "output_type": "stream",
     "text": [
      "Epoch 0:   0%|          | 23/67616 [00:07<6:21:22,  2.95it/s, loss=466, v_num=5aii]"
     ]
    },
    {
     "name": "stderr",
     "output_type": "stream",
     "text": [
      "/home/user/miniconda/lib/python3.8/site-packages/pytorch_lightning/utilities/distributed.py:50: UserWarning: Detected KeyboardInterrupt, attempting graceful shutdown...\n",
      "  warnings.warn(*args, **kwargs)\n",
      "Saving latest checkpoint...\n"
     ]
    },
    {
     "name": "stdout",
     "output_type": "stream",
     "text": [
      "Epoch 0:   0%|          | 23/67616 [00:08<6:32:55,  2.87it/s, loss=466, v_num=5aii]\n"
     ]
    },
    {
     "data": {
      "text/plain": [
       "(ContrastiveTrainModule(\n",
       "   (metrics): ThresholdedMetrics()\n",
       "   (model): EncoderPredictor(\n",
       "     (inp_query_layer): Sequential(\n",
       "       (scaled_embed): ScaledEmbedding(\n",
       "         (embedding): Embedding(4096, 32)\n",
       "       )\n",
       "       (embed_dropout): Dropout(p=0.0, inplace=False)\n",
       "     )\n",
       "     (inp_key_layer): Sequential(\n",
       "       (scaled_embed): ScaledEmbedding(\n",
       "         (embedding): Embedding(65, 32)\n",
       "       )\n",
       "       (embed_dropout): Dropout(p=0.0, inplace=False)\n",
       "     )\n",
       "   )\n",
       "   (loss_criterion): InfoCELoss(\n",
       "     (CE_loss): CrossEntropyLoss()\n",
       "   )\n",
       "   (softmax): Softmax(dim=1)\n",
       " ),\n",
       " <datamodule.GameDataModule at 0x7ff1bcf02bb0>)"
      ]
     },
     "execution_count": 3,
     "metadata": {},
     "output_type": "execute_result"
    }
   ],
   "source": [
    "main.main(args)"
   ]
  },
  {
   "cell_type": "code",
   "execution_count": null,
   "id": "angry-sensitivity",
   "metadata": {},
   "outputs": [],
   "source": []
  }
 ],
 "metadata": {
  "kernelspec": {
   "display_name": "Python 3",
   "language": "python",
   "name": "python3"
  },
  "language_info": {
   "codemirror_mode": {
    "name": "ipython",
    "version": 3
   },
   "file_extension": ".py",
   "mimetype": "text/x-python",
   "name": "python",
   "nbconvert_exporter": "python",
   "pygments_lexer": "ipython3",
   "version": "3.8.3"
  }
 },
 "nbformat": 4,
 "nbformat_minor": 5
}

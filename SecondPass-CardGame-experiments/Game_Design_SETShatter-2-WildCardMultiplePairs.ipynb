{
 "cells": [
  {
   "cell_type": "code",
   "execution_count": 23,
   "id": "adjacent-course",
   "metadata": {},
   "outputs": [
    {
     "name": "stdout",
     "output_type": "stream",
     "text": [
      "The autoreload extension is already loaded. To reload it, use:\n",
      "  %reload_ext autoreload\n"
     ]
    }
   ],
   "source": [
    "%load_ext autoreload\n",
    "%autoreload 2\n",
    "\n",
    "from dataraw_sampling import *\n",
    "import itertools\n",
    "import numpy as np\n",
    "from collections import defaultdict, Counter\n",
    "from tqdm import tqdm\n",
    "import time\n",
    "import random\n"
   ]
  },
  {
   "cell_type": "code",
   "execution_count": 25,
   "id": "verbal-portsmouth",
   "metadata": {
    "scrolled": true
   },
   "outputs": [],
   "source": [
    "query_props, ans_subset, ans_len = draw_N_cardpairs(num_attributes=4, num_attr_vals=3, N=3)"
   ]
  },
  {
   "cell_type": "code",
   "execution_count": 28,
   "id": "respected-usage",
   "metadata": {},
   "outputs": [
    {
     "data": {
      "text/plain": [
       "[array([2, 0, 0, 2]),\n",
       " array([2, 2, 1, 2]),\n",
       " array([2, 0, 1, 2]),\n",
       " array([2, 3, 0, 2]),\n",
       " array([1, 0, 2, 2]),\n",
       " array([0, 0, 1, 1])]"
      ]
     },
     "execution_count": 28,
     "metadata": {},
     "output_type": "execute_result"
    }
   ],
   "source": [
    "query_props"
   ]
  },
  {
   "cell_type": "code",
   "execution_count": 33,
   "id": "starting-religion",
   "metadata": {},
   "outputs": [
    {
     "name": "stdout",
     "output_type": "stream",
     "text": [
      "Number of card subsets generated = 99\n"
     ]
    }
   ],
   "source": [
    "all_ans_subsets = set()\n",
    "all_ans_subsets_count = defaultdict(int)\n",
    "ans_subset_sizes = []\n",
    "\n",
    "for _ in range(100):\n",
    "    # set, int\n",
    "    query_props, ans_subset, ans_len = draw_N_cardpairs(num_attributes=4, num_attr_vals=3, N=3)\n",
    "    ans_subset = tuple(sorted(ans_subset))\n",
    "    all_ans_subsets.add(ans_subset)\n",
    "    all_ans_subsets_count[ans_subset] += 1\n",
    "    \n",
    "print('Number of card subsets generated =', len(all_ans_subsets))"
   ]
  },
  {
   "cell_type": "code",
   "execution_count": 87,
   "id": "living-client",
   "metadata": {},
   "outputs": [
    {
     "data": {
      "text/plain": [
       "Counter({2: 3089,\n",
       "         6: 5066,\n",
       "         18: 820,\n",
       "         10: 3711,\n",
       "         4: 8003,\n",
       "         12: 4305,\n",
       "         11: 933,\n",
       "         28: 615,\n",
       "         5: 465,\n",
       "         17: 229,\n",
       "         15: 310,\n",
       "         30: 616,\n",
       "         29: 313,\n",
       "         33: 313,\n",
       "         3: 108,\n",
       "         9: 54,\n",
       "         1: 64,\n",
       "         54: 12,\n",
       "         36: 204,\n",
       "         45: 52,\n",
       "         27: 12,\n",
       "         81: 1})"
      ]
     },
     "execution_count": 87,
     "metadata": {},
     "output_type": "execute_result"
    }
   ],
   "source": [
    "Counter([len(sub) for sub in all_ans_subsets])"
   ]
  },
  {
   "cell_type": "code",
   "execution_count": 13,
   "id": "seven-phoenix",
   "metadata": {},
   "outputs": [
    {
     "name": "stdout",
     "output_type": "stream",
     "text": [
      "Number of card subsets generated = 712807\n"
     ]
    }
   ],
   "source": [
    "all_ans_subsets = set()\n",
    "all_ans_subsets_count = defaultdict(int)\n",
    "ans_subset_sizes = []\n",
    "for _ in range(1000000):\n",
    "    # set, int\n",
    "    ans_subset, ans_subset_size = draw_N_cardpairs(num_attributes=4, num_attr_vals=3, N=3)\n",
    "    ans_subset = tuple(sorted(ans_subset))\n",
    "    all_ans_subsets.add(ans_subset)\n",
    "    all_ans_subsets_count[ans_subset] += 1\n",
    "    \n",
    "print('Number of card subsets generated =', len(all_ans_subsets))"
   ]
  },
  {
   "cell_type": "code",
   "execution_count": 14,
   "id": "handed-diameter",
   "metadata": {
    "scrolled": true
   },
   "outputs": [
    {
     "data": {
      "text/plain": [
       "Counter({5: 98264,\n",
       "         3: 25636,\n",
       "         15: 51536,\n",
       "         19: 19284,\n",
       "         12: 25054,\n",
       "         7: 119862,\n",
       "         13: 98016,\n",
       "         18: 12228,\n",
       "         11: 42054,\n",
       "         8: 13388,\n",
       "         35: 3444,\n",
       "         6: 15982,\n",
       "         10: 3881,\n",
       "         34: 4660,\n",
       "         14: 28160,\n",
       "         39: 3842,\n",
       "         9: 47062,\n",
       "         31: 11678,\n",
       "         20: 12262,\n",
       "         23: 1199,\n",
       "         30: 5667,\n",
       "         2: 992,\n",
       "         29: 5411,\n",
       "         32: 5256,\n",
       "         33: 4800,\n",
       "         36: 4162,\n",
       "         16: 6427,\n",
       "         21: 17076,\n",
       "         24: 2172,\n",
       "         26: 1209,\n",
       "         17: 2888,\n",
       "         37: 3643,\n",
       "         25: 575,\n",
       "         4: 6437,\n",
       "         27: 1616,\n",
       "         42: 1014,\n",
       "         63: 57,\n",
       "         49: 145,\n",
       "         38: 1761,\n",
       "         28: 648,\n",
       "         57: 187,\n",
       "         47: 616,\n",
       "         48: 398,\n",
       "         51: 376,\n",
       "         46: 575,\n",
       "         41: 570,\n",
       "         55: 173,\n",
       "         45: 386,\n",
       "         54: 73,\n",
       "         81: 1,\n",
       "         1: 4})"
      ]
     },
     "execution_count": 14,
     "metadata": {},
     "output_type": "execute_result"
    }
   ],
   "source": [
    "Counter([len(sub) for sub in all_ans_subsets])"
   ]
  },
  {
   "cell_type": "code",
   "execution_count": null,
   "id": "declared-plain",
   "metadata": {},
   "outputs": [],
   "source": [
    "Counter([len(sub) for sub in all_ans_subsets])"
   ]
  },
  {
   "cell_type": "code",
   "execution_count": 12,
   "id": "white-affairs",
   "metadata": {},
   "outputs": [
    {
     "name": "stderr",
     "output_type": "stream",
     "text": [
      "100%|██████████| 1024/1024 [00:00<00:00, 3789.03it/s]"
     ]
    },
    {
     "name": "stdout",
     "output_type": "stream",
     "text": [
      "Number of card subsets generated = 1007\n",
      "Time used to sample =  0.27445101737976074\n"
     ]
    },
    {
     "name": "stderr",
     "output_type": "stream",
     "text": [
      "\n"
     ]
    }
   ],
   "source": [
    "start_time = time.time()\n",
    "\n",
    "all_ans_subsets = set()\n",
    "all_ans_subsets_count = defaultdict(int)\n",
    "ans_subset_sizes = []\n",
    "for _ in tqdm(range(1024)):\n",
    "    # set, int\n",
    "    ans_subset, ans_subset_size = draw_N_cardpairs(num_attributes=4, num_attr_vals=3, N=3)\n",
    "    ans_subset = tuple(sorted(ans_subset))\n",
    "    all_ans_subsets.add(ans_subset)\n",
    "    all_ans_subsets_count[ans_subset] += 1\n",
    "    \n",
    "print('Number of card subsets generated =', len(all_ans_subsets))\n",
    "print('Time used to sample = ', time.time()-start_time)"
   ]
  },
  {
   "cell_type": "code",
   "execution_count": 10,
   "id": "otherwise-finland",
   "metadata": {},
   "outputs": [
    {
     "name": "stderr",
     "output_type": "stream",
     "text": [
      "100%|██████████| 1024/1024 [00:00<00:00, 3963.20it/s]"
     ]
    },
    {
     "name": "stdout",
     "output_type": "stream",
     "text": [
      "Number of card subsets generated = 1022\n",
      "Time used to sample =  0.41678452491760254\n"
     ]
    },
    {
     "name": "stderr",
     "output_type": "stream",
     "text": [
      "\n"
     ]
    }
   ],
   "source": [
    "start_time = time.time()\n",
    "\n",
    "all_ans_subsets = set()\n",
    "all_ans_subsets_count = defaultdict(int)\n",
    "ans_subset_sizes = []\n",
    "for _ in tqdm(range(1024)):\n",
    "    # set, int\n",
    "    ans_subset, ans_subset_size = draw_N_cardpairs(num_attributes=5, num_attr_vals=3, N=3)\n",
    "    ans_subset = tuple(sorted(ans_subset))\n",
    "    all_ans_subsets.add(ans_subset)\n",
    "    all_ans_subsets_count[ans_subset] += 1\n",
    "    \n",
    "print('Number of card subsets generated =', len(all_ans_subsets))\n",
    "print('Time used to sample = ', time.time()-start_time)"
   ]
  },
  {
   "cell_type": "code",
   "execution_count": 44,
   "id": "regular-gender",
   "metadata": {},
   "outputs": [
    {
     "name": "stderr",
     "output_type": "stream",
     "text": [
      "100%|██████████| 1024/1024 [00:01<00:00, 821.77it/s]"
     ]
    },
    {
     "name": "stdout",
     "output_type": "stream",
     "text": [
      "Number of card subsets generated = 957\n",
      "Time used to sample =  1.253709077835083\n"
     ]
    },
    {
     "name": "stderr",
     "output_type": "stream",
     "text": [
      "\n"
     ]
    }
   ],
   "source": [
    "# time rejection sampling\n",
    "\n",
    "num_attributes=4; num_attr_vals=3\n",
    "\n",
    "start_time = time.time()\n",
    "\n",
    "all_ans_subsets = set()\n",
    "all_ans_subsets_count = defaultdict(int)\n",
    "ans_subset_sizes = []\n",
    "\n",
    "fails = 0\n",
    "\n",
    "for _ in tqdm(range(1024)):\n",
    "    success = False\n",
    "    while not success:\n",
    "        query_props, ans_subset, ans_len = draw_N_cardpairs(num_attributes, num_attr_vals, N=3)\n",
    "        if random.random() <= (len(ans_subset) *1.0 / (num_attr_vals**num_attributes)):\n",
    "            success = True\n",
    "        else:\n",
    "            fails += 1\n",
    "    ans_subset = tuple(sorted(ans_subset))\n",
    "    all_ans_subsets.add(ans_subset)\n",
    "    all_ans_subsets_count[ans_subset] += 1\n",
    "    \n",
    "print('Number of card subsets generated =', len(all_ans_subsets))\n",
    "print('Time used to sample = ', time.time()-start_time)"
   ]
  },
  {
   "cell_type": "code",
   "execution_count": 52,
   "id": "horizontal-benchmark",
   "metadata": {},
   "outputs": [
    {
     "data": {
      "text/plain": [
       "9"
      ]
     },
     "execution_count": 52,
     "metadata": {},
     "output_type": "execute_result"
    }
   ],
   "source": [
    "ans_len"
   ]
  },
  {
   "cell_type": "code",
   "execution_count": 46,
   "id": "stock-intent",
   "metadata": {},
   "outputs": [
    {
     "data": {
      "text/plain": [
       "Counter({36: 24,\n",
       "         19: 36,\n",
       "         15: 73,\n",
       "         54: 3,\n",
       "         21: 30,\n",
       "         12: 45,\n",
       "         13: 103,\n",
       "         46: 2,\n",
       "         7: 67,\n",
       "         30: 47,\n",
       "         14: 42,\n",
       "         11: 58,\n",
       "         33: 32,\n",
       "         29: 28,\n",
       "         63: 1,\n",
       "         23: 5,\n",
       "         18: 29,\n",
       "         9: 45,\n",
       "         28: 36,\n",
       "         39: 13,\n",
       "         35: 10,\n",
       "         20: 20,\n",
       "         5: 50,\n",
       "         6: 13,\n",
       "         57: 1,\n",
       "         32: 17,\n",
       "         16: 9,\n",
       "         38: 8,\n",
       "         10: 8,\n",
       "         37: 17,\n",
       "         27: 15,\n",
       "         47: 2,\n",
       "         34: 9,\n",
       "         31: 27,\n",
       "         42: 4,\n",
       "         3: 5,\n",
       "         45: 4,\n",
       "         4: 2,\n",
       "         49: 1,\n",
       "         8: 8,\n",
       "         41: 1,\n",
       "         17: 3,\n",
       "         2: 1,\n",
       "         81: 1,\n",
       "         26: 1,\n",
       "         24: 1})"
      ]
     },
     "execution_count": 46,
     "metadata": {},
     "output_type": "execute_result"
    }
   ],
   "source": [
    "Counter([len(sub) for sub in all_ans_subsets])"
   ]
  },
  {
   "cell_type": "code",
   "execution_count": null,
   "id": "sexual-france",
   "metadata": {},
   "outputs": [],
   "source": []
  },
  {
   "cell_type": "code",
   "execution_count": 67,
   "id": "spectacular-necklace",
   "metadata": {},
   "outputs": [
    {
     "data": {
      "text/plain": [
       "14.908345706150365"
      ]
     },
     "execution_count": 67,
     "metadata": {},
     "output_type": "execute_result"
    }
   ],
   "source": [
    "# 4-3 N=2\n",
    "np.log2(30751)"
   ]
  },
  {
   "cell_type": "code",
   "execution_count": 70,
   "id": "wound-principal",
   "metadata": {},
   "outputs": [
    {
     "data": {
      "text/plain": [
       "19.440936062609453"
      ]
     },
     "execution_count": 70,
     "metadata": {},
     "output_type": "execute_result"
    }
   ],
   "source": [
    "# 4-3 N=3\n",
    "np.log2(711713)"
   ]
  },
  {
   "cell_type": "code",
   "execution_count": 64,
   "id": "mysterious-sheep",
   "metadata": {},
   "outputs": [
    {
     "data": {
      "text/plain": [
       "100000"
      ]
     },
     "execution_count": 64,
     "metadata": {},
     "output_type": "execute_result"
    }
   ],
   "source": [
    "sum(all_ans_subsets_count.values())"
   ]
  },
  {
   "cell_type": "code",
   "execution_count": 65,
   "id": "ordinary-democrat",
   "metadata": {},
   "outputs": [
    {
     "data": {
      "text/plain": [
       "0.00756"
      ]
     },
     "execution_count": 65,
     "metadata": {},
     "output_type": "execute_result"
    }
   ],
   "source": [
    "756 / 100000"
   ]
  },
  {
   "cell_type": "code",
   "execution_count": 63,
   "id": "logical-washington",
   "metadata": {
    "scrolled": true
   },
   "outputs": [
    {
     "data": {
      "text/plain": [
       "Counter({3: 6903,\n",
       "         6: 1596,\n",
       "         4: 5216,\n",
       "         5: 3146,\n",
       "         1: 4372,\n",
       "         9: 93,\n",
       "         2: 6775,\n",
       "         12: 10,\n",
       "         7: 703,\n",
       "         11: 28,\n",
       "         8: 322,\n",
       "         53: 3,\n",
       "         172: 1,\n",
       "         57: 2,\n",
       "         14: 10,\n",
       "         10: 33,\n",
       "         39: 2,\n",
       "         197: 1,\n",
       "         61: 1,\n",
       "         15: 10,\n",
       "         756: 1,\n",
       "         177: 1,\n",
       "         47: 4,\n",
       "         44: 2,\n",
       "         46: 3,\n",
       "         54: 2,\n",
       "         42: 4,\n",
       "         222: 1,\n",
       "         38: 1,\n",
       "         194: 1,\n",
       "         174: 2,\n",
       "         17: 1,\n",
       "         192: 2,\n",
       "         56: 3,\n",
       "         50: 3,\n",
       "         13: 12,\n",
       "         180: 1,\n",
       "         43: 3,\n",
       "         200: 1,\n",
       "         62: 1,\n",
       "         48: 1,\n",
       "         49: 3,\n",
       "         40: 2,\n",
       "         51: 2,\n",
       "         16: 4,\n",
       "         45: 3,\n",
       "         37: 2,\n",
       "         41: 2,\n",
       "         206: 1,\n",
       "         30: 1,\n",
       "         63: 1,\n",
       "         52: 1,\n",
       "         33: 1,\n",
       "         31: 1,\n",
       "         18: 1})"
      ]
     },
     "execution_count": 63,
     "metadata": {},
     "output_type": "execute_result"
    }
   ],
   "source": [
    "# Debug, how come there are so many ones???\n",
    "# Doesn't look right!\n",
    "\n",
    "Counter(all_ans_subsets_count.values())"
   ]
  },
  {
   "cell_type": "code",
   "execution_count": null,
   "id": "chronic-shower",
   "metadata": {},
   "outputs": [],
   "source": [
    "# 2 - 3\n",
    "\n",
    "# If we concat four paris, how many unique subsets do we cover? \n",
    "# Length distribution?\n",
    "# How long are the vectors?\n",
    "# What does the matrix look like?"
   ]
  },
  {
   "cell_type": "code",
   "execution_count": 30,
   "id": "restricted-holly",
   "metadata": {},
   "outputs": [
    {
     "data": {
      "text/plain": [
       "531441"
      ]
     },
     "execution_count": 30,
     "metadata": {},
     "output_type": "execute_result"
    }
   ],
   "source": [
    "81**6"
   ]
  },
  {
   "cell_type": "code",
   "execution_count": 31,
   "id": "continuing-company",
   "metadata": {},
   "outputs": [
    {
     "data": {
      "text/plain": [
       "1663740"
      ]
     },
     "execution_count": 31,
     "metadata": {},
     "output_type": "execute_result"
    }
   ],
   "source": [
    "1663740"
   ]
  },
  {
   "cell_type": "code",
   "execution_count": null,
   "id": "dietary-clinic",
   "metadata": {},
   "outputs": [],
   "source": []
  }
 ],
 "metadata": {
  "kernelspec": {
   "display_name": "Python 3",
   "language": "python",
   "name": "python3"
  },
  "language_info": {
   "codemirror_mode": {
    "name": "ipython",
    "version": 3
   },
   "file_extension": ".py",
   "mimetype": "text/x-python",
   "name": "python",
   "nbconvert_exporter": "python",
   "pygments_lexer": "ipython3",
   "version": "3.8.3"
  }
 },
 "nbformat": 4,
 "nbformat_minor": 5
}

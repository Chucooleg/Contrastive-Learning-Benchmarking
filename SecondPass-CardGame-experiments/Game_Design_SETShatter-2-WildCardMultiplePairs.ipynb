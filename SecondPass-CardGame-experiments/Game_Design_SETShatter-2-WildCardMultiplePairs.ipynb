{
 "cells": [
  {
   "cell_type": "code",
   "execution_count": 62,
   "id": "adjacent-course",
   "metadata": {},
   "outputs": [],
   "source": [
    "# from dataraw_sampling_SETShatter import *\n",
    "import itertools\n",
    "import numpy as np\n",
    "from collections import defaultdict, Counter"
   ]
  },
  {
   "cell_type": "code",
   "execution_count": 33,
   "id": "adjacent-handbook",
   "metadata": {},
   "outputs": [],
   "source": [
    "def resolve_prop(prop1, prop2, all_vals_tuple, all_vals_set):\n",
    "    if prop1 == len(all_vals_tuple) or prop2 == len(all_vals_tuple): # '*' symbol\n",
    "        return all_vals_tuple\n",
    "    elif prop1 == prop2:\n",
    "        return (prop1,)\n",
    "    else:\n",
    "        return tuple(all_vals_set - set([prop1, prop2]))\n",
    "\n",
    "def resolve(card1_prop, card2_prop, all_vals_list, all_vals_set):\n",
    "    '''\n",
    "    card1_prop/card2_prop: [1, 0 ,*], [2,0,1]\n",
    "    return answer cards\n",
    "    '''\n",
    "    ind_ans = [resolve_prop(prop1, prop2, all_vals_list, all_vals_set) for prop1, prop2 in zip(card1_prop, card2_prop)]\n",
    "    return list(itertools.product(*ind_ans))\n",
    "    \n",
    "def draw_cardpair(num_attributes, num_attr_vals):\n",
    "    all_vals_tuple = tuple(range(num_attr_vals))\n",
    "    all_vals_set = set(all_vals_tuple)\n",
    "    \n",
    "    card1_prop = np.random.choice(a=num_attr_vals, size=num_attributes, replace=True)\n",
    "    card2_prop = np.random.choice(a=num_attr_vals+1, size=num_attributes, replace=True)\n",
    "    subset_list = resolve(card1_prop, card2_prop, all_vals_tuple, all_vals_set)\n",
    "    # list of tuples, each one card\n",
    "    return subset_list\n",
    "\n",
    "def draw_N_cardpairs(num_attributes, num_attr_vals, N):\n",
    "    all_subsets = []  # list of tuples, each one card\n",
    "    for i in range(N):\n",
    "        subset_list = draw_cardpair(num_attributes, num_attr_vals)\n",
    "        all_subsets += subset_list\n",
    "    return set(all_subsets), len(all_subsets)"
   ]
  },
  {
   "cell_type": "code",
   "execution_count": 38,
   "id": "regulation-sigma",
   "metadata": {},
   "outputs": [],
   "source": [
    "ans_subset, ans_subset_size = draw_N_cardpairs(num_attributes=4, num_attr_vals=3, N=2)"
   ]
  },
  {
   "cell_type": "code",
   "execution_count": 72,
   "id": "auburn-salad",
   "metadata": {},
   "outputs": [
    {
     "data": {
      "text/plain": [
       "1953.125"
      ]
     },
     "execution_count": 72,
     "metadata": {},
     "output_type": "execute_result"
    }
   ],
   "source": [
    "1000000/512"
   ]
  },
  {
   "cell_type": "code",
   "execution_count": 86,
   "id": "starting-religion",
   "metadata": {},
   "outputs": [
    {
     "name": "stdout",
     "output_type": "stream",
     "text": [
      "Number of card subsets generated = 29295\n"
     ]
    }
   ],
   "source": [
    "all_ans_subsets = set()\n",
    "all_ans_subsets_count = defaultdict(int)\n",
    "ans_subset_sizes = []\n",
    "\n",
    "for _ in range(100000):\n",
    "    # set, int\n",
    "    ans_subset, ans_subset_size = draw_N_cardpairs(num_attributes=4, num_attr_vals=3, N=2)\n",
    "    ans_subset = tuple(sorted(ans_subset))\n",
    "    all_ans_subsets.add(ans_subset)\n",
    "    all_ans_subsets_count[ans_subset] += 1\n",
    "    \n",
    "print('Number of card subsets generated =', len(all_ans_subsets))"
   ]
  },
  {
   "cell_type": "code",
   "execution_count": 87,
   "id": "living-client",
   "metadata": {},
   "outputs": [
    {
     "data": {
      "text/plain": [
       "Counter({2: 3089,\n",
       "         6: 5066,\n",
       "         18: 820,\n",
       "         10: 3711,\n",
       "         4: 8003,\n",
       "         12: 4305,\n",
       "         11: 933,\n",
       "         28: 615,\n",
       "         5: 465,\n",
       "         17: 229,\n",
       "         15: 310,\n",
       "         30: 616,\n",
       "         29: 313,\n",
       "         33: 313,\n",
       "         3: 108,\n",
       "         9: 54,\n",
       "         1: 64,\n",
       "         54: 12,\n",
       "         36: 204,\n",
       "         45: 52,\n",
       "         27: 12,\n",
       "         81: 1})"
      ]
     },
     "execution_count": 87,
     "metadata": {},
     "output_type": "execute_result"
    }
   ],
   "source": [
    "Counter([len(sub) for sub in all_ans_subsets])"
   ]
  },
  {
   "cell_type": "code",
   "execution_count": 68,
   "id": "seven-phoenix",
   "metadata": {},
   "outputs": [
    {
     "name": "stdout",
     "output_type": "stream",
     "text": [
      "Number of card subsets generated = 711713\n"
     ]
    }
   ],
   "source": [
    "all_ans_subsets = set()\n",
    "all_ans_subsets_count = defaultdict(int)\n",
    "ans_subset_sizes = []\n",
    "for _ in range(1000000):\n",
    "    # set, int\n",
    "    ans_subset, ans_subset_size = draw_N_cardpairs(num_attributes=4, num_attr_vals=3, N=3)\n",
    "    ans_subset = tuple(sorted(ans_subset))\n",
    "    all_ans_subsets.add(ans_subset)\n",
    "    all_ans_subsets_count[ans_subset] += 1\n",
    "    \n",
    "print('Number of card subsets generated =', len(all_ans_subsets))"
   ]
  },
  {
   "cell_type": "code",
   "execution_count": null,
   "id": "white-affairs",
   "metadata": {},
   "outputs": [],
   "source": [
    "# union\n",
    "# intersection\n",
    "# difference -\n",
    "# symmetric difference"
   ]
  },
  {
   "cell_type": "code",
   "execution_count": 69,
   "id": "dominican-palmer",
   "metadata": {},
   "outputs": [
    {
     "data": {
      "text/plain": [
       "18446744073709551616"
      ]
     },
     "execution_count": 69,
     "metadata": {},
     "output_type": "execute_result"
    }
   ],
   "source": [
    "2 ** 64"
   ]
  },
  {
   "cell_type": "code",
   "execution_count": 67,
   "id": "spectacular-necklace",
   "metadata": {},
   "outputs": [
    {
     "data": {
      "text/plain": [
       "14.908345706150365"
      ]
     },
     "execution_count": 67,
     "metadata": {},
     "output_type": "execute_result"
    }
   ],
   "source": [
    "# 4-3 N=2\n",
    "np.log2(30751)"
   ]
  },
  {
   "cell_type": "code",
   "execution_count": 70,
   "id": "wound-principal",
   "metadata": {},
   "outputs": [
    {
     "data": {
      "text/plain": [
       "19.440936062609453"
      ]
     },
     "execution_count": 70,
     "metadata": {},
     "output_type": "execute_result"
    }
   ],
   "source": [
    "# 4-3 N=3\n",
    "np.log2(711713)"
   ]
  },
  {
   "cell_type": "code",
   "execution_count": 64,
   "id": "mysterious-sheep",
   "metadata": {},
   "outputs": [
    {
     "data": {
      "text/plain": [
       "100000"
      ]
     },
     "execution_count": 64,
     "metadata": {},
     "output_type": "execute_result"
    }
   ],
   "source": [
    "sum(all_ans_subsets_count.values())"
   ]
  },
  {
   "cell_type": "code",
   "execution_count": 65,
   "id": "ordinary-democrat",
   "metadata": {},
   "outputs": [
    {
     "data": {
      "text/plain": [
       "0.00756"
      ]
     },
     "execution_count": 65,
     "metadata": {},
     "output_type": "execute_result"
    }
   ],
   "source": [
    "756 / 100000"
   ]
  },
  {
   "cell_type": "code",
   "execution_count": 63,
   "id": "logical-washington",
   "metadata": {
    "scrolled": true
   },
   "outputs": [
    {
     "data": {
      "text/plain": [
       "Counter({3: 6903,\n",
       "         6: 1596,\n",
       "         4: 5216,\n",
       "         5: 3146,\n",
       "         1: 4372,\n",
       "         9: 93,\n",
       "         2: 6775,\n",
       "         12: 10,\n",
       "         7: 703,\n",
       "         11: 28,\n",
       "         8: 322,\n",
       "         53: 3,\n",
       "         172: 1,\n",
       "         57: 2,\n",
       "         14: 10,\n",
       "         10: 33,\n",
       "         39: 2,\n",
       "         197: 1,\n",
       "         61: 1,\n",
       "         15: 10,\n",
       "         756: 1,\n",
       "         177: 1,\n",
       "         47: 4,\n",
       "         44: 2,\n",
       "         46: 3,\n",
       "         54: 2,\n",
       "         42: 4,\n",
       "         222: 1,\n",
       "         38: 1,\n",
       "         194: 1,\n",
       "         174: 2,\n",
       "         17: 1,\n",
       "         192: 2,\n",
       "         56: 3,\n",
       "         50: 3,\n",
       "         13: 12,\n",
       "         180: 1,\n",
       "         43: 3,\n",
       "         200: 1,\n",
       "         62: 1,\n",
       "         48: 1,\n",
       "         49: 3,\n",
       "         40: 2,\n",
       "         51: 2,\n",
       "         16: 4,\n",
       "         45: 3,\n",
       "         37: 2,\n",
       "         41: 2,\n",
       "         206: 1,\n",
       "         30: 1,\n",
       "         63: 1,\n",
       "         52: 1,\n",
       "         33: 1,\n",
       "         31: 1,\n",
       "         18: 1})"
      ]
     },
     "execution_count": 63,
     "metadata": {},
     "output_type": "execute_result"
    }
   ],
   "source": [
    "# Debug, how come there are so many ones???\n",
    "# Doesn't look right!\n",
    "\n",
    "Counter(all_ans_subsets_count.values())"
   ]
  },
  {
   "cell_type": "code",
   "execution_count": null,
   "id": "chronic-shower",
   "metadata": {},
   "outputs": [],
   "source": [
    "# 2 - 3\n",
    "\n",
    "# If we concat four paris, how many unique subsets do we cover? \n",
    "# Length distribution?\n",
    "# How long are the vectors?\n",
    "# What does the matrix look like?"
   ]
  },
  {
   "cell_type": "code",
   "execution_count": 30,
   "id": "restricted-holly",
   "metadata": {},
   "outputs": [
    {
     "data": {
      "text/plain": [
       "531441"
      ]
     },
     "execution_count": 30,
     "metadata": {},
     "output_type": "execute_result"
    }
   ],
   "source": [
    "81**6"
   ]
  },
  {
   "cell_type": "code",
   "execution_count": 31,
   "id": "continuing-company",
   "metadata": {},
   "outputs": [
    {
     "data": {
      "text/plain": [
       "1663740"
      ]
     },
     "execution_count": 31,
     "metadata": {},
     "output_type": "execute_result"
    }
   ],
   "source": [
    "1663740"
   ]
  },
  {
   "cell_type": "code",
   "execution_count": null,
   "id": "dietary-clinic",
   "metadata": {},
   "outputs": [],
   "source": []
  }
 ],
 "metadata": {
  "kernelspec": {
   "display_name": "Python 3",
   "language": "python",
   "name": "python3"
  },
  "language_info": {
   "codemirror_mode": {
    "name": "ipython",
    "version": 3
   },
   "file_extension": ".py",
   "mimetype": "text/x-python",
   "name": "python",
   "nbconvert_exporter": "python",
   "pygments_lexer": "ipython3",
   "version": "3.8.3"
  }
 },
 "nbformat": 4,
 "nbformat_minor": 5
}

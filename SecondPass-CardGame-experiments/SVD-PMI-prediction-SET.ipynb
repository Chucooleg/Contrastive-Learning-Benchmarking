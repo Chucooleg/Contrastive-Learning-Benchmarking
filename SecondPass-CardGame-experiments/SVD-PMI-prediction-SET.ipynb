{
 "cells": [
  {
   "cell_type": "code",
   "execution_count": 4,
   "id": "fifty-serve",
   "metadata": {},
   "outputs": [
    {
     "name": "stdout",
     "output_type": "stream",
     "text": [
      "The autoreload extension is already loaded. To reload it, use:\n",
      "  %reload_ext autoreload\n"
     ]
    }
   ],
   "source": [
    "%load_ext autoreload\n",
    "%autoreload 2\n",
    "\n",
    "import os\n",
    "import json\n",
    "import main\n",
    "import random\n",
    "import numpy as np\n",
    "import matplotlib.pyplot as plt\n",
    "from argparse import ArgumentDefaultsHelpFormatter, ArgumentParser\n",
    "from tqdm import tqdm\n",
    "from dataraw_sampling import decode_key_idx, encode_key_idx, decode_query_idx_to_card_properties, decode_key_idx"
   ]
  },
  {
   "cell_type": "code",
   "execution_count": null,
   "id": "offshore-contrary",
   "metadata": {},
   "outputs": [],
   "source": [
    "def find_eulcidean(v, Wv):\n",
    "    # (b, ), similarity = negative distance\n",
    "    return - np.sum((v.reshape(1, -1) - Wv)**2, axis=-1)**(1/2)\n",
    "\n",
    "def find_cos(v, Wv):\n",
    "    dot_products = np.dot(Wv, v) # shape v,1\n",
    "    l2norm_products = np.multiply(np.linalg.norm(Wv, axis=1),np.linalg.norm(v)) #shape v,1\n",
    "    cos_sim = np.divide(dot_products,l2norm_products)\n",
    "    return cos_sim\n",
    "\n",
    "def find_dotproduct(v, Wv):\n",
    "    # (b,)\n",
    "    print('hit')\n",
    "    return np.dot(Wv, v)\n",
    "\n",
    "def find_nn(v, Wv, similarity_fn, k=None):\n",
    "    \"\"\"Find nearest neighbors of a given word, by cosine similarity.\n",
    "    \n",
    "    Returns two parallel lists: indices of nearest neighbors, and \n",
    "    their cosine similarities. Both lists are in descending order, \n",
    "    and inclusive: so nns[0] should be the index of the input word, \n",
    "    nns[1] should be the index of the first nearest neighbor, and so on.\n",
    "    \n",
    "    You may find the following numpy functions useful:\n",
    "      np.linalg.norm : take the l2-norm of a vector or matrix\n",
    "      np.dot : dot product or matrix multiplication\n",
    "      np.argsort : get indices sorted by element value,\n",
    "        so np.argsort(numbers)[-5:] will return the top five elements\n",
    "    \n",
    "    Args:\n",
    "      v: (d-dimensional vector) word vector of interest\n",
    "      Wv: (V x d matrix) word embeddings\n",
    "      k: (int) number of neighbors to return\n",
    "    \n",
    "    Returns (nns, ds), where:\n",
    "      nns: (k-dimensional vector of int), row indices of nearest neighbors, \n",
    "        which may include the given word.\n",
    "      similarities: (k-dimensional vector of float), cosine similarity of each \n",
    "        neighbor in nns.\n",
    "    \"\"\"\n",
    "    if k is None:\n",
    "        k = Wv.shape[0]\n",
    "    sim = similarity_fn(v, Wv)\n",
    "    nns = np.argsort(sim)[-k:][::-1]\n",
    "    similarities = np.take(sim, nns)\n",
    "    return nns, similarities\n",
    "\n",
    "def analogy(vA, vB, vC, Wv, k, similarity_fn):\n",
    "    \"\"\"Compute a linear analogy in vector space, as described in the async.\n",
    "    Find the vector(s) that best answer \"A is to B as C is to ___\", returning \n",
    "    the top k candidates by cosine similarity.\n",
    "    \n",
    "    Args:\n",
    "      vA: (d-dimensional vector) vector for word A\n",
    "      vB: (d-dimensional vector) vector for word B\n",
    "      vC: (d-dimensional vector) vector for word C\n",
    "      Wv: (V x d matrix) word embeddings\n",
    "      k: (int) number of neighbors to return\n",
    "    Returns (nns, ds), where:\n",
    "      nns: (k-dimensional vector of int), row indices of the top candidate \n",
    "        words.\n",
    "      similarities: (k-dimensional vector of float), cosine similarity of each \n",
    "        of the top candidate words.\n",
    "    \"\"\"\n",
    "    A_to_B = vB - vA\n",
    "    vD = vC + A_to_B\n",
    "    return find_nn(vD, Wv, similarity_fn, k)\n",
    "    \n",
    "    \n",
    "def construct_filter(count_table, hparams, num_attr_shared_in_query, num_attr_hit_by_key=None):\n",
    "    '''compute filters'''\n",
    "    keep_queries = []\n",
    "    keep_querykeys = np.zeros(count_table.shape)\n",
    "    for i in range((hparams['query_support_size'])):\n",
    "        card1, card2 = queryidx_to_querypair(hparams['num_attributes'], hparams['num_attr_vals'], i)\n",
    "        if np.sum(card1 == card2) == num_attr_shared_in_query:\n",
    "            keep_queries.append(True)\n",
    "            for j in range(hparams['key_support_size']):\n",
    "                num_matches = check_q1q2k_match(hparams['num_attributes'], hparams['num_attr_vals'], card1, card2, j)\n",
    "                if num_matches == num_attr_hit_by_key:\n",
    "                    keep_querykeys[j,i] = 1.0\n",
    "        else:\n",
    "            keep_queries.append(False)\n",
    "\n",
    "    return keep_queries, keep_querykeys"
   ]
  },
  {
   "cell_type": "code",
   "execution_count": 5,
   "id": "reliable-heritage",
   "metadata": {},
   "outputs": [],
   "source": [
    "# arguments\n",
    "parser = ArgumentParser(formatter_class=ArgumentDefaultsHelpFormatter)\n",
    "args = parser.parse_args('')\n",
    "\n",
    "args.data_path = '../Raw_Datasets/SET/4Attr-3Vals-2NestDepth-2CardsPerQ-Full-6561Train-6561Val.json'\n",
    "args.config_path = 'config.json'\n",
    "args.mode = 'train'\n",
    "args.generate_full_matrix = True"
   ]
  },
  {
   "cell_type": "code",
   "execution_count": 6,
   "id": "bound-passing",
   "metadata": {
    "scrolled": true
   },
   "outputs": [
    {
     "name": "stdout",
     "output_type": "stream",
     "text": [
      "---------data----------\n",
      "num_attributes : 4\n",
      "num_attr_vals : 3\n",
      "num_cards_per_query : 2\n",
      "nest_depth_int : 2\n",
      "key_support_size : 81\n",
      "query_support_size : 6561\n",
      "hold_out : False\n",
      "train_datapoints length : 6561\n",
      "val_datapoints length : 6561\n",
      "train_tokens length : 6561\n",
      "val_tokens length : 6561\n",
      "sparsity_estimate : 0.012345679012345678\n",
      "vocab_size : 19\n",
      "( : 12\n",
      ") : 13\n",
      "NULL : 14\n",
      "SEP : 15\n",
      "SOS : 16\n",
      "EOS : 17\n",
      "PAD : 18\n",
      "-----------------------\n",
      "----------hparams----------\n",
      "seed : 42\n",
      "batch_size : 512\n",
      "max_epochs : 5000\n",
      "d_model : 48\n",
      "embed_dropout : 0.0\n",
      "model : contrastive\n",
      "embedding_by_property : False\n",
      "encoder : lookup\n",
      "decoder : lookup\n",
      "d_ff : 1024\n",
      "num_heads : 1\n",
      "N_enc : 2\n",
      "N_dec : 2\n",
      "attn_wt_tying_scheme : untie_QKVO_zero_O\n",
      "attn_wt_dropout : 0.0\n",
      "heads_dropout : 0.0\n",
      "pff_dropout : 0.0\n",
      "representation_pos : 0\n",
      "dotproduct_bottleneck : True\n",
      "normalize_dotproduct : True\n",
      "contrastive_use_infoNCE : True\n",
      "loss_temperature_const : 1.0\n",
      "loss_smoothing_const : 0.1\n",
      "nonlinear_classifier_scale_down_factor : [2, 1]\n",
      "adam_lr : 0.001\n",
      "adam_beta1 : 0.9\n",
      "adam_beta2 : 0.999\n",
      "adam_epsilon : 1e-08\n",
      "adam_weight_decay : 0\n",
      "sgd_lr : 0.001\n",
      "sgd_momentum : 0\n",
      "scheduled_adam_beta1 : 0.9\n",
      "scheduled_adam_beta2 : 0.98\n",
      "scheduled_adam_epsilon : 1e-09\n",
      "scheduled_adam_warmup_steps : 4000\n",
      "gradient_clip_val : 0\n",
      "debug : False\n",
      "key_support_size : 81\n",
      "query_support_size : 6561\n",
      "num_attributes : 4\n",
      "num_attr_vals : 3\n",
      "num_cards_per_query : 2\n",
      "nest_depth_int : 2\n",
      "vocab_size : 19\n",
      "( : 12\n",
      ") : 13\n",
      "NULL : 14\n",
      "SEP : 15\n",
      "SOS : 16\n",
      "EOS : 17\n",
      "PAD : 18\n",
      "hold_out : False\n",
      "populate_logits_matrix : True\n",
      "len_q : 1\n",
      "len_k : 1\n",
      "---------------------------\n"
     ]
    }
   ],
   "source": [
    "game_data = main.load_data(args.data_path)\n",
    "main.validate_data(game_data)\n",
    "hparams = main.load_hparams(args, game_data)"
   ]
  },
  {
   "cell_type": "code",
   "execution_count": 7,
   "id": "outside-ontario",
   "metadata": {
    "scrolled": true
   },
   "outputs": [
    {
     "name": "stdout",
     "output_type": "stream",
     "text": [
      "Generating Full Matrix\n",
      "{'num_keys': 81, 'num_queries': 6561, 'tot_size': 531441, 'shape': (81, 6561), 'size': 531441, 'sparsity': 0.012345679012345678, 'xy_rank': 81, 'xy_div_xyind_rank': 81}\n"
     ]
    }
   ],
   "source": [
    "gt = main.gen_full_matrix(hparams)\n",
    "xy = gt['xy']\n",
    "xy_div_xyind = gt['xy_div_xyind']\n",
    "count_table = gt['count_table']"
   ]
  },
  {
   "cell_type": "code",
   "execution_count": 8,
   "id": "superb-shore",
   "metadata": {},
   "outputs": [
    {
     "data": {
      "text/plain": [
       "81"
      ]
     },
     "execution_count": 8,
     "metadata": {},
     "output_type": "execute_result"
    }
   ],
   "source": [
    "np.linalg.matrix_rank(xy)"
   ]
  },
  {
   "cell_type": "code",
   "execution_count": 10,
   "id": "hourly-entity",
   "metadata": {},
   "outputs": [
    {
     "data": {
      "text/plain": [
       "<matplotlib.image.AxesImage at 0x7fe59d2efb80>"
      ]
     },
     "execution_count": 10,
     "metadata": {},
     "output_type": "execute_result"
    },
    {
     "data": {
      "image/png": "[encoded data removed]",
      "text/plain": [
       "<Figure size 1440x3600 with 1 Axes>"
      ]
     },
     "metadata": {
      "needs_background": "light"
     },
     "output_type": "display_data"
    }
   ],
   "source": [
    "plt.figure(figsize=(20, 50))\n",
    "plt.imshow(xy_div_xyind[:, :300])"
   ]
  },
  {
   "cell_type": "code",
   "execution_count": 11,
   "id": "individual-silver",
   "metadata": {},
   "outputs": [
    {
     "data": {
      "text/plain": [
       "<matplotlib.image.AxesImage at 0x7fe59d259820>"
      ]
     },
     "execution_count": 11,
     "metadata": {},
     "output_type": "execute_result"
    },
    {
     "data": {
      "image/png": "[encoded data removed]",
      "text/plain": [
       "<Figure size 1440x3600 with 1 Axes>"
      ]
     },
     "metadata": {
      "needs_background": "light"
     },
     "output_type": "display_data"
    }
   ],
   "source": [
    "plt.figure(figsize=(20, 50))\n",
    "plt.imshow(xy_div_xyind[:, :300])"
   ]
  },
  {
   "cell_type": "code",
   "execution_count": 12,
   "id": "entire-context",
   "metadata": {},
   "outputs": [
    {
     "data": {
      "text/plain": [
       "[<matplotlib.lines.Line2D at 0x7fe59d1bd0d0>]"
      ]
     },
     "execution_count": 12,
     "metadata": {},
     "output_type": "execute_result"
    },
    {
     "data": {
      "image/png": "[encoded data removed]",
      "text/plain": [
       "<Figure size 432x288 with 1 Axes>"
      ]
     },
     "metadata": {
      "needs_background": "light"
     },
     "output_type": "display_data"
    }
   ],
   "source": [
    "u,s,vh = np.linalg.svd(xy, full_matrices=False)\n",
    "plt.plot(s)"
   ]
  },
  {
   "cell_type": "code",
   "execution_count": 13,
   "id": "imposed-denial",
   "metadata": {},
   "outputs": [
    {
     "data": {
      "text/plain": [
       "array([0.00137174, 0.00137174, 0.00137174, 0.00137174, 0.00137174,\n",
       "       0.00137174, 0.00137174, 0.00137174, 0.00137174, 0.00137174,\n",
       "       0.00137174, 0.00137174, 0.00137174, 0.00137174, 0.00137174,\n",
       "       0.00137174, 0.00137174, 0.00137174, 0.00137174, 0.00137174,\n",
       "       0.00137174, 0.00137174, 0.00137174, 0.00137174, 0.00137174,\n",
       "       0.00137174, 0.00137174, 0.00137174, 0.00137174, 0.00137174,\n",
       "       0.00137174, 0.00137174, 0.00137174, 0.00137174, 0.00137174,\n",
       "       0.00137174, 0.00137174, 0.00137174, 0.00137174, 0.00137174,\n",
       "       0.00137174, 0.00137174, 0.00137174, 0.00137174, 0.00137174,\n",
       "       0.00137174, 0.00137174, 0.00137174, 0.00137174, 0.00137174,\n",
       "       0.00137174, 0.00137174, 0.00137174, 0.00137174, 0.00137174,\n",
       "       0.00137174, 0.00137174, 0.00137174, 0.00137174, 0.00137174,\n",
       "       0.00137174, 0.00137174, 0.00137174, 0.00137174, 0.00137174,\n",
       "       0.00137174, 0.00137174, 0.00137174, 0.00137174, 0.00137174,\n",
       "       0.00137174, 0.00137174, 0.00137174, 0.00137174, 0.00137174,\n",
       "       0.00137174, 0.00137174, 0.00137174, 0.00137174, 0.00137174,\n",
       "       0.00137174])"
      ]
     },
     "execution_count": 13,
     "metadata": {},
     "output_type": "execute_result"
    }
   ],
   "source": [
    "s"
   ]
  },
  {
   "cell_type": "code",
   "execution_count": 17,
   "id": "fitted-serve",
   "metadata": {},
   "outputs": [
    {
     "name": "stdout",
     "output_type": "stream",
     "text": [
      "u_repr.shape (81, 81)\n",
      "vh_repr.shape (81, 6561)\n",
      "errors: 0\n",
      "successes: 531441\n"
     ]
    }
   ],
   "source": [
    "d_model = 81\n",
    "u_repr = np.matmul(u[:, :d_model], np.diag(s[:d_model]))\n",
    "# key_repr = np.matmul(u[:d_model, :].T, np.diag(s[:d_model]))\n",
    "vh_repr = vh[:d_model, :]\n",
    "print('u_repr.shape', u_repr.shape)\n",
    "print('vh_repr.shape', vh_repr.shape)\n",
    "\n",
    "reconstruct = (np.matmul(u_repr, vh_repr))\n",
    "reconstruct_normalized = reconstruct / (np.sum(reconstruct, axis=0).reshape(1, -1))\n",
    "count_table_normalized = count_table / np.sum(count_table, axis=0).reshape(1, -1)\n",
    "threshold = 1 / count_table.shape[1]\n",
    "predictions = (reconstruct_normalized > threshold).astype(int)\n",
    "print('errors:', np.sum(predictions != count_table))\n",
    "print('successes:', np.sum(predictions == count_table))\n",
    "\n",
    "key_repr = u_repr\n",
    "query_repr = vh_repr\n"
   ]
  },
  {
   "cell_type": "code",
   "execution_count": 18,
   "id": "fitting-novel",
   "metadata": {},
   "outputs": [
    {
     "name": "stdout",
     "output_type": "stream",
     "text": [
      "u_repr.shape (81, 65)\n",
      "vh_repr.shape (65, 6561)\n",
      "errors: 1296\n",
      "successes: 530145\n"
     ]
    },
    {
     "name": "stderr",
     "output_type": "stream",
     "text": [
      "<ipython-input-18-5ba7ae0ba6fd>:9: RuntimeWarning: invalid value encountered in true_divide\n",
      "  reconstruct_normalized = reconstruct / (np.sum(reconstruct, axis=0).reshape(1, -1))\n"
     ]
    }
   ],
   "source": [
    "d_model = 65\n",
    "u_repr = np.matmul(u[:, :d_model], np.diag(s[:d_model]))\n",
    "# key_repr = np.matmul(u[:d_model, :].T, np.diag(s[:d_model]))\n",
    "vh_repr = vh[:d_model, :]\n",
    "print('u_repr.shape', u_repr.shape)\n",
    "print('vh_repr.shape', vh_repr.shape)\n",
    "\n",
    "reconstruct = (np.matmul(u_repr, vh_repr))\n",
    "reconstruct_normalized = reconstruct / (np.sum(reconstruct, axis=0).reshape(1, -1))\n",
    "count_table_normalized = count_table / np.sum(count_table, axis=0).reshape(1, -1)\n",
    "threshold = 1 / count_table.shape[1]\n",
    "predictions = (reconstruct_normalized > threshold).astype(int)\n",
    "print('errors:', np.sum(predictions != count_table))\n",
    "print('successes:', np.sum(predictions == count_table))\n",
    "\n",
    "key_repr = u_repr\n",
    "query_repr = vh_repr"
   ]
  },
  {
   "cell_type": "code",
   "execution_count": 14,
   "id": "terminal-framing",
   "metadata": {},
   "outputs": [
    {
     "name": "stdout",
     "output_type": "stream",
     "text": [
      "u_repr.shape (81, 37)\n",
      "vh_repr.shape (37, 6561)\n",
      "errors: 3564\n",
      "successes: 527877\n"
     ]
    },
    {
     "name": "stderr",
     "output_type": "stream",
     "text": [
      "<ipython-input-14-027953fc6ef1>:9: RuntimeWarning: invalid value encountered in true_divide\n",
      "  reconstruct_normalized = reconstruct / (np.sum(reconstruct, axis=0).reshape(1, -1))\n"
     ]
    }
   ],
   "source": [
    "d_model = 37\n",
    "u_repr = np.matmul(u[:, :d_model], np.diag(s[:d_model]))\n",
    "# key_repr = np.matmul(u[:d_model, :].T, np.diag(s[:d_model]))\n",
    "vh_repr = vh[:d_model, :]\n",
    "print('u_repr.shape', u_repr.shape)\n",
    "print('vh_repr.shape', vh_repr.shape)\n",
    "\n",
    "reconstruct = (np.matmul(u_repr, vh_repr))\n",
    "reconstruct_normalized = reconstruct / (np.sum(reconstruct, axis=0).reshape(1, -1))\n",
    "count_table_normalized = count_table / np.sum(count_table, axis=0).reshape(1, -1)\n",
    "threshold = 1 / count_table.shape[1]\n",
    "predictions = (reconstruct_normalized > threshold).astype(int)\n",
    "print('errors:', np.sum(predictions != count_table))\n",
    "print('successes:', np.sum(predictions == count_table))\n",
    "\n",
    "key_repr = u_repr\n",
    "query_repr = vh_repr"
   ]
  },
  {
   "cell_type": "code",
   "execution_count": 16,
   "id": "wrapped-employee",
   "metadata": {},
   "outputs": [
    {
     "name": "stdout",
     "output_type": "stream",
     "text": [
      "u_repr.shape (81, 1)\n",
      "vh_repr.shape (1, 6561)\n",
      "errors: 6480\n",
      "successes: 524961\n"
     ]
    },
    {
     "name": "stderr",
     "output_type": "stream",
     "text": [
      "<ipython-input-16-15e16d46f288>:9: RuntimeWarning: invalid value encountered in true_divide\n",
      "  reconstruct_normalized = reconstruct / (np.sum(reconstruct, axis=0).reshape(1, -1))\n"
     ]
    }
   ],
   "source": [
    "d_model = 1\n",
    "u_repr = np.matmul(u[:, :d_model], np.diag(s[:d_model]))\n",
    "# key_repr = np.matmul(u[:d_model, :].T, np.diag(s[:d_model]))\n",
    "vh_repr = vh[:d_model, :]\n",
    "print('u_repr.shape', u_repr.shape)\n",
    "print('vh_repr.shape', vh_repr.shape)\n",
    "\n",
    "reconstruct = (np.matmul(u_repr, vh_repr))\n",
    "reconstruct_normalized = reconstruct / (np.sum(reconstruct, axis=0).reshape(1, -1))\n",
    "count_table_normalized = count_table / np.sum(count_table, axis=0).reshape(1, -1)\n",
    "threshold = 1 / count_table.shape[1]\n",
    "predictions = (reconstruct_normalized > threshold).astype(int)\n",
    "print('errors:', np.sum(predictions != count_table))\n",
    "print('successes:', np.sum(predictions == count_table))\n",
    "\n",
    "key_repr = u_repr\n",
    "query_repr = vh_repr"
   ]
  },
  {
   "cell_type": "code",
   "execution_count": null,
   "id": "continental-trunk",
   "metadata": {},
   "outputs": [],
   "source": []
  }
 ],
 "metadata": {
  "kernelspec": {
   "display_name": "Python 3",
   "language": "python",
   "name": "python3"
  },
  "language_info": {
   "codemirror_mode": {
    "name": "ipython",
    "version": 3
   },
   "file_extension": ".py",
   "mimetype": "text/x-python",
   "name": "python",
   "nbconvert_exporter": "python",
   "pygments_lexer": "ipython3",
   "version": "3.8.3"
  }
 },
 "nbformat": 4,
 "nbformat_minor": 5
}

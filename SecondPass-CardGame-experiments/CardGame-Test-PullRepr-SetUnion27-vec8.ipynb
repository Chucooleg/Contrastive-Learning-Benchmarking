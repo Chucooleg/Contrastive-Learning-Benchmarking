{
 "cells": [
  {
   "cell_type": "code",
   "execution_count": 1,
   "id": "general-tribe",
   "metadata": {
    "scrolled": false
   },
   "outputs": [
    {
     "name": "stdout",
     "output_type": "stream",
     "text": [
      "__Python VERSION: 3.8.3 (default, May 19 2020, 18:47:26) \n",
      "[GCC 7.3.0]\n",
      "__pyTorch VERSION: 1.7.0\n",
      "__CUDA VERSION\n",
      "/usr/bin/sh: 1: nvcc: not found\n",
      "__CUDNN VERSION: 8003\n",
      "__Number CUDA Devices: 2\n",
      "__Devices\n",
      "Active CUDA Device: GPU 0\n",
      "Available devices  2\n",
      "Current cuda device  0\n"
     ]
    }
   ],
   "source": [
    "# https://discuss.pytorch.org/t/i-have-3-gpu-why-torch-cuda-device-count-only-return-1/7245/4\n",
    "import torch\n",
    "import sys\n",
    "print('__Python VERSION:', sys.version)\n",
    "print('__pyTorch VERSION:', torch.__version__)\n",
    "print('__CUDA VERSION')\n",
    "from subprocess import call\n",
    "# call([\"nvcc\", \"--version\"]) does not work\n",
    "! nvcc --version\n",
    "print('__CUDNN VERSION:', torch.backends.cudnn.version())\n",
    "print('__Number CUDA Devices:', torch.cuda.device_count())\n",
    "print('__Devices')\n",
    "call([\"nvidia-smi\", \"--format=csv\", \"--query-gpu=index,name,driver_version,memory.total,memory.used,memory.free\"])\n",
    "print('Active CUDA Device: GPU', torch.cuda.current_device())\n",
    "\n",
    "print ('Available devices ', torch.cuda.device_count())\n",
    "print ('Current cuda device ', torch.cuda.current_device())"
   ]
  },
  {
   "cell_type": "code",
   "execution_count": 2,
   "id": "solar-suggestion",
   "metadata": {},
   "outputs": [],
   "source": [
    "%load_ext autoreload\n",
    "%autoreload 2\n",
    "\n",
    "import os\n",
    "import json\n",
    "import main\n",
    "from tqdm import tqdm\n",
    "import numpy as np\n",
    "from argparse import ArgumentDefaultsHelpFormatter, ArgumentParser\n",
    "import matplotlib.pyplot as plt"
   ]
  },
  {
   "cell_type": "code",
   "execution_count": 3,
   "id": "handmade-joining",
   "metadata": {},
   "outputs": [],
   "source": [
    "# arguments\n",
    "parser = ArgumentParser(formatter_class=ArgumentDefaultsHelpFormatter)\n",
    "args = parser.parse_args('')\n",
    "\n",
    "args.project_name = 'ContrastiveLearning-SET-Wildcard-Expand-Union-27'\n",
    "args.data_path = '../Raw_Datasets/SET/WildCardSETidxUnion-3Attr-3Vals-8Pairs-0Train-5120Val-5120Test.json'\n",
    "args.mode = 'test'\n",
    "args.resume_checkpoint_dir = (\n",
    "    'checkpoints/ContrastiveLearning-SET-Wildcard-Expand-Union-27/20210331-140237-Con;Vec8;L8H8Lk4Hk2;scheduledAdamW36000;16873.72Kparams_runId_31x9nw8j')\n",
    "args.ckpt_name = 'last.ckpt'\n",
    "args.runID = '31x9nw8j'\n",
    "args.gpu = 1\n",
    "args.approve_before_training = False\n",
    "args.aml = False\n",
    "args.dataset_name = None"
   ]
  },
  {
   "cell_type": "code",
   "execution_count": 4,
   "id": "particular-remedy",
   "metadata": {
    "scrolled": true
   },
   "outputs": [
    {
     "name": "stderr",
     "output_type": "stream",
     "text": [
      "Global seed set to 42\n",
      "GPU available: True, used: True\n",
      "TPU available: None, using: 0 TPU cores\n",
      "LOCAL_RANK: 0 - CUDA_VISIBLE_DEVICES: [0,1]\n"
     ]
    },
    {
     "name": "stdout",
     "output_type": "stream",
     "text": [
      "---------data----------\n",
      "num_attributes : 3\n",
      "num_attr_vals : 3\n",
      "key_support_size : 27\n",
      "N_pairs : 8\n",
      "union_only : True\n",
      "max_len_q : 16\n",
      "len_k : 1\n",
      "train_gt_idxs length : 0\n",
      "val_gt_idxs length : 5120\n",
      "test_gt_idxs length : 5120\n",
      "train_tokens length : 0\n",
      "val_tokens length : 5120\n",
      "test_tokens length : 5120\n",
      "test_marginal_gt_idxs length : 5120\n",
      "test_marginal_tokens length : 5120\n",
      "vocab_size : 74\n",
      "symbol_vocab_token_lookup : {'(': 64, ')': 65, 'NULL': 66, 'SEP': 67, 'SOS': 68, 'EOS': 69, 'PAD': 70, 'PLH': 71, '|': 72, '!': 73}\n",
      "vocab_by_property : False\n",
      "-----------------------\n",
      "----------hparams----------\n",
      "seed : 42\n",
      "batch_size : 1024\n",
      "max_epochs : 20000000000\n",
      "val_every_n_epoch : 200\n",
      "d_model : 512\n",
      "embed_dropout : 0.0\n",
      "vec_repr : 8\n",
      "model : contrastive\n",
      "d_ff : 1024\n",
      "N_enc : 8\n",
      "num_heads : 8\n",
      "N_enc_key : 4\n",
      "num_heads_key : 2\n",
      "attn_wt_tying_scheme : untie_QKVO\n",
      "attn_wt_dropout : 0.0\n",
      "heads_dropout : 0.0\n",
      "pff_dropout : 0.0\n",
      "representation_pos : 0\n",
      "dotproduct_bottleneck : True\n",
      "normalize_dotproduct : False\n",
      "contrastive_use_infoNCE : True\n",
      "loss_temperature_const : 1.0\n",
      "loss_smoothing_const : 0.1\n",
      "nonlinear_classifier_scale_down_factor : [1, 1, 1]\n",
      "contrastive_optimizer : scheduled_adam\n",
      "cosine_annealing_T_max : 30\n",
      "adam_lr : 1e-05\n",
      "adam_beta1 : 0.9\n",
      "adam_beta2 : 0.999\n",
      "adam_epsilon : 1e-08\n",
      "adam_weight_decay : 0\n",
      "sgd_lr : 0.001\n",
      "sgd_momentum : 0\n",
      "scheduled_adam_beta1 : 0.9\n",
      "scheduled_adam_beta2 : 0.98\n",
      "scheduled_adam_epsilon : 1e-06\n",
      "scheduled_adam_warmup_steps : 36000\n",
      "additional_lr_decay : True\n",
      "additional_lr_decay_gamma : 0.9\n",
      "decay_lr_starts : 36000\n",
      "decay_lr_stops : 80000\n",
      "decay_lr_interval : 2000\n",
      "generative_overall_lr_scale : 1.0\n",
      "contrastive_overall_lr_scale : 1.0\n",
      "gradient_clip_val : 0.0\n",
      "debug : False\n",
      "extra_monitors : False\n",
      "mode : test\n",
      "key_support_size : 27\n",
      "num_attributes : 3\n",
      "num_attr_vals : 3\n",
      "union_only : True\n",
      "vocab_size : 74\n",
      "vocab_by_property : False\n",
      "( : 64\n",
      ") : 65\n",
      "NULL : 66\n",
      "SEP : 67\n",
      "SOS : 68\n",
      "EOS : 69\n",
      "PAD : 70\n",
      "PLH : 71\n",
      "| : 72\n",
      "! : 73\n",
      "max_len_q : 16\n",
      "N_pairs : 8\n",
      "len_k : 1\n",
      "resume_checkpoint_dir : checkpoints/ContrastiveLearning-SET-Wildcard-Expand-Union-27/20210331-140237-Con;Vec8;L8H8Lk4Hk2;scheduledAdamW36000;16873.72Kparams_runId_31x9nw8j\n",
      "---------------------------\n",
      "    | Name                                                              | Type                    | Params\n",
      "----------------------------------------------------------------------------------------------------------------\n",
      "0   | metrics                                                           | ThresholdedMetrics      | 0     \n",
      "1   | KLdiv_criterion                                                   | KLdivLoss               | 0     \n",
      "2   | KLdiv_criterion.KLdiv_criterion                                   | KLDivLoss               | 0     \n",
      "3   | KLdiv_criterion.KLdiv_criterion_full                              | KLDivLoss               | 0     \n",
      "4   | KLdiv_criterion.logprob                                           | LogSoftmax              | 0     \n",
      "5   | model                                                             | EncoderPredictor        | 16.9 M\n",
      "6   | model.inp_query_layer                                             | Sequential              | 47.1 K\n",
      "7   | model.inp_query_layer.scaled_embed                                | ScaledEmbedding         | 37.9 K\n",
      "8   | model.inp_query_layer.scaled_embed.embedding                      | Embedding               | 37.9 K\n",
      "9   | model.inp_query_layer.position_encoder                            | LearnedPositionEncoder  | 9.2 K \n",
      "10  | model.inp_query_layer.embed_dropout                               | Dropout                 | 0     \n",
      "11  | model.inp_key_layer                                               | Sequential              | 216   \n",
      "12  | model.inp_key_layer.scaled_embed                                  | ScaledEmbedding         | 216   \n",
      "13  | model.inp_key_layer.scaled_embed.embedding                        | Embedding               | 216   \n",
      "14  | model.query_encoder                                               | Encoder                 | 16.8 M\n",
      "15  | model.query_encoder.encoder_layers                                | ModuleList              | 16.8 M\n",
      "16  | model.query_encoder.encoder_layers.0                              | EncoderLayer            | 2.1 M \n",
      "17  | model.query_encoder.encoder_layers.0.poswise_ff                   | Positiontwise_FF        | 1.1 M \n",
      "18  | model.query_encoder.encoder_layers.0.poswise_ff.linear1           | Linear                  | 525 K \n",
      "19  | model.query_encoder.encoder_layers.0.poswise_ff.linear2           | Linear                  | 524 K \n",
      "20  | model.query_encoder.encoder_layers.0.self_attn                    | MultiHeadAttention      | 1.1 M \n",
      "21  | model.query_encoder.encoder_layers.0.self_attn.attn_wt_dropout    | Dropout                 | 0     \n",
      "22  | model.query_encoder.encoder_layers.0.self_attn.projections_QKVO   | ModuleList              | 1.1 M \n",
      "23  | model.query_encoder.encoder_layers.0.self_attn.projections_QKVO.0 | Linear                  | 262 K \n",
      "24  | model.query_encoder.encoder_layers.0.self_attn.projections_QKVO.1 | Linear                  | 262 K \n",
      "25  | model.query_encoder.encoder_layers.0.self_attn.projections_QKVO.2 | Linear                  | 262 K \n",
      "26  | model.query_encoder.encoder_layers.0.self_attn.projections_QKVO.3 | Linear                  | 262 K \n",
      "27  | model.query_encoder.encoder_layers.0.layer_norms                  | ModuleList              | 2.0 K \n",
      "28  | model.query_encoder.encoder_layers.0.layer_norms.0                | LayerNorm               | 1.0 K \n",
      "29  | model.query_encoder.encoder_layers.0.layer_norms.1                | LayerNorm               | 1.0 K \n",
      "30  | model.query_encoder.encoder_layers.0.heads_dropout                | Dropout                 | 0     \n",
      "31  | model.query_encoder.encoder_layers.0.pff_dropout                  | Dropout                 | 0     \n",
      "32  | model.query_encoder.encoder_layers.1                              | EncoderLayer            | 2.1 M \n",
      "33  | model.query_encoder.encoder_layers.1.poswise_ff                   | Positiontwise_FF        | 1.1 M \n",
      "34  | model.query_encoder.encoder_layers.1.poswise_ff.linear1           | Linear                  | 525 K \n",
      "35  | model.query_encoder.encoder_layers.1.poswise_ff.linear2           | Linear                  | 524 K \n",
      "36  | model.query_encoder.encoder_layers.1.self_attn                    | MultiHeadAttention      | 1.1 M \n",
      "37  | model.query_encoder.encoder_layers.1.self_attn.attn_wt_dropout    | Dropout                 | 0     \n",
      "38  | model.query_encoder.encoder_layers.1.self_attn.projections_QKVO   | ModuleList              | 1.1 M \n",
      "39  | model.query_encoder.encoder_layers.1.self_attn.projections_QKVO.0 | Linear                  | 262 K \n",
      "40  | model.query_encoder.encoder_layers.1.self_attn.projections_QKVO.1 | Linear                  | 262 K \n",
      "41  | model.query_encoder.encoder_layers.1.self_attn.projections_QKVO.2 | Linear                  | 262 K \n",
      "42  | model.query_encoder.encoder_layers.1.self_attn.projections_QKVO.3 | Linear                  | 262 K \n",
      "43  | model.query_encoder.encoder_layers.1.layer_norms                  | ModuleList              | 2.0 K \n",
      "44  | model.query_encoder.encoder_layers.1.layer_norms.0                | LayerNorm               | 1.0 K \n",
      "45  | model.query_encoder.encoder_layers.1.layer_norms.1                | LayerNorm               | 1.0 K \n",
      "46  | model.query_encoder.encoder_layers.1.heads_dropout                | Dropout                 | 0     \n",
      "47  | model.query_encoder.encoder_layers.1.pff_dropout                  | Dropout                 | 0     \n",
      "48  | model.query_encoder.encoder_layers.2                              | EncoderLayer            | 2.1 M \n",
      "49  | model.query_encoder.encoder_layers.2.poswise_ff                   | Positiontwise_FF        | 1.1 M \n",
      "50  | model.query_encoder.encoder_layers.2.poswise_ff.linear1           | Linear                  | 525 K \n",
      "51  | model.query_encoder.encoder_layers.2.poswise_ff.linear2           | Linear                  | 524 K \n",
      "52  | model.query_encoder.encoder_layers.2.self_attn                    | MultiHeadAttention      | 1.1 M \n",
      "53  | model.query_encoder.encoder_layers.2.self_attn.attn_wt_dropout    | Dropout                 | 0     \n",
      "54  | model.query_encoder.encoder_layers.2.self_attn.projections_QKVO   | ModuleList              | 1.1 M \n",
      "55  | model.query_encoder.encoder_layers.2.self_attn.projections_QKVO.0 | Linear                  | 262 K \n",
      "56  | model.query_encoder.encoder_layers.2.self_attn.projections_QKVO.1 | Linear                  | 262 K \n",
      "57  | model.query_encoder.encoder_layers.2.self_attn.projections_QKVO.2 | Linear                  | 262 K \n",
      "58  | model.query_encoder.encoder_layers.2.self_attn.projections_QKVO.3 | Linear                  | 262 K \n",
      "59  | model.query_encoder.encoder_layers.2.layer_norms                  | ModuleList              | 2.0 K \n",
      "60  | model.query_encoder.encoder_layers.2.layer_norms.0                | LayerNorm               | 1.0 K \n",
      "61  | model.query_encoder.encoder_layers.2.layer_norms.1                | LayerNorm               | 1.0 K \n",
      "62  | model.query_encoder.encoder_layers.2.heads_dropout                | Dropout                 | 0     \n",
      "63  | model.query_encoder.encoder_layers.2.pff_dropout                  | Dropout                 | 0     \n",
      "64  | model.query_encoder.encoder_layers.3                              | EncoderLayer            | 2.1 M \n",
      "65  | model.query_encoder.encoder_layers.3.poswise_ff                   | Positiontwise_FF        | 1.1 M \n",
      "66  | model.query_encoder.encoder_layers.3.poswise_ff.linear1           | Linear                  | 525 K \n",
      "67  | model.query_encoder.encoder_layers.3.poswise_ff.linear2           | Linear                  | 524 K \n",
      "68  | model.query_encoder.encoder_layers.3.self_attn                    | MultiHeadAttention      | 1.1 M \n",
      "69  | model.query_encoder.encoder_layers.3.self_attn.attn_wt_dropout    | Dropout                 | 0     \n",
      "70  | model.query_encoder.encoder_layers.3.self_attn.projections_QKVO   | ModuleList              | 1.1 M \n",
      "71  | model.query_encoder.encoder_layers.3.self_attn.projections_QKVO.0 | Linear                  | 262 K \n",
      "72  | model.query_encoder.encoder_layers.3.self_attn.projections_QKVO.1 | Linear                  | 262 K \n",
      "73  | model.query_encoder.encoder_layers.3.self_attn.projections_QKVO.2 | Linear                  | 262 K \n",
      "74  | model.query_encoder.encoder_layers.3.self_attn.projections_QKVO.3 | Linear                  | 262 K \n",
      "75  | model.query_encoder.encoder_layers.3.layer_norms                  | ModuleList              | 2.0 K \n",
      "76  | model.query_encoder.encoder_layers.3.layer_norms.0                | LayerNorm               | 1.0 K \n",
      "77  | model.query_encoder.encoder_layers.3.layer_norms.1                | LayerNorm               | 1.0 K \n",
      "78  | model.query_encoder.encoder_layers.3.heads_dropout                | Dropout                 | 0     \n",
      "79  | model.query_encoder.encoder_layers.3.pff_dropout                  | Dropout                 | 0     \n",
      "80  | model.query_encoder.encoder_layers.4                              | EncoderLayer            | 2.1 M \n",
      "81  | model.query_encoder.encoder_layers.4.poswise_ff                   | Positiontwise_FF        | 1.1 M \n",
      "82  | model.query_encoder.encoder_layers.4.poswise_ff.linear1           | Linear                  | 525 K \n",
      "83  | model.query_encoder.encoder_layers.4.poswise_ff.linear2           | Linear                  | 524 K \n",
      "84  | model.query_encoder.encoder_layers.4.self_attn                    | MultiHeadAttention      | 1.1 M \n",
      "85  | model.query_encoder.encoder_layers.4.self_attn.attn_wt_dropout    | Dropout                 | 0     \n",
      "86  | model.query_encoder.encoder_layers.4.self_attn.projections_QKVO   | ModuleList              | 1.1 M \n",
      "87  | model.query_encoder.encoder_layers.4.self_attn.projections_QKVO.0 | Linear                  | 262 K \n",
      "88  | model.query_encoder.encoder_layers.4.self_attn.projections_QKVO.1 | Linear                  | 262 K \n",
      "89  | model.query_encoder.encoder_layers.4.self_attn.projections_QKVO.2 | Linear                  | 262 K \n",
      "90  | model.query_encoder.encoder_layers.4.self_attn.projections_QKVO.3 | Linear                  | 262 K \n",
      "91  | model.query_encoder.encoder_layers.4.layer_norms                  | ModuleList              | 2.0 K \n",
      "92  | model.query_encoder.encoder_layers.4.layer_norms.0                | LayerNorm               | 1.0 K \n",
      "93  | model.query_encoder.encoder_layers.4.layer_norms.1                | LayerNorm               | 1.0 K \n",
      "94  | model.query_encoder.encoder_layers.4.heads_dropout                | Dropout                 | 0     \n",
      "95  | model.query_encoder.encoder_layers.4.pff_dropout                  | Dropout                 | 0     \n",
      "96  | model.query_encoder.encoder_layers.5                              | EncoderLayer            | 2.1 M \n",
      "97  | model.query_encoder.encoder_layers.5.poswise_ff                   | Positiontwise_FF        | 1.1 M \n",
      "98  | model.query_encoder.encoder_layers.5.poswise_ff.linear1           | Linear                  | 525 K \n",
      "99  | model.query_encoder.encoder_layers.5.poswise_ff.linear2           | Linear                  | 524 K \n",
      "100 | model.query_encoder.encoder_layers.5.self_attn                    | MultiHeadAttention      | 1.1 M \n",
      "101 | model.query_encoder.encoder_layers.5.self_attn.attn_wt_dropout    | Dropout                 | 0     \n",
      "102 | model.query_encoder.encoder_layers.5.self_attn.projections_QKVO   | ModuleList              | 1.1 M \n",
      "103 | model.query_encoder.encoder_layers.5.self_attn.projections_QKVO.0 | Linear                  | 262 K \n",
      "104 | model.query_encoder.encoder_layers.5.self_attn.projections_QKVO.1 | Linear                  | 262 K \n",
      "105 | model.query_encoder.encoder_layers.5.self_attn.projections_QKVO.2 | Linear                  | 262 K \n",
      "106 | model.query_encoder.encoder_layers.5.self_attn.projections_QKVO.3 | Linear                  | 262 K \n",
      "107 | model.query_encoder.encoder_layers.5.layer_norms                  | ModuleList              | 2.0 K \n",
      "108 | model.query_encoder.encoder_layers.5.layer_norms.0                | LayerNorm               | 1.0 K \n",
      "109 | model.query_encoder.encoder_layers.5.layer_norms.1                | LayerNorm               | 1.0 K \n",
      "110 | model.query_encoder.encoder_layers.5.heads_dropout                | Dropout                 | 0     \n",
      "111 | model.query_encoder.encoder_layers.5.pff_dropout                  | Dropout                 | 0     \n",
      "112 | model.query_encoder.encoder_layers.6                              | EncoderLayer            | 2.1 M \n",
      "113 | model.query_encoder.encoder_layers.6.poswise_ff                   | Positiontwise_FF        | 1.1 M \n",
      "114 | model.query_encoder.encoder_layers.6.poswise_ff.linear1           | Linear                  | 525 K \n",
      "115 | model.query_encoder.encoder_layers.6.poswise_ff.linear2           | Linear                  | 524 K \n",
      "116 | model.query_encoder.encoder_layers.6.self_attn                    | MultiHeadAttention      | 1.1 M \n",
      "117 | model.query_encoder.encoder_layers.6.self_attn.attn_wt_dropout    | Dropout                 | 0     \n",
      "118 | model.query_encoder.encoder_layers.6.self_attn.projections_QKVO   | ModuleList              | 1.1 M \n",
      "119 | model.query_encoder.encoder_layers.6.self_attn.projections_QKVO.0 | Linear                  | 262 K \n",
      "120 | model.query_encoder.encoder_layers.6.self_attn.projections_QKVO.1 | Linear                  | 262 K \n",
      "121 | model.query_encoder.encoder_layers.6.self_attn.projections_QKVO.2 | Linear                  | 262 K \n",
      "122 | model.query_encoder.encoder_layers.6.self_attn.projections_QKVO.3 | Linear                  | 262 K \n",
      "123 | model.query_encoder.encoder_layers.6.layer_norms                  | ModuleList              | 2.0 K \n",
      "124 | model.query_encoder.encoder_layers.6.layer_norms.0                | LayerNorm               | 1.0 K \n",
      "125 | model.query_encoder.encoder_layers.6.layer_norms.1                | LayerNorm               | 1.0 K \n",
      "126 | model.query_encoder.encoder_layers.6.heads_dropout                | Dropout                 | 0     \n",
      "127 | model.query_encoder.encoder_layers.6.pff_dropout                  | Dropout                 | 0     \n",
      "128 | model.query_encoder.encoder_layers.7                              | EncoderLayer            | 2.1 M \n",
      "129 | model.query_encoder.encoder_layers.7.poswise_ff                   | Positiontwise_FF        | 1.1 M \n",
      "130 | model.query_encoder.encoder_layers.7.poswise_ff.linear1           | Linear                  | 525 K \n",
      "131 | model.query_encoder.encoder_layers.7.poswise_ff.linear2           | Linear                  | 524 K \n",
      "132 | model.query_encoder.encoder_layers.7.self_attn                    | MultiHeadAttention      | 1.1 M \n",
      "133 | model.query_encoder.encoder_layers.7.self_attn.attn_wt_dropout    | Dropout                 | 0     \n",
      "134 | model.query_encoder.encoder_layers.7.self_attn.projections_QKVO   | ModuleList              | 1.1 M \n",
      "135 | model.query_encoder.encoder_layers.7.self_attn.projections_QKVO.0 | Linear                  | 262 K \n",
      "136 | model.query_encoder.encoder_layers.7.self_attn.projections_QKVO.1 | Linear                  | 262 K \n",
      "137 | model.query_encoder.encoder_layers.7.self_attn.projections_QKVO.2 | Linear                  | 262 K \n",
      "138 | model.query_encoder.encoder_layers.7.self_attn.projections_QKVO.3 | Linear                  | 262 K \n",
      "139 | model.query_encoder.encoder_layers.7.layer_norms                  | ModuleList              | 2.0 K \n",
      "140 | model.query_encoder.encoder_layers.7.layer_norms.0                | LayerNorm               | 1.0 K \n",
      "141 | model.query_encoder.encoder_layers.7.layer_norms.1                | LayerNorm               | 1.0 K \n",
      "142 | model.query_encoder.encoder_layers.7.heads_dropout                | Dropout                 | 0     \n",
      "143 | model.query_encoder.encoder_layers.7.pff_dropout                  | Dropout                 | 0     \n",
      "144 | model.query_projection                                            | Linear                  | 4.1 K \n",
      "145 | CE_criterion                                                      | CELoss                  | 0     \n",
      "146 | CE_criterion.CE_loss                                              | CrossEntropyLoss        | 0     \n",
      "147 | loss_criterion                                                    | InfoCELoss              | 0     \n",
      "148 | loss_criterion.CE_loss                                            | CrossEntropyLoss        | 0     \n",
      "149 | debug_metrics                                                     | ContrastiveDebugMetrics | 0     \n",
      "150 | softmax                                                           | Softmax                 | 0     \n",
      "----------------------------------------------------------------------------------------------------------------\n",
      "16.9 M    Trainable params\n",
      "0         Non-trainable params\n",
      "16.9 M    Total params\n",
      "67.495    Total estimated model params size (MB) \n",
      "\n",
      "RUN NAME :\n",
      " Con;Vec8;L8H8Lk4Hk2;scheduledAdamW36000;16873.72Kparams\n",
      "Resuming From and Saving to Checkpoint Path:\n",
      " checkpoints/ContrastiveLearning-SET-Wildcard-Expand-Union-27/20210331-140237-Con;Vec8;L8H8Lk4Hk2;scheduledAdamW36000;16873.72Kparams_runId_31x9nw8j\n"
     ]
    },
    {
     "name": "stdout",
     "output_type": "stream",
     "text": [
      "\r",
      "Testing: 0it [00:00, ?it/s]"
     ]
    },
    {
     "name": "stderr",
     "output_type": "stream",
     "text": [
      "/home/user/miniconda/lib/python3.8/site-packages/pytorch_lightning/utilities/distributed.py:52: UserWarning: The dataloader, test dataloader 0, does not have many workers which may be a bottleneck. Consider increasing the value of the `num_workers` argument` (try 16 which is the number of cpus on this machine) in the `DataLoader` init to improve performance.\n",
      "  warnings.warn(*args, **kwargs)\n"
     ]
    },
    {
     "name": "stdout",
     "output_type": "stream",
     "text": [
      "Testing: 100%|██████████| 5/5 [00:04<00:00,  1.04s/it]{0.20483045279979706, 0.6769132018089294, 0.7305194139480591, 0.9554795622825623, 0.7803421020507812, 0.9575746655464172, 0.6489562392234802, 0.7736184000968933, 6.842857360839844, 8.92894172668457, 9.669600486755371, 11.956611633300781, 10.906909942626953, 13.185264587402344, 14.234552383422852, 15.251480102539062, 7.662107944488525, 17.465368270874023, 18.40980339050293, 16.338958740234375, 20.816679000854492, 21.945310592651367, 19.78328514099121, 23.2722225189209, 24.572065353393555, 25.450000762939453, 27.0, 6.833333492279053, 0.04891049861907959, 0.03703700006008148, 0.04123048111796379, 0.05123795196413994, 7.960000038146973, 7.235238075256348, 7.259999752044678, 0.07283038645982742, 0.04375399649143219, 8.940000534057617, 8.938766479492188, 8.042418479919434, 0.0179281122982502, 9.718399047851562, 9.680000305175781, 9.409171104431152, 10.254897117614746, 10.436734199523926, 10.24857234954834, 10.981634140014648, 10.9960298538208, 11.825502395629883, 11.540504455566406, 10.791725158691406, 11.114562034606934, 11.974170684814453, 12.363118171691895, 11.51157283782959, 11.443312644958496, 11.717544555664062, 12.851366996765137, 12.33449649810791, 12.445592880249023, 12.397261619567871, 12.855036735534668, 13.671038627624512, 13.160140991210938, 14.895886421203613, 14.101737976074219, 14.613532066345215, 14.834790229797363, 15.133334159851074, 15.20285701751709, 15.252856254577637, 15.300000190734863, 15.126190185546875, 15.152812004089355, 15.238571166992188, 0.0168304480612278, 0.01914036087691784, 0.017845718190073967, 0.01713809184730053, 0.019060751423239708, 0.017237214371562004, 0.022044500336050987, 0.016739381477236748, 0.04269413277506828, 0.06483184546232224, 0.045545078814029694, 0.0602789930999279, 0.05348092317581177, 0.055514633655548096, 0.03906450420618057, 0.040163349360227585, 0.057970043271780014, 0.06757967919111252, 0.04710843041539192, 1024.0, 209.7463836669922, 0.037492599338293076, 0.9148562601470956, 0.03823643922805786, 0.08524397015571594, 0.01685214787721634, nan, 0.0163811594247818, 0.019070781767368317, 0.016894251108169556, 12.450926780700684, 12.415942192077637, 12.034721374511719, 12.80955696105957, 0.01844346895813942, 13.907485961914062, 13.424847602844238, 14.474771499633789, 0.017599251121282578, 0.01858588494360447, 0.01648218370974064, 0.020817318931221962, 0.02519252337515354}\n",
      "Also saved to : checkpoints/ContrastiveLearning-SET-Wildcard-Expand-Union-27/20210331-140237-Con;Vec8;L8H8Lk4Hk2;scheduledAdamW36000;16873.72Kparams_runId_31x9nw8j/test_metrics.json\n",
      "Testing: 100%|██████████| 5/5 [00:05<00:00,  1.02s/it]\n",
      "--------------------------------------------------------------------------------\n",
      "DATALOADER:0 TEST RESULTS\n",
      "{'avg_batch_size': 1024.0,\n",
      " 'avg_test_KL_loss': 209.7463836669922,\n",
      " 'avg_test_KL_loss_per_example': 0.20483045279979706,\n",
      " 'avg_test_accuracy_by_Query': 0.7305194139480591,\n",
      " 'avg_test_accuracy_by_QueryKey': 0.7305194139480591,\n",
      " 'avg_test_f1_by_Query': 0.7803421020507812,\n",
      " 'avg_test_f1_by_QueryKey': 0.7736184000968933,\n",
      " 'avg_test_gt10;gt_logits_above_threshold_count': 8.042418479919434,\n",
      " 'avg_test_gt10;gt_pred_scores': 0.06757967919111252,\n",
      " 'avg_test_gt10;not_gt_pred_scores': 0.019070781767368317,\n",
      " 'avg_test_gt10;top10_overlap_count': 7.662107944488525,\n",
      " 'avg_test_gt10;top10_pred_above_threshold_count': 9.718399047851562,\n",
      " 'avg_test_gt10;total_pred_above_threshold_count': 10.9960298538208,\n",
      " 'avg_test_gt11;gt_logits_above_threshold_count': 8.938766479492188,\n",
      " 'avg_test_gt11;gt_pred_scores': 0.06483184546232224,\n",
      " 'avg_test_gt11;not_gt_pred_scores': 0.0179281122982502,\n",
      " 'avg_test_gt11;top11_overlap_count': 8.92894172668457,\n",
      " 'avg_test_gt11;top11_pred_above_threshold_count': 10.436734199523926,\n",
      " 'avg_test_gt11;total_pred_above_threshold_count': 10.981634140014648,\n",
      " 'avg_test_gt12;gt_logits_above_threshold_count': 9.409171104431152,\n",
      " 'avg_test_gt12;gt_pred_scores': 0.0602789930999279,\n",
      " 'avg_test_gt12;not_gt_pred_scores': 0.01844346895813942,\n",
      " 'avg_test_gt12;top12_overlap_count': 9.669600486755371,\n",
      " 'avg_test_gt12;top12_pred_above_threshold_count': 11.114562034606934,\n",
      " 'avg_test_gt12;total_pred_above_threshold_count': 11.443312644958496,\n",
      " 'avg_test_gt13;gt_logits_above_threshold_count': 10.254897117614746,\n",
      " 'avg_test_gt13;gt_pred_scores': 0.057970043271780014,\n",
      " 'avg_test_gt13;not_gt_pred_scores': 0.017599251121282578,\n",
      " 'avg_test_gt13;top13_overlap_count': 10.906909942626953,\n",
      " 'avg_test_gt13;top13_pred_above_threshold_count': 11.51157283782959,\n",
      " 'avg_test_gt13;total_pred_above_threshold_count': 11.717544555664062,\n",
      " 'avg_test_gt14;gt_logits_above_threshold_count': 10.791725158691406,\n",
      " 'avg_test_gt14;gt_pred_scores': 0.055514633655548096,\n",
      " 'avg_test_gt14;not_gt_pred_scores': 0.01713809184730053,\n",
      " 'avg_test_gt14;top14_overlap_count': 11.956611633300781,\n",
      " 'avg_test_gt14;top14_pred_above_threshold_count': 11.974170684814453,\n",
      " 'avg_test_gt14;total_pred_above_threshold_count': 12.034721374511719,\n",
      " 'avg_test_gt15;gt_logits_above_threshold_count': 11.540504455566406,\n",
      " 'avg_test_gt15;gt_pred_scores': 0.05348092317581177,\n",
      " 'avg_test_gt15;not_gt_pred_scores': 0.01648218370974064,\n",
      " 'avg_test_gt15;top15_overlap_count': 13.185264587402344,\n",
      " 'avg_test_gt15;top15_pred_above_threshold_count': 12.397261619567871,\n",
      " 'avg_test_gt15;total_pred_above_threshold_count': 12.415942192077637,\n",
      " 'avg_test_gt16;gt_logits_above_threshold_count': 11.825502395629883,\n",
      " 'avg_test_gt16;gt_pred_scores': 0.05123795196413994,\n",
      " 'avg_test_gt16;not_gt_pred_scores': 0.0163811594247818,\n",
      " 'avg_test_gt16;top16_overlap_count': 14.234552383422852,\n",
      " 'avg_test_gt16;top16_pred_above_threshold_count': 12.445592880249023,\n",
      " 'avg_test_gt16;total_pred_above_threshold_count': 12.450926780700684,\n",
      " 'avg_test_gt17;gt_logits_above_threshold_count': 12.363118171691895,\n",
      " 'avg_test_gt17;gt_pred_scores': 0.04891049861907959,\n",
      " 'avg_test_gt17;not_gt_pred_scores': 0.01685214787721634,\n",
      " 'avg_test_gt17;top17_overlap_count': 15.251480102539062,\n",
      " 'avg_test_gt17;top17_pred_above_threshold_count': 12.851366996765137,\n",
      " 'avg_test_gt17;total_pred_above_threshold_count': 12.855036735534668,\n",
      " 'avg_test_gt18;gt_logits_above_threshold_count': 12.80955696105957,\n",
      " 'avg_test_gt18;gt_pred_scores': 0.04710843041539192,\n",
      " 'avg_test_gt18;not_gt_pred_scores': 0.016894251108169556,\n",
      " 'avg_test_gt18;top18_overlap_count': 16.338958740234375,\n",
      " 'avg_test_gt18;top18_pred_above_threshold_count': 13.160140991210938,\n",
      " 'avg_test_gt18;total_pred_above_threshold_count': 13.160140991210938,\n",
      " 'avg_test_gt19;gt_logits_above_threshold_count': 13.424847602844238,\n",
      " 'avg_test_gt19;gt_pred_scores': 0.045545078814029694,\n",
      " 'avg_test_gt19;not_gt_pred_scores': 0.0168304480612278,\n",
      " 'avg_test_gt19;top19_overlap_count': 17.465368270874023,\n",
      " 'avg_test_gt19;top19_pred_above_threshold_count': 13.671038627624512,\n",
      " 'avg_test_gt19;total_pred_above_threshold_count': 13.671038627624512,\n",
      " 'avg_test_gt20;gt_logits_above_threshold_count': 13.907485961914062,\n",
      " 'avg_test_gt20;gt_pred_scores': 0.04375399649143219,\n",
      " 'avg_test_gt20;not_gt_pred_scores': 0.017845718190073967,\n",
      " 'avg_test_gt20;top20_overlap_count': 18.40980339050293,\n",
      " 'avg_test_gt20;top20_pred_above_threshold_count': 14.101737976074219,\n",
      " 'avg_test_gt20;total_pred_above_threshold_count': 14.101737976074219,\n",
      " 'avg_test_gt21;gt_logits_above_threshold_count': 14.474771499633789,\n",
      " 'avg_test_gt21;gt_pred_scores': 0.04269413277506828,\n",
      " 'avg_test_gt21;not_gt_pred_scores': 0.017237214371562004,\n",
      " 'avg_test_gt21;top21_overlap_count': 19.78328514099121,\n",
      " 'avg_test_gt21;top21_pred_above_threshold_count': 14.613532066345215,\n",
      " 'avg_test_gt21;total_pred_above_threshold_count': 14.613532066345215,\n",
      " 'avg_test_gt22;gt_logits_above_threshold_count': 14.834790229797363,\n",
      " 'avg_test_gt22;gt_pred_scores': 0.04123048111796379,\n",
      " 'avg_test_gt22;not_gt_pred_scores': 0.01858588494360447,\n",
      " 'avg_test_gt22;top22_overlap_count': 20.816679000854492,\n",
      " 'avg_test_gt22;top22_pred_above_threshold_count': 14.895886421203613,\n",
      " 'avg_test_gt22;total_pred_above_threshold_count': 14.895886421203613,\n",
      " 'avg_test_gt23;gt_logits_above_threshold_count': 15.152812004089355,\n",
      " 'avg_test_gt23;gt_pred_scores': 0.040163349360227585,\n",
      " 'avg_test_gt23;not_gt_pred_scores': 0.019060751423239708,\n",
      " 'avg_test_gt23;top23_overlap_count': 21.945310592651367,\n",
      " 'avg_test_gt23;top23_pred_above_threshold_count': 15.20285701751709,\n",
      " 'avg_test_gt23;total_pred_above_threshold_count': 15.20285701751709,\n",
      " 'avg_test_gt24;gt_logits_above_threshold_count': 15.126190185546875,\n",
      " 'avg_test_gt24;gt_pred_scores': 0.03906450420618057,\n",
      " 'avg_test_gt24;not_gt_pred_scores': 0.020817318931221962,\n",
      " 'avg_test_gt24;top24_overlap_count': 23.2722225189209,\n",
      " 'avg_test_gt24;top24_pred_above_threshold_count': 15.133334159851074,\n",
      " 'avg_test_gt24;total_pred_above_threshold_count': 15.133334159851074,\n",
      " 'avg_test_gt25;gt_logits_above_threshold_count': 15.238571166992188,\n",
      " 'avg_test_gt25;gt_pred_scores': 0.03823643922805786,\n",
      " 'avg_test_gt25;not_gt_pred_scores': 0.022044500336050987,\n",
      " 'avg_test_gt25;top25_overlap_count': 24.572065353393555,\n",
      " 'avg_test_gt25;top25_pred_above_threshold_count': 15.252856254577637,\n",
      " 'avg_test_gt25;total_pred_above_threshold_count': 15.252856254577637,\n",
      " 'avg_test_gt26;gt_logits_above_threshold_count': 15.300000190734863,\n",
      " 'avg_test_gt26;gt_pred_scores': 0.037492599338293076,\n",
      " 'avg_test_gt26;not_gt_pred_scores': 0.02519252337515354,\n",
      " 'avg_test_gt26;top26_overlap_count': 25.450000762939453,\n",
      " 'avg_test_gt26;top26_pred_above_threshold_count': 15.300000190734863,\n",
      " 'avg_test_gt26;total_pred_above_threshold_count': 15.300000190734863,\n",
      " 'avg_test_gt27;gt_logits_above_threshold_count': 12.33449649810791,\n",
      " 'avg_test_gt27;gt_pred_scores': 0.03703700006008148,\n",
      " 'avg_test_gt27;not_gt_pred_scores': nan,\n",
      " 'avg_test_gt27;top27_overlap_count': 27.0,\n",
      " 'avg_test_gt27;top27_pred_above_threshold_count': 12.33449649810791,\n",
      " 'avg_test_gt27;total_pred_above_threshold_count': 12.33449649810791,\n",
      " 'avg_test_gt8;gt_logits_above_threshold_count': 7.259999752044678,\n",
      " 'avg_test_gt8;gt_pred_scores': 0.08524397015571594,\n",
      " 'avg_test_gt8;not_gt_pred_scores': 0.016739381477236748,\n",
      " 'avg_test_gt8;top8_overlap_count': 6.833333492279053,\n",
      " 'avg_test_gt8;top8_pred_above_threshold_count': 7.960000038146973,\n",
      " 'avg_test_gt8;total_pred_above_threshold_count': 9.680000305175781,\n",
      " 'avg_test_gt9;gt_logits_above_threshold_count': 7.235238075256348,\n",
      " 'avg_test_gt9;gt_pred_scores': 0.07283038645982742,\n",
      " 'avg_test_gt9;not_gt_pred_scores': 0.01914036087691784,\n",
      " 'avg_test_gt9;top9_overlap_count': 6.842857360839844,\n",
      " 'avg_test_gt9;top9_pred_above_threshold_count': 8.940000534057617,\n",
      " 'avg_test_gt9;total_pred_above_threshold_count': 10.24857234954834,\n",
      " 'avg_test_precision_by_Query': 0.9554795622825623,\n",
      " 'avg_test_precision_by_QueryKey': 0.9575746655464172,\n",
      " 'avg_test_recall_by_Query': 0.6769132018089294,\n",
      " 'avg_test_recall_by_QueryKey': 0.6489562392234802,\n",
      " 'avg_test_topK_overall_overlap_ratio': 0.9148562601470956,\n",
      " 'test_KL_loss': 209.7463836669922,\n",
      " 'test_KL_loss_per_example': 0.20483045279979706,\n",
      " 'test_accuracy_by_Query': 0.7305194139480591,\n",
      " 'test_accuracy_by_QueryKey': 0.7305194139480591,\n",
      " 'test_f1_by_Query': 0.7803421020507812,\n",
      " 'test_f1_by_QueryKey': 0.7736184000968933,\n",
      " 'test_gt10;gt_logits_above_threshold_count': 8.042417526245117,\n",
      " 'test_gt10;gt_pred_scores': 0.06757967174053192,\n",
      " 'test_gt10;not_gt_pred_scores': 0.019070781767368317,\n",
      " 'test_gt10;top10_overlap_count': 7.662107944488525,\n",
      " 'test_gt10;top10_pred_above_threshold_count': 9.718399047851562,\n",
      " 'test_gt10;total_pred_above_threshold_count': 10.996028900146484,\n",
      " 'test_gt11;gt_logits_above_threshold_count': 8.938766479492188,\n",
      " 'test_gt11;gt_pred_scores': 0.06483183801174164,\n",
      " 'test_gt11;not_gt_pred_scores': 0.0179281122982502,\n",
      " 'test_gt11;top11_overlap_count': 8.92894172668457,\n",
      " 'test_gt11;top11_pred_above_threshold_count': 10.436735153198242,\n",
      " 'test_gt11;total_pred_above_threshold_count': 10.981634140014648,\n",
      " 'test_gt12;gt_logits_above_threshold_count': 9.409170150756836,\n",
      " 'test_gt12;gt_pred_scores': 0.0602790005505085,\n",
      " 'test_gt12;not_gt_pred_scores': 0.01844346895813942,\n",
      " 'test_gt12;top12_overlap_count': 9.669599533081055,\n",
      " 'test_gt12;top12_pred_above_threshold_count': 11.114562034606934,\n",
      " 'test_gt12;total_pred_above_threshold_count': 11.44331169128418,\n",
      " 'test_gt13;gt_logits_above_threshold_count': 10.254897117614746,\n",
      " 'test_gt13;gt_pred_scores': 0.057970039546489716,\n",
      " 'test_gt13;not_gt_pred_scores': 0.017599251121282578,\n",
      " 'test_gt13;top13_overlap_count': 10.906909942626953,\n",
      " 'test_gt13;top13_pred_above_threshold_count': 11.511573791503906,\n",
      " 'test_gt13;total_pred_above_threshold_count': 11.717544555664062,\n",
      " 'test_gt14;gt_logits_above_threshold_count': 10.791725158691406,\n",
      " 'test_gt14;gt_pred_scores': 0.055514633655548096,\n",
      " 'test_gt14;not_gt_pred_scores': 0.01713808998465538,\n",
      " 'test_gt14;top14_overlap_count': 11.956611633300781,\n",
      " 'test_gt14;top14_pred_above_threshold_count': 11.974170684814453,\n",
      " 'test_gt14;total_pred_above_threshold_count': 12.034721374511719,\n",
      " 'test_gt15;gt_logits_above_threshold_count': 11.54050350189209,\n",
      " 'test_gt15;gt_pred_scores': 0.05348092317581177,\n",
      " 'test_gt15;not_gt_pred_scores': 0.01648218184709549,\n",
      " 'test_gt15;top15_overlap_count': 13.185264587402344,\n",
      " 'test_gt15;top15_pred_above_threshold_count': 12.397262573242188,\n",
      " 'test_gt15;total_pred_above_threshold_count': 12.415942192077637,\n",
      " 'test_gt16;gt_logits_above_threshold_count': 11.825502395629883,\n",
      " 'test_gt16;gt_pred_scores': 0.051237959414720535,\n",
      " 'test_gt16;not_gt_pred_scores': 0.0163811594247818,\n",
      " 'test_gt16;top16_overlap_count': 14.234552383422852,\n",
      " 'test_gt16;top16_pred_above_threshold_count': 12.445592880249023,\n",
      " 'test_gt16;total_pred_above_threshold_count': 12.450925827026367,\n",
      " 'test_gt17;gt_logits_above_threshold_count': 12.363118171691895,\n",
      " 'test_gt17;gt_pred_scores': 0.04891050234436989,\n",
      " 'test_gt17;not_gt_pred_scores': 0.01685214787721634,\n",
      " 'test_gt17;top17_overlap_count': 15.25147819519043,\n",
      " 'test_gt17;top17_pred_above_threshold_count': 12.851366996765137,\n",
      " 'test_gt17;total_pred_above_threshold_count': 12.855036735534668,\n",
      " 'test_gt18;gt_logits_above_threshold_count': 12.80955696105957,\n",
      " 'test_gt18;gt_pred_scores': 0.04710843414068222,\n",
      " 'test_gt18;not_gt_pred_scores': 0.016894251108169556,\n",
      " 'test_gt18;top18_overlap_count': 16.338958740234375,\n",
      " 'test_gt18;top18_pred_above_threshold_count': 13.160140991210938,\n",
      " 'test_gt18;total_pred_above_threshold_count': 13.160140991210938,\n",
      " 'test_gt19;gt_logits_above_threshold_count': 13.424847602844238,\n",
      " 'test_gt19;gt_pred_scores': 0.045545078814029694,\n",
      " 'test_gt19;not_gt_pred_scores': 0.0168304480612278,\n",
      " 'test_gt19;top19_overlap_count': 17.465368270874023,\n",
      " 'test_gt19;top19_pred_above_threshold_count': 13.671038627624512,\n",
      " 'test_gt19;total_pred_above_threshold_count': 13.671038627624512,\n",
      " 'test_gt20;gt_logits_above_threshold_count': 13.907485961914062,\n",
      " 'test_gt20;gt_pred_scores': 0.04375399649143219,\n",
      " 'test_gt20;not_gt_pred_scores': 0.017845716327428818,\n",
      " 'test_gt20;top20_overlap_count': 18.40980339050293,\n",
      " 'test_gt20;top20_pred_above_threshold_count': 14.101737976074219,\n",
      " 'test_gt20;total_pred_above_threshold_count': 14.101737976074219,\n",
      " 'test_gt21;gt_logits_above_threshold_count': 14.474771499633789,\n",
      " 'test_gt21;gt_pred_scores': 0.04269413277506828,\n",
      " 'test_gt21;not_gt_pred_scores': 0.017237214371562004,\n",
      " 'test_gt21;top21_overlap_count': 19.783283233642578,\n",
      " 'test_gt21;top21_pred_above_threshold_count': 14.613531112670898,\n",
      " 'test_gt21;total_pred_above_threshold_count': 14.613531112670898,\n",
      " 'test_gt22;gt_logits_above_threshold_count': 14.834790229797363,\n",
      " 'test_gt22;gt_pred_scores': 0.04123048111796379,\n",
      " 'test_gt22;not_gt_pred_scores': 0.01858588494360447,\n",
      " 'test_gt22;top22_overlap_count': 20.81667709350586,\n",
      " 'test_gt22;top22_pred_above_threshold_count': 14.89588737487793,\n",
      " 'test_gt22;total_pred_above_threshold_count': 14.89588737487793,\n",
      " 'test_gt23;gt_logits_above_threshold_count': 15.152811050415039,\n",
      " 'test_gt23;gt_pred_scores': 0.040163345634937286,\n",
      " 'test_gt23;not_gt_pred_scores': 0.019060751423239708,\n",
      " 'test_gt23;top23_overlap_count': 21.945310592651367,\n",
      " 'test_gt23;top23_pred_above_threshold_count': 15.202856063842773,\n",
      " 'test_gt23;total_pred_above_threshold_count': 15.202856063842773,\n",
      " 'test_gt24;gt_logits_above_threshold_count': 15.126190185546875,\n",
      " 'test_gt24;gt_pred_scores': 0.03906450420618057,\n",
      " 'test_gt24;not_gt_pred_scores': 0.020817318931221962,\n",
      " 'test_gt24;top24_overlap_count': 23.2722225189209,\n",
      " 'test_gt24;top24_pred_above_threshold_count': 15.133334159851074,\n",
      " 'test_gt24;total_pred_above_threshold_count': 15.133334159851074,\n",
      " 'test_gt25;gt_logits_above_threshold_count': 15.238571166992188,\n",
      " 'test_gt25;gt_pred_scores': 0.03823643922805786,\n",
      " 'test_gt25;not_gt_pred_scores': 0.022044498473405838,\n",
      " 'test_gt25;top25_overlap_count': 24.572063446044922,\n",
      " 'test_gt25;top25_pred_above_threshold_count': 15.252856254577637,\n",
      " 'test_gt25;total_pred_above_threshold_count': 15.252856254577637,\n",
      " 'test_gt26;gt_logits_above_threshold_count': 15.300000190734863,\n",
      " 'test_gt26;gt_pred_scores': 0.037492599338293076,\n",
      " 'test_gt26;not_gt_pred_scores': 0.02519252337515354,\n",
      " 'test_gt26;top26_overlap_count': 25.450000762939453,\n",
      " 'test_gt26;top26_pred_above_threshold_count': 15.300000190734863,\n",
      " 'test_gt26;total_pred_above_threshold_count': 15.300000190734863,\n",
      " 'test_gt27;gt_logits_above_threshold_count': 12.334495544433594,\n",
      " 'test_gt27;gt_pred_scores': 0.03703700006008148,\n",
      " 'test_gt27;not_gt_pred_scores': nan,\n",
      " 'test_gt27;top27_overlap_count': 27.0,\n",
      " 'test_gt27;top27_pred_above_threshold_count': 12.334495544433594,\n",
      " 'test_gt27;total_pred_above_threshold_count': 12.334495544433594,\n",
      " 'test_gt6;gt_logits_above_threshold_count': 5.0,\n",
      " 'test_gt6;gt_pred_scores': 0.0988122746348381,\n",
      " 'test_gt6;not_gt_pred_scores': 0.01938696578145027,\n",
      " 'test_gt6;top6_overlap_count': 5.0,\n",
      " 'test_gt6;top6_pred_above_threshold_count': 6.0,\n",
      " 'test_gt6;total_pred_above_threshold_count': 9.0,\n",
      " 'test_gt7;gt_logits_above_threshold_count': 6.166666507720947,\n",
      " 'test_gt7;gt_pred_scores': 0.07970542460680008,\n",
      " 'test_gt7;not_gt_pred_scores': 0.022103101015090942,\n",
      " 'test_gt7;top7_overlap_count': 4.666666507720947,\n",
      " 'test_gt7;top7_pred_above_threshold_count': 7.0,\n",
      " 'test_gt7;total_pred_above_threshold_count': 11.333333015441895,\n",
      " 'test_gt8;gt_logits_above_threshold_count': 7.259999752044678,\n",
      " 'test_gt8;gt_pred_scores': 0.08524397015571594,\n",
      " 'test_gt8;not_gt_pred_scores': 0.0167393796145916,\n",
      " 'test_gt8;top8_overlap_count': 6.833333492279053,\n",
      " 'test_gt8;top8_pred_above_threshold_count': 7.960000038146973,\n",
      " 'test_gt8;total_pred_above_threshold_count': 9.680000305175781,\n",
      " 'test_gt9;gt_logits_above_threshold_count': 7.235238075256348,\n",
      " 'test_gt9;gt_pred_scores': 0.07283038645982742,\n",
      " 'test_gt9;not_gt_pred_scores': 0.01914036087691784,\n",
      " 'test_gt9;top9_overlap_count': 6.842857360839844,\n",
      " 'test_gt9;top9_pred_above_threshold_count': 8.940000534057617,\n",
      " 'test_gt9;total_pred_above_threshold_count': 10.248571395874023,\n",
      " 'test_precision_by_Query': 0.9554795026779175,\n",
      " 'test_precision_by_QueryKey': 0.9575746655464172,\n",
      " 'test_recall_by_Query': 0.6769132018089294,\n",
      " 'test_recall_by_QueryKey': 0.6489561796188354,\n",
      " 'test_topK_overall_overlap_ratio': 0.9148563146591187}\n",
      "--------------------------------------------------------------------------------\n"
     ]
    }
   ],
   "source": [
    "trainmodule, game_datamodule = main.main(args)"
   ]
  },
  {
   "cell_type": "markdown",
   "id": "graduate-output",
   "metadata": {},
   "source": [
    "## KL Loss Analysis"
   ]
  },
  {
   "cell_type": "code",
   "execution_count": 9,
   "id": "together-programmer",
   "metadata": {},
   "outputs": [],
   "source": [
    "def softmax(x):\n",
    "    \"\"\"Compute softmax values for each sets of scores in x.\"\"\"\n",
    "    e_x = np.exp(np.array(x) - np.max(x, axis=-1).reshape(-1, 1))\n",
    "    return e_x / np.sum(e_x, axis=-1).reshape(-1, 1)\n",
    "\n",
    "def entropy(x):\n",
    "    return - np.sum(x * np.log2(x), axis=-1)"
   ]
  },
  {
   "cell_type": "code",
   "execution_count": 10,
   "id": "fancy-bhutan",
   "metadata": {},
   "outputs": [
    {
     "name": "stdout",
     "output_type": "stream",
     "text": [
      "top 50th data indices by kl loss [2755 3790 3653 3223 1503  667 4352 1535 3751  419  741 2294   93 1725\n",
      " 4382 2265 3962 3815 2705 4049  974 3080 3603 3509  668 4141 2563  727\n",
      " 3924 2691  607 4057 1468 4723 4860 2495  508 2659 3069 2828 3939 2221\n",
      "  771 2100  116  351  640 1569 1549 3984]\n"
     ]
    },
    {
     "data": {
      "text/plain": [
       "(array([1206., 1032., 1337.,  830.,  334.,  205.,  115.,   43.,   15.,\n",
       "           3.]),\n",
       " array([0.00191893, 0.0902636 , 0.17860827, 0.26695294, 0.3552976 ,\n",
       "        0.44364227, 0.53198694, 0.62033161, 0.70867628, 0.79702095,\n",
       "        0.88536562]),\n",
       " <BarContainer object of 10 artists>)"
      ]
     },
     "execution_count": 10,
     "metadata": {},
     "output_type": "execute_result"
    },
    {
     "data": {
      "image/png": "[encoded data removed]",
      "text/plain": [
       "<Figure size 432x288 with 1 Axes>"
      ]
     },
     "metadata": {
      "needs_background": "light"
     },
     "output_type": "display_data"
    }
   ],
   "source": [
    "p = 'checkpoints/ContrastiveLearning-SET-Wildcard-Expand-Union-27/20210331-140237-Con;Vec8;L8H8Lk4Hk2;scheduledAdamW36000;16873.72Kparams_runId_31x9nw8j/test_metrics.json'\n",
    "\n",
    "\n",
    "with open(p, 'r') as f:\n",
    "    res = json.load(f)\n",
    "    \n",
    "full_kl_loss = [row for batch in res['full_kl_loss'] for row in batch]\n",
    "full_logits = [row for batch in res['full_logits'] for row in batch]\n",
    "full_probs = softmax(full_logits)\n",
    "\n",
    "full_kl_loss_sum_row = np.sum(np.array(full_kl_loss), axis=-1)\n",
    "sorted_indices = np.argsort(full_kl_loss_sum_row)\n",
    "print('top 50th data indices by kl loss', sorted_indices[:50])\n",
    "\n",
    "plt.hist(full_kl_loss_sum_row)"
   ]
  },
  {
   "cell_type": "code",
   "execution_count": 11,
   "id": "essential-benefit",
   "metadata": {},
   "outputs": [
    {
     "data": {
      "text/plain": [
       "array([0.00191893, 0.00192973, 0.00193685, ..., 0.84701111, 0.86842175,\n",
       "       0.88536562])"
      ]
     },
     "execution_count": 11,
     "metadata": {},
     "output_type": "execute_result"
    }
   ],
   "source": [
    "full_kl_loss_sum_row[sorted_indices]"
   ]
  },
  {
   "cell_type": "code",
   "execution_count": 12,
   "id": "ranging-plymouth",
   "metadata": {},
   "outputs": [
    {
     "name": "stdout",
     "output_type": "stream",
     "text": [
      "---------data----------\n",
      "num_attributes : 3\n",
      "num_attr_vals : 3\n",
      "key_support_size : 27\n",
      "N_pairs : 8\n",
      "union_only : True\n",
      "max_len_q : 16\n",
      "len_k : 1\n",
      "train_gt_idxs length : 0\n",
      "val_gt_idxs length : 5120\n",
      "test_gt_idxs length : 5120\n",
      "train_tokens length : 0\n",
      "val_tokens length : 5120\n",
      "test_tokens length : 5120\n",
      "test_marginal_gt_idxs length : 5120\n",
      "test_marginal_tokens length : 5120\n",
      "vocab_size : 74\n",
      "symbol_vocab_token_lookup : {'(': 64, ')': 65, 'NULL': 66, 'SEP': 67, 'SOS': 68, 'EOS': 69, 'PAD': 70, 'PLH': 71, '|': 72, '!': 73}\n",
      "vocab_by_property : False\n",
      "-----------------------\n"
     ]
    }
   ],
   "source": [
    "game_data = main.load_data(args.data_path)\n",
    "gt_counts = np.array([len(gt_idxs) for gt_idxs in game_data['test_gt_idxs']])"
   ]
  },
  {
   "cell_type": "code",
   "execution_count": 13,
   "id": "diverse-nirvana",
   "metadata": {},
   "outputs": [
    {
     "name": "stdout",
     "output_type": "stream",
     "text": [
      "[9, 9, 7, 10, 7, 9, 10, 10, 11, 8, 9, 10, 11, 9, 9, 11, 11, 10, 9, 12, 9, 10, 9, 10, 8, 10, 10, 11, 6, 10, 10, 11, 11, 10, 8, 9, 12, 9, 11, 8, 12, 12, 9, 9, 11, 10, 13, 13, 10, 10, 12, 12, 13, 12, 9, 12, 11, 9, 10, 12, 12, 10, 9, 12, 9, 11, 12, 11, 11, 10, 11, 13, 7, 13, 12, 10, 10, 13, 11, 13, 13, 8, 13, 12, 10, 13, 12, 11, 12, 9, 10, 8, 11, 12, 13, 13, 13, 13, 11, 12, 9, 12, 11, 13, 12, 9, 11, 9, 11, 11, 10, 11, 14, 12, 12, 11, 11, 11, 11, 10, 9, 13, 13, 11, 13, 11, 10, 10, 13, 11, 9, 13, 13, 12, 10, 13, 8, 10, 12, 7, 13, 10, 9, 13, 10, 11, 12, 12, 11, 14, 10, 10, 10, 14, 13, 11, 12, 11, 12, 13, 13, 9, 14, 10, 14, 12, 11, 12, 13, 12, 13, 12, 12, 13, 11, 11, 12, 11, 12, 12, 10, 11, 9, 10, 12, 12, 12, 11, 11, 13, 13, 10, 13, 11, 13, 12, 14, 11, 9, 13, 11, 11, 10, 13, 11, 15, 13, 12, 9, 11, 11, 14, 11, 12, 13, 12, 12, 12, 9, 12, 10, 13, 12, 14, 13, 13, 12, 12, 12, 9, 13, 13, 8, 11, 13, 11, 12, 15, 13, 13, 11, 11, 13, 14, 14, 11, 13, 13, 12, 11, 12, 12, 14, 11, 11, 14, 11, 11, 14, 13, 14, 9, 12, 13, 13, 10, 13, 9, 10, 9, 12, 10, 12, 11, 12, 15, 13, 11, 12, 14, 12, 14, 14, 14, 12, 14, 13, 11, 14, 11, 12, 12, 14, 11, 10, 13, 15, 9, 12, 15, 14, 12, 14, 11, 11, 13, 8, 11, 13, 14, 14, 11, 12, 10, 11, 13, 10, 14, 13, 14, 13, 12, 14, 12, 12, 11, 12, 12, 10, 11, 13, 12, 14, 14, 13, 13, 14, 9, 13, 11, 13, 15, 10, 14, 15, 13, 13, 15, 15, 15, 16, 15, 14, 11, 9, 13, 14, 15, 14, 13, 15, 16, 13, 13, 13, 14, 12, 13, 15, 13, 12, 12, 15, 16, 14, 11, 10, 14, 13, 14, 13, 15, 12, 14, 14, 13, 14, 13, 12, 14, 12, 16, 14, 13, 14, 14, 11, 12, 11, 14, 15, 14, 8, 16, 15, 12, 15, 11, 14, 11, 15, 16, 16, 11, 16, 16, 16, 13, 13, 12, 14, 14, 15, 13, 13, 14, 10, 12, 16, 11, 14, 13, 13, 14, 13, 15, 10, 16, 16, 13, 14, 15, 14, 12, 12, 15, 15, 15, 16, 13, 12, 14, 11, 10, 11, 14, 14, 13, 13, 15, 15, 10, 14, 12, 15, 12, 11, 12, 11, 10, 13, 15, 17, 15, 15, 16, 13, 12, 8, 14, 14, 14, 12, 15, 13, 12, 15, 13, 14, 12, 14, 16, 12, 14, 13, 14, 15, 15, 14, 13, 16, 15, 12, 15, 14, 15, 16, 15, 12, 15, 14, 16, 15, 14, 13, 15, 13, 11, 15, 17, 14, 10, 15, 15, 14, 13, 14, 16, 15, 15, 14, 14, 16, 12, 16, 14, 16, 14, 10, 14, 11, 11, 13, 8, 13, 16, 10, 13, 17, 17, 15, 10, 14, 12, 10, 16, 15, 16, 17, 12, 14, 11, 15, 13, 13, 13, 15, 16, 15, 11, 15, 11, 15, 15, 15, 17, 11, 14, 16, 10, 11, 15, 17, 17, 16, 15, 15, 11, 15, 10, 14, 17, 17, 14, 11, 18, 13, 12, 16, 13, 11, 15, 15, 13, 12, 14, 12, 12, 10, 15, 14, 8, 16, 11, 13, 15, 11, 13, 13, 16, 17, 9, 13, 14, 12, 16, 17, 13, 14, 16, 16, 16, 15, 14, 14, 17, 15, 12, 17, 9, 15, 14, 16, 12, 15, 16, 16, 14, 15, 15, 13, 17, 14, 16, 14, 16, 16, 17, 11, 16, 14, 17, 13, 12, 16, 15, 17, 13, 17, 13, 14, 15, 13, 16, 15, 16, 16, 14, 11, 13, 15, 15, 12, 13, 15, 15, 15, 13, 17, 16, 12, 13, 14, 16, 17, 17, 18, 14, 16, 18, 16, 14, 13, 12, 13, 16, 15, 16, 18, 9, 15, 12, 16, 8, 11, 11, 17, 14, 12, 16, 16, 16, 14, 15, 16, 13, 12, 17, 11, 13, 17, 18, 14, 17, 17, 16, 14, 10, 13, 13, 17, 16, 14, 13, 16, 11, 12, 13, 12, 16, 16, 14, 15, 15, 14, 16, 16, 14, 13, 16, 14, 15, 13, 15, 17, 17, 12, 12, 11, 16, 15, 16, 17, 12, 18, 17, 13, 17, 14, 14, 14, 14, 13, 15, 16, 14, 16, 18, 15, 13, 11, 15, 17, 15, 16, 15, 16, 17, 16, 17, 16, 15, 14, 14, 15, 13, 13, 14, 13, 15, 16, 15, 15, 14, 14, 11, 14, 17, 13, 16, 18, 13, 18, 18, 15, 14, 15, 12, 11, 14, 14, 16, 15, 16, 12, 14, 16, 18, 16, 17, 18, 10, 17, 11, 13, 14, 13, 17, 16, 14, 16, 17, 18, 13, 15, 16, 17, 11, 13, 18, 17, 15, 12, 8, 12, 16, 15, 15, 12, 17, 11, 13, 16, 16, 18, 13, 16, 15, 17, 15, 13, 17, 15, 15, 14, 14, 13, 16, 17, 16, 17, 18, 16, 13, 13, 17, 17, 12, 17, 14, 15, 14, 18, 13, 15, 15, 16, 18, 17, 17, 17, 15, 15, 13, 13, 13, 14, 16, 14, 17, 17, 14, 9, 17, 15, 15, 18, 13, 17, 13, 11, 15, 18, 14, 17, 8, 12, 17, 14, 15, 15, 17, 14, 17, 13, 13, 16, 18, 14, 15, 16, 15, 16, 13, 16, 18, 13, 15, 15, 15, 15, 15, 17, 13, 18, 15, 13, 14, 18, 11, 16, 15, 15, 11, 12, 14, 15, 16, 14, 18, 13, 14, 17, 18, 13, 14, 17, 14, 16, 14, 17, 14, 18, 16, 15, 14, 14, 16, 17, 16, 17, 16, 13, 14, 16, 17, 14, 17, 14, 13, 15, 17, 15, 10, 16, 14, 14, 11, 18, 14, 13, 16, 13, 14, 13, 12, 14, 17, 18, 18, 17, 16, 14, 12, 15, 18, 14, 15, 15, 15, 13, 17, 16, 15, 15, 12, 14, 14, 14, 18, 18, 17, 16, 15, 15, 17, 14, 10, 15, 14, 13, 16, 15, 16, 19, 15, 17, 18, 15, 14, 13, 18, 16, 17, 15, 17, 16, 18, 9, 16, 16, 18, 15, 15, 15, 17, 17, 12, 16, 19, 17, 17, 19, 15, 14, 10, 17, 17, 15, 17, 17, 17, 17, 13, 14, 15, 17, 15, 14, 16, 15, 18, 16, 14, 17, 12, 13, 13, 16, 16, 15, 17, 18, 15, 15, 14, 18, 17, 16, 15, 16, 19, 17, 16, 15, 15, 16, 17, 16, 17, 9, 13, 13, 14, 17, 17, 18, 17, 15, 15, 17, 18, 18, 16, 18, 17, 16, 16, 16, 17, 13, 13, 19, 12, 18, 14, 13, 16, 15, 13, 15, 17, 17, 15, 11, 11, 13, 17, 18, 17, 14, 18, 18, 17, 19, 14, 15, 15, 19, 16, 11, 19, 17, 16, 17, 13, 13, 16, 12, 14, 16, 17, 11, 17, 16, 15, 17, 17, 15, 16, 18, 14, 15, 18, 17, 19, 17, 15, 16, 15, 17, 17, 12, 17, 16, 8, 16, 14, 15, 12, 19, 15, 14, 15, 13, 16, 16, 14, 15, 18, 13, 15, 15, 11, 15, 16, 15, 18, 14, 17, 19, 16, 12, 13, 19, 18, 16, 14, 19, 14, 14, 13, 15, 15, 16, 18, 13, 16, 17, 18, 14, 17, 16, 19, 15, 15, 18, 14, 17, 14, 15, 17, 19, 17, 20, 19, 17, 17, 15, 16, 14, 17, 19, 14, 14, 16, 12, 18, 14, 16, 14, 12, 14, 15, 16, 16, 16, 19, 18, 16, 14, 13, 16, 17, 15, 15, 16, 13, 17, 16, 15, 16, 17, 15, 17, 13, 17, 13, 16, 16, 11, 17, 16, 18, 17, 18, 17, 9, 17, 14, 17, 13, 17, 16, 15, 18, 14, 16, 18, 18, 15, 16, 17, 17, 15, 15, 13, 16, 14, 17, 17, 18, 17, 14, 16, 14, 17, 16, 14, 18, 18, 16, 17, 17, 14, 12, 17, 16, 16, 16, 11, 19, 18, 14, 19, 19, 17, 18, 17, 20, 13, 16, 17, 20, 18, 19, 18, 13, 16, 18, 16, 13, 14, 15, 18, 18, 17, 16, 16, 18, 19, 18, 18, 17, 17, 12, 16, 13, 13, 14, 15, 14, 14, 14, 18, 17, 16, 16, 12, 18, 19, 19, 18, 18, 15, 15, 17, 13, 17, 16, 15, 16, 14, 13, 16, 18, 18, 17, 14, 18, 16, 18, 14, 18, 16, 17, 19, 15, 17, 15, 18, 11, 17, 16, 18, 17, 18, 16, 14, 16, 14, 15, 13, 15, 16, 17, 17, 15, 17, 17, 15, 17, 15, 18, 17, 14, 17, 11, 16, 16, 17, 17, 14, 19, 17, 15, 17, 18, 16, 15, 16, 15, 18, 16, 16, 19, 16, 14, 13, 15, 15, 18, 16, 16, 17, 17, 18, 18, 19, 17, 17, 16, 17, 18, 19, 14, 19, 19, 18, 15, 18, 17, 14, 15, 13, 20, 14, 17, 16, 14, 17, 17, 17, 17, 16, 15, 17, 19, 20, 15, 17, 19, 18, 14, 14, 15, 15, 16, 17, 14, 18, 13, 12, 17, 15, 17, 17, 16, 19, 17, 17, 15, 18, 17, 15, 15, 14, 18, 14, 12, 17, 18, 16, 15, 17, 19, 16, 17, 20, 20, 18, 15, 17, 17, 17, 14, 16, 19, 17, 17, 17, 12, 19, 15, 19, 17, 19, 15, 18, 17, 13, 18, 18, 15, 19, 16, 18, 18, 17, 18, 13, 18, 15, 13, 17, 14, 15, 14, 14, 15, 17, 15, 19, 16, 16, 19, 17, 13, 17, 11, 15, 20, 16, 18, 15, 15, 17, 18, 18, 15, 18, 16, 17, 20, 15, 18, 13, 16, 17, 19, 19, 13, 16, 16, 13, 17, 16, 16, 16, 19, 16, 15, 14, 16, 17, 18, 17, 15, 19, 19, 17, 18, 13, 18, 19, 16, 15, 11, 20, 16, 19, 13, 17, 13, 17, 17, 17, 17, 13, 15, 11, 18, 20, 18, 15, 14, 15, 15, 18, 19, 14, 17, 19, 18, 19, 19, 17, 19, 17, 17, 16, 19, 18, 17, 15, 16, 19, 17, 19, 19, 16, 17, 19, 19, 18, 17, 16, 18, 17, 17, 20, 14, 17, 17, 17, 15, 17, 18, 19, 16, 17, 16, 12, 17, 17, 19, 17, 17, 16, 15, 11, 16, 18, 18, 17, 18, 15, 13, 20, 16, 19, 12, 18, 20, 18, 17, 17, 18, 18, 20, 17, 15, 19, 19, 16, 17, 16, 17, 18, 18, 17, 19, 19, 19, 17, 15, 14, 18, 16, 17, 16, 16, 18, 20, 18, 19, 17, 12, 16, 15, 18, 15, 20, 11, 15, 20, 16, 14, 19, 17, 19, 19, 18, 18, 17, 18, 19, 15, 16, 16, 20, 20, 17, 15, 18, 17, 12, 19, 14, 11, 13, 20, 18, 13, 13, 18, 16, 14, 15, 15, 16, 18, 17, 19, 19, 17, 20, 19, 14, 20, 18, 19, 18, 13, 15, 16, 18, 16, 19, 18, 18, 12, 16, 16, 16, 17, 17, 16, 18, 17, 21, 19, 16, 19, 20, 18, 17, 20, 17, 17, 16, 19, 18, 15, 19, 18, 16, 18, 18, 19, 13, 15, 19, 20, 15, 20, 20, 20, 17, 18, 12, 14, 16, 17, 18, 8, 15, 18, 18, 18, 18, 19, 15, 18, 17, 20, 17, 16, 16, 20, 15, 18, 20, 18, 16, 18, 19, 20, 15, 17, 20, 18, 16, 19, 19, 14, 13, 17, 19, 19, 19, 18, 18, 17, 16, 16, 17, 19, 15, 20, 18, 18, 19, 16, 19, 19, 18, 16, 17, 17, 17, 18, 19, 16, 17, 19, 17, 19, 18, 17, 19, 15, 16, 15, 17, 19, 20, 19, 21, 18, 17, 17, 17, 15, 16, 21, 20, 15, 16, 17, 16, 16, 18, 20, 16, 12, 17, 17, 16, 19, 18, 18, 16, 15, 19, 18, 21, 17, 16, 19, 20, 15, 18, 18, 17, 21, 18, 18, 18, 18, 18, 20, 15, 17, 18, 16, 16, 20, 20, 19, 16, 15, 18, 21, 18, 18, 17, 18, 16, 20, 16, 18, 18, 13, 19, 20, 20, 17, 17, 19, 18, 17, 20, 16, 17, 19, 16, 11, 17, 17, 20, 19, 13, 20, 15, 17, 18, 18, 15, 19, 17, 14, 20, 13, 19, 16, 20, 16, 19, 11, 17, 20, 20, 18, 20, 20, 18, 16, 18, 19, 18, 17, 19, 17, 20, 17, 14, 15, 18, 20, 18, 16, 15, 19, 16, 16, 16, 19, 17, 15, 16, 16, 13, 20, 15, 18, 15, 20, 17, 15, 18, 19, 20, 17, 15, 19, 20, 15, 17, 19, 16, 19, 19, 17, 15, 17, 17, 18, 15, 15, 21, 16, 17, 16, 14, 11, 16, 15, 16, 17, 15, 17, 18, 20, 17, 18, 17, 16, 16, 19, 16, 18, 19, 20, 17, 18, 20, 16, 18, 17, 15, 14, 18, 17, 11, 20, 14, 20, 19, 19, 19, 15, 19, 21, 20, 17, 15, 17, 17, 18, 19, 15, 17, 17, 20, 19, 20, 16, 13, 16, 17, 20, 20, 18, 16, 15, 12, 19, 16, 15, 19, 17, 18, 17, 17, 21, 17, 15, 16, 18, 18, 20, 14, 15, 19, 18, 21, 14, 17, 18, 20, 19, 12, 19, 20, 11, 14, 17, 20, 14, 19, 19, 14, 17, 18, 19, 19, 19, 14, 18, 18, 19, 13, 18, 15, 16, 20, 18, 18, 15, 20, 17, 18, 19, 20, 14, 17, 19, 17, 15, 16, 18, 20, 19, 18, 12, 20, 19, 19, 20, 18, 18, 15, 20, 10, 20, 19, 18, 20, 18, 17, 16, 19, 19, 14, 16, 15, 18, 13, 17, 20, 12, 18, 10, 16, 20, 20, 15, 16, 19, 15, 15, 21, 19, 18, 15, 17, 15, 21, 15, 17, 14, 18, 19, 18, 16, 17, 18, 20, 18, 19, 18, 18, 18, 17, 18, 17, 18, 15, 17, 18, 19, 20, 21, 19, 20, 17, 16, 18, 18, 20, 20, 18, 20, 21, 16, 17, 18, 17, 16, 16, 18, 18, 18, 14, 19, 15, 20, 20, 16, 21, 18, 18, 16, 18, 16, 16, 17, 13, 16, 20, 14, 19, 18, 17, 20, 18, 19, 19, 19, 16, 16, 18, 17, 16, 18, 18, 17, 17, 18, 17, 16, 19, 18, 15, 20, 16, 17, 14, 20, 17, 18, 15, 16, 20, 17, 20, 21, 19, 18, 18, 11, 18, 17, 15, 14, 21, 20, 16, 17, 17, 17, 21, 16, 15, 19, 18, 16, 18, 15, 20, 15, 16, 16, 19, 18, 16, 19, 14, 17, 18, 19, 20, 20, 19, 19, 17, 20, 21, 20, 19, 20, 18, 15, 21, 18, 21, 19, 15, 17, 17, 17, 16, 19, 17, 21, 17, 18, 18, 19, 14, 18, 20, 20, 17, 18, 20, 18, 19, 20, 16, 19, 20, 17, 19, 18, 15, 17, 19, 19, 17, 18, 19, 21, 20, 21, 18, 17, 18, 18, 19, 20, 19, 18, 19, 19, 19, 19, 21, 21, 17, 21, 21, 18, 18, 20, 18, 19, 17, 19, 21, 17, 15, 19, 15, 19, 16, 16, 18, 20, 17, 18, 20, 21, 15, 19, 19, 20, 22, 15, 17, 18, 17, 21, 17, 19, 18, 21, 16, 18, 18, 17, 16, 21, 19, 16, 20, 18, 18, 14, 18, 19, 16, 17, 20, 17, 18, 20, 21, 17, 20, 18, 19, 17, 19, 18, 17, 17, 16, 19, 20, 19, 20, 17, 18, 17, 21, 16, 22, 17, 19, 16, 20, 19, 16, 19, 15, 22, 20, 21, 21, 18, 16, 18, 15, 17, 21, 19, 21, 17, 18, 18, 14, 20, 22, 21, 18, 18, 17, 18, 19, 18, 21, 17, 20, 21, 17, 20, 18, 21, 16, 18, 21, 17, 18, 16, 17, 19, 15, 17, 15, 19, 18, 20, 20, 20, 20, 19, 18, 19, 15, 21, 17, 18, 20, 19, 19, 22, 20, 22, 17, 20, 16, 20, 19, 21, 20, 22, 21, 21, 16, 17, 20, 19, 17, 17, 20, 18, 20, 17, 20, 17, 17, 20, 20, 20, 19, 16, 18, 18, 19, 18, 18, 17, 16, 17, 16, 18, 18, 22, 16, 18, 21, 19, 21, 16, 17, 18, 15, 18, 16, 18, 16, 17, 13, 18, 19, 21, 17, 20, 20, 22, 20, 18, 17, 20, 21, 18, 22, 19, 16, 16, 19, 18, 20, 20, 18, 18, 17, 21, 16, 18, 19, 18, 19, 20, 17, 22, 20, 20, 20, 18, 17, 20, 11, 13, 16, 21, 20, 20, 19, 18, 18, 18, 19, 14, 20, 18, 18, 16, 20, 20, 20, 19, 22, 20, 18, 19, 16, 17, 17, 20, 16, 19, 17, 22, 17, 19, 17, 17, 21, 19, 18, 14, 21, 22, 21, 21, 20, 18, 17, 19, 19, 21, 20, 22, 18, 19, 17, 17, 20, 20, 22, 20, 19, 21, 20, 19, 19, 19, 17, 18, 18, 15, 19, 19, 17, 20, 20, 21, 22, 17, 21, 21, 16, 18, 17, 18, 18, 20, 22, 21, 21, 19, 17, 21, 22, 17, 17, 20, 16, 18, 14, 18, 18, 17, 20, 19, 18, 18, 19, 18, 20, 22, 22, 17, 19, 18, 19, 21, 20, 16, 20, 19, 22, 20, 21, 18, 22, 19, 19, 21, 18, 21, 21, 20, 18, 20, 18, 21, 21, 18, 17, 18, 16, 20, 21, 22, 21, 19, 21, 22, 21, 17, 17, 22, 16, 18, 19, 21, 19, 20, 21, 22, 17, 21, 19, 18, 17, 12, 19, 18, 21, 21, 18, 20, 15, 22, 16, 19, 10, 20, 22, 19, 20, 19, 21, 18, 16, 17, 17, 20, 18, 16, 21, 19, 20, 19, 21, 20, 21, 19, 19, 19, 18, 19, 21, 19, 20, 22, 18, 20, 19, 20, 21, 18, 17, 21, 21, 20, 17, 20, 21, 18, 21, 18, 20, 20, 21, 17, 22, 22, 22, 19, 17, 20, 20, 21, 19, 18, 18, 19, 21, 22, 20, 20, 17, 21, 19, 19, 15, 19, 20, 19, 21, 20, 20, 18, 19, 18, 20, 19, 20, 20, 20, 17, 21, 18, 13, 21, 19, 21, 18, 19, 18, 20, 20, 19, 19, 19, 21, 20, 20, 20, 21, 17, 18, 18, 21, 12, 16, 20, 19, 22, 21, 20, 18, 19, 22, 20, 20, 15, 18, 19, 18, 19, 17, 20, 21, 20, 17, 16, 20, 18, 18, 19, 15, 18, 21, 16, 18, 19, 17, 19, 19, 16, 19, 22, 20, 20, 21, 17, 22, 22, 20, 20, 22, 17, 21, 22, 19, 19, 19, 19, 19, 22, 21, 21, 21, 21, 17, 18, 22, 17, 21, 17, 20, 19, 19, 18, 21, 19, 15, 19, 20, 20, 22, 20, 22, 21, 20, 21, 15, 13, 20, 13, 20, 20, 21, 19, 19, 13, 17, 21, 19, 22, 20, 20, 17, 22, 21, 19, 20, 21, 21, 21, 21, 18, 21, 22, 20, 21, 21, 19, 21, 22, 20, 19, 20, 17, 22, 19, 16, 18, 21, 20, 19, 21, 21, 20, 21, 21, 18, 21, 19, 22, 22, 21, 22, 21, 22, 19, 20, 20, 19, 19, 19, 22, 20, 19, 22, 13, 22, 22, 20, 21, 20, 20, 17, 21, 16, 20, 20, 19, 21, 21, 21, 16, 20, 20, 21, 21, 19, 22, 20, 21, 21, 21, 21, 13, 18, 22, 20, 20, 18, 22, 20, 21, 20, 21, 20, 16, 19, 17, 21, 18, 18, 20, 21, 22, 20, 20, 22, 20, 21, 18, 21, 20, 20, 17, 21, 23, 18, 22, 19, 22, 14, 21, 21, 19, 21, 19, 17, 22, 23, 20, 22, 22, 18, 14, 22, 19, 19, 20, 21, 23, 19, 19, 19, 16, 21, 21, 19, 19, 20, 23, 19, 22, 19, 21, 20, 21, 19, 22, 14, 22, 21, 21, 21, 22, 18, 21, 21, 22, 23, 21, 17, 22, 22, 21, 20, 20, 19, 21, 22, 19, 21, 22, 20, 22, 22, 19, 21, 23, 21, 19, 20, 21, 13, 20, 22, 17, 21, 20, 21, 18, 22, 22, 22, 21, 22, 20, 22, 21, 22, 19, 19, 19, 20, 21, 22, 20, 20, 21, 22, 22, 21, 22, 22, 22, 21, 21, 22, 22, 18, 22, 20, 20, 19, 21, 21, 18, 19, 22, 22, 22, 18, 18, 20, 21, 18, 22, 20, 18, 20, 23, 21, 20, 21, 20, 21, 21, 22, 20, 21, 22, 21, 22, 21, 20, 23, 22, 20, 23, 20, 19, 22, 22, 22, 22, 19, 20, 16, 21, 19, 22, 23, 20, 19, 19, 19, 23, 17, 21, 21, 23, 22, 20, 20, 23, 22, 23, 19, 22, 21, 22, 19, 21, 20, 23, 18, 19, 19, 23, 22, 21, 20, 21, 22, 22, 18, 22, 17, 19, 18, 20, 21, 21, 13, 22, 19, 21, 22, 23, 21, 20, 19, 21, 18, 21, 21, 22, 23, 23, 19, 23, 23, 23, 22, 23, 22, 21, 20, 22, 18, 19, 20, 23, 22, 20, 19, 21, 22, 22, 22, 21, 21, 21, 20, 20, 22, 22, 21, 19, 21, 20, 20, 20, 21, 18, 20, 22, 23, 22, 22, 22, 16, 17, 22, 22, 23, 21, 22, 21, 22, 21, 23, 21, 21, 21, 19, 19, 22, 22, 22, 21, 21, 23, 23, 22, 22, 19, 20, 23, 20, 20, 23, 21, 19, 21, 19, 22, 19, 23, 22, 18, 23, 19, 23, 19, 23, 22, 19, 23, 23, 22, 19, 21, 20, 20, 23, 23, 23, 21, 22, 21, 21, 23, 21, 23, 22, 21, 19, 14, 22, 21, 23, 22, 18, 23, 20, 23, 23, 23, 21, 19, 23, 23, 22, 21, 21, 23, 23, 21, 22, 17, 23, 21, 20, 22, 23, 22, 22, 16, 23, 22, 21, 21, 22, 23, 20, 22, 22, 21, 23, 24, 17, 23, 20, 23, 23, 22, 23, 20, 19, 21, 19, 21, 19, 23, 23, 20, 23, 19, 23, 23, 23, 21, 19, 23, 20, 21, 23, 23, 23, 22, 22, 21, 22, 23, 21, 19, 20, 23, 22, 23, 20, 21, 23, 23, 15, 22, 23, 23, 22, 23, 23, 21, 23, 21, 20, 21, 19, 21, 21, 19, 23, 21, 23, 23, 23, 20, 22, 21, 21, 20, 21, 21, 22, 21, 23, 24, 23, 23, 23, 23, 21, 20, 20, 21, 22, 16, 20, 22, 22, 20, 22, 23, 16, 22, 21, 24, 19, 23, 24, 23, 22, 23, 21, 19, 20, 20, 20, 22, 24, 22, 23, 21, 23, 23, 22, 23, 22, 22, 21, 19, 16, 24, 23, 21, 24, 20, 21, 22, 16, 24, 23, 24, 21, 20, 20, 21, 22, 21, 23, 21, 24, 21, 16, 24, 24, 24, 22, 23, 16, 19, 14, 21, 23, 19, 16, 24, 23, 24, 22, 17, 23, 23, 21, 21, 21, 21, 22, 22, 22, 22, 22, 24, 23, 22, 23, 23, 22, 21, 23, 23, 21, 19, 19, 22, 22, 22, 22, 23, 24, 24, 22, 22, 22, 22, 22, 22, 22, 21, 22, 21, 22, 22, 24, 23, 19, 20, 23, 24, 20, 24, 22, 24, 23, 22, 24, 24, 24, 23, 23, 23, 23, 24, 20, 24, 22, 23, 23, 24, 24, 24, 23, 24, 24, 22, 24, 22, 24, 19, 23, 23, 22, 23, 23, 24, 20, 21, 20, 22, 24, 21, 22, 20, 20, 24, 24, 22, 23, 23, 24, 24, 24, 24, 22, 21, 24, 19, 24, 21, 22, 24, 24, 24, 24, 23, 24, 23, 21, 24, 20, 21, 23, 21, 21, 23, 21, 24, 23, 21, 23, 23, 20, 24, 20, 23, 24, 20, 21, 24, 24, 18, 21, 22, 22, 20, 22, 21, 21, 19, 15, 18, 21, 24, 24, 24, 22, 24, 20, 21, 24, 23, 18, 22, 22, 24, 18, 22, 22, 15, 20, 23, 23, 23, 19, 21, 23, 21, 21, 23, 23, 25, 19, 23, 22, 24, 22, 21, 24, 22, 23, 23, 19, 24, 24, 25, 22, 21, 23, 24, 18, 23, 23, 23, 23, 25, 23, 22, 24, 23, 22, 24, 21, 19, 22, 24, 24, 25, 23, 22, 22, 23, 23, 25, 23, 25, 23, 25, 25, 21, 24, 23, 23, 24, 25, 22, 22, 25, 25, 23, 18, 23, 25, 24, 24, 24, 25, 25, 23, 25, 24, 25, 25, 23, 25, 25, 25, 22, 24, 25, 25, 25, 25, 25, 22, 25, 25, 25, 25, 20, 21, 23, 23, 21, 18, 21, 21, 23, 25, 25, 24, 24, 23, 25, 25, 25, 23, 23, 25, 25, 24, 19, 22, 19, 25, 22, 22, 24, 25, 24, 23, 18, 23, 23, 24, 24, 24, 24, 24, 24, 24, 24, 22, 24, 22, 21, 21, 23, 21, 24, 23, 23, 24, 24, 24, 25, 25, 25, 25, 25, 26, 25, 24, 26, 26, 22, 26, 26, 25, 25, 25, 25, 23, 26, 22, 26, 23, 26, 26, 26, 18, 18, 26, 23, 23, 26, 26, 25, 25, 25, 25, 27, 27, 27, 27, 27, 27, 27, 27, 27, 27, 27, 27, 27, 27, 27, 27, 27, 27, 27, 27, 27, 27, 27, 27, 27, 27, 27, 27, 27, 27, 27, 27, 27, 27, 27, 27, 27, 27, 27, 27, 27, 27, 27, 27, 27, 27, 27, 27, 27, 27, 27, 27, 27, 27, 27, 27, 27, 27, 27, 27, 27, 27, 27, 27, 27, 27, 27, 27, 27, 27, 27, 27, 27, 27, 27, 27, 27, 27, 27, 27, 27, 27, 27, 27, 27, 27, 27, 27, 27, 27, 27, 27, 27, 27, 27, 27, 27, 27, 27, 27, 27, 27, 27, 27, 27, 27, 27, 27, 27, 27, 27, 27, 27, 27, 27, 27, 27, 27, 27, 27, 27, 27, 27, 27, 27, 27, 27, 27, 27, 27, 27, 27, 27, 27, 27, 27, 27, 27, 27, 27, 27, 27, 27, 27, 27, 27, 27, 27, 27, 27, 27, 27, 27, 27, 27, 27, 27, 27, 27, 27, 27, 27, 27, 27, 27, 27, 27, 27, 27, 27, 27, 27, 27, 27, 27, 27, 27, 27, 27, 27, 27, 27, 27, 27, 27, 27, 27, 27, 27, 27, 27, 27, 27, 27, 27, 27, 27, 27, 27, 27, 27, 27, 27, 27, 27, 27, 27, 27, 27, 27, 27, 27, 27, 27, 27, 27, 27, 27, 27, 27, 27, 27, 27, 27, 27, 27, 27, 27, 27, 27, 27, 27, 27, 27, 27, 27, 27, 27, 27, 27, 27, 27, 27, 27, 27, 27, 27, 27, 27, 27, 27, 27, 27, 27, 27, 27, 27, 27, 27, 27, 27, 27, 27, 27, 27, 27, 27, 27, 27, 27, 27, 27, 27, 27, 27, 27, 27, 27, 27, 27, 27, 27, 27, 27, 27, 27, 27, 27, 27, 27, 27, 27, 27, 27, 27, 27, 27, 27, 27, 27, 27, 27, 27, 27, 27, 27, 27, 27, 27, 27, 27, 27, 27, 27, 27, 27, 27, 27, 27, 27, 27, 27, 27, 27, 27, 27, 27, 27, 27, 27, 27, 27, 27, 27, 27, 27, 27, 27, 27, 27, 27, 27, 27, 27, 27, 27, 27, 27, 27, 27, 27, 27, 27, 27, 27, 27, 27, 27, 27, 27, 27, 27, 27, 27, 27, 27, 27, 27, 27, 27, 27, 27, 27, 27, 27, 27, 27, 27, 27, 27, 27, 27, 27, 27, 27, 27, 27, 27, 27, 27, 27, 27, 27, 27, 27, 27, 27, 27, 27, 27, 27, 27, 27, 27, 27, 27, 27, 27, 27, 27, 27, 27, 27, 27, 27, 27, 27, 27, 27, 27, 27, 27, 27, 27, 27, 27, 27, 27, 27, 27, 27, 27, 27, 27, 27, 27, 27, 27, 27, 27, 27, 27, 27, 27, 27, 27, 27, 27, 27, 27, 27, 27, 27, 27, 27, 27, 27, 27, 27, 27, 27, 27, 27, 27, 27, 27, 27, 27, 27, 27, 27, 27, 27, 27, 27, 27, 27, 27, 27, 27, 27, 27, 27, 27, 27, 27, 27, 27, 27, 27, 27, 27, 27, 27, 27, 27, 27, 27, 27, 27, 27, 27, 27, 27, 27, 27, 27, 27, 27, 27, 27, 27, 27, 27, 27, 27, 27, 27, 27, 27, 27, 27, 27, 27, 27, 27, 27, 27, 27, 27, 27, 27, 27, 27, 27, 27, 27, 27, 27, 27, 27, 27, 27, 27, 27, 27, 27, 27, 27, 27, 27, 27, 27, 27, 27, 27, 27, 27, 27, 27, 27, 27, 27, 27, 27, 27, 27, 27, 27, 27, 27, 27, 27, 27, 27, 27, 27, 27, 27, 27, 27, 27, 27, 27, 27, 27, 27, 27, 27, 27, 27, 27, 27, 27, 27, 27, 27, 27, 27, 27, 27, 27, 27, 27, 27, 27, 27, 27, 27, 27, 27, 27, 27, 27, 27, 27, 27, 27, 27, 27, 27, 27, 27, 27, 27, 27, 27, 27, 27, 27, 27, 27, 27, 27, 27, 27, 27, 27, 27, 27, 27, 27, 27, 27, 27, 27, 27, 27, 27, 27, 27, 27, 27, 27, 27, 27, 27, 27, 27, 27, 27, 27, 27, 27, 27, 27, 27, 27, 27, 27, 27, 27, 27, 27, 27, 27, 27, 27, 27, 27, 27, 27, 27, 27, 27, 27, 27, 27, 27, 27, 27, 27, 27, 27, 27, 27, 27, 27, 27, 27, 27, 27, 27, 27, 27, 27, 27, 27, 27, 27, 27, 27, 27, 27, 27, 27, 27, 27, 27, 27, 27, 27, 27, 27, 27, 27, 27, 27, 27, 27, 27, 27, 27, 27, 27, 27, 27, 27, 27, 27, 27, 27, 27, 27, 27, 27, 27, 27, 27, 27, 27, 27, 27, 27, 27, 27, 27, 27, 27, 27, 27, 27, 27, 27, 27, 27, 27, 27, 27, 27, 27, 27, 27, 27, 27, 27, 27, 27, 27, 27, 27, 27, 27, 27, 27, 27, 27, 27, 27, 27, 27, 27, 27, 27, 27, 27, 27, 27, 27, 27, 27, 27, 27, 27, 27, 27, 27, 27, 27, 27, 27, 27, 27, 27, 27, 27, 27, 27, 27, 27, 27, 27, 27, 27, 27, 27, 27, 27, 27, 27, 27, 27, 27, 27, 27, 27, 27, 27, 27, 27, 27, 27, 27, 27, 27, 27, 27, 27, 27, 27, 27, 27, 27, 27, 27, 27, 27, 27, 27, 27, 27, 27, 27, 27, 27, 27, 27, 27, 27, 27, 27, 27, 27, 27, 27, 27, 27, 27, 27, 27, 27, 27, 27, 27, 27, 27, 27, 27, 27, 27, 27, 27, 27, 27, 27, 27, 27, 27, 27, 27, 27, 27, 27, 27, 27, 27, 27, 27, 27, 27, 27, 27, 27, 27, 27, 27, 27, 27, 27, 27, 27, 27, 27, 27, 27, 27, 27, 27, 27, 27, 27, 27, 27, 27, 27, 27, 27, 27, 27, 27, 27, 27, 27, 27, 27, 27, 27, 27, 27, 27, 27, 27, 27, 27, 27]\n"
     ]
    }
   ],
   "source": [
    "print(gt_counts[sorted_indices].tolist()[::-1])"
   ]
  },
  {
   "cell_type": "code",
   "execution_count": 14,
   "id": "corrected-compromise",
   "metadata": {},
   "outputs": [
    {
     "data": {
      "text/plain": [
       "[[15, 23, 25, 45, 25, 15, 23, 20, 21, 53, 11, 40, 7, 50, 25, 9], [14]]"
      ]
     },
     "execution_count": 14,
     "metadata": {},
     "output_type": "execute_result"
    }
   ],
   "source": [
    "game_data['test_tokens'][14]"
   ]
  },
  {
   "cell_type": "code",
   "execution_count": 15,
   "id": "natural-handy",
   "metadata": {},
   "outputs": [
    {
     "data": {
      "text/plain": [
       "[3, 26, 21, 17, 1, 10, 12, 19, 23, 25, 5, 16, 14, 9, 22, 15, 8, 11, 13]"
      ]
     },
     "execution_count": 15,
     "metadata": {},
     "output_type": "execute_result"
    }
   ],
   "source": [
    "game_data['test_gt_idxs'][14]"
   ]
  },
  {
   "cell_type": "code",
   "execution_count": 16,
   "id": "together-asset",
   "metadata": {},
   "outputs": [
    {
     "data": {
      "text/plain": [
       "[-2.080264091491699,\n",
       " 0.29093053936958313,\n",
       " 0.2153846025466919,\n",
       " -0.4430549740791321,\n",
       " -0.09034355729818344,\n",
       " -0.05442430078983307,\n",
       " -0.6107345223426819,\n",
       " -0.33194267749786377,\n",
       " -0.2593475580215454,\n",
       " -0.10058750212192535,\n",
       " 0.5195503830909729,\n",
       " 0.564998209476471,\n",
       " 0.5232954025268555,\n",
       " 0.6094567775726318,\n",
       " 0.5704142451286316,\n",
       " 0.22345790266990662,\n",
       " 0.34621936082839966,\n",
       " 0.3562418222427368,\n",
       " -0.6060630679130554,\n",
       " -0.44554081559181213,\n",
       " -0.2342332899570465,\n",
       " 0.3406435549259186,\n",
       " 0.5267335772514343,\n",
       " 0.1536782830953598,\n",
       " -0.09928359091281891,\n",
       " 0.015578017570078373,\n",
       " -0.08015768229961395]"
      ]
     },
     "execution_count": 16,
     "metadata": {},
     "output_type": "execute_result"
    }
   ],
   "source": [
    "full_logits[14]"
   ]
  },
  {
   "cell_type": "code",
   "execution_count": 17,
   "id": "soviet-productivity",
   "metadata": {},
   "outputs": [
    {
     "data": {
      "text/plain": [
       "array([2755, 3790, 3653, ..., 4675, 3637, 4728])"
      ]
     },
     "execution_count": 17,
     "metadata": {},
     "output_type": "execute_result"
    }
   ],
   "source": [
    "sorted_indices"
   ]
  },
  {
   "cell_type": "code",
   "execution_count": 21,
   "id": "minor-blackberry",
   "metadata": {},
   "outputs": [
    {
     "data": {
      "text/plain": [
       "(array([7., 1., 4., 4., 0., 1., 5., 2., 1., 2.]),\n",
       " array([1.69509700e-16, 2.03544668e-01, 4.07089336e-01, 6.10634004e-01,\n",
       "        8.14178672e-01, 1.01772334e+00, 1.22126801e+00, 1.42481268e+00,\n",
       "        1.62835734e+00, 1.83190201e+00, 2.03544668e+00]),\n",
       " <BarContainer object of 10 artists>)"
      ]
     },
     "execution_count": 21,
     "metadata": {},
     "output_type": "execute_result"
    },
    {
     "data": {
      "image/png": "[encoded data removed]",
      "text/plain": [
       "<Figure size 432x288 with 1 Axes>"
      ]
     },
     "metadata": {
      "needs_background": "light"
     },
     "output_type": "display_data"
    }
   ],
   "source": [
    "plt.hist(np.exp(full_logits[1207]))"
   ]
  },
  {
   "cell_type": "code",
   "execution_count": 19,
   "id": "posted-limitation",
   "metadata": {},
   "outputs": [
    {
     "data": {
      "text/plain": [
       "4.519450717327795"
      ]
     },
     "execution_count": 19,
     "metadata": {},
     "output_type": "execute_result"
    }
   ],
   "source": [
    "np.mean(entropy(full_probs))"
   ]
  },
  {
   "cell_type": "code",
   "execution_count": 22,
   "id": "impressive-brunswick",
   "metadata": {},
   "outputs": [
    {
     "data": {
      "text/plain": [
       "(array([7., 1., 5., 3., 0., 2., 4., 2., 1., 2.]),\n",
       " array([1.        , 1.00970334, 1.01940667, 1.02911001, 1.03881334,\n",
       "        1.04851668, 1.05822002, 1.06792335, 1.07762669, 1.08733002,\n",
       "        1.09703336]),\n",
       " <BarContainer object of 10 artists>)"
      ]
     },
     "execution_count": 22,
     "metadata": {},
     "output_type": "execute_result"
    },
    {
     "data": {
      "image/png": "[encoded data removed]",
      "text/plain": [
       "<Figure size 432x288 with 1 Axes>"
      ]
     },
     "metadata": {
      "needs_background": "light"
     },
     "output_type": "display_data"
    }
   ],
   "source": [
    "plt.hist(np.exp(full_probs[1207]))"
   ]
  },
  {
   "cell_type": "code",
   "execution_count": 38,
   "id": "complete-gazette",
   "metadata": {},
   "outputs": [
    {
     "data": {
      "text/plain": [
       "(array([2., 1., 4., 7., 4., 4., 1., 0., 1., 3.]),\n",
       " array([1.0002423 , 1.00849439, 1.01674647, 1.02499855, 1.03325064,\n",
       "        1.04150272, 1.04975481, 1.05800689, 1.06625898, 1.07451106,\n",
       "        1.08276314]),\n",
       " <BarContainer object of 10 artists>)"
      ]
     },
     "execution_count": 38,
     "metadata": {},
     "output_type": "execute_result"
    },
    {
     "data": {
      "image/png": "[encoded data removed]",
      "text/plain": [
       "<Figure size 432x288 with 1 Axes>"
      ]
     },
     "metadata": {
      "needs_background": "light"
     },
     "output_type": "display_data"
    }
   ],
   "source": [
    "plt.hist(np.exp(full_probs[373]))"
   ]
  },
  {
   "cell_type": "code",
   "execution_count": 39,
   "id": "negative-malta",
   "metadata": {},
   "outputs": [
    {
     "data": {
      "text/plain": [
       "(array([6., 1., 1., 5., 5., 3., 2., 2., 1., 1.]),\n",
       " array([1.        , 1.00949663, 1.01899326, 1.02848989, 1.03798652,\n",
       "        1.04748315, 1.05697978, 1.06647641, 1.07597304, 1.08546967,\n",
       "        1.0949663 ]),\n",
       " <BarContainer object of 10 artists>)"
      ]
     },
     "execution_count": 39,
     "metadata": {},
     "output_type": "execute_result"
    },
    {
     "data": {
      "image/png": "[encoded data removed]",
      "text/plain": [
       "<Figure size 432x288 with 1 Axes>"
      ]
     },
     "metadata": {
      "needs_background": "light"
     },
     "output_type": "display_data"
    }
   ],
   "source": [
    "plt.hist(np.exp(full_probs[3834]))"
   ]
  },
  {
   "cell_type": "code",
   "execution_count": 40,
   "id": "looking-metabolism",
   "metadata": {},
   "outputs": [
    {
     "data": {
      "text/plain": [
       "<BarContainer object of 28 artists>"
      ]
     },
     "execution_count": 40,
     "metadata": {},
     "output_type": "execute_result"
    },
    {
     "data": {
      "image/png": "[encoded data removed]",
      "text/plain": [
       "<Figure size 1440x720 with 1 Axes>"
      ]
     },
     "metadata": {
      "needs_background": "light"
     },
     "output_type": "display_data"
    }
   ],
   "source": [
    "gt_idxs_373 = sorted(game_data['test_gt_idxs'][373])\n",
    "not_gt_idxs_373 = [i for i in range(27) if not i in gt_idxs_373]\n",
    "\n",
    "plt.figure(figsize=(20,10))\n",
    "plt.ylim(0.0, 0.1)\n",
    "\n",
    "plt.axhline(y=1./gt_counts[373], color='r', linestyle='-')\n",
    "\n",
    "plt.bar(\n",
    "    [str(idx) for idx in gt_idxs_373] + [' '] + [str(idx) for idx in not_gt_idxs_373],  \n",
    "    list(full_probs[373][gt_idxs_373]) + [0] + list(full_probs[373][not_gt_idxs_373]),\n",
    "    color='k'\n",
    ")\n"
   ]
  },
  {
   "cell_type": "code",
   "execution_count": 41,
   "id": "worth-british",
   "metadata": {},
   "outputs": [
    {
     "data": {
      "text/plain": [
       "4.53865487702955"
      ]
     },
     "execution_count": 41,
     "metadata": {},
     "output_type": "execute_result"
    }
   ],
   "source": [
    "np.mean(entropy(full_probs[373]))"
   ]
  },
  {
   "cell_type": "code",
   "execution_count": 43,
   "id": "bigger-lingerie",
   "metadata": {},
   "outputs": [
    {
     "data": {
      "text/plain": [
       "4.519450717327795"
      ]
     },
     "execution_count": 43,
     "metadata": {},
     "output_type": "execute_result"
    }
   ],
   "source": [
    "np.mean(entropy(full_probs))"
   ]
  },
  {
   "cell_type": "code",
   "execution_count": 42,
   "id": "humanitarian-notice",
   "metadata": {},
   "outputs": [
    {
     "data": {
      "text/plain": [
       "4.412351996987931"
      ]
     },
     "execution_count": 42,
     "metadata": {},
     "output_type": "execute_result"
    }
   ],
   "source": [
    "full_probs_10_20 = np.array(full_probs)[(gt_counts > 10) & (gt_counts <20)]\n",
    "np.mean(entropy(full_probs_10_20))"
   ]
  },
  {
   "cell_type": "markdown",
   "id": "legal-consideration",
   "metadata": {},
   "source": [
    "## Embedding Analysis"
   ]
  },
  {
   "cell_type": "code",
   "execution_count": 23,
   "id": "every-slave",
   "metadata": {},
   "outputs": [
    {
     "name": "stdout",
     "output_type": "stream",
     "text": [
      "The autoreload extension is already loaded. To reload it, use:\n",
      "  %reload_ext autoreload\n"
     ]
    }
   ],
   "source": [
    "%load_ext autoreload\n",
    "%autoreload 2\n",
    "\n",
    "from dataset import BatchFetcher\n",
    "from metrics import find_nn, analogy, find_cos, find_dotproduct, find_euclidean\n",
    "from dataraw_sampling import construct_card_idx_lookup\n",
    "\n",
    "import matplotlib.pyplot as plt"
   ]
  },
  {
   "cell_type": "code",
   "execution_count": 24,
   "id": "statewide-constitution",
   "metadata": {},
   "outputs": [
    {
     "name": "stdout",
     "output_type": "stream",
     "text": [
      "---------data----------\n",
      "num_attributes : 3\n",
      "num_attr_vals : 3\n",
      "key_support_size : 27\n",
      "N_pairs : 8\n",
      "union_only : True\n",
      "max_len_q : 16\n",
      "len_k : 1\n",
      "train_gt_idxs length : 0\n",
      "val_gt_idxs length : 5120\n",
      "test_gt_idxs length : 5120\n",
      "train_tokens length : 0\n",
      "val_tokens length : 5120\n",
      "test_tokens length : 5120\n",
      "test_marginal_gt_idxs length : 5120\n",
      "test_marginal_tokens length : 5120\n",
      "vocab_size : 74\n",
      "symbol_vocab_token_lookup : {'(': 64, ')': 65, 'NULL': 66, 'SEP': 67, 'SOS': 68, 'EOS': 69, 'PAD': 70, 'PLH': 71, '|': 72, '!': 73}\n",
      "vocab_by_property : False\n",
      "-----------------------\n"
     ]
    }
   ],
   "source": [
    "cuda_device = trainmodule.model._parameters['key_bias_terms'].device\n",
    "\n",
    "game_data = main.load_data(args.data_path)\n",
    "batch_fecther = BatchFetcher(\n",
    "    raw_data = game_data, device=cuda_device)"
   ]
  },
  {
   "cell_type": "code",
   "execution_count": 25,
   "id": "minimal-haiti",
   "metadata": {},
   "outputs": [],
   "source": [
    "queries = [[(0,1,3),(0,0,0)], [(0,1,3),(1,2,0)]]\n",
    "keys = [[(0,0,0)],[(0,1,0)],[(2,2,2)]]\n",
    "X_query, X_key = batch_fecther.make_query_batch(X_query_properties=queries, X_key_properties=None, X_key=[i for i in range(game_data['key_support_size'])])\n",
    "query_repr, key_repr = trainmodule.pull_repr(X_query, X_key)"
   ]
  },
  {
   "cell_type": "code",
   "execution_count": 26,
   "id": "center-assurance",
   "metadata": {
    "scrolled": true
   },
   "outputs": [
    {
     "data": {
      "text/plain": [
       "tensor([[-37.6966, -11.6309,  -6.1988,  -2.9474,  18.1132, -22.4798, -28.8472,\n",
       "          -3.1040],\n",
       "        [-29.2678, -12.5350, -10.7631, -15.5289,   9.0517, -18.3066, -30.1077,\n",
       "          -2.4896]], device='cuda:1')"
      ]
     },
     "execution_count": 26,
     "metadata": {},
     "output_type": "execute_result"
    }
   ],
   "source": [
    "query_repr"
   ]
  },
  {
   "cell_type": "code",
   "execution_count": 27,
   "id": "automotive-burst",
   "metadata": {
    "scrolled": true
   },
   "outputs": [
    {
     "data": {
      "text/plain": [
       "tensor([[ 0.3862,  0.0319,  0.0900,  0.0623,  0.1654, -0.1698, -0.0566, -0.6228],\n",
       "        [ 0.2171,  0.5084,  0.1036,  0.4894,  0.5357,  0.2323,  0.4717,  0.1002],\n",
       "        [ 0.0577,  0.3236,  0.2981,  0.1431,  0.0998,  0.2144, -0.1167,  0.0343],\n",
       "        [ 0.2916, -0.0169, -0.0023,  0.0645,  0.0890, -0.3260, -0.1080,  0.1024],\n",
       "        [ 0.2190, -0.0589, -0.0882,  0.0623,  0.0952, -0.2781, -0.0409,  0.2071],\n",
       "        [ 0.1562,  0.1206,  0.1276,  0.0644,  0.0167, -0.0805, -0.2650,  0.2138],\n",
       "        [ 0.0720,  0.0483,  0.0310,  0.0022, -0.0676, -0.3226,  0.0877, -0.1061],\n",
       "        [ 0.0216,  0.0137, -0.0440,  0.0044, -0.0584, -0.3047,  0.1541, -0.0187],\n",
       "        [-0.0082,  0.1583,  0.1591,  0.0050, -0.1091, -0.1419, -0.0586,  0.0074],\n",
       "        [ 0.0036, -0.1478,  0.0653, -0.0784,  0.0880,  0.1174,  0.1292, -0.3124],\n",
       "        [-0.0961, -0.1793, -0.0961, -0.0467,  0.1002,  0.1814,  0.2161, -0.0810],\n",
       "        [-0.1155, -0.0114,  0.2324, -0.0759,  0.0246,  0.2862, -0.0062, -0.0944],\n",
       "        [ 0.0561, -0.1859,  0.0992, -0.0864,  0.0781, -0.0413,  0.0963, -0.0149],\n",
       "        [ 0.0320, -0.2360,  0.0036, -0.0794,  0.1165, -0.0374,  0.1473,  0.0507],\n",
       "        [-0.0017, -0.0393,  0.2140, -0.0628,  0.0350,  0.1079, -0.0897,  0.0769],\n",
       "        [-0.1015, -0.1248,  0.1406, -0.1377, -0.0571, -0.1124,  0.2718, -0.2102],\n",
       "        [-0.1287, -0.1674,  0.0586, -0.1342, -0.0256, -0.1069,  0.3245, -0.1507],\n",
       "        [-0.1430, -0.0089,  0.2601, -0.1231, -0.0831,  0.0199,  0.1076, -0.1166],\n",
       "        [-0.0166,  0.0565, -0.3654,  0.1331,  0.0418,  0.2808, -0.0977, -0.0347],\n",
       "        [-0.0569,  0.0110, -0.4455,  0.1319,  0.0565,  0.2969, -0.0300,  0.0174],\n",
       "        [-0.0590,  0.1548, -0.1212,  0.1006, -0.0115,  0.3381, -0.2304,  0.0626],\n",
       "        [ 0.6956, -0.0317,  0.1798, -0.1293, -0.6776,  0.3709,  0.1668,  0.0966],\n",
       "        [ 0.2315,  0.3943, -0.1213, -0.8046,  0.5573,  0.1029,  0.1884,  0.0837],\n",
       "        [ 0.0327,  0.1505,  0.0932,  0.0436, -0.0036,  0.1691, -0.2823,  0.1559],\n",
       "        [-0.0223,  0.0466, -0.0381, -0.0142, -0.1522, -0.0025,  0.1051, -0.0840],\n",
       "        [-0.0735,  0.0554, -0.0825, -0.0988, -0.0147, -0.0355,  0.1514, -0.0847],\n",
       "        [-0.0833,  0.1630,  0.0886,  0.0022, -0.1017,  0.0743, -0.0971, -0.0044]],\n",
       "       device='cuda:1')"
      ]
     },
     "execution_count": 27,
     "metadata": {},
     "output_type": "execute_result"
    }
   ],
   "source": [
    "# Do the linear analogy for keys first\n",
    "key_repr"
   ]
  },
  {
   "cell_type": "code",
   "execution_count": 28,
   "id": "earlier-sleep",
   "metadata": {},
   "outputs": [],
   "source": [
    "key_repr_normalized = key_repr / torch.linalg.norm(key_repr, ord=2, dim=-1).view(-1,1)"
   ]
  },
  {
   "cell_type": "code",
   "execution_count": 34,
   "id": "acting-agenda",
   "metadata": {
    "scrolled": true
   },
   "outputs": [
    {
     "name": "stdout",
     "output_type": "stream",
     "text": [
      "torch.Size([8])\n",
      "torch.Size([8])\n",
      "torch.Size([8])\n",
      "torch.Size([8])\n",
      "torch.Size([8])\n",
      "torch.Size([8])\n",
      "torch.Size([8])\n",
      "torch.Size([8])\n",
      "torch.Size([8])\n",
      "torch.Size([8])\n",
      "torch.Size([8])\n",
      "torch.Size([8])\n",
      "torch.Size([8])\n",
      "torch.Size([8])\n",
      "torch.Size([8])\n",
      "torch.Size([8])\n",
      "torch.Size([8])\n",
      "torch.Size([8])\n",
      "torch.Size([8])\n",
      "torch.Size([8])\n",
      "torch.Size([8])\n",
      "torch.Size([8])\n",
      "torch.Size([8])\n",
      "torch.Size([8])\n",
      "torch.Size([8])\n",
      "torch.Size([8])\n",
      "torch.Size([8])\n"
     ]
    },
    {
     "data": {
      "text/plain": [
       "(array([ 27.,  27.,  27.,  54.,   0.,   0.,   0.,  54.,  27.,  54.,   0.,\n",
       "          0., 108.,  54.,  81.,  27.,   0.,   0.,  27.,  27.,  27.,   0.,\n",
       "          0.,   0.,  27.,   0.,   0.,   0.,   0.,  27.,   0.,   0.,   0.,\n",
       "         27.,   0.,   0.,   0.,   0.,   0.,   0.,   0.,   0.,   0.,   0.,\n",
       "          0.,   0.,   0.,   0.,   0.,  27.]),\n",
       " array([-0.29185107, -0.26601405, -0.24017703, -0.21434   , -0.18850298,\n",
       "        -0.16266595, -0.13682893, -0.11099191, -0.08515488, -0.05931786,\n",
       "        -0.03348083, -0.00764381,  0.01819321,  0.04403024,  0.06986726,\n",
       "         0.09570428,  0.12154131,  0.14737833,  0.17321536,  0.19905238,\n",
       "         0.2248894 ,  0.25072643,  0.27656345,  0.30240048,  0.3282375 ,\n",
       "         0.35407452,  0.37991155,  0.40574857,  0.43158559,  0.45742262,\n",
       "         0.48325964,  0.50909667,  0.53493369,  0.56077071,  0.58660774,\n",
       "         0.61244476,  0.63828179,  0.66411881,  0.68995583,  0.71579286,\n",
       "         0.74162988,  0.7674669 ,  0.79330393,  0.81914095,  0.84497798,\n",
       "         0.870815  ,  0.89665202,  0.92248905,  0.94832607,  0.9741631 ,\n",
       "         1.00000012]),\n",
       " <BarContainer object of 50 artists>)"
      ]
     },
     "execution_count": 34,
     "metadata": {},
     "output_type": "execute_result"
    },
    {
     "data": {
      "image/png": "[encoded data removed]",
      "text/plain": [
       "<Figure size 432x288 with 1 Axes>"
      ]
     },
     "metadata": {
      "needs_background": "light"
     },
     "output_type": "display_data"
    }
   ],
   "source": [
    "distances = []\n",
    "\n",
    "for i in range(27):\n",
    "    nn_idx, nn_dists = find_nn(v=key_repr_normalized[0], Wv=key_repr_normalized, similarity_fn=find_dotproduct, k=27)\n",
    "    distances += nn_dists.tolist()\n",
    "    \n",
    "import matplotlib.pyplot as plt\n",
    "import numpy as np\n",
    "plt.hist(distances, bins=50)"
   ]
  },
  {
   "cell_type": "code",
   "execution_count": 36,
   "id": "covered-grammar",
   "metadata": {},
   "outputs": [
    {
     "data": {
      "text/plain": [
       "(0.0739803069943918, 0.07852805930155295, 57.2469552308321)"
      ]
     },
     "execution_count": 36,
     "metadata": {},
     "output_type": "execute_result"
    }
   ],
   "source": [
    "np.var(distances), np.mean(distances), np.sum(distances)"
   ]
  },
  {
   "cell_type": "code",
   "execution_count": 29,
   "id": "constitutional-viking",
   "metadata": {},
   "outputs": [],
   "source": [
    "card2idx_lookup, idx2card_lookup = construct_card_idx_lookup(game_data['num_attributes'], game_data['num_attr_vals'])\n",
    "\n",
    "def linear_analogy_by_props(propertiesA, propertiesB, propertiesC, card2idx_lookup, idx2card_lookup):\n",
    "    keyidxA = card2idx_lookup[propertiesA]\n",
    "    keyidxB = card2idx_lookup[propertiesB]\n",
    "    keyidxC = card2idx_lookup[propertiesC]\n",
    "\n",
    "    print(keyidxA, keyidxB, keyidxC)\n",
    "\n",
    "    vA = key_repr[keyidxA]\n",
    "    vB = key_repr[keyidxB]\n",
    "    vC = key_repr[keyidxC]\n",
    "\n",
    "    nns_idx, nns_distances = analogy(vA, vB, vC, key_repr, similarity_fn=find_cos, k=None)\n",
    "    nns_properties = [idx2card_lookup[idx.item()] for idx in nns_idx]\n",
    "    print(nns_idx, nns_distances)\n",
    "    print(nns_properties)"
   ]
  },
  {
   "cell_type": "code",
   "execution_count": 17,
   "id": "underlying-bench",
   "metadata": {},
   "outputs": [
    {
     "name": "stdout",
     "output_type": "stream",
     "text": [
      "25 24 13\n",
      "torch.Size([16])\n",
      "tensor([13, 12, 14, 16, 23,  5,  9, 21,  0, 22,  1, 18,  2,  4, 15, 26, 20,  8,\n",
      "         3, 24, 10,  6, 11, 19, 17,  7, 25], device='cuda:1') tensor([ 0.6625,  0.4359,  0.3446,  0.3238,  0.2579,  0.1624,  0.1402,  0.0975,\n",
      "         0.0765,  0.0410,  0.0308,  0.0256,  0.0198,  0.0019, -0.0131, -0.0144,\n",
      "        -0.0170, -0.0299, -0.0357, -0.0589, -0.0685, -0.0906, -0.1622, -0.1782,\n",
      "        -0.3266, -0.3419, -0.7537], device='cuda:1')\n",
      "[(1, 1, 1), (1, 1, 0), (1, 1, 2), (1, 2, 1), (2, 1, 2), (0, 1, 2), (1, 0, 0), (2, 1, 0), (0, 0, 0), (2, 1, 1), (0, 0, 1), (2, 0, 0), (0, 0, 2), (0, 1, 1), (1, 2, 0), (2, 2, 2), (2, 0, 2), (0, 2, 2), (0, 1, 0), (2, 2, 0), (1, 0, 1), (0, 2, 0), (1, 0, 2), (2, 0, 1), (1, 2, 2), (0, 2, 1), (2, 2, 1)]\n"
     ]
    }
   ],
   "source": [
    "# vec 16\n",
    "linear_analogy_by_props(\n",
    "    propertiesA = (2,2,1), \n",
    "    propertiesB = (2,2,0), \n",
    "    propertiesC = (1,1,1), \n",
    "    card2idx_lookup=card2idx_lookup, \n",
    "    idx2card_lookup=idx2card_lookup)"
   ]
  },
  {
   "cell_type": "code",
   "execution_count": 18,
   "id": "ultimate-polyester",
   "metadata": {},
   "outputs": [
    {
     "name": "stdout",
     "output_type": "stream",
     "text": [
      "7 25 8\n",
      "torch.Size([16])\n",
      "tensor([ 8,  2, 25, 26, 11, 17, 19, 20, 23, 24,  1,  7, 15, 10, 22,  0,  6,  5,\n",
      "         9, 14,  3, 18,  4, 12, 13, 16, 21], device='cuda:1') tensor([ 0.7596,  0.6634,  0.5691,  0.2043,  0.1940,  0.1902,  0.1802,  0.1696,\n",
      "         0.1669,  0.1637,  0.1636,  0.1083,  0.0911,  0.0883,  0.0881,  0.0621,\n",
      "         0.0537,  0.0247,  0.0077, -0.0104, -0.0909, -0.0942, -0.0956, -0.1043,\n",
      "        -0.1195, -0.1235, -0.1400], device='cuda:1')\n",
      "[(0, 2, 2), (0, 0, 2), (2, 2, 1), (2, 2, 2), (1, 0, 2), (1, 2, 2), (2, 0, 1), (2, 0, 2), (2, 1, 2), (2, 2, 0), (0, 0, 1), (0, 2, 1), (1, 2, 0), (1, 0, 1), (2, 1, 1), (0, 0, 0), (0, 2, 0), (0, 1, 2), (1, 0, 0), (1, 1, 2), (0, 1, 0), (2, 0, 0), (0, 1, 1), (1, 1, 0), (1, 1, 1), (1, 2, 1), (2, 1, 0)]\n"
     ]
    }
   ],
   "source": [
    "# vec 16\n",
    "linear_analogy_by_props(\n",
    "    propertiesA = (0,2,1), \n",
    "    propertiesB = (2,2,1), \n",
    "    propertiesC = (0,2,2), \n",
    "    card2idx_lookup=card2idx_lookup, \n",
    "    idx2card_lookup=idx2card_lookup)"
   ]
  },
  {
   "cell_type": "code",
   "execution_count": 19,
   "id": "latest-economy",
   "metadata": {},
   "outputs": [
    {
     "name": "stdout",
     "output_type": "stream",
     "text": [
      "7 19 26\n",
      "torch.Size([16])\n",
      "tensor([26, 24, 15, 23, 14, 25, 19, 22, 10, 13, 17, 12,  8, 20,  5,  6,  9,  2,\n",
      "         1, 11,  7, 16, 18,  4,  0,  3, 21], device='cuda:1') tensor([ 0.9753,  0.8072,  0.2070,  0.1994,  0.1990,  0.1950,  0.1725,  0.1418,\n",
      "         0.1245,  0.1155,  0.1090,  0.0992,  0.0880,  0.0651,  0.0485,  0.0293,\n",
      "         0.0229,  0.0038, -0.0039, -0.0489, -0.0514, -0.0604, -0.0615, -0.0621,\n",
      "        -0.0839, -0.1860, -0.2537], device='cuda:1')\n",
      "[(2, 2, 2), (2, 2, 0), (1, 2, 0), (2, 1, 2), (1, 1, 2), (2, 2, 1), (2, 0, 1), (2, 1, 1), (1, 0, 1), (1, 1, 1), (1, 2, 2), (1, 1, 0), (0, 2, 2), (2, 0, 2), (0, 1, 2), (0, 2, 0), (1, 0, 0), (0, 0, 2), (0, 0, 1), (1, 0, 2), (0, 2, 1), (1, 2, 1), (2, 0, 0), (0, 1, 1), (0, 0, 0), (0, 1, 0), (2, 1, 0)]\n"
     ]
    }
   ],
   "source": [
    "# vec 16\n",
    "linear_analogy_by_props(\n",
    "    propertiesA = (0,2,1), \n",
    "    propertiesB = (2,0,1), \n",
    "    propertiesC = (2,2,2), \n",
    "    card2idx_lookup=card2idx_lookup, \n",
    "    idx2card_lookup=idx2card_lookup)"
   ]
  },
  {
   "cell_type": "code",
   "execution_count": 22,
   "id": "natural-belle",
   "metadata": {},
   "outputs": [
    {
     "name": "stdout",
     "output_type": "stream",
     "text": [
      "25 25 24\n",
      "torch.Size([16])\n",
      "tensor([24, 26, 15,  6, 25, 14, 12, 17, 13, 23,  1, 19, 22, 10,  9,  7,  8,  5,\n",
      "        18,  4, 16, 20,  2,  0, 21,  3, 11], device='cuda:1') tensor([ 1.0000e+00,  8.0590e-01,  7.1588e-01,  3.3758e-01,  2.6389e-01,\n",
      "         1.4120e-01,  1.2782e-01,  7.0533e-02,  5.3902e-02,  5.0637e-02,\n",
      "         4.9744e-02,  4.2136e-02,  3.9595e-02,  2.7262e-02,  8.0941e-04,\n",
      "        -9.2919e-05, -1.8811e-02, -3.5239e-02, -4.4427e-02, -6.1315e-02,\n",
      "        -6.8744e-02, -8.2491e-02, -8.9917e-02, -9.1402e-02, -1.1744e-01,\n",
      "        -1.7063e-01, -1.8255e-01], device='cuda:1')\n",
      "[(2, 2, 0), (2, 2, 2), (1, 2, 0), (0, 2, 0), (2, 2, 1), (1, 1, 2), (1, 1, 0), (1, 2, 2), (1, 1, 1), (2, 1, 2), (0, 0, 1), (2, 0, 1), (2, 1, 1), (1, 0, 1), (1, 0, 0), (0, 2, 1), (0, 2, 2), (0, 1, 2), (2, 0, 0), (0, 1, 1), (1, 2, 1), (2, 0, 2), (0, 0, 2), (0, 0, 0), (2, 1, 0), (0, 1, 0), (1, 0, 2)]\n"
     ]
    }
   ],
   "source": [
    "# vec 16\n",
    "linear_analogy_by_props(\n",
    "    propertiesA = (2,2,1), \n",
    "    propertiesB = (2,2,1), \n",
    "    propertiesC = (2,2,0), \n",
    "    card2idx_lookup=card2idx_lookup, \n",
    "    idx2card_lookup=idx2card_lookup)"
   ]
  },
  {
   "cell_type": "code",
   "execution_count": 23,
   "id": "separated-sucking",
   "metadata": {},
   "outputs": [
    {
     "name": "stdout",
     "output_type": "stream",
     "text": [
      "7 19 8\n",
      "torch.Size([16])\n",
      "tensor([ 8,  2, 20, 23, 11, 19,  5,  0, 10,  1,  9, 26, 22, 14, 12, 24, 17, 18,\n",
      "        15,  6,  4,  3, 21, 25, 13,  7, 16], device='cuda:1') tensor([ 0.9787,  0.8681,  0.2565,  0.2357,  0.2029,  0.1656,  0.1350,  0.1323,\n",
      "         0.1244,  0.1075,  0.1044,  0.0708,  0.0520,  0.0360,  0.0177, -0.0134,\n",
      "        -0.0149, -0.0178, -0.0231, -0.0232, -0.0708, -0.0786, -0.0800, -0.1057,\n",
      "        -0.1314, -0.1510, -0.2267], device='cuda:1')\n",
      "[(0, 2, 2), (0, 0, 2), (2, 0, 2), (2, 1, 2), (1, 0, 2), (2, 0, 1), (0, 1, 2), (0, 0, 0), (1, 0, 1), (0, 0, 1), (1, 0, 0), (2, 2, 2), (2, 1, 1), (1, 1, 2), (1, 1, 0), (2, 2, 0), (1, 2, 2), (2, 0, 0), (1, 2, 0), (0, 2, 0), (0, 1, 1), (0, 1, 0), (2, 1, 0), (2, 2, 1), (1, 1, 1), (0, 2, 1), (1, 2, 1)]\n"
     ]
    }
   ],
   "source": [
    "# vec 16\n",
    "linear_analogy_by_props(\n",
    "    propertiesA = (0,2,1), \n",
    "    propertiesB = (2,0,1), \n",
    "    propertiesC = (0,2,2), \n",
    "    card2idx_lookup=card2idx_lookup, \n",
    "    idx2card_lookup=idx2card_lookup)"
   ]
  },
  {
   "cell_type": "code",
   "execution_count": 24,
   "id": "threatened-friendly",
   "metadata": {},
   "outputs": [
    {
     "name": "stdout",
     "output_type": "stream",
     "text": [
      "10 19 17\n",
      "torch.Size([16])\n",
      "tensor([17, 25,  1,  6,  3, 14, 22, 11,  0, 15, 24, 26, 21,  2,  8,  7,  4, 13,\n",
      "        16,  9, 12, 18, 23,  5, 19, 20, 10], device='cuda:1') tensor([ 0.7326,  0.2305,  0.2158,  0.1826,  0.1689,  0.1486,  0.1200,  0.0872,\n",
      "         0.0645,  0.0563,  0.0404,  0.0294, -0.0498, -0.0510, -0.0714, -0.0722,\n",
      "        -0.0835, -0.0843, -0.1142, -0.1253, -0.1441, -0.1522, -0.1546, -0.1856,\n",
      "        -0.1955, -0.2414, -0.6082], device='cuda:1')\n",
      "[(1, 2, 2), (2, 2, 1), (0, 0, 1), (0, 2, 0), (0, 1, 0), (1, 1, 2), (2, 1, 1), (1, 0, 2), (0, 0, 0), (1, 2, 0), (2, 2, 0), (2, 2, 2), (2, 1, 0), (0, 0, 2), (0, 2, 2), (0, 2, 1), (0, 1, 1), (1, 1, 1), (1, 2, 1), (1, 0, 0), (1, 1, 0), (2, 0, 0), (2, 1, 2), (0, 1, 2), (2, 0, 1), (2, 0, 2), (1, 0, 1)]\n"
     ]
    }
   ],
   "source": [
    "# vec 16\n",
    "linear_analogy_by_props(\n",
    "    propertiesA = (1,0,1), \n",
    "    propertiesB = (2,0,1), \n",
    "    propertiesC = (1,2,2), \n",
    "    card2idx_lookup=card2idx_lookup, \n",
    "    idx2card_lookup=idx2card_lookup)"
   ]
  },
  {
   "cell_type": "code",
   "execution_count": null,
   "id": "bigger-coordinate",
   "metadata": {},
   "outputs": [],
   "source": []
  }
 ],
 "metadata": {
  "kernelspec": {
   "display_name": "Python 3",
   "language": "python",
   "name": "python3"
  },
  "language_info": {
   "codemirror_mode": {
    "name": "ipython",
    "version": 3
   },
   "file_extension": ".py",
   "mimetype": "text/x-python",
   "name": "python",
   "nbconvert_exporter": "python",
   "pygments_lexer": "ipython3",
   "version": "3.8.3"
  }
 },
 "nbformat": 4,
 "nbformat_minor": 5
}

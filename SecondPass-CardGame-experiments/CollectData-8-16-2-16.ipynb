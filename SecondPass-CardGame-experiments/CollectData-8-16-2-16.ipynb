{
 "cells": [
  {
   "cell_type": "code",
   "execution_count": 1,
   "id": "unexpected-discussion",
   "metadata": {},
   "outputs": [],
   "source": [
    "%load_ext autoreload\n",
    "%autoreload 2\n",
    "\n",
    "import numpy as np\n",
    "import json\n",
    "import itertools\n",
    "from dataraw_sampling import sample_dataset\n",
    "from util_distribution import derive_game_setup_stats"
   ]
  },
  {
   "cell_type": "code",
   "execution_count": 2,
   "id": "strong-field",
   "metadata": {},
   "outputs": [
    {
     "name": "stdout",
     "output_type": "stream",
     "text": [
      "(8, 16)\n",
      "(32, 64, 128)\n"
     ]
    }
   ],
   "source": [
    "# a = (2**1, 2**2, 2**3, 2**4)\n",
    "# b = (2**1, 2**2, 2**3, 2**4)\n",
    "# a = (2**3, 2**4)\n",
    "# b = (2**1, 2**2, 2**3, 2**4)\n",
    "\n",
    "a = (2**3, 2**4)\n",
    "b = (2**5, 2**6, 2**7)\n",
    "\n",
    "print(a)\n",
    "print(b)"
   ]
  },
  {
   "cell_type": "code",
   "execution_count": null,
   "id": "agricultural-married",
   "metadata": {
    "scrolled": true
   },
   "outputs": [
    {
     "name": "stderr",
     "output_type": "stream",
     "text": [
      "  0%|          | 39/8392704 [00:00<6:05:24, 382.80it/s]"
     ]
    },
    {
     "name": "stdout",
     "output_type": "stream",
     "text": [
      "-------------------------------------------------------\n",
      "num_attrs= 8 num_attr_vals= 32\n",
      "sparsity= 0.007785849210288302\n"
     ]
    },
    {
     "name": "stderr",
     "output_type": "stream",
     "text": [
      "100%|██████████| 8392704/8392704 [4:58:52<00:00, 468.02it/s]  \n"
     ]
    },
    {
     "name": "stdout",
     "output_type": "stream",
     "text": [
      "Sparsity Estimate: 0.00778222285852898\n",
      "--- 17932.27012681961 seconds ---\n"
     ]
    },
    {
     "name": "stderr",
     "output_type": "stream",
     "text": [
      "  0%|          | 7/8392704 [00:00<34:36:17, 67.37it/s]"
     ]
    },
    {
     "name": "stdout",
     "output_type": "stream",
     "text": [
      "-------------------------------------------------------\n",
      "num_attrs= 8 num_attr_vals= 64\n",
      "sparsity= 0.0019514568846080258\n"
     ]
    },
    {
     "name": "stderr",
     "output_type": "stream",
     "text": [
      "100%|██████████| 8392704/8392704 [21:22:46<00:00, 109.04it/s]    \n"
     ]
    },
    {
     "name": "stdout",
     "output_type": "stream",
     "text": [
      "Sparsity Estimate: 0.0019513011039361868\n",
      "--- 76966.81214261055 seconds ---\n"
     ]
    },
    {
     "name": "stderr",
     "output_type": "stream",
     "text": [
      "  0%|          | 2/8392704 [00:00<143:13:27, 16.28it/s]"
     ]
    },
    {
     "name": "stdout",
     "output_type": "stream",
     "text": [
      "-------------------------------------------------------\n",
      "num_attrs= 8 num_attr_vals= 128\n",
      "sparsity= 0.0004881769546036105\n"
     ]
    },
    {
     "name": "stderr",
     "output_type": "stream",
     "text": [
      "100%|██████████| 8392704/8392704 [79:40:44<00:00, 29.26it/s]    \n"
     ]
    },
    {
     "name": "stdout",
     "output_type": "stream",
     "text": [
      "Sparsity Estimate: 0.000488267523263854\n",
      "--- 286844.8336060047 seconds ---\n"
     ]
    },
    {
     "name": "stderr",
     "output_type": "stream",
     "text": [
      "  0%|          | 62/8392704 [00:00<3:47:03, 616.03it/s]"
     ]
    },
    {
     "name": "stdout",
     "output_type": "stream",
     "text": [
      "-------------------------------------------------------\n",
      "num_attrs= 16 num_attr_vals= 32\n",
      "sparsity= 0.015511078971265305\n"
     ]
    },
    {
     "name": "stderr",
     "output_type": "stream",
     "text": [
      "100%|██████████| 8392704/8392704 [3:25:10<00:00, 681.75it/s]  \n"
     ]
    },
    {
     "name": "stdout",
     "output_type": "stream",
     "text": [
      "Sparsity Estimate: 0.01552397545695184\n",
      "--- 12310.577424049377 seconds ---\n"
     ]
    },
    {
     "name": "stderr",
     "output_type": "stream",
     "text": [
      "  0%|          | 17/8392704 [00:00<16:55:34, 137.73it/s]"
     ]
    },
    {
     "name": "stdout",
     "output_type": "stream",
     "text": [
      "-------------------------------------------------------\n",
      "num_attrs= 16 num_attr_vals= 64\n",
      "sparsity= 0.003899105585237329\n"
     ]
    },
    {
     "name": "stderr",
     "output_type": "stream",
     "text": [
      "100%|██████████| 8392704/8392704 [13:41:40<00:00, 170.24it/s]  \n"
     ]
    },
    {
     "name": "stdout",
     "output_type": "stream",
     "text": [
      "Sparsity Estimate: 0.003899642987615344\n",
      "--- 49300.39845085144 seconds ---\n"
     ]
    },
    {
     "name": "stderr",
     "output_type": "stream",
     "text": [
      "  0%|          | 7/8392704 [00:00<48:00:04, 48.57it/s]"
     ]
    },
    {
     "name": "stdout",
     "output_type": "stream",
     "text": [
      "-------------------------------------------------------\n",
      "num_attrs= 16 num_attr_vals= 128\n",
      "sparsity= 0.0009761155924681889\n"
     ]
    },
    {
     "name": "stderr",
     "output_type": "stream",
     "text": [
      " 44%|████▎     | 3661203/8392704 [29:18:05<32:50:29, 40.02it/s]  "
     ]
    }
   ],
   "source": [
    "N_train = 2**23\n",
    "N_val = 2**12\n",
    "\n",
    "for num_attrs in a:\n",
    "    for num_attr_vals in b:\n",
    "        print('-------------------------------------------------------')\n",
    "        print('num_attrs=',num_attrs, 'num_attr_vals=',num_attr_vals)\n",
    "        sparsity = derive_game_setup_stats(num_attrs, num_attr_vals)['sparsity']\n",
    "        print('sparsity=', sparsity)\n",
    "        data = sample_dataset(num_attrs, num_attr_vals, N_train, N_val)\n",
    "        with open('../Raw_Datasets/{}Attr-{}Vals-2hat{}Train-2hat{}Val.json'.format(\n",
    "            num_attrs, num_attr_vals, int(np.log2(N_train)), int(np.log2(N_val))), 'w') as f:\n",
    "            json.dump(data, f)"
   ]
  },
  {
   "cell_type": "code",
   "execution_count": null,
   "id": "external-drill",
   "metadata": {
    "scrolled": true
   },
   "outputs": [],
   "source": [
    "N_train = 2**23\n",
    "N_val = 2**12\n",
    "\n",
    "for num_attrs in a:\n",
    "    for num_attr_vals in b:\n",
    "        print('-------------------------------------------------------')\n",
    "        print('num_attrs=',num_attrs, 'num_attr_vals=',num_attr_vals)\n",
    "        sparsity = derive_game_setup_stats(num_attrs, num_attr_vals)['sparsity']\n",
    "        print('sparsity=', sparsity)\n",
    "        data = sample_dataset(num_attrs, num_attr_vals, N_train, N_val)\n",
    "        with open('../Raw_Datasets/{}Attr-{}Vals-2hat{}Train-2hat{}Val.json'.format(\n",
    "            num_attrs, num_attr_vals, int(np.log2(N_train)), int(np.log2(N_val))), 'w') as f:\n",
    "            json.dump(data, f)     "
   ]
  },
  {
   "cell_type": "code",
   "execution_count": null,
   "id": "stretch-prophet",
   "metadata": {},
   "outputs": [],
   "source": [
    "a = (2**1, 2**2, 2**3, 2**4)\n",
    "b = (2**5, 2**6)\n",
    "print(a)\n",
    "print(b)"
   ]
  },
  {
   "cell_type": "code",
   "execution_count": 16,
   "id": "sought-fetish",
   "metadata": {},
   "outputs": [
    {
     "data": {
      "text/plain": [
       "[((2, 2), 0.4, 4),\n",
       " ((2, 4), 0.14706, 16),\n",
       " ((4, 2), 0.64706, 16),\n",
       " ((2, 8), 0.04231, 64),\n",
       " ((2, 16), 0.01119, 256),\n",
       " ((4, 4), 0.22787, 256),\n",
       " ((8, 2), 0.8964, 256),\n",
       " ((4, 8), 0.06118, 4096),\n",
       " ((4, 16), 0.01555, 65536),\n",
       " ((8, 4), 0.40328, 65536),\n",
       " ((16, 2), 0.98996, 65536),\n",
       " ((8, 8), 0.11837, 16777216),\n",
       " ((8, 16), 0.03083, 4294967296),\n",
       " ((16, 4), 0.64393, 4294967296),\n",
       " ((16, 8), 0.22273, 281474976710656),\n",
       " ((16, 16), 0.0607, 18446744073709551616)]"
      ]
     },
     "execution_count": 16,
     "metadata": {},
     "output_type": "execute_result"
    }
   ],
   "source": [
    "a = (2**1, 2**2, 2**3, 2**4)\n",
    "b = (2**1, 2**2, 2**3, 2**4)\n",
    "l = list(itertools.product(a, b))\n",
    "sorted([((i,j), round(derive_game_setup_stats(i, j)['sparsity'], 5),j**i) for i,j in l], key=lambda x:x[2])"
   ]
  },
  {
   "cell_type": "code",
   "execution_count": 17,
   "id": "negative-reflection",
   "metadata": {
    "scrolled": false
   },
   "outputs": [
    {
     "data": {
      "text/plain": [
       "[((2, 32), 0.00287, 1024),\n",
       " ((2, 64), 0.00072, 4096),\n",
       " ((4, 32), 0.0039, 1048576),\n",
       " ((4, 64), 0.00098, 16777216),\n",
       " ((8, 32), 0.00779, 1099511627776),\n",
       " ((8, 64), 0.00195, 281474976710656),\n",
       " ((16, 32), 0.01551, 1208925819614629174706176),\n",
       " ((16, 64), 0.0039, 79228162514264337593543950336)]"
      ]
     },
     "execution_count": 17,
     "metadata": {},
     "output_type": "execute_result"
    }
   ],
   "source": [
    "a = (2**1, 2**2, 2**3, 2**4)\n",
    "b = (2**5, 2**6)\n",
    "l = list(itertools.product(a, b))\n",
    "sorted([((i,j), round(derive_game_setup_stats(i, j)['sparsity'], 5),j**i) for i,j in l], key=lambda x:x[2])"
   ]
  },
  {
   "cell_type": "code",
   "execution_count": null,
   "id": "automated-expense",
   "metadata": {},
   "outputs": [],
   "source": []
  }
 ],
 "metadata": {
  "kernelspec": {
   "display_name": "Python 3",
   "language": "python",
   "name": "python3"
  },
  "language_info": {
   "codemirror_mode": {
    "name": "ipython",
    "version": 3
   },
   "file_extension": ".py",
   "mimetype": "text/x-python",
   "name": "python",
   "nbconvert_exporter": "python",
   "pygments_lexer": "ipython3",
   "version": "3.8.3"
  }
 },
 "nbformat": 4,
 "nbformat_minor": 5
}

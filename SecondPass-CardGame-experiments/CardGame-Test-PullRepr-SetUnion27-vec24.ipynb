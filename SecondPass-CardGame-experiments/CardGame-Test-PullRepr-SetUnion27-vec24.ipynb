{
 "cells": [
  {
   "cell_type": "code",
   "execution_count": 1,
   "id": "general-tribe",
   "metadata": {
    "scrolled": false
   },
   "outputs": [
    {
     "name": "stdout",
     "output_type": "stream",
     "text": [
      "__Python VERSION: 3.8.3 (default, May 19 2020, 18:47:26) \n",
      "[GCC 7.3.0]\n",
      "__pyTorch VERSION: 1.7.0\n",
      "__CUDA VERSION\n",
      "/usr/bin/sh: 1: nvcc: not found\n",
      "__CUDNN VERSION: 8003\n",
      "__Number CUDA Devices: 2\n",
      "__Devices\n",
      "Active CUDA Device: GPU 0\n",
      "Available devices  2\n",
      "Current cuda device  0\n"
     ]
    }
   ],
   "source": [
    "# https://discuss.pytorch.org/t/i-have-3-gpu-why-torch-cuda-device-count-only-return-1/7245/4\n",
    "import torch\n",
    "import sys\n",
    "print('__Python VERSION:', sys.version)\n",
    "print('__pyTorch VERSION:', torch.__version__)\n",
    "print('__CUDA VERSION')\n",
    "from subprocess import call\n",
    "# call([\"nvcc\", \"--version\"]) does not work\n",
    "! nvcc --version\n",
    "print('__CUDNN VERSION:', torch.backends.cudnn.version())\n",
    "print('__Number CUDA Devices:', torch.cuda.device_count())\n",
    "print('__Devices')\n",
    "call([\"nvidia-smi\", \"--format=csv\", \"--query-gpu=index,name,driver_version,memory.total,memory.used,memory.free\"])\n",
    "print('Active CUDA Device: GPU', torch.cuda.current_device())\n",
    "\n",
    "print ('Available devices ', torch.cuda.device_count())\n",
    "print ('Current cuda device ', torch.cuda.current_device())"
   ]
  },
  {
   "cell_type": "code",
   "execution_count": 2,
   "id": "solar-suggestion",
   "metadata": {},
   "outputs": [],
   "source": [
    "%load_ext autoreload\n",
    "%autoreload 2\n",
    "\n",
    "import os\n",
    "import json\n",
    "import main\n",
    "from tqdm import tqdm\n",
    "import numpy as np\n",
    "from argparse import ArgumentDefaultsHelpFormatter, ArgumentParser\n",
    "import matplotlib.pyplot as plt"
   ]
  },
  {
   "cell_type": "code",
   "execution_count": 3,
   "id": "handmade-joining",
   "metadata": {},
   "outputs": [],
   "source": [
    "# arguments\n",
    "parser = ArgumentParser(formatter_class=ArgumentDefaultsHelpFormatter)\n",
    "args = parser.parse_args('')\n",
    "\n",
    "args.project_name = 'ContrastiveLearning-SET-Wildcard-Expand-Union-27'\n",
    "args.data_path = '../Raw_Datasets/SET/WildCardSETidxUnion-3Attr-3Vals-8Pairs-0Train-5120Val-5120Test.json'\n",
    "args.mode = 'test'\n",
    "args.resume_checkpoint_dir = 'checkpoints/ContrastiveLearning-SET-Wildcard-Expand-Union-27/20210331-140130-Con;Vec24;L8H8Lk4Hk2;scheduledAdamW36000;16882.36Kparams_runId_uzykt0nh'\n",
    "args.ckpt_name = 'last.ckpt'\n",
    "args.runID = 'uzykt0nh'\n",
    "args.gpu = 1\n",
    "args.approve_before_training = False\n",
    "args.aml = False\n",
    "args.dataset_name = None"
   ]
  },
  {
   "cell_type": "code",
   "execution_count": 4,
   "id": "particular-remedy",
   "metadata": {
    "scrolled": true
   },
   "outputs": [
    {
     "name": "stderr",
     "output_type": "stream",
     "text": [
      "Global seed set to 42\n"
     ]
    },
    {
     "name": "stdout",
     "output_type": "stream",
     "text": [
      "---------data----------\n",
      "num_attributes : 3\n",
      "num_attr_vals : 3\n",
      "key_support_size : 27\n",
      "N_pairs : 8\n",
      "union_only : True\n",
      "max_len_q : 16\n",
      "len_k : 1\n",
      "train_gt_idxs length : 0\n",
      "val_gt_idxs length : 5120\n",
      "test_gt_idxs length : 5120\n",
      "train_tokens length : 0\n",
      "val_tokens length : 5120\n",
      "test_tokens length : 5120\n",
      "test_marginal_gt_idxs length : 5120\n",
      "test_marginal_tokens length : 5120\n",
      "vocab_size : 74\n",
      "symbol_vocab_token_lookup : {'(': 64, ')': 65, 'NULL': 66, 'SEP': 67, 'SOS': 68, 'EOS': 69, 'PAD': 70, 'PLH': 71, '|': 72, '!': 73}\n",
      "vocab_by_property : False\n",
      "-----------------------\n",
      "----------hparams----------\n",
      "seed : 42\n",
      "batch_size : 1024\n",
      "max_epochs : 20000000000\n",
      "val_every_n_epoch : 200\n",
      "d_model : 512\n",
      "embed_dropout : 0.0\n",
      "vec_repr : 24\n",
      "model : contrastive\n",
      "d_ff : 1024\n",
      "N_enc : 8\n",
      "num_heads : 8\n",
      "N_enc_key : 4\n",
      "num_heads_key : 2\n",
      "attn_wt_tying_scheme : untie_QKVO\n",
      "attn_wt_dropout : 0.0\n",
      "heads_dropout : 0.0\n",
      "pff_dropout : 0.0\n",
      "representation_pos : 0\n",
      "dotproduct_bottleneck : True\n",
      "normalize_dotproduct : False\n",
      "contrastive_use_infoNCE : True\n",
      "loss_temperature_const : 1.0\n",
      "loss_smoothing_const : 0.1\n",
      "nonlinear_classifier_scale_down_factor : [1, 1, 1]\n",
      "contrastive_optimizer : scheduled_adam\n",
      "cosine_annealing_T_max : 30\n",
      "adam_lr : 1e-05\n",
      "adam_beta1 : 0.9\n",
      "adam_beta2 : 0.999\n",
      "adam_epsilon : 1e-08\n",
      "adam_weight_decay : 0\n",
      "sgd_lr : 0.001\n",
      "sgd_momentum : 0\n",
      "scheduled_adam_beta1 : 0.9\n",
      "scheduled_adam_beta2 : 0.98\n",
      "scheduled_adam_epsilon : 1e-06\n",
      "scheduled_adam_warmup_steps : 36000\n",
      "additional_lr_decay : True\n",
      "additional_lr_decay_gamma : 0.9\n",
      "decay_lr_starts : 36000\n",
      "decay_lr_stops : 80000\n",
      "decay_lr_interval : 2000\n",
      "generative_overall_lr_scale : 1.0\n",
      "contrastive_overall_lr_scale : 1.0\n",
      "gradient_clip_val : 0.0\n",
      "debug : False\n",
      "extra_monitors : False\n",
      "mode : test\n",
      "key_support_size : 27\n",
      "num_attributes : 3\n",
      "num_attr_vals : 3\n",
      "union_only : True\n",
      "vocab_size : 74\n",
      "vocab_by_property : False\n",
      "( : 64\n",
      ") : 65\n",
      "NULL : 66\n",
      "SEP : 67\n",
      "SOS : 68\n",
      "EOS : 69\n",
      "PAD : 70\n",
      "PLH : 71\n",
      "| : 72\n",
      "! : 73\n",
      "max_len_q : 16\n",
      "N_pairs : 8\n",
      "len_k : 1\n",
      "resume_checkpoint_dir : checkpoints/ContrastiveLearning-SET-Wildcard-Expand-Union-27/20210331-140130-Con;Vec24;L8H8Lk4Hk2;scheduledAdamW36000;16882.36Kparams_runId_uzykt0nh\n",
      "---------------------------\n",
      "    | Name                                                              | Type                    | Params\n",
      "----------------------------------------------------------------------------------------------------------------\n",
      "0   | metrics                                                           | ThresholdedMetrics      | 0     \n",
      "1   | KLdiv_criterion                                                   | KLdivLoss               | 0     \n",
      "2   | KLdiv_criterion.KLdiv_criterion                                   | KLDivLoss               | 0     \n",
      "3   | KLdiv_criterion.KLdiv_criterion_full                              | KLDivLoss               | 0     \n",
      "4   | KLdiv_criterion.logprob                                           | LogSoftmax              | 0     \n",
      "5   | model                                                             | EncoderPredictor        | 16.9 M\n",
      "6   | model.inp_query_layer                                             | Sequential              | 47.1 K\n",
      "7   | model.inp_query_layer.scaled_embed                                | ScaledEmbedding         | 37.9 K\n",
      "8   | model.inp_query_layer.scaled_embed.embedding                      | Embedding               | 37.9 K\n",
      "9   | model.inp_query_layer.position_encoder                            | LearnedPositionEncoder  | 9.2 K \n",
      "10  | model.inp_query_layer.embed_dropout                               | Dropout                 | 0     \n",
      "11  | model.inp_key_layer                                               | Sequential              | 648   \n",
      "12  | model.inp_key_layer.scaled_embed                                  | ScaledEmbedding         | 648   \n",
      "13  | model.inp_key_layer.scaled_embed.embedding                        | Embedding               | 648   \n",
      "14  | model.query_encoder                                               | Encoder                 | 16.8 M\n",
      "15  | model.query_encoder.encoder_layers                                | ModuleList              | 16.8 M\n",
      "16  | model.query_encoder.encoder_layers.0                              | EncoderLayer            | 2.1 M \n",
      "17  | model.query_encoder.encoder_layers.0.poswise_ff                   | Positiontwise_FF        | 1.1 M \n",
      "18  | model.query_encoder.encoder_layers.0.poswise_ff.linear1           | Linear                  | 525 K \n",
      "19  | model.query_encoder.encoder_layers.0.poswise_ff.linear2           | Linear                  | 524 K \n",
      "20  | model.query_encoder.encoder_layers.0.self_attn                    | MultiHeadAttention      | 1.1 M \n",
      "21  | model.query_encoder.encoder_layers.0.self_attn.attn_wt_dropout    | Dropout                 | 0     \n",
      "22  | model.query_encoder.encoder_layers.0.self_attn.projections_QKVO   | ModuleList              | 1.1 M \n",
      "23  | model.query_encoder.encoder_layers.0.self_attn.projections_QKVO.0 | Linear                  | 262 K \n",
      "24  | model.query_encoder.encoder_layers.0.self_attn.projections_QKVO.1 | Linear                  | 262 K \n",
      "25  | model.query_encoder.encoder_layers.0.self_attn.projections_QKVO.2 | Linear                  | 262 K \n",
      "26  | model.query_encoder.encoder_layers.0.self_attn.projections_QKVO.3 | Linear                  | 262 K \n",
      "27  | model.query_encoder.encoder_layers.0.layer_norms                  | ModuleList              | 2.0 K \n",
      "28  | model.query_encoder.encoder_layers.0.layer_norms.0                | LayerNorm               | 1.0 K \n",
      "29  | model.query_encoder.encoder_layers.0.layer_norms.1                | LayerNorm               | 1.0 K \n",
      "30  | model.query_encoder.encoder_layers.0.heads_dropout                | Dropout                 | 0     \n",
      "31  | model.query_encoder.encoder_layers.0.pff_dropout                  | Dropout                 | 0     \n",
      "32  | model.query_encoder.encoder_layers.1                              | EncoderLayer            | 2.1 M \n",
      "33  | model.query_encoder.encoder_layers.1.poswise_ff                   | Positiontwise_FF        | 1.1 M \n",
      "34  | model.query_encoder.encoder_layers.1.poswise_ff.linear1           | Linear                  | 525 K \n",
      "35  | model.query_encoder.encoder_layers.1.poswise_ff.linear2           | Linear                  | 524 K \n",
      "36  | model.query_encoder.encoder_layers.1.self_attn                    | MultiHeadAttention      | 1.1 M \n",
      "37  | model.query_encoder.encoder_layers.1.self_attn.attn_wt_dropout    | Dropout                 | 0     \n",
      "38  | model.query_encoder.encoder_layers.1.self_attn.projections_QKVO   | ModuleList              | 1.1 M \n",
      "39  | model.query_encoder.encoder_layers.1.self_attn.projections_QKVO.0 | Linear                  | 262 K \n",
      "40  | model.query_encoder.encoder_layers.1.self_attn.projections_QKVO.1 | Linear                  | 262 K \n",
      "41  | model.query_encoder.encoder_layers.1.self_attn.projections_QKVO.2 | Linear                  | 262 K \n",
      "42  | model.query_encoder.encoder_layers.1.self_attn.projections_QKVO.3 | Linear                  | 262 K \n",
      "43  | model.query_encoder.encoder_layers.1.layer_norms                  | ModuleList              | 2.0 K \n",
      "44  | model.query_encoder.encoder_layers.1.layer_norms.0                | LayerNorm               | 1.0 K \n",
      "45  | model.query_encoder.encoder_layers.1.layer_norms.1                | LayerNorm               | 1.0 K \n",
      "46  | model.query_encoder.encoder_layers.1.heads_dropout                | Dropout                 | 0     \n",
      "47  | model.query_encoder.encoder_layers.1.pff_dropout                  | Dropout                 | 0     \n",
      "48  | model.query_encoder.encoder_layers.2                              | EncoderLayer            | 2.1 M \n",
      "49  | model.query_encoder.encoder_layers.2.poswise_ff                   | Positiontwise_FF        | 1.1 M \n",
      "50  | model.query_encoder.encoder_layers.2.poswise_ff.linear1           | Linear                  | 525 K \n",
      "51  | model.query_encoder.encoder_layers.2.poswise_ff.linear2           | Linear                  | 524 K \n",
      "52  | model.query_encoder.encoder_layers.2.self_attn                    | MultiHeadAttention      | 1.1 M \n",
      "53  | model.query_encoder.encoder_layers.2.self_attn.attn_wt_dropout    | Dropout                 | 0     \n",
      "54  | model.query_encoder.encoder_layers.2.self_attn.projections_QKVO   | ModuleList              | 1.1 M \n",
      "55  | model.query_encoder.encoder_layers.2.self_attn.projections_QKVO.0 | Linear                  | 262 K \n",
      "56  | model.query_encoder.encoder_layers.2.self_attn.projections_QKVO.1 | Linear                  | 262 K \n",
      "57  | model.query_encoder.encoder_layers.2.self_attn.projections_QKVO.2 | Linear                  | 262 K \n",
      "58  | model.query_encoder.encoder_layers.2.self_attn.projections_QKVO.3 | Linear                  | 262 K \n",
      "59  | model.query_encoder.encoder_layers.2.layer_norms                  | ModuleList              | 2.0 K \n",
      "60  | model.query_encoder.encoder_layers.2.layer_norms.0                | LayerNorm               | 1.0 K \n",
      "61  | model.query_encoder.encoder_layers.2.layer_norms.1                | LayerNorm               | 1.0 K \n",
      "62  | model.query_encoder.encoder_layers.2.heads_dropout                | Dropout                 | 0     \n",
      "63  | model.query_encoder.encoder_layers.2.pff_dropout                  | Dropout                 | 0     \n",
      "64  | model.query_encoder.encoder_layers.3                              | EncoderLayer            | 2.1 M \n",
      "65  | model.query_encoder.encoder_layers.3.poswise_ff                   | Positiontwise_FF        | 1.1 M \n",
      "66  | model.query_encoder.encoder_layers.3.poswise_ff.linear1           | Linear                  | 525 K \n",
      "67  | model.query_encoder.encoder_layers.3.poswise_ff.linear2           | Linear                  | 524 K \n",
      "68  | model.query_encoder.encoder_layers.3.self_attn                    | MultiHeadAttention      | 1.1 M \n",
      "69  | model.query_encoder.encoder_layers.3.self_attn.attn_wt_dropout    | Dropout                 | 0     \n",
      "70  | model.query_encoder.encoder_layers.3.self_attn.projections_QKVO   | ModuleList              | 1.1 M \n",
      "71  | model.query_encoder.encoder_layers.3.self_attn.projections_QKVO.0 | Linear                  | 262 K \n",
      "72  | model.query_encoder.encoder_layers.3.self_attn.projections_QKVO.1 | Linear                  | 262 K \n",
      "73  | model.query_encoder.encoder_layers.3.self_attn.projections_QKVO.2 | Linear                  | 262 K \n",
      "74  | model.query_encoder.encoder_layers.3.self_attn.projections_QKVO.3 | Linear                  | 262 K \n",
      "75  | model.query_encoder.encoder_layers.3.layer_norms                  | ModuleList              | 2.0 K \n",
      "76  | model.query_encoder.encoder_layers.3.layer_norms.0                | LayerNorm               | 1.0 K \n",
      "77  | model.query_encoder.encoder_layers.3.layer_norms.1                | LayerNorm               | 1.0 K \n",
      "78  | model.query_encoder.encoder_layers.3.heads_dropout                | Dropout                 | 0     \n",
      "79  | model.query_encoder.encoder_layers.3.pff_dropout                  | Dropout                 | 0     \n",
      "80  | model.query_encoder.encoder_layers.4                              | EncoderLayer            | 2.1 M \n",
      "81  | model.query_encoder.encoder_layers.4.poswise_ff                   | Positiontwise_FF        | 1.1 M \n",
      "82  | model.query_encoder.encoder_layers.4.poswise_ff.linear1           | Linear                  | 525 K \n",
      "83  | model.query_encoder.encoder_layers.4.poswise_ff.linear2           | Linear                  | 524 K \n",
      "84  | model.query_encoder.encoder_layers.4.self_attn                    | MultiHeadAttention      | 1.1 M \n",
      "85  | model.query_encoder.encoder_layers.4.self_attn.attn_wt_dropout    | Dropout                 | 0     \n",
      "86  | model.query_encoder.encoder_layers.4.self_attn.projections_QKVO   | ModuleList              | 1.1 M \n",
      "87  | model.query_encoder.encoder_layers.4.self_attn.projections_QKVO.0 | Linear                  | 262 K \n",
      "88  | model.query_encoder.encoder_layers.4.self_attn.projections_QKVO.1 | Linear                  | 262 K \n",
      "89  | model.query_encoder.encoder_layers.4.self_attn.projections_QKVO.2 | Linear                  | 262 K \n",
      "90  | model.query_encoder.encoder_layers.4.self_attn.projections_QKVO.3 | Linear                  | 262 K \n",
      "91  | model.query_encoder.encoder_layers.4.layer_norms                  | ModuleList              | 2.0 K \n",
      "92  | model.query_encoder.encoder_layers.4.layer_norms.0                | LayerNorm               | 1.0 K \n",
      "93  | model.query_encoder.encoder_layers.4.layer_norms.1                | LayerNorm               | 1.0 K \n",
      "94  | model.query_encoder.encoder_layers.4.heads_dropout                | Dropout                 | 0     \n",
      "95  | model.query_encoder.encoder_layers.4.pff_dropout                  | Dropout                 | 0     \n",
      "96  | model.query_encoder.encoder_layers.5                              | EncoderLayer            | 2.1 M \n",
      "97  | model.query_encoder.encoder_layers.5.poswise_ff                   | Positiontwise_FF        | 1.1 M \n",
      "98  | model.query_encoder.encoder_layers.5.poswise_ff.linear1           | Linear                  | 525 K \n",
      "99  | model.query_encoder.encoder_layers.5.poswise_ff.linear2           | Linear                  | 524 K \n",
      "100 | model.query_encoder.encoder_layers.5.self_attn                    | MultiHeadAttention      | 1.1 M \n",
      "101 | model.query_encoder.encoder_layers.5.self_attn.attn_wt_dropout    | Dropout                 | 0     \n",
      "102 | model.query_encoder.encoder_layers.5.self_attn.projections_QKVO   | ModuleList              | 1.1 M \n",
      "103 | model.query_encoder.encoder_layers.5.self_attn.projections_QKVO.0 | Linear                  | 262 K \n",
      "104 | model.query_encoder.encoder_layers.5.self_attn.projections_QKVO.1 | Linear                  | 262 K \n",
      "105 | model.query_encoder.encoder_layers.5.self_attn.projections_QKVO.2 | Linear                  | 262 K \n",
      "106 | model.query_encoder.encoder_layers.5.self_attn.projections_QKVO.3 | Linear                  | 262 K \n",
      "107 | model.query_encoder.encoder_layers.5.layer_norms                  | ModuleList              | 2.0 K \n",
      "108 | model.query_encoder.encoder_layers.5.layer_norms.0                | LayerNorm               | 1.0 K \n",
      "109 | model.query_encoder.encoder_layers.5.layer_norms.1                | LayerNorm               | 1.0 K \n",
      "110 | model.query_encoder.encoder_layers.5.heads_dropout                | Dropout                 | 0     \n",
      "111 | model.query_encoder.encoder_layers.5.pff_dropout                  | Dropout                 | 0     \n",
      "112 | model.query_encoder.encoder_layers.6                              | EncoderLayer            | 2.1 M \n",
      "113 | model.query_encoder.encoder_layers.6.poswise_ff                   | Positiontwise_FF        | 1.1 M \n",
      "114 | model.query_encoder.encoder_layers.6.poswise_ff.linear1           | Linear                  | 525 K \n",
      "115 | model.query_encoder.encoder_layers.6.poswise_ff.linear2           | Linear                  | 524 K \n",
      "116 | model.query_encoder.encoder_layers.6.self_attn                    | MultiHeadAttention      | 1.1 M \n",
      "117 | model.query_encoder.encoder_layers.6.self_attn.attn_wt_dropout    | Dropout                 | 0     \n",
      "118 | model.query_encoder.encoder_layers.6.self_attn.projections_QKVO   | ModuleList              | 1.1 M \n",
      "119 | model.query_encoder.encoder_layers.6.self_attn.projections_QKVO.0 | Linear                  | 262 K \n",
      "120 | model.query_encoder.encoder_layers.6.self_attn.projections_QKVO.1 | Linear                  | 262 K \n",
      "121 | model.query_encoder.encoder_layers.6.self_attn.projections_QKVO.2 | Linear                  | 262 K \n",
      "122 | model.query_encoder.encoder_layers.6.self_attn.projections_QKVO.3 | Linear                  | 262 K \n",
      "123 | model.query_encoder.encoder_layers.6.layer_norms                  | ModuleList              | 2.0 K \n",
      "124 | model.query_encoder.encoder_layers.6.layer_norms.0                | LayerNorm               | 1.0 K \n",
      "125 | model.query_encoder.encoder_layers.6.layer_norms.1                | LayerNorm               | 1.0 K \n",
      "126 | model.query_encoder.encoder_layers.6.heads_dropout                | Dropout                 | 0     \n",
      "127 | model.query_encoder.encoder_layers.6.pff_dropout                  | Dropout                 | 0     \n",
      "128 | model.query_encoder.encoder_layers.7                              | EncoderLayer            | 2.1 M \n",
      "129 | model.query_encoder.encoder_layers.7.poswise_ff                   | Positiontwise_FF        | 1.1 M \n",
      "130 | model.query_encoder.encoder_layers.7.poswise_ff.linear1           | Linear                  | 525 K \n",
      "131 | model.query_encoder.encoder_layers.7.poswise_ff.linear2           | Linear                  | 524 K \n",
      "132 | model.query_encoder.encoder_layers.7.self_attn                    | MultiHeadAttention      | 1.1 M \n",
      "133 | model.query_encoder.encoder_layers.7.self_attn.attn_wt_dropout    | Dropout                 | 0     \n",
      "134 | model.query_encoder.encoder_layers.7.self_attn.projections_QKVO   | ModuleList              | 1.1 M \n",
      "135 | model.query_encoder.encoder_layers.7.self_attn.projections_QKVO.0 | Linear                  | 262 K \n",
      "136 | model.query_encoder.encoder_layers.7.self_attn.projections_QKVO.1 | Linear                  | 262 K \n",
      "137 | model.query_encoder.encoder_layers.7.self_attn.projections_QKVO.2 | Linear                  | 262 K \n",
      "138 | model.query_encoder.encoder_layers.7.self_attn.projections_QKVO.3 | Linear                  | 262 K \n",
      "139 | model.query_encoder.encoder_layers.7.layer_norms                  | ModuleList              | 2.0 K \n",
      "140 | model.query_encoder.encoder_layers.7.layer_norms.0                | LayerNorm               | 1.0 K \n",
      "141 | model.query_encoder.encoder_layers.7.layer_norms.1                | LayerNorm               | 1.0 K \n",
      "142 | model.query_encoder.encoder_layers.7.heads_dropout                | Dropout                 | 0     \n",
      "143 | model.query_encoder.encoder_layers.7.pff_dropout                  | Dropout                 | 0     \n",
      "144 | model.query_projection                                            | Linear                  | 12.3 K\n",
      "145 | CE_criterion                                                      | CELoss                  | 0     \n",
      "146 | CE_criterion.CE_loss                                              | CrossEntropyLoss        | 0     \n",
      "147 | loss_criterion                                                    | InfoCELoss              | 0     \n",
      "148 | loss_criterion.CE_loss                                            | CrossEntropyLoss        | 0     \n",
      "149 | debug_metrics                                                     | ContrastiveDebugMetrics | 0     \n",
      "150 | softmax                                                           | Softmax                 | 0     \n",
      "----------------------------------------------------------------------------------------------------------------\n",
      "16.9 M    Trainable params\n",
      "0         Non-trainable params\n",
      "16.9 M    Total params\n",
      "67.529    Total estimated model params size (MB) \n",
      "\n",
      "RUN NAME :\n",
      " Con;Vec24;L8H8Lk4Hk2;scheduledAdamW36000;16882.36Kparams\n",
      "Resuming From and Saving to Checkpoint Path:\n",
      " checkpoints/ContrastiveLearning-SET-Wildcard-Expand-Union-27/20210331-140130-Con;Vec24;L8H8Lk4Hk2;scheduledAdamW36000;16882.36Kparams_runId_uzykt0nh\n"
     ]
    },
    {
     "name": "stderr",
     "output_type": "stream",
     "text": [
      "GPU available: True, used: True\n",
      "TPU available: None, using: 0 TPU cores\n",
      "LOCAL_RANK: 0 - CUDA_VISIBLE_DEVICES: [0,1]\n"
     ]
    },
    {
     "name": "stdout",
     "output_type": "stream",
     "text": [
      "\r",
      "Testing: 0it [00:00, ?it/s]"
     ]
    },
    {
     "name": "stderr",
     "output_type": "stream",
     "text": [
      "/home/user/miniconda/lib/python3.8/site-packages/pytorch_lightning/utilities/distributed.py:52: UserWarning: The dataloader, test dataloader 0, does not have many workers which may be a bottleneck. Consider increasing the value of the `num_workers` argument` (try 16 which is the number of cpus on this machine) in the `DataLoader` init to improve performance.\n",
      "  warnings.warn(*args, **kwargs)\n"
     ]
    },
    {
     "name": "stdout",
     "output_type": "stream",
     "text": [
      "Testing: 100%|██████████| 5/5 [00:05<00:00,  1.03it/s]{0.006164100952446461, 0.886740505695343, 0.8840538263320923, 0.9999570846557617, 0.9228801131248474, 0.9999516606330872, 6.312039375305176, 0.8404375314712524, 0.9132627844810486, 9.0, 10.0, 11.0, 12.0, 13.0, 14.0, 15.0, 16.0, 17.0, 17.993017196655273, 19.987939834594727, 19.0, 21.995555877685547, 22.987220764160156, 23.9777774810791, 20.993305206298828, 25.0, 26.0, 27.0, 20.97515296936035, 20.561904907226562, 0.0001234753872267902, 0.07134976238012314, 0.05869913101196289, 0.03703700006008148, 0.045215874910354614, 0.062409408390522, 0.11105533689260483, 0.04976869747042656, 0.09084662050008774, 0.05241909623146057, 0.0832558199763298, 8.0, 1024.0, 7.024658407317474e-05, 0.0001317690621362999, 12.673039436340332, 14.996874809265137, 15.997332572937012, 0.007215690799057484, 16.99102783203125, 17.9248046875, 17.700000762939453, 17.922607421875, 18.802936553955078, 18.410398483276367, 19.60686492919922, 19.600162506103516, 20.497159957885742, 20.260290145874023, 20.55079460144043, 0.0023961493279784918, 0.06656789034605026, 0.055378127843141556, 0.047337885946035385, 0.07684743404388428, nan, 0.12491700798273087, 0.04311216622591019, 0.09991071373224258, 0.039669882506132126, 0.04136715084314346, 3.494439442874864e-05, 0.03818401321768761, 0.002105079358443618, 0.0006608612020500004, 0.00035485305124893785, 2.7887541364179924e-05, 4.294441532692872e-05, 6.201778160175309e-05, 8.487476588925347e-05, 0.0041264379397034645, 0.00021147272491361946, 0.0010501487413421273, 0.0005046346923336387, 0.9998676466479626, 5.252397386357188e-05, 0.0009840757120400667}\n",
      "Also saved to : checkpoints/ContrastiveLearning-SET-Wildcard-Expand-Union-27/20210331-140130-Con;Vec24;L8H8Lk4Hk2;scheduledAdamW36000;16882.36Kparams_runId_uzykt0nh/test_metrics.json\n",
      "Testing: 100%|██████████| 5/5 [00:05<00:00,  1.06s/it]\n",
      "--------------------------------------------------------------------------------\n",
      "DATALOADER:0 TEST RESULTS\n",
      "{'avg_batch_size': 1024.0,\n",
      " 'avg_test_KL_loss': 6.312039375305176,\n",
      " 'avg_test_KL_loss_per_example': 0.006164100952446461,\n",
      " 'avg_test_accuracy_by_Query': 0.886740505695343,\n",
      " 'avg_test_accuracy_by_QueryKey': 0.886740505695343,\n",
      " 'avg_test_f1_by_Query': 0.9228801131248474,\n",
      " 'avg_test_f1_by_QueryKey': 0.9132627844810486,\n",
      " 'avg_test_gt10;gt_logits_above_threshold_count': 10.0,\n",
      " 'avg_test_gt10;gt_pred_scores': 0.09991071373224258,\n",
      " 'avg_test_gt10;not_gt_pred_scores': 5.252397386357188e-05,\n",
      " 'avg_test_gt10;top10_overlap_count': 10.0,\n",
      " 'avg_test_gt10;top10_pred_above_threshold_count': 10.0,\n",
      " 'avg_test_gt10;total_pred_above_threshold_count': 10.0,\n",
      " 'avg_test_gt11;gt_logits_above_threshold_count': 11.0,\n",
      " 'avg_test_gt11;gt_pred_scores': 0.09084662050008774,\n",
      " 'avg_test_gt11;not_gt_pred_scores': 4.294441532692872e-05,\n",
      " 'avg_test_gt11;top11_overlap_count': 11.0,\n",
      " 'avg_test_gt11;top11_pred_above_threshold_count': 11.0,\n",
      " 'avg_test_gt11;total_pred_above_threshold_count': 11.0,\n",
      " 'avg_test_gt12;gt_logits_above_threshold_count': 12.0,\n",
      " 'avg_test_gt12;gt_pred_scores': 0.0832558199763298,\n",
      " 'avg_test_gt12;not_gt_pred_scores': 6.201778160175309e-05,\n",
      " 'avg_test_gt12;top12_overlap_count': 12.0,\n",
      " 'avg_test_gt12;top12_pred_above_threshold_count': 12.0,\n",
      " 'avg_test_gt12;total_pred_above_threshold_count': 12.0,\n",
      " 'avg_test_gt13;gt_logits_above_threshold_count': 13.0,\n",
      " 'avg_test_gt13;gt_pred_scores': 0.07684743404388428,\n",
      " 'avg_test_gt13;not_gt_pred_scores': 7.024658407317474e-05,\n",
      " 'avg_test_gt13;top13_overlap_count': 13.0,\n",
      " 'avg_test_gt13;top13_pred_above_threshold_count': 13.0,\n",
      " 'avg_test_gt13;total_pred_above_threshold_count': 13.0,\n",
      " 'avg_test_gt14;gt_logits_above_threshold_count': 14.0,\n",
      " 'avg_test_gt14;gt_pred_scores': 0.07134976238012314,\n",
      " 'avg_test_gt14;not_gt_pred_scores': 8.487476588925347e-05,\n",
      " 'avg_test_gt14;top14_overlap_count': 14.0,\n",
      " 'avg_test_gt14;top14_pred_above_threshold_count': 14.0,\n",
      " 'avg_test_gt14;total_pred_above_threshold_count': 14.0,\n",
      " 'avg_test_gt15;gt_logits_above_threshold_count': 14.996874809265137,\n",
      " 'avg_test_gt15;gt_pred_scores': 0.06656789034605026,\n",
      " 'avg_test_gt15;not_gt_pred_scores': 0.0001234753872267902,\n",
      " 'avg_test_gt15;top15_overlap_count': 15.0,\n",
      " 'avg_test_gt15;top15_pred_above_threshold_count': 14.996874809265137,\n",
      " 'avg_test_gt15;total_pred_above_threshold_count': 14.996874809265137,\n",
      " 'avg_test_gt16;gt_logits_above_threshold_count': 15.997332572937012,\n",
      " 'avg_test_gt16;gt_pred_scores': 0.062409408390522,\n",
      " 'avg_test_gt16;not_gt_pred_scores': 0.0001317690621362999,\n",
      " 'avg_test_gt16;top16_overlap_count': 16.0,\n",
      " 'avg_test_gt16;top16_pred_above_threshold_count': 15.997332572937012,\n",
      " 'avg_test_gt16;total_pred_above_threshold_count': 15.997332572937012,\n",
      " 'avg_test_gt17;gt_logits_above_threshold_count': 16.99102783203125,\n",
      " 'avg_test_gt17;gt_pred_scores': 0.05869913101196289,\n",
      " 'avg_test_gt17;not_gt_pred_scores': 0.00021147272491361946,\n",
      " 'avg_test_gt17;top17_overlap_count': 17.0,\n",
      " 'avg_test_gt17;top17_pred_above_threshold_count': 16.99102783203125,\n",
      " 'avg_test_gt17;total_pred_above_threshold_count': 16.99102783203125,\n",
      " 'avg_test_gt18;gt_logits_above_threshold_count': 17.922607421875,\n",
      " 'avg_test_gt18;gt_pred_scores': 0.055378127843141556,\n",
      " 'avg_test_gt18;not_gt_pred_scores': 0.00035485305124893785,\n",
      " 'avg_test_gt18;top18_overlap_count': 17.993017196655273,\n",
      " 'avg_test_gt18;top18_pred_above_threshold_count': 17.9248046875,\n",
      " 'avg_test_gt18;total_pred_above_threshold_count': 17.9248046875,\n",
      " 'avg_test_gt19;gt_logits_above_threshold_count': 18.802936553955078,\n",
      " 'avg_test_gt19;gt_pred_scores': 0.05241909623146057,\n",
      " 'avg_test_gt19;not_gt_pred_scores': 0.0005046346923336387,\n",
      " 'avg_test_gt19;top19_overlap_count': 19.0,\n",
      " 'avg_test_gt19;top19_pred_above_threshold_count': 18.802936553955078,\n",
      " 'avg_test_gt19;total_pred_above_threshold_count': 18.802936553955078,\n",
      " 'avg_test_gt20;gt_logits_above_threshold_count': 19.600162506103516,\n",
      " 'avg_test_gt20;gt_pred_scores': 0.04976869747042656,\n",
      " 'avg_test_gt20;not_gt_pred_scores': 0.0006608612020500004,\n",
      " 'avg_test_gt20;top20_overlap_count': 19.987939834594727,\n",
      " 'avg_test_gt20;top20_pred_above_threshold_count': 19.60686492919922,\n",
      " 'avg_test_gt20;total_pred_above_threshold_count': 19.60686492919922,\n",
      " 'avg_test_gt21;gt_logits_above_threshold_count': 20.260290145874023,\n",
      " 'avg_test_gt21;gt_pred_scores': 0.047337885946035385,\n",
      " 'avg_test_gt21;not_gt_pred_scores': 0.0009840757120400667,\n",
      " 'avg_test_gt21;top21_overlap_count': 20.993305206298828,\n",
      " 'avg_test_gt21;top21_pred_above_threshold_count': 20.260290145874023,\n",
      " 'avg_test_gt21;total_pred_above_threshold_count': 20.260290145874023,\n",
      " 'avg_test_gt22;gt_logits_above_threshold_count': 20.97515296936035,\n",
      " 'avg_test_gt22;gt_pred_scores': 0.045215874910354614,\n",
      " 'avg_test_gt22;not_gt_pred_scores': 0.0010501487413421273,\n",
      " 'avg_test_gt22;top22_overlap_count': 21.995555877685547,\n",
      " 'avg_test_gt22;top22_pred_above_threshold_count': 20.97515296936035,\n",
      " 'avg_test_gt22;total_pred_above_threshold_count': 20.97515296936035,\n",
      " 'avg_test_gt23;gt_logits_above_threshold_count': 20.497159957885742,\n",
      " 'avg_test_gt23;gt_pred_scores': 0.04311216622591019,\n",
      " 'avg_test_gt23;not_gt_pred_scores': 0.002105079358443618,\n",
      " 'avg_test_gt23;top23_overlap_count': 22.987220764160156,\n",
      " 'avg_test_gt23;top23_pred_above_threshold_count': 20.497159957885742,\n",
      " 'avg_test_gt23;total_pred_above_threshold_count': 20.497159957885742,\n",
      " 'avg_test_gt24;gt_logits_above_threshold_count': 20.55079460144043,\n",
      " 'avg_test_gt24;gt_pred_scores': 0.04136715084314346,\n",
      " 'avg_test_gt24;not_gt_pred_scores': 0.0023961493279784918,\n",
      " 'avg_test_gt24;top24_overlap_count': 23.9777774810791,\n",
      " 'avg_test_gt24;top24_pred_above_threshold_count': 20.561904907226562,\n",
      " 'avg_test_gt24;total_pred_above_threshold_count': 20.561904907226562,\n",
      " 'avg_test_gt25;gt_logits_above_threshold_count': 18.410398483276367,\n",
      " 'avg_test_gt25;gt_pred_scores': 0.039669882506132126,\n",
      " 'avg_test_gt25;not_gt_pred_scores': 0.0041264379397034645,\n",
      " 'avg_test_gt25;top25_overlap_count': 25.0,\n",
      " 'avg_test_gt25;top25_pred_above_threshold_count': 18.410398483276367,\n",
      " 'avg_test_gt25;total_pred_above_threshold_count': 18.410398483276367,\n",
      " 'avg_test_gt26;gt_logits_above_threshold_count': 17.700000762939453,\n",
      " 'avg_test_gt26;gt_pred_scores': 0.03818401321768761,\n",
      " 'avg_test_gt26;not_gt_pred_scores': 0.007215690799057484,\n",
      " 'avg_test_gt26;top26_overlap_count': 26.0,\n",
      " 'avg_test_gt26;top26_pred_above_threshold_count': 17.700000762939453,\n",
      " 'avg_test_gt26;total_pred_above_threshold_count': 17.700000762939453,\n",
      " 'avg_test_gt27;gt_logits_above_threshold_count': 12.673039436340332,\n",
      " 'avg_test_gt27;gt_pred_scores': 0.03703700006008148,\n",
      " 'avg_test_gt27;not_gt_pred_scores': nan,\n",
      " 'avg_test_gt27;top27_overlap_count': 27.0,\n",
      " 'avg_test_gt27;top27_pred_above_threshold_count': 12.673039436340332,\n",
      " 'avg_test_gt27;total_pred_above_threshold_count': 12.673039436340332,\n",
      " 'avg_test_gt8;gt_logits_above_threshold_count': 8.0,\n",
      " 'avg_test_gt8;gt_pred_scores': 0.12491700798273087,\n",
      " 'avg_test_gt8;not_gt_pred_scores': 3.494439442874864e-05,\n",
      " 'avg_test_gt8;top8_overlap_count': 8.0,\n",
      " 'avg_test_gt8;top8_pred_above_threshold_count': 8.0,\n",
      " 'avg_test_gt8;total_pred_above_threshold_count': 8.0,\n",
      " 'avg_test_gt9;gt_logits_above_threshold_count': 9.0,\n",
      " 'avg_test_gt9;gt_pred_scores': 0.11105533689260483,\n",
      " 'avg_test_gt9;not_gt_pred_scores': 2.7887541364179924e-05,\n",
      " 'avg_test_gt9;top9_overlap_count': 9.0,\n",
      " 'avg_test_gt9;top9_pred_above_threshold_count': 9.0,\n",
      " 'avg_test_gt9;total_pred_above_threshold_count': 9.0,\n",
      " 'avg_test_precision_by_Query': 0.9999570846557617,\n",
      " 'avg_test_precision_by_QueryKey': 0.9999516606330872,\n",
      " 'avg_test_recall_by_Query': 0.8840538263320923,\n",
      " 'avg_test_recall_by_QueryKey': 0.8404375314712524,\n",
      " 'avg_test_topK_overall_overlap_ratio': 0.9998676466479626,\n",
      " 'test_KL_loss': 6.312039375305176,\n",
      " 'test_KL_loss_per_example': 0.006164100952446461,\n",
      " 'test_accuracy_by_Query': 0.886740505695343,\n",
      " 'test_accuracy_by_QueryKey': 0.886740505695343,\n",
      " 'test_f1_by_Query': 0.9228800535202026,\n",
      " 'test_f1_by_QueryKey': 0.9132628440856934,\n",
      " 'test_gt10;gt_logits_above_threshold_count': 10.0,\n",
      " 'test_gt10;gt_pred_scores': 0.09991071373224258,\n",
      " 'test_gt10;not_gt_pred_scores': 5.252397386357188e-05,\n",
      " 'test_gt10;top10_overlap_count': 10.0,\n",
      " 'test_gt10;top10_pred_above_threshold_count': 10.0,\n",
      " 'test_gt10;total_pred_above_threshold_count': 10.0,\n",
      " 'test_gt11;gt_logits_above_threshold_count': 11.0,\n",
      " 'test_gt11;gt_pred_scores': 0.09084662050008774,\n",
      " 'test_gt11;not_gt_pred_scores': 4.294441168894991e-05,\n",
      " 'test_gt11;top11_overlap_count': 11.0,\n",
      " 'test_gt11;top11_pred_above_threshold_count': 11.0,\n",
      " 'test_gt11;total_pred_above_threshold_count': 11.0,\n",
      " 'test_gt12;gt_logits_above_threshold_count': 12.0,\n",
      " 'test_gt12;gt_pred_scores': 0.0832558125257492,\n",
      " 'test_gt12;not_gt_pred_scores': 6.201778160175309e-05,\n",
      " 'test_gt12;top12_overlap_count': 12.0,\n",
      " 'test_gt12;top12_pred_above_threshold_count': 12.0,\n",
      " 'test_gt12;total_pred_above_threshold_count': 12.0,\n",
      " 'test_gt13;gt_logits_above_threshold_count': 13.0,\n",
      " 'test_gt13;gt_pred_scores': 0.07684743404388428,\n",
      " 'test_gt13;not_gt_pred_scores': 7.024658407317474e-05,\n",
      " 'test_gt13;top13_overlap_count': 13.0,\n",
      " 'test_gt13;top13_pred_above_threshold_count': 13.0,\n",
      " 'test_gt13;total_pred_above_threshold_count': 13.0,\n",
      " 'test_gt14;gt_logits_above_threshold_count': 14.0,\n",
      " 'test_gt14;gt_pred_scores': 0.07134976238012314,\n",
      " 'test_gt14;not_gt_pred_scores': 8.487476588925347e-05,\n",
      " 'test_gt14;top14_overlap_count': 14.0,\n",
      " 'test_gt14;top14_pred_above_threshold_count': 14.0,\n",
      " 'test_gt14;total_pred_above_threshold_count': 14.0,\n",
      " 'test_gt15;gt_logits_above_threshold_count': 14.996874809265137,\n",
      " 'test_gt15;gt_pred_scores': 0.06656788289546967,\n",
      " 'test_gt15;not_gt_pred_scores': 0.0001234753872267902,\n",
      " 'test_gt15;top15_overlap_count': 15.0,\n",
      " 'test_gt15;top15_pred_above_threshold_count': 14.996874809265137,\n",
      " 'test_gt15;total_pred_above_threshold_count': 14.996874809265137,\n",
      " 'test_gt16;gt_logits_above_threshold_count': 15.997332572937012,\n",
      " 'test_gt16;gt_pred_scores': 0.062409408390522,\n",
      " 'test_gt16;not_gt_pred_scores': 0.0001317690621362999,\n",
      " 'test_gt16;top16_overlap_count': 16.0,\n",
      " 'test_gt16;top16_pred_above_threshold_count': 15.997332572937012,\n",
      " 'test_gt16;total_pred_above_threshold_count': 15.997332572937012,\n",
      " 'test_gt17;gt_logits_above_threshold_count': 16.99102783203125,\n",
      " 'test_gt17;gt_pred_scores': 0.05869913101196289,\n",
      " 'test_gt17;not_gt_pred_scores': 0.00021147271036170423,\n",
      " 'test_gt17;top17_overlap_count': 17.0,\n",
      " 'test_gt17;top17_pred_above_threshold_count': 16.99102783203125,\n",
      " 'test_gt17;total_pred_above_threshold_count': 16.99102783203125,\n",
      " 'test_gt18;gt_logits_above_threshold_count': 17.922607421875,\n",
      " 'test_gt18;gt_pred_scores': 0.055378127843141556,\n",
      " 'test_gt18;not_gt_pred_scores': 0.00035485305124893785,\n",
      " 'test_gt18;top18_overlap_count': 17.99301528930664,\n",
      " 'test_gt18;top18_pred_above_threshold_count': 17.924806594848633,\n",
      " 'test_gt18;total_pred_above_threshold_count': 17.924806594848633,\n",
      " 'test_gt19;gt_logits_above_threshold_count': 18.802936553955078,\n",
      " 'test_gt19;gt_pred_scores': 0.05241910368204117,\n",
      " 'test_gt19;not_gt_pred_scores': 0.0005046346341259778,\n",
      " 'test_gt19;top19_overlap_count': 19.0,\n",
      " 'test_gt19;top19_pred_above_threshold_count': 18.802936553955078,\n",
      " 'test_gt19;total_pred_above_threshold_count': 18.802936553955078,\n",
      " 'test_gt20;gt_logits_above_threshold_count': 19.600162506103516,\n",
      " 'test_gt20;gt_pred_scores': 0.04976869747042656,\n",
      " 'test_gt20;not_gt_pred_scores': 0.0006608612020500004,\n",
      " 'test_gt20;top20_overlap_count': 19.987939834594727,\n",
      " 'test_gt20;top20_pred_above_threshold_count': 19.60686492919922,\n",
      " 'test_gt20;total_pred_above_threshold_count': 19.60686492919922,\n",
      " 'test_gt21;gt_logits_above_threshold_count': 20.26028823852539,\n",
      " 'test_gt21;gt_pred_scores': 0.047337885946035385,\n",
      " 'test_gt21;not_gt_pred_scores': 0.000984075595624745,\n",
      " 'test_gt21;top21_overlap_count': 20.993305206298828,\n",
      " 'test_gt21;top21_pred_above_threshold_count': 20.26028823852539,\n",
      " 'test_gt21;total_pred_above_threshold_count': 20.26028823852539,\n",
      " 'test_gt22;gt_logits_above_threshold_count': 20.97515296936035,\n",
      " 'test_gt22;gt_pred_scores': 0.04521587863564491,\n",
      " 'test_gt22;not_gt_pred_scores': 0.0010501487413421273,\n",
      " 'test_gt22;top22_overlap_count': 21.995555877685547,\n",
      " 'test_gt22;top22_pred_above_threshold_count': 20.97515296936035,\n",
      " 'test_gt22;total_pred_above_threshold_count': 20.97515296936035,\n",
      " 'test_gt23;gt_logits_above_threshold_count': 20.497161865234375,\n",
      " 'test_gt23;gt_pred_scores': 0.04311216622591019,\n",
      " 'test_gt23;not_gt_pred_scores': 0.002105079125612974,\n",
      " 'test_gt23;top23_overlap_count': 22.987220764160156,\n",
      " 'test_gt23;top23_pred_above_threshold_count': 20.497161865234375,\n",
      " 'test_gt23;total_pred_above_threshold_count': 20.497161865234375,\n",
      " 'test_gt24;gt_logits_above_threshold_count': 20.550792694091797,\n",
      " 'test_gt24;gt_pred_scores': 0.041367147117853165,\n",
      " 'test_gt24;not_gt_pred_scores': 0.0023961493279784918,\n",
      " 'test_gt24;top24_overlap_count': 23.977779388427734,\n",
      " 'test_gt24;top24_pred_above_threshold_count': 20.561904907226562,\n",
      " 'test_gt24;total_pred_above_threshold_count': 20.561904907226562,\n",
      " 'test_gt25;gt_logits_above_threshold_count': 18.410396575927734,\n",
      " 'test_gt25;gt_pred_scores': 0.039669882506132126,\n",
      " 'test_gt25;not_gt_pred_scores': 0.0041264379397034645,\n",
      " 'test_gt25;top25_overlap_count': 25.0,\n",
      " 'test_gt25;top25_pred_above_threshold_count': 18.410396575927734,\n",
      " 'test_gt25;total_pred_above_threshold_count': 18.410396575927734,\n",
      " 'test_gt26;gt_logits_above_threshold_count': 17.700000762939453,\n",
      " 'test_gt26;gt_pred_scores': 0.03818400949239731,\n",
      " 'test_gt26;not_gt_pred_scores': 0.007215690799057484,\n",
      " 'test_gt26;top26_overlap_count': 26.0,\n",
      " 'test_gt26;top26_pred_above_threshold_count': 17.700000762939453,\n",
      " 'test_gt26;total_pred_above_threshold_count': 17.700000762939453,\n",
      " 'test_gt27;gt_logits_above_threshold_count': 12.673038482666016,\n",
      " 'test_gt27;gt_pred_scores': 0.03703700006008148,\n",
      " 'test_gt27;not_gt_pred_scores': nan,\n",
      " 'test_gt27;top27_overlap_count': 27.0,\n",
      " 'test_gt27;top27_pred_above_threshold_count': 12.673038482666016,\n",
      " 'test_gt27;total_pred_above_threshold_count': 12.673038482666016,\n",
      " 'test_gt6;gt_logits_above_threshold_count': 6.0,\n",
      " 'test_gt6;gt_pred_scores': 0.16647940874099731,\n",
      " 'test_gt6;not_gt_pred_scores': 5.350666106096469e-05,\n",
      " 'test_gt6;top6_overlap_count': 6.0,\n",
      " 'test_gt6;top6_pred_above_threshold_count': 6.0,\n",
      " 'test_gt6;total_pred_above_threshold_count': 6.0,\n",
      " 'test_gt7;gt_logits_above_threshold_count': 7.0,\n",
      " 'test_gt7;gt_pred_scores': 0.14271683990955353,\n",
      " 'test_gt7;not_gt_pred_scores': 4.910846473649144e-05,\n",
      " 'test_gt7;top7_overlap_count': 7.0,\n",
      " 'test_gt7;top7_pred_above_threshold_count': 7.0,\n",
      " 'test_gt7;total_pred_above_threshold_count': 7.0,\n",
      " 'test_gt8;gt_logits_above_threshold_count': 8.0,\n",
      " 'test_gt8;gt_pred_scores': 0.12491700798273087,\n",
      " 'test_gt8;not_gt_pred_scores': 3.494439442874864e-05,\n",
      " 'test_gt8;top8_overlap_count': 8.0,\n",
      " 'test_gt8;top8_pred_above_threshold_count': 8.0,\n",
      " 'test_gt8;total_pred_above_threshold_count': 8.0,\n",
      " 'test_gt9;gt_logits_above_threshold_count': 9.0,\n",
      " 'test_gt9;gt_pred_scores': 0.11105533689260483,\n",
      " 'test_gt9;not_gt_pred_scores': 2.7887541364179924e-05,\n",
      " 'test_gt9;top9_overlap_count': 9.0,\n",
      " 'test_gt9;top9_pred_above_threshold_count': 9.0,\n",
      " 'test_gt9;total_pred_above_threshold_count': 9.0,\n",
      " 'test_precision_by_Query': 0.9999569654464722,\n",
      " 'test_precision_by_QueryKey': 0.9999516606330872,\n",
      " 'test_recall_by_Query': 0.8840538263320923,\n",
      " 'test_recall_by_QueryKey': 0.8404375314712524,\n",
      " 'test_topK_overall_overlap_ratio': 0.9998676180839539}\n",
      "--------------------------------------------------------------------------------\n"
     ]
    }
   ],
   "source": [
    "trainmodule, game_datamodule = main.main(args)"
   ]
  },
  {
   "cell_type": "markdown",
   "id": "organized-jefferson",
   "metadata": {},
   "source": [
    "## KL Loss Analysis"
   ]
  },
  {
   "cell_type": "code",
   "execution_count": 5,
   "id": "hairy-phoenix",
   "metadata": {},
   "outputs": [],
   "source": [
    "def softmax(x):\n",
    "    \"\"\"Compute softmax values for each sets of scores in x.\"\"\"\n",
    "    e_x = np.exp(np.array(x) - np.max(x, axis=-1).reshape(-1, 1))\n",
    "    return e_x / np.sum(e_x, axis=-1).reshape(-1, 1)\n",
    "\n",
    "def entropy(x):\n",
    "    return - np.sum(x * np.log2(x), axis=-1)"
   ]
  },
  {
   "cell_type": "code",
   "execution_count": 6,
   "id": "fancy-bhutan",
   "metadata": {
    "scrolled": true
   },
   "outputs": [
    {
     "name": "stdout",
     "output_type": "stream",
     "text": [
      "top 50th data indices by kl loss [ 410 2898 1727  346 1979 1569 4996 3312 4509   16 3771 3325 1521 3958\n",
      " 1702 2789 2797  715 2006 1665  791 4137 4030 1375 4985 4801  191  968\n",
      " 3744 4734 5110  438 3543 3485 3911 4206 2858 4452  841  571 2805 4541\n",
      " 2579  359 3949  156 2709 5000  124 1648]\n"
     ]
    },
    {
     "data": {
      "text/plain": [
       "(array([4.63e+03, 2.67e+02, 1.13e+02, 6.00e+01, 2.30e+01, 1.00e+01,\n",
       "        6.00e+00, 5.00e+00, 1.00e+00, 5.00e+00]),\n",
       " array([3.49327347e-05, 1.48744343e-02, 2.97139358e-02, 4.45534374e-02,\n",
       "        5.93929389e-02, 7.42324405e-02, 8.90719420e-02, 1.03911444e-01,\n",
       "        1.18750945e-01, 1.33590447e-01, 1.48429948e-01]),\n",
       " <BarContainer object of 10 artists>)"
      ]
     },
     "execution_count": 6,
     "metadata": {},
     "output_type": "execute_result"
    },
    {
     "data": {
      "image/png": "[encoded data removed]",
      "text/plain": [
       "<Figure size 432x288 with 1 Axes>"
      ]
     },
     "metadata": {
      "needs_background": "light"
     },
     "output_type": "display_data"
    }
   ],
   "source": [
    "p = 'checkpoints/ContrastiveLearning-SET-Wildcard-Expand-Union-27/20210331-140130-Con;Vec24;L8H8Lk4Hk2;scheduledAdamW36000;16882.36Kparams_runId_uzykt0nh/test_metrics.json'\n",
    "with open(p, 'r') as f:\n",
    "    res = json.load(f)\n",
    "    \n",
    "full_kl_loss = [row for batch in res['full_kl_loss'] for row in batch]\n",
    "full_logits = [row for batch in res['full_logits'] for row in batch]\n",
    "full_probs = softmax(full_logits)\n",
    "\n",
    "\n",
    "full_kl_loss_sum_row = np.sum(np.array(full_kl_loss), axis=-1)\n",
    "sorted_indices = np.argsort(full_kl_loss_sum_row)\n",
    "print('top 50th data indices by kl loss', sorted_indices[:50])\n",
    "\n",
    "plt.hist(full_kl_loss_sum_row)"
   ]
  },
  {
   "cell_type": "code",
   "execution_count": 7,
   "id": "greenhouse-saturday",
   "metadata": {
    "scrolled": true
   },
   "outputs": [
    {
     "data": {
      "text/plain": [
       "array([3.49327347e-05, 3.50563560e-05, 3.54271906e-05, ...,\n",
       "       1.40685919e-01, 1.42676451e-01, 1.48429948e-01])"
      ]
     },
     "execution_count": 7,
     "metadata": {},
     "output_type": "execute_result"
    }
   ],
   "source": [
    "full_kl_loss_sum_row[sorted_indices]"
   ]
  },
  {
   "cell_type": "code",
   "execution_count": 8,
   "id": "racial-freight",
   "metadata": {},
   "outputs": [
    {
     "name": "stdout",
     "output_type": "stream",
     "text": [
      "---------data----------\n",
      "num_attributes : 3\n",
      "num_attr_vals : 3\n",
      "key_support_size : 27\n",
      "N_pairs : 8\n",
      "union_only : True\n",
      "max_len_q : 16\n",
      "len_k : 1\n",
      "train_gt_idxs length : 0\n",
      "val_gt_idxs length : 5120\n",
      "test_gt_idxs length : 5120\n",
      "train_tokens length : 0\n",
      "val_tokens length : 5120\n",
      "test_tokens length : 5120\n",
      "test_marginal_gt_idxs length : 5120\n",
      "test_marginal_tokens length : 5120\n",
      "vocab_size : 74\n",
      "symbol_vocab_token_lookup : {'(': 64, ')': 65, 'NULL': 66, 'SEP': 67, 'SOS': 68, 'EOS': 69, 'PAD': 70, 'PLH': 71, '|': 72, '!': 73}\n",
      "vocab_by_property : False\n",
      "-----------------------\n"
     ]
    }
   ],
   "source": [
    "game_data = main.load_data(args.data_path)\n",
    "gt_counts = np.array([len(gt_idxs) for gt_idxs in game_data['test_gt_idxs']])"
   ]
  },
  {
   "cell_type": "code",
   "execution_count": 9,
   "id": "supposed-surname",
   "metadata": {},
   "outputs": [
    {
     "name": "stdout",
     "output_type": "stream",
     "text": [
      "[20, 19, 15, 18, 18, 19, 18, 19, 21, 19, 18, 20, 21, 19, 19, 21, 18, 20, 19, 18, 21, 18, 22, 19, 20, 19, 23, 20, 21, 21, 21, 18, 24, 20, 17, 21, 21, 18, 19, 21, 21, 20, 22, 22, 20, 18, 19, 22, 23, 20, 21, 21, 19, 20, 20, 18, 20, 17, 22, 20, 23, 18, 23, 23, 20, 22, 20, 23, 23, 21, 23, 19, 15, 23, 21, 21, 21, 24, 23, 22, 23, 22, 20, 22, 19, 23, 19, 21, 17, 20, 24, 20, 21, 19, 22, 16, 21, 22, 22, 23, 20, 23, 23, 23, 19, 16, 20, 24, 21, 22, 23, 21, 18, 19, 19, 21, 19, 24, 24, 22, 23, 21, 20, 21, 23, 17, 20, 20, 23, 21, 23, 20, 24, 17, 21, 23, 21, 23, 17, 21, 19, 23, 23, 19, 24, 25, 18, 19, 20, 23, 21, 23, 17, 22, 17, 24, 21, 20, 23, 20, 20, 21, 22, 21, 18, 25, 18, 24, 24, 22, 23, 20, 23, 23, 21, 20, 24, 21, 23, 23, 19, 21, 24, 23, 20, 22, 23, 21, 23, 24, 20, 20, 21, 24, 21, 20, 21, 24, 21, 23, 21, 22, 23, 24, 21, 24, 22, 22, 25, 24, 22, 20, 20, 20, 25, 23, 23, 20, 22, 22, 17, 23, 23, 23, 22, 21, 19, 24, 18, 23, 23, 17, 23, 20, 21, 22, 20, 22, 17, 23, 24, 20, 18, 21, 22, 23, 25, 23, 17, 23, 21, 19, 20, 23, 21, 23, 25, 20, 21, 17, 21, 22, 25, 25, 25, 25, 22, 18, 22, 21, 21, 14, 25, 16, 20, 21, 24, 20, 22, 25, 20, 23, 18, 23, 21, 21, 18, 24, 21, 23, 23, 22, 19, 13, 19, 21, 20, 19, 22, 24, 22, 23, 20, 21, 23, 15, 23, 22, 21, 22, 18, 24, 20, 20, 14, 21, 18, 21, 26, 23, 17, 25, 24, 24, 21, 25, 19, 20, 24, 23, 23, 20, 22, 22, 22, 21, 23, 19, 22, 25, 21, 18, 24, 20, 24, 21, 19, 24, 21, 21, 19, 20, 18, 19, 18, 22, 22, 21, 23, 20, 24, 18, 20, 25, 24, 17, 22, 22, 18, 25, 21, 19, 20, 18, 19, 21, 19, 21, 17, 23, 19, 26, 23, 22, 18, 16, 23, 23, 22, 25, 24, 19, 24, 24, 23, 20, 25, 20, 23, 23, 25, 25, 24, 25, 25, 25, 24, 21, 23, 23, 23, 16, 23, 21, 21, 19, 24, 23, 22, 20, 18, 22, 25, 21, 15, 22, 21, 17, 20, 22, 22, 24, 21, 20, 23, 20, 19, 15, 22, 20, 21, 17, 22, 16, 18, 20, 24, 22, 21, 21, 24, 20, 21, 19, 21, 23, 22, 21, 22, 15, 21, 19, 17, 20, 21, 25, 23, 21, 22, 25, 18, 17, 26, 18, 18, 22, 20, 23, 22, 15, 22, 21, 21, 19, 20, 17, 23, 20, 23, 17, 18, 14, 22, 21, 21, 25, 19, 21, 23, 10, 17, 22, 25, 25, 19, 18, 15, 20, 17, 15, 19, 16, 22, 19, 24, 17, 26, 21, 19, 22, 20, 21, 12, 16, 21, 21, 23, 24, 21, 20, 18, 23, 17, 19, 23, 15, 21, 19, 17, 24, 25, 12, 23, 23, 13, 24, 20, 18, 19, 18, 17, 21, 17, 20, 13, 16, 17, 22, 20, 21, 17, 22, 18, 15, 21, 14, 23, 15, 22, 19, 22, 23, 22, 17, 18, 18, 20, 12, 21, 15, 21, 23, 17, 20, 22, 21, 19, 18, 23, 20, 18, 18, 19, 23, 20, 14, 22, 25, 20, 22, 24, 20, 25, 18, 23, 24, 17, 22, 16, 21, 13, 22, 22, 22, 23, 22, 25, 23, 21, 23, 16, 23, 18, 20, 20, 19, 17, 21, 16, 22, 18, 14, 17, 20, 20, 18, 25, 19, 19, 20, 22, 13, 19, 23, 21, 20, 16, 22, 13, 24, 20, 22, 18, 19, 17, 21, 15, 17, 21, 22, 20, 18, 22, 19, 21, 18, 22, 22, 15, 23, 22, 18, 21, 15, 22, 25, 19, 25, 23, 13, 19, 12, 21, 17, 21, 20, 23, 21, 14, 13, 19, 21, 22, 22, 20, 22, 18, 25, 19, 20, 17, 23, 21, 17, 16, 23, 22, 21, 17, 20, 18, 20, 14, 18, 19, 17, 20, 22, 22, 21, 19, 17, 19, 21, 23, 21, 16, 18, 13, 20, 18, 17, 16, 23, 8, 16, 16, 18, 22, 20, 21, 26, 17, 19, 17, 24, 19, 16, 19, 19, 23, 25, 26, 22, 14, 18, 11, 20, 18, 19, 13, 20, 22, 19, 20, 18, 15, 20, 19, 20, 16, 26, 20, 19, 18, 13, 19, 13, 19, 15, 15, 18, 20, 17, 25, 16, 23, 18, 23, 22, 19, 21, 25, 19, 11, 21, 20, 23, 19, 17, 22, 20, 24, 21, 20, 20, 20, 23, 22, 15, 11, 17, 12, 12, 22, 10, 22, 21, 18, 17, 13, 21, 23, 19, 21, 20, 22, 23, 21, 18, 22, 19, 22, 17, 16, 22, 16, 11, 19, 25, 11, 21, 22, 17, 18, 19, 15, 19, 12, 15, 9, 17, 14, 21, 22, 20, 22, 15, 19, 22, 20, 22, 19, 17, 17, 19, 19, 19, 18, 18, 20, 21, 20, 10, 19, 12, 21, 20, 24, 20, 18, 22, 22, 18, 19, 18, 21, 21, 22, 22, 19, 19, 19, 16, 13, 22, 13, 20, 13, 17, 14, 13, 16, 19, 16, 23, 14, 23, 10, 18, 22, 17, 17, 20, 18, 17, 25, 21, 17, 19, 22, 16, 14, 8, 10, 19, 12, 23, 14, 15, 20, 21, 16, 22, 15, 21, 18, 25, 19, 21, 18, 16, 17, 18, 19, 13, 14, 19, 19, 22, 20, 19, 18, 23, 14, 19, 20, 23, 17, 16, 16, 22, 12, 21, 9, 21, 22, 22, 19, 13, 16, 15, 19, 17, 21, 23, 21, 16, 10, 11, 19, 17, 16, 19, 22, 12, 13, 16, 20, 22, 18, 17, 18, 11, 22, 22, 20, 10, 23, 17, 19, 14, 20, 22, 13, 21, 22, 7, 21, 14, 23, 13, 13, 20, 25, 12, 23, 17, 14, 19, 14, 13, 11, 13, 20, 20, 15, 23, 18, 14, 22, 17, 9, 17, 19, 23, 18, 23, 23, 15, 23, 22, 21, 14, 16, 23, 16, 21, 14, 17, 15, 18, 20, 22, 19, 20, 18, 15, 15, 22, 18, 8, 19, 17, 12, 12, 13, 18, 14, 9, 15, 15, 21, 23, 19, 24, 15, 12, 13, 23, 20, 20, 18, 13, 20, 10, 11, 11, 14, 18, 17, 18, 22, 17, 18, 23, 25, 20, 19, 10, 21, 22, 21, 17, 9, 19, 11, 18, 19, 25, 17, 22, 21, 16, 16, 23, 17, 21, 12, 15, 10, 22, 15, 18, 9, 20, 17, 15, 17, 16, 13, 10, 11, 16, 18, 16, 22, 17, 17, 19, 15, 18, 20, 12, 21, 13, 20, 17, 18, 13, 19, 14, 13, 22, 17, 17, 17, 14, 19, 20, 18, 15, 20, 20, 20, 17, 17, 14, 16, 23, 11, 20, 19, 13, 19, 21, 13, 11, 16, 16, 15, 21, 22, 17, 21, 14, 12, 20, 19, 14, 14, 9, 12, 14, 23, 20, 19, 17, 16, 14, 17, 15, 17, 20, 18, 14, 11, 17, 14, 18, 18, 22, 15, 23, 21, 17, 20, 15, 13, 23, 16, 15, 17, 16, 17, 21, 19, 14, 20, 24, 16, 19, 14, 16, 21, 16, 13, 21, 15, 20, 15, 15, 15, 17, 18, 16, 18, 10, 19, 22, 21, 13, 19, 11, 16, 22, 18, 19, 17, 13, 18, 21, 14, 11, 23, 17, 18, 21, 18, 16, 15, 18, 18, 20, 17, 18, 21, 19, 17, 19, 16, 15, 15, 17, 10, 22, 18, 13, 11, 14, 16, 17, 11, 22, 9, 12, 18, 19, 17, 12, 18, 18, 17, 20, 11, 14, 15, 18, 20, 22, 19, 19, 16, 20, 15, 17, 11, 17, 10, 16, 18, 22, 18, 15, 22, 12, 16, 14, 16, 18, 9, 17, 17, 16, 15, 21, 19, 18, 19, 18, 11, 19, 15, 12, 14, 19, 17, 22, 17, 19, 8, 13, 17, 16, 18, 17, 12, 14, 20, 10, 21, 16, 13, 19, 21, 23, 18, 26, 19, 20, 23, 18, 13, 24, 16, 19, 22, 12, 16, 11, 15, 17, 12, 14, 17, 16, 21, 16, 17, 11, 18, 18, 15, 14, 13, 9, 17, 18, 9, 12, 13, 12, 12, 22, 16, 13, 17, 19, 12, 23, 19, 11, 15, 9, 15, 14, 17, 14, 17, 23, 21, 10, 16, 17, 19, 15, 19, 16, 21, 25, 13, 24, 21, 19, 13, 20, 18, 17, 18, 13, 21, 16, 20, 19, 12, 11, 18, 23, 18, 20, 25, 16, 17, 15, 10, 14, 17, 17, 21, 16, 16, 16, 20, 11, 20, 16, 18, 18, 17, 17, 15, 19, 8, 17, 10, 15, 22, 17, 19, 18, 15, 18, 22, 20, 19, 13, 16, 22, 16, 16, 20, 16, 7, 12, 19, 26, 17, 11, 15, 20, 13, 17, 11, 25, 16, 14, 23, 23, 18, 16, 22, 11, 10, 13, 16, 16, 19, 18, 18, 18, 18, 21, 19, 17, 17, 13, 16, 14, 17, 14, 15, 15, 10, 16, 17, 17, 20, 19, 10, 15, 13, 10, 14, 26, 22, 16, 22, 11, 14, 12, 10, 11, 26, 11, 21, 10, 21, 16, 17, 12, 16, 14, 16, 25, 17, 18, 23, 23, 21, 16, 17, 22, 13, 20, 13, 17, 18, 22, 14, 17, 18, 17, 18, 17, 21, 13, 12, 17, 17, 11, 15, 9, 18, 17, 18, 18, 19, 14, 17, 15, 14, 16, 18, 17, 24, 11, 17, 15, 12, 12, 18, 23, 19, 13, 19, 19, 15, 24, 14, 12, 16, 13, 16, 16, 15, 21, 14, 17, 18, 13, 12, 19, 19, 19, 22, 22, 18, 20, 17, 7, 25, 20, 16, 11, 24, 14, 13, 16, 13, 18, 18, 15, 13, 17, 16, 9, 17, 18, 14, 16, 18, 15, 21, 17, 22, 17, 23, 12, 14, 18, 16, 16, 12, 17, 19, 22, 17, 18, 13, 15, 16, 15, 17, 22, 22, 15, 15, 17, 13, 14, 17, 17, 15, 11, 16, 19, 17, 17, 14, 11, 22, 23, 21, 19, 20, 12, 20, 20, 21, 19, 16, 12, 21, 22, 19, 18, 18, 21, 22, 20, 14, 16, 12, 10, 9, 20, 16, 20, 8, 18, 22, 18, 18, 21, 14, 12, 24, 13, 17, 16, 18, 15, 16, 18, 19, 20, 14, 16, 13, 16, 13, 9, 12, 13, 16, 14, 12, 12, 21, 20, 22, 23, 18, 23, 18, 16, 12, 14, 18, 19, 11, 17, 22, 12, 10, 19, 12, 11, 15, 20, 12, 20, 13, 12, 17, 16, 9, 17, 18, 24, 19, 15, 13, 20, 10, 16, 14, 13, 16, 21, 14, 15, 18, 18, 12, 22, 18, 18, 14, 13, 20, 13, 16, 17, 15, 15, 12, 8, 23, 22, 10, 16, 16, 18, 13, 20, 14, 15, 16, 16, 16, 22, 17, 14, 17, 18, 16, 13, 16, 15, 15, 18, 15, 7, 16, 16, 14, 19, 18, 17, 16, 22, 11, 18, 16, 16, 10, 13, 14, 12, 21, 16, 17, 24, 14, 21, 17, 18, 9, 22, 14, 15, 17, 19, 24, 12, 16, 19, 17, 13, 12, 14, 15, 14, 18, 18, 21, 14, 14, 18, 19, 18, 18, 18, 9, 14, 19, 15, 10, 11, 14, 18, 21, 16, 18, 15, 15, 12, 16, 15, 19, 18, 18, 12, 12, 20, 16, 22, 22, 18, 15, 14, 15, 11, 19, 19, 14, 16, 17, 12, 15, 11, 14, 20, 14, 17, 17, 18, 12, 19, 15, 14, 15, 16, 12, 14, 16, 13, 22, 15, 14, 13, 11, 12, 19, 17, 19, 20, 16, 10, 11, 15, 22, 18, 22, 18, 20, 10, 18, 19, 15, 16, 13, 18, 12, 20, 11, 20, 17, 13, 19, 16, 20, 20, 17, 18, 15, 16, 14, 11, 24, 11, 22, 20, 17, 18, 21, 19, 17, 20, 8, 16, 19, 24, 20, 22, 20, 21, 18, 15, 13, 17, 19, 17, 19, 22, 14, 11, 16, 17, 18, 17, 15, 13, 13, 18, 12, 19, 14, 17, 19, 15, 15, 15, 19, 16, 16, 17, 17, 18, 15, 13, 17, 15, 18, 20, 12, 16, 17, 17, 19, 15, 20, 16, 21, 21, 20, 20, 13, 12, 19, 13, 18, 16, 21, 13, 17, 17, 12, 17, 17, 23, 12, 17, 20, 15, 15, 19, 11, 14, 11, 17, 15, 16, 18, 17, 15, 22, 11, 19, 20, 12, 17, 17, 20, 13, 12, 19, 14, 16, 15, 19, 19, 14, 16, 13, 18, 22, 17, 12, 19, 9, 14, 11, 18, 18, 20, 12, 19, 11, 16, 17, 21, 10, 14, 13, 18, 16, 9, 17, 19, 17, 17, 16, 18, 9, 22, 17, 18, 14, 18, 20, 16, 15, 16, 19, 17, 17, 16, 18, 11, 21, 15, 16, 17, 15, 14, 17, 17, 22, 14, 19, 20, 17, 16, 19, 20, 21, 18, 16, 18, 26, 17, 18, 10, 12, 17, 19, 16, 20, 14, 18, 23, 14, 13, 10, 14, 14, 12, 15, 16, 12, 16, 17, 14, 14, 18, 11, 16, 20, 11, 18, 15, 19, 15, 22, 17, 20, 19, 22, 14, 15, 15, 16, 14, 14, 19, 14, 12, 19, 14, 12, 18, 15, 18, 20, 13, 16, 20, 15, 13, 17, 13, 18, 18, 19, 17, 15, 10, 15, 16, 13, 14, 19, 18, 20, 18, 20, 9, 17, 20, 18, 19, 16, 17, 17, 20, 14, 12, 14, 12, 21, 15, 14, 17, 21, 13, 18, 18, 14, 15, 20, 19, 17, 26, 13, 14, 15, 16, 18, 20, 23, 13, 11, 17, 20, 18, 17, 15, 12, 14, 11, 14, 12, 23, 16, 15, 17, 20, 17, 18, 19, 13, 15, 18, 13, 19, 10, 14, 20, 17, 19, 16, 15, 19, 17, 10, 13, 20, 12, 14, 19, 14, 18, 17, 14, 17, 18, 13, 17, 16, 19, 13, 13, 15, 13, 22, 10, 19, 11, 16, 17, 18, 20, 16, 21, 11, 17, 17, 22, 11, 21, 16, 16, 18, 12, 20, 13, 16, 16, 14, 14, 22, 19, 18, 20, 17, 17, 17, 11, 9, 10, 19, 16, 18, 17, 16, 12, 19, 11, 11, 15, 14, 14, 10, 18, 12, 16, 20, 10, 16, 17, 12, 22, 15, 19, 17, 11, 15, 13, 19, 13, 17, 11, 15, 21, 15, 20, 16, 17, 16, 17, 16, 16, 12, 21, 10, 13, 17, 9, 9, 16, 16, 11, 15, 16, 17, 17, 16, 13, 14, 12, 16, 16, 22, 20, 15, 17, 19, 24, 18, 14, 17, 18, 13, 16, 17, 15, 14, 12, 16, 13, 18, 11, 19, 14, 11, 16, 11, 19, 15, 14, 19, 12, 24, 15, 17, 20, 13, 18, 17, 14, 13, 14, 20, 20, 17, 18, 13, 16, 20, 20, 11, 20, 14, 13, 20, 17, 16, 14, 14, 19, 21, 13, 19, 18, 12, 11, 15, 10, 20, 15, 16, 19, 16, 17, 20, 10, 14, 18, 12, 9, 17, 20, 12, 16, 18, 18, 14, 14, 18, 14, 13, 17, 12, 14, 19, 10, 15, 17, 8, 16, 13, 15, 12, 19, 17, 12, 13, 16, 16, 22, 13, 12, 13, 11, 17, 20, 8, 16, 15, 23, 16, 19, 17, 14, 17, 17, 16, 19, 16, 13, 14, 16, 22, 15, 15, 16, 12, 18, 19, 19, 11, 13, 13, 16, 18, 16, 13, 12, 18, 11, 17, 15, 18, 18, 19, 10, 13, 16, 20, 22, 20, 19, 16, 14, 15, 20, 20, 20, 22, 16, 24, 22, 18, 13, 17, 18, 12, 22, 14, 14, 17, 18, 18, 11, 15, 18, 19, 20, 19, 16, 9, 18, 13, 16, 13, 15, 20, 18, 13, 16, 15, 14, 9, 15, 16, 12, 16, 19, 14, 11, 17, 13, 11, 16, 15, 15, 15, 19, 15, 19, 17, 16, 23, 17, 19, 11, 13, 19, 13, 17, 11, 11, 15, 17, 17, 15, 20, 12, 17, 15, 15, 20, 13, 10, 17, 15, 16, 18, 16, 15, 17, 18, 14, 13, 14, 14, 17, 13, 17, 20, 21, 15, 13, 14, 17, 19, 16, 17, 10, 19, 18, 14, 14, 16, 20, 15, 12, 13, 16, 19, 20, 19, 18, 20, 15, 15, 18, 18, 21, 15, 20, 24, 17, 15, 19, 15, 14, 16, 14, 13, 14, 16, 21, 14, 18, 12, 18, 15, 18, 17, 18, 11, 13, 19, 17, 15, 18, 10, 14, 21, 13, 18, 17, 18, 19, 19, 13, 20, 24, 16, 11, 14, 17, 12, 18, 14, 19, 10, 18, 17, 17, 20, 19, 22, 21, 23, 20, 18, 19, 17, 17, 18, 20, 15, 17, 14, 13, 13, 16, 11, 20, 18, 10, 13, 16, 14, 24, 22, 12, 19, 12, 17, 15, 19, 17, 15, 18, 17, 16, 20, 16, 21, 16, 21, 13, 22, 21, 20, 17, 19, 18, 11, 15, 17, 21, 11, 21, 17, 17, 21, 20, 19, 15, 18, 17, 15, 15, 14, 19, 17, 16, 17, 13, 18, 19, 23, 15, 18, 18, 16, 22, 18, 13, 11, 20, 15, 17, 13, 16, 16, 9, 19, 14, 18, 19, 17, 20, 15, 17, 14, 16, 21, 15, 18, 11, 14, 11, 14, 23, 13, 17, 18, 12, 16, 20, 14, 17, 17, 19, 16, 22, 18, 16, 16, 13, 24, 23, 18, 14, 22, 14, 16, 14, 18, 17, 15, 9, 21, 19, 17, 19, 17, 15, 15, 22, 20, 18, 14, 12, 16, 14, 20, 13, 11, 18, 17, 16, 10, 20, 24, 15, 15, 14, 12, 15, 11, 17, 21, 13, 10, 17, 18, 11, 22, 20, 18, 15, 21, 15, 14, 16, 19, 10, 19, 24, 12, 15, 20, 16, 15, 21, 18, 16, 8, 20, 16, 17, 17, 15, 14, 14, 17, 18, 16, 12, 13, 16, 15, 18, 11, 17, 15, 14, 12, 20, 16, 15, 20, 21, 19, 17, 18, 16, 10, 18, 14, 23, 15, 16, 16, 18, 20, 11, 17, 20, 21, 18, 23, 16, 16, 23, 17, 13, 13, 17, 17, 15, 14, 17, 20, 17, 19, 20, 17, 14, 6, 17, 9, 15, 19, 14, 11, 18, 17, 10, 19, 14, 16, 21, 19, 19, 18, 15, 18, 11, 15, 19, 15, 18, 18, 12, 15, 20, 24, 17, 15, 16, 22, 11, 17, 19, 18, 16, 15, 16, 17, 18, 15, 12, 19, 20, 15, 22, 14, 21, 15, 17, 17, 13, 16, 21, 17, 20, 14, 15, 17, 19, 21, 13, 10, 20, 15, 14, 17, 18, 22, 18, 18, 13, 18, 18, 16, 15, 10, 19, 14, 22, 17, 12, 14, 15, 14, 20, 10, 14, 18, 14, 22, 18, 17, 21, 21, 15, 17, 16, 13, 15, 24, 18, 15, 19, 16, 17, 16, 14, 17, 17, 15, 16, 23, 9, 16, 15, 11, 17, 19, 14, 14, 15, 15, 15, 16, 11, 11, 22, 11, 20, 12, 13, 17, 14, 19, 19, 22, 17, 16, 15, 24, 17, 13, 15, 11, 17, 19, 19, 14, 14, 19, 17, 18, 20, 18, 16, 19, 14, 13, 13, 21, 21, 13, 17, 16, 22, 18, 14, 20, 22, 13, 17, 20, 20, 19, 13, 19, 23, 20, 16, 16, 11, 15, 16, 16, 15, 16, 14, 13, 17, 13, 18, 16, 15, 19, 11, 24, 14, 16, 13, 15, 15, 14, 11, 19, 14, 22, 17, 17, 15, 13, 18, 21, 17, 18, 19, 17, 19, 12, 16, 18, 15, 14, 19, 16, 17, 18, 18, 20, 17, 18, 19, 14, 13, 17, 15, 16, 18, 15, 19, 14, 20, 15, 19, 16, 24, 19, 15, 13, 15, 18, 14, 16, 18, 18, 11, 18, 21, 16, 20, 16, 10, 13, 14, 13, 16, 15, 14, 24, 16, 20, 15, 18, 12, 17, 15, 20, 19, 20, 18, 11, 13, 18, 20, 14, 17, 20, 15, 24, 21, 17, 16, 20, 17, 13, 22, 14, 17, 17, 14, 17, 12, 24, 16, 14, 19, 24, 19, 16, 11, 20, 18, 14, 12, 17, 17, 15, 12, 20, 17, 14, 17, 16, 10, 15, 20, 17, 18, 23, 13, 14, 19, 16, 16, 17, 18, 15, 15, 11, 18, 21, 19, 17, 13, 13, 22, 16, 16, 16, 14, 16, 13, 23, 10, 13, 16, 14, 17, 15, 22, 19, 16, 21, 15, 21, 18, 11, 15, 9, 17, 15, 13, 19, 20, 19, 14, 22, 20, 21, 20, 19, 14, 19, 15, 20, 17, 13, 13, 15, 19, 17, 13, 15, 16, 16, 13, 16, 18, 18, 16, 15, 15, 12, 19, 13, 12, 20, 19, 17, 18, 18, 18, 19, 15, 13, 17, 16, 17, 11, 19, 20, 20, 15, 19, 13, 15, 17, 17, 19, 22, 15, 12, 13, 14, 14, 15, 17, 17, 17, 12, 17, 16, 19, 19, 17, 20, 18, 18, 13, 19, 16, 18, 13, 17, 18, 12, 16, 21, 22, 10, 16, 20, 19, 15, 16, 18, 21, 15, 15, 13, 21, 9, 17, 21, 19, 16, 17, 20, 11, 18, 18, 13, 18, 15, 23, 21, 17, 17, 14, 19, 17, 19, 13, 17, 20, 15, 14, 15, 21, 17, 17, 13, 15, 14, 14, 17, 21, 21, 20, 13, 19, 17, 12, 15, 17, 19, 18, 14, 15, 14, 13, 14, 13, 19, 22, 15, 17, 17, 16, 16, 15, 19, 12, 19, 13, 14, 16, 17, 16, 16, 19, 18, 19, 17, 16, 19, 16, 16, 19, 19, 15, 19, 22, 15, 19, 19, 21, 19, 19, 18, 13, 15, 20, 21, 18, 12, 17, 16, 20, 15, 15, 20, 15, 16, 22, 16, 14, 15, 19, 16, 11, 17, 16, 18, 12, 16, 13, 17, 16, 20, 21, 12, 16, 16, 12, 18, 16, 18, 13, 15, 20, 17, 20, 15, 18, 14, 8, 16, 15, 19, 18, 19, 17, 18, 18, 15, 17, 17, 15, 11, 15, 18, 12, 15, 13, 11, 18, 17, 21, 8, 17, 18, 15, 14, 16, 13, 18, 19, 18, 14, 17, 21, 19, 21, 18, 16, 11, 18, 12, 18, 14, 17, 19, 9, 14, 15, 8, 16, 22, 14, 21, 20, 15, 18, 16, 13, 17, 14, 20, 14, 15, 13, 13, 16, 17, 16, 19, 19, 11, 15, 13, 20, 15, 17, 14, 15, 15, 13, 21, 18, 21, 22, 18, 13, 15, 20, 17, 16, 13, 14, 20, 18, 17, 16, 17, 17, 14, 14, 20, 21, 11, 18, 17, 13, 13, 21, 22, 18, 13, 17, 15, 21, 12, 18, 16, 12, 15, 20, 13, 19, 11, 15, 15, 18, 15, 14, 19, 18, 17, 17, 20, 20, 22, 20, 11, 13, 15, 20, 17, 18, 12, 14, 22, 21, 18, 16, 19, 18, 15, 16, 16, 21, 12, 16, 14, 18, 22, 14, 18, 13, 21, 19, 18, 17, 16, 23, 10, 16, 17, 21, 11, 17, 18, 19, 20, 13, 15, 13, 16, 20, 24, 18, 19, 16, 17, 19, 16, 17, 21, 20, 21, 13, 13, 19, 17, 20, 17, 17, 15, 18, 21, 16, 21, 15, 17, 16, 17, 19, 12, 21, 14, 16, 12, 17, 11, 12, 24, 9, 15, 14, 19, 18, 18, 16, 8, 12, 20, 19, 19, 16, 16, 20, 21, 10, 12, 20, 15, 15, 23, 23, 18, 17, 17, 17, 19, 15, 18, 18, 20, 13, 16, 12, 15, 20, 16, 22, 15, 8, 22, 16, 18, 19, 19, 13, 16, 21, 11, 13, 18, 11, 13, 21, 14, 8, 12, 15, 18, 19, 16, 14, 15, 16, 16, 23, 18, 17, 13, 9, 16, 17, 15, 18, 20, 22, 20, 21, 18, 14, 19, 20, 19, 14, 10, 16, 17, 20, 17, 21, 19, 17, 17, 13, 23, 17, 13, 16, 15, 22, 19, 12, 20, 18, 19, 15, 9, 18, 13, 21, 17, 24, 9, 14, 12, 16, 22, 17, 18, 17, 18, 14, 21, 19, 15, 20, 15, 16, 23, 19, 22, 18, 16, 13, 17, 13, 15, 13, 21, 21, 23, 17, 16, 16, 20, 17, 16, 11, 22, 11, 20, 21, 9, 16, 18, 13, 22, 19, 17, 12, 18, 15, 11, 13, 17, 16, 9, 24, 10, 15, 15, 21, 17, 14, 18, 15, 17, 17, 14, 10, 12, 19, 15, 18, 15, 15, 17, 16, 21, 19, 17, 21, 14, 21, 21, 11, 18, 18, 18, 15, 15, 15, 18, 21, 17, 19, 16, 9, 19, 18, 18, 21, 23, 16, 15, 16, 14, 22, 21, 21, 15, 16, 17, 14, 23, 21, 16, 18, 20, 11, 19, 16, 21, 21, 21, 18, 21, 21, 18, 17, 15, 21, 20, 21, 21, 19, 16, 17, 24, 19, 19, 14, 16, 21, 24, 12, 18, 24, 20, 13, 18, 12, 21, 24, 12, 24, 14, 21, 19, 13, 18, 20, 20, 21, 21, 18, 21, 13, 24, 11, 11, 24, 18, 13, 16, 21, 16, 18, 21, 16, 11, 19, 21, 21, 21, 17, 11, 18, 18, 11, 24, 13, 8, 19, 21, 21, 24, 21, 27, 27, 27, 27, 27, 27, 27, 27, 27, 27, 27, 27, 27, 27, 27, 27, 27, 27, 27, 27, 27, 27, 27, 27, 27, 27, 27, 27, 27, 27, 27, 27, 27, 27, 27, 27, 27, 27, 27, 27, 27, 27, 27, 27, 27, 27, 27, 27, 27, 27, 27, 27, 27, 27, 27, 27, 27, 27, 27, 27, 27, 27, 27, 27, 27, 27, 27, 27, 27, 27, 27, 27, 27, 27, 27, 27, 27, 27, 27, 27, 27, 27, 27, 27, 27, 27, 27, 27, 27, 27, 27, 27, 27, 27, 27, 27, 27, 27, 27, 27, 27, 27, 27, 27, 27, 27, 27, 27, 27, 27, 27, 27, 27, 27, 27, 27, 27, 27, 27, 27, 27, 27, 27, 27, 27, 27, 27, 27, 27, 27, 27, 27, 27, 27, 27, 27, 27, 27, 27, 27, 27, 27, 27, 27, 27, 27, 27, 27, 27, 27, 27, 27, 27, 27, 27, 27, 27, 27, 27, 27, 27, 27, 27, 27, 27, 27, 27, 27, 27, 27, 27, 27, 27, 27, 27, 27, 27, 27, 27, 27, 27, 27, 27, 27, 27, 27, 27, 27, 27, 27, 27, 27, 27, 27, 27, 27, 27, 27, 27, 27, 27, 27, 27, 27, 27, 27, 27, 27, 27, 27, 27, 27, 27, 27, 27, 27, 27, 27, 27, 27, 27, 27, 27, 27, 27, 27, 27, 27, 27, 27, 27, 27, 27, 27, 27, 27, 27, 27, 27, 27, 27, 27, 27, 27, 27, 27, 27, 27, 27, 27, 27, 27, 27, 27, 27, 27, 27, 27, 27, 27, 27, 27, 27, 27, 27, 27, 27, 27, 27, 27, 27, 27, 27, 27, 27, 27, 27, 27, 27, 27, 27, 27, 27, 27, 27, 27, 27, 27, 27, 27, 27, 27, 27, 27, 27, 27, 27, 27, 27, 27, 27, 27, 27, 27, 27, 27, 27, 27, 27, 27, 27, 27, 27, 27, 27, 27, 27, 27, 27, 27, 27, 27, 27, 27, 27, 27, 27, 27, 27, 27, 27, 27, 27, 27, 27, 27, 27, 27, 27, 27, 27, 27, 27, 27, 27, 27, 27, 27, 27, 27, 27, 27, 27, 27, 27, 27, 27, 27, 27, 27, 27, 27, 27, 27, 27, 27, 27, 27, 27, 27, 27, 27, 27, 27, 27, 27, 27, 27, 27, 27, 27, 27, 27, 27, 27, 27, 27, 27, 27, 27, 27, 27, 27, 27, 27, 27, 27, 27, 27, 27, 27, 27, 27, 27, 27, 27, 27, 27, 27, 27, 27, 27, 27, 27, 27, 27, 27, 27, 27, 27, 27, 27, 27, 27, 27, 27, 27, 27, 27, 27, 27, 27, 27, 27, 27, 27, 27, 27, 27, 27, 27, 27, 27, 27, 27, 27, 27, 27, 27, 27, 27, 27, 27, 27, 27, 27, 27, 27, 27, 27, 27, 27, 27, 27, 27, 27, 27, 27, 27, 27, 27, 27, 27, 27, 27, 27, 27, 27, 27, 27, 27, 27, 27, 27, 27, 27, 27, 27, 27, 27, 27, 27, 27, 27, 27, 27, 27, 27, 27, 27, 27, 27, 27, 27, 27, 27, 27, 27, 27, 27, 27, 27, 27, 27, 27, 27, 27, 27, 27, 27, 27, 27, 27, 27, 27, 27, 27, 27, 27, 27, 27, 27, 27, 27, 27, 27, 27, 27, 27, 27, 27, 27, 27, 27, 27, 27, 27, 27, 27, 27, 27, 27, 27, 27, 27, 27, 27, 27, 27, 27, 27, 27, 27, 27, 27, 27, 27, 27, 27, 27, 27, 27, 27, 27, 27, 27, 27, 27, 27, 27, 27, 27, 27, 27, 27, 27, 27, 27, 27, 27, 27, 27, 27, 27, 27, 27, 27, 27, 27, 27, 27, 27, 27, 27, 27, 27, 27, 27, 27, 27, 27, 27, 27, 27, 27, 27, 27, 27, 27, 27, 27, 27, 27, 27, 27, 27, 27, 27, 27, 27, 27, 27, 27, 27, 27, 27, 27, 27, 27, 27, 27, 27, 27, 27, 27, 27, 27, 27, 27, 27, 27, 27, 27, 27, 27, 27, 27, 27, 27, 27, 27, 27, 27, 27, 27, 27, 27, 27, 27, 27, 27, 27, 27, 27, 27, 27, 27, 27, 27, 27, 27, 27, 27, 27, 27, 27, 27, 27, 27, 27, 27, 27, 27, 27, 27, 27, 27, 27, 27, 27, 27, 27, 27, 27, 27, 27, 27, 27, 27, 27, 27, 27, 27, 27, 27, 27, 27, 27, 27, 27, 27, 27, 27, 27, 27, 27, 27, 27, 27, 27, 27, 27, 27, 27, 27, 27, 27, 27, 27, 27, 27, 27, 27, 27, 27, 27, 27, 27, 27, 27, 27, 27, 27, 27, 27, 27, 27, 27, 27, 27, 27, 27, 27, 27, 27, 27, 27, 27, 27, 27, 27, 27, 27, 27, 27, 27, 27, 27, 27, 27, 27, 27, 27, 27, 27, 27, 27, 27, 27, 27, 27, 27, 27, 27, 27, 27, 27, 27, 27, 27, 27, 27, 27, 27, 27, 27, 27, 27, 27, 27, 27, 27, 27, 27, 27, 27, 27, 27, 27, 27, 27, 27, 27, 27, 27, 27, 27, 27, 27, 27, 27, 27, 27, 27, 27, 27, 27, 27, 27, 27, 27, 27, 27, 27, 27, 27, 27, 27, 27, 27, 27, 27, 27, 27, 27, 27, 27, 27, 27, 27, 27, 27, 27, 27, 27, 27, 27, 27, 27, 27, 27, 27, 27, 27, 27, 27, 27, 27, 27, 27, 27, 27, 27, 27, 27, 27, 27, 27, 27, 27, 27, 27, 27, 27, 27, 27, 27, 27, 27, 27, 27, 27, 27, 27, 27, 27, 27, 27, 27, 27, 27, 27, 27, 27, 27, 27, 27, 27, 27, 27, 27, 27, 27, 27, 27, 27, 27, 27, 27, 27, 27, 27, 27, 27, 27, 27, 27, 27, 27, 27, 27, 27, 27, 27, 27, 27, 27, 27, 27, 27, 27, 27, 27, 27, 27]\n"
     ]
    }
   ],
   "source": [
    "print(gt_counts[sorted_indices].tolist()[::-1])"
   ]
  },
  {
   "cell_type": "code",
   "execution_count": 10,
   "id": "controlling-evaluation",
   "metadata": {},
   "outputs": [
    {
     "data": {
      "text/plain": [
       "array([ 410, 2898, 1727, ..., 1163, 1626, 1103])"
      ]
     },
     "execution_count": 10,
     "metadata": {},
     "output_type": "execute_result"
    }
   ],
   "source": [
    "sorted_indices"
   ]
  },
  {
   "cell_type": "code",
   "execution_count": 11,
   "id": "bronze-soldier",
   "metadata": {},
   "outputs": [
    {
     "data": {
      "text/plain": [
       "[-0.8833113312721252,\n",
       " 0.6425755620002747,\n",
       " -8.971855163574219,\n",
       " -0.03524482250213623,\n",
       " -1.7488900423049927,\n",
       " 0.9817609190940857,\n",
       " -4.59053373336792,\n",
       " -1.1597216129302979,\n",
       " 0.636938214302063,\n",
       " 0.5420782566070557,\n",
       " 0.8825070858001709,\n",
       " 0.7078479528427124,\n",
       " 1.125469446182251,\n",
       " 0.6320333480834961,\n",
       " 0.6486777663230896,\n",
       " 0.6082066297531128,\n",
       " 0.7598424553871155,\n",
       " 0.8428783416748047,\n",
       " -5.475989818572998,\n",
       " 0.7134572863578796,\n",
       " -3.5667707920074463,\n",
       " 0.7501314878463745,\n",
       " 0.8455789685249329,\n",
       " 0.5776825547218323,\n",
       " -7.2728447914123535,\n",
       " 0.706152617931366,\n",
       " 0.7692233324050903]"
      ]
     },
     "execution_count": 11,
     "metadata": {},
     "output_type": "execute_result"
    }
   ],
   "source": [
    "full_logits[14]"
   ]
  },
  {
   "cell_type": "code",
   "execution_count": 12,
   "id": "piano-cinema",
   "metadata": {},
   "outputs": [
    {
     "data": {
      "text/plain": [
       "14"
      ]
     },
     "execution_count": 12,
     "metadata": {},
     "output_type": "execute_result"
    }
   ],
   "source": [
    "gt_counts[1207]"
   ]
  },
  {
   "cell_type": "code",
   "execution_count": 13,
   "id": "cutting-coach",
   "metadata": {},
   "outputs": [
    {
     "data": {
      "text/plain": [
       "(array([13.,  0.,  0.,  0.,  0.,  0.,  0.,  3.,  8.,  3.]),\n",
       " array([3.87073452e-09, 3.34735920e-01, 6.69471836e-01, 1.00420775e+00,\n",
       "        1.33894367e+00, 1.67367958e+00, 2.00841550e+00, 2.34315141e+00,\n",
       "        2.67788733e+00, 3.01262325e+00, 3.34735916e+00]),\n",
       " <BarContainer object of 10 artists>)"
      ]
     },
     "execution_count": 13,
     "metadata": {},
     "output_type": "execute_result"
    },
    {
     "data": {
      "image/png": "[encoded data removed]",
      "text/plain": [
       "<Figure size 432x288 with 1 Axes>"
      ]
     },
     "metadata": {
      "needs_background": "light"
     },
     "output_type": "display_data"
    }
   ],
   "source": [
    "plt.hist(np.exp(full_logits[1207]))"
   ]
  },
  {
   "cell_type": "code",
   "execution_count": 41,
   "id": "agricultural-superior",
   "metadata": {},
   "outputs": [
    {
     "data": {
      "text/plain": [
       "(array([13.,  0.,  0.,  0.,  0.,  0.,  0.,  3.,  8.,  3.]),\n",
       " array([9.46326839e-11, 8.18370732e-03, 1.63674146e-02, 2.45511218e-02,\n",
       "        3.27348290e-02, 4.09185362e-02, 4.91022435e-02, 5.72859507e-02,\n",
       "        6.54696579e-02, 7.36533651e-02, 8.18370724e-02]),\n",
       " <BarContainer object of 10 artists>)"
      ]
     },
     "execution_count": 41,
     "metadata": {},
     "output_type": "execute_result"
    },
    {
     "data": {
      "image/png": "[encoded data removed]",
      "text/plain": [
       "<Figure size 432x288 with 1 Axes>"
      ]
     },
     "metadata": {
      "needs_background": "light"
     },
     "output_type": "display_data"
    }
   ],
   "source": [
    "plt.hist(full_probs[1207])"
   ]
  },
  {
   "cell_type": "code",
   "execution_count": 35,
   "id": "cleared-comment",
   "metadata": {},
   "outputs": [
    {
     "data": {
      "text/plain": [
       "(array([14.,  0.,  0.,  0.,  0.,  0.,  1.,  1.,  6.,  5.]),\n",
       " array([1.00000001, 1.00938888, 1.01877775, 1.02816662, 1.03755549,\n",
       "        1.04694436, 1.05633323, 1.0657221 , 1.07511097, 1.08449984,\n",
       "        1.09388872]),\n",
       " <BarContainer object of 10 artists>)"
      ]
     },
     "execution_count": 35,
     "metadata": {},
     "output_type": "execute_result"
    },
    {
     "data": {
      "image/png": "[encoded data removed]",
      "text/plain": [
       "<Figure size 432x288 with 1 Axes>"
      ]
     },
     "metadata": {
      "needs_background": "light"
     },
     "output_type": "display_data"
    }
   ],
   "source": [
    "plt.hist(np.exp(full_probs[373]))"
   ]
  },
  {
   "cell_type": "code",
   "execution_count": 40,
   "id": "corporate-holmes",
   "metadata": {},
   "outputs": [
    {
     "data": {
      "text/plain": [
       "(array([14.,  0.,  0.,  0.,  0.,  0.,  1.,  1.,  6.,  5.]),\n",
       " array([6.87898174e-09, 8.97390377e-03, 1.79478007e-02, 2.69216976e-02,\n",
       "        3.58955945e-02, 4.48694914e-02, 5.38433882e-02, 6.28172851e-02,\n",
       "        7.17911820e-02, 8.07650789e-02, 8.97389758e-02]),\n",
       " <BarContainer object of 10 artists>)"
      ]
     },
     "execution_count": 40,
     "metadata": {},
     "output_type": "execute_result"
    },
    {
     "data": {
      "image/png": "[encoded data removed]",
      "text/plain": [
       "<Figure size 432x288 with 1 Axes>"
      ]
     },
     "metadata": {
      "needs_background": "light"
     },
     "output_type": "display_data"
    }
   ],
   "source": [
    "plt.hist(full_probs[373])"
   ]
  },
  {
   "cell_type": "code",
   "execution_count": 36,
   "id": "latin-audit",
   "metadata": {},
   "outputs": [
    {
     "data": {
      "text/plain": [
       "(array([16.,  0.,  0.,  0.,  0.,  0.,  0.,  2.,  7.,  2.]),\n",
       " array([1.        , 1.01106344, 1.02212687, 1.0331903 , 1.04425373,\n",
       "        1.05531716, 1.0663806 , 1.07744403, 1.08850746, 1.09957089,\n",
       "        1.11063432]),\n",
       " <BarContainer object of 10 artists>)"
      ]
     },
     "execution_count": 36,
     "metadata": {},
     "output_type": "execute_result"
    },
    {
     "data": {
      "image/png": "[encoded data removed]",
      "text/plain": [
       "<Figure size 432x288 with 1 Axes>"
      ]
     },
     "metadata": {
      "needs_background": "light"
     },
     "output_type": "display_data"
    }
   ],
   "source": [
    "plt.hist(np.exp(full_probs[3834]))"
   ]
  },
  {
   "cell_type": "code",
   "execution_count": 45,
   "id": "opposite-dream",
   "metadata": {},
   "outputs": [
    {
     "data": {
      "text/plain": [
       "4.217341949432729"
      ]
     },
     "execution_count": 45,
     "metadata": {},
     "output_type": "execute_result"
    }
   ],
   "source": [
    "np.mean(entropy(full_probs))"
   ]
  },
  {
   "cell_type": "code",
   "execution_count": 43,
   "id": "trained-citizen",
   "metadata": {},
   "outputs": [
    {
     "data": {
      "text/plain": [
       "3.7039944706388868"
      ]
     },
     "execution_count": 43,
     "metadata": {},
     "output_type": "execute_result"
    }
   ],
   "source": [
    "np.mean(entropy(full_probs[373]))"
   ]
  },
  {
   "cell_type": "code",
   "execution_count": 44,
   "id": "fifteen-reserve",
   "metadata": {},
   "outputs": [
    {
     "data": {
      "text/plain": [
       "3.9783929017746718"
      ]
     },
     "execution_count": 44,
     "metadata": {},
     "output_type": "execute_result"
    }
   ],
   "source": [
    "full_probs_10_20 = np.array(full_probs)[(gt_counts > 10) & (gt_counts <20)]\n",
    "np.mean(entropy(full_probs_10_20))"
   ]
  },
  {
   "cell_type": "code",
   "execution_count": 42,
   "id": "sorted-heaven",
   "metadata": {},
   "outputs": [
    {
     "data": {
      "text/plain": [
       "<BarContainer object of 28 artists>"
      ]
     },
     "execution_count": 42,
     "metadata": {},
     "output_type": "execute_result"
    },
    {
     "data": {
      "image/png": "[encoded data removed]",
      "text/plain": [
       "<Figure size 1440x720 with 1 Axes>"
      ]
     },
     "metadata": {
      "needs_background": "light"
     },
     "output_type": "display_data"
    }
   ],
   "source": [
    "gt_idxs_373 = sorted(game_data['test_gt_idxs'][373])\n",
    "not_gt_idxs_373 = [i for i in range(27) if not i in gt_idxs_373]\n",
    "\n",
    "plt.figure(figsize=(20,10))\n",
    "plt.ylim(0.0, 0.1)\n",
    "\n",
    "plt.axhline(y=1./gt_counts[373], color='r', linestyle='-')\n",
    "\n",
    "plt.bar(\n",
    "    [str(idx) for idx in gt_idxs_373] + [' '] + [str(idx) for idx in not_gt_idxs_373],  \n",
    "    list(full_probs[373][gt_idxs_373]) + [0] + list(full_probs[373][not_gt_idxs_373]),\n",
    "    color='k'\n",
    ")\n"
   ]
  },
  {
   "cell_type": "markdown",
   "id": "legal-consideration",
   "metadata": {},
   "source": [
    "## Embedding Analysis"
   ]
  },
  {
   "cell_type": "code",
   "execution_count": 17,
   "id": "every-slave",
   "metadata": {},
   "outputs": [
    {
     "name": "stdout",
     "output_type": "stream",
     "text": [
      "The autoreload extension is already loaded. To reload it, use:\n",
      "  %reload_ext autoreload\n"
     ]
    }
   ],
   "source": [
    "%load_ext autoreload\n",
    "%autoreload 2\n",
    "\n",
    "from dataset import BatchFetcher\n",
    "from metrics import find_nn, analogy, find_cos, find_dotproduct, find_euclidean\n",
    "from dataraw_sampling import construct_card_idx_lookup\n",
    "\n",
    "import matplotlib.pyplot as plt"
   ]
  },
  {
   "cell_type": "code",
   "execution_count": 18,
   "id": "statewide-constitution",
   "metadata": {},
   "outputs": [
    {
     "name": "stdout",
     "output_type": "stream",
     "text": [
      "---------data----------\n",
      "num_attributes : 3\n",
      "num_attr_vals : 3\n",
      "key_support_size : 27\n",
      "N_pairs : 8\n",
      "union_only : True\n",
      "max_len_q : 16\n",
      "len_k : 1\n",
      "train_gt_idxs length : 0\n",
      "val_gt_idxs length : 5120\n",
      "test_gt_idxs length : 5120\n",
      "train_tokens length : 0\n",
      "val_tokens length : 5120\n",
      "test_tokens length : 5120\n",
      "test_marginal_gt_idxs length : 5120\n",
      "test_marginal_tokens length : 5120\n",
      "vocab_size : 74\n",
      "symbol_vocab_token_lookup : {'(': 64, ')': 65, 'NULL': 66, 'SEP': 67, 'SOS': 68, 'EOS': 69, 'PAD': 70, 'PLH': 71, '|': 72, '!': 73}\n",
      "vocab_by_property : False\n",
      "-----------------------\n"
     ]
    }
   ],
   "source": [
    "cuda_device = trainmodule.model._parameters['key_bias_terms'].device\n",
    "\n",
    "game_data = main.load_data(args.data_path)\n",
    "batch_fecther = BatchFetcher(\n",
    "    raw_data = game_data, device=cuda_device)"
   ]
  },
  {
   "cell_type": "code",
   "execution_count": 19,
   "id": "minimal-haiti",
   "metadata": {},
   "outputs": [],
   "source": [
    "queries = [[(0,1,3),(0,0,0)], [(0,1,3),(1,2,0)]]\n",
    "keys = [[(0,0,0)],[(0,1,0)],[(2,2,2)]]\n",
    "X_query, X_key = batch_fecther.make_query_batch(X_query_properties=queries, X_key_properties=None, X_key=[i for i in range(game_data['key_support_size'])])\n",
    "query_repr, key_repr = trainmodule.pull_repr(X_query, X_key)"
   ]
  },
  {
   "cell_type": "code",
   "execution_count": 20,
   "id": "center-assurance",
   "metadata": {
    "scrolled": true
   },
   "outputs": [
    {
     "data": {
      "text/plain": [
       "tensor([[  9.8785, -17.5190,  -1.7598,   9.1620,  -2.2393,  -6.8355,  -2.1238,\n",
       "         -25.6763,   5.1036,   4.5735,   2.7096,  -1.5472,  38.6685, -16.0597,\n",
       "          18.9699,  14.9645,   2.1125,  -8.5509,  -2.5024,  -8.2279,   6.8735,\n",
       "         -14.1413, -20.9056,  -6.1109],\n",
       "        [  4.7060, -10.5563,  -1.3998,   7.6033,  -2.9854,  -5.0937,  -4.3776,\n",
       "         -28.3953,   3.1126,  18.1486,  -2.0603,  -4.6028,  29.7247, -10.4450,\n",
       "          27.2276,  25.3326,  -1.8811, -14.3890,   4.9014,   0.1106,  -7.8727,\n",
       "           4.0433,  -1.5732, -19.4394]], device='cuda:1')"
      ]
     },
     "execution_count": 20,
     "metadata": {},
     "output_type": "execute_result"
    }
   ],
   "source": [
    "query_repr"
   ]
  },
  {
   "cell_type": "code",
   "execution_count": 21,
   "id": "unique-produce",
   "metadata": {},
   "outputs": [
    {
     "data": {
      "text/plain": [
       "tensor([[-0.0290,  0.1609, -0.1900,  0.0316, -0.0598,  0.1608,  0.1516,  0.0665,\n",
       "         -0.0147,  0.1272,  0.1535,  0.0158,  0.0375, -0.0846, -0.1983,  0.0632,\n",
       "         -0.0652,  0.1380,  0.0331,  0.0087, -0.0184, -0.1824,  0.2033,  0.0810],\n",
       "        [-0.1272,  0.1739, -0.1948, -0.1155,  0.0577,  0.0932, -0.1381,  0.1305,\n",
       "          0.0523, -0.0812, -0.0459,  0.2073, -0.0635, -0.0378, -0.0217,  0.0175,\n",
       "          0.0590, -0.1216,  0.1391,  0.0846,  0.1642, -0.1282, -0.0711, -0.1003],\n",
       "        [ 0.1270,  0.0216,  0.0371,  0.1392,  0.1320, -0.1323, -0.1643, -0.1895,\n",
       "         -0.0629, -0.1453, -0.0149, -0.0114, -0.1004,  0.2601, -0.0134, -0.1894,\n",
       "         -0.0663, -0.1013, -0.0435,  0.1345,  0.0226, -0.0914,  0.2048,  0.1165],\n",
       "        [ 0.0591, -0.0472, -0.1058, -0.1073,  0.1479, -0.0943, -0.0169,  0.0398,\n",
       "         -0.0482,  0.0310, -0.0524, -0.0980, -0.0924, -0.1178, -0.0481,  0.0253,\n",
       "          0.0064,  0.0181, -0.1077, -0.0377,  0.0411, -0.0912,  0.1562, -0.0345],\n",
       "        [ 0.0877, -0.0992, -0.1599, -0.0965,  0.1580,  0.1267, -0.1066,  0.1482,\n",
       "          0.0955,  0.2003, -0.1147, -0.0967, -0.1266,  0.1551, -0.1229,  0.2021,\n",
       "         -0.1403,  0.1068,  0.1368,  0.0735,  0.1554, -0.0640, -0.1943,  0.0699],\n",
       "        [-0.2031,  0.1757,  0.0424,  0.0644,  0.1496, -0.0492, -0.1670, -0.1572,\n",
       "          0.1050,  0.0849, -0.1631, -0.1659, -0.2656, -0.1077, -0.1039,  0.0345,\n",
       "         -0.0804, -0.0581, -0.1677, -0.1842,  0.1036, -0.1621,  0.0753,  0.0405],\n",
       "        [ 0.1507,  0.2122, -0.1889,  0.0613,  0.0669, -0.0209,  0.1646,  0.0093,\n",
       "         -0.1627, -0.2043,  0.0512,  0.0395,  0.0182, -0.1189, -0.0375,  0.1235,\n",
       "         -0.0543, -0.0717, -0.1632, -0.0865,  0.1244, -0.0321, -0.0150,  0.1568],\n",
       "        [ 0.0149, -0.1221,  0.0019,  0.0153,  0.1463, -0.1330, -0.0181,  0.0725,\n",
       "          0.0483, -0.1067,  0.0652,  0.1561,  0.0084, -0.1111, -0.1948, -0.0824,\n",
       "         -0.0633, -0.1626, -0.1188,  0.0889, -0.0798, -0.1687, -0.1350,  0.1896],\n",
       "        [-0.0106,  0.0998, -0.0516,  0.2197, -0.1163, -0.2030,  0.1929,  0.0838,\n",
       "          0.1491, -0.0690, -0.1141,  0.1314,  0.0174,  0.2081, -0.0395,  0.0939,\n",
       "         -0.1041,  0.1853, -0.0330, -0.1445,  0.0974, -0.0930, -0.0083, -0.0215],\n",
       "        [-0.1087,  0.0647, -0.0118,  0.0216,  0.0834,  0.0776,  0.2036,  0.0569,\n",
       "          0.0705, -0.0569,  0.0334, -0.1615, -0.0471,  0.1585, -0.1225,  0.0601,\n",
       "          0.1933, -0.1591,  0.0005,  0.0877,  0.0163, -0.0118, -0.0532, -0.0906],\n",
       "        [ 0.1371, -0.0814, -0.2279,  0.0738,  0.0522,  0.2018,  0.0619,  0.1429,\n",
       "          0.1905, -0.1644, -0.1344, -0.0096,  0.0237,  0.1486,  0.0234, -0.1193,\n",
       "          0.1484, -0.0638, -0.1148, -0.1547, -0.1102,  0.1318,  0.0991, -0.0118],\n",
       "        [-0.1829, -0.0230,  0.1608, -0.1275,  0.1678,  0.1329,  0.0673, -0.0747,\n",
       "          0.0773, -0.1938, -0.0780,  0.1618, -0.0352,  0.1691, -0.0174,  0.1346,\n",
       "         -0.0226,  0.0542,  0.0349, -0.1197,  0.0658,  0.0838,  0.1691,  0.1874],\n",
       "        [ 0.0467, -0.0195,  0.0248, -0.0752,  0.0709, -0.1203,  0.0933,  0.1621,\n",
       "         -0.1106, -0.0734, -0.0743, -0.0384, -0.0612,  0.0317, -0.0035,  0.0463,\n",
       "          0.1859, -0.0065, -0.1031,  0.0663,  0.1791, -0.0103,  0.1471, -0.1727],\n",
       "        [ 0.1161,  0.1518,  0.1917, -0.0352,  0.0265,  0.0999, -0.2209,  0.1777,\n",
       "         -0.1226, -0.1398,  0.0728,  0.0691,  0.0448,  0.0747, -0.1975,  0.0807,\n",
       "          0.1039, -0.0192, -0.0369, -0.1384, -0.1007,  0.0592,  0.0175, -0.0649],\n",
       "        [ 0.0723, -0.1066, -0.0328,  0.0449, -0.1508,  0.0993,  0.1061, -0.1432,\n",
       "         -0.0186,  0.0864,  0.0366,  0.1370, -0.1838,  0.0925, -0.2143, -0.0830,\n",
       "         -0.0336,  0.1701, -0.1791,  0.0453,  0.1196,  0.1143, -0.0969, -0.0535],\n",
       "        [-0.0012,  0.1330, -0.0740,  0.0114, -0.1562,  0.0912,  0.0704,  0.0137,\n",
       "          0.0687, -0.0167, -0.0995, -0.0351, -0.2015,  0.0872,  0.0890,  0.1376,\n",
       "          0.1706,  0.0898, -0.0096,  0.0131,  0.0006, -0.1599, -0.0893,  0.2559],\n",
       "        [-0.1864, -0.1126,  0.0491,  0.1612, -0.0295,  0.0142, -0.1726,  0.2247,\n",
       "         -0.1605, -0.0400, -0.0082, -0.0516, -0.0553, -0.1124,  0.1104, -0.0906,\n",
       "         -0.0203, -0.1064, -0.1253, -0.0015, -0.0055, -0.0100,  0.1146,  0.1742],\n",
       "        [-0.2461, -0.0590, -0.1454, -0.2090,  0.0268, -0.0567,  0.0072,  0.1270,\n",
       "         -0.2891, -0.1102,  0.0493, -0.0285, -0.0432,  0.0638, -0.0595, -0.1198,\n",
       "         -0.0275, -0.0620,  0.0823, -0.0753, -0.1981, -0.0027, -0.1186, -0.1285],\n",
       "        [ 0.0078, -0.0096,  0.0165,  0.2567,  0.0682, -0.0254,  0.0186, -0.0680,\n",
       "         -0.0735,  0.0314, -0.0316,  0.1068, -0.1481,  0.0211, -0.1087,  0.1190,\n",
       "         -0.0879, -0.2195,  0.1381,  0.1220, -0.0776,  0.1595,  0.0204,  0.1066],\n",
       "        [ 0.0071,  0.2204, -0.0932, -0.0840,  0.1304, -0.0945, -0.0301,  0.0725,\n",
       "          0.0954,  0.1222, -0.1705,  0.1496,  0.0428,  0.0230, -0.0398,  0.0527,\n",
       "         -0.0029,  0.0684, -0.1553,  0.1641, -0.1270,  0.1403,  0.0318,  0.0805],\n",
       "        [ 0.0652,  0.1378,  0.0324, -0.2218, -0.1415, -0.0480,  0.0114, -0.0223,\n",
       "          0.2049,  0.1200,  0.0755,  0.0927, -0.2080,  0.0612,  0.0172,  0.1689,\n",
       "         -0.1496, -0.0874, -0.1216, -0.0538, -0.0095, -0.0014,  0.1166,  0.0567],\n",
       "        [ 0.1602, -0.0770,  0.0868, -0.0566, -0.0827, -0.1660, -0.0314, -0.0446,\n",
       "          0.0425, -0.1152, -0.2160,  0.0397, -0.1016, -0.1230, -0.1196, -0.0188,\n",
       "          0.0369,  0.0667,  0.1899, -0.0223, -0.0812,  0.0156,  0.2063,  0.1359],\n",
       "        [ 0.1053,  0.0969,  0.0765,  0.0134,  0.0803, -0.0014, -0.1006, -0.0498,\n",
       "          0.0102, -0.1286, -0.1286, -0.0209,  0.0476,  0.0187, -0.1413,  0.0352,\n",
       "         -0.0410,  0.0772,  0.0924,  0.1683, -0.1672,  0.0862, -0.0917,  0.1517],\n",
       "        [-0.0815,  0.1581,  0.1447, -0.0471, -0.1242,  0.1701,  0.1526,  0.1789,\n",
       "         -0.0730,  0.0256, -0.1761, -0.1438,  0.0788, -0.0287, -0.0336, -0.1702,\n",
       "         -0.1789, -0.1385, -0.0401,  0.0088,  0.0821,  0.0213, -0.0127, -0.0180],\n",
       "        [ 0.1721,  0.0103,  0.0762,  0.0728,  0.1721, -0.0282,  0.1278, -0.0083,\n",
       "         -0.0150,  0.1903,  0.0013,  0.1631, -0.0854,  0.0635, -0.0203, -0.1740,\n",
       "          0.0768, -0.0582,  0.0762, -0.1550, -0.0319,  0.0921, -0.0358,  0.2022],\n",
       "        [-0.0505, -0.0552,  0.0571, -0.0657, -0.0501, -0.1531, -0.1484,  0.0814,\n",
       "          0.1527, -0.0386,  0.1928, -0.1700, -0.0965, -0.0477,  0.0513, -0.2034,\n",
       "          0.0257,  0.1738,  0.1554, -0.0067,  0.1142,  0.2415,  0.0203,  0.0884],\n",
       "        [ 0.1582, -0.0199,  0.0068,  0.0716,  0.1729,  0.1151,  0.1754,  0.1088,\n",
       "          0.0340, -0.1544,  0.0652,  0.1171, -0.2076,  0.0220,  0.0888, -0.0613,\n",
       "         -0.0729,  0.1745,  0.0676,  0.1098, -0.1546, -0.0548, -0.0851, -0.1201]],\n",
       "       device='cuda:1')"
      ]
     },
     "execution_count": 21,
     "metadata": {},
     "output_type": "execute_result"
    }
   ],
   "source": [
    "# Do the linear analogy for keys first\n",
    "key_repr"
   ]
  },
  {
   "cell_type": "code",
   "execution_count": 22,
   "id": "aboriginal-homework",
   "metadata": {},
   "outputs": [],
   "source": [
    "key_repr_normalized = key_repr / torch.linalg.norm(key_repr, ord=2, dim=-1).view(-1,1)"
   ]
  },
  {
   "cell_type": "code",
   "execution_count": 32,
   "id": "dramatic-sociology",
   "metadata": {
    "scrolled": true
   },
   "outputs": [
    {
     "name": "stdout",
     "output_type": "stream",
     "text": [
      "torch.Size([24])\n",
      "torch.Size([24])\n",
      "torch.Size([24])\n",
      "torch.Size([24])\n",
      "torch.Size([24])\n",
      "torch.Size([24])\n",
      "torch.Size([24])\n",
      "torch.Size([24])\n",
      "torch.Size([24])\n",
      "torch.Size([24])\n",
      "torch.Size([24])\n",
      "torch.Size([24])\n",
      "torch.Size([24])\n",
      "torch.Size([24])\n",
      "torch.Size([24])\n",
      "torch.Size([24])\n",
      "torch.Size([24])\n",
      "torch.Size([24])\n",
      "torch.Size([24])\n",
      "torch.Size([24])\n",
      "torch.Size([24])\n",
      "torch.Size([24])\n",
      "torch.Size([24])\n",
      "torch.Size([24])\n",
      "torch.Size([24])\n",
      "torch.Size([24])\n",
      "torch.Size([24])\n"
     ]
    },
    {
     "data": {
      "text/plain": [
       "(array([ 54.,   0.,   0.,  54.,  27.,  27., 135.,  54.,   0.,   0.,  81.,\n",
       "          0.,  54.,  81.,   0.,  54.,  54.,   0.,   0.,   0.,   0.,  27.,\n",
       "          0.,   0.,   0.,   0.,   0.,   0.,   0.,   0.,   0.,   0.,   0.,\n",
       "          0.,   0.,   0.,   0.,   0.,   0.,   0.,   0.,   0.,   0.,   0.,\n",
       "          0.,   0.,   0.,   0.,   0.,  27.]),\n",
       " array([-0.20810458, -0.18394249, -0.15978039, -0.1356183 , -0.1114562 ,\n",
       "        -0.08729411, -0.06313202, -0.03896992, -0.01480783,  0.00935427,\n",
       "         0.03351636,  0.05767845,  0.08184055,  0.10600264,  0.13016474,\n",
       "         0.15432683,  0.17848892,  0.20265102,  0.22681311,  0.25097521,\n",
       "         0.2751373 ,  0.29929939,  0.32346149,  0.34762358,  0.37178568,\n",
       "         0.39594777,  0.42010986,  0.44427196,  0.46843405,  0.49259615,\n",
       "         0.51675824,  0.54092033,  0.56508243,  0.58924452,  0.61340662,\n",
       "         0.63756871,  0.6617308 ,  0.6858929 ,  0.71005499,  0.73421709,\n",
       "         0.75837918,  0.78254127,  0.80670337,  0.83086546,  0.85502756,\n",
       "         0.87918965,  0.90335174,  0.92751384,  0.95167593,  0.97583803,\n",
       "         1.00000012]),\n",
       " <BarContainer object of 50 artists>)"
      ]
     },
     "execution_count": 32,
     "metadata": {},
     "output_type": "execute_result"
    },
    {
     "data": {
      "image/png": "[encoded data removed]",
      "text/plain": [
       "<Figure size 432x288 with 1 Axes>"
      ]
     },
     "metadata": {
      "needs_background": "light"
     },
     "output_type": "display_data"
    }
   ],
   "source": [
    "# unnormalized\n",
    "distances = []\n",
    "\n",
    "for i in range(27):\n",
    "    nn_idx, nn_dists = find_nn(v=key_repr[0], Wv=key_repr, similarity_fn=find_cos, k=27)\n",
    "    distances += nn_dists.tolist()\n",
    "    \n",
    "import matplotlib.pyplot as plt\n",
    "import numpy as np\n",
    "plt.hist(distances, bins=50)"
   ]
  },
  {
   "cell_type": "code",
   "execution_count": 33,
   "id": "virtual-winner",
   "metadata": {
    "scrolled": true
   },
   "outputs": [
    {
     "name": "stdout",
     "output_type": "stream",
     "text": [
      "torch.Size([24])\n",
      "torch.Size([24])\n",
      "torch.Size([24])\n",
      "torch.Size([24])\n",
      "torch.Size([24])\n",
      "torch.Size([24])\n",
      "torch.Size([24])\n",
      "torch.Size([24])\n",
      "torch.Size([24])\n",
      "torch.Size([24])\n",
      "torch.Size([24])\n",
      "torch.Size([24])\n",
      "torch.Size([24])\n",
      "torch.Size([24])\n",
      "torch.Size([24])\n",
      "torch.Size([24])\n",
      "torch.Size([24])\n",
      "torch.Size([24])\n",
      "torch.Size([24])\n",
      "torch.Size([24])\n",
      "torch.Size([24])\n",
      "torch.Size([24])\n",
      "torch.Size([24])\n",
      "torch.Size([24])\n",
      "torch.Size([24])\n",
      "torch.Size([24])\n",
      "torch.Size([24])\n"
     ]
    },
    {
     "data": {
      "text/plain": [
       "(array([ 54.,   0.,   0.,  54.,  27.,  27., 135.,  54.,   0.,   0.,  81.,\n",
       "          0.,  54.,  81.,   0.,  54.,  54.,   0.,   0.,   0.,   0.,  27.,\n",
       "          0.,   0.,   0.,   0.,   0.,   0.,   0.,   0.,   0.,   0.,   0.,\n",
       "          0.,   0.,   0.,   0.,   0.,   0.,   0.,   0.,   0.,   0.,   0.,\n",
       "          0.,   0.,   0.,   0.,   0.,  27.]),\n",
       " array([-0.2081046 , -0.1839425 , -0.15978041, -0.13561831, -0.11145622,\n",
       "        -0.08729412, -0.06313203, -0.03896994, -0.01480784,  0.00935425,\n",
       "         0.03351635,  0.05767844,  0.08184054,  0.10600263,  0.13016472,\n",
       "         0.15432682,  0.17848891,  0.20265101,  0.2268131 ,  0.2509752 ,\n",
       "         0.27513729,  0.29929938,  0.32346148,  0.34762357,  0.37178567,\n",
       "         0.39594776,  0.42010986,  0.44427195,  0.46843404,  0.49259614,\n",
       "         0.51675823,  0.54092033,  0.56508242,  0.58924452,  0.61340661,\n",
       "         0.6375687 ,  0.6617308 ,  0.68589289,  0.71005499,  0.73421708,\n",
       "         0.75837918,  0.78254127,  0.80670336,  0.83086546,  0.85502755,\n",
       "         0.87918965,  0.90335174,  0.92751384,  0.95167593,  0.97583802,\n",
       "         1.00000012]),\n",
       " <BarContainer object of 50 artists>)"
      ]
     },
     "execution_count": 33,
     "metadata": {},
     "output_type": "execute_result"
    },
    {
     "data": {
      "image/png": "[encoded data removed]",
      "text/plain": [
       "<Figure size 432x288 with 1 Axes>"
      ]
     },
     "metadata": {
      "needs_background": "light"
     },
     "output_type": "display_data"
    }
   ],
   "source": [
    "distances = []\n",
    "\n",
    "for i in range(27):\n",
    "    nn_idx, nn_dists = find_nn(v=key_repr_normalized[0], Wv=key_repr_normalized, similarity_fn=find_dotproduct, k=27)\n",
    "    distances += nn_dists.tolist()\n",
    "    \n",
    "import matplotlib.pyplot as plt\n",
    "import numpy as np\n",
    "plt.hist(distances, bins=50)"
   ]
  },
  {
   "cell_type": "code",
   "execution_count": 31,
   "id": "straight-click",
   "metadata": {},
   "outputs": [
    {
     "data": {
      "text/plain": [
       "(0.049307784090052806, 0.05629262052200459, 41.037320360541344)"
      ]
     },
     "execution_count": 31,
     "metadata": {},
     "output_type": "execute_result"
    }
   ],
   "source": [
    "np.var(distances), np.mean(distances), np.sum(distances)"
   ]
  },
  {
   "cell_type": "code",
   "execution_count": 13,
   "id": "precious-palace",
   "metadata": {},
   "outputs": [],
   "source": [
    "card2idx_lookup, idx2card_lookup = construct_card_idx_lookup(game_data['num_attributes'], game_data['num_attr_vals'])\n",
    "\n",
    "\n",
    "def linear_analogy_by_props(propertiesA, propertiesB, propertiesC, card2idx_lookup, idx2card_lookup):\n",
    "    keyidxA = card2idx_lookup[propertiesA]\n",
    "    keyidxB = card2idx_lookup[propertiesB]\n",
    "    keyidxC = card2idx_lookup[propertiesC]\n",
    "\n",
    "    print(keyidxA, keyidxB, keyidxC)\n",
    "\n",
    "    vA = key_repr[keyidxA]\n",
    "    vB = key_repr[keyidxB]\n",
    "    vC = key_repr[keyidxC]\n",
    "\n",
    "    nns_idx, nns_distances = analogy(vA, vB, vC, key_repr, similarity_fn=find_cos, k=None)\n",
    "    nns_properties = [idx2card_lookup[idx.item()] for idx in nns_idx]\n",
    "    print(nns_idx, nns_distances)\n",
    "    print(nns_properties)"
   ]
  },
  {
   "cell_type": "code",
   "execution_count": null,
   "id": "occupied-woman",
   "metadata": {},
   "outputs": [],
   "source": [
    "# find a query that 27 got right, but 16 got wrong.\n",
    "\n"
   ]
  },
  {
   "cell_type": "code",
   "execution_count": 14,
   "id": "historic-father",
   "metadata": {},
   "outputs": [
    {
     "name": "stdout",
     "output_type": "stream",
     "text": [
      "25 24 13\n",
      "torch.Size([27])\n",
      "tensor([13, 24, 21, 17,  0,  5, 19,  6, 18,  9, 16, 14, 12,  1, 26, 10,  4, 20,\n",
      "        15, 22, 23,  2,  3,  8, 11,  7, 25], device='cuda:1') tensor([ 5.9432e-01,  5.2089e-01,  1.8108e-01,  1.7092e-01,  1.5072e-01,\n",
      "         9.9470e-02,  8.8152e-02,  5.8378e-02,  5.0742e-02,  2.9587e-02,\n",
      "         2.6836e-02,  2.3646e-02, -3.2075e-04, -9.3897e-03, -3.5618e-02,\n",
      "        -4.0437e-02, -4.1036e-02, -5.6920e-02, -6.9848e-02, -8.6352e-02,\n",
      "        -1.0769e-01, -1.0988e-01, -1.1066e-01, -1.4922e-01, -1.7888e-01,\n",
      "        -1.9084e-01, -5.6350e-01], device='cuda:1')\n",
      "[(1, 1, 1), (2, 2, 0), (2, 1, 0), (1, 2, 2), (0, 0, 0), (0, 1, 2), (2, 0, 1), (0, 2, 0), (2, 0, 0), (1, 0, 0), (1, 2, 1), (1, 1, 2), (1, 1, 0), (0, 0, 1), (2, 2, 2), (1, 0, 1), (0, 1, 1), (2, 0, 2), (1, 2, 0), (2, 1, 1), (2, 1, 2), (0, 0, 2), (0, 1, 0), (0, 2, 2), (1, 0, 2), (0, 2, 1), (2, 2, 1)]\n"
     ]
    }
   ],
   "source": [
    "linear_analogy_by_props(\n",
    "    propertiesA = (2,2,1), \n",
    "    propertiesB = (2,2,0), \n",
    "    propertiesC = (1,1,1), \n",
    "    card2idx_lookup=card2idx_lookup, \n",
    "    idx2card_lookup=idx2card_lookup)"
   ]
  },
  {
   "cell_type": "code",
   "execution_count": 15,
   "id": "manual-legislation",
   "metadata": {},
   "outputs": [
    {
     "name": "stdout",
     "output_type": "stream",
     "text": [
      "7 25 8\n",
      "torch.Size([27])\n",
      "tensor([ 8, 25,  6, 11,  3,  1, 23, 12, 20, 24, 26, 14, 22, 18,  0, 19,  5, 13,\n",
      "         9, 15,  4, 10, 16,  2, 17, 21,  7], device='cuda:1') tensor([ 0.5836,  0.5672,  0.1414,  0.1334,  0.0939,  0.0706,  0.0654,  0.0504,\n",
      "         0.0499,  0.0454,  0.0359,  0.0162,  0.0008, -0.0127, -0.0160, -0.0195,\n",
      "        -0.0250, -0.0378, -0.0395, -0.0437, -0.0445, -0.0795, -0.1001, -0.1075,\n",
      "        -0.1169, -0.1456, -0.4116], device='cuda:1')\n",
      "[(0, 2, 2), (2, 2, 1), (0, 2, 0), (1, 0, 2), (0, 1, 0), (0, 0, 1), (2, 1, 2), (1, 1, 0), (2, 0, 2), (2, 2, 0), (2, 2, 2), (1, 1, 2), (2, 1, 1), (2, 0, 0), (0, 0, 0), (2, 0, 1), (0, 1, 2), (1, 1, 1), (1, 0, 0), (1, 2, 0), (0, 1, 1), (1, 0, 1), (1, 2, 1), (0, 0, 2), (1, 2, 2), (2, 1, 0), (0, 2, 1)]\n"
     ]
    }
   ],
   "source": [
    "linear_analogy_by_props(\n",
    "    propertiesA = (0,2,1), \n",
    "    propertiesB = (2,2,1), \n",
    "    propertiesC = (0,2,2), \n",
    "    card2idx_lookup=card2idx_lookup, \n",
    "    idx2card_lookup=idx2card_lookup)"
   ]
  },
  {
   "cell_type": "code",
   "execution_count": 16,
   "id": "wound-actress",
   "metadata": {},
   "outputs": [
    {
     "name": "stdout",
     "output_type": "stream",
     "text": [
      "7 19 26\n",
      "torch.Size([27])\n",
      "tensor([19, 26, 24,  0,  5, 21,  6, 13, 12, 10, 20, 23, 22, 14, 25,  2,  1, 11,\n",
      "         9,  3,  8, 17, 16, 15, 18,  4,  7], device='cuda:1') tensor([ 0.5747,  0.3474,  0.1983,  0.1816,  0.1047,  0.0855,  0.0849,  0.0837,\n",
      "         0.0797,  0.0752,  0.0469,  0.0442,  0.0374,  0.0358,  0.0024,  0.0024,\n",
      "        -0.0129, -0.0178, -0.0693, -0.0710, -0.0777, -0.1023, -0.1083, -0.1164,\n",
      "        -0.1206, -0.1305, -0.5392], device='cuda:1')\n",
      "[(2, 0, 1), (2, 2, 2), (2, 2, 0), (0, 0, 0), (0, 1, 2), (2, 1, 0), (0, 2, 0), (1, 1, 1), (1, 1, 0), (1, 0, 1), (2, 0, 2), (2, 1, 2), (2, 1, 1), (1, 1, 2), (2, 2, 1), (0, 0, 2), (0, 0, 1), (1, 0, 2), (1, 0, 0), (0, 1, 0), (0, 2, 2), (1, 2, 2), (1, 2, 1), (1, 2, 0), (2, 0, 0), (0, 1, 1), (0, 2, 1)]\n"
     ]
    }
   ],
   "source": [
    "linear_analogy_by_props(\n",
    "    propertiesA = (0,2,1), \n",
    "    propertiesB = (2,0,1), \n",
    "    propertiesC = (2,2,2), \n",
    "    card2idx_lookup=card2idx_lookup, \n",
    "    idx2card_lookup=idx2card_lookup)"
   ]
  },
  {
   "cell_type": "code",
   "execution_count": 17,
   "id": "rough-values",
   "metadata": {},
   "outputs": [
    {
     "name": "stdout",
     "output_type": "stream",
     "text": [
      "25 25 24\n",
      "torch.Size([27])\n",
      "tensor([24, 12, 21, 26,  3, 25,  0, 10, 19, 16, 20,  9,  2, 18,  5, 15, 13, 14,\n",
      "        22,  6,  7,  1, 17, 23,  8, 11,  4], device='cuda:1') tensor([ 1.0000,  0.2161,  0.1985,  0.1738,  0.1074,  0.1002,  0.0873,  0.0781,\n",
      "         0.0746,  0.0638,  0.0627,  0.0606,  0.0483,  0.0294,  0.0180, -0.0106,\n",
      "        -0.0149, -0.0169, -0.0192, -0.0278, -0.0422, -0.0437, -0.0440, -0.0567,\n",
      "        -0.0676, -0.0707, -0.0987], device='cuda:1')\n",
      "[(2, 2, 0), (1, 1, 0), (2, 1, 0), (2, 2, 2), (0, 1, 0), (2, 2, 1), (0, 0, 0), (1, 0, 1), (2, 0, 1), (1, 2, 1), (2, 0, 2), (1, 0, 0), (0, 0, 2), (2, 0, 0), (0, 1, 2), (1, 2, 0), (1, 1, 1), (1, 1, 2), (2, 1, 1), (0, 2, 0), (0, 2, 1), (0, 0, 1), (1, 2, 2), (2, 1, 2), (0, 2, 2), (1, 0, 2), (0, 1, 1)]\n"
     ]
    }
   ],
   "source": [
    "linear_analogy_by_props(\n",
    "    propertiesA = (2,2,1), \n",
    "    propertiesB = (2,2,1), \n",
    "    propertiesC = (2,2,0), \n",
    "    card2idx_lookup=card2idx_lookup, \n",
    "    idx2card_lookup=idx2card_lookup)"
   ]
  },
  {
   "cell_type": "code",
   "execution_count": 18,
   "id": "familiar-collective",
   "metadata": {},
   "outputs": [
    {
     "name": "stdout",
     "output_type": "stream",
     "text": [
      "7 19 8\n",
      "torch.Size([27])\n",
      "tensor([19,  8,  1,  5,  0,  6, 11, 23, 14, 20, 22, 24, 13, 18, 15, 16, 21, 10,\n",
      "         3, 12,  4,  2, 17, 25,  9, 26,  7], device='cuda:1') tensor([ 6.2927e-01,  5.0565e-01,  2.5410e-01,  2.0043e-01,  1.6078e-01,\n",
      "         1.3743e-01,  1.0221e-01,  7.0698e-02,  6.6436e-02,  5.0487e-02,\n",
      "         3.1856e-02,  2.9084e-02,  4.8149e-04, -1.0118e-02, -1.8662e-02,\n",
      "        -3.2290e-02, -3.4671e-02, -5.5464e-02, -5.6432e-02, -7.1705e-02,\n",
      "        -7.2535e-02, -7.8670e-02, -8.0427e-02, -9.1428e-02, -2.0399e-01,\n",
      "        -2.3895e-01, -5.0795e-01], device='cuda:1')\n",
      "[(2, 0, 1), (0, 2, 2), (0, 0, 1), (0, 1, 2), (0, 0, 0), (0, 2, 0), (1, 0, 2), (2, 1, 2), (1, 1, 2), (2, 0, 2), (2, 1, 1), (2, 2, 0), (1, 1, 1), (2, 0, 0), (1, 2, 0), (1, 2, 1), (2, 1, 0), (1, 0, 1), (0, 1, 0), (1, 1, 0), (0, 1, 1), (0, 0, 2), (1, 2, 2), (2, 2, 1), (1, 0, 0), (2, 2, 2), (0, 2, 1)]\n"
     ]
    }
   ],
   "source": [
    "linear_analogy_by_props(\n",
    "    propertiesA = (0,2,1), \n",
    "    propertiesB = (2,0,1), \n",
    "    propertiesC = (0,2,2), \n",
    "    card2idx_lookup=card2idx_lookup, \n",
    "    idx2card_lookup=idx2card_lookup)"
   ]
  },
  {
   "cell_type": "code",
   "execution_count": 19,
   "id": "honey-brand",
   "metadata": {},
   "outputs": [
    {
     "name": "stdout",
     "output_type": "stream",
     "text": [
      "10 19 17\n",
      "torch.Size([27])\n",
      "tensor([17, 19,  1,  0, 20,  5, 13, 21, 18,  8, 16, 15, 11, 22, 23,  2, 24, 14,\n",
      "        12,  6,  7,  4, 26, 25,  9,  3, 10], device='cuda:1') tensor([ 0.6621,  0.4171,  0.2801,  0.1884,  0.1854,  0.1191,  0.1019,  0.0783,\n",
      "         0.0723,  0.0655,  0.0533,  0.0518,  0.0305,  0.0282, -0.0138, -0.0203,\n",
      "        -0.0262, -0.0319, -0.0334, -0.0842, -0.0990, -0.1587, -0.1825, -0.2288,\n",
      "        -0.2484, -0.2989, -0.5968], device='cuda:1')\n",
      "[(1, 2, 2), (2, 0, 1), (0, 0, 1), (0, 0, 0), (2, 0, 2), (0, 1, 2), (1, 1, 1), (2, 1, 0), (2, 0, 0), (0, 2, 2), (1, 2, 1), (1, 2, 0), (1, 0, 2), (2, 1, 1), (2, 1, 2), (0, 0, 2), (2, 2, 0), (1, 1, 2), (1, 1, 0), (0, 2, 0), (0, 2, 1), (0, 1, 1), (2, 2, 2), (2, 2, 1), (1, 0, 0), (0, 1, 0), (1, 0, 1)]\n"
     ]
    }
   ],
   "source": [
    "linear_analogy_by_props(\n",
    "    propertiesA = (1,0,1), \n",
    "    propertiesB = (2,0,1), \n",
    "    propertiesC = (1,2,2), \n",
    "    card2idx_lookup=card2idx_lookup, \n",
    "    idx2card_lookup=idx2card_lookup)"
   ]
  },
  {
   "cell_type": "code",
   "execution_count": null,
   "id": "finnish-crisis",
   "metadata": {},
   "outputs": [],
   "source": [
    "# Look at distance between one card and all the other cards"
   ]
  },
  {
   "cell_type": "code",
   "execution_count": null,
   "id": "refined-palmer",
   "metadata": {},
   "outputs": [],
   "source": []
  }
 ],
 "metadata": {
  "kernelspec": {
   "display_name": "Python 3",
   "language": "python",
   "name": "python3"
  },
  "language_info": {
   "codemirror_mode": {
    "name": "ipython",
    "version": 3
   },
   "file_extension": ".py",
   "mimetype": "text/x-python",
   "name": "python",
   "nbconvert_exporter": "python",
   "pygments_lexer": "ipython3",
   "version": "3.8.3"
  }
 },
 "nbformat": 4,
 "nbformat_minor": 5
}

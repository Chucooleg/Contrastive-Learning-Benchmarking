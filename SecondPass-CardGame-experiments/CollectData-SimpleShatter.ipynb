{
 "cells": [
  {
   "cell_type": "code",
   "execution_count": 2,
   "id": "serial-liability",
   "metadata": {},
   "outputs": [],
   "source": [
    "%load_ext autoreload\n",
    "%autoreload 2\n",
    "\n",
    "from collections import defaultdict, Counter\n",
    "import numpy as np\n",
    "import itertools\n",
    "import copy\n",
    "import matplotlib.pyplot as plt\n",
    "import random\n",
    "import json\n",
    "# dataraw_sampling-SimpleShatter\n",
    "from dataraw_sampling import gen_full_dataset"
   ]
  },
  {
   "cell_type": "markdown",
   "id": "elementary-slovak",
   "metadata": {},
   "source": [
    "## Full Data"
   ]
  },
  {
   "cell_type": "code",
   "execution_count": 3,
   "id": "accessory-illustration",
   "metadata": {
    "scrolled": true
   },
   "outputs": [
    {
     "name": "stdout",
     "output_type": "stream",
     "text": [
      "../Raw_Datasets/SimpleShatter/SimpleShatter-Full-1Train-10Val.json\n"
     ]
    }
   ],
   "source": [
    "num_attributes=1; num_attr_vals=10; num_cards_per_query=1; nest_depth_int=1\n",
    "\n",
    "data = gen_full_dataset(num_attributes, num_attr_vals, num_cards_per_query, nest_depth_int)\n",
    "filename = '../Raw_Datasets/SimpleShatter/SimpleShatter-Full-{}Train-{}Val.json'.format(num_attributes, num_attr_vals, nest_depth_int, len(data['train_datapoints']), len(data['train_datapoints']))\n",
    "\n",
    "with open(filename, 'w') as f:\n",
    "    json.dump(data, f)\n",
    "    \n",
    "print(filename)"
   ]
  },
  {
   "cell_type": "code",
   "execution_count": 4,
   "id": "chronic-theta",
   "metadata": {},
   "outputs": [
    {
     "data": {
      "text/plain": [
       "((1, 5, 7, 9), (9,))"
      ]
     },
     "execution_count": 4,
     "metadata": {},
     "output_type": "execute_result"
    }
   ],
   "source": [
    "data['train_tokens'][1000]"
   ]
  },
  {
   "cell_type": "code",
   "execution_count": 7,
   "id": "african-italic",
   "metadata": {},
   "outputs": [
    {
     "data": {
      "text/plain": [
       "((1, 2, 3, 7, 9), (7,))"
      ]
     },
     "execution_count": 7,
     "metadata": {},
     "output_type": "execute_result"
    }
   ],
   "source": [
    "data['train_tokens'][1999]"
   ]
  },
  {
   "cell_type": "code",
   "execution_count": 5,
   "id": "alpine-carbon",
   "metadata": {},
   "outputs": [
    {
     "data": {
      "text/plain": [
       "((1, 2, 3, 7, 9), (9,))"
      ]
     },
     "execution_count": 5,
     "metadata": {},
     "output_type": "execute_result"
    }
   ],
   "source": [
    "data['train_tokens'][2000]"
   ]
  },
  {
   "cell_type": "code",
   "execution_count": null,
   "id": "grand-orleans",
   "metadata": {},
   "outputs": [],
   "source": [
    "(<SOS>, 1, 2, 3, 7, 9 )\n",
    "(<SOS>, 9 )"
   ]
  },
  {
   "cell_type": "code",
   "execution_count": null,
   "id": "dental-paris",
   "metadata": {},
   "outputs": [],
   "source": [
    "1000\n",
    "2 * 1000\n",
    "\n",
    "W2V"
   ]
  }
 ],
 "metadata": {
  "kernelspec": {
   "display_name": "Python 3",
   "language": "python",
   "name": "python3"
  },
  "language_info": {
   "codemirror_mode": {
    "name": "ipython",
    "version": 3
   },
   "file_extension": ".py",
   "mimetype": "text/x-python",
   "name": "python",
   "nbconvert_exporter": "python",
   "pygments_lexer": "ipython3",
   "version": "3.8.3"
  }
 },
 "nbformat": 4,
 "nbformat_minor": 5
}

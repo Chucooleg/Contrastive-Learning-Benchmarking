{
 "cells": [
  {
   "cell_type": "code",
   "execution_count": 15,
   "id": "serial-liability",
   "metadata": {},
   "outputs": [
    {
     "name": "stdout",
     "output_type": "stream",
     "text": [
      "The autoreload extension is already loaded. To reload it, use:\n",
      "  %reload_ext autoreload\n"
     ]
    }
   ],
   "source": [
    "%load_ext autoreload\n",
    "%autoreload 2\n",
    "\n",
    "from collections import defaultdict, Counter\n",
    "import numpy as np\n",
    "import itertools\n",
    "import copy\n",
    "import matplotlib.pyplot as plt\n",
    "import random\n",
    "import json\n",
    "# dataraw_sampling-SimpleShatter\n",
    "from dataraw_sampling import gen_full_dataset"
   ]
  },
  {
   "cell_type": "markdown",
   "id": "elementary-slovak",
   "metadata": {},
   "source": [
    "## Full Data"
   ]
  },
  {
   "cell_type": "code",
   "execution_count": 16,
   "id": "accessory-illustration",
   "metadata": {
    "scrolled": true
   },
   "outputs": [
    {
     "name": "stdout",
     "output_type": "stream",
     "text": [
      "../Raw_Datasets/SimpleShatter/SimpleShatter-Full-1Train-10Val.json\n"
     ]
    }
   ],
   "source": [
    "num_attributes=1; num_attr_vals=10; num_cards_per_query=1; nest_depth_int=1\n",
    "\n",
    "data = gen_full_dataset(num_attributes, num_attr_vals, num_cards_per_query, nest_depth_int)\n",
    "filename = '../Raw_Datasets/SimpleShatter/SimpleShatter-Full-{}Train-{}Val.json'.format(num_attributes, num_attr_vals, nest_depth_int, len(data['train_datapoints']), len(data['train_datapoints']))\n",
    "\n",
    "with open(filename, 'w') as f:\n",
    "    json.dump(data, f)\n",
    "    \n",
    "print(filename)"
   ]
  },
  {
   "cell_type": "code",
   "execution_count": 19,
   "id": "dental-paris",
   "metadata": {},
   "outputs": [
    {
     "data": {
      "text/plain": [
       "dict_keys(['num_attributes', 'num_attr_vals', 'num_cards_per_query', 'nest_depth_int', 'key_support_size', 'query_support_size', 'max_len_q', 'len_k', 'hold_out', 'train_datapoints', 'val_datapoints', 'train_tokens', 'val_tokens', 'sparsity_estimate', 'vocab_size', '(', ')', 'NULL', 'SEP', 'SOS', 'EOS', 'PAD', 'PLH'])"
      ]
     },
     "execution_count": 19,
     "metadata": {},
     "output_type": "execute_result"
    }
   ],
   "source": [
    "data.keys()"
   ]
  },
  {
   "cell_type": "code",
   "execution_count": null,
   "id": "assured-firewall",
   "metadata": {},
   "outputs": [],
   "source": []
  }
 ],
 "metadata": {
  "kernelspec": {
   "display_name": "Python 3",
   "language": "python",
   "name": "python3"
  },
  "language_info": {
   "codemirror_mode": {
    "name": "ipython",
    "version": 3
   },
   "file_extension": ".py",
   "mimetype": "text/x-python",
   "name": "python",
   "nbconvert_exporter": "python",
   "pygments_lexer": "ipython3",
   "version": "3.8.3"
  }
 },
 "nbformat": 4,
 "nbformat_minor": 5
}

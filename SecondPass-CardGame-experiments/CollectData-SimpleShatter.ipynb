{
 "cells": [
  {
   "cell_type": "code",
   "execution_count": 2,
   "id": "serial-liability",
   "metadata": {},
   "outputs": [],
   "source": [
    "%load_ext autoreload\n",
    "%autoreload 2\n",
    "\n",
    "from collections import defaultdict, Counter\n",
    "import numpy as np\n",
    "import itertools\n",
    "import copy\n",
    "import matplotlib.pyplot as plt\n",
    "import random\n",
    "import json\n",
    "# dataraw_sampling-SimpleShatter\n",
    "from dataraw_sampling import gen_full_dataset"
   ]
  },
  {
   "cell_type": "markdown",
   "id": "palestinian-threshold",
   "metadata": {},
   "source": [
    "## Full Data (8)"
   ]
  },
  {
   "cell_type": "code",
   "execution_count": 22,
   "id": "exciting-tribute",
   "metadata": {
    "scrolled": true
   },
   "outputs": [
    {
     "name": "stdout",
     "output_type": "stream",
     "text": [
      "../Raw_Datasets/SimpleShatter/SimpleShatter-Full-numatt1-numattrval8-nest1-1024Train-1024Val.json\n"
     ]
    }
   ],
   "source": [
    "num_attributes=1; num_attr_vals=8; num_cards_per_query=1; nest_depth_int=1\n",
    "\n",
    "data = gen_full_dataset(num_attributes, num_attr_vals, num_cards_per_query, nest_depth_int)\n",
    "filename = '../Raw_Datasets/SimpleShatter/SimpleShatter-Full-numatt{}-numattrval{}-nest{}-{}Train-{}Val.json'.format(num_attributes, num_attr_vals, nest_depth_int, len(data['train_datapoints']), len(data['train_datapoints']))\n",
    "\n",
    "with open(filename, 'w') as f:\n",
    "    json.dump(data, f)\n",
    "    \n",
    "print(filename)"
   ]
  },
  {
   "cell_type": "code",
   "execution_count": 23,
   "id": "bulgarian-municipality",
   "metadata": {},
   "outputs": [
    {
     "data": {
      "text/plain": [
       "dict_keys(['num_attributes', 'num_attr_vals', 'num_cards_per_query', 'nest_depth_int', 'key_support_size', 'query_support_size', 'max_len_q', 'len_k', 'hold_out', 'train_datapoints', 'val_datapoints', 'train_tokens', 'val_tokens', 'sparsity_estimate', 'vocab_size', '(', ')', 'NULL', 'SEP', 'SOS', 'EOS', 'PAD', 'PLH'])"
      ]
     },
     "execution_count": 23,
     "metadata": {},
     "output_type": "execute_result"
    }
   ],
   "source": [
    "data.keys()"
   ]
  },
  {
   "cell_type": "code",
   "execution_count": 24,
   "id": "representative-genealogy",
   "metadata": {},
   "outputs": [
    {
     "data": {
      "text/plain": [
       "1024"
      ]
     },
     "execution_count": 24,
     "metadata": {},
     "output_type": "execute_result"
    }
   ],
   "source": [
    "len(data['train_datapoints'])"
   ]
  },
  {
   "cell_type": "markdown",
   "id": "elementary-slovak",
   "metadata": {},
   "source": [
    "## Full Data (10)"
   ]
  },
  {
   "cell_type": "code",
   "execution_count": 11,
   "id": "accessory-illustration",
   "metadata": {
    "scrolled": true
   },
   "outputs": [
    {
     "name": "stdout",
     "output_type": "stream",
     "text": [
      "../Raw_Datasets/SimpleShatter/SimpleShatter-Full-1Train-10Val.json\n"
     ]
    }
   ],
   "source": [
    "num_attributes=1; num_attr_vals=10; num_cards_per_query=1; nest_depth_int=1\n",
    "\n",
    "data = gen_full_dataset(num_attributes, num_attr_vals, num_cards_per_query, nest_depth_int)\n",
    "filename = '../Raw_Datasets/SimpleShatter/SimpleShatter-Full-{}Train-{}Val.json'.format(num_attributes, num_attr_vals, nest_depth_int, len(data['train_datapoints']), len(data['train_datapoints']))\n",
    "\n",
    "with open(filename, 'w') as f:\n",
    "    json.dump(data, f)\n",
    "    \n",
    "print(filename)"
   ]
  },
  {
   "cell_type": "code",
   "execution_count": 12,
   "id": "dental-paris",
   "metadata": {},
   "outputs": [
    {
     "data": {
      "text/plain": [
       "dict_keys(['num_attributes', 'num_attr_vals', 'num_cards_per_query', 'nest_depth_int', 'key_support_size', 'query_support_size', 'max_len_q', 'len_k', 'hold_out', 'train_datapoints', 'val_datapoints', 'train_tokens', 'val_tokens', 'sparsity_estimate', 'vocab_size', '(', ')', 'NULL', 'SEP', 'SOS', 'EOS', 'PAD', 'PLH'])"
      ]
     },
     "execution_count": 12,
     "metadata": {},
     "output_type": "execute_result"
    }
   ],
   "source": [
    "data.keys()"
   ]
  },
  {
   "cell_type": "code",
   "execution_count": 13,
   "id": "fatty-preview",
   "metadata": {},
   "outputs": [
    {
     "data": {
      "text/plain": [
       "5120"
      ]
     },
     "execution_count": 13,
     "metadata": {},
     "output_type": "execute_result"
    }
   ],
   "source": [
    "len(data['train_datapoints'])"
   ]
  },
  {
   "cell_type": "markdown",
   "id": "geographic-bridges",
   "metadata": {},
   "source": [
    "## Full Data (15)"
   ]
  },
  {
   "cell_type": "code",
   "execution_count": 4,
   "id": "indian-weight",
   "metadata": {
    "scrolled": true
   },
   "outputs": [
    {
     "name": "stdout",
     "output_type": "stream",
     "text": [
      "../Raw_Datasets/SimpleShatter/SimpleShatter-Full-1Train-15Val.json\n"
     ]
    }
   ],
   "source": [
    "num_attributes=1; num_attr_vals=15; num_cards_per_query=1; nest_depth_int=1\n",
    "\n",
    "data = gen_full_dataset(num_attributes, num_attr_vals, num_cards_per_query, nest_depth_int)\n",
    "filename = '../Raw_Datasets/SimpleShatter/SimpleShatter-Full-{}Train-{}Val.json'.format(num_attributes, num_attr_vals, nest_depth_int, len(data['train_datapoints']), len(data['train_datapoints']))\n",
    "\n",
    "with open(filename, 'w') as f:\n",
    "    json.dump(data, f)\n",
    "    \n",
    "print(filename)"
   ]
  },
  {
   "cell_type": "code",
   "execution_count": 19,
   "id": "turkish-egyptian",
   "metadata": {},
   "outputs": [
    {
     "data": {
      "text/plain": [
       "dict_keys(['num_attributes', 'num_attr_vals', 'num_cards_per_query', 'nest_depth_int', 'key_support_size', 'query_support_size', 'max_len_q', 'len_k', 'hold_out', 'train_datapoints', 'val_datapoints', 'train_tokens', 'val_tokens', 'sparsity_estimate', 'vocab_size', '(', ')', 'NULL', 'SEP', 'SOS', 'EOS', 'PAD', 'PLH'])"
      ]
     },
     "execution_count": 19,
     "metadata": {},
     "output_type": "execute_result"
    }
   ],
   "source": [
    "data.keys()"
   ]
  },
  {
   "cell_type": "code",
   "execution_count": 5,
   "id": "assured-firewall",
   "metadata": {},
   "outputs": [
    {
     "data": {
      "text/plain": [
       "245760"
      ]
     },
     "execution_count": 5,
     "metadata": {},
     "output_type": "execute_result"
    }
   ],
   "source": [
    "len(data['train_datapoints'])"
   ]
  },
  {
   "cell_type": "code",
   "execution_count": 18,
   "id": "sought-athletics",
   "metadata": {},
   "outputs": [
    {
     "data": {
      "text/plain": [
       "480.0"
      ]
     },
     "execution_count": 18,
     "metadata": {},
     "output_type": "execute_result"
    }
   ],
   "source": [
    "245760/512"
   ]
  },
  {
   "cell_type": "markdown",
   "id": "specific-heath",
   "metadata": {},
   "source": [
    "## Full Data (20)"
   ]
  },
  {
   "cell_type": "code",
   "execution_count": 14,
   "id": "ahead-sector",
   "metadata": {
    "scrolled": true
   },
   "outputs": [
    {
     "name": "stdout",
     "output_type": "stream",
     "text": [
      "../Raw_Datasets/SimpleShatter/SimpleShatter-Full-1Train-20Val.json\n"
     ]
    }
   ],
   "source": [
    "num_attributes=1; num_attr_vals=20; num_cards_per_query=1; nest_depth_int=1\n",
    "\n",
    "data = gen_full_dataset(num_attributes, num_attr_vals, num_cards_per_query, nest_depth_int)\n",
    "filename = '../Raw_Datasets/SimpleShatter/SimpleShatter-Full-{}Train-{}Val.json'.format(num_attributes, num_attr_vals, nest_depth_int, len(data['train_datapoints']), len(data['train_datapoints']))\n",
    "\n",
    "with open(filename, 'w') as f:\n",
    "    json.dump(data, f)\n",
    "    \n",
    "print(filename)"
   ]
  },
  {
   "cell_type": "code",
   "execution_count": 15,
   "id": "conservative-humanity",
   "metadata": {},
   "outputs": [
    {
     "data": {
      "text/plain": [
       "dict_keys(['num_attributes', 'num_attr_vals', 'num_cards_per_query', 'nest_depth_int', 'key_support_size', 'query_support_size', 'max_len_q', 'len_k', 'hold_out', 'train_datapoints', 'val_datapoints', 'train_tokens', 'val_tokens', 'sparsity_estimate', 'vocab_size', '(', ')', 'NULL', 'SEP', 'SOS', 'EOS', 'PAD', 'PLH'])"
      ]
     },
     "execution_count": 15,
     "metadata": {},
     "output_type": "execute_result"
    }
   ],
   "source": [
    "data.keys()"
   ]
  },
  {
   "cell_type": "code",
   "execution_count": 16,
   "id": "decent-tribute",
   "metadata": {},
   "outputs": [
    {
     "data": {
      "text/plain": [
       "10485760"
      ]
     },
     "execution_count": 16,
     "metadata": {},
     "output_type": "execute_result"
    }
   ],
   "source": [
    "len(data['train_datapoints'])"
   ]
  },
  {
   "cell_type": "code",
   "execution_count": 17,
   "id": "tribal-skill",
   "metadata": {},
   "outputs": [
    {
     "data": {
      "text/plain": [
       "20480.0"
      ]
     },
     "execution_count": 17,
     "metadata": {},
     "output_type": "execute_result"
    }
   ],
   "source": [
    "10485760/512"
   ]
  },
  {
   "cell_type": "code",
   "execution_count": null,
   "id": "physical-television",
   "metadata": {},
   "outputs": [],
   "source": []
  }
 ],
 "metadata": {
  "kernelspec": {
   "display_name": "Python 3",
   "language": "python",
   "name": "python3"
  },
  "language_info": {
   "codemirror_mode": {
    "name": "ipython",
    "version": 3
   },
   "file_extension": ".py",
   "mimetype": "text/x-python",
   "name": "python",
   "nbconvert_exporter": "python",
   "pygments_lexer": "ipython3",
   "version": "3.8.3"
  }
 },
 "nbformat": 4,
 "nbformat_minor": 5
}

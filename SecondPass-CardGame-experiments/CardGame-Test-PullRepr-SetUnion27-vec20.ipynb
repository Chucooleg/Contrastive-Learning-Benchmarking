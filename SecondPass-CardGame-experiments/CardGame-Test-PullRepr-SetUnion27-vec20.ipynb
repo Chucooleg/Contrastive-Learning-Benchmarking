{
 "cells": [
  {
   "cell_type": "code",
   "execution_count": 1,
   "id": "general-tribe",
   "metadata": {
    "scrolled": false
   },
   "outputs": [
    {
     "name": "stdout",
     "output_type": "stream",
     "text": [
      "__Python VERSION: 3.8.3 (default, May 19 2020, 18:47:26) \n",
      "[GCC 7.3.0]\n",
      "__pyTorch VERSION: 1.7.0\n",
      "__CUDA VERSION\n",
      "/usr/bin/sh: 1: nvcc: not found\n",
      "__CUDNN VERSION: 8003\n",
      "__Number CUDA Devices: 2\n",
      "__Devices\n",
      "Active CUDA Device: GPU 0\n",
      "Available devices  2\n",
      "Current cuda device  0\n"
     ]
    }
   ],
   "source": [
    "# https://discuss.pytorch.org/t/i-have-3-gpu-why-torch-cuda-device-count-only-return-1/7245/4\n",
    "import torch\n",
    "import sys\n",
    "print('__Python VERSION:', sys.version)\n",
    "print('__pyTorch VERSION:', torch.__version__)\n",
    "print('__CUDA VERSION')\n",
    "from subprocess import call\n",
    "# call([\"nvcc\", \"--version\"]) does not work\n",
    "! nvcc --version\n",
    "print('__CUDNN VERSION:', torch.backends.cudnn.version())\n",
    "print('__Number CUDA Devices:', torch.cuda.device_count())\n",
    "print('__Devices')\n",
    "call([\"nvidia-smi\", \"--format=csv\", \"--query-gpu=index,name,driver_version,memory.total,memory.used,memory.free\"])\n",
    "print('Active CUDA Device: GPU', torch.cuda.current_device())\n",
    "\n",
    "print ('Available devices ', torch.cuda.device_count())\n",
    "print ('Current cuda device ', torch.cuda.current_device())"
   ]
  },
  {
   "cell_type": "code",
   "execution_count": 2,
   "id": "solar-suggestion",
   "metadata": {},
   "outputs": [],
   "source": [
    "%load_ext autoreload\n",
    "%autoreload 2\n",
    "\n",
    "import os\n",
    "import json\n",
    "import main\n",
    "from tqdm import tqdm\n",
    "import numpy as np\n",
    "from argparse import ArgumentDefaultsHelpFormatter, ArgumentParser\n",
    "import matplotlib.pyplot as plt"
   ]
  },
  {
   "cell_type": "code",
   "execution_count": 3,
   "id": "handmade-joining",
   "metadata": {},
   "outputs": [],
   "source": [
    "# arguments\n",
    "parser = ArgumentParser(formatter_class=ArgumentDefaultsHelpFormatter)\n",
    "args = parser.parse_args('')\n",
    "\n",
    "args.project_name = 'ContrastiveLearning-SET-Wildcard-Expand-Union-27'\n",
    "args.data_path = '../Raw_Datasets/SET/WildCardSETidxUnion-3Attr-3Vals-8Pairs-0Train-5120Val-5120Test.json'\n",
    "args.mode = 'test'\n",
    "args.resume_checkpoint_dir = 'checkpoints/ContrastiveLearning-SET-Wildcard-Expand-Union-27/20210401-235947-Con;Vec20;L8H8Lk4Hk2;scheduledAdamW36000;16880.2Kparams_runId_1n9r52ul'\n",
    "args.ckpt_name = 'last.ckpt'\n",
    "args.runID = '1n9r52ul'\n",
    "args.gpu = 1\n",
    "args.approve_before_training = False\n",
    "args.aml = False\n",
    "args.dataset_name = None"
   ]
  },
  {
   "cell_type": "code",
   "execution_count": 4,
   "id": "particular-remedy",
   "metadata": {
    "scrolled": true
   },
   "outputs": [
    {
     "name": "stderr",
     "output_type": "stream",
     "text": [
      "Global seed set to 42\n"
     ]
    },
    {
     "name": "stdout",
     "output_type": "stream",
     "text": [
      "---------data----------\n",
      "num_attributes : 3\n",
      "num_attr_vals : 3\n",
      "key_support_size : 27\n",
      "N_pairs : 8\n",
      "union_only : True\n",
      "max_len_q : 16\n",
      "len_k : 1\n",
      "train_gt_idxs length : 0\n",
      "val_gt_idxs length : 5120\n",
      "test_gt_idxs length : 5120\n",
      "train_tokens length : 0\n",
      "val_tokens length : 5120\n",
      "test_tokens length : 5120\n",
      "test_marginal_gt_idxs length : 5120\n",
      "test_marginal_tokens length : 5120\n",
      "vocab_size : 74\n",
      "symbol_vocab_token_lookup : {'(': 64, ')': 65, 'NULL': 66, 'SEP': 67, 'SOS': 68, 'EOS': 69, 'PAD': 70, 'PLH': 71, '|': 72, '!': 73}\n",
      "vocab_by_property : False\n",
      "-----------------------\n",
      "----------hparams----------\n",
      "seed : 42\n",
      "batch_size : 1024\n",
      "max_epochs : 20000000000\n",
      "val_every_n_epoch : 200\n",
      "d_model : 512\n",
      "embed_dropout : 0.0\n",
      "vec_repr : 20\n",
      "model : contrastive\n",
      "d_ff : 1024\n",
      "N_enc : 8\n",
      "num_heads : 8\n",
      "N_enc_key : 4\n",
      "num_heads_key : 2\n",
      "attn_wt_tying_scheme : untie_QKVO\n",
      "attn_wt_dropout : 0.0\n",
      "heads_dropout : 0.0\n",
      "pff_dropout : 0.0\n",
      "representation_pos : 0\n",
      "dotproduct_bottleneck : True\n",
      "normalize_dotproduct : False\n",
      "contrastive_use_infoNCE : True\n",
      "loss_temperature_const : 1.0\n",
      "loss_smoothing_const : 0.1\n",
      "nonlinear_classifier_scale_down_factor : [1, 1, 1]\n",
      "contrastive_optimizer : scheduled_adam\n",
      "cosine_annealing_T_max : 30\n",
      "adam_lr : 1e-05\n",
      "adam_beta1 : 0.9\n",
      "adam_beta2 : 0.999\n",
      "adam_epsilon : 1e-08\n",
      "adam_weight_decay : 0\n",
      "sgd_lr : 0.001\n",
      "sgd_momentum : 0\n",
      "scheduled_adam_beta1 : 0.9\n",
      "scheduled_adam_beta2 : 0.98\n",
      "scheduled_adam_epsilon : 1e-06\n",
      "scheduled_adam_warmup_steps : 36000\n",
      "additional_lr_decay : True\n",
      "additional_lr_decay_gamma : 0.9\n",
      "decay_lr_starts : 36000\n",
      "decay_lr_stops : 80000\n",
      "decay_lr_interval : 2000\n",
      "generative_overall_lr_scale : 1.0\n",
      "contrastive_overall_lr_scale : 1.0\n",
      "gradient_clip_val : 0.0\n",
      "debug : False\n",
      "extra_monitors : False\n",
      "mode : test\n",
      "key_support_size : 27\n",
      "num_attributes : 3\n",
      "num_attr_vals : 3\n",
      "union_only : True\n",
      "vocab_size : 74\n",
      "vocab_by_property : False\n",
      "( : 64\n",
      ") : 65\n",
      "NULL : 66\n",
      "SEP : 67\n",
      "SOS : 68\n",
      "EOS : 69\n",
      "PAD : 70\n",
      "PLH : 71\n",
      "| : 72\n",
      "! : 73\n",
      "max_len_q : 16\n",
      "N_pairs : 8\n",
      "len_k : 1\n",
      "resume_checkpoint_dir : checkpoints/ContrastiveLearning-SET-Wildcard-Expand-Union-27/20210401-235947-Con;Vec20;L8H8Lk4Hk2;scheduledAdamW36000;16880.2Kparams_runId_1n9r52ul\n",
      "---------------------------\n",
      "    | Name                                                              | Type                    | Params\n",
      "----------------------------------------------------------------------------------------------------------------\n",
      "0   | metrics                                                           | ThresholdedMetrics      | 0     \n",
      "1   | KLdiv_criterion                                                   | KLdivLoss               | 0     \n",
      "2   | KLdiv_criterion.KLdiv_criterion                                   | KLDivLoss               | 0     \n",
      "3   | KLdiv_criterion.KLdiv_criterion_full                              | KLDivLoss               | 0     \n",
      "4   | KLdiv_criterion.logprob                                           | LogSoftmax              | 0     \n",
      "5   | model                                                             | EncoderPredictor        | 16.9 M\n",
      "6   | model.inp_query_layer                                             | Sequential              | 47.1 K\n",
      "7   | model.inp_query_layer.scaled_embed                                | ScaledEmbedding         | 37.9 K\n",
      "8   | model.inp_query_layer.scaled_embed.embedding                      | Embedding               | 37.9 K\n",
      "9   | model.inp_query_layer.position_encoder                            | LearnedPositionEncoder  | 9.2 K \n",
      "10  | model.inp_query_layer.embed_dropout                               | Dropout                 | 0     \n",
      "11  | model.inp_key_layer                                               | Sequential              | 540   \n",
      "12  | model.inp_key_layer.scaled_embed                                  | ScaledEmbedding         | 540   \n",
      "13  | model.inp_key_layer.scaled_embed.embedding                        | Embedding               | 540   \n",
      "14  | model.query_encoder                                               | Encoder                 | 16.8 M\n",
      "15  | model.query_encoder.encoder_layers                                | ModuleList              | 16.8 M\n",
      "16  | model.query_encoder.encoder_layers.0                              | EncoderLayer            | 2.1 M \n",
      "17  | model.query_encoder.encoder_layers.0.poswise_ff                   | Positiontwise_FF        | 1.1 M \n",
      "18  | model.query_encoder.encoder_layers.0.poswise_ff.linear1           | Linear                  | 525 K \n",
      "19  | model.query_encoder.encoder_layers.0.poswise_ff.linear2           | Linear                  | 524 K \n",
      "20  | model.query_encoder.encoder_layers.0.self_attn                    | MultiHeadAttention      | 1.1 M \n",
      "21  | model.query_encoder.encoder_layers.0.self_attn.attn_wt_dropout    | Dropout                 | 0     \n",
      "22  | model.query_encoder.encoder_layers.0.self_attn.projections_QKVO   | ModuleList              | 1.1 M \n",
      "23  | model.query_encoder.encoder_layers.0.self_attn.projections_QKVO.0 | Linear                  | 262 K \n",
      "24  | model.query_encoder.encoder_layers.0.self_attn.projections_QKVO.1 | Linear                  | 262 K \n",
      "25  | model.query_encoder.encoder_layers.0.self_attn.projections_QKVO.2 | Linear                  | 262 K \n",
      "26  | model.query_encoder.encoder_layers.0.self_attn.projections_QKVO.3 | Linear                  | 262 K \n",
      "27  | model.query_encoder.encoder_layers.0.layer_norms                  | ModuleList              | 2.0 K \n",
      "28  | model.query_encoder.encoder_layers.0.layer_norms.0                | LayerNorm               | 1.0 K \n",
      "29  | model.query_encoder.encoder_layers.0.layer_norms.1                | LayerNorm               | 1.0 K \n",
      "30  | model.query_encoder.encoder_layers.0.heads_dropout                | Dropout                 | 0     \n",
      "31  | model.query_encoder.encoder_layers.0.pff_dropout                  | Dropout                 | 0     \n",
      "32  | model.query_encoder.encoder_layers.1                              | EncoderLayer            | 2.1 M \n",
      "33  | model.query_encoder.encoder_layers.1.poswise_ff                   | Positiontwise_FF        | 1.1 M \n",
      "34  | model.query_encoder.encoder_layers.1.poswise_ff.linear1           | Linear                  | 525 K \n",
      "35  | model.query_encoder.encoder_layers.1.poswise_ff.linear2           | Linear                  | 524 K \n",
      "36  | model.query_encoder.encoder_layers.1.self_attn                    | MultiHeadAttention      | 1.1 M \n",
      "37  | model.query_encoder.encoder_layers.1.self_attn.attn_wt_dropout    | Dropout                 | 0     \n",
      "38  | model.query_encoder.encoder_layers.1.self_attn.projections_QKVO   | ModuleList              | 1.1 M \n",
      "39  | model.query_encoder.encoder_layers.1.self_attn.projections_QKVO.0 | Linear                  | 262 K \n",
      "40  | model.query_encoder.encoder_layers.1.self_attn.projections_QKVO.1 | Linear                  | 262 K \n",
      "41  | model.query_encoder.encoder_layers.1.self_attn.projections_QKVO.2 | Linear                  | 262 K \n",
      "42  | model.query_encoder.encoder_layers.1.self_attn.projections_QKVO.3 | Linear                  | 262 K \n",
      "43  | model.query_encoder.encoder_layers.1.layer_norms                  | ModuleList              | 2.0 K \n",
      "44  | model.query_encoder.encoder_layers.1.layer_norms.0                | LayerNorm               | 1.0 K \n",
      "45  | model.query_encoder.encoder_layers.1.layer_norms.1                | LayerNorm               | 1.0 K \n",
      "46  | model.query_encoder.encoder_layers.1.heads_dropout                | Dropout                 | 0     \n",
      "47  | model.query_encoder.encoder_layers.1.pff_dropout                  | Dropout                 | 0     \n",
      "48  | model.query_encoder.encoder_layers.2                              | EncoderLayer            | 2.1 M \n",
      "49  | model.query_encoder.encoder_layers.2.poswise_ff                   | Positiontwise_FF        | 1.1 M \n",
      "50  | model.query_encoder.encoder_layers.2.poswise_ff.linear1           | Linear                  | 525 K \n",
      "51  | model.query_encoder.encoder_layers.2.poswise_ff.linear2           | Linear                  | 524 K \n",
      "52  | model.query_encoder.encoder_layers.2.self_attn                    | MultiHeadAttention      | 1.1 M \n",
      "53  | model.query_encoder.encoder_layers.2.self_attn.attn_wt_dropout    | Dropout                 | 0     \n",
      "54  | model.query_encoder.encoder_layers.2.self_attn.projections_QKVO   | ModuleList              | 1.1 M \n",
      "55  | model.query_encoder.encoder_layers.2.self_attn.projections_QKVO.0 | Linear                  | 262 K \n",
      "56  | model.query_encoder.encoder_layers.2.self_attn.projections_QKVO.1 | Linear                  | 262 K \n",
      "57  | model.query_encoder.encoder_layers.2.self_attn.projections_QKVO.2 | Linear                  | 262 K \n",
      "58  | model.query_encoder.encoder_layers.2.self_attn.projections_QKVO.3 | Linear                  | 262 K \n",
      "59  | model.query_encoder.encoder_layers.2.layer_norms                  | ModuleList              | 2.0 K \n",
      "60  | model.query_encoder.encoder_layers.2.layer_norms.0                | LayerNorm               | 1.0 K \n",
      "61  | model.query_encoder.encoder_layers.2.layer_norms.1                | LayerNorm               | 1.0 K \n",
      "62  | model.query_encoder.encoder_layers.2.heads_dropout                | Dropout                 | 0     \n",
      "63  | model.query_encoder.encoder_layers.2.pff_dropout                  | Dropout                 | 0     \n",
      "64  | model.query_encoder.encoder_layers.3                              | EncoderLayer            | 2.1 M \n",
      "65  | model.query_encoder.encoder_layers.3.poswise_ff                   | Positiontwise_FF        | 1.1 M \n",
      "66  | model.query_encoder.encoder_layers.3.poswise_ff.linear1           | Linear                  | 525 K \n",
      "67  | model.query_encoder.encoder_layers.3.poswise_ff.linear2           | Linear                  | 524 K \n",
      "68  | model.query_encoder.encoder_layers.3.self_attn                    | MultiHeadAttention      | 1.1 M \n",
      "69  | model.query_encoder.encoder_layers.3.self_attn.attn_wt_dropout    | Dropout                 | 0     \n",
      "70  | model.query_encoder.encoder_layers.3.self_attn.projections_QKVO   | ModuleList              | 1.1 M \n",
      "71  | model.query_encoder.encoder_layers.3.self_attn.projections_QKVO.0 | Linear                  | 262 K \n",
      "72  | model.query_encoder.encoder_layers.3.self_attn.projections_QKVO.1 | Linear                  | 262 K \n",
      "73  | model.query_encoder.encoder_layers.3.self_attn.projections_QKVO.2 | Linear                  | 262 K \n",
      "74  | model.query_encoder.encoder_layers.3.self_attn.projections_QKVO.3 | Linear                  | 262 K \n",
      "75  | model.query_encoder.encoder_layers.3.layer_norms                  | ModuleList              | 2.0 K \n",
      "76  | model.query_encoder.encoder_layers.3.layer_norms.0                | LayerNorm               | 1.0 K \n",
      "77  | model.query_encoder.encoder_layers.3.layer_norms.1                | LayerNorm               | 1.0 K \n",
      "78  | model.query_encoder.encoder_layers.3.heads_dropout                | Dropout                 | 0     \n",
      "79  | model.query_encoder.encoder_layers.3.pff_dropout                  | Dropout                 | 0     \n",
      "80  | model.query_encoder.encoder_layers.4                              | EncoderLayer            | 2.1 M \n",
      "81  | model.query_encoder.encoder_layers.4.poswise_ff                   | Positiontwise_FF        | 1.1 M \n",
      "82  | model.query_encoder.encoder_layers.4.poswise_ff.linear1           | Linear                  | 525 K \n",
      "83  | model.query_encoder.encoder_layers.4.poswise_ff.linear2           | Linear                  | 524 K \n",
      "84  | model.query_encoder.encoder_layers.4.self_attn                    | MultiHeadAttention      | 1.1 M \n",
      "85  | model.query_encoder.encoder_layers.4.self_attn.attn_wt_dropout    | Dropout                 | 0     \n",
      "86  | model.query_encoder.encoder_layers.4.self_attn.projections_QKVO   | ModuleList              | 1.1 M \n",
      "87  | model.query_encoder.encoder_layers.4.self_attn.projections_QKVO.0 | Linear                  | 262 K \n",
      "88  | model.query_encoder.encoder_layers.4.self_attn.projections_QKVO.1 | Linear                  | 262 K \n",
      "89  | model.query_encoder.encoder_layers.4.self_attn.projections_QKVO.2 | Linear                  | 262 K \n",
      "90  | model.query_encoder.encoder_layers.4.self_attn.projections_QKVO.3 | Linear                  | 262 K \n",
      "91  | model.query_encoder.encoder_layers.4.layer_norms                  | ModuleList              | 2.0 K \n",
      "92  | model.query_encoder.encoder_layers.4.layer_norms.0                | LayerNorm               | 1.0 K \n",
      "93  | model.query_encoder.encoder_layers.4.layer_norms.1                | LayerNorm               | 1.0 K \n",
      "94  | model.query_encoder.encoder_layers.4.heads_dropout                | Dropout                 | 0     \n",
      "95  | model.query_encoder.encoder_layers.4.pff_dropout                  | Dropout                 | 0     \n",
      "96  | model.query_encoder.encoder_layers.5                              | EncoderLayer            | 2.1 M \n",
      "97  | model.query_encoder.encoder_layers.5.poswise_ff                   | Positiontwise_FF        | 1.1 M \n",
      "98  | model.query_encoder.encoder_layers.5.poswise_ff.linear1           | Linear                  | 525 K \n",
      "99  | model.query_encoder.encoder_layers.5.poswise_ff.linear2           | Linear                  | 524 K \n",
      "100 | model.query_encoder.encoder_layers.5.self_attn                    | MultiHeadAttention      | 1.1 M \n",
      "101 | model.query_encoder.encoder_layers.5.self_attn.attn_wt_dropout    | Dropout                 | 0     \n",
      "102 | model.query_encoder.encoder_layers.5.self_attn.projections_QKVO   | ModuleList              | 1.1 M \n",
      "103 | model.query_encoder.encoder_layers.5.self_attn.projections_QKVO.0 | Linear                  | 262 K \n",
      "104 | model.query_encoder.encoder_layers.5.self_attn.projections_QKVO.1 | Linear                  | 262 K \n",
      "105 | model.query_encoder.encoder_layers.5.self_attn.projections_QKVO.2 | Linear                  | 262 K \n",
      "106 | model.query_encoder.encoder_layers.5.self_attn.projections_QKVO.3 | Linear                  | 262 K \n",
      "107 | model.query_encoder.encoder_layers.5.layer_norms                  | ModuleList              | 2.0 K \n",
      "108 | model.query_encoder.encoder_layers.5.layer_norms.0                | LayerNorm               | 1.0 K \n",
      "109 | model.query_encoder.encoder_layers.5.layer_norms.1                | LayerNorm               | 1.0 K \n",
      "110 | model.query_encoder.encoder_layers.5.heads_dropout                | Dropout                 | 0     \n",
      "111 | model.query_encoder.encoder_layers.5.pff_dropout                  | Dropout                 | 0     \n",
      "112 | model.query_encoder.encoder_layers.6                              | EncoderLayer            | 2.1 M \n",
      "113 | model.query_encoder.encoder_layers.6.poswise_ff                   | Positiontwise_FF        | 1.1 M \n",
      "114 | model.query_encoder.encoder_layers.6.poswise_ff.linear1           | Linear                  | 525 K \n",
      "115 | model.query_encoder.encoder_layers.6.poswise_ff.linear2           | Linear                  | 524 K \n",
      "116 | model.query_encoder.encoder_layers.6.self_attn                    | MultiHeadAttention      | 1.1 M \n",
      "117 | model.query_encoder.encoder_layers.6.self_attn.attn_wt_dropout    | Dropout                 | 0     \n",
      "118 | model.query_encoder.encoder_layers.6.self_attn.projections_QKVO   | ModuleList              | 1.1 M \n",
      "119 | model.query_encoder.encoder_layers.6.self_attn.projections_QKVO.0 | Linear                  | 262 K \n",
      "120 | model.query_encoder.encoder_layers.6.self_attn.projections_QKVO.1 | Linear                  | 262 K \n",
      "121 | model.query_encoder.encoder_layers.6.self_attn.projections_QKVO.2 | Linear                  | 262 K \n",
      "122 | model.query_encoder.encoder_layers.6.self_attn.projections_QKVO.3 | Linear                  | 262 K \n",
      "123 | model.query_encoder.encoder_layers.6.layer_norms                  | ModuleList              | 2.0 K \n",
      "124 | model.query_encoder.encoder_layers.6.layer_norms.0                | LayerNorm               | 1.0 K \n",
      "125 | model.query_encoder.encoder_layers.6.layer_norms.1                | LayerNorm               | 1.0 K \n",
      "126 | model.query_encoder.encoder_layers.6.heads_dropout                | Dropout                 | 0     \n",
      "127 | model.query_encoder.encoder_layers.6.pff_dropout                  | Dropout                 | 0     \n",
      "128 | model.query_encoder.encoder_layers.7                              | EncoderLayer            | 2.1 M \n",
      "129 | model.query_encoder.encoder_layers.7.poswise_ff                   | Positiontwise_FF        | 1.1 M \n",
      "130 | model.query_encoder.encoder_layers.7.poswise_ff.linear1           | Linear                  | 525 K \n",
      "131 | model.query_encoder.encoder_layers.7.poswise_ff.linear2           | Linear                  | 524 K \n",
      "132 | model.query_encoder.encoder_layers.7.self_attn                    | MultiHeadAttention      | 1.1 M \n",
      "133 | model.query_encoder.encoder_layers.7.self_attn.attn_wt_dropout    | Dropout                 | 0     \n",
      "134 | model.query_encoder.encoder_layers.7.self_attn.projections_QKVO   | ModuleList              | 1.1 M \n",
      "135 | model.query_encoder.encoder_layers.7.self_attn.projections_QKVO.0 | Linear                  | 262 K \n",
      "136 | model.query_encoder.encoder_layers.7.self_attn.projections_QKVO.1 | Linear                  | 262 K \n",
      "137 | model.query_encoder.encoder_layers.7.self_attn.projections_QKVO.2 | Linear                  | 262 K \n",
      "138 | model.query_encoder.encoder_layers.7.self_attn.projections_QKVO.3 | Linear                  | 262 K \n",
      "139 | model.query_encoder.encoder_layers.7.layer_norms                  | ModuleList              | 2.0 K \n",
      "140 | model.query_encoder.encoder_layers.7.layer_norms.0                | LayerNorm               | 1.0 K \n",
      "141 | model.query_encoder.encoder_layers.7.layer_norms.1                | LayerNorm               | 1.0 K \n",
      "142 | model.query_encoder.encoder_layers.7.heads_dropout                | Dropout                 | 0     \n",
      "143 | model.query_encoder.encoder_layers.7.pff_dropout                  | Dropout                 | 0     \n",
      "144 | model.query_projection                                            | Linear                  | 10.3 K\n",
      "145 | CE_criterion                                                      | CELoss                  | 0     \n",
      "146 | CE_criterion.CE_loss                                              | CrossEntropyLoss        | 0     \n",
      "147 | loss_criterion                                                    | InfoCELoss              | 0     \n",
      "148 | loss_criterion.CE_loss                                            | CrossEntropyLoss        | 0     \n",
      "149 | debug_metrics                                                     | ContrastiveDebugMetrics | 0     \n",
      "150 | softmax                                                           | Softmax                 | 0     \n",
      "----------------------------------------------------------------------------------------------------------------\n",
      "16.9 M    Trainable params\n",
      "0         Non-trainable params\n",
      "16.9 M    Total params\n",
      "67.521    Total estimated model params size (MB) \n",
      "\n",
      "RUN NAME :\n",
      " Con;Vec20;L8H8Lk4Hk2;scheduledAdamW36000;16880.2Kparams\n",
      "Resuming From and Saving to Checkpoint Path:\n",
      " checkpoints/ContrastiveLearning-SET-Wildcard-Expand-Union-27/20210401-235947-Con;Vec20;L8H8Lk4Hk2;scheduledAdamW36000;16880.2Kparams_runId_1n9r52ul\n"
     ]
    },
    {
     "name": "stderr",
     "output_type": "stream",
     "text": [
      "GPU available: True, used: True\n",
      "TPU available: None, using: 0 TPU cores\n",
      "LOCAL_RANK: 0 - CUDA_VISIBLE_DEVICES: [0,1]\n"
     ]
    },
    {
     "name": "stdout",
     "output_type": "stream",
     "text": [
      "\r",
      "Testing: 0it [00:00, ?it/s]"
     ]
    },
    {
     "name": "stderr",
     "output_type": "stream",
     "text": [
      "/home/user/miniconda/lib/python3.8/site-packages/pytorch_lightning/utilities/distributed.py:52: UserWarning: The dataloader, test dataloader 0, does not have many workers which may be a bottleneck. Consider increasing the value of the `num_workers` argument` (try 16 which is the number of cpus on this machine) in the `DataLoader` init to improve performance.\n",
      "  warnings.warn(*args, **kwargs)\n"
     ]
    },
    {
     "name": "stdout",
     "output_type": "stream",
     "text": [
      "Testing: 100%|██████████| 5/5 [00:04<00:00,  1.00s/it]{0.028041521087288857, 0.8852430582046509, 0.9964052438735962, 0.876325786113739, 0.9240771532058716, 0.996427059173584, 0.8413025736808777, 0.912308394908905, 7.900000095367432, 9.0, 10.988855361938477, 11.960627555847168, 12.95324993133545, 13.931884765625, 14.925860404968262, 15.920921325683594, 16.8763370513916, 10.0, 18.799604415893555, 19.76071548461914, 17.84121322631836, 21.811569213867188, 22.745651245117188, 23.864286422729492, 20.827289581298828, 24.799762725830078, 26.0, 27.0, 28.71451759338379, 0.0009432457736693323, 0.05754784867167473, 0.03703700006008148, 0.04446282982826233, 0.06153429299592972, 0.11038848012685776, 0.04871955141425133, 0.09016501158475876, 0.05139140412211418, 0.08234559744596481, 0.06554482132196426, 8.0, 8.100000381469727, 9.039999961853027, 10.013333320617676, 11.0, 11.988235473632812, 11.037233352661133, 12.952011108398438, 12.05741024017334, 12.929519653320312, 13.930282592773438, 13.9937744140625, 13.001367568969727, 13.895611763000488, 14.826193809509277, 14.895240783691406, 14.796893119812012, 15.754562377929688, 15.703607559204102, 15.735727310180664, 15.668924331665039, 16.442047119140625, 16.46803092956543, 16.36713981628418, 17.072999954223633, 17.694026947021484, 17.136260986328125, 17.7043514251709, 17.15492057800293, 18.941551208496094, 17.61506462097168, 18.281408309936523, 18.987287521362305, 18.350000381469727, 18.28910255432129, 18.19757080078125, 19.216083526611328, 19.63492202758789, 19.379520416259766, 19.79222297668457, 19.19525718688965, 19.612699508666992, 19.358673095703125, 0.0009256880730390549, 0.0702691599726677, 0.04100903496146202, 0.042451899498701096, 0.07590728253126144, 0.09943237155675888, 0.05431121587753296, 0.04659548029303551, 0.039304133504629135, 0.12280149757862091, 0.03827566280961037, 1024.0, 0.004363550804555416, 0.008698291145265102, 0.9942666315498443, nan, 0.0003339052200317383, 0.0007901990902610123, 0.002945401007309556, 0.0024887032341212034, 0.0021686565596610308, 0.00036131447996012866, 0.0052610426209867, 0.0014046694850549102, 0.0005115623353049159, 0.0014023034600540996, 0.0012485927436500788, 0.003658438567072153, 0.0035824798978865147, 0.005901608150452375, 0.004832822363823652}\n",
      "Also saved to : checkpoints/ContrastiveLearning-SET-Wildcard-Expand-Union-27/20210401-235947-Con;Vec20;L8H8Lk4Hk2;scheduledAdamW36000;16880.2Kparams_runId_1n9r52ul/test_metrics.json\n",
      "Testing: 100%|██████████| 5/5 [00:05<00:00,  1.05s/it]\n",
      "--------------------------------------------------------------------------------\n",
      "DATALOADER:0 TEST RESULTS\n",
      "{'avg_batch_size': 1024.0,\n",
      " 'avg_test_KL_loss': 28.71451759338379,\n",
      " 'avg_test_KL_loss_per_example': 0.028041521087288857,\n",
      " 'avg_test_accuracy_by_Query': 0.8852430582046509,\n",
      " 'avg_test_accuracy_by_QueryKey': 0.8852430582046509,\n",
      " 'avg_test_f1_by_Query': 0.9240771532058716,\n",
      " 'avg_test_f1_by_QueryKey': 0.912308394908905,\n",
      " 'avg_test_gt10;gt_logits_above_threshold_count': 10.0,\n",
      " 'avg_test_gt10;gt_pred_scores': 0.09943237155675888,\n",
      " 'avg_test_gt10;not_gt_pred_scores': 0.0003339052200317383,\n",
      " 'avg_test_gt10;top10_overlap_count': 10.0,\n",
      " 'avg_test_gt10;top10_pred_above_threshold_count': 10.0,\n",
      " 'avg_test_gt10;total_pred_above_threshold_count': 10.013333320617676,\n",
      " 'avg_test_gt11;gt_logits_above_threshold_count': 11.0,\n",
      " 'avg_test_gt11;gt_pred_scores': 0.09016501158475876,\n",
      " 'avg_test_gt11;not_gt_pred_scores': 0.0005115623353049159,\n",
      " 'avg_test_gt11;top11_overlap_count': 10.988855361938477,\n",
      " 'avg_test_gt11;top11_pred_above_threshold_count': 11.0,\n",
      " 'avg_test_gt11;total_pred_above_threshold_count': 11.037233352661133,\n",
      " 'avg_test_gt12;gt_logits_above_threshold_count': 11.988235473632812,\n",
      " 'avg_test_gt12;gt_pred_scores': 0.08234559744596481,\n",
      " 'avg_test_gt12;not_gt_pred_scores': 0.0007901990902610123,\n",
      " 'avg_test_gt12;top12_overlap_count': 11.960627555847168,\n",
      " 'avg_test_gt12;top12_pred_above_threshold_count': 11.988235473632812,\n",
      " 'avg_test_gt12;total_pred_above_threshold_count': 12.05741024017334,\n",
      " 'avg_test_gt13;gt_logits_above_threshold_count': 12.929519653320312,\n",
      " 'avg_test_gt13;gt_pred_scores': 0.07590728253126144,\n",
      " 'avg_test_gt13;not_gt_pred_scores': 0.0009432457736693323,\n",
      " 'avg_test_gt13;top13_overlap_count': 12.95324993133545,\n",
      " 'avg_test_gt13;top13_pred_above_threshold_count': 12.952011108398438,\n",
      " 'avg_test_gt13;total_pred_above_threshold_count': 13.001367568969727,\n",
      " 'avg_test_gt14;gt_logits_above_threshold_count': 13.895611763000488,\n",
      " 'avg_test_gt14;gt_pred_scores': 0.0702691599726677,\n",
      " 'avg_test_gt14;not_gt_pred_scores': 0.0012485927436500788,\n",
      " 'avg_test_gt14;top14_overlap_count': 13.931884765625,\n",
      " 'avg_test_gt14;top14_pred_above_threshold_count': 13.930282592773438,\n",
      " 'avg_test_gt14;total_pred_above_threshold_count': 13.9937744140625,\n",
      " 'avg_test_gt15;gt_logits_above_threshold_count': 14.796893119812012,\n",
      " 'avg_test_gt15;gt_pred_scores': 0.06554482132196426,\n",
      " 'avg_test_gt15;not_gt_pred_scores': 0.0014023034600540996,\n",
      " 'avg_test_gt15;top15_overlap_count': 14.925860404968262,\n",
      " 'avg_test_gt15;top15_pred_above_threshold_count': 14.826193809509277,\n",
      " 'avg_test_gt15;total_pred_above_threshold_count': 14.895240783691406,\n",
      " 'avg_test_gt16;gt_logits_above_threshold_count': 15.668924331665039,\n",
      " 'avg_test_gt16;gt_pred_scores': 0.06153429299592972,\n",
      " 'avg_test_gt16;not_gt_pred_scores': 0.0014046694850549102,\n",
      " 'avg_test_gt16;top16_overlap_count': 15.920921325683594,\n",
      " 'avg_test_gt16;top16_pred_above_threshold_count': 15.703607559204102,\n",
      " 'avg_test_gt16;total_pred_above_threshold_count': 15.735727310180664,\n",
      " 'avg_test_gt17;gt_logits_above_threshold_count': 16.36713981628418,\n",
      " 'avg_test_gt17;gt_pred_scores': 0.05754784867167473,\n",
      " 'avg_test_gt17;not_gt_pred_scores': 0.0021686565596610308,\n",
      " 'avg_test_gt17;top17_overlap_count': 16.8763370513916,\n",
      " 'avg_test_gt17;top17_pred_above_threshold_count': 16.442047119140625,\n",
      " 'avg_test_gt17;total_pred_above_threshold_count': 16.46803092956543,\n",
      " 'avg_test_gt18;gt_logits_above_threshold_count': 17.072999954223633,\n",
      " 'avg_test_gt18;gt_pred_scores': 0.05431121587753296,\n",
      " 'avg_test_gt18;not_gt_pred_scores': 0.0024887032341212034,\n",
      " 'avg_test_gt18;top18_overlap_count': 17.84121322631836,\n",
      " 'avg_test_gt18;top18_pred_above_threshold_count': 17.136260986328125,\n",
      " 'avg_test_gt18;total_pred_above_threshold_count': 17.15492057800293,\n",
      " 'avg_test_gt19;gt_logits_above_threshold_count': 17.61506462097168,\n",
      " 'avg_test_gt19;gt_pred_scores': 0.05139140412211418,\n",
      " 'avg_test_gt19;not_gt_pred_scores': 0.002945401007309556,\n",
      " 'avg_test_gt19;top19_overlap_count': 18.799604415893555,\n",
      " 'avg_test_gt19;top19_pred_above_threshold_count': 17.694026947021484,\n",
      " 'avg_test_gt19;total_pred_above_threshold_count': 17.7043514251709,\n",
      " 'avg_test_gt20;gt_logits_above_threshold_count': 18.19757080078125,\n",
      " 'avg_test_gt20;gt_pred_scores': 0.04871955141425133,\n",
      " 'avg_test_gt20;not_gt_pred_scores': 0.003658438567072153,\n",
      " 'avg_test_gt20;top20_overlap_count': 19.76071548461914,\n",
      " 'avg_test_gt20;top20_pred_above_threshold_count': 18.281408309936523,\n",
      " 'avg_test_gt20;total_pred_above_threshold_count': 18.28910255432129,\n",
      " 'avg_test_gt21;gt_logits_above_threshold_count': 18.941551208496094,\n",
      " 'avg_test_gt21;gt_pred_scores': 0.04659548029303551,\n",
      " 'avg_test_gt21;not_gt_pred_scores': 0.0035824798978865147,\n",
      " 'avg_test_gt21;top21_overlap_count': 20.827289581298828,\n",
      " 'avg_test_gt21;top21_pred_above_threshold_count': 18.987287521362305,\n",
      " 'avg_test_gt21;total_pred_above_threshold_count': 18.987287521362305,\n",
      " 'avg_test_gt22;gt_logits_above_threshold_count': 19.19525718688965,\n",
      " 'avg_test_gt22;gt_pred_scores': 0.04446282982826233,\n",
      " 'avg_test_gt22;not_gt_pred_scores': 0.004363550804555416,\n",
      " 'avg_test_gt22;top22_overlap_count': 21.811569213867188,\n",
      " 'avg_test_gt22;top22_pred_above_threshold_count': 19.216083526611328,\n",
      " 'avg_test_gt22;total_pred_above_threshold_count': 19.216083526611328,\n",
      " 'avg_test_gt23;gt_logits_above_threshold_count': 19.358673095703125,\n",
      " 'avg_test_gt23;gt_pred_scores': 0.042451899498701096,\n",
      " 'avg_test_gt23;not_gt_pred_scores': 0.005901608150452375,\n",
      " 'avg_test_gt23;top23_overlap_count': 22.745651245117188,\n",
      " 'avg_test_gt23;top23_pred_above_threshold_count': 19.379520416259766,\n",
      " 'avg_test_gt23;total_pred_above_threshold_count': 19.379520416259766,\n",
      " 'avg_test_gt24;gt_logits_above_threshold_count': 19.612699508666992,\n",
      " 'avg_test_gt24;gt_pred_scores': 0.04100903496146202,\n",
      " 'avg_test_gt24;not_gt_pred_scores': 0.0052610426209867,\n",
      " 'avg_test_gt24;top24_overlap_count': 23.864286422729492,\n",
      " 'avg_test_gt24;top24_pred_above_threshold_count': 19.63492202758789,\n",
      " 'avg_test_gt24;total_pred_above_threshold_count': 19.63492202758789,\n",
      " 'avg_test_gt25;gt_logits_above_threshold_count': 19.79222297668457,\n",
      " 'avg_test_gt25;gt_pred_scores': 0.039304133504629135,\n",
      " 'avg_test_gt25;not_gt_pred_scores': 0.008698291145265102,\n",
      " 'avg_test_gt25;top25_overlap_count': 24.799762725830078,\n",
      " 'avg_test_gt25;top25_pred_above_threshold_count': 19.79222297668457,\n",
      " 'avg_test_gt25;total_pred_above_threshold_count': 19.79222297668457,\n",
      " 'avg_test_gt26;gt_logits_above_threshold_count': 18.350000381469727,\n",
      " 'avg_test_gt26;gt_pred_scores': 0.03827566280961037,\n",
      " 'avg_test_gt26;not_gt_pred_scores': 0.004832822363823652,\n",
      " 'avg_test_gt26;top26_overlap_count': 26.0,\n",
      " 'avg_test_gt26;top26_pred_above_threshold_count': 18.350000381469727,\n",
      " 'avg_test_gt26;total_pred_above_threshold_count': 18.350000381469727,\n",
      " 'avg_test_gt27;gt_logits_above_threshold_count': 15.754562377929688,\n",
      " 'avg_test_gt27;gt_pred_scores': 0.03703700006008148,\n",
      " 'avg_test_gt27;not_gt_pred_scores': nan,\n",
      " 'avg_test_gt27;top27_overlap_count': 27.0,\n",
      " 'avg_test_gt27;top27_pred_above_threshold_count': 15.754562377929688,\n",
      " 'avg_test_gt27;total_pred_above_threshold_count': 15.754562377929688,\n",
      " 'avg_test_gt8;gt_logits_above_threshold_count': 8.0,\n",
      " 'avg_test_gt8;gt_pred_scores': 0.12280149757862091,\n",
      " 'avg_test_gt8;not_gt_pred_scores': 0.0009256880730390549,\n",
      " 'avg_test_gt8;top8_overlap_count': 7.900000095367432,\n",
      " 'avg_test_gt8;top8_pred_above_threshold_count': 8.0,\n",
      " 'avg_test_gt8;total_pred_above_threshold_count': 8.100000381469727,\n",
      " 'avg_test_gt9;gt_logits_above_threshold_count': 9.0,\n",
      " 'avg_test_gt9;gt_pred_scores': 0.11038848012685776,\n",
      " 'avg_test_gt9;not_gt_pred_scores': 0.00036131447996012866,\n",
      " 'avg_test_gt9;top9_overlap_count': 9.0,\n",
      " 'avg_test_gt9;top9_pred_above_threshold_count': 9.0,\n",
      " 'avg_test_gt9;total_pred_above_threshold_count': 9.039999961853027,\n",
      " 'avg_test_precision_by_Query': 0.9964052438735962,\n",
      " 'avg_test_precision_by_QueryKey': 0.996427059173584,\n",
      " 'avg_test_recall_by_Query': 0.876325786113739,\n",
      " 'avg_test_recall_by_QueryKey': 0.8413025736808777,\n",
      " 'avg_test_topK_overall_overlap_ratio': 0.9942666315498443,\n",
      " 'test_KL_loss': 28.71451759338379,\n",
      " 'test_KL_loss_per_example': 0.028041521087288857,\n",
      " 'test_accuracy_by_Query': 0.8852430582046509,\n",
      " 'test_accuracy_by_QueryKey': 0.8852430582046509,\n",
      " 'test_f1_by_Query': 0.9240772128105164,\n",
      " 'test_f1_by_QueryKey': 0.912308394908905,\n",
      " 'test_gt10;gt_logits_above_threshold_count': 10.0,\n",
      " 'test_gt10;gt_pred_scores': 0.09943236410617828,\n",
      " 'test_gt10;not_gt_pred_scores': 0.0003339052200317383,\n",
      " 'test_gt10;top10_overlap_count': 10.0,\n",
      " 'test_gt10;top10_pred_above_threshold_count': 10.0,\n",
      " 'test_gt10;total_pred_above_threshold_count': 10.013333320617676,\n",
      " 'test_gt11;gt_logits_above_threshold_count': 11.0,\n",
      " 'test_gt11;gt_pred_scores': 0.09016500413417816,\n",
      " 'test_gt11;not_gt_pred_scores': 0.0005115623353049159,\n",
      " 'test_gt11;top11_overlap_count': 10.988855361938477,\n",
      " 'test_gt11;top11_pred_above_threshold_count': 11.0,\n",
      " 'test_gt11;total_pred_above_threshold_count': 11.037232398986816,\n",
      " 'test_gt12;gt_logits_above_threshold_count': 11.988235473632812,\n",
      " 'test_gt12;gt_pred_scores': 0.08234558999538422,\n",
      " 'test_gt12;not_gt_pred_scores': 0.0007901990902610123,\n",
      " 'test_gt12;top12_overlap_count': 11.960627555847168,\n",
      " 'test_gt12;top12_pred_above_threshold_count': 11.988235473632812,\n",
      " 'test_gt12;total_pred_above_threshold_count': 12.057409286499023,\n",
      " 'test_gt13;gt_logits_above_threshold_count': 12.929519653320312,\n",
      " 'test_gt13;gt_pred_scores': 0.07590727508068085,\n",
      " 'test_gt13;not_gt_pred_scores': 0.0009432457154616714,\n",
      " 'test_gt13;top13_overlap_count': 12.95324993133545,\n",
      " 'test_gt13;top13_pred_above_threshold_count': 12.95201301574707,\n",
      " 'test_gt13;total_pred_above_threshold_count': 13.001367568969727,\n",
      " 'test_gt14;gt_logits_above_threshold_count': 13.895611763000488,\n",
      " 'test_gt14;gt_pred_scores': 0.0702691599726677,\n",
      " 'test_gt14;not_gt_pred_scores': 0.0012485927436500788,\n",
      " 'test_gt14;top14_overlap_count': 13.931884765625,\n",
      " 'test_gt14;top14_pred_above_threshold_count': 13.930282592773438,\n",
      " 'test_gt14;total_pred_above_threshold_count': 13.9937744140625,\n",
      " 'test_gt15;gt_logits_above_threshold_count': 14.796893119812012,\n",
      " 'test_gt15;gt_pred_scores': 0.06554482132196426,\n",
      " 'test_gt15;not_gt_pred_scores': 0.0014023033436387777,\n",
      " 'test_gt15;top15_overlap_count': 14.925860404968262,\n",
      " 'test_gt15;top15_pred_above_threshold_count': 14.826192855834961,\n",
      " 'test_gt15;total_pred_above_threshold_count': 14.895240783691406,\n",
      " 'test_gt16;gt_logits_above_threshold_count': 15.668924331665039,\n",
      " 'test_gt16;gt_pred_scores': 0.06153429299592972,\n",
      " 'test_gt16;not_gt_pred_scores': 0.0014046694850549102,\n",
      " 'test_gt16;top16_overlap_count': 15.920919418334961,\n",
      " 'test_gt16;top16_pred_above_threshold_count': 15.703607559204102,\n",
      " 'test_gt16;total_pred_above_threshold_count': 15.735727310180664,\n",
      " 'test_gt17;gt_logits_above_threshold_count': 16.367137908935547,\n",
      " 'test_gt17;gt_pred_scores': 0.05754784867167473,\n",
      " 'test_gt17;not_gt_pred_scores': 0.0021686565596610308,\n",
      " 'test_gt17;top17_overlap_count': 16.8763370513916,\n",
      " 'test_gt17;top17_pred_above_threshold_count': 16.442047119140625,\n",
      " 'test_gt17;total_pred_above_threshold_count': 16.468029022216797,\n",
      " 'test_gt18;gt_logits_above_threshold_count': 17.073001861572266,\n",
      " 'test_gt18;gt_pred_scores': 0.05431121587753296,\n",
      " 'test_gt18;not_gt_pred_scores': 0.0024887030012905598,\n",
      " 'test_gt18;top18_overlap_count': 17.84121322631836,\n",
      " 'test_gt18;top18_pred_above_threshold_count': 17.136260986328125,\n",
      " 'test_gt18;total_pred_above_threshold_count': 17.154918670654297,\n",
      " 'test_gt19;gt_logits_above_threshold_count': 17.61506462097168,\n",
      " 'test_gt19;gt_pred_scores': 0.05139141157269478,\n",
      " 'test_gt19;not_gt_pred_scores': 0.0029454007744789124,\n",
      " 'test_gt19;top19_overlap_count': 18.799602508544922,\n",
      " 'test_gt19;top19_pred_above_threshold_count': 17.694026947021484,\n",
      " 'test_gt19;total_pred_above_threshold_count': 17.7043514251709,\n",
      " 'test_gt20;gt_logits_above_threshold_count': 18.19757080078125,\n",
      " 'test_gt20;gt_pred_scores': 0.04871954768896103,\n",
      " 'test_gt20;not_gt_pred_scores': 0.003658438567072153,\n",
      " 'test_gt20;top20_overlap_count': 19.76071548461914,\n",
      " 'test_gt20;top20_pred_above_threshold_count': 18.281408309936523,\n",
      " 'test_gt20;total_pred_above_threshold_count': 18.28910255432129,\n",
      " 'test_gt21;gt_logits_above_threshold_count': 18.941551208496094,\n",
      " 'test_gt21;gt_pred_scores': 0.04659547656774521,\n",
      " 'test_gt21;not_gt_pred_scores': 0.0035824798978865147,\n",
      " 'test_gt21;top21_overlap_count': 20.827289581298828,\n",
      " 'test_gt21;top21_pred_above_threshold_count': 18.987285614013672,\n",
      " 'test_gt21;total_pred_above_threshold_count': 18.987285614013672,\n",
      " 'test_gt22;gt_logits_above_threshold_count': 19.19525718688965,\n",
      " 'test_gt22;gt_pred_scores': 0.04446282610297203,\n",
      " 'test_gt22;not_gt_pred_scores': 0.004363550804555416,\n",
      " 'test_gt22;top22_overlap_count': 21.811567306518555,\n",
      " 'test_gt22;top22_pred_above_threshold_count': 19.216083526611328,\n",
      " 'test_gt22;total_pred_above_threshold_count': 19.216083526611328,\n",
      " 'test_gt23;gt_logits_above_threshold_count': 19.358673095703125,\n",
      " 'test_gt23;gt_pred_scores': 0.0424518957734108,\n",
      " 'test_gt23;not_gt_pred_scores': 0.005901607684791088,\n",
      " 'test_gt23;top23_overlap_count': 22.745651245117188,\n",
      " 'test_gt23;top23_pred_above_threshold_count': 19.379520416259766,\n",
      " 'test_gt23;total_pred_above_threshold_count': 19.379520416259766,\n",
      " 'test_gt24;gt_logits_above_threshold_count': 19.61269760131836,\n",
      " 'test_gt24;gt_pred_scores': 0.04100903496146202,\n",
      " 'test_gt24;not_gt_pred_scores': 0.0052610426209867,\n",
      " 'test_gt24;top24_overlap_count': 23.86428451538086,\n",
      " 'test_gt24;top24_pred_above_threshold_count': 19.634920120239258,\n",
      " 'test_gt24;total_pred_above_threshold_count': 19.634920120239258,\n",
      " 'test_gt25;gt_logits_above_threshold_count': 19.79222297668457,\n",
      " 'test_gt25;gt_pred_scores': 0.039304137229919434,\n",
      " 'test_gt25;not_gt_pred_scores': 0.008698290213942528,\n",
      " 'test_gt25;top25_overlap_count': 24.799762725830078,\n",
      " 'test_gt25;top25_pred_above_threshold_count': 19.79222297668457,\n",
      " 'test_gt25;total_pred_above_threshold_count': 19.79222297668457,\n",
      " 'test_gt26;gt_logits_above_threshold_count': 18.350000381469727,\n",
      " 'test_gt26;gt_pred_scores': 0.03827565908432007,\n",
      " 'test_gt26;not_gt_pred_scores': 0.004832821898162365,\n",
      " 'test_gt26;top26_overlap_count': 26.0,\n",
      " 'test_gt26;top26_pred_above_threshold_count': 18.350000381469727,\n",
      " 'test_gt26;total_pred_above_threshold_count': 18.350000381469727,\n",
      " 'test_gt27;gt_logits_above_threshold_count': 15.754562377929688,\n",
      " 'test_gt27;gt_pred_scores': 0.03703700006008148,\n",
      " 'test_gt27;not_gt_pred_scores': nan,\n",
      " 'test_gt27;top27_overlap_count': 27.0,\n",
      " 'test_gt27;top27_pred_above_threshold_count': 15.754562377929688,\n",
      " 'test_gt27;total_pred_above_threshold_count': 15.754562377929688,\n",
      " 'test_gt6;gt_logits_above_threshold_count': 6.0,\n",
      " 'test_gt6;gt_pred_scores': 0.1664612889289856,\n",
      " 'test_gt6;not_gt_pred_scores': 5.8680292568169534e-05,\n",
      " 'test_gt6;top6_overlap_count': 6.0,\n",
      " 'test_gt6;top6_pred_above_threshold_count': 6.0,\n",
      " 'test_gt6;total_pred_above_threshold_count': 6.0,\n",
      " 'test_gt7;gt_logits_above_threshold_count': 7.0,\n",
      " 'test_gt7;gt_pred_scores': 0.13627605140209198,\n",
      " 'test_gt7;not_gt_pred_scores': 0.0023033805191516876,\n",
      " 'test_gt7;top7_overlap_count': 6.666666507720947,\n",
      " 'test_gt7;top7_pred_above_threshold_count': 7.0,\n",
      " 'test_gt7;total_pred_above_threshold_count': 7.333333492279053,\n",
      " 'test_gt8;gt_logits_above_threshold_count': 8.0,\n",
      " 'test_gt8;gt_pred_scores': 0.12280149757862091,\n",
      " 'test_gt8;not_gt_pred_scores': 0.0009256880730390549,\n",
      " 'test_gt8;top8_overlap_count': 7.900000095367432,\n",
      " 'test_gt8;top8_pred_above_threshold_count': 8.0,\n",
      " 'test_gt8;total_pred_above_threshold_count': 8.100000381469727,\n",
      " 'test_gt9;gt_logits_above_threshold_count': 9.0,\n",
      " 'test_gt9;gt_pred_scores': 0.11038848012685776,\n",
      " 'test_gt9;not_gt_pred_scores': 0.00036131447996012866,\n",
      " 'test_gt9;top9_overlap_count': 9.0,\n",
      " 'test_gt9;top9_pred_above_threshold_count': 9.0,\n",
      " 'test_gt9;total_pred_above_threshold_count': 9.039999961853027,\n",
      " 'test_precision_by_Query': 0.996405303478241,\n",
      " 'test_precision_by_QueryKey': 0.996427059173584,\n",
      " 'test_recall_by_Query': 0.876325786113739,\n",
      " 'test_recall_by_QueryKey': 0.8413026928901672,\n",
      " 'test_topK_overall_overlap_ratio': 0.9942666888237}\n",
      "--------------------------------------------------------------------------------\n"
     ]
    }
   ],
   "source": [
    "trainmodule, game_datamodule = main.main(args)"
   ]
  },
  {
   "cell_type": "markdown",
   "id": "organized-jefferson",
   "metadata": {},
   "source": [
    "## KL Loss Analysis"
   ]
  },
  {
   "cell_type": "code",
   "execution_count": 5,
   "id": "hairy-phoenix",
   "metadata": {},
   "outputs": [],
   "source": [
    "def softmax(x):\n",
    "    \"\"\"Compute softmax values for each sets of scores in x.\"\"\"\n",
    "    e_x = np.exp(np.array(x) - np.max(x, axis=-1).reshape(-1, 1))\n",
    "    return e_x / np.sum(e_x, axis=-1).reshape(-1, 1)\n",
    "\n",
    "def entropy(x):\n",
    "    return - np.sum(x * np.log2(x), axis=-1)"
   ]
  },
  {
   "cell_type": "code",
   "execution_count": 6,
   "id": "fancy-bhutan",
   "metadata": {
    "scrolled": true
   },
   "outputs": [
    {
     "name": "stdout",
     "output_type": "stream",
     "text": [
      "top 50th data indices by kl loss [3774 3543 1667  834 4453 3065  771 4930 2261 3565 2020 3184 2348 1194\n",
      " 4784 1688 3645  243 3230  462    1 2288 2446 2790 4301 1970 3241 2842\n",
      " 1780  182  987 1979 3561 3904 4588 3685 2670 2759  559 2858 2659    3\n",
      "  560 4867  183 1545 2701 4219 4028 5004]\n"
     ]
    },
    {
     "data": {
      "text/plain": [
       "(array([3.223e+03, 9.980e+02, 5.110e+02, 2.390e+02, 8.800e+01, 3.900e+01,\n",
       "        1.300e+01, 5.000e+00, 3.000e+00, 1.000e+00]),\n",
       " array([4.20323377e-05, 2.69840650e-02, 5.39260977e-02, 8.08681303e-02,\n",
       "        1.07810163e-01, 1.34752196e-01, 1.61694228e-01, 1.88636261e-01,\n",
       "        2.15578294e-01, 2.42520326e-01, 2.69462359e-01]),\n",
       " <BarContainer object of 10 artists>)"
      ]
     },
     "execution_count": 6,
     "metadata": {},
     "output_type": "execute_result"
    },
    {
     "data": {
      "image/png": "[encoded data removed]",
      "text/plain": [
       "<Figure size 432x288 with 1 Axes>"
      ]
     },
     "metadata": {
      "needs_background": "light"
     },
     "output_type": "display_data"
    }
   ],
   "source": [
    "p = 'checkpoints/ContrastiveLearning-SET-Wildcard-Expand-Union-27/20210401-235947-Con;Vec20;L8H8Lk4Hk2;scheduledAdamW36000;16880.2Kparams_runId_1n9r52ul/test_metrics.json'\n",
    "with open(p, 'r') as f:\n",
    "    res = json.load(f)\n",
    "    \n",
    "full_kl_loss = [row for batch in res['full_kl_loss'] for row in batch]\n",
    "full_logits = [row for batch in res['full_logits'] for row in batch]\n",
    "full_probs = softmax(full_logits)\n",
    "\n",
    "\n",
    "full_kl_loss_sum_row = np.sum(np.array(full_kl_loss), axis=-1)\n",
    "sorted_indices = np.argsort(full_kl_loss_sum_row)\n",
    "print('top 50th data indices by kl loss', sorted_indices[:50])\n",
    "\n",
    "plt.hist(full_kl_loss_sum_row)"
   ]
  },
  {
   "cell_type": "code",
   "execution_count": 7,
   "id": "greenhouse-saturday",
   "metadata": {
    "scrolled": true
   },
   "outputs": [
    {
     "data": {
      "text/plain": [
       "array([4.20323377e-05, 4.34187077e-05, 4.34892654e-05, ...,\n",
       "       2.17115864e-01, 2.19816827e-01, 2.69462359e-01])"
      ]
     },
     "execution_count": 7,
     "metadata": {},
     "output_type": "execute_result"
    }
   ],
   "source": [
    "full_kl_loss_sum_row[sorted_indices]"
   ]
  },
  {
   "cell_type": "code",
   "execution_count": 8,
   "id": "racial-freight",
   "metadata": {},
   "outputs": [
    {
     "name": "stdout",
     "output_type": "stream",
     "text": [
      "---------data----------\n",
      "num_attributes : 3\n",
      "num_attr_vals : 3\n",
      "key_support_size : 27\n",
      "N_pairs : 8\n",
      "union_only : True\n",
      "max_len_q : 16\n",
      "len_k : 1\n",
      "train_gt_idxs length : 0\n",
      "val_gt_idxs length : 5120\n",
      "test_gt_idxs length : 5120\n",
      "train_tokens length : 0\n",
      "val_tokens length : 5120\n",
      "test_tokens length : 5120\n",
      "test_marginal_gt_idxs length : 5120\n",
      "test_marginal_tokens length : 5120\n",
      "vocab_size : 74\n",
      "symbol_vocab_token_lookup : {'(': 64, ')': 65, 'NULL': 66, 'SEP': 67, 'SOS': 68, 'EOS': 69, 'PAD': 70, 'PLH': 71, '|': 72, '!': 73}\n",
      "vocab_by_property : False\n",
      "-----------------------\n"
     ]
    }
   ],
   "source": [
    "game_data = main.load_data(args.data_path)\n",
    "gt_counts = np.array([len(gt_idxs) for gt_idxs in game_data['test_gt_idxs']])"
   ]
  },
  {
   "cell_type": "code",
   "execution_count": 9,
   "id": "supposed-surname",
   "metadata": {},
   "outputs": [
    {
     "name": "stdout",
     "output_type": "stream",
     "text": [
      "[13, 14, 16, 17, 17, 13, 16, 15, 14, 13, 14, 19, 13, 11, 16, 7, 17, 19, 18, 14, 19, 15, 18, 14, 18, 18, 17, 18, 13, 16, 18, 20, 19, 20, 17, 20, 15, 17, 14, 13, 14, 17, 17, 17, 19, 15, 20, 17, 17, 17, 18, 15, 19, 22, 14, 17, 21, 15, 16, 16, 17, 20, 13, 19, 17, 20, 11, 17, 18, 15, 18, 17, 17, 12, 18, 8, 20, 15, 16, 19, 22, 20, 15, 19, 21, 20, 17, 18, 17, 16, 9, 19, 20, 20, 18, 19, 16, 17, 17, 20, 15, 23, 19, 23, 15, 19, 15, 17, 11, 15, 19, 22, 20, 19, 20, 20, 17, 20, 17, 18, 18, 20, 19, 19, 16, 20, 18, 17, 21, 17, 18, 18, 16, 12, 19, 17, 16, 13, 17, 18, 22, 16, 18, 17, 18, 17, 20, 12, 20, 19, 19, 19, 18, 18, 22, 15, 17, 17, 19, 22, 18, 17, 16, 17, 23, 16, 12, 23, 14, 17, 15, 19, 17, 17, 17, 20, 20, 18, 21, 21, 20, 19, 11, 19, 19, 22, 18, 19, 20, 19, 18, 12, 14, 19, 19, 17, 19, 19, 20, 17, 22, 15, 18, 15, 17, 20, 13, 19, 20, 20, 20, 22, 17, 17, 20, 23, 14, 18, 22, 19, 17, 22, 17, 21, 21, 18, 18, 17, 21, 17, 20, 18, 18, 17, 18, 21, 19, 18, 18, 16, 19, 15, 18, 20, 19, 20, 17, 21, 17, 22, 18, 22, 17, 18, 19, 19, 20, 20, 18, 21, 21, 16, 20, 18, 19, 18, 21, 18, 22, 21, 14, 17, 18, 18, 15, 21, 21, 20, 19, 22, 23, 17, 15, 22, 15, 14, 17, 15, 16, 14, 23, 24, 13, 18, 16, 21, 17, 13, 14, 21, 21, 20, 22, 21, 17, 21, 21, 19, 19, 9, 19, 21, 19, 19, 17, 23, 16, 20, 21, 16, 23, 23, 20, 22, 21, 17, 17, 19, 19, 22, 14, 19, 21, 17, 16, 21, 23, 19, 20, 20, 23, 11, 20, 18, 18, 19, 18, 20, 17, 20, 19, 15, 19, 13, 18, 18, 17, 14, 17, 20, 18, 21, 17, 17, 18, 17, 19, 20, 20, 21, 19, 15, 14, 17, 22, 20, 22, 15, 18, 17, 18, 19, 15, 17, 20, 22, 22, 20, 18, 16, 22, 18, 18, 15, 16, 20, 21, 18, 19, 18, 12, 16, 10, 12, 18, 13, 18, 18, 16, 22, 14, 20, 17, 13, 21, 19, 16, 19, 19, 21, 20, 18, 20, 17, 18, 18, 17, 15, 22, 18, 15, 22, 19, 15, 15, 18, 16, 22, 19, 19, 21, 18, 19, 19, 22, 18, 14, 21, 19, 20, 14, 22, 20, 22, 16, 20, 21, 15, 18, 21, 16, 14, 18, 18, 21, 19, 19, 22, 17, 17, 13, 19, 15, 18, 17, 18, 16, 19, 18, 16, 21, 17, 15, 21, 17, 23, 19, 17, 20, 23, 16, 20, 18, 20, 21, 21, 15, 16, 17, 22, 21, 20, 17, 23, 21, 19, 20, 16, 14, 14, 21, 19, 13, 19, 20, 18, 17, 16, 20, 18, 18, 21, 24, 19, 14, 23, 15, 23, 23, 18, 21, 15, 19, 17, 23, 12, 14, 20, 19, 18, 19, 19, 12, 16, 20, 18, 18, 21, 19, 17, 22, 20, 18, 19, 20, 15, 17, 20, 23, 17, 16, 17, 20, 20, 13, 20, 20, 20, 19, 16, 21, 18, 16, 18, 15, 24, 14, 17, 23, 23, 14, 23, 20, 12, 19, 19, 21, 20, 20, 21, 15, 21, 20, 21, 20, 19, 19, 15, 11, 16, 21, 13, 18, 21, 21, 18, 19, 20, 17, 21, 18, 20, 12, 21, 15, 17, 20, 20, 16, 19, 19, 18, 15, 19, 22, 22, 23, 19, 15, 19, 23, 16, 20, 20, 19, 18, 18, 19, 17, 16, 16, 23, 19, 20, 18, 20, 18, 15, 20, 21, 19, 18, 21, 12, 18, 19, 16, 23, 19, 19, 21, 17, 18, 17, 17, 17, 12, 17, 21, 14, 19, 21, 21, 21, 21, 15, 21, 14, 18, 19, 22, 20, 21, 19, 23, 18, 23, 15, 19, 21, 15, 16, 14, 15, 21, 19, 13, 18, 19, 19, 15, 18, 19, 18, 12, 19, 24, 22, 20, 19, 21, 16, 17, 20, 17, 19, 20, 19, 13, 22, 12, 16, 22, 20, 17, 12, 14, 16, 17, 20, 15, 15, 15, 21, 22, 19, 15, 13, 15, 13, 16, 22, 21, 23, 21, 22, 14, 18, 19, 17, 21, 21, 23, 21, 19, 21, 24, 19, 19, 18, 16, 19, 10, 21, 20, 17, 17, 23, 19, 16, 16, 16, 20, 19, 19, 19, 17, 24, 23, 23, 19, 17, 23, 21, 16, 13, 21, 18, 18, 18, 18, 23, 19, 20, 12, 15, 17, 15, 17, 23, 17, 19, 18, 22, 15, 20, 23, 18, 18, 13, 17, 12, 16, 19, 18, 20, 20, 20, 16, 19, 14, 19, 18, 18, 20, 18, 19, 14, 15, 12, 22, 21, 22, 18, 18, 18, 21, 22, 21, 20, 19, 14, 21, 18, 17, 15, 16, 17, 25, 23, 14, 16, 17, 23, 16, 21, 15, 17, 21, 25, 19, 23, 20, 21, 17, 14, 16, 18, 14, 13, 18, 13, 18, 22, 19, 11, 20, 17, 13, 23, 20, 21, 16, 23, 12, 23, 16, 18, 20, 15, 25, 25, 14, 24, 12, 13, 20, 15, 20, 20, 19, 19, 16, 13, 19, 20, 21, 16, 17, 19, 17, 21, 22, 17, 20, 19, 13, 21, 15, 21, 15, 17, 21, 24, 20, 17, 16, 20, 20, 23, 16, 16, 21, 20, 22, 20, 24, 19, 15, 24, 17, 20, 20, 18, 15, 18, 20, 21, 13, 21, 21, 17, 18, 17, 20, 20, 16, 22, 18, 19, 21, 17, 25, 18, 18, 21, 21, 22, 15, 17, 19, 18, 20, 22, 21, 15, 20, 24, 16, 15, 20, 22, 17, 20, 17, 19, 23, 21, 20, 16, 18, 15, 19, 18, 23, 14, 16, 16, 17, 12, 19, 20, 19, 15, 18, 20, 18, 17, 18, 13, 15, 20, 23, 19, 11, 20, 20, 18, 16, 19, 19, 21, 17, 19, 20, 21, 20, 19, 8, 18, 19, 22, 20, 17, 17, 16, 22, 22, 18, 14, 13, 23, 19, 15, 21, 11, 20, 18, 17, 18, 15, 18, 24, 17, 15, 17, 20, 21, 21, 19, 23, 20, 15, 20, 21, 21, 20, 17, 18, 24, 15, 20, 22, 14, 23, 16, 16, 22, 16, 16, 22, 20, 22, 14, 20, 18, 20, 19, 18, 14, 23, 22, 15, 16, 16, 23, 11, 21, 20, 18, 18, 17, 22, 10, 20, 19, 21, 23, 21, 15, 17, 16, 19, 9, 18, 15, 19, 18, 21, 23, 22, 16, 21, 18, 19, 21, 20, 19, 15, 13, 17, 17, 12, 20, 15, 17, 20, 15, 19, 15, 22, 8, 22, 22, 17, 18, 20, 18, 23, 19, 18, 23, 14, 14, 21, 18, 20, 23, 20, 22, 23, 23, 22, 18, 21, 14, 24, 10, 12, 15, 24, 22, 14, 16, 16, 19, 17, 18, 21, 13, 20, 23, 22, 17, 18, 19, 19, 21, 13, 20, 20, 23, 20, 14, 21, 17, 21, 18, 21, 23, 14, 16, 12, 23, 17, 15, 16, 20, 17, 13, 21, 22, 20, 24, 14, 16, 17, 12, 15, 18, 23, 13, 16, 20, 22, 21, 17, 17, 19, 13, 23, 21, 20, 16, 15, 17, 15, 15, 14, 18, 17, 20, 15, 20, 15, 21, 16, 16, 11, 9, 25, 25, 15, 22, 25, 19, 17, 19, 19, 17, 19, 22, 24, 20, 22, 11, 16, 25, 16, 17, 20, 22, 18, 22, 19, 15, 20, 20, 18, 17, 18, 17, 24, 16, 16, 17, 18, 23, 20, 8, 16, 18, 14, 21, 17, 17, 12, 21, 17, 19, 20, 16, 18, 12, 19, 17, 21, 15, 18, 21, 13, 16, 24, 20, 22, 22, 15, 18, 17, 18, 23, 23, 23, 21, 11, 16, 15, 13, 19, 18, 15, 13, 21, 17, 19, 20, 16, 13, 22, 20, 18, 20, 21, 18, 22, 15, 19, 13, 22, 13, 15, 14, 17, 17, 11, 23, 21, 16, 17, 18, 17, 21, 13, 21, 22, 22, 21, 22, 19, 19, 15, 23, 23, 9, 23, 20, 19, 16, 19, 23, 17, 17, 15, 20, 16, 16, 21, 18, 17, 18, 19, 18, 17, 21, 19, 24, 18, 19, 21, 21, 20, 21, 17, 20, 21, 23, 16, 16, 12, 18, 22, 16, 20, 15, 19, 23, 24, 13, 20, 18, 21, 22, 19, 18, 24, 14, 15, 18, 16, 13, 13, 21, 19, 20, 20, 13, 17, 11, 19, 22, 23, 22, 18, 14, 17, 20, 19, 18, 14, 17, 23, 22, 15, 17, 22, 22, 14, 22, 14, 17, 13, 18, 12, 16, 17, 19, 23, 18, 17, 20, 12, 14, 20, 22, 19, 19, 18, 18, 10, 19, 18, 17, 15, 16, 16, 17, 20, 18, 16, 23, 20, 13, 17, 19, 24, 19, 21, 14, 18, 17, 18, 22, 17, 18, 17, 23, 20, 18, 23, 13, 18, 19, 14, 17, 19, 16, 13, 21, 21, 17, 15, 12, 15, 16, 16, 16, 20, 16, 17, 21, 16, 12, 21, 17, 17, 22, 15, 19, 18, 20, 22, 19, 17, 18, 23, 20, 24, 20, 16, 16, 24, 17, 18, 14, 21, 25, 20, 15, 22, 14, 25, 17, 18, 21, 15, 16, 18, 18, 23, 18, 19, 22, 24, 17, 23, 24, 17, 18, 12, 16, 20, 17, 24, 18, 25, 21, 23, 21, 20, 25, 18, 14, 22, 18, 21, 17, 22, 16, 23, 22, 23, 13, 16, 18, 15, 14, 16, 25, 18, 22, 14, 18, 23, 20, 21, 23, 17, 20, 22, 18, 24, 23, 23, 24, 16, 20, 24, 17, 24, 20, 18, 20, 22, 17, 20, 17, 16, 18, 18, 17, 23, 16, 22, 18, 17, 22, 22, 16, 22, 17, 14, 19, 22, 22, 23, 18, 22, 11, 15, 22, 18, 25, 20, 23, 17, 13, 14, 19, 20, 10, 22, 11, 16, 23, 19, 18, 18, 20, 19, 16, 14, 18, 18, 20, 21, 23, 21, 11, 18, 21, 21, 17, 19, 17, 17, 10, 19, 18, 18, 14, 10, 12, 22, 18, 19, 15, 22, 22, 17, 17, 22, 19, 14, 18, 20, 17, 24, 18, 19, 19, 20, 22, 20, 16, 17, 23, 7, 20, 14, 17, 19, 22, 15, 15, 23, 17, 23, 16, 15, 21, 19, 19, 11, 13, 18, 23, 19, 19, 21, 17, 23, 21, 14, 18, 22, 20, 16, 17, 10, 19, 14, 22, 20, 16, 22, 22, 11, 16, 19, 17, 21, 23, 15, 16, 19, 18, 16, 18, 11, 16, 18, 20, 20, 16, 19, 19, 18, 22, 21, 19, 13, 14, 21, 14, 18, 21, 16, 25, 18, 21, 20, 16, 18, 19, 23, 15, 22, 16, 19, 18, 24, 20, 13, 20, 17, 20, 18, 14, 15, 17, 19, 19, 14, 20, 22, 22, 22, 21, 14, 16, 18, 16, 23, 25, 22, 20, 12, 25, 22, 17, 22, 22, 20, 18, 19, 14, 16, 22, 19, 18, 16, 20, 19, 25, 18, 17, 20, 20, 16, 23, 21, 17, 17, 22, 18, 16, 16, 21, 21, 17, 8, 17, 21, 16, 11, 18, 17, 22, 25, 19, 18, 19, 15, 20, 22, 22, 22, 16, 22, 17, 17, 20, 18, 20, 18, 12, 20, 25, 21, 18, 9, 25, 14, 25, 25, 14, 14, 21, 25, 19, 14, 17, 25, 13, 21, 19, 16, 17, 15, 13, 19, 12, 18, 14, 15, 20, 15, 19, 23, 13, 18, 20, 19, 15, 23, 13, 19, 17, 13, 16, 21, 18, 21, 18, 20, 13, 24, 18, 19, 21, 22, 15, 21, 17, 15, 20, 15, 21, 16, 20, 20, 15, 17, 17, 18, 19, 19, 23, 13, 13, 13, 15, 23, 24, 19, 24, 23, 16, 13, 22, 13, 22, 13, 22, 13, 16, 22, 18, 14, 20, 21, 18, 18, 11, 20, 12, 16, 24, 22, 23, 17, 18, 21, 22, 21, 22, 19, 24, 12, 18, 21, 14, 20, 21, 22, 19, 16, 21, 14, 14, 14, 14, 19, 22, 22, 22, 23, 16, 22, 21, 20, 18, 16, 18, 16, 19, 20, 20, 15, 16, 21, 14, 19, 22, 23, 18, 20, 16, 23, 14, 9, 16, 14, 23, 18, 19, 24, 17, 15, 16, 22, 19, 13, 20, 22, 20, 16, 17, 18, 23, 13, 14, 19, 17, 22, 20, 18, 24, 24, 12, 10, 16, 16, 19, 17, 17, 19, 16, 10, 11, 25, 18, 21, 18, 14, 18, 16, 17, 20, 15, 16, 16, 15, 20, 20, 22, 16, 12, 18, 8, 19, 17, 18, 23, 9, 19, 15, 11, 15, 10, 19, 23, 17, 23, 15, 16, 21, 14, 17, 18, 21, 20, 17, 19, 22, 10, 18, 23, 22, 13, 15, 21, 13, 20, 19, 12, 18, 24, 19, 17, 20, 22, 14, 23, 18, 13, 23, 18, 19, 15, 10, 22, 19, 13, 20, 19, 17, 16, 9, 21, 19, 12, 19, 17, 19, 15, 18, 16, 21, 21, 17, 20, 18, 19, 19, 13, 14, 17, 15, 17, 18, 21, 18, 22, 22, 18, 18, 22, 16, 15, 19, 16, 24, 14, 21, 13, 18, 15, 20, 18, 17, 23, 20, 17, 14, 22, 17, 23, 15, 21, 21, 15, 15, 16, 11, 17, 16, 20, 19, 23, 21, 19, 21, 22, 24, 24, 18, 18, 21, 19, 13, 14, 17, 17, 17, 15, 17, 18, 24, 17, 23, 19, 20, 13, 17, 16, 16, 14, 19, 17, 13, 15, 15, 23, 22, 19, 15, 16, 16, 20, 22, 10, 23, 16, 20, 19, 17, 12, 17, 17, 19, 10, 15, 17, 17, 20, 16, 18, 14, 21, 14, 21, 12, 19, 23, 21, 14, 10, 22, 23, 23, 13, 22, 21, 21, 20, 25, 17, 20, 20, 21, 24, 18, 12, 13, 13, 22, 18, 19, 16, 16, 19, 18, 16, 24, 21, 17, 14, 19, 12, 12, 19, 20, 22, 18, 15, 18, 11, 22, 20, 14, 16, 15, 17, 21, 22, 17, 16, 13, 12, 17, 22, 14, 24, 17, 16, 13, 25, 17, 17, 19, 10, 23, 17, 18, 17, 18, 16, 17, 14, 25, 18, 17, 14, 21, 19, 24, 23, 22, 14, 25, 17, 17, 16, 15, 11, 18, 21, 17, 14, 18, 17, 21, 14, 23, 20, 19, 22, 14, 18, 15, 18, 16, 16, 13, 15, 14, 22, 16, 22, 18, 14, 19, 15, 17, 16, 15, 13, 17, 19, 13, 22, 12, 21, 25, 13, 10, 13, 14, 12, 16, 22, 13, 22, 14, 18, 15, 13, 18, 11, 15, 23, 18, 17, 22, 14, 17, 26, 19, 20, 22, 19, 14, 17, 17, 16, 15, 13, 10, 18, 17, 16, 19, 13, 23, 22, 13, 19, 22, 16, 17, 24, 17, 14, 20, 15, 20, 22, 22, 20, 23, 22, 24, 14, 22, 11, 23, 16, 15, 19, 14, 19, 23, 18, 17, 25, 19, 10, 23, 11, 24, 17, 15, 21, 16, 23, 11, 16, 20, 23, 14, 17, 16, 19, 22, 14, 23, 13, 17, 19, 17, 15, 20, 21, 18, 12, 15, 14, 23, 18, 19, 14, 19, 13, 9, 15, 17, 22, 16, 16, 10, 17, 17, 13, 11, 16, 23, 21, 22, 24, 17, 22, 18, 15, 15, 16, 20, 17, 26, 20, 23, 16, 23, 15, 23, 22, 17, 12, 20, 14, 24, 11, 19, 25, 16, 20, 18, 18, 24, 14, 14, 20, 14, 15, 17, 13, 18, 13, 18, 18, 18, 18, 12, 16, 22, 24, 15, 18, 24, 16, 19, 19, 17, 20, 19, 15, 23, 12, 13, 17, 16, 13, 15, 22, 15, 16, 24, 15, 20, 18, 10, 15, 15, 13, 13, 14, 17, 17, 20, 15, 23, 22, 22, 16, 21, 15, 13, 19, 17, 21, 14, 15, 25, 15, 13, 23, 23, 23, 11, 15, 19, 21, 18, 13, 19, 19, 21, 15, 21, 20, 17, 15, 18, 15, 11, 25, 20, 13, 24, 15, 11, 16, 18, 13, 18, 13, 19, 21, 11, 17, 13, 21, 15, 13, 14, 15, 17, 17, 11, 11, 23, 20, 17, 12, 18, 14, 20, 18, 17, 20, 21, 12, 15, 22, 21, 17, 12, 19, 22, 14, 20, 15, 23, 17, 23, 9, 18, 13, 21, 17, 12, 18, 17, 12, 17, 17, 12, 23, 10, 12, 16, 16, 12, 11, 16, 12, 16, 16, 22, 17, 13, 23, 14, 22, 16, 17, 13, 25, 13, 13, 19, 17, 14, 15, 15, 13, 18, 21, 19, 12, 14, 20, 13, 12, 12, 16, 18, 16, 24, 8, 22, 14, 17, 22, 20, 10, 17, 15, 20, 10, 17, 25, 23, 10, 15, 17, 21, 16, 22, 15, 21, 14, 17, 16, 17, 16, 18, 12, 17, 9, 9, 14, 11, 23, 10, 22, 19, 17, 10, 18, 18, 16, 16, 16, 16, 25, 15, 13, 11, 16, 11, 11, 19, 13, 22, 17, 22, 15, 25, 16, 19, 22, 20, 20, 13, 24, 17, 17, 19, 14, 18, 18, 12, 14, 17, 15, 12, 19, 20, 25, 19, 15, 23, 18, 12, 14, 11, 19, 19, 11, 17, 11, 21, 17, 23, 18, 22, 22, 24, 15, 9, 22, 22, 16, 22, 16, 14, 16, 18, 13, 22, 14, 15, 14, 14, 14, 18, 17, 23, 9, 18, 9, 22, 11, 13, 17, 16, 12, 16, 16, 20, 16, 11, 14, 11, 16, 11, 15, 22, 14, 13, 26, 11, 8, 16, 16, 19, 14, 17, 18, 17, 20, 17, 10, 14, 24, 18, 12, 14, 13, 21, 17, 17, 19, 12, 12, 12, 22, 11, 17, 17, 17, 18, 12, 15, 20, 19, 23, 13, 11, 16, 14, 11, 15, 19, 15, 18, 14, 17, 21, 13, 10, 26, 22, 24, 13, 16, 17, 14, 24, 21, 11, 24, 15, 16, 13, 22, 19, 24, 21, 10, 21, 19, 21, 24, 21, 17, 12, 17, 13, 17, 17, 19, 17, 12, 16, 18, 23, 11, 16, 12, 21, 20, 21, 13, 18, 11, 17, 15, 22, 17, 13, 19, 17, 16, 15, 12, 16, 21, 13, 15, 10, 14, 21, 15, 23, 16, 17, 16, 11, 16, 13, 21, 18, 20, 17, 10, 24, 12, 17, 18, 15, 11, 16, 18, 13, 24, 15, 16, 21, 20, 17, 11, 14, 21, 21, 17, 21, 20, 22, 15, 17, 11, 22, 12, 20, 20, 24, 19, 11, 12, 18, 21, 21, 15, 20, 16, 11, 24, 10, 12, 22, 16, 15, 15, 11, 9, 19, 14, 21, 18, 21, 10, 18, 14, 16, 19, 10, 24, 12, 10, 13, 24, 16, 12, 17, 15, 18, 17, 14, 18, 19, 20, 22, 16, 12, 11, 16, 21, 17, 12, 20, 14, 17, 17, 13, 18, 20, 11, 20, 17, 15, 9, 15, 17, 25, 14, 17, 17, 25, 17, 20, 12, 14, 10, 11, 15, 16, 21, 16, 17, 10, 15, 11, 13, 18, 18, 14, 13, 15, 16, 20, 23, 15, 17, 17, 16, 11, 20, 22, 11, 19, 21, 26, 14, 21, 17, 11, 14, 11, 19, 13, 16, 18, 18, 13, 16, 14, 15, 18, 12, 11, 11, 19, 16, 15, 9, 16, 16, 19, 15, 17, 7, 14, 15, 24, 17, 12, 18, 14, 24, 11, 22, 19, 23, 18, 16, 11, 16, 14, 16, 21, 18, 18, 18, 18, 14, 19, 16, 22, 15, 11, 14, 20, 9, 23, 15, 15, 19, 12, 17, 17, 18, 22, 9, 12, 11, 12, 12, 17, 14, 8, 13, 22, 13, 18, 10, 15, 25, 16, 13, 25, 21, 8, 24, 21, 19, 13, 21, 16, 10, 15, 21, 8, 20, 17, 13, 15, 21, 8, 13, 16, 11, 15, 19, 16, 19, 24, 12, 16, 23, 19, 13, 11, 18, 14, 17, 15, 11, 9, 20, 18, 20, 21, 17, 18, 15, 13, 16, 19, 14, 17, 17, 12, 25, 15, 13, 13, 18, 21, 17, 19, 16, 16, 13, 24, 10, 13, 22, 21, 15, 23, 19, 11, 16, 18, 17, 14, 13, 18, 10, 15, 14, 18, 17, 10, 16, 17, 19, 15, 14, 16, 15, 17, 12, 18, 17, 16, 21, 20, 17, 18, 16, 22, 11, 20, 26, 15, 15, 10, 14, 15, 26, 19, 16, 14, 15, 15, 15, 18, 13, 14, 11, 26, 11, 11, 16, 12, 16, 12, 26, 10, 14, 18, 12, 13, 16, 14, 15, 19, 16, 16, 13, 20, 17, 12, 13, 18, 10, 17, 16, 19, 9, 13, 18, 21, 15, 15, 25, 18, 17, 13, 8, 21, 13, 16, 9, 20, 12, 8, 23, 14, 12, 13, 24, 13, 17, 9, 14, 14, 21, 12, 13, 12, 19, 13, 20, 25, 15, 14, 14, 16, 13, 14, 20, 14, 17, 12, 11, 18, 17, 12, 16, 14, 13, 12, 19, 16, 16, 16, 19, 14, 13, 20, 16, 12, 21, 19, 15, 12, 24, 14, 9, 18, 21, 17, 15, 12, 11, 20, 15, 9, 13, 13, 12, 17, 17, 13, 11, 11, 17, 15, 13, 18, 10, 17, 8, 12, 16, 16, 17, 12, 10, 19, 15, 22, 21, 24, 15, 16, 19, 24, 18, 12, 21, 16, 19, 14, 11, 19, 16, 14, 10, 12, 24, 17, 14, 24, 14, 18, 19, 17, 16, 16, 14, 19, 19, 18, 15, 25, 24, 20, 16, 14, 18, 10, 11, 20, 21, 12, 19, 13, 17, 14, 15, 15, 22, 12, 18, 21, 19, 16, 22, 13, 22, 16, 13, 16, 12, 15, 16, 11, 16, 18, 14, 16, 16, 23, 10, 13, 14, 14, 15, 11, 19, 22, 12, 15, 14, 25, 16, 18, 14, 17, 14, 9, 10, 17, 17, 10, 15, 21, 12, 15, 24, 11, 12, 17, 12, 16, 19, 17, 9, 16, 19, 13, 18, 17, 17, 16, 17, 13, 13, 21, 20, 9, 20, 18, 17, 11, 11, 11, 13, 13, 19, 15, 16, 11, 13, 9, 10, 25, 14, 17, 18, 21, 16, 14, 14, 10, 18, 13, 17, 14, 9, 25, 16, 19, 15, 18, 15, 16, 16, 14, 24, 18, 17, 13, 20, 18, 14, 14, 11, 16, 15, 10, 9, 13, 15, 12, 19, 24, 13, 15, 18, 11, 13, 14, 14, 13, 9, 14, 18, 13, 21, 14, 16, 9, 16, 14, 16, 17, 19, 18, 15, 17, 14, 12, 17, 17, 9, 11, 17, 13, 7, 19, 24, 15, 12, 21, 11, 26, 11, 8, 6, 11, 13, 21, 18, 24, 15, 8, 26, 14, 9, 12, 14, 15, 16, 15, 16, 17, 13, 17, 12, 13, 13, 16, 14, 12, 16, 18, 14, 14, 13, 9, 10, 21, 15, 16, 22, 14, 14, 15, 15, 15, 17, 18, 13, 23, 16, 13, 13, 15, 17, 19, 18, 9, 15, 12, 12, 9, 19, 18, 11, 16, 18, 13, 16, 15, 17, 13, 14, 23, 14, 17, 15, 18, 20, 19, 19, 13, 17, 13, 15, 15, 15, 15, 11, 13, 10, 13, 17, 13, 17, 17, 18, 9, 21, 17, 21, 13, 15, 23, 9, 21, 16, 19, 15, 13, 16, 15, 13, 23, 17, 11, 16, 11, 16, 13, 17, 16, 16, 10, 16, 14, 12, 19, 21, 15, 14, 16, 12, 21, 17, 14, 13, 16, 15, 20, 17, 15, 15, 13, 18, 16, 21, 16, 14, 15, 15, 11, 10, 19, 15, 13, 20, 13, 11, 16, 19, 13, 16, 15, 13, 11, 17, 19, 17, 26, 12, 19, 16, 20, 17, 13, 14, 12, 15, 12, 17, 21, 19, 14, 11, 12, 13, 13, 13, 18, 26, 12, 14, 16, 24, 12, 14, 14, 15, 11, 11, 11, 13, 17, 20, 17, 13, 17, 17, 11, 11, 17, 20, 15, 11, 10, 15, 14, 19, 15, 21, 20, 17, 18, 13, 12, 16, 16, 17, 18, 16, 14, 20, 17, 12, 15, 21, 13, 9, 18, 14, 16, 15, 15, 12, 11, 21, 12, 18, 16, 15, 20, 13, 13, 21, 19, 15, 20, 13, 16, 15, 11, 11, 16, 16, 22, 14, 16, 19, 13, 12, 17, 16, 14, 16, 21, 15, 13, 13, 19, 17, 11, 14, 14, 13, 18, 13, 14, 16, 16, 16, 13, 18, 11, 16, 16, 19, 14, 16, 11, 15, 11, 12, 19, 15, 14, 11, 21, 16, 21, 16, 12, 14, 13, 22, 13, 12, 15, 12, 15, 20, 17, 15, 19, 21, 21, 16, 20, 15, 14, 17, 12, 21, 20, 24, 18, 15, 14, 11, 11, 20, 16, 21, 20, 14, 21, 10, 11, 13, 11, 19, 13, 14, 18, 14, 16, 15, 13, 21, 15, 12, 10, 21, 21, 24, 18, 15, 14, 15, 18, 14, 13, 16, 10, 20, 20, 19, 15, 10, 14, 15, 20, 20, 17, 19, 15, 20, 15, 12, 11, 15, 18, 14, 16, 16, 18, 18, 18, 20, 14, 15, 15, 15, 17, 12, 15, 19, 18, 15, 18, 11, 18, 16, 21, 19, 10, 8, 11, 12, 13, 21, 21, 14, 21, 17, 18, 16, 14, 21, 15, 18, 15, 15, 20, 27, 27, 27, 27, 27, 27, 27, 27, 27, 27, 27, 27, 27, 27, 27, 10, 27, 27, 27, 27, 27, 27, 27, 27, 27, 27, 27, 27, 27, 27, 27, 27, 27, 27, 27, 27, 27, 27, 27, 27, 27, 27, 27, 27, 27, 27, 27, 27, 27, 27, 27, 27, 27, 27, 27, 27, 27, 27, 27, 27, 27, 27, 27, 27, 27, 27, 27, 27, 27, 27, 27, 27, 27, 27, 27, 27, 27, 27, 27, 27, 27, 27, 27, 27, 27, 27, 27, 27, 27, 27, 27, 27, 27, 27, 27, 27, 27, 27, 27, 27, 27, 27, 27, 27, 27, 27, 27, 27, 27, 27, 27, 27, 27, 27, 27, 27, 27, 27, 27, 27, 27, 27, 27, 27, 27, 27, 27, 27, 27, 27, 27, 27, 27, 27, 27, 27, 27, 27, 27, 27, 27, 27, 27, 27, 27, 27, 27, 27, 27, 27, 27, 27, 27, 27, 27, 27, 27, 27, 27, 27, 27, 27, 27, 27, 27, 27, 27, 27, 27, 27, 27, 27, 27, 27, 27, 27, 27, 27, 27, 27, 27, 27, 27, 27, 27, 27, 27, 27, 27, 27, 27, 27, 27, 27, 27, 27, 27, 27, 27, 27, 27, 27, 27, 27, 27, 27, 27, 27, 27, 27, 27, 27, 27, 27, 27, 27, 27, 27, 27, 27, 27, 27, 27, 27, 27, 27, 27, 27, 27, 27, 27, 27, 27, 27, 27, 27, 27, 27, 27, 27, 27, 27, 27, 27, 27, 27, 27, 27, 27, 27, 27, 27, 27, 27, 27, 27, 27, 27, 27, 27, 27, 27, 27, 27, 27, 27, 27, 27, 27, 27, 27, 27, 27, 27, 27, 27, 27, 27, 27, 27, 27, 27, 27, 27, 27, 27, 27, 27, 27, 27, 27, 27, 27, 27, 27, 27, 27, 27, 27, 27, 27, 27, 27, 27, 27, 27, 27, 27, 27, 27, 27, 27, 27, 27, 27, 27, 27, 27, 27, 27, 27, 27, 27, 27, 27, 27, 27, 27, 27, 27, 27, 27, 27, 27, 27, 27, 27, 27, 27, 27, 27, 27, 27, 27, 27, 27, 27, 27, 27, 27, 27, 27, 27, 27, 27, 27, 27, 27, 27, 27, 27, 27, 27, 27, 27, 27, 27, 27, 27, 27, 27, 27, 27, 27, 27, 27, 27, 27, 27, 27, 27, 27, 27, 27, 27, 27, 27, 27, 27, 27, 27, 27, 27, 27, 27, 27, 27, 27, 27, 27, 27, 27, 27, 27, 27, 27, 27, 27, 27, 27, 27, 27, 27, 27, 27, 27, 27, 27, 27, 27, 27, 27, 27, 27, 27, 27, 27, 27, 27, 27, 27, 27, 27, 27, 27, 27, 27, 27, 27, 27, 27, 27, 27, 27, 27, 27, 27, 27, 27, 27, 27, 27, 27, 27, 27, 27, 27, 27, 27, 27, 27, 27, 27, 27, 27, 27, 27, 27, 27, 27, 27, 27, 27, 27, 27, 27, 27, 27, 27, 27, 27, 27, 27, 27, 27, 27, 27, 27, 27, 27, 27, 27, 27, 27, 27, 27, 27, 27, 27, 27, 27, 27, 27, 27, 27, 27, 27, 27, 27, 27, 27, 27, 27, 27, 27, 27, 27, 27, 27, 27, 27, 27, 27, 27, 27, 27, 27, 27, 27, 27, 27, 27, 27, 27, 27, 27, 27, 27, 27, 27, 27, 27, 27, 27, 27, 27, 27, 27, 27, 27, 27, 27, 27, 27, 27, 27, 27, 27, 27, 27, 27, 27, 27, 27, 27, 27, 27, 27, 27, 27, 27, 27, 27, 27, 27, 27, 27, 27, 27, 27, 27, 27, 27, 27, 27, 27, 27, 27, 27, 27, 27, 27, 27, 27, 27, 27, 27, 27, 27, 27, 27, 27, 27, 27, 27, 27, 27, 27, 27, 27, 27, 27, 27, 27, 27, 27, 27, 27, 27, 27, 27, 27, 27, 27, 27, 27, 27, 27, 27, 27, 27, 27, 27, 27, 27, 27, 27, 27, 27, 27, 27, 27, 27, 27, 27, 27, 27, 27, 27, 27, 27, 27, 27, 27, 27, 27, 27, 27, 27, 27, 27, 27, 27, 27, 27, 27, 27, 27, 27, 27, 27, 27, 27, 27, 27, 27, 27, 27, 27, 27, 27, 27, 27, 27, 27, 27, 27, 27, 27, 27, 27, 27, 27, 27, 27, 27, 27, 27, 27, 27, 27, 27, 27, 27, 27, 27, 27, 27, 27, 27, 27, 27, 27, 27, 27, 27, 27, 27, 27, 27, 27, 27, 27, 27, 27, 27, 27, 27, 27, 27, 27, 27, 27, 27, 27, 27, 27, 27, 27, 27, 27, 27, 27, 27, 27, 27, 27, 27, 27, 27, 27, 27, 27, 27, 27, 27, 27, 27, 27, 27, 27, 27, 27, 27, 27, 27, 27, 27, 27, 27, 27, 27, 27, 27, 27, 27, 27, 27, 27, 27, 27, 27, 27, 27, 27, 27, 27, 27, 27, 27, 27, 27, 27, 27, 27, 27, 27, 27, 27, 27, 27, 27, 27, 27, 27, 27, 27, 27, 27, 27, 27, 27, 27, 27, 27, 27, 27, 27, 27, 27, 27, 27, 27, 27, 27, 27, 27, 27, 27, 27, 27, 27, 27, 27, 27, 27, 27, 27, 27, 27, 27, 27, 27, 27, 27, 27, 27, 27, 27, 27, 27, 27, 27, 27, 27, 27, 27, 27, 27, 27, 27, 27, 27, 27, 27, 27, 27, 27, 27, 27, 27, 27, 27, 27, 27, 27, 27, 27, 27, 27, 27, 27, 27, 27, 27, 27, 27, 27, 27, 27, 27, 27, 27, 27, 27, 27, 27, 27, 27, 27, 27, 27, 27, 27, 27, 27, 27, 27, 27, 27, 27, 27, 27, 27, 27, 27, 27, 27, 27, 27, 27, 27, 27, 27, 27, 27, 27, 27, 27, 27, 27, 27, 27, 27, 27, 27, 27, 27, 27, 27, 27, 27, 27, 27, 27, 27, 27, 27, 27, 27, 27, 27, 27, 27, 27, 27]\n"
     ]
    }
   ],
   "source": [
    "print(gt_counts[sorted_indices].tolist()[::-1])"
   ]
  },
  {
   "cell_type": "code",
   "execution_count": 10,
   "id": "controlling-evaluation",
   "metadata": {},
   "outputs": [
    {
     "data": {
      "text/plain": [
       "array([3774, 3543, 1667, ..., 2325, 4731, 2268])"
      ]
     },
     "execution_count": 10,
     "metadata": {},
     "output_type": "execute_result"
    }
   ],
   "source": [
    "sorted_indices"
   ]
  },
  {
   "cell_type": "code",
   "execution_count": 11,
   "id": "bronze-soldier",
   "metadata": {},
   "outputs": [
    {
     "data": {
      "text/plain": [
       "[-1.8456611633300781,\n",
       " 0.28640106320381165,\n",
       " -2.6260900497436523,\n",
       " -0.4135015904903412,\n",
       " -4.7283501625061035,\n",
       " 0.11539232730865479,\n",
       " -6.740790843963623,\n",
       " -3.0774013996124268,\n",
       " 0.5354650020599365,\n",
       " 0.28368881344795227,\n",
       " 0.8259846568107605,\n",
       " 0.17481932044029236,\n",
       " 0.7055278420448303,\n",
       " 0.005995884537696838,\n",
       " 0.45603859424591064,\n",
       " 0.46320217847824097,\n",
       " -0.2642853260040283,\n",
       " 0.5262202024459839,\n",
       " -3.500218391418457,\n",
       " 0.3378056585788727,\n",
       " -0.19415634870529175,\n",
       " 0.2986130714416504,\n",
       " 0.2970837950706482,\n",
       " 0.5943253040313721,\n",
       " -2.664274215698242,\n",
       " 0.645348310470581,\n",
       " 0.28542253375053406]"
      ]
     },
     "execution_count": 11,
     "metadata": {},
     "output_type": "execute_result"
    }
   ],
   "source": [
    "full_logits[14]"
   ]
  },
  {
   "cell_type": "code",
   "execution_count": 12,
   "id": "piano-cinema",
   "metadata": {},
   "outputs": [
    {
     "data": {
      "text/plain": [
       "14"
      ]
     },
     "execution_count": 12,
     "metadata": {},
     "output_type": "execute_result"
    }
   ],
   "source": [
    "gt_counts[1207]"
   ]
  },
  {
   "cell_type": "code",
   "execution_count": 13,
   "id": "cutting-coach",
   "metadata": {},
   "outputs": [
    {
     "data": {
      "text/plain": [
       "(array([13.,  0.,  0.,  0.,  0.,  0.,  2.,  3.,  8.,  1.]),\n",
       " array([3.25666769e-33, 2.22611462e-01, 4.45222924e-01, 6.67834386e-01,\n",
       "        8.90445847e-01, 1.11305731e+00, 1.33566877e+00, 1.55828023e+00,\n",
       "        1.78089169e+00, 2.00350316e+00, 2.22611462e+00]),\n",
       " <BarContainer object of 10 artists>)"
      ]
     },
     "execution_count": 13,
     "metadata": {},
     "output_type": "execute_result"
    },
    {
     "data": {
      "image/png": "[encoded data removed]",
      "text/plain": [
       "<Figure size 432x288 with 1 Axes>"
      ]
     },
     "metadata": {
      "needs_background": "light"
     },
     "output_type": "display_data"
    }
   ],
   "source": [
    "plt.hist(np.exp(full_logits[1207]))"
   ]
  },
  {
   "cell_type": "code",
   "execution_count": 14,
   "id": "agricultural-superior",
   "metadata": {
    "scrolled": true
   },
   "outputs": [
    {
     "data": {
      "text/plain": [
       "(array([13.,  0.,  0.,  0.,  0.,  0.,  2.,  5.,  6.,  1.]),\n",
       " array([1.        , 1.00900489, 1.01800977, 1.02701466, 1.03601955,\n",
       "        1.04502443, 1.05402932, 1.06303421, 1.07203909, 1.08104398,\n",
       "        1.09004886]),\n",
       " <BarContainer object of 10 artists>)"
      ]
     },
     "execution_count": 14,
     "metadata": {},
     "output_type": "execute_result"
    },
    {
     "data": {
      "image/png": "[encoded data removed]",
      "text/plain": [
       "<Figure size 432x288 with 1 Axes>"
      ]
     },
     "metadata": {
      "needs_background": "light"
     },
     "output_type": "display_data"
    }
   ],
   "source": [
    "plt.hist(np.exp(full_probs[1207]))"
   ]
  },
  {
   "cell_type": "code",
   "execution_count": 30,
   "id": "atlantic-elevation",
   "metadata": {
    "scrolled": true
   },
   "outputs": [
    {
     "data": {
      "text/plain": [
       "(array([14.,  0.,  0.,  0.,  0.,  1.,  3.,  6.,  1.,  2.]),\n",
       " array([1.        , 1.010591  , 1.02118199, 1.03177299, 1.04236399,\n",
       "        1.05295498, 1.06354598, 1.07413698, 1.08472798, 1.09531897,\n",
       "        1.10590997]),\n",
       " <BarContainer object of 10 artists>)"
      ]
     },
     "execution_count": 30,
     "metadata": {},
     "output_type": "execute_result"
    },
    {
     "data": {
      "image/png": "[encoded data removed]",
      "text/plain": [
       "<Figure size 432x288 with 1 Axes>"
      ]
     },
     "metadata": {
      "needs_background": "light"
     },
     "output_type": "display_data"
    }
   ],
   "source": [
    "plt.hist(np.exp(full_probs[373]))"
   ]
  },
  {
   "cell_type": "code",
   "execution_count": 31,
   "id": "forbidden-redhead",
   "metadata": {
    "scrolled": true
   },
   "outputs": [
    {
     "data": {
      "text/plain": [
       "(array([16.,  0.,  0.,  0.,  1.,  4.,  5.,  0.,  0.,  1.]),\n",
       " array([1.        , 1.01503807, 1.03007613, 1.0451142 , 1.06015227,\n",
       "        1.07519033, 1.0902284 , 1.10526647, 1.12030453, 1.1353426 ,\n",
       "        1.15038067]),\n",
       " <BarContainer object of 10 artists>)"
      ]
     },
     "execution_count": 31,
     "metadata": {},
     "output_type": "execute_result"
    },
    {
     "data": {
      "image/png": "[encoded data removed]",
      "text/plain": [
       "<Figure size 432x288 with 1 Axes>"
      ]
     },
     "metadata": {
      "needs_background": "light"
     },
     "output_type": "display_data"
    }
   ],
   "source": [
    "plt.hist(np.exp(full_probs[3834]))"
   ]
  },
  {
   "cell_type": "code",
   "execution_count": 36,
   "id": "opposite-dream",
   "metadata": {},
   "outputs": [
    {
     "data": {
      "text/plain": [
       "4.247504714937253"
      ]
     },
     "execution_count": 36,
     "metadata": {},
     "output_type": "execute_result"
    }
   ],
   "source": [
    "np.mean(entropy(full_probs))"
   ]
  },
  {
   "cell_type": "code",
   "execution_count": 33,
   "id": "royal-address",
   "metadata": {},
   "outputs": [
    {
     "data": {
      "text/plain": [
       "3.735708876998053"
      ]
     },
     "execution_count": 33,
     "metadata": {},
     "output_type": "execute_result"
    }
   ],
   "source": [
    "np.mean(entropy(full_probs[373]))"
   ]
  },
  {
   "cell_type": "code",
   "execution_count": 35,
   "id": "legendary-canon",
   "metadata": {},
   "outputs": [
    {
     "data": {
      "text/plain": [
       "4.017563629641373"
      ]
     },
     "execution_count": 35,
     "metadata": {},
     "output_type": "execute_result"
    }
   ],
   "source": [
    "full_probs_10_20 = np.array(full_probs)[(gt_counts > 10) & (gt_counts <20)]\n",
    "np.mean(entropy(full_probs_10_20))"
   ]
  },
  {
   "cell_type": "code",
   "execution_count": 32,
   "id": "aware-journey",
   "metadata": {},
   "outputs": [
    {
     "data": {
      "text/plain": [
       "<BarContainer object of 28 artists>"
      ]
     },
     "execution_count": 32,
     "metadata": {},
     "output_type": "execute_result"
    },
    {
     "data": {
      "image/png": "[encoded data removed]",
      "text/plain": [
       "<Figure size 1440x720 with 1 Axes>"
      ]
     },
     "metadata": {
      "needs_background": "light"
     },
     "output_type": "display_data"
    }
   ],
   "source": [
    "gt_idxs_373 = sorted(game_data['test_gt_idxs'][373])\n",
    "not_gt_idxs_373 = [i for i in range(27) if not i in gt_idxs_373]\n",
    "\n",
    "plt.figure(figsize=(20,10))\n",
    "plt.ylim(0.0, 0.1)\n",
    "\n",
    "plt.axhline(y=1./gt_counts[373], color='r', linestyle='-')\n",
    "\n",
    "plt.bar(\n",
    "    [str(idx) for idx in gt_idxs_373] + [' '] + [str(idx) for idx in not_gt_idxs_373],  \n",
    "    list(full_probs[373][gt_idxs_373]) + [0] + list(full_probs[373][not_gt_idxs_373]),\n",
    "    color='k'\n",
    ")\n"
   ]
  },
  {
   "cell_type": "markdown",
   "id": "legal-consideration",
   "metadata": {},
   "source": [
    "## Embedding Analysis"
   ]
  },
  {
   "cell_type": "code",
   "execution_count": 16,
   "id": "every-slave",
   "metadata": {},
   "outputs": [
    {
     "name": "stdout",
     "output_type": "stream",
     "text": [
      "The autoreload extension is already loaded. To reload it, use:\n",
      "  %reload_ext autoreload\n"
     ]
    }
   ],
   "source": [
    "%load_ext autoreload\n",
    "%autoreload 2\n",
    "\n",
    "from dataset import BatchFetcher\n",
    "from metrics import find_nn, analogy, find_cos, find_dotproduct, find_euclidean\n",
    "from dataraw_sampling import construct_card_idx_lookup\n",
    "\n",
    "import matplotlib.pyplot as plt"
   ]
  },
  {
   "cell_type": "code",
   "execution_count": 17,
   "id": "statewide-constitution",
   "metadata": {},
   "outputs": [
    {
     "name": "stdout",
     "output_type": "stream",
     "text": [
      "---------data----------\n",
      "num_attributes : 3\n",
      "num_attr_vals : 3\n",
      "key_support_size : 27\n",
      "N_pairs : 8\n",
      "union_only : True\n",
      "max_len_q : 16\n",
      "len_k : 1\n",
      "train_gt_idxs length : 0\n",
      "val_gt_idxs length : 5120\n",
      "test_gt_idxs length : 5120\n",
      "train_tokens length : 0\n",
      "val_tokens length : 5120\n",
      "test_tokens length : 5120\n",
      "test_marginal_gt_idxs length : 5120\n",
      "test_marginal_tokens length : 5120\n",
      "vocab_size : 74\n",
      "symbol_vocab_token_lookup : {'(': 64, ')': 65, 'NULL': 66, 'SEP': 67, 'SOS': 68, 'EOS': 69, 'PAD': 70, 'PLH': 71, '|': 72, '!': 73}\n",
      "vocab_by_property : False\n",
      "-----------------------\n"
     ]
    }
   ],
   "source": [
    "cuda_device = trainmodule.model._parameters['key_bias_terms'].device\n",
    "\n",
    "game_data = main.load_data(args.data_path)\n",
    "batch_fecther = BatchFetcher(\n",
    "    raw_data = game_data, device=cuda_device)"
   ]
  },
  {
   "cell_type": "code",
   "execution_count": 18,
   "id": "minimal-haiti",
   "metadata": {},
   "outputs": [],
   "source": [
    "queries = [[(0,1,3),(0,0,0)], [(0,1,3),(1,2,0)]]\n",
    "keys = [[(0,0,0)],[(0,1,0)],[(2,2,2)]]\n",
    "X_query, X_key = batch_fecther.make_query_batch(X_query_properties=queries, X_key_properties=None, X_key=[i for i in range(game_data['key_support_size'])])\n",
    "query_repr, key_repr = trainmodule.pull_repr(X_query, X_key)"
   ]
  },
  {
   "cell_type": "code",
   "execution_count": 19,
   "id": "center-assurance",
   "metadata": {
    "scrolled": true
   },
   "outputs": [
    {
     "data": {
      "text/plain": [
       "tensor([[-19.7519,  35.6086,   5.0255, -17.7699,   8.6467,  70.5677,  33.9191,\n",
       "         -38.9950,  34.2473,  -4.9137, -16.3174, -40.5935,   2.7974, -42.2480,\n",
       "         -12.1096,  24.9127,  18.9710,  12.4464,  34.1191,  18.0182],\n",
       "        [ -7.1161,  36.8920,  16.7436,   5.9949,  25.3385,  52.5164,  21.7190,\n",
       "         -42.3500,  28.7663,  -9.8225,  -9.9799, -51.1561,  -2.3691, -41.5525,\n",
       "           7.5428,  15.9594,   7.1586,  27.9930,  44.0406, -24.3900]],\n",
       "       device='cuda:1')"
      ]
     },
     "execution_count": 19,
     "metadata": {},
     "output_type": "execute_result"
    }
   ],
   "source": [
    "query_repr"
   ]
  },
  {
   "cell_type": "code",
   "execution_count": 20,
   "id": "unique-produce",
   "metadata": {},
   "outputs": [
    {
     "data": {
      "text/plain": [
       "tensor([[-1.1923e-01,  8.0438e-02,  1.3100e-01, -1.2329e-01,  2.1626e-01,\n",
       "         -2.9786e-01, -4.3349e-02,  1.3875e-01,  2.0196e-01, -1.2091e-01,\n",
       "          2.5397e-01, -8.6874e-02, -1.9173e-02,  1.6440e-01, -1.0652e-01,\n",
       "          9.3574e-02,  1.5054e-01,  2.0636e-01,  4.8208e-02,  1.7831e-01],\n",
       "        [-3.3912e-02,  1.6296e-02, -1.0957e-01,  8.9990e-02,  4.1446e-03,\n",
       "         -4.1776e-02,  1.9676e-01, -1.3556e-01, -1.4074e-01,  1.3625e-01,\n",
       "          1.8136e-01,  1.8686e-01,  1.5120e-01,  2.5375e-02,  5.9094e-02,\n",
       "          1.9758e-03, -2.0627e-02, -1.3274e-01, -5.4137e-02,  2.1636e-01],\n",
       "        [ 5.7918e-02, -1.3114e-01, -9.8616e-02, -9.9070e-02, -7.4149e-02,\n",
       "         -4.7404e-02,  2.2914e-01,  1.4364e-02,  7.1790e-02,  2.7025e-01,\n",
       "          2.1369e-01, -1.3577e-01, -1.3647e-01,  8.4216e-02, -2.5054e-02,\n",
       "         -5.1260e-02,  8.8038e-02, -1.6709e-01, -1.0921e-01, -2.2857e-01],\n",
       "        [-9.5288e-02, -5.8823e-02,  2.1324e-02, -2.1987e-02,  2.3150e-02,\n",
       "         -1.2008e-01, -1.0682e-01, -2.7432e-02,  1.5087e-01, -3.9711e-02,\n",
       "          2.2228e-02,  1.5048e-01, -4.9214e-02,  1.1125e-01,  3.6723e-02,\n",
       "          7.8986e-02,  3.2734e-02, -4.1289e-03,  1.2137e-01,  4.0328e-02],\n",
       "        [-2.9164e-01,  8.6237e-02,  1.7073e-01,  1.2447e-01, -1.9186e-01,\n",
       "         -2.6747e-02, -1.8535e-01, -9.2351e-02, -1.5721e-01,  6.0543e-02,\n",
       "          1.4978e-01, -1.8247e-01,  4.5546e-02,  3.0542e-01, -2.2006e-02,\n",
       "          1.3283e-02, -1.5166e-01,  3.1038e-02, -8.7797e-02,  4.2411e-03],\n",
       "        [ 2.5601e-02,  5.0132e-02, -4.5071e-02, -1.2743e-01, -1.4541e-02,\n",
       "         -1.3274e-01,  4.0721e-02,  2.1849e-03,  5.0784e-02,  1.9706e-01,\n",
       "         -1.4252e-01,  5.6525e-02, -1.6276e-01,  9.1541e-02,  1.8378e-01,\n",
       "          4.0474e-02,  3.0460e-02, -6.9253e-04,  7.6275e-02,  6.6966e-02],\n",
       "        [ 7.5833e-02, -9.0216e-02, -2.9856e-02,  2.1267e-01, -7.1521e-02,\n",
       "          2.3521e-01, -1.1973e-01,  2.4727e-02,  3.2186e-02, -1.3591e-01,\n",
       "          1.5725e-01,  1.3131e-01, -2.3835e-01,  2.8764e-02, -1.9990e-01,\n",
       "          4.3039e-02,  1.9472e-01,  8.0453e-02, -1.5033e-01,  2.5280e-01],\n",
       "        [-1.1816e-01, -7.6779e-02, -1.9684e-02, -3.8008e-02, -3.1027e-01,\n",
       "         -1.9729e-02, -2.1309e-02,  1.2901e-01, -9.0796e-03, -1.5006e-01,\n",
       "          1.1030e-01,  2.1049e-02,  1.7178e-01, -2.5042e-01, -7.3370e-02,\n",
       "         -1.9636e-01,  2.2071e-01, -4.2331e-02, -2.7298e-02,  2.0061e-01],\n",
       "        [ 2.7677e-01, -1.3359e-01, -1.2795e-01, -1.6054e-01, -1.9001e-01,\n",
       "         -2.0967e-01, -2.1830e-02, -7.5048e-02, -6.5183e-02,  1.5196e-01,\n",
       "         -9.8815e-02, -1.3113e-01, -1.4688e-02, -3.8136e-02, -7.5040e-02,\n",
       "          2.5368e-01,  7.4266e-02, -3.9236e-02,  1.6406e-01,  1.2856e-01],\n",
       "        [-1.6139e-01, -5.2176e-02, -2.2375e-01, -1.8947e-01,  2.5043e-01,\n",
       "         -1.3364e-01, -1.4318e-01,  1.9364e-02, -2.0155e-01,  1.3814e-01,\n",
       "         -4.9623e-02, -1.0722e-01, -1.6876e-01, -1.9664e-01, -7.8957e-02,\n",
       "         -6.0701e-03, -4.9859e-02,  6.8640e-02, -2.0256e-01, -2.2590e-02],\n",
       "        [ 1.2820e-01, -2.1643e-01,  8.8816e-02, -1.4212e-01,  3.6018e-02,\n",
       "         -6.6254e-02, -1.1823e-01, -2.9777e-02,  8.2075e-02,  2.7044e-01,\n",
       "          6.7081e-02,  1.5853e-01,  1.2301e-01,  6.3478e-02, -2.6505e-02,\n",
       "         -8.8119e-02, -1.6022e-01,  1.9375e-01, -1.1079e-01,  1.9341e-01],\n",
       "        [-6.9824e-02,  8.0256e-02,  2.8986e-01,  1.4507e-01,  1.4434e-01,\n",
       "         -9.8353e-02, -2.1399e-01,  7.3585e-02, -5.5195e-02,  2.2940e-01,\n",
       "         -2.9348e-02,  9.1332e-02,  1.8390e-01, -2.8148e-02, -2.4840e-01,\n",
       "         -8.7051e-02,  3.3415e-01,  8.5754e-03, -5.7204e-02, -1.6295e-01],\n",
       "        [-1.4705e-01, -1.7597e-01, -7.3308e-02,  9.5009e-03, -3.6896e-02,\n",
       "         -1.6753e-01, -2.2955e-01, -6.2742e-02,  1.4993e-01, -1.0330e-01,\n",
       "          6.2277e-02,  2.5210e-01,  3.6727e-02,  1.4101e-01, -8.6826e-02,\n",
       "          1.0898e-01, -1.4214e-02, -4.6048e-02,  2.1987e-01, -5.4853e-02],\n",
       "        [ 1.4611e-02, -5.4869e-02,  1.9317e-02,  5.3198e-05, -1.7631e-02,\n",
       "         -9.7457e-03, -2.3435e-02,  2.2543e-02,  3.2463e-03, -6.6413e-03,\n",
       "          9.0740e-03, -6.2292e-03,  1.6305e-02,  2.4907e-02, -2.7155e-02,\n",
       "         -1.7839e-02, -5.0416e-02,  2.5665e-03,  8.5162e-04,  2.2916e-02],\n",
       "        [ 1.2716e-01, -2.8257e-01,  3.0343e-02,  6.7678e-02,  3.8143e-02,\n",
       "         -2.0574e-01,  4.3851e-02,  3.3445e-01, -9.7717e-02, -1.5282e-01,\n",
       "         -2.1886e-01, -1.0348e-01, -7.3230e-02,  2.2207e-02, -8.1147e-02,\n",
       "         -8.4389e-02, -1.4475e-01, -2.5411e-01, -1.8836e-02,  1.6363e-01],\n",
       "        [-6.5052e-02,  3.2927e-02, -1.3156e-01,  1.6068e-01, -2.1955e-01,\n",
       "         -1.6122e-01,  2.2850e-01,  2.1421e-02,  3.3227e-02, -9.3046e-02,\n",
       "         -1.5148e-01,  1.7145e-01,  4.1964e-02,  2.5151e-01, -1.5081e-01,\n",
       "          3.5202e-02, -3.9207e-02,  2.5008e-01, -9.1529e-02, -1.1093e-01],\n",
       "        [ 1.2467e-01, -1.7616e-01,  4.9428e-02, -1.0781e-01, -9.0521e-02,\n",
       "         -8.0768e-03, -4.7707e-02, -1.1989e-02,  1.6235e-01,  8.5047e-02,\n",
       "          3.8929e-02,  7.5307e-02,  7.1013e-02,  1.0778e-01, -1.1930e-02,\n",
       "         -1.2781e-01, -1.0712e-01,  1.6266e-01, -9.0435e-02,  9.3059e-02],\n",
       "        [ 1.1555e-01, -1.0373e-01, -1.0939e-01, -5.1672e-03,  6.3910e-02,\n",
       "         -9.4912e-02, -1.1930e-01, -2.7581e-01,  1.7349e-01, -1.2939e-01,\n",
       "         -1.9271e-01,  3.2194e-02,  5.4474e-02,  2.1436e-01,  8.7986e-02,\n",
       "          6.5178e-03,  1.2078e-01, -1.4243e-01, -2.9013e-01,  2.2124e-02],\n",
       "        [ 5.0530e-02,  1.2777e-02,  5.3726e-02, -1.4762e-01,  1.4463e-01,\n",
       "         -7.8707e-02, -7.4796e-02, -1.6735e-01, -2.4030e-01,  3.4887e-02,\n",
       "          1.0918e-01,  4.1666e-02, -1.8940e-01,  2.1493e-02,  1.2863e-01,\n",
       "         -2.2200e-01,  2.0728e-01,  1.4463e-01,  8.1437e-02, -5.5870e-02],\n",
       "        [ 1.8888e-02, -2.8824e-01, -5.9505e-02,  1.1931e-01,  5.3108e-02,\n",
       "          2.3107e-02, -3.6140e-02,  1.5854e-01, -7.4922e-02,  4.4628e-02,\n",
       "          7.7421e-02, -8.4456e-02,  1.6041e-01,  8.9267e-02,  2.5269e-01,\n",
       "          1.7683e-01,  1.7520e-01,  5.7941e-02,  2.2617e-02, -3.8941e-02],\n",
       "        [ 4.6826e-02,  1.6364e-02,  4.6123e-02,  8.0980e-02, -1.5062e-02,\n",
       "         -5.9311e-03, -4.2064e-02,  2.1544e-02, -1.5555e-02,  5.2484e-02,\n",
       "          6.2765e-02, -7.0576e-03,  5.4576e-02,  3.9400e-03, -4.8114e-02,\n",
       "         -6.2025e-02,  9.0046e-02,  2.8401e-02,  4.4617e-02, -6.8572e-02],\n",
       "        [ 6.7923e-02,  2.1109e-01,  1.2908e-01, -2.1918e-01,  1.5176e-02,\n",
       "          3.6427e-02, -2.2584e-01,  1.3720e-01, -2.2736e-01, -1.6688e-01,\n",
       "          1.9546e-01,  1.5681e-01,  5.8121e-02,  1.3325e-01, -1.4530e-01,\n",
       "          3.3122e-02,  5.6163e-02, -2.7392e-03, -6.5298e-02, -1.3049e-01],\n",
       "        [-9.6919e-02,  2.6485e-03,  4.8683e-02, -4.7737e-03,  7.8356e-03,\n",
       "          1.3453e-03, -6.2212e-02,  1.0526e-01, -6.2862e-02, -4.6158e-02,\n",
       "         -7.1199e-03, -9.5888e-02,  5.1716e-02,  3.9710e-02,  5.6819e-02,\n",
       "          1.3803e-01, -6.1656e-02, -1.7959e-02, -1.2500e-01, -4.3092e-02],\n",
       "        [ 6.0280e-02,  2.3626e-01, -1.6878e-01, -2.0107e-02,  5.4034e-02,\n",
       "          1.5559e-02, -1.1536e-01,  1.8429e-01,  4.4624e-03,  2.4609e-01,\n",
       "         -7.9723e-02,  4.7379e-02, -1.6014e-01,  1.5392e-01,  2.2529e-01,\n",
       "         -1.0064e-01,  1.0242e-01,  3.1175e-02, -5.4511e-02,  3.4630e-02],\n",
       "        [-1.1224e-01,  3.2593e-03,  1.1787e-01, -7.6862e-03,  4.3114e-02,\n",
       "         -4.1082e-02,  1.0321e-01, -1.8667e-02, -1.9264e-02, -1.0370e-01,\n",
       "         -1.1689e-01,  1.9407e-01, -2.5311e-01, -5.6790e-02,  1.8068e-01,\n",
       "          1.5480e-01, -3.4781e-02, -1.9330e-02, -2.3663e-01,  6.6449e-02],\n",
       "        [-1.5599e-01, -4.5708e-02,  7.8669e-02, -7.3638e-02,  1.5571e-02,\n",
       "         -1.2015e-01,  9.1865e-02,  8.3414e-02,  2.1363e-02, -7.6676e-02,\n",
       "         -1.4116e-01,  3.5070e-02, -2.5771e-02, -1.0939e-01,  2.1647e-01,\n",
       "          1.6474e-01, -7.1553e-02, -5.6277e-02, -1.6040e-01, -1.4582e-03],\n",
       "        [ 2.0918e-01,  4.3232e-02, -3.1871e-02,  2.4164e-01, -1.6262e-01,\n",
       "         -2.8015e-01,  3.5341e-02,  1.5103e-02,  6.9578e-02,  2.7698e-02,\n",
       "          1.2283e-01, -6.7519e-02, -1.6604e-02, -1.9701e-01,  1.6050e-01,\n",
       "         -2.4828e-02, -1.3788e-01, -1.4877e-02, -1.2383e-01, -1.7694e-01]],\n",
       "       device='cuda:1')"
      ]
     },
     "execution_count": 20,
     "metadata": {},
     "output_type": "execute_result"
    }
   ],
   "source": [
    "# Do the linear analogy for keys first\n",
    "key_repr"
   ]
  },
  {
   "cell_type": "code",
   "execution_count": 21,
   "id": "aboriginal-homework",
   "metadata": {},
   "outputs": [],
   "source": [
    "key_repr_normalized = key_repr / torch.linalg.norm(key_repr, ord=2, dim=-1).view(-1,1)"
   ]
  },
  {
   "cell_type": "code",
   "execution_count": 27,
   "id": "virtual-winner",
   "metadata": {
    "scrolled": true
   },
   "outputs": [
    {
     "name": "stdout",
     "output_type": "stream",
     "text": [
      "torch.Size([20])\n",
      "torch.Size([20])\n",
      "torch.Size([20])\n",
      "torch.Size([20])\n",
      "torch.Size([20])\n",
      "torch.Size([20])\n",
      "torch.Size([20])\n",
      "torch.Size([20])\n",
      "torch.Size([20])\n",
      "torch.Size([20])\n",
      "torch.Size([20])\n",
      "torch.Size([20])\n",
      "torch.Size([20])\n",
      "torch.Size([20])\n",
      "torch.Size([20])\n",
      "torch.Size([20])\n",
      "torch.Size([20])\n",
      "torch.Size([20])\n",
      "torch.Size([20])\n",
      "torch.Size([20])\n",
      "torch.Size([20])\n",
      "torch.Size([20])\n",
      "torch.Size([20])\n",
      "torch.Size([20])\n",
      "torch.Size([20])\n",
      "torch.Size([20])\n",
      "torch.Size([20])\n"
     ]
    },
    {
     "data": {
      "text/plain": [
       "(array([27., 27.,  0., 27., 27., 81., 27., 27., 54., 81., 54., 54., 81.,\n",
       "        27.,  0., 27.,  0., 27., 27.,  0.,  0.,  0.,  0.,  0.,  0.,  0.,\n",
       "         0.,  0., 27.,  0.,  0.,  0.,  0.,  0.,  0.,  0.,  0.,  0.,  0.,\n",
       "         0.,  0.,  0.,  0.,  0.,  0.,  0.,  0.,  0.,  0., 27.]),\n",
       " array([-0.16979808, -0.14640211, -0.12300615, -0.09961019, -0.07621423,\n",
       "        -0.05281827, -0.02942231, -0.00602635,  0.01736962,  0.04076558,\n",
       "         0.06416154,  0.0875575 ,  0.11095346,  0.13434942,  0.15774539,\n",
       "         0.18114135,  0.20453731,  0.22793327,  0.25132923,  0.27472519,\n",
       "         0.29812115,  0.32151712,  0.34491308,  0.36830904,  0.391705  ,\n",
       "         0.41510096,  0.43849692,  0.46189288,  0.48528885,  0.50868481,\n",
       "         0.53208077,  0.55547673,  0.57887269,  0.60226865,  0.62566462,\n",
       "         0.64906058,  0.67245654,  0.6958525 ,  0.71924846,  0.74264442,\n",
       "         0.76604038,  0.78943635,  0.81283231,  0.83622827,  0.85962423,\n",
       "         0.88302019,  0.90641615,  0.92981212,  0.95320808,  0.97660404,\n",
       "         1.        ]),\n",
       " <BarContainer object of 50 artists>)"
      ]
     },
     "execution_count": 27,
     "metadata": {},
     "output_type": "execute_result"
    },
    {
     "data": {
      "image/png": "[encoded data removed]",
      "text/plain": [
       "<Figure size 432x288 with 1 Axes>"
      ]
     },
     "metadata": {
      "needs_background": "light"
     },
     "output_type": "display_data"
    }
   ],
   "source": [
    "distances = []\n",
    "\n",
    "for i in range(27):\n",
    "    nn_idx, nn_dists = find_nn(v=key_repr_normalized[0], Wv=key_repr_normalized, similarity_fn=find_cos, k=27)\n",
    "    distances += nn_dists.tolist()\n",
    "    \n",
    "import matplotlib.pyplot as plt\n",
    "import numpy as np\n",
    "plt.hist(distances, bins=50)"
   ]
  },
  {
   "cell_type": "code",
   "execution_count": 28,
   "id": "straight-click",
   "metadata": {},
   "outputs": [
    {
     "data": {
      "text/plain": [
       "(0.04775907871315726, 0.10083536355307808, 73.50898003019392)"
      ]
     },
     "execution_count": 28,
     "metadata": {},
     "output_type": "execute_result"
    }
   ],
   "source": [
    "np.var(distances), np.mean(distances), np.sum(distances)"
   ]
  },
  {
   "cell_type": "code",
   "execution_count": 13,
   "id": "precious-palace",
   "metadata": {},
   "outputs": [],
   "source": [
    "card2idx_lookup, idx2card_lookup = construct_card_idx_lookup(game_data['num_attributes'], game_data['num_attr_vals'])\n",
    "\n",
    "\n",
    "def linear_analogy_by_props(propertiesA, propertiesB, propertiesC, card2idx_lookup, idx2card_lookup):\n",
    "    keyidxA = card2idx_lookup[propertiesA]\n",
    "    keyidxB = card2idx_lookup[propertiesB]\n",
    "    keyidxC = card2idx_lookup[propertiesC]\n",
    "\n",
    "    print(keyidxA, keyidxB, keyidxC)\n",
    "\n",
    "    vA = key_repr[keyidxA]\n",
    "    vB = key_repr[keyidxB]\n",
    "    vC = key_repr[keyidxC]\n",
    "\n",
    "    nns_idx, nns_distances = analogy(vA, vB, vC, key_repr, similarity_fn=find_cos, k=None)\n",
    "    nns_properties = [idx2card_lookup[idx.item()] for idx in nns_idx]\n",
    "    print(nns_idx, nns_distances)\n",
    "    print(nns_properties)"
   ]
  },
  {
   "cell_type": "code",
   "execution_count": null,
   "id": "occupied-woman",
   "metadata": {},
   "outputs": [],
   "source": [
    "# find a query that 27 got right, but 16 got wrong.\n",
    "\n"
   ]
  },
  {
   "cell_type": "code",
   "execution_count": 14,
   "id": "historic-father",
   "metadata": {},
   "outputs": [
    {
     "name": "stdout",
     "output_type": "stream",
     "text": [
      "25 24 13\n",
      "torch.Size([27])\n",
      "tensor([13, 24, 21, 17,  0,  5, 19,  6, 18,  9, 16, 14, 12,  1, 26, 10,  4, 20,\n",
      "        15, 22, 23,  2,  3,  8, 11,  7, 25], device='cuda:1') tensor([ 5.9432e-01,  5.2089e-01,  1.8108e-01,  1.7092e-01,  1.5072e-01,\n",
      "         9.9470e-02,  8.8152e-02,  5.8378e-02,  5.0742e-02,  2.9587e-02,\n",
      "         2.6836e-02,  2.3646e-02, -3.2075e-04, -9.3897e-03, -3.5618e-02,\n",
      "        -4.0437e-02, -4.1036e-02, -5.6920e-02, -6.9848e-02, -8.6352e-02,\n",
      "        -1.0769e-01, -1.0988e-01, -1.1066e-01, -1.4922e-01, -1.7888e-01,\n",
      "        -1.9084e-01, -5.6350e-01], device='cuda:1')\n",
      "[(1, 1, 1), (2, 2, 0), (2, 1, 0), (1, 2, 2), (0, 0, 0), (0, 1, 2), (2, 0, 1), (0, 2, 0), (2, 0, 0), (1, 0, 0), (1, 2, 1), (1, 1, 2), (1, 1, 0), (0, 0, 1), (2, 2, 2), (1, 0, 1), (0, 1, 1), (2, 0, 2), (1, 2, 0), (2, 1, 1), (2, 1, 2), (0, 0, 2), (0, 1, 0), (0, 2, 2), (1, 0, 2), (0, 2, 1), (2, 2, 1)]\n"
     ]
    }
   ],
   "source": [
    "linear_analogy_by_props(\n",
    "    propertiesA = (2,2,1), \n",
    "    propertiesB = (2,2,0), \n",
    "    propertiesC = (1,1,1), \n",
    "    card2idx_lookup=card2idx_lookup, \n",
    "    idx2card_lookup=idx2card_lookup)"
   ]
  },
  {
   "cell_type": "code",
   "execution_count": 15,
   "id": "manual-legislation",
   "metadata": {},
   "outputs": [
    {
     "name": "stdout",
     "output_type": "stream",
     "text": [
      "7 25 8\n",
      "torch.Size([27])\n",
      "tensor([ 8, 25,  6, 11,  3,  1, 23, 12, 20, 24, 26, 14, 22, 18,  0, 19,  5, 13,\n",
      "         9, 15,  4, 10, 16,  2, 17, 21,  7], device='cuda:1') tensor([ 0.5836,  0.5672,  0.1414,  0.1334,  0.0939,  0.0706,  0.0654,  0.0504,\n",
      "         0.0499,  0.0454,  0.0359,  0.0162,  0.0008, -0.0127, -0.0160, -0.0195,\n",
      "        -0.0250, -0.0378, -0.0395, -0.0437, -0.0445, -0.0795, -0.1001, -0.1075,\n",
      "        -0.1169, -0.1456, -0.4116], device='cuda:1')\n",
      "[(0, 2, 2), (2, 2, 1), (0, 2, 0), (1, 0, 2), (0, 1, 0), (0, 0, 1), (2, 1, 2), (1, 1, 0), (2, 0, 2), (2, 2, 0), (2, 2, 2), (1, 1, 2), (2, 1, 1), (2, 0, 0), (0, 0, 0), (2, 0, 1), (0, 1, 2), (1, 1, 1), (1, 0, 0), (1, 2, 0), (0, 1, 1), (1, 0, 1), (1, 2, 1), (0, 0, 2), (1, 2, 2), (2, 1, 0), (0, 2, 1)]\n"
     ]
    }
   ],
   "source": [
    "linear_analogy_by_props(\n",
    "    propertiesA = (0,2,1), \n",
    "    propertiesB = (2,2,1), \n",
    "    propertiesC = (0,2,2), \n",
    "    card2idx_lookup=card2idx_lookup, \n",
    "    idx2card_lookup=idx2card_lookup)"
   ]
  },
  {
   "cell_type": "code",
   "execution_count": 16,
   "id": "wound-actress",
   "metadata": {},
   "outputs": [
    {
     "name": "stdout",
     "output_type": "stream",
     "text": [
      "7 19 26\n",
      "torch.Size([27])\n",
      "tensor([19, 26, 24,  0,  5, 21,  6, 13, 12, 10, 20, 23, 22, 14, 25,  2,  1, 11,\n",
      "         9,  3,  8, 17, 16, 15, 18,  4,  7], device='cuda:1') tensor([ 0.5747,  0.3474,  0.1983,  0.1816,  0.1047,  0.0855,  0.0849,  0.0837,\n",
      "         0.0797,  0.0752,  0.0469,  0.0442,  0.0374,  0.0358,  0.0024,  0.0024,\n",
      "        -0.0129, -0.0178, -0.0693, -0.0710, -0.0777, -0.1023, -0.1083, -0.1164,\n",
      "        -0.1206, -0.1305, -0.5392], device='cuda:1')\n",
      "[(2, 0, 1), (2, 2, 2), (2, 2, 0), (0, 0, 0), (0, 1, 2), (2, 1, 0), (0, 2, 0), (1, 1, 1), (1, 1, 0), (1, 0, 1), (2, 0, 2), (2, 1, 2), (2, 1, 1), (1, 1, 2), (2, 2, 1), (0, 0, 2), (0, 0, 1), (1, 0, 2), (1, 0, 0), (0, 1, 0), (0, 2, 2), (1, 2, 2), (1, 2, 1), (1, 2, 0), (2, 0, 0), (0, 1, 1), (0, 2, 1)]\n"
     ]
    }
   ],
   "source": [
    "linear_analogy_by_props(\n",
    "    propertiesA = (0,2,1), \n",
    "    propertiesB = (2,0,1), \n",
    "    propertiesC = (2,2,2), \n",
    "    card2idx_lookup=card2idx_lookup, \n",
    "    idx2card_lookup=idx2card_lookup)"
   ]
  },
  {
   "cell_type": "code",
   "execution_count": 17,
   "id": "rough-values",
   "metadata": {},
   "outputs": [
    {
     "name": "stdout",
     "output_type": "stream",
     "text": [
      "25 25 24\n",
      "torch.Size([27])\n",
      "tensor([24, 12, 21, 26,  3, 25,  0, 10, 19, 16, 20,  9,  2, 18,  5, 15, 13, 14,\n",
      "        22,  6,  7,  1, 17, 23,  8, 11,  4], device='cuda:1') tensor([ 1.0000,  0.2161,  0.1985,  0.1738,  0.1074,  0.1002,  0.0873,  0.0781,\n",
      "         0.0746,  0.0638,  0.0627,  0.0606,  0.0483,  0.0294,  0.0180, -0.0106,\n",
      "        -0.0149, -0.0169, -0.0192, -0.0278, -0.0422, -0.0437, -0.0440, -0.0567,\n",
      "        -0.0676, -0.0707, -0.0987], device='cuda:1')\n",
      "[(2, 2, 0), (1, 1, 0), (2, 1, 0), (2, 2, 2), (0, 1, 0), (2, 2, 1), (0, 0, 0), (1, 0, 1), (2, 0, 1), (1, 2, 1), (2, 0, 2), (1, 0, 0), (0, 0, 2), (2, 0, 0), (0, 1, 2), (1, 2, 0), (1, 1, 1), (1, 1, 2), (2, 1, 1), (0, 2, 0), (0, 2, 1), (0, 0, 1), (1, 2, 2), (2, 1, 2), (0, 2, 2), (1, 0, 2), (0, 1, 1)]\n"
     ]
    }
   ],
   "source": [
    "linear_analogy_by_props(\n",
    "    propertiesA = (2,2,1), \n",
    "    propertiesB = (2,2,1), \n",
    "    propertiesC = (2,2,0), \n",
    "    card2idx_lookup=card2idx_lookup, \n",
    "    idx2card_lookup=idx2card_lookup)"
   ]
  },
  {
   "cell_type": "code",
   "execution_count": 18,
   "id": "familiar-collective",
   "metadata": {},
   "outputs": [
    {
     "name": "stdout",
     "output_type": "stream",
     "text": [
      "7 19 8\n",
      "torch.Size([27])\n",
      "tensor([19,  8,  1,  5,  0,  6, 11, 23, 14, 20, 22, 24, 13, 18, 15, 16, 21, 10,\n",
      "         3, 12,  4,  2, 17, 25,  9, 26,  7], device='cuda:1') tensor([ 6.2927e-01,  5.0565e-01,  2.5410e-01,  2.0043e-01,  1.6078e-01,\n",
      "         1.3743e-01,  1.0221e-01,  7.0698e-02,  6.6436e-02,  5.0487e-02,\n",
      "         3.1856e-02,  2.9084e-02,  4.8149e-04, -1.0118e-02, -1.8662e-02,\n",
      "        -3.2290e-02, -3.4671e-02, -5.5464e-02, -5.6432e-02, -7.1705e-02,\n",
      "        -7.2535e-02, -7.8670e-02, -8.0427e-02, -9.1428e-02, -2.0399e-01,\n",
      "        -2.3895e-01, -5.0795e-01], device='cuda:1')\n",
      "[(2, 0, 1), (0, 2, 2), (0, 0, 1), (0, 1, 2), (0, 0, 0), (0, 2, 0), (1, 0, 2), (2, 1, 2), (1, 1, 2), (2, 0, 2), (2, 1, 1), (2, 2, 0), (1, 1, 1), (2, 0, 0), (1, 2, 0), (1, 2, 1), (2, 1, 0), (1, 0, 1), (0, 1, 0), (1, 1, 0), (0, 1, 1), (0, 0, 2), (1, 2, 2), (2, 2, 1), (1, 0, 0), (2, 2, 2), (0, 2, 1)]\n"
     ]
    }
   ],
   "source": [
    "linear_analogy_by_props(\n",
    "    propertiesA = (0,2,1), \n",
    "    propertiesB = (2,0,1), \n",
    "    propertiesC = (0,2,2), \n",
    "    card2idx_lookup=card2idx_lookup, \n",
    "    idx2card_lookup=idx2card_lookup)"
   ]
  },
  {
   "cell_type": "code",
   "execution_count": 19,
   "id": "honey-brand",
   "metadata": {},
   "outputs": [
    {
     "name": "stdout",
     "output_type": "stream",
     "text": [
      "10 19 17\n",
      "torch.Size([27])\n",
      "tensor([17, 19,  1,  0, 20,  5, 13, 21, 18,  8, 16, 15, 11, 22, 23,  2, 24, 14,\n",
      "        12,  6,  7,  4, 26, 25,  9,  3, 10], device='cuda:1') tensor([ 0.6621,  0.4171,  0.2801,  0.1884,  0.1854,  0.1191,  0.1019,  0.0783,\n",
      "         0.0723,  0.0655,  0.0533,  0.0518,  0.0305,  0.0282, -0.0138, -0.0203,\n",
      "        -0.0262, -0.0319, -0.0334, -0.0842, -0.0990, -0.1587, -0.1825, -0.2288,\n",
      "        -0.2484, -0.2989, -0.5968], device='cuda:1')\n",
      "[(1, 2, 2), (2, 0, 1), (0, 0, 1), (0, 0, 0), (2, 0, 2), (0, 1, 2), (1, 1, 1), (2, 1, 0), (2, 0, 0), (0, 2, 2), (1, 2, 1), (1, 2, 0), (1, 0, 2), (2, 1, 1), (2, 1, 2), (0, 0, 2), (2, 2, 0), (1, 1, 2), (1, 1, 0), (0, 2, 0), (0, 2, 1), (0, 1, 1), (2, 2, 2), (2, 2, 1), (1, 0, 0), (0, 1, 0), (1, 0, 1)]\n"
     ]
    }
   ],
   "source": [
    "linear_analogy_by_props(\n",
    "    propertiesA = (1,0,1), \n",
    "    propertiesB = (2,0,1), \n",
    "    propertiesC = (1,2,2), \n",
    "    card2idx_lookup=card2idx_lookup, \n",
    "    idx2card_lookup=idx2card_lookup)"
   ]
  },
  {
   "cell_type": "code",
   "execution_count": null,
   "id": "finnish-crisis",
   "metadata": {},
   "outputs": [],
   "source": [
    "# Look at distance between one card and all the other cards"
   ]
  },
  {
   "cell_type": "code",
   "execution_count": null,
   "id": "refined-palmer",
   "metadata": {},
   "outputs": [],
   "source": []
  }
 ],
 "metadata": {
  "kernelspec": {
   "display_name": "Python 3",
   "language": "python",
   "name": "python3"
  },
  "language_info": {
   "codemirror_mode": {
    "name": "ipython",
    "version": 3
   },
   "file_extension": ".py",
   "mimetype": "text/x-python",
   "name": "python",
   "nbconvert_exporter": "python",
   "pygments_lexer": "ipython3",
   "version": "3.8.3"
  }
 },
 "nbformat": 4,
 "nbformat_minor": 5
}

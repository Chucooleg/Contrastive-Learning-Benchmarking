{
 "cells": [
  {
   "cell_type": "code",
   "execution_count": 3,
   "id": "adjacent-course",
   "metadata": {},
   "outputs": [
    {
     "name": "stdout",
     "output_type": "stream",
     "text": [
      "The autoreload extension is already loaded. To reload it, use:\n",
      "  %reload_ext autoreload\n"
     ]
    }
   ],
   "source": [
    "%load_ext autoreload\n",
    "%autoreload 2\n",
    "\n",
    "from dataraw_sampling import *\n",
    "import itertools\n",
    "import numpy as np\n",
    "from collections import defaultdict, Counter\n",
    "from tqdm import tqdm\n",
    "import time\n",
    "import random\n"
   ]
  },
  {
   "cell_type": "code",
   "execution_count": 3,
   "id": "starting-religion",
   "metadata": {},
   "outputs": [
    {
     "name": "stdout",
     "output_type": "stream",
     "text": [
      "Number of card subsets generated = 248876\n"
     ]
    }
   ],
   "source": [
    "all_ans_subsets = set()\n",
    "all_ans_subsets_count = defaultdict(int)\n",
    "ans_subset_sizes = []\n",
    "\n",
    "for _ in range(1_000_000):\n",
    "    # set, int\n",
    "    query_props, ans_subset, ans_len = draw_N_cardpairs(num_attributes=3, num_attr_vals=3, N=np.random.choice([1,2,4,8]))\n",
    "    ans_subset = tuple(sorted(ans_subset))\n",
    "    all_ans_subsets.add(ans_subset)\n",
    "    all_ans_subsets_count[ans_subset] += 1\n",
    "    \n",
    "print('Number of card subsets generated =', len(all_ans_subsets))"
   ]
  },
  {
   "cell_type": "code",
   "execution_count": 13,
   "id": "approved-electron",
   "metadata": {},
   "outputs": [
    {
     "name": "stdout",
     "output_type": "stream",
     "text": [
      "Number of card subsets generated = 44601\n"
     ]
    }
   ],
   "source": [
    "# ('|', '&', '!')\n",
    "\n",
    "all_ans_subsets = set()\n",
    "all_ans_subsets_count = defaultdict(int)\n",
    "ans_subset_sizes = []\n",
    "\n",
    "for _ in range(1_000_000):\n",
    "    # set, int\n",
    "    query_props, ans_subset, ans_len = draw_N_cardpairs_union_intersect_symdiff(num_attributes=3, num_attr_vals=3, N=3)\n",
    "    ans_subset = tuple(sorted(ans_subset))\n",
    "    all_ans_subsets.add(ans_subset)\n",
    "    all_ans_subsets_count[ans_subset] += 1\n",
    "    \n",
    "print('Number of card subsets generated =', len(all_ans_subsets))"
   ]
  },
  {
   "cell_type": "code",
   "execution_count": 9,
   "id": "graduate-configuration",
   "metadata": {},
   "outputs": [
    {
     "name": "stdout",
     "output_type": "stream",
     "text": [
      "Number of card subsets generated = 44080\n"
     ]
    }
   ],
   "source": [
    "# ('|', '&', '-', '!')\n",
    "\n",
    "all_ans_subsets = set()\n",
    "all_ans_subsets_count = defaultdict(int)\n",
    "ans_subset_sizes = []\n",
    "\n",
    "for _ in range(1_000_000):\n",
    "    # set, int\n",
    "    query_props, ans_subset, ans_len = draw_N_cardpairs_union_intersect_symdiff(num_attributes=3, num_attr_vals=3, N=3)\n",
    "    ans_subset = tuple(sorted(ans_subset))\n",
    "    all_ans_subsets.add(ans_subset)\n",
    "    all_ans_subsets_count[ans_subset] += 1\n",
    "    \n",
    "print('Number of card subsets generated =', len(all_ans_subsets))"
   ]
  },
  {
   "cell_type": "code",
   "execution_count": null,
   "id": "absent-indie",
   "metadata": {},
   "outputs": [],
   "source": [
    "# TODO extend card2idx_lookup"
   ]
  },
  {
   "cell_type": "code",
   "execution_count": 5,
   "id": "different-barrel",
   "metadata": {},
   "outputs": [],
   "source": [
    "query_props, ans_subset, ans_len = draw_N_cardpairs_union_intersect_symdiff(num_attributes=3, num_attr_vals=3, N=3)"
   ]
  },
  {
   "cell_type": "code",
   "execution_count": 6,
   "id": "organized-chamber",
   "metadata": {},
   "outputs": [
    {
     "data": {
      "text/plain": [
       "[array([2, 1, 0]),\n",
       " array([2, 0, 0]),\n",
       " '&',\n",
       " array([0, 0, 0]),\n",
       " array([3, 3, 2]),\n",
       " '!',\n",
       " array([2, 2, 0]),\n",
       " array([2, 3, 0]),\n",
       " '-']"
      ]
     },
     "execution_count": 6,
     "metadata": {},
     "output_type": "execute_result"
    }
   ],
   "source": [
    "query_props"
   ]
  },
  {
   "cell_type": "code",
   "execution_count": 7,
   "id": "civic-nurse",
   "metadata": {},
   "outputs": [
    {
     "data": {
      "text/plain": [
       "{(0, 0, 1),\n",
       " (0, 1, 1),\n",
       " (0, 2, 1),\n",
       " (1, 0, 1),\n",
       " (1, 1, 1),\n",
       " (1, 2, 1),\n",
       " (2, 0, 1),\n",
       " (2, 1, 1),\n",
       " (2, 2, 1)}"
      ]
     },
     "execution_count": 7,
     "metadata": {},
     "output_type": "execute_result"
    }
   ],
   "source": [
    "ans_subset"
   ]
  },
  {
   "cell_type": "code",
   "execution_count": 10,
   "id": "cutting-quantum",
   "metadata": {},
   "outputs": [
    {
     "data": {
      "text/plain": [
       "Counter({12: 2275,\n",
       "         8: 1690,\n",
       "         23: 694,\n",
       "         14: 1327,\n",
       "         13: 3357,\n",
       "         7: 7079,\n",
       "         11: 4448,\n",
       "         9: 3342,\n",
       "         5: 9250,\n",
       "         2: 351,\n",
       "         6: 2394,\n",
       "         3: 2923,\n",
       "         25: 342,\n",
       "         10: 1148,\n",
       "         18: 272,\n",
       "         21: 266,\n",
       "         4: 1005,\n",
       "         19: 99,\n",
       "         22: 70,\n",
       "         16: 579,\n",
       "         15: 528,\n",
       "         17: 558,\n",
       "         26: 27,\n",
       "         1: 27,\n",
       "         24: 27,\n",
       "         0: 1,\n",
       "         27: 1})"
      ]
     },
     "execution_count": 10,
     "metadata": {},
     "output_type": "execute_result"
    }
   ],
   "source": [
    "Counter([len(sub) for sub in all_ans_subsets])"
   ]
  },
  {
   "cell_type": "code",
   "execution_count": 18,
   "id": "hairy-allocation",
   "metadata": {},
   "outputs": [
    {
     "name": "stdout",
     "output_type": "stream",
     "text": [
      "Number of card subsets generated = 28666\n"
     ]
    }
   ],
   "source": [
    "all_ans_subsets = set()\n",
    "all_ans_subsets_count = defaultdict(int)\n",
    "ans_subset_sizes = []\n",
    "\n",
    "for _ in range(1_000_000):\n",
    "    # set, int\n",
    "    query_props, ans_subset, ans_len = draw_N_cardpairs(num_attributes=3, num_attr_vals=3, N=3)\n",
    "    ans_subset = tuple(sorted(ans_subset))\n",
    "    all_ans_subsets.add(ans_subset)\n",
    "    all_ans_subsets_count[ans_subset] += 1\n",
    "    \n",
    "print('Number of card subsets generated =', len(all_ans_subsets))"
   ]
  },
  {
   "cell_type": "code",
   "execution_count": 19,
   "id": "living-client",
   "metadata": {},
   "outputs": [
    {
     "data": {
      "text/plain": [
       "Counter({13: 1944,\n",
       "         7: 5697,\n",
       "         5: 7371,\n",
       "         2: 351,\n",
       "         14: 810,\n",
       "         6: 2052,\n",
       "         12: 1404,\n",
       "         11: 1377,\n",
       "         9: 1269,\n",
       "         3: 2925,\n",
       "         8: 1296,\n",
       "         18: 117,\n",
       "         19: 108,\n",
       "         10: 162,\n",
       "         15: 405,\n",
       "         4: 648,\n",
       "         17: 324,\n",
       "         16: 324,\n",
       "         1: 27,\n",
       "         21: 54,\n",
       "         27: 1})"
      ]
     },
     "execution_count": 19,
     "metadata": {},
     "output_type": "execute_result"
    }
   ],
   "source": [
    "Counter([len(sub) for sub in all_ans_subsets])"
   ]
  },
  {
   "cell_type": "code",
   "execution_count": 20,
   "id": "looking-literature",
   "metadata": {},
   "outputs": [
    {
     "name": "stdout",
     "output_type": "stream",
     "text": [
      "Number of card subsets generated = 227045\n"
     ]
    }
   ],
   "source": [
    "all_ans_subsets = set()\n",
    "all_ans_subsets_count = defaultdict(int)\n",
    "ans_subset_sizes = []\n",
    "\n",
    "for _ in range(1_000_000):\n",
    "    # set, int\n",
    "    query_props, ans_subset, ans_len = draw_N_cardpairs(num_attributes=3, num_attr_vals=3, N=4)\n",
    "    ans_subset = tuple(sorted(ans_subset))\n",
    "    all_ans_subsets.add(ans_subset)\n",
    "    all_ans_subsets_count[ans_subset] += 1\n",
    "    \n",
    "print('Number of card subsets generated =', len(all_ans_subsets))"
   ]
  },
  {
   "cell_type": "code",
   "execution_count": 22,
   "id": "handed-diameter",
   "metadata": {
    "scrolled": false
   },
   "outputs": [
    {
     "data": {
      "text/plain": [
       "[(8, 44131),\n",
       " (6, 40416),\n",
       " (9, 19595),\n",
       " (10, 19526),\n",
       " (7, 19350),\n",
       " (4, 13510),\n",
       " (14, 12766),\n",
       " (15, 9038),\n",
       " (13, 8640),\n",
       " (12, 8170),\n",
       " (5, 7355),\n",
       " (11, 6565),\n",
       " (16, 5857),\n",
       " (17, 2896),\n",
       " (18, 2762),\n",
       " (3, 2580),\n",
       " (19, 1923),\n",
       " (20, 999),\n",
       " (21, 335),\n",
       " (22, 324),\n",
       " (2, 198),\n",
       " (23, 79),\n",
       " (24, 27),\n",
       " (1, 2),\n",
       " (27, 1)]"
      ]
     },
     "execution_count": 22,
     "metadata": {},
     "output_type": "execute_result"
    }
   ],
   "source": [
    "Counter([len(sub) for sub in all_ans_subsets]).most_common()"
   ]
  },
  {
   "cell_type": "code",
   "execution_count": 23,
   "id": "biblical-politics",
   "metadata": {},
   "outputs": [
    {
     "name": "stdout",
     "output_type": "stream",
     "text": [
      "Number of card subsets generated = 392108\n"
     ]
    }
   ],
   "source": [
    "all_ans_subsets = set()\n",
    "all_ans_subsets_count = defaultdict(int)\n",
    "ans_subset_sizes = []\n",
    "\n",
    "for _ in range(1_000_000):\n",
    "    # set, int\n",
    "    query_props, ans_subset, ans_len = draw_N_cardpairs(num_attributes=3, num_attr_vals=3, N=5)\n",
    "    ans_subset = tuple(sorted(ans_subset))\n",
    "    all_ans_subsets.add(ans_subset)\n",
    "    all_ans_subsets_count[ans_subset] += 1\n",
    "    \n",
    "print('Number of card subsets generated =', len(all_ans_subsets))"
   ]
  },
  {
   "cell_type": "code",
   "execution_count": 24,
   "id": "outdoor-round",
   "metadata": {
    "scrolled": false
   },
   "outputs": [
    {
     "data": {
      "text/plain": [
       "[(9, 56793),\n",
       " (8, 46731),\n",
       " (7, 42273),\n",
       " (10, 42193),\n",
       " (11, 36015),\n",
       " (6, 23827),\n",
       " (12, 22168),\n",
       " (15, 19857),\n",
       " (14, 19143),\n",
       " (13, 18867),\n",
       " (16, 16592),\n",
       " (5, 12975),\n",
       " (17, 11879),\n",
       " (18, 6997),\n",
       " (19, 4723),\n",
       " (4, 3946),\n",
       " (20, 3344),\n",
       " (21, 1793),\n",
       " (22, 788),\n",
       " (23, 522),\n",
       " (3, 376),\n",
       " (24, 218),\n",
       " (25, 79),\n",
       " (2, 8),\n",
       " (27, 1)]"
      ]
     },
     "execution_count": 24,
     "metadata": {},
     "output_type": "execute_result"
    }
   ],
   "source": [
    "Counter([len(sub) for sub in all_ans_subsets]).most_common()"
   ]
  },
  {
   "cell_type": "code",
   "execution_count": 25,
   "id": "static-tamil",
   "metadata": {},
   "outputs": [
    {
     "name": "stdout",
     "output_type": "stream",
     "text": [
      "Number of card subsets generated = 470734\n"
     ]
    }
   ],
   "source": [
    "all_ans_subsets = set()\n",
    "all_ans_subsets_count = defaultdict(int)\n",
    "ans_subset_sizes = []\n",
    "\n",
    "for _ in range(1_000_000):\n",
    "    # set, int\n",
    "    query_props, ans_subset, ans_len = draw_N_cardpairs(num_attributes=3, num_attr_vals=3, N=6)\n",
    "    ans_subset = tuple(sorted(ans_subset))\n",
    "    all_ans_subsets.add(ans_subset)\n",
    "    all_ans_subsets_count[ans_subset] += 1\n",
    "    \n",
    "print('Number of card subsets generated =', len(all_ans_subsets))"
   ]
  },
  {
   "cell_type": "code",
   "execution_count": 26,
   "id": "composed-pleasure",
   "metadata": {},
   "outputs": [
    {
     "data": {
      "text/plain": [
       "[(10, 56577),\n",
       " (11, 52489),\n",
       " (9, 50687),\n",
       " (12, 43752),\n",
       " (8, 38171),\n",
       " (13, 34302),\n",
       " (15, 31045),\n",
       " (14, 30984),\n",
       " (16, 29001),\n",
       " (17, 24142),\n",
       " (7, 22466),\n",
       " (18, 16090),\n",
       " (19, 10634),\n",
       " (6, 10505),\n",
       " (20, 7670),\n",
       " (21, 4558),\n",
       " (5, 3111),\n",
       " (22, 2255),\n",
       " (23, 1240),\n",
       " (4, 456),\n",
       " (24, 436),\n",
       " (25, 108),\n",
       " (26, 26),\n",
       " (3, 26),\n",
       " (2, 2),\n",
       " (27, 1)]"
      ]
     },
     "execution_count": 26,
     "metadata": {},
     "output_type": "execute_result"
    }
   ],
   "source": [
    "Counter([len(sub) for sub in all_ans_subsets]).most_common()"
   ]
  },
  {
   "cell_type": "code",
   "execution_count": 30,
   "id": "governing-threat",
   "metadata": {},
   "outputs": [
    {
     "name": "stdout",
     "output_type": "stream",
     "text": [
      "Number of card subsets generated = 496104\n"
     ]
    }
   ],
   "source": [
    "all_ans_subsets = set()\n",
    "all_ans_subsets_count = defaultdict(int)\n",
    "ans_subset_sizes = []\n",
    "\n",
    "for _ in range(1_000_000):\n",
    "    # set, int\n",
    "    query_props, ans_subset, ans_len = draw_N_cardpairs(num_attributes=3, num_attr_vals=3, N=7)\n",
    "    ans_subset = tuple(sorted(ans_subset))\n",
    "    all_ans_subsets.add(ans_subset)\n",
    "    all_ans_subsets_count[ans_subset] += 1\n",
    "    \n",
    "print('Number of card subsets generated =', len(all_ans_subsets))"
   ]
  },
  {
   "cell_type": "code",
   "execution_count": 31,
   "id": "accomplished-confidentiality",
   "metadata": {},
   "outputs": [
    {
     "data": {
      "text/plain": [
       "[(12, 52615),\n",
       " (11, 52245),\n",
       " (13, 47897),\n",
       " (10, 44313),\n",
       " (14, 43696),\n",
       " (15, 42331),\n",
       " (16, 40047),\n",
       " (17, 36188),\n",
       " (9, 31763),\n",
       " (18, 27369),\n",
       " (19, 19008),\n",
       " (8, 18211),\n",
       " (20, 13256),\n",
       " (21, 8572),\n",
       " (7, 7923),\n",
       " (22, 4518),\n",
       " (6, 2544),\n",
       " (23, 2121),\n",
       " (24, 736),\n",
       " (5, 467),\n",
       " (25, 204),\n",
       " (4, 50),\n",
       " (26, 27),\n",
       " (3, 2),\n",
       " (27, 1)]"
      ]
     },
     "execution_count": 31,
     "metadata": {},
     "output_type": "execute_result"
    }
   ],
   "source": [
    "Counter([len(sub) for sub in all_ans_subsets]).most_common()"
   ]
  },
  {
   "cell_type": "code",
   "execution_count": null,
   "id": "monthly-stupid",
   "metadata": {},
   "outputs": [],
   "source": [
    "# Watch here!"
   ]
  },
  {
   "cell_type": "code",
   "execution_count": 4,
   "id": "departmental-concept",
   "metadata": {},
   "outputs": [
    {
     "name": "stdout",
     "output_type": "stream",
     "text": [
      "Number of card subsets generated = 861534\n"
     ]
    }
   ],
   "source": [
    "# ('|', '!')\n",
    "\n",
    "all_ans_subsets = set()\n",
    "all_ans_subsets_count = defaultdict(int)\n",
    "ans_subset_sizes = []\n",
    "\n",
    "for _ in range(1_000_000):\n",
    "    # set, int\n",
    "    query_props, ans_subset, ans_len = draw_N_cardpairs_union_intersect_symdiff(num_attributes=3, num_attr_vals=3, N=8)\n",
    "    ans_subset = tuple(sorted(ans_subset))\n",
    "    all_ans_subsets.add(ans_subset)\n",
    "    all_ans_subsets_count[ans_subset] += 1\n",
    "    \n",
    "print('Number of card subsets generated =', len(all_ans_subsets))"
   ]
  },
  {
   "cell_type": "code",
   "execution_count": 2,
   "id": "colored-worcester",
   "metadata": {},
   "outputs": [
    {
     "name": "stdout",
     "output_type": "stream",
     "text": [
      "Number of card subsets generated = 79284\n"
     ]
    }
   ],
   "source": [
    "# ('|', '&')\n",
    "\n",
    "all_ans_subsets = set()\n",
    "all_ans_subsets_count = defaultdict(int)\n",
    "ans_subset_sizes = []\n",
    "\n",
    "for _ in range(1_000_000):\n",
    "    # set, int\n",
    "    query_props, ans_subset, ans_len = draw_N_cardpairs_union_intersect_symdiff(num_attributes=3, num_attr_vals=3, N=8)\n",
    "    ans_subset = tuple(sorted(ans_subset))\n",
    "    all_ans_subsets.add(ans_subset)\n",
    "    all_ans_subsets_count[ans_subset] += 1\n",
    "    \n",
    "print('Number of card subsets generated =', len(all_ans_subsets))"
   ]
  },
  {
   "cell_type": "code",
   "execution_count": 2,
   "id": "focused-relative",
   "metadata": {},
   "outputs": [
    {
     "name": "stdout",
     "output_type": "stream",
     "text": [
      "Number of card subsets generated = 79284\n"
     ]
    }
   ],
   "source": [
    "# ('|', '&')\n",
    "\n",
    "all_ans_subsets = set()\n",
    "all_ans_subsets_count = defaultdict(int)\n",
    "ans_subset_sizes = []\n",
    "\n",
    "for _ in range(1_000_000):\n",
    "    # set, int\n",
    "    query_props, ans_subset, ans_len = draw_N_cardpairs_union_intersect_symdiff(num_attributes=3, num_attr_vals=3, N=8)\n",
    "    ans_subset = tuple(sorted(ans_subset))\n",
    "    all_ans_subsets.add(ans_subset)\n",
    "    all_ans_subsets_count[ans_subset] += 1\n",
    "    \n",
    "print('Number of card subsets generated =', len(all_ans_subsets))"
   ]
  },
  {
   "cell_type": "code",
   "execution_count": 14,
   "id": "artistic-enterprise",
   "metadata": {},
   "outputs": [
    {
     "name": "stdout",
     "output_type": "stream",
     "text": [
      "Number of card subsets generated = 228596\n"
     ]
    }
   ],
   "source": [
    "# ('|', '&', '!')\n",
    "\n",
    "all_ans_subsets = set()\n",
    "all_ans_subsets_count = defaultdict(int)\n",
    "ans_subset_sizes = []\n",
    "\n",
    "for _ in range(1_000_000):\n",
    "    # set, int\n",
    "    query_props, ans_subset, ans_len = draw_N_cardpairs_union_intersect_symdiff(num_attributes=3, num_attr_vals=3, N=8)\n",
    "    ans_subset = tuple(sorted(ans_subset))\n",
    "    all_ans_subsets.add(ans_subset)\n",
    "    all_ans_subsets_count[ans_subset] += 1\n",
    "    \n",
    "print('Number of card subsets generated =', len(all_ans_subsets))"
   ]
  },
  {
   "cell_type": "code",
   "execution_count": 11,
   "id": "numerous-creature",
   "metadata": {},
   "outputs": [
    {
     "name": "stdout",
     "output_type": "stream",
     "text": [
      "Number of card subsets generated = 227285\n"
     ]
    }
   ],
   "source": [
    "# ('|', '&', '-', '!')\n",
    "\n",
    "all_ans_subsets = set()\n",
    "all_ans_subsets_count = defaultdict(int)\n",
    "ans_subset_sizes = []\n",
    "\n",
    "for _ in range(1_000_000):\n",
    "    # set, int\n",
    "    query_props, ans_subset, ans_len = draw_N_cardpairs_union_intersect_symdiff(num_attributes=3, num_attr_vals=3, N=8)\n",
    "    ans_subset = tuple(sorted(ans_subset))\n",
    "    all_ans_subsets.add(ans_subset)\n",
    "    all_ans_subsets_count[ans_subset] += 1\n",
    "    \n",
    "print('Number of card subsets generated =', len(all_ans_subsets))"
   ]
  },
  {
   "cell_type": "code",
   "execution_count": 30,
   "id": "hazardous-stopping",
   "metadata": {},
   "outputs": [
    {
     "name": "stdout",
     "output_type": "stream",
     "text": [
      "Number of card subsets generated = 496104\n"
     ]
    }
   ],
   "source": [
    "all_ans_subsets = set()\n",
    "all_ans_subsets_count = defaultdict(int)\n",
    "ans_subset_sizes = []\n",
    "\n",
    "for _ in range(1_000_000):\n",
    "    # set, int\n",
    "    query_props, ans_subset, ans_len = draw_N_cardpairs(num_attributes=3, num_attr_vals=3, N=8)\n",
    "    ans_subset = tuple(sorted(ans_subset))\n",
    "    all_ans_subsets.add(ans_subset)\n",
    "    all_ans_subsets_count[ans_subset] += 1\n",
    "    \n",
    "print('Number of card subsets generated =', len(all_ans_subsets))"
   ]
  },
  {
   "cell_type": "code",
   "execution_count": 6,
   "id": "common-romantic",
   "metadata": {},
   "outputs": [
    {
     "name": "stdout",
     "output_type": "stream",
     "text": [
      "Number of card subsets generated = 1194854\n"
     ]
    }
   ],
   "source": [
    "all_ans_subsets = set()\n",
    "all_ans_subsets_count = defaultdict(int)\n",
    "ans_subset_sizes = []\n",
    "\n",
    "for _ in range(10_000_000):\n",
    "    # set, int\n",
    "    query_props, ans_subset, ans_len = draw_N_cardpairs(num_attributes=3, num_attr_vals=3, N=np.random.choice([1,2,4,8]))\n",
    "    ans_subset = tuple(sorted(ans_subset))\n",
    "    all_ans_subsets.add(ans_subset)\n",
    "    all_ans_subsets_count[ans_subset] += 1\n",
    "    \n",
    "print('Number of card subsets generated =', len(all_ans_subsets))"
   ]
  },
  {
   "cell_type": "code",
   "execution_count": 7,
   "id": "quick-devon",
   "metadata": {},
   "outputs": [
    {
     "name": "stdout",
     "output_type": "stream",
     "text": [
      "Number of card subsets generated = 2320745\n"
     ]
    }
   ],
   "source": [
    "# ('|', '!')\n",
    "\n",
    "all_ans_subsets = set()\n",
    "all_ans_subsets_count = defaultdict(int)\n",
    "ans_subset_sizes = []\n",
    "\n",
    "for _ in range(10_000_000):\n",
    "    # set, int\n",
    "    query_props, ans_subset, ans_len = draw_N_cardpairs_union_intersect_symdiff(num_attributes=3, num_attr_vals=3, N=np.random.choice([1,2,4,8]))\n",
    "    ans_subset = tuple(sorted(ans_subset))\n",
    "    all_ans_subsets.add(ans_subset)\n",
    "    all_ans_subsets_count[ans_subset] += 1\n",
    "    \n",
    "print('Number of card subsets generated =', len(all_ans_subsets))"
   ]
  },
  {
   "cell_type": "code",
   "execution_count": 12,
   "id": "reasonable-haiti",
   "metadata": {},
   "outputs": [
    {
     "data": {
      "text/plain": [
       "[array([1, 1, 2]),\n",
       " array([2, 2, 2]),\n",
       " '!',\n",
       " array([2, 1, 0]),\n",
       " array([3, 3, 1]),\n",
       " '|',\n",
       " array([2, 2, 2]),\n",
       " array([0, 3, 2]),\n",
       " '!',\n",
       " array([2, 2, 1]),\n",
       " array([3, 2, 3]),\n",
       " '!',\n",
       " array([2, 2, 0]),\n",
       " array([3, 3, 0]),\n",
       " '|',\n",
       " array([0, 1, 2]),\n",
       " array([0, 3, 3]),\n",
       " '!',\n",
       " array([1, 0, 2]),\n",
       " array([2, 0, 0]),\n",
       " '|',\n",
       " array([2, 0, 0]),\n",
       " array([3, 1, 1]),\n",
       " '|']"
      ]
     },
     "execution_count": 12,
     "metadata": {},
     "output_type": "execute_result"
    }
   ],
   "source": [
    "query_props"
   ]
  },
  {
   "cell_type": "code",
   "execution_count": 11,
   "id": "waiting-annotation",
   "metadata": {},
   "outputs": [
    {
     "name": "stdout",
     "output_type": "stream",
     "text": [
      "Number of card subsets generated = 6631494\n"
     ]
    }
   ],
   "source": [
    "# WATCH\n",
    "\n",
    "# ('|', '!')\n",
    "\n",
    "all_ans_subsets = set()\n",
    "all_ans_subsets_count = defaultdict(int)\n",
    "ans_subset_sizes = []\n",
    "\n",
    "for _ in range(10_000_000):\n",
    "    # set, int\n",
    "    query_props, ans_subset, ans_len = draw_N_cardpairs_union_intersect_symdiff(num_attributes=3, num_attr_vals=3, N=8)\n",
    "    ans_subset = tuple(sorted(ans_subset))\n",
    "    all_ans_subsets.add(ans_subset)\n",
    "    all_ans_subsets_count[ans_subset] += 1\n",
    "    \n",
    "print('Number of card subsets generated =', len(all_ans_subsets))"
   ]
  },
  {
   "cell_type": "code",
   "execution_count": 8,
   "id": "written-bouquet",
   "metadata": {},
   "outputs": [
    {
     "name": "stdout",
     "output_type": "stream",
     "text": [
      "Number of card subsets generated = 2767275\n"
     ]
    }
   ],
   "source": [
    "all_ans_subsets = set()\n",
    "all_ans_subsets_count = defaultdict(int)\n",
    "ans_subset_sizes = []\n",
    "\n",
    "for _ in range(10_000_000):\n",
    "    # set, int\n",
    "    query_props, ans_subset, ans_len = draw_N_cardpairs_union_only(num_attributes=3, num_attr_vals=3, N=8)\n",
    "    ans_subset = tuple(sorted(ans_subset))\n",
    "    all_ans_subsets.add(ans_subset)\n",
    "    all_ans_subsets_count[ans_subset] += 1\n",
    "    \n",
    "print('Number of card subsets generated =', len(all_ans_subsets))"
   ]
  },
  {
   "cell_type": "code",
   "execution_count": 10,
   "id": "documentary-tiffany",
   "metadata": {},
   "outputs": [
    {
     "data": {
      "text/plain": [
       "[(13, 351555),\n",
       " (12, 345885),\n",
       " (14, 316880),\n",
       " (11, 293208),\n",
       " (15, 264520),\n",
       " (16, 217267),\n",
       " (10, 210586),\n",
       " (17, 179124),\n",
       " (18, 145235),\n",
       " (9, 124366),\n",
       " (19, 105947),\n",
       " (20, 66200),\n",
       " (8, 57279),\n",
       " (21, 37293),\n",
       " (7, 19854),\n",
       " (22, 17857),\n",
       " (23, 7022),\n",
       " (6, 4324),\n",
       " (24, 1921),\n",
       " (5, 534),\n",
       " (25, 351),\n",
       " (4, 38),\n",
       " (26, 27),\n",
       " (27, 1),\n",
       " (3, 1)]"
      ]
     },
     "execution_count": 10,
     "metadata": {},
     "output_type": "execute_result"
    }
   ],
   "source": [
    "# 3-3-8\n",
    "Counter([len(sub) for sub in all_ans_subsets]).most_common()"
   ]
  },
  {
   "cell_type": "code",
   "execution_count": 40,
   "id": "lucky-binary",
   "metadata": {},
   "outputs": [
    {
     "name": "stdout",
     "output_type": "stream",
     "text": [
      "Number of card subsets generated = 2766272\n"
     ]
    }
   ],
   "source": [
    "all_ans_subsets = set()\n",
    "all_ans_subsets_count = defaultdict(int)\n",
    "ans_subset_sizes = []\n",
    "\n",
    "for _ in range(10_000_000):\n",
    "    # set, int\n",
    "    query_props, ans_subset, ans_len = draw_N_cardpairs_union_only(num_attributes=3, num_attr_vals=3, N=8)\n",
    "    ans_subset = tuple(sorted(ans_subset))\n",
    "    all_ans_subsets.add(ans_subset)\n",
    "    all_ans_subsets_count[ans_subset] += 1\n",
    "    \n",
    "print('Number of card subsets generated =', len(all_ans_subsets))"
   ]
  },
  {
   "cell_type": "code",
   "execution_count": 32,
   "id": "welcome-national",
   "metadata": {},
   "outputs": [
    {
     "name": "stdout",
     "output_type": "stream",
     "text": [
      "Number of card subsets generated = 472752\n"
     ]
    }
   ],
   "source": [
    "all_ans_subsets = set()\n",
    "all_ans_subsets_count = defaultdict(int)\n",
    "ans_subset_sizes = []\n",
    "\n",
    "for _ in range(1_000_000):\n",
    "    # set, int\n",
    "    query_props, ans_subset, ans_len = draw_N_cardpairs(num_attributes=3, num_attr_vals=3, N=9)\n",
    "    ans_subset = tuple(sorted(ans_subset))\n",
    "    all_ans_subsets.add(ans_subset)\n",
    "    all_ans_subsets_count[ans_subset] += 1\n",
    "    \n",
    "print('Number of card subsets generated =', len(all_ans_subsets))"
   ]
  },
  {
   "cell_type": "code",
   "execution_count": 41,
   "id": "fatal-manhattan",
   "metadata": {},
   "outputs": [
    {
     "data": {
      "text/plain": [
       "1000000"
      ]
     },
     "execution_count": 41,
     "metadata": {},
     "output_type": "execute_result"
    }
   ],
   "source": [
    "1_000_000"
   ]
  },
  {
   "cell_type": "code",
   "execution_count": 34,
   "id": "ruled-lithuania",
   "metadata": {},
   "outputs": [
    {
     "name": "stdout",
     "output_type": "stream",
     "text": [
      "Number of card subsets generated = 440025\n"
     ]
    }
   ],
   "source": [
    "all_ans_subsets = set()\n",
    "all_ans_subsets_count = defaultdict(int)\n",
    "ans_subset_sizes = []\n",
    "\n",
    "for _ in range(1_000_000):\n",
    "    # set, int\n",
    "    query_props, ans_subset, ans_len = draw_N_cardpairs(num_attributes=3, num_attr_vals=3, N=10)\n",
    "    ans_subset = tuple(sorted(ans_subset))\n",
    "    all_ans_subsets.add(ans_subset)\n",
    "    all_ans_subsets_count[ans_subset] += 1\n",
    "    \n",
    "print('Number of card subsets generated =', len(all_ans_subsets))"
   ]
  },
  {
   "cell_type": "code",
   "execution_count": 28,
   "id": "minimal-short",
   "metadata": {},
   "outputs": [
    {
     "name": "stdout",
     "output_type": "stream",
     "text": [
      "Number of card subsets generated = 187036\n"
     ]
    }
   ],
   "source": [
    "all_ans_subsets = set()\n",
    "all_ans_subsets_count = defaultdict(int)\n",
    "ans_subset_sizes = []\n",
    "\n",
    "for _ in range(1_000_000):\n",
    "    # set, int\n",
    "    query_props, ans_subset, ans_len = draw_N_cardpairs(num_attributes=3, num_attr_vals=3, N=16)\n",
    "    ans_subset = tuple(sorted(ans_subset))\n",
    "    all_ans_subsets.add(ans_subset)\n",
    "    all_ans_subsets_count[ans_subset] += 1\n",
    "    \n",
    "print('Number of card subsets generated =', len(all_ans_subsets))"
   ]
  },
  {
   "cell_type": "code",
   "execution_count": 29,
   "id": "gentle-september",
   "metadata": {},
   "outputs": [
    {
     "data": {
      "text/plain": [
       "[(20, 37190),\n",
       " (21, 35775),\n",
       " (19, 30766),\n",
       " (22, 24904),\n",
       " (18, 21298),\n",
       " (17, 12336),\n",
       " (23, 11139),\n",
       " (16, 6309),\n",
       " (24, 2781),\n",
       " (15, 2720),\n",
       " (14, 1019),\n",
       " (25, 351),\n",
       " (13, 310),\n",
       " (12, 91),\n",
       " (26, 27),\n",
       " (11, 18),\n",
       " (10, 1),\n",
       " (27, 1)]"
      ]
     },
     "execution_count": 29,
     "metadata": {},
     "output_type": "execute_result"
    }
   ],
   "source": [
    "Counter([len(sub) for sub in all_ans_subsets]).most_common()"
   ]
  },
  {
   "cell_type": "code",
   "execution_count": 35,
   "id": "iraqi-sympathy",
   "metadata": {},
   "outputs": [
    {
     "name": "stdout",
     "output_type": "stream",
     "text": [
      "Number of card subsets generated = 919428\n"
     ]
    }
   ],
   "source": [
    "all_ans_subsets = set()\n",
    "all_ans_subsets_count = defaultdict(int)\n",
    "ans_subset_sizes = []\n",
    "\n",
    "for _ in range(1_000_000):\n",
    "    # set, int\n",
    "    query_props, ans_subset, ans_len = draw_N_cardpairs(num_attributes=4, num_attr_vals=3, N=4)\n",
    "    ans_subset = tuple(sorted(ans_subset))\n",
    "    all_ans_subsets.add(ans_subset)\n",
    "    all_ans_subsets_count[ans_subset] += 1\n",
    "    \n",
    "print('Number of card subsets generated =', len(all_ans_subsets))"
   ]
  },
  {
   "cell_type": "code",
   "execution_count": 7,
   "id": "forbidden-romania",
   "metadata": {
    "scrolled": true
   },
   "outputs": [
    {
     "name": "stdout",
     "output_type": "stream",
     "text": [
      "Number of card subsets generated = 9577312\n"
     ]
    }
   ],
   "source": [
    "all_ans_subsets = set()\n",
    "all_ans_subsets_count = defaultdict(int)\n",
    "ans_subset_sizes = []\n",
    "\n",
    "for _ in range(10_000_000):\n",
    "    # set, int\n",
    "    query_props, ans_subset, ans_len = draw_N_cardpairs(num_attributes=4, num_attr_vals=3, N=8)\n",
    "    ans_subset = tuple(sorted(ans_subset))\n",
    "    all_ans_subsets.add(ans_subset)\n",
    "    all_ans_subsets_count[ans_subset] += 1\n",
    "    \n",
    "print('Number of card subsets generated =', len(all_ans_subsets))"
   ]
  },
  {
   "cell_type": "code",
   "execution_count": 8,
   "id": "fantastic-alert",
   "metadata": {
    "scrolled": true
   },
   "outputs": [
    {
     "data": {
      "text/plain": [
       "[(23, 383103),\n",
       " (24, 381303),\n",
       " (22, 379868),\n",
       " (26, 379341),\n",
       " (25, 378722),\n",
       " (27, 368429),\n",
       " (21, 360167),\n",
       " (28, 349287),\n",
       " (20, 327512),\n",
       " (29, 321342),\n",
       " (30, 290832),\n",
       " (19, 277798),\n",
       " (31, 267940),\n",
       " (32, 252145),\n",
       " (33, 241928),\n",
       " (18, 241609),\n",
       " (34, 236656),\n",
       " (35, 227948),\n",
       " (36, 221678),\n",
       " (37, 220236),\n",
       " (38, 218520),\n",
       " (40, 218470),\n",
       " (39, 217851),\n",
       " (41, 210423),\n",
       " (42, 203111),\n",
       " (17, 197120),\n",
       " (43, 192857),\n",
       " (16, 177872),\n",
       " (44, 173861),\n",
       " (45, 157387),\n",
       " (15, 140340),\n",
       " (46, 138927),\n",
       " (47, 122927),\n",
       " (14, 119319),\n",
       " (48, 111934),\n",
       " (49, 99410),\n",
       " (50, 86529),\n",
       " (13, 80089),\n",
       " (51, 73075),\n",
       " (52, 65113),\n",
       " (53, 56959),\n",
       " (12, 55125),\n",
       " (54, 47815),\n",
       " (55, 42160),\n",
       " (56, 35250),\n",
       " (57, 30631),\n",
       " (58, 28741),\n",
       " (11, 28278),\n",
       " (59, 25070),\n",
       " (60, 20040),\n",
       " (61, 17364),\n",
       " (10, 14510),\n",
       " (62, 11165),\n",
       " (63, 9201),\n",
       " (64, 6923),\n",
       " (65, 6283),\n",
       " (66, 5549),\n",
       " (9, 5366),\n",
       " (67, 5244),\n",
       " (68, 3232),\n",
       " (69, 2432),\n",
       " (8, 1737),\n",
       " (70, 1578),\n",
       " (71, 1215),\n",
       " (72, 731),\n",
       " (73, 646),\n",
       " (7, 396),\n",
       " (75, 260),\n",
       " (74, 230),\n",
       " (76, 110),\n",
       " (77, 30),\n",
       " (6, 29),\n",
       " (78, 26),\n",
       " (79, 3),\n",
       " (80, 2),\n",
       " (5, 1),\n",
       " (81, 1)]"
      ]
     },
     "execution_count": 8,
     "metadata": {},
     "output_type": "execute_result"
    }
   ],
   "source": [
    "Counter([len(sub) for sub in all_ans_subsets]).most_common()"
   ]
  },
  {
   "cell_type": "code",
   "execution_count": 39,
   "id": "interpreted-broadcasting",
   "metadata": {
    "scrolled": true
   },
   "outputs": [
    {
     "ename": "KeyboardInterrupt",
     "evalue": "",
     "output_type": "error",
     "traceback": [
      "\u001b[0;31m---------------------------------------------------------------------------\u001b[0m",
      "\u001b[0;31mKeyboardInterrupt\u001b[0m                         Traceback (most recent call last)",
      "\u001b[0;32m<ipython-input-39-cb062a7746df>\u001b[0m in \u001b[0;36m<module>\u001b[0;34m\u001b[0m\n\u001b[1;32m      5\u001b[0m \u001b[0;32mfor\u001b[0m \u001b[0m_\u001b[0m \u001b[0;32min\u001b[0m \u001b[0mrange\u001b[0m\u001b[0;34m(\u001b[0m\u001b[0;36m1000000\u001b[0m\u001b[0;34m)\u001b[0m\u001b[0;34m:\u001b[0m\u001b[0;34m\u001b[0m\u001b[0;34m\u001b[0m\u001b[0m\n\u001b[1;32m      6\u001b[0m     \u001b[0;31m# set, int\u001b[0m\u001b[0;34m\u001b[0m\u001b[0;34m\u001b[0m\u001b[0;34m\u001b[0m\u001b[0m\n\u001b[0;32m----> 7\u001b[0;31m     \u001b[0mquery_props\u001b[0m\u001b[0;34m,\u001b[0m \u001b[0mans_subset\u001b[0m\u001b[0;34m,\u001b[0m \u001b[0mans_len\u001b[0m \u001b[0;34m=\u001b[0m \u001b[0mdraw_N_cardpairs\u001b[0m\u001b[0;34m(\u001b[0m\u001b[0mnum_attributes\u001b[0m\u001b[0;34m=\u001b[0m\u001b[0;36m4\u001b[0m\u001b[0;34m,\u001b[0m \u001b[0mnum_attr_vals\u001b[0m\u001b[0;34m=\u001b[0m\u001b[0;36m3\u001b[0m\u001b[0;34m,\u001b[0m \u001b[0mN\u001b[0m\u001b[0;34m=\u001b[0m\u001b[0;36m10\u001b[0m\u001b[0;34m)\u001b[0m\u001b[0;34m\u001b[0m\u001b[0;34m\u001b[0m\u001b[0m\n\u001b[0m\u001b[1;32m      8\u001b[0m     \u001b[0mans_subset\u001b[0m \u001b[0;34m=\u001b[0m \u001b[0mtuple\u001b[0m\u001b[0;34m(\u001b[0m\u001b[0msorted\u001b[0m\u001b[0;34m(\u001b[0m\u001b[0mans_subset\u001b[0m\u001b[0;34m)\u001b[0m\u001b[0;34m)\u001b[0m\u001b[0;34m\u001b[0m\u001b[0;34m\u001b[0m\u001b[0m\n\u001b[1;32m      9\u001b[0m     \u001b[0mall_ans_subsets\u001b[0m\u001b[0;34m.\u001b[0m\u001b[0madd\u001b[0m\u001b[0;34m(\u001b[0m\u001b[0mans_subset\u001b[0m\u001b[0;34m)\u001b[0m\u001b[0;34m\u001b[0m\u001b[0;34m\u001b[0m\u001b[0m\n",
      "\u001b[0;32m/app/Contrastive-Learning-Benchmarking/SecondPass-CardGame-experiments/dataraw_sampling.py\u001b[0m in \u001b[0;36mdraw_N_cardpairs\u001b[0;34m(num_attributes, num_attr_vals, N)\u001b[0m\n\u001b[1;32m    101\u001b[0m     \u001b[0mall_query_pairs\u001b[0m \u001b[0;34m=\u001b[0m \u001b[0;34m[\u001b[0m\u001b[0;34m]\u001b[0m\u001b[0;34m\u001b[0m\u001b[0;34m\u001b[0m\u001b[0m\n\u001b[1;32m    102\u001b[0m     \u001b[0;32mfor\u001b[0m \u001b[0mi\u001b[0m \u001b[0;32min\u001b[0m \u001b[0mrange\u001b[0m\u001b[0;34m(\u001b[0m\u001b[0mN\u001b[0m\u001b[0;34m)\u001b[0m\u001b[0;34m:\u001b[0m\u001b[0;34m\u001b[0m\u001b[0;34m\u001b[0m\u001b[0m\n\u001b[0;32m--> 103\u001b[0;31m         \u001b[0mcard1_prop\u001b[0m\u001b[0;34m,\u001b[0m \u001b[0mcard2_prop\u001b[0m\u001b[0;34m,\u001b[0m \u001b[0mkeys_prop\u001b[0m \u001b[0;34m=\u001b[0m \u001b[0mdraw_cardpair_props\u001b[0m\u001b[0;34m(\u001b[0m\u001b[0mnum_attributes\u001b[0m\u001b[0;34m,\u001b[0m \u001b[0mnum_attr_vals\u001b[0m\u001b[0;34m)\u001b[0m\u001b[0;34m\u001b[0m\u001b[0;34m\u001b[0m\u001b[0m\n\u001b[0m\u001b[1;32m    104\u001b[0m         \u001b[0mall_query_pairs\u001b[0m \u001b[0;34m+=\u001b[0m \u001b[0;34m[\u001b[0m\u001b[0mcard1_prop\u001b[0m\u001b[0;34m,\u001b[0m \u001b[0mcard2_prop\u001b[0m\u001b[0;34m]\u001b[0m\u001b[0;34m\u001b[0m\u001b[0;34m\u001b[0m\u001b[0m\n\u001b[1;32m    105\u001b[0m         \u001b[0mall_key_subsets\u001b[0m \u001b[0;34m+=\u001b[0m \u001b[0mkeys_prop\u001b[0m\u001b[0;34m\u001b[0m\u001b[0;34m\u001b[0m\u001b[0m\n",
      "\u001b[0;32m/app/Contrastive-Learning-Benchmarking/SecondPass-CardGame-experiments/dataraw_sampling.py\u001b[0m in \u001b[0;36mdraw_cardpair_props\u001b[0;34m(num_attributes, num_attr_vals)\u001b[0m\n\u001b[1;32m     91\u001b[0m \u001b[0;34m\u001b[0m\u001b[0m\n\u001b[1;32m     92\u001b[0m     \u001b[0mcard1_prop\u001b[0m \u001b[0;34m=\u001b[0m \u001b[0mnp\u001b[0m\u001b[0;34m.\u001b[0m\u001b[0mrandom\u001b[0m\u001b[0;34m.\u001b[0m\u001b[0mchoice\u001b[0m\u001b[0;34m(\u001b[0m\u001b[0ma\u001b[0m\u001b[0;34m=\u001b[0m\u001b[0mnum_attr_vals\u001b[0m\u001b[0;34m,\u001b[0m \u001b[0msize\u001b[0m\u001b[0;34m=\u001b[0m\u001b[0mnum_attributes\u001b[0m\u001b[0;34m,\u001b[0m \u001b[0mreplace\u001b[0m\u001b[0;34m=\u001b[0m\u001b[0;32mTrue\u001b[0m\u001b[0;34m)\u001b[0m \u001b[0;31m# 0, 1, 2\u001b[0m\u001b[0;34m\u001b[0m\u001b[0;34m\u001b[0m\u001b[0m\n\u001b[0;32m---> 93\u001b[0;31m     \u001b[0mcard2_prop\u001b[0m \u001b[0;34m=\u001b[0m \u001b[0mnp\u001b[0m\u001b[0;34m.\u001b[0m\u001b[0mrandom\u001b[0m\u001b[0;34m.\u001b[0m\u001b[0mchoice\u001b[0m\u001b[0;34m(\u001b[0m\u001b[0ma\u001b[0m\u001b[0;34m=\u001b[0m\u001b[0mnum_attr_vals\u001b[0m\u001b[0;34m+\u001b[0m\u001b[0;36m1\u001b[0m\u001b[0;34m,\u001b[0m \u001b[0msize\u001b[0m\u001b[0;34m=\u001b[0m\u001b[0mnum_attributes\u001b[0m\u001b[0;34m,\u001b[0m \u001b[0mreplace\u001b[0m\u001b[0;34m=\u001b[0m\u001b[0;32mTrue\u001b[0m\u001b[0;34m)\u001b[0m \u001b[0;31m# 0, 1, 2, 3\u001b[0m\u001b[0;34m\u001b[0m\u001b[0;34m\u001b[0m\u001b[0m\n\u001b[0m\u001b[1;32m     94\u001b[0m     \u001b[0mkeys_prop\u001b[0m \u001b[0;34m=\u001b[0m \u001b[0mresolve\u001b[0m\u001b[0;34m(\u001b[0m\u001b[0mcard1_prop\u001b[0m\u001b[0;34m,\u001b[0m \u001b[0mcard2_prop\u001b[0m\u001b[0;34m,\u001b[0m \u001b[0mall_vals_tuple\u001b[0m\u001b[0;34m,\u001b[0m \u001b[0mall_vals_set\u001b[0m\u001b[0;34m)\u001b[0m\u001b[0;34m\u001b[0m\u001b[0;34m\u001b[0m\u001b[0m\n\u001b[1;32m     95\u001b[0m \u001b[0;34m\u001b[0m\u001b[0m\n",
      "\u001b[0;32mmtrand.pyx\u001b[0m in \u001b[0;36mnumpy.random.mtrand.RandomState.choice\u001b[0;34m()\u001b[0m\n",
      "\u001b[0;32mmtrand.pyx\u001b[0m in \u001b[0;36mnumpy.random.mtrand.RandomState.randint\u001b[0;34m()\u001b[0m\n",
      "\u001b[0;32m_bounded_integers.pyx\u001b[0m in \u001b[0;36mnumpy.random._bounded_integers._rand_int64\u001b[0;34m()\u001b[0m\n",
      "\u001b[0;32m<__array_function__ internals>\u001b[0m in \u001b[0;36mprod\u001b[0;34m(*args, **kwargs)\u001b[0m\n",
      "\u001b[0;32m~/miniconda/lib/python3.8/site-packages/numpy/core/fromnumeric.py\u001b[0m in \u001b[0;36mprod\u001b[0;34m(a, axis, dtype, out, keepdims, initial, where)\u001b[0m\n\u001b[1;32m   2997\u001b[0m     \u001b[0;36m10\u001b[0m\u001b[0;34m\u001b[0m\u001b[0;34m\u001b[0m\u001b[0m\n\u001b[1;32m   2998\u001b[0m     \"\"\"\n\u001b[0;32m-> 2999\u001b[0;31m     return _wrapreduction(a, np.multiply, 'prod', axis, dtype, out,\n\u001b[0m\u001b[1;32m   3000\u001b[0m                           keepdims=keepdims, initial=initial, where=where)\n\u001b[1;32m   3001\u001b[0m \u001b[0;34m\u001b[0m\u001b[0m\n",
      "\u001b[0;32m~/miniconda/lib/python3.8/site-packages/numpy/core/fromnumeric.py\u001b[0m in \u001b[0;36m_wrapreduction\u001b[0;34m(obj, ufunc, method, axis, dtype, out, **kwargs)\u001b[0m\n\u001b[1;32m     85\u001b[0m                 \u001b[0;32mreturn\u001b[0m \u001b[0mreduction\u001b[0m\u001b[0;34m(\u001b[0m\u001b[0maxis\u001b[0m\u001b[0;34m=\u001b[0m\u001b[0maxis\u001b[0m\u001b[0;34m,\u001b[0m \u001b[0mout\u001b[0m\u001b[0;34m=\u001b[0m\u001b[0mout\u001b[0m\u001b[0;34m,\u001b[0m \u001b[0;34m**\u001b[0m\u001b[0mpasskwargs\u001b[0m\u001b[0;34m)\u001b[0m\u001b[0;34m\u001b[0m\u001b[0;34m\u001b[0m\u001b[0m\n\u001b[1;32m     86\u001b[0m \u001b[0;34m\u001b[0m\u001b[0m\n\u001b[0;32m---> 87\u001b[0;31m     \u001b[0;32mreturn\u001b[0m \u001b[0mufunc\u001b[0m\u001b[0;34m.\u001b[0m\u001b[0mreduce\u001b[0m\u001b[0;34m(\u001b[0m\u001b[0mobj\u001b[0m\u001b[0;34m,\u001b[0m \u001b[0maxis\u001b[0m\u001b[0;34m,\u001b[0m \u001b[0mdtype\u001b[0m\u001b[0;34m,\u001b[0m \u001b[0mout\u001b[0m\u001b[0;34m,\u001b[0m \u001b[0;34m**\u001b[0m\u001b[0mpasskwargs\u001b[0m\u001b[0;34m)\u001b[0m\u001b[0;34m\u001b[0m\u001b[0;34m\u001b[0m\u001b[0m\n\u001b[0m\u001b[1;32m     88\u001b[0m \u001b[0;34m\u001b[0m\u001b[0m\n\u001b[1;32m     89\u001b[0m \u001b[0;34m\u001b[0m\u001b[0m\n",
      "\u001b[0;31mKeyboardInterrupt\u001b[0m: "
     ]
    }
   ],
   "source": [
    "all_ans_subsets = set()\n",
    "all_ans_subsets_count = defaultdict(int)\n",
    "ans_subset_sizes = []\n",
    "\n",
    "for _ in range(1_000_000):\n",
    "    # set, int\n",
    "    query_props, ans_subset, ans_len = draw_N_cardpairs(num_attributes=4, num_attr_vals=3, N=10)\n",
    "    ans_subset = tuple(sorted(ans_subset))\n",
    "    all_ans_subsets.add(ans_subset)\n",
    "    all_ans_subsets_count[ans_subset] += 1\n",
    "    \n",
    "print('Number of card subsets generated =', len(all_ans_subsets))"
   ]
  },
  {
   "cell_type": "code",
   "execution_count": 37,
   "id": "suffering-personal",
   "metadata": {},
   "outputs": [
    {
     "name": "stdout",
     "output_type": "stream",
     "text": [
      "Number of card subsets generated = 952831\n"
     ]
    }
   ],
   "source": [
    "all_ans_subsets = set()\n",
    "all_ans_subsets_count = defaultdict(int)\n",
    "ans_subset_sizes = []\n",
    "\n",
    "for _ in range(1_000_000):\n",
    "    # set, int\n",
    "    query_props, ans_subset, ans_len = draw_N_cardpairs(num_attributes=4, num_attr_vals=3, N=12)\n",
    "    ans_subset = tuple(sorted(ans_subset))\n",
    "    all_ans_subsets.add(ans_subset)\n",
    "    all_ans_subsets_count[ans_subset] += 1\n",
    "    \n",
    "print('Number of card subsets generated =', len(all_ans_subsets))"
   ]
  },
  {
   "cell_type": "code",
   "execution_count": null,
   "id": "decimal-difference",
   "metadata": {},
   "outputs": [],
   "source": [
    "all_ans_subsets = set()\n",
    "all_ans_subsets_count = defaultdict(int)\n",
    "ans_subset_sizes = []\n",
    "\n",
    "for _ in range(1_000_000):\n",
    "    # set, int\n",
    "    query_props, ans_subset, ans_len = draw_N_cardpairs(num_attributes=9, num_attr_vals=3, N=8)\n",
    "    ans_subset = tuple(sorted(ans_subset))\n",
    "    all_ans_subsets.add(ans_subset)\n",
    "    all_ans_subsets_count[ans_subset] += 1\n",
    "    \n",
    "print('Number of card subsets generated =', len(all_ans_subsets))"
   ]
  },
  {
   "cell_type": "code",
   "execution_count": 13,
   "id": "completed-detail",
   "metadata": {
    "scrolled": true
   },
   "outputs": [
    {
     "data": {
      "text/plain": [
       "Counter()"
      ]
     },
     "execution_count": 13,
     "metadata": {},
     "output_type": "execute_result"
    }
   ],
   "source": [
    "Counter([len(sub) for sub in all_ans_subsets])"
   ]
  },
  {
   "cell_type": "code",
   "execution_count": 12,
   "id": "white-affairs",
   "metadata": {},
   "outputs": [
    {
     "name": "stderr",
     "output_type": "stream",
     "text": [
      "100%|██████████| 1024/1024 [00:00<00:00, 3789.03it/s]"
     ]
    },
    {
     "name": "stdout",
     "output_type": "stream",
     "text": [
      "Number of card subsets generated = 1007\n",
      "Time used to sample =  0.27445101737976074\n"
     ]
    },
    {
     "name": "stderr",
     "output_type": "stream",
     "text": [
      "\n"
     ]
    }
   ],
   "source": [
    "start_time = time.time()\n",
    "\n",
    "all_ans_subsets = set()\n",
    "all_ans_subsets_count = defaultdict(int)\n",
    "ans_subset_sizes = []\n",
    "for _ in tqdm(range(1024)):\n",
    "    # set, int\n",
    "    query_props, ans_subset, ans_len = draw_N_cardpairs(num_attributes=4, num_attr_vals=3, N=3)\n",
    "    ans_subset = tuple(sorted(ans_subset))\n",
    "    all_ans_subsets.add(ans_subset)\n",
    "    all_ans_subsets_count[ans_subset] += 1\n",
    "    \n",
    "print('Number of card subsets generated =', len(all_ans_subsets))"
   ]
  },
  {
   "cell_type": "code",
   "execution_count": null,
   "id": "dietary-clinic",
   "metadata": {},
   "outputs": [],
   "source": [
    "3**8"
   ]
  },
  {
   "cell_type": "code",
   "execution_count": null,
   "id": "settled-grain",
   "metadata": {},
   "outputs": [],
   "source": []
  }
 ],
 "metadata": {
  "kernelspec": {
   "display_name": "Python 3",
   "language": "python",
   "name": "python3"
  },
  "language_info": {
   "codemirror_mode": {
    "name": "ipython",
    "version": 3
   },
   "file_extension": ".py",
   "mimetype": "text/x-python",
   "name": "python",
   "nbconvert_exporter": "python",
   "pygments_lexer": "ipython3",
   "version": "3.8.3"
  }
 },
 "nbformat": 4,
 "nbformat_minor": 5
}

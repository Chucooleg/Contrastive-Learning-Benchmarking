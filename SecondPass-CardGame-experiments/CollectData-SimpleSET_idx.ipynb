{
 "cells": [
  {
   "cell_type": "code",
   "execution_count": 34,
   "id": "serial-liability",
   "metadata": {},
   "outputs": [
    {
     "output_type": "stream",
     "name": "stdout",
     "text": [
      "The autoreload extension is already loaded. To reload it, use:\n",
      "  %reload_ext autoreload\n"
     ]
    }
   ],
   "source": [
    "%load_ext autoreload\n",
    "%autoreload 2\n",
    "\n",
    "from collections import defaultdict, Counter\n",
    "import numpy as np\n",
    "import itertools\n",
    "import copy\n",
    "import matplotlib.pyplot as plt\n",
    "import random\n",
    "import json\n",
    "import time\n",
    "\n",
    "from dataraw_sampling_SimpleSET_idx import sample_queries, decode_key_idx"
   ]
  },
  {
   "cell_type": "code",
   "execution_count": 35,
   "id": "accessory-illustration",
   "metadata": {
    "scrolled": true
   },
   "outputs": [
    {
     "output_type": "stream",
     "name": "stderr",
     "text": [
      "  0%|          | 0/10 [00:00<?, ?it/s]([1, 8], [3])\n",
      "([1, 7], [4])\n",
      "([6, 0], [3])\n",
      "([5, 6], [1])\n",
      "([4, 6], [2])\n",
      "([2, 7], [3])\n",
      "([7, 8], [6])\n",
      "([6, 5], [1])\n",
      "([5, 1], [6])\n",
      "([0, 6], [3])\n",
      "100%|██████████| 10/10 [00:00<00:00, 416.76it/s]\n",
      "Sample Time for 10 datapoints = 0.0299990177154541 seconds\n"
     ]
    }
   ],
   "source": [
    "# Simple SET\n",
    "num_attributes=2; num_attr_vals=3;\n",
    "N_train=0; N_val=5; N_test=5\n",
    "\n",
    "sample_start_time = time.time()\n",
    "data, stats = sample_queries(num_attributes, num_attr_vals, N_train, N_val, N_test)\n",
    "sample_end_time = time.time()\n",
    "\n",
    "print(f'Sample Time for {N_train+N_val+N_test} datapoints = {sample_end_time-sample_start_time} seconds')\n",
    "\n",
    "\n",
    "# save_start_time = time.time()\n",
    "# filename_dat = '../Raw_Datasets/SET/SimpleSETidx-{}Attr-{}Vals-{}Train-{}Val-{}Test.json'.format(\n",
    "#     num_attributes, num_attr_vals, N_train, N_val, N_test)\n",
    "# with open(filename_dat, 'w') as f:\n",
    "#     json.dump(data, f)\n",
    "# save_end_time = time.time()\n",
    "\n",
    "# filename = '../Raw_Datasets/SET/SimpleSETidx-{}Attr-{}Vals-{}Train-{}Val-{}Test-Stats.json'.format(\n",
    "#     num_attributes, num_attr_vals, query_length_multiplier, nest_depth_int, N_train, N_val, N_test)\n",
    "# with open(filename, 'w') as f:\n",
    "#     json.dump(stats, f)\n",
    "# save_end_time = time.time()\n",
    "\n",
    "# print(f'Saving Time for {N_train+N_val+N_test} datapoints = {save_end_time-save_start_time} seconds')"
   ]
  },
  {
   "cell_type": "code",
   "execution_count": 36,
   "metadata": {},
   "outputs": [
    {
     "output_type": "execute_result",
     "data": {
      "text/plain": [
       "{'num_attributes': 2,\n",
       " 'num_attr_vals': 3,\n",
       " 'nest_depth_int': None,\n",
       " 'key_support_size': 9,\n",
       " 'multiple_OR_sets_bool': None,\n",
       " 'query_length_multiplier': None,\n",
       " 'max_len_q': 2,\n",
       " 'len_k': 1,\n",
       " 'train_gt_idxs': [],\n",
       " 'val_gt_idxs': [[3], [4], [3], [1], [2]],\n",
       " 'test_gt_idxs': [[3], [6], [1], [6], [3]],\n",
       " 'train_tokens': [],\n",
       " 'val_tokens': [([1, 8], [3]),\n",
       "  ([1, 7], [4]),\n",
       "  ([6, 0], [3]),\n",
       "  ([5, 6], [1]),\n",
       "  ([4, 6], [2])],\n",
       " 'test_tokens': [([2, 7], [3]),\n",
       "  ([7, 8], [6]),\n",
       "  ([6, 5], [1]),\n",
       "  ([5, 1], [6]),\n",
       "  ([0, 6], [3])],\n",
       " 'vocab_size': 19,\n",
       " 'symbol_vocab_token_lookup': {'(': 9,\n",
       "  ')': 10,\n",
       "  'NULL': 11,\n",
       "  'SEP': 12,\n",
       "  'SOS': 13,\n",
       "  'EOS': 14,\n",
       "  'PAD': 15,\n",
       "  'PLH': 16,\n",
       "  '&': 17,\n",
       "  '|': 18},\n",
       " 'vocab_by_property': False}"
      ]
     },
     "metadata": {},
     "execution_count": 36
    }
   ],
   "source": [
    "data"
   ]
  },
  {
   "cell_type": "code",
   "execution_count": null,
   "metadata": {},
   "outputs": [],
   "source": []
  }
 ],
 "metadata": {
  "kernelspec": {
   "display_name": "Python 3",
   "language": "python",
   "name": "python3"
  },
  "language_info": {
   "codemirror_mode": {
    "name": "ipython",
    "version": 3
   },
   "file_extension": ".py",
   "mimetype": "text/x-python",
   "name": "python",
   "nbconvert_exporter": "python",
   "pygments_lexer": "ipython3",
   "version": "3.7.1-final"
  }
 },
 "nbformat": 4,
 "nbformat_minor": 5
}
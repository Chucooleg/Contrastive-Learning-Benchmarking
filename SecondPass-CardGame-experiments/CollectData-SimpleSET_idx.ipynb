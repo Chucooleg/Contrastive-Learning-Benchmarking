{
 "cells": [
  {
   "cell_type": "code",
   "execution_count": 1,
   "id": "serial-liability",
   "metadata": {},
   "outputs": [],
   "source": [
    "%load_ext autoreload\n",
    "%autoreload 2\n",
    "\n",
    "from collections import defaultdict, Counter\n",
    "import numpy as np\n",
    "import itertools\n",
    "import copy\n",
    "import matplotlib.pyplot as plt\n",
    "import random\n",
    "import json\n",
    "import time\n",
    "\n",
    "from dataraw_sampling import sample_queries, decode_key_idx"
   ]
  },
  {
   "cell_type": "code",
   "execution_count": 8,
   "id": "accessory-illustration",
   "metadata": {
    "scrolled": true
   },
   "outputs": [
    {
     "name": "stderr",
     "output_type": "stream",
     "text": [
      " 42%|████▏     | 4320/10240 [00:00<00:00, 43197.47it/s]"
     ]
    },
    {
     "name": "stdout",
     "output_type": "stream",
     "text": [
      "Sampling from derive prop, no answer lookup is built.\n"
     ]
    },
    {
     "name": "stderr",
     "output_type": "stream",
     "text": [
      "100%|██████████| 10240/10240 [00:00<00:00, 43417.28it/s]"
     ]
    },
    {
     "name": "stdout",
     "output_type": "stream",
     "text": [
      "Sample Time for 10240 datapoints = 0.2401561737060547 seconds\n",
      "Saving Time for 10240 datapoints = 0.05586552619934082 seconds\n"
     ]
    },
    {
     "name": "stderr",
     "output_type": "stream",
     "text": [
      "\n"
     ]
    }
   ],
   "source": [
    "np.random.seed(42)\n",
    "random.seed(42)\n",
    "\n",
    "# Simple SET\n",
    "num_attributes=9; num_attr_vals=3;\n",
    "N_train=0; N_val=5120; N_test=5120\n",
    "\n",
    "sample_start_time = time.time()\n",
    "data, stats = sample_queries(num_attributes, num_attr_vals, N_train, N_val, N_test)\n",
    "sample_end_time = time.time()\n",
    "\n",
    "print(f'Sample Time for {N_train+N_val+N_test} datapoints = {sample_end_time-sample_start_time} seconds')\n",
    "\n",
    "\n",
    "save_start_time = time.time()\n",
    "filename_dat = '../Raw_Datasets/SET/SimpleSETidx-{}Attr-{}Vals-{}Train-{}Val-{}Test.json'.format(\n",
    "    num_attributes, num_attr_vals, N_train, N_val, N_test)\n",
    "with open(filename_dat, 'w') as f:\n",
    "    json.dump(data, f)\n",
    "save_end_time = time.time()\n",
    "\n",
    "# filename = '../Raw_Datasets/SET/SimpleSETidx-{}Attr-{}Vals-{}Train-{}Val-{}Test-Stats.json'.format(\n",
    "#     num_attributes, num_attr_vals, query_length_multiplier, nest_depth_int, N_train, N_val, N_test)\n",
    "# with open(filename, 'w') as f:\n",
    "#     json.dump(stats, f)\n",
    "# save_end_time = time.time()\n",
    "\n",
    "print(f'Saving Time for {N_train+N_val+N_test} datapoints = {save_end_time-save_start_time} seconds')"
   ]
  },
  {
   "cell_type": "raw",
   "id": "appointed-canyon",
   "metadata": {},
   "source": [
    "# 3-3\n",
    "\n",
    "Time to build cardpair_answer_lookup: 0.004517555236816406 seconds\n",
    "Sample Time for 10240 datapoints = 0.06932830810546875 seconds\n",
    "Saving Time for 10240 datapoints = 0.04282879829406738 seconds\n",
    "\n",
    "\n",
    "# 4-3\n",
    "\n",
    "Time to build cardpair_answer_lookup: 0.07223939895629883 seconds\n",
    "Sample Time for 10240 datapoints = 0.1764354705810547 seconds\n",
    "Saving Time for 10240 datapoints = 0.0741426944732666 seconds\n",
    "\n",
    "\n",
    "# 6-3\n",
    "\n",
    "Time to build cardpair_answer_lookup: 7.430414199829102 seconds\n",
    "Sample Time for 10240 datapoints = 8.788933992385864 seconds\n",
    "Saving Time for 10240 datapoints = 0.07974386215209961 seconds\n",
    "\n",
    "\n",
    "# 7-3\n",
    "\n",
    "Time to build cardpair_answer_lookup: 73.65189123153687 seconds\n",
    "Sample Time for 10240 datapoints = 74.04008054733276 seconds\n",
    "Saving Time for 10240 datapoints = 0.0802462100982666 seconds\n",
    "\n",
    "\n",
    "# 8-3\n",
    "Time to build cardpair_answer_lookup: 733.3002645969391 seconds\n",
    "Sample Time for 10240 datapoints = 735.1125776767731 seconds\n",
    "Saving Time for 10240 datapoints = 0.08063673973083496 seconds"
   ]
  },
  {
   "cell_type": "code",
   "execution_count": 4,
   "id": "threatened-earth",
   "metadata": {},
   "outputs": [
    {
     "data": {
      "text/plain": [
       "'../Raw_Datasets/SET/SimpleSETidx-6Attr-3Vals-0Train-5120Val-5120Test.json'"
      ]
     },
     "execution_count": 4,
     "metadata": {},
     "output_type": "execute_result"
    }
   ],
   "source": [
    "filename_dat"
   ]
  },
  {
   "cell_type": "code",
   "execution_count": 4,
   "id": "british-driver",
   "metadata": {},
   "outputs": [
    {
     "data": {
      "text/plain": [
       "dict_keys(['num_attributes', 'num_attr_vals', 'key_support_size', 'max_len_q', 'len_k', 'train_gt_idxs', 'val_gt_idxs', 'test_gt_idxs', 'train_tokens', 'val_tokens', 'test_tokens', 'vocab_size', 'symbol_vocab_token_lookup', 'vocab_by_property'])"
      ]
     },
     "execution_count": 4,
     "metadata": {},
     "output_type": "execute_result"
    }
   ],
   "source": [
    "data.keys()"
   ]
  },
  {
   "cell_type": "code",
   "execution_count": 5,
   "id": "corresponding-lodging",
   "metadata": {},
   "outputs": [
    {
     "data": {
      "text/plain": [
       "[([860, 5390], [3593]),\n",
       " ([5226, 5191], [5264]),\n",
       " ([3772, 3092], [2247]),\n",
       " ([5734, 6265], [4393]),\n",
       " ([466, 5334], [4373]),\n",
       " ([4426, 5578], [6406]),\n",
       " ([6231, 3444], [162]),\n",
       " ([3171, 2919], [3423]),\n",
       " ([130, 1685], [735]),\n",
       " ([769, 2391], [5951])]"
      ]
     },
     "execution_count": 5,
     "metadata": {},
     "output_type": "execute_result"
    }
   ],
   "source": [
    "data['val_tokens'][:10]"
   ]
  },
  {
   "cell_type": "code",
   "execution_count": 18,
   "id": "heard-romance",
   "metadata": {},
   "outputs": [
    {
     "data": {
      "text/plain": [
       "9.848586617875466"
      ]
     },
     "execution_count": 18,
     "metadata": {},
     "output_type": "execute_result"
    }
   ],
   "source": [
    "import math\n",
    "\n",
    "math.log(50000,3)"
   ]
  },
  {
   "cell_type": "code",
   "execution_count": 19,
   "id": "hollow-settle",
   "metadata": {},
   "outputs": [
    {
     "data": {
      "text/plain": [
       "4.0"
      ]
     },
     "execution_count": 19,
     "metadata": {},
     "output_type": "execute_result"
    }
   ],
   "source": [
    "math.log(81,3)"
   ]
  },
  {
   "cell_type": "code",
   "execution_count": null,
   "id": "split-dutch",
   "metadata": {},
   "outputs": [],
   "source": [
    "math.log(81,3)"
   ]
  },
  {
   "cell_type": "code",
   "execution_count": 20,
   "id": "cardiovascular-collapse",
   "metadata": {},
   "outputs": [
    {
     "data": {
      "text/plain": [
       "19683"
      ]
     },
     "execution_count": 20,
     "metadata": {},
     "output_type": "execute_result"
    }
   ],
   "source": [
    "3**9"
   ]
  },
  {
   "cell_type": "code",
   "execution_count": 8,
   "id": "dress-concrete",
   "metadata": {},
   "outputs": [
    {
     "data": {
      "text/plain": [
       "19693"
      ]
     },
     "execution_count": 8,
     "metadata": {},
     "output_type": "execute_result"
    }
   ],
   "source": [
    "data['vocab_size']"
   ]
  },
  {
   "cell_type": "code",
   "execution_count": 9,
   "id": "composed-horizontal",
   "metadata": {},
   "outputs": [
    {
     "data": {
      "text/plain": [
       "6561"
      ]
     },
     "execution_count": 9,
     "metadata": {},
     "output_type": "execute_result"
    }
   ],
   "source": [
    "3**8"
   ]
  },
  {
   "cell_type": "code",
   "execution_count": 12,
   "id": "searching-hungarian",
   "metadata": {},
   "outputs": [
    {
     "data": {
      "text/plain": [
       "10077696"
      ]
     },
     "execution_count": 12,
     "metadata": {},
     "output_type": "execute_result"
    }
   ],
   "source": [
    "3**9 * 512"
   ]
  },
  {
   "cell_type": "code",
   "execution_count": 6,
   "id": "blank-applicant",
   "metadata": {},
   "outputs": [
    {
     "data": {
      "text/plain": [
       "6561"
      ]
     },
     "execution_count": 6,
     "metadata": {},
     "output_type": "execute_result"
    }
   ],
   "source": [
    "3**8"
   ]
  },
  {
   "cell_type": "code",
   "execution_count": 7,
   "id": "prostate-weapon",
   "metadata": {},
   "outputs": [
    {
     "data": {
      "text/plain": [
       "19683"
      ]
     },
     "execution_count": 7,
     "metadata": {},
     "output_type": "execute_result"
    }
   ],
   "source": [
    "3**9"
   ]
  },
  {
   "cell_type": "code",
   "execution_count": null,
   "id": "imperial-monaco",
   "metadata": {},
   "outputs": [],
   "source": []
  }
 ],
 "metadata": {
  "kernelspec": {
   "display_name": "Python 3",
   "language": "python",
   "name": "python3"
  },
  "language_info": {
   "codemirror_mode": {
    "name": "ipython",
    "version": 3
   },
   "file_extension": ".py",
   "mimetype": "text/x-python",
   "name": "python",
   "nbconvert_exporter": "python",
   "pygments_lexer": "ipython3",
   "version": "3.8.3"
  }
 },
 "nbformat": 4,
 "nbformat_minor": 5
}

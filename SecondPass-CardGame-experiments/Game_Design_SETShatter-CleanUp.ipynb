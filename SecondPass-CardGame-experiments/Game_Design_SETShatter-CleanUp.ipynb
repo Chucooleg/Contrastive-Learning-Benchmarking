{
 "cells": [
  {
   "cell_type": "code",
   "execution_count": 1,
   "id": "contrary-wells",
   "metadata": {},
   "outputs": [],
   "source": [
    "%load_ext autoreload\n",
    "%autoreload 2\n",
    "\n",
    "from collections import defaultdict, Counter\n",
    "import numpy as np\n",
    "import itertools\n",
    "import copy\n",
    "import matplotlib.pyplot as plt\n",
    "import random\n",
    "import json\n",
    "from dataraw_sampling import *\n",
    "import itertools\n",
    "import operator as op\n",
    "from functools import reduce"
   ]
  },
  {
   "cell_type": "code",
   "execution_count": 109,
   "id": "associate-alarm",
   "metadata": {},
   "outputs": [],
   "source": [
    "def sample_queries(\n",
    "    num_attributes, num_attr_vals, query_length_multiplier, nest_depth_int, multiple_OR_sets_bool, \n",
    "    expression_resolve_fn,\n",
    "    N_train, N_val, N_test,\n",
    "    debug=False):\n",
    "    '''\n",
    "    query_length_multiplier: int. 0 would sample the multiplier from 1 to 5.\n",
    "    '''\n",
    "    \n",
    "    num_keys = num_attr_vals ** num_attributes\n",
    "    \n",
    "    N = N_train + N_val + N_test\n",
    "    key_datapoints = []\n",
    "    tokens = []\n",
    "    gt_idxs = []\n",
    "    \n",
    "    buckets = {}\n",
    "    or_ops = {}\n",
    "    and_ops = {}\n",
    "    depths = {}\n",
    "    input_lens = {}\n",
    "    \n",
    "    bucket_probs = derive_shatter_bucket_probs(num_keys)\n",
    "    cardpair_answer_lookup = construct_cardpair_answer_lookup(num_attributes, num_attr_vals)\n",
    "    base_vocab_size = num_attributes * num_attr_vals\n",
    "    symbol_vocab_token_lookup = {\n",
    "        '(': base_vocab_size,\n",
    "        ')': base_vocab_size + 1,\n",
    "        'NULL': base_vocab_size + 2,\n",
    "        'SEP': base_vocab_size + 3,\n",
    "        'SOS': base_vocab_size + 4,\n",
    "        'EOS': base_vocab_size + 5,\n",
    "        'PAD': base_vocab_size + 6,\n",
    "        'PLH': base_vocab_size + 7,\n",
    "        '&': base_vocab_size + 8,\n",
    "        '|': base_vocab_size + 9,\n",
    "    }\n",
    "    \n",
    "    max_len_q = 0\n",
    "    for _ in range(N):\n",
    "        # each query column hit a number of keys\n",
    "        gt_ks_idx, bucket = sample_keys_column(num_attributes, num_attr_vals, bucket_probs)\n",
    "        \n",
    "        # draw one key from this column of keys\n",
    "        k_idx = np.random.choice(gt_ks_idx)\n",
    "        \n",
    "        # determine number of cards in query\n",
    "        num_cards_per_query = (\n",
    "            num_keys * (query_length_multiplier if query_length_multiplier else np.random.choice(a==[1,2,3,4,5]))\n",
    "        )\n",
    "        \n",
    "        # sample a query for this column of keys\n",
    "        q_tokens, num_or_ops, num_and_ops, depth = sample_query_based_on_gt_keys(\n",
    "            num_attributes=num_attributes, \n",
    "            num_attr_vals=num_attr_vals, \n",
    "            num_cards_per_query=num_cards_per_query, \n",
    "            nest_depth_int=nest_depth_int, \n",
    "            gt_keys_idx=gt_ks_idx, \n",
    "            multiple_OR_sets_bool=multiple_OR_sets_bool,\n",
    "            expression_resolve_fn=expression_resolve_fn,\n",
    "            cardpair_answer_lookup=cardpair_answer_lookup,\n",
    "            symbol_vocab_token_lookup=symbol_vocab_token_lookup,\n",
    "            debug=debug\n",
    "        )\n",
    "        \n",
    "        # accumulate datapoints\n",
    "        k_tokens = decode_key_to_vocab_token(num_attributes, num_attr_vals, k_idx) # check type\n",
    "        tokens.append((q_tokens, k_tokens))\n",
    "        key_datapoints.append(k_idx)\n",
    "        gt_idxs.append(gt_ks_idx)\n",
    "        \n",
    "        # stats\n",
    "        max_len_q = max(max_len_q, len(q_tokens))\n",
    "        input_lens[len(q_tokens)] = input_lens.get(len(q_tokens), 0) + 1\n",
    "        buckets[bucket] = buckets.get(bucket, 0) + 1\n",
    "        or_ops[num_or_ops] = or_ops.get(num_or_ops, 0) + 1\n",
    "        and_ops[num_and_ops] = and_ops.get(num_and_ops, 0) + 1\n",
    "        depths[depth] = depths.get(depth, 0) + 1\n",
    "    \n",
    "    data = {\n",
    "        'num_attributes':num_attributes,\n",
    "        'num_attr_vals':num_attr_vals,\n",
    "        'num_cards_per_query': num_cards_per_query,\n",
    "        'nest_depth_int': nest_depth_int,\n",
    "        'key_support_size': num_keys,\n",
    "    \n",
    "        'max_len_q': max_len_q,\n",
    "        'len_k': (1*num_attributes),\n",
    "        \n",
    "        #################################\n",
    "        \n",
    "        'train_key_datapoints': key_datapoints[:N_train],\n",
    "        'val_key_datapoints': key_datapoints[N_train:N_train+N_val],\n",
    "        'test_key_datapoints': key_datapoints[N_train+N_val:],\n",
    "        \n",
    "        'train_gt_idxs': gt_idxs[:N_train],\n",
    "        'val_gt_idxs': gt_idxs[N_train:N_train+N_val],\n",
    "        'test_gt_idxs': gt_idxs[N_train+N_val:],\n",
    "        \n",
    "        'train_tokens': tokens[:N_train],\n",
    "        'val_tokens': tokens[N_train:N_train+N_val],\n",
    "        'test_tokens': tokens[N_train+N_val:],\n",
    "        \n",
    "        #################################\n",
    "\n",
    "        'vocab_size': base_vocab_size + len(symbol_vocab_token_lookup),\n",
    "        '(': symbol_vocab_token_lookup['('],\n",
    "        ')': symbol_vocab_token_lookup[')'],\n",
    "        'NULL': symbol_vocab_token_lookup['NULL'],\n",
    "        'SEP': symbol_vocab_token_lookup['SEP'],\n",
    "        'SOS': symbol_vocab_token_lookup['SOS'],\n",
    "        'EOS': symbol_vocab_token_lookup['EOS'],\n",
    "        'PAD': symbol_vocab_token_lookup['PAD'],\n",
    "        'PLH': symbol_vocab_token_lookup['PLH'],\n",
    "        '&': symbol_vocab_token_lookup['&'],\n",
    "        '|': symbol_vocab_token_lookup['|'],\n",
    "        \n",
    "        #################################\n",
    "        \n",
    "        'stats':{\n",
    "            'bucket_counts': buckets,\n",
    "            'or_op_counts': or_ops,\n",
    "            'and_op_counts': and_ops,\n",
    "            'depth_counts': depths,\n",
    "            'input_lens': input_lens,\n",
    "        }\n",
    "    }\n",
    "\n",
    "    return data"
   ]
  },
  {
   "cell_type": "code",
   "execution_count": null,
   "id": "adopted-internet",
   "metadata": {},
   "outputs": [],
   "source": [
    "data['val_gt_idxs']"
   ]
  },
  {
   "cell_type": "code",
   "execution_count": null,
   "id": "secure-merit",
   "metadata": {},
   "outputs": [],
   "source": []
  },
  {
   "cell_type": "code",
   "execution_count": 112,
   "id": "angry-potential",
   "metadata": {},
   "outputs": [],
   "source": [
    "# in .py\n",
    "\n",
    "def sample_query_based_on_gt_keys(\n",
    "    num_attributes, num_attr_vals, num_cards_per_query, nest_depth_int, gt_keys_idx, \n",
    "    multiple_OR_sets_bool, expression_resolve_fn, cardpair_answer_lookup, symbol_vocab_token_lookup, validate=False, debug=False):\n",
    "    \n",
    "    if debug: \n",
    "        print('\\ngt_keys_idx', gt_keys_idx)\n",
    "        print('\\ngt key properties', [decode_key_idx(num_attributes, num_attr_vals, k_idx) for k_idx in gt_keys_idx])\n",
    "    \n",
    "    num_cards = num_attr_vals ** num_attributes\n",
    "    \n",
    "    # number of OR sets to be inserted\n",
    "    if multiple_OR_sets_bool:\n",
    "        num_OR_sets_in_query = np.random.choice(a=np.arange(1, (num_cards_per_query//len(gt_keys_idx))+1))\n",
    "        num_OR_cards = num_OR_sets_in_query * len(gt_keys_idx)\n",
    "    else:\n",
    "        num_OR_sets_in_query = 1\n",
    "        num_OR_cards = len(gt_keys_idx)\n",
    "    \n",
    "    # initial slots\n",
    "    num_and_slots = num_cards_per_query - num_OR_cards + num_OR_sets_in_query\n",
    "    initial_card_indices = np.random.choice(\n",
    "        a=num_cards, size=num_and_slots\n",
    "    )\n",
    "    # which positions to insert OR sets\n",
    "    OR_positions = np.random.choice(a=initial_card_indices.shape[0], size=num_OR_sets_in_query, replace=False)\n",
    "    DERIVE_position = np.random.choice(a=OR_positions)\n",
    "    \n",
    "    # fill in OR slots, if there's more than 1\n",
    "    flat_card_indices = [\n",
    "        sample_OR_cards(num_cards, gt_keys_idx, i, DERIVE_position) \n",
    "        if (i in OR_positions) else int(cidx)\n",
    "        for i, cidx in enumerate(initial_card_indices)\n",
    "    ]\n",
    "    if debug: \n",
    "        print('\\nflat_card_indices', flat_card_indices)\n",
    "    \n",
    "    # nest the query\n",
    "    query_eval_expression, query_input_expression, depth, has_part_to_be_derived, derive_positions_stack = \\\n",
    "        nest_flat_query_parts(\n",
    "            num_attributes=num_attributes, \n",
    "            num_attr_vals=num_attr_vals,\n",
    "            flat_parts=flat_card_indices, \n",
    "            depth=0, \n",
    "            max_depth=nest_depth_int,\n",
    "            expression_resolve_fn=expression_resolve_fn, # not used\n",
    "            cardpair_answer_lookup=cardpair_answer_lookup, # not used\n",
    "        )\n",
    "    if debug: \n",
    "        print('\\nquery_eval_expression', query_eval_expression)\n",
    "        print('\\nquery_input_expression', query_input_expression)\n",
    "    \n",
    "    # get 'DERIVE'\n",
    "    DERIVE = derive_missing_query_part(\n",
    "        num_attributes=num_attributes, \n",
    "        num_attr_vals=num_attr_vals,\n",
    "        lhs_expression=query_eval_expression,\n",
    "        derive_positions_stack=derive_positions_stack.copy(), # remove copy() when validated\n",
    "        rhs=(['OR'] + gt_keys_idx) if (len(gt_keys_idx) > 1) else gt_keys_idx[0],\n",
    "        expression_resolve_fn=expression_resolve_fn,\n",
    "        cardpair_answer_lookup=cardpair_answer_lookup,\n",
    "        debug=debug)\n",
    "    \n",
    "    if isinstance(query_input_expression, str):\n",
    "        query_input_expression = [query_input_expression]\n",
    "        query_eval_expression = ['AND', query_eval_expression]\n",
    "        derive_positions_stack = [1]\n",
    "       \n",
    "    if debug: \n",
    "        print('\\nquery_eval_expression', query_eval_expression)\n",
    "        print('\\nquery_input_expression', query_input_expression)\n",
    "    \n",
    "    # substitude 'DERIVE' answer into input expression\n",
    "    query_input_expression = substitude_DERIVE_into_input_expression(DERIVE, query_input_expression)\n",
    "    if debug: \n",
    "        print('\\nDERIVE',DERIVE)\n",
    "        print('\\nsubstituted query_input_expression', ''.join([str(i) for i in query_input_expression]))\n",
    "        print('------------------------------------')\n",
    "    \n",
    "    ############################################################\n",
    "    if validate:\n",
    "        \n",
    "        # NOTE: validate, can remove to speedup\n",
    "        # validate complete query indeed eval back to gt keys\n",
    "        eval_expression_substituted = query_eval_expression.copy()\n",
    "        derive_positions_stack_c = derive_positions_stack.copy()\n",
    "        if len(derive_positions_stack_c) == 1:\n",
    "            query_eval_expression[derive_positions_stack_c.pop()] = DERIVE\n",
    "        else:\n",
    "            while len(derive_positions_stack_c) > 1:\n",
    "                pop_idx = derive_positions_stack_c.pop()\n",
    "                eval_expression_substituted = eval_expression_substituted[pop_idx]\n",
    "            eval_expression_substituted[derive_positions_stack_c.pop()] = DERIVE\n",
    "        resolved_keys_idx = resolve_eval_expression(\n",
    "                num_attributes, num_attr_vals, query_eval_expression, resolve_idx_fn, cardpair_answer_lookup)\n",
    "        if isinstance(resolved_keys_idx, int):\n",
    "            assert gt_keys_idx == [resolved_keys_idx]\n",
    "        else:\n",
    "            assert gt_keys_idx == resolved_keys_idx[1:]\n",
    "\n",
    "\n",
    "        # NOTE: validate, can remove to speedup\n",
    "        # convert input expression from card indices to card properties\n",
    "        eval_expression_properties = convert_eval_expression_to_properties(\n",
    "            num_attributes, num_attr_vals,\n",
    "            query_eval_expression)\n",
    "        if debug: \n",
    "            print('\\neval_expression_properties', eval_expression_properties)\n",
    "        resolved_keys_props = resolve_eval_expression(\n",
    "                num_attributes, num_attr_vals, eval_expression_properties, resolve_prop_fn, cardpair_answer_lookup)\n",
    "        if isinstance(resolved_keys_props, np.ndarray):\n",
    "            resolved_keys_idx = [encode_key_idx(num_attributes, num_attr_vals, resolved_keys_props)]\n",
    "        else:\n",
    "            resolved_keys_idx = [encode_key_idx(num_attributes, num_attr_vals, k_prop) for k_prop in resolved_keys_props[1:]]\n",
    "        assert gt_keys_idx == resolved_keys_idx\n",
    "\n",
    "\n",
    "    ############################################################\n",
    "    \n",
    "    # convert input expression from card indices to vocab tokens\n",
    "    query_for_input_vocab_tokens = convert_input_expression_to_vocab_tokens(\n",
    "        num_attributes, num_attr_vals,\n",
    "        query_input_expression, symbol_vocab_token_lookup)\n",
    "    if debug: \n",
    "        print('\\nquery_for_input_vocab_tokens', query_for_input_vocab_tokens)\n",
    "    \n",
    "    num_or_ops = num_OR_cards - num_OR_sets_in_query\n",
    "    num_and_ops = num_and_slots - 1\n",
    "        \n",
    "    return query_for_input_vocab_tokens, num_or_ops, num_and_ops, depth"
   ]
  },
  {
   "cell_type": "code",
   "execution_count": 4,
   "id": "excellent-breast",
   "metadata": {},
   "outputs": [],
   "source": [
    "# in .py\n",
    "def convert_eval_expression_to_properties(num_attributes, num_attr_vals, eval_expression_substituted):\n",
    "    eval_expression_properties = []\n",
    "    for part in eval_expression_substituted:\n",
    "        if isinstance(part, str):\n",
    "            eval_expression_properties.append(part)\n",
    "        elif isinstance(part, int):\n",
    "            eval_expression_properties.append(decode_key_idx(num_attributes, num_attr_vals, part))\n",
    "        else:\n",
    "            assert isinstance(part, list)\n",
    "            substituted_part = convert_eval_expression_to_properties(\n",
    "                num_attributes, num_attr_vals, part)\n",
    "            eval_expression_properties.append(substituted_part)\n",
    "    return eval_expression_properties"
   ]
  },
  {
   "cell_type": "code",
   "execution_count": 5,
   "id": "boring-value",
   "metadata": {},
   "outputs": [],
   "source": [
    "# in .py\n",
    "\n",
    "def substitude_DERIVE_into_input_expression(DERIVE, query_input_expression):\n",
    "\n",
    "    derive_pos = query_input_expression.index('DERIVE')\n",
    "    if isinstance(DERIVE, list):\n",
    "        assert DERIVE[0] == 'OR'\n",
    "        DERIVE_input_expression = ['('] + weave([p for p in DERIVE[1:]], '|') + [')']\n",
    "        try:\n",
    "            query_input_expression = (\n",
    "                query_input_expression[:derive_pos] + DERIVE_input_expression + query_input_expression[derive_pos+1:]\n",
    "            )\n",
    "        except:\n",
    "            breakpoint()\n",
    "    else:\n",
    "        assert isinstance(DERIVE, int)\n",
    "        query_input_expression[derive_pos] = DERIVE\n",
    "    return query_input_expression"
   ]
  },
  {
   "cell_type": "code",
   "execution_count": 23,
   "id": "weekly-conditions",
   "metadata": {},
   "outputs": [],
   "source": [
    "# in .py\n",
    "def convert_input_expression_to_vocab_tokens(num_attributes, num_attr_vals, query_input_expression, symbol_vocab_token_lookup):\n",
    "    final_expression = []\n",
    "    for sym in query_input_expression:\n",
    "        if isinstance(sym, int):\n",
    "            token_list = decode_key_to_vocab_token(num_attributes, num_attr_vals, sym)\n",
    "            final_expression += token_list\n",
    "        else:\n",
    "            assert isinstance(sym, str)\n",
    "            final_expression.append(symbol_vocab_token_lookup[sym])\n",
    "    \n",
    "    return final_expression"
   ]
  },
  {
   "cell_type": "code",
   "execution_count": 7,
   "id": "fifty-delivery",
   "metadata": {},
   "outputs": [],
   "source": [
    "# in .py\n",
    "\n",
    "def resolve_eval_expression(num_attributes, num_attr_vals, eval_expression, resolve_fn, cardpair_answer_lookup=None):\n",
    "    '''\n",
    "    eval_expression: a list of lists. \n",
    "    \n",
    "    Use apppropriate cardpair_resolve_fn and cardpair_answer_lookup if the cards are represented by their integer indices\n",
    "    e.g. ['AND', int, int, int]\n",
    "    e.g. ['AND', ['OR', int, int], ['AND', int, int], int]\n",
    "    \n",
    "    Use apppropriate cardpair_resolve_fn if the cards are represented by their property arrays\n",
    "    e.g. ['AND', array([0, 1, 2, 0]), array([0, 0, 1, 0]), array([0, 2, 1, 2])]\n",
    "    e.g. ['AND', ['OR', array([0, 1, 0, 2]), array([0, 2, 1, 0])], ['AND', array([2, 2, 0, 2]), array([0, 0, 0, 0])], array([1, 0, 1, 0])]  \n",
    "    \n",
    "    Returns:\n",
    "        int, if the cards are represented by their integer indices\n",
    "        np.ndarray, if the cards are represented by their property arrays\n",
    "    '''\n",
    "    operator = eval_expression[0]\n",
    "    try:\n",
    "        assert operator in ('OR', 'AND')\n",
    "    except:\n",
    "        print('assert operator in (OR, AND)')\n",
    "        breakpoint()\n",
    "    if operator == 'OR':\n",
    "        ans = eval_expression\n",
    "    else:\n",
    "        stack = []\n",
    "        nested_query_stack = eval_expression[1:][::-1]  # remove AND, reverse\n",
    "        while nested_query_stack:\n",
    "            part = nested_query_stack.pop()\n",
    "            if isinstance(part, list):\n",
    "                part = resolve_eval_expression(\n",
    "                    num_attributes, num_attr_vals, part, resolve_fn, cardpair_answer_lookup)\n",
    "            if stack:\n",
    "                last_part = stack.pop()\n",
    "                res = resolve_fn(num_attributes, num_attr_vals, last_part, part, cardpair_answer_lookup)\n",
    "            else:\n",
    "                res = part\n",
    "            stack.append(res)\n",
    "        assert len(stack) == 1\n",
    "        ans = stack.pop()\n",
    "    return ans\n",
    "    \n",
    "\n",
    "def resolve_idx_fn(num_attributes, num_attr_vals, query_part1, query_part2, cardpair_answer_lookup):\n",
    "    if isinstance(query_part1, int) and isinstance(query_part2, int):\n",
    "        # int\n",
    "        return cardpair_answer_lookup[(min(query_part1, query_part2), max(query_part1, query_part2))]\n",
    "    \n",
    "    elif isinstance(query_part1, list) and isinstance(query_part2, int):\n",
    "        assert query_part1[0] == 'OR'\n",
    "        # list\n",
    "        return ['OR'] + [cardpair_answer_lookup[(min(i, j), max(i, j))] \n",
    "                         for i, j in zip(query_part1[1:], [query_part2]*(len(query_part1)-1))]\n",
    "    \n",
    "    elif isinstance(query_part1, int) and isinstance(query_part2, list):\n",
    "        assert query_part2[0] == 'OR'\n",
    "        # list\n",
    "        return ['OR'] + [cardpair_answer_lookup[(min(i, j), max(i, j))] \n",
    "                         for i, j in zip([query_part1]*(len(query_part2)-1), query_part2[1:])]\n",
    "    \n",
    "    else:\n",
    "        try:\n",
    "            assert len(query_part1) == len(query_part2)\n",
    "        except:\n",
    "            breakpoint()\n",
    "        \n",
    "        # list\n",
    "        return ['OR'] + [cardpair_answer_lookup[(min(i, j), max(i, j))] for i, j in zip(query_part1[1:], query_part2[1:])]"
   ]
  },
  {
   "cell_type": "code",
   "execution_count": 8,
   "id": "latter-constitution",
   "metadata": {},
   "outputs": [],
   "source": [
    "# in .py\n",
    "\n",
    "def SET_cardpair_resolve_fn(card1, card2):\n",
    "    '''\n",
    "    card1, card2: property lists or ndarrays.\n",
    "    '''\n",
    "    assert card1.shape == card2.shape\n",
    "    return np.array([SET_derive_property(card1[i], card2[i]) for i in range(len(card1))])\n",
    "\n",
    "\n",
    "def resolve_prop_fn(num_attributes, num_attr_vals, query_part1, query_part2, cardpair_answer_lookup):\n",
    "    '''\n",
    "    part1, part2: either property list/ndarray e.g. array([0, 0, 0, 0]), \n",
    "                  or list in format ['OR', array([0, 0, 0, 0]), array([0, 0, 0, 0]), ...]\n",
    "    '''\n",
    "    if isinstance(query_part1, np.ndarray) and isinstance(query_part2, np.ndarray):\n",
    "        key_properties = SET_cardpair_resolve_fn(query_part1, query_part2)\n",
    "        return key_properties # nd.array\n",
    "    \n",
    "    elif isinstance(query_part1, list) and isinstance(query_part2, np.ndarray):\n",
    "        assert query_part1[0] == 'OR'\n",
    "        # list\n",
    "        return ['OR'] + [SET_cardpair_resolve_fn(i_props, j_props) \n",
    "                         for i_props, j_props in zip(query_part1[1:], [query_part2]*(len(query_part1)-1))]\n",
    "    \n",
    "    elif isinstance(query_part1, np.ndarray) and isinstance(query_part2, list):\n",
    "        assert query_part2[0] == 'OR'\n",
    "        # list\n",
    "        return ['OR'] + [SET_cardpair_resolve_fn(i_props, j_props) \n",
    "                         for i_props, j_props in zip([query_part1]*(len(query_part2)-1), query_part2[1:])]\n",
    "    else:\n",
    "        try:\n",
    "            assert len(query_part1) == len(query_part2)\n",
    "        except:\n",
    "            breakpoint()\n",
    "        # list     \n",
    "        return ['OR'] + [SET_cardpair_resolve_fn(i_props, j_props) for i_props, j_props in zip(query_part1[1:], query_part2[1:])]\n"
   ]
  },
  {
   "cell_type": "code",
   "execution_count": 9,
   "id": "narrative-former",
   "metadata": {},
   "outputs": [],
   "source": [
    "# in .py\n",
    "\n",
    "def derive_missing_query_part(\n",
    "    num_attributes, num_attr_vals, lhs_expression,\n",
    "    derive_positions_stack, rhs, expression_resolve_fn, cardpair_answer_lookup, debug=False):\n",
    "    \n",
    "    if lhs_expression == 'DERIVE':\n",
    "        return rhs\n",
    "    \n",
    "    if debug:\n",
    "        print('lhs_expression', lhs_expression)\n",
    "    assert lhs_expression[0] in ('OR', 'AND')\n",
    "    \n",
    "    if lhs_expression[0] == 'OR':\n",
    "        return lhs\n",
    "    else:\n",
    "        derive_pos = derive_positions_stack.pop()\n",
    "        left_of_derive = lhs_expression[:derive_pos] # include 'AND' at the front\n",
    "        right_of_derive = lhs_expression[derive_pos+1:]\n",
    "        \n",
    "        if right_of_derive:\n",
    "            if debug: \n",
    "                print('right_of_derive:', right_of_derive)\n",
    "            rhs = expression_resolve_fn(\n",
    "                num_attributes=num_attributes, \n",
    "                num_attr_vals=num_attr_vals, \n",
    "                eval_expression= ['AND', rhs] + right_of_derive[::-1],\n",
    "                resolve_fn=resolve_idx_fn,\n",
    "                cardpair_answer_lookup=cardpair_answer_lookup\n",
    "            )\n",
    "\n",
    "            if debug: \n",
    "                print('rhs after solving right_of_derive:', rhs)\n",
    "        \n",
    "        if len(left_of_derive) > 1:\n",
    "            if debug: \n",
    "                print('left_of_derive:', left_of_derive)\n",
    "            left_evaluated = expression_resolve_fn(\n",
    "                num_attributes=num_attributes, \n",
    "                num_attr_vals=num_attr_vals, \n",
    "                eval_expression=left_of_derive,\n",
    "                resolve_fn=resolve_idx_fn,\n",
    "                cardpair_answer_lookup=cardpair_answer_lookup\n",
    "            )\n",
    "            if debug: \n",
    "                print('left_evaluated:', left_evaluated)\n",
    "            \n",
    "            rhs = expression_resolve_fn(\n",
    "                num_attributes=num_attributes, \n",
    "                num_attr_vals=num_attr_vals, \n",
    "                eval_expression= ['AND', rhs, left_evaluated],\n",
    "                resolve_fn=resolve_idx_fn,\n",
    "                cardpair_answer_lookup=cardpair_answer_lookup\n",
    "            ) \n",
    "            if debug: \n",
    "                print('rhs after solving rhs with left_of_derive:', rhs)\n",
    "                \n",
    "        # should have one lhs expression and one rhs term now\n",
    "        return derive_missing_query_part(\n",
    "            num_attributes=num_attributes, \n",
    "            num_attr_vals=num_attr_vals,\n",
    "            lhs_expression=lhs_expression[derive_pos],\n",
    "            derive_positions_stack=derive_positions_stack,\n",
    "            rhs=rhs,\n",
    "            expression_resolve_fn=expression_resolve_fn,\n",
    "            cardpair_answer_lookup=cardpair_answer_lookup,\n",
    "            debug=debug)"
   ]
  },
  {
   "cell_type": "code",
   "execution_count": 10,
   "id": "comfortable-pearl",
   "metadata": {},
   "outputs": [],
   "source": [
    "# in .py\n",
    "\n",
    "weave = lambda values, sym: list(itertools.chain.from_iterable(zip(values, [sym] * len(values))))[:-1]\n",
    "\n",
    "def nest_flat_query_parts(\n",
    "    num_attributes, num_attr_vals, flat_parts, depth, max_depth, expression_resolve_fn, cardpair_answer_lookup):\n",
    "    depth += 1\n",
    "    \n",
    "    # base case\n",
    "    if len(flat_parts) == 1:\n",
    "        depth -= 1\n",
    "        \n",
    "        if flat_parts[0] == 'DERIVE':\n",
    "            input_expression = flat_parts[0]\n",
    "            has_derive = True\n",
    "            pos_derive = []\n",
    "        elif isinstance(flat_parts[0], list):\n",
    "            assert flat_parts[0][0] == 'OR'\n",
    "            input_expression = ['('] + weave([p for p in flat_parts[0][1:]], '|') + [')']\n",
    "            has_derive = False\n",
    "            pos_derive = []\n",
    "        else:\n",
    "            input_expression = flat_parts[0]\n",
    "            has_derive = False\n",
    "            pos_derive = []\n",
    "            \n",
    "        eval_expression = flat_parts[0]\n",
    "        # simplified_eval_expression = eval_expression\n",
    "        \n",
    "    # base case    \n",
    "    elif len(flat_parts) == 2 or depth == max_depth:\n",
    "        eval_expression = ['AND'] + flat_parts\n",
    "        # simplified_eval_expression = eval_expression\n",
    "        \n",
    "        input_expression = ['(']\n",
    "        for part in flat_parts:\n",
    "            if isinstance(part, list):\n",
    "                assert part[0] == 'OR'\n",
    "                OR_part = ['('] + weave([p for p in part[1:]], '|') + [')']\n",
    "                input_expression = input_expression + OR_part + ['&']\n",
    "            else:\n",
    "                input_expression = input_expression + [part] + ['&']\n",
    "        input_expression[-1] = ')'\n",
    "        \n",
    "        if 'DERIVE' in flat_parts:\n",
    "            has_derive = True\n",
    "            pos_derive = [flat_parts.index('DERIVE')+1]\n",
    "        else:\n",
    "            has_derive = False\n",
    "            pos_derive = []\n",
    "        \n",
    "    # recursive case\n",
    "    else:\n",
    "        mid_idx = len(flat_parts) // 2\n",
    "        \n",
    "        L_e, L_i, _, L_has_derive, L_pos_derive = \\\n",
    "            nest_flat_query_parts(\n",
    "                num_attributes, num_attr_vals,\n",
    "                flat_parts[:mid_idx], depth, max_depth, expression_resolve_fn,\n",
    "                cardpair_answer_lookup\n",
    "        )\n",
    "        \n",
    "        R_e, R_i, depth, R_has_derive, R_pos_derive = \\\n",
    "            nest_flat_query_parts(\n",
    "                num_attributes, num_attr_vals,\n",
    "                flat_parts[mid_idx:], depth, max_depth, expression_resolve_fn,\n",
    "                cardpair_answer_lookup\n",
    "        )        \n",
    "        \n",
    "        eval_expression = ['AND', L_e, R_e]\n",
    "        input_expression = (\n",
    "            ['('] + (L_i if isinstance(L_i, list) else [L_i]) + ['&'] + \\\n",
    "            (R_i if isinstance(R_i, list) else [R_i]) + [')']\n",
    "        )\n",
    "        has_derive = L_has_derive or R_has_derive\n",
    "        \n",
    "        if not has_derive:\n",
    "            # print('simplifying:', ['AND', L_simplified_e, R_simplified_e])\n",
    "            # simplified_eval_expression = expression_resolve_fn(\n",
    "                # num_attributes, num_attr_vals, ['AND', L_simplified_e, R_simplified_e], resolve_idx_fn, cardpair_answer_lookup)\n",
    "            pos_derive = []\n",
    "        else:\n",
    "            # simplified_eval_expression = ['AND', L_simplified_e, R_simplified_e]\n",
    "            assert not (L_has_derive and R_has_derive)\n",
    "            if L_has_derive:\n",
    "                if L_pos_derive == []: assert L_e == 'DERIVE'\n",
    "                L_pos_derive.append(1)\n",
    "                pos_derive = L_pos_derive\n",
    "            else:\n",
    "                if R_pos_derive == []: assert R_e == 'DERIVE'\n",
    "                R_pos_derive.append(2)\n",
    "                pos_derive = R_pos_derive\n",
    "    \n",
    "    return eval_expression, input_expression, depth, has_derive, pos_derive"
   ]
  },
  {
   "cell_type": "code",
   "execution_count": 116,
   "id": "enormous-consensus",
   "metadata": {},
   "outputs": [],
   "source": [
    "# in .py \n",
    "\n",
    "def eval_cardpair_by_idx(num_attributes, num_attr_vals, querycard1_idx, querycard2_idx, debug=False):\n",
    "    qc1_properties = decode_key_idx(num_attributes, num_attr_vals, querycard1_idx)\n",
    "    qc2_properties = decode_key_idx(num_attributes, num_attr_vals, querycard2_idx)\n",
    "    if debug: print(qc1_properties, ' | ', qc2_properties)\n",
    "    key_properties = SET_resolve_fn(qc1_properties, qc2_properties)\n",
    "    key_idx = encode_key_idx(num_attributes, num_attr_vals, key_properties)\n",
    "    return key_idx, key_properties\n",
    "\n",
    "def construct_cardpair_answer_lookup(num_attributes, num_attr_vals, debug=False):\n",
    "    num_cards = num_attr_vals**num_attributes\n",
    "    lookup = {}\n",
    "    for card1, card2 in itertools.combinations(list(range(num_cards)), 2):\n",
    "        card1_properties = decode_key_idx(num_attributes, num_attr_vals, card1)\n",
    "        card2_properties = decode_key_idx(num_attributes, num_attr_vals, card2)\n",
    "        card3, card3_properties = eval_cardpair_by_idx(num_attributes, num_attr_vals, card1, card2, debug=debug)\n",
    "        if debug: print (card1_properties, card2_properties, card3_properties, card1, card2, card3)\n",
    "        lookup[(card1, card2)] = card3\n",
    "    for card in range(num_cards):\n",
    "        lookup[(card, card)] = card\n",
    "    return lookup"
   ]
  },
  {
   "cell_type": "code",
   "execution_count": 119,
   "id": "split-attempt",
   "metadata": {},
   "outputs": [
    {
     "name": "stdout",
     "output_type": "stream",
     "text": [
      "5.284226655960083\n"
     ]
    }
   ],
   "source": [
    "start_time = time.time()\n",
    "\n",
    "construct_cardpair_answer_lookup(num_attributes=6, num_attr_vals=3, debug=False)\n",
    "\n",
    "end_time = time.time()\n",
    "\n",
    "print(end_time - start_time)"
   ]
  },
  {
   "cell_type": "code",
   "execution_count": 12,
   "id": "frank-swiss",
   "metadata": {},
   "outputs": [],
   "source": [
    "# in .py\n",
    "\n",
    "def sample_OR_cards(num_cards, gt_keys_idx, pos_in_query, DERIVE_pos):\n",
    "    if pos_in_query == DERIVE_pos:\n",
    "        return 'DERIVE'\n",
    "    else:\n",
    "        cards_in_OR_set = np.random.choice(a=num_cards, size=len(gt_keys_idx), replace=False).tolist()\n",
    "        return ['OR'] + cards_in_OR_set"
   ]
  },
  {
   "cell_type": "code",
   "execution_count": 13,
   "id": "crazy-seafood",
   "metadata": {},
   "outputs": [],
   "source": [
    "# in .py\n",
    "\n",
    "def sample_keys_column(num_attributes, num_attr_vals, bucket_probs):\n",
    "    sampled_bucket = sample_shattering_bucket(num_attributes, num_attr_vals, bucket_probs)\n",
    "    sampled_bucket_cards = sample_subset_in_bucket(num_attributes, num_attr_vals, sampled_bucket)\n",
    "    # list, int\n",
    "    return sampled_bucket_cards, sampled_bucket\n",
    "\n",
    "def sample_subset_in_bucket(num_attributes, num_attr_vals, sampled_bucket):\n",
    "    sampled_bucket_cards = np.random.choice(\n",
    "        a=num_attr_vals ** num_attributes, size=sampled_bucket, replace=False)\n",
    "    # np.ndarray\n",
    "    return sampled_bucket_cards.tolist() # .astype(np.int32)\n",
    "    \n",
    "def sample_shattering_bucket(num_attributes, num_attr_vals, bucket_probs):\n",
    "    sampled_bucket = np.random.choice(a=np.arange(1, (num_attr_vals ** num_attributes + 1)), p=bucket_probs)\n",
    "    # int\n",
    "    return sampled_bucket"
   ]
  },
  {
   "cell_type": "code",
   "execution_count": 14,
   "id": "norwegian-munich",
   "metadata": {},
   "outputs": [],
   "source": [
    "# in .py\n",
    "\n",
    "def derive_shatter_bucket_probs(num_cards):\n",
    "    # (81 choose 1)*1, (81 choose 2)*2, .... (81 choose 81)*81\n",
    "    num_datapoints_by_bucket = np.array([ncr(num_cards, subset_size) for subset_size in range(1, num_cards+1)])\n",
    "    bucket_probs = num_datapoints_by_bucket / np.sum(num_datapoints_by_bucket)\n",
    "    return bucket_probs.astype(float)\n",
    "\n",
    "def ncr(n, r):\n",
    "    r = min(r, n-r)\n",
    "    numer = reduce(op.mul, range(n, n-r, -1), 1)\n",
    "    denom = reduce(op.mul, range(1, r+1), 1)\n",
    "    return numer // denom"
   ]
  },
  {
   "cell_type": "code",
   "execution_count": 111,
   "id": "efficient-expert",
   "metadata": {},
   "outputs": [
    {
     "name": "stdout",
     "output_type": "stream",
     "text": [
      "Time in seconds: 26.20055389404297\n"
     ]
    }
   ],
   "source": [
    "# TODO test a few more configurations and look at stats\n",
    "import time\n",
    "\n",
    "start_time = time.time()\n",
    "data = sample_queries(\n",
    "    num_attributes=6, num_attr_vals=3, query_length_multiplier=2, nest_depth_int=4, multiple_OR_sets_bool=True, \n",
    "    expression_resolve_fn=resolve_eval_expression,\n",
    "    N_train=800, N_val=100, N_test=100,\n",
    "    debug=False)\n",
    "\n",
    "end_time = time.time()\n",
    "\n",
    "print('Time in seconds:', end_time - start_time)"
   ]
  },
  {
   "cell_type": "code",
   "execution_count": null,
   "id": "dedicated-draft",
   "metadata": {},
   "outputs": [],
   "source": [
    "        num_OR_sets_in_query = np.random.choice(a=np.arange(1, (num_cards_per_query//len(gt_keys_idx))+1))\n",
    "        num_OR_cards = num_OR_sets_in_query * len(gt_keys_idx)\n",
    "len(gt_keys_idx)"
   ]
  },
  {
   "cell_type": "code",
   "execution_count": 100,
   "id": "bronze-timber",
   "metadata": {},
   "outputs": [
    {
     "data": {
      "text/plain": [
       "dict_keys(['bucket_counts', 'or_op_counts', 'and_op_counts', 'depth_counts', 'input_lens'])"
      ]
     },
     "execution_count": 100,
     "metadata": {},
     "output_type": "execute_result"
    }
   ],
   "source": [
    "data['stats'].keys()"
   ]
  },
  {
   "cell_type": "code",
   "execution_count": 101,
   "id": "impressed-trace",
   "metadata": {},
   "outputs": [
    {
     "data": {
      "text/plain": [
       "(array([1., 0., 0., 0., 0., 1., 0., 0., 1., 1., 1., 0., 0., 0., 0., 1., 1.,\n",
       "        1., 1., 0., 1., 1., 1., 1., 1., 1., 0., 1., 1., 1., 1., 1., 1., 0.,\n",
       "        1., 1., 1., 1., 1., 0., 1., 1., 1., 1., 1., 1., 0., 1., 1., 1., 1.,\n",
       "        1., 1., 0., 1., 1., 1., 1., 1., 0., 1., 1., 1., 1., 1., 1., 0., 1.,\n",
       "        1., 1., 1., 1., 1., 0., 1., 1., 1., 1., 1., 0., 1., 1., 1., 1., 1.,\n",
       "        1., 0., 1., 1., 1., 1., 1., 0., 0., 0., 1., 0., 0., 1., 1.]),\n",
       " array([317.  , 317.85, 318.7 , 319.55, 320.4 , 321.25, 322.1 , 322.95,\n",
       "        323.8 , 324.65, 325.5 , 326.35, 327.2 , 328.05, 328.9 , 329.75,\n",
       "        330.6 , 331.45, 332.3 , 333.15, 334.  , 334.85, 335.7 , 336.55,\n",
       "        337.4 , 338.25, 339.1 , 339.95, 340.8 , 341.65, 342.5 , 343.35,\n",
       "        344.2 , 345.05, 345.9 , 346.75, 347.6 , 348.45, 349.3 , 350.15,\n",
       "        351.  , 351.85, 352.7 , 353.55, 354.4 , 355.25, 356.1 , 356.95,\n",
       "        357.8 , 358.65, 359.5 , 360.35, 361.2 , 362.05, 362.9 , 363.75,\n",
       "        364.6 , 365.45, 366.3 , 367.15, 368.  , 368.85, 369.7 , 370.55,\n",
       "        371.4 , 372.25, 373.1 , 373.95, 374.8 , 375.65, 376.5 , 377.35,\n",
       "        378.2 , 379.05, 379.9 , 380.75, 381.6 , 382.45, 383.3 , 384.15,\n",
       "        385.  , 385.85, 386.7 , 387.55, 388.4 , 389.25, 390.1 , 390.95,\n",
       "        391.8 , 392.65, 393.5 , 394.35, 395.2 , 396.05, 396.9 , 397.75,\n",
       "        398.6 , 399.45, 400.3 , 401.15, 402.  ]),\n",
       " <BarContainer object of 100 artists>)"
      ]
     },
     "execution_count": 101,
     "metadata": {},
     "output_type": "execute_result"
    },
    {
     "data": {
      "image/png": "[encoded data removed]",
      "text/plain": [
       "<Figure size 432x288 with 1 Axes>"
      ]
     },
     "metadata": {
      "needs_background": "light"
     },
     "output_type": "display_data"
    }
   ],
   "source": [
    "plt.hist(data['stats']['bucket_counts'], bins=100)"
   ]
  },
  {
   "cell_type": "code",
   "execution_count": 102,
   "id": "revolutionary-heavy",
   "metadata": {},
   "outputs": [
    {
     "data": {
      "text/plain": [
       "(array([1., 0., 0., 0., 0., 0., 0., 0., 0., 0., 0., 0., 0., 0., 0., 0., 0.,\n",
       "        0., 0., 0., 0., 0., 0., 0., 0., 0., 0., 0., 0., 0., 0., 0., 0., 0.,\n",
       "        0., 0., 0., 0., 0., 0., 0., 0., 0., 0., 0., 0., 0., 0., 0., 0., 0.,\n",
       "        0., 0., 0., 0., 0., 0., 0., 0., 0., 0., 0., 0., 0., 0., 0., 0., 0.,\n",
       "        0., 0., 0., 0., 0., 0., 0., 0., 0., 0., 0., 0., 0., 0., 0., 0., 0.,\n",
       "        0., 0., 0., 0., 0., 0., 0., 0., 0., 0., 0., 0., 0., 0., 1.]),\n",
       " array([3.  , 3.01, 3.02, 3.03, 3.04, 3.05, 3.06, 3.07, 3.08, 3.09, 3.1 ,\n",
       "        3.11, 3.12, 3.13, 3.14, 3.15, 3.16, 3.17, 3.18, 3.19, 3.2 , 3.21,\n",
       "        3.22, 3.23, 3.24, 3.25, 3.26, 3.27, 3.28, 3.29, 3.3 , 3.31, 3.32,\n",
       "        3.33, 3.34, 3.35, 3.36, 3.37, 3.38, 3.39, 3.4 , 3.41, 3.42, 3.43,\n",
       "        3.44, 3.45, 3.46, 3.47, 3.48, 3.49, 3.5 , 3.51, 3.52, 3.53, 3.54,\n",
       "        3.55, 3.56, 3.57, 3.58, 3.59, 3.6 , 3.61, 3.62, 3.63, 3.64, 3.65,\n",
       "        3.66, 3.67, 3.68, 3.69, 3.7 , 3.71, 3.72, 3.73, 3.74, 3.75, 3.76,\n",
       "        3.77, 3.78, 3.79, 3.8 , 3.81, 3.82, 3.83, 3.84, 3.85, 3.86, 3.87,\n",
       "        3.88, 3.89, 3.9 , 3.91, 3.92, 3.93, 3.94, 3.95, 3.96, 3.97, 3.98,\n",
       "        3.99, 4.  ]),\n",
       " <BarContainer object of 100 artists>)"
      ]
     },
     "execution_count": 102,
     "metadata": {},
     "output_type": "execute_result"
    },
    {
     "data": {
      "image/png": "[encoded data removed]",
      "text/plain": [
       "<Figure size 432x288 with 1 Axes>"
      ]
     },
     "metadata": {
      "needs_background": "light"
     },
     "output_type": "display_data"
    }
   ],
   "source": [
    "plt.hist(data['stats']['depth_counts'], bins=100)"
   ]
  },
  {
   "cell_type": "code",
   "execution_count": 113,
   "id": "failing-trauma",
   "metadata": {
    "scrolled": true
   },
   "outputs": [
    {
     "data": {
      "text/plain": [
       "(array([1., 0., 0., 0., 1., 0., 0., 1., 2., 1., 1., 1., 0., 1., 1., 1., 1.,\n",
       "        1., 1., 1., 1., 1., 1., 1., 2., 1., 1., 1., 1., 1., 1., 1., 2., 1.,\n",
       "        1., 1., 1., 1., 1., 1., 2., 1., 1., 1., 1., 1., 1., 1., 2., 1., 1.,\n",
       "        0., 1., 1., 1., 0., 1., 1., 1., 1., 0., 1., 1., 0., 0., 0., 0., 0.,\n",
       "        0., 0., 0., 0., 0., 0., 0., 0., 0., 0., 0., 0., 0., 0., 0., 0., 0.,\n",
       "        0., 0., 0., 0., 0., 0., 0., 0., 0., 0., 0., 0., 0., 0., 0., 0., 0.,\n",
       "        0., 0., 0., 0., 0., 0., 0., 0., 0., 0., 0., 0., 0., 0., 0., 0., 0.,\n",
       "        0., 0., 0., 0., 0., 0., 0., 0., 0., 0., 0., 0., 0., 0., 0., 0., 0.,\n",
       "        0., 0., 0., 0., 0., 0., 0., 0., 0., 0., 0., 0., 0., 0., 0., 0., 0.,\n",
       "        0., 0., 0., 0., 0., 0., 0., 0., 0., 0., 0., 0., 0., 0., 0., 0., 0.,\n",
       "        0., 0., 0., 0., 0., 0., 0., 0., 0., 0., 0., 0., 0., 0., 0., 0., 0.,\n",
       "        0., 0., 0., 0., 0., 0., 0., 0., 0., 0., 0., 0., 0., 0., 0., 0., 0.,\n",
       "        0., 0., 0., 0., 0., 0., 0., 0., 0., 0., 0., 0., 0., 0., 0., 0., 0.,\n",
       "        0., 0., 0., 0., 0., 0., 0., 0., 0., 0., 0., 0., 0., 0., 0., 0., 0.,\n",
       "        0., 0., 0., 0., 0., 0., 0., 0., 0., 0., 0., 0., 0., 0., 0., 0., 0.,\n",
       "        0., 0., 0., 0., 0., 0., 0., 0., 0., 0., 0., 0., 0., 0., 0., 0., 0.,\n",
       "        0., 0., 0., 0., 0., 0., 0., 0., 0., 0., 0., 0., 0., 0., 0., 0., 0.,\n",
       "        0., 0., 0., 0., 0., 1., 0., 1., 0., 0., 0., 1., 0., 0., 0., 0., 1.,\n",
       "        0., 1., 1., 0., 1., 0., 1., 0., 1., 0., 1., 1., 0., 1., 0., 1., 0.,\n",
       "        1., 0., 1., 1., 0., 1., 0., 1., 0., 1., 1., 0., 1., 0., 1., 0., 1.,\n",
       "        0., 1., 1., 0., 1., 0., 1., 0., 1., 1., 0., 1., 0., 1., 0., 1., 0.,\n",
       "        1., 1., 0., 1., 0., 1., 0., 1., 1., 0., 1., 0., 1., 0., 1., 0., 1.,\n",
       "        1., 0., 1., 0., 1., 0., 1., 0., 1., 1., 0., 1., 0., 1., 0., 1., 1.,\n",
       "        0., 0., 0., 1., 0., 1., 0., 1., 1., 0., 1., 0., 1., 0., 1., 1., 0.,\n",
       "        1., 0., 1., 0., 1., 0., 0., 0., 0., 0., 0., 0., 0., 1., 0., 0., 0.,\n",
       "        0., 0., 0., 0., 0., 0., 0., 0., 0., 0., 0., 0., 0., 0., 0., 0., 0.,\n",
       "        0., 0., 0., 0., 0., 0., 0., 0., 0., 0., 0., 0., 0., 0., 0., 0., 0.,\n",
       "        0., 0., 0., 0., 0., 0., 0., 0., 0., 0., 0., 0., 0., 0., 0., 0., 0.,\n",
       "        0., 0., 0., 0., 0., 0., 0., 0., 0., 0., 0., 0., 0., 0., 0., 0., 0.,\n",
       "        0., 0., 0., 0., 0., 0., 0., 0., 0., 0., 0., 0., 0., 0., 0., 0., 0.,\n",
       "        0., 0., 0., 0., 0., 0., 0., 0., 0., 0., 0., 0., 0., 0., 1., 0., 0.,\n",
       "        0., 0., 0., 0., 0., 0., 0., 0., 0., 0., 0., 0., 0., 0., 0., 0., 0.,\n",
       "        0., 0., 0., 0., 0., 0., 0., 0., 0., 0., 0., 0., 0., 0., 0., 0., 0.,\n",
       "        0., 0., 0., 0., 0., 0., 1., 0., 0., 0., 0., 0., 0., 0., 0., 0., 0.,\n",
       "        0., 0., 0., 0., 0., 0., 0., 0., 0., 0., 1., 0., 0., 1., 0., 0., 0.,\n",
       "        0., 1., 0., 0., 1., 0., 1., 0., 0., 1., 0., 0., 1., 0., 0., 0., 0.,\n",
       "        1., 0., 0., 1., 0., 1., 0., 0., 1., 0., 0., 0., 0., 0., 1., 0., 1.,\n",
       "        0., 0., 1., 0., 0., 1., 0., 1., 0., 0., 1., 0., 0., 1., 0., 1., 0.,\n",
       "        0., 1., 0., 0., 1., 0., 1., 0., 0., 1., 0., 0., 1., 0., 1., 0., 0.,\n",
       "        1., 0., 0., 1., 0., 1., 0., 0., 1., 0., 0., 1., 0., 1., 0., 0., 1.,\n",
       "        0., 0., 1., 0., 1., 0., 0., 1., 0., 0., 1., 0., 1., 0., 0., 1., 0.,\n",
       "        0., 1., 0., 1., 0., 0., 1., 0., 0., 1., 0., 1., 0., 0., 1., 0., 0.,\n",
       "        1., 0., 1., 0., 0., 1., 0., 0., 1., 0., 1., 0., 0., 1., 0., 0., 1.,\n",
       "        0., 1., 0., 0., 1., 0., 0., 1., 0., 1., 0., 0., 1., 0., 0., 1., 0.,\n",
       "        1., 0., 0., 0., 0., 0., 0., 0., 1., 0., 0., 1., 0., 0., 1., 0., 0.,\n",
       "        0., 0., 1., 0., 0., 0., 0., 1., 0., 0., 1., 0., 0., 0., 0., 0., 0.,\n",
       "        0., 0., 0., 0., 0., 0., 0., 0., 0., 0., 0., 0., 0., 0., 0., 0., 0.,\n",
       "        0., 0., 0., 0., 0., 0., 0., 0., 0., 0., 0., 0., 0., 0., 0., 0., 0.,\n",
       "        0., 0., 0., 0., 0., 0., 0., 0., 0., 0., 0., 0., 0., 0., 0., 0., 0.,\n",
       "        0., 0., 0., 0., 0., 0., 0., 0., 0., 0., 0., 0., 0., 0., 0., 0., 0.,\n",
       "        0., 0., 0., 0., 0., 0., 0., 0., 0., 0., 0., 0., 0., 0., 1., 0., 0.,\n",
       "        0., 0., 0., 0., 0., 0., 0., 0., 1., 0., 0., 0., 0., 0., 0., 0., 0.,\n",
       "        0., 0., 0., 0., 0., 1., 0., 0., 0., 0., 0., 0., 1., 0., 0., 0., 0.,\n",
       "        0., 0., 0., 0., 0., 0., 0., 0., 0., 1., 0., 0., 0., 1., 0., 0., 0.,\n",
       "        0., 0., 0., 0., 0., 0., 0., 0., 0., 0., 1., 0., 0., 0., 1., 0., 0.,\n",
       "        1., 0., 0., 0., 1., 0., 0., 0., 1., 0., 0., 1., 0., 0., 0., 1., 0.,\n",
       "        0., 1., 0., 0., 0., 1., 0., 0., 1., 0., 0., 0., 1., 0., 0., 1., 0.,\n",
       "        0., 0., 1., 0., 0., 0., 1., 0., 0., 1., 0., 0., 0., 1., 0., 0., 1.,\n",
       "        0., 0., 0., 1., 0., 0., 1., 0., 0., 0., 1., 0., 0., 1.]),\n",
       " array([ 329.   ,  330.123,  331.246, ..., 1449.754, 1450.877, 1452.   ]),\n",
       " <BarContainer object of 1000 artists>)"
      ]
     },
     "execution_count": 113,
     "metadata": {},
     "output_type": "execute_result"
    },
    {
     "data": {
      "image/png": "[encoded data removed]",
      "text/plain": [
       "<Figure size 432x288 with 1 Axes>"
      ]
     },
     "metadata": {
      "needs_background": "light"
     },
     "output_type": "display_data"
    }
   ],
   "source": [
    "plt.hist(data['stats']['or_op_counts'], bins=1000)"
   ]
  },
  {
   "cell_type": "code",
   "execution_count": 90,
   "id": "close-ordinary",
   "metadata": {
    "scrolled": true
   },
   "outputs": [
    {
     "data": {
      "text/plain": [
       "(array([ 3.,  3.,  3.,  3.,  3.,  1.,  3.,  2.,  2.,  2.,  1.,  2.,  1.,\n",
       "         1.,  0.,  0.,  0.,  0.,  0.,  0.,  0.,  0.,  1.,  1.,  3.,  3.,\n",
       "         3.,  4.,  4.,  4.,  3.,  4.,  4.,  4.,  3.,  4.,  3.,  4.,  3.,\n",
       "         3.,  3.,  1.,  1.,  0.,  1.,  0.,  0.,  0.,  0.,  0.,  0.,  0.,\n",
       "         0.,  0.,  0.,  0.,  0.,  1.,  2.,  3.,  5.,  5.,  6.,  6.,  5.,\n",
       "         6.,  5.,  6.,  4.,  2.,  1.,  2.,  1.,  0.,  0.,  0.,  0.,  0.,\n",
       "         0.,  0.,  0.,  0.,  0.,  0.,  0.,  0.,  0.,  0.,  0.,  0.,  0.,\n",
       "         0.,  0.,  1.,  6., 12., 11., 11., 11.,  9.]),\n",
       " array([   5.  ,   16.22,   27.44,   38.66,   49.88,   61.1 ,   72.32,\n",
       "          83.54,   94.76,  105.98,  117.2 ,  128.42,  139.64,  150.86,\n",
       "         162.08,  173.3 ,  184.52,  195.74,  206.96,  218.18,  229.4 ,\n",
       "         240.62,  251.84,  263.06,  274.28,  285.5 ,  296.72,  307.94,\n",
       "         319.16,  330.38,  341.6 ,  352.82,  364.04,  375.26,  386.48,\n",
       "         397.7 ,  408.92,  420.14,  431.36,  442.58,  453.8 ,  465.02,\n",
       "         476.24,  487.46,  498.68,  509.9 ,  521.12,  532.34,  543.56,\n",
       "         554.78,  566.  ,  577.22,  588.44,  599.66,  610.88,  622.1 ,\n",
       "         633.32,  644.54,  655.76,  666.98,  678.2 ,  689.42,  700.64,\n",
       "         711.86,  723.08,  734.3 ,  745.52,  756.74,  767.96,  779.18,\n",
       "         790.4 ,  801.62,  812.84,  824.06,  835.28,  846.5 ,  857.72,\n",
       "         868.94,  880.16,  891.38,  902.6 ,  913.82,  925.04,  936.26,\n",
       "         947.48,  958.7 ,  969.92,  981.14,  992.36, 1003.58, 1014.8 ,\n",
       "        1026.02, 1037.24, 1048.46, 1059.68, 1070.9 , 1082.12, 1093.34,\n",
       "        1104.56, 1115.78, 1127.  ]),\n",
       " <BarContainer object of 100 artists>)"
      ]
     },
     "execution_count": 90,
     "metadata": {},
     "output_type": "execute_result"
    },
    {
     "data": {
      "image/png": "[encoded data removed]",
      "text/plain": [
       "<Figure size 432x288 with 1 Axes>"
      ]
     },
     "metadata": {
      "needs_background": "light"
     },
     "output_type": "display_data"
    }
   ],
   "source": [
    "plt.hist(data['stats']['and_op_counts'], bins=100)"
   ]
  },
  {
   "cell_type": "code",
   "execution_count": 546,
   "id": "affecting-toyota",
   "metadata": {},
   "outputs": [
    {
     "name": "stdout",
     "output_type": "stream",
     "text": [
      "gt_ks_idx [39, 31, 37, 0, 69, 1, 65, 14, 5, 22, 77, 52, 33, 26, 54, 8, 21, 75, 50, 29, 78, 46, 13, 9, 17, 38, 6, 64, 66, 67]\n",
      "bucket 30\n"
     ]
    }
   ],
   "source": [
    "# testing cell\n",
    "gt_ks_idx = [None] * 100\n",
    "while len(gt_ks_idx) > 30:\n",
    "    num_attributes=4; num_attr_vals=3;\n",
    "    bucket_probs = derive_shatter_bucket_probs(num_attr_vals**num_attributes)\n",
    "    gt_ks_idx, bucket = sample_keys_column(num_attributes, num_attr_vals, bucket_probs)\n",
    "\n",
    "print('gt_ks_idx', gt_ks_idx)\n",
    "print('bucket', bucket)\n",
    "assert len(gt_ks_idx) == bucket"
   ]
  },
  {
   "cell_type": "code",
   "execution_count": 122,
   "id": "earned-cedar",
   "metadata": {
    "scrolled": true
   },
   "outputs": [
    {
     "ename": "TypeError",
     "evalue": "sample_query_based_on_gt_keys() got an unexpected keyword argument 'nest_depth'",
     "output_type": "error",
     "traceback": [
      "\u001b[0;31m---------------------------------------------------------------------------\u001b[0m",
      "\u001b[0;31mTypeError\u001b[0m                                 Traceback (most recent call last)",
      "\u001b[0;32m<ipython-input-122-f17f0c6d14df>\u001b[0m in \u001b[0;36m<module>\u001b[0;34m\u001b[0m\n\u001b[1;32m     39\u001b[0m         \u001b[0mnum_cards_per_query\u001b[0m\u001b[0;34m=\u001b[0m\u001b[0;34m(\u001b[0m\u001b[0mnum_attr_vals\u001b[0m\u001b[0;34m**\u001b[0m\u001b[0mnum_attributes\u001b[0m\u001b[0;34m)\u001b[0m\u001b[0;34m*\u001b[0m\u001b[0mnp\u001b[0m\u001b[0;34m.\u001b[0m\u001b[0mrandom\u001b[0m\u001b[0;34m.\u001b[0m\u001b[0mchoice\u001b[0m\u001b[0;34m(\u001b[0m\u001b[0ma\u001b[0m\u001b[0;34m=\u001b[0m\u001b[0;34m[\u001b[0m\u001b[0;36m1\u001b[0m\u001b[0;34m,\u001b[0m\u001b[0;36m2\u001b[0m\u001b[0;34m,\u001b[0m\u001b[0;36m3\u001b[0m\u001b[0;34m,\u001b[0m\u001b[0;36m4\u001b[0m\u001b[0;34m,\u001b[0m\u001b[0;36m5\u001b[0m\u001b[0;34m]\u001b[0m\u001b[0;34m)\u001b[0m\u001b[0;34m\u001b[0m\u001b[0;34m\u001b[0m\u001b[0m\n\u001b[1;32m     40\u001b[0m \u001b[0;34m\u001b[0m\u001b[0m\n\u001b[0;32m---> 41\u001b[0;31m         query_for_input_vocab_tokens, num_or_ops, num_and_ops, depth = sample_query_based_on_gt_keys(\n\u001b[0m\u001b[1;32m     42\u001b[0m             \u001b[0mnum_attributes\u001b[0m\u001b[0;34m,\u001b[0m \u001b[0mnum_attr_vals\u001b[0m\u001b[0;34m,\u001b[0m \u001b[0mnum_cards_per_query\u001b[0m\u001b[0;34m=\u001b[0m\u001b[0mnum_cards_per_query\u001b[0m\u001b[0;34m,\u001b[0m \u001b[0mnest_depth\u001b[0m\u001b[0;34m=\u001b[0m\u001b[0;36m16\u001b[0m\u001b[0;34m,\u001b[0m\u001b[0;34m\u001b[0m\u001b[0;34m\u001b[0m\u001b[0m\n\u001b[1;32m     43\u001b[0m             \u001b[0mgt_keys_idx\u001b[0m\u001b[0;34m=\u001b[0m\u001b[0mgt_ks_idx\u001b[0m\u001b[0;34m,\u001b[0m \u001b[0mmultiple_OR_sets_bool\u001b[0m\u001b[0;34m=\u001b[0m\u001b[0;32mTrue\u001b[0m\u001b[0;34m,\u001b[0m\u001b[0;34m\u001b[0m\u001b[0;34m\u001b[0m\u001b[0m\n",
      "\u001b[0;31mTypeError\u001b[0m: sample_query_based_on_gt_keys() got an unexpected keyword argument 'nest_depth'"
     ]
    }
   ],
   "source": [
    "import time\n",
    "\n",
    "num_attr_vals=3;\n",
    "\n",
    "\n",
    "for num_attributes in [8]:\n",
    "    \n",
    "    start_time = time.time()\n",
    "\n",
    "    cardpair_answer_lookup = construct_cardpair_answer_lookup(num_attributes, num_attr_vals)\n",
    "\n",
    "    base_vocab_size = num_attributes * num_attr_vals\n",
    "    symbol_vocab_token_lookup = {\n",
    "        '(': base_vocab_size,\n",
    "        ')': base_vocab_size + 1,\n",
    "        'NULL': base_vocab_size + 2,\n",
    "        'SEP': base_vocab_size + 3,\n",
    "        'SOS': base_vocab_size + 4,\n",
    "        'EOS': base_vocab_size + 5,\n",
    "        'PAD': base_vocab_size + 6,\n",
    "        'PLH': base_vocab_size + 7,\n",
    "        '&': base_vocab_size + 8,\n",
    "        '|': base_vocab_size + 9,\n",
    "    }\n",
    "    \n",
    "    bucket_probs = derive_shatter_bucket_probs(num_attr_vals**num_attributes)\n",
    "    \n",
    "    num_ORs = []\n",
    "    num_ANDs = []\n",
    "    gt_keys_count = []\n",
    "    \n",
    "    for _ in range(100):\n",
    "        gt_ks_idx, bucket = sample_keys_column(num_attributes, num_attr_vals, bucket_probs)\n",
    "\n",
    "#         num_cards_per_query = (\n",
    "#             num_keys * query_length_multiplier if query_length_multiplier \n",
    "#             else np.random.choice(a==[1,2,3,4,5])\n",
    "#         )\n",
    "        num_cards_per_query=(num_attr_vals**num_attributes)*np.random.choice(a=[1,2,3,4,5])\n",
    "        \n",
    "        query_for_input_vocab_tokens, num_or_ops, num_and_ops, depth = sample_query_based_on_gt_keys(\n",
    "            num_attributes, num_attr_vals, num_cards_per_query=num_cards_per_query, nest_depth=16, \n",
    "            gt_keys_idx=gt_ks_idx, multiple_OR_sets_bool=True,\n",
    "            expression_resolve_fn=resolve_eval_expression, cardpair_answer_lookup=cardpair_answer_lookup,\n",
    "            symbol_vocab_token_lookup=symbol_vocab_token_lookup,\n",
    "            debug=False\n",
    "        )\n",
    "        \n",
    "        num_ORs.append(num_or_ops)\n",
    "        num_ANDs.append(num_and_ops)\n",
    "        gt_keys_count.append(len(gt_ks_idx))\n",
    "\n",
    "    end_time = time.time()\n",
    "\n",
    "    print('Time in seconds:', end_time - start_time)"
   ]
  },
  {
   "cell_type": "code",
   "execution_count": null,
   "id": "rolled-colombia",
   "metadata": {},
   "outputs": [],
   "source": [
    "# 8, 3 : 525 seconds to construct lookup"
   ]
  },
  {
   "cell_type": "code",
   "execution_count": 217,
   "id": "comic-state",
   "metadata": {
    "scrolled": true
   },
   "outputs": [
    {
     "data": {
      "text/plain": [
       "(array([  1.,   0.,   0.,   0.,   0.,   0.,  16.,   0.,   0.,   0.,   0.,\n",
       "          0.,  82.,   0.,   0.,   0.,   0.,   0., 156.,   0.,   0.,   0.,\n",
       "          0.,   0.,   0., 236.,   0.,   0.,   0.,   0.,   0., 248.,   0.,\n",
       "          0.,   0.,   0.,   0., 159.,   0.,   0.,   0.,   0.,   0.,  87.,\n",
       "          0.,   0.,   0.,   0.,   0.,  15.]),\n",
       " array([ 9.  ,  9.16,  9.32,  9.48,  9.64,  9.8 ,  9.96, 10.12, 10.28,\n",
       "        10.44, 10.6 , 10.76, 10.92, 11.08, 11.24, 11.4 , 11.56, 11.72,\n",
       "        11.88, 12.04, 12.2 , 12.36, 12.52, 12.68, 12.84, 13.  , 13.16,\n",
       "        13.32, 13.48, 13.64, 13.8 , 13.96, 14.12, 14.28, 14.44, 14.6 ,\n",
       "        14.76, 14.92, 15.08, 15.24, 15.4 , 15.56, 15.72, 15.88, 16.04,\n",
       "        16.2 , 16.36, 16.52, 16.68, 16.84, 17.  ]),\n",
       " <BarContainer object of 50 artists>)"
      ]
     },
     "execution_count": 217,
     "metadata": {},
     "output_type": "execute_result"
    },
    {
     "data": {
      "image/png": "[encoded data removed]",
      "text/plain": [
       "<Figure size 432x288 with 1 Axes>"
      ]
     },
     "metadata": {
      "needs_background": "light"
     },
     "output_type": "display_data"
    }
   ],
   "source": [
    "plt.hist(num_ANDs, bins=50)"
   ]
  },
  {
   "cell_type": "code",
   "execution_count": 216,
   "id": "effective-spirituality",
   "metadata": {
    "scrolled": true
   },
   "outputs": [
    {
     "data": {
      "text/plain": [
       "(array([ 15.,   0.,   0.,   0.,   0.,   0.,  87.,   0.,   0.,   0.,   0.,\n",
       "          0., 159.,   0.,   0.,   0.,   0.,   0., 248.,   0.,   0.,   0.,\n",
       "          0.,   0.,   0., 236.,   0.,   0.,   0.,   0.,   0., 156.,   0.,\n",
       "          0.,   0.,   0.,   0.,  82.,   0.,   0.,   0.,   0.,   0.,  16.,\n",
       "          0.,   0.,   0.,   0.,   0.,   1.]),\n",
       " array([0.  , 0.16, 0.32, 0.48, 0.64, 0.8 , 0.96, 1.12, 1.28, 1.44, 1.6 ,\n",
       "        1.76, 1.92, 2.08, 2.24, 2.4 , 2.56, 2.72, 2.88, 3.04, 3.2 , 3.36,\n",
       "        3.52, 3.68, 3.84, 4.  , 4.16, 4.32, 4.48, 4.64, 4.8 , 4.96, 5.12,\n",
       "        5.28, 5.44, 5.6 , 5.76, 5.92, 6.08, 6.24, 6.4 , 6.56, 6.72, 6.88,\n",
       "        7.04, 7.2 , 7.36, 7.52, 7.68, 7.84, 8.  ]),\n",
       " <BarContainer object of 50 artists>)"
      ]
     },
     "execution_count": 216,
     "metadata": {},
     "output_type": "execute_result"
    },
    {
     "data": {
      "image/png": "[encoded data removed]",
      "text/plain": [
       "<Figure size 432x288 with 1 Axes>"
      ]
     },
     "metadata": {
      "needs_background": "light"
     },
     "output_type": "display_data"
    }
   ],
   "source": [
    "plt.hist(num_ORs, bins=50)"
   ]
  },
  {
   "cell_type": "code",
   "execution_count": 225,
   "id": "sustainable-warning",
   "metadata": {
    "scrolled": true
   },
   "outputs": [
    {
     "data": {
      "text/plain": [
       "(array([  1.,   0.,   0.,   0.,   0.,   0.,  23.,   0.,   0.,   0.,   0.,\n",
       "          0.,  73.,   0.,   0.,   0.,   0.,   0., 166.,   0.,   0.,   0.,\n",
       "          0.,   0.,   0., 259.,   0.,   0.,   0.,   0.,   0., 234.,   0.,\n",
       "          0.,   0.,   0.,   0., 154.,   0.,   0.,   0.,   0.,   0.,  76.,\n",
       "          0.,   0.,   0.,   0.,   0.,  14.]),\n",
       " array([36.  , 36.16, 36.32, 36.48, 36.64, 36.8 , 36.96, 37.12, 37.28,\n",
       "        37.44, 37.6 , 37.76, 37.92, 38.08, 38.24, 38.4 , 38.56, 38.72,\n",
       "        38.88, 39.04, 39.2 , 39.36, 39.52, 39.68, 39.84, 40.  , 40.16,\n",
       "        40.32, 40.48, 40.64, 40.8 , 40.96, 41.12, 41.28, 41.44, 41.6 ,\n",
       "        41.76, 41.92, 42.08, 42.24, 42.4 , 42.56, 42.72, 42.88, 43.04,\n",
       "        43.2 , 43.36, 43.52, 43.68, 43.84, 44.  ]),\n",
       " <BarContainer object of 50 artists>)"
      ]
     },
     "execution_count": 225,
     "metadata": {},
     "output_type": "execute_result"
    },
    {
     "data": {
      "image/png": "[encoded data removed]",
      "text/plain": [
       "<Figure size 432x288 with 1 Axes>"
      ]
     },
     "metadata": {
      "needs_background": "light"
     },
     "output_type": "display_data"
    }
   ],
   "source": [
    "plt.hist(num_ANDs, bins=50)"
   ]
  },
  {
   "cell_type": "code",
   "execution_count": 226,
   "id": "noticed-slovakia",
   "metadata": {
    "scrolled": true
   },
   "outputs": [
    {
     "data": {
      "text/plain": [
       "(array([ 14.,   0.,   0.,   0.,   0.,   0.,  76.,   0.,   0.,   0.,   0.,\n",
       "          0., 154.,   0.,   0.,   0.,   0.,   0., 234.,   0.,   0.,   0.,\n",
       "          0.,   0.,   0., 259.,   0.,   0.,   0.,   0.,   0., 166.,   0.,\n",
       "          0.,   0.,   0.,   0.,  73.,   0.,   0.,   0.,   0.,   0.,  23.,\n",
       "          0.,   0.,   0.,   0.,   0.,   1.]),\n",
       " array([0.  , 0.16, 0.32, 0.48, 0.64, 0.8 , 0.96, 1.12, 1.28, 1.44, 1.6 ,\n",
       "        1.76, 1.92, 2.08, 2.24, 2.4 , 2.56, 2.72, 2.88, 3.04, 3.2 , 3.36,\n",
       "        3.52, 3.68, 3.84, 4.  , 4.16, 4.32, 4.48, 4.64, 4.8 , 4.96, 5.12,\n",
       "        5.28, 5.44, 5.6 , 5.76, 5.92, 6.08, 6.24, 6.4 , 6.56, 6.72, 6.88,\n",
       "        7.04, 7.2 , 7.36, 7.52, 7.68, 7.84, 8.  ]),\n",
       " <BarContainer object of 50 artists>)"
      ]
     },
     "execution_count": 226,
     "metadata": {},
     "output_type": "execute_result"
    },
    {
     "data": {
      "image/png": "[encoded data removed]",
      "text/plain": [
       "<Figure size 432x288 with 1 Axes>"
      ]
     },
     "metadata": {
      "needs_background": "light"
     },
     "output_type": "display_data"
    }
   ],
   "source": [
    "plt.hist(num_ORs, bins=50)"
   ]
  },
  {
   "cell_type": "code",
   "execution_count": 233,
   "id": "optional-heading",
   "metadata": {
    "scrolled": true
   },
   "outputs": [
    {
     "data": {
      "text/plain": [
       "(array([  1.,   0.,   0.,   0.,   0.,   0.,   0.,   0.,   0.,   0.,   0.,\n",
       "          0.,   0.,   1.,   0.,   0.,   0.,   0.,   0.,   0.,   0.,   0.,\n",
       "          0.,   0.,   0.,   0.,   0.,   3.,   0.,   0.,   0.,   0.,   0.,\n",
       "          0.,   0.,   0.,   0.,   0.,   0.,   0.,   0.,   1.,   0.,   0.,\n",
       "          0.,   0.,   0.,   0.,   0.,   0.,   0.,   0.,   0.,   0.,   0.,\n",
       "         11.,   0.,   0.,   0.,   0.,   0.,   0.,   0.,   0.,   0.,   0.,\n",
       "          0.,   0.,   0.,  39.,   0.,   0.,   0.,   0.,   0.,   0.,   0.,\n",
       "          0.,   0.,   0.,   0.,   0.,   0.,  51.,   0.,   0.,   0.,   0.,\n",
       "          0.,   0.,   0.,   0.,   0.,   0.,   0.,   0.,   0.,  86.,   0.,\n",
       "          0.,   0.,   0.,   0.,   0.,   0.,   0.,   0.,   0.,   0.,   0.,\n",
       "          0., 147.,   0.,   0.,   0.,   0.,   0.,   0.,   0.,   0.,   0.,\n",
       "          0.,   0.,   0.,   0., 150.,   0.,   0.,   0.,   0.,   0.,   0.,\n",
       "          0.,   0.,   0.,   0.,   0.,   0., 136.,   0.,   0.,   0.,   0.,\n",
       "          0.,   0.,   0.,   0.,   0.,   0.,   0.,   0.,   0., 133.,   0.,\n",
       "          0.,   0.,   0.,   0.,   0.,   0.,   0.,   0.,   0.,   0.,   0.,\n",
       "          0., 100.,   0.,   0.,   0.,   0.,   0.,   0.,   0.,   0.,   0.,\n",
       "          0.,   0.,   0.,   0.,  72.,   0.,   0.,   0.,   0.,   0.,   0.,\n",
       "          0.,   0.,   0.,   0.,   0.,   0.,   0.,  42.,   0.,   0.,   0.,\n",
       "          0.,   0.,   0.,   0.,   0.,   0.,   0.,   0.,   0.,   0.,  18.,\n",
       "          0.,   0.,   0.,   0.,   0.,   0.,   0.,   0.,   0.,   0.,   0.,\n",
       "          0.,   0.,   4.,   0.,   0.,   0.,   0.,   0.,   0.,   0.,   0.,\n",
       "          0.,   0.,   0.,   0.,   0.,   4.,   0.,   0.,   0.,   0.,   0.,\n",
       "          0.,   0.,   0.,   0.,   0.,   0.,   0.,   1.]),\n",
       " array([112.   , 112.072, 112.144, 112.216, 112.288, 112.36 , 112.432,\n",
       "        112.504, 112.576, 112.648, 112.72 , 112.792, 112.864, 112.936,\n",
       "        113.008, 113.08 , 113.152, 113.224, 113.296, 113.368, 113.44 ,\n",
       "        113.512, 113.584, 113.656, 113.728, 113.8  , 113.872, 113.944,\n",
       "        114.016, 114.088, 114.16 , 114.232, 114.304, 114.376, 114.448,\n",
       "        114.52 , 114.592, 114.664, 114.736, 114.808, 114.88 , 114.952,\n",
       "        115.024, 115.096, 115.168, 115.24 , 115.312, 115.384, 115.456,\n",
       "        115.528, 115.6  , 115.672, 115.744, 115.816, 115.888, 115.96 ,\n",
       "        116.032, 116.104, 116.176, 116.248, 116.32 , 116.392, 116.464,\n",
       "        116.536, 116.608, 116.68 , 116.752, 116.824, 116.896, 116.968,\n",
       "        117.04 , 117.112, 117.184, 117.256, 117.328, 117.4  , 117.472,\n",
       "        117.544, 117.616, 117.688, 117.76 , 117.832, 117.904, 117.976,\n",
       "        118.048, 118.12 , 118.192, 118.264, 118.336, 118.408, 118.48 ,\n",
       "        118.552, 118.624, 118.696, 118.768, 118.84 , 118.912, 118.984,\n",
       "        119.056, 119.128, 119.2  , 119.272, 119.344, 119.416, 119.488,\n",
       "        119.56 , 119.632, 119.704, 119.776, 119.848, 119.92 , 119.992,\n",
       "        120.064, 120.136, 120.208, 120.28 , 120.352, 120.424, 120.496,\n",
       "        120.568, 120.64 , 120.712, 120.784, 120.856, 120.928, 121.   ,\n",
       "        121.072, 121.144, 121.216, 121.288, 121.36 , 121.432, 121.504,\n",
       "        121.576, 121.648, 121.72 , 121.792, 121.864, 121.936, 122.008,\n",
       "        122.08 , 122.152, 122.224, 122.296, 122.368, 122.44 , 122.512,\n",
       "        122.584, 122.656, 122.728, 122.8  , 122.872, 122.944, 123.016,\n",
       "        123.088, 123.16 , 123.232, 123.304, 123.376, 123.448, 123.52 ,\n",
       "        123.592, 123.664, 123.736, 123.808, 123.88 , 123.952, 124.024,\n",
       "        124.096, 124.168, 124.24 , 124.312, 124.384, 124.456, 124.528,\n",
       "        124.6  , 124.672, 124.744, 124.816, 124.888, 124.96 , 125.032,\n",
       "        125.104, 125.176, 125.248, 125.32 , 125.392, 125.464, 125.536,\n",
       "        125.608, 125.68 , 125.752, 125.824, 125.896, 125.968, 126.04 ,\n",
       "        126.112, 126.184, 126.256, 126.328, 126.4  , 126.472, 126.544,\n",
       "        126.616, 126.688, 126.76 , 126.832, 126.904, 126.976, 127.048,\n",
       "        127.12 , 127.192, 127.264, 127.336, 127.408, 127.48 , 127.552,\n",
       "        127.624, 127.696, 127.768, 127.84 , 127.912, 127.984, 128.056,\n",
       "        128.128, 128.2  , 128.272, 128.344, 128.416, 128.488, 128.56 ,\n",
       "        128.632, 128.704, 128.776, 128.848, 128.92 , 128.992, 129.064,\n",
       "        129.136, 129.208, 129.28 , 129.352, 129.424, 129.496, 129.568,\n",
       "        129.64 , 129.712, 129.784, 129.856, 129.928, 130.   ]),\n",
       " <BarContainer object of 250 artists>)"
      ]
     },
     "execution_count": 233,
     "metadata": {},
     "output_type": "execute_result"
    },
    {
     "data": {
      "image/png": "[encoded data removed]",
      "text/plain": [
       "<Figure size 432x288 with 1 Axes>"
      ]
     },
     "metadata": {
      "needs_background": "light"
     },
     "output_type": "display_data"
    }
   ],
   "source": [
    "plt.hist(num_ANDs, bins=250)"
   ]
  },
  {
   "cell_type": "code",
   "execution_count": 234,
   "id": "sufficient-sarah",
   "metadata": {
    "scrolled": true
   },
   "outputs": [
    {
     "data": {
      "text/plain": [
       "(array([  1.,   0.,   0.,   0.,   0.,   0.,   0.,   0.,   0.,   0.,   0.,\n",
       "          0.,   0.,   4.,   0.,   0.,   0.,   0.,   0.,   0.,   0.,   0.,\n",
       "          0.,   0.,   0.,   0.,   0.,   4.,   0.,   0.,   0.,   0.,   0.,\n",
       "          0.,   0.,   0.,   0.,   0.,   0.,   0.,   0.,  18.,   0.,   0.,\n",
       "          0.,   0.,   0.,   0.,   0.,   0.,   0.,   0.,   0.,   0.,   0.,\n",
       "         42.,   0.,   0.,   0.,   0.,   0.,   0.,   0.,   0.,   0.,   0.,\n",
       "          0.,   0.,   0.,  72.,   0.,   0.,   0.,   0.,   0.,   0.,   0.,\n",
       "          0.,   0.,   0.,   0.,   0.,   0., 100.,   0.,   0.,   0.,   0.,\n",
       "          0.,   0.,   0.,   0.,   0.,   0.,   0.,   0.,   0., 133.,   0.,\n",
       "          0.,   0.,   0.,   0.,   0.,   0.,   0.,   0.,   0.,   0.,   0.,\n",
       "          0., 136.,   0.,   0.,   0.,   0.,   0.,   0.,   0.,   0.,   0.,\n",
       "          0.,   0.,   0.,   0., 150.,   0.,   0.,   0.,   0.,   0.,   0.,\n",
       "          0.,   0.,   0.,   0.,   0.,   0., 147.,   0.,   0.,   0.,   0.,\n",
       "          0.,   0.,   0.,   0.,   0.,   0.,   0.,   0.,   0.,  86.,   0.,\n",
       "          0.,   0.,   0.,   0.,   0.,   0.,   0.,   0.,   0.,   0.,   0.,\n",
       "          0.,  51.,   0.,   0.,   0.,   0.,   0.,   0.,   0.,   0.,   0.,\n",
       "          0.,   0.,   0.,   0.,  39.,   0.,   0.,   0.,   0.,   0.,   0.,\n",
       "          0.,   0.,   0.,   0.,   0.,   0.,   0.,  11.,   0.,   0.,   0.,\n",
       "          0.,   0.,   0.,   0.,   0.,   0.,   0.,   0.,   0.,   0.,   1.,\n",
       "          0.,   0.,   0.,   0.,   0.,   0.,   0.,   0.,   0.,   0.,   0.,\n",
       "          0.,   0.,   3.,   0.,   0.,   0.,   0.,   0.,   0.,   0.,   0.,\n",
       "          0.,   0.,   0.,   0.,   0.,   1.,   0.,   0.,   0.,   0.,   0.,\n",
       "          0.,   0.,   0.,   0.,   0.,   0.,   0.,   1.]),\n",
       " array([ 4.   ,  4.072,  4.144,  4.216,  4.288,  4.36 ,  4.432,  4.504,\n",
       "         4.576,  4.648,  4.72 ,  4.792,  4.864,  4.936,  5.008,  5.08 ,\n",
       "         5.152,  5.224,  5.296,  5.368,  5.44 ,  5.512,  5.584,  5.656,\n",
       "         5.728,  5.8  ,  5.872,  5.944,  6.016,  6.088,  6.16 ,  6.232,\n",
       "         6.304,  6.376,  6.448,  6.52 ,  6.592,  6.664,  6.736,  6.808,\n",
       "         6.88 ,  6.952,  7.024,  7.096,  7.168,  7.24 ,  7.312,  7.384,\n",
       "         7.456,  7.528,  7.6  ,  7.672,  7.744,  7.816,  7.888,  7.96 ,\n",
       "         8.032,  8.104,  8.176,  8.248,  8.32 ,  8.392,  8.464,  8.536,\n",
       "         8.608,  8.68 ,  8.752,  8.824,  8.896,  8.968,  9.04 ,  9.112,\n",
       "         9.184,  9.256,  9.328,  9.4  ,  9.472,  9.544,  9.616,  9.688,\n",
       "         9.76 ,  9.832,  9.904,  9.976, 10.048, 10.12 , 10.192, 10.264,\n",
       "        10.336, 10.408, 10.48 , 10.552, 10.624, 10.696, 10.768, 10.84 ,\n",
       "        10.912, 10.984, 11.056, 11.128, 11.2  , 11.272, 11.344, 11.416,\n",
       "        11.488, 11.56 , 11.632, 11.704, 11.776, 11.848, 11.92 , 11.992,\n",
       "        12.064, 12.136, 12.208, 12.28 , 12.352, 12.424, 12.496, 12.568,\n",
       "        12.64 , 12.712, 12.784, 12.856, 12.928, 13.   , 13.072, 13.144,\n",
       "        13.216, 13.288, 13.36 , 13.432, 13.504, 13.576, 13.648, 13.72 ,\n",
       "        13.792, 13.864, 13.936, 14.008, 14.08 , 14.152, 14.224, 14.296,\n",
       "        14.368, 14.44 , 14.512, 14.584, 14.656, 14.728, 14.8  , 14.872,\n",
       "        14.944, 15.016, 15.088, 15.16 , 15.232, 15.304, 15.376, 15.448,\n",
       "        15.52 , 15.592, 15.664, 15.736, 15.808, 15.88 , 15.952, 16.024,\n",
       "        16.096, 16.168, 16.24 , 16.312, 16.384, 16.456, 16.528, 16.6  ,\n",
       "        16.672, 16.744, 16.816, 16.888, 16.96 , 17.032, 17.104, 17.176,\n",
       "        17.248, 17.32 , 17.392, 17.464, 17.536, 17.608, 17.68 , 17.752,\n",
       "        17.824, 17.896, 17.968, 18.04 , 18.112, 18.184, 18.256, 18.328,\n",
       "        18.4  , 18.472, 18.544, 18.616, 18.688, 18.76 , 18.832, 18.904,\n",
       "        18.976, 19.048, 19.12 , 19.192, 19.264, 19.336, 19.408, 19.48 ,\n",
       "        19.552, 19.624, 19.696, 19.768, 19.84 , 19.912, 19.984, 20.056,\n",
       "        20.128, 20.2  , 20.272, 20.344, 20.416, 20.488, 20.56 , 20.632,\n",
       "        20.704, 20.776, 20.848, 20.92 , 20.992, 21.064, 21.136, 21.208,\n",
       "        21.28 , 21.352, 21.424, 21.496, 21.568, 21.64 , 21.712, 21.784,\n",
       "        21.856, 21.928, 22.   ]),\n",
       " <BarContainer object of 250 artists>)"
      ]
     },
     "execution_count": 234,
     "metadata": {},
     "output_type": "execute_result"
    },
    {
     "data": {
      "image/png": "[encoded data removed]",
      "text/plain": [
       "<Figure size 432x288 with 1 Axes>"
      ]
     },
     "metadata": {
      "needs_background": "light"
     },
     "output_type": "display_data"
    }
   ],
   "source": [
    "plt.hist(num_ORs, bins=250)"
   ]
  },
  {
   "cell_type": "code",
   "execution_count": 236,
   "id": "wired-quarterly",
   "metadata": {
    "scrolled": true
   },
   "outputs": [
    {
     "data": {
      "text/plain": [
       "(array([15.,  0.,  0.,  0.,  0.,  0.,  0.,  0.,  0.,  0., 14.,  0., 37.,\n",
       "         0.,  2.,  0.,  0.,  0., 25.,  0.,  0.,  0.,  0.,  0.,  2.,  0.,\n",
       "         0.,  0., 35.,  0.,  0.,  0.,  0., 18.,  0.,  0.,  0., 22.,  0.,\n",
       "         0.,  0.,  0.,  0., 14.,  0., 13.,  0.,  0.,  0.,  6.,  0.,  0.,\n",
       "         0.,  9.,  0., 21.,  0., 17.,  0.,  0.,  0., 27.,  0.,  0.,  0.,\n",
       "         0.,  0.,  0.,  0.,  0.,  1.,  0., 22.,  0., 26.,  0.,  0.,  0.,\n",
       "        14.,  0.,  0.,  0.,  0.,  0.,  4.,  0., 29.,  0.,  0.,  0.,  0.,\n",
       "         0.,  5.,  0.,  0., 21.,  0.,  0.,  0., 18.,  0.,  9.,  0.,  2.,\n",
       "         0., 12.,  0.,  0.,  0.,  0.,  0., 28.,  0.,  0.,  0., 24.,  0.,\n",
       "         0.,  0.,  5.,  0.,  0.,  0.,  7.,  0.,  0., 18.,  0., 12.,  0.,\n",
       "         8.,  0.,  0.,  0.,  0.,  0., 36.,  0.,  0.,  0.,  0.,  0.,  1.,\n",
       "         0., 22.,  0., 13.,  0.,  2.,  0.,  0.,  0., 16.,  0.,  7.,  0.,\n",
       "         0., 10.,  0.,  0.,  0., 36.,  0.,  0.,  0.,  0.,  0., 15.,  0.,\n",
       "        10.,  0.,  0.,  0., 12.,  0.,  0.,  0., 11.,  0., 13.,  0.,  0.,\n",
       "         0.,  0.,  0., 10.,  0.,  0.,  2.,  0.,  6.,  0., 13.,  0., 10.,\n",
       "         0.,  0.,  0., 20.,  0.,  0.,  0., 11.,  0.,  6.,  0., 20.,  0.,\n",
       "         0.,  0., 21.,  0.,  0.,  0., 11.,  0.,  0.,  0.,  0., 12.,  0.,\n",
       "         3.,  0.,  5.,  0.,  7.,  0., 13.,  0., 10.,  0., 15.,  0., 16.,\n",
       "         0., 15.,  0., 11.,  0.,  5.,  0.,  7.,  0.,  4.,  0.,  0.,  0.,\n",
       "         0.,  0.,  1.]),\n",
       " array([  8.   ,   8.484,   8.968,   9.452,   9.936,  10.42 ,  10.904,\n",
       "         11.388,  11.872,  12.356,  12.84 ,  13.324,  13.808,  14.292,\n",
       "         14.776,  15.26 ,  15.744,  16.228,  16.712,  17.196,  17.68 ,\n",
       "         18.164,  18.648,  19.132,  19.616,  20.1  ,  20.584,  21.068,\n",
       "         21.552,  22.036,  22.52 ,  23.004,  23.488,  23.972,  24.456,\n",
       "         24.94 ,  25.424,  25.908,  26.392,  26.876,  27.36 ,  27.844,\n",
       "         28.328,  28.812,  29.296,  29.78 ,  30.264,  30.748,  31.232,\n",
       "         31.716,  32.2  ,  32.684,  33.168,  33.652,  34.136,  34.62 ,\n",
       "         35.104,  35.588,  36.072,  36.556,  37.04 ,  37.524,  38.008,\n",
       "         38.492,  38.976,  39.46 ,  39.944,  40.428,  40.912,  41.396,\n",
       "         41.88 ,  42.364,  42.848,  43.332,  43.816,  44.3  ,  44.784,\n",
       "         45.268,  45.752,  46.236,  46.72 ,  47.204,  47.688,  48.172,\n",
       "         48.656,  49.14 ,  49.624,  50.108,  50.592,  51.076,  51.56 ,\n",
       "         52.044,  52.528,  53.012,  53.496,  53.98 ,  54.464,  54.948,\n",
       "         55.432,  55.916,  56.4  ,  56.884,  57.368,  57.852,  58.336,\n",
       "         58.82 ,  59.304,  59.788,  60.272,  60.756,  61.24 ,  61.724,\n",
       "         62.208,  62.692,  63.176,  63.66 ,  64.144,  64.628,  65.112,\n",
       "         65.596,  66.08 ,  66.564,  67.048,  67.532,  68.016,  68.5  ,\n",
       "         68.984,  69.468,  69.952,  70.436,  70.92 ,  71.404,  71.888,\n",
       "         72.372,  72.856,  73.34 ,  73.824,  74.308,  74.792,  75.276,\n",
       "         75.76 ,  76.244,  76.728,  77.212,  77.696,  78.18 ,  78.664,\n",
       "         79.148,  79.632,  80.116,  80.6  ,  81.084,  81.568,  82.052,\n",
       "         82.536,  83.02 ,  83.504,  83.988,  84.472,  84.956,  85.44 ,\n",
       "         85.924,  86.408,  86.892,  87.376,  87.86 ,  88.344,  88.828,\n",
       "         89.312,  89.796,  90.28 ,  90.764,  91.248,  91.732,  92.216,\n",
       "         92.7  ,  93.184,  93.668,  94.152,  94.636,  95.12 ,  95.604,\n",
       "         96.088,  96.572,  97.056,  97.54 ,  98.024,  98.508,  98.992,\n",
       "         99.476,  99.96 , 100.444, 100.928, 101.412, 101.896, 102.38 ,\n",
       "        102.864, 103.348, 103.832, 104.316, 104.8  , 105.284, 105.768,\n",
       "        106.252, 106.736, 107.22 , 107.704, 108.188, 108.672, 109.156,\n",
       "        109.64 , 110.124, 110.608, 111.092, 111.576, 112.06 , 112.544,\n",
       "        113.028, 113.512, 113.996, 114.48 , 114.964, 115.448, 115.932,\n",
       "        116.416, 116.9  , 117.384, 117.868, 118.352, 118.836, 119.32 ,\n",
       "        119.804, 120.288, 120.772, 121.256, 121.74 , 122.224, 122.708,\n",
       "        123.192, 123.676, 124.16 , 124.644, 125.128, 125.612, 126.096,\n",
       "        126.58 , 127.064, 127.548, 128.032, 128.516, 129.   ]),\n",
       " <BarContainer object of 250 artists>)"
      ]
     },
     "execution_count": 236,
     "metadata": {},
     "output_type": "execute_result"
    },
    {
     "data": {
      "image/png": "[encoded data removed]",
      "text/plain": [
       "<Figure size 432x288 with 1 Axes>"
      ]
     },
     "metadata": {
      "needs_background": "light"
     },
     "output_type": "display_data"
    }
   ],
   "source": [
    "plt.hist(num_ANDs, bins=250)"
   ]
  },
  {
   "cell_type": "code",
   "execution_count": 237,
   "id": "sublime-priority",
   "metadata": {
    "scrolled": true
   },
   "outputs": [
    {
     "data": {
      "text/plain": [
       "(array([ 1.,  0.,  0.,  0.,  0.,  0.,  4.,  0.,  7.,  0.,  5.,  0., 11.,\n",
       "         0., 15.,  0., 16.,  0., 15.,  0., 10.,  0., 13.,  0.,  7.,  0.,\n",
       "         5.,  0.,  3.,  0., 12.,  0.,  0.,  0.,  0., 11.,  0.,  0.,  0.,\n",
       "        21.,  0.,  0.,  0., 20.,  0.,  6.,  0., 11.,  0.,  0.,  0., 20.,\n",
       "         0.,  0.,  0., 10.,  0., 13.,  0.,  6.,  0.,  2.,  0.,  0., 10.,\n",
       "         0.,  0.,  0.,  0.,  0., 13.,  0., 11.,  0.,  0.,  0., 12.,  0.,\n",
       "         0.,  0., 10.,  0., 15.,  0.,  0.,  0.,  0.,  0., 36.,  0.,  0.,\n",
       "         0., 10.,  0.,  0.,  7.,  0., 16.,  0.,  0.,  0.,  2.,  0., 13.,\n",
       "         0., 22.,  0.,  1.,  0.,  0.,  0.,  0.,  0., 36.,  0.,  0.,  0.,\n",
       "         0.,  0.,  8.,  0., 12.,  0., 18.,  0.,  0.,  7.,  0.,  0.,  0.,\n",
       "         5.,  0.,  0.,  0., 24.,  0.,  0.,  0., 28.,  0.,  0.,  0.,  0.,\n",
       "         0., 12.,  0.,  2.,  0.,  9.,  0., 18.,  0.,  0.,  0., 21.,  0.,\n",
       "         0.,  5.,  0.,  0.,  0.,  0.,  0., 29.,  0.,  4.,  0.,  0.,  0.,\n",
       "         0.,  0., 14.,  0.,  0.,  0., 26.,  0., 22.,  0.,  1.,  0.,  0.,\n",
       "         0.,  0.,  0.,  0.,  0.,  0., 27.,  0.,  0.,  0., 17.,  0., 21.,\n",
       "         0.,  9.,  0.,  0.,  0.,  6.,  0.,  0.,  0., 13.,  0., 14.,  0.,\n",
       "         0.,  0.,  0.,  0., 22.,  0.,  0.,  0., 18.,  0.,  0.,  0.,  0.,\n",
       "        35.,  0.,  0.,  0.,  2.,  0.,  0.,  0.,  0.,  0., 25.,  0.,  0.,\n",
       "         0.,  2.,  0., 37.,  0., 14.,  0.,  0.,  0.,  0.,  0.,  0.,  0.,\n",
       "         0.,  0., 15.]),\n",
       " array([  5.   ,   5.484,   5.968,   6.452,   6.936,   7.42 ,   7.904,\n",
       "          8.388,   8.872,   9.356,   9.84 ,  10.324,  10.808,  11.292,\n",
       "         11.776,  12.26 ,  12.744,  13.228,  13.712,  14.196,  14.68 ,\n",
       "         15.164,  15.648,  16.132,  16.616,  17.1  ,  17.584,  18.068,\n",
       "         18.552,  19.036,  19.52 ,  20.004,  20.488,  20.972,  21.456,\n",
       "         21.94 ,  22.424,  22.908,  23.392,  23.876,  24.36 ,  24.844,\n",
       "         25.328,  25.812,  26.296,  26.78 ,  27.264,  27.748,  28.232,\n",
       "         28.716,  29.2  ,  29.684,  30.168,  30.652,  31.136,  31.62 ,\n",
       "         32.104,  32.588,  33.072,  33.556,  34.04 ,  34.524,  35.008,\n",
       "         35.492,  35.976,  36.46 ,  36.944,  37.428,  37.912,  38.396,\n",
       "         38.88 ,  39.364,  39.848,  40.332,  40.816,  41.3  ,  41.784,\n",
       "         42.268,  42.752,  43.236,  43.72 ,  44.204,  44.688,  45.172,\n",
       "         45.656,  46.14 ,  46.624,  47.108,  47.592,  48.076,  48.56 ,\n",
       "         49.044,  49.528,  50.012,  50.496,  50.98 ,  51.464,  51.948,\n",
       "         52.432,  52.916,  53.4  ,  53.884,  54.368,  54.852,  55.336,\n",
       "         55.82 ,  56.304,  56.788,  57.272,  57.756,  58.24 ,  58.724,\n",
       "         59.208,  59.692,  60.176,  60.66 ,  61.144,  61.628,  62.112,\n",
       "         62.596,  63.08 ,  63.564,  64.048,  64.532,  65.016,  65.5  ,\n",
       "         65.984,  66.468,  66.952,  67.436,  67.92 ,  68.404,  68.888,\n",
       "         69.372,  69.856,  70.34 ,  70.824,  71.308,  71.792,  72.276,\n",
       "         72.76 ,  73.244,  73.728,  74.212,  74.696,  75.18 ,  75.664,\n",
       "         76.148,  76.632,  77.116,  77.6  ,  78.084,  78.568,  79.052,\n",
       "         79.536,  80.02 ,  80.504,  80.988,  81.472,  81.956,  82.44 ,\n",
       "         82.924,  83.408,  83.892,  84.376,  84.86 ,  85.344,  85.828,\n",
       "         86.312,  86.796,  87.28 ,  87.764,  88.248,  88.732,  89.216,\n",
       "         89.7  ,  90.184,  90.668,  91.152,  91.636,  92.12 ,  92.604,\n",
       "         93.088,  93.572,  94.056,  94.54 ,  95.024,  95.508,  95.992,\n",
       "         96.476,  96.96 ,  97.444,  97.928,  98.412,  98.896,  99.38 ,\n",
       "         99.864, 100.348, 100.832, 101.316, 101.8  , 102.284, 102.768,\n",
       "        103.252, 103.736, 104.22 , 104.704, 105.188, 105.672, 106.156,\n",
       "        106.64 , 107.124, 107.608, 108.092, 108.576, 109.06 , 109.544,\n",
       "        110.028, 110.512, 110.996, 111.48 , 111.964, 112.448, 112.932,\n",
       "        113.416, 113.9  , 114.384, 114.868, 115.352, 115.836, 116.32 ,\n",
       "        116.804, 117.288, 117.772, 118.256, 118.74 , 119.224, 119.708,\n",
       "        120.192, 120.676, 121.16 , 121.644, 122.128, 122.612, 123.096,\n",
       "        123.58 , 124.064, 124.548, 125.032, 125.516, 126.   ]),\n",
       " <BarContainer object of 250 artists>)"
      ]
     },
     "execution_count": 237,
     "metadata": {},
     "output_type": "execute_result"
    },
    {
     "data": {
      "image/png": "[encoded data removed]",
      "text/plain": [
       "<Figure size 432x288 with 1 Axes>"
      ]
     },
     "metadata": {
      "needs_background": "light"
     },
     "output_type": "display_data"
    }
   ],
   "source": [
    "plt.hist(num_ORs, bins=250)"
   ]
  },
  {
   "cell_type": "code",
   "execution_count": 254,
   "id": "continental-companion",
   "metadata": {
    "scrolled": true
   },
   "outputs": [
    {
     "data": {
      "text/plain": [
       "(array([23.,  0.,  0.,  0., 15.,  0., 18.,  0., 16.,  0.,  2.,  0., 26.,\n",
       "         0., 16.,  0., 17.,  0., 42.,  0., 26.,  0., 44.,  0., 35.,  0.,\n",
       "        27.,  0., 19.,  0., 37.,  0.,  0.,  6.,  0.,  5.,  0., 14.,  0.,\n",
       "         6.,  0.,  4.,  0., 14.,  0., 12.,  0., 17.,  0., 11.,  0., 13.,\n",
       "         0.,  3.,  0., 19.,  0.,  8.,  0.,  4.,  0., 16.,  0.,  0.,  6.,\n",
       "         0.,  1.,  0., 15.,  0., 11.,  0., 17.,  0., 19.,  0.,  8.,  0.,\n",
       "        16.,  0., 13.,  0., 10.,  0.,  9.,  0., 27.,  0.,  0.,  0.,  5.,\n",
       "         0.,  9.,  0.,  0.,  4.,  0.,  1.,  0., 16.,  0.,  4.,  0.,  5.,\n",
       "         0.,  7.,  0.,  8.,  0.,  4.,  0.,  9.,  0.,  8.,  0.,  2.,  0.,\n",
       "        11.,  0.,  2.,  0.,  0.,  0.,  8.,  0.,  0.,  7.,  0., 11.,  0.,\n",
       "        10.,  0.,  6.,  0.,  9.,  0., 10.,  0.,  8.,  0.,  3.,  0., 14.,\n",
       "         0.,  0.,  0.,  0.,  0., 11.,  0.,  5.,  0.,  0.,  0.,  4.,  0.,\n",
       "         0.,  5.,  0.,  9.,  0.,  3.,  0.,  7.,  0.,  4.,  0.,  2.,  0.,\n",
       "         1.,  0.,  5.,  0.,  7.,  0.,  2.,  0.,  0.,  0.,  9.,  0.,  2.,\n",
       "         0.,  3.,  0.,  9.,  0.,  0.,  4.,  0.,  5.,  0.,  7.,  0.,  1.,\n",
       "         0.,  0.,  0.,  4.,  0.,  0.,  0.,  0.,  0.,  2.,  0.,  2.,  0.,\n",
       "         0.,  0.,  3.,  0.,  0.,  0.,  2.,  0.,  0.,  0.,  0.,  6.,  0.,\n",
       "         0.,  0.,  2.,  0.,  0.,  0.,  3.,  0.,  0.,  0.,  1.,  0.,  1.,\n",
       "         0.,  2.,  0.,  2.,  0.,  2.,  0.,  0.,  0.,  4.,  0.,  2.,  0.,\n",
       "         5.,  0.,  4.]),\n",
       " array([  2.   ,   2.484,   2.968,   3.452,   3.936,   4.42 ,   4.904,\n",
       "          5.388,   5.872,   6.356,   6.84 ,   7.324,   7.808,   8.292,\n",
       "          8.776,   9.26 ,   9.744,  10.228,  10.712,  11.196,  11.68 ,\n",
       "         12.164,  12.648,  13.132,  13.616,  14.1  ,  14.584,  15.068,\n",
       "         15.552,  16.036,  16.52 ,  17.004,  17.488,  17.972,  18.456,\n",
       "         18.94 ,  19.424,  19.908,  20.392,  20.876,  21.36 ,  21.844,\n",
       "         22.328,  22.812,  23.296,  23.78 ,  24.264,  24.748,  25.232,\n",
       "         25.716,  26.2  ,  26.684,  27.168,  27.652,  28.136,  28.62 ,\n",
       "         29.104,  29.588,  30.072,  30.556,  31.04 ,  31.524,  32.008,\n",
       "         32.492,  32.976,  33.46 ,  33.944,  34.428,  34.912,  35.396,\n",
       "         35.88 ,  36.364,  36.848,  37.332,  37.816,  38.3  ,  38.784,\n",
       "         39.268,  39.752,  40.236,  40.72 ,  41.204,  41.688,  42.172,\n",
       "         42.656,  43.14 ,  43.624,  44.108,  44.592,  45.076,  45.56 ,\n",
       "         46.044,  46.528,  47.012,  47.496,  47.98 ,  48.464,  48.948,\n",
       "         49.432,  49.916,  50.4  ,  50.884,  51.368,  51.852,  52.336,\n",
       "         52.82 ,  53.304,  53.788,  54.272,  54.756,  55.24 ,  55.724,\n",
       "         56.208,  56.692,  57.176,  57.66 ,  58.144,  58.628,  59.112,\n",
       "         59.596,  60.08 ,  60.564,  61.048,  61.532,  62.016,  62.5  ,\n",
       "         62.984,  63.468,  63.952,  64.436,  64.92 ,  65.404,  65.888,\n",
       "         66.372,  66.856,  67.34 ,  67.824,  68.308,  68.792,  69.276,\n",
       "         69.76 ,  70.244,  70.728,  71.212,  71.696,  72.18 ,  72.664,\n",
       "         73.148,  73.632,  74.116,  74.6  ,  75.084,  75.568,  76.052,\n",
       "         76.536,  77.02 ,  77.504,  77.988,  78.472,  78.956,  79.44 ,\n",
       "         79.924,  80.408,  80.892,  81.376,  81.86 ,  82.344,  82.828,\n",
       "         83.312,  83.796,  84.28 ,  84.764,  85.248,  85.732,  86.216,\n",
       "         86.7  ,  87.184,  87.668,  88.152,  88.636,  89.12 ,  89.604,\n",
       "         90.088,  90.572,  91.056,  91.54 ,  92.024,  92.508,  92.992,\n",
       "         93.476,  93.96 ,  94.444,  94.928,  95.412,  95.896,  96.38 ,\n",
       "         96.864,  97.348,  97.832,  98.316,  98.8  ,  99.284,  99.768,\n",
       "        100.252, 100.736, 101.22 , 101.704, 102.188, 102.672, 103.156,\n",
       "        103.64 , 104.124, 104.608, 105.092, 105.576, 106.06 , 106.544,\n",
       "        107.028, 107.512, 107.996, 108.48 , 108.964, 109.448, 109.932,\n",
       "        110.416, 110.9  , 111.384, 111.868, 112.352, 112.836, 113.32 ,\n",
       "        113.804, 114.288, 114.772, 115.256, 115.74 , 116.224, 116.708,\n",
       "        117.192, 117.676, 118.16 , 118.644, 119.128, 119.612, 120.096,\n",
       "        120.58 , 121.064, 121.548, 122.032, 122.516, 123.   ]),\n",
       " <BarContainer object of 250 artists>)"
      ]
     },
     "execution_count": 254,
     "metadata": {},
     "output_type": "execute_result"
    },
    {
     "data": {
      "image/png": "[encoded data removed]",
      "text/plain": [
       "<Figure size 432x288 with 1 Axes>"
      ]
     },
     "metadata": {
      "needs_background": "light"
     },
     "output_type": "display_data"
    }
   ],
   "source": [
    "plt.hist(num_ANDs, bins=250)"
   ]
  },
  {
   "cell_type": "code",
   "execution_count": 255,
   "id": "hollow-marketing",
   "metadata": {
    "scrolled": true
   },
   "outputs": [
    {
     "data": {
      "text/plain": [
       "(array([ 1.,  0.,  0.,  0.,  0.,  0.,  5.,  0., 15.,  0., 15.,  0., 31.,\n",
       "         0., 39.,  0., 57.,  0., 43.,  0., 46.,  0., 24.,  0., 12.,  0.,\n",
       "        17.,  0.,  3.,  0., 27.,  0.,  0.,  3.,  0., 28.,  0.,  0.,  0.,\n",
       "        36.,  0.,  0.,  0., 26.,  0.,  4.,  0., 23.,  0.,  0.,  0., 24.,\n",
       "         0.,  0.,  0., 16.,  0., 17.,  0.,  5.,  0.,  1.,  0.,  0., 37.,\n",
       "         0.,  0.,  0.,  0.,  0., 18.,  0., 17.,  0.,  0.,  0., 23.,  0.,\n",
       "         0.,  0., 20.,  0., 20.,  0.,  0.,  0.,  0.,  0., 36.,  0.,  1.,\n",
       "         0.,  5.,  0.,  0.,  6.,  0., 11.,  0.,  0.,  0., 10.,  0., 10.,\n",
       "         0., 17.,  0.,  0.,  0.,  0.,  0.,  0.,  0., 19.,  0.,  0.,  0.,\n",
       "         0.,  0.,  4.,  0.,  6.,  0., 19.,  0.,  0.,  5.,  0.,  0.,  0.,\n",
       "         5.,  0.,  0.,  0., 26.,  0.,  0.,  0., 15.,  0.,  0.,  0.,  0.,\n",
       "         0., 12.,  0.,  0.,  0.,  8.,  0.,  9.,  0.,  0.,  0.,  8.,  0.,\n",
       "         0.,  3.,  0.,  0.,  0.,  0.,  0., 13.,  0.,  2.,  0.,  0.,  0.,\n",
       "         0.,  0.,  5.,  0.,  0.,  0., 21.,  0., 10.,  0.,  0.,  0.,  0.,\n",
       "         0.,  0.,  0.,  0.,  0.,  0., 11.,  0.,  0.,  0.,  6.,  0.,  5.,\n",
       "         0.,  1.,  0.,  0.,  0.,  1.,  0.,  0.,  0.,  4.,  0.,  4.,  0.,\n",
       "         0.,  0.,  0.,  0.,  4.,  0.,  0.,  0.,  4.,  0.,  0.,  0.,  0.,\n",
       "         3.,  0.,  0.,  0.,  0.,  0.,  0.,  0.,  0.,  0.,  5.,  0.,  0.,\n",
       "         0.,  0.,  0.,  8.,  0.,  2.,  0.,  0.,  0.,  0.,  0.,  0.,  0.,\n",
       "         0.,  0.,  3.]),\n",
       " array([  5.   ,   5.484,   5.968,   6.452,   6.936,   7.42 ,   7.904,\n",
       "          8.388,   8.872,   9.356,   9.84 ,  10.324,  10.808,  11.292,\n",
       "         11.776,  12.26 ,  12.744,  13.228,  13.712,  14.196,  14.68 ,\n",
       "         15.164,  15.648,  16.132,  16.616,  17.1  ,  17.584,  18.068,\n",
       "         18.552,  19.036,  19.52 ,  20.004,  20.488,  20.972,  21.456,\n",
       "         21.94 ,  22.424,  22.908,  23.392,  23.876,  24.36 ,  24.844,\n",
       "         25.328,  25.812,  26.296,  26.78 ,  27.264,  27.748,  28.232,\n",
       "         28.716,  29.2  ,  29.684,  30.168,  30.652,  31.136,  31.62 ,\n",
       "         32.104,  32.588,  33.072,  33.556,  34.04 ,  34.524,  35.008,\n",
       "         35.492,  35.976,  36.46 ,  36.944,  37.428,  37.912,  38.396,\n",
       "         38.88 ,  39.364,  39.848,  40.332,  40.816,  41.3  ,  41.784,\n",
       "         42.268,  42.752,  43.236,  43.72 ,  44.204,  44.688,  45.172,\n",
       "         45.656,  46.14 ,  46.624,  47.108,  47.592,  48.076,  48.56 ,\n",
       "         49.044,  49.528,  50.012,  50.496,  50.98 ,  51.464,  51.948,\n",
       "         52.432,  52.916,  53.4  ,  53.884,  54.368,  54.852,  55.336,\n",
       "         55.82 ,  56.304,  56.788,  57.272,  57.756,  58.24 ,  58.724,\n",
       "         59.208,  59.692,  60.176,  60.66 ,  61.144,  61.628,  62.112,\n",
       "         62.596,  63.08 ,  63.564,  64.048,  64.532,  65.016,  65.5  ,\n",
       "         65.984,  66.468,  66.952,  67.436,  67.92 ,  68.404,  68.888,\n",
       "         69.372,  69.856,  70.34 ,  70.824,  71.308,  71.792,  72.276,\n",
       "         72.76 ,  73.244,  73.728,  74.212,  74.696,  75.18 ,  75.664,\n",
       "         76.148,  76.632,  77.116,  77.6  ,  78.084,  78.568,  79.052,\n",
       "         79.536,  80.02 ,  80.504,  80.988,  81.472,  81.956,  82.44 ,\n",
       "         82.924,  83.408,  83.892,  84.376,  84.86 ,  85.344,  85.828,\n",
       "         86.312,  86.796,  87.28 ,  87.764,  88.248,  88.732,  89.216,\n",
       "         89.7  ,  90.184,  90.668,  91.152,  91.636,  92.12 ,  92.604,\n",
       "         93.088,  93.572,  94.056,  94.54 ,  95.024,  95.508,  95.992,\n",
       "         96.476,  96.96 ,  97.444,  97.928,  98.412,  98.896,  99.38 ,\n",
       "         99.864, 100.348, 100.832, 101.316, 101.8  , 102.284, 102.768,\n",
       "        103.252, 103.736, 104.22 , 104.704, 105.188, 105.672, 106.156,\n",
       "        106.64 , 107.124, 107.608, 108.092, 108.576, 109.06 , 109.544,\n",
       "        110.028, 110.512, 110.996, 111.48 , 111.964, 112.448, 112.932,\n",
       "        113.416, 113.9  , 114.384, 114.868, 115.352, 115.836, 116.32 ,\n",
       "        116.804, 117.288, 117.772, 118.256, 118.74 , 119.224, 119.708,\n",
       "        120.192, 120.676, 121.16 , 121.644, 122.128, 122.612, 123.096,\n",
       "        123.58 , 124.064, 124.548, 125.032, 125.516, 126.   ]),\n",
       " <BarContainer object of 250 artists>)"
      ]
     },
     "execution_count": 255,
     "metadata": {},
     "output_type": "execute_result"
    },
    {
     "data": {
      "image/png": "[encoded data removed]",
      "text/plain": [
       "<Figure size 432x288 with 1 Axes>"
      ]
     },
     "metadata": {
      "needs_background": "light"
     },
     "output_type": "display_data"
    }
   ],
   "source": [
    "plt.hist(num_ORs, bins=250)"
   ]
  },
  {
   "cell_type": "code",
   "execution_count": null,
   "id": "stylish-sound",
   "metadata": {},
   "outputs": [],
   "source": []
  },
  {
   "cell_type": "code",
   "execution_count": null,
   "id": "combined-hostel",
   "metadata": {},
   "outputs": [],
   "source": []
  },
  {
   "cell_type": "code",
   "execution_count": null,
   "id": "closed-tension",
   "metadata": {},
   "outputs": [],
   "source": []
  },
  {
   "cell_type": "code",
   "execution_count": null,
   "id": "touched-bristol",
   "metadata": {},
   "outputs": [],
   "source": [
    "# Get Stats\n",
    "# get timing stats with num attrs, query length and nesting depth\n",
    "# get distribution stats with num gt keys, num or and num and"
   ]
  },
  {
   "cell_type": "code",
   "execution_count": null,
   "id": "painful-kansas",
   "metadata": {},
   "outputs": [],
   "source": [
    "# for large scale, run validation code again\n",
    "# for small scale, try hand derive"
   ]
  },
  {
   "cell_type": "code",
   "execution_count": 149,
   "id": "pregnant-nutrition",
   "metadata": {},
   "outputs": [
    {
     "data": {
      "text/plain": [
       "0.7520145840115018"
      ]
     },
     "execution_count": 149,
     "metadata": {},
     "output_type": "execute_result"
    }
   ],
   "source": [
    "# num_attributes=2; num_attr_vals=3; nest_depth = 2; num_cards multiple 1\n",
    "16000000 / 1000 * 0.1692032814025879 / 3600"
   ]
  },
  {
   "cell_type": "code",
   "execution_count": 147,
   "id": "advised-warrior",
   "metadata": {},
   "outputs": [
    {
     "data": {
      "text/plain": [
       "1.402472390068902"
      ]
     },
     "execution_count": 147,
     "metadata": {},
     "output_type": "execute_result"
    }
   ],
   "source": [
    "# num_attributes=3; num_attr_vals=3; nest_depth = 2; num_cards multiple 1\n",
    "16000000 / 1000 * 0.31555628776550293 / 3600"
   ]
  },
  {
   "cell_type": "code",
   "execution_count": 145,
   "id": "imposed-viewer",
   "metadata": {},
   "outputs": [
    {
     "data": {
      "text/plain": [
       "3.302209642198351"
      ]
     },
     "execution_count": 145,
     "metadata": {},
     "output_type": "execute_result"
    }
   ],
   "source": [
    "# num_attributes=4; num_attr_vals=3; nest_depth = 2; num_cards multiple 1\n",
    "16000000 / 1000 * 0.7429971694946289 / 3600"
   ]
  },
  {
   "cell_type": "code",
   "execution_count": 143,
   "id": "likely-anthropology",
   "metadata": {},
   "outputs": [
    {
     "data": {
      "text/plain": [
       "14.176464080810547"
      ]
     },
     "execution_count": 143,
     "metadata": {},
     "output_type": "execute_result"
    }
   ],
   "source": [
    "# num_attributes=5; num_attr_vals=3; nest_depth = 2; num_cards multiple 1\n",
    "16000000 / 1000 * 3.189704418182373 / 3600"
   ]
  },
  {
   "cell_type": "code",
   "execution_count": 151,
   "id": "catholic-morrison",
   "metadata": {},
   "outputs": [
    {
     "data": {
      "text/plain": [
       "101.67490747239854"
      ]
     },
     "execution_count": 151,
     "metadata": {},
     "output_type": "execute_result"
    }
   ],
   "source": [
    "# num_attributes=6; num_attr_vals=3; nest_depth = 2; num_cards multiple 1\n",
    "16000000 / 1000 * 22.876854181289673 / 3600"
   ]
  },
  {
   "cell_type": "code",
   "execution_count": null,
   "id": "helpful-north",
   "metadata": {},
   "outputs": [],
   "source": []
  },
  {
   "cell_type": "code",
   "execution_count": 149,
   "id": "dense-louisiana",
   "metadata": {},
   "outputs": [
    {
     "data": {
      "text/plain": [
       "0.7520145840115018"
      ]
     },
     "execution_count": 149,
     "metadata": {},
     "output_type": "execute_result"
    }
   ],
   "source": [
    "# num_attributes=2; num_attr_vals=3; nest_depth = 4; num_cards multiple 1\n",
    "16000000 / 1000 * 0.1772172451019287 / 3600"
   ]
  },
  {
   "cell_type": "code",
   "execution_count": 156,
   "id": "cosmetic-edition",
   "metadata": {},
   "outputs": [
    {
     "data": {
      "text/plain": [
       "1.4645216200086806"
      ]
     },
     "execution_count": 156,
     "metadata": {},
     "output_type": "execute_result"
    }
   ],
   "source": [
    "# num_attributes=3; num_attr_vals=3; nest_depth = 4; num_cards multiple 1\n",
    "16000000 / 1000 * 0.3295173645019531 / 3600"
   ]
  },
  {
   "cell_type": "code",
   "execution_count": 158,
   "id": "bright-transfer",
   "metadata": {},
   "outputs": [
    {
     "data": {
      "text/plain": [
       "3.157599767049154"
      ]
     },
     "execution_count": 158,
     "metadata": {},
     "output_type": "execute_result"
    }
   ],
   "source": [
    "# num_attributes=4; num_attr_vals=3; nest_depth = 4; num_cards multiple 1\n",
    "16000000 / 1000 * 0.7104599475860596 / 3600"
   ]
  },
  {
   "cell_type": "code",
   "execution_count": 160,
   "id": "acknowledged-point",
   "metadata": {},
   "outputs": [
    {
     "data": {
      "text/plain": [
       "11.164175669352213"
      ]
     },
     "execution_count": 160,
     "metadata": {},
     "output_type": "execute_result"
    }
   ],
   "source": [
    "# num_attributes=5; num_attr_vals=3; nest_depth = 4; num_cards multiple 1\n",
    "16000000 / 1000 * 2.511939525604248 / 3600"
   ]
  },
  {
   "cell_type": "code",
   "execution_count": 162,
   "id": "terminal-distinction",
   "metadata": {},
   "outputs": [
    {
     "data": {
      "text/plain": [
       "61.0543590121799"
      ]
     },
     "execution_count": 162,
     "metadata": {},
     "output_type": "execute_result"
    }
   ],
   "source": [
    "# num_attributes=6; num_attr_vals=3; nest_depth = 4; num_cards multiple 1\n",
    "16000000 / 1000 * 13.737230777740479 / 3600"
   ]
  },
  {
   "cell_type": "code",
   "execution_count": null,
   "id": "parliamentary-benjamin",
   "metadata": {},
   "outputs": [],
   "source": []
  },
  {
   "cell_type": "code",
   "execution_count": 173,
   "id": "otherwise-segment",
   "metadata": {},
   "outputs": [
    {
     "data": {
      "text/plain": [
       "1.1663108401828342"
      ]
     },
     "execution_count": 173,
     "metadata": {},
     "output_type": "execute_result"
    }
   ],
   "source": [
    "# num_attributes=2; num_attr_vals=3; nest_depth = 4; num_cards multiple 2\n",
    "16000000 / 1000 * 0.2624199390411377 / 3600"
   ]
  },
  {
   "cell_type": "code",
   "execution_count": 171,
   "id": "expensive-newman",
   "metadata": {},
   "outputs": [
    {
     "data": {
      "text/plain": [
       "2.371549606323242"
      ]
     },
     "execution_count": 171,
     "metadata": {},
     "output_type": "execute_result"
    }
   ],
   "source": [
    "# num_attributes=3; num_attr_vals=3; nest_depth = 4; num_cards multiple 2\n",
    "16000000 / 1000 * 0.5335986614227295 / 3600"
   ]
  },
  {
   "cell_type": "code",
   "execution_count": 169,
   "id": "southwest-associate",
   "metadata": {},
   "outputs": [
    {
     "data": {
      "text/plain": [
       "5.8811706966824"
      ]
     },
     "execution_count": 169,
     "metadata": {},
     "output_type": "execute_result"
    }
   ],
   "source": [
    "# num_attributes=4; num_attr_vals=3; nest_depth = 4; num_cards multiple 2\n",
    "16000000 / 1000 * 1.32326340675354 / 3600"
   ]
  },
  {
   "cell_type": "code",
   "execution_count": 167,
   "id": "alike-humanitarian",
   "metadata": {},
   "outputs": [
    {
     "data": {
      "text/plain": [
       "21.855875651041668"
      ]
     },
     "execution_count": 167,
     "metadata": {},
     "output_type": "execute_result"
    }
   ],
   "source": [
    "# num_attributes=5; num_attr_vals=3; nest_depth = 4; num_cards multiple 2\n",
    "16000000 / 1000 * 4.917572021484375 / 3600"
   ]
  },
  {
   "cell_type": "code",
   "execution_count": 165,
   "id": "pleased-shopper",
   "metadata": {},
   "outputs": [
    {
     "data": {
      "text/plain": [
       "117.83488273620605"
      ]
     },
     "execution_count": 165,
     "metadata": {},
     "output_type": "execute_result"
    }
   ],
   "source": [
    "# num_attributes=6; num_attr_vals=3; nest_depth = 4; num_cards multiple 2\n",
    "16000000 / 1000 * 26.512848615646362 / 3600"
   ]
  },
  {
   "cell_type": "code",
   "execution_count": null,
   "id": "united-touch",
   "metadata": {},
   "outputs": [],
   "source": []
  },
  {
   "cell_type": "code",
   "execution_count": 176,
   "id": "alien-composite",
   "metadata": {},
   "outputs": [
    {
     "data": {
      "text/plain": [
       "19.66436703999837"
      ]
     },
     "execution_count": 176,
     "metadata": {},
     "output_type": "execute_result"
    }
   ],
   "source": [
    "# num_attributes=5; num_attr_vals=3; nest_depth = 8; num_cards multiple 2\n",
    "16000000 / 1000 * 4.424482583999634 / 3600"
   ]
  },
  {
   "cell_type": "code",
   "execution_count": 181,
   "id": "efficient-words",
   "metadata": {},
   "outputs": [
    {
     "data": {
      "text/plain": [
       "81.69234063890245"
      ]
     },
     "execution_count": 181,
     "metadata": {},
     "output_type": "execute_result"
    }
   ],
   "source": [
    "# num_attributes=6; num_attr_vals=3; nest_depth = 8; num_cards multiple 2\n",
    "16000000 / 1000 * 18.38077664375305 / 3600"
   ]
  },
  {
   "cell_type": "code",
   "execution_count": 178,
   "id": "worst-vessel",
   "metadata": {
    "scrolled": true
   },
   "outputs": [
    {
     "data": {
      "text/plain": [
       "268.4806622399224"
      ]
     },
     "execution_count": 178,
     "metadata": {},
     "output_type": "execute_result"
    }
   ],
   "source": [
    "# num_attributes=6; num_attr_vals=3; nest_depth = 8; num_cards multiple 8\n",
    "16000000 / 1000 * 60.408149003982544 / 3600 # 11.186694259996768 days"
   ]
  },
  {
   "cell_type": "code",
   "execution_count": null,
   "id": "threaded-delivery",
   "metadata": {},
   "outputs": [],
   "source": []
  },
  {
   "cell_type": "code",
   "execution_count": 245,
   "id": "headed-facility",
   "metadata": {
    "scrolled": true
   },
   "outputs": [
    {
     "data": {
      "text/plain": [
       "76.3887447781033"
      ]
     },
     "execution_count": 245,
     "metadata": {},
     "output_type": "execute_result"
    }
   ],
   "source": [
    "# num_attributes=5; num_attr_vals=3; nest_depth = 16; num_cards multiple 8\n",
    "16000000 / 1000 * 17.187467575073242 / 3600"
   ]
  },
  {
   "cell_type": "code",
   "execution_count": 187,
   "id": "velvet-mechanism",
   "metadata": {
    "scrolled": true
   },
   "outputs": [
    {
     "data": {
      "text/plain": [
       "275.50590833028156"
      ]
     },
     "execution_count": 187,
     "metadata": {},
     "output_type": "execute_result"
    }
   ],
   "source": [
    "# num_attributes=6; num_attr_vals=3; nest_depth = 16; num_cards multiple 8\n",
    "16000000 / 1000 * 61.988829374313354 / 3600"
   ]
  },
  {
   "cell_type": "code",
   "execution_count": null,
   "id": "greatest-detector",
   "metadata": {},
   "outputs": [],
   "source": []
  },
  {
   "cell_type": "code",
   "execution_count": null,
   "id": "musical-reference",
   "metadata": {},
   "outputs": [],
   "source": []
  },
  {
   "cell_type": "code",
   "execution_count": null,
   "id": "thermal-sapphire",
   "metadata": {},
   "outputs": [],
   "source": [
    "# Testing\n",
    "    # - by example\n",
    "        # - pull intermediate outputs for a few examples\n",
    "            # short\n",
    "            # long\n",
    "                # pull intermediate outputs.\n",
    "                # pull DERIVE, check if eval expression indeed eval to ans. Try hand and previously written functions.\n",
    "        \n",
    "        # check if eval expression indeed eval to ans by PROPERTIES. Try hand and previously written functions.l \n",
    "\n",
    "    # - by statistics\n",
    "        # - are query lengths, gt_key_idx lengths, num_or and num_and ops balanced. Pull some stats for presentations"
   ]
  },
  {
   "cell_type": "code",
   "execution_count": null,
   "id": "political-hawaii",
   "metadata": {},
   "outputs": [],
   "source": []
  }
 ],
 "metadata": {
  "kernelspec": {
   "display_name": "Python 3",
   "language": "python",
   "name": "python3"
  },
  "language_info": {
   "codemirror_mode": {
    "name": "ipython",
    "version": 3
   },
   "file_extension": ".py",
   "mimetype": "text/x-python",
   "name": "python",
   "nbconvert_exporter": "python",
   "pygments_lexer": "ipython3",
   "version": "3.8.3"
  }
 },
 "nbformat": 4,
 "nbformat_minor": 5
}

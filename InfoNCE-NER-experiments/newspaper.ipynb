{
 "cells": [
  {
   "cell_type": "code",
   "execution_count": 7,
   "id": "reserved-underground",
   "metadata": {},
   "outputs": [],
   "source": [
    "import numpy as np\n",
    "import itertools\n",
    "import matplotlib.pyplot as plt\n",
    "import torch\n",
    "from tqdm import tqdm\n",
    "from collections import defaultdict, Counter"
   ]
  },
  {
   "cell_type": "code",
   "execution_count": 8,
   "id": "heavy-smile",
   "metadata": {},
   "outputs": [],
   "source": [
    "corpus = [\n",
    "    ['USA Today']*5, \n",
    "    ['The Wall Street Journal']*20,\n",
    "    ['The New York Times']*20,\n",
    "    ['New York Post']*20,\n",
    "    ['Los Angeles Times']*5,\n",
    "    ['The Washington Post']*10,\n",
    "    ['Star Tribune']*5,\n",
    "    ['Chicago Tribue']*10,\n",
    "    ['The Boston Globe']*10\n",
    "]\n",
    "corpus = [ne for l in corpus for ne in l]"
   ]
  },
  {
   "cell_type": "code",
   "execution_count": 9,
   "id": "enormous-mexico",
   "metadata": {},
   "outputs": [],
   "source": [
    "scrapped_named_entities_counts = {\n",
    "    'USA Today':5,\n",
    "    'The Wall Street Journal':20,\n",
    "    'The New York Times':20,\n",
    "    'New York Post':20,\n",
    "    'Los Angeles Times':5,\n",
    "    'The Washington Post':10,\n",
    "    'Star Tribune':5,\n",
    "    'Chicago Tribue':10,\n",
    "    'The Boston Globe':10,\n",
    "}"
   ]
  },
  {
   "cell_type": "code",
   "execution_count": 20,
   "id": "statistical-technology",
   "metadata": {},
   "outputs": [
    {
     "data": {
      "text/plain": [
       "[('The', 60),\n",
       " ('New', 40),\n",
       " ('York', 40),\n",
       " ('Post', 30),\n",
       " ('Times', 25),\n",
       " ('Wall', 20),\n",
       " ('Street', 20),\n",
       " ('Journal', 20),\n",
       " ('Washington', 10),\n",
       " ('Chicago', 10),\n",
       " ('Tribue', 10),\n",
       " ('Boston', 10),\n",
       " ('Globe', 10),\n",
       " ('USA', 5),\n",
       " ('Today', 5),\n",
       " ('Los', 5),\n",
       " ('Angeles', 5),\n",
       " ('Star', 5),\n",
       " ('Tribune', 5)]"
      ]
     },
     "execution_count": 20,
     "metadata": {},
     "output_type": "execute_result"
    }
   ],
   "source": [
    "# Do a word count\n",
    "word_count = defaultdict(int)\n",
    "\n",
    "for ne in corpus:\n",
    "    words = ne.split(' ')\n",
    "    for w in words:\n",
    "        word_count[w] += 1\n",
    "        \n",
    "sorted_words = sorted(list(word_count.items()), key=lambda x: x[1], reverse=True)\n",
    "sorted_words"
   ]
  },
  {
   "cell_type": "code",
   "execution_count": 22,
   "id": "noted-press",
   "metadata": {},
   "outputs": [
    {
     "data": {
      "text/plain": [
       "['The',\n",
       " 'New',\n",
       " 'York',\n",
       " 'Post',\n",
       " 'Times',\n",
       " 'Wall',\n",
       " 'Street',\n",
       " 'Journal',\n",
       " 'Washington',\n",
       " 'Chicago',\n",
       " 'Tribue',\n",
       " 'Boston',\n",
       " 'Globe',\n",
       " 'USA',\n",
       " 'Today',\n",
       " 'Los',\n",
       " 'Angeles',\n",
       " 'Star',\n",
       " 'Tribune']"
      ]
     },
     "execution_count": 22,
     "metadata": {},
     "output_type": "execute_result"
    }
   ],
   "source": [
    "word_set = [w for w,c in sorted_words]\n",
    "word_set"
   ]
  },
  {
   "cell_type": "code",
   "execution_count": 23,
   "id": "rough-saver",
   "metadata": {},
   "outputs": [],
   "source": [
    "Vocab = {}\n",
    "Vocab['w2i']={w:i for i, w in enumerate(word_set)}\n",
    "Vocab['i2w']={i:w for i, w in enumerate(word_set)}"
   ]
  },
  {
   "cell_type": "code",
   "execution_count": 24,
   "id": "third-insider",
   "metadata": {
    "scrolled": true
   },
   "outputs": [
    {
     "data": {
      "text/plain": [
       "array([[ 0., 20., 20., 10., 20., 20., 20., 20., 10.,  0.,  0., 10., 10.,\n",
       "         0.,  0.,  0.,  0.,  0.,  0.],\n",
       "       [20.,  0., 40., 20., 20.,  0.,  0.,  0.,  0.,  0.,  0.,  0.,  0.,\n",
       "         0.,  0.,  0.,  0.,  0.,  0.],\n",
       "       [20., 40.,  0., 20., 20.,  0.,  0.,  0.,  0.,  0.,  0.,  0.,  0.,\n",
       "         0.,  0.,  0.,  0.,  0.,  0.],\n",
       "       [10., 20., 20.,  0.,  0.,  0.,  0.,  0., 10.,  0.,  0.,  0.,  0.,\n",
       "         0.,  0.,  0.,  0.,  0.,  0.],\n",
       "       [20., 20., 20.,  0.,  0.,  0.,  0.,  0.,  0.,  0.,  0.,  0.,  0.,\n",
       "         0.,  0.,  5.,  5.,  0.,  0.],\n",
       "       [20.,  0.,  0.,  0.,  0.,  0., 20., 20.,  0.,  0.,  0.,  0.,  0.,\n",
       "         0.,  0.,  0.,  0.,  0.,  0.],\n",
       "       [20.,  0.,  0.,  0.,  0., 20.,  0., 20.,  0.,  0.,  0.,  0.,  0.,\n",
       "         0.,  0.,  0.,  0.,  0.,  0.],\n",
       "       [20.,  0.,  0.,  0.,  0., 20., 20.,  0.,  0.,  0.,  0.,  0.,  0.,\n",
       "         0.,  0.,  0.,  0.,  0.,  0.],\n",
       "       [10.,  0.,  0., 10.,  0.,  0.,  0.,  0.,  0.,  0.,  0.,  0.,  0.,\n",
       "         0.,  0.,  0.,  0.,  0.,  0.],\n",
       "       [ 0.,  0.,  0.,  0.,  0.,  0.,  0.,  0.,  0.,  0., 10.,  0.,  0.,\n",
       "         0.,  0.,  0.,  0.,  0.,  0.],\n",
       "       [ 0.,  0.,  0.,  0.,  0.,  0.,  0.,  0.,  0., 10.,  0.,  0.,  0.,\n",
       "         0.,  0.,  0.,  0.,  0.,  0.],\n",
       "       [10.,  0.,  0.,  0.,  0.,  0.,  0.,  0.,  0.,  0.,  0.,  0., 10.,\n",
       "         0.,  0.,  0.,  0.,  0.,  0.],\n",
       "       [10.,  0.,  0.,  0.,  0.,  0.,  0.,  0.,  0.,  0.,  0., 10.,  0.,\n",
       "         0.,  0.,  0.,  0.,  0.,  0.],\n",
       "       [ 0.,  0.,  0.,  0.,  0.,  0.,  0.,  0.,  0.,  0.,  0.,  0.,  0.,\n",
       "         0.,  5.,  0.,  0.,  0.,  0.],\n",
       "       [ 0.,  0.,  0.,  0.,  0.,  0.,  0.,  0.,  0.,  0.,  0.,  0.,  0.,\n",
       "         5.,  0.,  0.,  0.,  0.,  0.],\n",
       "       [ 0.,  0.,  0.,  0.,  5.,  0.,  0.,  0.,  0.,  0.,  0.,  0.,  0.,\n",
       "         0.,  0.,  0.,  5.,  0.,  0.],\n",
       "       [ 0.,  0.,  0.,  0.,  5.,  0.,  0.,  0.,  0.,  0.,  0.,  0.,  0.,\n",
       "         0.,  0.,  5.,  0.,  0.,  0.],\n",
       "       [ 0.,  0.,  0.,  0.,  0.,  0.,  0.,  0.,  0.,  0.,  0.,  0.,  0.,\n",
       "         0.,  0.,  0.,  0.,  0.,  5.],\n",
       "       [ 0.,  0.,  0.,  0.,  0.,  0.,  0.,  0.,  0.,  0.,  0.,  0.,  0.,\n",
       "         0.,  0.,  0.,  0.,  5.,  0.]])"
      ]
     },
     "execution_count": 24,
     "metadata": {},
     "output_type": "execute_result"
    }
   ],
   "source": [
    "count_table = np.zeros((len(word_set), len(word_set)))\n",
    "\n",
    "for ne in corpus:\n",
    "    words = ne.split(' ')\n",
    "    for w1, w2 in itertools.combinations(words, 2):\n",
    "        count_table[Vocab['w2i'][w1], Vocab['w2i'][w2]] += 1\n",
    "        count_table[Vocab['w2i'][w2], Vocab['w2i'][w1]] += 1\n",
    "\n",
    "count_table"
   ]
  },
  {
   "cell_type": "code",
   "execution_count": 25,
   "id": "general-winter",
   "metadata": {},
   "outputs": [],
   "source": [
    "xy = count_table/np.sum(count_table)"
   ]
  },
  {
   "cell_type": "code",
   "execution_count": 26,
   "id": "cheap-works",
   "metadata": {},
   "outputs": [
    {
     "data": {
      "text/plain": [
       "<matplotlib.image.AxesImage at 0x7f020cd44e20>"
      ]
     },
     "execution_count": 26,
     "metadata": {},
     "output_type": "execute_result"
    },
    {
     "data": {
      "image/png": "[encoded data removed]",
      "text/plain": [
       "<Figure size 432x288 with 1 Axes>"
      ]
     },
     "metadata": {
      "needs_background": "light"
     },
     "output_type": "display_data"
    }
   ],
   "source": [
    "plt.imshow(xy)"
   ]
  },
  {
   "cell_type": "code",
   "execution_count": 27,
   "id": "limiting-truth",
   "metadata": {
    "scrolled": true
   },
   "outputs": [
    {
     "data": {
      "text/plain": [
       "<matplotlib.image.AxesImage at 0x7f020cc35520>"
      ]
     },
     "execution_count": 27,
     "metadata": {},
     "output_type": "execute_result"
    },
    {
     "data": {
      "image/png": "[encoded data removed]",
      "text/plain": [
       "<Figure size 432x288 with 1 Axes>"
      ]
     },
     "metadata": {
      "needs_background": "light"
     },
     "output_type": "display_data"
    }
   ],
   "source": [
    "x = np.sum(xy,0)\n",
    "y = np.sum(xy,1)\n",
    "xyind = y[None].T @ x[None]\n",
    "plt.imshow(xy/xyind)"
   ]
  },
  {
   "cell_type": "code",
   "execution_count": 28,
   "id": "desperate-offset",
   "metadata": {},
   "outputs": [
    {
     "data": {
      "text/plain": [
       "<matplotlib.image.AxesImage at 0x7f020cc12d30>"
      ]
     },
     "execution_count": 28,
     "metadata": {},
     "output_type": "execute_result"
    },
    {
     "data": {
      "image/png": "[encoded data removed]",
      "text/plain": [
       "<Figure size 432x288 with 1 Axes>"
      ]
     },
     "metadata": {
      "needs_background": "light"
     },
     "output_type": "display_data"
    }
   ],
   "source": [
    "plt.imshow(xyind)"
   ]
  },
  {
   "cell_type": "code",
   "execution_count": 13,
   "id": "thick-yugoslavia",
   "metadata": {},
   "outputs": [],
   "source": [
    "def run_expr(n_batch_b, n_batch_B, vocab, embed_size, iters):\n",
    "    '''\n",
    "    infoNCE\n",
    "    '''\n",
    "    torch.manual_seed(42)\n",
    "    E = torch.nn.Embedding(len(Vocab['w2i']), embed_size)\n",
    "    torch.nn.init.normal_(E.weight, mean=0., std=(0.01)**(1/2))\n",
    "    print(E.weight.data[:2, :5])\n",
    "    \n",
    "    optimizer = torch.optim.SGD(E.parameters(),1, 0.99)\n",
    "    Ebar = E.weight.data\n",
    "    \n",
    "    history = {'loss':[], 'E_var':[], 'gradients':[]}\n",
    "    loss_B = 0\n",
    "    \n",
    "    for iteration in tqdm(range(1,iters)):\n",
    "        \n",
    "        samples = [np.random.choice(range(xy.reshape(-1).shape[0]), p=xy.reshape(-1)) for i in range(n_batch_b)]\n",
    "        samples = np.array([(xi//x.shape[0], xi%x.shape[0]) for xi in samples])\n",
    "        \n",
    "        optimizer.zero_grad()\n",
    "        \n",
    "        # n_batch_b, embed_size\n",
    "        x_samples = E(torch.tensor([x for x,y in samples]))\n",
    "        # n_batch_b, embed_size\n",
    "        y_samples = E(torch.tensor([y for x,y in samples]))\n",
    "        \n",
    "        loss_b = 0\n",
    "        for i in range(n_batch_b):\n",
    "            \n",
    "            nom_x = torch.exp(torch.dot(x_samples[i], y_samples[i]))\n",
    "            denom_x = torch.sum(torch.exp(torch.matmul(x_samples[i].unsqueeze(0), y_samples.T)))\n",
    "            lossi_x = nom_x / denom_x\n",
    "            \n",
    "            nom_y = torch.exp(torch.dot(x_samples[i], y_samples[i]))\n",
    "            denom_y = torch.sum(torch.exp(torch.matmul(y_samples[i].unsqueeze(0), x_samples.T)))\n",
    "            lossi_y = nom_y / denom_y\n",
    "            \n",
    "            loss_b = loss_b + ((torch.log(lossi_x) + torch.log(lossi_y)) * 0.5)\n",
    "        \n",
    "        loss_b = -1*loss_b/n_batch_b\n",
    "        \n",
    "        # Accumulate loss to batch B\n",
    "        loss_B += loss_b\n",
    "        \n",
    "        if iteration % n_batch_B == 0:\n",
    "            loss = loss_B / n_batch_B\n",
    "            loss.backward()\n",
    "            history['gradients'].append(torch.mean(torch.absolute(E.weight.grad)).cpu().item())\n",
    "            optimizer.step()\n",
    "            history['loss'].append(loss.cpu().item())\n",
    "            history['E_var'].append(torch.var(E.weight.data).cpu().item())\n",
    "            Ebar = (1-1/iteration)*Ebar + (1/iteration)*E.weight.data\n",
    "            loss_B = 0\n",
    "\n",
    "        if iteration % 50 == 0:\n",
    "            \n",
    "            print(torch.var(E.weight.data)) #!!! ToDo should plot F instead\n",
    "            \n",
    "            F = torch.exp(torch.matmul(E.weight.data, E.weight.data.T))\n",
    "            plt.imshow(F.detach().cpu().numpy()) #!!! ToDo should plot F instead\n",
    "            \n",
    "            plt.savefig(f\"newspaper_training_bB_results/F_infoNCE_bB_{n_batch_b}_{n_batch_B}_{iteration}.png\")\n",
    "\n",
    "    np.save(f'newspaper_training_bB_results/Ebar_infoNCE_bB_{n_batch_b}_{n_batch_B}_{iteration}.npy', Ebar.detach().cpu().numpy())\n",
    "    np.save(f'newspaper_training_bB_results/E_infoNCE_bB_{n_batch_b}_{n_batch_B}_{iteration}.npy', E.weight.data.detach().cpu().numpy())\n",
    "    np.save(f'newspaper_training_bB_results/training_loss_infoNCE_bB_{n_batch_b}_{n_batch_B}_{iteration}.npy', np.array(history['loss']))\n",
    "    return E, Ebar, history        "
   ]
  },
  {
   "cell_type": "code",
   "execution_count": 14,
   "id": "theoretical-notebook",
   "metadata": {
    "scrolled": true
   },
   "outputs": [
    {
     "name": "stderr",
     "output_type": "stream",
     "text": [
      "  4%|▍         | 4/99 [00:00<00:02, 38.91it/s]"
     ]
    },
    {
     "name": "stdout",
     "output_type": "stream",
     "text": [
      "tensor([[-0.0318,  0.1215,  0.1420, -0.0055,  0.0025],\n",
      "        [ 0.0684, -0.1325, -0.0516,  0.0600,  0.0415]])\n"
     ]
    },
    {
     "name": "stderr",
     "output_type": "stream",
     "text": [
      " 58%|█████▊    | 57/99 [00:00<00:00, 65.84it/s]"
     ]
    },
    {
     "name": "stdout",
     "output_type": "stream",
     "text": [
      "tensor(nan)\n"
     ]
    },
    {
     "name": "stderr",
     "output_type": "stream",
     "text": [
      "100%|██████████| 99/99 [00:01<00:00, 79.20it/s]\n"
     ]
    },
    {
     "data": {
      "image/png": "[encoded data removed]",
      "text/plain": [
       "<Figure size 432x288 with 1 Axes>"
      ]
     },
     "metadata": {
      "needs_background": "light"
     },
     "output_type": "display_data"
    }
   ],
   "source": [
    "E, Ebar, history  = run_expr(n_batch_b=50, n_batch_B=1, vocab=Vocab, embed_size=20, iters=100)"
   ]
  },
  {
   "cell_type": "code",
   "execution_count": 91,
   "id": "worst-warehouse",
   "metadata": {
    "scrolled": true
   },
   "outputs": [
    {
     "data": {
      "text/plain": [
       "[20.961545944213867,\n",
       " 11.066514015197754,\n",
       " 6.459082126617432,\n",
       " 8.418659210205078,\n",
       " 15.787873268127441,\n",
       " 14.199901580810547,\n",
       " 11.63984489440918,\n",
       " 9.902584075927734,\n",
       " 12.362784385681152,\n",
       " 14.752937316894531,\n",
       " 10.381041526794434,\n",
       " 9.374065399169922,\n",
       " 11.200287818908691,\n",
       " 15.620593070983887,\n",
       " 12.491927146911621,\n",
       " 8.776477813720703,\n",
       " 13.45745849609375,\n",
       " 11.893834114074707,\n",
       " 8.982126235961914,\n",
       " 8.533663749694824,\n",
       " 10.646493911743164,\n",
       " 18.72426986694336,\n",
       " 16.209915161132812,\n",
       " 15.643284797668457,\n",
       " 9.65835952758789,\n",
       " 8.009428977966309,\n",
       " inf,\n",
       " nan,\n",
       " nan,\n",
       " nan,\n",
       " nan,\n",
       " nan,\n",
       " nan,\n",
       " nan,\n",
       " nan,\n",
       " nan,\n",
       " nan,\n",
       " nan,\n",
       " nan,\n",
       " nan,\n",
       " nan,\n",
       " nan,\n",
       " nan,\n",
       " nan,\n",
       " nan,\n",
       " nan,\n",
       " nan,\n",
       " nan,\n",
       " nan,\n",
       " nan,\n",
       " nan,\n",
       " nan,\n",
       " nan,\n",
       " nan,\n",
       " nan,\n",
       " nan,\n",
       " nan,\n",
       " nan,\n",
       " nan,\n",
       " nan,\n",
       " nan,\n",
       " nan,\n",
       " nan,\n",
       " nan,\n",
       " nan,\n",
       " nan,\n",
       " nan,\n",
       " nan,\n",
       " nan,\n",
       " nan,\n",
       " nan,\n",
       " nan,\n",
       " nan,\n",
       " nan,\n",
       " nan,\n",
       " nan,\n",
       " nan,\n",
       " nan,\n",
       " nan,\n",
       " nan,\n",
       " nan,\n",
       " nan,\n",
       " nan,\n",
       " nan,\n",
       " nan,\n",
       " nan,\n",
       " nan,\n",
       " nan,\n",
       " nan,\n",
       " nan,\n",
       " nan,\n",
       " nan,\n",
       " nan,\n",
       " nan,\n",
       " nan,\n",
       " nan,\n",
       " nan,\n",
       " nan,\n",
       " nan]"
      ]
     },
     "execution_count": 91,
     "metadata": {},
     "output_type": "execute_result"
    }
   ],
   "source": [
    "history['loss']"
   ]
  },
  {
   "cell_type": "code",
   "execution_count": 92,
   "id": "premium-vintage",
   "metadata": {},
   "outputs": [
    {
     "data": {
      "text/plain": [
       "tensor([[nan, nan, nan, nan, nan, nan, nan, nan, nan, nan, nan, nan, nan, nan, nan, nan, nan, nan, nan, nan],\n",
       "        [nan, nan, nan, nan, nan, nan, nan, nan, nan, nan, nan, nan, nan, nan, nan, nan, nan, nan, nan, nan],\n",
       "        [nan, nan, nan, nan, nan, nan, nan, nan, nan, nan, nan, nan, nan, nan, nan, nan, nan, nan, nan, nan],\n",
       "        [nan, nan, nan, nan, nan, nan, nan, nan, nan, nan, nan, nan, nan, nan, nan, nan, nan, nan, nan, nan],\n",
       "        [nan, nan, nan, nan, nan, nan, nan, nan, nan, nan, nan, nan, nan, nan, nan, nan, nan, nan, nan, nan],\n",
       "        [nan, nan, nan, nan, nan, nan, nan, nan, nan, nan, nan, nan, nan, nan, nan, nan, nan, nan, nan, nan],\n",
       "        [nan, nan, nan, nan, nan, nan, nan, nan, nan, nan, nan, nan, nan, nan, nan, nan, nan, nan, nan, nan],\n",
       "        [nan, nan, nan, nan, nan, nan, nan, nan, nan, nan, nan, nan, nan, nan, nan, nan, nan, nan, nan, nan],\n",
       "        [nan, nan, nan, nan, nan, nan, nan, nan, nan, nan, nan, nan, nan, nan, nan, nan, nan, nan, nan, nan],\n",
       "        [nan, nan, nan, nan, nan, nan, nan, nan, nan, nan, nan, nan, nan, nan, nan, nan, nan, nan, nan, nan],\n",
       "        [nan, nan, nan, nan, nan, nan, nan, nan, nan, nan, nan, nan, nan, nan, nan, nan, nan, nan, nan, nan],\n",
       "        [nan, nan, nan, nan, nan, nan, nan, nan, nan, nan, nan, nan, nan, nan, nan, nan, nan, nan, nan, nan],\n",
       "        [nan, nan, nan, nan, nan, nan, nan, nan, nan, nan, nan, nan, nan, nan, nan, nan, nan, nan, nan, nan],\n",
       "        [nan, nan, nan, nan, nan, nan, nan, nan, nan, nan, nan, nan, nan, nan, nan, nan, nan, nan, nan, nan],\n",
       "        [nan, nan, nan, nan, nan, nan, nan, nan, nan, nan, nan, nan, nan, nan, nan, nan, nan, nan, nan, nan],\n",
       "        [nan, nan, nan, nan, nan, nan, nan, nan, nan, nan, nan, nan, nan, nan, nan, nan, nan, nan, nan, nan],\n",
       "        [nan, nan, nan, nan, nan, nan, nan, nan, nan, nan, nan, nan, nan, nan, nan, nan, nan, nan, nan, nan],\n",
       "        [nan, nan, nan, nan, nan, nan, nan, nan, nan, nan, nan, nan, nan, nan, nan, nan, nan, nan, nan, nan],\n",
       "        [nan, nan, nan, nan, nan, nan, nan, nan, nan, nan, nan, nan, nan, nan, nan, nan, nan, nan, nan, nan]])"
      ]
     },
     "execution_count": 92,
     "metadata": {},
     "output_type": "execute_result"
    }
   ],
   "source": [
    "E.weight.data"
   ]
  },
  {
   "cell_type": "code",
   "execution_count": 28,
   "id": "rental-export",
   "metadata": {},
   "outputs": [
    {
     "data": {
      "text/plain": [
       "torch.Size([2, 3])"
      ]
     },
     "execution_count": 28,
     "metadata": {},
     "output_type": "execute_result"
    }
   ],
   "source": [
    "b.shape"
   ]
  },
  {
   "cell_type": "code",
   "execution_count": null,
   "id": "substantial-enough",
   "metadata": {},
   "outputs": [],
   "source": [
    "# v by embed_size, embed_size by v"
   ]
  },
  {
   "cell_type": "code",
   "execution_count": 33,
   "id": "integrated-bearing",
   "metadata": {},
   "outputs": [],
   "source": [
    "E1 = torch.nn.Embedding(5,10)"
   ]
  },
  {
   "cell_type": "code",
   "execution_count": 37,
   "id": "comprehensive-budget",
   "metadata": {},
   "outputs": [
    {
     "data": {
      "text/plain": [
       "tensor([[-0.8861,  1.0151, -1.1938,  0.1256, -0.8193, -0.4286,  2.2358,  0.0575,\n",
       "          1.0349, -0.5117],\n",
       "        [-1.3048,  0.9840, -0.0337,  0.5159, -0.2033, -0.7645,  0.9870, -0.0499,\n",
       "         -0.0212,  1.1756],\n",
       "        [-0.7436, -0.2535,  0.8155,  0.2760, -1.3243, -0.5104, -0.4147,  0.4566,\n",
       "         -0.5119, -0.5716],\n",
       "        [ 0.1240,  0.2662, -0.4660, -0.8304,  1.2067,  0.3586,  1.2879, -0.3648,\n",
       "         -1.5717, -0.5275],\n",
       "        [ 0.4110, -1.5234,  0.5938,  0.8308, -0.0407,  2.6929, -0.4422, -3.6095,\n",
       "         -0.5941, -0.3820]])"
      ]
     },
     "execution_count": 37,
     "metadata": {},
     "output_type": "execute_result"
    }
   ],
   "source": [
    "E1.weight.data"
   ]
  },
  {
   "cell_type": "code",
   "execution_count": 38,
   "id": "ideal-foundation",
   "metadata": {},
   "outputs": [
    {
     "data": {
      "text/plain": [
       "torch.Size([5, 10])"
      ]
     },
     "execution_count": 38,
     "metadata": {},
     "output_type": "execute_result"
    }
   ],
   "source": [
    "E1.weight.data.shape"
   ]
  },
  {
   "cell_type": "code",
   "execution_count": 41,
   "id": "identified-stability",
   "metadata": {},
   "outputs": [
    {
     "data": {
      "text/plain": [
       "tensor([[3.4421e+04, 7.6315e+01, 6.8952e-01, 2.6431e+00, 5.2392e-03],\n",
       "        [7.6315e+01, 3.7354e+02, 1.4946e+00, 8.7854e-01, 1.2652e-02],\n",
       "        [6.8952e-01, 1.4946e+00, 7.6843e+01, 1.1714e-01, 2.3029e-01],\n",
       "        [2.6431e+00, 8.7854e-01, 1.1714e-01, 1.2340e+03, 4.3833e+00],\n",
       "        [5.2392e-03, 1.2652e-02, 2.3029e-01, 4.3833e+00, 4.4074e+10]])"
      ]
     },
     "execution_count": 41,
     "metadata": {},
     "output_type": "execute_result"
    }
   ],
   "source": [
    "torch.exp(torch.matmul(E1.weight.data, E1.weight.data.T))"
   ]
  },
  {
   "cell_type": "code",
   "execution_count": null,
   "id": "suffering-manual",
   "metadata": {},
   "outputs": [],
   "source": []
  }
 ],
 "metadata": {
  "kernelspec": {
   "display_name": "Python 3",
   "language": "python",
   "name": "python3"
  },
  "language_info": {
   "codemirror_mode": {
    "name": "ipython",
    "version": 3
   },
   "file_extension": ".py",
   "mimetype": "text/x-python",
   "name": "python",
   "nbconvert_exporter": "python",
   "pygments_lexer": "ipython3",
   "version": "3.8.3"
  }
 },
 "nbformat": 4,
 "nbformat_minor": 5
}

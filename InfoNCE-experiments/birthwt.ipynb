{
 "cells": [
  {
   "cell_type": "code",
   "execution_count": 1,
   "id": "golden-federation",
   "metadata": {},
   "outputs": [],
   "source": [
    "import torch\n",
    "import torch.nn.functional as F\n",
    "import csv\n",
    "import numpy as np\n",
    "import random\n",
    "import itertools\n",
    "from tqdm import tqdm\n",
    "import matplotlib.pyplot as plt"
   ]
  },
  {
   "cell_type": "code",
   "execution_count": 2,
   "id": "dominant-mexico",
   "metadata": {},
   "outputs": [
    {
     "data": {
      "text/plain": [
       "[['', 'low', 'age', 'lwt', 'race', 'smoke', 'ptl', 'ht', 'ui', 'ftv', 'bwt'],\n",
       " ['85', '0', '19', '182', '2', '0', '0', '0', '1', '0', '2523'],\n",
       " ['86', '0', '33', '155', '3', '0', '0', '0', '0', '3', '2551'],\n",
       " ['87', '0', '20', '105', '1', '1', '0', '0', '0', '1', '2557'],\n",
       " ['88', '0', '21', '108', '1', '1', '0', '0', '1', '2', '2594'],\n",
       " ['89', '0', '18', '107', '1', '1', '0', '0', '1', '0', '2600'],\n",
       " ['91', '0', '21', '124', '3', '0', '0', '0', '0', '0', '2622'],\n",
       " ['92', '0', '22', '118', '1', '0', '0', '0', '0', '1', '2637'],\n",
       " ['93', '0', '17', '103', '3', '0', '0', '0', '0', '1', '2637'],\n",
       " ['94', '0', '29', '123', '1', '1', '0', '0', '0', '1', '2663'],\n",
       " ['95', '0', '26', '113', '1', '1', '0', '0', '0', '0', '2665'],\n",
       " ['96', '0', '19', '95', '3', '0', '0', '0', '0', '0', '2722'],\n",
       " ['97', '0', '19', '150', '3', '0', '0', '0', '0', '1', '2733'],\n",
       " ['98', '0', '22', '95', '3', '0', '0', '1', '0', '0', '2751'],\n",
       " ['99', '0', '30', '107', '3', '0', '1', '0', '1', '2', '2750'],\n",
       " ['100', '0', '18', '100', '1', '1', '0', '0', '0', '0', '2769'],\n",
       " ['101', '0', '18', '100', '1', '1', '0', '0', '0', '0', '2769'],\n",
       " ['102', '0', '15', '98', '2', '0', '0', '0', '0', '0', '2778'],\n",
       " ['103', '0', '25', '118', '1', '1', '0', '0', '0', '3', '2782'],\n",
       " ['104', '0', '20', '120', '3', '0', '0', '0', '1', '0', '2807'],\n",
       " ['105', '0', '28', '120', '1', '1', '0', '0', '0', '1', '2821'],\n",
       " ['106', '0', '32', '121', '3', '0', '0', '0', '0', '2', '2835'],\n",
       " ['107', '0', '31', '100', '1', '0', '0', '0', '1', '3', '2835'],\n",
       " ['108', '0', '36', '202', '1', '0', '0', '0', '0', '1', '2836'],\n",
       " ['109', '0', '28', '120', '3', '0', '0', '0', '0', '0', '2863'],\n",
       " ['111', '0', '25', '120', '3', '0', '0', '0', '1', '2', '2877'],\n",
       " ['112', '0', '28', '167', '1', '0', '0', '0', '0', '0', '2877'],\n",
       " ['113', '0', '17', '122', '1', '1', '0', '0', '0', '0', '2906'],\n",
       " ['114', '0', '29', '150', '1', '0', '0', '0', '0', '2', '2920'],\n",
       " ['115', '0', '26', '168', '2', '1', '0', '0', '0', '0', '2920'],\n",
       " ['116', '0', '17', '113', '2', '0', '0', '0', '0', '1', '2920'],\n",
       " ['117', '0', '17', '113', '2', '0', '0', '0', '0', '1', '2920'],\n",
       " ['118', '0', '24', '90', '1', '1', '1', '0', '0', '1', '2948'],\n",
       " ['119', '0', '35', '121', '2', '1', '1', '0', '0', '1', '2948'],\n",
       " ['120', '0', '25', '155', '1', '0', '0', '0', '0', '1', '2977'],\n",
       " ['121', '0', '25', '125', '2', '0', '0', '0', '0', '0', '2977'],\n",
       " ['123', '0', '29', '140', '1', '1', '0', '0', '0', '2', '2977'],\n",
       " ['124', '0', '19', '138', '1', '1', '0', '0', '0', '2', '2977'],\n",
       " ['125', '0', '27', '124', '1', '1', '0', '0', '0', '0', '2922'],\n",
       " ['126', '0', '31', '215', '1', '1', '0', '0', '0', '2', '3005'],\n",
       " ['127', '0', '33', '109', '1', '1', '0', '0', '0', '1', '3033'],\n",
       " ['128', '0', '21', '185', '2', '1', '0', '0', '0', '2', '3042'],\n",
       " ['129', '0', '19', '189', '1', '0', '0', '0', '0', '2', '3062'],\n",
       " ['130', '0', '23', '130', '2', '0', '0', '0', '0', '1', '3062'],\n",
       " ['131', '0', '21', '160', '1', '0', '0', '0', '0', '0', '3062'],\n",
       " ['132', '0', '18', '90', '1', '1', '0', '0', '1', '0', '3062'],\n",
       " ['133', '0', '18', '90', '1', '1', '0', '0', '1', '0', '3062'],\n",
       " ['134', '0', '32', '132', '1', '0', '0', '0', '0', '4', '3080'],\n",
       " ['135', '0', '19', '132', '3', '0', '0', '0', '0', '0', '3090'],\n",
       " ['136', '0', '24', '115', '1', '0', '0', '0', '0', '2', '3090'],\n",
       " ['137', '0', '22', '85', '3', '1', '0', '0', '0', '0', '3090'],\n",
       " ['138', '0', '22', '120', '1', '0', '0', '1', '0', '1', '3100'],\n",
       " ['139', '0', '23', '128', '3', '0', '0', '0', '0', '0', '3104'],\n",
       " ['140', '0', '22', '130', '1', '1', '0', '0', '0', '0', '3132'],\n",
       " ['141', '0', '30', '95', '1', '1', '0', '0', '0', '2', '3147'],\n",
       " ['142', '0', '19', '115', '3', '0', '0', '0', '0', '0', '3175'],\n",
       " ['143', '0', '16', '110', '3', '0', '0', '0', '0', '0', '3175'],\n",
       " ['144', '0', '21', '110', '3', '1', '0', '0', '1', '0', '3203'],\n",
       " ['145', '0', '30', '153', '3', '0', '0', '0', '0', '0', '3203'],\n",
       " ['146', '0', '20', '103', '3', '0', '0', '0', '0', '0', '3203'],\n",
       " ['147', '0', '17', '119', '3', '0', '0', '0', '0', '0', '3225'],\n",
       " ['148', '0', '17', '119', '3', '0', '0', '0', '0', '0', '3225'],\n",
       " ['149', '0', '23', '119', '3', '0', '0', '0', '0', '2', '3232'],\n",
       " ['150', '0', '24', '110', '3', '0', '0', '0', '0', '0', '3232'],\n",
       " ['151', '0', '28', '140', '1', '0', '0', '0', '0', '0', '3234'],\n",
       " ['154', '0', '26', '133', '3', '1', '2', '0', '0', '0', '3260'],\n",
       " ['155', '0', '20', '169', '3', '0', '1', '0', '1', '1', '3274'],\n",
       " ['156', '0', '24', '115', '3', '0', '0', '0', '0', '2', '3274'],\n",
       " ['159', '0', '28', '250', '3', '1', '0', '0', '0', '6', '3303'],\n",
       " ['160', '0', '20', '141', '1', '0', '2', '0', '1', '1', '3317'],\n",
       " ['161', '0', '22', '158', '2', '0', '1', '0', '0', '2', '3317'],\n",
       " ['162', '0', '22', '112', '1', '1', '2', '0', '0', '0', '3317'],\n",
       " ['163', '0', '31', '150', '3', '1', '0', '0', '0', '2', '3321'],\n",
       " ['164', '0', '23', '115', '3', '1', '0', '0', '0', '1', '3331'],\n",
       " ['166', '0', '16', '112', '2', '0', '0', '0', '0', '0', '3374'],\n",
       " ['167', '0', '16', '135', '1', '1', '0', '0', '0', '0', '3374'],\n",
       " ['168', '0', '18', '229', '2', '0', '0', '0', '0', '0', '3402'],\n",
       " ['169', '0', '25', '140', '1', '0', '0', '0', '0', '1', '3416'],\n",
       " ['170', '0', '32', '134', '1', '1', '1', '0', '0', '4', '3430'],\n",
       " ['172', '0', '20', '121', '2', '1', '0', '0', '0', '0', '3444'],\n",
       " ['173', '0', '23', '190', '1', '0', '0', '0', '0', '0', '3459'],\n",
       " ['174', '0', '22', '131', '1', '0', '0', '0', '0', '1', '3460'],\n",
       " ['175', '0', '32', '170', '1', '0', '0', '0', '0', '0', '3473'],\n",
       " ['176', '0', '30', '110', '3', '0', '0', '0', '0', '0', '3544'],\n",
       " ['177', '0', '20', '127', '3', '0', '0', '0', '0', '0', '3487'],\n",
       " ['179', '0', '23', '123', '3', '0', '0', '0', '0', '0', '3544'],\n",
       " ['180', '0', '17', '120', '3', '1', '0', '0', '0', '0', '3572'],\n",
       " ['181', '0', '19', '105', '3', '0', '0', '0', '0', '0', '3572'],\n",
       " ['182', '0', '23', '130', '1', '0', '0', '0', '0', '0', '3586'],\n",
       " ['183', '0', '36', '175', '1', '0', '0', '0', '0', '0', '3600'],\n",
       " ['184', '0', '22', '125', '1', '0', '0', '0', '0', '1', '3614'],\n",
       " ['185', '0', '24', '133', '1', '0', '0', '0', '0', '0', '3614'],\n",
       " ['186', '0', '21', '134', '3', '0', '0', '0', '0', '2', '3629'],\n",
       " ['187', '0', '19', '235', '1', '1', '0', '1', '0', '0', '3629'],\n",
       " ['188', '0', '25', '95', '1', '1', '3', '0', '1', '0', '3637'],\n",
       " ['189', '0', '16', '135', '1', '1', '0', '0', '0', '0', '3643'],\n",
       " ['190', '0', '29', '135', '1', '0', '0', '0', '0', '1', '3651'],\n",
       " ['191', '0', '29', '154', '1', '0', '0', '0', '0', '1', '3651'],\n",
       " ['192', '0', '19', '147', '1', '1', '0', '0', '0', '0', '3651'],\n",
       " ['193', '0', '19', '147', '1', '1', '0', '0', '0', '0', '3651'],\n",
       " ['195', '0', '30', '137', '1', '0', '0', '0', '0', '1', '3699'],\n",
       " ['196', '0', '24', '110', '1', '0', '0', '0', '0', '1', '3728'],\n",
       " ['197', '0', '19', '184', '1', '1', '0', '1', '0', '0', '3756'],\n",
       " ['199', '0', '24', '110', '3', '0', '1', '0', '0', '0', '3770'],\n",
       " ['200', '0', '23', '110', '1', '0', '0', '0', '0', '1', '3770'],\n",
       " ['201', '0', '20', '120', '3', '0', '0', '0', '0', '0', '3770'],\n",
       " ['202', '0', '25', '241', '2', '0', '0', '1', '0', '0', '3790'],\n",
       " ['203', '0', '30', '112', '1', '0', '0', '0', '0', '1', '3799'],\n",
       " ['204', '0', '22', '169', '1', '0', '0', '0', '0', '0', '3827'],\n",
       " ['205', '0', '18', '120', '1', '1', '0', '0', '0', '2', '3856'],\n",
       " ['206', '0', '16', '170', '2', '0', '0', '0', '0', '4', '3860'],\n",
       " ['207', '0', '32', '186', '1', '0', '0', '0', '0', '2', '3860'],\n",
       " ['208', '0', '18', '120', '3', '0', '0', '0', '0', '1', '3884'],\n",
       " ['209', '0', '29', '130', '1', '1', '0', '0', '0', '2', '3884'],\n",
       " ['210', '0', '33', '117', '1', '0', '0', '0', '1', '1', '3912'],\n",
       " ['211', '0', '20', '170', '1', '1', '0', '0', '0', '0', '3940'],\n",
       " ['212', '0', '28', '134', '3', '0', '0', '0', '0', '1', '3941'],\n",
       " ['213', '0', '14', '135', '1', '0', '0', '0', '0', '0', '3941'],\n",
       " ['214', '0', '28', '130', '3', '0', '0', '0', '0', '0', '3969'],\n",
       " ['215', '0', '25', '120', '1', '0', '0', '0', '0', '2', '3983'],\n",
       " ['216', '0', '16', '95', '3', '0', '0', '0', '0', '1', '3997'],\n",
       " ['217', '0', '20', '158', '1', '0', '0', '0', '0', '1', '3997'],\n",
       " ['218', '0', '26', '160', '3', '0', '0', '0', '0', '0', '4054'],\n",
       " ['219', '0', '21', '115', '1', '0', '0', '0', '0', '1', '4054'],\n",
       " ['220', '0', '22', '129', '1', '0', '0', '0', '0', '0', '4111'],\n",
       " ['221', '0', '25', '130', '1', '0', '0', '0', '0', '2', '4153'],\n",
       " ['222', '0', '31', '120', '1', '0', '0', '0', '0', '2', '4167'],\n",
       " ['223', '0', '35', '170', '1', '0', '1', '0', '0', '1', '4174'],\n",
       " ['224', '0', '19', '120', '1', '1', '0', '0', '0', '0', '4238'],\n",
       " ['225', '0', '24', '116', '1', '0', '0', '0', '0', '1', '4593'],\n",
       " ['226', '0', '45', '123', '1', '0', '0', '0', '0', '1', '4990'],\n",
       " ['4', '1', '28', '120', '3', '1', '1', '0', '1', '0', '709'],\n",
       " ['10', '1', '29', '130', '1', '0', '0', '0', '1', '2', '1021'],\n",
       " ['11', '1', '34', '187', '2', '1', '0', '1', '0', '0', '1135'],\n",
       " ['13', '1', '25', '105', '3', '0', '1', '1', '0', '0', '1330'],\n",
       " ['15', '1', '25', '85', '3', '0', '0', '0', '1', '0', '1474'],\n",
       " ['16', '1', '27', '150', '3', '0', '0', '0', '0', '0', '1588'],\n",
       " ['17', '1', '23', '97', '3', '0', '0', '0', '1', '1', '1588'],\n",
       " ['18', '1', '24', '128', '2', '0', '1', '0', '0', '1', '1701'],\n",
       " ['19', '1', '24', '132', '3', '0', '0', '1', '0', '0', '1729'],\n",
       " ['20', '1', '21', '165', '1', '1', '0', '1', '0', '1', '1790'],\n",
       " ['22', '1', '32', '105', '1', '1', '0', '0', '0', '0', '1818'],\n",
       " ['23', '1', '19', '91', '1', '1', '2', '0', '1', '0', '1885'],\n",
       " ['24', '1', '25', '115', '3', '0', '0', '0', '0', '0', '1893'],\n",
       " ['25', '1', '16', '130', '3', '0', '0', '0', '0', '1', '1899'],\n",
       " ['26', '1', '25', '92', '1', '1', '0', '0', '0', '0', '1928'],\n",
       " ['27', '1', '20', '150', '1', '1', '0', '0', '0', '2', '1928'],\n",
       " ['28', '1', '21', '200', '2', '0', '0', '0', '1', '2', '1928'],\n",
       " ['29', '1', '24', '155', '1', '1', '1', '0', '0', '0', '1936'],\n",
       " ['30', '1', '21', '103', '3', '0', '0', '0', '0', '0', '1970'],\n",
       " ['31', '1', '20', '125', '3', '0', '0', '0', '1', '0', '2055'],\n",
       " ['32', '1', '25', '89', '3', '0', '2', '0', '0', '1', '2055'],\n",
       " ['33', '1', '19', '102', '1', '0', '0', '0', '0', '2', '2082'],\n",
       " ['34', '1', '19', '112', '1', '1', '0', '0', '1', '0', '2084'],\n",
       " ['35', '1', '26', '117', '1', '1', '1', '0', '0', '0', '2084'],\n",
       " ['36', '1', '24', '138', '1', '0', '0', '0', '0', '0', '2100'],\n",
       " ['37', '1', '17', '130', '3', '1', '1', '0', '1', '0', '2125'],\n",
       " ['40', '1', '20', '120', '2', '1', '0', '0', '0', '3', '2126'],\n",
       " ['42', '1', '22', '130', '1', '1', '1', '0', '1', '1', '2187'],\n",
       " ['43', '1', '27', '130', '2', '0', '0', '0', '1', '0', '2187'],\n",
       " ['44', '1', '20', '80', '3', '1', '0', '0', '1', '0', '2211'],\n",
       " ['45', '1', '17', '110', '1', '1', '0', '0', '0', '0', '2225'],\n",
       " ['46', '1', '25', '105', '3', '0', '1', '0', '0', '1', '2240'],\n",
       " ['47', '1', '20', '109', '3', '0', '0', '0', '0', '0', '2240'],\n",
       " ['49', '1', '18', '148', '3', '0', '0', '0', '0', '0', '2282'],\n",
       " ['50', '1', '18', '110', '2', '1', '1', '0', '0', '0', '2296'],\n",
       " ['51', '1', '20', '121', '1', '1', '1', '0', '1', '0', '2296'],\n",
       " ['52', '1', '21', '100', '3', '0', '1', '0', '0', '4', '2301'],\n",
       " ['54', '1', '26', '96', '3', '0', '0', '0', '0', '0', '2325'],\n",
       " ['56', '1', '31', '102', '1', '1', '1', '0', '0', '1', '2353'],\n",
       " ['57', '1', '15', '110', '1', '0', '0', '0', '0', '0', '2353'],\n",
       " ['59', '1', '23', '187', '2', '1', '0', '0', '0', '1', '2367'],\n",
       " ['60', '1', '20', '122', '2', '1', '0', '0', '0', '0', '2381'],\n",
       " ['61', '1', '24', '105', '2', '1', '0', '0', '0', '0', '2381'],\n",
       " ['62', '1', '15', '115', '3', '0', '0', '0', '1', '0', '2381'],\n",
       " ['63', '1', '23', '120', '3', '0', '0', '0', '0', '0', '2410'],\n",
       " ['65', '1', '30', '142', '1', '1', '1', '0', '0', '0', '2410'],\n",
       " ['67', '1', '22', '130', '1', '1', '0', '0', '0', '1', '2410'],\n",
       " ['68', '1', '17', '120', '1', '1', '0', '0', '0', '3', '2414'],\n",
       " ['69', '1', '23', '110', '1', '1', '1', '0', '0', '0', '2424'],\n",
       " ['71', '1', '17', '120', '2', '0', '0', '0', '0', '2', '2438'],\n",
       " ['75', '1', '26', '154', '3', '0', '1', '1', '0', '1', '2442'],\n",
       " ['76', '1', '20', '105', '3', '0', '0', '0', '0', '3', '2450'],\n",
       " ['77', '1', '26', '190', '1', '1', '0', '0', '0', '0', '2466'],\n",
       " ['78', '1', '14', '101', '3', '1', '1', '0', '0', '0', '2466'],\n",
       " ['79', '1', '28', '95', '1', '1', '0', '0', '0', '2', '2466'],\n",
       " ['81', '1', '14', '100', '3', '0', '0', '0', '0', '2', '2495'],\n",
       " ['82', '1', '23', '94', '3', '1', '0', '0', '0', '0', '2495'],\n",
       " ['83', '1', '17', '142', '2', '0', '0', '1', '0', '0', '2495'],\n",
       " ['84', '1', '21', '130', '1', '1', '0', '1', '0', '3', '2495']]"
      ]
     },
     "execution_count": 2,
     "metadata": {},
     "output_type": "execute_result"
    }
   ],
   "source": [
    "# https://vincentarelbundock.github.io/Rdatasets/datasets.html\n",
    "# https://www.rdocumentation.org/packages/MASS/versions/7.3-53/topics/birthwt\n",
    "p = '/app/Contrastive-Learning-Benchmarking//data/birthwt.csv'\n",
    "\n",
    "with open(p, 'r') as file:\n",
    "    my_reader = csv.reader(file, delimiter=',')\n",
    "    rows = [r for r in my_reader]\n",
    "    \n",
    "rows"
   ]
  },
  {
   "cell_type": "code",
   "execution_count": 3,
   "id": "cheap-crazy",
   "metadata": {},
   "outputs": [],
   "source": [
    "bwt = [int(r[rows[0].index('bwt')])//100 * 100 for r in rows[1:]]\n",
    "age = [float(r[rows[0].index('age')]) for r in rows[1:]]\n",
    "race = [r[rows[0].index('race')] for r in rows[1:]]"
   ]
  },
  {
   "cell_type": "code",
   "execution_count": 4,
   "id": "later-kentucky",
   "metadata": {
    "scrolled": false
   },
   "outputs": [
    {
     "data": {
      "text/plain": [
       "<matplotlib.collections.PathCollection at 0x7fe4a812a580>"
      ]
     },
     "execution_count": 4,
     "metadata": {},
     "output_type": "execute_result"
    },
    {
     "data": {
      "image/png": "[encoded data removed]",
      "text/plain": [
       "<Figure size 432x288 with 1 Axes>"
      ]
     },
     "metadata": {
      "needs_background": "light"
     },
     "output_type": "display_data"
    }
   ],
   "source": [
    "plt.scatter(bwt, age)"
   ]
  },
  {
   "cell_type": "code",
   "execution_count": 5,
   "id": "religious-simpson",
   "metadata": {},
   "outputs": [
    {
     "data": {
      "text/plain": [
       "(4900, 700)"
      ]
     },
     "execution_count": 5,
     "metadata": {},
     "output_type": "execute_result"
    }
   ],
   "source": [
    "max(bwt), min(bwt)"
   ]
  },
  {
   "cell_type": "code",
   "execution_count": 6,
   "id": "union-wagon",
   "metadata": {},
   "outputs": [
    {
     "data": {
      "text/plain": [
       "(45.0, 14.0)"
      ]
     },
     "execution_count": 6,
     "metadata": {},
     "output_type": "execute_result"
    }
   ],
   "source": [
    "max(age), min(age)"
   ]
  },
  {
   "cell_type": "code",
   "execution_count": 7,
   "id": "pacific-authorization",
   "metadata": {},
   "outputs": [],
   "source": [
    "# x axis -- age -- 14-36\n",
    "# y axis -- bwt -- 7-45\n",
    "count_table = np.zeros((36-14+1, 45-7+1))\n",
    "\n",
    "for a, w in zip(age, bwt):\n",
    "    if w <= 4500 or a <= 36:\n",
    "        count_table[int(a)-14,int(w/100)-7] += 1\n",
    " \n",
    "\n",
    "xy = count_table/np.sum(count_table) + 0.00001\n",
    "xy = xy/np.sum(xy)"
   ]
  },
  {
   "cell_type": "code",
   "execution_count": 8,
   "id": "electoral-decrease",
   "metadata": {},
   "outputs": [
    {
     "data": {
      "text/plain": [
       "188.0"
      ]
     },
     "execution_count": 8,
     "metadata": {},
     "output_type": "execute_result"
    }
   ],
   "source": [
    "np.sum(count_table)"
   ]
  },
  {
   "cell_type": "code",
   "execution_count": 9,
   "id": "statutory-tribune",
   "metadata": {},
   "outputs": [
    {
     "data": {
      "text/plain": [
       "array([[9.91109746e-06, 9.91109746e-06, 9.91109746e-06, 9.91109746e-06,\n",
       "        9.91109746e-06, 9.91109746e-06, 9.91109746e-06, 9.91109746e-06,\n",
       "        9.91109746e-06, 9.91109746e-06, 9.91109746e-06, 9.91109746e-06,\n",
       "        9.91109746e-06, 9.91109746e-06, 9.91109746e-06, 9.91109746e-06,\n",
       "        9.91109746e-06, 1.05536318e-02, 9.91109746e-06, 9.91109746e-06,\n",
       "        9.91109746e-06, 9.91109746e-06, 9.91109746e-06, 9.91109746e-06,\n",
       "        9.91109746e-06, 9.91109746e-06, 9.91109746e-06, 9.91109746e-06,\n",
       "        9.91109746e-06, 9.91109746e-06, 9.91109746e-06, 9.91109746e-06,\n",
       "        5.28177145e-03, 9.91109746e-06, 9.91109746e-06, 9.91109746e-06,\n",
       "        9.91109746e-06, 9.91109746e-06, 9.91109746e-06],\n",
       "       [9.91109746e-06, 9.91109746e-06, 9.91109746e-06, 9.91109746e-06,\n",
       "        9.91109746e-06, 9.91109746e-06, 9.91109746e-06, 9.91109746e-06,\n",
       "        9.91109746e-06, 9.91109746e-06, 9.91109746e-06, 9.91109746e-06,\n",
       "        9.91109746e-06, 9.91109746e-06, 9.91109746e-06, 9.91109746e-06,\n",
       "        1.05536318e-02, 9.91109746e-06, 9.91109746e-06, 9.91109746e-06,\n",
       "        5.28177145e-03, 9.91109746e-06, 9.91109746e-06, 9.91109746e-06,\n",
       "        9.91109746e-06, 9.91109746e-06, 9.91109746e-06, 9.91109746e-06,\n",
       "        9.91109746e-06, 9.91109746e-06, 9.91109746e-06, 9.91109746e-06,\n",
       "        9.91109746e-06, 9.91109746e-06, 9.91109746e-06, 9.91109746e-06,\n",
       "        9.91109746e-06, 9.91109746e-06, 9.91109746e-06],\n",
       "       [9.91109746e-06, 9.91109746e-06, 9.91109746e-06, 9.91109746e-06,\n",
       "        9.91109746e-06, 9.91109746e-06, 9.91109746e-06, 9.91109746e-06,\n",
       "        9.91109746e-06, 9.91109746e-06, 9.91109746e-06, 5.28177145e-03,\n",
       "        9.91109746e-06, 9.91109746e-06, 9.91109746e-06, 9.91109746e-06,\n",
       "        9.91109746e-06, 9.91109746e-06, 9.91109746e-06, 9.91109746e-06,\n",
       "        9.91109746e-06, 9.91109746e-06, 9.91109746e-06, 9.91109746e-06,\n",
       "        5.28177145e-03, 9.91109746e-06, 1.05536318e-02, 9.91109746e-06,\n",
       "        9.91109746e-06, 5.28177145e-03, 9.91109746e-06, 5.28177145e-03,\n",
       "        5.28177145e-03, 9.91109746e-06, 9.91109746e-06, 9.91109746e-06,\n",
       "        9.91109746e-06, 9.91109746e-06, 9.91109746e-06],\n",
       "       [9.91109746e-06, 9.91109746e-06, 9.91109746e-06, 9.91109746e-06,\n",
       "        9.91109746e-06, 9.91109746e-06, 9.91109746e-06, 9.91109746e-06,\n",
       "        9.91109746e-06, 9.91109746e-06, 9.91109746e-06, 9.91109746e-06,\n",
       "        9.91109746e-06, 9.91109746e-06, 5.28177145e-03, 5.28177145e-03,\n",
       "        9.91109746e-06, 1.58254921e-02, 9.91109746e-06, 5.28177145e-03,\n",
       "        9.91109746e-06, 9.91109746e-06, 1.58254921e-02, 9.91109746e-06,\n",
       "        9.91109746e-06, 1.05536318e-02, 9.91109746e-06, 9.91109746e-06,\n",
       "        5.28177145e-03, 9.91109746e-06, 9.91109746e-06, 9.91109746e-06,\n",
       "        9.91109746e-06, 9.91109746e-06, 9.91109746e-06, 9.91109746e-06,\n",
       "        9.91109746e-06, 9.91109746e-06, 9.91109746e-06],\n",
       "       [9.91109746e-06, 9.91109746e-06, 9.91109746e-06, 9.91109746e-06,\n",
       "        9.91109746e-06, 9.91109746e-06, 9.91109746e-06, 9.91109746e-06,\n",
       "        9.91109746e-06, 9.91109746e-06, 9.91109746e-06, 9.91109746e-06,\n",
       "        9.91109746e-06, 9.91109746e-06, 9.91109746e-06, 1.05536318e-02,\n",
       "        9.91109746e-06, 9.91109746e-06, 9.91109746e-06, 5.28177145e-03,\n",
       "        1.05536318e-02, 9.91109746e-06, 9.91109746e-06, 1.05536318e-02,\n",
       "        9.91109746e-06, 9.91109746e-06, 9.91109746e-06, 5.28177145e-03,\n",
       "        9.91109746e-06, 9.91109746e-06, 9.91109746e-06, 1.05536318e-02,\n",
       "        9.91109746e-06, 9.91109746e-06, 9.91109746e-06, 9.91109746e-06,\n",
       "        9.91109746e-06, 9.91109746e-06, 9.91109746e-06],\n",
       "       [9.91109746e-06, 9.91109746e-06, 9.91109746e-06, 9.91109746e-06,\n",
       "        9.91109746e-06, 9.91109746e-06, 9.91109746e-06, 9.91109746e-06,\n",
       "        9.91109746e-06, 9.91109746e-06, 9.91109746e-06, 5.28177145e-03,\n",
       "        9.91109746e-06, 1.05536318e-02, 9.91109746e-06, 9.91109746e-06,\n",
       "        9.91109746e-06, 9.91109746e-06, 5.28177145e-03, 9.91109746e-06,\n",
       "        1.05536318e-02, 9.91109746e-06, 5.28177145e-03, 1.05536318e-02,\n",
       "        5.28177145e-03, 9.91109746e-06, 9.91109746e-06, 9.91109746e-06,\n",
       "        5.28177145e-03, 1.58254921e-02, 5.28177145e-03, 9.91109746e-06,\n",
       "        9.91109746e-06, 9.91109746e-06, 9.91109746e-06, 5.28177145e-03,\n",
       "        9.91109746e-06, 9.91109746e-06, 9.91109746e-06],\n",
       "       [9.91109746e-06, 9.91109746e-06, 9.91109746e-06, 9.91109746e-06,\n",
       "        9.91109746e-06, 9.91109746e-06, 9.91109746e-06, 9.91109746e-06,\n",
       "        9.91109746e-06, 9.91109746e-06, 9.91109746e-06, 9.91109746e-06,\n",
       "        5.28177145e-03, 5.28177145e-03, 5.28177145e-03, 1.58254921e-02,\n",
       "        5.28177145e-03, 5.28177145e-03, 5.28177145e-03, 9.91109746e-06,\n",
       "        9.91109746e-06, 5.28177145e-03, 9.91109746e-06, 9.91109746e-06,\n",
       "        9.91109746e-06, 1.05536318e-02, 5.28177145e-03, 1.05536318e-02,\n",
       "        9.91109746e-06, 9.91109746e-06, 5.28177145e-03, 9.91109746e-06,\n",
       "        1.05536318e-02, 9.91109746e-06, 9.91109746e-06, 9.91109746e-06,\n",
       "        9.91109746e-06, 9.91109746e-06, 9.91109746e-06],\n",
       "       [9.91109746e-06, 9.91109746e-06, 9.91109746e-06, 9.91109746e-06,\n",
       "        9.91109746e-06, 9.91109746e-06, 9.91109746e-06, 9.91109746e-06,\n",
       "        9.91109746e-06, 9.91109746e-06, 5.28177145e-03, 9.91109746e-06,\n",
       "        1.05536318e-02, 9.91109746e-06, 9.91109746e-06, 9.91109746e-06,\n",
       "        5.28177145e-03, 5.28177145e-03, 5.28177145e-03, 5.28177145e-03,\n",
       "        9.91109746e-06, 9.91109746e-06, 9.91109746e-06, 1.05536318e-02,\n",
       "        9.91109746e-06, 5.28177145e-03, 9.91109746e-06, 9.91109746e-06,\n",
       "        9.91109746e-06, 5.28177145e-03, 9.91109746e-06, 9.91109746e-06,\n",
       "        9.91109746e-06, 5.28177145e-03, 9.91109746e-06, 9.91109746e-06,\n",
       "        9.91109746e-06, 9.91109746e-06, 9.91109746e-06],\n",
       "       [9.91109746e-06, 9.91109746e-06, 9.91109746e-06, 9.91109746e-06,\n",
       "        9.91109746e-06, 9.91109746e-06, 9.91109746e-06, 9.91109746e-06,\n",
       "        9.91109746e-06, 9.91109746e-06, 9.91109746e-06, 9.91109746e-06,\n",
       "        9.91109746e-06, 9.91109746e-06, 5.28177145e-03, 9.91109746e-06,\n",
       "        9.91109746e-06, 5.28177145e-03, 9.91109746e-06, 5.28177145e-03,\n",
       "        5.28177145e-03, 9.91109746e-06, 9.91109746e-06, 5.28177145e-03,\n",
       "        1.05536318e-02, 9.91109746e-06, 1.05536318e-02, 5.28177145e-03,\n",
       "        9.91109746e-06, 5.28177145e-03, 9.91109746e-06, 5.28177145e-03,\n",
       "        9.91109746e-06, 9.91109746e-06, 5.28177145e-03, 9.91109746e-06,\n",
       "        9.91109746e-06, 9.91109746e-06, 9.91109746e-06],\n",
       "       [9.91109746e-06, 9.91109746e-06, 9.91109746e-06, 9.91109746e-06,\n",
       "        9.91109746e-06, 9.91109746e-06, 9.91109746e-06, 9.91109746e-06,\n",
       "        5.28177145e-03, 9.91109746e-06, 9.91109746e-06, 9.91109746e-06,\n",
       "        9.91109746e-06, 9.91109746e-06, 9.91109746e-06, 9.91109746e-06,\n",
       "        5.28177145e-03, 1.58254921e-02, 9.91109746e-06, 9.91109746e-06,\n",
       "        9.91109746e-06, 9.91109746e-06, 9.91109746e-06, 5.28177145e-03,\n",
       "        5.28177145e-03, 5.28177145e-03, 5.28177145e-03, 5.28177145e-03,\n",
       "        1.05536318e-02, 9.91109746e-06, 5.28177145e-03, 9.91109746e-06,\n",
       "        9.91109746e-06, 9.91109746e-06, 9.91109746e-06, 9.91109746e-06,\n",
       "        9.91109746e-06, 9.91109746e-06, 9.91109746e-06],\n",
       "       [9.91109746e-06, 9.91109746e-06, 9.91109746e-06, 9.91109746e-06,\n",
       "        9.91109746e-06, 9.91109746e-06, 9.91109746e-06, 9.91109746e-06,\n",
       "        9.91109746e-06, 9.91109746e-06, 1.05536318e-02, 9.91109746e-06,\n",
       "        5.28177145e-03, 9.91109746e-06, 5.28177145e-03, 9.91109746e-06,\n",
       "        5.28177145e-03, 9.91109746e-06, 9.91109746e-06, 9.91109746e-06,\n",
       "        9.91109746e-06, 9.91109746e-06, 5.28177145e-03, 5.28177145e-03,\n",
       "        9.91109746e-06, 1.05536318e-02, 9.91109746e-06, 9.91109746e-06,\n",
       "        9.91109746e-06, 5.28177145e-03, 1.05536318e-02, 9.91109746e-06,\n",
       "        9.91109746e-06, 9.91109746e-06, 9.91109746e-06, 9.91109746e-06,\n",
       "        9.91109746e-06, 9.91109746e-06, 5.28177145e-03],\n",
       "       [9.91109746e-06, 9.91109746e-06, 9.91109746e-06, 9.91109746e-06,\n",
       "        9.91109746e-06, 9.91109746e-06, 5.28177145e-03, 5.28177145e-03,\n",
       "        9.91109746e-06, 9.91109746e-06, 9.91109746e-06, 5.28177145e-03,\n",
       "        5.28177145e-03, 5.28177145e-03, 9.91109746e-06, 5.28177145e-03,\n",
       "        9.91109746e-06, 9.91109746e-06, 9.91109746e-06, 9.91109746e-06,\n",
       "        5.28177145e-03, 5.28177145e-03, 1.05536318e-02, 9.91109746e-06,\n",
       "        9.91109746e-06, 9.91109746e-06, 9.91109746e-06, 5.28177145e-03,\n",
       "        9.91109746e-06, 5.28177145e-03, 5.28177145e-03, 9.91109746e-06,\n",
       "        5.28177145e-03, 9.91109746e-06, 5.28177145e-03, 9.91109746e-06,\n",
       "        9.91109746e-06, 9.91109746e-06, 9.91109746e-06],\n",
       "       [9.91109746e-06, 9.91109746e-06, 9.91109746e-06, 9.91109746e-06,\n",
       "        9.91109746e-06, 9.91109746e-06, 9.91109746e-06, 9.91109746e-06,\n",
       "        9.91109746e-06, 9.91109746e-06, 9.91109746e-06, 9.91109746e-06,\n",
       "        9.91109746e-06, 5.28177145e-03, 9.91109746e-06, 9.91109746e-06,\n",
       "        5.28177145e-03, 1.05536318e-02, 9.91109746e-06, 5.28177145e-03,\n",
       "        9.91109746e-06, 9.91109746e-06, 5.28177145e-03, 9.91109746e-06,\n",
       "        9.91109746e-06, 5.28177145e-03, 9.91109746e-06, 9.91109746e-06,\n",
       "        9.91109746e-06, 9.91109746e-06, 9.91109746e-06, 9.91109746e-06,\n",
       "        9.91109746e-06, 5.28177145e-03, 9.91109746e-06, 9.91109746e-06,\n",
       "        9.91109746e-06, 9.91109746e-06, 9.91109746e-06],\n",
       "       [9.91109746e-06, 9.91109746e-06, 9.91109746e-06, 9.91109746e-06,\n",
       "        9.91109746e-06, 9.91109746e-06, 9.91109746e-06, 9.91109746e-06,\n",
       "        5.28177145e-03, 9.91109746e-06, 9.91109746e-06, 9.91109746e-06,\n",
       "        9.91109746e-06, 9.91109746e-06, 5.28177145e-03, 9.91109746e-06,\n",
       "        9.91109746e-06, 9.91109746e-06, 9.91109746e-06, 9.91109746e-06,\n",
       "        9.91109746e-06, 9.91109746e-06, 5.28177145e-03, 9.91109746e-06,\n",
       "        9.91109746e-06, 9.91109746e-06, 9.91109746e-06, 9.91109746e-06,\n",
       "        9.91109746e-06, 9.91109746e-06, 9.91109746e-06, 9.91109746e-06,\n",
       "        9.91109746e-06, 9.91109746e-06, 9.91109746e-06, 9.91109746e-06,\n",
       "        9.91109746e-06, 9.91109746e-06, 9.91109746e-06],\n",
       "       [5.28177145e-03, 9.91109746e-06, 9.91109746e-06, 9.91109746e-06,\n",
       "        9.91109746e-06, 9.91109746e-06, 9.91109746e-06, 9.91109746e-06,\n",
       "        9.91109746e-06, 9.91109746e-06, 9.91109746e-06, 9.91109746e-06,\n",
       "        9.91109746e-06, 9.91109746e-06, 9.91109746e-06, 9.91109746e-06,\n",
       "        9.91109746e-06, 5.28177145e-03, 9.91109746e-06, 9.91109746e-06,\n",
       "        9.91109746e-06, 1.58254921e-02, 9.91109746e-06, 9.91109746e-06,\n",
       "        9.91109746e-06, 5.28177145e-03, 5.28177145e-03, 9.91109746e-06,\n",
       "        9.91109746e-06, 9.91109746e-06, 9.91109746e-06, 9.91109746e-06,\n",
       "        1.05536318e-02, 9.91109746e-06, 9.91109746e-06, 9.91109746e-06,\n",
       "        9.91109746e-06, 9.91109746e-06, 9.91109746e-06],\n",
       "       [9.91109746e-06, 9.91109746e-06, 9.91109746e-06, 5.28177145e-03,\n",
       "        9.91109746e-06, 9.91109746e-06, 9.91109746e-06, 9.91109746e-06,\n",
       "        9.91109746e-06, 9.91109746e-06, 9.91109746e-06, 9.91109746e-06,\n",
       "        9.91109746e-06, 9.91109746e-06, 9.91109746e-06, 9.91109746e-06,\n",
       "        9.91109746e-06, 9.91109746e-06, 9.91109746e-06, 5.28177145e-03,\n",
       "        9.91109746e-06, 9.91109746e-06, 1.05536318e-02, 9.91109746e-06,\n",
       "        9.91109746e-06, 9.91109746e-06, 9.91109746e-06, 9.91109746e-06,\n",
       "        9.91109746e-06, 1.05536318e-02, 9.91109746e-06, 5.28177145e-03,\n",
       "        9.91109746e-06, 9.91109746e-06, 9.91109746e-06, 9.91109746e-06,\n",
       "        9.91109746e-06, 9.91109746e-06, 9.91109746e-06],\n",
       "       [9.91109746e-06, 9.91109746e-06, 9.91109746e-06, 9.91109746e-06,\n",
       "        9.91109746e-06, 9.91109746e-06, 9.91109746e-06, 9.91109746e-06,\n",
       "        9.91109746e-06, 9.91109746e-06, 9.91109746e-06, 9.91109746e-06,\n",
       "        9.91109746e-06, 9.91109746e-06, 9.91109746e-06, 9.91109746e-06,\n",
       "        9.91109746e-06, 5.28177145e-03, 9.91109746e-06, 9.91109746e-06,\n",
       "        5.28177145e-03, 9.91109746e-06, 9.91109746e-06, 9.91109746e-06,\n",
       "        5.28177145e-03, 5.28177145e-03, 9.91109746e-06, 9.91109746e-06,\n",
       "        5.28177145e-03, 5.28177145e-03, 5.28177145e-03, 9.91109746e-06,\n",
       "        9.91109746e-06, 9.91109746e-06, 9.91109746e-06, 9.91109746e-06,\n",
       "        9.91109746e-06, 9.91109746e-06, 9.91109746e-06],\n",
       "       [9.91109746e-06, 9.91109746e-06, 9.91109746e-06, 9.91109746e-06,\n",
       "        9.91109746e-06, 9.91109746e-06, 9.91109746e-06, 9.91109746e-06,\n",
       "        9.91109746e-06, 9.91109746e-06, 9.91109746e-06, 9.91109746e-06,\n",
       "        9.91109746e-06, 9.91109746e-06, 9.91109746e-06, 9.91109746e-06,\n",
       "        5.28177145e-03, 9.91109746e-06, 9.91109746e-06, 9.91109746e-06,\n",
       "        9.91109746e-06, 5.28177145e-03, 9.91109746e-06, 5.28177145e-03,\n",
       "        9.91109746e-06, 9.91109746e-06, 5.28177145e-03, 9.91109746e-06,\n",
       "        9.91109746e-06, 9.91109746e-06, 9.91109746e-06, 9.91109746e-06,\n",
       "        9.91109746e-06, 9.91109746e-06, 5.28177145e-03, 9.91109746e-06,\n",
       "        9.91109746e-06, 9.91109746e-06, 9.91109746e-06],\n",
       "       [9.91109746e-06, 9.91109746e-06, 9.91109746e-06, 9.91109746e-06,\n",
       "        9.91109746e-06, 9.91109746e-06, 9.91109746e-06, 9.91109746e-06,\n",
       "        9.91109746e-06, 9.91109746e-06, 9.91109746e-06, 5.28177145e-03,\n",
       "        9.91109746e-06, 9.91109746e-06, 9.91109746e-06, 9.91109746e-06,\n",
       "        9.91109746e-06, 9.91109746e-06, 9.91109746e-06, 9.91109746e-06,\n",
       "        9.91109746e-06, 5.28177145e-03, 9.91109746e-06, 5.28177145e-03,\n",
       "        9.91109746e-06, 9.91109746e-06, 9.91109746e-06, 1.05536318e-02,\n",
       "        9.91109746e-06, 9.91109746e-06, 9.91109746e-06, 5.28177145e-03,\n",
       "        9.91109746e-06, 9.91109746e-06, 9.91109746e-06, 9.91109746e-06,\n",
       "        9.91109746e-06, 9.91109746e-06, 9.91109746e-06],\n",
       "       [9.91109746e-06, 9.91109746e-06, 9.91109746e-06, 9.91109746e-06,\n",
       "        9.91109746e-06, 9.91109746e-06, 9.91109746e-06, 9.91109746e-06,\n",
       "        9.91109746e-06, 9.91109746e-06, 9.91109746e-06, 9.91109746e-06,\n",
       "        9.91109746e-06, 9.91109746e-06, 9.91109746e-06, 9.91109746e-06,\n",
       "        9.91109746e-06, 9.91109746e-06, 5.28177145e-03, 9.91109746e-06,\n",
       "        9.91109746e-06, 9.91109746e-06, 9.91109746e-06, 5.28177145e-03,\n",
       "        9.91109746e-06, 9.91109746e-06, 9.91109746e-06, 9.91109746e-06,\n",
       "        9.91109746e-06, 9.91109746e-06, 9.91109746e-06, 9.91109746e-06,\n",
       "        5.28177145e-03, 9.91109746e-06, 9.91109746e-06, 9.91109746e-06,\n",
       "        9.91109746e-06, 9.91109746e-06, 9.91109746e-06],\n",
       "       [9.91109746e-06, 9.91109746e-06, 9.91109746e-06, 9.91109746e-06,\n",
       "        5.28177145e-03, 9.91109746e-06, 9.91109746e-06, 9.91109746e-06,\n",
       "        9.91109746e-06, 9.91109746e-06, 9.91109746e-06, 9.91109746e-06,\n",
       "        9.91109746e-06, 9.91109746e-06, 9.91109746e-06, 9.91109746e-06,\n",
       "        9.91109746e-06, 9.91109746e-06, 9.91109746e-06, 9.91109746e-06,\n",
       "        9.91109746e-06, 9.91109746e-06, 9.91109746e-06, 9.91109746e-06,\n",
       "        9.91109746e-06, 9.91109746e-06, 9.91109746e-06, 9.91109746e-06,\n",
       "        9.91109746e-06, 9.91109746e-06, 9.91109746e-06, 9.91109746e-06,\n",
       "        9.91109746e-06, 9.91109746e-06, 9.91109746e-06, 9.91109746e-06,\n",
       "        9.91109746e-06, 9.91109746e-06, 9.91109746e-06],\n",
       "       [9.91109746e-06, 9.91109746e-06, 9.91109746e-06, 9.91109746e-06,\n",
       "        9.91109746e-06, 9.91109746e-06, 9.91109746e-06, 9.91109746e-06,\n",
       "        9.91109746e-06, 9.91109746e-06, 9.91109746e-06, 9.91109746e-06,\n",
       "        9.91109746e-06, 9.91109746e-06, 9.91109746e-06, 9.91109746e-06,\n",
       "        9.91109746e-06, 9.91109746e-06, 9.91109746e-06, 9.91109746e-06,\n",
       "        9.91109746e-06, 9.91109746e-06, 5.28177145e-03, 9.91109746e-06,\n",
       "        9.91109746e-06, 9.91109746e-06, 9.91109746e-06, 9.91109746e-06,\n",
       "        9.91109746e-06, 9.91109746e-06, 9.91109746e-06, 9.91109746e-06,\n",
       "        9.91109746e-06, 9.91109746e-06, 5.28177145e-03, 9.91109746e-06,\n",
       "        9.91109746e-06, 9.91109746e-06, 9.91109746e-06],\n",
       "       [9.91109746e-06, 9.91109746e-06, 9.91109746e-06, 9.91109746e-06,\n",
       "        9.91109746e-06, 9.91109746e-06, 9.91109746e-06, 9.91109746e-06,\n",
       "        9.91109746e-06, 9.91109746e-06, 9.91109746e-06, 9.91109746e-06,\n",
       "        9.91109746e-06, 9.91109746e-06, 9.91109746e-06, 9.91109746e-06,\n",
       "        9.91109746e-06, 9.91109746e-06, 9.91109746e-06, 9.91109746e-06,\n",
       "        9.91109746e-06, 5.28177145e-03, 9.91109746e-06, 9.91109746e-06,\n",
       "        9.91109746e-06, 9.91109746e-06, 9.91109746e-06, 9.91109746e-06,\n",
       "        9.91109746e-06, 5.28177145e-03, 9.91109746e-06, 9.91109746e-06,\n",
       "        9.91109746e-06, 9.91109746e-06, 9.91109746e-06, 9.91109746e-06,\n",
       "        9.91109746e-06, 9.91109746e-06, 9.91109746e-06]])"
      ]
     },
     "execution_count": 9,
     "metadata": {},
     "output_type": "execute_result"
    }
   ],
   "source": [
    "xy"
   ]
  },
  {
   "cell_type": "code",
   "execution_count": 10,
   "id": "banner-civilization",
   "metadata": {},
   "outputs": [
    {
     "data": {
      "text/plain": [
       "(23, 39)"
      ]
     },
     "execution_count": 10,
     "metadata": {},
     "output_type": "execute_result"
    }
   ],
   "source": [
    "xy.shape"
   ]
  },
  {
   "cell_type": "code",
   "execution_count": 11,
   "id": "departmental-straight",
   "metadata": {
    "scrolled": true
   },
   "outputs": [
    {
     "data": {
      "text/plain": [
       "<matplotlib.image.AxesImage at 0x7fe4a7fb9e20>"
      ]
     },
     "execution_count": 11,
     "metadata": {},
     "output_type": "execute_result"
    },
    {
     "data": {
      "image/png": "[encoded data removed]",
      "text/plain": [
       "<Figure size 432x288 with 1 Axes>"
      ]
     },
     "metadata": {
      "needs_background": "light"
     },
     "output_type": "display_data"
    }
   ],
   "source": [
    "plt.imshow(xy, extent=[7,45,36,14])"
   ]
  },
  {
   "cell_type": "code",
   "execution_count": 12,
   "id": "continent-token",
   "metadata": {
    "scrolled": true
   },
   "outputs": [
    {
     "data": {
      "text/plain": [
       "<matplotlib.image.AxesImage at 0x7fe4a7f9bd30>"
      ]
     },
     "execution_count": 12,
     "metadata": {},
     "output_type": "execute_result"
    },
    {
     "data": {
      "image/png": "[encoded data removed]",
      "text/plain": [
       "<Figure size 432x288 with 1 Axes>"
      ]
     },
     "metadata": {
      "needs_background": "light"
     },
     "output_type": "display_data"
    }
   ],
   "source": [
    "x = np.sum(xy,0)\n",
    "y = np.sum(xy,1)\n",
    "xyind = y[None].T @ x[None]\n",
    "plt.imshow(xy/xyind, extent=[7,45,36,14])"
   ]
  },
  {
   "cell_type": "code",
   "execution_count": 13,
   "id": "informal-programmer",
   "metadata": {
    "scrolled": true
   },
   "outputs": [
    {
     "data": {
      "text/plain": [
       "<matplotlib.image.AxesImage at 0x7fe4a7efc730>"
      ]
     },
     "execution_count": 13,
     "metadata": {},
     "output_type": "execute_result"
    },
    {
     "data": {
      "image/png": "[encoded data removed]",
      "text/plain": [
       "<Figure size 432x288 with 1 Axes>"
      ]
     },
     "metadata": {
      "needs_background": "light"
     },
     "output_type": "display_data"
    }
   ],
   "source": [
    "plt.imshow(xyind, extent=[7,45,36,14])"
   ]
  },
  {
   "cell_type": "markdown",
   "id": "included-mattress",
   "metadata": {},
   "source": [
    "## How to recover xy from F"
   ]
  },
  {
   "cell_type": "code",
   "execution_count": 14,
   "id": "compact-johnston",
   "metadata": {
    "scrolled": true
   },
   "outputs": [
    {
     "name": "stdout",
     "output_type": "stream",
     "text": [
      "tensor(5.2249e-20, dtype=torch.float64)\n"
     ]
    },
    {
     "name": "stderr",
     "output_type": "stream",
     "text": [
      "/home/user/miniconda/lib/python3.8/site-packages/torch/nn/functional.py:2398: UserWarning: reduction: 'mean' divides the total loss by both the batch size and the support size.'batchmean' divides only by the batch size, and aligns with the KL div math definition.'mean' will be changed to behave the same as 'batchmean' in the next major release.\n",
      "  warnings.warn(\"reduction: 'mean' divides the total loss by both the batch size and the support size.\"\n"
     ]
    }
   ],
   "source": [
    "k = 35.23423\n",
    "f = torch.tensor(xy/xyind * k)\n",
    "####################\n",
    "\n",
    "def recover_xy(f, xy, xyind):\n",
    "    k_hat = torch.sum(f) / torch.sum(torch.tensor(xy/xyind))\n",
    "    xy_hat = f / k_hat * xyind\n",
    "    proposal = xy_hat\n",
    "    print(F.kl_div(torch.log(proposal), torch.from_numpy(xy)))\n",
    "    \n",
    "recover_xy(f, xy, xyind)"
   ]
  },
  {
   "cell_type": "code",
   "execution_count": 15,
   "id": "virtual-jumping",
   "metadata": {},
   "outputs": [],
   "source": [
    "k_xy_hat = f * xyind"
   ]
  },
  {
   "cell_type": "code",
   "execution_count": 18,
   "id": "seeing-instrumentation",
   "metadata": {},
   "outputs": [
    {
     "data": {
      "text/plain": [
       "tensor([[9.9111e-06, 9.9111e-06, 9.9111e-06, 9.9111e-06, 9.9111e-06, 9.9111e-06,\n",
       "         9.9111e-06, 9.9111e-06, 9.9111e-06, 9.9111e-06, 9.9111e-06, 9.9111e-06,\n",
       "         9.9111e-06, 9.9111e-06, 9.9111e-06, 9.9111e-06, 9.9111e-06, 1.0554e-02,\n",
       "         9.9111e-06, 9.9111e-06, 9.9111e-06, 9.9111e-06, 9.9111e-06, 9.9111e-06,\n",
       "         9.9111e-06, 9.9111e-06, 9.9111e-06, 9.9111e-06, 9.9111e-06, 9.9111e-06,\n",
       "         9.9111e-06, 9.9111e-06, 5.2818e-03, 9.9111e-06, 9.9111e-06, 9.9111e-06,\n",
       "         9.9111e-06, 9.9111e-06, 9.9111e-06],\n",
       "        [9.9111e-06, 9.9111e-06, 9.9111e-06, 9.9111e-06, 9.9111e-06, 9.9111e-06,\n",
       "         9.9111e-06, 9.9111e-06, 9.9111e-06, 9.9111e-06, 9.9111e-06, 9.9111e-06,\n",
       "         9.9111e-06, 9.9111e-06, 9.9111e-06, 9.9111e-06, 1.0554e-02, 9.9111e-06,\n",
       "         9.9111e-06, 9.9111e-06, 5.2818e-03, 9.9111e-06, 9.9111e-06, 9.9111e-06,\n",
       "         9.9111e-06, 9.9111e-06, 9.9111e-06, 9.9111e-06, 9.9111e-06, 9.9111e-06,\n",
       "         9.9111e-06, 9.9111e-06, 9.9111e-06, 9.9111e-06, 9.9111e-06, 9.9111e-06,\n",
       "         9.9111e-06, 9.9111e-06, 9.9111e-06],\n",
       "        [9.9111e-06, 9.9111e-06, 9.9111e-06, 9.9111e-06, 9.9111e-06, 9.9111e-06,\n",
       "         9.9111e-06, 9.9111e-06, 9.9111e-06, 9.9111e-06, 9.9111e-06, 5.2818e-03,\n",
       "         9.9111e-06, 9.9111e-06, 9.9111e-06, 9.9111e-06, 9.9111e-06, 9.9111e-06,\n",
       "         9.9111e-06, 9.9111e-06, 9.9111e-06, 9.9111e-06, 9.9111e-06, 9.9111e-06,\n",
       "         5.2818e-03, 9.9111e-06, 1.0554e-02, 9.9111e-06, 9.9111e-06, 5.2818e-03,\n",
       "         9.9111e-06, 5.2818e-03, 5.2818e-03, 9.9111e-06, 9.9111e-06, 9.9111e-06,\n",
       "         9.9111e-06, 9.9111e-06, 9.9111e-06],\n",
       "        [9.9111e-06, 9.9111e-06, 9.9111e-06, 9.9111e-06, 9.9111e-06, 9.9111e-06,\n",
       "         9.9111e-06, 9.9111e-06, 9.9111e-06, 9.9111e-06, 9.9111e-06, 9.9111e-06,\n",
       "         9.9111e-06, 9.9111e-06, 5.2818e-03, 5.2818e-03, 9.9111e-06, 1.5825e-02,\n",
       "         9.9111e-06, 5.2818e-03, 9.9111e-06, 9.9111e-06, 1.5825e-02, 9.9111e-06,\n",
       "         9.9111e-06, 1.0554e-02, 9.9111e-06, 9.9111e-06, 5.2818e-03, 9.9111e-06,\n",
       "         9.9111e-06, 9.9111e-06, 9.9111e-06, 9.9111e-06, 9.9111e-06, 9.9111e-06,\n",
       "         9.9111e-06, 9.9111e-06, 9.9111e-06],\n",
       "        [9.9111e-06, 9.9111e-06, 9.9111e-06, 9.9111e-06, 9.9111e-06, 9.9111e-06,\n",
       "         9.9111e-06, 9.9111e-06, 9.9111e-06, 9.9111e-06, 9.9111e-06, 9.9111e-06,\n",
       "         9.9111e-06, 9.9111e-06, 9.9111e-06, 1.0554e-02, 9.9111e-06, 9.9111e-06,\n",
       "         9.9111e-06, 5.2818e-03, 1.0554e-02, 9.9111e-06, 9.9111e-06, 1.0554e-02,\n",
       "         9.9111e-06, 9.9111e-06, 9.9111e-06, 5.2818e-03, 9.9111e-06, 9.9111e-06,\n",
       "         9.9111e-06, 1.0554e-02, 9.9111e-06, 9.9111e-06, 9.9111e-06, 9.9111e-06,\n",
       "         9.9111e-06, 9.9111e-06, 9.9111e-06],\n",
       "        [9.9111e-06, 9.9111e-06, 9.9111e-06, 9.9111e-06, 9.9111e-06, 9.9111e-06,\n",
       "         9.9111e-06, 9.9111e-06, 9.9111e-06, 9.9111e-06, 9.9111e-06, 5.2818e-03,\n",
       "         9.9111e-06, 1.0554e-02, 9.9111e-06, 9.9111e-06, 9.9111e-06, 9.9111e-06,\n",
       "         5.2818e-03, 9.9111e-06, 1.0554e-02, 9.9111e-06, 5.2818e-03, 1.0554e-02,\n",
       "         5.2818e-03, 9.9111e-06, 9.9111e-06, 9.9111e-06, 5.2818e-03, 1.5825e-02,\n",
       "         5.2818e-03, 9.9111e-06, 9.9111e-06, 9.9111e-06, 9.9111e-06, 5.2818e-03,\n",
       "         9.9111e-06, 9.9111e-06, 9.9111e-06],\n",
       "        [9.9111e-06, 9.9111e-06, 9.9111e-06, 9.9111e-06, 9.9111e-06, 9.9111e-06,\n",
       "         9.9111e-06, 9.9111e-06, 9.9111e-06, 9.9111e-06, 9.9111e-06, 9.9111e-06,\n",
       "         5.2818e-03, 5.2818e-03, 5.2818e-03, 1.5825e-02, 5.2818e-03, 5.2818e-03,\n",
       "         5.2818e-03, 9.9111e-06, 9.9111e-06, 5.2818e-03, 9.9111e-06, 9.9111e-06,\n",
       "         9.9111e-06, 1.0554e-02, 5.2818e-03, 1.0554e-02, 9.9111e-06, 9.9111e-06,\n",
       "         5.2818e-03, 9.9111e-06, 1.0554e-02, 9.9111e-06, 9.9111e-06, 9.9111e-06,\n",
       "         9.9111e-06, 9.9111e-06, 9.9111e-06],\n",
       "        [9.9111e-06, 9.9111e-06, 9.9111e-06, 9.9111e-06, 9.9111e-06, 9.9111e-06,\n",
       "         9.9111e-06, 9.9111e-06, 9.9111e-06, 9.9111e-06, 5.2818e-03, 9.9111e-06,\n",
       "         1.0554e-02, 9.9111e-06, 9.9111e-06, 9.9111e-06, 5.2818e-03, 5.2818e-03,\n",
       "         5.2818e-03, 5.2818e-03, 9.9111e-06, 9.9111e-06, 9.9111e-06, 1.0554e-02,\n",
       "         9.9111e-06, 5.2818e-03, 9.9111e-06, 9.9111e-06, 9.9111e-06, 5.2818e-03,\n",
       "         9.9111e-06, 9.9111e-06, 9.9111e-06, 5.2818e-03, 9.9111e-06, 9.9111e-06,\n",
       "         9.9111e-06, 9.9111e-06, 9.9111e-06],\n",
       "        [9.9111e-06, 9.9111e-06, 9.9111e-06, 9.9111e-06, 9.9111e-06, 9.9111e-06,\n",
       "         9.9111e-06, 9.9111e-06, 9.9111e-06, 9.9111e-06, 9.9111e-06, 9.9111e-06,\n",
       "         9.9111e-06, 9.9111e-06, 5.2818e-03, 9.9111e-06, 9.9111e-06, 5.2818e-03,\n",
       "         9.9111e-06, 5.2818e-03, 5.2818e-03, 9.9111e-06, 9.9111e-06, 5.2818e-03,\n",
       "         1.0554e-02, 9.9111e-06, 1.0554e-02, 5.2818e-03, 9.9111e-06, 5.2818e-03,\n",
       "         9.9111e-06, 5.2818e-03, 9.9111e-06, 9.9111e-06, 5.2818e-03, 9.9111e-06,\n",
       "         9.9111e-06, 9.9111e-06, 9.9111e-06],\n",
       "        [9.9111e-06, 9.9111e-06, 9.9111e-06, 9.9111e-06, 9.9111e-06, 9.9111e-06,\n",
       "         9.9111e-06, 9.9111e-06, 5.2818e-03, 9.9111e-06, 9.9111e-06, 9.9111e-06,\n",
       "         9.9111e-06, 9.9111e-06, 9.9111e-06, 9.9111e-06, 5.2818e-03, 1.5825e-02,\n",
       "         9.9111e-06, 9.9111e-06, 9.9111e-06, 9.9111e-06, 9.9111e-06, 5.2818e-03,\n",
       "         5.2818e-03, 5.2818e-03, 5.2818e-03, 5.2818e-03, 1.0554e-02, 9.9111e-06,\n",
       "         5.2818e-03, 9.9111e-06, 9.9111e-06, 9.9111e-06, 9.9111e-06, 9.9111e-06,\n",
       "         9.9111e-06, 9.9111e-06, 9.9111e-06],\n",
       "        [9.9111e-06, 9.9111e-06, 9.9111e-06, 9.9111e-06, 9.9111e-06, 9.9111e-06,\n",
       "         9.9111e-06, 9.9111e-06, 9.9111e-06, 9.9111e-06, 1.0554e-02, 9.9111e-06,\n",
       "         5.2818e-03, 9.9111e-06, 5.2818e-03, 9.9111e-06, 5.2818e-03, 9.9111e-06,\n",
       "         9.9111e-06, 9.9111e-06, 9.9111e-06, 9.9111e-06, 5.2818e-03, 5.2818e-03,\n",
       "         9.9111e-06, 1.0554e-02, 9.9111e-06, 9.9111e-06, 9.9111e-06, 5.2818e-03,\n",
       "         1.0554e-02, 9.9111e-06, 9.9111e-06, 9.9111e-06, 9.9111e-06, 9.9111e-06,\n",
       "         9.9111e-06, 9.9111e-06, 5.2818e-03],\n",
       "        [9.9111e-06, 9.9111e-06, 9.9111e-06, 9.9111e-06, 9.9111e-06, 9.9111e-06,\n",
       "         5.2818e-03, 5.2818e-03, 9.9111e-06, 9.9111e-06, 9.9111e-06, 5.2818e-03,\n",
       "         5.2818e-03, 5.2818e-03, 9.9111e-06, 5.2818e-03, 9.9111e-06, 9.9111e-06,\n",
       "         9.9111e-06, 9.9111e-06, 5.2818e-03, 5.2818e-03, 1.0554e-02, 9.9111e-06,\n",
       "         9.9111e-06, 9.9111e-06, 9.9111e-06, 5.2818e-03, 9.9111e-06, 5.2818e-03,\n",
       "         5.2818e-03, 9.9111e-06, 5.2818e-03, 9.9111e-06, 5.2818e-03, 9.9111e-06,\n",
       "         9.9111e-06, 9.9111e-06, 9.9111e-06],\n",
       "        [9.9111e-06, 9.9111e-06, 9.9111e-06, 9.9111e-06, 9.9111e-06, 9.9111e-06,\n",
       "         9.9111e-06, 9.9111e-06, 9.9111e-06, 9.9111e-06, 9.9111e-06, 9.9111e-06,\n",
       "         9.9111e-06, 5.2818e-03, 9.9111e-06, 9.9111e-06, 5.2818e-03, 1.0554e-02,\n",
       "         9.9111e-06, 5.2818e-03, 9.9111e-06, 9.9111e-06, 5.2818e-03, 9.9111e-06,\n",
       "         9.9111e-06, 5.2818e-03, 9.9111e-06, 9.9111e-06, 9.9111e-06, 9.9111e-06,\n",
       "         9.9111e-06, 9.9111e-06, 9.9111e-06, 5.2818e-03, 9.9111e-06, 9.9111e-06,\n",
       "         9.9111e-06, 9.9111e-06, 9.9111e-06],\n",
       "        [9.9111e-06, 9.9111e-06, 9.9111e-06, 9.9111e-06, 9.9111e-06, 9.9111e-06,\n",
       "         9.9111e-06, 9.9111e-06, 5.2818e-03, 9.9111e-06, 9.9111e-06, 9.9111e-06,\n",
       "         9.9111e-06, 9.9111e-06, 5.2818e-03, 9.9111e-06, 9.9111e-06, 9.9111e-06,\n",
       "         9.9111e-06, 9.9111e-06, 9.9111e-06, 9.9111e-06, 5.2818e-03, 9.9111e-06,\n",
       "         9.9111e-06, 9.9111e-06, 9.9111e-06, 9.9111e-06, 9.9111e-06, 9.9111e-06,\n",
       "         9.9111e-06, 9.9111e-06, 9.9111e-06, 9.9111e-06, 9.9111e-06, 9.9111e-06,\n",
       "         9.9111e-06, 9.9111e-06, 9.9111e-06],\n",
       "        [5.2818e-03, 9.9111e-06, 9.9111e-06, 9.9111e-06, 9.9111e-06, 9.9111e-06,\n",
       "         9.9111e-06, 9.9111e-06, 9.9111e-06, 9.9111e-06, 9.9111e-06, 9.9111e-06,\n",
       "         9.9111e-06, 9.9111e-06, 9.9111e-06, 9.9111e-06, 9.9111e-06, 5.2818e-03,\n",
       "         9.9111e-06, 9.9111e-06, 9.9111e-06, 1.5825e-02, 9.9111e-06, 9.9111e-06,\n",
       "         9.9111e-06, 5.2818e-03, 5.2818e-03, 9.9111e-06, 9.9111e-06, 9.9111e-06,\n",
       "         9.9111e-06, 9.9111e-06, 1.0554e-02, 9.9111e-06, 9.9111e-06, 9.9111e-06,\n",
       "         9.9111e-06, 9.9111e-06, 9.9111e-06],\n",
       "        [9.9111e-06, 9.9111e-06, 9.9111e-06, 5.2818e-03, 9.9111e-06, 9.9111e-06,\n",
       "         9.9111e-06, 9.9111e-06, 9.9111e-06, 9.9111e-06, 9.9111e-06, 9.9111e-06,\n",
       "         9.9111e-06, 9.9111e-06, 9.9111e-06, 9.9111e-06, 9.9111e-06, 9.9111e-06,\n",
       "         9.9111e-06, 5.2818e-03, 9.9111e-06, 9.9111e-06, 1.0554e-02, 9.9111e-06,\n",
       "         9.9111e-06, 9.9111e-06, 9.9111e-06, 9.9111e-06, 9.9111e-06, 1.0554e-02,\n",
       "         9.9111e-06, 5.2818e-03, 9.9111e-06, 9.9111e-06, 9.9111e-06, 9.9111e-06,\n",
       "         9.9111e-06, 9.9111e-06, 9.9111e-06],\n",
       "        [9.9111e-06, 9.9111e-06, 9.9111e-06, 9.9111e-06, 9.9111e-06, 9.9111e-06,\n",
       "         9.9111e-06, 9.9111e-06, 9.9111e-06, 9.9111e-06, 9.9111e-06, 9.9111e-06,\n",
       "         9.9111e-06, 9.9111e-06, 9.9111e-06, 9.9111e-06, 9.9111e-06, 5.2818e-03,\n",
       "         9.9111e-06, 9.9111e-06, 5.2818e-03, 9.9111e-06, 9.9111e-06, 9.9111e-06,\n",
       "         5.2818e-03, 5.2818e-03, 9.9111e-06, 9.9111e-06, 5.2818e-03, 5.2818e-03,\n",
       "         5.2818e-03, 9.9111e-06, 9.9111e-06, 9.9111e-06, 9.9111e-06, 9.9111e-06,\n",
       "         9.9111e-06, 9.9111e-06, 9.9111e-06],\n",
       "        [9.9111e-06, 9.9111e-06, 9.9111e-06, 9.9111e-06, 9.9111e-06, 9.9111e-06,\n",
       "         9.9111e-06, 9.9111e-06, 9.9111e-06, 9.9111e-06, 9.9111e-06, 9.9111e-06,\n",
       "         9.9111e-06, 9.9111e-06, 9.9111e-06, 9.9111e-06, 5.2818e-03, 9.9111e-06,\n",
       "         9.9111e-06, 9.9111e-06, 9.9111e-06, 5.2818e-03, 9.9111e-06, 5.2818e-03,\n",
       "         9.9111e-06, 9.9111e-06, 5.2818e-03, 9.9111e-06, 9.9111e-06, 9.9111e-06,\n",
       "         9.9111e-06, 9.9111e-06, 9.9111e-06, 9.9111e-06, 5.2818e-03, 9.9111e-06,\n",
       "         9.9111e-06, 9.9111e-06, 9.9111e-06],\n",
       "        [9.9111e-06, 9.9111e-06, 9.9111e-06, 9.9111e-06, 9.9111e-06, 9.9111e-06,\n",
       "         9.9111e-06, 9.9111e-06, 9.9111e-06, 9.9111e-06, 9.9111e-06, 5.2818e-03,\n",
       "         9.9111e-06, 9.9111e-06, 9.9111e-06, 9.9111e-06, 9.9111e-06, 9.9111e-06,\n",
       "         9.9111e-06, 9.9111e-06, 9.9111e-06, 5.2818e-03, 9.9111e-06, 5.2818e-03,\n",
       "         9.9111e-06, 9.9111e-06, 9.9111e-06, 1.0554e-02, 9.9111e-06, 9.9111e-06,\n",
       "         9.9111e-06, 5.2818e-03, 9.9111e-06, 9.9111e-06, 9.9111e-06, 9.9111e-06,\n",
       "         9.9111e-06, 9.9111e-06, 9.9111e-06],\n",
       "        [9.9111e-06, 9.9111e-06, 9.9111e-06, 9.9111e-06, 9.9111e-06, 9.9111e-06,\n",
       "         9.9111e-06, 9.9111e-06, 9.9111e-06, 9.9111e-06, 9.9111e-06, 9.9111e-06,\n",
       "         9.9111e-06, 9.9111e-06, 9.9111e-06, 9.9111e-06, 9.9111e-06, 9.9111e-06,\n",
       "         5.2818e-03, 9.9111e-06, 9.9111e-06, 9.9111e-06, 9.9111e-06, 5.2818e-03,\n",
       "         9.9111e-06, 9.9111e-06, 9.9111e-06, 9.9111e-06, 9.9111e-06, 9.9111e-06,\n",
       "         9.9111e-06, 9.9111e-06, 5.2818e-03, 9.9111e-06, 9.9111e-06, 9.9111e-06,\n",
       "         9.9111e-06, 9.9111e-06, 9.9111e-06],\n",
       "        [9.9111e-06, 9.9111e-06, 9.9111e-06, 9.9111e-06, 5.2818e-03, 9.9111e-06,\n",
       "         9.9111e-06, 9.9111e-06, 9.9111e-06, 9.9111e-06, 9.9111e-06, 9.9111e-06,\n",
       "         9.9111e-06, 9.9111e-06, 9.9111e-06, 9.9111e-06, 9.9111e-06, 9.9111e-06,\n",
       "         9.9111e-06, 9.9111e-06, 9.9111e-06, 9.9111e-06, 9.9111e-06, 9.9111e-06,\n",
       "         9.9111e-06, 9.9111e-06, 9.9111e-06, 9.9111e-06, 9.9111e-06, 9.9111e-06,\n",
       "         9.9111e-06, 9.9111e-06, 9.9111e-06, 9.9111e-06, 9.9111e-06, 9.9111e-06,\n",
       "         9.9111e-06, 9.9111e-06, 9.9111e-06],\n",
       "        [9.9111e-06, 9.9111e-06, 9.9111e-06, 9.9111e-06, 9.9111e-06, 9.9111e-06,\n",
       "         9.9111e-06, 9.9111e-06, 9.9111e-06, 9.9111e-06, 9.9111e-06, 9.9111e-06,\n",
       "         9.9111e-06, 9.9111e-06, 9.9111e-06, 9.9111e-06, 9.9111e-06, 9.9111e-06,\n",
       "         9.9111e-06, 9.9111e-06, 9.9111e-06, 9.9111e-06, 5.2818e-03, 9.9111e-06,\n",
       "         9.9111e-06, 9.9111e-06, 9.9111e-06, 9.9111e-06, 9.9111e-06, 9.9111e-06,\n",
       "         9.9111e-06, 9.9111e-06, 9.9111e-06, 9.9111e-06, 5.2818e-03, 9.9111e-06,\n",
       "         9.9111e-06, 9.9111e-06, 9.9111e-06],\n",
       "        [9.9111e-06, 9.9111e-06, 9.9111e-06, 9.9111e-06, 9.9111e-06, 9.9111e-06,\n",
       "         9.9111e-06, 9.9111e-06, 9.9111e-06, 9.9111e-06, 9.9111e-06, 9.9111e-06,\n",
       "         9.9111e-06, 9.9111e-06, 9.9111e-06, 9.9111e-06, 9.9111e-06, 9.9111e-06,\n",
       "         9.9111e-06, 9.9111e-06, 9.9111e-06, 5.2818e-03, 9.9111e-06, 9.9111e-06,\n",
       "         9.9111e-06, 9.9111e-06, 9.9111e-06, 9.9111e-06, 9.9111e-06, 5.2818e-03,\n",
       "         9.9111e-06, 9.9111e-06, 9.9111e-06, 9.9111e-06, 9.9111e-06, 9.9111e-06,\n",
       "         9.9111e-06, 9.9111e-06, 9.9111e-06]], dtype=torch.float64)"
      ]
     },
     "execution_count": 18,
     "metadata": {},
     "output_type": "execute_result"
    }
   ],
   "source": [
    "k_xy_hat / torch.sum(k_xy_hat)"
   ]
  },
  {
   "cell_type": "markdown",
   "id": "underlying-isolation",
   "metadata": {},
   "source": [
    "## Experiments"
   ]
  },
  {
   "cell_type": "code",
   "execution_count": 13,
   "id": "confidential-plate",
   "metadata": {},
   "outputs": [],
   "source": [
    "def run_expr4(n_batch, iters):\n",
    "    '''\n",
    "    model pxy directly\n",
    "    '''\n",
    "    torch.manual_seed(42)\n",
    "    \n",
    "    M = torch.randn(xy.shape, requires_grad = True)\n",
    "    print(M[0, :5])\n",
    "    \n",
    "    optimizer = torch.optim.SGD([M],1, 0.99)\n",
    "    Mbar = M.data\n",
    "\n",
    "    history = {'loss':[]}\n",
    "    \n",
    "    for iteration in tqdm(range(1,iters)):\n",
    "\n",
    "        samples = [np.random.choice(range(xy.reshape(-1).shape[0]), p=xy.reshape(-1)) for i in range(n_batch)]\n",
    "        samples = np.array([(xi//x.shape[0], xi%x.shape[0]) for xi in samples])\n",
    "#         import pdb; pdb.set_trace()\n",
    "        \n",
    "        optimizer.zero_grad()\n",
    "\n",
    "        F = torch.exp(M)\n",
    "\n",
    "        loss = 0\n",
    "        for i in range(n_batch):\n",
    "            lossi = F[samples[i,0],samples[i,1]]/torch.sum(F[:,:])\n",
    "            loss = loss + torch.log(lossi) \n",
    "        loss = -1*loss/n_batch\n",
    "        loss.backward()\n",
    "        optimizer.step()\n",
    "        history['loss'].append(loss.item())\n",
    "        Mbar = (1-1/iteration)*Mbar + (1/iteration)*M.data\n",
    "\n",
    "        if iteration % 1000 == 0:\n",
    "            print(torch.var(M))\n",
    "            plt.imshow(Mbar.detach().cpu().numpy(), extent=[7,45,36,14])\n",
    "            plt.savefig(f\"birthwt_training_results/Mbar_joint_{n_batch}_{iteration}.png\")\n",
    "\n",
    "    np.save(f'birthwt_training_results/Mbar_joint_{n_batch}_{iteration}.npy', Mbar.detach().cpu().numpy())\n",
    "    np.save(f'birthwt_training_results/M_joint_{n_batch}_{iteration}.npy', M.detach().cpu().numpy())\n",
    "    np.save(f'birthwt_training_results/training_loss_joint_{n_batch}_{iteration}.npy', np.array(history['loss']))\n",
    "    return M, Mbar, history"
   ]
  },
  {
   "cell_type": "code",
   "execution_count": 14,
   "id": "quantitative-portland",
   "metadata": {
    "scrolled": true
   },
   "outputs": [
    {
     "name": "stderr",
     "output_type": "stream",
     "text": [
      "  0%|          | 12/99999 [00:00<14:14, 116.96it/s]"
     ]
    },
    {
     "name": "stdout",
     "output_type": "stream",
     "text": [
      "tensor([ 1.9269,  1.4873,  0.9007, -2.1055,  0.6784], grad_fn=<SliceBackward>)\n"
     ]
    },
    {
     "name": "stderr",
     "output_type": "stream",
     "text": [
      "  1%|          | 1010/99999 [00:07<13:45, 119.93it/s]"
     ]
    },
    {
     "name": "stdout",
     "output_type": "stream",
     "text": [
      "tensor(20.9457, grad_fn=<VarBackward0>)\n"
     ]
    },
    {
     "name": "stderr",
     "output_type": "stream",
     "text": [
      "  2%|▏         | 2015/99999 [00:15<14:32, 112.36it/s]"
     ]
    },
    {
     "name": "stdout",
     "output_type": "stream",
     "text": [
      "tensor(10.5617, grad_fn=<VarBackward0>)\n"
     ]
    },
    {
     "name": "stderr",
     "output_type": "stream",
     "text": [
      "  3%|▎         | 3020/99999 [00:22<12:48, 126.17it/s]"
     ]
    },
    {
     "name": "stdout",
     "output_type": "stream",
     "text": [
      "tensor(8.8270, grad_fn=<VarBackward0>)\n"
     ]
    },
    {
     "name": "stderr",
     "output_type": "stream",
     "text": [
      "  4%|▍         | 4016/99999 [00:29<12:24, 128.93it/s]"
     ]
    },
    {
     "name": "stdout",
     "output_type": "stream",
     "text": [
      "tensor(7.7296, grad_fn=<VarBackward0>)\n"
     ]
    },
    {
     "name": "stderr",
     "output_type": "stream",
     "text": [
      "  5%|▌         | 5007/99999 [00:36<12:52, 122.90it/s]"
     ]
    },
    {
     "name": "stdout",
     "output_type": "stream",
     "text": [
      "tensor(7.6070, grad_fn=<VarBackward0>)\n"
     ]
    },
    {
     "name": "stderr",
     "output_type": "stream",
     "text": [
      "  6%|▌         | 6020/99999 [00:43<12:19, 127.10it/s]"
     ]
    },
    {
     "name": "stdout",
     "output_type": "stream",
     "text": [
      "tensor(7.1555, grad_fn=<VarBackward0>)\n"
     ]
    },
    {
     "name": "stderr",
     "output_type": "stream",
     "text": [
      "  7%|▋         | 7017/99999 [00:51<13:15, 116.85it/s]"
     ]
    },
    {
     "name": "stdout",
     "output_type": "stream",
     "text": [
      "tensor(6.8291, grad_fn=<VarBackward0>)\n"
     ]
    },
    {
     "name": "stderr",
     "output_type": "stream",
     "text": [
      "  8%|▊         | 8018/99999 [00:58<12:11, 125.71it/s]"
     ]
    },
    {
     "name": "stdout",
     "output_type": "stream",
     "text": [
      "tensor(6.5674, grad_fn=<VarBackward0>)\n"
     ]
    },
    {
     "name": "stderr",
     "output_type": "stream",
     "text": [
      "  9%|▉         | 9017/99999 [01:05<11:59, 126.51it/s]"
     ]
    },
    {
     "name": "stdout",
     "output_type": "stream",
     "text": [
      "tensor(6.7122, grad_fn=<VarBackward0>)\n"
     ]
    },
    {
     "name": "stderr",
     "output_type": "stream",
     "text": [
      " 10%|█         | 10014/99999 [01:12<12:37, 118.73it/s]"
     ]
    },
    {
     "name": "stdout",
     "output_type": "stream",
     "text": [
      "tensor(6.6036, grad_fn=<VarBackward0>)\n"
     ]
    },
    {
     "name": "stderr",
     "output_type": "stream",
     "text": [
      " 11%|█         | 11006/99999 [01:20<13:42, 108.17it/s]"
     ]
    },
    {
     "name": "stdout",
     "output_type": "stream",
     "text": [
      "tensor(6.6057, grad_fn=<VarBackward0>)\n"
     ]
    },
    {
     "name": "stderr",
     "output_type": "stream",
     "text": [
      " 12%|█▏        | 12016/99999 [01:28<13:25, 109.22it/s]"
     ]
    },
    {
     "name": "stdout",
     "output_type": "stream",
     "text": [
      "tensor(6.4301, grad_fn=<VarBackward0>)\n"
     ]
    },
    {
     "name": "stderr",
     "output_type": "stream",
     "text": [
      " 13%|█▎        | 13005/99999 [01:35<12:49, 113.03it/s]"
     ]
    },
    {
     "name": "stdout",
     "output_type": "stream",
     "text": [
      "tensor(6.3848, grad_fn=<VarBackward0>)\n"
     ]
    },
    {
     "name": "stderr",
     "output_type": "stream",
     "text": [
      " 14%|█▍        | 14010/99999 [01:42<13:11, 108.64it/s]"
     ]
    },
    {
     "name": "stdout",
     "output_type": "stream",
     "text": [
      "tensor(6.5941, grad_fn=<VarBackward0>)\n"
     ]
    },
    {
     "name": "stderr",
     "output_type": "stream",
     "text": [
      " 15%|█▌        | 15009/99999 [01:49<12:46, 110.83it/s]"
     ]
    },
    {
     "name": "stdout",
     "output_type": "stream",
     "text": [
      "tensor(6.7021, grad_fn=<VarBackward0>)\n"
     ]
    },
    {
     "name": "stderr",
     "output_type": "stream",
     "text": [
      " 16%|█▌        | 16002/99999 [01:57<12:44, 109.86it/s]"
     ]
    },
    {
     "name": "stdout",
     "output_type": "stream",
     "text": [
      "tensor(6.6732, grad_fn=<VarBackward0>)\n"
     ]
    },
    {
     "name": "stderr",
     "output_type": "stream",
     "text": [
      " 17%|█▋        | 17003/99999 [02:04<13:05, 105.73it/s]"
     ]
    },
    {
     "name": "stdout",
     "output_type": "stream",
     "text": [
      "tensor(6.3441, grad_fn=<VarBackward0>)\n"
     ]
    },
    {
     "name": "stderr",
     "output_type": "stream",
     "text": [
      " 18%|█▊        | 17998/99999 [02:12<09:43, 140.45it/s]"
     ]
    },
    {
     "name": "stdout",
     "output_type": "stream",
     "text": [
      "tensor(6.7605, grad_fn=<VarBackward0>)\n"
     ]
    },
    {
     "name": "stderr",
     "output_type": "stream",
     "text": [
      " 19%|█▉        | 19003/99999 [02:19<13:06, 102.98it/s]"
     ]
    },
    {
     "name": "stdout",
     "output_type": "stream",
     "text": [
      "tensor(6.5456, grad_fn=<VarBackward0>)\n"
     ]
    },
    {
     "name": "stderr",
     "output_type": "stream",
     "text": [
      " 20%|██        | 20004/99999 [02:27<13:04, 101.91it/s]"
     ]
    },
    {
     "name": "stdout",
     "output_type": "stream",
     "text": [
      "tensor(6.6120, grad_fn=<VarBackward0>)\n"
     ]
    },
    {
     "name": "stderr",
     "output_type": "stream",
     "text": [
      " 21%|██        | 21010/99999 [02:34<13:09, 100.06it/s]"
     ]
    },
    {
     "name": "stdout",
     "output_type": "stream",
     "text": [
      "tensor(6.7583, grad_fn=<VarBackward0>)\n"
     ]
    },
    {
     "name": "stderr",
     "output_type": "stream",
     "text": [
      " 22%|██▏       | 22010/99999 [02:41<12:27, 104.36it/s]"
     ]
    },
    {
     "name": "stdout",
     "output_type": "stream",
     "text": [
      "tensor(6.5052, grad_fn=<VarBackward0>)\n"
     ]
    },
    {
     "name": "stderr",
     "output_type": "stream",
     "text": [
      " 23%|██▎       | 23007/99999 [02:49<13:10, 97.42it/s] "
     ]
    },
    {
     "name": "stdout",
     "output_type": "stream",
     "text": [
      "tensor(6.7919, grad_fn=<VarBackward0>)\n"
     ]
    },
    {
     "name": "stderr",
     "output_type": "stream",
     "text": [
      " 24%|██▍       | 23997/99999 [02:56<09:05, 139.43it/s]"
     ]
    },
    {
     "name": "stdout",
     "output_type": "stream",
     "text": [
      "tensor(6.3870, grad_fn=<VarBackward0>)\n"
     ]
    },
    {
     "name": "stderr",
     "output_type": "stream",
     "text": [
      " 25%|██▌       | 25003/99999 [03:04<13:10, 94.81it/s] "
     ]
    },
    {
     "name": "stdout",
     "output_type": "stream",
     "text": [
      "tensor(6.8149, grad_fn=<VarBackward0>)\n"
     ]
    },
    {
     "name": "stderr",
     "output_type": "stream",
     "text": [
      " 26%|██▌       | 25996/99999 [03:11<08:57, 137.72it/s]"
     ]
    },
    {
     "name": "stdout",
     "output_type": "stream",
     "text": [
      "tensor(6.4237, grad_fn=<VarBackward0>)\n"
     ]
    },
    {
     "name": "stderr",
     "output_type": "stream",
     "text": [
      " 27%|██▋       | 26998/99999 [03:19<08:48, 138.05it/s]"
     ]
    },
    {
     "name": "stdout",
     "output_type": "stream",
     "text": [
      "tensor(6.6520, grad_fn=<VarBackward0>)\n"
     ]
    },
    {
     "name": "stderr",
     "output_type": "stream",
     "text": [
      " 28%|██▊       | 28000/99999 [03:26<12:20, 97.26it/s] "
     ]
    },
    {
     "name": "stdout",
     "output_type": "stream",
     "text": [
      "tensor(6.3222, grad_fn=<VarBackward0>)\n"
     ]
    },
    {
     "name": "stderr",
     "output_type": "stream",
     "text": [
      " 29%|██▉       | 28999/99999 [03:33<08:29, 139.41it/s]"
     ]
    },
    {
     "name": "stdout",
     "output_type": "stream",
     "text": [
      "tensor(6.3909, grad_fn=<VarBackward0>)\n"
     ]
    },
    {
     "name": "stderr",
     "output_type": "stream",
     "text": [
      " 30%|██▉       | 29999/99999 [03:41<08:22, 139.23it/s]"
     ]
    },
    {
     "name": "stdout",
     "output_type": "stream",
     "text": [
      "tensor(6.9374, grad_fn=<VarBackward0>)\n"
     ]
    },
    {
     "name": "stderr",
     "output_type": "stream",
     "text": [
      " 31%|███       | 31001/99999 [03:48<12:00, 95.82it/s] "
     ]
    },
    {
     "name": "stdout",
     "output_type": "stream",
     "text": [
      "tensor(6.5155, grad_fn=<VarBackward0>)\n"
     ]
    },
    {
     "name": "stderr",
     "output_type": "stream",
     "text": [
      " 32%|███▏      | 31994/99999 [03:56<08:18, 136.30it/s]"
     ]
    },
    {
     "name": "stdout",
     "output_type": "stream",
     "text": [
      "tensor(6.4592, grad_fn=<VarBackward0>)\n"
     ]
    },
    {
     "name": "stderr",
     "output_type": "stream",
     "text": [
      " 33%|███▎      | 33000/99999 [04:03<11:41, 95.52it/s] "
     ]
    },
    {
     "name": "stdout",
     "output_type": "stream",
     "text": [
      "tensor(6.3919, grad_fn=<VarBackward0>)\n"
     ]
    },
    {
     "name": "stderr",
     "output_type": "stream",
     "text": [
      " 34%|███▍      | 33990/99999 [04:10<07:40, 143.30it/s]"
     ]
    },
    {
     "name": "stdout",
     "output_type": "stream",
     "text": [
      "tensor(6.4999, grad_fn=<VarBackward0>)\n"
     ]
    },
    {
     "name": "stderr",
     "output_type": "stream",
     "text": [
      " 35%|███▍      | 34992/99999 [04:18<07:40, 141.27it/s]"
     ]
    },
    {
     "name": "stdout",
     "output_type": "stream",
     "text": [
      "tensor(6.4940, grad_fn=<VarBackward0>)\n"
     ]
    },
    {
     "name": "stderr",
     "output_type": "stream",
     "text": [
      " 36%|███▌      | 35999/99999 [04:25<07:35, 140.56it/s]"
     ]
    },
    {
     "name": "stdout",
     "output_type": "stream",
     "text": [
      "tensor(6.6322, grad_fn=<VarBackward0>)\n"
     ]
    },
    {
     "name": "stderr",
     "output_type": "stream",
     "text": [
      " 37%|███▋      | 36993/99999 [04:33<07:48, 134.61it/s]"
     ]
    },
    {
     "name": "stdout",
     "output_type": "stream",
     "text": [
      "tensor(6.4296, grad_fn=<VarBackward0>)\n"
     ]
    },
    {
     "name": "stderr",
     "output_type": "stream",
     "text": [
      " 38%|███▊      | 37989/99999 [04:40<07:20, 140.71it/s]"
     ]
    },
    {
     "name": "stdout",
     "output_type": "stream",
     "text": [
      "tensor(6.4130, grad_fn=<VarBackward0>)\n"
     ]
    },
    {
     "name": "stderr",
     "output_type": "stream",
     "text": [
      " 39%|███▉      | 39000/99999 [04:47<11:17, 89.97it/s] "
     ]
    },
    {
     "name": "stdout",
     "output_type": "stream",
     "text": [
      "tensor(6.3238, grad_fn=<VarBackward0>)\n"
     ]
    },
    {
     "name": "stderr",
     "output_type": "stream",
     "text": [
      " 40%|███▉      | 39997/99999 [04:55<07:03, 141.80it/s]"
     ]
    },
    {
     "name": "stdout",
     "output_type": "stream",
     "text": [
      "tensor(6.6892, grad_fn=<VarBackward0>)\n"
     ]
    },
    {
     "name": "stderr",
     "output_type": "stream",
     "text": [
      " 41%|████      | 40985/99999 [05:02<06:57, 141.50it/s]"
     ]
    },
    {
     "name": "stdout",
     "output_type": "stream",
     "text": [
      "tensor(6.4798, grad_fn=<VarBackward0>)\n"
     ]
    },
    {
     "name": "stderr",
     "output_type": "stream",
     "text": [
      " 42%|████▏     | 41994/99999 [05:10<07:07, 135.74it/s]"
     ]
    },
    {
     "name": "stdout",
     "output_type": "stream",
     "text": [
      "tensor(6.6533, grad_fn=<VarBackward0>)\n"
     ]
    },
    {
     "name": "stderr",
     "output_type": "stream",
     "text": [
      " 43%|████▎     | 42998/99999 [05:17<07:13, 131.59it/s]"
     ]
    },
    {
     "name": "stdout",
     "output_type": "stream",
     "text": [
      "tensor(6.5245, grad_fn=<VarBackward0>)\n"
     ]
    },
    {
     "name": "stderr",
     "output_type": "stream",
     "text": [
      " 44%|████▍     | 43990/99999 [05:25<06:50, 136.53it/s]"
     ]
    },
    {
     "name": "stdout",
     "output_type": "stream",
     "text": [
      "tensor(6.6696, grad_fn=<VarBackward0>)\n"
     ]
    },
    {
     "name": "stderr",
     "output_type": "stream",
     "text": [
      " 45%|████▍     | 44986/99999 [05:32<06:38, 138.06it/s]"
     ]
    },
    {
     "name": "stdout",
     "output_type": "stream",
     "text": [
      "tensor(6.8813, grad_fn=<VarBackward0>)\n"
     ]
    },
    {
     "name": "stderr",
     "output_type": "stream",
     "text": [
      " 46%|████▌     | 45990/99999 [05:40<06:34, 136.88it/s]"
     ]
    },
    {
     "name": "stdout",
     "output_type": "stream",
     "text": [
      "tensor(6.6210, grad_fn=<VarBackward0>)\n"
     ]
    },
    {
     "name": "stderr",
     "output_type": "stream",
     "text": [
      " 47%|████▋     | 46991/99999 [05:47<06:32, 134.96it/s]"
     ]
    },
    {
     "name": "stdout",
     "output_type": "stream",
     "text": [
      "tensor(6.7294, grad_fn=<VarBackward0>)\n"
     ]
    },
    {
     "name": "stderr",
     "output_type": "stream",
     "text": [
      " 48%|████▊     | 47998/99999 [05:55<06:08, 141.04it/s]"
     ]
    },
    {
     "name": "stdout",
     "output_type": "stream",
     "text": [
      "tensor(6.6460, grad_fn=<VarBackward0>)\n"
     ]
    },
    {
     "name": "stderr",
     "output_type": "stream",
     "text": [
      " 49%|████▉     | 48986/99999 [06:02<06:00, 141.36it/s]"
     ]
    },
    {
     "name": "stdout",
     "output_type": "stream",
     "text": [
      "tensor(6.2960, grad_fn=<VarBackward0>)\n"
     ]
    },
    {
     "name": "stderr",
     "output_type": "stream",
     "text": [
      " 50%|████▉     | 49994/99999 [06:10<05:52, 142.05it/s]"
     ]
    },
    {
     "name": "stdout",
     "output_type": "stream",
     "text": [
      "tensor(6.8722, grad_fn=<VarBackward0>)\n"
     ]
    },
    {
     "name": "stderr",
     "output_type": "stream",
     "text": [
      " 51%|█████     | 50992/99999 [06:17<05:51, 139.32it/s]"
     ]
    },
    {
     "name": "stdout",
     "output_type": "stream",
     "text": [
      "tensor(6.4625, grad_fn=<VarBackward0>)\n"
     ]
    },
    {
     "name": "stderr",
     "output_type": "stream",
     "text": [
      " 52%|█████▏    | 51998/99999 [06:24<05:38, 141.66it/s]"
     ]
    },
    {
     "name": "stdout",
     "output_type": "stream",
     "text": [
      "tensor(6.0560, grad_fn=<VarBackward0>)\n"
     ]
    },
    {
     "name": "stderr",
     "output_type": "stream",
     "text": [
      " 53%|█████▎    | 52992/99999 [06:32<06:06, 128.22it/s]"
     ]
    },
    {
     "name": "stdout",
     "output_type": "stream",
     "text": [
      "tensor(6.6674, grad_fn=<VarBackward0>)\n"
     ]
    },
    {
     "name": "stderr",
     "output_type": "stream",
     "text": [
      " 54%|█████▍    | 53987/99999 [06:40<05:37, 136.15it/s]"
     ]
    },
    {
     "name": "stdout",
     "output_type": "stream",
     "text": [
      "tensor(6.7126, grad_fn=<VarBackward0>)\n"
     ]
    },
    {
     "name": "stderr",
     "output_type": "stream",
     "text": [
      " 55%|█████▍    | 54994/99999 [06:47<05:21, 139.94it/s]"
     ]
    },
    {
     "name": "stdout",
     "output_type": "stream",
     "text": [
      "tensor(6.7943, grad_fn=<VarBackward0>)\n"
     ]
    },
    {
     "name": "stderr",
     "output_type": "stream",
     "text": [
      " 56%|█████▌    | 55999/99999 [06:55<05:22, 136.30it/s]"
     ]
    },
    {
     "name": "stdout",
     "output_type": "stream",
     "text": [
      "tensor(6.7839, grad_fn=<VarBackward0>)\n"
     ]
    },
    {
     "name": "stderr",
     "output_type": "stream",
     "text": [
      " 57%|█████▋    | 56988/99999 [07:02<05:19, 134.80it/s]"
     ]
    },
    {
     "name": "stdout",
     "output_type": "stream",
     "text": [
      "tensor(6.6403, grad_fn=<VarBackward0>)\n"
     ]
    },
    {
     "name": "stderr",
     "output_type": "stream",
     "text": [
      " 58%|█████▊    | 57996/99999 [07:10<05:02, 138.97it/s]"
     ]
    },
    {
     "name": "stdout",
     "output_type": "stream",
     "text": [
      "tensor(6.9150, grad_fn=<VarBackward0>)\n"
     ]
    },
    {
     "name": "stderr",
     "output_type": "stream",
     "text": [
      " 59%|█████▉    | 58991/99999 [07:17<05:27, 125.12it/s]"
     ]
    },
    {
     "name": "stdout",
     "output_type": "stream",
     "text": [
      "tensor(6.4136, grad_fn=<VarBackward0>)\n"
     ]
    },
    {
     "name": "stderr",
     "output_type": "stream",
     "text": [
      " 60%|█████▉    | 59996/99999 [07:25<04:50, 137.60it/s]"
     ]
    },
    {
     "name": "stdout",
     "output_type": "stream",
     "text": [
      "tensor(6.5803, grad_fn=<VarBackward0>)\n"
     ]
    },
    {
     "name": "stderr",
     "output_type": "stream",
     "text": [
      " 61%|██████    | 60999/99999 [07:33<04:48, 135.25it/s]"
     ]
    },
    {
     "name": "stdout",
     "output_type": "stream",
     "text": [
      "tensor(6.8038, grad_fn=<VarBackward0>)\n"
     ]
    },
    {
     "name": "stderr",
     "output_type": "stream",
     "text": [
      " 62%|██████▏   | 61989/99999 [07:40<04:36, 137.31it/s]"
     ]
    },
    {
     "name": "stdout",
     "output_type": "stream",
     "text": [
      "tensor(6.4129, grad_fn=<VarBackward0>)\n"
     ]
    },
    {
     "name": "stderr",
     "output_type": "stream",
     "text": [
      " 63%|██████▎   | 62992/99999 [07:48<04:23, 140.34it/s]"
     ]
    },
    {
     "name": "stdout",
     "output_type": "stream",
     "text": [
      "tensor(6.4268, grad_fn=<VarBackward0>)\n"
     ]
    },
    {
     "name": "stderr",
     "output_type": "stream",
     "text": [
      " 64%|██████▍   | 63988/99999 [07:55<04:23, 136.43it/s]"
     ]
    },
    {
     "name": "stdout",
     "output_type": "stream",
     "text": [
      "tensor(6.6291, grad_fn=<VarBackward0>)\n"
     ]
    },
    {
     "name": "stderr",
     "output_type": "stream",
     "text": [
      " 65%|██████▍   | 64990/99999 [08:03<04:08, 140.76it/s]"
     ]
    },
    {
     "name": "stdout",
     "output_type": "stream",
     "text": [
      "tensor(6.4914, grad_fn=<VarBackward0>)\n"
     ]
    },
    {
     "name": "stderr",
     "output_type": "stream",
     "text": [
      " 66%|██████▌   | 65992/99999 [08:11<04:00, 141.27it/s]"
     ]
    },
    {
     "name": "stdout",
     "output_type": "stream",
     "text": [
      "tensor(6.4040, grad_fn=<VarBackward0>)\n"
     ]
    },
    {
     "name": "stderr",
     "output_type": "stream",
     "text": [
      " 67%|██████▋   | 66997/99999 [08:18<03:53, 141.42it/s]"
     ]
    },
    {
     "name": "stdout",
     "output_type": "stream",
     "text": [
      "tensor(6.8960, grad_fn=<VarBackward0>)\n"
     ]
    },
    {
     "name": "stderr",
     "output_type": "stream",
     "text": [
      " 68%|██████▊   | 67994/99999 [08:25<03:44, 142.42it/s]"
     ]
    },
    {
     "name": "stdout",
     "output_type": "stream",
     "text": [
      "tensor(6.6199, grad_fn=<VarBackward0>)\n"
     ]
    },
    {
     "name": "stderr",
     "output_type": "stream",
     "text": [
      " 69%|██████▉   | 68999/99999 [08:33<03:39, 141.00it/s]"
     ]
    },
    {
     "name": "stdout",
     "output_type": "stream",
     "text": [
      "tensor(6.5747, grad_fn=<VarBackward0>)\n"
     ]
    },
    {
     "name": "stderr",
     "output_type": "stream",
     "text": [
      " 70%|██████▉   | 69988/99999 [08:40<03:33, 140.73it/s]"
     ]
    },
    {
     "name": "stdout",
     "output_type": "stream",
     "text": [
      "tensor(6.5106, grad_fn=<VarBackward0>)\n"
     ]
    },
    {
     "name": "stderr",
     "output_type": "stream",
     "text": [
      " 71%|███████   | 70986/99999 [08:48<03:26, 140.37it/s]"
     ]
    },
    {
     "name": "stdout",
     "output_type": "stream",
     "text": [
      "tensor(6.3430, grad_fn=<VarBackward0>)\n"
     ]
    },
    {
     "name": "stderr",
     "output_type": "stream",
     "text": [
      " 72%|███████▏  | 71988/99999 [08:55<03:44, 124.78it/s]"
     ]
    },
    {
     "name": "stdout",
     "output_type": "stream",
     "text": [
      "tensor(6.2872, grad_fn=<VarBackward0>)\n"
     ]
    },
    {
     "name": "stderr",
     "output_type": "stream",
     "text": [
      " 73%|███████▎  | 72999/99999 [09:03<03:14, 138.67it/s]"
     ]
    },
    {
     "name": "stdout",
     "output_type": "stream",
     "text": [
      "tensor(6.6263, grad_fn=<VarBackward0>)\n"
     ]
    },
    {
     "name": "stderr",
     "output_type": "stream",
     "text": [
      " 74%|███████▍  | 73994/99999 [09:11<03:09, 137.20it/s]"
     ]
    },
    {
     "name": "stdout",
     "output_type": "stream",
     "text": [
      "tensor(6.4184, grad_fn=<VarBackward0>)\n"
     ]
    },
    {
     "name": "stderr",
     "output_type": "stream",
     "text": [
      " 75%|███████▍  | 74993/99999 [09:18<02:58, 139.90it/s]"
     ]
    },
    {
     "name": "stdout",
     "output_type": "stream",
     "text": [
      "tensor(6.6380, grad_fn=<VarBackward0>)\n"
     ]
    },
    {
     "name": "stderr",
     "output_type": "stream",
     "text": [
      " 76%|███████▌  | 75990/99999 [09:26<02:52, 139.49it/s]"
     ]
    },
    {
     "name": "stdout",
     "output_type": "stream",
     "text": [
      "tensor(6.5178, grad_fn=<VarBackward0>)\n"
     ]
    },
    {
     "name": "stderr",
     "output_type": "stream",
     "text": [
      " 77%|███████▋  | 76986/99999 [09:33<02:45, 139.13it/s]"
     ]
    },
    {
     "name": "stdout",
     "output_type": "stream",
     "text": [
      "tensor(6.5967, grad_fn=<VarBackward0>)\n"
     ]
    },
    {
     "name": "stderr",
     "output_type": "stream",
     "text": [
      " 78%|███████▊  | 77987/99999 [09:41<02:38, 138.72it/s]"
     ]
    },
    {
     "name": "stdout",
     "output_type": "stream",
     "text": [
      "tensor(6.4286, grad_fn=<VarBackward0>)\n"
     ]
    },
    {
     "name": "stderr",
     "output_type": "stream",
     "text": [
      " 79%|███████▉  | 78996/99999 [09:49<02:27, 141.97it/s]"
     ]
    },
    {
     "name": "stdout",
     "output_type": "stream",
     "text": [
      "tensor(6.7538, grad_fn=<VarBackward0>)\n"
     ]
    },
    {
     "name": "stderr",
     "output_type": "stream",
     "text": [
      " 80%|███████▉  | 79994/99999 [09:56<02:24, 138.08it/s]"
     ]
    },
    {
     "name": "stdout",
     "output_type": "stream",
     "text": [
      "tensor(6.3356, grad_fn=<VarBackward0>)\n"
     ]
    },
    {
     "name": "stderr",
     "output_type": "stream",
     "text": [
      " 81%|████████  | 80995/99999 [10:04<02:14, 141.64it/s]"
     ]
    },
    {
     "name": "stdout",
     "output_type": "stream",
     "text": [
      "tensor(6.6249, grad_fn=<VarBackward0>)\n"
     ]
    },
    {
     "name": "stderr",
     "output_type": "stream",
     "text": [
      " 82%|████████▏ | 81990/99999 [10:11<02:08, 139.94it/s]"
     ]
    },
    {
     "name": "stdout",
     "output_type": "stream",
     "text": [
      "tensor(6.6508, grad_fn=<VarBackward0>)\n"
     ]
    },
    {
     "name": "stderr",
     "output_type": "stream",
     "text": [
      " 83%|████████▎ | 82985/99999 [10:19<02:01, 140.59it/s]"
     ]
    },
    {
     "name": "stdout",
     "output_type": "stream",
     "text": [
      "tensor(6.6978, grad_fn=<VarBackward0>)\n"
     ]
    },
    {
     "name": "stderr",
     "output_type": "stream",
     "text": [
      " 84%|████████▍ | 83991/99999 [10:26<01:53, 140.93it/s]"
     ]
    },
    {
     "name": "stdout",
     "output_type": "stream",
     "text": [
      "tensor(6.9331, grad_fn=<VarBackward0>)\n"
     ]
    },
    {
     "name": "stderr",
     "output_type": "stream",
     "text": [
      " 85%|████████▍ | 84996/99999 [10:35<01:52, 133.80it/s]"
     ]
    },
    {
     "name": "stdout",
     "output_type": "stream",
     "text": [
      "tensor(6.5933, grad_fn=<VarBackward0>)\n"
     ]
    },
    {
     "name": "stderr",
     "output_type": "stream",
     "text": [
      " 86%|████████▌ | 85998/99999 [10:42<01:39, 140.13it/s]"
     ]
    },
    {
     "name": "stdout",
     "output_type": "stream",
     "text": [
      "tensor(6.7219, grad_fn=<VarBackward0>)\n"
     ]
    },
    {
     "name": "stderr",
     "output_type": "stream",
     "text": [
      " 87%|████████▋ | 86995/99999 [10:50<01:46, 121.84it/s]"
     ]
    },
    {
     "name": "stdout",
     "output_type": "stream",
     "text": [
      "tensor(6.5277, grad_fn=<VarBackward0>)\n"
     ]
    },
    {
     "name": "stderr",
     "output_type": "stream",
     "text": [
      " 88%|████████▊ | 87995/99999 [10:58<01:26, 139.00it/s]"
     ]
    },
    {
     "name": "stdout",
     "output_type": "stream",
     "text": [
      "tensor(6.7503, grad_fn=<VarBackward0>)\n"
     ]
    },
    {
     "name": "stderr",
     "output_type": "stream",
     "text": [
      " 89%|████████▉ | 88992/99999 [11:06<01:21, 134.40it/s]"
     ]
    },
    {
     "name": "stdout",
     "output_type": "stream",
     "text": [
      "tensor(6.4487, grad_fn=<VarBackward0>)\n"
     ]
    },
    {
     "name": "stderr",
     "output_type": "stream",
     "text": [
      " 90%|████████▉ | 89992/99999 [11:13<01:10, 141.13it/s]"
     ]
    },
    {
     "name": "stdout",
     "output_type": "stream",
     "text": [
      "tensor(6.7182, grad_fn=<VarBackward0>)\n"
     ]
    },
    {
     "name": "stderr",
     "output_type": "stream",
     "text": [
      " 91%|█████████ | 90988/99999 [11:21<01:13, 122.68it/s]"
     ]
    },
    {
     "name": "stdout",
     "output_type": "stream",
     "text": [
      "tensor(6.6546, grad_fn=<VarBackward0>)\n"
     ]
    },
    {
     "name": "stderr",
     "output_type": "stream",
     "text": [
      " 92%|█████████▏| 91991/99999 [11:29<00:56, 141.75it/s]"
     ]
    },
    {
     "name": "stdout",
     "output_type": "stream",
     "text": [
      "tensor(6.7382, grad_fn=<VarBackward0>)\n"
     ]
    },
    {
     "name": "stderr",
     "output_type": "stream",
     "text": [
      " 93%|█████████▎| 92998/99999 [11:36<00:50, 139.33it/s]"
     ]
    },
    {
     "name": "stdout",
     "output_type": "stream",
     "text": [
      "tensor(6.0565, grad_fn=<VarBackward0>)\n"
     ]
    },
    {
     "name": "stderr",
     "output_type": "stream",
     "text": [
      " 94%|█████████▍| 93990/99999 [11:44<00:42, 140.93it/s]"
     ]
    },
    {
     "name": "stdout",
     "output_type": "stream",
     "text": [
      "tensor(6.5107, grad_fn=<VarBackward0>)\n"
     ]
    },
    {
     "name": "stderr",
     "output_type": "stream",
     "text": [
      " 95%|█████████▍| 94995/99999 [11:51<00:35, 141.57it/s]"
     ]
    },
    {
     "name": "stdout",
     "output_type": "stream",
     "text": [
      "tensor(6.3869, grad_fn=<VarBackward0>)\n"
     ]
    },
    {
     "name": "stderr",
     "output_type": "stream",
     "text": [
      " 96%|█████████▌| 95994/99999 [11:59<00:28, 141.29it/s]"
     ]
    },
    {
     "name": "stdout",
     "output_type": "stream",
     "text": [
      "tensor(6.7351, grad_fn=<VarBackward0>)\n"
     ]
    },
    {
     "name": "stderr",
     "output_type": "stream",
     "text": [
      " 97%|█████████▋| 96985/99999 [12:07<00:21, 139.45it/s]"
     ]
    },
    {
     "name": "stdout",
     "output_type": "stream",
     "text": [
      "tensor(6.7365, grad_fn=<VarBackward0>)\n"
     ]
    },
    {
     "name": "stderr",
     "output_type": "stream",
     "text": [
      " 98%|█████████▊| 97993/99999 [12:15<00:14, 135.75it/s]"
     ]
    },
    {
     "name": "stdout",
     "output_type": "stream",
     "text": [
      "tensor(6.6967, grad_fn=<VarBackward0>)\n"
     ]
    },
    {
     "name": "stderr",
     "output_type": "stream",
     "text": [
      " 99%|█████████▉| 98996/99999 [12:23<00:07, 138.67it/s]"
     ]
    },
    {
     "name": "stdout",
     "output_type": "stream",
     "text": [
      "tensor(6.5758, grad_fn=<VarBackward0>)\n"
     ]
    },
    {
     "name": "stderr",
     "output_type": "stream",
     "text": [
      "100%|██████████| 99999/99999 [12:30<00:00, 133.21it/s]\n"
     ]
    },
    {
     "data": {
      "image/png": "[encoded data removed]",
      "text/plain": [
       "<Figure size 432x288 with 1 Axes>"
      ]
     },
     "metadata": {
      "needs_background": "light"
     },
     "output_type": "display_data"
    }
   ],
   "source": [
    "# Correct\n",
    "# model pxy directly\n",
    "M, Mbar, history = run_expr4(n_batch=500, iters=100000)"
   ]
  },
  {
   "cell_type": "code",
   "execution_count": 116,
   "id": "assigned-friendship",
   "metadata": {},
   "outputs": [],
   "source": [
    "Mbar_joint = torch.from_numpy(np.load(f'birthwt_training_results/Mbar_joint_{50}_{99999}.npy'))\n",
    "M_joint = torch.from_numpy(np.load(f'birthwt_training_results/M_joint_{50}_{99999}.npy'))"
   ]
  },
  {
   "cell_type": "code",
   "execution_count": 117,
   "id": "split-clearance",
   "metadata": {},
   "outputs": [
    {
     "data": {
      "text/plain": [
       "<matplotlib.image.AxesImage at 0x7f83d216e700>"
      ]
     },
     "execution_count": 117,
     "metadata": {},
     "output_type": "execute_result"
    },
    {
     "data": {
      "image/png": "[encoded data removed]",
      "text/plain": [
       "<Figure size 432x288 with 1 Axes>"
      ]
     },
     "metadata": {
      "needs_background": "light"
     },
     "output_type": "display_data"
    }
   ],
   "source": [
    "plt.imshow(torch.exp(Mbar_joint), extent=[7,45,36,14])"
   ]
  },
  {
   "cell_type": "code",
   "execution_count": 118,
   "id": "minimal-engineer",
   "metadata": {
    "scrolled": true
   },
   "outputs": [
    {
     "data": {
      "text/plain": [
       "<matplotlib.image.AxesImage at 0x7f83d20ce490>"
      ]
     },
     "execution_count": 118,
     "metadata": {},
     "output_type": "execute_result"
    },
    {
     "data": {
      "image/png": "[encoded data removed]",
      "text/plain": [
       "<Figure size 432x288 with 1 Axes>"
      ]
     },
     "metadata": {
      "needs_background": "light"
     },
     "output_type": "display_data"
    }
   ],
   "source": [
    "plt.imshow(torch.exp(M_joint), extent=[7,45,36,14])"
   ]
  },
  {
   "cell_type": "code",
   "execution_count": 145,
   "id": "hybrid-involvement",
   "metadata": {},
   "outputs": [
    {
     "data": {
      "text/plain": [
       "tensor(5.6581e-07, dtype=torch.float64)"
      ]
     },
     "execution_count": 145,
     "metadata": {},
     "output_type": "execute_result"
    }
   ],
   "source": [
    "# Compare Fbar=exp(Mbar) with xy\n",
    "F_joint = torch.exp(Mbar_joint)\n",
    "F_joint_normalized = F_joint/torch.sum(F_joint)\n",
    "log_F_joint_normalized = torch.log(F_joint_normalized)\n",
    "\n",
    "F.kl_div(log_F_joint_normalized, torch.from_numpy(xy))"
   ]
  },
  {
   "cell_type": "code",
   "execution_count": 15,
   "id": "tutorial-disney",
   "metadata": {
    "scrolled": true
   },
   "outputs": [
    {
     "data": {
      "text/plain": [
       "[<matplotlib.lines.Line2D at 0x7f9d1fd33370>]"
      ]
     },
     "execution_count": 15,
     "metadata": {},
     "output_type": "execute_result"
    },
    {
     "data": {
      "image/png": "[encoded data removed]",
      "text/plain": [
       "<Figure size 432x288 with 1 Axes>"
      ]
     },
     "metadata": {
      "needs_background": "light"
     },
     "output_type": "display_data"
    }
   ],
   "source": [
    "plt.plot(history['loss'])"
   ]
  },
  {
   "cell_type": "code",
   "execution_count": 218,
   "id": "average-filter",
   "metadata": {},
   "outputs": [
    {
     "name": "stdout",
     "output_type": "stream",
     "text": [
      "tensor(-0.0009, dtype=torch.float64)\n"
     ]
    }
   ],
   "source": [
    "# use F as k*p(x,y)/pxpy to recover xy\n",
    "recover_xy(F_joint, xy, xyind)"
   ]
  },
  {
   "cell_type": "code",
   "execution_count": 16,
   "id": "opposed-float",
   "metadata": {},
   "outputs": [],
   "source": [
    "def run_expr5(n_batch, iters):\n",
    "    '''\n",
    "    model x|y and y|x\n",
    "    '''\n",
    "    torch.manual_seed(42)\n",
    "    \n",
    "    M = torch.randn(xy.shape, requires_grad = True)\n",
    "    print(M[0, :5])\n",
    "    \n",
    "    optimizer = torch.optim.SGD([M],1, 0.99)\n",
    "    Mbar = M.data\n",
    "    \n",
    "    history = {'loss':[]}\n",
    "\n",
    "    for iteration in tqdm(range(1,iters)):\n",
    "\n",
    "        samples = [np.random.choice(range(xy.reshape(-1).shape[0]), p=xy.reshape(-1)) for i in range(n_batch)]\n",
    "        samples = np.array([(xi//x.shape[0], xi%x.shape[0]) for xi in samples])\n",
    "#         import pdb; pdb.set_trace()\n",
    "        \n",
    "        optimizer.zero_grad()\n",
    "\n",
    "        F = torch.exp(M)\n",
    "\n",
    "        loss = 0\n",
    "        for i in range(n_batch):\n",
    "            lossi_x = F[samples[i,0],samples[i,1]]/torch.sum(F[samples[i,0], range(xy.shape[1])])\n",
    "            lossi_y = F[samples[i,0],samples[i,1]]/torch.sum(F[range(xy.shape[0]), samples[i,1]])\n",
    "\n",
    "            loss = loss + ((torch.log(lossi_x) + torch.log(lossi_y)) * 0.5)\n",
    "            \n",
    "        loss = -1*loss/n_batch\n",
    "        loss.backward()\n",
    "        optimizer.step()\n",
    "        history['loss'].append(loss.item())\n",
    "        Mbar = (1-1/iteration)*Mbar + (1/iteration)*M.data\n",
    "\n",
    "        if iteration % 1000 == 0:\n",
    "            print(torch.var(M))\n",
    "            plt.imshow(Mbar.detach().cpu().numpy(), extent=[7,45,36,14])\n",
    "            plt.savefig(f\"birthwt_training_results/Mbar_pseudo_{n_batch}_{iteration}.png\")\n",
    "\n",
    "    np.save(f'birthwt_training_results/Mbar_pseudo_{n_batch}_{iteration}.npy', Mbar.detach().cpu().numpy())\n",
    "    np.save(f'birthwt_training_results/M_pseudo_{n_batch}_{iteration}.npy', M.detach().cpu().numpy())\n",
    "    np.save(f'birthwt_training_results/training_loss_pseudo_{n_batch}_{iteration}.npy', np.array(history['loss']))\n",
    "    return M, Mbar, history"
   ]
  },
  {
   "cell_type": "code",
   "execution_count": 17,
   "id": "widespread-nickname",
   "metadata": {
    "scrolled": true
   },
   "outputs": [
    {
     "name": "stderr",
     "output_type": "stream",
     "text": [
      "  0%|          | 9/99999 [00:00<19:30, 85.46it/s]"
     ]
    },
    {
     "name": "stdout",
     "output_type": "stream",
     "text": [
      "tensor([ 1.9269,  1.4873,  0.9007, -2.1055,  0.6784], grad_fn=<SliceBackward>)\n"
     ]
    },
    {
     "name": "stderr",
     "output_type": "stream",
     "text": [
      "  1%|          | 1007/99999 [00:11<22:33, 73.15it/s]"
     ]
    },
    {
     "name": "stdout",
     "output_type": "stream",
     "text": [
      "tensor(18.6822, grad_fn=<VarBackward0>)\n"
     ]
    },
    {
     "name": "stderr",
     "output_type": "stream",
     "text": [
      "  2%|▏         | 2012/99999 [00:23<21:06, 77.35it/s]"
     ]
    },
    {
     "name": "stdout",
     "output_type": "stream",
     "text": [
      "tensor(10.5794, grad_fn=<VarBackward0>)\n"
     ]
    },
    {
     "name": "stderr",
     "output_type": "stream",
     "text": [
      "  3%|▎         | 3007/99999 [00:34<20:37, 78.37it/s]"
     ]
    },
    {
     "name": "stdout",
     "output_type": "stream",
     "text": [
      "tensor(9.0223, grad_fn=<VarBackward0>)\n"
     ]
    },
    {
     "name": "stderr",
     "output_type": "stream",
     "text": [
      "  4%|▍         | 4011/99999 [00:46<19:40, 81.31it/s]"
     ]
    },
    {
     "name": "stdout",
     "output_type": "stream",
     "text": [
      "tensor(8.5312, grad_fn=<VarBackward0>)\n"
     ]
    },
    {
     "name": "stderr",
     "output_type": "stream",
     "text": [
      "  5%|▌         | 5011/99999 [00:57<19:47, 79.98it/s]"
     ]
    },
    {
     "name": "stdout",
     "output_type": "stream",
     "text": [
      "tensor(7.8541, grad_fn=<VarBackward0>)\n"
     ]
    },
    {
     "name": "stderr",
     "output_type": "stream",
     "text": [
      "  6%|▌         | 6010/99999 [01:09<19:27, 80.53it/s]"
     ]
    },
    {
     "name": "stdout",
     "output_type": "stream",
     "text": [
      "tensor(7.8356, grad_fn=<VarBackward0>)\n"
     ]
    },
    {
     "name": "stderr",
     "output_type": "stream",
     "text": [
      "  7%|▋         | 7011/99999 [01:20<19:29, 79.48it/s]"
     ]
    },
    {
     "name": "stdout",
     "output_type": "stream",
     "text": [
      "tensor(7.4426, grad_fn=<VarBackward0>)\n"
     ]
    },
    {
     "name": "stderr",
     "output_type": "stream",
     "text": [
      "  8%|▊         | 8005/99999 [01:31<19:52, 77.17it/s]"
     ]
    },
    {
     "name": "stdout",
     "output_type": "stream",
     "text": [
      "tensor(7.1648, grad_fn=<VarBackward0>)\n"
     ]
    },
    {
     "name": "stderr",
     "output_type": "stream",
     "text": [
      "  9%|▉         | 9003/99999 [01:42<20:37, 73.51it/s]"
     ]
    },
    {
     "name": "stdout",
     "output_type": "stream",
     "text": [
      "tensor(7.0557, grad_fn=<VarBackward0>)\n"
     ]
    },
    {
     "name": "stderr",
     "output_type": "stream",
     "text": [
      " 10%|█         | 10006/99999 [01:54<20:20, 73.71it/s]"
     ]
    },
    {
     "name": "stdout",
     "output_type": "stream",
     "text": [
      "tensor(7.0983, grad_fn=<VarBackward0>)\n"
     ]
    },
    {
     "name": "stderr",
     "output_type": "stream",
     "text": [
      " 11%|█         | 11005/99999 [02:05<20:39, 71.79it/s]"
     ]
    },
    {
     "name": "stdout",
     "output_type": "stream",
     "text": [
      "tensor(7.3845, grad_fn=<VarBackward0>)\n"
     ]
    },
    {
     "name": "stderr",
     "output_type": "stream",
     "text": [
      " 12%|█▏        | 12003/99999 [02:17<19:43, 74.36it/s]"
     ]
    },
    {
     "name": "stdout",
     "output_type": "stream",
     "text": [
      "tensor(7.1127, grad_fn=<VarBackward0>)\n"
     ]
    },
    {
     "name": "stderr",
     "output_type": "stream",
     "text": [
      " 13%|█▎        | 13003/99999 [02:28<20:40, 70.16it/s]"
     ]
    },
    {
     "name": "stdout",
     "output_type": "stream",
     "text": [
      "tensor(7.1271, grad_fn=<VarBackward0>)\n"
     ]
    },
    {
     "name": "stderr",
     "output_type": "stream",
     "text": [
      " 14%|█▍        | 14010/99999 [02:39<19:02, 75.28it/s]"
     ]
    },
    {
     "name": "stdout",
     "output_type": "stream",
     "text": [
      "tensor(7.3802, grad_fn=<VarBackward0>)\n"
     ]
    },
    {
     "name": "stderr",
     "output_type": "stream",
     "text": [
      " 15%|█▌        | 15006/99999 [02:51<19:37, 72.17it/s]"
     ]
    },
    {
     "name": "stdout",
     "output_type": "stream",
     "text": [
      "tensor(7.3660, grad_fn=<VarBackward0>)\n"
     ]
    },
    {
     "name": "stderr",
     "output_type": "stream",
     "text": [
      " 16%|█▌        | 16003/99999 [03:02<21:24, 65.38it/s]"
     ]
    },
    {
     "name": "stdout",
     "output_type": "stream",
     "text": [
      "tensor(7.3316, grad_fn=<VarBackward0>)\n"
     ]
    },
    {
     "name": "stderr",
     "output_type": "stream",
     "text": [
      " 17%|█▋        | 17007/99999 [03:14<20:29, 67.47it/s]"
     ]
    },
    {
     "name": "stdout",
     "output_type": "stream",
     "text": [
      "tensor(7.7073, grad_fn=<VarBackward0>)\n"
     ]
    },
    {
     "name": "stderr",
     "output_type": "stream",
     "text": [
      " 18%|█▊        | 18001/99999 [03:25<19:26, 70.29it/s]"
     ]
    },
    {
     "name": "stdout",
     "output_type": "stream",
     "text": [
      "tensor(7.1743, grad_fn=<VarBackward0>)\n"
     ]
    },
    {
     "name": "stderr",
     "output_type": "stream",
     "text": [
      " 19%|█▉        | 19001/99999 [03:37<19:25, 69.47it/s]"
     ]
    },
    {
     "name": "stdout",
     "output_type": "stream",
     "text": [
      "tensor(7.4024, grad_fn=<VarBackward0>)\n"
     ]
    },
    {
     "name": "stderr",
     "output_type": "stream",
     "text": [
      " 20%|██        | 20004/99999 [03:48<20:11, 66.02it/s]"
     ]
    },
    {
     "name": "stdout",
     "output_type": "stream",
     "text": [
      "tensor(7.2845, grad_fn=<VarBackward0>)\n"
     ]
    },
    {
     "name": "stderr",
     "output_type": "stream",
     "text": [
      " 21%|██        | 21000/99999 [03:59<20:12, 65.13it/s]"
     ]
    },
    {
     "name": "stdout",
     "output_type": "stream",
     "text": [
      "tensor(7.2500, grad_fn=<VarBackward0>)\n"
     ]
    },
    {
     "name": "stderr",
     "output_type": "stream",
     "text": [
      " 22%|██▏       | 22000/99999 [04:10<20:06, 64.66it/s]"
     ]
    },
    {
     "name": "stdout",
     "output_type": "stream",
     "text": [
      "tensor(7.5299, grad_fn=<VarBackward0>)\n"
     ]
    },
    {
     "name": "stderr",
     "output_type": "stream",
     "text": [
      " 23%|██▎       | 23001/99999 [04:22<19:50, 64.69it/s]"
     ]
    },
    {
     "name": "stdout",
     "output_type": "stream",
     "text": [
      "tensor(7.5000, grad_fn=<VarBackward0>)\n"
     ]
    },
    {
     "name": "stderr",
     "output_type": "stream",
     "text": [
      " 24%|██▍       | 24003/99999 [04:34<19:59, 63.37it/s]"
     ]
    },
    {
     "name": "stdout",
     "output_type": "stream",
     "text": [
      "tensor(7.2527, grad_fn=<VarBackward0>)\n"
     ]
    },
    {
     "name": "stderr",
     "output_type": "stream",
     "text": [
      " 25%|██▌       | 25002/99999 [04:45<19:55, 62.72it/s]"
     ]
    },
    {
     "name": "stdout",
     "output_type": "stream",
     "text": [
      "tensor(7.3816, grad_fn=<VarBackward0>)\n"
     ]
    },
    {
     "name": "stderr",
     "output_type": "stream",
     "text": [
      " 26%|██▌       | 25999/99999 [04:56<13:45, 89.66it/s]"
     ]
    },
    {
     "name": "stdout",
     "output_type": "stream",
     "text": [
      "tensor(7.3428, grad_fn=<VarBackward0>)\n"
     ]
    },
    {
     "name": "stderr",
     "output_type": "stream",
     "text": [
      " 27%|██▋       | 26998/99999 [05:08<13:52, 87.73it/s]"
     ]
    },
    {
     "name": "stdout",
     "output_type": "stream",
     "text": [
      "tensor(6.9256, grad_fn=<VarBackward0>)\n"
     ]
    },
    {
     "name": "stderr",
     "output_type": "stream",
     "text": [
      " 28%|██▊       | 27996/99999 [05:19<13:30, 88.81it/s]"
     ]
    },
    {
     "name": "stdout",
     "output_type": "stream",
     "text": [
      "tensor(6.9133, grad_fn=<VarBackward0>)\n"
     ]
    },
    {
     "name": "stderr",
     "output_type": "stream",
     "text": [
      " 29%|██▉       | 28998/99999 [05:31<14:22, 82.30it/s]"
     ]
    },
    {
     "name": "stdout",
     "output_type": "stream",
     "text": [
      "tensor(7.4783, grad_fn=<VarBackward0>)\n"
     ]
    },
    {
     "name": "stderr",
     "output_type": "stream",
     "text": [
      " 30%|██▉       | 29997/99999 [05:43<13:15, 88.05it/s]"
     ]
    },
    {
     "name": "stdout",
     "output_type": "stream",
     "text": [
      "tensor(7.0045, grad_fn=<VarBackward0>)\n"
     ]
    },
    {
     "name": "stderr",
     "output_type": "stream",
     "text": [
      " 31%|███       | 30998/99999 [05:54<12:50, 89.58it/s]"
     ]
    },
    {
     "name": "stdout",
     "output_type": "stream",
     "text": [
      "tensor(7.4077, grad_fn=<VarBackward0>)\n"
     ]
    },
    {
     "name": "stderr",
     "output_type": "stream",
     "text": [
      " 32%|███▏      | 31997/99999 [06:05<12:32, 90.35it/s]"
     ]
    },
    {
     "name": "stdout",
     "output_type": "stream",
     "text": [
      "tensor(7.3612, grad_fn=<VarBackward0>)\n"
     ]
    },
    {
     "name": "stderr",
     "output_type": "stream",
     "text": [
      " 33%|███▎      | 32996/99999 [06:16<12:29, 89.44it/s]"
     ]
    },
    {
     "name": "stdout",
     "output_type": "stream",
     "text": [
      "tensor(7.4851, grad_fn=<VarBackward0>)\n"
     ]
    },
    {
     "name": "stderr",
     "output_type": "stream",
     "text": [
      " 34%|███▍      | 33996/99999 [06:28<12:16, 89.64it/s]"
     ]
    },
    {
     "name": "stdout",
     "output_type": "stream",
     "text": [
      "tensor(7.4396, grad_fn=<VarBackward0>)\n"
     ]
    },
    {
     "name": "stderr",
     "output_type": "stream",
     "text": [
      " 35%|███▌      | 35000/99999 [06:39<18:52, 57.39it/s]"
     ]
    },
    {
     "name": "stdout",
     "output_type": "stream",
     "text": [
      "tensor(7.0770, grad_fn=<VarBackward0>)\n"
     ]
    },
    {
     "name": "stderr",
     "output_type": "stream",
     "text": [
      " 36%|███▌      | 36001/99999 [06:51<18:25, 57.87it/s]"
     ]
    },
    {
     "name": "stdout",
     "output_type": "stream",
     "text": [
      "tensor(7.4761, grad_fn=<VarBackward0>)\n"
     ]
    },
    {
     "name": "stderr",
     "output_type": "stream",
     "text": [
      " 37%|███▋      | 36998/99999 [07:02<11:37, 90.29it/s]"
     ]
    },
    {
     "name": "stdout",
     "output_type": "stream",
     "text": [
      "tensor(7.0620, grad_fn=<VarBackward0>)\n"
     ]
    },
    {
     "name": "stderr",
     "output_type": "stream",
     "text": [
      " 38%|███▊      | 37996/99999 [07:14<11:25, 90.42it/s]"
     ]
    },
    {
     "name": "stdout",
     "output_type": "stream",
     "text": [
      "tensor(7.3572, grad_fn=<VarBackward0>)\n"
     ]
    },
    {
     "name": "stderr",
     "output_type": "stream",
     "text": [
      " 39%|███▉      | 39000/99999 [07:25<17:09, 59.26it/s]"
     ]
    },
    {
     "name": "stdout",
     "output_type": "stream",
     "text": [
      "tensor(6.8844, grad_fn=<VarBackward0>)\n"
     ]
    },
    {
     "name": "stderr",
     "output_type": "stream",
     "text": [
      " 40%|███▉      | 39997/99999 [07:36<11:02, 90.63it/s]"
     ]
    },
    {
     "name": "stdout",
     "output_type": "stream",
     "text": [
      "tensor(7.6572, grad_fn=<VarBackward0>)\n"
     ]
    },
    {
     "name": "stderr",
     "output_type": "stream",
     "text": [
      " 41%|████      | 40995/99999 [07:48<10:57, 89.69it/s]"
     ]
    },
    {
     "name": "stdout",
     "output_type": "stream",
     "text": [
      "tensor(7.2459, grad_fn=<VarBackward0>)\n"
     ]
    },
    {
     "name": "stderr",
     "output_type": "stream",
     "text": [
      " 42%|████▏     | 41991/99999 [07:59<10:48, 89.38it/s]"
     ]
    },
    {
     "name": "stdout",
     "output_type": "stream",
     "text": [
      "tensor(7.5333, grad_fn=<VarBackward0>)\n"
     ]
    },
    {
     "name": "stderr",
     "output_type": "stream",
     "text": [
      " 43%|████▎     | 42995/99999 [08:11<10:31, 90.23it/s]"
     ]
    },
    {
     "name": "stdout",
     "output_type": "stream",
     "text": [
      "tensor(7.1546, grad_fn=<VarBackward0>)\n"
     ]
    },
    {
     "name": "stderr",
     "output_type": "stream",
     "text": [
      " 44%|████▍     | 43991/99999 [08:22<10:27, 89.32it/s]"
     ]
    },
    {
     "name": "stdout",
     "output_type": "stream",
     "text": [
      "tensor(7.3608, grad_fn=<VarBackward0>)\n"
     ]
    },
    {
     "name": "stderr",
     "output_type": "stream",
     "text": [
      " 45%|████▍     | 44998/99999 [08:34<10:20, 88.70it/s]"
     ]
    },
    {
     "name": "stdout",
     "output_type": "stream",
     "text": [
      "tensor(7.1800, grad_fn=<VarBackward0>)\n"
     ]
    },
    {
     "name": "stderr",
     "output_type": "stream",
     "text": [
      " 46%|████▌     | 45990/99999 [08:45<09:56, 90.49it/s]"
     ]
    },
    {
     "name": "stdout",
     "output_type": "stream",
     "text": [
      "tensor(7.2662, grad_fn=<VarBackward0>)\n"
     ]
    },
    {
     "name": "stderr",
     "output_type": "stream",
     "text": [
      " 47%|████▋     | 46996/99999 [08:56<09:44, 90.67it/s]"
     ]
    },
    {
     "name": "stdout",
     "output_type": "stream",
     "text": [
      "tensor(7.2519, grad_fn=<VarBackward0>)\n"
     ]
    },
    {
     "name": "stderr",
     "output_type": "stream",
     "text": [
      " 48%|████▊     | 47994/99999 [09:08<10:33, 82.05it/s]"
     ]
    },
    {
     "name": "stdout",
     "output_type": "stream",
     "text": [
      "tensor(7.2019, grad_fn=<VarBackward0>)\n"
     ]
    },
    {
     "name": "stderr",
     "output_type": "stream",
     "text": [
      " 49%|████▉     | 48993/99999 [09:19<09:24, 90.36it/s]"
     ]
    },
    {
     "name": "stdout",
     "output_type": "stream",
     "text": [
      "tensor(7.4122, grad_fn=<VarBackward0>)\n"
     ]
    },
    {
     "name": "stderr",
     "output_type": "stream",
     "text": [
      " 50%|████▉     | 49993/99999 [09:31<09:15, 90.07it/s]"
     ]
    },
    {
     "name": "stdout",
     "output_type": "stream",
     "text": [
      "tensor(7.1905, grad_fn=<VarBackward0>)\n"
     ]
    },
    {
     "name": "stderr",
     "output_type": "stream",
     "text": [
      " 51%|█████     | 50990/99999 [09:42<09:12, 88.66it/s]"
     ]
    },
    {
     "name": "stdout",
     "output_type": "stream",
     "text": [
      "tensor(7.1690, grad_fn=<VarBackward0>)\n"
     ]
    },
    {
     "name": "stderr",
     "output_type": "stream",
     "text": [
      " 52%|█████▏    | 51999/99999 [09:54<09:01, 88.59it/s]"
     ]
    },
    {
     "name": "stdout",
     "output_type": "stream",
     "text": [
      "tensor(7.0801, grad_fn=<VarBackward0>)\n"
     ]
    },
    {
     "name": "stderr",
     "output_type": "stream",
     "text": [
      " 53%|█████▎    | 52993/99999 [10:05<08:42, 89.99it/s]"
     ]
    },
    {
     "name": "stdout",
     "output_type": "stream",
     "text": [
      "tensor(7.1237, grad_fn=<VarBackward0>)\n"
     ]
    },
    {
     "name": "stderr",
     "output_type": "stream",
     "text": [
      " 54%|█████▍    | 53993/99999 [10:16<08:38, 88.65it/s]"
     ]
    },
    {
     "name": "stdout",
     "output_type": "stream",
     "text": [
      "tensor(6.9946, grad_fn=<VarBackward0>)\n"
     ]
    },
    {
     "name": "stderr",
     "output_type": "stream",
     "text": [
      " 55%|█████▍    | 54991/99999 [10:28<08:24, 89.20it/s]"
     ]
    },
    {
     "name": "stdout",
     "output_type": "stream",
     "text": [
      "tensor(7.1938, grad_fn=<VarBackward0>)\n"
     ]
    },
    {
     "name": "stderr",
     "output_type": "stream",
     "text": [
      " 56%|█████▌    | 55991/99999 [10:39<08:13, 89.24it/s]"
     ]
    },
    {
     "name": "stdout",
     "output_type": "stream",
     "text": [
      "tensor(7.3820, grad_fn=<VarBackward0>)\n"
     ]
    },
    {
     "name": "stderr",
     "output_type": "stream",
     "text": [
      " 57%|█████▋    | 56999/99999 [10:51<08:03, 89.01it/s]"
     ]
    },
    {
     "name": "stdout",
     "output_type": "stream",
     "text": [
      "tensor(7.1778, grad_fn=<VarBackward0>)\n"
     ]
    },
    {
     "name": "stderr",
     "output_type": "stream",
     "text": [
      " 58%|█████▊    | 57997/99999 [11:02<07:52, 88.92it/s]"
     ]
    },
    {
     "name": "stdout",
     "output_type": "stream",
     "text": [
      "tensor(7.0839, grad_fn=<VarBackward0>)\n"
     ]
    },
    {
     "name": "stderr",
     "output_type": "stream",
     "text": [
      " 59%|█████▉    | 58990/99999 [11:14<07:34, 90.18it/s]"
     ]
    },
    {
     "name": "stdout",
     "output_type": "stream",
     "text": [
      "tensor(7.2700, grad_fn=<VarBackward0>)\n"
     ]
    },
    {
     "name": "stderr",
     "output_type": "stream",
     "text": [
      " 60%|█████▉    | 59998/99999 [11:25<07:23, 90.13it/s]"
     ]
    },
    {
     "name": "stdout",
     "output_type": "stream",
     "text": [
      "tensor(7.1273, grad_fn=<VarBackward0>)\n"
     ]
    },
    {
     "name": "stderr",
     "output_type": "stream",
     "text": [
      " 61%|██████    | 60993/99999 [11:37<07:14, 89.84it/s]"
     ]
    },
    {
     "name": "stdout",
     "output_type": "stream",
     "text": [
      "tensor(7.4909, grad_fn=<VarBackward0>)\n"
     ]
    },
    {
     "name": "stderr",
     "output_type": "stream",
     "text": [
      " 62%|██████▏   | 61993/99999 [11:48<07:03, 89.69it/s]"
     ]
    },
    {
     "name": "stdout",
     "output_type": "stream",
     "text": [
      "tensor(6.9904, grad_fn=<VarBackward0>)\n"
     ]
    },
    {
     "name": "stderr",
     "output_type": "stream",
     "text": [
      " 63%|██████▎   | 62998/99999 [12:00<06:51, 89.87it/s]"
     ]
    },
    {
     "name": "stdout",
     "output_type": "stream",
     "text": [
      "tensor(7.2947, grad_fn=<VarBackward0>)\n"
     ]
    },
    {
     "name": "stderr",
     "output_type": "stream",
     "text": [
      " 64%|██████▍   | 63999/99999 [12:11<06:37, 90.51it/s]"
     ]
    },
    {
     "name": "stdout",
     "output_type": "stream",
     "text": [
      "tensor(6.9627, grad_fn=<VarBackward0>)\n"
     ]
    },
    {
     "name": "stderr",
     "output_type": "stream",
     "text": [
      " 65%|██████▍   | 64990/99999 [12:23<06:27, 90.44it/s]"
     ]
    },
    {
     "name": "stdout",
     "output_type": "stream",
     "text": [
      "tensor(7.3791, grad_fn=<VarBackward0>)\n"
     ]
    },
    {
     "name": "stderr",
     "output_type": "stream",
     "text": [
      " 66%|██████▌   | 65995/99999 [12:34<06:24, 88.50it/s]"
     ]
    },
    {
     "name": "stdout",
     "output_type": "stream",
     "text": [
      "tensor(7.2809, grad_fn=<VarBackward0>)\n"
     ]
    },
    {
     "name": "stderr",
     "output_type": "stream",
     "text": [
      " 67%|██████▋   | 66999/99999 [12:45<06:15, 87.77it/s]"
     ]
    },
    {
     "name": "stdout",
     "output_type": "stream",
     "text": [
      "tensor(7.6397, grad_fn=<VarBackward0>)\n"
     ]
    },
    {
     "name": "stderr",
     "output_type": "stream",
     "text": [
      " 68%|██████▊   | 67992/99999 [12:57<05:52, 90.78it/s]"
     ]
    },
    {
     "name": "stdout",
     "output_type": "stream",
     "text": [
      "tensor(7.4079, grad_fn=<VarBackward0>)\n"
     ]
    },
    {
     "name": "stderr",
     "output_type": "stream",
     "text": [
      " 69%|██████▉   | 68990/99999 [13:08<05:40, 91.10it/s]"
     ]
    },
    {
     "name": "stdout",
     "output_type": "stream",
     "text": [
      "tensor(7.6861, grad_fn=<VarBackward0>)\n"
     ]
    },
    {
     "name": "stderr",
     "output_type": "stream",
     "text": [
      " 70%|██████▉   | 69990/99999 [13:20<05:33, 90.06it/s]"
     ]
    },
    {
     "name": "stdout",
     "output_type": "stream",
     "text": [
      "tensor(7.3873, grad_fn=<VarBackward0>)\n"
     ]
    },
    {
     "name": "stderr",
     "output_type": "stream",
     "text": [
      " 71%|███████   | 70993/99999 [13:31<05:33, 87.09it/s]"
     ]
    },
    {
     "name": "stdout",
     "output_type": "stream",
     "text": [
      "tensor(7.2343, grad_fn=<VarBackward0>)\n"
     ]
    },
    {
     "name": "stderr",
     "output_type": "stream",
     "text": [
      " 72%|███████▏  | 71994/99999 [13:43<05:18, 87.98it/s]"
     ]
    },
    {
     "name": "stdout",
     "output_type": "stream",
     "text": [
      "tensor(7.4164, grad_fn=<VarBackward0>)\n"
     ]
    },
    {
     "name": "stderr",
     "output_type": "stream",
     "text": [
      " 73%|███████▎  | 72994/99999 [13:54<04:59, 90.15it/s]"
     ]
    },
    {
     "name": "stdout",
     "output_type": "stream",
     "text": [
      "tensor(7.2195, grad_fn=<VarBackward0>)\n"
     ]
    },
    {
     "name": "stderr",
     "output_type": "stream",
     "text": [
      " 74%|███████▍  | 73994/99999 [14:06<04:55, 87.99it/s]"
     ]
    },
    {
     "name": "stdout",
     "output_type": "stream",
     "text": [
      "tensor(7.2948, grad_fn=<VarBackward0>)\n"
     ]
    },
    {
     "name": "stderr",
     "output_type": "stream",
     "text": [
      " 75%|███████▍  | 74999/99999 [14:18<04:38, 89.82it/s]"
     ]
    },
    {
     "name": "stdout",
     "output_type": "stream",
     "text": [
      "tensor(7.2018, grad_fn=<VarBackward0>)\n"
     ]
    },
    {
     "name": "stderr",
     "output_type": "stream",
     "text": [
      " 76%|███████▌  | 75992/99999 [14:29<04:25, 90.47it/s]"
     ]
    },
    {
     "name": "stdout",
     "output_type": "stream",
     "text": [
      "tensor(7.0778, grad_fn=<VarBackward0>)\n"
     ]
    },
    {
     "name": "stderr",
     "output_type": "stream",
     "text": [
      " 77%|███████▋  | 76992/99999 [14:41<04:18, 88.87it/s]"
     ]
    },
    {
     "name": "stdout",
     "output_type": "stream",
     "text": [
      "tensor(7.1073, grad_fn=<VarBackward0>)\n"
     ]
    },
    {
     "name": "stderr",
     "output_type": "stream",
     "text": [
      " 78%|███████▊  | 77994/99999 [14:52<04:05, 89.72it/s]"
     ]
    },
    {
     "name": "stdout",
     "output_type": "stream",
     "text": [
      "tensor(7.3839, grad_fn=<VarBackward0>)\n"
     ]
    },
    {
     "name": "stderr",
     "output_type": "stream",
     "text": [
      " 79%|███████▉  | 78999/99999 [15:04<03:51, 90.60it/s]"
     ]
    },
    {
     "name": "stdout",
     "output_type": "stream",
     "text": [
      "tensor(7.3949, grad_fn=<VarBackward0>)\n"
     ]
    },
    {
     "name": "stderr",
     "output_type": "stream",
     "text": [
      " 80%|███████▉  | 79991/99999 [15:15<03:40, 90.60it/s]"
     ]
    },
    {
     "name": "stdout",
     "output_type": "stream",
     "text": [
      "tensor(7.2876, grad_fn=<VarBackward0>)\n"
     ]
    },
    {
     "name": "stderr",
     "output_type": "stream",
     "text": [
      " 81%|████████  | 80996/99999 [15:27<03:29, 90.64it/s]"
     ]
    },
    {
     "name": "stdout",
     "output_type": "stream",
     "text": [
      "tensor(7.1815, grad_fn=<VarBackward0>)\n"
     ]
    },
    {
     "name": "stderr",
     "output_type": "stream",
     "text": [
      " 82%|████████▏ | 81992/99999 [15:39<03:38, 82.52it/s]"
     ]
    },
    {
     "name": "stdout",
     "output_type": "stream",
     "text": [
      "tensor(7.3181, grad_fn=<VarBackward0>)\n"
     ]
    },
    {
     "name": "stderr",
     "output_type": "stream",
     "text": [
      " 83%|████████▎ | 82994/99999 [15:51<03:10, 89.29it/s]"
     ]
    },
    {
     "name": "stdout",
     "output_type": "stream",
     "text": [
      "tensor(7.0758, grad_fn=<VarBackward0>)\n"
     ]
    },
    {
     "name": "stderr",
     "output_type": "stream",
     "text": [
      " 84%|████████▍ | 83990/99999 [16:02<02:58, 89.58it/s]"
     ]
    },
    {
     "name": "stdout",
     "output_type": "stream",
     "text": [
      "tensor(7.3269, grad_fn=<VarBackward0>)\n"
     ]
    },
    {
     "name": "stderr",
     "output_type": "stream",
     "text": [
      " 85%|████████▍ | 84995/99999 [16:14<02:49, 88.51it/s]"
     ]
    },
    {
     "name": "stdout",
     "output_type": "stream",
     "text": [
      "tensor(7.2310, grad_fn=<VarBackward0>)\n"
     ]
    },
    {
     "name": "stderr",
     "output_type": "stream",
     "text": [
      " 86%|████████▌ | 85991/99999 [16:25<02:35, 90.25it/s]"
     ]
    },
    {
     "name": "stdout",
     "output_type": "stream",
     "text": [
      "tensor(7.2925, grad_fn=<VarBackward0>)\n"
     ]
    },
    {
     "name": "stderr",
     "output_type": "stream",
     "text": [
      " 87%|████████▋ | 86997/99999 [16:37<02:24, 90.22it/s]"
     ]
    },
    {
     "name": "stdout",
     "output_type": "stream",
     "text": [
      "tensor(7.3667, grad_fn=<VarBackward0>)\n"
     ]
    },
    {
     "name": "stderr",
     "output_type": "stream",
     "text": [
      " 88%|████████▊ | 87994/99999 [16:48<02:21, 84.91it/s]"
     ]
    },
    {
     "name": "stdout",
     "output_type": "stream",
     "text": [
      "tensor(7.2244, grad_fn=<VarBackward0>)\n"
     ]
    },
    {
     "name": "stderr",
     "output_type": "stream",
     "text": [
      " 89%|████████▉ | 88994/99999 [17:00<02:02, 89.69it/s]"
     ]
    },
    {
     "name": "stdout",
     "output_type": "stream",
     "text": [
      "tensor(7.4464, grad_fn=<VarBackward0>)\n"
     ]
    },
    {
     "name": "stderr",
     "output_type": "stream",
     "text": [
      " 90%|████████▉ | 89995/99999 [17:12<01:53, 88.28it/s]"
     ]
    },
    {
     "name": "stdout",
     "output_type": "stream",
     "text": [
      "tensor(7.1131, grad_fn=<VarBackward0>)\n"
     ]
    },
    {
     "name": "stderr",
     "output_type": "stream",
     "text": [
      " 91%|█████████ | 90999/99999 [17:24<01:39, 90.07it/s]"
     ]
    },
    {
     "name": "stdout",
     "output_type": "stream",
     "text": [
      "tensor(7.5306, grad_fn=<VarBackward0>)\n"
     ]
    },
    {
     "name": "stderr",
     "output_type": "stream",
     "text": [
      " 92%|█████████▏| 91999/99999 [17:35<01:29, 89.44it/s]"
     ]
    },
    {
     "name": "stdout",
     "output_type": "stream",
     "text": [
      "tensor(7.2300, grad_fn=<VarBackward0>)\n"
     ]
    },
    {
     "name": "stderr",
     "output_type": "stream",
     "text": [
      " 93%|█████████▎| 92994/99999 [17:47<01:18, 89.58it/s]"
     ]
    },
    {
     "name": "stdout",
     "output_type": "stream",
     "text": [
      "tensor(7.1193, grad_fn=<VarBackward0>)\n"
     ]
    },
    {
     "name": "stderr",
     "output_type": "stream",
     "text": [
      " 94%|█████████▍| 93992/99999 [17:58<01:07, 89.55it/s]"
     ]
    },
    {
     "name": "stdout",
     "output_type": "stream",
     "text": [
      "tensor(7.5300, grad_fn=<VarBackward0>)\n"
     ]
    },
    {
     "name": "stderr",
     "output_type": "stream",
     "text": [
      " 95%|█████████▍| 94991/99999 [18:10<00:55, 89.65it/s]"
     ]
    },
    {
     "name": "stdout",
     "output_type": "stream",
     "text": [
      "tensor(7.1117, grad_fn=<VarBackward0>)\n"
     ]
    },
    {
     "name": "stderr",
     "output_type": "stream",
     "text": [
      " 96%|█████████▌| 95997/99999 [18:22<00:44, 89.06it/s]"
     ]
    },
    {
     "name": "stdout",
     "output_type": "stream",
     "text": [
      "tensor(7.1560, grad_fn=<VarBackward0>)\n"
     ]
    },
    {
     "name": "stderr",
     "output_type": "stream",
     "text": [
      " 97%|█████████▋| 96996/99999 [18:34<00:34, 87.23it/s]"
     ]
    },
    {
     "name": "stdout",
     "output_type": "stream",
     "text": [
      "tensor(7.1622, grad_fn=<VarBackward0>)\n"
     ]
    },
    {
     "name": "stderr",
     "output_type": "stream",
     "text": [
      " 98%|█████████▊| 97995/99999 [18:46<00:22, 89.65it/s]"
     ]
    },
    {
     "name": "stdout",
     "output_type": "stream",
     "text": [
      "tensor(7.3052, grad_fn=<VarBackward0>)\n"
     ]
    },
    {
     "name": "stderr",
     "output_type": "stream",
     "text": [
      " 99%|█████████▉| 98991/99999 [18:57<00:11, 89.55it/s]"
     ]
    },
    {
     "name": "stdout",
     "output_type": "stream",
     "text": [
      "tensor(7.3618, grad_fn=<VarBackward0>)\n"
     ]
    },
    {
     "name": "stderr",
     "output_type": "stream",
     "text": [
      "100%|██████████| 99999/99999 [19:09<00:00, 87.00it/s]\n"
     ]
    },
    {
     "data": {
      "image/png": "[encoded data removed]",
      "text/plain": [
       "<Figure size 432x288 with 1 Axes>"
      ]
     },
     "metadata": {
      "needs_background": "light"
     },
     "output_type": "display_data"
    }
   ],
   "source": [
    "# Correct\n",
    "# model full px|y and py|x directly\n",
    "M, Mbar, history = run_expr5(n_batch=50, iters=100000)"
   ]
  },
  {
   "cell_type": "code",
   "execution_count": 126,
   "id": "distant-fifty",
   "metadata": {},
   "outputs": [],
   "source": [
    "Mbar_pseudo = torch.from_numpy(np.load(f'birthwt_training_results/Mbar_pseudo_{50}_{99999}.npy'))\n",
    "M_pseudo = torch.from_numpy(np.load(f'birthwt_training_results/M_pseudo_{50}_{99999}.npy'))"
   ]
  },
  {
   "cell_type": "code",
   "execution_count": 63,
   "id": "intensive-immune",
   "metadata": {},
   "outputs": [
    {
     "data": {
      "text/plain": [
       "<matplotlib.image.AxesImage at 0x7f9d4808f400>"
      ]
     },
     "execution_count": 63,
     "metadata": {},
     "output_type": "execute_result"
    },
    {
     "data": {
      "image/png": "[encoded data removed]",
      "text/plain": [
       "<Figure size 432x288 with 1 Axes>"
      ]
     },
     "metadata": {
      "needs_background": "light"
     },
     "output_type": "display_data"
    }
   ],
   "source": [
    "plt.imshow(torch.exp(Mbar_pseudo), extent=[7,45,36,14])"
   ]
  },
  {
   "cell_type": "code",
   "execution_count": 60,
   "id": "strange-journey",
   "metadata": {
    "scrolled": true
   },
   "outputs": [
    {
     "data": {
      "text/plain": [
       "<matplotlib.image.AxesImage at 0x7f9d1fec6700>"
      ]
     },
     "execution_count": 60,
     "metadata": {},
     "output_type": "execute_result"
    },
    {
     "data": {
      "image/png": "[encoded data removed]",
      "text/plain": [
       "<Figure size 432x288 with 1 Axes>"
      ]
     },
     "metadata": {
      "needs_background": "light"
     },
     "output_type": "display_data"
    }
   ],
   "source": [
    "plt.imshow(torch.exp(M_pseudo), extent=[7,45,36,14])"
   ]
  },
  {
   "cell_type": "code",
   "execution_count": 129,
   "id": "favorite-softball",
   "metadata": {},
   "outputs": [
    {
     "data": {
      "text/plain": [
       "tensor(7.3230e-06, dtype=torch.float64)"
      ]
     },
     "execution_count": 129,
     "metadata": {},
     "output_type": "execute_result"
    }
   ],
   "source": [
    "# Compare Mbar with xy\n",
    "F_pseudo = torch.exp(Mbar_pseudo)\n",
    "F_pseudo_normalized = F_pseudo/torch.sum(F_pseudo)\n",
    "log_F_pseudo_normalized = torch.log(F_pseudo_normalized)\n",
    "\n",
    "F.kl_div(log_F_pseudo_normalized, torch.from_numpy(xy))"
   ]
  },
  {
   "cell_type": "code",
   "execution_count": 130,
   "id": "breeding-increase",
   "metadata": {},
   "outputs": [
    {
     "data": {
      "text/plain": [
       "[<matplotlib.lines.Line2D at 0x7f83d201e550>]"
      ]
     },
     "execution_count": 130,
     "metadata": {},
     "output_type": "execute_result"
    },
    {
     "data": {
      "image/png": "[encoded data removed]",
      "text/plain": [
       "<Figure size 432x288 with 1 Axes>"
      ]
     },
     "metadata": {
      "needs_background": "light"
     },
     "output_type": "display_data"
    }
   ],
   "source": [
    "plt.plot(history['loss'])"
   ]
  },
  {
   "cell_type": "code",
   "execution_count": 216,
   "id": "roman-marble",
   "metadata": {},
   "outputs": [
    {
     "name": "stdout",
     "output_type": "stream",
     "text": [
      "tensor(-0.0009, dtype=torch.float64)\n"
     ]
    }
   ],
   "source": [
    "# use F as k*p(x,y)/pxpy to recover xy\n",
    "recover_xy(F_pseudo, xy, xyind)"
   ]
  },
  {
   "cell_type": "code",
   "execution_count": 19,
   "id": "freelance-export",
   "metadata": {},
   "outputs": [],
   "source": [
    "def run_expr(n_batch, iters):\n",
    "    '''\n",
    "    info NCE\n",
    "    '''\n",
    "    torch.manual_seed(42)\n",
    "    \n",
    "    M = torch.randn(xy.shape, requires_grad = True)\n",
    "    print(M[0, :5])\n",
    "    \n",
    "    optimizer = torch.optim.SGD([M],1, 0.99)\n",
    "    Mbar = M.data\n",
    "    \n",
    "    history = {'loss':[]}\n",
    "\n",
    "    for iteration in tqdm(range(1,iters)):\n",
    "\n",
    "        samples = [np.random.choice(range(xy.reshape(-1).shape[0]), p=xy.reshape(-1)) for i in range(n_batch)]\n",
    "        samples = np.array([(xi//x.shape[0], xi%x.shape[0]) for xi in samples])\n",
    "#         import pdb; pdb.set_trace()\n",
    "        \n",
    "        optimizer.zero_grad()\n",
    "\n",
    "        F = torch.exp(M)\n",
    "\n",
    "        loss = 0\n",
    "        for i in range(n_batch):\n",
    "#             lossi = F[samples[i,0],samples[i,1]]/torch.sum(F[samples[i,0], samples[:,1]])\n",
    "            \n",
    "            lossi_x = F[samples[i,0],samples[i,1]]/torch.sum(F[samples[i,0], samples[:,1]])\n",
    "            lossi_y = F[samples[i,0],samples[i,1]]/torch.sum(F[samples[:,0], samples[i,1]])\n",
    "            \n",
    "            loss = loss + ((torch.log(lossi_x) + torch.log(lossi_y)) * 0.5)\n",
    "            \n",
    "        loss = -1*loss/n_batch\n",
    "        loss.backward()\n",
    "        optimizer.step()\n",
    "        history['loss'].append(loss.item())\n",
    "        Mbar = (1-1/iteration)*Mbar + (1/iteration)*M.data\n",
    "\n",
    "        if iteration % 1000 == 0:\n",
    "            print(torch.var(M))\n",
    "            plt.imshow(Mbar.detach().cpu().numpy(), extent=[7,45,36,14])\n",
    "            plt.savefig(f\"birthwt_training_results/Mbar_infoNCE_{n_batch}_{iteration}.png\")\n",
    "\n",
    "    np.save(f'birthwt_training_results/Mbar_infoNCE_{n_batch}_{iteration}.npy', Mbar.detach().cpu().numpy())\n",
    "    np.save(f'birthwt_training_results/M_infoNCE_{n_batch}_{iteration}.npy', M.detach().cpu().numpy())\n",
    "    np.save(f'birthwt_training_results/training_loss_infoNCE_{n_batch}_{iteration}.npy', np.array(history['loss']))\n",
    "    return M, Mbar, history"
   ]
  },
  {
   "cell_type": "code",
   "execution_count": 20,
   "id": "natural-terrain",
   "metadata": {
    "scrolled": true
   },
   "outputs": [
    {
     "name": "stderr",
     "output_type": "stream",
     "text": [
      "  0%|          | 9/99999 [00:00<19:24, 85.86it/s]"
     ]
    },
    {
     "name": "stdout",
     "output_type": "stream",
     "text": [
      "tensor([ 1.9269,  1.4873,  0.9007, -2.1055,  0.6784], grad_fn=<SliceBackward>)\n"
     ]
    },
    {
     "name": "stderr",
     "output_type": "stream",
     "text": [
      "100%|██████████| 99999/99999 [18:20<00:00, 90.85it/s]\n"
     ]
    }
   ],
   "source": [
    "# Correct\n",
    "# info NCE both directions\n",
    "M, Mbar, history = run_expr(n_batch=50, iters=100000)"
   ]
  },
  {
   "cell_type": "code",
   "execution_count": 21,
   "id": "adult-maria",
   "metadata": {},
   "outputs": [
    {
     "data": {
      "text/plain": [
       "[<matplotlib.lines.Line2D at 0x7f9d3c0fedf0>]"
      ]
     },
     "execution_count": 21,
     "metadata": {},
     "output_type": "execute_result"
    },
    {
     "data": {
      "image/png": "[encoded data removed]",
      "text/plain": [
       "<Figure size 432x288 with 1 Axes>"
      ]
     },
     "metadata": {
      "needs_background": "light"
     },
     "output_type": "display_data"
    }
   ],
   "source": [
    "plt.plot(history['loss'])"
   ]
  },
  {
   "cell_type": "code",
   "execution_count": 58,
   "id": "handy-navigation",
   "metadata": {
    "scrolled": false
   },
   "outputs": [
    {
     "data": {
      "text/plain": [
       "<matplotlib.image.AxesImage at 0x7f9d1fb531c0>"
      ]
     },
     "execution_count": 58,
     "metadata": {},
     "output_type": "execute_result"
    },
    {
     "data": {
      "image/png": "[encoded data removed]",
      "text/plain": [
       "<Figure size 432x288 with 1 Axes>"
      ]
     },
     "metadata": {
      "needs_background": "light"
     },
     "output_type": "display_data"
    }
   ],
   "source": [
    "plt.imshow(torch.exp(Mbar.detach().cpu()), extent=[7,45,36,14])"
   ]
  },
  {
   "cell_type": "code",
   "execution_count": 57,
   "id": "found-eligibility",
   "metadata": {
    "scrolled": true
   },
   "outputs": [
    {
     "data": {
      "text/plain": [
       "<matplotlib.image.AxesImage at 0x7f9d1e116c10>"
      ]
     },
     "execution_count": 57,
     "metadata": {},
     "output_type": "execute_result"
    },
    {
     "data": {
      "image/png": "[encoded data removed]",
      "text/plain": [
       "<Figure size 432x288 with 1 Axes>"
      ]
     },
     "metadata": {
      "needs_background": "light"
     },
     "output_type": "display_data"
    }
   ],
   "source": [
    "plt.imshow(torch.exp(M.detach().cpu()), extent=[7,45,36,14])"
   ]
  },
  {
   "cell_type": "code",
   "execution_count": 132,
   "id": "fatal-sarah",
   "metadata": {},
   "outputs": [],
   "source": [
    "Mbar_infoNCE = torch.from_numpy(np.load(f'birthwt_training_results/Mbar_infoNCE_{50}_{99999}.npy'))\n",
    "M_infoNCE = torch.from_numpy(np.load(f'birthwt_training_results/M_infoNCE_{50}_{99999}.npy'))"
   ]
  },
  {
   "cell_type": "code",
   "execution_count": 142,
   "id": "annoying-fruit",
   "metadata": {},
   "outputs": [
    {
     "data": {
      "text/plain": [
       "tensor(0.0010, dtype=torch.float64)"
      ]
     },
     "execution_count": 142,
     "metadata": {},
     "output_type": "execute_result"
    }
   ],
   "source": [
    "# Compare Mbar with xy\n",
    "F_infoNCE = torch.exp(Mbar_infoNCE)\n",
    "F_infoNCE_normalized = F_infoNCE/torch.sum(F_infoNCE)\n",
    "log_F_infoNCE_normalized = torch.log(F_infoNCE_normalized)\n",
    "\n",
    "F.kl_div(log_F_infoNCE_normalized, torch.from_numpy(xy))"
   ]
  },
  {
   "cell_type": "code",
   "execution_count": 219,
   "id": "distant-clothing",
   "metadata": {},
   "outputs": [
    {
     "name": "stdout",
     "output_type": "stream",
     "text": [
      "tensor(8.4573e-05, dtype=torch.float64)\n"
     ]
    }
   ],
   "source": [
    "# use F as k*p(x,y)/pxpy to recover xy\n",
    "recover_xy(F_infoNCE, xy, xyind)"
   ]
  },
  {
   "cell_type": "code",
   "execution_count": 58,
   "id": "ruled-therapy",
   "metadata": {},
   "outputs": [],
   "source": [
    "def run_expr_decouple_batch_sizes(n_batch_b, n_batch_B, iters):\n",
    "    '''\n",
    "    info NCE, decouple batch sizes.\n",
    "    '''\n",
    "    torch.manual_seed(42)\n",
    "    \n",
    "    M = torch.randn(xy.shape, requires_grad = True)\n",
    "    print(M[0, :5])\n",
    "    \n",
    "    optimizer = torch.optim.SGD([M],1, 0.99)\n",
    "    Mbar = M.data\n",
    "    \n",
    "    history = {'loss':[], 'M_var':[], 'gradients':[]}\n",
    "    loss_B = 0\n",
    "    \n",
    "    for iteration in tqdm(range(1,iters)):\n",
    "        \n",
    "        # Draw a batch b\n",
    "        samples = [np.random.choice(range(xy.reshape(-1).shape[0]), p=xy.reshape(-1)) for i in range(n_batch_b)]\n",
    "        samples = np.array([(xi//x.shape[0], xi%x.shape[0]) for xi in samples])\n",
    "        \n",
    "        optimizer.zero_grad()\n",
    "\n",
    "        F = torch.exp(M)\n",
    "\n",
    "        loss_b = 0\n",
    "        for i in range(n_batch_b):\n",
    "            lossi_x = F[samples[i,0],samples[i,1]]/torch.sum(F[samples[i,0], samples[:,1]])\n",
    "            lossi_y = F[samples[i,0],samples[i,1]]/torch.sum(F[samples[:,0], samples[i,1]])\n",
    "            \n",
    "            loss_b = loss_b + ((torch.log(lossi_x) + torch.log(lossi_y)) * 0.5)\n",
    "            \n",
    "        loss_b = -1*loss_b/n_batch_b\n",
    "        \n",
    "        # Accumulate loss to batch B\n",
    "        loss_B += loss_b\n",
    "        \n",
    "        if iteration % n_batch_B == 0:\n",
    "            loss = loss_B / n_batch_B\n",
    "            loss.backward()\n",
    "            history['gradients'].append(torch.mean(torch.absolute(M.grad)).cpu().item())\n",
    "            optimizer.step()\n",
    "            history['loss'].append(loss.cpu().item())\n",
    "            history['M_var'].append(torch.var(M).cpu().item())\n",
    "            Mbar = (1-1/iteration)*Mbar + (1/iteration)*M.data\n",
    "            loss_B = 0\n",
    "\n",
    "        if iteration % 500 == 0:\n",
    "            print(torch.var(M))\n",
    "            plt.imshow(Mbar.detach().cpu().numpy(), extent=[7,45,36,14])\n",
    "            plt.savefig(f\"birthwt_training_bB_results/Mbar_infoNCE_bB_{n_batch_b}_{n_batch_B}_{iteration}.png\")\n",
    "\n",
    "    np.save(f'birthwt_training_bB_results/Mbar_infoNCE_bB_{n_batch_b}_{n_batch_B}_{iteration}.npy', Mbar.detach().cpu().numpy())\n",
    "    np.save(f'birthwt_training_bB_results/M_infoNCE_bB_{n_batch_b}_{n_batch_B}_{iteration}.npy', M.detach().cpu().numpy())\n",
    "    np.save(f'birthwt_training_bB_results/training_loss_infoNCE_bB_{n_batch_b}_{n_batch_B}_{iteration}.npy', np.array(history['loss']))\n",
    "    return M, Mbar, history"
   ]
  },
  {
   "cell_type": "code",
   "execution_count": 97,
   "id": "electric-growth",
   "metadata": {
    "scrolled": true
   },
   "outputs": [
    {
     "name": "stderr",
     "output_type": "stream",
     "text": [
      "  1%|          | 7/999 [00:00<00:14, 69.30it/s]"
     ]
    },
    {
     "name": "stdout",
     "output_type": "stream",
     "text": [
      "tensor([ 1.9269,  1.4873,  0.9007, -2.1055,  0.6784], grad_fn=<SliceBackward>)\n"
     ]
    },
    {
     "name": "stderr",
     "output_type": "stream",
     "text": [
      " 51%|█████     | 509/999 [00:05<00:06, 78.13it/s]"
     ]
    },
    {
     "name": "stdout",
     "output_type": "stream",
     "text": [
      "tensor(20.1832, grad_fn=<VarBackward0>)\n"
     ]
    },
    {
     "name": "stderr",
     "output_type": "stream",
     "text": [
      "100%|██████████| 999/999 [00:11<00:00, 89.77it/s]\n"
     ]
    },
    {
     "data": {
      "image/png": "[encoded data removed]",
      "text/plain": [
       "<Figure size 432x288 with 1 Axes>"
      ]
     },
     "metadata": {
      "needs_background": "light"
     },
     "output_type": "display_data"
    }
   ],
   "source": [
    "# Correct\n",
    "# info NCE both directions\n",
    "M, Mbar, history = run_expr_decouple_batch_sizes(n_batch_b=50, n_batch_B=1, iters=1000)"
   ]
  },
  {
   "cell_type": "code",
   "execution_count": null,
   "id": "female-satin",
   "metadata": {},
   "outputs": [],
   "source": [
    "# This is what we want!\n",
    "# control for number of gradient updates and number of datapoints drawn\n",
    "# (n_batch_b=5, n_batch_B=100, iters=10000) # 100 updates  # 10k * 5 datapoints\n",
    "# (n_batch_b=50, n_batch_B=10, iters=1000)  # 100 updates  # 10k * 5 datapoints\n",
    "# (n_batch_b=500, n_batch_B=1, iters=100)   # 100 updates  # 10k * 5 datapoints "
   ]
  },
  {
   "cell_type": "markdown",
   "id": "widespread-windsor",
   "metadata": {},
   "source": [
    "## (n_batch_b=5, n_batch_B=100, iters=10000)\n",
    "\n",
    "```\n",
    "- one loss   per 5by5 batch matrix\n",
    "- one update per 100 losses\n",
    "- 100 updates\n",
    "- 50k datapoints drawn\n",
    "```"
   ]
  },
  {
   "cell_type": "code",
   "execution_count": 86,
   "id": "protecting-favor",
   "metadata": {},
   "outputs": [],
   "source": [
    "n_batch_b=5; n_batch_B=100; iters=10000-1\n",
    "Mbar_infoNCE_5_100_10000 = torch.from_numpy(np.load(f'birthwt_training_bB_results/Mbar_infoNCE_bB_{n_batch_b}_{n_batch_B}_{iters}.npy'))\n",
    "M_infoNCE_5_100_10000 = torch.from_numpy(np.load(f'birthwt_training_bB_results/M_infoNCE_bB_{n_batch_b}_{n_batch_B}_{iters}.npy'))"
   ]
  },
  {
   "cell_type": "code",
   "execution_count": 226,
   "id": "peaceful-harrison",
   "metadata": {},
   "outputs": [
    {
     "data": {
      "text/plain": [
       "tensor(0.0024, dtype=torch.float64)"
      ]
     },
     "execution_count": 226,
     "metadata": {},
     "output_type": "execute_result"
    }
   ],
   "source": [
    "# Compare Mbar with xy\n",
    "F_infoNCE_5_100_10000 = torch.exp(Mbar_infoNCE_5_100_10000)\n",
    "F_infoNCE_normalized_5_100_10000 = F_infoNCE_5_100_10000/torch.sum(F_infoNCE_5_100_10000)\n",
    "log_F_infoNCE_normalized_5_100_10000 = torch.log(F_infoNCE_normalized_5_100_10000)\n",
    "\n",
    "F.kl_div(log_F_infoNCE_normalized_5_100_10000, torch.from_numpy(xy))"
   ]
  },
  {
   "cell_type": "code",
   "execution_count": 227,
   "id": "given-clause",
   "metadata": {},
   "outputs": [
    {
     "name": "stdout",
     "output_type": "stream",
     "text": [
      "tensor(0.0015, dtype=torch.float64)\n"
     ]
    }
   ],
   "source": [
    "# use F as k*p(x,y)/pxpy to recover xy\n",
    "F_infoNCE_5_100_10000 = = torch.exp(Mbar_infoNCE_5_100_10000)\n",
    "recover_xy(F_infoNCE_5_100_10000, xy, xyind)"
   ]
  },
  {
   "cell_type": "code",
   "execution_count": 252,
   "id": "innocent-subcommittee",
   "metadata": {},
   "outputs": [
    {
     "data": {
      "text/plain": [
       "tensor(1.3540)"
      ]
     },
     "execution_count": 252,
     "metadata": {},
     "output_type": "execute_result"
    }
   ],
   "source": [
    "# estimate K\n",
    "torch.sum(F_infoNCE_5_100_10000) / np.sum(xy/xyind)"
   ]
  },
  {
   "cell_type": "code",
   "execution_count": 68,
   "id": "cooked-hamilton",
   "metadata": {},
   "outputs": [
    {
     "data": {
      "text/plain": [
       "[<matplotlib.lines.Line2D at 0x7f83d297b520>]"
      ]
     },
     "execution_count": 68,
     "metadata": {},
     "output_type": "execute_result"
    },
    {
     "data": {
      "image/png": "[encoded data removed]",
      "text/plain": [
       "<Figure size 432x288 with 1 Axes>"
      ]
     },
     "metadata": {
      "needs_background": "light"
     },
     "output_type": "display_data"
    }
   ],
   "source": [
    "# Chosen\n",
    "# (n_batch_b=5, n_batch_B=100, iters=10000) # 100 updates\n",
    "plt.plot(history['loss'])"
   ]
  },
  {
   "cell_type": "code",
   "execution_count": 83,
   "id": "fourth-physiology",
   "metadata": {},
   "outputs": [
    {
     "data": {
      "text/plain": [
       "[<matplotlib.lines.Line2D at 0x7f83d25e6dc0>]"
      ]
     },
     "execution_count": 83,
     "metadata": {},
     "output_type": "execute_result"
    },
    {
     "data": {
      "image/png": "[encoded data removed]",
      "text/plain": [
       "<Figure size 432x288 with 1 Axes>"
      ]
     },
     "metadata": {
      "needs_background": "light"
     },
     "output_type": "display_data"
    }
   ],
   "source": [
    "# Chosen\n",
    "# (n_batch_b=5, n_batch_B=100, iters=10000) # 100 updates\n",
    "plt.plot(history['M_var'])"
   ]
  },
  {
   "cell_type": "code",
   "execution_count": 84,
   "id": "union-oklahoma",
   "metadata": {
    "scrolled": true
   },
   "outputs": [
    {
     "data": {
      "text/plain": [
       "[<matplotlib.lines.Line2D at 0x7f83d2613160>]"
      ]
     },
     "execution_count": 84,
     "metadata": {},
     "output_type": "execute_result"
    },
    {
     "data": {
      "image/png": "[encoded data removed]",
      "text/plain": [
       "<Figure size 432x288 with 1 Axes>"
      ]
     },
     "metadata": {
      "needs_background": "light"
     },
     "output_type": "display_data"
    }
   ],
   "source": [
    "# Chosen\n",
    "# (n_batch_b=5, n_batch_B=100, iters=10000) # 100 updates\n",
    "plt.plot(history['gradients'])"
   ]
  },
  {
   "cell_type": "code",
   "execution_count": 87,
   "id": "alert-consumption",
   "metadata": {},
   "outputs": [
    {
     "data": {
      "text/plain": [
       "<matplotlib.image.AxesImage at 0x7f83d255fca0>"
      ]
     },
     "execution_count": 87,
     "metadata": {},
     "output_type": "execute_result"
    },
    {
     "data": {
      "image/png": "[encoded data removed]",
      "text/plain": [
       "<Figure size 432x288 with 1 Axes>"
      ]
     },
     "metadata": {
      "needs_background": "light"
     },
     "output_type": "display_data"
    }
   ],
   "source": [
    "plt.imshow(torch.exp(Mbar_infoNCE_5_100_10000.detach().cpu()), extent=[7,45,36,14])"
   ]
  },
  {
   "cell_type": "code",
   "execution_count": 89,
   "id": "moved-supervisor",
   "metadata": {},
   "outputs": [
    {
     "data": {
      "text/plain": [
       "<matplotlib.image.AxesImage at 0x7f83d2536eb0>"
      ]
     },
     "execution_count": 89,
     "metadata": {},
     "output_type": "execute_result"
    },
    {
     "data": {
      "image/png": "[encoded data removed]",
      "text/plain": [
       "<Figure size 432x288 with 1 Axes>"
      ]
     },
     "metadata": {
      "needs_background": "light"
     },
     "output_type": "display_data"
    }
   ],
   "source": [
    "plt.imshow(torch.exp(M_infoNCE_5_100_10000.detach().cpu()), extent=[7,45,36,14])"
   ]
  },
  {
   "cell_type": "markdown",
   "id": "owned-blanket",
   "metadata": {},
   "source": [
    "## (n_batch_b=50, n_batch_B=10, iters=1000)\n",
    "\n",
    "```\n",
    "- one loss   per 50by50 batch matrix\n",
    "- one update per 10 losses\n",
    "- 100 updates\n",
    "- 50k datapoints drawn\n",
    "```"
   ]
  },
  {
   "cell_type": "code",
   "execution_count": 90,
   "id": "capable-compilation",
   "metadata": {},
   "outputs": [],
   "source": [
    "n_batch_b=50; n_batch_B=10; iters=1000-1\n",
    "Mbar_infoNCE_50_10_1000 = torch.from_numpy(np.load(f'birthwt_training_bB_results/Mbar_infoNCE_bB_{n_batch_b}_{n_batch_B}_{iters}.npy'))\n",
    "M_infoNCE_50_10_1000 = torch.from_numpy(np.load(f'birthwt_training_bB_results/M_infoNCE_bB_{n_batch_b}_{n_batch_B}_{iters}.npy'))"
   ]
  },
  {
   "cell_type": "code",
   "execution_count": 230,
   "id": "reported-scholar",
   "metadata": {},
   "outputs": [
    {
     "data": {
      "text/plain": [
       "tensor(0.0018, dtype=torch.float64)"
      ]
     },
     "execution_count": 230,
     "metadata": {},
     "output_type": "execute_result"
    }
   ],
   "source": [
    "# Compare Mbar with xy\n",
    "F_infoNCE_50_10_1000 = torch.exp(Mbar_infoNCE_50_10_1000)\n",
    "F_infoNCE_normalized_50_10_1000 = F_infoNCE_50_10_1000/torch.sum(F_infoNCE_50_10_1000)\n",
    "log_F_infoNCE_normalized_50_10_1000 = torch.log(F_infoNCE_normalized_50_10_1000)\n",
    "\n",
    "F.kl_div(log_F_infoNCE_normalized_50_10_1000, torch.from_numpy(xy))"
   ]
  },
  {
   "cell_type": "code",
   "execution_count": 231,
   "id": "outer-father",
   "metadata": {},
   "outputs": [
    {
     "name": "stdout",
     "output_type": "stream",
     "text": [
      "tensor(0.0010, dtype=torch.float64)\n"
     ]
    }
   ],
   "source": [
    "# use F as k*p(x,y)/pxpy to recover xy\n",
    "F_infoNCE_50_10_1000 = torch.exp(Mbar_infoNCE_50_10_1000)\n",
    "recover_xy(F_infoNCE_50_10_1000, xy, xyind)"
   ]
  },
  {
   "cell_type": "code",
   "execution_count": 251,
   "id": "civil-genome",
   "metadata": {},
   "outputs": [
    {
     "data": {
      "text/plain": [
       "tensor(1.3103)"
      ]
     },
     "execution_count": 251,
     "metadata": {},
     "output_type": "execute_result"
    }
   ],
   "source": [
    "# estimate K\n",
    "torch.sum(F_infoNCE_50_10_1000) / np.sum(xy/xyind)"
   ]
  },
  {
   "cell_type": "code",
   "execution_count": 60,
   "id": "freelance-assist",
   "metadata": {},
   "outputs": [
    {
     "data": {
      "text/plain": [
       "[<matplotlib.lines.Line2D at 0x7f83d2b83520>]"
      ]
     },
     "execution_count": 60,
     "metadata": {},
     "output_type": "execute_result"
    },
    {
     "data": {
      "image/png": "[encoded data removed]",
      "text/plain": [
       "<Figure size 432x288 with 1 Axes>"
      ]
     },
     "metadata": {
      "needs_background": "light"
     },
     "output_type": "display_data"
    }
   ],
   "source": [
    "# Chosen\n",
    "# (n_batch_b=50, n_batch_B=10, iters=1000) # 100 updates\n",
    "plt.plot(history['loss'])"
   ]
  },
  {
   "cell_type": "code",
   "execution_count": 61,
   "id": "aquatic-auckland",
   "metadata": {},
   "outputs": [
    {
     "data": {
      "text/plain": [
       "[<matplotlib.lines.Line2D at 0x7f83d2b58790>]"
      ]
     },
     "execution_count": 61,
     "metadata": {},
     "output_type": "execute_result"
    },
    {
     "data": {
      "image/png": "[encoded data removed]",
      "text/plain": [
       "<Figure size 432x288 with 1 Axes>"
      ]
     },
     "metadata": {
      "needs_background": "light"
     },
     "output_type": "display_data"
    }
   ],
   "source": [
    "# (n_batch_b=50, n_batch_B=10, iters=1000) # 100 updates\n",
    "plt.plot(history['M_var'])"
   ]
  },
  {
   "cell_type": "code",
   "execution_count": 62,
   "id": "forced-hypothesis",
   "metadata": {},
   "outputs": [
    {
     "data": {
      "text/plain": [
       "[<matplotlib.lines.Line2D at 0x7f83d2b2ad90>]"
      ]
     },
     "execution_count": 62,
     "metadata": {},
     "output_type": "execute_result"
    },
    {
     "data": {
      "image/png": "[encoded data removed]",
      "text/plain": [
       "<Figure size 432x288 with 1 Axes>"
      ]
     },
     "metadata": {
      "needs_background": "light"
     },
     "output_type": "display_data"
    }
   ],
   "source": [
    "# (n_batch_b=50, n_batch_B=10, iters=1000) # 100 updates\n",
    "plt.plot(history['gradients'])"
   ]
  },
  {
   "cell_type": "code",
   "execution_count": 91,
   "id": "competent-courtesy",
   "metadata": {},
   "outputs": [
    {
     "data": {
      "text/plain": [
       "<matplotlib.image.AxesImage at 0x7f83d249c190>"
      ]
     },
     "execution_count": 91,
     "metadata": {},
     "output_type": "execute_result"
    },
    {
     "data": {
      "image/png": "[encoded data removed]",
      "text/plain": [
       "<Figure size 432x288 with 1 Axes>"
      ]
     },
     "metadata": {
      "needs_background": "light"
     },
     "output_type": "display_data"
    }
   ],
   "source": [
    "plt.imshow(torch.exp(Mbar_infoNCE_50_10_1000.detach().cpu()), extent=[7,45,36,14])"
   ]
  },
  {
   "cell_type": "code",
   "execution_count": 92,
   "id": "instructional-crowd",
   "metadata": {
    "scrolled": true
   },
   "outputs": [
    {
     "data": {
      "text/plain": [
       "<matplotlib.image.AxesImage at 0x7f83d2474370>"
      ]
     },
     "execution_count": 92,
     "metadata": {},
     "output_type": "execute_result"
    },
    {
     "data": {
      "image/png": "[encoded data removed]",
      "text/plain": [
       "<Figure size 432x288 with 1 Axes>"
      ]
     },
     "metadata": {
      "needs_background": "light"
     },
     "output_type": "display_data"
    }
   ],
   "source": [
    "plt.imshow(torch.exp(M_infoNCE_50_10_1000.detach().cpu()), extent=[7,45,36,14])"
   ]
  },
  {
   "cell_type": "markdown",
   "id": "structured-comedy",
   "metadata": {},
   "source": [
    "## (n_batch_b=500, n_batch_B=1, iters=100)\n",
    "\n",
    "```\n",
    "- one loss   per 500by500 batch matrix\n",
    "- one update per 1 losses\n",
    "- 100 updates\n",
    "- 50k datapoints drawn\n",
    "```"
   ]
  },
  {
   "cell_type": "code",
   "execution_count": 104,
   "id": "treated-cologne",
   "metadata": {},
   "outputs": [],
   "source": [
    "n_batch_b=500; n_batch_B=1; iters=100-1\n",
    "Mbar_infoNCE_500_1_100 = torch.from_numpy(np.load(f'birthwt_training_bB_results/Mbar_infoNCE_bB_{n_batch_b}_{n_batch_B}_{iters}.npy'))\n",
    "M_infoNCE_500_1_100 = torch.from_numpy(np.load(f'birthwt_training_bB_results/M_infoNCE_bB_{n_batch_b}_{n_batch_B}_{iters}.npy'))"
   ]
  },
  {
   "cell_type": "code",
   "execution_count": 232,
   "id": "demanding-declaration",
   "metadata": {},
   "outputs": [
    {
     "data": {
      "text/plain": [
       "tensor(0.0005, dtype=torch.float64)"
      ]
     },
     "execution_count": 232,
     "metadata": {},
     "output_type": "execute_result"
    }
   ],
   "source": [
    "# Compare Mbar with xy\n",
    "F_infoNCE_500_1_100 = torch.exp(Mbar_infoNCE_500_1_100)\n",
    "F_infoNCE_normalized_500_1_100 = F_infoNCE_500_1_100/torch.sum(F_infoNCE_500_1_100)\n",
    "log_F_infoNCE_normalized_500_1_100 = torch.log(F_infoNCE_normalized_500_1_100)\n",
    "\n",
    "F.kl_div(log_F_infoNCE_normalized_500_1_100, torch.from_numpy(xy))"
   ]
  },
  {
   "cell_type": "code",
   "execution_count": 233,
   "id": "intermediate-cowboy",
   "metadata": {},
   "outputs": [
    {
     "name": "stdout",
     "output_type": "stream",
     "text": [
      "tensor(-0.0004, dtype=torch.float64)\n"
     ]
    }
   ],
   "source": [
    "# use F as k*p(x,y)/pxpy to recover xy\n",
    "F_infoNCE_500_1_100 = torch.exp(Mbar_infoNCE_500_1_100)\n",
    "recover_xy(F_infoNCE_500_1_100, xy, xyind)"
   ]
  },
  {
   "cell_type": "code",
   "execution_count": 250,
   "id": "modular-tutorial",
   "metadata": {},
   "outputs": [
    {
     "data": {
      "text/plain": [
       "tensor(4.6142)"
      ]
     },
     "execution_count": 250,
     "metadata": {},
     "output_type": "execute_result"
    }
   ],
   "source": [
    "# estimate K\n",
    "torch.sum(F_infoNCE_500_1_100) / np.sum(xy/xyind)"
   ]
  },
  {
   "cell_type": "code",
   "execution_count": 77,
   "id": "atomic-formation",
   "metadata": {},
   "outputs": [
    {
     "data": {
      "text/plain": [
       "[<matplotlib.lines.Line2D at 0x7f83d27af4c0>]"
      ]
     },
     "execution_count": 77,
     "metadata": {},
     "output_type": "execute_result"
    },
    {
     "data": {
      "image/png": "[encoded data removed]",
      "text/plain": [
       "<Figure size 432x288 with 1 Axes>"
      ]
     },
     "metadata": {
      "needs_background": "light"
     },
     "output_type": "display_data"
    }
   ],
   "source": [
    "# Chosen\n",
    "# (n_batch_b=500, n_batch_B=1, iters=100) # 100 updates\n",
    "plt.plot(history['loss'])"
   ]
  },
  {
   "cell_type": "code",
   "execution_count": 78,
   "id": "lyric-amino",
   "metadata": {},
   "outputs": [
    {
     "data": {
      "text/plain": [
       "[<matplotlib.lines.Line2D at 0x7f83d26631c0>]"
      ]
     },
     "execution_count": 78,
     "metadata": {},
     "output_type": "execute_result"
    },
    {
     "data": {
      "image/png": "[encoded data removed]",
      "text/plain": [
       "<Figure size 432x288 with 1 Axes>"
      ]
     },
     "metadata": {
      "needs_background": "light"
     },
     "output_type": "display_data"
    }
   ],
   "source": [
    "# Chosen\n",
    "# (n_batch_b=500, n_batch_B=1, iters=100) # 100 updates\n",
    "plt.plot(history['M_var'])"
   ]
  },
  {
   "cell_type": "code",
   "execution_count": 80,
   "id": "modern-bracket",
   "metadata": {
    "scrolled": true
   },
   "outputs": [
    {
     "data": {
      "text/plain": [
       "[<matplotlib.lines.Line2D at 0x7f83d2696580>]"
      ]
     },
     "execution_count": 80,
     "metadata": {},
     "output_type": "execute_result"
    },
    {
     "data": {
      "image/png": "[encoded data removed]",
      "text/plain": [
       "<Figure size 432x288 with 1 Axes>"
      ]
     },
     "metadata": {
      "needs_background": "light"
     },
     "output_type": "display_data"
    }
   ],
   "source": [
    "# Chosen\n",
    "# (n_batch_b=500, n_batch_B=1, iters=100) # 100 updates\n",
    "plt.plot(history['gradients'])"
   ]
  },
  {
   "cell_type": "code",
   "execution_count": 94,
   "id": "wicked-waterproof",
   "metadata": {},
   "outputs": [
    {
     "data": {
      "text/plain": [
       "<matplotlib.image.AxesImage at 0x7f83d23d1550>"
      ]
     },
     "execution_count": 94,
     "metadata": {},
     "output_type": "execute_result"
    },
    {
     "data": {
      "image/png": "[encoded data removed]",
      "text/plain": [
       "<Figure size 432x288 with 1 Axes>"
      ]
     },
     "metadata": {
      "needs_background": "light"
     },
     "output_type": "display_data"
    }
   ],
   "source": [
    "plt.imshow(torch.exp(Mbar_infoNCE_500_1_100.detach().cpu()), extent=[7,45,36,14])"
   ]
  },
  {
   "cell_type": "code",
   "execution_count": 95,
   "id": "toxic-monthly",
   "metadata": {
    "scrolled": false
   },
   "outputs": [
    {
     "data": {
      "text/plain": [
       "<matplotlib.image.AxesImage at 0x7f83d23aa700>"
      ]
     },
     "execution_count": 95,
     "metadata": {},
     "output_type": "execute_result"
    },
    {
     "data": {
      "image/png": "[encoded data removed]",
      "text/plain": [
       "<Figure size 432x288 with 1 Axes>"
      ]
     },
     "metadata": {
      "needs_background": "light"
     },
     "output_type": "display_data"
    }
   ],
   "source": [
    "plt.imshow(torch.exp(M_infoNCE_500_1_100.detach().cpu()), extent=[7,45,36,14])"
   ]
  },
  {
   "cell_type": "code",
   "execution_count": null,
   "id": "authentic-relaxation",
   "metadata": {},
   "outputs": [],
   "source": []
  },
  {
   "cell_type": "markdown",
   "id": "secure-assessment",
   "metadata": {},
   "source": [
    "## (n_batch_b=50, n_batch_B=1, iters=1000)\n",
    "\n",
    "```\n",
    "- one loss   per 50by50 batch matrix\n",
    "- one update per 1 losses\n",
    "- 1000updates\n",
    "- 50k datapoints drawn\n",
    "```"
   ]
  },
  {
   "cell_type": "code",
   "execution_count": 236,
   "id": "dedicated-estate",
   "metadata": {},
   "outputs": [],
   "source": [
    "n_batch_b=50; n_batch_B=1; iters=1000-1\n",
    "Mbar_infoNCE_50_1_1000 = torch.from_numpy(np.load(f'birthwt_training_bB_results/Mbar_infoNCE_bB_{n_batch_b}_{n_batch_B}_{iters}.npy'))\n",
    "M_infoNCE_50_1_1000 = torch.from_numpy(np.load(f'birthwt_training_bB_results/M_infoNCE_bB_{n_batch_b}_{n_batch_B}_{iters}.npy'))"
   ]
  },
  {
   "cell_type": "code",
   "execution_count": 237,
   "id": "trained-promotion",
   "metadata": {},
   "outputs": [
    {
     "data": {
      "text/plain": [
       "tensor(0.0005, dtype=torch.float64)"
      ]
     },
     "execution_count": 237,
     "metadata": {},
     "output_type": "execute_result"
    }
   ],
   "source": [
    "# Compare Mbar with xy\n",
    "F_infoNCE_50_1_1000 = torch.exp(Mbar_infoNCE_50_1_1000)\n",
    "F_infoNCE_normalized_50_1_1000 = F_infoNCE_50_1_1000/torch.sum(F_infoNCE_50_1_1000)\n",
    "log_F_infoNCE_normalized_50_1_1000 = torch.log(F_infoNCE_normalized_50_1_1000)\n",
    "\n",
    "F.kl_div(log_F_infoNCE_normalized_50_1_1000, torch.from_numpy(xy))"
   ]
  },
  {
   "cell_type": "code",
   "execution_count": 243,
   "id": "durable-barrel",
   "metadata": {},
   "outputs": [
    {
     "name": "stdout",
     "output_type": "stream",
     "text": [
      "tensor(-0.0004, dtype=torch.float64)\n"
     ]
    }
   ],
   "source": [
    "# use F as k*p(x,y)/pxpy to recover xy\n",
    "F_infoNCE_50_1_1000 = torch.exp(Mbar_infoNCE_50_1_1000)\n",
    "recover_xy(F_infoNCE_50_1_1000, xy, xyind)"
   ]
  },
  {
   "cell_type": "code",
   "execution_count": 249,
   "id": "unsigned-therapist",
   "metadata": {},
   "outputs": [
    {
     "data": {
      "text/plain": [
       "tensor(371.6849)"
      ]
     },
     "execution_count": 249,
     "metadata": {},
     "output_type": "execute_result"
    }
   ],
   "source": [
    "# estimate K\n",
    "torch.sum(F_infoNCE_50_1_1000) / np.sum(xy/xyind)"
   ]
  },
  {
   "cell_type": "code",
   "execution_count": 99,
   "id": "verified-accent",
   "metadata": {},
   "outputs": [
    {
     "data": {
      "text/plain": [
       "[<matplotlib.lines.Line2D at 0x7f83d22a8df0>]"
      ]
     },
     "execution_count": 99,
     "metadata": {},
     "output_type": "execute_result"
    },
    {
     "data": {
      "image/png": "[encoded data removed]",
      "text/plain": [
       "<Figure size 432x288 with 1 Axes>"
      ]
     },
     "metadata": {
      "needs_background": "light"
     },
     "output_type": "display_data"
    }
   ],
   "source": [
    "# Chosen\n",
    "# (n_batch_b=50, n_batch_B=1, iters=1000) # 1000 updates\n",
    "plt.plot(history['loss'])"
   ]
  },
  {
   "cell_type": "code",
   "execution_count": 100,
   "id": "inappropriate-polish",
   "metadata": {},
   "outputs": [
    {
     "data": {
      "text/plain": [
       "[<matplotlib.lines.Line2D at 0x7f83d2208670>]"
      ]
     },
     "execution_count": 100,
     "metadata": {},
     "output_type": "execute_result"
    },
    {
     "data": {
      "image/png": "[encoded data removed]",
      "text/plain": [
       "<Figure size 432x288 with 1 Axes>"
      ]
     },
     "metadata": {
      "needs_background": "light"
     },
     "output_type": "display_data"
    }
   ],
   "source": [
    "# Chosen\n",
    "# (n_batch_b=50, n_batch_B=1, iters=1000) # 1000 updates\n",
    "plt.plot(history['M_var'])"
   ]
  },
  {
   "cell_type": "code",
   "execution_count": 101,
   "id": "other-nation",
   "metadata": {
    "scrolled": true
   },
   "outputs": [
    {
     "data": {
      "text/plain": [
       "[<matplotlib.lines.Line2D at 0x7f83d21e3640>]"
      ]
     },
     "execution_count": 101,
     "metadata": {},
     "output_type": "execute_result"
    },
    {
     "data": {
      "image/png": "[encoded data removed]",
      "text/plain": [
       "<Figure size 432x288 with 1 Axes>"
      ]
     },
     "metadata": {
      "needs_background": "light"
     },
     "output_type": "display_data"
    }
   ],
   "source": [
    "# Chosen\n",
    "# (n_batch_b=50, n_batch_B=1, iters=1000) # 1000 updates\n",
    "plt.plot(history['gradients'])"
   ]
  },
  {
   "cell_type": "code",
   "execution_count": 109,
   "id": "ongoing-calgary",
   "metadata": {},
   "outputs": [
    {
     "data": {
      "text/plain": [
       "<matplotlib.image.AxesImage at 0x7f83d2d2e8e0>"
      ]
     },
     "execution_count": 109,
     "metadata": {},
     "output_type": "execute_result"
    },
    {
     "data": {
      "image/png": "[encoded data removed]",
      "text/plain": [
       "<Figure size 432x288 with 1 Axes>"
      ]
     },
     "metadata": {
      "needs_background": "light"
     },
     "output_type": "display_data"
    }
   ],
   "source": [
    "plt.imshow(torch.exp(Mbar_infoNCE_50_1_1000.detach().cpu()), extent=[7,45,36,14])"
   ]
  },
  {
   "cell_type": "code",
   "execution_count": 110,
   "id": "protecting-heather",
   "metadata": {
    "scrolled": false
   },
   "outputs": [
    {
     "data": {
      "text/plain": [
       "<matplotlib.image.AxesImage at 0x7f83d2d5aa00>"
      ]
     },
     "execution_count": 110,
     "metadata": {},
     "output_type": "execute_result"
    },
    {
     "data": {
      "image/png": "[encoded data removed]",
      "text/plain": [
       "<Figure size 432x288 with 1 Axes>"
      ]
     },
     "metadata": {
      "needs_background": "light"
     },
     "output_type": "display_data"
    }
   ],
   "source": [
    "plt.imshow(torch.exp(M_infoNCE_50_1_1000.detach().cpu()), extent=[7,45,36,14])"
   ]
  },
  {
   "cell_type": "code",
   "execution_count": 113,
   "id": "placed-blame",
   "metadata": {},
   "outputs": [
    {
     "data": {
      "text/plain": [
       "<matplotlib.image.AxesImage at 0x7f83d2e256d0>"
      ]
     },
     "execution_count": 113,
     "metadata": {},
     "output_type": "execute_result"
    },
    {
     "data": {
      "image/png": "[encoded data removed]",
      "text/plain": [
       "<Figure size 432x288 with 1 Axes>"
      ]
     },
     "metadata": {
      "needs_background": "light"
     },
     "output_type": "display_data"
    }
   ],
   "source": [
    "plt.imshow(torch.exp(M_infoNCE_50_1_1000.detach().cpu())*xyind)"
   ]
  },
  {
   "cell_type": "code",
   "execution_count": null,
   "id": "overall-vegetable",
   "metadata": {},
   "outputs": [],
   "source": []
  },
  {
   "cell_type": "code",
   "execution_count": null,
   "id": "empty-litigation",
   "metadata": {},
   "outputs": [],
   "source": []
  },
  {
   "cell_type": "code",
   "execution_count": null,
   "id": "historic-receptor",
   "metadata": {},
   "outputs": [],
   "source": [
    "# This is what we want!\n",
    "# control for number of gradient updates and number of datapoints drawn\n",
    "# (n_batch_b=5, n_batch_B=100, iters=10000) # 100 updates  # 10k * 5 datapoints\n",
    "# (n_batch_b=50, n_batch_B=10, iters=1000)  # 100 updates  # 10k * 5 datapoints\n",
    "# (n_batch_b=500, n_batch_B=1, iters=100)   # 100 updates  # 10k * 5 datapoints "
   ]
  },
  {
   "cell_type": "code",
   "execution_count": null,
   "id": "adapted-river",
   "metadata": {},
   "outputs": [],
   "source": [
    "# Not what we want\n",
    "# controls for number of b by b matrices drawn\n",
    "# (n_batch_b=5, n_batch_B=100, iters=10000) # 10000 matrices  # 10k * 5 datapoints\n",
    "# (n_batch_b=50, n_batch_B=10, iters=10000) # 10000 matrices  # 10k * 50 datapoints\n",
    "# (n_batch_b=500, n_batch_B=10, iters=10000) # 10000 matrices # 10k * 500 datapoints"
   ]
  },
  {
   "cell_type": "code",
   "execution_count": null,
   "id": "canadian-wound",
   "metadata": {},
   "outputs": [],
   "source": [
    "# This is what we want!\n",
    "# (n_batch_b=50, n_batch_B=10, iters=1000)  # 100 updates  # 10k * 5 datapoints\n",
    "# (n_batch_b=50, n_batch_B=1, iters=1000)  # 1000 updates  # 10k * 5 datapoints"
   ]
  },
  {
   "cell_type": "code",
   "execution_count": null,
   "id": "detailed-examination",
   "metadata": {},
   "outputs": [],
   "source": []
  }
 ],
 "metadata": {
  "kernelspec": {
   "display_name": "Python 3",
   "language": "python",
   "name": "python3"
  },
  "language_info": {
   "codemirror_mode": {
    "name": "ipython",
    "version": 3
   },
   "file_extension": ".py",
   "mimetype": "text/x-python",
   "name": "python",
   "nbconvert_exporter": "python",
   "pygments_lexer": "ipython3",
   "version": "3.8.3"
  }
 },
 "nbformat": 4,
 "nbformat_minor": 5
}

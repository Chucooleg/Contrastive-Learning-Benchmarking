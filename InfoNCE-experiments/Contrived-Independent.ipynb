{
 "cells": [
  {
   "cell_type": "code",
   "execution_count": 2,
   "id": "union-thesis",
   "metadata": {},
   "outputs": [],
   "source": [
    "import torch\n",
    "import torch.nn.functional as F\n",
    "import numpy as np\n",
    "from tqdm import tqdm\n",
    "import matplotlib.pyplot as plt"
   ]
  },
  {
   "cell_type": "markdown",
   "id": "julian-venice",
   "metadata": {},
   "source": [
    "## Data"
   ]
  },
  {
   "cell_type": "code",
   "execution_count": 3,
   "id": "welsh-underground",
   "metadata": {
    "scrolled": true
   },
   "outputs": [
    {
     "data": {
      "text/plain": [
       "array([[0.00147929, 0.00147929, 0.00147929, 0.00147929, 0.00147929,\n",
       "        0.00591716, 0.01183432, 0.00591716, 0.00147929, 0.00147929,\n",
       "        0.00147929, 0.00147929, 0.00147929],\n",
       "       [0.00147929, 0.00147929, 0.00147929, 0.00147929, 0.00147929,\n",
       "        0.00591716, 0.01183432, 0.00591716, 0.00147929, 0.00147929,\n",
       "        0.00147929, 0.00147929, 0.00147929],\n",
       "       [0.00147929, 0.00147929, 0.00147929, 0.00147929, 0.00147929,\n",
       "        0.00591716, 0.01183432, 0.00591716, 0.00147929, 0.00147929,\n",
       "        0.00147929, 0.00147929, 0.00147929],\n",
       "       [0.00147929, 0.00147929, 0.00147929, 0.00147929, 0.00147929,\n",
       "        0.00591716, 0.01183432, 0.00591716, 0.00147929, 0.00147929,\n",
       "        0.00147929, 0.00147929, 0.00147929],\n",
       "       [0.00147929, 0.00147929, 0.00147929, 0.00147929, 0.00147929,\n",
       "        0.00591716, 0.01183432, 0.00591716, 0.00147929, 0.00147929,\n",
       "        0.00147929, 0.00147929, 0.00147929],\n",
       "       [0.00591716, 0.00591716, 0.00591716, 0.00591716, 0.00591716,\n",
       "        0.02366864, 0.04733728, 0.02366864, 0.00591716, 0.00591716,\n",
       "        0.00591716, 0.00591716, 0.00591716],\n",
       "       [0.01183432, 0.01183432, 0.01183432, 0.01183432, 0.01183432,\n",
       "        0.04733728, 0.09467456, 0.04733728, 0.01183432, 0.01183432,\n",
       "        0.01183432, 0.01183432, 0.01183432],\n",
       "       [0.00591716, 0.00591716, 0.00591716, 0.00591716, 0.00591716,\n",
       "        0.02366864, 0.04733728, 0.02366864, 0.00591716, 0.00591716,\n",
       "        0.00591716, 0.00591716, 0.00591716],\n",
       "       [0.00147929, 0.00147929, 0.00147929, 0.00147929, 0.00147929,\n",
       "        0.00591716, 0.01183432, 0.00591716, 0.00147929, 0.00147929,\n",
       "        0.00147929, 0.00147929, 0.00147929],\n",
       "       [0.00147929, 0.00147929, 0.00147929, 0.00147929, 0.00147929,\n",
       "        0.00591716, 0.01183432, 0.00591716, 0.00147929, 0.00147929,\n",
       "        0.00147929, 0.00147929, 0.00147929],\n",
       "       [0.00147929, 0.00147929, 0.00147929, 0.00147929, 0.00147929,\n",
       "        0.00591716, 0.01183432, 0.00591716, 0.00147929, 0.00147929,\n",
       "        0.00147929, 0.00147929, 0.00147929],\n",
       "       [0.00147929, 0.00147929, 0.00147929, 0.00147929, 0.00147929,\n",
       "        0.00591716, 0.01183432, 0.00591716, 0.00147929, 0.00147929,\n",
       "        0.00147929, 0.00147929, 0.00147929],\n",
       "       [0.00147929, 0.00147929, 0.00147929, 0.00147929, 0.00147929,\n",
       "        0.00591716, 0.01183432, 0.00591716, 0.00147929, 0.00147929,\n",
       "        0.00147929, 0.00147929, 0.00147929]])"
      ]
     },
     "execution_count": 3,
     "metadata": {},
     "output_type": "execute_result"
    }
   ],
   "source": [
    "x = [1,1,1,1,1,4,8,4,1,1,1,1,1]\n",
    "y = [1,1,1,1,1,4,8,4,1,1,1,1,1]\n",
    "x = x/np.sum(x)          # p(x)\n",
    "y = y/np.sum(y)          # p(y)\n",
    "xy = y[None].T @ x[None] # p(x,y)\n",
    "\n",
    "xy = xy/np.sum(xy)\n",
    "\n",
    "xy"
   ]
  },
  {
   "cell_type": "markdown",
   "id": "forbidden-recycling",
   "metadata": {},
   "source": [
    "## p(x,y)/p(x)p(y)"
   ]
  },
  {
   "cell_type": "code",
   "execution_count": 4,
   "id": "overhead-clause",
   "metadata": {
    "scrolled": true
   },
   "outputs": [
    {
     "data": {
      "text/plain": [
       "<matplotlib.image.AxesImage at 0x7f7b916641c0>"
      ]
     },
     "execution_count": 4,
     "metadata": {},
     "output_type": "execute_result"
    },
    {
     "data": {
      "image/png": "[encoded data removed]",
      "text/plain": [
       "<Figure size 432x288 with 1 Axes>"
      ]
     },
     "metadata": {
      "needs_background": "light"
     },
     "output_type": "display_data"
    }
   ],
   "source": [
    "x = np.sum(xy,0)\n",
    "y = np.sum(xy,1)\n",
    "xyind = y[None].T @ x[None]\n",
    "plt.imshow(xy/xyind)"
   ]
  },
  {
   "cell_type": "markdown",
   "id": "distant-subdivision",
   "metadata": {},
   "source": [
    "## p(x,y)"
   ]
  },
  {
   "cell_type": "code",
   "execution_count": 5,
   "id": "domestic-africa",
   "metadata": {
    "scrolled": true
   },
   "outputs": [
    {
     "data": {
      "text/plain": [
       "<matplotlib.image.AxesImage at 0x7f7b91542bb0>"
      ]
     },
     "execution_count": 5,
     "metadata": {},
     "output_type": "execute_result"
    },
    {
     "data": {
      "image/png": "[encoded data removed]",
      "text/plain": [
       "<Figure size 432x288 with 1 Axes>"
      ]
     },
     "metadata": {
      "needs_background": "light"
     },
     "output_type": "display_data"
    }
   ],
   "source": [
    "plt.imshow(xy)"
   ]
  },
  {
   "cell_type": "code",
   "execution_count": 6,
   "id": "varying-motor",
   "metadata": {
    "scrolled": true
   },
   "outputs": [
    {
     "data": {
      "text/plain": [
       "<matplotlib.image.AxesImage at 0x7f7b91529700>"
      ]
     },
     "execution_count": 6,
     "metadata": {},
     "output_type": "execute_result"
    },
    {
     "data": {
      "image/png": "[encoded data removed]",
      "text/plain": [
       "<Figure size 432x288 with 1 Axes>"
      ]
     },
     "metadata": {
      "needs_background": "light"
     },
     "output_type": "display_data"
    }
   ],
   "source": [
    "plt.imshow(xyind)"
   ]
  },
  {
   "cell_type": "markdown",
   "id": "mexican-netscape",
   "metadata": {},
   "source": [
    "## Experiments"
   ]
  },
  {
   "cell_type": "code",
   "execution_count": 25,
   "id": "guided-singles",
   "metadata": {},
   "outputs": [],
   "source": [
    "def run_expr_joint(n_batch, iters):\n",
    "    '''\n",
    "    model pxy directly\n",
    "    '''\n",
    "    torch.manual_seed(42)\n",
    "    \n",
    "    M = torch.randn(xy.shape, requires_grad = True)\n",
    "    print(M[0, :5])\n",
    "    \n",
    "    optimizer = torch.optim.SGD([M],1, 0.99)\n",
    "    Mbar = M.data\n",
    "\n",
    "    history = {'loss':[]}\n",
    "    \n",
    "    for iteration in tqdm(range(1,iters)):\n",
    "\n",
    "        samples = [np.random.choice(range(xy.reshape(-1).shape[0]), p=xy.reshape(-1)) for i in range(n_batch)]\n",
    "        samples = np.array([(xi//x.shape[0], xi%x.shape[0]) for xi in samples])\n",
    "#         import pdb; pdb.set_trace()\n",
    "        \n",
    "        optimizer.zero_grad()\n",
    "\n",
    "        F = torch.exp(M)\n",
    "\n",
    "        loss = 0\n",
    "        for i in range(n_batch):\n",
    "            lossi = F[samples[i,0],samples[i,1]]/torch.sum(F[:,:])\n",
    "            loss = loss + torch.log(lossi) \n",
    "        loss = -1*loss/n_batch\n",
    "        loss.backward()\n",
    "        optimizer.step()\n",
    "        history['loss'].append(loss.item())\n",
    "        Mbar = (1-1/iteration)*Mbar + (1/iteration)*M.data\n",
    "\n",
    "        if iteration % 1000 == 0:\n",
    "            print(torch.var(M))\n",
    "            plt.imshow(Mbar.detach().cpu().numpy())\n",
    "            plt.savefig(f\"contrived_independent_training_results/Mbar_joint_{n_batch}_{iteration}.png\")\n",
    "\n",
    "    np.save(f'contrived_independent_training_results/Mbar_joint_{n_batch}_{iteration}.npy', Mbar.detach().cpu().numpy())\n",
    "    np.save(f'contrived_independent_training_results/M_joint_{n_batch}_{iteration}.npy', M.detach().cpu().numpy())\n",
    "    np.save(f'contrived_independent_training_results/training_loss_joint_{n_batch}_{iteration}.npy', np.array(history['loss']))\n",
    "    return M, Mbar, history"
   ]
  },
  {
   "cell_type": "code",
   "execution_count": 26,
   "id": "impressive-blame",
   "metadata": {},
   "outputs": [
    {
     "name": "stderr",
     "output_type": "stream",
     "text": [
      "  0%|          | 3/1999 [00:00<01:23, 23.87it/s]"
     ]
    },
    {
     "name": "stdout",
     "output_type": "stream",
     "text": [
      "tensor([ 1.9269,  1.4873,  0.9007, -2.1055,  0.6784], grad_fn=<SliceBackward>)\n"
     ]
    },
    {
     "name": "stderr",
     "output_type": "stream",
     "text": [
      " 50%|█████     | 1002/1999 [00:39<00:43, 22.93it/s]"
     ]
    },
    {
     "name": "stdout",
     "output_type": "stream",
     "text": [
      "tensor(1.1456, grad_fn=<VarBackward0>)\n"
     ]
    },
    {
     "name": "stderr",
     "output_type": "stream",
     "text": [
      "100%|██████████| 1999/1999 [01:17<00:00, 25.85it/s]\n"
     ]
    },
    {
     "data": {
      "image/png": "[encoded data removed]",
      "text/plain": [
       "<Figure size 432x288 with 1 Axes>"
      ]
     },
     "metadata": {
      "needs_background": "light"
     },
     "output_type": "display_data"
    }
   ],
   "source": [
    "# model pxy directly\n",
    "M, Mbar, history = run_expr_joint(n_batch=500, iters=2000)"
   ]
  },
  {
   "cell_type": "code",
   "execution_count": 28,
   "id": "freelance-catalyst",
   "metadata": {},
   "outputs": [],
   "source": [
    "Mbar_joint = torch.from_numpy(np.load(f'contrived_independent_training_results/Mbar_joint_{500}_{1999}.npy'))\n",
    "M_joint = torch.from_numpy(np.load(f'contrived_independent_training_results/M_joint_{500}_{1999}.npy'))"
   ]
  },
  {
   "cell_type": "code",
   "execution_count": 29,
   "id": "gross-swift",
   "metadata": {},
   "outputs": [
    {
     "data": {
      "text/plain": [
       "<matplotlib.image.AxesImage at 0x7fa5302bb280>"
      ]
     },
     "execution_count": 29,
     "metadata": {},
     "output_type": "execute_result"
    },
    {
     "data": {
      "image/png": "[encoded data removed]",
      "text/plain": [
       "<Figure size 432x288 with 1 Axes>"
      ]
     },
     "metadata": {
      "needs_background": "light"
     },
     "output_type": "display_data"
    }
   ],
   "source": [
    "plt.imshow(torch.exp(Mbar_joint))"
   ]
  },
  {
   "cell_type": "code",
   "execution_count": 30,
   "id": "continuing-elite",
   "metadata": {},
   "outputs": [
    {
     "data": {
      "text/plain": [
       "<matplotlib.image.AxesImage at 0x7fa53020a280>"
      ]
     },
     "execution_count": 30,
     "metadata": {},
     "output_type": "execute_result"
    },
    {
     "data": {
      "image/png": "[encoded data removed]",
      "text/plain": [
       "<Figure size 432x288 with 1 Axes>"
      ]
     },
     "metadata": {
      "needs_background": "light"
     },
     "output_type": "display_data"
    }
   ],
   "source": [
    "plt.imshow(torch.exp(M_joint))"
   ]
  },
  {
   "cell_type": "code",
   "execution_count": 31,
   "id": "collaborative-calvin",
   "metadata": {},
   "outputs": [
    {
     "data": {
      "text/plain": [
       "[<matplotlib.lines.Line2D at 0x7fa5301e0520>]"
      ]
     },
     "execution_count": 31,
     "metadata": {},
     "output_type": "execute_result"
    },
    {
     "data": {
      "image/png": "[encoded data removed]",
      "text/plain": [
       "<Figure size 432x288 with 1 Axes>"
      ]
     },
     "metadata": {
      "needs_background": "light"
     },
     "output_type": "display_data"
    }
   ],
   "source": [
    "plt.plot(history['loss'])"
   ]
  },
  {
   "cell_type": "code",
   "execution_count": 34,
   "id": "critical-mystery",
   "metadata": {},
   "outputs": [
    {
     "name": "stderr",
     "output_type": "stream",
     "text": [
      "/home/user/miniconda/lib/python3.8/site-packages/torch/nn/functional.py:2398: UserWarning: reduction: 'mean' divides the total loss by both the batch size and the support size.'batchmean' divides only by the batch size, and aligns with the KL div math definition.'mean' will be changed to behave the same as 'batchmean' in the next major release.\n",
      "  warnings.warn(\"reduction: 'mean' divides the total loss by both the batch size and the support size.\"\n"
     ]
    },
    {
     "data": {
      "text/plain": [
       "tensor(5.8801e-06, dtype=torch.float64)"
      ]
     },
     "execution_count": 34,
     "metadata": {},
     "output_type": "execute_result"
    }
   ],
   "source": [
    "# Compare Fbar=exp(Mbar) with xy\n",
    "F_joint = torch.exp(Mbar_joint)\n",
    "F_joint_normalized = F_joint/torch.sum(F_joint)\n",
    "log_F_joint_normalized = torch.log(F_joint_normalized)\n",
    "\n",
    "F.kl_div(log_F_joint_normalized, torch.from_numpy(xy))"
   ]
  },
  {
   "cell_type": "code",
   "execution_count": 35,
   "id": "seventh-deficit",
   "metadata": {},
   "outputs": [],
   "source": [
    "def run_expr_pseudo(n_batch, iters):\n",
    "    '''\n",
    "    model x|y and y|x\n",
    "    '''\n",
    "    torch.manual_seed(42)\n",
    "    \n",
    "    M = torch.randn(xy.shape, requires_grad = True)\n",
    "    print(M[0, :5])\n",
    "    \n",
    "    optimizer = torch.optim.SGD([M],1, 0.99)\n",
    "    Mbar = M.data\n",
    "\n",
    "    history = {'loss':[]}\n",
    "    \n",
    "    for iteration in tqdm(range(1,iters)):\n",
    "\n",
    "        samples = [np.random.choice(range(xy.reshape(-1).shape[0]), p=xy.reshape(-1)) for i in range(n_batch)]\n",
    "        samples = np.array([(xi//x.shape[0], xi%x.shape[0]) for xi in samples])\n",
    "#         import pdb; pdb.set_trace()\n",
    "        \n",
    "        optimizer.zero_grad()\n",
    "\n",
    "        F = torch.exp(M)\n",
    "\n",
    "        loss = 0\n",
    "        for i in range(n_batch):\n",
    "            lossi_x = F[samples[i,0],samples[i,1]]/torch.sum(F[samples[i,0], range(xy.shape[1])])\n",
    "            lossi_y = F[samples[i,0],samples[i,1]]/torch.sum(F[range(xy.shape[0]), samples[i,1]])\n",
    "\n",
    "            loss = loss + ((torch.log(lossi_x) + torch.log(lossi_y)) * 0.5)\n",
    "            \n",
    "        loss = -1*loss/n_batch\n",
    "        loss.backward()\n",
    "        optimizer.step()\n",
    "        history['loss'].append(loss.item())\n",
    "        Mbar = (1-1/iteration)*Mbar + (1/iteration)*M.data\n",
    "\n",
    "        if iteration % 1000 == 0:\n",
    "            print(torch.var(M))\n",
    "            plt.imshow(Mbar.detach().cpu().numpy())\n",
    "            plt.savefig(f\"contrived_independent_training_results/Mbar_pseudo_{n_batch}_{iteration}.png\")\n",
    "\n",
    "    np.save(f'contrived_independent_training_results/Mbar_pseudo_{n_batch}_{iteration}.npy', Mbar.detach().cpu().numpy())\n",
    "    np.save(f'contrived_independent_training_results/M_pseudo_{n_batch}_{iteration}.npy', M.detach().cpu().numpy())\n",
    "    np.save(f'contrived_independent_training_results/training_loss_pseudo_{n_batch}_{iteration}.npy', np.array(history['loss']))\n",
    "    return M, Mbar, history"
   ]
  },
  {
   "cell_type": "code",
   "execution_count": 36,
   "id": "foster-recognition",
   "metadata": {
    "scrolled": true
   },
   "outputs": [
    {
     "name": "stderr",
     "output_type": "stream",
     "text": [
      "  0%|          | 2/1999 [00:00<02:39, 12.53it/s]"
     ]
    },
    {
     "name": "stdout",
     "output_type": "stream",
     "text": [
      "tensor([ 1.9269,  1.4873,  0.9007, -2.1055,  0.6784], grad_fn=<SliceBackward>)\n"
     ]
    },
    {
     "name": "stderr",
     "output_type": "stream",
     "text": [
      " 50%|█████     | 1000/1999 [01:23<01:29, 11.21it/s]"
     ]
    },
    {
     "name": "stdout",
     "output_type": "stream",
     "text": [
      "tensor(1.1391, grad_fn=<VarBackward0>)\n"
     ]
    },
    {
     "name": "stderr",
     "output_type": "stream",
     "text": [
      "100%|██████████| 1999/1999 [02:45<00:00, 12.07it/s]\n"
     ]
    },
    {
     "data": {
      "image/png": "[encoded data removed]",
      "text/plain": [
       "<Figure size 432x288 with 1 Axes>"
      ]
     },
     "metadata": {
      "needs_background": "light"
     },
     "output_type": "display_data"
    }
   ],
   "source": [
    "# Correct\n",
    "# model full px|y and py|x directly\n",
    "M, Mbar, history = run_expr_pseudo(n_batch=500, iters=2000)"
   ]
  },
  {
   "cell_type": "code",
   "execution_count": 38,
   "id": "marine-hughes",
   "metadata": {},
   "outputs": [],
   "source": [
    "Mbar_pseudo = torch.from_numpy(np.load(f'contrived_independent_training_results/Mbar_pseudo_{500}_{1999}.npy'))\n",
    "M_pseudo = torch.from_numpy(np.load(f'contrived_independent_training_results/M_pseudo_{500}_{1999}.npy'))"
   ]
  },
  {
   "cell_type": "code",
   "execution_count": 39,
   "id": "hairy-penguin",
   "metadata": {},
   "outputs": [
    {
     "data": {
      "text/plain": [
       "<matplotlib.image.AxesImage at 0x7fa53043e880>"
      ]
     },
     "execution_count": 39,
     "metadata": {},
     "output_type": "execute_result"
    },
    {
     "data": {
      "image/png": "[encoded data removed]",
      "text/plain": [
       "<Figure size 432x288 with 1 Axes>"
      ]
     },
     "metadata": {
      "needs_background": "light"
     },
     "output_type": "display_data"
    }
   ],
   "source": [
    "plt.imshow(torch.exp(Mbar_pseudo))"
   ]
  },
  {
   "cell_type": "code",
   "execution_count": 40,
   "id": "utility-testament",
   "metadata": {},
   "outputs": [
    {
     "data": {
      "text/plain": [
       "<matplotlib.image.AxesImage at 0x7fa5300d0100>"
      ]
     },
     "execution_count": 40,
     "metadata": {},
     "output_type": "execute_result"
    },
    {
     "data": {
      "image/png": "[encoded data removed]",
      "text/plain": [
       "<Figure size 432x288 with 1 Axes>"
      ]
     },
     "metadata": {
      "needs_background": "light"
     },
     "output_type": "display_data"
    }
   ],
   "source": [
    "plt.imshow(torch.exp(M_pseudo))"
   ]
  },
  {
   "cell_type": "code",
   "execution_count": 37,
   "id": "established-heater",
   "metadata": {},
   "outputs": [
    {
     "data": {
      "text/plain": [
       "[<matplotlib.lines.Line2D at 0x7fa530095b80>]"
      ]
     },
     "execution_count": 37,
     "metadata": {},
     "output_type": "execute_result"
    },
    {
     "data": {
      "image/png": "[encoded data removed]",
      "text/plain": [
       "<Figure size 432x288 with 1 Axes>"
      ]
     },
     "metadata": {
      "needs_background": "light"
     },
     "output_type": "display_data"
    }
   ],
   "source": [
    "plt.plot(history['loss'])"
   ]
  },
  {
   "cell_type": "code",
   "execution_count": 41,
   "id": "multiple-element",
   "metadata": {},
   "outputs": [
    {
     "data": {
      "text/plain": [
       "tensor(3.9604e-06, dtype=torch.float64)"
      ]
     },
     "execution_count": 41,
     "metadata": {},
     "output_type": "execute_result"
    }
   ],
   "source": [
    "# Compare Mbar with xy\n",
    "F_pseudo = torch.exp(Mbar_pseudo)\n",
    "F_pseudo_normalized = F_pseudo/torch.sum(F_pseudo)\n",
    "log_F_pseudo_normalized = torch.log(F_pseudo_normalized)\n",
    "\n",
    "F.kl_div(log_F_pseudo_normalized, torch.from_numpy(xy))"
   ]
  },
  {
   "cell_type": "code",
   "execution_count": null,
   "id": "stunning-kidney",
   "metadata": {},
   "outputs": [],
   "source": []
  },
  {
   "cell_type": "code",
   "execution_count": null,
   "id": "committed-border",
   "metadata": {},
   "outputs": [],
   "source": []
  },
  {
   "cell_type": "code",
   "execution_count": 7,
   "id": "consistent-constitutional",
   "metadata": {},
   "outputs": [],
   "source": [
    "def run_expr_infoNCE(n_batch, iters):\n",
    "    '''\n",
    "    infoNCE\n",
    "    '''\n",
    "    torch.manual_seed(42)\n",
    "    \n",
    "    M = torch.randn(xy.shape, requires_grad = True)\n",
    "    print(M[0, :5])\n",
    "    \n",
    "    optimizer = torch.optim.SGD([M],1, 0.99)\n",
    "    Mbar = M.data\n",
    "\n",
    "    history = {'loss':[]}\n",
    "    \n",
    "    for iteration in tqdm(range(1,iters)):\n",
    "\n",
    "        samples = [np.random.choice(range(xy.reshape(-1).shape[0]), p=xy.reshape(-1)) for i in range(n_batch)]\n",
    "        samples = np.array([(xi//x.shape[0], xi%x.shape[0]) for xi in samples])\n",
    "#         import pdb; pdb.set_trace()\n",
    "        \n",
    "        optimizer.zero_grad()\n",
    "\n",
    "        F = torch.exp(M)\n",
    "\n",
    "        loss = 0\n",
    "        for i in range(n_batch):\n",
    "            lossi_x = F[samples[i,0],samples[i,1]]/torch.sum(F[samples[i,0], samples[:,1]])\n",
    "            lossi_y = F[samples[i,0],samples[i,1]]/torch.sum(F[samples[:,0], samples[i,1]])\n",
    "            \n",
    "            loss = loss + ((torch.log(lossi_x) + torch.log(lossi_y)) * 0.5)\n",
    "            \n",
    "        loss = -1*loss/n_batch\n",
    "        loss.backward()\n",
    "        optimizer.step()\n",
    "        history['loss'].append(loss.item())\n",
    "        Mbar = (1-1/iteration)*Mbar + (1/iteration)*M.data\n",
    "\n",
    "        if iteration % 1000 == 0:\n",
    "            print(torch.var(M))\n",
    "            plt.imshow(Mbar.detach().cpu().numpy())\n",
    "            plt.savefig(f\"contrived_independent_training_results/Mbar_infoNCE_{n_batch}_{iteration}.png\")\n",
    "\n",
    "    np.save(f'contrived_independent_training_results/Mbar_infoNCE_{n_batch}_{iteration}.npy', Mbar.detach().cpu().numpy())\n",
    "    np.save(f'contrived_independent_training_results/M_infoNCE_{n_batch}_{iteration}.npy', M.detach().cpu().numpy())\n",
    "    np.save(f'contrived_independent_training_results/training_loss_infoNCE_{n_batch}_{iteration}.npy', np.array(history['loss']))\n",
    "    return M, Mbar, history"
   ]
  },
  {
   "cell_type": "code",
   "execution_count": 8,
   "id": "brave-stone",
   "metadata": {
    "scrolled": true
   },
   "outputs": [
    {
     "name": "stderr",
     "output_type": "stream",
     "text": [
      "  0%|          | 1/2499 [00:00<05:51,  7.10it/s]"
     ]
    },
    {
     "name": "stdout",
     "output_type": "stream",
     "text": [
      "tensor([ 1.9269,  1.4873,  0.9007, -2.1055,  0.6784], grad_fn=<SliceBackward>)\n"
     ]
    },
    {
     "name": "stderr",
     "output_type": "stream",
     "text": [
      " 40%|████      | 1001/2499 [01:24<02:17, 10.90it/s]"
     ]
    },
    {
     "name": "stdout",
     "output_type": "stream",
     "text": [
      "tensor(0.0918, grad_fn=<VarBackward0>)\n"
     ]
    },
    {
     "name": "stderr",
     "output_type": "stream",
     "text": [
      " 80%|████████  | 2001/2499 [02:47<00:43, 11.36it/s]"
     ]
    },
    {
     "name": "stdout",
     "output_type": "stream",
     "text": [
      "tensor(0.0857, grad_fn=<VarBackward0>)\n"
     ]
    },
    {
     "name": "stderr",
     "output_type": "stream",
     "text": [
      "100%|██████████| 2499/2499 [03:29<00:00, 11.95it/s]\n"
     ]
    },
    {
     "data": {
      "image/png": "[encoded data removed]",
      "text/plain": [
       "<Figure size 432x288 with 1 Axes>"
      ]
     },
     "metadata": {
      "needs_background": "light"
     },
     "output_type": "display_data"
    }
   ],
   "source": [
    "# Correct\n",
    "# info NCE both directions\n",
    "M, Mbar, history = run_expr_infoNCE(n_batch=500, iters=2500)"
   ]
  },
  {
   "cell_type": "code",
   "execution_count": 14,
   "id": "indian-equity",
   "metadata": {},
   "outputs": [],
   "source": [
    "Mbar_infoNCE = torch.from_numpy(np.load(f'contrived_independent_training_results/Mbar_infoNCE_{500}_{2499}.npy'))\n",
    "M_infoNCE = torch.from_numpy(np.load(f'contrived_independent_training_results/M_infoNCE_{500}_{2499}.npy'))"
   ]
  },
  {
   "cell_type": "code",
   "execution_count": 15,
   "id": "primary-separate",
   "metadata": {},
   "outputs": [
    {
     "data": {
      "text/plain": [
       "<matplotlib.image.AxesImage at 0x7f7b903d4040>"
      ]
     },
     "execution_count": 15,
     "metadata": {},
     "output_type": "execute_result"
    },
    {
     "data": {
      "image/png": "[encoded data removed]",
      "text/plain": [
       "<Figure size 432x288 with 1 Axes>"
      ]
     },
     "metadata": {
      "needs_background": "light"
     },
     "output_type": "display_data"
    }
   ],
   "source": [
    "plt.imshow(torch.exp(Mbar_infoNCE))"
   ]
  },
  {
   "cell_type": "code",
   "execution_count": 16,
   "id": "organized-atlanta",
   "metadata": {},
   "outputs": [
    {
     "data": {
      "text/plain": [
       "<matplotlib.image.AxesImage at 0x7f7b904116d0>"
      ]
     },
     "execution_count": 16,
     "metadata": {},
     "output_type": "execute_result"
    },
    {
     "data": {
      "image/png": "[encoded data removed]",
      "text/plain": [
       "<Figure size 432x288 with 1 Axes>"
      ]
     },
     "metadata": {
      "needs_background": "light"
     },
     "output_type": "display_data"
    }
   ],
   "source": [
    "plt.imshow(torch.exp(M_infoNCE))"
   ]
  },
  {
   "cell_type": "code",
   "execution_count": 17,
   "id": "final-million",
   "metadata": {},
   "outputs": [
    {
     "data": {
      "text/plain": [
       "[<matplotlib.lines.Line2D at 0x7f7b90234cd0>]"
      ]
     },
     "execution_count": 17,
     "metadata": {},
     "output_type": "execute_result"
    },
    {
     "data": {
      "image/png": "[encoded data removed]",
      "text/plain": [
       "<Figure size 432x288 with 1 Axes>"
      ]
     },
     "metadata": {
      "needs_background": "light"
     },
     "output_type": "display_data"
    }
   ],
   "source": [
    "plt.plot(history['loss'])"
   ]
  },
  {
   "cell_type": "code",
   "execution_count": 18,
   "id": "optional-tradition",
   "metadata": {},
   "outputs": [
    {
     "data": {
      "text/plain": [
       "tensor(0.0043, dtype=torch.float64)"
      ]
     },
     "execution_count": 18,
     "metadata": {},
     "output_type": "execute_result"
    }
   ],
   "source": [
    "# Compare Mbar with xy\n",
    "F_infoNCE = torch.exp(Mbar_infoNCE)\n",
    "F_infoNCE_normalized = F_infoNCE/torch.sum(F_infoNCE)\n",
    "log_F_infoNCE_normalized = torch.log(F_infoNCE_normalized)\n",
    "\n",
    "F.kl_div(log_F_infoNCE_normalized, torch.from_numpy(xy))"
   ]
  },
  {
   "cell_type": "code",
   "execution_count": null,
   "id": "fallen-barrel",
   "metadata": {},
   "outputs": [],
   "source": []
  }
 ],
 "metadata": {
  "kernelspec": {
   "display_name": "Python 3",
   "language": "python",
   "name": "python3"
  },
  "language_info": {
   "codemirror_mode": {
    "name": "ipython",
    "version": 3
   },
   "file_extension": ".py",
   "mimetype": "text/x-python",
   "name": "python",
   "nbconvert_exporter": "python",
   "pygments_lexer": "ipython3",
   "version": "3.8.3"
  }
 },
 "nbformat": 4,
 "nbformat_minor": 5
}

{
 "cells": [
  {
   "cell_type": "code",
   "execution_count": 6,
   "id": "union-thesis",
   "metadata": {},
   "outputs": [],
   "source": [
    "import torch\n",
    "import torch.nn.functional as F\n",
    "import numpy as np\n",
    "from tqdm import tqdm\n",
    "import matplotlib.pyplot as plt"
   ]
  },
  {
   "cell_type": "markdown",
   "id": "julian-venice",
   "metadata": {},
   "source": [
    "## Data"
   ]
  },
  {
   "cell_type": "code",
   "execution_count": 7,
   "id": "welsh-underground",
   "metadata": {
    "scrolled": true
   },
   "outputs": [
    {
     "data": {
      "text/plain": [
       "array([[0.03480231, 0.03480231, 0.03480231, 0.00102965, 0.00102965,\n",
       "        0.00411862, 0.00823723, 0.00411862, 0.00102965, 0.00102965,\n",
       "        0.00102965, 0.00102965, 0.00102965],\n",
       "       [0.03480231, 0.03480231, 0.03480231, 0.00102965, 0.00102965,\n",
       "        0.00411862, 0.00823723, 0.00411862, 0.00102965, 0.00102965,\n",
       "        0.00102965, 0.00102965, 0.00102965],\n",
       "       [0.03480231, 0.03480231, 0.03480231, 0.00102965, 0.00102965,\n",
       "        0.00411862, 0.00823723, 0.00411862, 0.00102965, 0.00102965,\n",
       "        0.00102965, 0.00102965, 0.00102965],\n",
       "       [0.00102965, 0.00102965, 0.00102965, 0.00102965, 0.00102965,\n",
       "        0.00411862, 0.00823723, 0.00411862, 0.00102965, 0.00102965,\n",
       "        0.00102965, 0.00102965, 0.00102965],\n",
       "       [0.00102965, 0.00102965, 0.00102965, 0.00102965, 0.00102965,\n",
       "        0.00411862, 0.00823723, 0.00411862, 0.00102965, 0.00102965,\n",
       "        0.00102965, 0.00102965, 0.00102965],\n",
       "       [0.00411862, 0.00411862, 0.00411862, 0.00411862, 0.00411862,\n",
       "        0.01647446, 0.03294893, 0.01647446, 0.00411862, 0.00411862,\n",
       "        0.00411862, 0.00411862, 0.00411862],\n",
       "       [0.00823723, 0.00823723, 0.00823723, 0.00823723, 0.00823723,\n",
       "        0.03294893, 0.06589786, 0.03294893, 0.00823723, 0.00823723,\n",
       "        0.00823723, 0.00823723, 0.00823723],\n",
       "       [0.00411862, 0.00411862, 0.00411862, 0.00411862, 0.00411862,\n",
       "        0.01647446, 0.03294893, 0.01647446, 0.00411862, 0.00411862,\n",
       "        0.00411862, 0.00411862, 0.00411862],\n",
       "       [0.00102965, 0.00102965, 0.00102965, 0.00102965, 0.00102965,\n",
       "        0.00411862, 0.00823723, 0.00411862, 0.00102965, 0.00102965,\n",
       "        0.00102965, 0.00102965, 0.00102965],\n",
       "       [0.00102965, 0.00102965, 0.00102965, 0.00102965, 0.00102965,\n",
       "        0.00411862, 0.00823723, 0.00411862, 0.00102965, 0.00102965,\n",
       "        0.00102965, 0.00102965, 0.00102965],\n",
       "       [0.00102965, 0.00102965, 0.00102965, 0.00102965, 0.00102965,\n",
       "        0.00411862, 0.00823723, 0.00411862, 0.00102965, 0.00102965,\n",
       "        0.00102965, 0.00102965, 0.00102965],\n",
       "       [0.00102965, 0.00102965, 0.00102965, 0.00102965, 0.00102965,\n",
       "        0.00411862, 0.00823723, 0.00411862, 0.00102965, 0.00102965,\n",
       "        0.00102965, 0.00102965, 0.00102965],\n",
       "       [0.00102965, 0.00102965, 0.00102965, 0.00102965, 0.00102965,\n",
       "        0.00411862, 0.00823723, 0.00411862, 0.00102965, 0.00102965,\n",
       "        0.00102965, 0.00102965, 0.00102965]])"
      ]
     },
     "execution_count": 7,
     "metadata": {},
     "output_type": "execute_result"
    }
   ],
   "source": [
    "x = [1,1,1,1,1,4,8,4,1,1,1,1,1]\n",
    "y = [1,1,1,1,1,4,8,4,1,1,1,1,1]\n",
    "x = x/np.sum(x)          # p(x)\n",
    "y = y/np.sum(y)          # p(y)\n",
    "xy = y[None].T @ x[None] # p(x,y)\n",
    "\n",
    "xy[0:3,0:3] = 0.05\n",
    "xy = xy/np.sum(xy)\n",
    "\n",
    "xy"
   ]
  },
  {
   "cell_type": "markdown",
   "id": "forbidden-recycling",
   "metadata": {},
   "source": [
    "## p(x,y)/p(x)p(y)"
   ]
  },
  {
   "cell_type": "code",
   "execution_count": 8,
   "id": "overhead-clause",
   "metadata": {
    "scrolled": true
   },
   "outputs": [
    {
     "data": {
      "text/plain": [
       "<matplotlib.image.AxesImage at 0x7f1fd837adf0>"
      ]
     },
     "execution_count": 8,
     "metadata": {},
     "output_type": "execute_result"
    },
    {
     "data": {
      "image/png": "[encoded data removed]",
      "text/plain": [
       "<Figure size 432x288 with 1 Axes>"
      ]
     },
     "metadata": {
      "needs_background": "light"
     },
     "output_type": "display_data"
    }
   ],
   "source": [
    "x = np.sum(xy,0)\n",
    "y = np.sum(xy,1)\n",
    "xyind = y[None].T @ x[None]\n",
    "plt.imshow(xy/xyind)"
   ]
  },
  {
   "cell_type": "markdown",
   "id": "distant-subdivision",
   "metadata": {},
   "source": [
    "## p(x,y)"
   ]
  },
  {
   "cell_type": "code",
   "execution_count": 9,
   "id": "domestic-africa",
   "metadata": {
    "scrolled": true
   },
   "outputs": [
    {
     "data": {
      "text/plain": [
       "<matplotlib.image.AxesImage at 0x7f1fd82d2a30>"
      ]
     },
     "execution_count": 9,
     "metadata": {},
     "output_type": "execute_result"
    },
    {
     "data": {
      "image/png": "[encoded data removed]",
      "text/plain": [
       "<Figure size 432x288 with 1 Axes>"
      ]
     },
     "metadata": {
      "needs_background": "light"
     },
     "output_type": "display_data"
    }
   ],
   "source": [
    "plt.imshow(xy)"
   ]
  },
  {
   "cell_type": "code",
   "execution_count": 10,
   "id": "varying-motor",
   "metadata": {
    "scrolled": true
   },
   "outputs": [
    {
     "data": {
      "text/plain": [
       "<matplotlib.image.AxesImage at 0x7f1fd82abe50>"
      ]
     },
     "execution_count": 10,
     "metadata": {},
     "output_type": "execute_result"
    },
    {
     "data": {
      "image/png": "[encoded data removed]",
      "text/plain": [
       "<Figure size 432x288 with 1 Axes>"
      ]
     },
     "metadata": {
      "needs_background": "light"
     },
     "output_type": "display_data"
    }
   ],
   "source": [
    "plt.imshow(xyind)"
   ]
  },
  {
   "cell_type": "markdown",
   "id": "mexican-netscape",
   "metadata": {},
   "source": [
    "## Experiments"
   ]
  },
  {
   "cell_type": "code",
   "execution_count": 11,
   "id": "worldwide-carry",
   "metadata": {},
   "outputs": [],
   "source": [
    "def run_expr_joint(n_batch, iters):\n",
    "    '''\n",
    "    model pxy directly\n",
    "    '''\n",
    "    torch.manual_seed(42)\n",
    "    \n",
    "    M = torch.randn(xy.shape, requires_grad = True)\n",
    "    print(M[0, :5])\n",
    "    \n",
    "    optimizer = torch.optim.SGD([M],1, 0.99)\n",
    "    Mbar = M.data\n",
    "\n",
    "    history = {'loss':[]}\n",
    "    \n",
    "    for iteration in tqdm(range(1,iters)):\n",
    "\n",
    "        samples = [np.random.choice(range(xy.reshape(-1).shape[0]), p=xy.reshape(-1)) for i in range(n_batch)]\n",
    "        samples = np.array([(xi//x.shape[0], xi%x.shape[0]) for xi in samples])\n",
    "#         import pdb; pdb.set_trace()\n",
    "        \n",
    "        optimizer.zero_grad()\n",
    "\n",
    "        F = torch.exp(M)\n",
    "\n",
    "        loss = 0\n",
    "        for i in range(n_batch):\n",
    "            lossi = F[samples[i,0],samples[i,1]]/torch.sum(F[:,:])\n",
    "            loss = loss + torch.log(lossi) \n",
    "        loss = -1*loss/n_batch\n",
    "        loss.backward()\n",
    "        optimizer.step()\n",
    "        history['loss'].append(loss.item())\n",
    "        Mbar = (1-1/iteration)*Mbar + (1/iteration)*M.data\n",
    "\n",
    "        if iteration % 1000 == 0:\n",
    "            print(torch.var(M))\n",
    "            plt.imshow(Mbar.detach().cpu().numpy())\n",
    "            plt.savefig(f\"contrived_dependent_training_results/Mbar_joint_{n_batch}_{iteration}.png\")\n",
    "\n",
    "    np.save(f'contrived_dependent_training_results/Mbar_joint_{n_batch}_{iteration}.npy', Mbar.detach().cpu().numpy())\n",
    "    np.save(f'contrived_dependent_training_results/M_joint_{n_batch}_{iteration}.npy', M.detach().cpu().numpy())\n",
    "    np.save(f'contrived_dependent_training_results/training_loss_joint_{n_batch}_{iteration}.npy', np.array(history['loss']))\n",
    "    return M, Mbar, history"
   ]
  },
  {
   "cell_type": "code",
   "execution_count": 12,
   "id": "rotary-square",
   "metadata": {},
   "outputs": [
    {
     "name": "stderr",
     "output_type": "stream",
     "text": [
      "  0%|          | 1/1999 [00:00<03:25,  9.73it/s]"
     ]
    },
    {
     "name": "stdout",
     "output_type": "stream",
     "text": [
      "tensor([ 1.9269,  1.4873,  0.9007, -2.1055,  0.6784], grad_fn=<SliceBackward>)\n"
     ]
    },
    {
     "name": "stderr",
     "output_type": "stream",
     "text": [
      " 50%|█████     | 1003/1999 [00:40<00:42, 23.26it/s]"
     ]
    },
    {
     "name": "stdout",
     "output_type": "stream",
     "text": [
      "tensor(1.5164, grad_fn=<VarBackward0>)\n"
     ]
    },
    {
     "name": "stderr",
     "output_type": "stream",
     "text": [
      "100%|██████████| 1999/1999 [01:19<00:00, 25.11it/s]\n"
     ]
    },
    {
     "data": {
      "image/png": "[encoded data removed]",
      "text/plain": [
       "<Figure size 432x288 with 1 Axes>"
      ]
     },
     "metadata": {
      "needs_background": "light"
     },
     "output_type": "display_data"
    }
   ],
   "source": [
    "# model pxy directly\n",
    "M, Mbar, history = run_expr_joint(n_batch=500, iters=2000)"
   ]
  },
  {
   "cell_type": "code",
   "execution_count": 13,
   "id": "contained-actor",
   "metadata": {},
   "outputs": [],
   "source": [
    "Mbar_joint = torch.from_numpy(np.load(f'contrived_dependent_training_results/Mbar_joint_{500}_{1999}.npy'))\n",
    "M_joint = torch.from_numpy(np.load(f'contrived_dependent_training_results/M_joint_{500}_{1999}.npy'))"
   ]
  },
  {
   "cell_type": "code",
   "execution_count": 14,
   "id": "industrial-signal",
   "metadata": {},
   "outputs": [
    {
     "data": {
      "text/plain": [
       "<matplotlib.image.AxesImage at 0x7f1fd837a610>"
      ]
     },
     "execution_count": 14,
     "metadata": {},
     "output_type": "execute_result"
    },
    {
     "data": {
      "image/png": "[encoded data removed]",
      "text/plain": [
       "<Figure size 432x288 with 1 Axes>"
      ]
     },
     "metadata": {
      "needs_background": "light"
     },
     "output_type": "display_data"
    }
   ],
   "source": [
    "plt.imshow(torch.exp(Mbar_joint))"
   ]
  },
  {
   "cell_type": "code",
   "execution_count": 15,
   "id": "vertical-affect",
   "metadata": {},
   "outputs": [
    {
     "data": {
      "text/plain": [
       "<matplotlib.image.AxesImage at 0x7f1fd8222d60>"
      ]
     },
     "execution_count": 15,
     "metadata": {},
     "output_type": "execute_result"
    },
    {
     "data": {
      "image/png": "[encoded data removed]",
      "text/plain": [
       "<Figure size 432x288 with 1 Axes>"
      ]
     },
     "metadata": {
      "needs_background": "light"
     },
     "output_type": "display_data"
    }
   ],
   "source": [
    "plt.imshow(torch.exp(M_joint))"
   ]
  },
  {
   "cell_type": "code",
   "execution_count": 16,
   "id": "engaged-mounting",
   "metadata": {},
   "outputs": [
    {
     "data": {
      "text/plain": [
       "[<matplotlib.lines.Line2D at 0x7f1fd4a63fd0>]"
      ]
     },
     "execution_count": 16,
     "metadata": {},
     "output_type": "execute_result"
    },
    {
     "data": {
      "image/png": "[encoded data removed]",
      "text/plain": [
       "<Figure size 432x288 with 1 Axes>"
      ]
     },
     "metadata": {
      "needs_background": "light"
     },
     "output_type": "display_data"
    }
   ],
   "source": [
    "plt.plot(history['loss'])"
   ]
  },
  {
   "cell_type": "code",
   "execution_count": 17,
   "id": "prospective-problem",
   "metadata": {},
   "outputs": [
    {
     "name": "stderr",
     "output_type": "stream",
     "text": [
      "/home/user/miniconda/lib/python3.8/site-packages/torch/nn/functional.py:2398: UserWarning: reduction: 'mean' divides the total loss by both the batch size and the support size.'batchmean' divides only by the batch size, and aligns with the KL div math definition.'mean' will be changed to behave the same as 'batchmean' in the next major release.\n",
      "  warnings.warn(\"reduction: 'mean' divides the total loss by both the batch size and the support size.\"\n"
     ]
    },
    {
     "data": {
      "text/plain": [
       "tensor(9.8529e-06, dtype=torch.float64)"
      ]
     },
     "execution_count": 17,
     "metadata": {},
     "output_type": "execute_result"
    }
   ],
   "source": [
    "# Compare Fbar=exp(Mbar) with xy\n",
    "F_joint = torch.exp(Mbar_joint)\n",
    "F_joint_normalized = F_joint/torch.sum(F_joint)\n",
    "log_F_joint_normalized = torch.log(F_joint_normalized)\n",
    "\n",
    "F.kl_div(log_F_joint_normalized, torch.from_numpy(xy))"
   ]
  },
  {
   "cell_type": "code",
   "execution_count": 18,
   "id": "choice-withdrawal",
   "metadata": {},
   "outputs": [],
   "source": [
    "def run_expr_pseudo(n_batch, iters):\n",
    "    '''\n",
    "    model x|y and y|x\n",
    "    '''\n",
    "    torch.manual_seed(42)\n",
    "    \n",
    "    M = torch.randn(xy.shape, requires_grad = True)\n",
    "    print(M[0, :5])\n",
    "    \n",
    "    optimizer = torch.optim.SGD([M],1, 0.99)\n",
    "    Mbar = M.data\n",
    "\n",
    "    history = {'loss':[]}\n",
    "    \n",
    "    for iteration in tqdm(range(1,iters)):\n",
    "\n",
    "        samples = [np.random.choice(range(xy.reshape(-1).shape[0]), p=xy.reshape(-1)) for i in range(n_batch)]\n",
    "        samples = np.array([(xi//x.shape[0], xi%x.shape[0]) for xi in samples])\n",
    "#         import pdb; pdb.set_trace()\n",
    "        \n",
    "        optimizer.zero_grad()\n",
    "\n",
    "        F = torch.exp(M)\n",
    "\n",
    "        loss = 0\n",
    "        for i in range(n_batch):\n",
    "            lossi_x = F[samples[i,0],samples[i,1]]/torch.sum(F[samples[i,0], range(xy.shape[1])])\n",
    "            lossi_y = F[samples[i,0],samples[i,1]]/torch.sum(F[range(xy.shape[0]), samples[i,1]])\n",
    "\n",
    "            loss = loss + ((torch.log(lossi_x) + torch.log(lossi_y)) * 0.5)\n",
    "            \n",
    "        loss = -1*loss/n_batch\n",
    "        loss.backward()\n",
    "        optimizer.step()\n",
    "        history['loss'].append(loss.item())\n",
    "        Mbar = (1-1/iteration)*Mbar + (1/iteration)*M.data\n",
    "\n",
    "        if iteration % 1000 == 0:\n",
    "            print(torch.var(M))\n",
    "            plt.imshow(Mbar.detach().cpu().numpy())\n",
    "            plt.savefig(f\"contrived_dependent_training_results/Mbar_pseudo_{n_batch}_{iteration}.png\")\n",
    "\n",
    "    np.save(f'contrived_dependent_training_results/Mbar_pseudo_{n_batch}_{iteration}.npy', Mbar.detach().cpu().numpy())\n",
    "    np.save(f'contrived_dependent_training_results/M_pseudo_{n_batch}_{iteration}.npy', M.detach().cpu().numpy())\n",
    "    np.save(f'contrived_dependent_training_results/training_loss_pseudo_{n_batch}_{iteration}.npy', np.array(history['loss']))\n",
    "    return M, Mbar, history"
   ]
  },
  {
   "cell_type": "code",
   "execution_count": 19,
   "id": "potential-elements",
   "metadata": {
    "scrolled": true
   },
   "outputs": [
    {
     "name": "stderr",
     "output_type": "stream",
     "text": [
      "  0%|          | 2/1999 [00:00<02:49, 11.76it/s]"
     ]
    },
    {
     "name": "stdout",
     "output_type": "stream",
     "text": [
      "tensor([ 1.9269,  1.4873,  0.9007, -2.1055,  0.6784], grad_fn=<SliceBackward>)\n"
     ]
    },
    {
     "name": "stderr",
     "output_type": "stream",
     "text": [
      " 50%|█████     | 1000/1999 [01:22<01:26, 11.59it/s]"
     ]
    },
    {
     "name": "stdout",
     "output_type": "stream",
     "text": [
      "tensor(1.4586, grad_fn=<VarBackward0>)\n"
     ]
    },
    {
     "name": "stderr",
     "output_type": "stream",
     "text": [
      "100%|██████████| 1999/1999 [02:45<00:00, 12.10it/s]\n"
     ]
    },
    {
     "data": {
      "image/png": "[encoded data removed]",
      "text/plain": [
       "<Figure size 432x288 with 1 Axes>"
      ]
     },
     "metadata": {
      "needs_background": "light"
     },
     "output_type": "display_data"
    }
   ],
   "source": [
    "# Correct\n",
    "# model full px|y and py|x directly\n",
    "M, Mbar, history = run_expr_pseudo(n_batch=500, iters=2000)"
   ]
  },
  {
   "cell_type": "code",
   "execution_count": 20,
   "id": "dress-wages",
   "metadata": {},
   "outputs": [],
   "source": [
    "Mbar_pseudo = torch.from_numpy(np.load(f'contrived_dependent_training_results/Mbar_pseudo_{500}_{1999}.npy'))\n",
    "M_pseudo = torch.from_numpy(np.load(f'contrived_dependent_training_results/M_pseudo_{500}_{1999}.npy'))"
   ]
  },
  {
   "cell_type": "code",
   "execution_count": 21,
   "id": "olive-aluminum",
   "metadata": {},
   "outputs": [
    {
     "data": {
      "text/plain": [
       "<matplotlib.image.AxesImage at 0x7f1fd492a2b0>"
      ]
     },
     "execution_count": 21,
     "metadata": {},
     "output_type": "execute_result"
    },
    {
     "data": {
      "image/png": "[encoded data removed]",
      "text/plain": [
       "<Figure size 432x288 with 1 Axes>"
      ]
     },
     "metadata": {
      "needs_background": "light"
     },
     "output_type": "display_data"
    }
   ],
   "source": [
    "plt.imshow(torch.exp(Mbar_pseudo))"
   ]
  },
  {
   "cell_type": "code",
   "execution_count": 22,
   "id": "frequent-worse",
   "metadata": {},
   "outputs": [
    {
     "data": {
      "text/plain": [
       "<matplotlib.image.AxesImage at 0x7f1fd48fa550>"
      ]
     },
     "execution_count": 22,
     "metadata": {},
     "output_type": "execute_result"
    },
    {
     "data": {
      "image/png": "[encoded data removed]",
      "text/plain": [
       "<Figure size 432x288 with 1 Axes>"
      ]
     },
     "metadata": {
      "needs_background": "light"
     },
     "output_type": "display_data"
    }
   ],
   "source": [
    "plt.imshow(torch.exp(M_pseudo))"
   ]
  },
  {
   "cell_type": "code",
   "execution_count": 23,
   "id": "approximate-expert",
   "metadata": {},
   "outputs": [
    {
     "data": {
      "text/plain": [
       "[<matplotlib.lines.Line2D at 0x7f1fd484a940>]"
      ]
     },
     "execution_count": 23,
     "metadata": {},
     "output_type": "execute_result"
    },
    {
     "data": {
      "image/png": "[encoded data removed]",
      "text/plain": [
       "<Figure size 432x288 with 1 Axes>"
      ]
     },
     "metadata": {
      "needs_background": "light"
     },
     "output_type": "display_data"
    }
   ],
   "source": [
    "plt.plot(history['loss'])"
   ]
  },
  {
   "cell_type": "code",
   "execution_count": 24,
   "id": "regular-stocks",
   "metadata": {},
   "outputs": [
    {
     "data": {
      "text/plain": [
       "tensor(6.7194e-06, dtype=torch.float64)"
      ]
     },
     "execution_count": 24,
     "metadata": {},
     "output_type": "execute_result"
    }
   ],
   "source": [
    "# Compare Mbar with xy\n",
    "F_pseudo = torch.exp(Mbar_pseudo)\n",
    "F_pseudo_normalized = F_pseudo/torch.sum(F_pseudo)\n",
    "log_F_pseudo_normalized = torch.log(F_pseudo_normalized)\n",
    "\n",
    "F.kl_div(log_F_pseudo_normalized, torch.from_numpy(xy))"
   ]
  },
  {
   "cell_type": "code",
   "execution_count": 25,
   "id": "outside-basis",
   "metadata": {},
   "outputs": [],
   "source": [
    "def run_expr_infoNCE(n_batch, iters):\n",
    "    '''\n",
    "    infoNCE\n",
    "    '''\n",
    "    torch.manual_seed(42)\n",
    "    \n",
    "    M = torch.randn(xy.shape, requires_grad = True)\n",
    "    print(M[0, :5])\n",
    "    \n",
    "    optimizer = torch.optim.SGD([M],1, 0.99)\n",
    "    Mbar = M.data\n",
    "\n",
    "    history = {'loss':[]}\n",
    "    \n",
    "    for iteration in tqdm(range(1,iters)):\n",
    "\n",
    "        samples = [np.random.choice(range(xy.reshape(-1).shape[0]), p=xy.reshape(-1)) for i in range(n_batch)]\n",
    "        samples = np.array([(xi//x.shape[0], xi%x.shape[0]) for xi in samples])\n",
    "#         import pdb; pdb.set_trace()\n",
    "        \n",
    "        optimizer.zero_grad()\n",
    "\n",
    "        F = torch.exp(M)\n",
    "\n",
    "        loss = 0\n",
    "        for i in range(n_batch):\n",
    "            lossi_x = F[samples[i,0],samples[i,1]]/torch.sum(F[samples[i,0], samples[:,1]])\n",
    "            lossi_y = F[samples[i,0],samples[i,1]]/torch.sum(F[samples[:,0], samples[i,1]])\n",
    "            \n",
    "            loss = loss + ((torch.log(lossi_x) + torch.log(lossi_y)) * 0.5)\n",
    "            \n",
    "        loss = -1*loss/n_batch\n",
    "        loss.backward()\n",
    "        optimizer.step()\n",
    "        history['loss'].append(loss.item())\n",
    "        Mbar = (1-1/iteration)*Mbar + (1/iteration)*M.data\n",
    "\n",
    "        if iteration % 1000 == 0:\n",
    "            print(torch.var(M))\n",
    "            plt.imshow(Mbar.detach().cpu().numpy())\n",
    "            plt.savefig(f\"contrived_dependent_training_results/Mbar_infoNCE_{n_batch}_{iteration}.png\")\n",
    "\n",
    "    np.save(f'contrived_dependent_training_results/Mbar_infoNCE_{n_batch}_{iteration}.npy', Mbar.detach().cpu().numpy())\n",
    "    np.save(f'contrived_dependent_training_results/M_infoNCE_{n_batch}_{iteration}.npy', M.detach().cpu().numpy())\n",
    "    np.save(f'contrived_dependent_training_results/training_loss_infoNCE_{n_batch}_{iteration}.npy', np.array(history['loss']))\n",
    "    return M, Mbar, history"
   ]
  },
  {
   "cell_type": "code",
   "execution_count": 26,
   "id": "plain-canvas",
   "metadata": {
    "scrolled": true
   },
   "outputs": [
    {
     "name": "stderr",
     "output_type": "stream",
     "text": [
      "  0%|          | 2/9999 [00:00<14:03, 11.86it/s]"
     ]
    },
    {
     "name": "stdout",
     "output_type": "stream",
     "text": [
      "tensor([ 1.9269,  1.4873,  0.9007, -2.1055,  0.6784], grad_fn=<SliceBackward>)\n"
     ]
    },
    {
     "name": "stderr",
     "output_type": "stream",
     "text": [
      " 10%|█         | 1000/9999 [01:27<13:57, 10.75it/s]"
     ]
    },
    {
     "name": "stdout",
     "output_type": "stream",
     "text": [
      "tensor(0.6702, grad_fn=<VarBackward0>)\n"
     ]
    },
    {
     "name": "stderr",
     "output_type": "stream",
     "text": [
      " 20%|██        | 2000/9999 [02:54<12:26, 10.72it/s]"
     ]
    },
    {
     "name": "stdout",
     "output_type": "stream",
     "text": [
      "tensor(0.6807, grad_fn=<VarBackward0>)\n"
     ]
    },
    {
     "name": "stderr",
     "output_type": "stream",
     "text": [
      " 30%|███       | 3000/9999 [04:22<10:52, 10.73it/s]"
     ]
    },
    {
     "name": "stdout",
     "output_type": "stream",
     "text": [
      "tensor(0.6866, grad_fn=<VarBackward0>)\n"
     ]
    },
    {
     "name": "stderr",
     "output_type": "stream",
     "text": [
      " 40%|████      | 4000/9999 [05:49<08:58, 11.13it/s]"
     ]
    },
    {
     "name": "stdout",
     "output_type": "stream",
     "text": [
      "tensor(0.7483, grad_fn=<VarBackward0>)\n"
     ]
    },
    {
     "name": "stderr",
     "output_type": "stream",
     "text": [
      " 50%|█████     | 5000/9999 [07:17<07:30, 11.09it/s]"
     ]
    },
    {
     "name": "stdout",
     "output_type": "stream",
     "text": [
      "tensor(0.6725, grad_fn=<VarBackward0>)\n"
     ]
    },
    {
     "name": "stderr",
     "output_type": "stream",
     "text": [
      " 60%|██████    | 6001/9999 [08:44<05:58, 11.16it/s]"
     ]
    },
    {
     "name": "stdout",
     "output_type": "stream",
     "text": [
      "tensor(0.6876, grad_fn=<VarBackward0>)\n"
     ]
    },
    {
     "name": "stderr",
     "output_type": "stream",
     "text": [
      " 70%|███████   | 7001/9999 [10:08<04:37, 10.81it/s]"
     ]
    },
    {
     "name": "stdout",
     "output_type": "stream",
     "text": [
      "tensor(0.6810, grad_fn=<VarBackward0>)\n"
     ]
    },
    {
     "name": "stderr",
     "output_type": "stream",
     "text": [
      " 80%|████████  | 8001/9999 [11:31<02:59, 11.11it/s]"
     ]
    },
    {
     "name": "stdout",
     "output_type": "stream",
     "text": [
      "tensor(0.6629, grad_fn=<VarBackward0>)\n"
     ]
    },
    {
     "name": "stderr",
     "output_type": "stream",
     "text": [
      " 90%|█████████ | 9001/9999 [12:55<01:29, 11.11it/s]"
     ]
    },
    {
     "name": "stdout",
     "output_type": "stream",
     "text": [
      "tensor(0.6651, grad_fn=<VarBackward0>)\n"
     ]
    },
    {
     "name": "stderr",
     "output_type": "stream",
     "text": [
      "100%|██████████| 9999/9999 [14:18<00:00, 11.65it/s]\n"
     ]
    },
    {
     "data": {
      "image/png": "[encoded data removed]",
      "text/plain": [
       "<Figure size 432x288 with 1 Axes>"
      ]
     },
     "metadata": {
      "needs_background": "light"
     },
     "output_type": "display_data"
    }
   ],
   "source": [
    "# Correct\n",
    "# info NCE both directions\n",
    "M, Mbar, history = run_expr_infoNCE(n_batch=500, iters=10000)"
   ]
  },
  {
   "cell_type": "code",
   "execution_count": 28,
   "id": "pointed-empire",
   "metadata": {},
   "outputs": [],
   "source": [
    "Mbar_infoNCE = torch.from_numpy(np.load(f'contrived_dependent_training_results/Mbar_infoNCE_{500}_{9999}.npy'))\n",
    "M_infoNCE = torch.from_numpy(np.load(f'contrived_dependent_training_results/M_infoNCE_{500}_{9999}.npy'))"
   ]
  },
  {
   "cell_type": "code",
   "execution_count": 29,
   "id": "searching-navigator",
   "metadata": {},
   "outputs": [
    {
     "data": {
      "text/plain": [
       "<matplotlib.image.AxesImage at 0x7f1fd46f0b20>"
      ]
     },
     "execution_count": 29,
     "metadata": {},
     "output_type": "execute_result"
    },
    {
     "data": {
      "image/png": "[encoded data removed]",
      "text/plain": [
       "<Figure size 432x288 with 1 Axes>"
      ]
     },
     "metadata": {
      "needs_background": "light"
     },
     "output_type": "display_data"
    }
   ],
   "source": [
    "plt.imshow(torch.exp(Mbar_infoNCE))"
   ]
  },
  {
   "cell_type": "code",
   "execution_count": 30,
   "id": "immediate-posting",
   "metadata": {},
   "outputs": [
    {
     "data": {
      "text/plain": [
       "<matplotlib.image.AxesImage at 0x7f1fd46482b0>"
      ]
     },
     "execution_count": 30,
     "metadata": {},
     "output_type": "execute_result"
    },
    {
     "data": {
      "image/png": "[encoded data removed]",
      "text/plain": [
       "<Figure size 432x288 with 1 Axes>"
      ]
     },
     "metadata": {
      "needs_background": "light"
     },
     "output_type": "display_data"
    }
   ],
   "source": [
    "plt.imshow(torch.exp(M_infoNCE))"
   ]
  },
  {
   "cell_type": "code",
   "execution_count": 31,
   "id": "destroyed-experience",
   "metadata": {},
   "outputs": [
    {
     "data": {
      "text/plain": [
       "[<matplotlib.lines.Line2D at 0x7f1fd4613b80>]"
      ]
     },
     "execution_count": 31,
     "metadata": {},
     "output_type": "execute_result"
    },
    {
     "data": {
      "image/png": "[encoded data removed]",
      "text/plain": [
       "<Figure size 432x288 with 1 Axes>"
      ]
     },
     "metadata": {
      "needs_background": "light"
     },
     "output_type": "display_data"
    }
   ],
   "source": [
    "plt.plot(history['loss'])"
   ]
  },
  {
   "cell_type": "code",
   "execution_count": 32,
   "id": "weekly-louis",
   "metadata": {},
   "outputs": [
    {
     "data": {
      "text/plain": [
       "tensor(0.0037, dtype=torch.float64)"
      ]
     },
     "execution_count": 32,
     "metadata": {},
     "output_type": "execute_result"
    }
   ],
   "source": [
    "# Compare Mbar with xy\n",
    "F_infoNCE = torch.exp(Mbar_infoNCE)\n",
    "F_infoNCE_normalized = F_infoNCE/torch.sum(F_infoNCE)\n",
    "log_F_infoNCE_normalized = torch.log(F_infoNCE_normalized)\n",
    "\n",
    "F.kl_div(log_F_infoNCE_normalized, torch.from_numpy(xy))"
   ]
  },
  {
   "cell_type": "code",
   "execution_count": null,
   "id": "secret-christian",
   "metadata": {},
   "outputs": [],
   "source": []
  }
 ],
 "metadata": {
  "kernelspec": {
   "display_name": "Python 3",
   "language": "python",
   "name": "python3"
  },
  "language_info": {
   "codemirror_mode": {
    "name": "ipython",
    "version": 3
   },
   "file_extension": ".py",
   "mimetype": "text/x-python",
   "name": "python",
   "nbconvert_exporter": "python",
   "pygments_lexer": "ipython3",
   "version": "3.8.3"
  }
 },
 "nbformat": 4,
 "nbformat_minor": 5
}

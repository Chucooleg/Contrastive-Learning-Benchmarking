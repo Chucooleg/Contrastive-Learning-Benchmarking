{
 "cells": [
  {
   "cell_type": "code",
   "execution_count": 1,
   "id": "formal-dialogue",
   "metadata": {},
   "outputs": [],
   "source": [
    "import torch\n",
    "import torch.nn.functional as F\n",
    "import numpy as np\n",
    "from tqdm import tqdm\n",
    "import matplotlib.pyplot as plt\n",
    "import random\n",
    "import itertools"
   ]
  },
  {
   "cell_type": "code",
   "execution_count": 2,
   "id": "resistant-gibson",
   "metadata": {},
   "outputs": [],
   "source": [
    "n_rolls = 5000\n",
    "n_sides = 6\n",
    "diceroll1 = np.random.choice(np.arange(n_sides)+1, size=n_rolls)\n",
    "diceroll2 = np.random.choice(np.arange(n_sides)+1, size=n_rolls)\n",
    "\n",
    "sum_rolls = diceroll1 + diceroll2\n",
    "max_rolls = np.max(np.vstack([diceroll1,diceroll2]), axis=0)\n",
    "\n",
    "# p(X,Y)\n",
    "xy = np.zeros((n_sides*2-1, n_sides))\n",
    "for s, m in zip(sum_rolls, max_rolls):\n",
    "    xy[s-2, m-1] += 1\n",
    "xy /= n_rolls\n",
    "\n",
    "# xy[-2:,0:2] = 0.4\n",
    "# xy = xy/np.sum(xy)\n",
    "\n",
    "# p(X), p(Y)\n",
    "x = np.sum(xy, axis=1)\n",
    "y = np.sum(xy, axis=0)"
   ]
  },
  {
   "cell_type": "code",
   "execution_count": 3,
   "id": "applicable-reducing",
   "metadata": {
    "scrolled": true
   },
   "outputs": [
    {
     "data": {
      "text/plain": [
       "array([[0.0302, 0.    , 0.    , 0.    , 0.    , 0.    ],\n",
       "       [0.    , 0.0564, 0.    , 0.    , 0.    , 0.    ],\n",
       "       [0.    , 0.026 , 0.0564, 0.    , 0.    , 0.    ],\n",
       "       [0.    , 0.    , 0.0518, 0.056 , 0.    , 0.    ],\n",
       "       [0.    , 0.    , 0.0296, 0.051 , 0.0534, 0.    ],\n",
       "       [0.    , 0.    , 0.    , 0.0556, 0.0564, 0.0548],\n",
       "       [0.    , 0.    , 0.    , 0.0294, 0.051 , 0.0576],\n",
       "       [0.    , 0.    , 0.    , 0.    , 0.0586, 0.053 ],\n",
       "       [0.    , 0.    , 0.    , 0.    , 0.0296, 0.0562],\n",
       "       [0.    , 0.    , 0.    , 0.    , 0.    , 0.0588],\n",
       "       [0.    , 0.    , 0.    , 0.    , 0.    , 0.0282]])"
      ]
     },
     "execution_count": 3,
     "metadata": {},
     "output_type": "execute_result"
    }
   ],
   "source": [
    "xy"
   ]
  },
  {
   "cell_type": "code",
   "execution_count": 4,
   "id": "understood-liechtenstein",
   "metadata": {},
   "outputs": [
    {
     "data": {
      "text/plain": [
       "array([0.0302, 0.0564, 0.0824, 0.1078, 0.134 , 0.1668, 0.138 , 0.1116,\n",
       "       0.0858, 0.0588, 0.0282])"
      ]
     },
     "execution_count": 4,
     "metadata": {},
     "output_type": "execute_result"
    }
   ],
   "source": [
    "x"
   ]
  },
  {
   "cell_type": "code",
   "execution_count": 5,
   "id": "boring-flash",
   "metadata": {},
   "outputs": [
    {
     "data": {
      "text/plain": [
       "array([0.0302, 0.0824, 0.1378, 0.192 , 0.249 , 0.3086])"
      ]
     },
     "execution_count": 5,
     "metadata": {},
     "output_type": "execute_result"
    }
   ],
   "source": [
    "y"
   ]
  },
  {
   "cell_type": "code",
   "execution_count": 6,
   "id": "graphic-bouquet",
   "metadata": {
    "scrolled": true
   },
   "outputs": [
    {
     "data": {
      "text/plain": [
       "<matplotlib.image.AxesImage at 0x7f7903662fd0>"
      ]
     },
     "execution_count": 6,
     "metadata": {},
     "output_type": "execute_result"
    },
    {
     "data": {
      "image/png": "[encoded data removed]",
      "text/plain": [
       "<Figure size 432x288 with 1 Axes>"
      ]
     },
     "metadata": {
      "needs_background": "light"
     },
     "output_type": "display_data"
    }
   ],
   "source": [
    "plt.imshow(xy)"
   ]
  },
  {
   "cell_type": "code",
   "execution_count": 7,
   "id": "found-island",
   "metadata": {},
   "outputs": [
    {
     "data": {
      "text/plain": [
       "<matplotlib.image.AxesImage at 0x7f79035c6850>"
      ]
     },
     "execution_count": 7,
     "metadata": {},
     "output_type": "execute_result"
    },
    {
     "data": {
      "image/png": "[encoded data removed]",
      "text/plain": [
       "<Figure size 432x288 with 1 Axes>"
      ]
     },
     "metadata": {
      "needs_background": "light"
     },
     "output_type": "display_data"
    }
   ],
   "source": [
    "xyind = x[None].T @ y[None]\n",
    "plt.imshow(xyind)\n",
    "# print(torch.var(M))"
   ]
  },
  {
   "cell_type": "code",
   "execution_count": 8,
   "id": "killing-justice",
   "metadata": {},
   "outputs": [
    {
     "data": {
      "text/plain": [
       "<matplotlib.image.AxesImage at 0x7f7903522d30>"
      ]
     },
     "execution_count": 8,
     "metadata": {},
     "output_type": "execute_result"
    },
    {
     "data": {
      "image/png": "[encoded data removed]",
      "text/plain": [
       "<Figure size 432x288 with 1 Axes>"
      ]
     },
     "metadata": {
      "needs_background": "light"
     },
     "output_type": "display_data"
    }
   ],
   "source": [
    "plt.imshow(xy/xyind)\n",
    "# print(torch.var(M))"
   ]
  },
  {
   "cell_type": "markdown",
   "id": "significant-bulletin",
   "metadata": {},
   "source": [
    "## Experiments (normalized across minibatch)"
   ]
  },
  {
   "cell_type": "code",
   "execution_count": 9,
   "id": "minor-prison",
   "metadata": {},
   "outputs": [],
   "source": [
    "def run_expr(n_batch, iters):\n",
    "    '''\n",
    "    model pxy directly\n",
    "    '''\n",
    "    torch.manual_seed(42)\n",
    "    \n",
    "    M = torch.randn((x.shape[0],y.shape[0]), requires_grad = True)\n",
    "    print(M[0, :5])\n",
    "    \n",
    "    optimizer = torch.optim.SGD([M],1, 0.99)\n",
    "    Mbar = M.data\n",
    "    \n",
    "    history = {'loss':[]}\n",
    "    \n",
    "    for iteration in tqdm(range(1,iters)):\n",
    "\n",
    "        samples = [np.random.choice(range(xy.reshape(-1).shape[0]), p=xy.reshape(-1)) for i in range(n_batch)]\n",
    "        samples = np.array([(yi//(y.shape[0]), yi%(y.shape[0])) for yi in samples])\n",
    "\n",
    "        optimizer.zero_grad()\n",
    "\n",
    "        F = torch.exp(M)\n",
    "\n",
    "        loss = 0\n",
    "        for i in range(n_batch):\n",
    "            lossi = F[samples[i,0],samples[i,1]]/torch.sum(F[:,:])\n",
    "            loss = loss + torch.log(lossi)\n",
    "        loss = -1*loss/n_batch\n",
    "        loss.backward()\n",
    "        optimizer.step()\n",
    "        history['loss'].append(loss.item())\n",
    "        Mbar = (1-1/iteration)*Mbar + (1/iteration)*M.data\n",
    "\n",
    "        if iteration % 100 == 0:\n",
    "            print(torch.var(M))\n",
    "            plt.imshow(Mbar.detach().cpu().numpy())\n",
    "            plt.savefig(f\"dicerolls6_training_results/Mbar_joint_{n_batch}_{iteration}.png\")\n",
    "\n",
    "    np.save(f'dicerolls6_training_results/Mbar_joint_{n_batch}_{iteration}.npy', Mbar.detach().cpu().numpy())\n",
    "    np.save(f'dicerolls6_training_results/M_joint_{n_batch}_{iteration}.npy', M.detach().cpu().numpy())\n",
    "    np.save(f'dicerolls6_training_results/training_loss_joint_{n_batch}_{iteration}.npy', np.array(history['loss']))\n",
    "    return M, Mbar, history"
   ]
  },
  {
   "cell_type": "code",
   "execution_count": 10,
   "id": "frequent-naples",
   "metadata": {
    "scrolled": true
   },
   "outputs": [
    {
     "name": "stderr",
     "output_type": "stream",
     "text": [
      "  0%|          | 3/4999 [00:00<03:28, 23.91it/s]"
     ]
    },
    {
     "name": "stdout",
     "output_type": "stream",
     "text": [
      "tensor([ 1.9269,  1.4873,  0.9007, -2.1055,  0.6784], grad_fn=<SliceBackward>)\n"
     ]
    },
    {
     "name": "stderr",
     "output_type": "stream",
     "text": [
      "  2%|▏         | 103/4999 [00:03<02:58, 27.50it/s]"
     ]
    },
    {
     "name": "stdout",
     "output_type": "stream",
     "text": [
      "tensor(177.0855, grad_fn=<VarBackward0>)\n"
     ]
    },
    {
     "name": "stderr",
     "output_type": "stream",
     "text": [
      "  4%|▍         | 204/4999 [00:06<02:48, 28.54it/s]"
     ]
    },
    {
     "name": "stdout",
     "output_type": "stream",
     "text": [
      "tensor(349.0634, grad_fn=<VarBackward0>)\n"
     ]
    },
    {
     "name": "stderr",
     "output_type": "stream",
     "text": [
      "  6%|▌         | 304/4999 [00:10<02:57, 26.50it/s]"
     ]
    },
    {
     "name": "stdout",
     "output_type": "stream",
     "text": [
      "tensor(426.4250, grad_fn=<VarBackward0>)\n"
     ]
    },
    {
     "name": "stderr",
     "output_type": "stream",
     "text": [
      "  8%|▊         | 404/4999 [00:13<02:53, 26.55it/s]"
     ]
    },
    {
     "name": "stdout",
     "output_type": "stream",
     "text": [
      "tensor(456.7366, grad_fn=<VarBackward0>)\n"
     ]
    },
    {
     "name": "stderr",
     "output_type": "stream",
     "text": [
      " 10%|█         | 503/4999 [00:17<02:41, 27.78it/s]"
     ]
    },
    {
     "name": "stdout",
     "output_type": "stream",
     "text": [
      "tensor(468.0218, grad_fn=<VarBackward0>)\n"
     ]
    },
    {
     "name": "stderr",
     "output_type": "stream",
     "text": [
      " 12%|█▏        | 604/4999 [00:20<02:39, 27.57it/s]"
     ]
    },
    {
     "name": "stdout",
     "output_type": "stream",
     "text": [
      "tensor(472.1959, grad_fn=<VarBackward0>)\n"
     ]
    },
    {
     "name": "stderr",
     "output_type": "stream",
     "text": [
      " 14%|█▍        | 702/4999 [00:24<02:40, 26.82it/s]"
     ]
    },
    {
     "name": "stdout",
     "output_type": "stream",
     "text": [
      "tensor(473.7387, grad_fn=<VarBackward0>)\n"
     ]
    },
    {
     "name": "stderr",
     "output_type": "stream",
     "text": [
      " 16%|█▌        | 801/4999 [00:27<02:37, 26.71it/s]"
     ]
    },
    {
     "name": "stdout",
     "output_type": "stream",
     "text": [
      "tensor(474.3359, grad_fn=<VarBackward0>)\n"
     ]
    },
    {
     "name": "stderr",
     "output_type": "stream",
     "text": [
      " 18%|█▊        | 901/4999 [00:30<02:29, 27.40it/s]"
     ]
    },
    {
     "name": "stdout",
     "output_type": "stream",
     "text": [
      "tensor(474.5664, grad_fn=<VarBackward0>)\n"
     ]
    },
    {
     "name": "stderr",
     "output_type": "stream",
     "text": [
      " 20%|██        | 1002/4999 [00:34<02:32, 26.25it/s]"
     ]
    },
    {
     "name": "stdout",
     "output_type": "stream",
     "text": [
      "tensor(474.6179, grad_fn=<VarBackward0>)\n"
     ]
    },
    {
     "name": "stderr",
     "output_type": "stream",
     "text": [
      " 22%|██▏       | 1103/4999 [00:37<02:19, 27.85it/s]"
     ]
    },
    {
     "name": "stdout",
     "output_type": "stream",
     "text": [
      "tensor(474.6163, grad_fn=<VarBackward0>)\n"
     ]
    },
    {
     "name": "stderr",
     "output_type": "stream",
     "text": [
      " 24%|██▍       | 1203/4999 [00:41<02:23, 26.42it/s]"
     ]
    },
    {
     "name": "stdout",
     "output_type": "stream",
     "text": [
      "tensor(474.6302, grad_fn=<VarBackward0>)\n"
     ]
    },
    {
     "name": "stderr",
     "output_type": "stream",
     "text": [
      " 26%|██▌       | 1302/4999 [00:44<02:25, 25.45it/s]"
     ]
    },
    {
     "name": "stdout",
     "output_type": "stream",
     "text": [
      "tensor(474.6188, grad_fn=<VarBackward0>)\n"
     ]
    },
    {
     "name": "stderr",
     "output_type": "stream",
     "text": [
      " 28%|██▊       | 1404/4999 [00:48<02:15, 26.60it/s]"
     ]
    },
    {
     "name": "stdout",
     "output_type": "stream",
     "text": [
      "tensor(474.6688, grad_fn=<VarBackward0>)\n"
     ]
    },
    {
     "name": "stderr",
     "output_type": "stream",
     "text": [
      " 30%|███       | 1504/4999 [00:51<02:13, 26.18it/s]"
     ]
    },
    {
     "name": "stdout",
     "output_type": "stream",
     "text": [
      "tensor(474.6389, grad_fn=<VarBackward0>)\n"
     ]
    },
    {
     "name": "stderr",
     "output_type": "stream",
     "text": [
      " 32%|███▏      | 1603/4999 [00:55<02:08, 26.39it/s]"
     ]
    },
    {
     "name": "stdout",
     "output_type": "stream",
     "text": [
      "tensor(474.6492, grad_fn=<VarBackward0>)\n"
     ]
    },
    {
     "name": "stderr",
     "output_type": "stream",
     "text": [
      " 34%|███▍      | 1702/4999 [00:58<02:11, 25.17it/s]"
     ]
    },
    {
     "name": "stdout",
     "output_type": "stream",
     "text": [
      "tensor(474.6281, grad_fn=<VarBackward0>)\n"
     ]
    },
    {
     "name": "stderr",
     "output_type": "stream",
     "text": [
      " 36%|███▌      | 1803/4999 [01:01<02:03, 25.92it/s]"
     ]
    },
    {
     "name": "stdout",
     "output_type": "stream",
     "text": [
      "tensor(474.6319, grad_fn=<VarBackward0>)\n"
     ]
    },
    {
     "name": "stderr",
     "output_type": "stream",
     "text": [
      " 38%|███▊      | 1902/4999 [01:05<02:04, 24.84it/s]"
     ]
    },
    {
     "name": "stdout",
     "output_type": "stream",
     "text": [
      "tensor(474.6254, grad_fn=<VarBackward0>)\n"
     ]
    },
    {
     "name": "stderr",
     "output_type": "stream",
     "text": [
      " 40%|████      | 2003/4999 [01:08<01:54, 26.09it/s]"
     ]
    },
    {
     "name": "stdout",
     "output_type": "stream",
     "text": [
      "tensor(474.6600, grad_fn=<VarBackward0>)\n"
     ]
    },
    {
     "name": "stderr",
     "output_type": "stream",
     "text": [
      " 42%|████▏     | 2102/4999 [01:12<01:51, 25.95it/s]"
     ]
    },
    {
     "name": "stdout",
     "output_type": "stream",
     "text": [
      "tensor(474.6549, grad_fn=<VarBackward0>)\n"
     ]
    },
    {
     "name": "stderr",
     "output_type": "stream",
     "text": [
      " 44%|████▍     | 2201/4999 [01:15<01:53, 24.57it/s]"
     ]
    },
    {
     "name": "stdout",
     "output_type": "stream",
     "text": [
      "tensor(474.6357, grad_fn=<VarBackward0>)\n"
     ]
    },
    {
     "name": "stderr",
     "output_type": "stream",
     "text": [
      " 46%|████▌     | 2301/4999 [01:18<01:50, 24.39it/s]"
     ]
    },
    {
     "name": "stdout",
     "output_type": "stream",
     "text": [
      "tensor(474.6419, grad_fn=<VarBackward0>)\n"
     ]
    },
    {
     "name": "stderr",
     "output_type": "stream",
     "text": [
      " 48%|████▊     | 2402/4999 [01:22<01:41, 25.57it/s]"
     ]
    },
    {
     "name": "stdout",
     "output_type": "stream",
     "text": [
      "tensor(474.6529, grad_fn=<VarBackward0>)\n"
     ]
    },
    {
     "name": "stderr",
     "output_type": "stream",
     "text": [
      " 50%|█████     | 2503/4999 [01:25<01:33, 26.57it/s]"
     ]
    },
    {
     "name": "stdout",
     "output_type": "stream",
     "text": [
      "tensor(474.6478, grad_fn=<VarBackward0>)\n"
     ]
    },
    {
     "name": "stderr",
     "output_type": "stream",
     "text": [
      " 52%|█████▏    | 2601/4999 [01:29<01:39, 23.99it/s]"
     ]
    },
    {
     "name": "stdout",
     "output_type": "stream",
     "text": [
      "tensor(474.6491, grad_fn=<VarBackward0>)\n"
     ]
    },
    {
     "name": "stderr",
     "output_type": "stream",
     "text": [
      " 54%|█████▍    | 2703/4999 [01:32<01:27, 26.31it/s]"
     ]
    },
    {
     "name": "stdout",
     "output_type": "stream",
     "text": [
      "tensor(474.6322, grad_fn=<VarBackward0>)\n"
     ]
    },
    {
     "name": "stderr",
     "output_type": "stream",
     "text": [
      " 56%|█████▌    | 2803/4999 [01:36<01:26, 25.29it/s]"
     ]
    },
    {
     "name": "stdout",
     "output_type": "stream",
     "text": [
      "tensor(474.6564, grad_fn=<VarBackward0>)\n"
     ]
    },
    {
     "name": "stderr",
     "output_type": "stream",
     "text": [
      " 58%|█████▊    | 2903/4999 [01:39<01:20, 26.18it/s]"
     ]
    },
    {
     "name": "stdout",
     "output_type": "stream",
     "text": [
      "tensor(474.6470, grad_fn=<VarBackward0>)\n"
     ]
    },
    {
     "name": "stderr",
     "output_type": "stream",
     "text": [
      " 60%|██████    | 3003/4999 [01:42<01:20, 24.73it/s]"
     ]
    },
    {
     "name": "stdout",
     "output_type": "stream",
     "text": [
      "tensor(474.6250, grad_fn=<VarBackward0>)\n"
     ]
    },
    {
     "name": "stderr",
     "output_type": "stream",
     "text": [
      " 62%|██████▏   | 3102/4999 [01:46<01:22, 23.10it/s]"
     ]
    },
    {
     "name": "stdout",
     "output_type": "stream",
     "text": [
      "tensor(474.6332, grad_fn=<VarBackward0>)\n"
     ]
    },
    {
     "name": "stderr",
     "output_type": "stream",
     "text": [
      " 64%|██████▍   | 3201/4999 [01:49<01:18, 22.90it/s]"
     ]
    },
    {
     "name": "stdout",
     "output_type": "stream",
     "text": [
      "tensor(474.6426, grad_fn=<VarBackward0>)\n"
     ]
    },
    {
     "name": "stderr",
     "output_type": "stream",
     "text": [
      " 66%|██████▌   | 3300/4999 [01:53<01:14, 22.87it/s]"
     ]
    },
    {
     "name": "stdout",
     "output_type": "stream",
     "text": [
      "tensor(474.6684, grad_fn=<VarBackward0>)\n"
     ]
    },
    {
     "name": "stderr",
     "output_type": "stream",
     "text": [
      " 68%|██████▊   | 3400/4999 [01:56<01:10, 22.79it/s]"
     ]
    },
    {
     "name": "stdout",
     "output_type": "stream",
     "text": [
      "tensor(474.6218, grad_fn=<VarBackward0>)\n"
     ]
    },
    {
     "name": "stderr",
     "output_type": "stream",
     "text": [
      " 70%|███████   | 3501/4999 [02:00<01:05, 22.72it/s]"
     ]
    },
    {
     "name": "stdout",
     "output_type": "stream",
     "text": [
      "tensor(474.6556, grad_fn=<VarBackward0>)\n"
     ]
    },
    {
     "name": "stderr",
     "output_type": "stream",
     "text": [
      " 72%|███████▏  | 3602/4999 [02:03<01:01, 22.71it/s]"
     ]
    },
    {
     "name": "stdout",
     "output_type": "stream",
     "text": [
      "tensor(474.6353, grad_fn=<VarBackward0>)\n"
     ]
    },
    {
     "name": "stderr",
     "output_type": "stream",
     "text": [
      " 74%|███████▍  | 3701/4999 [02:07<00:57, 22.58it/s]"
     ]
    },
    {
     "name": "stdout",
     "output_type": "stream",
     "text": [
      "tensor(474.6467, grad_fn=<VarBackward0>)\n"
     ]
    },
    {
     "name": "stderr",
     "output_type": "stream",
     "text": [
      " 76%|███████▌  | 3802/4999 [02:10<00:53, 22.42it/s]"
     ]
    },
    {
     "name": "stdout",
     "output_type": "stream",
     "text": [
      "tensor(474.6496, grad_fn=<VarBackward0>)\n"
     ]
    },
    {
     "name": "stderr",
     "output_type": "stream",
     "text": [
      " 78%|███████▊  | 3900/4999 [02:14<00:49, 22.35it/s]"
     ]
    },
    {
     "name": "stdout",
     "output_type": "stream",
     "text": [
      "tensor(474.6483, grad_fn=<VarBackward0>)\n"
     ]
    },
    {
     "name": "stderr",
     "output_type": "stream",
     "text": [
      " 80%|████████  | 4000/4999 [02:17<00:45, 22.20it/s]"
     ]
    },
    {
     "name": "stdout",
     "output_type": "stream",
     "text": [
      "tensor(474.6467, grad_fn=<VarBackward0>)\n"
     ]
    },
    {
     "name": "stderr",
     "output_type": "stream",
     "text": [
      " 82%|████████▏ | 4102/4999 [02:21<00:41, 21.81it/s]"
     ]
    },
    {
     "name": "stdout",
     "output_type": "stream",
     "text": [
      "tensor(474.6219, grad_fn=<VarBackward0>)\n"
     ]
    },
    {
     "name": "stderr",
     "output_type": "stream",
     "text": [
      " 84%|████████▍ | 4200/4999 [02:24<00:33, 23.59it/s]"
     ]
    },
    {
     "name": "stdout",
     "output_type": "stream",
     "text": [
      "tensor(474.6202, grad_fn=<VarBackward0>)\n"
     ]
    },
    {
     "name": "stderr",
     "output_type": "stream",
     "text": [
      " 86%|████████▌ | 4302/4999 [02:27<00:32, 21.32it/s]"
     ]
    },
    {
     "name": "stdout",
     "output_type": "stream",
     "text": [
      "tensor(474.6350, grad_fn=<VarBackward0>)\n"
     ]
    },
    {
     "name": "stderr",
     "output_type": "stream",
     "text": [
      " 88%|████████▊ | 4400/4999 [02:31<00:27, 21.72it/s]"
     ]
    },
    {
     "name": "stdout",
     "output_type": "stream",
     "text": [
      "tensor(474.6172, grad_fn=<VarBackward0>)\n"
     ]
    },
    {
     "name": "stderr",
     "output_type": "stream",
     "text": [
      " 90%|█████████ | 4500/4999 [02:34<00:23, 21.03it/s]"
     ]
    },
    {
     "name": "stdout",
     "output_type": "stream",
     "text": [
      "tensor(474.6193, grad_fn=<VarBackward0>)\n"
     ]
    },
    {
     "name": "stderr",
     "output_type": "stream",
     "text": [
      " 92%|█████████▏| 4602/4999 [02:38<00:18, 20.92it/s]"
     ]
    },
    {
     "name": "stdout",
     "output_type": "stream",
     "text": [
      "tensor(474.6311, grad_fn=<VarBackward0>)\n"
     ]
    },
    {
     "name": "stderr",
     "output_type": "stream",
     "text": [
      " 94%|█████████▍| 4702/4999 [02:42<00:14, 21.21it/s]"
     ]
    },
    {
     "name": "stdout",
     "output_type": "stream",
     "text": [
      "tensor(474.6472, grad_fn=<VarBackward0>)\n"
     ]
    },
    {
     "name": "stderr",
     "output_type": "stream",
     "text": [
      " 96%|█████████▌| 4801/4999 [02:45<00:09, 20.53it/s]"
     ]
    },
    {
     "name": "stdout",
     "output_type": "stream",
     "text": [
      "tensor(474.6159, grad_fn=<VarBackward0>)\n"
     ]
    },
    {
     "name": "stderr",
     "output_type": "stream",
     "text": [
      " 98%|█████████▊| 4899/4999 [02:48<00:03, 29.78it/s]"
     ]
    },
    {
     "name": "stdout",
     "output_type": "stream",
     "text": [
      "tensor(474.6360, grad_fn=<VarBackward0>)\n"
     ]
    },
    {
     "name": "stderr",
     "output_type": "stream",
     "text": [
      "100%|██████████| 4999/4999 [02:52<00:00, 29.00it/s]\n"
     ]
    },
    {
     "data": {
      "image/png": "[encoded data removed]",
      "text/plain": [
       "<Figure size 432x288 with 1 Axes>"
      ]
     },
     "metadata": {
      "needs_background": "light"
     },
     "output_type": "display_data"
    }
   ],
   "source": [
    "# model pxy directly\n",
    "M, Mbar, history = run_expr(n_batch=500, iters=5000)"
   ]
  },
  {
   "cell_type": "code",
   "execution_count": 11,
   "id": "sitting-emperor",
   "metadata": {},
   "outputs": [
    {
     "data": {
      "text/plain": [
       "[<matplotlib.lines.Line2D at 0x7f79004a6970>]"
      ]
     },
     "execution_count": 11,
     "metadata": {},
     "output_type": "execute_result"
    },
    {
     "data": {
      "image/png": "[encoded data removed]",
      "text/plain": [
       "<Figure size 432x288 with 1 Axes>"
      ]
     },
     "metadata": {
      "needs_background": "light"
     },
     "output_type": "display_data"
    }
   ],
   "source": [
    "plt.plot(history['loss'])"
   ]
  },
  {
   "cell_type": "code",
   "execution_count": 12,
   "id": "armed-pizza",
   "metadata": {},
   "outputs": [],
   "source": [
    "Mbar_joint = torch.from_numpy(np.load(f'dicerolls6_training_results/Mbar_joint_{500}_{4999}.npy'))\n",
    "M_joint = torch.from_numpy(np.load(f'dicerolls6_training_results/M_joint_{500}_{4999}.npy'))"
   ]
  },
  {
   "cell_type": "code",
   "execution_count": 13,
   "id": "alert-manufacturer",
   "metadata": {},
   "outputs": [
    {
     "data": {
      "text/plain": [
       "<matplotlib.image.AxesImage at 0x7f7900484be0>"
      ]
     },
     "execution_count": 13,
     "metadata": {},
     "output_type": "execute_result"
    },
    {
     "data": {
      "image/png": "[encoded data removed]",
      "text/plain": [
       "<Figure size 432x288 with 1 Axes>"
      ]
     },
     "metadata": {
      "needs_background": "light"
     },
     "output_type": "display_data"
    }
   ],
   "source": [
    "plt.imshow(torch.exp(Mbar_joint))"
   ]
  },
  {
   "cell_type": "code",
   "execution_count": 14,
   "id": "altered-patrol",
   "metadata": {},
   "outputs": [
    {
     "data": {
      "text/plain": [
       "<matplotlib.image.AxesImage at 0x7f79005c79a0>"
      ]
     },
     "execution_count": 14,
     "metadata": {},
     "output_type": "execute_result"
    },
    {
     "data": {
      "image/png": "[encoded data removed]",
      "text/plain": [
       "<Figure size 432x288 with 1 Axes>"
      ]
     },
     "metadata": {
      "needs_background": "light"
     },
     "output_type": "display_data"
    }
   ],
   "source": [
    "plt.imshow(torch.exp(M_joint))"
   ]
  },
  {
   "cell_type": "code",
   "execution_count": 15,
   "id": "italic-funeral",
   "metadata": {},
   "outputs": [
    {
     "name": "stderr",
     "output_type": "stream",
     "text": [
      "/home/user/miniconda/lib/python3.8/site-packages/torch/nn/functional.py:2398: UserWarning: reduction: 'mean' divides the total loss by both the batch size and the support size.'batchmean' divides only by the batch size, and aligns with the KL div math definition.'mean' will be changed to behave the same as 'batchmean' in the next major release.\n",
      "  warnings.warn(\"reduction: 'mean' divides the total loss by both the batch size and the support size.\"\n"
     ]
    },
    {
     "data": {
      "text/plain": [
       "tensor(5.5292e-07, dtype=torch.float64)"
      ]
     },
     "execution_count": 15,
     "metadata": {},
     "output_type": "execute_result"
    }
   ],
   "source": [
    "# Compare Mbar with xy\n",
    "F_joint = torch.exp(Mbar_joint)\n",
    "F_joint_normalized = F_joint/torch.sum(F_joint)\n",
    "log_F_joint_normalized = torch.log(F_joint_normalized)\n",
    "\n",
    "F.kl_div(log_F_joint_normalized, torch.from_numpy(xy))"
   ]
  },
  {
   "cell_type": "code",
   "execution_count": null,
   "id": "elect-sharing",
   "metadata": {},
   "outputs": [],
   "source": []
  },
  {
   "cell_type": "code",
   "execution_count": 16,
   "id": "fantastic-march",
   "metadata": {},
   "outputs": [],
   "source": [
    "def run_expr_pseudo(n_batch, iters):\n",
    "    '''\n",
    "    model x|y and y|x\n",
    "    '''\n",
    "    torch.manual_seed(42)\n",
    "    \n",
    "    M = torch.randn((x.shape[0],y.shape[0]), requires_grad = True)\n",
    "    print(M[0, :5])\n",
    "    \n",
    "    optimizer = torch.optim.SGD([M],1, 0.99)\n",
    "    Mbar = M.data\n",
    "    \n",
    "    history = {'loss':[]}\n",
    "    \n",
    "    for iteration in tqdm(range(1,iters)):\n",
    "\n",
    "        samples = [np.random.choice(range(xy.reshape(-1).shape[0]), p=xy.reshape(-1)) for i in range(n_batch)]\n",
    "        samples = np.array([(yi//(y.shape[0]), yi%(y.shape[0])) for yi in samples])\n",
    "\n",
    "        optimizer.zero_grad()\n",
    "\n",
    "        F = torch.exp(M)\n",
    "\n",
    "        loss = 0\n",
    "        for i in range(n_batch):\n",
    "            lossi_x = F[samples[i,0],samples[i,1]]/torch.sum(F[samples[i,0], range(xy.shape[1])])\n",
    "            lossi_y = F[samples[i,0],samples[i,1]]/torch.sum(F[range(xy.shape[0]), samples[i,1]])\n",
    "\n",
    "            loss = loss + ((torch.log(lossi_x) + torch.log(lossi_y)) * 0.5)\n",
    "            \n",
    "        loss = -1*loss/n_batch\n",
    "        loss.backward()\n",
    "        optimizer.step()\n",
    "        history['loss'].append(loss.item())\n",
    "        Mbar = (1-1/iteration)*Mbar + (1/iteration)*M.data\n",
    "\n",
    "        if iteration % 100 == 0:\n",
    "            print(torch.var(M))\n",
    "            plt.imshow(Mbar.detach().cpu().numpy())\n",
    "            plt.savefig(f\"dicerolls6_training_results/Mbar_pseudo_{n_batch}_{iteration}.png\")\n",
    "\n",
    "    np.save(f'dicerolls6_training_results/Mbar_pseudo_{n_batch}_{iteration}.npy', Mbar.detach().cpu().numpy())\n",
    "    np.save(f'dicerolls6_training_results/M_pseudo_{n_batch}_{iteration}.npy', M.detach().cpu().numpy())\n",
    "    np.save(f'dicerolls6_training_results/training_loss_pseudo_{n_batch}_{iteration}.npy', np.array(history['loss']))\n",
    "    return M, Mbar, history"
   ]
  },
  {
   "cell_type": "code",
   "execution_count": 17,
   "id": "blond-appeal",
   "metadata": {
    "scrolled": true
   },
   "outputs": [
    {
     "name": "stderr",
     "output_type": "stream",
     "text": [
      "  0%|          | 2/4999 [00:00<06:22, 13.06it/s]"
     ]
    },
    {
     "name": "stdout",
     "output_type": "stream",
     "text": [
      "tensor([ 1.9269,  1.4873,  0.9007, -2.1055,  0.6784], grad_fn=<SliceBackward>)\n"
     ]
    },
    {
     "name": "stderr",
     "output_type": "stream",
     "text": [
      "  2%|▏         | 102/4999 [00:07<06:27, 12.62it/s]"
     ]
    },
    {
     "name": "stdout",
     "output_type": "stream",
     "text": [
      "tensor(166.5578, grad_fn=<VarBackward0>)\n"
     ]
    },
    {
     "name": "stderr",
     "output_type": "stream",
     "text": [
      "  4%|▍         | 202/4999 [00:15<06:13, 12.85it/s]"
     ]
    },
    {
     "name": "stdout",
     "output_type": "stream",
     "text": [
      "tensor(329.0647, grad_fn=<VarBackward0>)\n"
     ]
    },
    {
     "name": "stderr",
     "output_type": "stream",
     "text": [
      "  6%|▌         | 302/4999 [00:22<05:52, 13.32it/s]"
     ]
    },
    {
     "name": "stdout",
     "output_type": "stream",
     "text": [
      "tensor(402.2189, grad_fn=<VarBackward0>)\n"
     ]
    },
    {
     "name": "stderr",
     "output_type": "stream",
     "text": [
      "  8%|▊         | 402/4999 [00:29<05:47, 13.23it/s]"
     ]
    },
    {
     "name": "stdout",
     "output_type": "stream",
     "text": [
      "tensor(430.8928, grad_fn=<VarBackward0>)\n"
     ]
    },
    {
     "name": "stderr",
     "output_type": "stream",
     "text": [
      " 10%|█         | 502/4999 [00:37<05:38, 13.27it/s]"
     ]
    },
    {
     "name": "stdout",
     "output_type": "stream",
     "text": [
      "tensor(441.5714, grad_fn=<VarBackward0>)\n"
     ]
    },
    {
     "name": "stderr",
     "output_type": "stream",
     "text": [
      " 12%|█▏        | 602/4999 [00:44<05:37, 13.04it/s]"
     ]
    },
    {
     "name": "stdout",
     "output_type": "stream",
     "text": [
      "tensor(445.5516, grad_fn=<VarBackward0>)\n"
     ]
    },
    {
     "name": "stderr",
     "output_type": "stream",
     "text": [
      " 14%|█▍        | 702/4999 [00:52<05:26, 13.15it/s]"
     ]
    },
    {
     "name": "stdout",
     "output_type": "stream",
     "text": [
      "tensor(446.9826, grad_fn=<VarBackward0>)\n"
     ]
    },
    {
     "name": "stderr",
     "output_type": "stream",
     "text": [
      " 16%|█▌        | 802/4999 [00:59<05:18, 13.19it/s]"
     ]
    },
    {
     "name": "stdout",
     "output_type": "stream",
     "text": [
      "tensor(447.5289, grad_fn=<VarBackward0>)\n"
     ]
    },
    {
     "name": "stderr",
     "output_type": "stream",
     "text": [
      " 18%|█▊        | 902/4999 [01:06<05:17, 12.89it/s]"
     ]
    },
    {
     "name": "stdout",
     "output_type": "stream",
     "text": [
      "tensor(447.7343, grad_fn=<VarBackward0>)\n"
     ]
    },
    {
     "name": "stderr",
     "output_type": "stream",
     "text": [
      " 20%|██        | 1002/4999 [01:14<05:24, 12.30it/s]"
     ]
    },
    {
     "name": "stdout",
     "output_type": "stream",
     "text": [
      "tensor(447.7920, grad_fn=<VarBackward0>)\n"
     ]
    },
    {
     "name": "stderr",
     "output_type": "stream",
     "text": [
      " 22%|██▏       | 1102/4999 [01:21<05:01, 12.94it/s]"
     ]
    },
    {
     "name": "stdout",
     "output_type": "stream",
     "text": [
      "tensor(447.8310, grad_fn=<VarBackward0>)\n"
     ]
    },
    {
     "name": "stderr",
     "output_type": "stream",
     "text": [
      " 24%|██▍       | 1202/4999 [01:28<04:58, 12.72it/s]"
     ]
    },
    {
     "name": "stdout",
     "output_type": "stream",
     "text": [
      "tensor(447.8484, grad_fn=<VarBackward0>)\n"
     ]
    },
    {
     "name": "stderr",
     "output_type": "stream",
     "text": [
      " 26%|██▌       | 1300/4999 [01:35<05:00, 12.29it/s]"
     ]
    },
    {
     "name": "stdout",
     "output_type": "stream",
     "text": [
      "tensor(447.8332, grad_fn=<VarBackward0>)\n"
     ]
    },
    {
     "name": "stderr",
     "output_type": "stream",
     "text": [
      " 28%|██▊       | 1400/4999 [01:43<04:51, 12.36it/s]"
     ]
    },
    {
     "name": "stdout",
     "output_type": "stream",
     "text": [
      "tensor(447.8477, grad_fn=<VarBackward0>)\n"
     ]
    },
    {
     "name": "stderr",
     "output_type": "stream",
     "text": [
      " 30%|███       | 1500/4999 [01:50<04:42, 12.38it/s]"
     ]
    },
    {
     "name": "stdout",
     "output_type": "stream",
     "text": [
      "tensor(447.8490, grad_fn=<VarBackward0>)\n"
     ]
    },
    {
     "name": "stderr",
     "output_type": "stream",
     "text": [
      " 32%|███▏      | 1600/4999 [01:58<04:44, 11.94it/s]"
     ]
    },
    {
     "name": "stdout",
     "output_type": "stream",
     "text": [
      "tensor(447.8247, grad_fn=<VarBackward0>)\n"
     ]
    },
    {
     "name": "stderr",
     "output_type": "stream",
     "text": [
      " 34%|███▍      | 1700/4999 [02:05<04:30, 12.17it/s]"
     ]
    },
    {
     "name": "stdout",
     "output_type": "stream",
     "text": [
      "tensor(447.8322, grad_fn=<VarBackward0>)\n"
     ]
    },
    {
     "name": "stderr",
     "output_type": "stream",
     "text": [
      " 36%|███▌      | 1800/4999 [02:13<04:29, 11.85it/s]"
     ]
    },
    {
     "name": "stdout",
     "output_type": "stream",
     "text": [
      "tensor(447.8219, grad_fn=<VarBackward0>)\n"
     ]
    },
    {
     "name": "stderr",
     "output_type": "stream",
     "text": [
      " 38%|███▊      | 1900/4999 [02:21<04:21, 11.87it/s]"
     ]
    },
    {
     "name": "stdout",
     "output_type": "stream",
     "text": [
      "tensor(447.8314, grad_fn=<VarBackward0>)\n"
     ]
    },
    {
     "name": "stderr",
     "output_type": "stream",
     "text": [
      " 40%|████      | 2000/4999 [02:28<04:20, 11.51it/s]"
     ]
    },
    {
     "name": "stdout",
     "output_type": "stream",
     "text": [
      "tensor(447.8172, grad_fn=<VarBackward0>)\n"
     ]
    },
    {
     "name": "stderr",
     "output_type": "stream",
     "text": [
      " 42%|████▏     | 2100/4999 [02:35<04:01, 11.99it/s]"
     ]
    },
    {
     "name": "stdout",
     "output_type": "stream",
     "text": [
      "tensor(447.8445, grad_fn=<VarBackward0>)\n"
     ]
    },
    {
     "name": "stderr",
     "output_type": "stream",
     "text": [
      " 44%|████▍     | 2200/4999 [02:43<04:02, 11.54it/s]"
     ]
    },
    {
     "name": "stdout",
     "output_type": "stream",
     "text": [
      "tensor(447.8442, grad_fn=<VarBackward0>)\n"
     ]
    },
    {
     "name": "stderr",
     "output_type": "stream",
     "text": [
      " 46%|████▌     | 2300/4999 [02:50<03:45, 11.97it/s]"
     ]
    },
    {
     "name": "stdout",
     "output_type": "stream",
     "text": [
      "tensor(447.8515, grad_fn=<VarBackward0>)\n"
     ]
    },
    {
     "name": "stderr",
     "output_type": "stream",
     "text": [
      " 48%|████▊     | 2400/4999 [02:58<03:43, 11.63it/s]"
     ]
    },
    {
     "name": "stdout",
     "output_type": "stream",
     "text": [
      "tensor(447.8513, grad_fn=<VarBackward0>)\n"
     ]
    },
    {
     "name": "stderr",
     "output_type": "stream",
     "text": [
      " 50%|█████     | 2500/4999 [03:05<03:33, 11.72it/s]"
     ]
    },
    {
     "name": "stdout",
     "output_type": "stream",
     "text": [
      "tensor(447.8546, grad_fn=<VarBackward0>)\n"
     ]
    },
    {
     "name": "stderr",
     "output_type": "stream",
     "text": [
      " 52%|█████▏    | 2600/4999 [03:13<03:33, 11.22it/s]"
     ]
    },
    {
     "name": "stdout",
     "output_type": "stream",
     "text": [
      "tensor(447.8405, grad_fn=<VarBackward0>)\n"
     ]
    },
    {
     "name": "stderr",
     "output_type": "stream",
     "text": [
      " 54%|█████▍    | 2700/4999 [03:20<03:22, 11.36it/s]"
     ]
    },
    {
     "name": "stdout",
     "output_type": "stream",
     "text": [
      "tensor(447.8494, grad_fn=<VarBackward0>)\n"
     ]
    },
    {
     "name": "stderr",
     "output_type": "stream",
     "text": [
      " 56%|█████▌    | 2800/4999 [03:28<03:10, 11.56it/s]"
     ]
    },
    {
     "name": "stdout",
     "output_type": "stream",
     "text": [
      "tensor(447.8577, grad_fn=<VarBackward0>)\n"
     ]
    },
    {
     "name": "stderr",
     "output_type": "stream",
     "text": [
      " 58%|█████▊    | 2900/4999 [03:35<03:02, 11.53it/s]"
     ]
    },
    {
     "name": "stdout",
     "output_type": "stream",
     "text": [
      "tensor(447.8320, grad_fn=<VarBackward0>)\n"
     ]
    },
    {
     "name": "stderr",
     "output_type": "stream",
     "text": [
      " 60%|██████    | 3000/4999 [03:43<02:53, 11.53it/s]"
     ]
    },
    {
     "name": "stdout",
     "output_type": "stream",
     "text": [
      "tensor(447.8320, grad_fn=<VarBackward0>)\n"
     ]
    },
    {
     "name": "stderr",
     "output_type": "stream",
     "text": [
      " 62%|██████▏   | 3100/4999 [03:50<02:43, 11.59it/s]"
     ]
    },
    {
     "name": "stdout",
     "output_type": "stream",
     "text": [
      "tensor(447.8393, grad_fn=<VarBackward0>)\n"
     ]
    },
    {
     "name": "stderr",
     "output_type": "stream",
     "text": [
      " 64%|██████▍   | 3200/4999 [03:58<02:37, 11.43it/s]"
     ]
    },
    {
     "name": "stdout",
     "output_type": "stream",
     "text": [
      "tensor(447.8526, grad_fn=<VarBackward0>)\n"
     ]
    },
    {
     "name": "stderr",
     "output_type": "stream",
     "text": [
      " 66%|██████▌   | 3300/4999 [04:05<02:27, 11.50it/s]"
     ]
    },
    {
     "name": "stdout",
     "output_type": "stream",
     "text": [
      "tensor(447.8675, grad_fn=<VarBackward0>)\n"
     ]
    },
    {
     "name": "stderr",
     "output_type": "stream",
     "text": [
      " 68%|██████▊   | 3400/4999 [04:12<02:21, 11.34it/s]"
     ]
    },
    {
     "name": "stdout",
     "output_type": "stream",
     "text": [
      "tensor(447.8517, grad_fn=<VarBackward0>)\n"
     ]
    },
    {
     "name": "stderr",
     "output_type": "stream",
     "text": [
      " 70%|███████   | 3500/4999 [04:20<02:13, 11.19it/s]"
     ]
    },
    {
     "name": "stdout",
     "output_type": "stream",
     "text": [
      "tensor(447.8372, grad_fn=<VarBackward0>)\n"
     ]
    },
    {
     "name": "stderr",
     "output_type": "stream",
     "text": [
      " 72%|███████▏  | 3600/4999 [04:27<02:04, 11.26it/s]"
     ]
    },
    {
     "name": "stdout",
     "output_type": "stream",
     "text": [
      "tensor(447.8470, grad_fn=<VarBackward0>)\n"
     ]
    },
    {
     "name": "stderr",
     "output_type": "stream",
     "text": [
      " 74%|███████▍  | 3700/4999 [04:34<01:55, 11.26it/s]"
     ]
    },
    {
     "name": "stdout",
     "output_type": "stream",
     "text": [
      "tensor(447.8340, grad_fn=<VarBackward0>)\n"
     ]
    },
    {
     "name": "stderr",
     "output_type": "stream",
     "text": [
      " 76%|███████▌  | 3800/4999 [04:42<01:48, 11.07it/s]"
     ]
    },
    {
     "name": "stdout",
     "output_type": "stream",
     "text": [
      "tensor(447.8228, grad_fn=<VarBackward0>)\n"
     ]
    },
    {
     "name": "stderr",
     "output_type": "stream",
     "text": [
      " 78%|███████▊  | 3900/4999 [04:49<01:41, 10.82it/s]"
     ]
    },
    {
     "name": "stdout",
     "output_type": "stream",
     "text": [
      "tensor(447.8204, grad_fn=<VarBackward0>)\n"
     ]
    },
    {
     "name": "stderr",
     "output_type": "stream",
     "text": [
      " 80%|████████  | 4000/4999 [04:57<01:29, 11.13it/s]"
     ]
    },
    {
     "name": "stdout",
     "output_type": "stream",
     "text": [
      "tensor(447.8289, grad_fn=<VarBackward0>)\n"
     ]
    },
    {
     "name": "stderr",
     "output_type": "stream",
     "text": [
      " 82%|████████▏ | 4100/4999 [05:04<01:22, 10.96it/s]"
     ]
    },
    {
     "name": "stdout",
     "output_type": "stream",
     "text": [
      "tensor(447.8153, grad_fn=<VarBackward0>)\n"
     ]
    },
    {
     "name": "stderr",
     "output_type": "stream",
     "text": [
      " 84%|████████▍ | 4200/4999 [05:12<01:14, 10.70it/s]"
     ]
    },
    {
     "name": "stdout",
     "output_type": "stream",
     "text": [
      "tensor(447.8346, grad_fn=<VarBackward0>)\n"
     ]
    },
    {
     "name": "stderr",
     "output_type": "stream",
     "text": [
      " 86%|████████▌ | 4300/4999 [05:19<01:06, 10.48it/s]"
     ]
    },
    {
     "name": "stdout",
     "output_type": "stream",
     "text": [
      "tensor(447.8274, grad_fn=<VarBackward0>)\n"
     ]
    },
    {
     "name": "stderr",
     "output_type": "stream",
     "text": [
      " 88%|████████▊ | 4400/4999 [05:27<00:55, 10.75it/s]"
     ]
    },
    {
     "name": "stdout",
     "output_type": "stream",
     "text": [
      "tensor(447.8482, grad_fn=<VarBackward0>)\n"
     ]
    },
    {
     "name": "stderr",
     "output_type": "stream",
     "text": [
      " 90%|█████████ | 4500/4999 [05:35<00:45, 10.85it/s]"
     ]
    },
    {
     "name": "stdout",
     "output_type": "stream",
     "text": [
      "tensor(447.8644, grad_fn=<VarBackward0>)\n"
     ]
    },
    {
     "name": "stderr",
     "output_type": "stream",
     "text": [
      " 92%|█████████▏| 4600/4999 [05:42<00:37, 10.66it/s]"
     ]
    },
    {
     "name": "stdout",
     "output_type": "stream",
     "text": [
      "tensor(447.8477, grad_fn=<VarBackward0>)\n"
     ]
    },
    {
     "name": "stderr",
     "output_type": "stream",
     "text": [
      " 94%|█████████▍| 4700/4999 [05:50<00:27, 10.86it/s]"
     ]
    },
    {
     "name": "stdout",
     "output_type": "stream",
     "text": [
      "tensor(447.8379, grad_fn=<VarBackward0>)\n"
     ]
    },
    {
     "name": "stderr",
     "output_type": "stream",
     "text": [
      " 96%|█████████▌| 4800/4999 [05:57<00:18, 10.57it/s]"
     ]
    },
    {
     "name": "stdout",
     "output_type": "stream",
     "text": [
      "tensor(447.8272, grad_fn=<VarBackward0>)\n"
     ]
    },
    {
     "name": "stderr",
     "output_type": "stream",
     "text": [
      " 98%|█████████▊| 4900/4999 [06:05<00:09, 10.55it/s]"
     ]
    },
    {
     "name": "stdout",
     "output_type": "stream",
     "text": [
      "tensor(447.8459, grad_fn=<VarBackward0>)\n"
     ]
    },
    {
     "name": "stderr",
     "output_type": "stream",
     "text": [
      "100%|██████████| 4999/4999 [06:12<00:00, 13.43it/s]\n"
     ]
    },
    {
     "data": {
      "text/plain": [
       "(tensor([[ 21.3635, -14.5613, -12.5911,  -2.9938, -11.9526,  -4.2921],\n",
       "         [ -6.3420,  28.7446,  -5.9981, -27.7186,  -8.0965,  -5.0462],\n",
       "         [ -4.3674,  27.4465,  28.6766, -16.7039, -31.3158, -11.0004],\n",
       "         [ -4.4067, -11.0352,  27.9554,  28.9276, -17.6824, -33.4795],\n",
       "         [-15.4035, -19.7478,  28.1705,  27.9540,  28.3273, -12.0107],\n",
       "         [ -8.1683, -20.3717,  -5.3323,  28.5084,  28.4643,  28.6544],\n",
       "         [-13.5503,  -9.4491, -16.8088,  28.1007,  28.7033,  28.5614],\n",
       "         [ -5.0433,  -7.1416,  -5.3428, -42.6185,  28.4304,  28.3027],\n",
       "         [ -3.6064,  -5.2560, -38.1651, -13.0013,  27.9318,  28.9143],\n",
       "         [ -3.0687, -17.2010,  -9.5532,  -9.7029,  -9.7140,  28.6786],\n",
       "         [ -6.5794,  -4.4061,  -3.2868,  -4.7996, -44.6371,  28.0115]],\n",
       "        requires_grad=True),\n",
       " tensor([[ 20.9533, -14.2246, -12.3090,  -2.9748, -11.6883,  -4.2275],\n",
       "         [ -6.2090,  27.9843,  -5.8875, -27.1126,  -7.9345,  -4.9694],\n",
       "         [ -4.2905,  27.1829,  27.9831, -16.3403, -30.6376, -10.7740],\n",
       "         [ -4.3241, -10.7946,  27.8962,  27.9724, -17.2985, -32.7618],\n",
       "         [-15.0568, -19.3113,  27.3110,  27.8649,  27.9166, -11.7595],\n",
       "         [ -8.0029, -19.9328,  -5.2494,  27.9574,  27.9736,  27.9306],\n",
       "         [-13.2606,  -9.2593, -16.4524,  27.3133,  27.8548,  27.9845],\n",
       "         [ -4.9555,  -7.0040,  -5.2572, -41.7048,  28.0078,  27.9061],\n",
       "         [ -3.5490,  -5.1585, -37.3390, -12.7185,  27.3190,  27.9749],\n",
       "         [ -3.0256, -16.8168,  -9.3499,  -9.4944,  -9.5092,  28.0212],\n",
       "         [ -6.4232,  -4.3246,  -3.2635,  -4.7123, -43.6678,  27.2865]]),\n",
       " {'loss': [2.8011860847473145,\n",
       "   2.710752487182617,\n",
       "   2.607975959777832,\n",
       "   2.546530246734619,\n",
       "   2.317492961883545,\n",
       "   2.1314337253570557,\n",
       "   1.9679350852966309,\n",
       "   1.7599681615829468,\n",
       "   1.5856891870498657,\n",
       "   1.4421050548553467,\n",
       "   1.3660190105438232,\n",
       "   1.2716573476791382,\n",
       "   1.261263132095337,\n",
       "   1.2054003477096558,\n",
       "   1.2378602027893066,\n",
       "   1.2976996898651123,\n",
       "   1.348625898361206,\n",
       "   1.2939074039459229,\n",
       "   1.3278717994689941,\n",
       "   1.2337594032287598,\n",
       "   1.3253960609436035,\n",
       "   1.2484140396118164,\n",
       "   1.2490485906600952,\n",
       "   1.1794108152389526,\n",
       "   1.1511675119400024,\n",
       "   1.1577624082565308,\n",
       "   1.1220643520355225,\n",
       "   1.135650873184204,\n",
       "   1.1341060400009155,\n",
       "   1.1662187576293945,\n",
       "   1.1580241918563843,\n",
       "   1.1806329488754272,\n",
       "   1.2308566570281982,\n",
       "   1.2097057104110718,\n",
       "   1.19242525100708,\n",
       "   1.1828235387802124,\n",
       "   1.2054082155227661,\n",
       "   1.1800928115844727,\n",
       "   1.175112009048462,\n",
       "   1.177903175354004,\n",
       "   1.1507829427719116,\n",
       "   1.1620773077011108,\n",
       "   1.162947654724121,\n",
       "   1.1399528980255127,\n",
       "   1.1973387002944946,\n",
       "   1.1840237379074097,\n",
       "   1.1958975791931152,\n",
       "   1.317672848701477,\n",
       "   1.2024248838424683,\n",
       "   1.2369966506958008,\n",
       "   1.205779790878296,\n",
       "   1.1754229068756104,\n",
       "   1.1425487995147705,\n",
       "   1.1794053316116333,\n",
       "   1.1622778177261353,\n",
       "   1.1655199527740479,\n",
       "   1.1423677206039429,\n",
       "   1.1561733484268188,\n",
       "   1.1317322254180908,\n",
       "   1.1812148094177246,\n",
       "   1.1833406686782837,\n",
       "   1.1789757013320923,\n",
       "   1.1676489114761353,\n",
       "   1.1867835521697998,\n",
       "   1.2267409563064575,\n",
       "   1.2521969079971313,\n",
       "   1.200371265411377,\n",
       "   1.201412320137024,\n",
       "   1.1521329879760742,\n",
       "   1.1542422771453857,\n",
       "   1.1527280807495117,\n",
       "   1.1217124462127686,\n",
       "   1.0956974029541016,\n",
       "   1.1239086389541626,\n",
       "   1.0907509326934814,\n",
       "   1.1441439390182495,\n",
       "   1.0985546112060547,\n",
       "   1.1824581623077393,\n",
       "   1.1401878595352173,\n",
       "   1.1569048166275024,\n",
       "   1.1311837434768677,\n",
       "   1.12118661403656,\n",
       "   1.1994742155075073,\n",
       "   1.173719048500061,\n",
       "   1.131782054901123,\n",
       "   1.139613151550293,\n",
       "   1.1459770202636719,\n",
       "   1.1295019388198853,\n",
       "   1.1147429943084717,\n",
       "   1.1106454133987427,\n",
       "   1.135125994682312,\n",
       "   1.1214553117752075,\n",
       "   1.1124825477600098,\n",
       "   1.1217188835144043,\n",
       "   1.1466811895370483,\n",
       "   1.1202828884124756,\n",
       "   1.0863500833511353,\n",
       "   1.0913430452346802,\n",
       "   1.061947226524353,\n",
       "   1.0960849523544312,\n",
       "   1.0987318754196167,\n",
       "   1.1019467115402222,\n",
       "   1.066127061843872,\n",
       "   1.123532772064209,\n",
       "   1.1337890625,\n",
       "   1.1545681953430176,\n",
       "   1.2197948694229126,\n",
       "   1.1014413833618164,\n",
       "   1.15120530128479,\n",
       "   1.1664538383483887,\n",
       "   1.1145437955856323,\n",
       "   1.0973349809646606,\n",
       "   1.1048730611801147,\n",
       "   1.137611985206604,\n",
       "   1.13405179977417,\n",
       "   1.1118322610855103,\n",
       "   1.1179258823394775,\n",
       "   1.0927090644836426,\n",
       "   1.1403120756149292,\n",
       "   1.1321206092834473,\n",
       "   1.1445610523223877,\n",
       "   1.1139869689941406,\n",
       "   1.1884206533432007,\n",
       "   1.1627659797668457,\n",
       "   1.1351768970489502,\n",
       "   1.1445764303207397,\n",
       "   1.132957100868225,\n",
       "   1.1252813339233398,\n",
       "   1.0969158411026,\n",
       "   1.11262047290802,\n",
       "   1.1383001804351807,\n",
       "   1.1656802892684937,\n",
       "   1.1029713153839111,\n",
       "   1.159512996673584,\n",
       "   1.08963143825531,\n",
       "   1.1412783861160278,\n",
       "   1.1219648122787476,\n",
       "   1.08046555519104,\n",
       "   1.0972219705581665,\n",
       "   1.083408236503601,\n",
       "   1.1465270519256592,\n",
       "   1.126788854598999,\n",
       "   1.1576032638549805,\n",
       "   1.1524059772491455,\n",
       "   1.130459189414978,\n",
       "   1.1194247007369995,\n",
       "   1.114959716796875,\n",
       "   1.1433652639389038,\n",
       "   1.1208876371383667,\n",
       "   1.1031901836395264,\n",
       "   1.1236752271652222,\n",
       "   1.1412041187286377,\n",
       "   1.0937808752059937,\n",
       "   1.1054271459579468,\n",
       "   1.0867904424667358,\n",
       "   1.1236807107925415,\n",
       "   1.0716396570205688,\n",
       "   1.0823571681976318,\n",
       "   1.0994247198104858,\n",
       "   1.1147890090942383,\n",
       "   1.112082839012146,\n",
       "   1.1266895532608032,\n",
       "   1.0982441902160645,\n",
       "   1.0900241136550903,\n",
       "   1.0967779159545898,\n",
       "   1.0878182649612427,\n",
       "   1.0997912883758545,\n",
       "   1.1053906679153442,\n",
       "   1.0809822082519531,\n",
       "   1.1271238327026367,\n",
       "   1.109290599822998,\n",
       "   1.1242769956588745,\n",
       "   1.1290184259414673,\n",
       "   1.1090447902679443,\n",
       "   1.088169813156128,\n",
       "   1.0761702060699463,\n",
       "   1.08591890335083,\n",
       "   1.094733715057373,\n",
       "   1.0834827423095703,\n",
       "   1.0826271772384644,\n",
       "   1.0917619466781616,\n",
       "   1.0810670852661133,\n",
       "   1.0807650089263916,\n",
       "   1.1255379915237427,\n",
       "   1.129393219947815,\n",
       "   1.0935612916946411,\n",
       "   1.1211609840393066,\n",
       "   1.1141941547393799,\n",
       "   1.071262001991272,\n",
       "   1.0748069286346436,\n",
       "   1.0734418630599976,\n",
       "   1.0741311311721802,\n",
       "   1.0838671922683716,\n",
       "   1.0903369188308716,\n",
       "   1.1088082790374756,\n",
       "   1.0832899808883667,\n",
       "   1.1014885902404785,\n",
       "   1.1005176305770874,\n",
       "   1.1068918704986572,\n",
       "   1.0610982179641724,\n",
       "   1.1207689046859741,\n",
       "   1.1619247198104858,\n",
       "   1.1312589645385742,\n",
       "   1.1189862489700317,\n",
       "   1.0784542560577393,\n",
       "   1.1100224256515503,\n",
       "   1.1151484251022339,\n",
       "   1.0959608554840088,\n",
       "   1.0702463388442993,\n",
       "   1.1455953121185303,\n",
       "   1.0961984395980835,\n",
       "   1.0946149826049805,\n",
       "   1.1018433570861816,\n",
       "   1.1115535497665405,\n",
       "   1.1144068241119385,\n",
       "   1.0851573944091797,\n",
       "   1.1148881912231445,\n",
       "   1.104453206062317,\n",
       "   1.0784831047058105,\n",
       "   1.0769822597503662,\n",
       "   1.0684328079223633,\n",
       "   1.0619971752166748,\n",
       "   1.0716805458068848,\n",
       "   1.0873477458953857,\n",
       "   1.1167714595794678,\n",
       "   1.1174484491348267,\n",
       "   1.1273609399795532,\n",
       "   1.1401498317718506,\n",
       "   1.1212220191955566,\n",
       "   1.1312389373779297,\n",
       "   1.1152931451797485,\n",
       "   1.07647705078125,\n",
       "   1.0608582496643066,\n",
       "   1.070682168006897,\n",
       "   1.0539456605911255,\n",
       "   1.098368525505066,\n",
       "   1.0694260597229004,\n",
       "   1.084126353263855,\n",
       "   1.0856029987335205,\n",
       "   1.1001155376434326,\n",
       "   1.0979112386703491,\n",
       "   1.1006202697753906,\n",
       "   1.1277681589126587,\n",
       "   1.0983296632766724,\n",
       "   1.1158696413040161,\n",
       "   1.105518102645874,\n",
       "   1.1159971952438354,\n",
       "   1.107851266860962,\n",
       "   1.0463788509368896,\n",
       "   1.0892374515533447,\n",
       "   1.0921481847763062,\n",
       "   1.0931545495986938,\n",
       "   1.0864794254302979,\n",
       "   1.1016631126403809,\n",
       "   1.1088873147964478,\n",
       "   1.128604531288147,\n",
       "   1.1049388647079468,\n",
       "   1.1345685720443726,\n",
       "   1.1029828786849976,\n",
       "   1.0675022602081299,\n",
       "   1.086491346359253,\n",
       "   1.0920811891555786,\n",
       "   1.0780670642852783,\n",
       "   1.0986578464508057,\n",
       "   1.0751969814300537,\n",
       "   1.1077766418457031,\n",
       "   1.1034661531448364,\n",
       "   1.1388278007507324,\n",
       "   1.1036815643310547,\n",
       "   1.1066114902496338,\n",
       "   1.0811355113983154,\n",
       "   1.073013424873352,\n",
       "   1.1104331016540527,\n",
       "   1.0769799947738647,\n",
       "   1.0927835702896118,\n",
       "   1.0982868671417236,\n",
       "   1.0586491823196411,\n",
       "   1.0924854278564453,\n",
       "   1.0826176404953003,\n",
       "   1.1019929647445679,\n",
       "   1.1123716831207275,\n",
       "   1.0844933986663818,\n",
       "   1.1044368743896484,\n",
       "   1.0789659023284912,\n",
       "   1.096337080001831,\n",
       "   1.0934138298034668,\n",
       "   1.1009981632232666,\n",
       "   1.0821820497512817,\n",
       "   1.0753049850463867,\n",
       "   1.0870805978775024,\n",
       "   1.0952068567276,\n",
       "   1.0925467014312744,\n",
       "   1.0923821926116943,\n",
       "   1.077083706855774,\n",
       "   1.102402925491333,\n",
       "   1.0948318243026733,\n",
       "   1.108170986175537,\n",
       "   1.0817968845367432,\n",
       "   1.1152344942092896,\n",
       "   1.0682787895202637,\n",
       "   1.0917352437973022,\n",
       "   1.0867780447006226,\n",
       "   1.0603644847869873,\n",
       "   1.0787566900253296,\n",
       "   1.0502870082855225,\n",
       "   1.1219228506088257,\n",
       "   1.101718783378601,\n",
       "   1.1000431776046753,\n",
       "   1.117002010345459,\n",
       "   1.1242985725402832,\n",
       "   1.119167685508728,\n",
       "   1.0969280004501343,\n",
       "   1.1188324689865112,\n",
       "   1.120280146598816,\n",
       "   1.0472370386123657,\n",
       "   1.1023744344711304,\n",
       "   1.1003276109695435,\n",
       "   1.0661869049072266,\n",
       "   1.0727025270462036,\n",
       "   1.1071670055389404,\n",
       "   1.1116892099380493,\n",
       "   1.0929471254348755,\n",
       "   1.10945725440979,\n",
       "   1.0675595998764038,\n",
       "   1.0972142219543457,\n",
       "   1.1115925312042236,\n",
       "   1.0605154037475586,\n",
       "   1.0964184999465942,\n",
       "   1.0736016035079956,\n",
       "   1.0705504417419434,\n",
       "   1.0663813352584839,\n",
       "   1.0832747220993042,\n",
       "   1.0486764907836914,\n",
       "   1.0825625658035278,\n",
       "   1.1091328859329224,\n",
       "   1.1288129091262817,\n",
       "   1.068276047706604,\n",
       "   1.1104916334152222,\n",
       "   1.1211819648742676,\n",
       "   1.1118171215057373,\n",
       "   1.0869402885437012,\n",
       "   1.0837267637252808,\n",
       "   1.093239665031433,\n",
       "   1.0990594625473022,\n",
       "   1.0524195432662964,\n",
       "   1.0936002731323242,\n",
       "   1.1300106048583984,\n",
       "   1.0908310413360596,\n",
       "   1.1009644269943237,\n",
       "   1.1064743995666504,\n",
       "   1.1088504791259766,\n",
       "   1.073270559310913,\n",
       "   1.0910390615463257,\n",
       "   1.101991057395935,\n",
       "   1.1066278219223022,\n",
       "   1.06004798412323,\n",
       "   1.0791929960250854,\n",
       "   1.1129450798034668,\n",
       "   1.061000108718872,\n",
       "   1.0864239931106567,\n",
       "   1.0624940395355225,\n",
       "   1.0856974124908447,\n",
       "   1.0543659925460815,\n",
       "   1.0437769889831543,\n",
       "   1.1170955896377563,\n",
       "   1.0637667179107666,\n",
       "   1.1302697658538818,\n",
       "   1.101098656654358,\n",
       "   1.0841012001037598,\n",
       "   1.092095971107483,\n",
       "   1.1011319160461426,\n",
       "   1.0798957347869873,\n",
       "   1.1119154691696167,\n",
       "   1.1271827220916748,\n",
       "   1.103918433189392,\n",
       "   1.0692628622055054,\n",
       "   1.1126353740692139,\n",
       "   1.1015788316726685,\n",
       "   1.0898826122283936,\n",
       "   1.0874621868133545,\n",
       "   1.1036787033081055,\n",
       "   1.0853689908981323,\n",
       "   1.0984786748886108,\n",
       "   1.0854809284210205,\n",
       "   1.0413320064544678,\n",
       "   1.1081105470657349,\n",
       "   1.0850101709365845,\n",
       "   1.0966942310333252,\n",
       "   1.1056451797485352,\n",
       "   1.0685014724731445,\n",
       "   1.052390456199646,\n",
       "   1.0832207202911377,\n",
       "   1.0850732326507568,\n",
       "   1.0981053113937378,\n",
       "   1.1015253067016602,\n",
       "   1.1021100282669067,\n",
       "   1.063578724861145,\n",
       "   1.1086846590042114,\n",
       "   1.089747428894043,\n",
       "   1.131769061088562,\n",
       "   1.0986592769622803,\n",
       "   1.1153795719146729,\n",
       "   1.112087368965149,\n",
       "   1.118800163269043,\n",
       "   1.107656717300415,\n",
       "   1.090866208076477,\n",
       "   1.12185537815094,\n",
       "   1.0508235692977905,\n",
       "   1.041136622428894,\n",
       "   1.0646659135818481,\n",
       "   1.086485743522644,\n",
       "   1.093354344367981,\n",
       "   1.0818712711334229,\n",
       "   1.1036090850830078,\n",
       "   1.1059988737106323,\n",
       "   1.0932828187942505,\n",
       "   1.0984604358673096,\n",
       "   1.117167592048645,\n",
       "   1.0799351930618286,\n",
       "   1.063098669052124,\n",
       "   1.0894404649734497,\n",
       "   1.096166729927063,\n",
       "   1.1041682958602905,\n",
       "   1.1147191524505615,\n",
       "   1.0889439582824707,\n",
       "   1.0734549760818481,\n",
       "   1.080573320388794,\n",
       "   1.123467206954956,\n",
       "   1.1102863550186157,\n",
       "   1.0918759107589722,\n",
       "   1.0996308326721191,\n",
       "   1.0936280488967896,\n",
       "   1.071699857711792,\n",
       "   1.1142089366912842,\n",
       "   1.1021970510482788,\n",
       "   1.1091595888137817,\n",
       "   1.1192632913589478,\n",
       "   1.1214357614517212,\n",
       "   1.1352177858352661,\n",
       "   1.124661922454834,\n",
       "   1.1016842126846313,\n",
       "   1.0860450267791748,\n",
       "   1.116503119468689,\n",
       "   1.1018356084823608,\n",
       "   1.1143091917037964,\n",
       "   1.088390827178955,\n",
       "   1.115573525428772,\n",
       "   1.070380449295044,\n",
       "   1.0619916915893555,\n",
       "   1.0841526985168457,\n",
       "   1.0804156064987183,\n",
       "   1.104782223701477,\n",
       "   1.0833327770233154,\n",
       "   1.10898756980896,\n",
       "   1.143393635749817,\n",
       "   1.0876628160476685,\n",
       "   1.1197803020477295,\n",
       "   1.121953010559082,\n",
       "   1.1012636423110962,\n",
       "   1.0755282640457153,\n",
       "   1.1108362674713135,\n",
       "   1.1197444200515747,\n",
       "   1.0833531618118286,\n",
       "   1.166650414466858,\n",
       "   1.155988335609436,\n",
       "   1.0836594104766846,\n",
       "   1.0731842517852783,\n",
       "   1.0917997360229492,\n",
       "   1.081613540649414,\n",
       "   1.1024636030197144,\n",
       "   1.109437108039856,\n",
       "   1.106669306755066,\n",
       "   1.100812554359436,\n",
       "   1.0757635831832886,\n",
       "   1.091683030128479,\n",
       "   1.0956462621688843,\n",
       "   1.1052380800247192,\n",
       "   1.1386120319366455,\n",
       "   1.1264549493789673,\n",
       "   1.1168997287750244,\n",
       "   1.078751802444458,\n",
       "   1.131977915763855,\n",
       "   1.0908653736114502,\n",
       "   1.070376992225647,\n",
       "   1.0890676975250244,\n",
       "   1.0641279220581055,\n",
       "   1.119581699371338,\n",
       "   1.0942500829696655,\n",
       "   1.1730318069458008,\n",
       "   1.1400173902511597,\n",
       "   1.1008225679397583,\n",
       "   1.0997629165649414,\n",
       "   1.1322407722473145,\n",
       "   1.1435821056365967,\n",
       "   1.1175793409347534,\n",
       "   1.0498149394989014,\n",
       "   1.0929920673370361,\n",
       "   1.0648460388183594,\n",
       "   1.0944180488586426,\n",
       "   1.0346800088882446,\n",
       "   1.0786796808242798,\n",
       "   1.1016136407852173,\n",
       "   1.07694411277771,\n",
       "   1.1415154933929443,\n",
       "   1.1295626163482666,\n",
       "   1.1023436784744263,\n",
       "   1.1106293201446533,\n",
       "   1.1077734231948853,\n",
       "   1.1387790441513062,\n",
       "   1.0909098386764526,\n",
       "   1.1040763854980469,\n",
       "   1.0746872425079346,\n",
       "   1.1127662658691406,\n",
       "   1.11301851272583,\n",
       "   1.0900695323944092,\n",
       "   1.0714948177337646,\n",
       "   1.1313480138778687,\n",
       "   1.1181917190551758,\n",
       "   1.1585514545440674,\n",
       "   1.1131162643432617,\n",
       "   1.157708764076233,\n",
       "   1.1253936290740967,\n",
       "   1.1425257921218872,\n",
       "   1.108473777770996,\n",
       "   1.0920320749282837,\n",
       "   1.1009517908096313,\n",
       "   1.1074612140655518,\n",
       "   1.0984506607055664,\n",
       "   1.1123236417770386,\n",
       "   1.106074333190918,\n",
       "   1.0938853025436401,\n",
       "   1.1382389068603516,\n",
       "   1.1325236558914185,\n",
       "   1.1086578369140625,\n",
       "   1.1042085886001587,\n",
       "   1.0807075500488281,\n",
       "   1.0704573392868042,\n",
       "   1.1124259233474731,\n",
       "   1.0529651641845703,\n",
       "   1.0879744291305542,\n",
       "   1.0934804677963257,\n",
       "   1.074268102645874,\n",
       "   1.0503151416778564,\n",
       "   1.0976465940475464,\n",
       "   1.0613629817962646,\n",
       "   1.1007580757141113,\n",
       "   1.078453540802002,\n",
       "   1.1259691715240479,\n",
       "   1.1170194149017334,\n",
       "   1.1119983196258545,\n",
       "   1.0993876457214355,\n",
       "   1.0998010635375977,\n",
       "   1.0926474332809448,\n",
       "   1.111647129058838,\n",
       "   1.1036782264709473,\n",
       "   1.1267451047897339,\n",
       "   1.1283949613571167,\n",
       "   1.0718246698379517,\n",
       "   1.0883374214172363,\n",
       "   1.061113715171814,\n",
       "   1.0811271667480469,\n",
       "   1.0655041933059692,\n",
       "   1.0737407207489014,\n",
       "   1.0843098163604736,\n",
       "   1.0939992666244507,\n",
       "   1.0990455150604248,\n",
       "   1.0876078605651855,\n",
       "   1.1003354787826538,\n",
       "   1.131054162979126,\n",
       "   1.0879020690917969,\n",
       "   1.0658398866653442,\n",
       "   1.0989258289337158,\n",
       "   1.0474607944488525,\n",
       "   1.0784269571304321,\n",
       "   1.0598783493041992,\n",
       "   1.1095644235610962,\n",
       "   1.0766710042953491,\n",
       "   1.049476146697998,\n",
       "   1.0777093172073364,\n",
       "   1.0647242069244385,\n",
       "   1.0750552415847778,\n",
       "   1.1143913269042969,\n",
       "   1.1293317079544067,\n",
       "   1.0987387895584106,\n",
       "   1.085211992263794,\n",
       "   1.0997871160507202,\n",
       "   1.1016314029693604,\n",
       "   1.107372760772705,\n",
       "   1.079399824142456,\n",
       "   1.094838261604309,\n",
       "   1.1025930643081665,\n",
       "   1.134488821029663,\n",
       "   1.0953953266143799,\n",
       "   1.0732101202011108,\n",
       "   1.0695405006408691,\n",
       "   1.1039254665374756,\n",
       "   1.0933035612106323,\n",
       "   1.0969949960708618,\n",
       "   1.0798221826553345,\n",
       "   1.127202033996582,\n",
       "   1.123915672302246,\n",
       "   1.1322530508041382,\n",
       "   1.109715223312378,\n",
       "   1.0809680223464966,\n",
       "   1.0988445281982422,\n",
       "   1.1087855100631714,\n",
       "   1.0611318349838257,\n",
       "   1.0740926265716553,\n",
       "   1.0886653661727905,\n",
       "   1.0526118278503418,\n",
       "   1.1189522743225098,\n",
       "   1.1194781064987183,\n",
       "   1.1233038902282715,\n",
       "   1.082658052444458,\n",
       "   1.075675129890442,\n",
       "   1.0842403173446655,\n",
       "   1.1283193826675415,\n",
       "   1.085479497909546,\n",
       "   1.0990197658538818,\n",
       "   1.0666009187698364,\n",
       "   1.082821249961853,\n",
       "   1.107893705368042,\n",
       "   1.0632065534591675,\n",
       "   1.072638988494873,\n",
       "   1.088865041732788,\n",
       "   1.1018015146255493,\n",
       "   1.0780210494995117,\n",
       "   1.0880200862884521,\n",
       "   1.0997425317764282,\n",
       "   1.112815022468567,\n",
       "   1.0606889724731445,\n",
       "   1.0846301317214966,\n",
       "   1.0717779397964478,\n",
       "   1.0719664096832275,\n",
       "   1.0903971195220947,\n",
       "   1.1055541038513184,\n",
       "   1.079002857208252,\n",
       "   1.0693011283874512,\n",
       "   1.0678937435150146,\n",
       "   1.0910601615905762,\n",
       "   1.100067138671875,\n",
       "   1.0703139305114746,\n",
       "   1.1417417526245117,\n",
       "   1.094550371170044,\n",
       "   1.066410779953003,\n",
       "   1.0929043292999268,\n",
       "   1.1157335042953491,\n",
       "   1.0885839462280273,\n",
       "   1.1170954704284668,\n",
       "   1.072153091430664,\n",
       "   1.0679295063018799,\n",
       "   1.0760786533355713,\n",
       "   1.0513293743133545,\n",
       "   1.1144871711730957,\n",
       "   1.072004795074463,\n",
       "   1.0776734352111816,\n",
       "   1.0759869813919067,\n",
       "   1.1060385704040527,\n",
       "   1.1115025281906128,\n",
       "   1.1304035186767578,\n",
       "   1.0843520164489746,\n",
       "   1.0812991857528687,\n",
       "   1.0912742614746094,\n",
       "   1.0730538368225098,\n",
       "   1.0686309337615967,\n",
       "   1.1226190328598022,\n",
       "   1.0344043970108032,\n",
       "   1.0851463079452515,\n",
       "   1.12565016746521,\n",
       "   1.127485990524292,\n",
       "   1.1330033540725708,\n",
       "   1.1011087894439697,\n",
       "   1.089608073234558,\n",
       "   1.1035716533660889,\n",
       "   1.095971703529358,\n",
       "   1.0863724946975708,\n",
       "   1.1120086908340454,\n",
       "   1.0754066705703735,\n",
       "   1.0879827737808228,\n",
       "   1.0687427520751953,\n",
       "   1.0899455547332764,\n",
       "   1.1332746744155884,\n",
       "   1.0849922895431519,\n",
       "   1.1409162282943726,\n",
       "   1.1402839422225952,\n",
       "   1.1192305088043213,\n",
       "   1.0800573825836182,\n",
       "   1.0977433919906616,\n",
       "   1.029396891593933,\n",
       "   1.081369161605835,\n",
       "   1.0807510614395142,\n",
       "   1.065297245979309,\n",
       "   1.0995664596557617,\n",
       "   1.0734498500823975,\n",
       "   1.106377363204956,\n",
       "   1.0865590572357178,\n",
       "   1.0977050065994263,\n",
       "   1.1268937587738037,\n",
       "   1.1013922691345215,\n",
       "   1.0966383218765259,\n",
       "   1.100530982017517,\n",
       "   1.0725624561309814,\n",
       "   1.0866552591323853,\n",
       "   1.1070696115493774,\n",
       "   1.0912368297576904,\n",
       "   1.1086777448654175,\n",
       "   1.0503572225570679,\n",
       "   1.1260943412780762,\n",
       "   1.105582356452942,\n",
       "   1.1374189853668213,\n",
       "   1.1478830575942993,\n",
       "   1.110347867012024,\n",
       "   1.0603405237197876,\n",
       "   1.115215539932251,\n",
       "   1.0619187355041504,\n",
       "   1.0813902616500854,\n",
       "   1.049670696258545,\n",
       "   1.0704200267791748,\n",
       "   1.0542855262756348,\n",
       "   1.0452990531921387,\n",
       "   1.0679467916488647,\n",
       "   1.1353143453598022,\n",
       "   1.1601052284240723,\n",
       "   1.1358555555343628,\n",
       "   1.1078150272369385,\n",
       "   1.0987191200256348,\n",
       "   1.1098740100860596,\n",
       "   1.1393424272537231,\n",
       "   1.0640974044799805,\n",
       "   1.0945448875427246,\n",
       "   1.0759495496749878,\n",
       "   1.0980855226516724,\n",
       "   1.0631672143936157,\n",
       "   1.0887799263000488,\n",
       "   1.1005685329437256,\n",
       "   1.1021559238433838,\n",
       "   1.1010199785232544,\n",
       "   1.1085724830627441,\n",
       "   1.1287407875061035,\n",
       "   1.0552244186401367,\n",
       "   1.0864589214324951,\n",
       "   1.075934886932373,\n",
       "   1.0667256116867065,\n",
       "   1.051123023033142,\n",
       "   1.0834344625473022,\n",
       "   1.1003162860870361,\n",
       "   1.1253364086151123,\n",
       "   1.0875707864761353,\n",
       "   1.1093997955322266,\n",
       "   1.1170998811721802,\n",
       "   1.1111416816711426,\n",
       "   1.1321194171905518,\n",
       "   1.0937206745147705,\n",
       "   1.1032456159591675,\n",
       "   1.0873684883117676,\n",
       "   1.0378082990646362,\n",
       "   1.0712692737579346,\n",
       "   1.0674694776535034,\n",
       "   1.0900969505310059,\n",
       "   1.071810245513916,\n",
       "   1.1132614612579346,\n",
       "   1.0853314399719238,\n",
       "   1.113648772239685,\n",
       "   1.0958014726638794,\n",
       "   1.096961259841919,\n",
       "   1.0812064409255981,\n",
       "   1.0969183444976807,\n",
       "   1.0806949138641357,\n",
       "   1.0994888544082642,\n",
       "   1.0878021717071533,\n",
       "   1.0798946619033813,\n",
       "   1.0841947793960571,\n",
       "   1.1358760595321655,\n",
       "   1.0975942611694336,\n",
       "   1.1048920154571533,\n",
       "   1.1416661739349365,\n",
       "   1.1410737037658691,\n",
       "   1.138314127922058,\n",
       "   1.0830334424972534,\n",
       "   1.1002916097640991,\n",
       "   1.1247594356536865,\n",
       "   1.099411964416504,\n",
       "   1.0768208503723145,\n",
       "   1.079426884651184,\n",
       "   1.0898672342300415,\n",
       "   1.0532258749008179,\n",
       "   1.091973066329956,\n",
       "   1.0949809551239014,\n",
       "   1.1085319519042969,\n",
       "   1.0924906730651855,\n",
       "   1.1089268922805786,\n",
       "   1.0660256147384644,\n",
       "   1.0525379180908203,\n",
       "   1.0952404737472534,\n",
       "   1.0906730890274048,\n",
       "   1.0628396272659302,\n",
       "   1.1133508682250977,\n",
       "   1.0661368370056152,\n",
       "   1.0350821018218994,\n",
       "   1.0672508478164673,\n",
       "   1.1172254085540771,\n",
       "   1.0886046886444092,\n",
       "   1.076833963394165,\n",
       "   1.0905638933181763,\n",
       "   1.136335849761963,\n",
       "   1.0855199098587036,\n",
       "   1.1451257467269897,\n",
       "   1.0800963640213013,\n",
       "   1.0560513734817505,\n",
       "   1.078392744064331,\n",
       "   1.0587540864944458,\n",
       "   1.120334506034851,\n",
       "   1.1097089052200317,\n",
       "   1.098533034324646,\n",
       "   1.150767207145691,\n",
       "   1.081282615661621,\n",
       "   1.1043654680252075,\n",
       "   1.0553117990493774,\n",
       "   1.1187106370925903,\n",
       "   1.039272665977478,\n",
       "   1.0953787565231323,\n",
       "   1.0859320163726807,\n",
       "   1.0834956169128418,\n",
       "   1.0869183540344238,\n",
       "   1.0773241519927979,\n",
       "   1.080143690109253,\n",
       "   1.0787951946258545,\n",
       "   1.1048576831817627,\n",
       "   1.1066792011260986,\n",
       "   1.1124382019042969,\n",
       "   1.125844120979309,\n",
       "   1.1194254159927368,\n",
       "   1.1064437627792358,\n",
       "   1.0982898473739624,\n",
       "   1.1217652559280396,\n",
       "   1.071020483970642,\n",
       "   1.093015432357788,\n",
       "   1.064874529838562,\n",
       "   1.0665545463562012,\n",
       "   1.077120304107666,\n",
       "   1.0754882097244263,\n",
       "   1.0573797225952148,\n",
       "   1.1350780725479126,\n",
       "   1.1486008167266846,\n",
       "   1.1216440200805664,\n",
       "   1.1447268724441528,\n",
       "   1.1378642320632935,\n",
       "   1.1359385251998901,\n",
       "   1.0776668787002563,\n",
       "   1.0770907402038574,\n",
       "   1.067098617553711,\n",
       "   1.1277642250061035,\n",
       "   1.0874487161636353,\n",
       "   1.0946964025497437,\n",
       "   1.123482584953308,\n",
       "   1.1337100267410278,\n",
       "   1.1354517936706543,\n",
       "   1.121355414390564,\n",
       "   1.1185648441314697,\n",
       "   1.0665055513381958,\n",
       "   1.1491907835006714,\n",
       "   1.0996862649917603,\n",
       "   1.1064635515213013,\n",
       "   1.0966784954071045,\n",
       "   1.0543882846832275,\n",
       "   1.0615510940551758,\n",
       "   1.0877350568771362,\n",
       "   1.1045763492584229,\n",
       "   1.0861766338348389,\n",
       "   1.1193915605545044,\n",
       "   1.1399728059768677,\n",
       "   1.1330875158309937,\n",
       "   1.14565110206604,\n",
       "   1.0948370695114136,\n",
       "   1.0718024969100952,\n",
       "   1.1020872592926025,\n",
       "   1.0578646659851074,\n",
       "   1.0799504518508911,\n",
       "   1.1060400009155273,\n",
       "   1.0948846340179443,\n",
       "   1.0887147188186646,\n",
       "   1.1170345544815063,\n",
       "   1.0735434293746948,\n",
       "   1.1097428798675537,\n",
       "   1.1078195571899414,\n",
       "   1.0668234825134277,\n",
       "   1.0891531705856323,\n",
       "   1.119835376739502,\n",
       "   1.0845106840133667,\n",
       "   1.0581773519515991,\n",
       "   1.0834662914276123,\n",
       "   1.0940150022506714,\n",
       "   1.076774001121521,\n",
       "   1.1128567457199097,\n",
       "   1.0925352573394775,\n",
       "   1.0888160467147827,\n",
       "   1.079310655593872,\n",
       "   1.088052749633789,\n",
       "   1.1250964403152466,\n",
       "   1.0732972621917725,\n",
       "   1.1125527620315552,\n",
       "   1.090005874633789,\n",
       "   1.0927904844284058,\n",
       "   1.096076488494873,\n",
       "   1.0829933881759644,\n",
       "   1.0880537033081055,\n",
       "   1.0856494903564453,\n",
       "   1.0917361974716187,\n",
       "   1.0804139375686646,\n",
       "   1.1094245910644531,\n",
       "   1.0929417610168457,\n",
       "   1.0643689632415771,\n",
       "   1.1006219387054443,\n",
       "   1.1154603958129883,\n",
       "   1.0798283815383911,\n",
       "   1.1055045127868652,\n",
       "   1.1130038499832153,\n",
       "   1.096150517463684,\n",
       "   1.08888578414917,\n",
       "   1.1046627759933472,\n",
       "   1.0998820066452026,\n",
       "   1.1320736408233643,\n",
       "   1.0786586999893188,\n",
       "   1.0841867923736572,\n",
       "   1.0935938358306885,\n",
       "   1.103102207183838,\n",
       "   1.12909996509552,\n",
       "   1.0908559560775757,\n",
       "   1.1056699752807617,\n",
       "   1.0837422609329224,\n",
       "   1.0996569395065308,\n",
       "   1.10466468334198,\n",
       "   1.0946146249771118,\n",
       "   1.0424563884735107,\n",
       "   1.0471094846725464,\n",
       "   1.0991853475570679,\n",
       "   1.082983136177063,\n",
       "   1.0604519844055176,\n",
       "   1.1390676498413086,\n",
       "   1.093933343887329,\n",
       "   1.1184405088424683,\n",
       "   1.0842063426971436,\n",
       "   1.0681564807891846,\n",
       "   1.0722886323928833,\n",
       "   1.0949920415878296,\n",
       "   1.1024963855743408,\n",
       "   1.0488966703414917,\n",
       "   1.099265217781067,\n",
       "   1.090327501296997,\n",
       "   1.096951961517334,\n",
       "   1.1004769802093506,\n",
       "   1.10598623752594,\n",
       "   1.0957585573196411,\n",
       "   1.082097053527832,\n",
       "   1.1046503782272339,\n",
       "   1.084116816520691,\n",
       "   1.0546461343765259,\n",
       "   1.0730611085891724,\n",
       "   1.123440146446228,\n",
       "   1.067452311515808,\n",
       "   1.085185170173645,\n",
       "   1.1007927656173706,\n",
       "   1.0802297592163086,\n",
       "   1.0861443281173706,\n",
       "   1.1074001789093018,\n",
       "   1.1136513948440552,\n",
       "   1.076233148574829,\n",
       "   1.09687340259552,\n",
       "   1.1025937795639038,\n",
       "   1.0327608585357666,\n",
       "   1.0903877019882202,\n",
       "   1.0969451665878296,\n",
       "   1.09893000125885,\n",
       "   1.0876364707946777,\n",
       "   1.069965124130249,\n",
       "   1.0649447441101074,\n",
       "   1.0921924114227295,\n",
       "   1.1085649728775024,\n",
       "   1.1178416013717651,\n",
       "   1.0869300365447998,\n",
       "   1.1081538200378418,\n",
       "   1.082119107246399,\n",
       "   1.079932451248169,\n",
       "   1.0760504007339478,\n",
       "   1.0710816383361816,\n",
       "   1.0919601917266846,\n",
       "   1.0682543516159058,\n",
       "   1.0676875114440918,\n",
       "   1.0778367519378662,\n",
       "   1.1027235984802246,\n",
       "   1.086116075515747,\n",
       "   1.0793728828430176,\n",
       "   1.089524507522583,\n",
       "   1.0863617658615112,\n",
       "   1.1119190454483032,\n",
       "   1.0907154083251953,\n",
       "   1.0958255529403687,\n",
       "   1.0918567180633545,\n",
       "   1.0865790843963623,\n",
       "   1.0690045356750488,\n",
       "   ...]})"
      ]
     },
     "execution_count": 17,
     "metadata": {},
     "output_type": "execute_result"
    },
    {
     "data": {
      "image/png": "[encoded data removed]",
      "text/plain": [
       "<Figure size 432x288 with 1 Axes>"
      ]
     },
     "metadata": {
      "needs_background": "light"
     },
     "output_type": "display_data"
    }
   ],
   "source": [
    "run_expr_pseudo(n_batch=500, iters=5000)"
   ]
  },
  {
   "cell_type": "code",
   "execution_count": 18,
   "id": "special-earthquake",
   "metadata": {},
   "outputs": [
    {
     "data": {
      "text/plain": [
       "[<matplotlib.lines.Line2D at 0x7f7900341880>]"
      ]
     },
     "execution_count": 18,
     "metadata": {},
     "output_type": "execute_result"
    },
    {
     "data": {
      "image/png": "[encoded data removed]",
      "text/plain": [
       "<Figure size 432x288 with 1 Axes>"
      ]
     },
     "metadata": {
      "needs_background": "light"
     },
     "output_type": "display_data"
    }
   ],
   "source": [
    "plt.plot(history['loss'])"
   ]
  },
  {
   "cell_type": "code",
   "execution_count": 30,
   "id": "spanish-implementation",
   "metadata": {},
   "outputs": [],
   "source": [
    "Mbar_pseudo = torch.from_numpy(np.load(f'dicerolls6_training_results/Mbar_pseudo_{500}_{4999}.npy'))\n",
    "M_pseudo = torch.from_numpy(np.load(f'dicerolls6_training_results/M_pseudo_{500}_{4999}.npy'))"
   ]
  },
  {
   "cell_type": "code",
   "execution_count": 31,
   "id": "unlimited-moses",
   "metadata": {},
   "outputs": [
    {
     "data": {
      "text/plain": [
       "<matplotlib.image.AxesImage at 0x7f79001ac100>"
      ]
     },
     "execution_count": 31,
     "metadata": {},
     "output_type": "execute_result"
    },
    {
     "data": {
      "image/png": "[encoded data removed]",
      "text/plain": [
       "<Figure size 432x288 with 1 Axes>"
      ]
     },
     "metadata": {
      "needs_background": "light"
     },
     "output_type": "display_data"
    }
   ],
   "source": [
    "plt.imshow(torch.exp(Mbar_pseudo))"
   ]
  },
  {
   "cell_type": "code",
   "execution_count": 32,
   "id": "magnetic-blackberry",
   "metadata": {},
   "outputs": [
    {
     "data": {
      "text/plain": [
       "<matplotlib.image.AxesImage at 0x7f79001874c0>"
      ]
     },
     "execution_count": 32,
     "metadata": {},
     "output_type": "execute_result"
    },
    {
     "data": {
      "image/png": "[encoded data removed]",
      "text/plain": [
       "<Figure size 432x288 with 1 Axes>"
      ]
     },
     "metadata": {
      "needs_background": "light"
     },
     "output_type": "display_data"
    }
   ],
   "source": [
    "plt.imshow(torch.exp(M_pseudo))"
   ]
  },
  {
   "cell_type": "code",
   "execution_count": 33,
   "id": "stopped-steps",
   "metadata": {},
   "outputs": [
    {
     "data": {
      "text/plain": [
       "tensor(0.0025, dtype=torch.float64)"
      ]
     },
     "execution_count": 33,
     "metadata": {},
     "output_type": "execute_result"
    }
   ],
   "source": [
    "# Compare Mbar with xy\n",
    "F_pseudo = torch.exp(Mbar_pseudo)\n",
    "F_pseudo_normalized = F_pseudo/torch.sum(F_pseudo)\n",
    "log_F_pseudo_normalized = torch.log(F_pseudo_normalized)\n",
    "\n",
    "F.kl_div(log_F_pseudo_normalized, torch.from_numpy(xy))"
   ]
  },
  {
   "cell_type": "code",
   "execution_count": null,
   "id": "transparent-transcript",
   "metadata": {},
   "outputs": [],
   "source": []
  },
  {
   "cell_type": "code",
   "execution_count": 23,
   "id": "charitable-violation",
   "metadata": {},
   "outputs": [],
   "source": [
    "def run_expr_infoNCE(n_batch, iters):\n",
    "    '''\n",
    "    infoNCE\n",
    "    '''\n",
    "    torch.manual_seed(42)\n",
    "    \n",
    "    M = torch.randn((x.shape[0],y.shape[0]), requires_grad = True)\n",
    "    print(M[0, :5])\n",
    "    \n",
    "    optimizer = torch.optim.SGD([M],1, 0.99)\n",
    "    Mbar = M.data\n",
    "    \n",
    "    history = {'loss':[]}\n",
    "    \n",
    "    for iteration in tqdm(range(1,iters)):\n",
    "\n",
    "        samples = [np.random.choice(range(xy.reshape(-1).shape[0]), p=xy.reshape(-1)) for i in range(n_batch)]\n",
    "        samples = np.array([(yi//(y.shape[0]), yi%(y.shape[0])) for yi in samples])\n",
    "\n",
    "        optimizer.zero_grad()\n",
    "\n",
    "        F = torch.exp(M)\n",
    "\n",
    "        loss = 0\n",
    "        for i in range(n_batch):\n",
    "            lossi_x = F[samples[i,0],samples[i,1]]/torch.sum(F[samples[i,0], samples[:,1]])\n",
    "            lossi_y = F[samples[i,0],samples[i,1]]/torch.sum(F[samples[:,0], samples[i,1]])\n",
    "            \n",
    "            loss = loss + ((torch.log(lossi_x) + torch.log(lossi_y)) * 0.5)\n",
    "        \n",
    "        loss = -1*loss/n_batch\n",
    "        loss.backward()\n",
    "        optimizer.step()\n",
    "        history['loss'].append(loss.item())\n",
    "        Mbar = (1-1/iteration)*Mbar + (1/iteration)*M.data\n",
    "\n",
    "        if iteration % 100 == 0:\n",
    "            print(torch.var(M))\n",
    "            plt.imshow(Mbar.detach().cpu().numpy())\n",
    "            plt.savefig(f\"dicerolls6_training_results/Mbar_infoNCE_{n_batch}_{iteration}.png\")\n",
    "\n",
    "    np.save(f'dicerolls6_training_results/Mbar_infoNCE_{n_batch}_{iteration}.npy', Mbar.detach().cpu().numpy())\n",
    "    np.save(f'dicerolls6_training_results/M_infoNCE_{n_batch}_{iteration}.npy', M.detach().cpu().numpy())\n",
    "    np.save(f'dicerolls6_training_results/training_loss_infoNCE_{n_batch}_{iteration}.npy', np.array(history['loss']))\n",
    "    return M, Mbar, history"
   ]
  },
  {
   "cell_type": "code",
   "execution_count": 24,
   "id": "honey-company",
   "metadata": {
    "scrolled": true
   },
   "outputs": [
    {
     "name": "stderr",
     "output_type": "stream",
     "text": [
      "  0%|          | 2/4999 [00:00<06:35, 12.63it/s]"
     ]
    },
    {
     "name": "stdout",
     "output_type": "stream",
     "text": [
      "tensor([ 1.9269,  1.4873,  0.9007, -2.1055,  0.6784], grad_fn=<SliceBackward>)\n"
     ]
    },
    {
     "name": "stderr",
     "output_type": "stream",
     "text": [
      "  2%|▏         | 102/4999 [00:07<06:41, 12.19it/s]"
     ]
    },
    {
     "name": "stdout",
     "output_type": "stream",
     "text": [
      "tensor(136.1312, grad_fn=<VarBackward0>)\n"
     ]
    },
    {
     "name": "stderr",
     "output_type": "stream",
     "text": [
      "  4%|▍         | 202/4999 [00:15<06:28, 12.36it/s]"
     ]
    },
    {
     "name": "stdout",
     "output_type": "stream",
     "text": [
      "tensor(269.9012, grad_fn=<VarBackward0>)\n"
     ]
    },
    {
     "name": "stderr",
     "output_type": "stream",
     "text": [
      "  6%|▌         | 302/4999 [00:23<06:27, 12.12it/s]"
     ]
    },
    {
     "name": "stdout",
     "output_type": "stream",
     "text": [
      "tensor(329.6020, grad_fn=<VarBackward0>)\n"
     ]
    },
    {
     "name": "stderr",
     "output_type": "stream",
     "text": [
      "  8%|▊         | 402/4999 [00:31<06:09, 12.46it/s]"
     ]
    },
    {
     "name": "stdout",
     "output_type": "stream",
     "text": [
      "tensor(353.1671, grad_fn=<VarBackward0>)\n"
     ]
    },
    {
     "name": "stderr",
     "output_type": "stream",
     "text": [
      " 10%|█         | 502/4999 [00:39<06:02, 12.41it/s]"
     ]
    },
    {
     "name": "stdout",
     "output_type": "stream",
     "text": [
      "tensor(361.9789, grad_fn=<VarBackward0>)\n"
     ]
    },
    {
     "name": "stderr",
     "output_type": "stream",
     "text": [
      " 12%|█▏        | 602/4999 [00:46<06:01, 12.16it/s]"
     ]
    },
    {
     "name": "stdout",
     "output_type": "stream",
     "text": [
      "tensor(365.1696, grad_fn=<VarBackward0>)\n"
     ]
    },
    {
     "name": "stderr",
     "output_type": "stream",
     "text": [
      " 14%|█▍        | 702/4999 [00:54<05:52, 12.21it/s]"
     ]
    },
    {
     "name": "stdout",
     "output_type": "stream",
     "text": [
      "tensor(366.4069, grad_fn=<VarBackward0>)\n"
     ]
    },
    {
     "name": "stderr",
     "output_type": "stream",
     "text": [
      " 16%|█▌        | 800/4999 [01:02<06:04, 11.51it/s]"
     ]
    },
    {
     "name": "stdout",
     "output_type": "stream",
     "text": [
      "tensor(366.8294, grad_fn=<VarBackward0>)\n"
     ]
    },
    {
     "name": "stderr",
     "output_type": "stream",
     "text": [
      " 18%|█▊        | 900/4999 [01:10<06:01, 11.34it/s]"
     ]
    },
    {
     "name": "stdout",
     "output_type": "stream",
     "text": [
      "tensor(366.9836, grad_fn=<VarBackward0>)\n"
     ]
    },
    {
     "name": "stderr",
     "output_type": "stream",
     "text": [
      " 20%|██        | 1000/4999 [01:18<05:41, 11.71it/s]"
     ]
    },
    {
     "name": "stdout",
     "output_type": "stream",
     "text": [
      "tensor(367.0591, grad_fn=<VarBackward0>)\n"
     ]
    },
    {
     "name": "stderr",
     "output_type": "stream",
     "text": [
      " 22%|██▏       | 1100/4999 [01:26<05:37, 11.56it/s]"
     ]
    },
    {
     "name": "stdout",
     "output_type": "stream",
     "text": [
      "tensor(367.0536, grad_fn=<VarBackward0>)\n"
     ]
    },
    {
     "name": "stderr",
     "output_type": "stream",
     "text": [
      " 24%|██▍       | 1200/4999 [01:34<05:26, 11.62it/s]"
     ]
    },
    {
     "name": "stdout",
     "output_type": "stream",
     "text": [
      "tensor(367.0705, grad_fn=<VarBackward0>)\n"
     ]
    },
    {
     "name": "stderr",
     "output_type": "stream",
     "text": [
      " 26%|██▌       | 1300/4999 [01:42<05:15, 11.71it/s]"
     ]
    },
    {
     "name": "stdout",
     "output_type": "stream",
     "text": [
      "tensor(367.0880, grad_fn=<VarBackward0>)\n"
     ]
    },
    {
     "name": "stderr",
     "output_type": "stream",
     "text": [
      " 28%|██▊       | 1400/4999 [01:50<05:05, 11.77it/s]"
     ]
    },
    {
     "name": "stdout",
     "output_type": "stream",
     "text": [
      "tensor(367.0523, grad_fn=<VarBackward0>)\n"
     ]
    },
    {
     "name": "stderr",
     "output_type": "stream",
     "text": [
      " 30%|███       | 1500/4999 [01:57<04:58, 11.71it/s]"
     ]
    },
    {
     "name": "stdout",
     "output_type": "stream",
     "text": [
      "tensor(367.0754, grad_fn=<VarBackward0>)\n"
     ]
    },
    {
     "name": "stderr",
     "output_type": "stream",
     "text": [
      " 32%|███▏      | 1600/4999 [02:05<04:51, 11.66it/s]"
     ]
    },
    {
     "name": "stdout",
     "output_type": "stream",
     "text": [
      "tensor(367.0714, grad_fn=<VarBackward0>)\n"
     ]
    },
    {
     "name": "stderr",
     "output_type": "stream",
     "text": [
      " 34%|███▍      | 1700/4999 [02:13<04:52, 11.27it/s]"
     ]
    },
    {
     "name": "stdout",
     "output_type": "stream",
     "text": [
      "tensor(367.0794, grad_fn=<VarBackward0>)\n"
     ]
    },
    {
     "name": "stderr",
     "output_type": "stream",
     "text": [
      " 36%|███▌      | 1800/4999 [02:21<04:36, 11.59it/s]"
     ]
    },
    {
     "name": "stdout",
     "output_type": "stream",
     "text": [
      "tensor(367.0571, grad_fn=<VarBackward0>)\n"
     ]
    },
    {
     "name": "stderr",
     "output_type": "stream",
     "text": [
      " 38%|███▊      | 1900/4999 [02:29<04:30, 11.47it/s]"
     ]
    },
    {
     "name": "stdout",
     "output_type": "stream",
     "text": [
      "tensor(367.0694, grad_fn=<VarBackward0>)\n"
     ]
    },
    {
     "name": "stderr",
     "output_type": "stream",
     "text": [
      " 40%|████      | 2000/4999 [02:36<04:21, 11.45it/s]"
     ]
    },
    {
     "name": "stdout",
     "output_type": "stream",
     "text": [
      "tensor(367.0874, grad_fn=<VarBackward0>)\n"
     ]
    },
    {
     "name": "stderr",
     "output_type": "stream",
     "text": [
      " 42%|████▏     | 2100/4999 [02:44<04:16, 11.32it/s]"
     ]
    },
    {
     "name": "stdout",
     "output_type": "stream",
     "text": [
      "tensor(367.0730, grad_fn=<VarBackward0>)\n"
     ]
    },
    {
     "name": "stderr",
     "output_type": "stream",
     "text": [
      " 44%|████▍     | 2200/4999 [02:52<04:24, 10.57it/s]"
     ]
    },
    {
     "name": "stdout",
     "output_type": "stream",
     "text": [
      "tensor(367.0630, grad_fn=<VarBackward0>)\n"
     ]
    },
    {
     "name": "stderr",
     "output_type": "stream",
     "text": [
      " 46%|████▌     | 2300/4999 [03:00<03:58, 11.29it/s]"
     ]
    },
    {
     "name": "stdout",
     "output_type": "stream",
     "text": [
      "tensor(367.0676, grad_fn=<VarBackward0>)\n"
     ]
    },
    {
     "name": "stderr",
     "output_type": "stream",
     "text": [
      " 48%|████▊     | 2400/4999 [03:08<03:51, 11.24it/s]"
     ]
    },
    {
     "name": "stdout",
     "output_type": "stream",
     "text": [
      "tensor(367.0732, grad_fn=<VarBackward0>)\n"
     ]
    },
    {
     "name": "stderr",
     "output_type": "stream",
     "text": [
      " 50%|█████     | 2500/4999 [03:16<03:42, 11.21it/s]"
     ]
    },
    {
     "name": "stdout",
     "output_type": "stream",
     "text": [
      "tensor(367.0721, grad_fn=<VarBackward0>)\n"
     ]
    },
    {
     "name": "stderr",
     "output_type": "stream",
     "text": [
      " 52%|█████▏    | 2600/4999 [03:24<03:37, 11.01it/s]"
     ]
    },
    {
     "name": "stdout",
     "output_type": "stream",
     "text": [
      "tensor(367.0712, grad_fn=<VarBackward0>)\n"
     ]
    },
    {
     "name": "stderr",
     "output_type": "stream",
     "text": [
      " 54%|█████▍    | 2700/4999 [03:32<03:30, 10.94it/s]"
     ]
    },
    {
     "name": "stdout",
     "output_type": "stream",
     "text": [
      "tensor(367.0834, grad_fn=<VarBackward0>)\n"
     ]
    },
    {
     "name": "stderr",
     "output_type": "stream",
     "text": [
      " 56%|█████▌    | 2800/4999 [03:40<03:23, 10.80it/s]"
     ]
    },
    {
     "name": "stdout",
     "output_type": "stream",
     "text": [
      "tensor(367.0856, grad_fn=<VarBackward0>)\n"
     ]
    },
    {
     "name": "stderr",
     "output_type": "stream",
     "text": [
      " 58%|█████▊    | 2900/4999 [03:48<03:14, 10.78it/s]"
     ]
    },
    {
     "name": "stdout",
     "output_type": "stream",
     "text": [
      "tensor(367.0772, grad_fn=<VarBackward0>)\n"
     ]
    },
    {
     "name": "stderr",
     "output_type": "stream",
     "text": [
      " 60%|██████    | 3000/4999 [03:56<03:01, 11.00it/s]"
     ]
    },
    {
     "name": "stdout",
     "output_type": "stream",
     "text": [
      "tensor(367.0797, grad_fn=<VarBackward0>)\n"
     ]
    },
    {
     "name": "stderr",
     "output_type": "stream",
     "text": [
      " 62%|██████▏   | 3100/4999 [04:03<02:53, 10.95it/s]"
     ]
    },
    {
     "name": "stdout",
     "output_type": "stream",
     "text": [
      "tensor(367.0725, grad_fn=<VarBackward0>)\n"
     ]
    },
    {
     "name": "stderr",
     "output_type": "stream",
     "text": [
      " 64%|██████▍   | 3200/4999 [04:11<02:45, 10.89it/s]"
     ]
    },
    {
     "name": "stdout",
     "output_type": "stream",
     "text": [
      "tensor(367.0741, grad_fn=<VarBackward0>)\n"
     ]
    },
    {
     "name": "stderr",
     "output_type": "stream",
     "text": [
      " 66%|██████▌   | 3300/4999 [04:19<02:37, 10.79it/s]"
     ]
    },
    {
     "name": "stdout",
     "output_type": "stream",
     "text": [
      "tensor(367.0906, grad_fn=<VarBackward0>)\n"
     ]
    },
    {
     "name": "stderr",
     "output_type": "stream",
     "text": [
      " 68%|██████▊   | 3400/4999 [04:27<02:28, 10.74it/s]"
     ]
    },
    {
     "name": "stdout",
     "output_type": "stream",
     "text": [
      "tensor(367.0761, grad_fn=<VarBackward0>)\n"
     ]
    },
    {
     "name": "stderr",
     "output_type": "stream",
     "text": [
      " 70%|███████   | 3500/4999 [04:35<02:18, 10.82it/s]"
     ]
    },
    {
     "name": "stdout",
     "output_type": "stream",
     "text": [
      "tensor(367.0822, grad_fn=<VarBackward0>)\n"
     ]
    },
    {
     "name": "stderr",
     "output_type": "stream",
     "text": [
      " 72%|███████▏  | 3600/4999 [04:43<02:11, 10.68it/s]"
     ]
    },
    {
     "name": "stdout",
     "output_type": "stream",
     "text": [
      "tensor(367.0657, grad_fn=<VarBackward0>)\n"
     ]
    },
    {
     "name": "stderr",
     "output_type": "stream",
     "text": [
      " 74%|███████▍  | 3700/4999 [04:51<02:05, 10.33it/s]"
     ]
    },
    {
     "name": "stdout",
     "output_type": "stream",
     "text": [
      "tensor(367.0793, grad_fn=<VarBackward0>)\n"
     ]
    },
    {
     "name": "stderr",
     "output_type": "stream",
     "text": [
      " 76%|███████▌  | 3800/4999 [04:59<01:54, 10.44it/s]"
     ]
    },
    {
     "name": "stdout",
     "output_type": "stream",
     "text": [
      "tensor(367.1096, grad_fn=<VarBackward0>)\n"
     ]
    },
    {
     "name": "stderr",
     "output_type": "stream",
     "text": [
      " 78%|███████▊  | 3900/4999 [05:07<01:45, 10.42it/s]"
     ]
    },
    {
     "name": "stdout",
     "output_type": "stream",
     "text": [
      "tensor(367.0847, grad_fn=<VarBackward0>)\n"
     ]
    },
    {
     "name": "stderr",
     "output_type": "stream",
     "text": [
      " 80%|████████  | 4000/4999 [05:15<01:39, 10.01it/s]"
     ]
    },
    {
     "name": "stdout",
     "output_type": "stream",
     "text": [
      "tensor(367.0683, grad_fn=<VarBackward0>)\n"
     ]
    },
    {
     "name": "stderr",
     "output_type": "stream",
     "text": [
      " 82%|████████▏ | 4100/4999 [05:23<01:25, 10.51it/s]"
     ]
    },
    {
     "name": "stdout",
     "output_type": "stream",
     "text": [
      "tensor(367.0844, grad_fn=<VarBackward0>)\n"
     ]
    },
    {
     "name": "stderr",
     "output_type": "stream",
     "text": [
      " 84%|████████▍ | 4200/4999 [05:31<01:18, 10.18it/s]"
     ]
    },
    {
     "name": "stdout",
     "output_type": "stream",
     "text": [
      "tensor(367.0850, grad_fn=<VarBackward0>)\n"
     ]
    },
    {
     "name": "stderr",
     "output_type": "stream",
     "text": [
      " 86%|████████▌ | 4300/4999 [05:39<01:09, 10.06it/s]"
     ]
    },
    {
     "name": "stdout",
     "output_type": "stream",
     "text": [
      "tensor(367.0694, grad_fn=<VarBackward0>)\n"
     ]
    },
    {
     "name": "stderr",
     "output_type": "stream",
     "text": [
      " 88%|████████▊ | 4400/4999 [05:47<00:58, 10.29it/s]"
     ]
    },
    {
     "name": "stdout",
     "output_type": "stream",
     "text": [
      "tensor(367.0667, grad_fn=<VarBackward0>)\n"
     ]
    },
    {
     "name": "stderr",
     "output_type": "stream",
     "text": [
      " 90%|█████████ | 4500/4999 [05:55<00:48, 10.35it/s]"
     ]
    },
    {
     "name": "stdout",
     "output_type": "stream",
     "text": [
      "tensor(367.0748, grad_fn=<VarBackward0>)\n"
     ]
    },
    {
     "name": "stderr",
     "output_type": "stream",
     "text": [
      " 92%|█████████▏| 4600/4999 [06:04<00:40,  9.85it/s]"
     ]
    },
    {
     "name": "stdout",
     "output_type": "stream",
     "text": [
      "tensor(367.1084, grad_fn=<VarBackward0>)\n"
     ]
    },
    {
     "name": "stderr",
     "output_type": "stream",
     "text": [
      " 94%|█████████▍| 4700/4999 [06:12<00:29, 10.04it/s]"
     ]
    },
    {
     "name": "stdout",
     "output_type": "stream",
     "text": [
      "tensor(367.0694, grad_fn=<VarBackward0>)\n"
     ]
    },
    {
     "name": "stderr",
     "output_type": "stream",
     "text": [
      " 96%|█████████▌| 4800/4999 [06:20<00:19, 10.18it/s]"
     ]
    },
    {
     "name": "stdout",
     "output_type": "stream",
     "text": [
      "tensor(367.0770, grad_fn=<VarBackward0>)\n"
     ]
    },
    {
     "name": "stderr",
     "output_type": "stream",
     "text": [
      " 98%|█████████▊| 4900/4999 [06:28<00:09, 10.06it/s]"
     ]
    },
    {
     "name": "stdout",
     "output_type": "stream",
     "text": [
      "tensor(367.0789, grad_fn=<VarBackward0>)\n"
     ]
    },
    {
     "name": "stderr",
     "output_type": "stream",
     "text": [
      "100%|██████████| 4999/4999 [06:36<00:00, 12.62it/s]\n"
     ]
    },
    {
     "data": {
      "text/plain": [
       "(tensor([[ 32.5365,  -7.3131,  -6.8063,  -2.6946,  -9.2777,  -3.5218],\n",
       "         [ -1.9354,  25.8315,  -4.7992, -26.9565,  -9.3951,  -5.7740],\n",
       "         [ -1.8992,  24.5783,  24.7097, -17.5845, -36.5741, -14.0933],\n",
       "         [ -2.0325,  -8.8477,  24.7206,  24.5218, -22.5984, -39.3827],\n",
       "         [ -8.5637, -20.1965,  23.9207,  23.6427,  24.2144, -19.9611],\n",
       "         [ -3.7674, -19.1446,  -6.3500,  23.6223,  23.5046,  23.7898],\n",
       "         [ -5.0534,  -7.8173, -18.0038,  23.3707,  23.8303,  23.4401],\n",
       "         [ -2.1320,  -5.0307,  -4.8246, -42.9995,  24.1255,  23.4041],\n",
       "         [ -1.7858,  -3.6847, -33.7048, -12.5767,  23.5593,  24.2109],\n",
       "         [ -1.5886, -10.1314,  -6.5737,  -7.8680,  -9.4016,  24.5312],\n",
       "         [ -0.6391,  -1.6580,  -2.5388,  -2.3950, -29.4041,  24.4924]],\n",
       "        requires_grad=True),\n",
       " tensor([[ 31.8860,  -7.1265,  -6.6439,  -2.6819,  -9.0677,  -3.4726],\n",
       "         [ -1.8950,  25.3317,  -4.7137, -26.3619,  -9.2050,  -5.6809],\n",
       "         [ -1.8742,  24.1515,  24.4290, -17.2011, -35.7894, -13.8007],\n",
       "         [ -1.9996,  -8.6514,  24.0743,  23.8123, -22.1140, -38.5432],\n",
       "         [ -8.3560, -19.7498,  23.2821,  23.4982,  23.2803, -19.5458],\n",
       "         [ -3.6922, -18.7266,  -6.2453,  23.3563,  23.1140,  22.8635],\n",
       "         [ -4.9395,  -7.6613, -17.6245,  22.9228,  23.2106,  23.1203],\n",
       "         [ -2.1052,  -4.9368,  -4.7499, -42.0780,  23.5590,  23.2402],\n",
       "         [ -1.7670,  -3.6201, -32.9716, -12.3017,  23.1360,  23.5700],\n",
       "         [ -1.5771,  -9.8922,  -6.4332,  -7.6976,  -9.2039,  24.0046],\n",
       "         [ -0.6128,  -1.6361,  -2.5317,  -2.3593, -28.7406,  24.0122]]),\n",
       " {'loss': [6.966568470001221,\n",
       "   6.912168979644775,\n",
       "   6.8457512855529785,\n",
       "   6.640966415405273,\n",
       "   6.458414554595947,\n",
       "   6.264740943908691,\n",
       "   6.12969446182251,\n",
       "   5.96469259262085,\n",
       "   5.776757717132568,\n",
       "   5.715285778045654,\n",
       "   5.612292289733887,\n",
       "   5.553431510925293,\n",
       "   5.498980522155762,\n",
       "   5.568698406219482,\n",
       "   5.592825412750244,\n",
       "   5.510293483734131,\n",
       "   5.6125688552856445,\n",
       "   5.486908912658691,\n",
       "   5.541098117828369,\n",
       "   5.617725372314453,\n",
       "   5.567131996154785,\n",
       "   5.487326145172119,\n",
       "   5.529005527496338,\n",
       "   5.491611003875732,\n",
       "   5.439162254333496,\n",
       "   5.530494689941406,\n",
       "   5.496435165405273,\n",
       "   5.433291435241699,\n",
       "   5.442049503326416,\n",
       "   5.429600715637207,\n",
       "   5.449337005615234,\n",
       "   5.442934513092041,\n",
       "   5.492931365966797,\n",
       "   5.479326248168945,\n",
       "   5.530138969421387,\n",
       "   5.528188705444336,\n",
       "   5.489912986755371,\n",
       "   5.5528364181518555,\n",
       "   5.483030796051025,\n",
       "   5.5174641609191895,\n",
       "   5.510279655456543,\n",
       "   5.487639904022217,\n",
       "   5.439150810241699,\n",
       "   5.484766960144043,\n",
       "   5.476093769073486,\n",
       "   5.544873237609863,\n",
       "   5.555842399597168,\n",
       "   5.546886444091797,\n",
       "   5.541433334350586,\n",
       "   5.5968732833862305,\n",
       "   5.558128833770752,\n",
       "   5.584146499633789,\n",
       "   5.554238796234131,\n",
       "   5.522601127624512,\n",
       "   5.52095890045166,\n",
       "   5.504302024841309,\n",
       "   5.406867980957031,\n",
       "   5.473433017730713,\n",
       "   5.488034725189209,\n",
       "   5.513337135314941,\n",
       "   5.478649616241455,\n",
       "   5.470124244689941,\n",
       "   5.531466484069824,\n",
       "   5.492387294769287,\n",
       "   5.559319972991943,\n",
       "   5.475542068481445,\n",
       "   5.553495407104492,\n",
       "   5.558268070220947,\n",
       "   5.518818378448486,\n",
       "   5.5717949867248535,\n",
       "   5.470457077026367,\n",
       "   5.431683540344238,\n",
       "   5.43302059173584,\n",
       "   5.509642124176025,\n",
       "   5.420871734619141,\n",
       "   5.458415985107422,\n",
       "   5.496219635009766,\n",
       "   5.560621738433838,\n",
       "   5.472845554351807,\n",
       "   5.449960708618164,\n",
       "   5.49604606628418,\n",
       "   5.445370674133301,\n",
       "   5.458505630493164,\n",
       "   5.437599182128906,\n",
       "   5.454178810119629,\n",
       "   5.394813537597656,\n",
       "   5.366316795349121,\n",
       "   5.4110941886901855,\n",
       "   5.398438453674316,\n",
       "   5.49951171875,\n",
       "   5.433394908905029,\n",
       "   5.401796340942383,\n",
       "   5.516015529632568,\n",
       "   5.42767858505249,\n",
       "   5.405076503753662,\n",
       "   5.447830677032471,\n",
       "   5.44170618057251,\n",
       "   5.370594024658203,\n",
       "   5.371913909912109,\n",
       "   5.3784894943237305,\n",
       "   5.401304244995117,\n",
       "   5.314327239990234,\n",
       "   5.4131975173950195,\n",
       "   5.435601711273193,\n",
       "   5.386104583740234,\n",
       "   5.439224720001221,\n",
       "   5.407896041870117,\n",
       "   5.458903789520264,\n",
       "   5.434909820556641,\n",
       "   5.545627117156982,\n",
       "   5.469444751739502,\n",
       "   5.489985466003418,\n",
       "   5.422884464263916,\n",
       "   5.398789882659912,\n",
       "   5.413761138916016,\n",
       "   5.346620559692383,\n",
       "   5.3857903480529785,\n",
       "   5.404448509216309,\n",
       "   5.405179977416992,\n",
       "   5.362550258636475,\n",
       "   5.466280937194824,\n",
       "   5.429275989532471,\n",
       "   5.391000270843506,\n",
       "   5.433254718780518,\n",
       "   5.439453601837158,\n",
       "   5.46664571762085,\n",
       "   5.469701290130615,\n",
       "   5.454880714416504,\n",
       "   5.406735897064209,\n",
       "   5.4607439041137695,\n",
       "   5.350038051605225,\n",
       "   5.425503253936768,\n",
       "   5.349695205688477,\n",
       "   5.381493091583252,\n",
       "   5.4003753662109375,\n",
       "   5.512794494628906,\n",
       "   5.502314567565918,\n",
       "   5.471828937530518,\n",
       "   5.435000419616699,\n",
       "   5.437695503234863,\n",
       "   5.481446743011475,\n",
       "   5.491158962249756,\n",
       "   5.442083358764648,\n",
       "   5.443356037139893,\n",
       "   5.434811592102051,\n",
       "   5.427724838256836,\n",
       "   5.394558906555176,\n",
       "   5.4264912605285645,\n",
       "   5.356003284454346,\n",
       "   5.342735767364502,\n",
       "   5.380946159362793,\n",
       "   5.382275104522705,\n",
       "   5.3673505783081055,\n",
       "   5.405575275421143,\n",
       "   5.397915363311768,\n",
       "   5.441622257232666,\n",
       "   5.390066146850586,\n",
       "   5.4524149894714355,\n",
       "   5.447563171386719,\n",
       "   5.366307258605957,\n",
       "   5.308521747589111,\n",
       "   5.433712482452393,\n",
       "   5.395768642425537,\n",
       "   5.412284851074219,\n",
       "   5.4290642738342285,\n",
       "   5.37437105178833,\n",
       "   5.448570728302002,\n",
       "   5.415043830871582,\n",
       "   5.421741485595703,\n",
       "   5.472814083099365,\n",
       "   5.3912482261657715,\n",
       "   5.3612799644470215,\n",
       "   5.416569232940674,\n",
       "   5.37730073928833,\n",
       "   5.345722198486328,\n",
       "   5.400421619415283,\n",
       "   5.360886096954346,\n",
       "   5.328577995300293,\n",
       "   5.355978488922119,\n",
       "   5.364928722381592,\n",
       "   5.390897750854492,\n",
       "   5.379671573638916,\n",
       "   5.393094062805176,\n",
       "   5.444609642028809,\n",
       "   5.387785911560059,\n",
       "   5.375931262969971,\n",
       "   5.391876697540283,\n",
       "   5.413887977600098,\n",
       "   5.384356498718262,\n",
       "   5.42596435546875,\n",
       "   5.424645900726318,\n",
       "   5.405807971954346,\n",
       "   5.4131388664245605,\n",
       "   5.402639865875244,\n",
       "   5.4359612464904785,\n",
       "   5.397502422332764,\n",
       "   5.392149925231934,\n",
       "   5.3665032386779785,\n",
       "   5.367580890655518,\n",
       "   5.382344722747803,\n",
       "   5.37685489654541,\n",
       "   5.400824069976807,\n",
       "   5.35784387588501,\n",
       "   5.355656623840332,\n",
       "   5.410752773284912,\n",
       "   5.397757053375244,\n",
       "   5.421109676361084,\n",
       "   5.408514976501465,\n",
       "   5.421730041503906,\n",
       "   5.3667755126953125,\n",
       "   5.347837924957275,\n",
       "   5.3970465660095215,\n",
       "   5.3409528732299805,\n",
       "   5.413904666900635,\n",
       "   5.418440818786621,\n",
       "   5.431124687194824,\n",
       "   5.418818950653076,\n",
       "   5.454842567443848,\n",
       "   5.36953592300415,\n",
       "   5.423326015472412,\n",
       "   5.389736652374268,\n",
       "   5.388194561004639,\n",
       "   5.39214563369751,\n",
       "   5.475076675415039,\n",
       "   5.413412570953369,\n",
       "   5.375824451446533,\n",
       "   5.3850417137146,\n",
       "   5.405532360076904,\n",
       "   5.343333721160889,\n",
       "   5.40957498550415,\n",
       "   5.390549182891846,\n",
       "   5.3539299964904785,\n",
       "   5.436059474945068,\n",
       "   5.301414966583252,\n",
       "   5.323739528656006,\n",
       "   5.396198272705078,\n",
       "   5.367090225219727,\n",
       "   5.4045186042785645,\n",
       "   5.3169355392456055,\n",
       "   5.334670066833496,\n",
       "   5.305426120758057,\n",
       "   5.43760347366333,\n",
       "   5.361352920532227,\n",
       "   5.348902225494385,\n",
       "   5.408202171325684,\n",
       "   5.437777519226074,\n",
       "   5.434995174407959,\n",
       "   5.3353047370910645,\n",
       "   5.3099775314331055,\n",
       "   5.399046897888184,\n",
       "   5.3601508140563965,\n",
       "   5.348837852478027,\n",
       "   5.3433332443237305,\n",
       "   5.366257190704346,\n",
       "   5.4215240478515625,\n",
       "   5.385808944702148,\n",
       "   5.353960990905762,\n",
       "   5.4336700439453125,\n",
       "   5.3335041999816895,\n",
       "   5.397496223449707,\n",
       "   5.3759446144104,\n",
       "   5.346020221710205,\n",
       "   5.392536163330078,\n",
       "   5.387542247772217,\n",
       "   5.357197284698486,\n",
       "   5.330765247344971,\n",
       "   5.338878154754639,\n",
       "   5.367509841918945,\n",
       "   5.306198596954346,\n",
       "   5.359026908874512,\n",
       "   5.370089054107666,\n",
       "   5.338037490844727,\n",
       "   5.375653266906738,\n",
       "   5.3869452476501465,\n",
       "   5.393526077270508,\n",
       "   5.369072437286377,\n",
       "   5.274107456207275,\n",
       "   5.402434825897217,\n",
       "   5.357919692993164,\n",
       "   5.318123817443848,\n",
       "   5.366481304168701,\n",
       "   5.457129955291748,\n",
       "   5.413410186767578,\n",
       "   5.386046409606934,\n",
       "   5.400384426116943,\n",
       "   5.320064067840576,\n",
       "   5.385681629180908,\n",
       "   5.283746242523193,\n",
       "   5.391110897064209,\n",
       "   5.423205375671387,\n",
       "   5.349238395690918,\n",
       "   5.349390983581543,\n",
       "   5.387267112731934,\n",
       "   5.36287260055542,\n",
       "   5.340587615966797,\n",
       "   5.386241436004639,\n",
       "   5.430501937866211,\n",
       "   5.352619647979736,\n",
       "   5.373608112335205,\n",
       "   5.429129123687744,\n",
       "   5.370253562927246,\n",
       "   5.358948230743408,\n",
       "   5.380522727966309,\n",
       "   5.404716968536377,\n",
       "   5.386885166168213,\n",
       "   5.358308792114258,\n",
       "   5.35272741317749,\n",
       "   5.355766773223877,\n",
       "   5.321934700012207,\n",
       "   5.3368611335754395,\n",
       "   5.373438358306885,\n",
       "   5.410619258880615,\n",
       "   5.3418803215026855,\n",
       "   5.31060266494751,\n",
       "   5.470823764801025,\n",
       "   5.4039835929870605,\n",
       "   5.361504077911377,\n",
       "   5.428521156311035,\n",
       "   5.349550247192383,\n",
       "   5.378653526306152,\n",
       "   5.292485237121582,\n",
       "   5.331924915313721,\n",
       "   5.327588081359863,\n",
       "   5.402201175689697,\n",
       "   5.303013324737549,\n",
       "   5.374645233154297,\n",
       "   5.367093563079834,\n",
       "   5.378701210021973,\n",
       "   5.457902431488037,\n",
       "   5.391544342041016,\n",
       "   5.368753433227539,\n",
       "   5.391217231750488,\n",
       "   5.369457244873047,\n",
       "   5.298105239868164,\n",
       "   5.319046974182129,\n",
       "   5.338136196136475,\n",
       "   5.365249156951904,\n",
       "   5.334814548492432,\n",
       "   5.378767013549805,\n",
       "   5.31315279006958,\n",
       "   5.373536109924316,\n",
       "   5.421230792999268,\n",
       "   5.382686138153076,\n",
       "   5.3854241371154785,\n",
       "   5.342879772186279,\n",
       "   5.318380832672119,\n",
       "   5.333477973937988,\n",
       "   5.335934162139893,\n",
       "   5.440791606903076,\n",
       "   5.428901195526123,\n",
       "   5.3156538009643555,\n",
       "   5.3177595138549805,\n",
       "   5.358936309814453,\n",
       "   5.324293613433838,\n",
       "   5.345860004425049,\n",
       "   5.420807838439941,\n",
       "   5.315703868865967,\n",
       "   5.420607566833496,\n",
       "   5.354225158691406,\n",
       "   5.407526016235352,\n",
       "   5.355201244354248,\n",
       "   5.331606864929199,\n",
       "   5.361341953277588,\n",
       "   5.393953800201416,\n",
       "   5.366971492767334,\n",
       "   5.299623012542725,\n",
       "   5.3715386390686035,\n",
       "   5.384912490844727,\n",
       "   5.32586145401001,\n",
       "   5.321208477020264,\n",
       "   5.3503642082214355,\n",
       "   5.379170894622803,\n",
       "   5.366219997406006,\n",
       "   5.348794937133789,\n",
       "   5.355523109436035,\n",
       "   5.365382671356201,\n",
       "   5.40769624710083,\n",
       "   5.332546710968018,\n",
       "   5.346465587615967,\n",
       "   5.4019365310668945,\n",
       "   5.426783084869385,\n",
       "   5.389197826385498,\n",
       "   5.347326278686523,\n",
       "   5.373282432556152,\n",
       "   5.350051403045654,\n",
       "   5.344541072845459,\n",
       "   5.350040435791016,\n",
       "   5.4190497398376465,\n",
       "   5.364246368408203,\n",
       "   5.3795695304870605,\n",
       "   5.351393222808838,\n",
       "   5.403782367706299,\n",
       "   5.328579425811768,\n",
       "   5.335468292236328,\n",
       "   5.332777500152588,\n",
       "   5.315752029418945,\n",
       "   5.405088901519775,\n",
       "   5.375699520111084,\n",
       "   5.379276275634766,\n",
       "   5.339591979980469,\n",
       "   5.381387233734131,\n",
       "   5.349310398101807,\n",
       "   5.4039177894592285,\n",
       "   5.378544807434082,\n",
       "   5.359655857086182,\n",
       "   5.354801654815674,\n",
       "   5.296809673309326,\n",
       "   5.3456010818481445,\n",
       "   5.346761703491211,\n",
       "   5.317568778991699,\n",
       "   5.386831760406494,\n",
       "   5.381374359130859,\n",
       "   5.392000198364258,\n",
       "   5.374725818634033,\n",
       "   5.349533557891846,\n",
       "   5.397886753082275,\n",
       "   5.33560848236084,\n",
       "   5.338961124420166,\n",
       "   5.357503414154053,\n",
       "   5.397562026977539,\n",
       "   5.321936130523682,\n",
       "   5.381450176239014,\n",
       "   5.219432830810547,\n",
       "   5.389303207397461,\n",
       "   5.373445987701416,\n",
       "   5.33799934387207,\n",
       "   5.473508358001709,\n",
       "   5.405313491821289,\n",
       "   5.38588809967041,\n",
       "   5.378089904785156,\n",
       "   5.347372055053711,\n",
       "   5.374032020568848,\n",
       "   5.3604278564453125,\n",
       "   5.3846516609191895,\n",
       "   5.380805015563965,\n",
       "   5.354097843170166,\n",
       "   5.373230457305908,\n",
       "   5.3453779220581055,\n",
       "   5.417647838592529,\n",
       "   5.370284080505371,\n",
       "   5.352848052978516,\n",
       "   5.381195545196533,\n",
       "   5.329629421234131,\n",
       "   5.383325099945068,\n",
       "   5.347085952758789,\n",
       "   5.352411270141602,\n",
       "   5.3483686447143555,\n",
       "   5.330181121826172,\n",
       "   5.310988903045654,\n",
       "   5.386245250701904,\n",
       "   5.3516364097595215,\n",
       "   5.37069845199585,\n",
       "   5.374884128570557,\n",
       "   5.39293909072876,\n",
       "   5.290147304534912,\n",
       "   5.337431907653809,\n",
       "   5.29066276550293,\n",
       "   5.327208518981934,\n",
       "   5.35681676864624,\n",
       "   5.3943376541137695,\n",
       "   5.359949588775635,\n",
       "   5.384273529052734,\n",
       "   5.336973667144775,\n",
       "   5.388515949249268,\n",
       "   5.336388111114502,\n",
       "   5.372888088226318,\n",
       "   5.371720314025879,\n",
       "   5.457793235778809,\n",
       "   5.384331703186035,\n",
       "   5.408360481262207,\n",
       "   5.392480850219727,\n",
       "   5.355429172515869,\n",
       "   5.364734172821045,\n",
       "   5.333645343780518,\n",
       "   5.352511882781982,\n",
       "   5.453924655914307,\n",
       "   5.35169792175293,\n",
       "   5.3607072830200195,\n",
       "   5.327428817749023,\n",
       "   5.346920013427734,\n",
       "   5.279807090759277,\n",
       "   5.342227458953857,\n",
       "   5.3862481117248535,\n",
       "   5.428642749786377,\n",
       "   5.444104194641113,\n",
       "   5.398581504821777,\n",
       "   5.378421306610107,\n",
       "   5.396259307861328,\n",
       "   5.335019111633301,\n",
       "   5.354583263397217,\n",
       "   5.294140338897705,\n",
       "   5.347970485687256,\n",
       "   5.422128200531006,\n",
       "   5.281148433685303,\n",
       "   5.326032638549805,\n",
       "   5.450198173522949,\n",
       "   5.3745927810668945,\n",
       "   5.399754524230957,\n",
       "   5.403406143188477,\n",
       "   5.337564945220947,\n",
       "   5.368779182434082,\n",
       "   5.3992719650268555,\n",
       "   5.319482803344727,\n",
       "   5.371463298797607,\n",
       "   5.379651069641113,\n",
       "   5.401021957397461,\n",
       "   5.410699367523193,\n",
       "   5.324616432189941,\n",
       "   5.3319807052612305,\n",
       "   5.3367228507995605,\n",
       "   5.322406768798828,\n",
       "   5.321620464324951,\n",
       "   5.264562129974365,\n",
       "   5.347733020782471,\n",
       "   5.357774257659912,\n",
       "   5.388148307800293,\n",
       "   5.404016017913818,\n",
       "   5.38718843460083,\n",
       "   5.348739147186279,\n",
       "   5.340694904327393,\n",
       "   5.341808319091797,\n",
       "   5.370706558227539,\n",
       "   5.352983474731445,\n",
       "   5.4033050537109375,\n",
       "   5.337963104248047,\n",
       "   5.348891735076904,\n",
       "   5.314886093139648,\n",
       "   5.415605068206787,\n",
       "   5.383073329925537,\n",
       "   5.3814802169799805,\n",
       "   5.396151542663574,\n",
       "   5.386406898498535,\n",
       "   5.382361888885498,\n",
       "   5.3629865646362305,\n",
       "   5.292391300201416,\n",
       "   5.35225248336792,\n",
       "   5.356443881988525,\n",
       "   5.306425094604492,\n",
       "   5.3796563148498535,\n",
       "   5.356157302856445,\n",
       "   5.3450846672058105,\n",
       "   5.400717258453369,\n",
       "   5.327083587646484,\n",
       "   5.322750091552734,\n",
       "   5.379951477050781,\n",
       "   5.347299098968506,\n",
       "   5.362517356872559,\n",
       "   5.393792629241943,\n",
       "   5.382939338684082,\n",
       "   5.430866718292236,\n",
       "   5.318655014038086,\n",
       "   5.3573527336120605,\n",
       "   5.3574018478393555,\n",
       "   5.459779739379883,\n",
       "   5.3611063957214355,\n",
       "   5.30703067779541,\n",
       "   5.375833511352539,\n",
       "   5.410279750823975,\n",
       "   5.321549892425537,\n",
       "   5.348129749298096,\n",
       "   5.343059539794922,\n",
       "   5.3180131912231445,\n",
       "   5.3655476570129395,\n",
       "   5.402858257293701,\n",
       "   5.355717182159424,\n",
       "   5.389308452606201,\n",
       "   5.309825420379639,\n",
       "   5.395022869110107,\n",
       "   5.36605167388916,\n",
       "   5.3833136558532715,\n",
       "   5.354827404022217,\n",
       "   5.350132465362549,\n",
       "   5.3829755783081055,\n",
       "   5.279666423797607,\n",
       "   5.298503875732422,\n",
       "   5.335873126983643,\n",
       "   5.3903117179870605,\n",
       "   5.3600640296936035,\n",
       "   5.3047661781311035,\n",
       "   5.364224910736084,\n",
       "   5.347546100616455,\n",
       "   5.310824394226074,\n",
       "   5.363964080810547,\n",
       "   5.321733474731445,\n",
       "   5.270329475402832,\n",
       "   5.383134841918945,\n",
       "   5.356029987335205,\n",
       "   5.368736267089844,\n",
       "   5.29202938079834,\n",
       "   5.3750176429748535,\n",
       "   5.3538126945495605,\n",
       "   5.340786933898926,\n",
       "   5.393994331359863,\n",
       "   5.328665256500244,\n",
       "   5.33831262588501,\n",
       "   5.348925590515137,\n",
       "   5.321194648742676,\n",
       "   5.411409854888916,\n",
       "   5.381082534790039,\n",
       "   5.3457231521606445,\n",
       "   5.33047342300415,\n",
       "   5.350579261779785,\n",
       "   5.403674125671387,\n",
       "   5.358590602874756,\n",
       "   5.4096832275390625,\n",
       "   5.353702068328857,\n",
       "   5.327935218811035,\n",
       "   5.319820880889893,\n",
       "   5.3137526512146,\n",
       "   5.385939121246338,\n",
       "   5.290452003479004,\n",
       "   5.33452844619751,\n",
       "   5.3458452224731445,\n",
       "   5.383755683898926,\n",
       "   5.320771217346191,\n",
       "   5.340082168579102,\n",
       "   5.3098015785217285,\n",
       "   5.3008551597595215,\n",
       "   5.400055408477783,\n",
       "   5.3382649421691895,\n",
       "   5.445882320404053,\n",
       "   5.347871780395508,\n",
       "   5.3794474601745605,\n",
       "   5.3830976486206055,\n",
       "   5.358059406280518,\n",
       "   5.3800482749938965,\n",
       "   5.361514568328857,\n",
       "   5.37868595123291,\n",
       "   5.348172187805176,\n",
       "   5.3730597496032715,\n",
       "   5.362489223480225,\n",
       "   5.311089992523193,\n",
       "   5.35244083404541,\n",
       "   5.389164924621582,\n",
       "   5.337394714355469,\n",
       "   5.304057598114014,\n",
       "   5.372119426727295,\n",
       "   5.336917400360107,\n",
       "   5.3671770095825195,\n",
       "   5.419198036193848,\n",
       "   5.365720748901367,\n",
       "   5.374604225158691,\n",
       "   5.40175724029541,\n",
       "   5.406527042388916,\n",
       "   5.359245300292969,\n",
       "   5.308063507080078,\n",
       "   5.369627952575684,\n",
       "   5.3521599769592285,\n",
       "   5.401144981384277,\n",
       "   5.324222087860107,\n",
       "   5.3358306884765625,\n",
       "   5.327773571014404,\n",
       "   5.383233070373535,\n",
       "   5.428854942321777,\n",
       "   5.387305736541748,\n",
       "   5.3602294921875,\n",
       "   5.356647968292236,\n",
       "   5.374278545379639,\n",
       "   5.298556327819824,\n",
       "   5.345009803771973,\n",
       "   5.3845930099487305,\n",
       "   5.322808265686035,\n",
       "   5.32075834274292,\n",
       "   5.37616491317749,\n",
       "   5.378779888153076,\n",
       "   5.334384918212891,\n",
       "   5.333404064178467,\n",
       "   5.345688819885254,\n",
       "   5.370922088623047,\n",
       "   5.430312633514404,\n",
       "   5.423070907592773,\n",
       "   5.33924674987793,\n",
       "   5.3705315589904785,\n",
       "   5.385846138000488,\n",
       "   5.405572414398193,\n",
       "   5.335476875305176,\n",
       "   5.306343078613281,\n",
       "   5.370433330535889,\n",
       "   5.320339679718018,\n",
       "   5.335648536682129,\n",
       "   5.33557653427124,\n",
       "   5.371499538421631,\n",
       "   5.379226207733154,\n",
       "   5.387907028198242,\n",
       "   5.353214263916016,\n",
       "   5.321941375732422,\n",
       "   5.356787204742432,\n",
       "   5.320484638214111,\n",
       "   5.346024513244629,\n",
       "   5.391449451446533,\n",
       "   5.351856231689453,\n",
       "   5.384744167327881,\n",
       "   5.319363594055176,\n",
       "   5.377999782562256,\n",
       "   5.3790812492370605,\n",
       "   5.36944580078125,\n",
       "   5.417460918426514,\n",
       "   5.368673324584961,\n",
       "   5.396997928619385,\n",
       "   5.362093448638916,\n",
       "   5.3049468994140625,\n",
       "   5.368108749389648,\n",
       "   5.353765964508057,\n",
       "   5.3191351890563965,\n",
       "   5.385702133178711,\n",
       "   5.339327812194824,\n",
       "   5.3079657554626465,\n",
       "   5.328982830047607,\n",
       "   5.32546329498291,\n",
       "   5.365362644195557,\n",
       "   5.3515801429748535,\n",
       "   5.368960380554199,\n",
       "   5.348684787750244,\n",
       "   5.3308539390563965,\n",
       "   5.384451866149902,\n",
       "   5.412639141082764,\n",
       "   5.4005279541015625,\n",
       "   5.367626190185547,\n",
       "   5.380780220031738,\n",
       "   5.3434882164001465,\n",
       "   5.307762145996094,\n",
       "   5.312636375427246,\n",
       "   5.351873874664307,\n",
       "   5.308958053588867,\n",
       "   5.367591381072998,\n",
       "   5.365837574005127,\n",
       "   5.379271030426025,\n",
       "   5.406554222106934,\n",
       "   5.3915510177612305,\n",
       "   5.432797431945801,\n",
       "   5.311740398406982,\n",
       "   5.3544535636901855,\n",
       "   5.353199481964111,\n",
       "   5.376089096069336,\n",
       "   5.3698201179504395,\n",
       "   5.383209705352783,\n",
       "   5.322739124298096,\n",
       "   5.392103672027588,\n",
       "   5.379490852355957,\n",
       "   5.367956161499023,\n",
       "   5.3720221519470215,\n",
       "   5.35490083694458,\n",
       "   5.3584980964660645,\n",
       "   5.319952011108398,\n",
       "   5.360862731933594,\n",
       "   5.393671989440918,\n",
       "   5.35216760635376,\n",
       "   5.380832672119141,\n",
       "   5.4006218910217285,\n",
       "   5.34502649307251,\n",
       "   5.362144470214844,\n",
       "   5.3971123695373535,\n",
       "   5.406105041503906,\n",
       "   5.383389949798584,\n",
       "   5.365757942199707,\n",
       "   5.354249954223633,\n",
       "   5.346095561981201,\n",
       "   5.323970317840576,\n",
       "   5.337645530700684,\n",
       "   5.369865894317627,\n",
       "   5.289609909057617,\n",
       "   5.336939334869385,\n",
       "   5.299379825592041,\n",
       "   5.333216667175293,\n",
       "   5.335205078125,\n",
       "   5.319889545440674,\n",
       "   5.31716775894165,\n",
       "   5.316384792327881,\n",
       "   5.391059875488281,\n",
       "   5.3783087730407715,\n",
       "   5.323276042938232,\n",
       "   5.37599515914917,\n",
       "   5.3350510597229,\n",
       "   5.325231075286865,\n",
       "   5.325616836547852,\n",
       "   5.389965534210205,\n",
       "   5.2998480796813965,\n",
       "   5.383517265319824,\n",
       "   5.341160297393799,\n",
       "   5.3289570808410645,\n",
       "   5.343263149261475,\n",
       "   5.330982685089111,\n",
       "   5.310787677764893,\n",
       "   5.348996639251709,\n",
       "   5.413522720336914,\n",
       "   5.3702263832092285,\n",
       "   5.354389667510986,\n",
       "   5.33500337600708,\n",
       "   5.33650016784668,\n",
       "   5.329906463623047,\n",
       "   5.348148822784424,\n",
       "   5.407105445861816,\n",
       "   5.377119064331055,\n",
       "   5.3736467361450195,\n",
       "   5.362028121948242,\n",
       "   5.297165870666504,\n",
       "   5.412818908691406,\n",
       "   5.401403903961182,\n",
       "   5.3887038230896,\n",
       "   5.3577070236206055,\n",
       "   5.3455891609191895,\n",
       "   5.294868469238281,\n",
       "   5.317723274230957,\n",
       "   5.379022121429443,\n",
       "   5.391603469848633,\n",
       "   5.284897327423096,\n",
       "   5.37000036239624,\n",
       "   5.3956756591796875,\n",
       "   5.2882256507873535,\n",
       "   5.353452682495117,\n",
       "   5.352308750152588,\n",
       "   5.342014312744141,\n",
       "   5.340031623840332,\n",
       "   5.281146049499512,\n",
       "   5.317107200622559,\n",
       "   5.3085408210754395,\n",
       "   5.347723960876465,\n",
       "   5.393006801605225,\n",
       "   5.3395795822143555,\n",
       "   5.3974432945251465,\n",
       "   5.428678035736084,\n",
       "   5.34564208984375,\n",
       "   5.402487277984619,\n",
       "   5.335067272186279,\n",
       "   5.3029704093933105,\n",
       "   5.430891990661621,\n",
       "   5.3463921546936035,\n",
       "   5.358529090881348,\n",
       "   5.371953010559082,\n",
       "   5.4117279052734375,\n",
       "   5.375384330749512,\n",
       "   5.392526149749756,\n",
       "   5.414226531982422,\n",
       "   5.353039264678955,\n",
       "   5.397090911865234,\n",
       "   5.306942462921143,\n",
       "   5.295887470245361,\n",
       "   5.3057684898376465,\n",
       "   5.346630096435547,\n",
       "   5.367920398712158,\n",
       "   5.340996742248535,\n",
       "   5.334169387817383,\n",
       "   5.411099910736084,\n",
       "   5.38141393661499,\n",
       "   5.413971900939941,\n",
       "   5.271661758422852,\n",
       "   5.3807830810546875,\n",
       "   5.422212600708008,\n",
       "   5.3449835777282715,\n",
       "   5.38164758682251,\n",
       "   5.2909464836120605,\n",
       "   5.3656182289123535,\n",
       "   5.387058258056641,\n",
       "   5.355310440063477,\n",
       "   5.310454368591309,\n",
       "   5.382821559906006,\n",
       "   5.333707809448242,\n",
       "   5.412175178527832,\n",
       "   5.435313701629639,\n",
       "   5.347909927368164,\n",
       "   5.341547012329102,\n",
       "   5.373539447784424,\n",
       "   5.391506671905518,\n",
       "   5.330560684204102,\n",
       "   5.361476421356201,\n",
       "   5.354189395904541,\n",
       "   5.327024936676025,\n",
       "   5.357254981994629,\n",
       "   5.364509582519531,\n",
       "   5.367916584014893,\n",
       "   5.347577095031738,\n",
       "   5.38201904296875,\n",
       "   5.326971054077148,\n",
       "   5.382065773010254,\n",
       "   5.355776309967041,\n",
       "   5.425309181213379,\n",
       "   5.4337849617004395,\n",
       "   5.358917713165283,\n",
       "   5.367302894592285,\n",
       "   5.355727672576904,\n",
       "   5.382735252380371,\n",
       "   5.370687961578369,\n",
       "   5.3223419189453125,\n",
       "   5.32715368270874,\n",
       "   5.320988655090332,\n",
       "   5.345857620239258,\n",
       "   5.347087383270264,\n",
       "   5.394451141357422,\n",
       "   5.370433330535889,\n",
       "   5.373260974884033,\n",
       "   5.388564586639404,\n",
       "   5.303147792816162,\n",
       "   5.405704498291016,\n",
       "   5.297092914581299,\n",
       "   5.371488571166992,\n",
       "   5.32234525680542,\n",
       "   5.397069454193115,\n",
       "   5.369030952453613,\n",
       "   5.365595817565918,\n",
       "   5.358505725860596,\n",
       "   5.353283882141113,\n",
       "   5.303737163543701,\n",
       "   5.443532943725586,\n",
       "   5.379244804382324,\n",
       "   5.325632095336914,\n",
       "   5.388104438781738,\n",
       "   5.364621162414551,\n",
       "   5.37089729309082,\n",
       "   5.329519271850586,\n",
       "   5.40225887298584,\n",
       "   5.402959823608398,\n",
       "   5.383922576904297,\n",
       "   5.403131008148193,\n",
       "   5.362655162811279,\n",
       "   5.371242523193359,\n",
       "   5.35100793838501,\n",
       "   5.296605587005615,\n",
       "   5.380282878875732,\n",
       "   5.330934047698975,\n",
       "   5.3651251792907715,\n",
       "   5.352357864379883,\n",
       "   5.329911708831787,\n",
       "   5.360217094421387,\n",
       "   5.381189823150635,\n",
       "   5.330307960510254,\n",
       "   5.261992931365967,\n",
       "   5.319323539733887,\n",
       "   5.373464584350586,\n",
       "   5.394556045532227,\n",
       "   5.376628398895264,\n",
       "   5.3291015625,\n",
       "   5.328740119934082,\n",
       "   5.378707408905029,\n",
       "   5.366920471191406,\n",
       "   5.408584117889404,\n",
       "   5.402945041656494,\n",
       "   5.370347023010254,\n",
       "   5.414504528045654,\n",
       "   5.337447643280029,\n",
       "   5.403343200683594,\n",
       "   5.320573806762695,\n",
       "   5.307306289672852,\n",
       "   5.393047332763672,\n",
       "   5.36388635635376,\n",
       "   5.337986946105957,\n",
       "   5.383470058441162,\n",
       "   5.366257667541504,\n",
       "   5.387548446655273,\n",
       "   5.335606575012207,\n",
       "   5.3528666496276855,\n",
       "   5.406423568725586,\n",
       "   5.3342814445495605,\n",
       "   5.369451999664307,\n",
       "   5.371255874633789,\n",
       "   5.360119342803955,\n",
       "   5.406377792358398,\n",
       "   5.3547868728637695,\n",
       "   5.321378707885742,\n",
       "   5.351739883422852,\n",
       "   5.345644474029541,\n",
       "   5.398386001586914,\n",
       "   5.328001499176025,\n",
       "   5.326128959655762,\n",
       "   5.439148426055908,\n",
       "   5.381250858306885,\n",
       "   5.389466285705566,\n",
       "   5.32130765914917,\n",
       "   5.340546607971191,\n",
       "   5.452446937561035,\n",
       "   5.348350524902344,\n",
       "   5.312936782836914,\n",
       "   5.350397109985352,\n",
       "   5.383029460906982,\n",
       "   5.388617038726807,\n",
       "   5.3780107498168945,\n",
       "   5.40563440322876,\n",
       "   5.345931529998779,\n",
       "   5.434264183044434,\n",
       "   5.409489154815674,\n",
       "   5.386513710021973,\n",
       "   5.405470371246338,\n",
       "   5.371123790740967,\n",
       "   5.333866119384766,\n",
       "   5.38249397277832,\n",
       "   5.291326522827148,\n",
       "   5.366054534912109,\n",
       "   5.341958999633789,\n",
       "   5.347652435302734,\n",
       "   5.314873218536377,\n",
       "   5.422837734222412,\n",
       "   5.408817768096924,\n",
       "   5.434749603271484,\n",
       "   5.324246883392334,\n",
       "   5.4093122482299805,\n",
       "   5.384326934814453,\n",
       "   5.338881015777588,\n",
       "   5.3362956047058105,\n",
       "   5.453433036804199,\n",
       "   5.278316020965576,\n",
       "   5.401778221130371,\n",
       "   ...]})"
      ]
     },
     "execution_count": 24,
     "metadata": {},
     "output_type": "execute_result"
    },
    {
     "data": {
      "image/png": "[encoded data removed]",
      "text/plain": [
       "<Figure size 432x288 with 1 Axes>"
      ]
     },
     "metadata": {
      "needs_background": "light"
     },
     "output_type": "display_data"
    }
   ],
   "source": [
    "run_expr_infoNCE(n_batch=500, iters=5000)"
   ]
  },
  {
   "cell_type": "code",
   "execution_count": 25,
   "id": "educated-improvement",
   "metadata": {},
   "outputs": [
    {
     "data": {
      "text/plain": [
       "[<matplotlib.lines.Line2D at 0x7f7900134d60>]"
      ]
     },
     "execution_count": 25,
     "metadata": {},
     "output_type": "execute_result"
    },
    {
     "data": {
      "image/png": "[encoded data removed]",
      "text/plain": [
       "<Figure size 432x288 with 1 Axes>"
      ]
     },
     "metadata": {
      "needs_background": "light"
     },
     "output_type": "display_data"
    }
   ],
   "source": [
    "plt.plot(history['loss'])"
   ]
  },
  {
   "cell_type": "code",
   "execution_count": 26,
   "id": "difficult-balloon",
   "metadata": {},
   "outputs": [],
   "source": [
    "Mbar_infoNCE = torch.from_numpy(np.load(f'dicerolls6_training_results/Mbar_infoNCE_{500}_{4999}.npy'))\n",
    "M_infoNCE = torch.from_numpy(np.load(f'dicerolls6_training_results/M_infoNCE_{500}_{4999}.npy'))"
   ]
  },
  {
   "cell_type": "code",
   "execution_count": 27,
   "id": "furnished-fetish",
   "metadata": {},
   "outputs": [
    {
     "data": {
      "text/plain": [
       "<matplotlib.image.AxesImage at 0x7f7900108ee0>"
      ]
     },
     "execution_count": 27,
     "metadata": {},
     "output_type": "execute_result"
    },
    {
     "data": {
      "image/png": "[encoded data removed]",
      "text/plain": [
       "<Figure size 432x288 with 1 Axes>"
      ]
     },
     "metadata": {
      "needs_background": "light"
     },
     "output_type": "display_data"
    }
   ],
   "source": [
    "plt.imshow(torch.exp(Mbar_infoNCE))"
   ]
  },
  {
   "cell_type": "code",
   "execution_count": 28,
   "id": "recreational-liquid",
   "metadata": {},
   "outputs": [
    {
     "data": {
      "text/plain": [
       "<matplotlib.image.AxesImage at 0x7f790005abe0>"
      ]
     },
     "execution_count": 28,
     "metadata": {},
     "output_type": "execute_result"
    },
    {
     "data": {
      "image/png": "[encoded data removed]",
      "text/plain": [
       "<Figure size 432x288 with 1 Axes>"
      ]
     },
     "metadata": {
      "needs_background": "light"
     },
     "output_type": "display_data"
    }
   ],
   "source": [
    "plt.imshow(torch.exp(M_infoNCE))"
   ]
  },
  {
   "cell_type": "code",
   "execution_count": 29,
   "id": "outside-array",
   "metadata": {},
   "outputs": [
    {
     "data": {
      "text/plain": [
       "tensor(0.0761, dtype=torch.float64)"
      ]
     },
     "execution_count": 29,
     "metadata": {},
     "output_type": "execute_result"
    }
   ],
   "source": [
    "# Compare Mbar with xy\n",
    "F_infoNCE = torch.exp(Mbar_infoNCE)\n",
    "F_infoNCE_normalized = F_infoNCE/torch.sum(F_infoNCE)\n",
    "log_F_infoNCE_normalized = torch.log(F_infoNCE_normalized)\n",
    "\n",
    "F.kl_div(log_F_infoNCE_normalized, torch.from_numpy(xy))"
   ]
  },
  {
   "cell_type": "code",
   "execution_count": null,
   "id": "conventional-fiction",
   "metadata": {},
   "outputs": [],
   "source": []
  },
  {
   "cell_type": "code",
   "execution_count": null,
   "id": "compound-secretariat",
   "metadata": {},
   "outputs": [],
   "source": []
  },
  {
   "cell_type": "code",
   "execution_count": null,
   "id": "christian-paint",
   "metadata": {},
   "outputs": [],
   "source": []
  },
  {
   "cell_type": "code",
   "execution_count": null,
   "id": "executed-retention",
   "metadata": {},
   "outputs": [],
   "source": []
  },
  {
   "cell_type": "code",
   "execution_count": null,
   "id": "figured-assurance",
   "metadata": {},
   "outputs": [],
   "source": []
  },
  {
   "cell_type": "code",
   "execution_count": null,
   "id": "solved-recall",
   "metadata": {},
   "outputs": [],
   "source": []
  },
  {
   "cell_type": "code",
   "execution_count": null,
   "id": "roman-software",
   "metadata": {},
   "outputs": [],
   "source": []
  },
  {
   "cell_type": "code",
   "execution_count": 14,
   "id": "graduate-racing",
   "metadata": {},
   "outputs": [],
   "source": [
    "def run_expr_all_samples(n_batch):\n",
    "    '''\n",
    "    model pxy directly\n",
    "    '''\n",
    "    torch.manual_seed(42)\n",
    "    \n",
    "    M = torch.randn((x.shape[0],y.shape[0]), requires_grad = True)\n",
    "    print(M[0, :5])\n",
    "    \n",
    "    optimizer = torch.optim.SGD([M], 1, 0.99)\n",
    "    Mbar = M.data\n",
    "    \n",
    "    history = {'loss':[]}\n",
    "    \n",
    "    samples_indices = list(itertools.product(*[range(x.shape[0]), range(y.shape[0])]))\n",
    "    samples_all = list(itertools.product(*[samples_indices for _ in range(n_batch)]))\n",
    "    itr_ids = list(range(len(samples_all)))\n",
    "    import pdb; pdb.set_trace\n",
    "    random.shuffle(itr_ids)\n",
    "    \n",
    "    for iteration in tqdm(range(1,len(samples_all)+1)):\n",
    "\n",
    "        samples = samples_all[itr_ids[iteration]]\n",
    "\n",
    "        optimizer.zero_grad()\n",
    "\n",
    "        F = torch.exp(M)\n",
    "\n",
    "        loss = 0\n",
    "        for i in range(n_batch):\n",
    "            lossi = F[samples[i][0],samples[i][1]]/torch.sum(F[:,:])\n",
    "            loss = loss + torch.log(lossi)\n",
    "        loss = -1*loss/n_batch\n",
    "        loss.backward()\n",
    "        optimizer.step()\n",
    "        history['loss'].append(loss.item())\n",
    "        Mbar = (1-1/iteration)*Mbar + (1/iteration)*M.data\n",
    "\n",
    "        if iteration % 500 == 0:\n",
    "            print(torch.var(M))\n",
    "            plt.imshow(Mbar.detach().cpu().numpy())\n",
    "            plt.savefig(f\"dicerolls_training_results/Mbar_joint_{n_batch}_{iteration}.png\")\n",
    "\n",
    "    np.save(f'dicerolls_training_results/Mbar_joint_{n_batch}_{iteration}.npy', Mbar.detach().cpu().numpy())\n",
    "    np.save(f'dicerolls_training_results/M_joint_{n_batch}_{iteration}.npy', M.detach().cpu().numpy())\n",
    "    np.save(f'dicerolls_training_results/training_loss_joint_{n_batch}_{iteration}.npy', np.array(history['loss']))\n",
    "    return M, Mbar, history"
   ]
  },
  {
   "cell_type": "code",
   "execution_count": 15,
   "id": "ideal-colonial",
   "metadata": {
    "scrolled": true
   },
   "outputs": [
    {
     "name": "stdout",
     "output_type": "stream",
     "text": [
      "tensor([ 1.9269,  1.4873,  0.9007, -2.1055], grad_fn=<SliceBackward>)\n"
     ]
    },
    {
     "name": "stderr",
     "output_type": "stream",
     "text": [
      "  0%|          | 367/17210368 [00:00<6:21:06, 752.63it/s]"
     ]
    },
    {
     "name": "stdout",
     "output_type": "stream",
     "text": [
      "tensor(54.0543, grad_fn=<VarBackward0>)\n"
     ]
    },
    {
     "name": "stderr",
     "output_type": "stream",
     "text": [
      "  0%|          | 808/17210368 [00:00<7:01:19, 680.76it/s]/home/user/.local/lib/python3.8/site-packages/matplotlib/image.py:446: UserWarning: Warning: converting a masked element to nan.\n",
      "  dv = np.float64(self.norm.vmax) - np.float64(self.norm.vmin)\n",
      "/home/user/.local/lib/python3.8/site-packages/matplotlib/image.py:453: UserWarning: Warning: converting a masked element to nan.\n",
      "  a_min = np.float64(newmin)\n",
      "/home/user/.local/lib/python3.8/site-packages/matplotlib/image.py:458: UserWarning: Warning: converting a masked element to nan.\n",
      "  a_max = np.float64(newmax)\n",
      "  0%|          | 1331/17210368 [00:00<4:22:32, 1092.49it/s]"
     ]
    },
    {
     "name": "stdout",
     "output_type": "stream",
     "text": [
      "tensor(nan, grad_fn=<VarBackward0>)\n",
      "tensor(nan, grad_fn=<VarBackward0>)\n"
     ]
    },
    {
     "name": "stderr",
     "output_type": "stream",
     "text": [
      "  0%|          | 2395/17210368 [00:01<2:26:45, 1954.24it/s]"
     ]
    },
    {
     "name": "stdout",
     "output_type": "stream",
     "text": [
      "tensor(nan, grad_fn=<VarBackward0>)\n",
      "tensor(nan, grad_fn=<VarBackward0>)\n"
     ]
    },
    {
     "name": "stderr",
     "output_type": "stream",
     "text": [
      "  0%|          | 3210/17210368 [00:01<2:11:32, 2180.18it/s]"
     ]
    },
    {
     "name": "stdout",
     "output_type": "stream",
     "text": [
      "tensor(nan, grad_fn=<VarBackward0>)\n"
     ]
    },
    {
     "name": "stderr",
     "output_type": "stream",
     "text": [
      "  0%|          | 3802/17210368 [00:01<2:01:56, 2351.69it/s]"
     ]
    },
    {
     "name": "stdout",
     "output_type": "stream",
     "text": [
      "tensor(nan, grad_fn=<VarBackward0>)\n"
     ]
    },
    {
     "name": "stderr",
     "output_type": "stream",
     "text": [
      "  0%|          | 4358/17210368 [00:02<2:03:22, 2324.42it/s]"
     ]
    },
    {
     "name": "stdout",
     "output_type": "stream",
     "text": [
      "tensor(nan, grad_fn=<VarBackward0>)\n"
     ]
    },
    {
     "name": "stderr",
     "output_type": "stream",
     "text": [
      "  0%|          | 4906/17210368 [00:02<2:01:43, 2355.93it/s]"
     ]
    },
    {
     "name": "stdout",
     "output_type": "stream",
     "text": [
      "tensor(nan, grad_fn=<VarBackward0>)\n"
     ]
    },
    {
     "name": "stderr",
     "output_type": "stream",
     "text": [
      "\r",
      "  0%|          | 5158/17210368 [00:02<2:12:06, 2170.48it/s]"
     ]
    },
    {
     "name": "stdout",
     "output_type": "stream",
     "text": [
      "tensor(nan, grad_fn=<VarBackward0>)\n"
     ]
    },
    {
     "name": "stderr",
     "output_type": "stream",
     "text": [
      "  0%|          | 5703/17210368 [00:02<2:12:20, 2166.71it/s]"
     ]
    },
    {
     "name": "stdout",
     "output_type": "stream",
     "text": [
      "tensor(nan, grad_fn=<VarBackward0>)\n"
     ]
    },
    {
     "name": "stderr",
     "output_type": "stream",
     "text": [
      "  0%|          | 6307/17210368 [00:03<2:04:24, 2304.64it/s]"
     ]
    },
    {
     "name": "stdout",
     "output_type": "stream",
     "text": [
      "tensor(nan, grad_fn=<VarBackward0>)\n"
     ]
    },
    {
     "name": "stderr",
     "output_type": "stream",
     "text": [
      "  0%|          | 6849/17210368 [00:03<2:04:59, 2294.07it/s]"
     ]
    },
    {
     "name": "stdout",
     "output_type": "stream",
     "text": [
      "tensor(nan, grad_fn=<VarBackward0>)\n"
     ]
    },
    {
     "name": "stderr",
     "output_type": "stream",
     "text": [
      "  0%|          | 7393/17210368 [00:03<2:06:01, 2275.06it/s]"
     ]
    },
    {
     "name": "stdout",
     "output_type": "stream",
     "text": [
      "tensor(nan, grad_fn=<VarBackward0>)\n"
     ]
    },
    {
     "name": "stderr",
     "output_type": "stream",
     "text": [
      "\r",
      "  0%|          | 7638/17210368 [00:03<2:20:46, 2036.73it/s]"
     ]
    },
    {
     "name": "stdout",
     "output_type": "stream",
     "text": [
      "tensor(nan, grad_fn=<VarBackward0>)\n"
     ]
    },
    {
     "name": "stderr",
     "output_type": "stream",
     "text": [
      "  0%|          | 8192/17210368 [00:03<2:22:21, 2013.89it/s]"
     ]
    },
    {
     "name": "stdout",
     "output_type": "stream",
     "text": [
      "tensor(nan, grad_fn=<VarBackward0>)\n"
     ]
    },
    {
     "name": "stderr",
     "output_type": "stream",
     "text": [
      "  0%|          | 8726/17210368 [00:04<2:26:48, 1952.92it/s]"
     ]
    },
    {
     "name": "stdout",
     "output_type": "stream",
     "text": [
      "tensor(nan, grad_fn=<VarBackward0>)\n"
     ]
    },
    {
     "name": "stderr",
     "output_type": "stream",
     "text": [
      "  0%|          | 9279/17210368 [00:04<2:19:31, 2054.68it/s]"
     ]
    },
    {
     "name": "stdout",
     "output_type": "stream",
     "text": [
      "tensor(nan, grad_fn=<VarBackward0>)\n"
     ]
    },
    {
     "name": "stderr",
     "output_type": "stream",
     "text": [
      "  0%|          | 9807/17210368 [00:04<2:18:34, 2068.69it/s]"
     ]
    },
    {
     "name": "stdout",
     "output_type": "stream",
     "text": [
      "tensor(nan, grad_fn=<VarBackward0>)\n"
     ]
    },
    {
     "name": "stderr",
     "output_type": "stream",
     "text": [
      "  0%|          | 10339/17210368 [00:05<2:18:21, 2071.83it/s]"
     ]
    },
    {
     "name": "stdout",
     "output_type": "stream",
     "text": [
      "tensor(nan, grad_fn=<VarBackward0>)\n"
     ]
    },
    {
     "name": "stderr",
     "output_type": "stream",
     "text": [
      "\r",
      "  0%|          | 10573/17210368 [00:05<2:37:10, 1823.77it/s]"
     ]
    },
    {
     "name": "stdout",
     "output_type": "stream",
     "text": [
      "tensor(nan, grad_fn=<VarBackward0>)\n"
     ]
    },
    {
     "name": "stderr",
     "output_type": "stream",
     "text": [
      "\r",
      "  0%|          | 10867/17210368 [00:05<2:19:21, 2057.01it/s]"
     ]
    },
    {
     "name": "stdout",
     "output_type": "stream",
     "text": [
      "tensor(nan, grad_fn=<VarBackward0>)\n"
     ]
    },
    {
     "name": "stderr",
     "output_type": "stream",
     "text": [
      "  0%|          | 11609/17210368 [00:06<3:58:42, 1200.85it/s]"
     ]
    },
    {
     "name": "stdout",
     "output_type": "stream",
     "text": [
      "tensor(nan, grad_fn=<VarBackward0>)\n"
     ]
    },
    {
     "name": "stderr",
     "output_type": "stream",
     "text": [
      "  0%|          | 12137/17210368 [00:06<3:21:14, 1424.38it/s]"
     ]
    },
    {
     "name": "stdout",
     "output_type": "stream",
     "text": [
      "tensor(nan, grad_fn=<VarBackward0>)\n"
     ]
    },
    {
     "name": "stderr",
     "output_type": "stream",
     "text": [
      "  0%|          | 12671/17210368 [00:06<3:03:07, 1565.24it/s]"
     ]
    },
    {
     "name": "stdout",
     "output_type": "stream",
     "text": [
      "tensor(nan, grad_fn=<VarBackward0>)\n"
     ]
    },
    {
     "name": "stderr",
     "output_type": "stream",
     "text": [
      "  0%|          | 13209/17210368 [00:06<2:54:14, 1644.93it/s]"
     ]
    },
    {
     "name": "stdout",
     "output_type": "stream",
     "text": [
      "tensor(nan, grad_fn=<VarBackward0>)\n"
     ]
    },
    {
     "name": "stderr",
     "output_type": "stream",
     "text": [
      "\r",
      "  0%|          | 13500/17210368 [00:07<3:01:25, 1579.82it/s]"
     ]
    },
    {
     "name": "stdout",
     "output_type": "stream",
     "text": [
      "tensor(nan, grad_fn=<VarBackward0>)\n"
     ]
    },
    {
     "name": "stderr",
     "output_type": "stream",
     "text": [
      "  0%|          | 14027/17210368 [00:07<2:58:29, 1605.70it/s]"
     ]
    },
    {
     "name": "stdout",
     "output_type": "stream",
     "text": [
      "tensor(nan, grad_fn=<VarBackward0>)\n"
     ]
    },
    {
     "name": "stderr",
     "output_type": "stream",
     "text": [
      "  0%|          | 14563/17210368 [00:07<2:56:50, 1620.60it/s]"
     ]
    },
    {
     "name": "stdout",
     "output_type": "stream",
     "text": [
      "tensor(nan, grad_fn=<VarBackward0>)\n"
     ]
    },
    {
     "name": "stderr",
     "output_type": "stream",
     "text": [
      "\r",
      "  0%|          | 14867/17210368 [00:07<2:32:07, 1884.00it/s]"
     ]
    },
    {
     "name": "stdout",
     "output_type": "stream",
     "text": [
      "tensor(nan, grad_fn=<VarBackward0>)\n"
     ]
    },
    {
     "name": "stderr",
     "output_type": "stream",
     "text": [
      "  0%|          | 15614/17210368 [00:08<4:40:03, 1023.28it/s]"
     ]
    },
    {
     "name": "stdout",
     "output_type": "stream",
     "text": [
      "tensor(nan, grad_fn=<VarBackward0>)\n"
     ]
    },
    {
     "name": "stderr",
     "output_type": "stream",
     "text": [
      "  0%|          | 16143/17210368 [00:09<3:51:09, 1239.73it/s]"
     ]
    },
    {
     "name": "stdout",
     "output_type": "stream",
     "text": [
      "tensor(nan, grad_fn=<VarBackward0>)\n"
     ]
    },
    {
     "name": "stderr",
     "output_type": "stream",
     "text": [
      "  0%|          | 16669/17210368 [00:09<3:27:48, 1379.00it/s]"
     ]
    },
    {
     "name": "stdout",
     "output_type": "stream",
     "text": [
      "tensor(nan, grad_fn=<VarBackward0>)\n"
     ]
    },
    {
     "name": "stderr",
     "output_type": "stream",
     "text": [
      "  0%|          | 17199/17210368 [00:09<3:16:40, 1456.98it/s]"
     ]
    },
    {
     "name": "stdout",
     "output_type": "stream",
     "text": [
      "tensor(nan, grad_fn=<VarBackward0>)\n"
     ]
    },
    {
     "name": "stderr",
     "output_type": "stream",
     "text": [
      "\r",
      "  0%|          | 17500/17210368 [00:09<3:22:08, 1417.60it/s]"
     ]
    },
    {
     "name": "stdout",
     "output_type": "stream",
     "text": [
      "tensor(nan, grad_fn=<VarBackward0>)\n"
     ]
    },
    {
     "name": "stderr",
     "output_type": "stream",
     "text": [
      "  0%|          | 18012/17210368 [00:10<3:20:35, 1428.49it/s]"
     ]
    },
    {
     "name": "stdout",
     "output_type": "stream",
     "text": [
      "tensor(nan, grad_fn=<VarBackward0>)\n"
     ]
    },
    {
     "name": "stderr",
     "output_type": "stream",
     "text": [
      "  0%|          | 18539/17210368 [00:10<3:18:01, 1446.88it/s]"
     ]
    },
    {
     "name": "stdout",
     "output_type": "stream",
     "text": [
      "tensor(nan, grad_fn=<VarBackward0>)\n"
     ]
    },
    {
     "name": "stderr",
     "output_type": "stream",
     "text": [
      "  0%|          | 19057/17210368 [00:10<3:20:05, 1431.96it/s]"
     ]
    },
    {
     "name": "stdout",
     "output_type": "stream",
     "text": [
      "tensor(nan, grad_fn=<VarBackward0>)\n"
     ]
    },
    {
     "name": "stderr",
     "output_type": "stream",
     "text": [
      "  0%|          | 19565/17210368 [00:11<3:24:48, 1398.97it/s]"
     ]
    },
    {
     "name": "stdout",
     "output_type": "stream",
     "text": [
      "tensor(nan, grad_fn=<VarBackward0>)\n"
     ]
    },
    {
     "name": "stderr",
     "output_type": "stream",
     "text": [
      "  0%|          | 20061/17210368 [00:11<3:29:16, 1369.05it/s]"
     ]
    },
    {
     "name": "stdout",
     "output_type": "stream",
     "text": [
      "tensor(nan, grad_fn=<VarBackward0>)\n"
     ]
    },
    {
     "name": "stderr",
     "output_type": "stream",
     "text": [
      "  0%|          | 20571/17210368 [00:11<3:31:15, 1356.13it/s]"
     ]
    },
    {
     "name": "stdout",
     "output_type": "stream",
     "text": [
      "tensor(nan, grad_fn=<VarBackward0>)\n"
     ]
    },
    {
     "name": "stderr",
     "output_type": "stream",
     "text": [
      "  0%|          | 21072/17210368 [00:12<3:41:17, 1294.62it/s]"
     ]
    },
    {
     "name": "stdout",
     "output_type": "stream",
     "text": [
      "tensor(nan, grad_fn=<VarBackward0>)\n"
     ]
    },
    {
     "name": "stderr",
     "output_type": "stream",
     "text": [
      "  0%|          | 21557/17210368 [00:12<3:44:52, 1273.95it/s]"
     ]
    },
    {
     "name": "stdout",
     "output_type": "stream",
     "text": [
      "tensor(nan, grad_fn=<VarBackward0>)\n"
     ]
    },
    {
     "name": "stderr",
     "output_type": "stream",
     "text": [
      "  0%|          | 22050/17210368 [00:12<3:46:40, 1263.80it/s]"
     ]
    },
    {
     "name": "stdout",
     "output_type": "stream",
     "text": [
      "tensor(nan, grad_fn=<VarBackward0>)\n"
     ]
    },
    {
     "name": "stderr",
     "output_type": "stream",
     "text": [
      "  0%|          | 22548/17210368 [00:13<3:48:02, 1256.19it/s]"
     ]
    },
    {
     "name": "stdout",
     "output_type": "stream",
     "text": [
      "tensor(nan, grad_fn=<VarBackward0>)\n"
     ]
    },
    {
     "name": "stderr",
     "output_type": "stream",
     "text": [
      "  0%|          | 23036/17210368 [00:13<3:49:40, 1247.22it/s]"
     ]
    },
    {
     "name": "stdout",
     "output_type": "stream",
     "text": [
      "tensor(nan, grad_fn=<VarBackward0>)\n"
     ]
    },
    {
     "name": "stderr",
     "output_type": "stream",
     "text": [
      "  0%|          | 23543/17210368 [00:13<3:49:02, 1250.64it/s]"
     ]
    },
    {
     "name": "stdout",
     "output_type": "stream",
     "text": [
      "tensor(nan, grad_fn=<VarBackward0>)\n"
     ]
    },
    {
     "name": "stderr",
     "output_type": "stream",
     "text": [
      "  0%|          | 24057/17210368 [00:14<3:48:51, 1251.56it/s]"
     ]
    },
    {
     "name": "stdout",
     "output_type": "stream",
     "text": [
      "tensor(nan, grad_fn=<VarBackward0>)\n"
     ]
    },
    {
     "name": "stderr",
     "output_type": "stream",
     "text": [
      "  0%|          | 24575/17210368 [00:14<3:48:33, 1253.18it/s]"
     ]
    },
    {
     "name": "stdout",
     "output_type": "stream",
     "text": [
      "tensor(nan, grad_fn=<VarBackward0>)\n"
     ]
    },
    {
     "name": "stderr",
     "output_type": "stream",
     "text": [
      "\r",
      "  0%|          | 24879/17210368 [00:14<3:08:17, 1521.16it/s]"
     ]
    },
    {
     "name": "stdout",
     "output_type": "stream",
     "text": [
      "tensor(nan, grad_fn=<VarBackward0>)\n"
     ]
    },
    {
     "name": "stderr",
     "output_type": "stream",
     "text": [
      "  0%|          | 25387/17210368 [00:14<3:09:45, 1509.43it/s]"
     ]
    },
    {
     "name": "stdout",
     "output_type": "stream",
     "text": [
      "tensor(nan, grad_fn=<VarBackward0>)\n"
     ]
    },
    {
     "name": "stderr",
     "output_type": "stream",
     "text": [
      "  0%|          | 25909/17210368 [00:15<3:11:12, 1497.88it/s]"
     ]
    },
    {
     "name": "stdout",
     "output_type": "stream",
     "text": [
      "tensor(nan, grad_fn=<VarBackward0>)\n"
     ]
    },
    {
     "name": "stderr",
     "output_type": "stream",
     "text": [
      "  0%|          | 26432/17210368 [00:15<3:11:28, 1495.71it/s]"
     ]
    },
    {
     "name": "stdout",
     "output_type": "stream",
     "text": [
      "tensor(nan, grad_fn=<VarBackward0>)\n"
     ]
    },
    {
     "name": "stderr",
     "output_type": "stream",
     "text": [
      "  0%|          | 26955/17210368 [00:15<3:11:42, 1493.82it/s]"
     ]
    },
    {
     "name": "stdout",
     "output_type": "stream",
     "text": [
      "tensor(nan, grad_fn=<VarBackward0>)\n"
     ]
    },
    {
     "name": "stderr",
     "output_type": "stream",
     "text": [
      "  0%|          | 27480/17210368 [00:16<3:13:18, 1481.50it/s]"
     ]
    },
    {
     "name": "stdout",
     "output_type": "stream",
     "text": [
      "tensor(nan, grad_fn=<VarBackward0>)\n"
     ]
    },
    {
     "name": "stderr",
     "output_type": "stream",
     "text": [
      "  0%|          | 28000/17210368 [00:16<4:08:24, 1152.87it/s]"
     ]
    },
    {
     "name": "stdout",
     "output_type": "stream",
     "text": [
      "tensor(nan, grad_fn=<VarBackward0>)\n"
     ]
    },
    {
     "name": "stderr",
     "output_type": "stream",
     "text": [
      "  0%|          | 28501/17210368 [00:17<4:13:51, 1128.08it/s]"
     ]
    },
    {
     "name": "stdout",
     "output_type": "stream",
     "text": [
      "tensor(nan, grad_fn=<VarBackward0>)\n"
     ]
    },
    {
     "name": "stderr",
     "output_type": "stream",
     "text": [
      "  0%|          | 29015/17210368 [00:17<4:14:07, 1126.82it/s]"
     ]
    },
    {
     "name": "stdout",
     "output_type": "stream",
     "text": [
      "tensor(nan, grad_fn=<VarBackward0>)\n"
     ]
    },
    {
     "name": "stderr",
     "output_type": "stream",
     "text": [
      "\r",
      "  0%|          | 29326/17210368 [00:17<3:25:34, 1392.89it/s]"
     ]
    },
    {
     "name": "stdout",
     "output_type": "stream",
     "text": [
      "tensor(nan, grad_fn=<VarBackward0>)\n"
     ]
    },
    {
     "name": "stderr",
     "output_type": "stream",
     "text": [
      "  0%|          | 29840/17210368 [00:18<3:25:44, 1391.77it/s]"
     ]
    },
    {
     "name": "stdout",
     "output_type": "stream",
     "text": [
      "tensor(nan, grad_fn=<VarBackward0>)\n"
     ]
    },
    {
     "name": "stderr",
     "output_type": "stream",
     "text": [
      "  0%|          | 30359/17210368 [00:18<3:26:35, 1385.97it/s]"
     ]
    },
    {
     "name": "stdout",
     "output_type": "stream",
     "text": [
      "tensor(nan, grad_fn=<VarBackward0>)\n"
     ]
    },
    {
     "name": "stderr",
     "output_type": "stream",
     "text": [
      "  0%|          | 30879/17210368 [00:18<3:27:03, 1382.83it/s]"
     ]
    },
    {
     "name": "stdout",
     "output_type": "stream",
     "text": [
      "tensor(nan, grad_fn=<VarBackward0>)\n"
     ]
    },
    {
     "name": "stderr",
     "output_type": "stream",
     "text": [
      "  0%|          | 31399/17210368 [00:19<3:28:19, 1374.42it/s]"
     ]
    },
    {
     "name": "stdout",
     "output_type": "stream",
     "text": [
      "tensor(nan, grad_fn=<VarBackward0>)\n"
     ]
    },
    {
     "name": "stderr",
     "output_type": "stream",
     "text": [
      "  0%|          | 31921/17210368 [00:19<3:29:54, 1363.94it/s]"
     ]
    },
    {
     "name": "stdout",
     "output_type": "stream",
     "text": [
      "tensor(nan, grad_fn=<VarBackward0>)\n"
     ]
    },
    {
     "name": "stderr",
     "output_type": "stream",
     "text": [
      "  0%|          | 32440/17210368 [00:19<3:31:15, 1355.19it/s]"
     ]
    },
    {
     "name": "stdout",
     "output_type": "stream",
     "text": [
      "tensor(nan, grad_fn=<VarBackward0>)\n"
     ]
    },
    {
     "name": "stderr",
     "output_type": "stream",
     "text": [
      "  0%|          | 32963/17210368 [00:20<3:32:50, 1345.11it/s]"
     ]
    },
    {
     "name": "stdout",
     "output_type": "stream",
     "text": [
      "tensor(nan, grad_fn=<VarBackward0>)\n"
     ]
    },
    {
     "name": "stderr",
     "output_type": "stream",
     "text": [
      "  0%|          | 33484/17210368 [00:20<3:35:46, 1326.77it/s]"
     ]
    },
    {
     "name": "stdout",
     "output_type": "stream",
     "text": [
      "tensor(nan, grad_fn=<VarBackward0>)\n"
     ]
    },
    {
     "name": "stderr",
     "output_type": "stream",
     "text": [
      "  0%|          | 33997/17210368 [00:21<3:38:24, 1310.76it/s]"
     ]
    },
    {
     "name": "stdout",
     "output_type": "stream",
     "text": [
      "tensor(nan, grad_fn=<VarBackward0>)\n"
     ]
    },
    {
     "name": "stderr",
     "output_type": "stream",
     "text": [
      "\r",
      "  0%|          | 34206/17210368 [00:21<4:35:39, 1038.49it/s]"
     ]
    },
    {
     "name": "stdout",
     "output_type": "stream",
     "text": [
      "tensor(nan, grad_fn=<VarBackward0>)\n"
     ]
    },
    {
     "name": "stderr",
     "output_type": "stream",
     "text": [
      "  0%|          | 34807/17210368 [00:21<3:49:57, 1244.83it/s]"
     ]
    },
    {
     "name": "stdout",
     "output_type": "stream",
     "text": [
      "tensor(nan, grad_fn=<VarBackward0>)\n"
     ]
    },
    {
     "name": "stderr",
     "output_type": "stream",
     "text": [
      "  0%|          | 35302/17210368 [00:22<3:54:49, 1218.98it/s]"
     ]
    },
    {
     "name": "stdout",
     "output_type": "stream",
     "text": [
      "tensor(nan, grad_fn=<VarBackward0>)\n"
     ]
    },
    {
     "name": "stderr",
     "output_type": "stream",
     "text": [
      "  0%|          | 35806/17210368 [00:22<3:54:35, 1220.21it/s]"
     ]
    },
    {
     "name": "stdout",
     "output_type": "stream",
     "text": [
      "tensor(nan, grad_fn=<VarBackward0>)\n"
     ]
    },
    {
     "name": "stderr",
     "output_type": "stream",
     "text": [
      "  0%|          | 36316/17210368 [00:23<3:54:02, 1222.97it/s]"
     ]
    },
    {
     "name": "stdout",
     "output_type": "stream",
     "text": [
      "tensor(nan, grad_fn=<VarBackward0>)\n"
     ]
    },
    {
     "name": "stderr",
     "output_type": "stream",
     "text": [
      "  0%|          | 36815/17210368 [00:23<3:55:31, 1215.25it/s]"
     ]
    },
    {
     "name": "stdout",
     "output_type": "stream",
     "text": [
      "tensor(nan, grad_fn=<VarBackward0>)\n"
     ]
    },
    {
     "name": "stderr",
     "output_type": "stream",
     "text": [
      "  0%|          | 37327/17210368 [00:23<3:55:48, 1213.75it/s]"
     ]
    },
    {
     "name": "stdout",
     "output_type": "stream",
     "text": [
      "tensor(nan, grad_fn=<VarBackward0>)\n"
     ]
    },
    {
     "name": "stderr",
     "output_type": "stream",
     "text": [
      "  0%|          | 37843/17210368 [00:24<3:56:03, 1212.41it/s]"
     ]
    },
    {
     "name": "stdout",
     "output_type": "stream",
     "text": [
      "tensor(nan, grad_fn=<VarBackward0>)\n"
     ]
    },
    {
     "name": "stderr",
     "output_type": "stream",
     "text": [
      "  0%|          | 38355/17210368 [00:24<3:56:44, 1208.93it/s]"
     ]
    },
    {
     "name": "stdout",
     "output_type": "stream",
     "text": [
      "tensor(nan, grad_fn=<VarBackward0>)\n"
     ]
    },
    {
     "name": "stderr",
     "output_type": "stream",
     "text": [
      "  0%|          | 38871/17210368 [00:25<3:58:13, 1201.31it/s]"
     ]
    },
    {
     "name": "stdout",
     "output_type": "stream",
     "text": [
      "tensor(nan, grad_fn=<VarBackward0>)\n"
     ]
    },
    {
     "name": "stderr",
     "output_type": "stream",
     "text": [
      "  0%|          | 39383/17210368 [00:25<4:00:58, 1187.57it/s]"
     ]
    },
    {
     "name": "stdout",
     "output_type": "stream",
     "text": [
      "tensor(nan, grad_fn=<VarBackward0>)\n"
     ]
    },
    {
     "name": "stderr",
     "output_type": "stream",
     "text": [
      "  0%|          | 39881/17210368 [00:25<4:04:44, 1169.27it/s]"
     ]
    },
    {
     "name": "stdout",
     "output_type": "stream",
     "text": [
      "tensor(nan, grad_fn=<VarBackward0>)\n"
     ]
    },
    {
     "name": "stderr",
     "output_type": "stream",
     "text": [
      "  0%|          | 40385/17210368 [00:26<4:10:28, 1142.49it/s]"
     ]
    },
    {
     "name": "stdout",
     "output_type": "stream",
     "text": [
      "tensor(nan, grad_fn=<VarBackward0>)\n"
     ]
    },
    {
     "name": "stderr",
     "output_type": "stream",
     "text": [
      "  0%|          | 40893/17210368 [00:26<4:11:14, 1138.98it/s]"
     ]
    },
    {
     "name": "stdout",
     "output_type": "stream",
     "text": [
      "tensor(nan, grad_fn=<VarBackward0>)\n"
     ]
    },
    {
     "name": "stderr",
     "output_type": "stream",
     "text": [
      "  0%|          | 41401/17210368 [00:27<4:12:16, 1134.31it/s]"
     ]
    },
    {
     "name": "stdout",
     "output_type": "stream",
     "text": [
      "tensor(nan, grad_fn=<VarBackward0>)\n"
     ]
    },
    {
     "name": "stderr",
     "output_type": "stream",
     "text": [
      "  0%|          | 41912/17210368 [00:27<4:11:56, 1135.74it/s]"
     ]
    },
    {
     "name": "stdout",
     "output_type": "stream",
     "text": [
      "tensor(nan, grad_fn=<VarBackward0>)\n"
     ]
    },
    {
     "name": "stderr",
     "output_type": "stream",
     "text": [
      "  0%|          | 42424/17210368 [00:28<4:12:04, 1135.12it/s]"
     ]
    },
    {
     "name": "stdout",
     "output_type": "stream",
     "text": [
      "tensor(nan, grad_fn=<VarBackward0>)\n"
     ]
    },
    {
     "name": "stderr",
     "output_type": "stream",
     "text": [
      "  0%|          | 42937/17210368 [00:28<4:12:48, 1131.78it/s]"
     ]
    },
    {
     "name": "stdout",
     "output_type": "stream",
     "text": [
      "tensor(nan, grad_fn=<VarBackward0>)\n"
     ]
    },
    {
     "name": "stderr",
     "output_type": "stream",
     "text": [
      "  0%|          | 43448/17210368 [00:29<4:14:35, 1123.84it/s]"
     ]
    },
    {
     "name": "stdout",
     "output_type": "stream",
     "text": [
      "tensor(nan, grad_fn=<VarBackward0>)\n"
     ]
    },
    {
     "name": "stderr",
     "output_type": "stream",
     "text": [
      "  0%|          | 43957/17210368 [00:29<4:16:12, 1116.66it/s]"
     ]
    },
    {
     "name": "stdout",
     "output_type": "stream",
     "text": [
      "tensor(nan, grad_fn=<VarBackward0>)\n"
     ]
    },
    {
     "name": "stderr",
     "output_type": "stream",
     "text": [
      "  0%|          | 44461/17210368 [00:29<4:17:56, 1109.13it/s]"
     ]
    },
    {
     "name": "stdout",
     "output_type": "stream",
     "text": [
      "tensor(nan, grad_fn=<VarBackward0>)\n"
     ]
    },
    {
     "name": "stderr",
     "output_type": "stream",
     "text": [
      "  0%|          | 44970/17210368 [00:30<4:21:00, 1096.07it/s]"
     ]
    },
    {
     "name": "stdout",
     "output_type": "stream",
     "text": [
      "tensor(nan, grad_fn=<VarBackward0>)\n"
     ]
    },
    {
     "name": "stderr",
     "output_type": "stream",
     "text": [
      "  0%|          | 45476/17210368 [00:30<4:22:42, 1088.97it/s]"
     ]
    },
    {
     "name": "stdout",
     "output_type": "stream",
     "text": [
      "tensor(nan, grad_fn=<VarBackward0>)\n"
     ]
    },
    {
     "name": "stderr",
     "output_type": "stream",
     "text": [
      "  0%|          | 45984/17210368 [00:31<4:25:10, 1078.83it/s]"
     ]
    },
    {
     "name": "stdout",
     "output_type": "stream",
     "text": [
      "tensor(nan, grad_fn=<VarBackward0>)\n"
     ]
    },
    {
     "name": "stderr",
     "output_type": "stream",
     "text": [
      "  0%|          | 46491/17210368 [00:31<4:26:56, 1071.62it/s]"
     ]
    },
    {
     "name": "stdout",
     "output_type": "stream",
     "text": [
      "tensor(nan, grad_fn=<VarBackward0>)\n"
     ]
    },
    {
     "name": "stderr",
     "output_type": "stream",
     "text": [
      "\r",
      "  0%|          | 46693/17210368 [00:32<5:43:34, 832.61it/s] "
     ]
    },
    {
     "name": "stdout",
     "output_type": "stream",
     "text": [
      "tensor(nan, grad_fn=<VarBackward0>)\n"
     ]
    },
    {
     "name": "stderr",
     "output_type": "stream",
     "text": [
      "  0%|          | 47306/17210368 [00:32<4:36:10, 1035.73it/s]"
     ]
    },
    {
     "name": "stdout",
     "output_type": "stream",
     "text": [
      "tensor(nan, grad_fn=<VarBackward0>)\n"
     ]
    },
    {
     "name": "stderr",
     "output_type": "stream",
     "text": [
      "  0%|          | 47805/17210368 [00:33<4:38:48, 1025.95it/s]"
     ]
    },
    {
     "name": "stdout",
     "output_type": "stream",
     "text": [
      "tensor(nan, grad_fn=<VarBackward0>)\n"
     ]
    },
    {
     "name": "stderr",
     "output_type": "stream",
     "text": [
      "  0%|          | 48309/17210368 [00:33<4:40:15, 1020.63it/s]"
     ]
    },
    {
     "name": "stdout",
     "output_type": "stream",
     "text": [
      "tensor(nan, grad_fn=<VarBackward0>)\n"
     ]
    },
    {
     "name": "stderr",
     "output_type": "stream",
     "text": [
      "  0%|          | 48816/17210368 [00:34<4:40:45, 1018.76it/s]"
     ]
    },
    {
     "name": "stdout",
     "output_type": "stream",
     "text": [
      "tensor(nan, grad_fn=<VarBackward0>)\n"
     ]
    },
    {
     "name": "stderr",
     "output_type": "stream",
     "text": [
      "  0%|          | 49325/17210368 [00:34<4:42:34, 1012.21it/s]"
     ]
    },
    {
     "name": "stdout",
     "output_type": "stream",
     "text": [
      "tensor(nan, grad_fn=<VarBackward0>)\n"
     ]
    },
    {
     "name": "stderr",
     "output_type": "stream",
     "text": [
      "  0%|          | 49832/17210368 [00:35<4:42:32, 1012.26it/s]"
     ]
    },
    {
     "name": "stdout",
     "output_type": "stream",
     "text": [
      "tensor(nan, grad_fn=<VarBackward0>)\n"
     ]
    },
    {
     "name": "stderr",
     "output_type": "stream",
     "text": [
      "  0%|          | 50333/17210368 [00:35<4:43:54, 1007.38it/s]"
     ]
    },
    {
     "name": "stdout",
     "output_type": "stream",
     "text": [
      "tensor(nan, grad_fn=<VarBackward0>)\n"
     ]
    },
    {
     "name": "stderr",
     "output_type": "stream",
     "text": [
      "  0%|          | 50838/17210368 [00:36<4:48:42, 990.60it/s] "
     ]
    },
    {
     "name": "stdout",
     "output_type": "stream",
     "text": [
      "tensor(nan, grad_fn=<VarBackward0>)\n"
     ]
    },
    {
     "name": "stderr",
     "output_type": "stream",
     "text": [
      "  0%|          | 51348/17210368 [00:36<4:50:35, 984.12it/s]"
     ]
    },
    {
     "name": "stdout",
     "output_type": "stream",
     "text": [
      "tensor(nan, grad_fn=<VarBackward0>)\n"
     ]
    },
    {
     "name": "stderr",
     "output_type": "stream",
     "text": [
      "  0%|          | 51845/17210368 [00:37<4:53:33, 974.19it/s]"
     ]
    },
    {
     "name": "stdout",
     "output_type": "stream",
     "text": [
      "tensor(nan, grad_fn=<VarBackward0>)\n"
     ]
    },
    {
     "name": "stderr",
     "output_type": "stream",
     "text": [
      "  0%|          | 52340/17210368 [00:37<4:57:26, 961.44it/s]"
     ]
    },
    {
     "name": "stdout",
     "output_type": "stream",
     "text": [
      "tensor(nan, grad_fn=<VarBackward0>)\n"
     ]
    },
    {
     "name": "stderr",
     "output_type": "stream",
     "text": [
      "  0%|          | 52831/17210368 [00:38<5:03:20, 942.71it/s]"
     ]
    },
    {
     "name": "stdout",
     "output_type": "stream",
     "text": [
      "tensor(nan, grad_fn=<VarBackward0>)\n"
     ]
    },
    {
     "name": "stderr",
     "output_type": "stream",
     "text": [
      "  0%|          | 53332/17210368 [00:38<5:05:47, 935.14it/s]"
     ]
    },
    {
     "name": "stdout",
     "output_type": "stream",
     "text": [
      "tensor(nan, grad_fn=<VarBackward0>)\n"
     ]
    },
    {
     "name": "stderr",
     "output_type": "stream",
     "text": [
      "  0%|          | 53819/17210368 [00:39<5:07:15, 930.62it/s]"
     ]
    },
    {
     "name": "stdout",
     "output_type": "stream",
     "text": [
      "tensor(nan, grad_fn=<VarBackward0>)\n"
     ]
    },
    {
     "name": "stderr",
     "output_type": "stream",
     "text": [
      "  0%|          | 54316/17210368 [00:39<5:08:57, 925.45it/s]"
     ]
    },
    {
     "name": "stdout",
     "output_type": "stream",
     "text": [
      "tensor(nan, grad_fn=<VarBackward0>)\n"
     ]
    },
    {
     "name": "stderr",
     "output_type": "stream",
     "text": [
      "  0%|          | 54804/17210368 [00:40<5:09:54, 922.61it/s]"
     ]
    },
    {
     "name": "stdout",
     "output_type": "stream",
     "text": [
      "tensor(nan, grad_fn=<VarBackward0>)\n"
     ]
    },
    {
     "name": "stderr",
     "output_type": "stream",
     "text": [
      "  0%|          | 55293/17210368 [00:40<5:12:12, 915.81it/s]"
     ]
    },
    {
     "name": "stdout",
     "output_type": "stream",
     "text": [
      "tensor(nan, grad_fn=<VarBackward0>)\n"
     ]
    },
    {
     "name": "stderr",
     "output_type": "stream",
     "text": [
      "  0%|          | 55793/17210368 [00:41<5:07:58, 928.37it/s]"
     ]
    },
    {
     "name": "stdout",
     "output_type": "stream",
     "text": [
      "tensor(nan, grad_fn=<VarBackward0>)\n"
     ]
    },
    {
     "name": "stderr",
     "output_type": "stream",
     "text": [
      "  0%|          | 56301/17210368 [00:41<5:06:01, 934.22it/s]"
     ]
    },
    {
     "name": "stdout",
     "output_type": "stream",
     "text": [
      "tensor(nan, grad_fn=<VarBackward0>)\n"
     ]
    },
    {
     "name": "stderr",
     "output_type": "stream",
     "text": [
      "  0%|          | 56788/17210368 [00:42<5:11:41, 917.21it/s]"
     ]
    },
    {
     "name": "stdout",
     "output_type": "stream",
     "text": [
      "tensor(nan, grad_fn=<VarBackward0>)\n"
     ]
    },
    {
     "name": "stderr",
     "output_type": "stream",
     "text": [
      "  0%|          | 57272/17210368 [00:42<5:08:54, 925.48it/s]"
     ]
    },
    {
     "name": "stdout",
     "output_type": "stream",
     "text": [
      "tensor(nan, grad_fn=<VarBackward0>)\n"
     ]
    },
    {
     "name": "stderr",
     "output_type": "stream",
     "text": [
      "  0%|          | 57778/17210368 [00:43<5:02:54, 943.75it/s]"
     ]
    },
    {
     "name": "stdout",
     "output_type": "stream",
     "text": [
      "tensor(nan, grad_fn=<VarBackward0>)\n"
     ]
    },
    {
     "name": "stderr",
     "output_type": "stream",
     "text": [
      "  0%|          | 58306/17210368 [00:44<4:57:22, 961.32it/s]"
     ]
    },
    {
     "name": "stdout",
     "output_type": "stream",
     "text": [
      "tensor(nan, grad_fn=<VarBackward0>)\n"
     ]
    },
    {
     "name": "stderr",
     "output_type": "stream",
     "text": [
      "  0%|          | 58804/17210368 [00:44<5:10:36, 920.32it/s]"
     ]
    },
    {
     "name": "stdout",
     "output_type": "stream",
     "text": [
      "tensor(nan, grad_fn=<VarBackward0>)\n"
     ]
    },
    {
     "name": "stderr",
     "output_type": "stream",
     "text": [
      "  0%|          | 59298/17210368 [00:45<5:18:01, 898.81it/s]"
     ]
    },
    {
     "name": "stdout",
     "output_type": "stream",
     "text": [
      "tensor(nan, grad_fn=<VarBackward0>)\n"
     ]
    },
    {
     "name": "stderr",
     "output_type": "stream",
     "text": [
      "  0%|          | 59802/17210368 [00:45<5:19:15, 895.33it/s]"
     ]
    },
    {
     "name": "stdout",
     "output_type": "stream",
     "text": [
      "tensor(nan, grad_fn=<VarBackward0>)\n"
     ]
    },
    {
     "name": "stderr",
     "output_type": "stream",
     "text": [
      "  0%|          | 60297/17210368 [00:46<5:22:27, 886.42it/s]"
     ]
    },
    {
     "name": "stdout",
     "output_type": "stream",
     "text": [
      "tensor(nan, grad_fn=<VarBackward0>)\n"
     ]
    },
    {
     "name": "stderr",
     "output_type": "stream",
     "text": [
      "  0%|          | 60806/17210368 [00:46<5:24:36, 880.54it/s]"
     ]
    },
    {
     "name": "stdout",
     "output_type": "stream",
     "text": [
      "tensor(nan, grad_fn=<VarBackward0>)\n"
     ]
    },
    {
     "name": "stderr",
     "output_type": "stream",
     "text": [
      "  0%|          | 61305/17210368 [00:47<5:28:58, 868.80it/s]"
     ]
    },
    {
     "name": "stdout",
     "output_type": "stream",
     "text": [
      "tensor(nan, grad_fn=<VarBackward0>)\n"
     ]
    },
    {
     "name": "stderr",
     "output_type": "stream",
     "text": [
      "  0%|          | 61813/17210368 [00:47<5:30:41, 864.27it/s]"
     ]
    },
    {
     "name": "stdout",
     "output_type": "stream",
     "text": [
      "tensor(nan, grad_fn=<VarBackward0>)\n"
     ]
    },
    {
     "name": "stderr",
     "output_type": "stream",
     "text": [
      "  0%|          | 62317/17210368 [00:48<5:29:52, 866.39it/s]"
     ]
    },
    {
     "name": "stdout",
     "output_type": "stream",
     "text": [
      "tensor(nan, grad_fn=<VarBackward0>)\n"
     ]
    },
    {
     "name": "stderr",
     "output_type": "stream",
     "text": [
      "  0%|          | 62821/17210368 [00:49<5:30:23, 865.01it/s]"
     ]
    },
    {
     "name": "stdout",
     "output_type": "stream",
     "text": [
      "tensor(nan, grad_fn=<VarBackward0>)\n"
     ]
    },
    {
     "name": "stderr",
     "output_type": "stream",
     "text": [
      "  0%|          | 63323/17210368 [00:49<5:30:43, 864.09it/s]"
     ]
    },
    {
     "name": "stdout",
     "output_type": "stream",
     "text": [
      "tensor(nan, grad_fn=<VarBackward0>)\n"
     ]
    },
    {
     "name": "stderr",
     "output_type": "stream",
     "text": [
      "  0%|          | 63824/17210368 [00:50<5:34:21, 854.68it/s]"
     ]
    },
    {
     "name": "stdout",
     "output_type": "stream",
     "text": [
      "tensor(nan, grad_fn=<VarBackward0>)\n"
     ]
    },
    {
     "name": "stderr",
     "output_type": "stream",
     "text": [
      "  0%|          | 64324/17210368 [00:50<5:36:06, 850.24it/s]"
     ]
    },
    {
     "name": "stdout",
     "output_type": "stream",
     "text": [
      "tensor(nan, grad_fn=<VarBackward0>)\n"
     ]
    },
    {
     "name": "stderr",
     "output_type": "stream",
     "text": [
      "  0%|          | 64825/17210368 [00:51<5:38:32, 844.10it/s]"
     ]
    },
    {
     "name": "stdout",
     "output_type": "stream",
     "text": [
      "tensor(nan, grad_fn=<VarBackward0>)\n"
     ]
    },
    {
     "name": "stderr",
     "output_type": "stream",
     "text": [
      "  0%|          | 65330/17210368 [00:51<5:40:27, 839.30it/s]"
     ]
    },
    {
     "name": "stdout",
     "output_type": "stream",
     "text": [
      "tensor(nan, grad_fn=<VarBackward0>)\n"
     ]
    },
    {
     "name": "stderr",
     "output_type": "stream",
     "text": [
      "  0%|          | 65499/17210368 [00:52<3:48:11, 1252.24it/s]\n"
     ]
    },
    {
     "ename": "KeyboardInterrupt",
     "evalue": "",
     "output_type": "error",
     "traceback": [
      "\u001b[0;31m---------------------------------------------------------------------------\u001b[0m",
      "\u001b[0;31mKeyboardInterrupt\u001b[0m                         Traceback (most recent call last)",
      "\u001b[0;32m<ipython-input-15-92961a7f6773>\u001b[0m in \u001b[0;36m<module>\u001b[0;34m\u001b[0m\n\u001b[1;32m      1\u001b[0m \u001b[0;31m# model pxy directly\u001b[0m\u001b[0;34m\u001b[0m\u001b[0;34m\u001b[0m\u001b[0;34m\u001b[0m\u001b[0m\n\u001b[0;32m----> 2\u001b[0;31m \u001b[0mM\u001b[0m\u001b[0;34m,\u001b[0m \u001b[0mMbar\u001b[0m\u001b[0;34m,\u001b[0m \u001b[0mhistory\u001b[0m \u001b[0;34m=\u001b[0m \u001b[0mrun_expr_all_samples\u001b[0m\u001b[0;34m(\u001b[0m\u001b[0mn_batch\u001b[0m\u001b[0;34m=\u001b[0m\u001b[0;36m5\u001b[0m\u001b[0;34m)\u001b[0m\u001b[0;34m\u001b[0m\u001b[0;34m\u001b[0m\u001b[0m\n\u001b[0m",
      "\u001b[0;32m<ipython-input-14-d7ef18eaaa21>\u001b[0m in \u001b[0;36mrun_expr_all_samples\u001b[0;34m(n_batch)\u001b[0m\n\u001b[1;32m     40\u001b[0m             \u001b[0mprint\u001b[0m\u001b[0;34m(\u001b[0m\u001b[0mtorch\u001b[0m\u001b[0;34m.\u001b[0m\u001b[0mvar\u001b[0m\u001b[0;34m(\u001b[0m\u001b[0mM\u001b[0m\u001b[0;34m)\u001b[0m\u001b[0;34m)\u001b[0m\u001b[0;34m\u001b[0m\u001b[0;34m\u001b[0m\u001b[0m\n\u001b[1;32m     41\u001b[0m             \u001b[0mplt\u001b[0m\u001b[0;34m.\u001b[0m\u001b[0mimshow\u001b[0m\u001b[0;34m(\u001b[0m\u001b[0mMbar\u001b[0m\u001b[0;34m.\u001b[0m\u001b[0mdetach\u001b[0m\u001b[0;34m(\u001b[0m\u001b[0;34m)\u001b[0m\u001b[0;34m.\u001b[0m\u001b[0mcpu\u001b[0m\u001b[0;34m(\u001b[0m\u001b[0;34m)\u001b[0m\u001b[0;34m.\u001b[0m\u001b[0mnumpy\u001b[0m\u001b[0;34m(\u001b[0m\u001b[0;34m)\u001b[0m\u001b[0;34m)\u001b[0m\u001b[0;34m\u001b[0m\u001b[0;34m\u001b[0m\u001b[0m\n\u001b[0;32m---> 42\u001b[0;31m             \u001b[0mplt\u001b[0m\u001b[0;34m.\u001b[0m\u001b[0msavefig\u001b[0m\u001b[0;34m(\u001b[0m\u001b[0;34mf\"dicerolls_training_results/Mbar_joint_{n_batch}_{iteration}.png\"\u001b[0m\u001b[0;34m)\u001b[0m\u001b[0;34m\u001b[0m\u001b[0;34m\u001b[0m\u001b[0m\n\u001b[0m\u001b[1;32m     43\u001b[0m \u001b[0;34m\u001b[0m\u001b[0m\n\u001b[1;32m     44\u001b[0m     \u001b[0mnp\u001b[0m\u001b[0;34m.\u001b[0m\u001b[0msave\u001b[0m\u001b[0;34m(\u001b[0m\u001b[0;34mf'dicerolls_training_results/Mbar_joint_{n_batch}_{iteration}.npy'\u001b[0m\u001b[0;34m,\u001b[0m \u001b[0mMbar\u001b[0m\u001b[0;34m.\u001b[0m\u001b[0mdetach\u001b[0m\u001b[0;34m(\u001b[0m\u001b[0;34m)\u001b[0m\u001b[0;34m.\u001b[0m\u001b[0mcpu\u001b[0m\u001b[0;34m(\u001b[0m\u001b[0;34m)\u001b[0m\u001b[0;34m.\u001b[0m\u001b[0mnumpy\u001b[0m\u001b[0;34m(\u001b[0m\u001b[0;34m)\u001b[0m\u001b[0;34m)\u001b[0m\u001b[0;34m\u001b[0m\u001b[0;34m\u001b[0m\u001b[0m\n",
      "\u001b[0;32m~/.local/lib/python3.8/site-packages/matplotlib/pyplot.py\u001b[0m in \u001b[0;36msavefig\u001b[0;34m(*args, **kwargs)\u001b[0m\n\u001b[1;32m    858\u001b[0m     \u001b[0mfig\u001b[0m \u001b[0;34m=\u001b[0m \u001b[0mgcf\u001b[0m\u001b[0;34m(\u001b[0m\u001b[0;34m)\u001b[0m\u001b[0;34m\u001b[0m\u001b[0;34m\u001b[0m\u001b[0m\n\u001b[1;32m    859\u001b[0m     \u001b[0mres\u001b[0m \u001b[0;34m=\u001b[0m \u001b[0mfig\u001b[0m\u001b[0;34m.\u001b[0m\u001b[0msavefig\u001b[0m\u001b[0;34m(\u001b[0m\u001b[0;34m*\u001b[0m\u001b[0margs\u001b[0m\u001b[0;34m,\u001b[0m \u001b[0;34m**\u001b[0m\u001b[0mkwargs\u001b[0m\u001b[0;34m)\u001b[0m\u001b[0;34m\u001b[0m\u001b[0;34m\u001b[0m\u001b[0m\n\u001b[0;32m--> 860\u001b[0;31m     \u001b[0mfig\u001b[0m\u001b[0;34m.\u001b[0m\u001b[0mcanvas\u001b[0m\u001b[0;34m.\u001b[0m\u001b[0mdraw_idle\u001b[0m\u001b[0;34m(\u001b[0m\u001b[0;34m)\u001b[0m   \u001b[0;31m# need this if 'transparent=True' to reset colors\u001b[0m\u001b[0;34m\u001b[0m\u001b[0;34m\u001b[0m\u001b[0m\n\u001b[0m\u001b[1;32m    861\u001b[0m     \u001b[0;32mreturn\u001b[0m \u001b[0mres\u001b[0m\u001b[0;34m\u001b[0m\u001b[0;34m\u001b[0m\u001b[0m\n\u001b[1;32m    862\u001b[0m \u001b[0;34m\u001b[0m\u001b[0m\n",
      "\u001b[0;32m~/.local/lib/python3.8/site-packages/matplotlib/backend_bases.py\u001b[0m in \u001b[0;36mdraw_idle\u001b[0;34m(self, *args, **kwargs)\u001b[0m\n\u001b[1;32m   2010\u001b[0m         \u001b[0;32mif\u001b[0m \u001b[0;32mnot\u001b[0m \u001b[0mself\u001b[0m\u001b[0;34m.\u001b[0m\u001b[0m_is_idle_drawing\u001b[0m\u001b[0;34m:\u001b[0m\u001b[0;34m\u001b[0m\u001b[0;34m\u001b[0m\u001b[0m\n\u001b[1;32m   2011\u001b[0m             \u001b[0;32mwith\u001b[0m \u001b[0mself\u001b[0m\u001b[0;34m.\u001b[0m\u001b[0m_idle_draw_cntx\u001b[0m\u001b[0;34m(\u001b[0m\u001b[0;34m)\u001b[0m\u001b[0;34m:\u001b[0m\u001b[0;34m\u001b[0m\u001b[0;34m\u001b[0m\u001b[0m\n\u001b[0;32m-> 2012\u001b[0;31m                 \u001b[0mself\u001b[0m\u001b[0;34m.\u001b[0m\u001b[0mdraw\u001b[0m\u001b[0;34m(\u001b[0m\u001b[0;34m*\u001b[0m\u001b[0margs\u001b[0m\u001b[0;34m,\u001b[0m \u001b[0;34m**\u001b[0m\u001b[0mkwargs\u001b[0m\u001b[0;34m)\u001b[0m\u001b[0;34m\u001b[0m\u001b[0;34m\u001b[0m\u001b[0m\n\u001b[0m\u001b[1;32m   2013\u001b[0m \u001b[0;34m\u001b[0m\u001b[0m\n\u001b[1;32m   2014\u001b[0m     \u001b[0;34m@\u001b[0m\u001b[0mcbook\u001b[0m\u001b[0;34m.\u001b[0m\u001b[0mdeprecated\u001b[0m\u001b[0;34m(\u001b[0m\u001b[0;34m\"3.2\"\u001b[0m\u001b[0;34m)\u001b[0m\u001b[0;34m\u001b[0m\u001b[0;34m\u001b[0m\u001b[0m\n",
      "\u001b[0;32m~/.local/lib/python3.8/site-packages/matplotlib/backends/backend_agg.py\u001b[0m in \u001b[0;36mdraw\u001b[0;34m(self)\u001b[0m\n\u001b[1;32m    405\u001b[0m              (self.toolbar._wait_cursor_for_draw_cm() if self.toolbar\n\u001b[1;32m    406\u001b[0m               else nullcontext()):\n\u001b[0;32m--> 407\u001b[0;31m             \u001b[0mself\u001b[0m\u001b[0;34m.\u001b[0m\u001b[0mfigure\u001b[0m\u001b[0;34m.\u001b[0m\u001b[0mdraw\u001b[0m\u001b[0;34m(\u001b[0m\u001b[0mself\u001b[0m\u001b[0;34m.\u001b[0m\u001b[0mrenderer\u001b[0m\u001b[0;34m)\u001b[0m\u001b[0;34m\u001b[0m\u001b[0;34m\u001b[0m\u001b[0m\n\u001b[0m\u001b[1;32m    408\u001b[0m             \u001b[0;31m# A GUI class may be need to update a window using this draw, so\u001b[0m\u001b[0;34m\u001b[0m\u001b[0;34m\u001b[0m\u001b[0;34m\u001b[0m\u001b[0m\n\u001b[1;32m    409\u001b[0m             \u001b[0;31m# don't forget to call the superclass.\u001b[0m\u001b[0;34m\u001b[0m\u001b[0;34m\u001b[0m\u001b[0;34m\u001b[0m\u001b[0m\n",
      "\u001b[0;32m~/.local/lib/python3.8/site-packages/matplotlib/artist.py\u001b[0m in \u001b[0;36mdraw_wrapper\u001b[0;34m(artist, renderer, *args, **kwargs)\u001b[0m\n\u001b[1;32m     39\u001b[0m                 \u001b[0mrenderer\u001b[0m\u001b[0;34m.\u001b[0m\u001b[0mstart_filter\u001b[0m\u001b[0;34m(\u001b[0m\u001b[0;34m)\u001b[0m\u001b[0;34m\u001b[0m\u001b[0;34m\u001b[0m\u001b[0m\n\u001b[1;32m     40\u001b[0m \u001b[0;34m\u001b[0m\u001b[0m\n\u001b[0;32m---> 41\u001b[0;31m             \u001b[0;32mreturn\u001b[0m \u001b[0mdraw\u001b[0m\u001b[0;34m(\u001b[0m\u001b[0martist\u001b[0m\u001b[0;34m,\u001b[0m \u001b[0mrenderer\u001b[0m\u001b[0;34m,\u001b[0m \u001b[0;34m*\u001b[0m\u001b[0margs\u001b[0m\u001b[0;34m,\u001b[0m \u001b[0;34m**\u001b[0m\u001b[0mkwargs\u001b[0m\u001b[0;34m)\u001b[0m\u001b[0;34m\u001b[0m\u001b[0;34m\u001b[0m\u001b[0m\n\u001b[0m\u001b[1;32m     42\u001b[0m         \u001b[0;32mfinally\u001b[0m\u001b[0;34m:\u001b[0m\u001b[0;34m\u001b[0m\u001b[0;34m\u001b[0m\u001b[0m\n\u001b[1;32m     43\u001b[0m             \u001b[0;32mif\u001b[0m \u001b[0martist\u001b[0m\u001b[0;34m.\u001b[0m\u001b[0mget_agg_filter\u001b[0m\u001b[0;34m(\u001b[0m\u001b[0;34m)\u001b[0m \u001b[0;32mis\u001b[0m \u001b[0;32mnot\u001b[0m \u001b[0;32mNone\u001b[0m\u001b[0;34m:\u001b[0m\u001b[0;34m\u001b[0m\u001b[0;34m\u001b[0m\u001b[0m\n",
      "\u001b[0;32m~/.local/lib/python3.8/site-packages/matplotlib/figure.py\u001b[0m in \u001b[0;36mdraw\u001b[0;34m(self, renderer)\u001b[0m\n\u001b[1;32m   1861\u001b[0m \u001b[0;34m\u001b[0m\u001b[0m\n\u001b[1;32m   1862\u001b[0m             \u001b[0mself\u001b[0m\u001b[0;34m.\u001b[0m\u001b[0mpatch\u001b[0m\u001b[0;34m.\u001b[0m\u001b[0mdraw\u001b[0m\u001b[0;34m(\u001b[0m\u001b[0mrenderer\u001b[0m\u001b[0;34m)\u001b[0m\u001b[0;34m\u001b[0m\u001b[0;34m\u001b[0m\u001b[0m\n\u001b[0;32m-> 1863\u001b[0;31m             mimage._draw_list_compositing_images(\n\u001b[0m\u001b[1;32m   1864\u001b[0m                 renderer, self, artists, self.suppressComposite)\n\u001b[1;32m   1865\u001b[0m \u001b[0;34m\u001b[0m\u001b[0m\n",
      "\u001b[0;32m~/.local/lib/python3.8/site-packages/matplotlib/image.py\u001b[0m in \u001b[0;36m_draw_list_compositing_images\u001b[0;34m(renderer, parent, artists, suppress_composite)\u001b[0m\n\u001b[1;32m    129\u001b[0m     \u001b[0;32mif\u001b[0m \u001b[0mnot_composite\u001b[0m \u001b[0;32mor\u001b[0m \u001b[0;32mnot\u001b[0m \u001b[0mhas_images\u001b[0m\u001b[0;34m:\u001b[0m\u001b[0;34m\u001b[0m\u001b[0;34m\u001b[0m\u001b[0m\n\u001b[1;32m    130\u001b[0m         \u001b[0;32mfor\u001b[0m \u001b[0ma\u001b[0m \u001b[0;32min\u001b[0m \u001b[0martists\u001b[0m\u001b[0;34m:\u001b[0m\u001b[0;34m\u001b[0m\u001b[0;34m\u001b[0m\u001b[0m\n\u001b[0;32m--> 131\u001b[0;31m             \u001b[0ma\u001b[0m\u001b[0;34m.\u001b[0m\u001b[0mdraw\u001b[0m\u001b[0;34m(\u001b[0m\u001b[0mrenderer\u001b[0m\u001b[0;34m)\u001b[0m\u001b[0;34m\u001b[0m\u001b[0;34m\u001b[0m\u001b[0m\n\u001b[0m\u001b[1;32m    132\u001b[0m     \u001b[0;32melse\u001b[0m\u001b[0;34m:\u001b[0m\u001b[0;34m\u001b[0m\u001b[0;34m\u001b[0m\u001b[0m\n\u001b[1;32m    133\u001b[0m         \u001b[0;31m# Composite any adjacent images together\u001b[0m\u001b[0;34m\u001b[0m\u001b[0;34m\u001b[0m\u001b[0;34m\u001b[0m\u001b[0m\n",
      "\u001b[0;32m~/.local/lib/python3.8/site-packages/matplotlib/artist.py\u001b[0m in \u001b[0;36mdraw_wrapper\u001b[0;34m(artist, renderer, *args, **kwargs)\u001b[0m\n\u001b[1;32m     39\u001b[0m                 \u001b[0mrenderer\u001b[0m\u001b[0;34m.\u001b[0m\u001b[0mstart_filter\u001b[0m\u001b[0;34m(\u001b[0m\u001b[0;34m)\u001b[0m\u001b[0;34m\u001b[0m\u001b[0;34m\u001b[0m\u001b[0m\n\u001b[1;32m     40\u001b[0m \u001b[0;34m\u001b[0m\u001b[0m\n\u001b[0;32m---> 41\u001b[0;31m             \u001b[0;32mreturn\u001b[0m \u001b[0mdraw\u001b[0m\u001b[0;34m(\u001b[0m\u001b[0martist\u001b[0m\u001b[0;34m,\u001b[0m \u001b[0mrenderer\u001b[0m\u001b[0;34m,\u001b[0m \u001b[0;34m*\u001b[0m\u001b[0margs\u001b[0m\u001b[0;34m,\u001b[0m \u001b[0;34m**\u001b[0m\u001b[0mkwargs\u001b[0m\u001b[0;34m)\u001b[0m\u001b[0;34m\u001b[0m\u001b[0;34m\u001b[0m\u001b[0m\n\u001b[0m\u001b[1;32m     42\u001b[0m         \u001b[0;32mfinally\u001b[0m\u001b[0;34m:\u001b[0m\u001b[0;34m\u001b[0m\u001b[0;34m\u001b[0m\u001b[0m\n\u001b[1;32m     43\u001b[0m             \u001b[0;32mif\u001b[0m \u001b[0martist\u001b[0m\u001b[0;34m.\u001b[0m\u001b[0mget_agg_filter\u001b[0m\u001b[0;34m(\u001b[0m\u001b[0;34m)\u001b[0m \u001b[0;32mis\u001b[0m \u001b[0;32mnot\u001b[0m \u001b[0;32mNone\u001b[0m\u001b[0;34m:\u001b[0m\u001b[0;34m\u001b[0m\u001b[0;34m\u001b[0m\u001b[0m\n",
      "\u001b[0;32m~/.local/lib/python3.8/site-packages/matplotlib/cbook/deprecation.py\u001b[0m in \u001b[0;36mwrapper\u001b[0;34m(*inner_args, **inner_kwargs)\u001b[0m\n\u001b[1;32m    409\u001b[0m                          \u001b[0;32melse\u001b[0m \u001b[0mdeprecation_addendum\u001b[0m\u001b[0;34m,\u001b[0m\u001b[0;34m\u001b[0m\u001b[0;34m\u001b[0m\u001b[0m\n\u001b[1;32m    410\u001b[0m                 **kwargs)\n\u001b[0;32m--> 411\u001b[0;31m         \u001b[0;32mreturn\u001b[0m \u001b[0mfunc\u001b[0m\u001b[0;34m(\u001b[0m\u001b[0;34m*\u001b[0m\u001b[0minner_args\u001b[0m\u001b[0;34m,\u001b[0m \u001b[0;34m**\u001b[0m\u001b[0minner_kwargs\u001b[0m\u001b[0;34m)\u001b[0m\u001b[0;34m\u001b[0m\u001b[0;34m\u001b[0m\u001b[0m\n\u001b[0m\u001b[1;32m    412\u001b[0m \u001b[0;34m\u001b[0m\u001b[0m\n\u001b[1;32m    413\u001b[0m     \u001b[0;32mreturn\u001b[0m \u001b[0mwrapper\u001b[0m\u001b[0;34m\u001b[0m\u001b[0;34m\u001b[0m\u001b[0m\n",
      "\u001b[0;32m~/.local/lib/python3.8/site-packages/matplotlib/axes/_base.py\u001b[0m in \u001b[0;36mdraw\u001b[0;34m(self, renderer, inframe)\u001b[0m\n\u001b[1;32m   2745\u001b[0m             \u001b[0mrenderer\u001b[0m\u001b[0;34m.\u001b[0m\u001b[0mstop_rasterizing\u001b[0m\u001b[0;34m(\u001b[0m\u001b[0;34m)\u001b[0m\u001b[0;34m\u001b[0m\u001b[0;34m\u001b[0m\u001b[0m\n\u001b[1;32m   2746\u001b[0m \u001b[0;34m\u001b[0m\u001b[0m\n\u001b[0;32m-> 2747\u001b[0;31m         \u001b[0mmimage\u001b[0m\u001b[0;34m.\u001b[0m\u001b[0m_draw_list_compositing_images\u001b[0m\u001b[0;34m(\u001b[0m\u001b[0mrenderer\u001b[0m\u001b[0;34m,\u001b[0m \u001b[0mself\u001b[0m\u001b[0;34m,\u001b[0m \u001b[0martists\u001b[0m\u001b[0;34m)\u001b[0m\u001b[0;34m\u001b[0m\u001b[0;34m\u001b[0m\u001b[0m\n\u001b[0m\u001b[1;32m   2748\u001b[0m \u001b[0;34m\u001b[0m\u001b[0m\n\u001b[1;32m   2749\u001b[0m         \u001b[0mrenderer\u001b[0m\u001b[0;34m.\u001b[0m\u001b[0mclose_group\u001b[0m\u001b[0;34m(\u001b[0m\u001b[0;34m'axes'\u001b[0m\u001b[0;34m)\u001b[0m\u001b[0;34m\u001b[0m\u001b[0;34m\u001b[0m\u001b[0m\n",
      "\u001b[0;32m~/.local/lib/python3.8/site-packages/matplotlib/image.py\u001b[0m in \u001b[0;36m_draw_list_compositing_images\u001b[0;34m(renderer, parent, artists, suppress_composite)\u001b[0m\n\u001b[1;32m    129\u001b[0m     \u001b[0;32mif\u001b[0m \u001b[0mnot_composite\u001b[0m \u001b[0;32mor\u001b[0m \u001b[0;32mnot\u001b[0m \u001b[0mhas_images\u001b[0m\u001b[0;34m:\u001b[0m\u001b[0;34m\u001b[0m\u001b[0;34m\u001b[0m\u001b[0m\n\u001b[1;32m    130\u001b[0m         \u001b[0;32mfor\u001b[0m \u001b[0ma\u001b[0m \u001b[0;32min\u001b[0m \u001b[0martists\u001b[0m\u001b[0;34m:\u001b[0m\u001b[0;34m\u001b[0m\u001b[0;34m\u001b[0m\u001b[0m\n\u001b[0;32m--> 131\u001b[0;31m             \u001b[0ma\u001b[0m\u001b[0;34m.\u001b[0m\u001b[0mdraw\u001b[0m\u001b[0;34m(\u001b[0m\u001b[0mrenderer\u001b[0m\u001b[0;34m)\u001b[0m\u001b[0;34m\u001b[0m\u001b[0;34m\u001b[0m\u001b[0m\n\u001b[0m\u001b[1;32m    132\u001b[0m     \u001b[0;32melse\u001b[0m\u001b[0;34m:\u001b[0m\u001b[0;34m\u001b[0m\u001b[0;34m\u001b[0m\u001b[0m\n\u001b[1;32m    133\u001b[0m         \u001b[0;31m# Composite any adjacent images together\u001b[0m\u001b[0;34m\u001b[0m\u001b[0;34m\u001b[0m\u001b[0;34m\u001b[0m\u001b[0m\n",
      "\u001b[0;32m~/.local/lib/python3.8/site-packages/matplotlib/artist.py\u001b[0m in \u001b[0;36mdraw_wrapper\u001b[0;34m(artist, renderer, *args, **kwargs)\u001b[0m\n\u001b[1;32m     39\u001b[0m                 \u001b[0mrenderer\u001b[0m\u001b[0;34m.\u001b[0m\u001b[0mstart_filter\u001b[0m\u001b[0;34m(\u001b[0m\u001b[0;34m)\u001b[0m\u001b[0;34m\u001b[0m\u001b[0;34m\u001b[0m\u001b[0m\n\u001b[1;32m     40\u001b[0m \u001b[0;34m\u001b[0m\u001b[0m\n\u001b[0;32m---> 41\u001b[0;31m             \u001b[0;32mreturn\u001b[0m \u001b[0mdraw\u001b[0m\u001b[0;34m(\u001b[0m\u001b[0martist\u001b[0m\u001b[0;34m,\u001b[0m \u001b[0mrenderer\u001b[0m\u001b[0;34m,\u001b[0m \u001b[0;34m*\u001b[0m\u001b[0margs\u001b[0m\u001b[0;34m,\u001b[0m \u001b[0;34m**\u001b[0m\u001b[0mkwargs\u001b[0m\u001b[0;34m)\u001b[0m\u001b[0;34m\u001b[0m\u001b[0;34m\u001b[0m\u001b[0m\n\u001b[0m\u001b[1;32m     42\u001b[0m         \u001b[0;32mfinally\u001b[0m\u001b[0;34m:\u001b[0m\u001b[0;34m\u001b[0m\u001b[0;34m\u001b[0m\u001b[0m\n\u001b[1;32m     43\u001b[0m             \u001b[0;32mif\u001b[0m \u001b[0martist\u001b[0m\u001b[0;34m.\u001b[0m\u001b[0mget_agg_filter\u001b[0m\u001b[0;34m(\u001b[0m\u001b[0;34m)\u001b[0m \u001b[0;32mis\u001b[0m \u001b[0;32mnot\u001b[0m \u001b[0;32mNone\u001b[0m\u001b[0;34m:\u001b[0m\u001b[0;34m\u001b[0m\u001b[0;34m\u001b[0m\u001b[0m\n",
      "\u001b[0;32m~/.local/lib/python3.8/site-packages/matplotlib/image.py\u001b[0m in \u001b[0;36mdraw\u001b[0;34m(self, renderer, *args, **kwargs)\u001b[0m\n\u001b[1;32m    641\u001b[0m                 \u001b[0mrenderer\u001b[0m\u001b[0;34m.\u001b[0m\u001b[0mdraw_image\u001b[0m\u001b[0;34m(\u001b[0m\u001b[0mgc\u001b[0m\u001b[0;34m,\u001b[0m \u001b[0ml\u001b[0m\u001b[0;34m,\u001b[0m \u001b[0mb\u001b[0m\u001b[0;34m,\u001b[0m \u001b[0mim\u001b[0m\u001b[0;34m,\u001b[0m \u001b[0mtrans\u001b[0m\u001b[0;34m)\u001b[0m\u001b[0;34m\u001b[0m\u001b[0;34m\u001b[0m\u001b[0m\n\u001b[1;32m    642\u001b[0m         \u001b[0;32melse\u001b[0m\u001b[0;34m:\u001b[0m\u001b[0;34m\u001b[0m\u001b[0;34m\u001b[0m\u001b[0m\n\u001b[0;32m--> 643\u001b[0;31m             im, l, b, trans = self.make_image(\n\u001b[0m\u001b[1;32m    644\u001b[0m                 renderer, renderer.get_image_magnification())\n\u001b[1;32m    645\u001b[0m             \u001b[0;32mif\u001b[0m \u001b[0mim\u001b[0m \u001b[0;32mis\u001b[0m \u001b[0;32mnot\u001b[0m \u001b[0;32mNone\u001b[0m\u001b[0;34m:\u001b[0m\u001b[0;34m\u001b[0m\u001b[0;34m\u001b[0m\u001b[0m\n",
      "\u001b[0;32m~/.local/lib/python3.8/site-packages/matplotlib/image.py\u001b[0m in \u001b[0;36mmake_image\u001b[0;34m(self, renderer, magnification, unsampled)\u001b[0m\n\u001b[1;32m    926\u001b[0m         clip = ((self.get_clip_box() or self.axes.bbox) if self.get_clip_on()\n\u001b[1;32m    927\u001b[0m                 else self.figure.bbox)\n\u001b[0;32m--> 928\u001b[0;31m         return self._make_image(self._A, bbox, transformed_bbox, clip,\n\u001b[0m\u001b[1;32m    929\u001b[0m                                 magnification, unsampled=unsampled)\n\u001b[1;32m    930\u001b[0m \u001b[0;34m\u001b[0m\u001b[0m\n",
      "\u001b[0;32m~/.local/lib/python3.8/site-packages/matplotlib/image.py\u001b[0m in \u001b[0;36m_make_image\u001b[0;34m(self, A, in_bbox, out_bbox, clip_bbox, magnification, unsampled, round_to_pixel_border)\u001b[0m\n\u001b[1;32m    381\u001b[0m         \u001b[0;31m# round up the output width to the next integer.  This also means\u001b[0m\u001b[0;34m\u001b[0m\u001b[0;34m\u001b[0m\u001b[0;34m\u001b[0m\u001b[0m\n\u001b[1;32m    382\u001b[0m         \u001b[0;31m# scaling the transform slightly to account for the extra subpixel.\u001b[0m\u001b[0;34m\u001b[0m\u001b[0;34m\u001b[0m\u001b[0;34m\u001b[0m\u001b[0m\n\u001b[0;32m--> 383\u001b[0;31m         if (t.is_affine and round_to_pixel_border and\n\u001b[0m\u001b[1;32m    384\u001b[0m                 (out_width_base % 1.0 != 0.0 or out_height_base % 1.0 != 0.0)):\n\u001b[1;32m    385\u001b[0m             \u001b[0mout_width\u001b[0m \u001b[0;34m=\u001b[0m \u001b[0mmath\u001b[0m\u001b[0;34m.\u001b[0m\u001b[0mceil\u001b[0m\u001b[0;34m(\u001b[0m\u001b[0mout_width_base\u001b[0m\u001b[0;34m)\u001b[0m\u001b[0;34m\u001b[0m\u001b[0;34m\u001b[0m\u001b[0m\n",
      "\u001b[0;32m~/.local/lib/python3.8/site-packages/matplotlib/transforms.py\u001b[0m in \u001b[0;36m<lambda>\u001b[0;34m(self)\u001b[0m\n\u001b[1;32m   2332\u001b[0m \u001b[0;34m\u001b[0m\u001b[0m\n\u001b[1;32m   2333\u001b[0m     \u001b[0mdepth\u001b[0m \u001b[0;34m=\u001b[0m \u001b[0mproperty\u001b[0m\u001b[0;34m(\u001b[0m\u001b[0;32mlambda\u001b[0m \u001b[0mself\u001b[0m\u001b[0;34m:\u001b[0m \u001b[0mself\u001b[0m\u001b[0;34m.\u001b[0m\u001b[0m_a\u001b[0m\u001b[0;34m.\u001b[0m\u001b[0mdepth\u001b[0m \u001b[0;34m+\u001b[0m \u001b[0mself\u001b[0m\u001b[0;34m.\u001b[0m\u001b[0m_b\u001b[0m\u001b[0;34m.\u001b[0m\u001b[0mdepth\u001b[0m\u001b[0;34m)\u001b[0m\u001b[0;34m\u001b[0m\u001b[0;34m\u001b[0m\u001b[0m\n\u001b[0;32m-> 2334\u001b[0;31m     \u001b[0mis_affine\u001b[0m \u001b[0;34m=\u001b[0m \u001b[0mproperty\u001b[0m\u001b[0;34m(\u001b[0m\u001b[0;32mlambda\u001b[0m \u001b[0mself\u001b[0m\u001b[0;34m:\u001b[0m \u001b[0mself\u001b[0m\u001b[0;34m.\u001b[0m\u001b[0m_a\u001b[0m\u001b[0;34m.\u001b[0m\u001b[0mis_affine\u001b[0m \u001b[0;32mand\u001b[0m \u001b[0mself\u001b[0m\u001b[0;34m.\u001b[0m\u001b[0m_b\u001b[0m\u001b[0;34m.\u001b[0m\u001b[0mis_affine\u001b[0m\u001b[0;34m)\u001b[0m\u001b[0;34m\u001b[0m\u001b[0;34m\u001b[0m\u001b[0m\n\u001b[0m\u001b[1;32m   2335\u001b[0m     is_separable = property(\n\u001b[1;32m   2336\u001b[0m         lambda self: self._a.is_separable and self._b.is_separable)\n",
      "\u001b[0;32m~/.local/lib/python3.8/site-packages/matplotlib/transforms.py\u001b[0m in \u001b[0;36m<lambda>\u001b[0;34m(self)\u001b[0m\n\u001b[1;32m   2332\u001b[0m \u001b[0;34m\u001b[0m\u001b[0m\n\u001b[1;32m   2333\u001b[0m     \u001b[0mdepth\u001b[0m \u001b[0;34m=\u001b[0m \u001b[0mproperty\u001b[0m\u001b[0;34m(\u001b[0m\u001b[0;32mlambda\u001b[0m \u001b[0mself\u001b[0m\u001b[0;34m:\u001b[0m \u001b[0mself\u001b[0m\u001b[0;34m.\u001b[0m\u001b[0m_a\u001b[0m\u001b[0;34m.\u001b[0m\u001b[0mdepth\u001b[0m \u001b[0;34m+\u001b[0m \u001b[0mself\u001b[0m\u001b[0;34m.\u001b[0m\u001b[0m_b\u001b[0m\u001b[0;34m.\u001b[0m\u001b[0mdepth\u001b[0m\u001b[0;34m)\u001b[0m\u001b[0;34m\u001b[0m\u001b[0;34m\u001b[0m\u001b[0m\n\u001b[0;32m-> 2334\u001b[0;31m     \u001b[0mis_affine\u001b[0m \u001b[0;34m=\u001b[0m \u001b[0mproperty\u001b[0m\u001b[0;34m(\u001b[0m\u001b[0;32mlambda\u001b[0m \u001b[0mself\u001b[0m\u001b[0;34m:\u001b[0m \u001b[0mself\u001b[0m\u001b[0;34m.\u001b[0m\u001b[0m_a\u001b[0m\u001b[0;34m.\u001b[0m\u001b[0mis_affine\u001b[0m \u001b[0;32mand\u001b[0m \u001b[0mself\u001b[0m\u001b[0;34m.\u001b[0m\u001b[0m_b\u001b[0m\u001b[0;34m.\u001b[0m\u001b[0mis_affine\u001b[0m\u001b[0;34m)\u001b[0m\u001b[0;34m\u001b[0m\u001b[0;34m\u001b[0m\u001b[0m\n\u001b[0m\u001b[1;32m   2335\u001b[0m     is_separable = property(\n\u001b[1;32m   2336\u001b[0m         lambda self: self._a.is_separable and self._b.is_separable)\n",
      "\u001b[0;32m~/.local/lib/python3.8/site-packages/matplotlib/transforms.py\u001b[0m in \u001b[0;36m<lambda>\u001b[0;34m(self)\u001b[0m\n\u001b[1;32m   2332\u001b[0m \u001b[0;34m\u001b[0m\u001b[0m\n\u001b[1;32m   2333\u001b[0m     \u001b[0mdepth\u001b[0m \u001b[0;34m=\u001b[0m \u001b[0mproperty\u001b[0m\u001b[0;34m(\u001b[0m\u001b[0;32mlambda\u001b[0m \u001b[0mself\u001b[0m\u001b[0;34m:\u001b[0m \u001b[0mself\u001b[0m\u001b[0;34m.\u001b[0m\u001b[0m_a\u001b[0m\u001b[0;34m.\u001b[0m\u001b[0mdepth\u001b[0m \u001b[0;34m+\u001b[0m \u001b[0mself\u001b[0m\u001b[0;34m.\u001b[0m\u001b[0m_b\u001b[0m\u001b[0;34m.\u001b[0m\u001b[0mdepth\u001b[0m\u001b[0;34m)\u001b[0m\u001b[0;34m\u001b[0m\u001b[0;34m\u001b[0m\u001b[0m\n\u001b[0;32m-> 2334\u001b[0;31m     \u001b[0mis_affine\u001b[0m \u001b[0;34m=\u001b[0m \u001b[0mproperty\u001b[0m\u001b[0;34m(\u001b[0m\u001b[0;32mlambda\u001b[0m \u001b[0mself\u001b[0m\u001b[0;34m:\u001b[0m \u001b[0mself\u001b[0m\u001b[0;34m.\u001b[0m\u001b[0m_a\u001b[0m\u001b[0;34m.\u001b[0m\u001b[0mis_affine\u001b[0m \u001b[0;32mand\u001b[0m \u001b[0mself\u001b[0m\u001b[0;34m.\u001b[0m\u001b[0m_b\u001b[0m\u001b[0;34m.\u001b[0m\u001b[0mis_affine\u001b[0m\u001b[0;34m)\u001b[0m\u001b[0;34m\u001b[0m\u001b[0;34m\u001b[0m\u001b[0m\n\u001b[0m\u001b[1;32m   2335\u001b[0m     is_separable = property(\n\u001b[1;32m   2336\u001b[0m         lambda self: self._a.is_separable and self._b.is_separable)\n",
      "\u001b[0;31mKeyboardInterrupt\u001b[0m: "
     ]
    },
    {
     "data": {
      "image/png": "[encoded data removed]",
      "text/plain": [
       "<Figure size 432x288 with 1 Axes>"
      ]
     },
     "metadata": {
      "needs_background": "light"
     },
     "output_type": "display_data"
    }
   ],
   "source": [
    "# model pxy directly\n",
    "M, Mbar, history = run_expr_all_samples(n_batch=5)"
   ]
  },
  {
   "cell_type": "code",
   "execution_count": 12,
   "id": "beautiful-formation",
   "metadata": {},
   "outputs": [
    {
     "data": {
      "text/plain": [
       "17210368"
      ]
     },
     "execution_count": 12,
     "metadata": {},
     "output_type": "execute_result"
    }
   ],
   "source": [
    "28**5"
   ]
  }
 ],
 "metadata": {
  "kernelspec": {
   "display_name": "Python 3",
   "language": "python",
   "name": "python3"
  },
  "language_info": {
   "codemirror_mode": {
    "name": "ipython",
    "version": 3
   },
   "file_extension": ".py",
   "mimetype": "text/x-python",
   "name": "python",
   "nbconvert_exporter": "python",
   "pygments_lexer": "ipython3",
   "version": "3.8.3"
  }
 },
 "nbformat": 4,
 "nbformat_minor": 5
}

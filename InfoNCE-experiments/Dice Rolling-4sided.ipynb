{
 "cells": [
  {
   "cell_type": "code",
   "execution_count": 1,
   "id": "formal-dialogue",
   "metadata": {},
   "outputs": [],
   "source": [
    "import torch\n",
    "import torch.nn.functional as F\n",
    "import numpy as np\n",
    "from tqdm import tqdm\n",
    "import matplotlib.pyplot as plt\n",
    "import random\n",
    "import itertools"
   ]
  },
  {
   "cell_type": "code",
   "execution_count": 2,
   "id": "resistant-gibson",
   "metadata": {},
   "outputs": [],
   "source": [
    "n_rolls = 5000\n",
    "n_sides = 4\n",
    "diceroll1 = np.random.choice(np.arange(n_sides)+1, size=n_rolls)\n",
    "diceroll2 = np.random.choice(np.arange(n_sides)+1, size=n_rolls)\n",
    "\n",
    "sum_rolls = diceroll1 + diceroll2\n",
    "max_rolls = np.max(np.vstack([diceroll1,diceroll2]), axis=0)\n",
    "\n",
    "# p(X,Y)\n",
    "xy = np.zeros((n_sides*2-1, n_sides))\n",
    "for s, m in zip(sum_rolls, max_rolls):\n",
    "    xy[s-2, m-1] += 1\n",
    "xy /= n_rolls\n",
    "\n",
    "# xy[-2:,0:2] = 0.4\n",
    "# xy = xy/np.sum(xy)\n",
    "\n",
    "# p(X), p(Y)\n",
    "x = np.sum(xy, axis=1)\n",
    "y = np.sum(xy, axis=0)"
   ]
  },
  {
   "cell_type": "code",
   "execution_count": 3,
   "id": "applicable-reducing",
   "metadata": {
    "scrolled": true
   },
   "outputs": [
    {
     "data": {
      "text/plain": [
       "array([[0.0668, 0.    , 0.    , 0.    ],\n",
       "       [0.    , 0.1272, 0.    , 0.    ],\n",
       "       [0.    , 0.056 , 0.1284, 0.    ],\n",
       "       [0.    , 0.    , 0.1298, 0.1254],\n",
       "       [0.    , 0.    , 0.0592, 0.127 ],\n",
       "       [0.    , 0.    , 0.    , 0.1154],\n",
       "       [0.    , 0.    , 0.    , 0.0648]])"
      ]
     },
     "execution_count": 3,
     "metadata": {},
     "output_type": "execute_result"
    }
   ],
   "source": [
    "xy"
   ]
  },
  {
   "cell_type": "code",
   "execution_count": 4,
   "id": "understood-liechtenstein",
   "metadata": {},
   "outputs": [
    {
     "data": {
      "text/plain": [
       "array([0.0668, 0.1272, 0.1844, 0.2552, 0.1862, 0.1154, 0.0648])"
      ]
     },
     "execution_count": 4,
     "metadata": {},
     "output_type": "execute_result"
    }
   ],
   "source": [
    "x"
   ]
  },
  {
   "cell_type": "code",
   "execution_count": 5,
   "id": "boring-flash",
   "metadata": {},
   "outputs": [
    {
     "data": {
      "text/plain": [
       "array([0.0668, 0.1832, 0.3174, 0.4326])"
      ]
     },
     "execution_count": 5,
     "metadata": {},
     "output_type": "execute_result"
    }
   ],
   "source": [
    "y"
   ]
  },
  {
   "cell_type": "code",
   "execution_count": 6,
   "id": "graphic-bouquet",
   "metadata": {
    "scrolled": true
   },
   "outputs": [
    {
     "data": {
      "text/plain": [
       "<matplotlib.image.AxesImage at 0x7ff1724d5fd0>"
      ]
     },
     "execution_count": 6,
     "metadata": {},
     "output_type": "execute_result"
    },
    {
     "data": {
      "image/png": "[encoded data removed]",
      "text/plain": [
       "<Figure size 432x288 with 1 Axes>"
      ]
     },
     "metadata": {
      "needs_background": "light"
     },
     "output_type": "display_data"
    }
   ],
   "source": [
    "plt.imshow(xy)"
   ]
  },
  {
   "cell_type": "code",
   "execution_count": 7,
   "id": "found-island",
   "metadata": {},
   "outputs": [
    {
     "data": {
      "text/plain": [
       "<matplotlib.image.AxesImage at 0x7ff172437fa0>"
      ]
     },
     "execution_count": 7,
     "metadata": {},
     "output_type": "execute_result"
    },
    {
     "data": {
      "image/png": "[encoded data removed]",
      "text/plain": [
       "<Figure size 432x288 with 1 Axes>"
      ]
     },
     "metadata": {
      "needs_background": "light"
     },
     "output_type": "display_data"
    }
   ],
   "source": [
    "xyind = x[None].T @ y[None]\n",
    "plt.imshow(xyind)\n",
    "# print(torch.var(M))"
   ]
  },
  {
   "cell_type": "code",
   "execution_count": 8,
   "id": "killing-justice",
   "metadata": {},
   "outputs": [
    {
     "data": {
      "text/plain": [
       "<matplotlib.image.AxesImage at 0x7ff17239faf0>"
      ]
     },
     "execution_count": 8,
     "metadata": {},
     "output_type": "execute_result"
    },
    {
     "data": {
      "image/png": "[encoded data removed]",
      "text/plain": [
       "<Figure size 432x288 with 1 Axes>"
      ]
     },
     "metadata": {
      "needs_background": "light"
     },
     "output_type": "display_data"
    }
   ],
   "source": [
    "plt.imshow(xy/xyind)\n",
    "# print(torch.var(M))"
   ]
  },
  {
   "cell_type": "markdown",
   "id": "significant-bulletin",
   "metadata": {},
   "source": [
    "## Experiments (normalized across minibatch)"
   ]
  },
  {
   "cell_type": "code",
   "execution_count": 9,
   "id": "minor-prison",
   "metadata": {},
   "outputs": [],
   "source": [
    "def run_expr(n_batch, iters):\n",
    "    '''\n",
    "    model pxy directly\n",
    "    '''\n",
    "    torch.manual_seed(42)\n",
    "    \n",
    "    M = torch.randn((x.shape[0],y.shape[0]), requires_grad = True)\n",
    "    print(M[0, :5])\n",
    "    \n",
    "    optimizer = torch.optim.SGD([M],1, 0.99)\n",
    "    Mbar = M.data\n",
    "    \n",
    "    history = {'loss':[]}\n",
    "    \n",
    "    for iteration in tqdm(range(1,iters)):\n",
    "\n",
    "        samples = [np.random.choice(range(xy.reshape(-1).shape[0]), p=xy.reshape(-1)) for i in range(n_batch)]\n",
    "        samples = np.array([(yi//(y.shape[0]), yi%(y.shape[0])) for yi in samples])\n",
    "\n",
    "        optimizer.zero_grad()\n",
    "\n",
    "        F = torch.exp(M)\n",
    "\n",
    "        loss = 0\n",
    "        for i in range(n_batch):\n",
    "            lossi = F[samples[i,0],samples[i,1]]/torch.sum(F[:,:])\n",
    "            loss = loss + torch.log(lossi)\n",
    "        loss = -1*loss/n_batch\n",
    "        loss.backward()\n",
    "        optimizer.step()\n",
    "        history['loss'].append(loss.item())\n",
    "        Mbar = (1-1/iteration)*Mbar + (1/iteration)*M.data\n",
    "\n",
    "        if iteration % 100 == 0:\n",
    "            print(torch.var(M))\n",
    "            plt.imshow(Mbar.detach().cpu().numpy())\n",
    "            plt.savefig(f\"dicerolls4_training_results/Mbar_joint_{n_batch}_{iteration}.png\")\n",
    "\n",
    "    np.save(f'dicerolls4_training_results/Mbar_joint_{n_batch}_{iteration}.npy', Mbar.detach().cpu().numpy())\n",
    "    np.save(f'dicerolls4_training_results/M_joint_{n_batch}_{iteration}.npy', M.detach().cpu().numpy())\n",
    "    np.save(f'dicerolls4_training_results/training_loss_joint_{n_batch}_{iteration}.npy', np.array(history['loss']))\n",
    "    return M, Mbar, history"
   ]
  },
  {
   "cell_type": "code",
   "execution_count": 10,
   "id": "frequent-naples",
   "metadata": {
    "scrolled": true
   },
   "outputs": [
    {
     "name": "stderr",
     "output_type": "stream",
     "text": [
      "  0%|          | 3/4999 [00:00<03:32, 23.52it/s]"
     ]
    },
    {
     "name": "stdout",
     "output_type": "stream",
     "text": [
      "tensor([ 1.9269,  1.4873,  0.9007, -2.1055], grad_fn=<SliceBackward>)\n"
     ]
    },
    {
     "name": "stderr",
     "output_type": "stream",
     "text": [
      "  2%|▏         | 104/4999 [00:03<02:49, 28.95it/s]"
     ]
    },
    {
     "name": "stdout",
     "output_type": "stream",
     "text": [
      "tensor(230.7208, grad_fn=<VarBackward0>)\n"
     ]
    },
    {
     "name": "stderr",
     "output_type": "stream",
     "text": [
      "  4%|▍         | 203/4999 [00:06<02:44, 29.22it/s]"
     ]
    },
    {
     "name": "stdout",
     "output_type": "stream",
     "text": [
      "tensor(443.0408, grad_fn=<VarBackward0>)\n"
     ]
    },
    {
     "name": "stderr",
     "output_type": "stream",
     "text": [
      "  6%|▌         | 303/4999 [00:09<02:43, 28.81it/s]"
     ]
    },
    {
     "name": "stdout",
     "output_type": "stream",
     "text": [
      "tensor(538.0107, grad_fn=<VarBackward0>)\n"
     ]
    },
    {
     "name": "stderr",
     "output_type": "stream",
     "text": [
      "  8%|▊         | 404/4999 [00:13<02:40, 28.59it/s]"
     ]
    },
    {
     "name": "stdout",
     "output_type": "stream",
     "text": [
      "tensor(574.8824, grad_fn=<VarBackward0>)\n"
     ]
    },
    {
     "name": "stderr",
     "output_type": "stream",
     "text": [
      " 10%|█         | 502/4999 [00:16<02:39, 28.27it/s]"
     ]
    },
    {
     "name": "stdout",
     "output_type": "stream",
     "text": [
      "tensor(588.7477, grad_fn=<VarBackward0>)\n"
     ]
    },
    {
     "name": "stderr",
     "output_type": "stream",
     "text": [
      " 12%|█▏        | 604/4999 [00:20<02:33, 28.66it/s]"
     ]
    },
    {
     "name": "stdout",
     "output_type": "stream",
     "text": [
      "tensor(593.8599, grad_fn=<VarBackward0>)\n"
     ]
    },
    {
     "name": "stderr",
     "output_type": "stream",
     "text": [
      " 14%|█▍        | 703/4999 [00:23<02:37, 27.35it/s]"
     ]
    },
    {
     "name": "stdout",
     "output_type": "stream",
     "text": [
      "tensor(595.7883, grad_fn=<VarBackward0>)\n"
     ]
    },
    {
     "name": "stderr",
     "output_type": "stream",
     "text": [
      " 16%|█▌        | 802/4999 [00:26<02:28, 28.23it/s]"
     ]
    },
    {
     "name": "stdout",
     "output_type": "stream",
     "text": [
      "tensor(596.4350, grad_fn=<VarBackward0>)\n"
     ]
    },
    {
     "name": "stderr",
     "output_type": "stream",
     "text": [
      " 18%|█▊        | 902/4999 [00:29<02:26, 28.04it/s]"
     ]
    },
    {
     "name": "stdout",
     "output_type": "stream",
     "text": [
      "tensor(596.6636, grad_fn=<VarBackward0>)\n"
     ]
    },
    {
     "name": "stderr",
     "output_type": "stream",
     "text": [
      " 20%|██        | 1002/4999 [00:33<02:21, 28.20it/s]"
     ]
    },
    {
     "name": "stdout",
     "output_type": "stream",
     "text": [
      "tensor(596.7812, grad_fn=<VarBackward0>)\n"
     ]
    },
    {
     "name": "stderr",
     "output_type": "stream",
     "text": [
      " 22%|██▏       | 1102/4999 [00:36<02:18, 28.05it/s]"
     ]
    },
    {
     "name": "stdout",
     "output_type": "stream",
     "text": [
      "tensor(596.8011, grad_fn=<VarBackward0>)\n"
     ]
    },
    {
     "name": "stderr",
     "output_type": "stream",
     "text": [
      " 24%|██▍       | 1202/4999 [00:39<02:16, 27.82it/s]"
     ]
    },
    {
     "name": "stdout",
     "output_type": "stream",
     "text": [
      "tensor(596.8309, grad_fn=<VarBackward0>)\n"
     ]
    },
    {
     "name": "stderr",
     "output_type": "stream",
     "text": [
      " 26%|██▌       | 1302/4999 [00:42<02:13, 27.74it/s]"
     ]
    },
    {
     "name": "stdout",
     "output_type": "stream",
     "text": [
      "tensor(596.8489, grad_fn=<VarBackward0>)\n"
     ]
    },
    {
     "name": "stderr",
     "output_type": "stream",
     "text": [
      " 28%|██▊       | 1402/4999 [00:46<02:09, 27.75it/s]"
     ]
    },
    {
     "name": "stdout",
     "output_type": "stream",
     "text": [
      "tensor(596.8041, grad_fn=<VarBackward0>)\n"
     ]
    },
    {
     "name": "stderr",
     "output_type": "stream",
     "text": [
      " 30%|███       | 1502/4999 [00:49<02:06, 27.60it/s]"
     ]
    },
    {
     "name": "stdout",
     "output_type": "stream",
     "text": [
      "tensor(596.8384, grad_fn=<VarBackward0>)\n"
     ]
    },
    {
     "name": "stderr",
     "output_type": "stream",
     "text": [
      " 32%|███▏      | 1602/4999 [00:52<02:03, 27.42it/s]"
     ]
    },
    {
     "name": "stdout",
     "output_type": "stream",
     "text": [
      "tensor(596.8347, grad_fn=<VarBackward0>)\n"
     ]
    },
    {
     "name": "stderr",
     "output_type": "stream",
     "text": [
      " 34%|███▍      | 1702/4999 [00:55<02:03, 26.79it/s]"
     ]
    },
    {
     "name": "stdout",
     "output_type": "stream",
     "text": [
      "tensor(596.8714, grad_fn=<VarBackward0>)\n"
     ]
    },
    {
     "name": "stderr",
     "output_type": "stream",
     "text": [
      " 36%|███▌      | 1802/4999 [00:59<01:59, 26.81it/s]"
     ]
    },
    {
     "name": "stdout",
     "output_type": "stream",
     "text": [
      "tensor(596.8318, grad_fn=<VarBackward0>)\n"
     ]
    },
    {
     "name": "stderr",
     "output_type": "stream",
     "text": [
      " 38%|███▊      | 1901/4999 [01:02<01:56, 26.63it/s]"
     ]
    },
    {
     "name": "stdout",
     "output_type": "stream",
     "text": [
      "tensor(596.8340, grad_fn=<VarBackward0>)\n"
     ]
    },
    {
     "name": "stderr",
     "output_type": "stream",
     "text": [
      " 40%|████      | 2003/4999 [01:05<01:50, 27.21it/s]"
     ]
    },
    {
     "name": "stdout",
     "output_type": "stream",
     "text": [
      "tensor(597.0193, grad_fn=<VarBackward0>)\n"
     ]
    },
    {
     "name": "stderr",
     "output_type": "stream",
     "text": [
      " 42%|████▏     | 2103/4999 [01:08<01:50, 26.32it/s]"
     ]
    },
    {
     "name": "stdout",
     "output_type": "stream",
     "text": [
      "tensor(596.8111, grad_fn=<VarBackward0>)\n"
     ]
    },
    {
     "name": "stderr",
     "output_type": "stream",
     "text": [
      " 44%|████▍     | 2203/4999 [01:12<01:46, 26.24it/s]"
     ]
    },
    {
     "name": "stdout",
     "output_type": "stream",
     "text": [
      "tensor(596.8417, grad_fn=<VarBackward0>)\n"
     ]
    },
    {
     "name": "stderr",
     "output_type": "stream",
     "text": [
      " 46%|████▌     | 2303/4999 [01:15<01:42, 26.19it/s]"
     ]
    },
    {
     "name": "stdout",
     "output_type": "stream",
     "text": [
      "tensor(596.9017, grad_fn=<VarBackward0>)\n"
     ]
    },
    {
     "name": "stderr",
     "output_type": "stream",
     "text": [
      " 48%|████▊     | 2403/4999 [01:18<01:39, 26.05it/s]"
     ]
    },
    {
     "name": "stdout",
     "output_type": "stream",
     "text": [
      "tensor(596.8097, grad_fn=<VarBackward0>)\n"
     ]
    },
    {
     "name": "stderr",
     "output_type": "stream",
     "text": [
      " 50%|█████     | 2503/4999 [01:22<01:36, 25.81it/s]"
     ]
    },
    {
     "name": "stdout",
     "output_type": "stream",
     "text": [
      "tensor(596.8240, grad_fn=<VarBackward0>)\n"
     ]
    },
    {
     "name": "stderr",
     "output_type": "stream",
     "text": [
      " 52%|█████▏    | 2603/4999 [01:25<01:32, 25.91it/s]"
     ]
    },
    {
     "name": "stdout",
     "output_type": "stream",
     "text": [
      "tensor(596.8127, grad_fn=<VarBackward0>)\n"
     ]
    },
    {
     "name": "stderr",
     "output_type": "stream",
     "text": [
      " 54%|█████▍    | 2703/4999 [01:28<01:29, 25.55it/s]"
     ]
    },
    {
     "name": "stdout",
     "output_type": "stream",
     "text": [
      "tensor(596.9009, grad_fn=<VarBackward0>)\n"
     ]
    },
    {
     "name": "stderr",
     "output_type": "stream",
     "text": [
      " 56%|█████▌    | 2801/4999 [01:32<01:24, 25.87it/s]"
     ]
    },
    {
     "name": "stdout",
     "output_type": "stream",
     "text": [
      "tensor(596.8681, grad_fn=<VarBackward0>)\n"
     ]
    },
    {
     "name": "stderr",
     "output_type": "stream",
     "text": [
      " 58%|█████▊    | 2901/4999 [01:35<01:21, 25.69it/s]"
     ]
    },
    {
     "name": "stdout",
     "output_type": "stream",
     "text": [
      "tensor(596.8419, grad_fn=<VarBackward0>)\n"
     ]
    },
    {
     "name": "stderr",
     "output_type": "stream",
     "text": [
      " 60%|██████    | 3001/4999 [01:38<01:18, 25.59it/s]"
     ]
    },
    {
     "name": "stdout",
     "output_type": "stream",
     "text": [
      "tensor(596.8758, grad_fn=<VarBackward0>)\n"
     ]
    },
    {
     "name": "stderr",
     "output_type": "stream",
     "text": [
      " 62%|██████▏   | 3101/4999 [01:41<01:14, 25.44it/s]"
     ]
    },
    {
     "name": "stdout",
     "output_type": "stream",
     "text": [
      "tensor(596.8228, grad_fn=<VarBackward0>)\n"
     ]
    },
    {
     "name": "stderr",
     "output_type": "stream",
     "text": [
      " 64%|██████▍   | 3201/4999 [01:45<01:10, 25.43it/s]"
     ]
    },
    {
     "name": "stdout",
     "output_type": "stream",
     "text": [
      "tensor(596.8873, grad_fn=<VarBackward0>)\n"
     ]
    },
    {
     "name": "stderr",
     "output_type": "stream",
     "text": [
      " 66%|██████▌   | 3301/4999 [01:48<01:07, 25.22it/s]"
     ]
    },
    {
     "name": "stdout",
     "output_type": "stream",
     "text": [
      "tensor(596.8431, grad_fn=<VarBackward0>)\n"
     ]
    },
    {
     "name": "stderr",
     "output_type": "stream",
     "text": [
      " 68%|██████▊   | 3401/4999 [01:51<01:03, 25.09it/s]"
     ]
    },
    {
     "name": "stdout",
     "output_type": "stream",
     "text": [
      "tensor(596.8714, grad_fn=<VarBackward0>)\n"
     ]
    },
    {
     "name": "stderr",
     "output_type": "stream",
     "text": [
      " 70%|███████   | 3501/4999 [01:55<00:59, 25.01it/s]"
     ]
    },
    {
     "name": "stdout",
     "output_type": "stream",
     "text": [
      "tensor(596.8692, grad_fn=<VarBackward0>)\n"
     ]
    },
    {
     "name": "stderr",
     "output_type": "stream",
     "text": [
      " 72%|███████▏  | 3601/4999 [01:58<00:56, 24.82it/s]"
     ]
    },
    {
     "name": "stdout",
     "output_type": "stream",
     "text": [
      "tensor(596.8398, grad_fn=<VarBackward0>)\n"
     ]
    },
    {
     "name": "stderr",
     "output_type": "stream",
     "text": [
      " 74%|███████▍  | 3701/4999 [02:01<00:52, 24.49it/s]"
     ]
    },
    {
     "name": "stdout",
     "output_type": "stream",
     "text": [
      "tensor(596.8170, grad_fn=<VarBackward0>)\n"
     ]
    },
    {
     "name": "stderr",
     "output_type": "stream",
     "text": [
      " 76%|███████▌  | 3801/4999 [02:04<00:48, 24.65it/s]"
     ]
    },
    {
     "name": "stdout",
     "output_type": "stream",
     "text": [
      "tensor(596.8459, grad_fn=<VarBackward0>)\n"
     ]
    },
    {
     "name": "stderr",
     "output_type": "stream",
     "text": [
      " 78%|███████▊  | 3901/4999 [02:08<00:44, 24.65it/s]"
     ]
    },
    {
     "name": "stdout",
     "output_type": "stream",
     "text": [
      "tensor(596.8228, grad_fn=<VarBackward0>)\n"
     ]
    },
    {
     "name": "stderr",
     "output_type": "stream",
     "text": [
      " 80%|████████  | 4001/4999 [02:11<00:40, 24.53it/s]"
     ]
    },
    {
     "name": "stdout",
     "output_type": "stream",
     "text": [
      "tensor(596.8250, grad_fn=<VarBackward0>)\n"
     ]
    },
    {
     "name": "stderr",
     "output_type": "stream",
     "text": [
      " 82%|████████▏ | 4101/4999 [02:14<00:36, 24.37it/s]"
     ]
    },
    {
     "name": "stdout",
     "output_type": "stream",
     "text": [
      "tensor(596.8514, grad_fn=<VarBackward0>)\n"
     ]
    },
    {
     "name": "stderr",
     "output_type": "stream",
     "text": [
      " 84%|████████▍ | 4201/4999 [02:18<00:33, 23.54it/s]"
     ]
    },
    {
     "name": "stdout",
     "output_type": "stream",
     "text": [
      "tensor(596.8857, grad_fn=<VarBackward0>)\n"
     ]
    },
    {
     "name": "stderr",
     "output_type": "stream",
     "text": [
      " 86%|████████▌ | 4300/4999 [02:21<00:29, 23.94it/s]"
     ]
    },
    {
     "name": "stdout",
     "output_type": "stream",
     "text": [
      "tensor(596.8057, grad_fn=<VarBackward0>)\n"
     ]
    },
    {
     "name": "stderr",
     "output_type": "stream",
     "text": [
      " 88%|████████▊ | 4400/4999 [02:24<00:25, 23.90it/s]"
     ]
    },
    {
     "name": "stdout",
     "output_type": "stream",
     "text": [
      "tensor(596.8325, grad_fn=<VarBackward0>)\n"
     ]
    },
    {
     "name": "stderr",
     "output_type": "stream",
     "text": [
      " 90%|█████████ | 4500/4999 [02:28<00:20, 23.85it/s]"
     ]
    },
    {
     "name": "stdout",
     "output_type": "stream",
     "text": [
      "tensor(596.8933, grad_fn=<VarBackward0>)\n"
     ]
    },
    {
     "name": "stderr",
     "output_type": "stream",
     "text": [
      " 92%|█████████▏| 4599/4999 [02:31<00:12, 31.20it/s]"
     ]
    },
    {
     "name": "stdout",
     "output_type": "stream",
     "text": [
      "tensor(596.7938, grad_fn=<VarBackward0>)\n"
     ]
    },
    {
     "name": "stderr",
     "output_type": "stream",
     "text": [
      " 94%|█████████▍| 4699/4999 [02:34<00:09, 31.17it/s]"
     ]
    },
    {
     "name": "stdout",
     "output_type": "stream",
     "text": [
      "tensor(596.8679, grad_fn=<VarBackward0>)\n"
     ]
    },
    {
     "name": "stderr",
     "output_type": "stream",
     "text": [
      " 96%|█████████▌| 4799/4999 [02:37<00:06, 31.32it/s]"
     ]
    },
    {
     "name": "stdout",
     "output_type": "stream",
     "text": [
      "tensor(596.8465, grad_fn=<VarBackward0>)\n"
     ]
    },
    {
     "name": "stderr",
     "output_type": "stream",
     "text": [
      " 98%|█████████▊| 4899/4999 [02:41<00:03, 31.35it/s]"
     ]
    },
    {
     "name": "stdout",
     "output_type": "stream",
     "text": [
      "tensor(596.8674, grad_fn=<VarBackward0>)\n"
     ]
    },
    {
     "name": "stderr",
     "output_type": "stream",
     "text": [
      "100%|██████████| 4999/4999 [02:44<00:00, 30.37it/s]\n"
     ]
    },
    {
     "data": {
      "image/png": "[encoded data removed]",
      "text/plain": [
       "<Figure size 432x288 with 1 Axes>"
      ]
     },
     "metadata": {
      "needs_background": "light"
     },
     "output_type": "display_data"
    }
   ],
   "source": [
    "# model pxy directly\n",
    "M, Mbar, history = run_expr(n_batch=500, iters=5000)"
   ]
  },
  {
   "cell_type": "code",
   "execution_count": 11,
   "id": "sitting-emperor",
   "metadata": {},
   "outputs": [
    {
     "data": {
      "text/plain": [
       "[<matplotlib.lines.Line2D at 0x7ff1703326d0>]"
      ]
     },
     "execution_count": 11,
     "metadata": {},
     "output_type": "execute_result"
    },
    {
     "data": {
      "image/png": "[encoded data removed]",
      "text/plain": [
       "<Figure size 432x288 with 1 Axes>"
      ]
     },
     "metadata": {
      "needs_background": "light"
     },
     "output_type": "display_data"
    }
   ],
   "source": [
    "plt.plot(history['loss'])"
   ]
  },
  {
   "cell_type": "code",
   "execution_count": 12,
   "id": "armed-pizza",
   "metadata": {},
   "outputs": [],
   "source": [
    "Mbar_joint = torch.from_numpy(np.load(f'dicerolls4_training_results/Mbar_joint_{500}_{4999}.npy'))\n",
    "M_joint = torch.from_numpy(np.load(f'dicerolls4_training_results/M_joint_{500}_{4999}.npy'))"
   ]
  },
  {
   "cell_type": "code",
   "execution_count": 13,
   "id": "alert-manufacturer",
   "metadata": {},
   "outputs": [
    {
     "data": {
      "text/plain": [
       "<matplotlib.image.AxesImage at 0x7ff170287fa0>"
      ]
     },
     "execution_count": 13,
     "metadata": {},
     "output_type": "execute_result"
    },
    {
     "data": {
      "image/png": "[encoded data removed]",
      "text/plain": [
       "<Figure size 432x288 with 1 Axes>"
      ]
     },
     "metadata": {
      "needs_background": "light"
     },
     "output_type": "display_data"
    }
   ],
   "source": [
    "plt.imshow(torch.exp(Mbar_joint))"
   ]
  },
  {
   "cell_type": "code",
   "execution_count": 14,
   "id": "altered-patrol",
   "metadata": {},
   "outputs": [
    {
     "data": {
      "text/plain": [
       "<matplotlib.image.AxesImage at 0x7ff171b326d0>"
      ]
     },
     "execution_count": 14,
     "metadata": {},
     "output_type": "execute_result"
    },
    {
     "data": {
      "image/png": "[encoded data removed]",
      "text/plain": [
       "<Figure size 432x288 with 1 Axes>"
      ]
     },
     "metadata": {
      "needs_background": "light"
     },
     "output_type": "display_data"
    }
   ],
   "source": [
    "plt.imshow(torch.exp(M_joint))"
   ]
  },
  {
   "cell_type": "code",
   "execution_count": 15,
   "id": "italic-funeral",
   "metadata": {},
   "outputs": [
    {
     "name": "stderr",
     "output_type": "stream",
     "text": [
      "/home/user/miniconda/lib/python3.8/site-packages/torch/nn/functional.py:2398: UserWarning: reduction: 'mean' divides the total loss by both the batch size and the support size.'batchmean' divides only by the batch size, and aligns with the KL div math definition.'mean' will be changed to behave the same as 'batchmean' in the next major release.\n",
      "  warnings.warn(\"reduction: 'mean' divides the total loss by both the batch size and the support size.\"\n"
     ]
    },
    {
     "data": {
      "text/plain": [
       "tensor(3.9104e-06, dtype=torch.float64)"
      ]
     },
     "execution_count": 15,
     "metadata": {},
     "output_type": "execute_result"
    }
   ],
   "source": [
    "# Compare Mbar with xy\n",
    "F_joint = torch.exp(Mbar_joint)\n",
    "F_joint_normalized = F_joint/torch.sum(F_joint)\n",
    "log_F_joint_normalized = torch.log(F_joint_normalized)\n",
    "\n",
    "F.kl_div(log_F_joint_normalized, torch.from_numpy(xy))"
   ]
  },
  {
   "cell_type": "code",
   "execution_count": null,
   "id": "divine-liquid",
   "metadata": {},
   "outputs": [],
   "source": []
  },
  {
   "cell_type": "code",
   "execution_count": 16,
   "id": "antique-minimum",
   "metadata": {},
   "outputs": [],
   "source": [
    "def run_expr_pseudo(n_batch, iters):\n",
    "    '''\n",
    "    model x|y and y|x\n",
    "    '''\n",
    "    torch.manual_seed(42)\n",
    "    \n",
    "    M = torch.randn((x.shape[0],y.shape[0]), requires_grad = True)\n",
    "    print(M[0, :5])\n",
    "    \n",
    "    optimizer = torch.optim.SGD([M],1, 0.99)\n",
    "    Mbar = M.data\n",
    "    \n",
    "    history = {'loss':[]}\n",
    "    \n",
    "    for iteration in tqdm(range(1,iters)):\n",
    "\n",
    "        samples = [np.random.choice(range(xy.reshape(-1).shape[0]), p=xy.reshape(-1)) for i in range(n_batch)]\n",
    "        samples = np.array([(yi//(y.shape[0]), yi%(y.shape[0])) for yi in samples])\n",
    "\n",
    "        optimizer.zero_grad()\n",
    "\n",
    "        F = torch.exp(M)\n",
    "\n",
    "        loss = 0\n",
    "        for i in range(n_batch):\n",
    "            lossi_x = F[samples[i,0],samples[i,1]]/torch.sum(F[samples[i,0], range(xy.shape[1])])\n",
    "            lossi_y = F[samples[i,0],samples[i,1]]/torch.sum(F[range(xy.shape[0]), samples[i,1]])\n",
    "\n",
    "            loss = loss + ((torch.log(lossi_x) + torch.log(lossi_y)) * 0.5)\n",
    "            \n",
    "        loss = -1*loss/n_batch\n",
    "        loss.backward()\n",
    "        optimizer.step()\n",
    "        history['loss'].append(loss.item())\n",
    "        Mbar = (1-1/iteration)*Mbar + (1/iteration)*M.data\n",
    "\n",
    "        if iteration % 100 == 0:\n",
    "            print(torch.var(M))\n",
    "            plt.imshow(Mbar.detach().cpu().numpy())\n",
    "            plt.savefig(f\"dicerolls4_training_results/Mbar_pseudo_{n_batch}_{iteration}.png\")\n",
    "\n",
    "    np.save(f'dicerolls4_training_results/Mbar_pseudo_{n_batch}_{iteration}.npy', Mbar.detach().cpu().numpy())\n",
    "    np.save(f'dicerolls4_training_results/M_pseudo_{n_batch}_{iteration}.npy', M.detach().cpu().numpy())\n",
    "    np.save(f'dicerolls4_training_results/training_loss_pseudo_{n_batch}_{iteration}.npy', np.array(history['loss']))\n",
    "    return M, Mbar, history"
   ]
  },
  {
   "cell_type": "code",
   "execution_count": 17,
   "id": "vocal-overall",
   "metadata": {
    "scrolled": true
   },
   "outputs": [
    {
     "name": "stderr",
     "output_type": "stream",
     "text": [
      "  0%|          | 2/4999 [00:00<06:02, 13.77it/s]"
     ]
    },
    {
     "name": "stdout",
     "output_type": "stream",
     "text": [
      "tensor([ 1.9269,  1.4873,  0.9007, -2.1055], grad_fn=<SliceBackward>)\n"
     ]
    },
    {
     "name": "stderr",
     "output_type": "stream",
     "text": [
      "  2%|▏         | 102/4999 [00:07<06:04, 13.45it/s]"
     ]
    },
    {
     "name": "stdout",
     "output_type": "stream",
     "text": [
      "tensor(208.9211, grad_fn=<VarBackward0>)\n"
     ]
    },
    {
     "name": "stderr",
     "output_type": "stream",
     "text": [
      "  4%|▍         | 202/4999 [00:14<05:50, 13.70it/s]"
     ]
    },
    {
     "name": "stdout",
     "output_type": "stream",
     "text": [
      "tensor(401.6482, grad_fn=<VarBackward0>)\n"
     ]
    },
    {
     "name": "stderr",
     "output_type": "stream",
     "text": [
      "  6%|▌         | 302/4999 [00:21<05:48, 13.46it/s]"
     ]
    },
    {
     "name": "stdout",
     "output_type": "stream",
     "text": [
      "tensor(487.7787, grad_fn=<VarBackward0>)\n"
     ]
    },
    {
     "name": "stderr",
     "output_type": "stream",
     "text": [
      "  8%|▊         | 402/4999 [00:28<05:38, 13.56it/s]"
     ]
    },
    {
     "name": "stdout",
     "output_type": "stream",
     "text": [
      "tensor(521.4100, grad_fn=<VarBackward0>)\n"
     ]
    },
    {
     "name": "stderr",
     "output_type": "stream",
     "text": [
      " 10%|█         | 502/4999 [00:35<05:35, 13.42it/s]"
     ]
    },
    {
     "name": "stdout",
     "output_type": "stream",
     "text": [
      "tensor(534.0342, grad_fn=<VarBackward0>)\n"
     ]
    },
    {
     "name": "stderr",
     "output_type": "stream",
     "text": [
      " 12%|█▏        | 602/4999 [00:42<05:29, 13.33it/s]"
     ]
    },
    {
     "name": "stdout",
     "output_type": "stream",
     "text": [
      "tensor(538.6876, grad_fn=<VarBackward0>)\n"
     ]
    },
    {
     "name": "stderr",
     "output_type": "stream",
     "text": [
      " 14%|█▍        | 702/4999 [00:49<05:21, 13.36it/s]"
     ]
    },
    {
     "name": "stdout",
     "output_type": "stream",
     "text": [
      "tensor(540.3641, grad_fn=<VarBackward0>)\n"
     ]
    },
    {
     "name": "stderr",
     "output_type": "stream",
     "text": [
      " 16%|█▌        | 802/4999 [00:56<05:17, 13.20it/s]"
     ]
    },
    {
     "name": "stdout",
     "output_type": "stream",
     "text": [
      "tensor(541.0042, grad_fn=<VarBackward0>)\n"
     ]
    },
    {
     "name": "stderr",
     "output_type": "stream",
     "text": [
      " 18%|█▊        | 902/4999 [01:04<05:10, 13.20it/s]"
     ]
    },
    {
     "name": "stdout",
     "output_type": "stream",
     "text": [
      "tensor(541.2598, grad_fn=<VarBackward0>)\n"
     ]
    },
    {
     "name": "stderr",
     "output_type": "stream",
     "text": [
      " 20%|██        | 1002/4999 [01:11<05:03, 13.18it/s]"
     ]
    },
    {
     "name": "stdout",
     "output_type": "stream",
     "text": [
      "tensor(541.2899, grad_fn=<VarBackward0>)\n"
     ]
    },
    {
     "name": "stderr",
     "output_type": "stream",
     "text": [
      " 22%|██▏       | 1102/4999 [01:18<05:00, 12.95it/s]"
     ]
    },
    {
     "name": "stdout",
     "output_type": "stream",
     "text": [
      "tensor(541.3485, grad_fn=<VarBackward0>)\n"
     ]
    },
    {
     "name": "stderr",
     "output_type": "stream",
     "text": [
      " 24%|██▍       | 1200/4999 [01:25<05:08, 12.32it/s]"
     ]
    },
    {
     "name": "stdout",
     "output_type": "stream",
     "text": [
      "tensor(541.3847, grad_fn=<VarBackward0>)\n"
     ]
    },
    {
     "name": "stderr",
     "output_type": "stream",
     "text": [
      " 26%|██▌       | 1300/4999 [01:32<04:53, 12.58it/s]"
     ]
    },
    {
     "name": "stdout",
     "output_type": "stream",
     "text": [
      "tensor(541.3550, grad_fn=<VarBackward0>)\n"
     ]
    },
    {
     "name": "stderr",
     "output_type": "stream",
     "text": [
      " 28%|██▊       | 1402/4999 [01:40<04:38, 12.90it/s]"
     ]
    },
    {
     "name": "stdout",
     "output_type": "stream",
     "text": [
      "tensor(541.3890, grad_fn=<VarBackward0>)\n"
     ]
    },
    {
     "name": "stderr",
     "output_type": "stream",
     "text": [
      " 30%|███       | 1500/4999 [01:47<04:46, 12.22it/s]"
     ]
    },
    {
     "name": "stdout",
     "output_type": "stream",
     "text": [
      "tensor(541.3414, grad_fn=<VarBackward0>)\n"
     ]
    },
    {
     "name": "stderr",
     "output_type": "stream",
     "text": [
      " 32%|███▏      | 1600/4999 [01:54<04:32, 12.48it/s]"
     ]
    },
    {
     "name": "stdout",
     "output_type": "stream",
     "text": [
      "tensor(541.3850, grad_fn=<VarBackward0>)\n"
     ]
    },
    {
     "name": "stderr",
     "output_type": "stream",
     "text": [
      " 34%|███▍      | 1700/4999 [02:02<04:27, 12.34it/s]"
     ]
    },
    {
     "name": "stdout",
     "output_type": "stream",
     "text": [
      "tensor(541.3378, grad_fn=<VarBackward0>)\n"
     ]
    },
    {
     "name": "stderr",
     "output_type": "stream",
     "text": [
      " 36%|███▌      | 1800/4999 [02:09<04:18, 12.38it/s]"
     ]
    },
    {
     "name": "stdout",
     "output_type": "stream",
     "text": [
      "tensor(541.3873, grad_fn=<VarBackward0>)\n"
     ]
    },
    {
     "name": "stderr",
     "output_type": "stream",
     "text": [
      " 38%|███▊      | 1900/4999 [02:16<04:13, 12.23it/s]"
     ]
    },
    {
     "name": "stdout",
     "output_type": "stream",
     "text": [
      "tensor(541.3492, grad_fn=<VarBackward0>)\n"
     ]
    },
    {
     "name": "stderr",
     "output_type": "stream",
     "text": [
      " 40%|████      | 2000/4999 [02:23<04:15, 11.74it/s]"
     ]
    },
    {
     "name": "stdout",
     "output_type": "stream",
     "text": [
      "tensor(541.3538, grad_fn=<VarBackward0>)\n"
     ]
    },
    {
     "name": "stderr",
     "output_type": "stream",
     "text": [
      " 42%|████▏     | 2100/4999 [02:31<04:04, 11.88it/s]"
     ]
    },
    {
     "name": "stdout",
     "output_type": "stream",
     "text": [
      "tensor(541.3889, grad_fn=<VarBackward0>)\n"
     ]
    },
    {
     "name": "stderr",
     "output_type": "stream",
     "text": [
      " 44%|████▍     | 2200/4999 [02:38<03:52, 12.04it/s]"
     ]
    },
    {
     "name": "stdout",
     "output_type": "stream",
     "text": [
      "tensor(541.3412, grad_fn=<VarBackward0>)\n"
     ]
    },
    {
     "name": "stderr",
     "output_type": "stream",
     "text": [
      " 46%|████▌     | 2300/4999 [02:46<03:57, 11.38it/s]"
     ]
    },
    {
     "name": "stdout",
     "output_type": "stream",
     "text": [
      "tensor(541.3759, grad_fn=<VarBackward0>)\n"
     ]
    },
    {
     "name": "stderr",
     "output_type": "stream",
     "text": [
      " 48%|████▊     | 2400/4999 [02:53<03:43, 11.63it/s]"
     ]
    },
    {
     "name": "stdout",
     "output_type": "stream",
     "text": [
      "tensor(541.3358, grad_fn=<VarBackward0>)\n"
     ]
    },
    {
     "name": "stderr",
     "output_type": "stream",
     "text": [
      " 50%|█████     | 2500/4999 [03:00<03:39, 11.38it/s]"
     ]
    },
    {
     "name": "stdout",
     "output_type": "stream",
     "text": [
      "tensor(541.3468, grad_fn=<VarBackward0>)\n"
     ]
    },
    {
     "name": "stderr",
     "output_type": "stream",
     "text": [
      " 52%|█████▏    | 2600/4999 [03:08<03:22, 11.85it/s]"
     ]
    },
    {
     "name": "stdout",
     "output_type": "stream",
     "text": [
      "tensor(541.3873, grad_fn=<VarBackward0>)\n"
     ]
    },
    {
     "name": "stderr",
     "output_type": "stream",
     "text": [
      " 54%|█████▍    | 2700/4999 [03:15<03:14, 11.81it/s]"
     ]
    },
    {
     "name": "stdout",
     "output_type": "stream",
     "text": [
      "tensor(541.3236, grad_fn=<VarBackward0>)\n"
     ]
    },
    {
     "name": "stderr",
     "output_type": "stream",
     "text": [
      " 56%|█████▌    | 2800/4999 [03:22<03:12, 11.45it/s]"
     ]
    },
    {
     "name": "stdout",
     "output_type": "stream",
     "text": [
      "tensor(541.4207, grad_fn=<VarBackward0>)\n"
     ]
    },
    {
     "name": "stderr",
     "output_type": "stream",
     "text": [
      " 58%|█████▊    | 2900/4999 [03:30<02:59, 11.67it/s]"
     ]
    },
    {
     "name": "stdout",
     "output_type": "stream",
     "text": [
      "tensor(541.3686, grad_fn=<VarBackward0>)\n"
     ]
    },
    {
     "name": "stderr",
     "output_type": "stream",
     "text": [
      " 60%|██████    | 3000/4999 [03:37<02:53, 11.50it/s]"
     ]
    },
    {
     "name": "stdout",
     "output_type": "stream",
     "text": [
      "tensor(541.3287, grad_fn=<VarBackward0>)\n"
     ]
    },
    {
     "name": "stderr",
     "output_type": "stream",
     "text": [
      " 62%|██████▏   | 3100/4999 [03:44<02:44, 11.58it/s]"
     ]
    },
    {
     "name": "stdout",
     "output_type": "stream",
     "text": [
      "tensor(541.3875, grad_fn=<VarBackward0>)\n"
     ]
    },
    {
     "name": "stderr",
     "output_type": "stream",
     "text": [
      " 64%|██████▍   | 3200/4999 [03:52<02:37, 11.45it/s]"
     ]
    },
    {
     "name": "stdout",
     "output_type": "stream",
     "text": [
      "tensor(541.3477, grad_fn=<VarBackward0>)\n"
     ]
    },
    {
     "name": "stderr",
     "output_type": "stream",
     "text": [
      " 66%|██████▌   | 3300/4999 [03:59<02:28, 11.48it/s]"
     ]
    },
    {
     "name": "stdout",
     "output_type": "stream",
     "text": [
      "tensor(541.3287, grad_fn=<VarBackward0>)\n"
     ]
    },
    {
     "name": "stderr",
     "output_type": "stream",
     "text": [
      " 68%|██████▊   | 3400/4999 [04:06<02:19, 11.45it/s]"
     ]
    },
    {
     "name": "stdout",
     "output_type": "stream",
     "text": [
      "tensor(541.3318, grad_fn=<VarBackward0>)\n"
     ]
    },
    {
     "name": "stderr",
     "output_type": "stream",
     "text": [
      " 70%|███████   | 3500/4999 [04:13<02:10, 11.50it/s]"
     ]
    },
    {
     "name": "stdout",
     "output_type": "stream",
     "text": [
      "tensor(541.3732, grad_fn=<VarBackward0>)\n"
     ]
    },
    {
     "name": "stderr",
     "output_type": "stream",
     "text": [
      " 72%|███████▏  | 3600/4999 [04:21<02:04, 11.21it/s]"
     ]
    },
    {
     "name": "stdout",
     "output_type": "stream",
     "text": [
      "tensor(541.4214, grad_fn=<VarBackward0>)\n"
     ]
    },
    {
     "name": "stderr",
     "output_type": "stream",
     "text": [
      " 74%|███████▍  | 3700/4999 [04:28<01:58, 11.01it/s]"
     ]
    },
    {
     "name": "stdout",
     "output_type": "stream",
     "text": [
      "tensor(541.3586, grad_fn=<VarBackward0>)\n"
     ]
    },
    {
     "name": "stderr",
     "output_type": "stream",
     "text": [
      " 76%|███████▌  | 3800/4999 [04:36<01:46, 11.22it/s]"
     ]
    },
    {
     "name": "stdout",
     "output_type": "stream",
     "text": [
      "tensor(541.3210, grad_fn=<VarBackward0>)\n"
     ]
    },
    {
     "name": "stderr",
     "output_type": "stream",
     "text": [
      " 78%|███████▊  | 3900/4999 [04:43<01:40, 10.97it/s]"
     ]
    },
    {
     "name": "stdout",
     "output_type": "stream",
     "text": [
      "tensor(541.3456, grad_fn=<VarBackward0>)\n"
     ]
    },
    {
     "name": "stderr",
     "output_type": "stream",
     "text": [
      " 80%|████████  | 4000/4999 [04:51<01:29, 11.16it/s]"
     ]
    },
    {
     "name": "stdout",
     "output_type": "stream",
     "text": [
      "tensor(541.3781, grad_fn=<VarBackward0>)\n"
     ]
    },
    {
     "name": "stderr",
     "output_type": "stream",
     "text": [
      " 82%|████████▏ | 4100/4999 [04:58<01:21, 11.08it/s]"
     ]
    },
    {
     "name": "stdout",
     "output_type": "stream",
     "text": [
      "tensor(541.3242, grad_fn=<VarBackward0>)\n"
     ]
    },
    {
     "name": "stderr",
     "output_type": "stream",
     "text": [
      " 84%|████████▍ | 4200/4999 [05:05<01:12, 11.05it/s]"
     ]
    },
    {
     "name": "stdout",
     "output_type": "stream",
     "text": [
      "tensor(541.3605, grad_fn=<VarBackward0>)\n"
     ]
    },
    {
     "name": "stderr",
     "output_type": "stream",
     "text": [
      " 86%|████████▌ | 4300/4999 [05:13<01:03, 11.05it/s]"
     ]
    },
    {
     "name": "stdout",
     "output_type": "stream",
     "text": [
      "tensor(541.3225, grad_fn=<VarBackward0>)\n"
     ]
    },
    {
     "name": "stderr",
     "output_type": "stream",
     "text": [
      " 88%|████████▊ | 4400/4999 [05:20<00:55, 10.83it/s]"
     ]
    },
    {
     "name": "stdout",
     "output_type": "stream",
     "text": [
      "tensor(541.3640, grad_fn=<VarBackward0>)\n"
     ]
    },
    {
     "name": "stderr",
     "output_type": "stream",
     "text": [
      " 90%|█████████ | 4500/4999 [05:28<00:46, 10.75it/s]"
     ]
    },
    {
     "name": "stdout",
     "output_type": "stream",
     "text": [
      "tensor(541.3247, grad_fn=<VarBackward0>)\n"
     ]
    },
    {
     "name": "stderr",
     "output_type": "stream",
     "text": [
      " 92%|█████████▏| 4600/4999 [05:35<00:38, 10.49it/s]"
     ]
    },
    {
     "name": "stdout",
     "output_type": "stream",
     "text": [
      "tensor(541.3807, grad_fn=<VarBackward0>)\n"
     ]
    },
    {
     "name": "stderr",
     "output_type": "stream",
     "text": [
      " 94%|█████████▍| 4700/4999 [05:42<00:28, 10.43it/s]"
     ]
    },
    {
     "name": "stdout",
     "output_type": "stream",
     "text": [
      "tensor(541.4295, grad_fn=<VarBackward0>)\n"
     ]
    },
    {
     "name": "stderr",
     "output_type": "stream",
     "text": [
      " 96%|█████████▌| 4800/4999 [05:50<00:18, 10.86it/s]"
     ]
    },
    {
     "name": "stdout",
     "output_type": "stream",
     "text": [
      "tensor(541.3570, grad_fn=<VarBackward0>)\n"
     ]
    },
    {
     "name": "stderr",
     "output_type": "stream",
     "text": [
      " 98%|█████████▊| 4900/4999 [05:57<00:09, 10.68it/s]"
     ]
    },
    {
     "name": "stdout",
     "output_type": "stream",
     "text": [
      "tensor(541.3679, grad_fn=<VarBackward0>)\n"
     ]
    },
    {
     "name": "stderr",
     "output_type": "stream",
     "text": [
      "100%|██████████| 4999/4999 [06:04<00:00, 13.71it/s]\n"
     ]
    },
    {
     "data": {
      "text/plain": [
       "(tensor([[ 20.4230, -25.2584, -34.3455,  -5.7267],\n",
       "         [-23.7310,  29.8232, -24.8932,  -9.2289],\n",
       "         [ -8.0853,  29.1079,  29.3608, -10.2791],\n",
       "         [-13.0341, -31.8040,  30.2574,  30.2667],\n",
       "         [ -9.2288, -13.6471,  29.0361,  30.0927],\n",
       "         [-10.2439, -16.6387, -14.5905,  29.7303],\n",
       "         [ -4.8084, -27.5925, -12.6540,  29.2875]], requires_grad=True),\n",
       " tensor([[ 20.0417, -24.7092, -33.6304,  -5.6509],\n",
       "         [-23.2333,  29.3296, -24.3871,  -9.0713],\n",
       "         [ -7.9328,  28.4569,  29.3292, -10.0949],\n",
       "         [-12.7906, -31.1575,  29.3350,  29.2986],\n",
       "         [ -9.0624, -13.3785,  28.5217,  29.3166],\n",
       "         [-10.0426, -16.2968, -14.3076,  29.2258],\n",
       "         [ -4.7394, -27.0041, -12.4110,  28.6414]]),\n",
       " {'loss': [1.9809515476226807,\n",
       "   1.8042160272598267,\n",
       "   1.6914608478546143,\n",
       "   1.5257916450500488,\n",
       "   1.3563666343688965,\n",
       "   1.1692005395889282,\n",
       "   0.9718724489212036,\n",
       "   0.9184002876281738,\n",
       "   0.910415768623352,\n",
       "   0.896136462688446,\n",
       "   0.9337508678436279,\n",
       "   1.0271433591842651,\n",
       "   1.0002796649932861,\n",
       "   1.1053181886672974,\n",
       "   0.9519835710525513,\n",
       "   1.0698752403259277,\n",
       "   1.0240519046783447,\n",
       "   1.106547236442566,\n",
       "   1.0340170860290527,\n",
       "   0.9902058839797974,\n",
       "   0.9564611911773682,\n",
       "   0.9276469945907593,\n",
       "   0.9644501805305481,\n",
       "   1.0085620880126953,\n",
       "   0.9083073735237122,\n",
       "   0.8885297179222107,\n",
       "   0.8918617367744446,\n",
       "   0.8546047806739807,\n",
       "   0.8895304799079895,\n",
       "   0.9348923563957214,\n",
       "   0.9414547085762024,\n",
       "   0.9738379120826721,\n",
       "   1.0329197645187378,\n",
       "   1.0642585754394531,\n",
       "   0.9762292504310608,\n",
       "   0.9586395025253296,\n",
       "   0.9406821131706238,\n",
       "   0.8967841267585754,\n",
       "   0.8487665057182312,\n",
       "   0.799083411693573,\n",
       "   0.8306686282157898,\n",
       "   0.873837411403656,\n",
       "   0.8814721703529358,\n",
       "   0.9194266200065613,\n",
       "   0.8989123106002808,\n",
       "   0.8365281224250793,\n",
       "   0.8753069043159485,\n",
       "   0.9025931358337402,\n",
       "   0.9991227984428406,\n",
       "   0.9205381870269775,\n",
       "   0.9621555805206299,\n",
       "   0.9148862361907959,\n",
       "   0.9277172684669495,\n",
       "   0.9589512944221497,\n",
       "   0.9662644267082214,\n",
       "   0.8980148434638977,\n",
       "   0.8440623879432678,\n",
       "   0.8068099617958069,\n",
       "   0.8075282573699951,\n",
       "   0.8253291845321655,\n",
       "   0.819092333316803,\n",
       "   0.8831011056900024,\n",
       "   0.8584854006767273,\n",
       "   0.8363443613052368,\n",
       "   0.9146537184715271,\n",
       "   0.8760737776756287,\n",
       "   0.88651043176651,\n",
       "   0.9046797156333923,\n",
       "   0.870850145816803,\n",
       "   0.8033362627029419,\n",
       "   0.7952909469604492,\n",
       "   0.7811633944511414,\n",
       "   0.7720275521278381,\n",
       "   0.8370808362960815,\n",
       "   0.8119215369224548,\n",
       "   0.909434974193573,\n",
       "   0.9096878170967102,\n",
       "   0.8498707413673401,\n",
       "   0.8751634955406189,\n",
       "   0.9038411378860474,\n",
       "   0.8393228650093079,\n",
       "   0.8779206871986389,\n",
       "   0.8525252938270569,\n",
       "   0.8227918148040771,\n",
       "   0.8377395272254944,\n",
       "   0.8762792944908142,\n",
       "   0.8247870802879333,\n",
       "   0.7702857255935669,\n",
       "   0.7303661704063416,\n",
       "   0.7349976897239685,\n",
       "   0.7200891375541687,\n",
       "   0.7748621106147766,\n",
       "   0.7573884725570679,\n",
       "   0.7872406244277954,\n",
       "   0.8556386232376099,\n",
       "   0.8651533126831055,\n",
       "   0.8220685720443726,\n",
       "   0.8544347286224365,\n",
       "   0.8194577097892761,\n",
       "   0.8005542159080505,\n",
       "   0.7638075947761536,\n",
       "   0.7760666012763977,\n",
       "   0.7345995306968689,\n",
       "   0.7796493172645569,\n",
       "   0.853140115737915,\n",
       "   0.7997159361839294,\n",
       "   0.7961855530738831,\n",
       "   0.7998533248901367,\n",
       "   0.7427095174789429,\n",
       "   0.7521406412124634,\n",
       "   0.7943083047866821,\n",
       "   0.7581241130828857,\n",
       "   0.8117615580558777,\n",
       "   0.7810654044151306,\n",
       "   0.7727091312408447,\n",
       "   0.8080597519874573,\n",
       "   0.7831267714500427,\n",
       "   0.7993797063827515,\n",
       "   0.7657274007797241,\n",
       "   0.7384935617446899,\n",
       "   0.7542238831520081,\n",
       "   0.7908433079719543,\n",
       "   0.7861649394035339,\n",
       "   0.8221400380134583,\n",
       "   0.7960562705993652,\n",
       "   0.7839186787605286,\n",
       "   0.7968884706497192,\n",
       "   0.7932882308959961,\n",
       "   0.7411115765571594,\n",
       "   0.7370147109031677,\n",
       "   0.7812880873680115,\n",
       "   0.7698958516120911,\n",
       "   0.7656998038291931,\n",
       "   0.7867418527603149,\n",
       "   0.7608006000518799,\n",
       "   0.7576223015785217,\n",
       "   0.7761915326118469,\n",
       "   0.7654471397399902,\n",
       "   0.7544019818305969,\n",
       "   0.785969614982605,\n",
       "   0.7566485404968262,\n",
       "   0.8228161334991455,\n",
       "   0.7818125486373901,\n",
       "   0.8166597485542297,\n",
       "   0.7480086088180542,\n",
       "   0.7359209060668945,\n",
       "   0.7653524279594421,\n",
       "   0.7694860100746155,\n",
       "   0.7888615727424622,\n",
       "   0.7710350155830383,\n",
       "   0.7971205115318298,\n",
       "   0.8160027861595154,\n",
       "   0.760331928730011,\n",
       "   0.7842967510223389,\n",
       "   0.7174990773200989,\n",
       "   0.7388996481895447,\n",
       "   0.7650023102760315,\n",
       "   0.7884357571601868,\n",
       "   0.8387479782104492,\n",
       "   0.8053005337715149,\n",
       "   0.8024797439575195,\n",
       "   0.7957512736320496,\n",
       "   0.785107433795929,\n",
       "   0.7565509676933289,\n",
       "   0.7744970321655273,\n",
       "   0.7429269552230835,\n",
       "   0.7540998458862305,\n",
       "   0.7837455868721008,\n",
       "   0.7596732378005981,\n",
       "   0.758073091506958,\n",
       "   0.7613431811332703,\n",
       "   0.7844939827919006,\n",
       "   0.730442225933075,\n",
       "   0.7618886232376099,\n",
       "   0.7389737367630005,\n",
       "   0.7345171570777893,\n",
       "   0.7768252491950989,\n",
       "   0.7444269061088562,\n",
       "   0.7395509481430054,\n",
       "   0.7207871675491333,\n",
       "   0.7529616951942444,\n",
       "   0.7506164312362671,\n",
       "   0.768155574798584,\n",
       "   0.7781169414520264,\n",
       "   0.7580665349960327,\n",
       "   0.7627145051956177,\n",
       "   0.7438220977783203,\n",
       "   0.7930670976638794,\n",
       "   0.7248883247375488,\n",
       "   0.8019461035728455,\n",
       "   0.7570399045944214,\n",
       "   0.7390177249908447,\n",
       "   0.7137965559959412,\n",
       "   0.7162498831748962,\n",
       "   0.7607667446136475,\n",
       "   0.7327062487602234,\n",
       "   0.7606014013290405,\n",
       "   0.7208336591720581,\n",
       "   0.7076813578605652,\n",
       "   0.7488706707954407,\n",
       "   0.7399721145629883,\n",
       "   0.7614478468894958,\n",
       "   0.7602027654647827,\n",
       "   0.7464994788169861,\n",
       "   0.7561319470405579,\n",
       "   0.7441191077232361,\n",
       "   0.7530690431594849,\n",
       "   0.7300470471382141,\n",
       "   0.7520992159843445,\n",
       "   0.7961804270744324,\n",
       "   0.7685310244560242,\n",
       "   0.738309383392334,\n",
       "   0.6902984380722046,\n",
       "   0.7340283393859863,\n",
       "   0.7249033451080322,\n",
       "   0.7444251179695129,\n",
       "   0.7532740235328674,\n",
       "   0.7542492151260376,\n",
       "   0.8023051619529724,\n",
       "   0.7563536167144775,\n",
       "   0.7917787432670593,\n",
       "   0.7427738308906555,\n",
       "   0.7064577341079712,\n",
       "   0.7194761037826538,\n",
       "   0.7737045884132385,\n",
       "   0.7093612551689148,\n",
       "   0.7422918081283569,\n",
       "   0.732782244682312,\n",
       "   0.7564774751663208,\n",
       "   0.7575668096542358,\n",
       "   0.73529052734375,\n",
       "   0.7689830660820007,\n",
       "   0.7430728077888489,\n",
       "   0.7365915775299072,\n",
       "   0.7433876991271973,\n",
       "   0.7456451654434204,\n",
       "   0.7348781228065491,\n",
       "   0.7272272706031799,\n",
       "   0.7209554314613342,\n",
       "   0.7407649159431458,\n",
       "   0.7354199290275574,\n",
       "   0.6992265582084656,\n",
       "   0.7266761064529419,\n",
       "   0.7266287207603455,\n",
       "   0.7752518653869629,\n",
       "   0.7734565138816833,\n",
       "   0.7741307020187378,\n",
       "   0.7413228750228882,\n",
       "   0.7768613696098328,\n",
       "   0.758844256401062,\n",
       "   0.7507186532020569,\n",
       "   0.6952061057090759,\n",
       "   0.7314145565032959,\n",
       "   0.7105953693389893,\n",
       "   0.7481972575187683,\n",
       "   0.782733678817749,\n",
       "   0.7833970189094543,\n",
       "   0.7453662753105164,\n",
       "   0.7613588571548462,\n",
       "   0.7505545616149902,\n",
       "   0.755817174911499,\n",
       "   0.7377461194992065,\n",
       "   0.7813683748245239,\n",
       "   0.7470606565475464,\n",
       "   0.7675861716270447,\n",
       "   0.7958082556724548,\n",
       "   0.756287157535553,\n",
       "   0.7699293494224548,\n",
       "   0.7574223875999451,\n",
       "   0.7496510744094849,\n",
       "   0.7366306185722351,\n",
       "   0.7580152750015259,\n",
       "   0.7879616618156433,\n",
       "   0.7634851932525635,\n",
       "   0.7560392618179321,\n",
       "   0.7720625996589661,\n",
       "   0.713138222694397,\n",
       "   0.7492295503616333,\n",
       "   0.749453604221344,\n",
       "   0.7402836084365845,\n",
       "   0.7262532114982605,\n",
       "   0.7734456062316895,\n",
       "   0.7369440197944641,\n",
       "   0.7565886378288269,\n",
       "   0.7315378189086914,\n",
       "   0.7452072501182556,\n",
       "   0.7275945544242859,\n",
       "   0.7366362810134888,\n",
       "   0.753605306148529,\n",
       "   0.7726055979728699,\n",
       "   0.7634904384613037,\n",
       "   0.7280165553092957,\n",
       "   0.7398150563240051,\n",
       "   0.7094871997833252,\n",
       "   0.6987729668617249,\n",
       "   0.7095842361450195,\n",
       "   0.7153265476226807,\n",
       "   0.7586154341697693,\n",
       "   0.7409881353378296,\n",
       "   0.7395083904266357,\n",
       "   0.6994466781616211,\n",
       "   0.7232171297073364,\n",
       "   0.7347421050071716,\n",
       "   0.7386791110038757,\n",
       "   0.7682250142097473,\n",
       "   0.7159094214439392,\n",
       "   0.7432063221931458,\n",
       "   0.7301561236381531,\n",
       "   0.7225871086120605,\n",
       "   0.7417451739311218,\n",
       "   0.7286890745162964,\n",
       "   0.7131134867668152,\n",
       "   0.7414178848266602,\n",
       "   0.7538008093833923,\n",
       "   0.7371044754981995,\n",
       "   0.7185544371604919,\n",
       "   0.7504289150238037,\n",
       "   0.6899911761283875,\n",
       "   0.7668591737747192,\n",
       "   0.7348248362541199,\n",
       "   0.7603626251220703,\n",
       "   0.7102845311164856,\n",
       "   0.6908307075500488,\n",
       "   0.7352035045623779,\n",
       "   0.7663747668266296,\n",
       "   0.7079035639762878,\n",
       "   0.72716224193573,\n",
       "   0.7636075019836426,\n",
       "   0.7220818996429443,\n",
       "   0.7333705425262451,\n",
       "   0.7597423195838928,\n",
       "   0.7472171187400818,\n",
       "   0.712256669998169,\n",
       "   0.7556500434875488,\n",
       "   0.7472219467163086,\n",
       "   0.7358267903327942,\n",
       "   0.7686362862586975,\n",
       "   0.7487480640411377,\n",
       "   0.7447042465209961,\n",
       "   0.7438561916351318,\n",
       "   0.7571681141853333,\n",
       "   0.7145172357559204,\n",
       "   0.7354017496109009,\n",
       "   0.7603731751441956,\n",
       "   0.7365115880966187,\n",
       "   0.7218250036239624,\n",
       "   0.7402019500732422,\n",
       "   0.7379419207572937,\n",
       "   0.7410480976104736,\n",
       "   0.761471152305603,\n",
       "   0.7330160140991211,\n",
       "   0.7387727499008179,\n",
       "   0.7278296947479248,\n",
       "   0.7353943586349487,\n",
       "   0.7375235557556152,\n",
       "   0.7676016688346863,\n",
       "   0.7521869540214539,\n",
       "   0.7559947371482849,\n",
       "   0.7365427017211914,\n",
       "   0.7385237812995911,\n",
       "   0.6902567744255066,\n",
       "   0.7311797738075256,\n",
       "   0.7595697045326233,\n",
       "   0.7454259395599365,\n",
       "   0.7494382858276367,\n",
       "   0.7328481078147888,\n",
       "   0.7276985049247742,\n",
       "   0.7270969748497009,\n",
       "   0.7065001726150513,\n",
       "   0.7281855344772339,\n",
       "   0.7225119471549988,\n",
       "   0.7237136363983154,\n",
       "   0.7301627993583679,\n",
       "   0.7191688418388367,\n",
       "   0.7462137341499329,\n",
       "   0.7401192784309387,\n",
       "   0.7355142831802368,\n",
       "   0.7552626729011536,\n",
       "   0.7164338231086731,\n",
       "   0.7647129893302917,\n",
       "   0.7215856313705444,\n",
       "   0.7436606287956238,\n",
       "   0.7326164841651917,\n",
       "   0.726471483707428,\n",
       "   0.7408787608146667,\n",
       "   0.7592787146568298,\n",
       "   0.7589346766471863,\n",
       "   0.7214000821113586,\n",
       "   0.755976140499115,\n",
       "   0.7281672358512878,\n",
       "   0.7115833759307861,\n",
       "   0.7047421932220459,\n",
       "   0.7506229281425476,\n",
       "   0.7705727815628052,\n",
       "   0.770689845085144,\n",
       "   0.7665001749992371,\n",
       "   0.7527206540107727,\n",
       "   0.743695855140686,\n",
       "   0.7392076849937439,\n",
       "   0.7585835456848145,\n",
       "   0.7139492630958557,\n",
       "   0.7216923832893372,\n",
       "   0.7327277660369873,\n",
       "   0.7386904358863831,\n",
       "   0.7133921384811401,\n",
       "   0.7320632338523865,\n",
       "   0.7575061917304993,\n",
       "   0.7594375014305115,\n",
       "   0.7535676956176758,\n",
       "   0.7332159876823425,\n",
       "   0.7127007246017456,\n",
       "   0.7343742251396179,\n",
       "   0.7572646141052246,\n",
       "   0.7439882159233093,\n",
       "   0.7727085947990417,\n",
       "   0.7468816637992859,\n",
       "   0.7641030550003052,\n",
       "   0.734474778175354,\n",
       "   0.7204186320304871,\n",
       "   0.7375406622886658,\n",
       "   0.7312207221984863,\n",
       "   0.7500478625297546,\n",
       "   0.7565117478370667,\n",
       "   0.7573994398117065,\n",
       "   0.7867524027824402,\n",
       "   0.7608700394630432,\n",
       "   0.7447062730789185,\n",
       "   0.7437100410461426,\n",
       "   0.7179217338562012,\n",
       "   0.7595193982124329,\n",
       "   0.7813531160354614,\n",
       "   0.7256538271903992,\n",
       "   0.7519843578338623,\n",
       "   0.7575103640556335,\n",
       "   0.7762058973312378,\n",
       "   0.7751349210739136,\n",
       "   0.7253221869468689,\n",
       "   0.7187764644622803,\n",
       "   0.7278129458427429,\n",
       "   0.7270880937576294,\n",
       "   0.732349693775177,\n",
       "   0.790579080581665,\n",
       "   0.7580828070640564,\n",
       "   0.7647270560264587,\n",
       "   0.7400950193405151,\n",
       "   0.7204563617706299,\n",
       "   0.7121374011039734,\n",
       "   0.713720440864563,\n",
       "   0.7457383871078491,\n",
       "   0.7402241826057434,\n",
       "   0.7204416990280151,\n",
       "   0.7079430222511292,\n",
       "   0.6883727312088013,\n",
       "   0.7226687073707581,\n",
       "   0.7633607983589172,\n",
       "   0.7192169427871704,\n",
       "   0.7390291094779968,\n",
       "   0.730789065361023,\n",
       "   0.7316439151763916,\n",
       "   0.7207914590835571,\n",
       "   0.7443351149559021,\n",
       "   0.7299669981002808,\n",
       "   0.7582666277885437,\n",
       "   0.7599769234657288,\n",
       "   0.7342394590377808,\n",
       "   0.7219294905662537,\n",
       "   0.718483567237854,\n",
       "   0.7520620226860046,\n",
       "   0.7507469654083252,\n",
       "   0.7179503440856934,\n",
       "   0.7095661759376526,\n",
       "   0.737714409828186,\n",
       "   0.753727376461029,\n",
       "   0.7083650827407837,\n",
       "   0.7165087461471558,\n",
       "   0.7276588082313538,\n",
       "   0.7507551908493042,\n",
       "   0.7251615524291992,\n",
       "   0.7519544363021851,\n",
       "   0.7633336782455444,\n",
       "   0.7759901881217957,\n",
       "   0.7314234375953674,\n",
       "   0.7158301472663879,\n",
       "   0.727599024772644,\n",
       "   0.7229166030883789,\n",
       "   0.7303304076194763,\n",
       "   0.7102263569831848,\n",
       "   0.7348838448524475,\n",
       "   0.7706931233406067,\n",
       "   0.7558270692825317,\n",
       "   0.748471736907959,\n",
       "   0.7284854054450989,\n",
       "   0.726638674736023,\n",
       "   0.7663285732269287,\n",
       "   0.7097142338752747,\n",
       "   0.7733215093612671,\n",
       "   0.7536424398422241,\n",
       "   0.7500365376472473,\n",
       "   0.7223489880561829,\n",
       "   0.7483998537063599,\n",
       "   0.7510789632797241,\n",
       "   0.7053196430206299,\n",
       "   0.732758641242981,\n",
       "   0.748913049697876,\n",
       "   0.7112522721290588,\n",
       "   0.745262861251831,\n",
       "   0.7623929977416992,\n",
       "   0.7583895921707153,\n",
       "   0.7339489459991455,\n",
       "   0.7473259568214417,\n",
       "   0.7551018595695496,\n",
       "   0.7386162877082825,\n",
       "   0.7111082673072815,\n",
       "   0.7436877489089966,\n",
       "   0.7312867641448975,\n",
       "   0.7529540657997131,\n",
       "   0.7656348943710327,\n",
       "   0.726519763469696,\n",
       "   0.7362816333770752,\n",
       "   0.7232159376144409,\n",
       "   0.727826714515686,\n",
       "   0.7490266561508179,\n",
       "   0.730073094367981,\n",
       "   0.7203956246376038,\n",
       "   0.6957616209983826,\n",
       "   0.7367652654647827,\n",
       "   0.7319187521934509,\n",
       "   0.7655566334724426,\n",
       "   0.7264631986618042,\n",
       "   0.7491393685340881,\n",
       "   0.7320621013641357,\n",
       "   0.7229845523834229,\n",
       "   0.7192955613136292,\n",
       "   0.7454918622970581,\n",
       "   0.7470743656158447,\n",
       "   0.7626346349716187,\n",
       "   0.7539514303207397,\n",
       "   0.7208573222160339,\n",
       "   0.7387138605117798,\n",
       "   0.7153328061103821,\n",
       "   0.7279348969459534,\n",
       "   0.6996973156929016,\n",
       "   0.7134029865264893,\n",
       "   0.734708309173584,\n",
       "   0.7244318723678589,\n",
       "   0.765774667263031,\n",
       "   0.691642165184021,\n",
       "   0.7593437433242798,\n",
       "   0.6876939535140991,\n",
       "   0.7479530572891235,\n",
       "   0.7254420518875122,\n",
       "   0.7196499109268188,\n",
       "   0.7562031745910645,\n",
       "   0.7594946026802063,\n",
       "   0.7169000506401062,\n",
       "   0.7624061107635498,\n",
       "   0.7800757884979248,\n",
       "   0.7502442002296448,\n",
       "   0.7196646332740784,\n",
       "   0.6877699494361877,\n",
       "   0.7156594395637512,\n",
       "   0.7359359860420227,\n",
       "   0.7340401411056519,\n",
       "   0.7480729222297668,\n",
       "   0.7052894830703735,\n",
       "   0.7331018447875977,\n",
       "   0.7118340134620667,\n",
       "   0.740443229675293,\n",
       "   0.7291169762611389,\n",
       "   0.7264465689659119,\n",
       "   0.7048929929733276,\n",
       "   0.7346563339233398,\n",
       "   0.7494276762008667,\n",
       "   0.7271344065666199,\n",
       "   0.7348197102546692,\n",
       "   0.7474538087844849,\n",
       "   0.7138713598251343,\n",
       "   0.7645859718322754,\n",
       "   0.7264449000358582,\n",
       "   0.7043583989143372,\n",
       "   0.7280679941177368,\n",
       "   0.7312203049659729,\n",
       "   0.7885536551475525,\n",
       "   0.7105989456176758,\n",
       "   0.7256327271461487,\n",
       "   0.7255600690841675,\n",
       "   0.7357468008995056,\n",
       "   0.738059937953949,\n",
       "   0.7534019947052002,\n",
       "   0.7451231479644775,\n",
       "   0.7432914972305298,\n",
       "   0.7250754237174988,\n",
       "   0.7498719096183777,\n",
       "   0.7144384384155273,\n",
       "   0.7322784066200256,\n",
       "   0.7430541515350342,\n",
       "   0.7437117099761963,\n",
       "   0.7346212863922119,\n",
       "   0.6929972171783447,\n",
       "   0.7184652090072632,\n",
       "   0.7482551336288452,\n",
       "   0.7474562525749207,\n",
       "   0.7606598138809204,\n",
       "   0.7320947051048279,\n",
       "   0.6842848658561707,\n",
       "   0.7544528245925903,\n",
       "   0.7158330678939819,\n",
       "   0.755685567855835,\n",
       "   0.7388628125190735,\n",
       "   0.7409722208976746,\n",
       "   0.7338131666183472,\n",
       "   0.7120346426963806,\n",
       "   0.7518255710601807,\n",
       "   0.6812076568603516,\n",
       "   0.7287227511405945,\n",
       "   0.732840359210968,\n",
       "   0.7220805287361145,\n",
       "   0.729853630065918,\n",
       "   0.7332022190093994,\n",
       "   0.728257417678833,\n",
       "   0.7211080193519592,\n",
       "   0.7079266905784607,\n",
       "   0.7391158938407898,\n",
       "   0.7112346291542053,\n",
       "   0.7221354246139526,\n",
       "   0.7529363632202148,\n",
       "   0.7079948782920837,\n",
       "   0.7385413646697998,\n",
       "   0.7173207402229309,\n",
       "   0.7137128114700317,\n",
       "   0.7574784159660339,\n",
       "   0.7723832130432129,\n",
       "   0.7264561057090759,\n",
       "   0.7379062175750732,\n",
       "   0.7241806983947754,\n",
       "   0.7358923554420471,\n",
       "   0.7169198989868164,\n",
       "   0.71632319688797,\n",
       "   0.7282562851905823,\n",
       "   0.7396650910377502,\n",
       "   0.7313289642333984,\n",
       "   0.7390347123146057,\n",
       "   0.7208133935928345,\n",
       "   0.7418116331100464,\n",
       "   0.7337053418159485,\n",
       "   0.744780421257019,\n",
       "   0.7335711121559143,\n",
       "   0.6962478160858154,\n",
       "   0.750130832195282,\n",
       "   0.7068514227867126,\n",
       "   0.7255364656448364,\n",
       "   0.7432926893234253,\n",
       "   0.725031852722168,\n",
       "   0.7379782199859619,\n",
       "   0.7141198515892029,\n",
       "   0.7370434999465942,\n",
       "   0.7269194722175598,\n",
       "   0.7272646427154541,\n",
       "   0.7433140277862549,\n",
       "   0.7246934175491333,\n",
       "   0.725800096988678,\n",
       "   0.7108629941940308,\n",
       "   0.7235171794891357,\n",
       "   0.7102220058441162,\n",
       "   0.732525646686554,\n",
       "   0.7090157270431519,\n",
       "   0.7246119976043701,\n",
       "   0.7219196557998657,\n",
       "   0.6980451345443726,\n",
       "   0.7336142659187317,\n",
       "   0.7124221920967102,\n",
       "   0.7342485785484314,\n",
       "   0.7258024215698242,\n",
       "   0.7308712601661682,\n",
       "   0.7114840745925903,\n",
       "   0.7332524061203003,\n",
       "   0.743385374546051,\n",
       "   0.6950487494468689,\n",
       "   0.7312578558921814,\n",
       "   0.7293210029602051,\n",
       "   0.6885712742805481,\n",
       "   0.7452447414398193,\n",
       "   0.7189147472381592,\n",
       "   0.7418001890182495,\n",
       "   0.7631919980049133,\n",
       "   0.7160992622375488,\n",
       "   0.7509235739707947,\n",
       "   0.7294396758079529,\n",
       "   0.7233030796051025,\n",
       "   0.7419675588607788,\n",
       "   0.7271994948387146,\n",
       "   0.7042983770370483,\n",
       "   0.7159815430641174,\n",
       "   0.7304467558860779,\n",
       "   0.7144998908042908,\n",
       "   0.7237197160720825,\n",
       "   0.7021113634109497,\n",
       "   0.7387881875038147,\n",
       "   0.7436045408248901,\n",
       "   0.7094218730926514,\n",
       "   0.7326400279998779,\n",
       "   0.6976674199104309,\n",
       "   0.740325391292572,\n",
       "   0.7100633978843689,\n",
       "   0.7127474546432495,\n",
       "   0.7116819620132446,\n",
       "   0.7176326513290405,\n",
       "   0.7084140181541443,\n",
       "   0.7332273125648499,\n",
       "   0.7290574312210083,\n",
       "   0.6889750361442566,\n",
       "   0.7224093079566956,\n",
       "   0.7132219076156616,\n",
       "   0.7603066563606262,\n",
       "   0.7207595109939575,\n",
       "   0.6890298128128052,\n",
       "   0.7522498965263367,\n",
       "   0.7200500965118408,\n",
       "   0.7128018140792847,\n",
       "   0.7196539044380188,\n",
       "   0.736473023891449,\n",
       "   0.7226001620292664,\n",
       "   0.7186367511749268,\n",
       "   0.7307115793228149,\n",
       "   0.730401873588562,\n",
       "   0.712087869644165,\n",
       "   0.7685642242431641,\n",
       "   0.7461997270584106,\n",
       "   0.7162736058235168,\n",
       "   0.7257496118545532,\n",
       "   0.7258960604667664,\n",
       "   0.7108210921287537,\n",
       "   0.7318539023399353,\n",
       "   0.6946122050285339,\n",
       "   0.7371565699577332,\n",
       "   0.7426405549049377,\n",
       "   0.7213987708091736,\n",
       "   0.7208150029182434,\n",
       "   0.7356404662132263,\n",
       "   0.742928683757782,\n",
       "   0.7380177974700928,\n",
       "   0.7501599788665771,\n",
       "   0.7465585470199585,\n",
       "   0.717178225517273,\n",
       "   0.736086368560791,\n",
       "   0.701858639717102,\n",
       "   0.7362629771232605,\n",
       "   0.7153435945510864,\n",
       "   0.7278014421463013,\n",
       "   0.7222322821617126,\n",
       "   0.7182400226593018,\n",
       "   0.7486292123794556,\n",
       "   0.7168070077896118,\n",
       "   0.7240344882011414,\n",
       "   0.7463334202766418,\n",
       "   0.729692280292511,\n",
       "   0.728741466999054,\n",
       "   0.7156212329864502,\n",
       "   0.7545823454856873,\n",
       "   0.7315423488616943,\n",
       "   0.7478881478309631,\n",
       "   0.7275873422622681,\n",
       "   0.7374297976493835,\n",
       "   0.7201487421989441,\n",
       "   0.7446654438972473,\n",
       "   0.7567740082740784,\n",
       "   0.7315070033073425,\n",
       "   0.7642505764961243,\n",
       "   0.771772563457489,\n",
       "   0.7574543356895447,\n",
       "   0.7434607744216919,\n",
       "   0.7499784231185913,\n",
       "   0.7562510371208191,\n",
       "   0.7426952719688416,\n",
       "   0.7419186234474182,\n",
       "   0.747980535030365,\n",
       "   0.7322335839271545,\n",
       "   0.7319291830062866,\n",
       "   0.7114589214324951,\n",
       "   0.741250216960907,\n",
       "   0.7085000872612,\n",
       "   0.7498053908348083,\n",
       "   0.7386742830276489,\n",
       "   0.7448768019676208,\n",
       "   0.7404486536979675,\n",
       "   0.7658921480178833,\n",
       "   0.7549113035202026,\n",
       "   0.7188124656677246,\n",
       "   0.7416786551475525,\n",
       "   0.7219586968421936,\n",
       "   0.6960557699203491,\n",
       "   0.7653629779815674,\n",
       "   0.7375091314315796,\n",
       "   0.7655153870582581,\n",
       "   0.7290173768997192,\n",
       "   0.7619985938072205,\n",
       "   0.7491084933280945,\n",
       "   0.7189452052116394,\n",
       "   0.7189270257949829,\n",
       "   0.7124156355857849,\n",
       "   0.7458128929138184,\n",
       "   0.7580838203430176,\n",
       "   0.7325899600982666,\n",
       "   0.7199156284332275,\n",
       "   0.6994435787200928,\n",
       "   0.7160969972610474,\n",
       "   0.758759081363678,\n",
       "   0.7457541227340698,\n",
       "   0.7531168460845947,\n",
       "   0.7479521036148071,\n",
       "   0.7296919226646423,\n",
       "   0.7150963544845581,\n",
       "   0.7173954248428345,\n",
       "   0.752070963382721,\n",
       "   0.7253950238227844,\n",
       "   0.7406263947486877,\n",
       "   0.7234319448471069,\n",
       "   0.7067368030548096,\n",
       "   0.7354028820991516,\n",
       "   0.7412207126617432,\n",
       "   0.7348642945289612,\n",
       "   0.7506836652755737,\n",
       "   0.7426862716674805,\n",
       "   0.7423396706581116,\n",
       "   0.7330600023269653,\n",
       "   0.7383122444152832,\n",
       "   0.7241843342781067,\n",
       "   0.7400294542312622,\n",
       "   0.7378688454627991,\n",
       "   0.7297534942626953,\n",
       "   0.7510889172554016,\n",
       "   0.7592172622680664,\n",
       "   0.7450385689735413,\n",
       "   0.7397807240486145,\n",
       "   0.7226523160934448,\n",
       "   0.7344651818275452,\n",
       "   0.707166850566864,\n",
       "   0.739756166934967,\n",
       "   0.7597966194152832,\n",
       "   0.7020693421363831,\n",
       "   0.770335853099823,\n",
       "   0.7524629831314087,\n",
       "   0.7336655855178833,\n",
       "   0.6970868110656738,\n",
       "   0.7651547789573669,\n",
       "   0.7223181128501892,\n",
       "   0.7268717288970947,\n",
       "   0.7414301037788391,\n",
       "   0.7535848021507263,\n",
       "   0.72915118932724,\n",
       "   0.7769907116889954,\n",
       "   0.7231867909431458,\n",
       "   0.7311782240867615,\n",
       "   0.7433684468269348,\n",
       "   0.7370640635490417,\n",
       "   0.7282841205596924,\n",
       "   0.7325662970542908,\n",
       "   0.7172372937202454,\n",
       "   0.7538601756095886,\n",
       "   0.6896287798881531,\n",
       "   0.7641624212265015,\n",
       "   0.7477108240127563,\n",
       "   0.7700323462486267,\n",
       "   0.7079843282699585,\n",
       "   0.707048773765564,\n",
       "   0.7211307883262634,\n",
       "   0.7477021813392639,\n",
       "   0.7250833511352539,\n",
       "   0.7363121509552002,\n",
       "   0.7421067357063293,\n",
       "   0.7318248748779297,\n",
       "   0.7363729476928711,\n",
       "   0.7382146716117859,\n",
       "   0.7396721243858337,\n",
       "   0.7616183757781982,\n",
       "   0.7338289618492126,\n",
       "   0.7228648066520691,\n",
       "   0.7613516449928284,\n",
       "   0.7450322508811951,\n",
       "   0.7384487986564636,\n",
       "   0.712372899055481,\n",
       "   0.7594051361083984,\n",
       "   0.7473048567771912,\n",
       "   0.7572247982025146,\n",
       "   0.7313631772994995,\n",
       "   0.7158215045928955,\n",
       "   0.7478094696998596,\n",
       "   0.7387797236442566,\n",
       "   0.7628162503242493,\n",
       "   0.7507098913192749,\n",
       "   0.7471499443054199,\n",
       "   0.7513437867164612,\n",
       "   0.7430190443992615,\n",
       "   0.7073140740394592,\n",
       "   0.7606326937675476,\n",
       "   0.7441065311431885,\n",
       "   0.7305535078048706,\n",
       "   0.7381064891815186,\n",
       "   0.7655850648880005,\n",
       "   0.7188301682472229,\n",
       "   0.7315776944160461,\n",
       "   0.7217999696731567,\n",
       "   0.7956397533416748,\n",
       "   0.7755168676376343,\n",
       "   0.7021527290344238,\n",
       "   0.743478536605835,\n",
       "   0.7618910670280457,\n",
       "   0.7489842176437378,\n",
       "   0.7344534993171692,\n",
       "   0.7369236946105957,\n",
       "   0.7433723211288452,\n",
       "   0.7579963803291321,\n",
       "   0.7611671686172485,\n",
       "   0.7395055890083313,\n",
       "   0.7299782633781433,\n",
       "   0.7360716462135315,\n",
       "   0.7304289937019348,\n",
       "   0.7294589281082153,\n",
       "   0.7028959393501282,\n",
       "   0.7177008390426636,\n",
       "   0.7625016570091248,\n",
       "   0.7772015333175659,\n",
       "   0.74892657995224,\n",
       "   0.7520219683647156,\n",
       "   0.7433565258979797,\n",
       "   0.7687947750091553,\n",
       "   0.7249780893325806,\n",
       "   0.7319022417068481,\n",
       "   0.7417835593223572,\n",
       "   0.7179446816444397,\n",
       "   0.7680243849754333,\n",
       "   0.7056207656860352,\n",
       "   0.7220287322998047,\n",
       "   0.7832195162773132,\n",
       "   0.7628648281097412,\n",
       "   0.7908843159675598,\n",
       "   0.7676743268966675,\n",
       "   0.745551347732544,\n",
       "   0.7578399777412415,\n",
       "   0.7454093098640442,\n",
       "   0.7488611340522766,\n",
       "   0.7467113137245178,\n",
       "   0.7387977242469788,\n",
       "   0.742158830165863,\n",
       "   0.7451319694519043,\n",
       "   0.7322164177894592,\n",
       "   0.7476219534873962,\n",
       "   0.7168712615966797,\n",
       "   0.7117037773132324,\n",
       "   0.7278662919998169,\n",
       "   0.7345631122589111,\n",
       "   0.7320504784584045,\n",
       "   0.7299204468727112,\n",
       "   0.7218545079231262,\n",
       "   0.7121185064315796,\n",
       "   0.7320161461830139,\n",
       "   0.7405442595481873,\n",
       "   0.7238826751708984,\n",
       "   0.7160944938659668,\n",
       "   0.700350284576416,\n",
       "   0.7412344813346863,\n",
       "   0.7759261131286621,\n",
       "   0.7494397759437561,\n",
       "   0.7277030348777771,\n",
       "   0.7609644532203674,\n",
       "   0.7027284502983093,\n",
       "   0.7231748700141907,\n",
       "   0.7196673154830933,\n",
       "   0.6959695219993591,\n",
       "   0.7353187203407288,\n",
       "   0.7356048226356506,\n",
       "   0.7599804401397705,\n",
       "   0.7466278672218323,\n",
       "   0.7347841262817383,\n",
       "   0.7285375595092773,\n",
       "   0.7414819002151489,\n",
       "   0.746531069278717,\n",
       "   0.7183732390403748,\n",
       "   0.7113483548164368,\n",
       "   0.7220616340637207,\n",
       "   0.7461434006690979,\n",
       "   0.7023093700408936,\n",
       "   0.7481107711791992,\n",
       "   0.722392201423645,\n",
       "   0.7563455104827881,\n",
       "   0.7389771938323975,\n",
       "   0.7197253704071045,\n",
       "   0.7582507729530334,\n",
       "   0.72991544008255,\n",
       "   0.7373173832893372,\n",
       "   0.7086383104324341,\n",
       "   0.7473388910293579,\n",
       "   0.7462762594223022,\n",
       "   0.710181474685669,\n",
       "   0.7122409343719482,\n",
       "   0.7341769337654114,\n",
       "   0.7198719382286072,\n",
       "   0.7151830792427063,\n",
       "   0.7329473495483398,\n",
       "   0.7289506793022156,\n",
       "   ...]})"
      ]
     },
     "execution_count": 17,
     "metadata": {},
     "output_type": "execute_result"
    },
    {
     "data": {
      "image/png": "[encoded data removed]",
      "text/plain": [
       "<Figure size 432x288 with 1 Axes>"
      ]
     },
     "metadata": {
      "needs_background": "light"
     },
     "output_type": "display_data"
    }
   ],
   "source": [
    "run_expr_pseudo(n_batch=500, iters=5000)"
   ]
  },
  {
   "cell_type": "code",
   "execution_count": 18,
   "id": "hungry-physics",
   "metadata": {},
   "outputs": [
    {
     "data": {
      "text/plain": [
       "[<matplotlib.lines.Line2D at 0x7ff17014ae80>]"
      ]
     },
     "execution_count": 18,
     "metadata": {},
     "output_type": "execute_result"
    },
    {
     "data": {
      "image/png": "[encoded data removed]",
      "text/plain": [
       "<Figure size 432x288 with 1 Axes>"
      ]
     },
     "metadata": {
      "needs_background": "light"
     },
     "output_type": "display_data"
    }
   ],
   "source": [
    "plt.plot(history['loss'])"
   ]
  },
  {
   "cell_type": "code",
   "execution_count": 19,
   "id": "confident-approach",
   "metadata": {},
   "outputs": [],
   "source": [
    "Mbar_pseudo = torch.from_numpy(np.load(f'dicerolls4_training_results/Mbar_pseudo_{500}_{4999}.npy'))\n",
    "M_pseudo = torch.from_numpy(np.load(f'dicerolls4_training_results/M_pseudo_{500}_{4999}.npy'))"
   ]
  },
  {
   "cell_type": "code",
   "execution_count": 20,
   "id": "italic-necessity",
   "metadata": {},
   "outputs": [
    {
     "data": {
      "text/plain": [
       "<matplotlib.image.AxesImage at 0x7ff1701227c0>"
      ]
     },
     "execution_count": 20,
     "metadata": {},
     "output_type": "execute_result"
    },
    {
     "data": {
      "image/png": "[encoded data removed]",
      "text/plain": [
       "<Figure size 432x288 with 1 Axes>"
      ]
     },
     "metadata": {
      "needs_background": "light"
     },
     "output_type": "display_data"
    }
   ],
   "source": [
    "plt.imshow(torch.exp(Mbar_pseudo))"
   ]
  },
  {
   "cell_type": "code",
   "execution_count": 21,
   "id": "terminal-benchmark",
   "metadata": {},
   "outputs": [
    {
     "data": {
      "text/plain": [
       "<matplotlib.image.AxesImage at 0x7ff1700f3e50>"
      ]
     },
     "execution_count": 21,
     "metadata": {},
     "output_type": "execute_result"
    },
    {
     "data": {
      "image/png": "[encoded data removed]",
      "text/plain": [
       "<Figure size 432x288 with 1 Axes>"
      ]
     },
     "metadata": {
      "needs_background": "light"
     },
     "output_type": "display_data"
    }
   ],
   "source": [
    "plt.imshow(torch.exp(M_pseudo))"
   ]
  },
  {
   "cell_type": "code",
   "execution_count": 22,
   "id": "facial-security",
   "metadata": {},
   "outputs": [
    {
     "data": {
      "text/plain": [
       "tensor(0.0181, dtype=torch.float64)"
      ]
     },
     "execution_count": 22,
     "metadata": {},
     "output_type": "execute_result"
    }
   ],
   "source": [
    "# Compare Mbar with xy\n",
    "F_pseudo = torch.exp(Mbar_pseudo)\n",
    "F_pseudo_normalized = F_pseudo/torch.sum(F_pseudo)\n",
    "log_F_pseudo_normalized = torch.log(F_pseudo_normalized)\n",
    "\n",
    "F.kl_div(log_F_pseudo_normalized, torch.from_numpy(xy))"
   ]
  },
  {
   "cell_type": "code",
   "execution_count": null,
   "id": "exterior-valuation",
   "metadata": {},
   "outputs": [],
   "source": []
  },
  {
   "cell_type": "code",
   "execution_count": 23,
   "id": "nominated-century",
   "metadata": {},
   "outputs": [],
   "source": [
    "def run_expr_infoNCE(n_batch, iters):\n",
    "    '''\n",
    "    infoNCE\n",
    "    '''\n",
    "    torch.manual_seed(42)\n",
    "    \n",
    "    M = torch.randn((x.shape[0],y.shape[0]), requires_grad = True)\n",
    "    print(M[0, :5])\n",
    "    \n",
    "    optimizer = torch.optim.SGD([M],1, 0.99)\n",
    "    Mbar = M.data\n",
    "    \n",
    "    history = {'loss':[]}\n",
    "    \n",
    "    for iteration in tqdm(range(1,iters)):\n",
    "\n",
    "        samples = [np.random.choice(range(xy.reshape(-1).shape[0]), p=xy.reshape(-1)) for i in range(n_batch)]\n",
    "        samples = np.array([(yi//(y.shape[0]), yi%(y.shape[0])) for yi in samples])\n",
    "\n",
    "        optimizer.zero_grad()\n",
    "\n",
    "        F = torch.exp(M)\n",
    "\n",
    "        loss = 0\n",
    "        for i in range(n_batch):\n",
    "            lossi_x = F[samples[i,0],samples[i,1]]/torch.sum(F[samples[i,0], samples[:,1]])\n",
    "            lossi_y = F[samples[i,0],samples[i,1]]/torch.sum(F[samples[:,0], samples[i,1]])\n",
    "            \n",
    "            loss = loss + ((torch.log(lossi_x) + torch.log(lossi_y)) * 0.5)\n",
    "        \n",
    "        loss = -1*loss/n_batch\n",
    "        loss.backward()\n",
    "        optimizer.step()\n",
    "        history['loss'].append(loss.item())\n",
    "        Mbar = (1-1/iteration)*Mbar + (1/iteration)*M.data\n",
    "\n",
    "        if iteration % 100 == 0:\n",
    "            print(torch.var(M))\n",
    "            plt.imshow(Mbar.detach().cpu().numpy())\n",
    "            plt.savefig(f\"dicerolls4_training_results/Mbar_infoNCE_{n_batch}_{iteration}.png\")\n",
    "\n",
    "    np.save(f'dicerolls4_training_results/Mbar_infoNCE_{n_batch}_{iteration}.npy', Mbar.detach().cpu().numpy())\n",
    "    np.save(f'dicerolls4_training_results/M_infoNCE_{n_batch}_{iteration}.npy', M.detach().cpu().numpy())\n",
    "    np.save(f'dicerolls4_training_results/training_loss_infoNCE_{n_batch}_{iteration}.npy', np.array(history['loss']))\n",
    "    return M, Mbar, history"
   ]
  },
  {
   "cell_type": "code",
   "execution_count": 24,
   "id": "municipal-crazy",
   "metadata": {
    "scrolled": true
   },
   "outputs": [
    {
     "name": "stderr",
     "output_type": "stream",
     "text": [
      "  0%|          | 2/4999 [00:00<06:37, 12.57it/s]"
     ]
    },
    {
     "name": "stdout",
     "output_type": "stream",
     "text": [
      "tensor([ 1.9269,  1.4873,  0.9007, -2.1055], grad_fn=<SliceBackward>)\n"
     ]
    },
    {
     "name": "stderr",
     "output_type": "stream",
     "text": [
      "  2%|▏         | 102/4999 [00:07<06:45, 12.09it/s]"
     ]
    },
    {
     "name": "stdout",
     "output_type": "stream",
     "text": [
      "tensor(150.7521, grad_fn=<VarBackward0>)\n"
     ]
    },
    {
     "name": "stderr",
     "output_type": "stream",
     "text": [
      "  4%|▍         | 202/4999 [00:15<06:27, 12.39it/s]"
     ]
    },
    {
     "name": "stdout",
     "output_type": "stream",
     "text": [
      "tensor(288.9533, grad_fn=<VarBackward0>)\n"
     ]
    },
    {
     "name": "stderr",
     "output_type": "stream",
     "text": [
      "  6%|▌         | 302/4999 [00:23<06:32, 11.96it/s]"
     ]
    },
    {
     "name": "stdout",
     "output_type": "stream",
     "text": [
      "tensor(350.4972, grad_fn=<VarBackward0>)\n"
     ]
    },
    {
     "name": "stderr",
     "output_type": "stream",
     "text": [
      "  8%|▊         | 402/4999 [00:31<06:13, 12.31it/s]"
     ]
    },
    {
     "name": "stdout",
     "output_type": "stream",
     "text": [
      "tensor(374.4652, grad_fn=<VarBackward0>)\n"
     ]
    },
    {
     "name": "stderr",
     "output_type": "stream",
     "text": [
      " 10%|█         | 500/4999 [00:39<06:35, 11.38it/s]"
     ]
    },
    {
     "name": "stdout",
     "output_type": "stream",
     "text": [
      "tensor(383.5483, grad_fn=<VarBackward0>)\n"
     ]
    },
    {
     "name": "stderr",
     "output_type": "stream",
     "text": [
      " 12%|█▏        | 602/4999 [00:47<05:49, 12.57it/s]"
     ]
    },
    {
     "name": "stdout",
     "output_type": "stream",
     "text": [
      "tensor(386.8787, grad_fn=<VarBackward0>)\n"
     ]
    },
    {
     "name": "stderr",
     "output_type": "stream",
     "text": [
      " 14%|█▍        | 702/4999 [00:55<05:42, 12.53it/s]"
     ]
    },
    {
     "name": "stdout",
     "output_type": "stream",
     "text": [
      "tensor(388.0740, grad_fn=<VarBackward0>)\n"
     ]
    },
    {
     "name": "stderr",
     "output_type": "stream",
     "text": [
      " 16%|█▌        | 802/4999 [01:02<05:52, 11.89it/s]"
     ]
    },
    {
     "name": "stdout",
     "output_type": "stream",
     "text": [
      "tensor(388.5245, grad_fn=<VarBackward0>)\n"
     ]
    },
    {
     "name": "stderr",
     "output_type": "stream",
     "text": [
      " 18%|█▊        | 902/4999 [01:10<05:36, 12.16it/s]"
     ]
    },
    {
     "name": "stdout",
     "output_type": "stream",
     "text": [
      "tensor(388.6898, grad_fn=<VarBackward0>)\n"
     ]
    },
    {
     "name": "stderr",
     "output_type": "stream",
     "text": [
      " 20%|██        | 1002/4999 [01:18<05:25, 12.27it/s]"
     ]
    },
    {
     "name": "stdout",
     "output_type": "stream",
     "text": [
      "tensor(388.7254, grad_fn=<VarBackward0>)\n"
     ]
    },
    {
     "name": "stderr",
     "output_type": "stream",
     "text": [
      " 22%|██▏       | 1100/4999 [01:25<05:27, 11.92it/s]"
     ]
    },
    {
     "name": "stdout",
     "output_type": "stream",
     "text": [
      "tensor(388.7539, grad_fn=<VarBackward0>)\n"
     ]
    },
    {
     "name": "stderr",
     "output_type": "stream",
     "text": [
      " 24%|██▍       | 1200/4999 [01:33<05:31, 11.46it/s]"
     ]
    },
    {
     "name": "stdout",
     "output_type": "stream",
     "text": [
      "tensor(388.7814, grad_fn=<VarBackward0>)\n"
     ]
    },
    {
     "name": "stderr",
     "output_type": "stream",
     "text": [
      " 26%|██▌       | 1300/4999 [01:41<05:45, 10.71it/s]"
     ]
    },
    {
     "name": "stdout",
     "output_type": "stream",
     "text": [
      "tensor(388.8044, grad_fn=<VarBackward0>)\n"
     ]
    },
    {
     "name": "stderr",
     "output_type": "stream",
     "text": [
      " 28%|██▊       | 1400/4999 [01:50<05:16, 11.38it/s]"
     ]
    },
    {
     "name": "stdout",
     "output_type": "stream",
     "text": [
      "tensor(388.7670, grad_fn=<VarBackward0>)\n"
     ]
    },
    {
     "name": "stderr",
     "output_type": "stream",
     "text": [
      " 30%|███       | 1500/4999 [01:58<05:38, 10.34it/s]"
     ]
    },
    {
     "name": "stdout",
     "output_type": "stream",
     "text": [
      "tensor(388.7849, grad_fn=<VarBackward0>)\n"
     ]
    },
    {
     "name": "stderr",
     "output_type": "stream",
     "text": [
      " 32%|███▏      | 1600/4999 [02:06<04:52, 11.61it/s]"
     ]
    },
    {
     "name": "stdout",
     "output_type": "stream",
     "text": [
      "tensor(388.7708, grad_fn=<VarBackward0>)\n"
     ]
    },
    {
     "name": "stderr",
     "output_type": "stream",
     "text": [
      " 34%|███▍      | 1700/4999 [02:14<04:43, 11.66it/s]"
     ]
    },
    {
     "name": "stdout",
     "output_type": "stream",
     "text": [
      "tensor(388.7995, grad_fn=<VarBackward0>)\n"
     ]
    },
    {
     "name": "stderr",
     "output_type": "stream",
     "text": [
      " 36%|███▌      | 1800/4999 [02:23<04:56, 10.77it/s]"
     ]
    },
    {
     "name": "stdout",
     "output_type": "stream",
     "text": [
      "tensor(388.7729, grad_fn=<VarBackward0>)\n"
     ]
    },
    {
     "name": "stderr",
     "output_type": "stream",
     "text": [
      " 38%|███▊      | 1900/4999 [02:31<04:34, 11.30it/s]"
     ]
    },
    {
     "name": "stdout",
     "output_type": "stream",
     "text": [
      "tensor(388.7876, grad_fn=<VarBackward0>)\n"
     ]
    },
    {
     "name": "stderr",
     "output_type": "stream",
     "text": [
      " 40%|████      | 2000/4999 [02:39<04:32, 11.02it/s]"
     ]
    },
    {
     "name": "stdout",
     "output_type": "stream",
     "text": [
      "tensor(388.7761, grad_fn=<VarBackward0>)\n"
     ]
    },
    {
     "name": "stderr",
     "output_type": "stream",
     "text": [
      " 42%|████▏     | 2100/4999 [02:47<04:11, 11.53it/s]"
     ]
    },
    {
     "name": "stdout",
     "output_type": "stream",
     "text": [
      "tensor(388.8120, grad_fn=<VarBackward0>)\n"
     ]
    },
    {
     "name": "stderr",
     "output_type": "stream",
     "text": [
      " 44%|████▍     | 2200/4999 [02:54<04:06, 11.36it/s]"
     ]
    },
    {
     "name": "stdout",
     "output_type": "stream",
     "text": [
      "tensor(388.7824, grad_fn=<VarBackward0>)\n"
     ]
    },
    {
     "name": "stderr",
     "output_type": "stream",
     "text": [
      " 46%|████▌     | 2300/4999 [03:02<04:03, 11.08it/s]"
     ]
    },
    {
     "name": "stdout",
     "output_type": "stream",
     "text": [
      "tensor(388.7819, grad_fn=<VarBackward0>)\n"
     ]
    },
    {
     "name": "stderr",
     "output_type": "stream",
     "text": [
      " 48%|████▊     | 2400/4999 [03:10<03:48, 11.37it/s]"
     ]
    },
    {
     "name": "stdout",
     "output_type": "stream",
     "text": [
      "tensor(388.7654, grad_fn=<VarBackward0>)\n"
     ]
    },
    {
     "name": "stderr",
     "output_type": "stream",
     "text": [
      " 50%|█████     | 2500/4999 [03:18<03:52, 10.75it/s]"
     ]
    },
    {
     "name": "stdout",
     "output_type": "stream",
     "text": [
      "tensor(388.7963, grad_fn=<VarBackward0>)\n"
     ]
    },
    {
     "name": "stderr",
     "output_type": "stream",
     "text": [
      " 52%|█████▏    | 2600/4999 [03:26<04:02,  9.89it/s]"
     ]
    },
    {
     "name": "stdout",
     "output_type": "stream",
     "text": [
      "tensor(388.7718, grad_fn=<VarBackward0>)\n"
     ]
    },
    {
     "name": "stderr",
     "output_type": "stream",
     "text": [
      " 54%|█████▍    | 2700/4999 [03:34<03:40, 10.43it/s]"
     ]
    },
    {
     "name": "stdout",
     "output_type": "stream",
     "text": [
      "tensor(388.7772, grad_fn=<VarBackward0>)\n"
     ]
    },
    {
     "name": "stderr",
     "output_type": "stream",
     "text": [
      " 56%|█████▌    | 2800/4999 [03:42<03:19, 11.03it/s]"
     ]
    },
    {
     "name": "stdout",
     "output_type": "stream",
     "text": [
      "tensor(388.7821, grad_fn=<VarBackward0>)\n"
     ]
    },
    {
     "name": "stderr",
     "output_type": "stream",
     "text": [
      " 58%|█████▊    | 2900/4999 [03:50<03:14, 10.79it/s]"
     ]
    },
    {
     "name": "stdout",
     "output_type": "stream",
     "text": [
      "tensor(388.7747, grad_fn=<VarBackward0>)\n"
     ]
    },
    {
     "name": "stderr",
     "output_type": "stream",
     "text": [
      " 60%|██████    | 3000/4999 [03:58<03:11, 10.43it/s]"
     ]
    },
    {
     "name": "stdout",
     "output_type": "stream",
     "text": [
      "tensor(388.7773, grad_fn=<VarBackward0>)\n"
     ]
    },
    {
     "name": "stderr",
     "output_type": "stream",
     "text": [
      " 62%|██████▏   | 3100/4999 [04:06<02:59, 10.57it/s]"
     ]
    },
    {
     "name": "stdout",
     "output_type": "stream",
     "text": [
      "tensor(388.7626, grad_fn=<VarBackward0>)\n"
     ]
    },
    {
     "name": "stderr",
     "output_type": "stream",
     "text": [
      " 64%|██████▍   | 3200/4999 [04:14<02:48, 10.65it/s]"
     ]
    },
    {
     "name": "stdout",
     "output_type": "stream",
     "text": [
      "tensor(388.7900, grad_fn=<VarBackward0>)\n"
     ]
    },
    {
     "name": "stderr",
     "output_type": "stream",
     "text": [
      " 66%|██████▌   | 3300/4999 [04:22<02:40, 10.61it/s]"
     ]
    },
    {
     "name": "stdout",
     "output_type": "stream",
     "text": [
      "tensor(388.7816, grad_fn=<VarBackward0>)\n"
     ]
    },
    {
     "name": "stderr",
     "output_type": "stream",
     "text": [
      " 68%|██████▊   | 3400/4999 [04:30<02:26, 10.91it/s]"
     ]
    },
    {
     "name": "stdout",
     "output_type": "stream",
     "text": [
      "tensor(388.7826, grad_fn=<VarBackward0>)\n"
     ]
    },
    {
     "name": "stderr",
     "output_type": "stream",
     "text": [
      " 70%|███████   | 3500/4999 [04:38<02:17, 10.90it/s]"
     ]
    },
    {
     "name": "stdout",
     "output_type": "stream",
     "text": [
      "tensor(388.8005, grad_fn=<VarBackward0>)\n"
     ]
    },
    {
     "name": "stderr",
     "output_type": "stream",
     "text": [
      " 72%|███████▏  | 3600/4999 [04:46<02:09, 10.82it/s]"
     ]
    },
    {
     "name": "stdout",
     "output_type": "stream",
     "text": [
      "tensor(388.7581, grad_fn=<VarBackward0>)\n"
     ]
    },
    {
     "name": "stderr",
     "output_type": "stream",
     "text": [
      " 74%|███████▍  | 3700/4999 [04:53<02:00, 10.78it/s]"
     ]
    },
    {
     "name": "stdout",
     "output_type": "stream",
     "text": [
      "tensor(388.7755, grad_fn=<VarBackward0>)\n"
     ]
    },
    {
     "name": "stderr",
     "output_type": "stream",
     "text": [
      " 76%|███████▌  | 3800/4999 [05:01<01:51, 10.72it/s]"
     ]
    },
    {
     "name": "stdout",
     "output_type": "stream",
     "text": [
      "tensor(388.8045, grad_fn=<VarBackward0>)\n"
     ]
    },
    {
     "name": "stderr",
     "output_type": "stream",
     "text": [
      " 78%|███████▊  | 3900/4999 [05:09<01:42, 10.69it/s]"
     ]
    },
    {
     "name": "stdout",
     "output_type": "stream",
     "text": [
      "tensor(388.7821, grad_fn=<VarBackward0>)\n"
     ]
    },
    {
     "name": "stderr",
     "output_type": "stream",
     "text": [
      " 80%|████████  | 4000/4999 [05:16<01:35, 10.44it/s]"
     ]
    },
    {
     "name": "stdout",
     "output_type": "stream",
     "text": [
      "tensor(388.7570, grad_fn=<VarBackward0>)\n"
     ]
    },
    {
     "name": "stderr",
     "output_type": "stream",
     "text": [
      " 82%|████████▏ | 4100/4999 [05:24<01:24, 10.63it/s]"
     ]
    },
    {
     "name": "stdout",
     "output_type": "stream",
     "text": [
      "tensor(388.7927, grad_fn=<VarBackward0>)\n"
     ]
    },
    {
     "name": "stderr",
     "output_type": "stream",
     "text": [
      " 84%|████████▍ | 4200/4999 [05:32<01:15, 10.61it/s]"
     ]
    },
    {
     "name": "stdout",
     "output_type": "stream",
     "text": [
      "tensor(388.7813, grad_fn=<VarBackward0>)\n"
     ]
    },
    {
     "name": "stderr",
     "output_type": "stream",
     "text": [
      " 86%|████████▌ | 4300/4999 [05:40<01:06, 10.52it/s]"
     ]
    },
    {
     "name": "stdout",
     "output_type": "stream",
     "text": [
      "tensor(388.7752, grad_fn=<VarBackward0>)\n"
     ]
    },
    {
     "name": "stderr",
     "output_type": "stream",
     "text": [
      " 88%|████████▊ | 4400/4999 [05:47<00:57, 10.49it/s]"
     ]
    },
    {
     "name": "stdout",
     "output_type": "stream",
     "text": [
      "tensor(388.7671, grad_fn=<VarBackward0>)\n"
     ]
    },
    {
     "name": "stderr",
     "output_type": "stream",
     "text": [
      " 90%|█████████ | 4500/4999 [05:55<00:47, 10.47it/s]"
     ]
    },
    {
     "name": "stdout",
     "output_type": "stream",
     "text": [
      "tensor(388.7849, grad_fn=<VarBackward0>)\n"
     ]
    },
    {
     "name": "stderr",
     "output_type": "stream",
     "text": [
      " 92%|█████████▏| 4600/4999 [06:03<00:38, 10.41it/s]"
     ]
    },
    {
     "name": "stdout",
     "output_type": "stream",
     "text": [
      "tensor(388.7607, grad_fn=<VarBackward0>)\n"
     ]
    },
    {
     "name": "stderr",
     "output_type": "stream",
     "text": [
      " 94%|█████████▍| 4700/4999 [06:10<00:28, 10.36it/s]"
     ]
    },
    {
     "name": "stdout",
     "output_type": "stream",
     "text": [
      "tensor(388.8150, grad_fn=<VarBackward0>)\n"
     ]
    },
    {
     "name": "stderr",
     "output_type": "stream",
     "text": [
      " 96%|█████████▌| 4800/4999 [06:18<00:19, 10.33it/s]"
     ]
    },
    {
     "name": "stdout",
     "output_type": "stream",
     "text": [
      "tensor(388.7748, grad_fn=<VarBackward0>)\n"
     ]
    },
    {
     "name": "stderr",
     "output_type": "stream",
     "text": [
      " 98%|█████████▊| 4900/4999 [06:26<00:09, 10.26it/s]"
     ]
    },
    {
     "name": "stdout",
     "output_type": "stream",
     "text": [
      "tensor(388.7585, grad_fn=<VarBackward0>)\n"
     ]
    },
    {
     "name": "stderr",
     "output_type": "stream",
     "text": [
      "100%|██████████| 4999/4999 [06:33<00:00, 12.69it/s]\n"
     ]
    },
    {
     "data": {
      "text/plain": [
       "(tensor([[ 33.7882, -20.0529, -26.5051,  -5.1180],\n",
       "         [-14.3905,  23.7834, -30.8919, -13.0897],\n",
       "         [ -5.2999,  22.4265,  23.1065, -15.7244],\n",
       "         [ -6.8333, -30.0189,  22.5094,  22.3546],\n",
       "         [ -5.2077, -13.3688,  22.0231,  22.7698],\n",
       "         [ -4.5042, -12.6067, -14.0170,  23.0268],\n",
       "         [ -2.4659, -18.0807,  -9.0755,  23.0565]], requires_grad=True),\n",
       " tensor([[ 33.1321, -19.6104, -25.9466,  -5.0543],\n",
       "         [-14.0829,  23.3839, -30.2667, -12.8531],\n",
       "         [ -5.2052,  22.1665,  22.4631, -15.4262],\n",
       "         [ -6.7151, -29.4068,  22.1501,  21.8061],\n",
       "         [ -5.1258, -13.1033,  21.6554,  22.1333],\n",
       "         [ -4.4218, -12.3464, -13.7446,  22.5258],\n",
       "         [ -2.4468, -17.6879,  -8.9054,  22.5284]]),\n",
       " {'loss': [6.4740800857543945,\n",
       "   6.373298168182373,\n",
       "   6.2187066078186035,\n",
       "   6.090205669403076,\n",
       "   5.8899383544921875,\n",
       "   5.706971168518066,\n",
       "   5.633180141448975,\n",
       "   5.59757661819458,\n",
       "   5.562318801879883,\n",
       "   5.656633377075195,\n",
       "   5.662303924560547,\n",
       "   5.762720108032227,\n",
       "   5.881912708282471,\n",
       "   5.7501678466796875,\n",
       "   5.785555362701416,\n",
       "   5.8191375732421875,\n",
       "   5.744320392608643,\n",
       "   5.7885003089904785,\n",
       "   5.730741500854492,\n",
       "   5.776356220245361,\n",
       "   5.670093536376953,\n",
       "   5.7278289794921875,\n",
       "   5.650469779968262,\n",
       "   5.5983381271362305,\n",
       "   5.681906700134277,\n",
       "   5.661822319030762,\n",
       "   5.672337055206299,\n",
       "   5.66895866394043,\n",
       "   5.594087600708008,\n",
       "   5.685883045196533,\n",
       "   5.614791393280029,\n",
       "   5.664952754974365,\n",
       "   5.7270426750183105,\n",
       "   5.677938461303711,\n",
       "   5.694357395172119,\n",
       "   5.710243225097656,\n",
       "   5.639959335327148,\n",
       "   5.599728107452393,\n",
       "   5.609269142150879,\n",
       "   5.55241060256958,\n",
       "   5.518701076507568,\n",
       "   5.546435832977295,\n",
       "   5.6125030517578125,\n",
       "   5.653292655944824,\n",
       "   5.555558204650879,\n",
       "   5.694705486297607,\n",
       "   5.6410813331604,\n",
       "   5.5935750007629395,\n",
       "   5.6374359130859375,\n",
       "   5.729160785675049,\n",
       "   5.664130210876465,\n",
       "   5.635628700256348,\n",
       "   5.695267677307129,\n",
       "   5.624929428100586,\n",
       "   5.586185455322266,\n",
       "   5.540974140167236,\n",
       "   5.542027950286865,\n",
       "   5.498630046844482,\n",
       "   5.500388145446777,\n",
       "   5.456135272979736,\n",
       "   5.4851298332214355,\n",
       "   5.520698547363281,\n",
       "   5.555601596832275,\n",
       "   5.548513412475586,\n",
       "   5.582170486450195,\n",
       "   5.604512691497803,\n",
       "   5.5986504554748535,\n",
       "   5.5531005859375,\n",
       "   5.558700084686279,\n",
       "   5.5465240478515625,\n",
       "   5.557021141052246,\n",
       "   5.576258659362793,\n",
       "   5.484882354736328,\n",
       "   5.628788948059082,\n",
       "   5.654999256134033,\n",
       "   5.4997639656066895,\n",
       "   5.591406345367432,\n",
       "   5.607565402984619,\n",
       "   5.651529788970947,\n",
       "   5.563552379608154,\n",
       "   5.5761895179748535,\n",
       "   5.603000164031982,\n",
       "   5.577728748321533,\n",
       "   5.5547966957092285,\n",
       "   5.571222305297852,\n",
       "   5.529502868652344,\n",
       "   5.6261138916015625,\n",
       "   5.574965476989746,\n",
       "   5.489766597747803,\n",
       "   5.474337100982666,\n",
       "   5.487277507781982,\n",
       "   5.458076000213623,\n",
       "   5.490476131439209,\n",
       "   5.457327365875244,\n",
       "   5.486151218414307,\n",
       "   5.5439558029174805,\n",
       "   5.601680755615234,\n",
       "   5.645374298095703,\n",
       "   5.597434997558594,\n",
       "   5.551204681396484,\n",
       "   5.482049465179443,\n",
       "   5.464109420776367,\n",
       "   5.4584784507751465,\n",
       "   5.488095760345459,\n",
       "   5.532486915588379,\n",
       "   5.5063581466674805,\n",
       "   5.548328876495361,\n",
       "   5.520462512969971,\n",
       "   5.500452518463135,\n",
       "   5.5208964347839355,\n",
       "   5.465683937072754,\n",
       "   5.462099552154541,\n",
       "   5.561631679534912,\n",
       "   5.536777496337891,\n",
       "   5.532652854919434,\n",
       "   5.62148904800415,\n",
       "   5.5634660720825195,\n",
       "   5.601731777191162,\n",
       "   5.516116142272949,\n",
       "   5.561681747436523,\n",
       "   5.488020896911621,\n",
       "   5.593432426452637,\n",
       "   5.528649806976318,\n",
       "   5.607345104217529,\n",
       "   5.548541069030762,\n",
       "   5.57119083404541,\n",
       "   5.542520999908447,\n",
       "   5.496998310089111,\n",
       "   5.4666008949279785,\n",
       "   5.529479026794434,\n",
       "   5.519121170043945,\n",
       "   5.527311325073242,\n",
       "   5.431214809417725,\n",
       "   5.456094741821289,\n",
       "   5.439840793609619,\n",
       "   5.5693817138671875,\n",
       "   5.426174640655518,\n",
       "   5.548880100250244,\n",
       "   5.469790458679199,\n",
       "   5.526265621185303,\n",
       "   5.498589038848877,\n",
       "   5.438348770141602,\n",
       "   5.544635772705078,\n",
       "   5.548388481140137,\n",
       "   5.529311656951904,\n",
       "   5.565389633178711,\n",
       "   5.490582466125488,\n",
       "   5.5340256690979,\n",
       "   5.479954242706299,\n",
       "   5.473412036895752,\n",
       "   5.44956636428833,\n",
       "   5.51552152633667,\n",
       "   5.524764060974121,\n",
       "   5.5049285888671875,\n",
       "   5.519678115844727,\n",
       "   5.486120700836182,\n",
       "   5.508738994598389,\n",
       "   5.42977237701416,\n",
       "   5.426436901092529,\n",
       "   5.4743523597717285,\n",
       "   5.51971960067749,\n",
       "   5.5213189125061035,\n",
       "   5.489753246307373,\n",
       "   5.571371555328369,\n",
       "   5.60629940032959,\n",
       "   5.427026748657227,\n",
       "   5.517345428466797,\n",
       "   5.454155445098877,\n",
       "   5.430513381958008,\n",
       "   5.440036296844482,\n",
       "   5.451877593994141,\n",
       "   5.498136520385742,\n",
       "   5.5313544273376465,\n",
       "   5.455237865447998,\n",
       "   5.494665145874023,\n",
       "   5.435396194458008,\n",
       "   5.47592306137085,\n",
       "   5.410747051239014,\n",
       "   5.445343971252441,\n",
       "   5.410605430603027,\n",
       "   5.454372882843018,\n",
       "   5.4861602783203125,\n",
       "   5.471174240112305,\n",
       "   5.449583530426025,\n",
       "   5.503666877746582,\n",
       "   5.409683704376221,\n",
       "   5.439113140106201,\n",
       "   5.50514554977417,\n",
       "   5.473800182342529,\n",
       "   5.490437984466553,\n",
       "   5.5029096603393555,\n",
       "   5.404415130615234,\n",
       "   5.456356525421143,\n",
       "   5.407026290893555,\n",
       "   5.432037830352783,\n",
       "   5.470325946807861,\n",
       "   5.434063911437988,\n",
       "   5.432738304138184,\n",
       "   5.461160659790039,\n",
       "   5.466882705688477,\n",
       "   5.449108600616455,\n",
       "   5.446185111999512,\n",
       "   5.401547431945801,\n",
       "   5.397831916809082,\n",
       "   5.434399604797363,\n",
       "   5.434246063232422,\n",
       "   5.40980863571167,\n",
       "   5.468554973602295,\n",
       "   5.439336776733398,\n",
       "   5.48035192489624,\n",
       "   5.5428147315979,\n",
       "   5.463174819946289,\n",
       "   5.401066780090332,\n",
       "   5.506175518035889,\n",
       "   5.4563775062561035,\n",
       "   5.428415298461914,\n",
       "   5.41728401184082,\n",
       "   5.4597859382629395,\n",
       "   5.429993152618408,\n",
       "   5.439008712768555,\n",
       "   5.4360504150390625,\n",
       "   5.50563383102417,\n",
       "   5.446296215057373,\n",
       "   5.400105953216553,\n",
       "   5.428073883056641,\n",
       "   5.395504951477051,\n",
       "   5.365907669067383,\n",
       "   5.469596862792969,\n",
       "   5.405383586883545,\n",
       "   5.467196941375732,\n",
       "   5.5102434158325195,\n",
       "   5.448587894439697,\n",
       "   5.423314094543457,\n",
       "   5.429501533508301,\n",
       "   5.44870138168335,\n",
       "   5.411247730255127,\n",
       "   5.455928325653076,\n",
       "   5.458231449127197,\n",
       "   5.431532859802246,\n",
       "   5.535245895385742,\n",
       "   5.3815083503723145,\n",
       "   5.4564361572265625,\n",
       "   5.476329326629639,\n",
       "   5.438294410705566,\n",
       "   5.413976192474365,\n",
       "   5.427130699157715,\n",
       "   5.436882972717285,\n",
       "   5.442552089691162,\n",
       "   5.480082988739014,\n",
       "   5.455569744110107,\n",
       "   5.450455665588379,\n",
       "   5.429193019866943,\n",
       "   5.529311656951904,\n",
       "   5.457298278808594,\n",
       "   5.457736968994141,\n",
       "   5.44232702255249,\n",
       "   5.425307750701904,\n",
       "   5.436341285705566,\n",
       "   5.436715602874756,\n",
       "   5.408662796020508,\n",
       "   5.401703357696533,\n",
       "   5.402002811431885,\n",
       "   5.335651874542236,\n",
       "   5.3692708015441895,\n",
       "   5.423699855804443,\n",
       "   5.409883975982666,\n",
       "   5.437201976776123,\n",
       "   5.397916316986084,\n",
       "   5.413264751434326,\n",
       "   5.427166938781738,\n",
       "   5.413290023803711,\n",
       "   5.412014961242676,\n",
       "   5.4778947830200195,\n",
       "   5.454774856567383,\n",
       "   5.435490131378174,\n",
       "   5.441040992736816,\n",
       "   5.435957431793213,\n",
       "   5.465457916259766,\n",
       "   5.451604843139648,\n",
       "   5.41895866394043,\n",
       "   5.435171604156494,\n",
       "   5.435125827789307,\n",
       "   5.391172885894775,\n",
       "   5.447118282318115,\n",
       "   5.39462423324585,\n",
       "   5.402041912078857,\n",
       "   5.427289962768555,\n",
       "   5.481128692626953,\n",
       "   5.434391498565674,\n",
       "   5.430690765380859,\n",
       "   5.4218621253967285,\n",
       "   5.378994941711426,\n",
       "   5.484095096588135,\n",
       "   5.4576568603515625,\n",
       "   5.434994220733643,\n",
       "   5.403196811676025,\n",
       "   5.435207366943359,\n",
       "   5.45123815536499,\n",
       "   5.5123724937438965,\n",
       "   5.439579963684082,\n",
       "   5.423026084899902,\n",
       "   5.399068832397461,\n",
       "   5.3913984298706055,\n",
       "   5.434025764465332,\n",
       "   5.4498820304870605,\n",
       "   5.447816848754883,\n",
       "   5.423283576965332,\n",
       "   5.41960334777832,\n",
       "   5.372611999511719,\n",
       "   5.3984904289245605,\n",
       "   5.36570930480957,\n",
       "   5.3740763664245605,\n",
       "   5.36011266708374,\n",
       "   5.431732654571533,\n",
       "   5.439073085784912,\n",
       "   5.401895523071289,\n",
       "   5.451501369476318,\n",
       "   5.391030788421631,\n",
       "   5.396971225738525,\n",
       "   5.480329513549805,\n",
       "   5.45155668258667,\n",
       "   5.4620771408081055,\n",
       "   5.429740905761719,\n",
       "   5.457858085632324,\n",
       "   5.434780597686768,\n",
       "   5.475015163421631,\n",
       "   5.445982456207275,\n",
       "   5.39701509475708,\n",
       "   5.414622783660889,\n",
       "   5.403133392333984,\n",
       "   5.450397491455078,\n",
       "   5.374837875366211,\n",
       "   5.454177379608154,\n",
       "   5.442965507507324,\n",
       "   5.396459102630615,\n",
       "   5.427450180053711,\n",
       "   5.411086082458496,\n",
       "   5.421886444091797,\n",
       "   5.4038004875183105,\n",
       "   5.429806709289551,\n",
       "   5.445921897888184,\n",
       "   5.433590888977051,\n",
       "   5.435171127319336,\n",
       "   5.399521827697754,\n",
       "   5.434242248535156,\n",
       "   5.430661678314209,\n",
       "   5.377615451812744,\n",
       "   5.410775661468506,\n",
       "   5.450259208679199,\n",
       "   5.422589302062988,\n",
       "   5.419437408447266,\n",
       "   5.363076210021973,\n",
       "   5.424726486206055,\n",
       "   5.400348663330078,\n",
       "   5.407526969909668,\n",
       "   5.405613422393799,\n",
       "   5.440807819366455,\n",
       "   5.436910629272461,\n",
       "   5.383185386657715,\n",
       "   5.417373180389404,\n",
       "   5.4334797859191895,\n",
       "   5.385951995849609,\n",
       "   5.414116859436035,\n",
       "   5.443114757537842,\n",
       "   5.423421382904053,\n",
       "   5.410860061645508,\n",
       "   5.3904852867126465,\n",
       "   5.400519847869873,\n",
       "   5.426939010620117,\n",
       "   5.435103416442871,\n",
       "   5.384945392608643,\n",
       "   5.38997220993042,\n",
       "   5.382726192474365,\n",
       "   5.446186542510986,\n",
       "   5.478000640869141,\n",
       "   5.4418768882751465,\n",
       "   5.441481590270996,\n",
       "   5.4229888916015625,\n",
       "   5.443974018096924,\n",
       "   5.3600287437438965,\n",
       "   5.429996013641357,\n",
       "   5.446841239929199,\n",
       "   5.43854284286499,\n",
       "   5.41996431350708,\n",
       "   5.418184757232666,\n",
       "   5.4400410652160645,\n",
       "   5.3475751876831055,\n",
       "   5.4030632972717285,\n",
       "   5.351988315582275,\n",
       "   5.4576592445373535,\n",
       "   5.4294843673706055,\n",
       "   5.345251083374023,\n",
       "   5.453925132751465,\n",
       "   5.408539772033691,\n",
       "   5.367805004119873,\n",
       "   5.447202205657959,\n",
       "   5.402047157287598,\n",
       "   5.38987398147583,\n",
       "   5.394048690795898,\n",
       "   5.395089149475098,\n",
       "   5.427128791809082,\n",
       "   5.415637493133545,\n",
       "   5.433216094970703,\n",
       "   5.4459075927734375,\n",
       "   5.4330525398254395,\n",
       "   5.396614074707031,\n",
       "   5.431292533874512,\n",
       "   5.355759143829346,\n",
       "   5.45184850692749,\n",
       "   5.414261341094971,\n",
       "   5.383570671081543,\n",
       "   5.4046454429626465,\n",
       "   5.393599510192871,\n",
       "   5.430039405822754,\n",
       "   5.409261703491211,\n",
       "   5.403247833251953,\n",
       "   5.418096542358398,\n",
       "   5.439010143280029,\n",
       "   5.42999267578125,\n",
       "   5.445564270019531,\n",
       "   5.424674987792969,\n",
       "   5.419549465179443,\n",
       "   5.413835525512695,\n",
       "   5.3666558265686035,\n",
       "   5.39348030090332,\n",
       "   5.445230960845947,\n",
       "   5.421465873718262,\n",
       "   5.406375885009766,\n",
       "   5.41945219039917,\n",
       "   5.379449367523193,\n",
       "   5.4898552894592285,\n",
       "   5.400459289550781,\n",
       "   5.447823524475098,\n",
       "   5.376075744628906,\n",
       "   5.4380035400390625,\n",
       "   5.4007439613342285,\n",
       "   5.376074314117432,\n",
       "   5.401800632476807,\n",
       "   5.387781620025635,\n",
       "   5.393857955932617,\n",
       "   5.416560173034668,\n",
       "   5.419442653656006,\n",
       "   5.427968978881836,\n",
       "   5.42910623550415,\n",
       "   5.423201560974121,\n",
       "   5.449116230010986,\n",
       "   5.41909646987915,\n",
       "   5.405242443084717,\n",
       "   5.373836994171143,\n",
       "   5.399259090423584,\n",
       "   5.361505031585693,\n",
       "   5.40693998336792,\n",
       "   5.378749370574951,\n",
       "   5.386343479156494,\n",
       "   5.411810398101807,\n",
       "   5.371702671051025,\n",
       "   5.373997688293457,\n",
       "   5.3809285163879395,\n",
       "   5.414539337158203,\n",
       "   5.432600021362305,\n",
       "   5.385765075683594,\n",
       "   5.468379020690918,\n",
       "   5.369876861572266,\n",
       "   5.401771068572998,\n",
       "   5.364285945892334,\n",
       "   5.415596961975098,\n",
       "   5.406642913818359,\n",
       "   5.464908123016357,\n",
       "   5.40427303314209,\n",
       "   5.4144816398620605,\n",
       "   5.39826774597168,\n",
       "   5.427761554718018,\n",
       "   5.389631271362305,\n",
       "   5.3824286460876465,\n",
       "   5.3956804275512695,\n",
       "   5.382297992706299,\n",
       "   5.430936336517334,\n",
       "   5.392271518707275,\n",
       "   5.428520679473877,\n",
       "   5.389251232147217,\n",
       "   5.4085540771484375,\n",
       "   5.4159345626831055,\n",
       "   5.4398088455200195,\n",
       "   5.402570724487305,\n",
       "   5.484194278717041,\n",
       "   5.434219837188721,\n",
       "   5.43243408203125,\n",
       "   5.430008888244629,\n",
       "   5.369785785675049,\n",
       "   5.4058732986450195,\n",
       "   5.344647407531738,\n",
       "   5.437568664550781,\n",
       "   5.34602165222168,\n",
       "   5.4462480545043945,\n",
       "   5.39905309677124,\n",
       "   5.384854793548584,\n",
       "   5.4215168952941895,\n",
       "   5.362903594970703,\n",
       "   5.394542694091797,\n",
       "   5.418276309967041,\n",
       "   5.400717258453369,\n",
       "   5.439551830291748,\n",
       "   5.323951244354248,\n",
       "   5.4152703285217285,\n",
       "   5.3976850509643555,\n",
       "   5.40690803527832,\n",
       "   5.3525166511535645,\n",
       "   5.413349628448486,\n",
       "   5.433977127075195,\n",
       "   5.387197971343994,\n",
       "   5.3769330978393555,\n",
       "   5.409385681152344,\n",
       "   5.409056663513184,\n",
       "   5.376651763916016,\n",
       "   5.426265716552734,\n",
       "   5.340898513793945,\n",
       "   5.438063621520996,\n",
       "   5.376224994659424,\n",
       "   5.437030792236328,\n",
       "   5.423483848571777,\n",
       "   5.372045040130615,\n",
       "   5.438501834869385,\n",
       "   5.3897929191589355,\n",
       "   5.366623878479004,\n",
       "   5.371960163116455,\n",
       "   5.457426071166992,\n",
       "   5.405603885650635,\n",
       "   5.441401958465576,\n",
       "   5.443075180053711,\n",
       "   5.440869331359863,\n",
       "   5.415271759033203,\n",
       "   5.360022068023682,\n",
       "   5.396254539489746,\n",
       "   5.373958587646484,\n",
       "   5.429029941558838,\n",
       "   5.392548561096191,\n",
       "   5.4341278076171875,\n",
       "   5.405028820037842,\n",
       "   5.430719375610352,\n",
       "   5.446385860443115,\n",
       "   5.373637676239014,\n",
       "   5.411052703857422,\n",
       "   5.424666881561279,\n",
       "   5.445761203765869,\n",
       "   5.4562811851501465,\n",
       "   5.4552741050720215,\n",
       "   5.44815731048584,\n",
       "   5.450345039367676,\n",
       "   5.35941743850708,\n",
       "   5.389988422393799,\n",
       "   5.444349765777588,\n",
       "   5.42616081237793,\n",
       "   5.395781517028809,\n",
       "   5.387645244598389,\n",
       "   5.419454097747803,\n",
       "   5.394650936126709,\n",
       "   5.430976390838623,\n",
       "   5.371477127075195,\n",
       "   5.3754377365112305,\n",
       "   5.4009294509887695,\n",
       "   5.394104957580566,\n",
       "   5.4194440841674805,\n",
       "   5.396339416503906,\n",
       "   5.382073402404785,\n",
       "   5.438453674316406,\n",
       "   5.393097400665283,\n",
       "   5.450458526611328,\n",
       "   5.441708087921143,\n",
       "   5.416064262390137,\n",
       "   5.386390209197998,\n",
       "   5.41778564453125,\n",
       "   5.4002366065979,\n",
       "   5.432592391967773,\n",
       "   5.354849338531494,\n",
       "   5.4188385009765625,\n",
       "   5.424257278442383,\n",
       "   5.455683708190918,\n",
       "   5.433189868927002,\n",
       "   5.448204517364502,\n",
       "   5.4707794189453125,\n",
       "   5.398574352264404,\n",
       "   5.420688629150391,\n",
       "   5.384019374847412,\n",
       "   5.4115681648254395,\n",
       "   5.420809745788574,\n",
       "   5.3946380615234375,\n",
       "   5.426279067993164,\n",
       "   5.377199649810791,\n",
       "   5.4113545417785645,\n",
       "   5.333585262298584,\n",
       "   5.44445276260376,\n",
       "   5.397051811218262,\n",
       "   5.392574787139893,\n",
       "   5.406696319580078,\n",
       "   5.417788982391357,\n",
       "   5.403073787689209,\n",
       "   5.451139450073242,\n",
       "   5.425489902496338,\n",
       "   5.43796443939209,\n",
       "   5.450109958648682,\n",
       "   5.42298698425293,\n",
       "   5.417517185211182,\n",
       "   5.426397800445557,\n",
       "   5.379981517791748,\n",
       "   5.382267951965332,\n",
       "   5.404886245727539,\n",
       "   5.439624309539795,\n",
       "   5.4047112464904785,\n",
       "   5.388455867767334,\n",
       "   5.419130802154541,\n",
       "   5.394145965576172,\n",
       "   5.48328161239624,\n",
       "   5.4681243896484375,\n",
       "   5.418590068817139,\n",
       "   5.407754898071289,\n",
       "   5.38846492767334,\n",
       "   5.438015937805176,\n",
       "   5.402011394500732,\n",
       "   5.4319376945495605,\n",
       "   5.4287028312683105,\n",
       "   5.423721790313721,\n",
       "   5.451417446136475,\n",
       "   5.425782203674316,\n",
       "   5.4627532958984375,\n",
       "   5.425958633422852,\n",
       "   5.382949352264404,\n",
       "   5.427609920501709,\n",
       "   5.415188789367676,\n",
       "   5.369378566741943,\n",
       "   5.457397937774658,\n",
       "   5.376650810241699,\n",
       "   5.361713409423828,\n",
       "   5.4023213386535645,\n",
       "   5.398156642913818,\n",
       "   5.441131114959717,\n",
       "   5.398410320281982,\n",
       "   5.404931545257568,\n",
       "   5.44217586517334,\n",
       "   5.416764259338379,\n",
       "   5.450549602508545,\n",
       "   5.442180156707764,\n",
       "   5.44635009765625,\n",
       "   5.367231845855713,\n",
       "   5.413615703582764,\n",
       "   5.399560451507568,\n",
       "   5.402286052703857,\n",
       "   5.445213317871094,\n",
       "   5.390887260437012,\n",
       "   5.386663913726807,\n",
       "   5.451395511627197,\n",
       "   5.4565863609313965,\n",
       "   5.448352813720703,\n",
       "   5.398870468139648,\n",
       "   5.428895473480225,\n",
       "   5.370597839355469,\n",
       "   5.385782718658447,\n",
       "   5.4353485107421875,\n",
       "   5.35359001159668,\n",
       "   5.372603416442871,\n",
       "   5.390949726104736,\n",
       "   5.427772521972656,\n",
       "   5.3921942710876465,\n",
       "   5.408693790435791,\n",
       "   5.388805389404297,\n",
       "   5.376206874847412,\n",
       "   5.415640830993652,\n",
       "   5.426802158355713,\n",
       "   5.344929218292236,\n",
       "   5.3989434242248535,\n",
       "   5.39785623550415,\n",
       "   5.465892791748047,\n",
       "   5.438546180725098,\n",
       "   5.377269744873047,\n",
       "   5.391101360321045,\n",
       "   5.4328083992004395,\n",
       "   5.36971378326416,\n",
       "   5.417101860046387,\n",
       "   5.443756580352783,\n",
       "   5.414724349975586,\n",
       "   5.416546821594238,\n",
       "   5.429673194885254,\n",
       "   5.384500026702881,\n",
       "   5.44228982925415,\n",
       "   5.444852352142334,\n",
       "   5.420462608337402,\n",
       "   5.3827972412109375,\n",
       "   5.437532424926758,\n",
       "   5.3804497718811035,\n",
       "   5.428461074829102,\n",
       "   5.375708103179932,\n",
       "   5.409759044647217,\n",
       "   5.402864933013916,\n",
       "   5.370800018310547,\n",
       "   5.45911979675293,\n",
       "   5.450252056121826,\n",
       "   5.414432525634766,\n",
       "   5.3968024253845215,\n",
       "   5.422847270965576,\n",
       "   5.465886116027832,\n",
       "   5.382941246032715,\n",
       "   5.433939456939697,\n",
       "   5.403348445892334,\n",
       "   5.444267272949219,\n",
       "   5.425885200500488,\n",
       "   5.4505615234375,\n",
       "   5.375553131103516,\n",
       "   5.387352466583252,\n",
       "   5.4911112785339355,\n",
       "   5.418820381164551,\n",
       "   5.407985687255859,\n",
       "   5.4456353187561035,\n",
       "   5.370481967926025,\n",
       "   5.448939800262451,\n",
       "   5.393068313598633,\n",
       "   5.415920257568359,\n",
       "   5.4011006355285645,\n",
       "   5.371032238006592,\n",
       "   5.464380264282227,\n",
       "   5.397888660430908,\n",
       "   5.402494430541992,\n",
       "   5.448333263397217,\n",
       "   5.420015811920166,\n",
       "   5.369876861572266,\n",
       "   5.416883945465088,\n",
       "   5.426777362823486,\n",
       "   5.404487609863281,\n",
       "   5.396194934844971,\n",
       "   5.409832000732422,\n",
       "   5.421886920928955,\n",
       "   5.45167350769043,\n",
       "   5.380274772644043,\n",
       "   5.356514930725098,\n",
       "   5.389219760894775,\n",
       "   5.3767900466918945,\n",
       "   5.358101844787598,\n",
       "   5.450744152069092,\n",
       "   5.394786357879639,\n",
       "   5.417029857635498,\n",
       "   5.381454944610596,\n",
       "   5.385619163513184,\n",
       "   5.403615951538086,\n",
       "   5.417549133300781,\n",
       "   5.4359965324401855,\n",
       "   5.319064617156982,\n",
       "   5.375304222106934,\n",
       "   5.386271953582764,\n",
       "   5.421036720275879,\n",
       "   5.432103157043457,\n",
       "   5.372585773468018,\n",
       "   5.378561019897461,\n",
       "   5.409565448760986,\n",
       "   5.4352288246154785,\n",
       "   5.381202697753906,\n",
       "   5.390844821929932,\n",
       "   5.424173355102539,\n",
       "   5.3923563957214355,\n",
       "   5.381512641906738,\n",
       "   5.416074752807617,\n",
       "   5.434072494506836,\n",
       "   5.395435810089111,\n",
       "   5.425416946411133,\n",
       "   5.4126081466674805,\n",
       "   5.384751319885254,\n",
       "   5.41424560546875,\n",
       "   5.387866020202637,\n",
       "   5.377426624298096,\n",
       "   5.403400421142578,\n",
       "   5.431539535522461,\n",
       "   5.411485195159912,\n",
       "   5.366033554077148,\n",
       "   5.390321731567383,\n",
       "   5.4138569831848145,\n",
       "   5.338779926300049,\n",
       "   5.4528727531433105,\n",
       "   5.421805381774902,\n",
       "   5.488613128662109,\n",
       "   5.45374059677124,\n",
       "   5.435306549072266,\n",
       "   5.369268417358398,\n",
       "   5.394707202911377,\n",
       "   5.455277919769287,\n",
       "   5.421991348266602,\n",
       "   5.377575874328613,\n",
       "   5.380322456359863,\n",
       "   5.423251628875732,\n",
       "   5.4460673332214355,\n",
       "   5.39510440826416,\n",
       "   5.404483795166016,\n",
       "   5.3674750328063965,\n",
       "   5.3966965675354,\n",
       "   5.4120988845825195,\n",
       "   5.407337188720703,\n",
       "   5.457403182983398,\n",
       "   5.449967384338379,\n",
       "   5.377320289611816,\n",
       "   5.440332412719727,\n",
       "   5.3986616134643555,\n",
       "   5.411307334899902,\n",
       "   5.374678611755371,\n",
       "   5.432133674621582,\n",
       "   5.413180828094482,\n",
       "   5.425465106964111,\n",
       "   5.484814643859863,\n",
       "   5.400843143463135,\n",
       "   5.45342493057251,\n",
       "   5.401635646820068,\n",
       "   5.3733296394348145,\n",
       "   5.363842487335205,\n",
       "   5.3951735496521,\n",
       "   5.357255458831787,\n",
       "   5.4995527267456055,\n",
       "   5.386056423187256,\n",
       "   5.409064292907715,\n",
       "   5.410886287689209,\n",
       "   5.428065299987793,\n",
       "   5.4770402908325195,\n",
       "   5.372611999511719,\n",
       "   5.391834259033203,\n",
       "   5.381202697753906,\n",
       "   5.4171648025512695,\n",
       "   5.4244465827941895,\n",
       "   5.4407196044921875,\n",
       "   5.386361122131348,\n",
       "   5.421288967132568,\n",
       "   5.382959365844727,\n",
       "   5.397684097290039,\n",
       "   5.414961814880371,\n",
       "   5.349060535430908,\n",
       "   5.444966793060303,\n",
       "   5.421022415161133,\n",
       "   5.4444580078125,\n",
       "   5.404783248901367,\n",
       "   5.322005271911621,\n",
       "   5.3992600440979,\n",
       "   5.42303991317749,\n",
       "   5.389196395874023,\n",
       "   5.416592121124268,\n",
       "   5.4284257888793945,\n",
       "   5.521785736083984,\n",
       "   5.408926963806152,\n",
       "   5.425477504730225,\n",
       "   5.402667999267578,\n",
       "   5.425896644592285,\n",
       "   5.399641990661621,\n",
       "   5.433828353881836,\n",
       "   5.307590007781982,\n",
       "   5.398821830749512,\n",
       "   5.409847259521484,\n",
       "   5.448276519775391,\n",
       "   5.4430975914001465,\n",
       "   5.396618843078613,\n",
       "   5.359102249145508,\n",
       "   5.469089031219482,\n",
       "   5.429858684539795,\n",
       "   5.394023418426514,\n",
       "   5.435222148895264,\n",
       "   5.4170732498168945,\n",
       "   5.44045877456665,\n",
       "   5.387293338775635,\n",
       "   5.389747142791748,\n",
       "   5.453522205352783,\n",
       "   5.36220121383667,\n",
       "   5.44005823135376,\n",
       "   5.395922660827637,\n",
       "   5.467870235443115,\n",
       "   5.457924842834473,\n",
       "   5.41016149520874,\n",
       "   5.408602237701416,\n",
       "   5.440901279449463,\n",
       "   5.4259114265441895,\n",
       "   5.424384593963623,\n",
       "   5.3964762687683105,\n",
       "   5.3768630027771,\n",
       "   5.419722080230713,\n",
       "   5.441086769104004,\n",
       "   5.3517231941223145,\n",
       "   5.418631553649902,\n",
       "   5.424095153808594,\n",
       "   5.3939127922058105,\n",
       "   5.4408745765686035,\n",
       "   5.381137847900391,\n",
       "   5.416304588317871,\n",
       "   5.399041175842285,\n",
       "   5.411397457122803,\n",
       "   5.435617446899414,\n",
       "   5.435560703277588,\n",
       "   5.3684468269348145,\n",
       "   5.394906997680664,\n",
       "   5.453639030456543,\n",
       "   5.396437644958496,\n",
       "   5.4020771980285645,\n",
       "   5.450920581817627,\n",
       "   5.398031234741211,\n",
       "   5.391452789306641,\n",
       "   5.431613922119141,\n",
       "   5.41970157623291,\n",
       "   5.45516300201416,\n",
       "   5.414393901824951,\n",
       "   5.404511451721191,\n",
       "   5.390936851501465,\n",
       "   5.450798511505127,\n",
       "   5.432535171508789,\n",
       "   5.4474005699157715,\n",
       "   5.3885979652404785,\n",
       "   5.420436382293701,\n",
       "   5.425363540649414,\n",
       "   5.427203178405762,\n",
       "   5.414958953857422,\n",
       "   5.414987087249756,\n",
       "   5.4284210205078125,\n",
       "   5.410300254821777,\n",
       "   5.388001918792725,\n",
       "   5.412013053894043,\n",
       "   5.390748023986816,\n",
       "   5.363897800445557,\n",
       "   5.3803863525390625,\n",
       "   5.3627448081970215,\n",
       "   5.440035820007324,\n",
       "   5.403104782104492,\n",
       "   5.453726768493652,\n",
       "   5.4106764793396,\n",
       "   5.371147632598877,\n",
       "   5.376627445220947,\n",
       "   5.400087356567383,\n",
       "   5.372472763061523,\n",
       "   5.385034561157227,\n",
       "   5.427065849304199,\n",
       "   5.3651123046875,\n",
       "   5.4209089279174805,\n",
       "   5.349647045135498,\n",
       "   5.421219348907471,\n",
       "   5.397947311401367,\n",
       "   5.45410680770874,\n",
       "   5.399693012237549,\n",
       "   5.419734001159668,\n",
       "   5.422356605529785,\n",
       "   5.405583381652832,\n",
       "   5.387454032897949,\n",
       "   5.356318950653076,\n",
       "   5.384110450744629,\n",
       "   5.425159931182861,\n",
       "   5.478529453277588,\n",
       "   5.4088521003723145,\n",
       "   5.433730602264404,\n",
       "   5.444741249084473,\n",
       "   5.354389190673828,\n",
       "   5.326320171356201,\n",
       "   5.43033504486084,\n",
       "   5.441807746887207,\n",
       "   5.407923221588135,\n",
       "   5.430760383605957,\n",
       "   5.407358169555664,\n",
       "   5.397315979003906,\n",
       "   5.4493021965026855,\n",
       "   5.3695502281188965,\n",
       "   5.3989057540893555,\n",
       "   5.445314884185791,\n",
       "   5.403069019317627,\n",
       "   5.421853065490723,\n",
       "   5.435730934143066,\n",
       "   5.399405002593994,\n",
       "   5.431496620178223,\n",
       "   5.427288055419922,\n",
       "   5.354952335357666,\n",
       "   5.380192756652832,\n",
       "   5.38289737701416,\n",
       "   5.396389007568359,\n",
       "   5.420516490936279,\n",
       "   5.340079307556152,\n",
       "   5.470008373260498,\n",
       "   5.405395030975342,\n",
       "   5.415849685668945,\n",
       "   5.424178123474121,\n",
       "   5.399930000305176,\n",
       "   5.40857458114624,\n",
       "   5.362139701843262,\n",
       "   5.429409027099609,\n",
       "   5.386151313781738,\n",
       "   5.414307594299316,\n",
       "   5.457272052764893,\n",
       "   5.430597305297852,\n",
       "   5.410902976989746,\n",
       "   5.415945053100586,\n",
       "   5.429088592529297,\n",
       "   5.418951988220215,\n",
       "   5.383885860443115,\n",
       "   5.395259857177734,\n",
       "   5.453172206878662,\n",
       "   5.376821517944336,\n",
       "   5.413575172424316,\n",
       "   5.389204502105713,\n",
       "   5.4267191886901855,\n",
       "   5.3798346519470215,\n",
       "   5.41112756729126,\n",
       "   5.423527717590332,\n",
       "   5.401987075805664,\n",
       "   5.40972375869751,\n",
       "   5.387217998504639,\n",
       "   5.442982196807861,\n",
       "   5.432372093200684,\n",
       "   ...]})"
      ]
     },
     "execution_count": 24,
     "metadata": {},
     "output_type": "execute_result"
    },
    {
     "data": {
      "image/png": "[encoded data removed]",
      "text/plain": [
       "<Figure size 432x288 with 1 Axes>"
      ]
     },
     "metadata": {
      "needs_background": "light"
     },
     "output_type": "display_data"
    }
   ],
   "source": [
    "run_expr_infoNCE(n_batch=500, iters=5000)"
   ]
  },
  {
   "cell_type": "code",
   "execution_count": 25,
   "id": "accompanied-portfolio",
   "metadata": {},
   "outputs": [
    {
     "data": {
      "text/plain": [
       "[<matplotlib.lines.Line2D at 0x7ff164700bb0>]"
      ]
     },
     "execution_count": 25,
     "metadata": {},
     "output_type": "execute_result"
    },
    {
     "data": {
      "image/png": "[encoded data removed]",
      "text/plain": [
       "<Figure size 432x288 with 1 Axes>"
      ]
     },
     "metadata": {
      "needs_background": "light"
     },
     "output_type": "display_data"
    }
   ],
   "source": [
    "plt.plot(history['loss'])"
   ]
  },
  {
   "cell_type": "code",
   "execution_count": 26,
   "id": "attempted-titanium",
   "metadata": {},
   "outputs": [],
   "source": [
    "Mbar_infoNCE = torch.from_numpy(np.load(f'dicerolls4_training_results/Mbar_infoNCE_{500}_{4999}.npy'))\n",
    "M_infoNCE = torch.from_numpy(np.load(f'dicerolls4_training_results/M_infoNCE_{500}_{4999}.npy'))"
   ]
  },
  {
   "cell_type": "code",
   "execution_count": 27,
   "id": "organic-shelter",
   "metadata": {},
   "outputs": [
    {
     "data": {
      "text/plain": [
       "<matplotlib.image.AxesImage at 0x7ff1646dc3d0>"
      ]
     },
     "execution_count": 27,
     "metadata": {},
     "output_type": "execute_result"
    },
    {
     "data": {
      "image/png": "[encoded data removed]",
      "text/plain": [
       "<Figure size 432x288 with 1 Axes>"
      ]
     },
     "metadata": {
      "needs_background": "light"
     },
     "output_type": "display_data"
    }
   ],
   "source": [
    "plt.imshow(torch.exp(Mbar_infoNCE))"
   ]
  },
  {
   "cell_type": "code",
   "execution_count": 28,
   "id": "photographic-failing",
   "metadata": {},
   "outputs": [
    {
     "data": {
      "text/plain": [
       "<matplotlib.image.AxesImage at 0x7ff1646a8a00>"
      ]
     },
     "execution_count": 28,
     "metadata": {},
     "output_type": "execute_result"
    },
    {
     "data": {
      "image/png": "[encoded data removed]",
      "text/plain": [
       "<Figure size 432x288 with 1 Axes>"
      ]
     },
     "metadata": {
      "needs_background": "light"
     },
     "output_type": "display_data"
    }
   ],
   "source": [
    "plt.imshow(torch.exp(M_infoNCE))"
   ]
  },
  {
   "cell_type": "code",
   "execution_count": 29,
   "id": "twelve-yemen",
   "metadata": {},
   "outputs": [
    {
     "data": {
      "text/plain": [
       "tensor(0.2789, dtype=torch.float64)"
      ]
     },
     "execution_count": 29,
     "metadata": {},
     "output_type": "execute_result"
    }
   ],
   "source": [
    "# Compare Mbar with xy\n",
    "F_infoNCE = torch.exp(Mbar_infoNCE)\n",
    "F_infoNCE_normalized = F_infoNCE/torch.sum(F_infoNCE)\n",
    "log_F_infoNCE_normalized = torch.log(F_infoNCE_normalized)\n",
    "\n",
    "F.kl_div(log_F_infoNCE_normalized, torch.from_numpy(xy))"
   ]
  },
  {
   "cell_type": "code",
   "execution_count": null,
   "id": "alien-delta",
   "metadata": {},
   "outputs": [],
   "source": []
  },
  {
   "cell_type": "code",
   "execution_count": null,
   "id": "emerging-somerset",
   "metadata": {},
   "outputs": [],
   "source": []
  },
  {
   "cell_type": "code",
   "execution_count": null,
   "id": "exclusive-provision",
   "metadata": {},
   "outputs": [],
   "source": []
  },
  {
   "cell_type": "code",
   "execution_count": null,
   "id": "mineral-access",
   "metadata": {},
   "outputs": [],
   "source": []
  },
  {
   "cell_type": "code",
   "execution_count": null,
   "id": "returning-mitchell",
   "metadata": {},
   "outputs": [],
   "source": []
  },
  {
   "cell_type": "code",
   "execution_count": null,
   "id": "korean-municipality",
   "metadata": {},
   "outputs": [],
   "source": []
  },
  {
   "cell_type": "code",
   "execution_count": null,
   "id": "roman-software",
   "metadata": {},
   "outputs": [],
   "source": []
  },
  {
   "cell_type": "code",
   "execution_count": 14,
   "id": "graduate-racing",
   "metadata": {},
   "outputs": [],
   "source": [
    "def run_expr_all_samples(n_batch):\n",
    "    '''\n",
    "    model pxy directly\n",
    "    '''\n",
    "    torch.manual_seed(42)\n",
    "    \n",
    "    M = torch.randn((x.shape[0],y.shape[0]), requires_grad = True)\n",
    "    print(M[0, :5])\n",
    "    \n",
    "    optimizer = torch.optim.SGD([M], 1, 0.99)\n",
    "    Mbar = M.data\n",
    "    \n",
    "    history = {'loss':[]}\n",
    "    \n",
    "    samples_indices = list(itertools.product(*[range(x.shape[0]), range(y.shape[0])]))\n",
    "    samples_all = list(itertools.product(*[samples_indices for _ in range(n_batch)]))\n",
    "    itr_ids = list(range(len(samples_all)))\n",
    "    import pdb; pdb.set_trace\n",
    "    random.shuffle(itr_ids)\n",
    "    \n",
    "    for iteration in tqdm(range(1,len(samples_all)+1)):\n",
    "\n",
    "        samples = samples_all[itr_ids[iteration]]\n",
    "\n",
    "        optimizer.zero_grad()\n",
    "\n",
    "        F = torch.exp(M)\n",
    "\n",
    "        loss = 0\n",
    "        for i in range(n_batch):\n",
    "            lossi = F[samples[i][0],samples[i][1]]/torch.sum(F[:,:])\n",
    "            loss = loss + torch.log(lossi)\n",
    "        loss = -1*loss/n_batch\n",
    "        loss.backward()\n",
    "        optimizer.step()\n",
    "        history['loss'].append(loss.item())\n",
    "        Mbar = (1-1/iteration)*Mbar + (1/iteration)*M.data\n",
    "\n",
    "        if iteration % 500 == 0:\n",
    "            print(torch.var(M))\n",
    "            plt.imshow(Mbar.detach().cpu().numpy())\n",
    "            plt.savefig(f\"dicerolls4_training_results/Mbar_joint_{n_batch}_{iteration}.png\")\n",
    "\n",
    "    np.save(f'dicerolls4_training_results/Mbar_joint_{n_batch}_{iteration}.npy', Mbar.detach().cpu().numpy())\n",
    "    np.save(f'dicerolls4_training_results/M_joint_{n_batch}_{iteration}.npy', M.detach().cpu().numpy())\n",
    "    np.save(f'dicerolls4_training_results/training_loss_joint_{n_batch}_{iteration}.npy', np.array(history['loss']))\n",
    "    return M, Mbar, history"
   ]
  },
  {
   "cell_type": "code",
   "execution_count": 15,
   "id": "ideal-colonial",
   "metadata": {
    "scrolled": true
   },
   "outputs": [
    {
     "name": "stdout",
     "output_type": "stream",
     "text": [
      "tensor([ 1.9269,  1.4873,  0.9007, -2.1055], grad_fn=<SliceBackward>)\n"
     ]
    },
    {
     "name": "stderr",
     "output_type": "stream",
     "text": [
      "  0%|          | 367/17210368 [00:00<6:21:06, 752.63it/s]"
     ]
    },
    {
     "name": "stdout",
     "output_type": "stream",
     "text": [
      "tensor(54.0543, grad_fn=<VarBackward0>)\n"
     ]
    },
    {
     "name": "stderr",
     "output_type": "stream",
     "text": [
      "  0%|          | 808/17210368 [00:00<7:01:19, 680.76it/s]/home/user/.local/lib/python3.8/site-packages/matplotlib/image.py:446: UserWarning: Warning: converting a masked element to nan.\n",
      "  dv = np.float64(self.norm.vmax) - np.float64(self.norm.vmin)\n",
      "/home/user/.local/lib/python3.8/site-packages/matplotlib/image.py:453: UserWarning: Warning: converting a masked element to nan.\n",
      "  a_min = np.float64(newmin)\n",
      "/home/user/.local/lib/python3.8/site-packages/matplotlib/image.py:458: UserWarning: Warning: converting a masked element to nan.\n",
      "  a_max = np.float64(newmax)\n",
      "  0%|          | 1331/17210368 [00:00<4:22:32, 1092.49it/s]"
     ]
    },
    {
     "name": "stdout",
     "output_type": "stream",
     "text": [
      "tensor(nan, grad_fn=<VarBackward0>)\n",
      "tensor(nan, grad_fn=<VarBackward0>)\n"
     ]
    },
    {
     "name": "stderr",
     "output_type": "stream",
     "text": [
      "  0%|          | 2395/17210368 [00:01<2:26:45, 1954.24it/s]"
     ]
    },
    {
     "name": "stdout",
     "output_type": "stream",
     "text": [
      "tensor(nan, grad_fn=<VarBackward0>)\n",
      "tensor(nan, grad_fn=<VarBackward0>)\n"
     ]
    },
    {
     "name": "stderr",
     "output_type": "stream",
     "text": [
      "  0%|          | 3210/17210368 [00:01<2:11:32, 2180.18it/s]"
     ]
    },
    {
     "name": "stdout",
     "output_type": "stream",
     "text": [
      "tensor(nan, grad_fn=<VarBackward0>)\n"
     ]
    },
    {
     "name": "stderr",
     "output_type": "stream",
     "text": [
      "  0%|          | 3802/17210368 [00:01<2:01:56, 2351.69it/s]"
     ]
    },
    {
     "name": "stdout",
     "output_type": "stream",
     "text": [
      "tensor(nan, grad_fn=<VarBackward0>)\n"
     ]
    },
    {
     "name": "stderr",
     "output_type": "stream",
     "text": [
      "  0%|          | 4358/17210368 [00:02<2:03:22, 2324.42it/s]"
     ]
    },
    {
     "name": "stdout",
     "output_type": "stream",
     "text": [
      "tensor(nan, grad_fn=<VarBackward0>)\n"
     ]
    },
    {
     "name": "stderr",
     "output_type": "stream",
     "text": [
      "  0%|          | 4906/17210368 [00:02<2:01:43, 2355.93it/s]"
     ]
    },
    {
     "name": "stdout",
     "output_type": "stream",
     "text": [
      "tensor(nan, grad_fn=<VarBackward0>)\n"
     ]
    },
    {
     "name": "stderr",
     "output_type": "stream",
     "text": [
      "\r",
      "  0%|          | 5158/17210368 [00:02<2:12:06, 2170.48it/s]"
     ]
    },
    {
     "name": "stdout",
     "output_type": "stream",
     "text": [
      "tensor(nan, grad_fn=<VarBackward0>)\n"
     ]
    },
    {
     "name": "stderr",
     "output_type": "stream",
     "text": [
      "  0%|          | 5703/17210368 [00:02<2:12:20, 2166.71it/s]"
     ]
    },
    {
     "name": "stdout",
     "output_type": "stream",
     "text": [
      "tensor(nan, grad_fn=<VarBackward0>)\n"
     ]
    },
    {
     "name": "stderr",
     "output_type": "stream",
     "text": [
      "  0%|          | 6307/17210368 [00:03<2:04:24, 2304.64it/s]"
     ]
    },
    {
     "name": "stdout",
     "output_type": "stream",
     "text": [
      "tensor(nan, grad_fn=<VarBackward0>)\n"
     ]
    },
    {
     "name": "stderr",
     "output_type": "stream",
     "text": [
      "  0%|          | 6849/17210368 [00:03<2:04:59, 2294.07it/s]"
     ]
    },
    {
     "name": "stdout",
     "output_type": "stream",
     "text": [
      "tensor(nan, grad_fn=<VarBackward0>)\n"
     ]
    },
    {
     "name": "stderr",
     "output_type": "stream",
     "text": [
      "  0%|          | 7393/17210368 [00:03<2:06:01, 2275.06it/s]"
     ]
    },
    {
     "name": "stdout",
     "output_type": "stream",
     "text": [
      "tensor(nan, grad_fn=<VarBackward0>)\n"
     ]
    },
    {
     "name": "stderr",
     "output_type": "stream",
     "text": [
      "\r",
      "  0%|          | 7638/17210368 [00:03<2:20:46, 2036.73it/s]"
     ]
    },
    {
     "name": "stdout",
     "output_type": "stream",
     "text": [
      "tensor(nan, grad_fn=<VarBackward0>)\n"
     ]
    },
    {
     "name": "stderr",
     "output_type": "stream",
     "text": [
      "  0%|          | 8192/17210368 [00:03<2:22:21, 2013.89it/s]"
     ]
    },
    {
     "name": "stdout",
     "output_type": "stream",
     "text": [
      "tensor(nan, grad_fn=<VarBackward0>)\n"
     ]
    },
    {
     "name": "stderr",
     "output_type": "stream",
     "text": [
      "  0%|          | 8726/17210368 [00:04<2:26:48, 1952.92it/s]"
     ]
    },
    {
     "name": "stdout",
     "output_type": "stream",
     "text": [
      "tensor(nan, grad_fn=<VarBackward0>)\n"
     ]
    },
    {
     "name": "stderr",
     "output_type": "stream",
     "text": [
      "  0%|          | 9279/17210368 [00:04<2:19:31, 2054.68it/s]"
     ]
    },
    {
     "name": "stdout",
     "output_type": "stream",
     "text": [
      "tensor(nan, grad_fn=<VarBackward0>)\n"
     ]
    },
    {
     "name": "stderr",
     "output_type": "stream",
     "text": [
      "  0%|          | 9807/17210368 [00:04<2:18:34, 2068.69it/s]"
     ]
    },
    {
     "name": "stdout",
     "output_type": "stream",
     "text": [
      "tensor(nan, grad_fn=<VarBackward0>)\n"
     ]
    },
    {
     "name": "stderr",
     "output_type": "stream",
     "text": [
      "  0%|          | 10339/17210368 [00:05<2:18:21, 2071.83it/s]"
     ]
    },
    {
     "name": "stdout",
     "output_type": "stream",
     "text": [
      "tensor(nan, grad_fn=<VarBackward0>)\n"
     ]
    },
    {
     "name": "stderr",
     "output_type": "stream",
     "text": [
      "\r",
      "  0%|          | 10573/17210368 [00:05<2:37:10, 1823.77it/s]"
     ]
    },
    {
     "name": "stdout",
     "output_type": "stream",
     "text": [
      "tensor(nan, grad_fn=<VarBackward0>)\n"
     ]
    },
    {
     "name": "stderr",
     "output_type": "stream",
     "text": [
      "\r",
      "  0%|          | 10867/17210368 [00:05<2:19:21, 2057.01it/s]"
     ]
    },
    {
     "name": "stdout",
     "output_type": "stream",
     "text": [
      "tensor(nan, grad_fn=<VarBackward0>)\n"
     ]
    },
    {
     "name": "stderr",
     "output_type": "stream",
     "text": [
      "  0%|          | 11609/17210368 [00:06<3:58:42, 1200.85it/s]"
     ]
    },
    {
     "name": "stdout",
     "output_type": "stream",
     "text": [
      "tensor(nan, grad_fn=<VarBackward0>)\n"
     ]
    },
    {
     "name": "stderr",
     "output_type": "stream",
     "text": [
      "  0%|          | 12137/17210368 [00:06<3:21:14, 1424.38it/s]"
     ]
    },
    {
     "name": "stdout",
     "output_type": "stream",
     "text": [
      "tensor(nan, grad_fn=<VarBackward0>)\n"
     ]
    },
    {
     "name": "stderr",
     "output_type": "stream",
     "text": [
      "  0%|          | 12671/17210368 [00:06<3:03:07, 1565.24it/s]"
     ]
    },
    {
     "name": "stdout",
     "output_type": "stream",
     "text": [
      "tensor(nan, grad_fn=<VarBackward0>)\n"
     ]
    },
    {
     "name": "stderr",
     "output_type": "stream",
     "text": [
      "  0%|          | 13209/17210368 [00:06<2:54:14, 1644.93it/s]"
     ]
    },
    {
     "name": "stdout",
     "output_type": "stream",
     "text": [
      "tensor(nan, grad_fn=<VarBackward0>)\n"
     ]
    },
    {
     "name": "stderr",
     "output_type": "stream",
     "text": [
      "\r",
      "  0%|          | 13500/17210368 [00:07<3:01:25, 1579.82it/s]"
     ]
    },
    {
     "name": "stdout",
     "output_type": "stream",
     "text": [
      "tensor(nan, grad_fn=<VarBackward0>)\n"
     ]
    },
    {
     "name": "stderr",
     "output_type": "stream",
     "text": [
      "  0%|          | 14027/17210368 [00:07<2:58:29, 1605.70it/s]"
     ]
    },
    {
     "name": "stdout",
     "output_type": "stream",
     "text": [
      "tensor(nan, grad_fn=<VarBackward0>)\n"
     ]
    },
    {
     "name": "stderr",
     "output_type": "stream",
     "text": [
      "  0%|          | 14563/17210368 [00:07<2:56:50, 1620.60it/s]"
     ]
    },
    {
     "name": "stdout",
     "output_type": "stream",
     "text": [
      "tensor(nan, grad_fn=<VarBackward0>)\n"
     ]
    },
    {
     "name": "stderr",
     "output_type": "stream",
     "text": [
      "\r",
      "  0%|          | 14867/17210368 [00:07<2:32:07, 1884.00it/s]"
     ]
    },
    {
     "name": "stdout",
     "output_type": "stream",
     "text": [
      "tensor(nan, grad_fn=<VarBackward0>)\n"
     ]
    },
    {
     "name": "stderr",
     "output_type": "stream",
     "text": [
      "  0%|          | 15614/17210368 [00:08<4:40:03, 1023.28it/s]"
     ]
    },
    {
     "name": "stdout",
     "output_type": "stream",
     "text": [
      "tensor(nan, grad_fn=<VarBackward0>)\n"
     ]
    },
    {
     "name": "stderr",
     "output_type": "stream",
     "text": [
      "  0%|          | 16143/17210368 [00:09<3:51:09, 1239.73it/s]"
     ]
    },
    {
     "name": "stdout",
     "output_type": "stream",
     "text": [
      "tensor(nan, grad_fn=<VarBackward0>)\n"
     ]
    },
    {
     "name": "stderr",
     "output_type": "stream",
     "text": [
      "  0%|          | 16669/17210368 [00:09<3:27:48, 1379.00it/s]"
     ]
    },
    {
     "name": "stdout",
     "output_type": "stream",
     "text": [
      "tensor(nan, grad_fn=<VarBackward0>)\n"
     ]
    },
    {
     "name": "stderr",
     "output_type": "stream",
     "text": [
      "  0%|          | 17199/17210368 [00:09<3:16:40, 1456.98it/s]"
     ]
    },
    {
     "name": "stdout",
     "output_type": "stream",
     "text": [
      "tensor(nan, grad_fn=<VarBackward0>)\n"
     ]
    },
    {
     "name": "stderr",
     "output_type": "stream",
     "text": [
      "\r",
      "  0%|          | 17500/17210368 [00:09<3:22:08, 1417.60it/s]"
     ]
    },
    {
     "name": "stdout",
     "output_type": "stream",
     "text": [
      "tensor(nan, grad_fn=<VarBackward0>)\n"
     ]
    },
    {
     "name": "stderr",
     "output_type": "stream",
     "text": [
      "  0%|          | 18012/17210368 [00:10<3:20:35, 1428.49it/s]"
     ]
    },
    {
     "name": "stdout",
     "output_type": "stream",
     "text": [
      "tensor(nan, grad_fn=<VarBackward0>)\n"
     ]
    },
    {
     "name": "stderr",
     "output_type": "stream",
     "text": [
      "  0%|          | 18539/17210368 [00:10<3:18:01, 1446.88it/s]"
     ]
    },
    {
     "name": "stdout",
     "output_type": "stream",
     "text": [
      "tensor(nan, grad_fn=<VarBackward0>)\n"
     ]
    },
    {
     "name": "stderr",
     "output_type": "stream",
     "text": [
      "  0%|          | 19057/17210368 [00:10<3:20:05, 1431.96it/s]"
     ]
    },
    {
     "name": "stdout",
     "output_type": "stream",
     "text": [
      "tensor(nan, grad_fn=<VarBackward0>)\n"
     ]
    },
    {
     "name": "stderr",
     "output_type": "stream",
     "text": [
      "  0%|          | 19565/17210368 [00:11<3:24:48, 1398.97it/s]"
     ]
    },
    {
     "name": "stdout",
     "output_type": "stream",
     "text": [
      "tensor(nan, grad_fn=<VarBackward0>)\n"
     ]
    },
    {
     "name": "stderr",
     "output_type": "stream",
     "text": [
      "  0%|          | 20061/17210368 [00:11<3:29:16, 1369.05it/s]"
     ]
    },
    {
     "name": "stdout",
     "output_type": "stream",
     "text": [
      "tensor(nan, grad_fn=<VarBackward0>)\n"
     ]
    },
    {
     "name": "stderr",
     "output_type": "stream",
     "text": [
      "  0%|          | 20571/17210368 [00:11<3:31:15, 1356.13it/s]"
     ]
    },
    {
     "name": "stdout",
     "output_type": "stream",
     "text": [
      "tensor(nan, grad_fn=<VarBackward0>)\n"
     ]
    },
    {
     "name": "stderr",
     "output_type": "stream",
     "text": [
      "  0%|          | 21072/17210368 [00:12<3:41:17, 1294.62it/s]"
     ]
    },
    {
     "name": "stdout",
     "output_type": "stream",
     "text": [
      "tensor(nan, grad_fn=<VarBackward0>)\n"
     ]
    },
    {
     "name": "stderr",
     "output_type": "stream",
     "text": [
      "  0%|          | 21557/17210368 [00:12<3:44:52, 1273.95it/s]"
     ]
    },
    {
     "name": "stdout",
     "output_type": "stream",
     "text": [
      "tensor(nan, grad_fn=<VarBackward0>)\n"
     ]
    },
    {
     "name": "stderr",
     "output_type": "stream",
     "text": [
      "  0%|          | 22050/17210368 [00:12<3:46:40, 1263.80it/s]"
     ]
    },
    {
     "name": "stdout",
     "output_type": "stream",
     "text": [
      "tensor(nan, grad_fn=<VarBackward0>)\n"
     ]
    },
    {
     "name": "stderr",
     "output_type": "stream",
     "text": [
      "  0%|          | 22548/17210368 [00:13<3:48:02, 1256.19it/s]"
     ]
    },
    {
     "name": "stdout",
     "output_type": "stream",
     "text": [
      "tensor(nan, grad_fn=<VarBackward0>)\n"
     ]
    },
    {
     "name": "stderr",
     "output_type": "stream",
     "text": [
      "  0%|          | 23036/17210368 [00:13<3:49:40, 1247.22it/s]"
     ]
    },
    {
     "name": "stdout",
     "output_type": "stream",
     "text": [
      "tensor(nan, grad_fn=<VarBackward0>)\n"
     ]
    },
    {
     "name": "stderr",
     "output_type": "stream",
     "text": [
      "  0%|          | 23543/17210368 [00:13<3:49:02, 1250.64it/s]"
     ]
    },
    {
     "name": "stdout",
     "output_type": "stream",
     "text": [
      "tensor(nan, grad_fn=<VarBackward0>)\n"
     ]
    },
    {
     "name": "stderr",
     "output_type": "stream",
     "text": [
      "  0%|          | 24057/17210368 [00:14<3:48:51, 1251.56it/s]"
     ]
    },
    {
     "name": "stdout",
     "output_type": "stream",
     "text": [
      "tensor(nan, grad_fn=<VarBackward0>)\n"
     ]
    },
    {
     "name": "stderr",
     "output_type": "stream",
     "text": [
      "  0%|          | 24575/17210368 [00:14<3:48:33, 1253.18it/s]"
     ]
    },
    {
     "name": "stdout",
     "output_type": "stream",
     "text": [
      "tensor(nan, grad_fn=<VarBackward0>)\n"
     ]
    },
    {
     "name": "stderr",
     "output_type": "stream",
     "text": [
      "\r",
      "  0%|          | 24879/17210368 [00:14<3:08:17, 1521.16it/s]"
     ]
    },
    {
     "name": "stdout",
     "output_type": "stream",
     "text": [
      "tensor(nan, grad_fn=<VarBackward0>)\n"
     ]
    },
    {
     "name": "stderr",
     "output_type": "stream",
     "text": [
      "  0%|          | 25387/17210368 [00:14<3:09:45, 1509.43it/s]"
     ]
    },
    {
     "name": "stdout",
     "output_type": "stream",
     "text": [
      "tensor(nan, grad_fn=<VarBackward0>)\n"
     ]
    },
    {
     "name": "stderr",
     "output_type": "stream",
     "text": [
      "  0%|          | 25909/17210368 [00:15<3:11:12, 1497.88it/s]"
     ]
    },
    {
     "name": "stdout",
     "output_type": "stream",
     "text": [
      "tensor(nan, grad_fn=<VarBackward0>)\n"
     ]
    },
    {
     "name": "stderr",
     "output_type": "stream",
     "text": [
      "  0%|          | 26432/17210368 [00:15<3:11:28, 1495.71it/s]"
     ]
    },
    {
     "name": "stdout",
     "output_type": "stream",
     "text": [
      "tensor(nan, grad_fn=<VarBackward0>)\n"
     ]
    },
    {
     "name": "stderr",
     "output_type": "stream",
     "text": [
      "  0%|          | 26955/17210368 [00:15<3:11:42, 1493.82it/s]"
     ]
    },
    {
     "name": "stdout",
     "output_type": "stream",
     "text": [
      "tensor(nan, grad_fn=<VarBackward0>)\n"
     ]
    },
    {
     "name": "stderr",
     "output_type": "stream",
     "text": [
      "  0%|          | 27480/17210368 [00:16<3:13:18, 1481.50it/s]"
     ]
    },
    {
     "name": "stdout",
     "output_type": "stream",
     "text": [
      "tensor(nan, grad_fn=<VarBackward0>)\n"
     ]
    },
    {
     "name": "stderr",
     "output_type": "stream",
     "text": [
      "  0%|          | 28000/17210368 [00:16<4:08:24, 1152.87it/s]"
     ]
    },
    {
     "name": "stdout",
     "output_type": "stream",
     "text": [
      "tensor(nan, grad_fn=<VarBackward0>)\n"
     ]
    },
    {
     "name": "stderr",
     "output_type": "stream",
     "text": [
      "  0%|          | 28501/17210368 [00:17<4:13:51, 1128.08it/s]"
     ]
    },
    {
     "name": "stdout",
     "output_type": "stream",
     "text": [
      "tensor(nan, grad_fn=<VarBackward0>)\n"
     ]
    },
    {
     "name": "stderr",
     "output_type": "stream",
     "text": [
      "  0%|          | 29015/17210368 [00:17<4:14:07, 1126.82it/s]"
     ]
    },
    {
     "name": "stdout",
     "output_type": "stream",
     "text": [
      "tensor(nan, grad_fn=<VarBackward0>)\n"
     ]
    },
    {
     "name": "stderr",
     "output_type": "stream",
     "text": [
      "\r",
      "  0%|          | 29326/17210368 [00:17<3:25:34, 1392.89it/s]"
     ]
    },
    {
     "name": "stdout",
     "output_type": "stream",
     "text": [
      "tensor(nan, grad_fn=<VarBackward0>)\n"
     ]
    },
    {
     "name": "stderr",
     "output_type": "stream",
     "text": [
      "  0%|          | 29840/17210368 [00:18<3:25:44, 1391.77it/s]"
     ]
    },
    {
     "name": "stdout",
     "output_type": "stream",
     "text": [
      "tensor(nan, grad_fn=<VarBackward0>)\n"
     ]
    },
    {
     "name": "stderr",
     "output_type": "stream",
     "text": [
      "  0%|          | 30359/17210368 [00:18<3:26:35, 1385.97it/s]"
     ]
    },
    {
     "name": "stdout",
     "output_type": "stream",
     "text": [
      "tensor(nan, grad_fn=<VarBackward0>)\n"
     ]
    },
    {
     "name": "stderr",
     "output_type": "stream",
     "text": [
      "  0%|          | 30879/17210368 [00:18<3:27:03, 1382.83it/s]"
     ]
    },
    {
     "name": "stdout",
     "output_type": "stream",
     "text": [
      "tensor(nan, grad_fn=<VarBackward0>)\n"
     ]
    },
    {
     "name": "stderr",
     "output_type": "stream",
     "text": [
      "  0%|          | 31399/17210368 [00:19<3:28:19, 1374.42it/s]"
     ]
    },
    {
     "name": "stdout",
     "output_type": "stream",
     "text": [
      "tensor(nan, grad_fn=<VarBackward0>)\n"
     ]
    },
    {
     "name": "stderr",
     "output_type": "stream",
     "text": [
      "  0%|          | 31921/17210368 [00:19<3:29:54, 1363.94it/s]"
     ]
    },
    {
     "name": "stdout",
     "output_type": "stream",
     "text": [
      "tensor(nan, grad_fn=<VarBackward0>)\n"
     ]
    },
    {
     "name": "stderr",
     "output_type": "stream",
     "text": [
      "  0%|          | 32440/17210368 [00:19<3:31:15, 1355.19it/s]"
     ]
    },
    {
     "name": "stdout",
     "output_type": "stream",
     "text": [
      "tensor(nan, grad_fn=<VarBackward0>)\n"
     ]
    },
    {
     "name": "stderr",
     "output_type": "stream",
     "text": [
      "  0%|          | 32963/17210368 [00:20<3:32:50, 1345.11it/s]"
     ]
    },
    {
     "name": "stdout",
     "output_type": "stream",
     "text": [
      "tensor(nan, grad_fn=<VarBackward0>)\n"
     ]
    },
    {
     "name": "stderr",
     "output_type": "stream",
     "text": [
      "  0%|          | 33484/17210368 [00:20<3:35:46, 1326.77it/s]"
     ]
    },
    {
     "name": "stdout",
     "output_type": "stream",
     "text": [
      "tensor(nan, grad_fn=<VarBackward0>)\n"
     ]
    },
    {
     "name": "stderr",
     "output_type": "stream",
     "text": [
      "  0%|          | 33997/17210368 [00:21<3:38:24, 1310.76it/s]"
     ]
    },
    {
     "name": "stdout",
     "output_type": "stream",
     "text": [
      "tensor(nan, grad_fn=<VarBackward0>)\n"
     ]
    },
    {
     "name": "stderr",
     "output_type": "stream",
     "text": [
      "\r",
      "  0%|          | 34206/17210368 [00:21<4:35:39, 1038.49it/s]"
     ]
    },
    {
     "name": "stdout",
     "output_type": "stream",
     "text": [
      "tensor(nan, grad_fn=<VarBackward0>)\n"
     ]
    },
    {
     "name": "stderr",
     "output_type": "stream",
     "text": [
      "  0%|          | 34807/17210368 [00:21<3:49:57, 1244.83it/s]"
     ]
    },
    {
     "name": "stdout",
     "output_type": "stream",
     "text": [
      "tensor(nan, grad_fn=<VarBackward0>)\n"
     ]
    },
    {
     "name": "stderr",
     "output_type": "stream",
     "text": [
      "  0%|          | 35302/17210368 [00:22<3:54:49, 1218.98it/s]"
     ]
    },
    {
     "name": "stdout",
     "output_type": "stream",
     "text": [
      "tensor(nan, grad_fn=<VarBackward0>)\n"
     ]
    },
    {
     "name": "stderr",
     "output_type": "stream",
     "text": [
      "  0%|          | 35806/17210368 [00:22<3:54:35, 1220.21it/s]"
     ]
    },
    {
     "name": "stdout",
     "output_type": "stream",
     "text": [
      "tensor(nan, grad_fn=<VarBackward0>)\n"
     ]
    },
    {
     "name": "stderr",
     "output_type": "stream",
     "text": [
      "  0%|          | 36316/17210368 [00:23<3:54:02, 1222.97it/s]"
     ]
    },
    {
     "name": "stdout",
     "output_type": "stream",
     "text": [
      "tensor(nan, grad_fn=<VarBackward0>)\n"
     ]
    },
    {
     "name": "stderr",
     "output_type": "stream",
     "text": [
      "  0%|          | 36815/17210368 [00:23<3:55:31, 1215.25it/s]"
     ]
    },
    {
     "name": "stdout",
     "output_type": "stream",
     "text": [
      "tensor(nan, grad_fn=<VarBackward0>)\n"
     ]
    },
    {
     "name": "stderr",
     "output_type": "stream",
     "text": [
      "  0%|          | 37327/17210368 [00:23<3:55:48, 1213.75it/s]"
     ]
    },
    {
     "name": "stdout",
     "output_type": "stream",
     "text": [
      "tensor(nan, grad_fn=<VarBackward0>)\n"
     ]
    },
    {
     "name": "stderr",
     "output_type": "stream",
     "text": [
      "  0%|          | 37843/17210368 [00:24<3:56:03, 1212.41it/s]"
     ]
    },
    {
     "name": "stdout",
     "output_type": "stream",
     "text": [
      "tensor(nan, grad_fn=<VarBackward0>)\n"
     ]
    },
    {
     "name": "stderr",
     "output_type": "stream",
     "text": [
      "  0%|          | 38355/17210368 [00:24<3:56:44, 1208.93it/s]"
     ]
    },
    {
     "name": "stdout",
     "output_type": "stream",
     "text": [
      "tensor(nan, grad_fn=<VarBackward0>)\n"
     ]
    },
    {
     "name": "stderr",
     "output_type": "stream",
     "text": [
      "  0%|          | 38871/17210368 [00:25<3:58:13, 1201.31it/s]"
     ]
    },
    {
     "name": "stdout",
     "output_type": "stream",
     "text": [
      "tensor(nan, grad_fn=<VarBackward0>)\n"
     ]
    },
    {
     "name": "stderr",
     "output_type": "stream",
     "text": [
      "  0%|          | 39383/17210368 [00:25<4:00:58, 1187.57it/s]"
     ]
    },
    {
     "name": "stdout",
     "output_type": "stream",
     "text": [
      "tensor(nan, grad_fn=<VarBackward0>)\n"
     ]
    },
    {
     "name": "stderr",
     "output_type": "stream",
     "text": [
      "  0%|          | 39881/17210368 [00:25<4:04:44, 1169.27it/s]"
     ]
    },
    {
     "name": "stdout",
     "output_type": "stream",
     "text": [
      "tensor(nan, grad_fn=<VarBackward0>)\n"
     ]
    },
    {
     "name": "stderr",
     "output_type": "stream",
     "text": [
      "  0%|          | 40385/17210368 [00:26<4:10:28, 1142.49it/s]"
     ]
    },
    {
     "name": "stdout",
     "output_type": "stream",
     "text": [
      "tensor(nan, grad_fn=<VarBackward0>)\n"
     ]
    },
    {
     "name": "stderr",
     "output_type": "stream",
     "text": [
      "  0%|          | 40893/17210368 [00:26<4:11:14, 1138.98it/s]"
     ]
    },
    {
     "name": "stdout",
     "output_type": "stream",
     "text": [
      "tensor(nan, grad_fn=<VarBackward0>)\n"
     ]
    },
    {
     "name": "stderr",
     "output_type": "stream",
     "text": [
      "  0%|          | 41401/17210368 [00:27<4:12:16, 1134.31it/s]"
     ]
    },
    {
     "name": "stdout",
     "output_type": "stream",
     "text": [
      "tensor(nan, grad_fn=<VarBackward0>)\n"
     ]
    },
    {
     "name": "stderr",
     "output_type": "stream",
     "text": [
      "  0%|          | 41912/17210368 [00:27<4:11:56, 1135.74it/s]"
     ]
    },
    {
     "name": "stdout",
     "output_type": "stream",
     "text": [
      "tensor(nan, grad_fn=<VarBackward0>)\n"
     ]
    },
    {
     "name": "stderr",
     "output_type": "stream",
     "text": [
      "  0%|          | 42424/17210368 [00:28<4:12:04, 1135.12it/s]"
     ]
    },
    {
     "name": "stdout",
     "output_type": "stream",
     "text": [
      "tensor(nan, grad_fn=<VarBackward0>)\n"
     ]
    },
    {
     "name": "stderr",
     "output_type": "stream",
     "text": [
      "  0%|          | 42937/17210368 [00:28<4:12:48, 1131.78it/s]"
     ]
    },
    {
     "name": "stdout",
     "output_type": "stream",
     "text": [
      "tensor(nan, grad_fn=<VarBackward0>)\n"
     ]
    },
    {
     "name": "stderr",
     "output_type": "stream",
     "text": [
      "  0%|          | 43448/17210368 [00:29<4:14:35, 1123.84it/s]"
     ]
    },
    {
     "name": "stdout",
     "output_type": "stream",
     "text": [
      "tensor(nan, grad_fn=<VarBackward0>)\n"
     ]
    },
    {
     "name": "stderr",
     "output_type": "stream",
     "text": [
      "  0%|          | 43957/17210368 [00:29<4:16:12, 1116.66it/s]"
     ]
    },
    {
     "name": "stdout",
     "output_type": "stream",
     "text": [
      "tensor(nan, grad_fn=<VarBackward0>)\n"
     ]
    },
    {
     "name": "stderr",
     "output_type": "stream",
     "text": [
      "  0%|          | 44461/17210368 [00:29<4:17:56, 1109.13it/s]"
     ]
    },
    {
     "name": "stdout",
     "output_type": "stream",
     "text": [
      "tensor(nan, grad_fn=<VarBackward0>)\n"
     ]
    },
    {
     "name": "stderr",
     "output_type": "stream",
     "text": [
      "  0%|          | 44970/17210368 [00:30<4:21:00, 1096.07it/s]"
     ]
    },
    {
     "name": "stdout",
     "output_type": "stream",
     "text": [
      "tensor(nan, grad_fn=<VarBackward0>)\n"
     ]
    },
    {
     "name": "stderr",
     "output_type": "stream",
     "text": [
      "  0%|          | 45476/17210368 [00:30<4:22:42, 1088.97it/s]"
     ]
    },
    {
     "name": "stdout",
     "output_type": "stream",
     "text": [
      "tensor(nan, grad_fn=<VarBackward0>)\n"
     ]
    },
    {
     "name": "stderr",
     "output_type": "stream",
     "text": [
      "  0%|          | 45984/17210368 [00:31<4:25:10, 1078.83it/s]"
     ]
    },
    {
     "name": "stdout",
     "output_type": "stream",
     "text": [
      "tensor(nan, grad_fn=<VarBackward0>)\n"
     ]
    },
    {
     "name": "stderr",
     "output_type": "stream",
     "text": [
      "  0%|          | 46491/17210368 [00:31<4:26:56, 1071.62it/s]"
     ]
    },
    {
     "name": "stdout",
     "output_type": "stream",
     "text": [
      "tensor(nan, grad_fn=<VarBackward0>)\n"
     ]
    },
    {
     "name": "stderr",
     "output_type": "stream",
     "text": [
      "\r",
      "  0%|          | 46693/17210368 [00:32<5:43:34, 832.61it/s] "
     ]
    },
    {
     "name": "stdout",
     "output_type": "stream",
     "text": [
      "tensor(nan, grad_fn=<VarBackward0>)\n"
     ]
    },
    {
     "name": "stderr",
     "output_type": "stream",
     "text": [
      "  0%|          | 47306/17210368 [00:32<4:36:10, 1035.73it/s]"
     ]
    },
    {
     "name": "stdout",
     "output_type": "stream",
     "text": [
      "tensor(nan, grad_fn=<VarBackward0>)\n"
     ]
    },
    {
     "name": "stderr",
     "output_type": "stream",
     "text": [
      "  0%|          | 47805/17210368 [00:33<4:38:48, 1025.95it/s]"
     ]
    },
    {
     "name": "stdout",
     "output_type": "stream",
     "text": [
      "tensor(nan, grad_fn=<VarBackward0>)\n"
     ]
    },
    {
     "name": "stderr",
     "output_type": "stream",
     "text": [
      "  0%|          | 48309/17210368 [00:33<4:40:15, 1020.63it/s]"
     ]
    },
    {
     "name": "stdout",
     "output_type": "stream",
     "text": [
      "tensor(nan, grad_fn=<VarBackward0>)\n"
     ]
    },
    {
     "name": "stderr",
     "output_type": "stream",
     "text": [
      "  0%|          | 48816/17210368 [00:34<4:40:45, 1018.76it/s]"
     ]
    },
    {
     "name": "stdout",
     "output_type": "stream",
     "text": [
      "tensor(nan, grad_fn=<VarBackward0>)\n"
     ]
    },
    {
     "name": "stderr",
     "output_type": "stream",
     "text": [
      "  0%|          | 49325/17210368 [00:34<4:42:34, 1012.21it/s]"
     ]
    },
    {
     "name": "stdout",
     "output_type": "stream",
     "text": [
      "tensor(nan, grad_fn=<VarBackward0>)\n"
     ]
    },
    {
     "name": "stderr",
     "output_type": "stream",
     "text": [
      "  0%|          | 49832/17210368 [00:35<4:42:32, 1012.26it/s]"
     ]
    },
    {
     "name": "stdout",
     "output_type": "stream",
     "text": [
      "tensor(nan, grad_fn=<VarBackward0>)\n"
     ]
    },
    {
     "name": "stderr",
     "output_type": "stream",
     "text": [
      "  0%|          | 50333/17210368 [00:35<4:43:54, 1007.38it/s]"
     ]
    },
    {
     "name": "stdout",
     "output_type": "stream",
     "text": [
      "tensor(nan, grad_fn=<VarBackward0>)\n"
     ]
    },
    {
     "name": "stderr",
     "output_type": "stream",
     "text": [
      "  0%|          | 50838/17210368 [00:36<4:48:42, 990.60it/s] "
     ]
    },
    {
     "name": "stdout",
     "output_type": "stream",
     "text": [
      "tensor(nan, grad_fn=<VarBackward0>)\n"
     ]
    },
    {
     "name": "stderr",
     "output_type": "stream",
     "text": [
      "  0%|          | 51348/17210368 [00:36<4:50:35, 984.12it/s]"
     ]
    },
    {
     "name": "stdout",
     "output_type": "stream",
     "text": [
      "tensor(nan, grad_fn=<VarBackward0>)\n"
     ]
    },
    {
     "name": "stderr",
     "output_type": "stream",
     "text": [
      "  0%|          | 51845/17210368 [00:37<4:53:33, 974.19it/s]"
     ]
    },
    {
     "name": "stdout",
     "output_type": "stream",
     "text": [
      "tensor(nan, grad_fn=<VarBackward0>)\n"
     ]
    },
    {
     "name": "stderr",
     "output_type": "stream",
     "text": [
      "  0%|          | 52340/17210368 [00:37<4:57:26, 961.44it/s]"
     ]
    },
    {
     "name": "stdout",
     "output_type": "stream",
     "text": [
      "tensor(nan, grad_fn=<VarBackward0>)\n"
     ]
    },
    {
     "name": "stderr",
     "output_type": "stream",
     "text": [
      "  0%|          | 52831/17210368 [00:38<5:03:20, 942.71it/s]"
     ]
    },
    {
     "name": "stdout",
     "output_type": "stream",
     "text": [
      "tensor(nan, grad_fn=<VarBackward0>)\n"
     ]
    },
    {
     "name": "stderr",
     "output_type": "stream",
     "text": [
      "  0%|          | 53332/17210368 [00:38<5:05:47, 935.14it/s]"
     ]
    },
    {
     "name": "stdout",
     "output_type": "stream",
     "text": [
      "tensor(nan, grad_fn=<VarBackward0>)\n"
     ]
    },
    {
     "name": "stderr",
     "output_type": "stream",
     "text": [
      "  0%|          | 53819/17210368 [00:39<5:07:15, 930.62it/s]"
     ]
    },
    {
     "name": "stdout",
     "output_type": "stream",
     "text": [
      "tensor(nan, grad_fn=<VarBackward0>)\n"
     ]
    },
    {
     "name": "stderr",
     "output_type": "stream",
     "text": [
      "  0%|          | 54316/17210368 [00:39<5:08:57, 925.45it/s]"
     ]
    },
    {
     "name": "stdout",
     "output_type": "stream",
     "text": [
      "tensor(nan, grad_fn=<VarBackward0>)\n"
     ]
    },
    {
     "name": "stderr",
     "output_type": "stream",
     "text": [
      "  0%|          | 54804/17210368 [00:40<5:09:54, 922.61it/s]"
     ]
    },
    {
     "name": "stdout",
     "output_type": "stream",
     "text": [
      "tensor(nan, grad_fn=<VarBackward0>)\n"
     ]
    },
    {
     "name": "stderr",
     "output_type": "stream",
     "text": [
      "  0%|          | 55293/17210368 [00:40<5:12:12, 915.81it/s]"
     ]
    },
    {
     "name": "stdout",
     "output_type": "stream",
     "text": [
      "tensor(nan, grad_fn=<VarBackward0>)\n"
     ]
    },
    {
     "name": "stderr",
     "output_type": "stream",
     "text": [
      "  0%|          | 55793/17210368 [00:41<5:07:58, 928.37it/s]"
     ]
    },
    {
     "name": "stdout",
     "output_type": "stream",
     "text": [
      "tensor(nan, grad_fn=<VarBackward0>)\n"
     ]
    },
    {
     "name": "stderr",
     "output_type": "stream",
     "text": [
      "  0%|          | 56301/17210368 [00:41<5:06:01, 934.22it/s]"
     ]
    },
    {
     "name": "stdout",
     "output_type": "stream",
     "text": [
      "tensor(nan, grad_fn=<VarBackward0>)\n"
     ]
    },
    {
     "name": "stderr",
     "output_type": "stream",
     "text": [
      "  0%|          | 56788/17210368 [00:42<5:11:41, 917.21it/s]"
     ]
    },
    {
     "name": "stdout",
     "output_type": "stream",
     "text": [
      "tensor(nan, grad_fn=<VarBackward0>)\n"
     ]
    },
    {
     "name": "stderr",
     "output_type": "stream",
     "text": [
      "  0%|          | 57272/17210368 [00:42<5:08:54, 925.48it/s]"
     ]
    },
    {
     "name": "stdout",
     "output_type": "stream",
     "text": [
      "tensor(nan, grad_fn=<VarBackward0>)\n"
     ]
    },
    {
     "name": "stderr",
     "output_type": "stream",
     "text": [
      "  0%|          | 57778/17210368 [00:43<5:02:54, 943.75it/s]"
     ]
    },
    {
     "name": "stdout",
     "output_type": "stream",
     "text": [
      "tensor(nan, grad_fn=<VarBackward0>)\n"
     ]
    },
    {
     "name": "stderr",
     "output_type": "stream",
     "text": [
      "  0%|          | 58306/17210368 [00:44<4:57:22, 961.32it/s]"
     ]
    },
    {
     "name": "stdout",
     "output_type": "stream",
     "text": [
      "tensor(nan, grad_fn=<VarBackward0>)\n"
     ]
    },
    {
     "name": "stderr",
     "output_type": "stream",
     "text": [
      "  0%|          | 58804/17210368 [00:44<5:10:36, 920.32it/s]"
     ]
    },
    {
     "name": "stdout",
     "output_type": "stream",
     "text": [
      "tensor(nan, grad_fn=<VarBackward0>)\n"
     ]
    },
    {
     "name": "stderr",
     "output_type": "stream",
     "text": [
      "  0%|          | 59298/17210368 [00:45<5:18:01, 898.81it/s]"
     ]
    },
    {
     "name": "stdout",
     "output_type": "stream",
     "text": [
      "tensor(nan, grad_fn=<VarBackward0>)\n"
     ]
    },
    {
     "name": "stderr",
     "output_type": "stream",
     "text": [
      "  0%|          | 59802/17210368 [00:45<5:19:15, 895.33it/s]"
     ]
    },
    {
     "name": "stdout",
     "output_type": "stream",
     "text": [
      "tensor(nan, grad_fn=<VarBackward0>)\n"
     ]
    },
    {
     "name": "stderr",
     "output_type": "stream",
     "text": [
      "  0%|          | 60297/17210368 [00:46<5:22:27, 886.42it/s]"
     ]
    },
    {
     "name": "stdout",
     "output_type": "stream",
     "text": [
      "tensor(nan, grad_fn=<VarBackward0>)\n"
     ]
    },
    {
     "name": "stderr",
     "output_type": "stream",
     "text": [
      "  0%|          | 60806/17210368 [00:46<5:24:36, 880.54it/s]"
     ]
    },
    {
     "name": "stdout",
     "output_type": "stream",
     "text": [
      "tensor(nan, grad_fn=<VarBackward0>)\n"
     ]
    },
    {
     "name": "stderr",
     "output_type": "stream",
     "text": [
      "  0%|          | 61305/17210368 [00:47<5:28:58, 868.80it/s]"
     ]
    },
    {
     "name": "stdout",
     "output_type": "stream",
     "text": [
      "tensor(nan, grad_fn=<VarBackward0>)\n"
     ]
    },
    {
     "name": "stderr",
     "output_type": "stream",
     "text": [
      "  0%|          | 61813/17210368 [00:47<5:30:41, 864.27it/s]"
     ]
    },
    {
     "name": "stdout",
     "output_type": "stream",
     "text": [
      "tensor(nan, grad_fn=<VarBackward0>)\n"
     ]
    },
    {
     "name": "stderr",
     "output_type": "stream",
     "text": [
      "  0%|          | 62317/17210368 [00:48<5:29:52, 866.39it/s]"
     ]
    },
    {
     "name": "stdout",
     "output_type": "stream",
     "text": [
      "tensor(nan, grad_fn=<VarBackward0>)\n"
     ]
    },
    {
     "name": "stderr",
     "output_type": "stream",
     "text": [
      "  0%|          | 62821/17210368 [00:49<5:30:23, 865.01it/s]"
     ]
    },
    {
     "name": "stdout",
     "output_type": "stream",
     "text": [
      "tensor(nan, grad_fn=<VarBackward0>)\n"
     ]
    },
    {
     "name": "stderr",
     "output_type": "stream",
     "text": [
      "  0%|          | 63323/17210368 [00:49<5:30:43, 864.09it/s]"
     ]
    },
    {
     "name": "stdout",
     "output_type": "stream",
     "text": [
      "tensor(nan, grad_fn=<VarBackward0>)\n"
     ]
    },
    {
     "name": "stderr",
     "output_type": "stream",
     "text": [
      "  0%|          | 63824/17210368 [00:50<5:34:21, 854.68it/s]"
     ]
    },
    {
     "name": "stdout",
     "output_type": "stream",
     "text": [
      "tensor(nan, grad_fn=<VarBackward0>)\n"
     ]
    },
    {
     "name": "stderr",
     "output_type": "stream",
     "text": [
      "  0%|          | 64324/17210368 [00:50<5:36:06, 850.24it/s]"
     ]
    },
    {
     "name": "stdout",
     "output_type": "stream",
     "text": [
      "tensor(nan, grad_fn=<VarBackward0>)\n"
     ]
    },
    {
     "name": "stderr",
     "output_type": "stream",
     "text": [
      "  0%|          | 64825/17210368 [00:51<5:38:32, 844.10it/s]"
     ]
    },
    {
     "name": "stdout",
     "output_type": "stream",
     "text": [
      "tensor(nan, grad_fn=<VarBackward0>)\n"
     ]
    },
    {
     "name": "stderr",
     "output_type": "stream",
     "text": [
      "  0%|          | 65330/17210368 [00:51<5:40:27, 839.30it/s]"
     ]
    },
    {
     "name": "stdout",
     "output_type": "stream",
     "text": [
      "tensor(nan, grad_fn=<VarBackward0>)\n"
     ]
    },
    {
     "name": "stderr",
     "output_type": "stream",
     "text": [
      "  0%|          | 65499/17210368 [00:52<3:48:11, 1252.24it/s]\n"
     ]
    },
    {
     "ename": "KeyboardInterrupt",
     "evalue": "",
     "output_type": "error",
     "traceback": [
      "\u001b[0;31m---------------------------------------------------------------------------\u001b[0m",
      "\u001b[0;31mKeyboardInterrupt\u001b[0m                         Traceback (most recent call last)",
      "\u001b[0;32m<ipython-input-15-92961a7f6773>\u001b[0m in \u001b[0;36m<module>\u001b[0;34m\u001b[0m\n\u001b[1;32m      1\u001b[0m \u001b[0;31m# model pxy directly\u001b[0m\u001b[0;34m\u001b[0m\u001b[0;34m\u001b[0m\u001b[0;34m\u001b[0m\u001b[0m\n\u001b[0;32m----> 2\u001b[0;31m \u001b[0mM\u001b[0m\u001b[0;34m,\u001b[0m \u001b[0mMbar\u001b[0m\u001b[0;34m,\u001b[0m \u001b[0mhistory\u001b[0m \u001b[0;34m=\u001b[0m \u001b[0mrun_expr_all_samples\u001b[0m\u001b[0;34m(\u001b[0m\u001b[0mn_batch\u001b[0m\u001b[0;34m=\u001b[0m\u001b[0;36m5\u001b[0m\u001b[0;34m)\u001b[0m\u001b[0;34m\u001b[0m\u001b[0;34m\u001b[0m\u001b[0m\n\u001b[0m",
      "\u001b[0;32m<ipython-input-14-d7ef18eaaa21>\u001b[0m in \u001b[0;36mrun_expr_all_samples\u001b[0;34m(n_batch)\u001b[0m\n\u001b[1;32m     40\u001b[0m             \u001b[0mprint\u001b[0m\u001b[0;34m(\u001b[0m\u001b[0mtorch\u001b[0m\u001b[0;34m.\u001b[0m\u001b[0mvar\u001b[0m\u001b[0;34m(\u001b[0m\u001b[0mM\u001b[0m\u001b[0;34m)\u001b[0m\u001b[0;34m)\u001b[0m\u001b[0;34m\u001b[0m\u001b[0;34m\u001b[0m\u001b[0m\n\u001b[1;32m     41\u001b[0m             \u001b[0mplt\u001b[0m\u001b[0;34m.\u001b[0m\u001b[0mimshow\u001b[0m\u001b[0;34m(\u001b[0m\u001b[0mMbar\u001b[0m\u001b[0;34m.\u001b[0m\u001b[0mdetach\u001b[0m\u001b[0;34m(\u001b[0m\u001b[0;34m)\u001b[0m\u001b[0;34m.\u001b[0m\u001b[0mcpu\u001b[0m\u001b[0;34m(\u001b[0m\u001b[0;34m)\u001b[0m\u001b[0;34m.\u001b[0m\u001b[0mnumpy\u001b[0m\u001b[0;34m(\u001b[0m\u001b[0;34m)\u001b[0m\u001b[0;34m)\u001b[0m\u001b[0;34m\u001b[0m\u001b[0;34m\u001b[0m\u001b[0m\n\u001b[0;32m---> 42\u001b[0;31m             \u001b[0mplt\u001b[0m\u001b[0;34m.\u001b[0m\u001b[0msavefig\u001b[0m\u001b[0;34m(\u001b[0m\u001b[0;34mf\"dicerolls_training_results/Mbar_joint_{n_batch}_{iteration}.png\"\u001b[0m\u001b[0;34m)\u001b[0m\u001b[0;34m\u001b[0m\u001b[0;34m\u001b[0m\u001b[0m\n\u001b[0m\u001b[1;32m     43\u001b[0m \u001b[0;34m\u001b[0m\u001b[0m\n\u001b[1;32m     44\u001b[0m     \u001b[0mnp\u001b[0m\u001b[0;34m.\u001b[0m\u001b[0msave\u001b[0m\u001b[0;34m(\u001b[0m\u001b[0;34mf'dicerolls_training_results/Mbar_joint_{n_batch}_{iteration}.npy'\u001b[0m\u001b[0;34m,\u001b[0m \u001b[0mMbar\u001b[0m\u001b[0;34m.\u001b[0m\u001b[0mdetach\u001b[0m\u001b[0;34m(\u001b[0m\u001b[0;34m)\u001b[0m\u001b[0;34m.\u001b[0m\u001b[0mcpu\u001b[0m\u001b[0;34m(\u001b[0m\u001b[0;34m)\u001b[0m\u001b[0;34m.\u001b[0m\u001b[0mnumpy\u001b[0m\u001b[0;34m(\u001b[0m\u001b[0;34m)\u001b[0m\u001b[0;34m)\u001b[0m\u001b[0;34m\u001b[0m\u001b[0;34m\u001b[0m\u001b[0m\n",
      "\u001b[0;32m~/.local/lib/python3.8/site-packages/matplotlib/pyplot.py\u001b[0m in \u001b[0;36msavefig\u001b[0;34m(*args, **kwargs)\u001b[0m\n\u001b[1;32m    858\u001b[0m     \u001b[0mfig\u001b[0m \u001b[0;34m=\u001b[0m \u001b[0mgcf\u001b[0m\u001b[0;34m(\u001b[0m\u001b[0;34m)\u001b[0m\u001b[0;34m\u001b[0m\u001b[0;34m\u001b[0m\u001b[0m\n\u001b[1;32m    859\u001b[0m     \u001b[0mres\u001b[0m \u001b[0;34m=\u001b[0m \u001b[0mfig\u001b[0m\u001b[0;34m.\u001b[0m\u001b[0msavefig\u001b[0m\u001b[0;34m(\u001b[0m\u001b[0;34m*\u001b[0m\u001b[0margs\u001b[0m\u001b[0;34m,\u001b[0m \u001b[0;34m**\u001b[0m\u001b[0mkwargs\u001b[0m\u001b[0;34m)\u001b[0m\u001b[0;34m\u001b[0m\u001b[0;34m\u001b[0m\u001b[0m\n\u001b[0;32m--> 860\u001b[0;31m     \u001b[0mfig\u001b[0m\u001b[0;34m.\u001b[0m\u001b[0mcanvas\u001b[0m\u001b[0;34m.\u001b[0m\u001b[0mdraw_idle\u001b[0m\u001b[0;34m(\u001b[0m\u001b[0;34m)\u001b[0m   \u001b[0;31m# need this if 'transparent=True' to reset colors\u001b[0m\u001b[0;34m\u001b[0m\u001b[0;34m\u001b[0m\u001b[0m\n\u001b[0m\u001b[1;32m    861\u001b[0m     \u001b[0;32mreturn\u001b[0m \u001b[0mres\u001b[0m\u001b[0;34m\u001b[0m\u001b[0;34m\u001b[0m\u001b[0m\n\u001b[1;32m    862\u001b[0m \u001b[0;34m\u001b[0m\u001b[0m\n",
      "\u001b[0;32m~/.local/lib/python3.8/site-packages/matplotlib/backend_bases.py\u001b[0m in \u001b[0;36mdraw_idle\u001b[0;34m(self, *args, **kwargs)\u001b[0m\n\u001b[1;32m   2010\u001b[0m         \u001b[0;32mif\u001b[0m \u001b[0;32mnot\u001b[0m \u001b[0mself\u001b[0m\u001b[0;34m.\u001b[0m\u001b[0m_is_idle_drawing\u001b[0m\u001b[0;34m:\u001b[0m\u001b[0;34m\u001b[0m\u001b[0;34m\u001b[0m\u001b[0m\n\u001b[1;32m   2011\u001b[0m             \u001b[0;32mwith\u001b[0m \u001b[0mself\u001b[0m\u001b[0;34m.\u001b[0m\u001b[0m_idle_draw_cntx\u001b[0m\u001b[0;34m(\u001b[0m\u001b[0;34m)\u001b[0m\u001b[0;34m:\u001b[0m\u001b[0;34m\u001b[0m\u001b[0;34m\u001b[0m\u001b[0m\n\u001b[0;32m-> 2012\u001b[0;31m                 \u001b[0mself\u001b[0m\u001b[0;34m.\u001b[0m\u001b[0mdraw\u001b[0m\u001b[0;34m(\u001b[0m\u001b[0;34m*\u001b[0m\u001b[0margs\u001b[0m\u001b[0;34m,\u001b[0m \u001b[0;34m**\u001b[0m\u001b[0mkwargs\u001b[0m\u001b[0;34m)\u001b[0m\u001b[0;34m\u001b[0m\u001b[0;34m\u001b[0m\u001b[0m\n\u001b[0m\u001b[1;32m   2013\u001b[0m \u001b[0;34m\u001b[0m\u001b[0m\n\u001b[1;32m   2014\u001b[0m     \u001b[0;34m@\u001b[0m\u001b[0mcbook\u001b[0m\u001b[0;34m.\u001b[0m\u001b[0mdeprecated\u001b[0m\u001b[0;34m(\u001b[0m\u001b[0;34m\"3.2\"\u001b[0m\u001b[0;34m)\u001b[0m\u001b[0;34m\u001b[0m\u001b[0;34m\u001b[0m\u001b[0m\n",
      "\u001b[0;32m~/.local/lib/python3.8/site-packages/matplotlib/backends/backend_agg.py\u001b[0m in \u001b[0;36mdraw\u001b[0;34m(self)\u001b[0m\n\u001b[1;32m    405\u001b[0m              (self.toolbar._wait_cursor_for_draw_cm() if self.toolbar\n\u001b[1;32m    406\u001b[0m               else nullcontext()):\n\u001b[0;32m--> 407\u001b[0;31m             \u001b[0mself\u001b[0m\u001b[0;34m.\u001b[0m\u001b[0mfigure\u001b[0m\u001b[0;34m.\u001b[0m\u001b[0mdraw\u001b[0m\u001b[0;34m(\u001b[0m\u001b[0mself\u001b[0m\u001b[0;34m.\u001b[0m\u001b[0mrenderer\u001b[0m\u001b[0;34m)\u001b[0m\u001b[0;34m\u001b[0m\u001b[0;34m\u001b[0m\u001b[0m\n\u001b[0m\u001b[1;32m    408\u001b[0m             \u001b[0;31m# A GUI class may be need to update a window using this draw, so\u001b[0m\u001b[0;34m\u001b[0m\u001b[0;34m\u001b[0m\u001b[0;34m\u001b[0m\u001b[0m\n\u001b[1;32m    409\u001b[0m             \u001b[0;31m# don't forget to call the superclass.\u001b[0m\u001b[0;34m\u001b[0m\u001b[0;34m\u001b[0m\u001b[0;34m\u001b[0m\u001b[0m\n",
      "\u001b[0;32m~/.local/lib/python3.8/site-packages/matplotlib/artist.py\u001b[0m in \u001b[0;36mdraw_wrapper\u001b[0;34m(artist, renderer, *args, **kwargs)\u001b[0m\n\u001b[1;32m     39\u001b[0m                 \u001b[0mrenderer\u001b[0m\u001b[0;34m.\u001b[0m\u001b[0mstart_filter\u001b[0m\u001b[0;34m(\u001b[0m\u001b[0;34m)\u001b[0m\u001b[0;34m\u001b[0m\u001b[0;34m\u001b[0m\u001b[0m\n\u001b[1;32m     40\u001b[0m \u001b[0;34m\u001b[0m\u001b[0m\n\u001b[0;32m---> 41\u001b[0;31m             \u001b[0;32mreturn\u001b[0m \u001b[0mdraw\u001b[0m\u001b[0;34m(\u001b[0m\u001b[0martist\u001b[0m\u001b[0;34m,\u001b[0m \u001b[0mrenderer\u001b[0m\u001b[0;34m,\u001b[0m \u001b[0;34m*\u001b[0m\u001b[0margs\u001b[0m\u001b[0;34m,\u001b[0m \u001b[0;34m**\u001b[0m\u001b[0mkwargs\u001b[0m\u001b[0;34m)\u001b[0m\u001b[0;34m\u001b[0m\u001b[0;34m\u001b[0m\u001b[0m\n\u001b[0m\u001b[1;32m     42\u001b[0m         \u001b[0;32mfinally\u001b[0m\u001b[0;34m:\u001b[0m\u001b[0;34m\u001b[0m\u001b[0;34m\u001b[0m\u001b[0m\n\u001b[1;32m     43\u001b[0m             \u001b[0;32mif\u001b[0m \u001b[0martist\u001b[0m\u001b[0;34m.\u001b[0m\u001b[0mget_agg_filter\u001b[0m\u001b[0;34m(\u001b[0m\u001b[0;34m)\u001b[0m \u001b[0;32mis\u001b[0m \u001b[0;32mnot\u001b[0m \u001b[0;32mNone\u001b[0m\u001b[0;34m:\u001b[0m\u001b[0;34m\u001b[0m\u001b[0;34m\u001b[0m\u001b[0m\n",
      "\u001b[0;32m~/.local/lib/python3.8/site-packages/matplotlib/figure.py\u001b[0m in \u001b[0;36mdraw\u001b[0;34m(self, renderer)\u001b[0m\n\u001b[1;32m   1861\u001b[0m \u001b[0;34m\u001b[0m\u001b[0m\n\u001b[1;32m   1862\u001b[0m             \u001b[0mself\u001b[0m\u001b[0;34m.\u001b[0m\u001b[0mpatch\u001b[0m\u001b[0;34m.\u001b[0m\u001b[0mdraw\u001b[0m\u001b[0;34m(\u001b[0m\u001b[0mrenderer\u001b[0m\u001b[0;34m)\u001b[0m\u001b[0;34m\u001b[0m\u001b[0;34m\u001b[0m\u001b[0m\n\u001b[0;32m-> 1863\u001b[0;31m             mimage._draw_list_compositing_images(\n\u001b[0m\u001b[1;32m   1864\u001b[0m                 renderer, self, artists, self.suppressComposite)\n\u001b[1;32m   1865\u001b[0m \u001b[0;34m\u001b[0m\u001b[0m\n",
      "\u001b[0;32m~/.local/lib/python3.8/site-packages/matplotlib/image.py\u001b[0m in \u001b[0;36m_draw_list_compositing_images\u001b[0;34m(renderer, parent, artists, suppress_composite)\u001b[0m\n\u001b[1;32m    129\u001b[0m     \u001b[0;32mif\u001b[0m \u001b[0mnot_composite\u001b[0m \u001b[0;32mor\u001b[0m \u001b[0;32mnot\u001b[0m \u001b[0mhas_images\u001b[0m\u001b[0;34m:\u001b[0m\u001b[0;34m\u001b[0m\u001b[0;34m\u001b[0m\u001b[0m\n\u001b[1;32m    130\u001b[0m         \u001b[0;32mfor\u001b[0m \u001b[0ma\u001b[0m \u001b[0;32min\u001b[0m \u001b[0martists\u001b[0m\u001b[0;34m:\u001b[0m\u001b[0;34m\u001b[0m\u001b[0;34m\u001b[0m\u001b[0m\n\u001b[0;32m--> 131\u001b[0;31m             \u001b[0ma\u001b[0m\u001b[0;34m.\u001b[0m\u001b[0mdraw\u001b[0m\u001b[0;34m(\u001b[0m\u001b[0mrenderer\u001b[0m\u001b[0;34m)\u001b[0m\u001b[0;34m\u001b[0m\u001b[0;34m\u001b[0m\u001b[0m\n\u001b[0m\u001b[1;32m    132\u001b[0m     \u001b[0;32melse\u001b[0m\u001b[0;34m:\u001b[0m\u001b[0;34m\u001b[0m\u001b[0;34m\u001b[0m\u001b[0m\n\u001b[1;32m    133\u001b[0m         \u001b[0;31m# Composite any adjacent images together\u001b[0m\u001b[0;34m\u001b[0m\u001b[0;34m\u001b[0m\u001b[0;34m\u001b[0m\u001b[0m\n",
      "\u001b[0;32m~/.local/lib/python3.8/site-packages/matplotlib/artist.py\u001b[0m in \u001b[0;36mdraw_wrapper\u001b[0;34m(artist, renderer, *args, **kwargs)\u001b[0m\n\u001b[1;32m     39\u001b[0m                 \u001b[0mrenderer\u001b[0m\u001b[0;34m.\u001b[0m\u001b[0mstart_filter\u001b[0m\u001b[0;34m(\u001b[0m\u001b[0;34m)\u001b[0m\u001b[0;34m\u001b[0m\u001b[0;34m\u001b[0m\u001b[0m\n\u001b[1;32m     40\u001b[0m \u001b[0;34m\u001b[0m\u001b[0m\n\u001b[0;32m---> 41\u001b[0;31m             \u001b[0;32mreturn\u001b[0m \u001b[0mdraw\u001b[0m\u001b[0;34m(\u001b[0m\u001b[0martist\u001b[0m\u001b[0;34m,\u001b[0m \u001b[0mrenderer\u001b[0m\u001b[0;34m,\u001b[0m \u001b[0;34m*\u001b[0m\u001b[0margs\u001b[0m\u001b[0;34m,\u001b[0m \u001b[0;34m**\u001b[0m\u001b[0mkwargs\u001b[0m\u001b[0;34m)\u001b[0m\u001b[0;34m\u001b[0m\u001b[0;34m\u001b[0m\u001b[0m\n\u001b[0m\u001b[1;32m     42\u001b[0m         \u001b[0;32mfinally\u001b[0m\u001b[0;34m:\u001b[0m\u001b[0;34m\u001b[0m\u001b[0;34m\u001b[0m\u001b[0m\n\u001b[1;32m     43\u001b[0m             \u001b[0;32mif\u001b[0m \u001b[0martist\u001b[0m\u001b[0;34m.\u001b[0m\u001b[0mget_agg_filter\u001b[0m\u001b[0;34m(\u001b[0m\u001b[0;34m)\u001b[0m \u001b[0;32mis\u001b[0m \u001b[0;32mnot\u001b[0m \u001b[0;32mNone\u001b[0m\u001b[0;34m:\u001b[0m\u001b[0;34m\u001b[0m\u001b[0;34m\u001b[0m\u001b[0m\n",
      "\u001b[0;32m~/.local/lib/python3.8/site-packages/matplotlib/cbook/deprecation.py\u001b[0m in \u001b[0;36mwrapper\u001b[0;34m(*inner_args, **inner_kwargs)\u001b[0m\n\u001b[1;32m    409\u001b[0m                          \u001b[0;32melse\u001b[0m \u001b[0mdeprecation_addendum\u001b[0m\u001b[0;34m,\u001b[0m\u001b[0;34m\u001b[0m\u001b[0;34m\u001b[0m\u001b[0m\n\u001b[1;32m    410\u001b[0m                 **kwargs)\n\u001b[0;32m--> 411\u001b[0;31m         \u001b[0;32mreturn\u001b[0m \u001b[0mfunc\u001b[0m\u001b[0;34m(\u001b[0m\u001b[0;34m*\u001b[0m\u001b[0minner_args\u001b[0m\u001b[0;34m,\u001b[0m \u001b[0;34m**\u001b[0m\u001b[0minner_kwargs\u001b[0m\u001b[0;34m)\u001b[0m\u001b[0;34m\u001b[0m\u001b[0;34m\u001b[0m\u001b[0m\n\u001b[0m\u001b[1;32m    412\u001b[0m \u001b[0;34m\u001b[0m\u001b[0m\n\u001b[1;32m    413\u001b[0m     \u001b[0;32mreturn\u001b[0m \u001b[0mwrapper\u001b[0m\u001b[0;34m\u001b[0m\u001b[0;34m\u001b[0m\u001b[0m\n",
      "\u001b[0;32m~/.local/lib/python3.8/site-packages/matplotlib/axes/_base.py\u001b[0m in \u001b[0;36mdraw\u001b[0;34m(self, renderer, inframe)\u001b[0m\n\u001b[1;32m   2745\u001b[0m             \u001b[0mrenderer\u001b[0m\u001b[0;34m.\u001b[0m\u001b[0mstop_rasterizing\u001b[0m\u001b[0;34m(\u001b[0m\u001b[0;34m)\u001b[0m\u001b[0;34m\u001b[0m\u001b[0;34m\u001b[0m\u001b[0m\n\u001b[1;32m   2746\u001b[0m \u001b[0;34m\u001b[0m\u001b[0m\n\u001b[0;32m-> 2747\u001b[0;31m         \u001b[0mmimage\u001b[0m\u001b[0;34m.\u001b[0m\u001b[0m_draw_list_compositing_images\u001b[0m\u001b[0;34m(\u001b[0m\u001b[0mrenderer\u001b[0m\u001b[0;34m,\u001b[0m \u001b[0mself\u001b[0m\u001b[0;34m,\u001b[0m \u001b[0martists\u001b[0m\u001b[0;34m)\u001b[0m\u001b[0;34m\u001b[0m\u001b[0;34m\u001b[0m\u001b[0m\n\u001b[0m\u001b[1;32m   2748\u001b[0m \u001b[0;34m\u001b[0m\u001b[0m\n\u001b[1;32m   2749\u001b[0m         \u001b[0mrenderer\u001b[0m\u001b[0;34m.\u001b[0m\u001b[0mclose_group\u001b[0m\u001b[0;34m(\u001b[0m\u001b[0;34m'axes'\u001b[0m\u001b[0;34m)\u001b[0m\u001b[0;34m\u001b[0m\u001b[0;34m\u001b[0m\u001b[0m\n",
      "\u001b[0;32m~/.local/lib/python3.8/site-packages/matplotlib/image.py\u001b[0m in \u001b[0;36m_draw_list_compositing_images\u001b[0;34m(renderer, parent, artists, suppress_composite)\u001b[0m\n\u001b[1;32m    129\u001b[0m     \u001b[0;32mif\u001b[0m \u001b[0mnot_composite\u001b[0m \u001b[0;32mor\u001b[0m \u001b[0;32mnot\u001b[0m \u001b[0mhas_images\u001b[0m\u001b[0;34m:\u001b[0m\u001b[0;34m\u001b[0m\u001b[0;34m\u001b[0m\u001b[0m\n\u001b[1;32m    130\u001b[0m         \u001b[0;32mfor\u001b[0m \u001b[0ma\u001b[0m \u001b[0;32min\u001b[0m \u001b[0martists\u001b[0m\u001b[0;34m:\u001b[0m\u001b[0;34m\u001b[0m\u001b[0;34m\u001b[0m\u001b[0m\n\u001b[0;32m--> 131\u001b[0;31m             \u001b[0ma\u001b[0m\u001b[0;34m.\u001b[0m\u001b[0mdraw\u001b[0m\u001b[0;34m(\u001b[0m\u001b[0mrenderer\u001b[0m\u001b[0;34m)\u001b[0m\u001b[0;34m\u001b[0m\u001b[0;34m\u001b[0m\u001b[0m\n\u001b[0m\u001b[1;32m    132\u001b[0m     \u001b[0;32melse\u001b[0m\u001b[0;34m:\u001b[0m\u001b[0;34m\u001b[0m\u001b[0;34m\u001b[0m\u001b[0m\n\u001b[1;32m    133\u001b[0m         \u001b[0;31m# Composite any adjacent images together\u001b[0m\u001b[0;34m\u001b[0m\u001b[0;34m\u001b[0m\u001b[0;34m\u001b[0m\u001b[0m\n",
      "\u001b[0;32m~/.local/lib/python3.8/site-packages/matplotlib/artist.py\u001b[0m in \u001b[0;36mdraw_wrapper\u001b[0;34m(artist, renderer, *args, **kwargs)\u001b[0m\n\u001b[1;32m     39\u001b[0m                 \u001b[0mrenderer\u001b[0m\u001b[0;34m.\u001b[0m\u001b[0mstart_filter\u001b[0m\u001b[0;34m(\u001b[0m\u001b[0;34m)\u001b[0m\u001b[0;34m\u001b[0m\u001b[0;34m\u001b[0m\u001b[0m\n\u001b[1;32m     40\u001b[0m \u001b[0;34m\u001b[0m\u001b[0m\n\u001b[0;32m---> 41\u001b[0;31m             \u001b[0;32mreturn\u001b[0m \u001b[0mdraw\u001b[0m\u001b[0;34m(\u001b[0m\u001b[0martist\u001b[0m\u001b[0;34m,\u001b[0m \u001b[0mrenderer\u001b[0m\u001b[0;34m,\u001b[0m \u001b[0;34m*\u001b[0m\u001b[0margs\u001b[0m\u001b[0;34m,\u001b[0m \u001b[0;34m**\u001b[0m\u001b[0mkwargs\u001b[0m\u001b[0;34m)\u001b[0m\u001b[0;34m\u001b[0m\u001b[0;34m\u001b[0m\u001b[0m\n\u001b[0m\u001b[1;32m     42\u001b[0m         \u001b[0;32mfinally\u001b[0m\u001b[0;34m:\u001b[0m\u001b[0;34m\u001b[0m\u001b[0;34m\u001b[0m\u001b[0m\n\u001b[1;32m     43\u001b[0m             \u001b[0;32mif\u001b[0m \u001b[0martist\u001b[0m\u001b[0;34m.\u001b[0m\u001b[0mget_agg_filter\u001b[0m\u001b[0;34m(\u001b[0m\u001b[0;34m)\u001b[0m \u001b[0;32mis\u001b[0m \u001b[0;32mnot\u001b[0m \u001b[0;32mNone\u001b[0m\u001b[0;34m:\u001b[0m\u001b[0;34m\u001b[0m\u001b[0;34m\u001b[0m\u001b[0m\n",
      "\u001b[0;32m~/.local/lib/python3.8/site-packages/matplotlib/image.py\u001b[0m in \u001b[0;36mdraw\u001b[0;34m(self, renderer, *args, **kwargs)\u001b[0m\n\u001b[1;32m    641\u001b[0m                 \u001b[0mrenderer\u001b[0m\u001b[0;34m.\u001b[0m\u001b[0mdraw_image\u001b[0m\u001b[0;34m(\u001b[0m\u001b[0mgc\u001b[0m\u001b[0;34m,\u001b[0m \u001b[0ml\u001b[0m\u001b[0;34m,\u001b[0m \u001b[0mb\u001b[0m\u001b[0;34m,\u001b[0m \u001b[0mim\u001b[0m\u001b[0;34m,\u001b[0m \u001b[0mtrans\u001b[0m\u001b[0;34m)\u001b[0m\u001b[0;34m\u001b[0m\u001b[0;34m\u001b[0m\u001b[0m\n\u001b[1;32m    642\u001b[0m         \u001b[0;32melse\u001b[0m\u001b[0;34m:\u001b[0m\u001b[0;34m\u001b[0m\u001b[0;34m\u001b[0m\u001b[0m\n\u001b[0;32m--> 643\u001b[0;31m             im, l, b, trans = self.make_image(\n\u001b[0m\u001b[1;32m    644\u001b[0m                 renderer, renderer.get_image_magnification())\n\u001b[1;32m    645\u001b[0m             \u001b[0;32mif\u001b[0m \u001b[0mim\u001b[0m \u001b[0;32mis\u001b[0m \u001b[0;32mnot\u001b[0m \u001b[0;32mNone\u001b[0m\u001b[0;34m:\u001b[0m\u001b[0;34m\u001b[0m\u001b[0;34m\u001b[0m\u001b[0m\n",
      "\u001b[0;32m~/.local/lib/python3.8/site-packages/matplotlib/image.py\u001b[0m in \u001b[0;36mmake_image\u001b[0;34m(self, renderer, magnification, unsampled)\u001b[0m\n\u001b[1;32m    926\u001b[0m         clip = ((self.get_clip_box() or self.axes.bbox) if self.get_clip_on()\n\u001b[1;32m    927\u001b[0m                 else self.figure.bbox)\n\u001b[0;32m--> 928\u001b[0;31m         return self._make_image(self._A, bbox, transformed_bbox, clip,\n\u001b[0m\u001b[1;32m    929\u001b[0m                                 magnification, unsampled=unsampled)\n\u001b[1;32m    930\u001b[0m \u001b[0;34m\u001b[0m\u001b[0m\n",
      "\u001b[0;32m~/.local/lib/python3.8/site-packages/matplotlib/image.py\u001b[0m in \u001b[0;36m_make_image\u001b[0;34m(self, A, in_bbox, out_bbox, clip_bbox, magnification, unsampled, round_to_pixel_border)\u001b[0m\n\u001b[1;32m    381\u001b[0m         \u001b[0;31m# round up the output width to the next integer.  This also means\u001b[0m\u001b[0;34m\u001b[0m\u001b[0;34m\u001b[0m\u001b[0;34m\u001b[0m\u001b[0m\n\u001b[1;32m    382\u001b[0m         \u001b[0;31m# scaling the transform slightly to account for the extra subpixel.\u001b[0m\u001b[0;34m\u001b[0m\u001b[0;34m\u001b[0m\u001b[0;34m\u001b[0m\u001b[0m\n\u001b[0;32m--> 383\u001b[0;31m         if (t.is_affine and round_to_pixel_border and\n\u001b[0m\u001b[1;32m    384\u001b[0m                 (out_width_base % 1.0 != 0.0 or out_height_base % 1.0 != 0.0)):\n\u001b[1;32m    385\u001b[0m             \u001b[0mout_width\u001b[0m \u001b[0;34m=\u001b[0m \u001b[0mmath\u001b[0m\u001b[0;34m.\u001b[0m\u001b[0mceil\u001b[0m\u001b[0;34m(\u001b[0m\u001b[0mout_width_base\u001b[0m\u001b[0;34m)\u001b[0m\u001b[0;34m\u001b[0m\u001b[0;34m\u001b[0m\u001b[0m\n",
      "\u001b[0;32m~/.local/lib/python3.8/site-packages/matplotlib/transforms.py\u001b[0m in \u001b[0;36m<lambda>\u001b[0;34m(self)\u001b[0m\n\u001b[1;32m   2332\u001b[0m \u001b[0;34m\u001b[0m\u001b[0m\n\u001b[1;32m   2333\u001b[0m     \u001b[0mdepth\u001b[0m \u001b[0;34m=\u001b[0m \u001b[0mproperty\u001b[0m\u001b[0;34m(\u001b[0m\u001b[0;32mlambda\u001b[0m \u001b[0mself\u001b[0m\u001b[0;34m:\u001b[0m \u001b[0mself\u001b[0m\u001b[0;34m.\u001b[0m\u001b[0m_a\u001b[0m\u001b[0;34m.\u001b[0m\u001b[0mdepth\u001b[0m \u001b[0;34m+\u001b[0m \u001b[0mself\u001b[0m\u001b[0;34m.\u001b[0m\u001b[0m_b\u001b[0m\u001b[0;34m.\u001b[0m\u001b[0mdepth\u001b[0m\u001b[0;34m)\u001b[0m\u001b[0;34m\u001b[0m\u001b[0;34m\u001b[0m\u001b[0m\n\u001b[0;32m-> 2334\u001b[0;31m     \u001b[0mis_affine\u001b[0m \u001b[0;34m=\u001b[0m \u001b[0mproperty\u001b[0m\u001b[0;34m(\u001b[0m\u001b[0;32mlambda\u001b[0m \u001b[0mself\u001b[0m\u001b[0;34m:\u001b[0m \u001b[0mself\u001b[0m\u001b[0;34m.\u001b[0m\u001b[0m_a\u001b[0m\u001b[0;34m.\u001b[0m\u001b[0mis_affine\u001b[0m \u001b[0;32mand\u001b[0m \u001b[0mself\u001b[0m\u001b[0;34m.\u001b[0m\u001b[0m_b\u001b[0m\u001b[0;34m.\u001b[0m\u001b[0mis_affine\u001b[0m\u001b[0;34m)\u001b[0m\u001b[0;34m\u001b[0m\u001b[0;34m\u001b[0m\u001b[0m\n\u001b[0m\u001b[1;32m   2335\u001b[0m     is_separable = property(\n\u001b[1;32m   2336\u001b[0m         lambda self: self._a.is_separable and self._b.is_separable)\n",
      "\u001b[0;32m~/.local/lib/python3.8/site-packages/matplotlib/transforms.py\u001b[0m in \u001b[0;36m<lambda>\u001b[0;34m(self)\u001b[0m\n\u001b[1;32m   2332\u001b[0m \u001b[0;34m\u001b[0m\u001b[0m\n\u001b[1;32m   2333\u001b[0m     \u001b[0mdepth\u001b[0m \u001b[0;34m=\u001b[0m \u001b[0mproperty\u001b[0m\u001b[0;34m(\u001b[0m\u001b[0;32mlambda\u001b[0m \u001b[0mself\u001b[0m\u001b[0;34m:\u001b[0m \u001b[0mself\u001b[0m\u001b[0;34m.\u001b[0m\u001b[0m_a\u001b[0m\u001b[0;34m.\u001b[0m\u001b[0mdepth\u001b[0m \u001b[0;34m+\u001b[0m \u001b[0mself\u001b[0m\u001b[0;34m.\u001b[0m\u001b[0m_b\u001b[0m\u001b[0;34m.\u001b[0m\u001b[0mdepth\u001b[0m\u001b[0;34m)\u001b[0m\u001b[0;34m\u001b[0m\u001b[0;34m\u001b[0m\u001b[0m\n\u001b[0;32m-> 2334\u001b[0;31m     \u001b[0mis_affine\u001b[0m \u001b[0;34m=\u001b[0m \u001b[0mproperty\u001b[0m\u001b[0;34m(\u001b[0m\u001b[0;32mlambda\u001b[0m \u001b[0mself\u001b[0m\u001b[0;34m:\u001b[0m \u001b[0mself\u001b[0m\u001b[0;34m.\u001b[0m\u001b[0m_a\u001b[0m\u001b[0;34m.\u001b[0m\u001b[0mis_affine\u001b[0m \u001b[0;32mand\u001b[0m \u001b[0mself\u001b[0m\u001b[0;34m.\u001b[0m\u001b[0m_b\u001b[0m\u001b[0;34m.\u001b[0m\u001b[0mis_affine\u001b[0m\u001b[0;34m)\u001b[0m\u001b[0;34m\u001b[0m\u001b[0;34m\u001b[0m\u001b[0m\n\u001b[0m\u001b[1;32m   2335\u001b[0m     is_separable = property(\n\u001b[1;32m   2336\u001b[0m         lambda self: self._a.is_separable and self._b.is_separable)\n",
      "\u001b[0;32m~/.local/lib/python3.8/site-packages/matplotlib/transforms.py\u001b[0m in \u001b[0;36m<lambda>\u001b[0;34m(self)\u001b[0m\n\u001b[1;32m   2332\u001b[0m \u001b[0;34m\u001b[0m\u001b[0m\n\u001b[1;32m   2333\u001b[0m     \u001b[0mdepth\u001b[0m \u001b[0;34m=\u001b[0m \u001b[0mproperty\u001b[0m\u001b[0;34m(\u001b[0m\u001b[0;32mlambda\u001b[0m \u001b[0mself\u001b[0m\u001b[0;34m:\u001b[0m \u001b[0mself\u001b[0m\u001b[0;34m.\u001b[0m\u001b[0m_a\u001b[0m\u001b[0;34m.\u001b[0m\u001b[0mdepth\u001b[0m \u001b[0;34m+\u001b[0m \u001b[0mself\u001b[0m\u001b[0;34m.\u001b[0m\u001b[0m_b\u001b[0m\u001b[0;34m.\u001b[0m\u001b[0mdepth\u001b[0m\u001b[0;34m)\u001b[0m\u001b[0;34m\u001b[0m\u001b[0;34m\u001b[0m\u001b[0m\n\u001b[0;32m-> 2334\u001b[0;31m     \u001b[0mis_affine\u001b[0m \u001b[0;34m=\u001b[0m \u001b[0mproperty\u001b[0m\u001b[0;34m(\u001b[0m\u001b[0;32mlambda\u001b[0m \u001b[0mself\u001b[0m\u001b[0;34m:\u001b[0m \u001b[0mself\u001b[0m\u001b[0;34m.\u001b[0m\u001b[0m_a\u001b[0m\u001b[0;34m.\u001b[0m\u001b[0mis_affine\u001b[0m \u001b[0;32mand\u001b[0m \u001b[0mself\u001b[0m\u001b[0;34m.\u001b[0m\u001b[0m_b\u001b[0m\u001b[0;34m.\u001b[0m\u001b[0mis_affine\u001b[0m\u001b[0;34m)\u001b[0m\u001b[0;34m\u001b[0m\u001b[0;34m\u001b[0m\u001b[0m\n\u001b[0m\u001b[1;32m   2335\u001b[0m     is_separable = property(\n\u001b[1;32m   2336\u001b[0m         lambda self: self._a.is_separable and self._b.is_separable)\n",
      "\u001b[0;31mKeyboardInterrupt\u001b[0m: "
     ]
    },
    {
     "data": {
      "image/png": "[encoded data removed]",
      "text/plain": [
       "<Figure size 432x288 with 1 Axes>"
      ]
     },
     "metadata": {
      "needs_background": "light"
     },
     "output_type": "display_data"
    }
   ],
   "source": [
    "# model pxy directly\n",
    "M, Mbar, history = run_expr_all_samples(n_batch=5)"
   ]
  },
  {
   "cell_type": "code",
   "execution_count": 12,
   "id": "beautiful-formation",
   "metadata": {},
   "outputs": [
    {
     "data": {
      "text/plain": [
       "17210368"
      ]
     },
     "execution_count": 12,
     "metadata": {},
     "output_type": "execute_result"
    }
   ],
   "source": [
    "28**5"
   ]
  }
 ],
 "metadata": {
  "kernelspec": {
   "display_name": "Python 3",
   "language": "python",
   "name": "python3"
  },
  "language_info": {
   "codemirror_mode": {
    "name": "ipython",
    "version": 3
   },
   "file_extension": ".py",
   "mimetype": "text/x-python",
   "name": "python",
   "nbconvert_exporter": "python",
   "pygments_lexer": "ipython3",
   "version": "3.8.3"
  }
 },
 "nbformat": 4,
 "nbformat_minor": 5
}
